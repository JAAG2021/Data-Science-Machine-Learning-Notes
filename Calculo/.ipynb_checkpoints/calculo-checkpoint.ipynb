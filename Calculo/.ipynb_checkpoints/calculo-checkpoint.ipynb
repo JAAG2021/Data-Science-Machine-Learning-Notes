{
 "cells": [
  {
   "cell_type": "markdown",
   "metadata": {
    "toc": true
   },
   "source": [
    "<h1>Table of Contents<span class=\"tocSkip\"></span></h1>\n",
    "<div class=\"toc\"><ul class=\"toc-item\"><li><span><a href=\"#Cálculo-básico-para-Data-Science\" data-toc-modified-id=\"Cálculo-básico-para-Data-Science-1\">Cálculo básico para Data Science</a></span><ul class=\"toc-item\"><li><span><a href=\"#Funciones-y-límites\" data-toc-modified-id=\"Funciones-y-límites-1.1\">Funciones y límites</a></span><ul class=\"toc-item\"><li><span><a href=\"#Funciones\" data-toc-modified-id=\"Funciones-1.1.1\">Funciones</a></span></li><li><span><a href=\"#Programando-funciones-algebraicas\" data-toc-modified-id=\"Programando-funciones-algebraicas-1.1.2\">Programando funciones algebraicas</a></span><ul class=\"toc-item\"><li><span><a href=\"#Funciones-lineales\" data-toc-modified-id=\"Funciones-lineales-1.1.2.1\">Funciones lineales</a></span></li><li><span><a href=\"#Funciones-polinómicas\" data-toc-modified-id=\"Funciones-polinómicas-1.1.2.2\">Funciones polinómicas</a></span></li><li><span><a href=\"#Funciones-potencia\" data-toc-modified-id=\"Funciones-potencia-1.1.2.3\">Funciones potencia</a></span></li></ul></li></ul></li></ul></li></ul></div>"
   ]
  },
  {
   "cell_type": "markdown",
   "metadata": {},
   "source": [
    "# Cálculo básico para Data Science"
   ]
  },
  {
   "cell_type": "markdown",
   "metadata": {},
   "source": [
    "## Funciones y límites"
   ]
  },
  {
   "cell_type": "markdown",
   "metadata": {},
   "source": [
    "### Funciones"
   ]
  },
  {
   "cell_type": "markdown",
   "metadata": {},
   "source": [
    "Recordando rápidamente qué es una función:\n",
    "\n",
    "Es una relación donde a cada elemento de un conjunto $A$ se le asigna un elemento de un conjunto $B$ siempre que se vinculen de manera única y exclusiva. En otras palabras, a cada valor del dominio, le corresponde **uno y sólo un valor del rango**.\n",
    "\n",
    "* **Dominio:** Conjunto de los elementos que definen la función, es decir, los elementos que se van a asociar con otro conjunto, usualmente denotado con $x$.\n",
    "\n",
    "* **Rango:** Es el conjunto de elementos que son el resultado de la asociación del dominio bajo la relación, usualmente denotado por $y$."
   ]
  },
  {
   "cell_type": "markdown",
   "metadata": {},
   "source": [
    "![](https://i.imgur.com/F24Np1f.png)"
   ]
  },
  {
   "cell_type": "markdown",
   "metadata": {},
   "source": [
    "En una función, entra un elemento $x$ y sale un elemento $y$:"
   ]
  },
  {
   "cell_type": "markdown",
   "metadata": {},
   "source": [
    "$$f(x)=y$$"
   ]
  },
  {
   "cell_type": "markdown",
   "metadata": {},
   "source": [
    "> En el caso donde a cada valor del dominio le corresponde uno o más elementos del rango decimos que tenemos una **relación**. Por ejemplo, al definir una relación para describir un círculo en geometría analítica donde tenemos una relación, no una función."
   ]
  },
  {
   "cell_type": "markdown",
   "metadata": {},
   "source": [
    "### Programando funciones algebraicas"
   ]
  },
  {
   "cell_type": "code",
   "execution_count": 3,
   "metadata": {},
   "outputs": [],
   "source": [
    "import matplotlib.pyplot as plt\n",
    "import numpy as np"
   ]
  },
  {
   "cell_type": "markdown",
   "metadata": {},
   "source": [
    "#### Funciones lineales"
   ]
  },
  {
   "cell_type": "markdown",
   "metadata": {},
   "source": [
    "Para este ejemplo recordemos las **funciones lineales** (rectas) que se definen de la forma:"
   ]
  },
  {
   "cell_type": "markdown",
   "metadata": {},
   "source": [
    "$$f(x) = mx+b$$"
   ]
  },
  {
   "cell_type": "markdown",
   "metadata": {},
   "source": [
    "donde $m$ y $b$ $\\in \\mathbb{R}$. \n",
    "\n",
    "$m$ es la pendiente y $b$ índica en que valor intersecciona la recta con el eje $y$.}\n",
    "\n",
    "$m$ puede ser calculada por:"
   ]
  },
  {
   "cell_type": "markdown",
   "metadata": {},
   "source": [
    "$$m = \\frac{y_2 - y_1}{x_2 - x_1}$$"
   ]
  },
  {
   "cell_type": "markdown",
   "metadata": {},
   "source": [
    "Donde $x_n$ y $y_n$ representan las coordenadas de 2 puntos cualesquiera pertenecientes a la recta."
   ]
  },
  {
   "cell_type": "markdown",
   "metadata": {},
   "source": [
    "El dominio de nuestra función es:\n",
    "\n",
    "$$\\text{Dom}_f=(-\\infty, \\infty) $$"
   ]
  },
  {
   "cell_type": "markdown",
   "metadata": {},
   "source": [
    "Y su imagen o rango:"
   ]
  },
  {
   "cell_type": "markdown",
   "metadata": {},
   "source": [
    "$$\\text{Im}_f = (-\\infty, \\infty) $$"
   ]
  },
  {
   "cell_type": "code",
   "execution_count": 22,
   "metadata": {},
   "outputs": [
    {
     "name": "stdout",
     "output_type": "stream",
     "text": [
      "Ingresa la pendiente m de la recta: 2\n",
      "Ingresa la intersección b de la recta: 2\n"
     ]
    },
    {
     "data": {
      "image/png": "[encoded data removed]",
      "text/plain": [
       "<Figure size 432x288 with 1 Axes>"
      ]
     },
     "metadata": {
      "needs_background": "light"
     },
     "output_type": "display_data"
    }
   ],
   "source": [
    "def f(m, x, b):\n",
    "    # Establecemos la relación algebraica\n",
    "    return m*x + b\n",
    "\n",
    "\n",
    "def graph(equation):\n",
    "    # Obtenemos la figura y los ejes\n",
    "    fig, ax = plt.subplots()\n",
    "    # Limitamos la porción del plano\n",
    "    plt.xlim(-10, 10)\n",
    "    plt.ylim(-10, 10)\n",
    "    # Gráficamos en los ejes\n",
    "    ax.plot(x,y, color='#DB28E3')\n",
    "    # Creamos el la rejilla para que se vea bonis\n",
    "    ax.grid()\n",
    "    # Y nuestros ejes\n",
    "    ax.axhline(y=0, color='#000000')\n",
    "    ax.axvline(x=0, color='#000000')  \n",
    "\n",
    "    \n",
    "if __name__ == '__main__':\n",
    "    # Creamos los puntos par ala gráfica\n",
    "    res = 100\n",
    "    # Pedimos los valores\n",
    "    m = int(input('Ingresa la pendiente m de la recta: '))\n",
    "    b = int(input('Ingresa la intersección b de la recta: '))\n",
    "    # Como es una variable usamos un vector \n",
    "    # Establecemos el intervalo y cuandos elementos queremos (res)\n",
    "    x = np.linspace(-10.0, 10.0, num=res)\n",
    "    y = f(m, x, b)\n",
    "    display_graph = graph(y)"
   ]
  },
  {
   "cell_type": "markdown",
   "metadata": {},
   "source": [
    "#### Funciones polinómicas"
   ]
  },
  {
   "cell_type": "markdown",
   "metadata": {},
   "source": [
    "Las funciones polinómicas tienen la forma:"
   ]
  },
  {
   "cell_type": "markdown",
   "metadata": {},
   "source": [
    "$$P(x)=a_n x^n + a_{n-1} x^{n-1} + ... + a_2 x^2 +a_1 x + a_1 $$"
   ]
  },
  {
   "cell_type": "markdown",
   "metadata": {},
   "source": [
    "a una función de este estilo le llamamos **polinomio de grado $n$** y a los elementos $a$ los llamaremos coeficientes. Donde $a \\in \\mathbb{R}$"
   ]
  },
  {
   "cell_type": "markdown",
   "metadata": {},
   "source": [
    "#### Funciones potencia"
   ]
  },
  {
   "cell_type": "markdown",
   "metadata": {},
   "source": [
    "Hay unas funciones, que son un caso particular de las funciones polinómicas; que llamamos funciones potencia y tienen la forma:"
   ]
  },
  {
   "cell_type": "markdown",
   "metadata": {},
   "source": [
    "$$f(x)= x^a, a \\in \\mathbb{R}$$"
   ]
  },
  {
   "cell_type": "code",
   "execution_count": 25,
   "metadata": {},
   "outputs": [
    {
     "data": {
      "image/png": "[encoded data removed]",
      "text/plain": [
       "<Figure size 432x288 with 1 Axes>"
      ]
     },
     "metadata": {
      "needs_background": "light"
     },
     "output_type": "display_data"
    }
   ],
   "source": [
    "def f(x):\n",
    "    # Establecemos la relación algebraica\n",
    "    return x**2\n",
    "\n",
    "\n",
    "def graph(equation):\n",
    "    # Obtenemos la figura y los ejes\n",
    "    fig, ax = plt.subplots()\n",
    "    # Limitamos la porción del plano\n",
    "    plt.xlim(-10, 10)\n",
    "    plt.ylim(-10, 30)\n",
    "    # Gráficamos en los ejes\n",
    "    ax.plot(x,y, color='#DB28E3')\n",
    "    # Creamos el la rejilla para que se vea bonis\n",
    "    ax.grid()\n",
    "    # Y nuestros ejes\n",
    "    ax.axhline(y=0, color='#000000')\n",
    "    ax.axvline(x=0, color='#000000')  \n",
    "\n",
    "    \n",
    "if __name__ == '__main__':\n",
    "    # Creamos los puntos par ala gráfica\n",
    "    res = 100\n",
    "    # Como es una variable usamos un vector \n",
    "    # Establecemos el intervalo y cuandos elementos queremos (res)\n",
    "    x = np.linspace(-10.0, 10.0, num=res)\n",
    "    y = f(x)\n",
    "    display_graph = graph(y)"
   ]
  },
  {
   "cell_type": "code",
   "execution_count": 37,
   "metadata": {},
   "outputs": [
    {
     "data": {
      "image/png": "[encoded data removed]",
      "text/plain": [
       "<Figure size 432x288 with 1 Axes>"
      ]
     },
     "metadata": {
      "needs_background": "light"
     },
     "output_type": "display_data"
    }
   ],
   "source": [
    "def f(x):\n",
    "    # Establecemos la relación algebraica\n",
    "    return 2*(x**7) - x**4 + 3*(x**2) + 4\n",
    "\n",
    "\n",
    "def graph(equation):\n",
    "    # Obtenemos la figura y los ejes\n",
    "    fig, ax = plt.subplots()\n",
    "    # Gráficamos en los ejes\n",
    "    ax.plot(x,y, color='#DB28E3')\n",
    "    # Creamos el la rejilla para que se vea bonis\n",
    "    ax.grid()\n",
    "    # Y nuestros ejes\n",
    "    ax.axhline(y=0, color='#000000')\n",
    "    ax.axvline(x=0, color='#000000')  \n",
    "\n",
    "    \n",
    "if __name__ == '__main__':\n",
    "    # Creamos los puntos par ala gráfica\n",
    "    res = 100\n",
    "    # Como es una variable usamos un vector \n",
    "    # Establecemos el intervalo y cuandos elementos queremos (res)\n",
    "    x = np.linspace(-10.0, 10.0, num=res)\n",
    "    y = f(x)\n",
    "    display_graph = graph(y)"
   ]
  },
  {
   "cell_type": "markdown",
   "metadata": {},
   "source": [
    "---"
   ]
  },
  {
   "cell_type": "code",
   "execution_count": null,
   "metadata": {},
   "outputs": [],
   "source": []
  }
 ],
 "metadata": {
  "kernelspec": {
   "display_name": "Python 3",
   "language": "python",
   "name": "python3"
  },
  "language_info": {
   "codemirror_mode": {
    "name": "ipython",
    "version": 3
   },
   "file_extension": ".py",
   "mimetype": "text/x-python",
   "name": "python",
   "nbconvert_exporter": "python",
   "pygments_lexer": "ipython3",
   "version": "3.8.3"
  },
  "toc": {
   "base_numbering": 1,
   "nav_menu": {},
   "number_sections": false,
   "sideBar": true,
   "skip_h1_title": false,
   "title_cell": "Table of Contents",
   "title_sidebar": "Contents",
   "toc_cell": true,
   "toc_position": {},
   "toc_section_display": true,
   "toc_window_display": false
  }
 },
 "nbformat": 4,
 "nbformat_minor": 4
}
