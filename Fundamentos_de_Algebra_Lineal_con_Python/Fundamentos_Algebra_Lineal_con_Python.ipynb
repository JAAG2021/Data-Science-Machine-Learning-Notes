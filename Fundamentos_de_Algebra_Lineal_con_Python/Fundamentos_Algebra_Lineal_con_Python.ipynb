{
  "nbformat": 4,
  "nbformat_minor": 0,
  "metadata": {
    "colab": {
      "name": "Fundamentos_Algebra_Lineal_con_Python.ipynb",
      "provenance": [],
      "authorship_tag": "ABX9TyNq2Bmir7rkYmyJL9rzhUsB"
    },
    "kernelspec": {
      "name": "python3",
      "display_name": "Python 3"
    },
    "language_info": {
      "name": "python"
    }
  },
  "cells": [
    {
      "cell_type": "code",
      "metadata": {
        "id": "9ArqM3v4Prsa"
      },
      "source": [
        ""
      ],
      "execution_count": null,
      "outputs": []
    }
  ]
}