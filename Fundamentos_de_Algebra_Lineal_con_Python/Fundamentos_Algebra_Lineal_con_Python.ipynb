{
 "cells": [
  {
   "cell_type": "markdown",
   "metadata": {
    "toc": true
   },
   "source": [
    "<h1>Tabla de contenidos 💜<span class=\"tocSkip\"></span></h1>\n",
    "<div class=\"toc\"><ul class=\"toc-item\"><li><span><a href=\"#Fundamentos-de-Álgebra-lineal-con-Python\" data-toc-modified-id=\"Fundamentos-de-Álgebra-lineal-con-Python-0\">Fundamentos de Álgebra lineal con Python</a></span><ul class=\"toc-item\"><li><span><a href=\"#Conceptos-básicos\" data-toc-modified-id=\"Conceptos-básicos-0.1\">Conceptos básicos</a></span><ul class=\"toc-item\"><li><span><a href=\"#Escalar\" data-toc-modified-id=\"Escalar-0.1.1\">Escalar</a></span></li><li><span><a href=\"#Vector\" data-toc-modified-id=\"Vector-0.1.2\">Vector</a></span></li><li><span><a href=\"#Matriz\" data-toc-modified-id=\"Matriz-0.1.3\">Matriz</a></span></li><li><span><a href=\"#Tensor\" data-toc-modified-id=\"Tensor-0.1.4\">Tensor</a></span></li></ul></li><li><span><a href=\"#Operaciones-básicas\" data-toc-modified-id=\"Operaciones-básicas-0.2\">Operaciones básicas</a></span><ul class=\"toc-item\"><li><span><a href=\"#Dimensión-de-un-escalar,-vector,-matriz-o-tensor\" data-toc-modified-id=\"Dimensión-de-un-escalar,-vector,-matriz-o-tensor-0.2.1\">Dimensión de un escalar, vector, matriz o tensor</a></span></li><li><span><a href=\"#Transposición\" data-toc-modified-id=\"Transposición-0.2.2\">Transposición</a></span></li><li><span><a href=\"#Suma-de-matrices\" data-toc-modified-id=\"Suma-de-matrices-0.2.3\">Suma de matrices</a></span></li><li><span><a href=\"#Suma-de-matrices-y-vectores-con-dimensiones-distintas-(broadcasting)\" data-toc-modified-id=\"Suma-de-matrices-y-vectores-con-dimensiones-distintas-(broadcasting)-0.2.4\">Suma de matrices y vectores con dimensiones distintas (broadcasting)</a></span></li></ul></li><li><span><a href=\"#Operaciones-con-matrices\" data-toc-modified-id=\"Operaciones-con-matrices-0.3\">Operaciones con matrices</a></span><ul class=\"toc-item\"><li><span><a href=\"#Producto-interno-de-matrices-y--vectores\" data-toc-modified-id=\"Producto-interno-de-matrices-y--vectores-0.3.1\">Producto interno de matrices y  vectores</a></span></li><li><span><a href=\"#Producto-interno-entre-2-matrices\" data-toc-modified-id=\"Producto-interno-entre-2-matrices-0.3.2\">Producto interno entre 2 matrices</a></span></li><li><span><a href=\"#Propiedades-de-las-matrices\" data-toc-modified-id=\"Propiedades-de-las-matrices-0.3.3\">Propiedades de las matrices</a></span><ul class=\"toc-item\"><li><span><a href=\"#Asociativa\" data-toc-modified-id=\"Asociativa-0.3.3.1\">Asociativa</a></span></li><li><span><a href=\"#Distributiva:\" data-toc-modified-id=\"Distributiva:-0.3.3.2\">Distributiva:</a></span></li><li><span><a href=\"#Conmutativa:\" data-toc-modified-id=\"Conmutativa:-0.3.3.3\">Conmutativa:</a></span></li></ul></li><li><span><a href=\"#Conmutatividad-en-producto-interno-de-vectores\" data-toc-modified-id=\"Conmutatividad-en-producto-interno-de-vectores-0.3.4\">Conmutatividad en producto interno de vectores</a></span></li><li><span><a href=\"#Transposición-del-producto-de-matrices\" data-toc-modified-id=\"Transposición-del-producto-de-matrices-0.3.5\">Transposición del producto de matrices</a></span></li><li><span><a href=\"#Cómo-comprobar-la-solución-de-un-sistema-de-ecuaciones-lineales\" data-toc-modified-id=\"Cómo-comprobar-la-solución-de-un-sistema-de-ecuaciones-lineales-0.3.6\">Cómo comprobar la solución de un sistema de ecuaciones lineales</a></span><ul class=\"toc-item\"><li><span><a href=\"#Combinación-lineal\" data-toc-modified-id=\"Combinación-lineal-0.3.6.1\">Combinación lineal</a></span></li><li><span><a href=\"#Ecuación-lineal\" data-toc-modified-id=\"Ecuación-lineal-0.3.6.2\">Ecuación lineal</a></span></li><li><span><a href=\"#Sistema-de-ecuaciones-lineales\" data-toc-modified-id=\"Sistema-de-ecuaciones-lineales-0.3.6.3\">Sistema de ecuaciones lineales</a></span></li></ul></li><li><span><a href=\"#Tipos-especiales-de-matrices:-Identidad,-Inversa-y-Singular\" data-toc-modified-id=\"Tipos-especiales-de-matrices:-Identidad,-Inversa-y-Singular-0.3.7\">Tipos especiales de matrices: Identidad, Inversa y Singular</a></span><ul class=\"toc-item\"><li><span><a href=\"#Matriz-Identidad\" data-toc-modified-id=\"Matriz-Identidad-0.3.7.1\">Matriz Identidad</a></span></li><li><span><a href=\"#Matriz-Inversa\" data-toc-modified-id=\"Matriz-Inversa-0.3.7.2\">Matriz Inversa</a></span></li><li><span><a href=\"#Matriz-Singular\" data-toc-modified-id=\"Matriz-Singular-0.3.7.3\">Matriz Singular</a></span></li></ul></li><li><span><a href=\"#Utilizando-la-Inversa-de-una-matriz-para-resolver-un-sistema-de-ecuaciones\" data-toc-modified-id=\"Utilizando-la-Inversa-de-una-matriz-para-resolver-un-sistema-de-ecuaciones-0.3.8\">Utilizando la Inversa de una matriz para resolver un sistema de ecuaciones</a></span></li></ul></li><li><span><a href=\"#Sistemas-de-ecuaciones-lineales\" data-toc-modified-id=\"Sistemas-de-ecuaciones-lineales-0.4\">Sistemas de ecuaciones lineales</a></span><ul class=\"toc-item\"><li><span><a href=\"#Ejemplos-de-sistemas-sin-solución,-con-una-solución-y-con-infinitas-soluciones\" data-toc-modified-id=\"Ejemplos-de-sistemas-sin-solución,-con-una-solución-y-con-infinitas-soluciones-0.4.1\">Ejemplos de sistemas sin solución, con una solución y con infinitas soluciones</a></span><ul class=\"toc-item\"><li><span><a href=\"#Sistema-Incompatible-(sin-soluciones)\" data-toc-modified-id=\"Sistema-Incompatible-(sin-soluciones)-0.4.1.1\">Sistema Incompatible (sin soluciones)</a></span></li><li><span><a href=\"#Sistema-Compatible\" data-toc-modified-id=\"Sistema-Compatible-0.4.1.2\">Sistema Compatible</a></span></li></ul></li><li><span><a href=\"#Graficar-vectores\" data-toc-modified-id=\"Graficar-vectores-0.4.2\">Graficar vectores</a></span></li><li><span><a href=\"#¿Qué-es-una-combinación-lineal?\" data-toc-modified-id=\"¿Qué-es-una-combinación-lineal?-0.4.3\">¿Qué es una combinación lineal?</a></span></li><li><span><a href=\"#¿Qué-es-un-espacio-y-un-subespacio?\" data-toc-modified-id=\"¿Qué-es-un-espacio-y-un-subespacio?-0.4.4\">¿Qué es un espacio y un subespacio?</a></span><ul class=\"toc-item\"><li><span><a href=\"#Condiciones-necesarias-y-suficientes-para-definir-un-subespacio\" data-toc-modified-id=\"Condiciones-necesarias-y-suficientes-para-definir-un-subespacio-0.4.4.1\">Condiciones necesarias y suficientes para definir un subespacio</a></span></li><li><span><a href=\"#Conjunto-generador\" data-toc-modified-id=\"Conjunto-generador-0.4.4.2\">Conjunto generador</a></span></li></ul></li><li><span><a href=\"#Vectores-linealmente-Independientes\" data-toc-modified-id=\"Vectores-linealmente-Independientes-0.4.5\">Vectores linealmente Independientes</a></span></li><li><span><a href=\"#Validar-que-una-matriz-tenga-inversa\" data-toc-modified-id=\"Validar-que-una-matriz-tenga-inversa-0.4.6\">Validar que una matriz tenga inversa</a></span></li></ul></li><li><span><a href=\"#Norma\" data-toc-modified-id=\"Norma-0.5\">Norma</a></span><ul class=\"toc-item\"><li><span><a href=\"#¿Qué-es-una-norma-y-para-qué-se-usa?-Desigualdad-triangular\" data-toc-modified-id=\"¿Qué-es-una-norma-y-para-qué-se-usa?-Desigualdad-triangular-0.5.1\">¿Qué es una norma y para qué se usa? Desigualdad triangular</a></span></li></ul></li></ul></li></ul></div>"
   ]
  },
  {
   "cell_type": "markdown",
   "metadata": {
    "id": "9ArqM3v4Prsa"
   },
   "source": [
    "# Fundamentos de Álgebra lineal con Python"
   ]
  },
  {
   "cell_type": "markdown",
   "metadata": {
    "id": "4rZTAWNHbHd7"
   },
   "source": [
    "## Conceptos básicos"
   ]
  },
  {
   "cell_type": "markdown",
   "metadata": {
    "id": "IQ_RxEzUbwme"
   },
   "source": [
    "### Escalar"
   ]
  },
  {
   "cell_type": "markdown",
   "metadata": {
    "id": "h45LCAh7dMQu"
   },
   "source": [
    "Se denomina **escalar** a los números reales, constantes o complejos que sirven para describir un fenómeno físico (o de otro tipo) con magnitud, pero sin la característica *vectorial* de la dirección. Más formalmente, **es un tensor de orden cero**.\n",
    "\n",
    "En términos matemáticos, se llama **escalar** a los elementos de un *cuerpo* (en algunos casos también a los elementos de un anillo), generalmente números, y en particular se usa con vectores en álgebra lineal y en cualquier rama que use *módulos* o *espacios vectoriales*."
   ]
  },
  {
   "cell_type": "markdown",
   "metadata": {
    "id": "qqjY2wLWdzLq"
   },
   "source": [
    "Al trabajar en Python con escalares tenemos de muchos tipos, por ejemplo, **enteros**, **flotantes**, **complejos**, **string** o **null/non-type**, etc."
   ]
  },
  {
   "cell_type": "code",
   "execution_count": 151,
   "metadata": {
    "colab": {
     "base_uri": "https://localhost:8080/"
    },
    "id": "IrVjCsXmdl4e",
    "outputId": "afec4022-0097-47c0-9dde-280bab804233"
   },
   "outputs": [
    {
     "name": "stdout",
     "output_type": "stream",
     "text": [
      "5\n",
      "<class 'int'>\n"
     ]
    }
   ],
   "source": [
    "escalar_int = 5\n",
    "print(escalar_int)\n",
    "print(type(escalar_int))"
   ]
  },
  {
   "cell_type": "code",
   "execution_count": 152,
   "metadata": {
    "colab": {
     "base_uri": "https://localhost:8080/"
    },
    "id": "ZlUH_6VddxA6",
    "outputId": "cc718110-5c8e-4e4c-8003-4796aaf683da"
   },
   "outputs": [
    {
     "name": "stdout",
     "output_type": "stream",
     "text": [
      "3.1416\n",
      "<class 'float'>\n"
     ]
    }
   ],
   "source": [
    "escalar_float = 3.1416\n",
    "print(escalar_float)\n",
    "print(type(escalar_float))"
   ]
  },
  {
   "cell_type": "code",
   "execution_count": 153,
   "metadata": {
    "colab": {
     "base_uri": "https://localhost:8080/"
    },
    "id": "VCmLRW32eK0I",
    "outputId": "e80ff0cc-5687-49ad-e498-1bfea385356b"
   },
   "outputs": [
    {
     "name": "stdout",
     "output_type": "stream",
     "text": [
      "True\n",
      "<class 'bool'>\n"
     ]
    }
   ],
   "source": [
    "escalar_bool = True\n",
    "print(escalar_bool)\n",
    "print(type(escalar_bool))"
   ]
  },
  {
   "cell_type": "code",
   "execution_count": 154,
   "metadata": {
    "colab": {
     "base_uri": "https://localhost:8080/"
    },
    "id": "rgItgc5oeQQj",
    "outputId": "8734922e-0a12-457e-8625-1d021519cd8e"
   },
   "outputs": [
    {
     "name": "stdout",
     "output_type": "stream",
     "text": [
      "(5+3j)\n",
      "<class 'complex'>\n"
     ]
    }
   ],
   "source": [
    "import cmath\n",
    "escalar_complex = complex(5, 3)\n",
    "print(escalar_complex)\n",
    "print(type(escalar_complex))"
   ]
  },
  {
   "cell_type": "markdown",
   "metadata": {
    "id": "hG8ogn0gf8RR"
   },
   "source": [
    "### Vector"
   ]
  },
  {
   "cell_type": "markdown",
   "metadata": {
    "id": "BWlRQDoIf9s5"
   },
   "source": [
    "Es un énte matemático como la *recta* o el *plano*. Se puede representar mediante un segmento de recta, orientado dentro del *espacio euclidiano tridimensional*. Ek vectir tiene 3 elementos:\n",
    "\n",
    "* Módulo (cuánto mide)\n",
    "* Dirección (ángulo respecto a algún eje)\n",
    "* Sentido (hacía donde \"apunta\" la cabeza de la flecha)\n",
    "\n",
    "En matemáticas se define al vector como **un elemento de un espacio vectorial**. Esta noción es más abstracta y para muchos espacios vectoriales no es posible representar sus vectores mediante el módulo y la dirección. En particular los espacios de dimensión infinita sin producto escalar no son representables de ese modo."
   ]
  },
  {
   "cell_type": "markdown",
   "metadata": {
    "id": "SO4g1bLJg8VL"
   },
   "source": [
    "Se llama **vector** de dimensión $n$ a una **tupla** de números reales (que se llaman componentes del vector). El conjunto de todos los vectores de dimensión se representa cómo $\\mathbb{R}^n$ (formado mediante el producto cartesiano).\n",
    "\n",
    "Así, un vector $v$ perteneciente a un espacio $\\mathbb{R}$ se representa como:"
   ]
  },
  {
   "cell_type": "markdown",
   "metadata": {
    "id": "GJ82nmPZhbfs"
   },
   "source": [
    "$$ v = (a_1, a_2, a_3, ... ,a_n),\\text{donde } v \\in \\mathbb{R}^n $$"
   ]
  },
  {
   "cell_type": "markdown",
   "metadata": {
    "id": "RdLKEbAchcN-"
   },
   "source": [
    "Podemos ver al vector como un *conjunto de números*."
   ]
  },
  {
   "cell_type": "code",
   "execution_count": 155,
   "metadata": {
    "colab": {
     "base_uri": "https://localhost:8080/"
    },
    "id": "HyhFwYb7fC1S",
    "outputId": "be90253b-77c0-4bf1-def5-7f9c55aca051"
   },
   "outputs": [
    {
     "name": "stdout",
     "output_type": "stream",
     "text": [
      "[[1]\n",
      " [2]\n",
      " [3]]\n",
      "<class 'numpy.ndarray'>\n"
     ]
    }
   ],
   "source": [
    "import numpy as np\n",
    "# Vector Columna\n",
    "column_vector = np.array([[1],[2],[3]])\n",
    "print(column_vector)\n",
    "print(type(column_vector))"
   ]
  },
  {
   "cell_type": "code",
   "execution_count": 156,
   "metadata": {
    "colab": {
     "base_uri": "https://localhost:8080/"
    },
    "id": "NBt4D69YiYom",
    "outputId": "81210bae-810a-49bd-ffae-ed014aaaca3b"
   },
   "outputs": [
    {
     "name": "stdout",
     "output_type": "stream",
     "text": [
      "[1 2 3]\n",
      "<class 'numpy.ndarray'>\n"
     ]
    }
   ],
   "source": [
    "import numpy as np\n",
    "# Vector Fila\n",
    "row_vector = np.array([1,2,3])\n",
    "print(row_vector)\n",
    "print(type(row_vector))"
   ]
  },
  {
   "cell_type": "markdown",
   "metadata": {},
   "source": [
    "---"
   ]
  },
  {
   "cell_type": "markdown",
   "metadata": {
    "id": "gfbmZeMriw9Y"
   },
   "source": [
    "### Matriz"
   ]
  },
  {
   "cell_type": "markdown",
   "metadata": {
    "id": "cqPnyoNFiz9l"
   },
   "source": [
    "En matemáticas, una **matriz** es un *arreglo bidimensional de números*. Dado que puede definirse tanto la suma como el producto de matrices, en mayor generalidad se dice que son **elementos de un anillo**. Una matriz se representa por medio de una letra mayúscula $(A,B, \\dots)$ y sus elementos con la misma letra en minúscula $(a,b,\\dots)$, con un doble subíndice, donde el primero indica la fila y el segundo la columna a la que pertenece."
   ]
  },
  {
   "cell_type": "markdown",
   "metadata": {
    "id": "Mf3MUk29izWv"
   },
   "source": [
    "$$A = \n",
    "\\begin{pmatrix}\n",
    "a_{11} & a_{12} & \\dots & a_{1n} \\\\\n",
    "a_{21} & a_{22} & \\dots & a_{2n} \\\\\n",
    "\\vdots & \\vdots & \\ddots & \\vdots \\\\\n",
    "a_{m1} & a_{m2} & \\dots & a_{mn} \\\\\n",
    "\\end{pmatrix}$$"
   ]
  },
  {
   "cell_type": "markdown",
   "metadata": {
    "id": "3SKfZQOTlC26"
   },
   "source": [
    "Siempre que 2 matrices tengan el mismo número de filas y de columnas, pueden sumarse o restarse elemento por elemento.\n",
    "\n",
    "Las matrices sirven para representar las coeficientes de los sistemas de ecuaciones lineales o para representar transformaciones lineales dadas una base.\n",
    "\n",
    "Pueden sumarse, multiplicarse y descomponerse de varias formas, lo que también las hace un concepto clave en el campo del álgebra lineal."
   ]
  },
  {
   "cell_type": "code",
   "execution_count": 157,
   "metadata": {
    "colab": {
     "base_uri": "https://localhost:8080/"
    },
    "id": "cFzlOqHxnYAJ",
    "outputId": "ef04994c-f343-45de-d58e-44e8a463fccf"
   },
   "outputs": [
    {
     "name": "stdout",
     "output_type": "stream",
     "text": [
      "[[0 1 2 3]\n",
      " [3 2 1 0]\n",
      " [1 2 3 4]\n",
      " [3 2 1 0]]\n",
      "<class 'numpy.ndarray'>\n"
     ]
    }
   ],
   "source": [
    "import numpy as np\n",
    "matrix = np.array([\n",
    "                   [0, 1, 2 ,3],\n",
    "                   [3, 2, 1, 0],\n",
    "                   [1, 2, 3, 4],\n",
    "                   [3, 2, 1, 0]\n",
    "])\n",
    "\n",
    "print(matrix)\n",
    "print(type(matrix))"
   ]
  },
  {
   "cell_type": "markdown",
   "metadata": {},
   "source": [
    "---"
   ]
  },
  {
   "cell_type": "markdown",
   "metadata": {
    "id": "36dImWdwldTy"
   },
   "source": [
    "### Tensor"
   ]
  },
  {
   "cell_type": "markdown",
   "metadata": {
    "id": "iTp1OnhAlevF"
   },
   "source": [
    "Un **tensor** es cierta clase de entidad  algebraica de varios componentes que generalizan los conceptos de escalar, vector y matriz **de manera que sea independiente de cualquier sistema de coordenadas**. Se suele utilizar el convenio se **suma de Einstein**.\n",
    "\n",
    "Una vez elegida la base vectorial, los componentes de un tensor en una base vendrán dadas por una **multi-matriz**. El orden del tensor será el número de índices necesarios para especificar sin ambigüedad un componente de un tensor: \n",
    "\n",
    "* Un **escalar** será considerado como un tensor de orden 0.\n",
    "* Un **vecor** será considerado como un tensor de orden 1.\n",
    "* Y dada una *base vectorial*, los tensores de segundo orden pueden ser representados por una **matriz**."
   ]
  },
  {
   "cell_type": "markdown",
   "metadata": {
    "id": "25xyl56dpa4i"
   },
   "source": [
    "![](https://miro.medium.com/max/891/0*jGB1CGQ9HdeUwlgB)"
   ]
  },
  {
   "cell_type": "markdown",
   "metadata": {
    "id": "rD5S95zIoKNi"
   },
   "source": [
    "Podemos ver al tensor como varias matrices acomodadas en \"capas\"."
   ]
  },
  {
   "cell_type": "code",
   "execution_count": 158,
   "metadata": {
    "colab": {
     "base_uri": "https://localhost:8080/"
    },
    "id": "cdLDQGUjnz0_",
    "outputId": "5384d5c4-902b-4c06-bea6-c6011a625679"
   },
   "outputs": [
    {
     "name": "stdout",
     "output_type": "stream",
     "text": [
      "[[[ 11  22  33]\n",
      "  [ 44  55  66]\n",
      "  [ 77  88  99]]\n",
      "\n",
      " [[ 99 368 777]\n",
      "  [666 555 444]\n",
      "  [333 222 111]]\n",
      "\n",
      " [[ 13 297 306]\n",
      "  [546  58 642]\n",
      "  [ 27 328 943]]]\n",
      "<class 'numpy.ndarray'>\n"
     ]
    }
   ],
   "source": [
    "import numpy as np\n",
    "\n",
    "tensor = np.array([\n",
    "                   [ [11,22,33],  [44,55,66],   [77,88,99]    ],\n",
    "                   [ [99,368,777],[666,555,444],[333,222,111] ],\n",
    "                   [ [13,297,306],[546,58,642], [27,328,943]  ]\n",
    "])\n",
    "print(tensor)\n",
    "print(type(tensor))"
   ]
  },
  {
   "cell_type": "markdown",
   "metadata": {
    "id": "723Uwk3ooZP5"
   },
   "source": [
    "Vamos a visualizar nuestro tensor, **suponiendo** que los datos que tenemos son los que representan a una imagen."
   ]
  },
  {
   "cell_type": "code",
   "execution_count": 159,
   "metadata": {
    "colab": {
     "base_uri": "https://localhost:8080/",
     "height": 305
    },
    "id": "n3AMZePloe2B",
    "outputId": "df32b415-d74f-43f4-f641-7dbdbc5f8dca"
   },
   "outputs": [
    {
     "name": "stderr",
     "output_type": "stream",
     "text": [
      "Clipping input data to the valid range for imshow with RGB data ([0..1] for floats or [0..255] for integers).\n"
     ]
    },
    {
     "data": {
      "text/plain": [
       "<module 'matplotlib.pyplot' from 'C:\\\\Users\\\\jabdi\\\\anaconda3\\\\lib\\\\site-packages\\\\matplotlib\\\\pyplot.py'>"
      ]
     },
     "execution_count": 159,
     "metadata": {},
     "output_type": "execute_result"
    },
    {
     "data": {
      "image/png": "[encoded data removed]",
      "text/plain": [
       "<Figure size 432x288 with 1 Axes>"
      ]
     },
     "metadata": {
      "needs_background": "light"
     },
     "output_type": "display_data"
    }
   ],
   "source": [
    "%matplotlib inline\n",
    "import matplotlib.pyplot as plt\n",
    "\n",
    "plt.imshow(tensor, interpolation='nearest')\n",
    "plt"
   ]
  },
  {
   "cell_type": "markdown",
   "metadata": {
    "id": "ki-gAhkqesVr"
   },
   "source": [
    "Podemos decir que en lo que se diferencian nuestros elementos como los escalares, vectores, matrices y tensores es en los *grados de libertad que tenemos para interactuar con ellos*."
   ]
  },
  {
   "cell_type": "markdown",
   "metadata": {
    "id": "mGEjSb1TjMJM"
   },
   "source": [
    "![](https://i.imgur.com/vDwWVp9.png)"
   ]
  },
  {
   "cell_type": "markdown",
   "metadata": {
    "id": "RXVt09Mqp1Ib"
   },
   "source": [
    "---"
   ]
  },
  {
   "cell_type": "markdown",
   "metadata": {
    "id": "4Xy8Pndop2uu"
   },
   "source": [
    "## Operaciones básicas"
   ]
  },
  {
   "cell_type": "markdown",
   "metadata": {
    "id": "fu4-yX6FHnc5"
   },
   "source": [
    "### Dimensión de un escalar, vector, matriz o tensor"
   ]
  },
  {
   "cell_type": "markdown",
   "metadata": {
    "id": "c0vHD_5-HucJ"
   },
   "source": [
    "En álgebra lineal es importante tener en consideración las dimensiones que tienen nuestras matrices, vectores y tensores. Ya que algunas veces, de ello dependerá si las operaciones entre ellos están definidas o no. Por ejemplo, en el caso de una multiplicación de una matriz por un vector (producto interno), tenemos que coincidir en la dimensión de nuestro vector con la cantidad de filas que tiene nuestra matriz.\n",
    "\n",
    "De forma que se cumple que, si tenemos una matriz de $m\\times n$ por un vector columna $n\\times 1$, entonces obtendremos de resultado un vector fila de $m \\times 1$ (más adelante veremos este tema con calma)."
   ]
  },
  {
   "cell_type": "markdown",
   "metadata": {
    "id": "O-Azhm4RKwBq"
   },
   "source": [
    "$$\\begin{align*}\n",
    "  A\\cdot {x}=\n",
    "  \\left[\n",
    "    \\begin{array}{cccc}\n",
    "      a_{11} & a_{12} & \\ldots & a_{1n}\\\\\n",
    "      a_{21} & a_{22} & \\ldots & a_{2n}\\\\\n",
    "      \\vdots & \\vdots & \\ddots & \\vdots\\\\\n",
    "      a_{m1} & a_{m2} & \\ldots & a_{mn}\n",
    "    \\end{array}\n",
    "  \\right]\n",
    "  \\left[\n",
    "    \\begin{array}{c}\n",
    "      x_1\\\\\n",
    "      x_2\\\\\n",
    "      \\vdots\\\\\n",
    "      x_n\n",
    "    \\end{array}\n",
    "  \\right]\n",
    "  =\n",
    "  \\left[\n",
    "    \\begin{array}{c}\n",
    "      a_{11}x_1+a_{12}x_2 + \\cdots + a_{1n} x_n\\\\\n",
    "      a_{21}x_1+a_{22}x_2 + \\cdots + a_{2n} x_n\\\\\n",
    "      \\vdots\\\\\n",
    "      a_{m1}x_1+a_{m2}x_2 + \\cdots + a_{mn} x_n\\\\\n",
    "    \\end{array}\n",
    "  \\right].\n",
    "\\end{align*}$$"
   ]
  },
  {
   "cell_type": "markdown",
   "metadata": {
    "id": "AbZ4iC2ILFct"
   },
   "source": [
    "Entonces, es importante conocer las dimensiones de nuestros `arrays`, y para ello tenemos el método `.shape`"
   ]
  },
  {
   "cell_type": "code",
   "execution_count": 160,
   "metadata": {
    "id": "dBfkqNKjIuKl"
   },
   "outputs": [],
   "source": [
    "import numpy as np\n",
    "scalar = 5.679\n",
    "row_vector = np.array([1,2,3])\n",
    "column_vector = np.array([[1],\n",
    "                          [2],\n",
    "                          [3]])\n",
    "matrix = np.array([[1,2],\n",
    "                   [2,3]])\n",
    "tensor = np.array([\n",
    "                   [ [11,22,33],  [44,55,66],   [77,88,99]    ],\n",
    "                   [ [99,368,777],[666,555,444],[333,222,111] ],\n",
    "                   [ [13,297,306],[546,58,642], [27,328,943]  ]\n",
    "])"
   ]
  },
  {
   "cell_type": "markdown",
   "metadata": {
    "id": "mDVx4q6jLUE6"
   },
   "source": [
    "El siguiente error ocurre por que el escalar es considerado un tensor de dimensión 0, es decir, no tiene dimensión."
   ]
  },
  {
   "cell_type": "code",
   "execution_count": 161,
   "metadata": {
    "colab": {
     "base_uri": "https://localhost:8080/",
     "height": 171
    },
    "id": "8tM8_UGcJ0Oq",
    "outputId": "817a0c76-dba3-4816-9456-cc374c671947"
   },
   "outputs": [
    {
     "ename": "AttributeError",
     "evalue": "'float' object has no attribute 'shape'",
     "output_type": "error",
     "traceback": [
      "\u001b[1;31m---------------------------------------------------------------------------\u001b[0m",
      "\u001b[1;31mAttributeError\u001b[0m                            Traceback (most recent call last)",
      "\u001b[1;32m<ipython-input-161-26331d5616fb>\u001b[0m in \u001b[0;36m<module>\u001b[1;34m\u001b[0m\n\u001b[1;32m----> 1\u001b[1;33m \u001b[0mscalar\u001b[0m\u001b[1;33m.\u001b[0m\u001b[0mshape\u001b[0m\u001b[1;33m\u001b[0m\u001b[1;33m\u001b[0m\u001b[0m\n\u001b[0m",
      "\u001b[1;31mAttributeError\u001b[0m: 'float' object has no attribute 'shape'"
     ]
    }
   ],
   "source": [
    "scalar.shape"
   ]
  },
  {
   "cell_type": "markdown",
   "metadata": {
    "id": "4dshxNlKMgo9"
   },
   "source": [
    "Vamos a ver la dimensión del resto de elementos:"
   ]
  },
  {
   "cell_type": "code",
   "execution_count": 162,
   "metadata": {
    "colab": {
     "base_uri": "https://localhost:8080/"
    },
    "id": "Y5DsXlQSLOl-",
    "outputId": "a78e1ebe-cf80-4e9f-b04e-1e2c987ac5ec"
   },
   "outputs": [
    {
     "data": {
      "text/plain": [
       "(3,)"
      ]
     },
     "execution_count": 162,
     "metadata": {},
     "output_type": "execute_result"
    }
   ],
   "source": [
    "row_vector.shape"
   ]
  },
  {
   "cell_type": "code",
   "execution_count": 163,
   "metadata": {
    "colab": {
     "base_uri": "https://localhost:8080/"
    },
    "id": "mpy6QJfgMNdq",
    "outputId": "57e6b9a7-ce87-43ce-ba0a-650a942d9de0"
   },
   "outputs": [
    {
     "data": {
      "text/plain": [
       "(3, 1)"
      ]
     },
     "execution_count": 163,
     "metadata": {},
     "output_type": "execute_result"
    }
   ],
   "source": [
    "column_vector.shape"
   ]
  },
  {
   "cell_type": "code",
   "execution_count": 164,
   "metadata": {
    "colab": {
     "base_uri": "https://localhost:8080/"
    },
    "id": "NjZmzppjMSP-",
    "outputId": "93d1a960-f43d-4981-aca0-c7d69fcac52f"
   },
   "outputs": [
    {
     "data": {
      "text/plain": [
       "(2, 2)"
      ]
     },
     "execution_count": 164,
     "metadata": {},
     "output_type": "execute_result"
    }
   ],
   "source": [
    "matrix.shape"
   ]
  },
  {
   "cell_type": "code",
   "execution_count": 165,
   "metadata": {
    "colab": {
     "base_uri": "https://localhost:8080/"
    },
    "id": "zxfg2p28MVA5",
    "outputId": "2f70871b-f009-4dcc-b572-e97b90ac0909"
   },
   "outputs": [
    {
     "data": {
      "text/plain": [
       "(3, 3, 3)"
      ]
     },
     "execution_count": 165,
     "metadata": {},
     "output_type": "execute_result"
    }
   ],
   "source": [
    "tensor.shape"
   ]
  },
  {
   "cell_type": "markdown",
   "metadata": {
    "id": "U3OX9nzwMWBo"
   },
   "source": [
    "¿Qué pasa si utilizamos `len()` en lugar de `shape`? "
   ]
  },
  {
   "cell_type": "code",
   "execution_count": 166,
   "metadata": {
    "colab": {
     "base_uri": "https://localhost:8080/"
    },
    "id": "ZE-wGxQEM4yb",
    "outputId": "b5748e84-30fb-4c83-c2cf-cdd28262522d"
   },
   "outputs": [
    {
     "data": {
      "text/plain": [
       "3"
      ]
     },
     "execution_count": 166,
     "metadata": {},
     "output_type": "execute_result"
    }
   ],
   "source": [
    "len(tensor)"
   ]
  },
  {
   "cell_type": "markdown",
   "metadata": {
    "id": "_fgna_htNAKZ"
   },
   "source": [
    "Solo nos devuelve la longitud de la primera parte del arreglo."
   ]
  },
  {
   "cell_type": "markdown",
   "metadata": {
    "id": "9ZGEjq4FNFHU"
   },
   "source": [
    "¿ Y qué pasaría si utilizamos `.size`?"
   ]
  },
  {
   "cell_type": "code",
   "execution_count": 167,
   "metadata": {
    "colab": {
     "base_uri": "https://localhost:8080/"
    },
    "id": "PlzRdrcbNMT7",
    "outputId": "2765f8e6-0ff5-40bf-dce5-64a1dbf435fe"
   },
   "outputs": [
    {
     "data": {
      "text/plain": [
       "27"
      ]
     },
     "execution_count": 167,
     "metadata": {},
     "output_type": "execute_result"
    }
   ],
   "source": [
    "tensor.size"
   ]
  },
  {
   "cell_type": "markdown",
   "metadata": {
    "id": "xVsyNisWNOql"
   },
   "source": [
    "Nos devuelve la multiplicación de las dimensiones (total de elementos)."
   ]
  },
  {
   "cell_type": "markdown",
   "metadata": {
    "id": "xbid7WSKNTcz"
   },
   "source": [
    "La representación `(3,3,3)` de un tensor la podemos interpretar como 3 filas, 3 columnas y 3 matrices de 3x3 \"superpuestas\" unas de otras.\n",
    "\n",
    "Por ejemplo, si en una matriz 3x3 podemos representar una imagen; entonces, en un tensor de 3x3x3 podemos representar un video de 3 fotogramas. De esta forma podríamos pensar en un tensor como **la evolución de una matriz en el tiempo**."
   ]
  },
  {
   "cell_type": "markdown",
   "metadata": {
    "id": "5ae0T_tkOIN5"
   },
   "source": [
    "![](https://i.postimg.cc/25f2FS5P/Capture.png)"
   ]
  },
  {
   "cell_type": "markdown",
   "metadata": {},
   "source": [
    "---"
   ]
  },
  {
   "cell_type": "markdown",
   "metadata": {
    "id": "TsTXWM8COtHC"
   },
   "source": [
    "### Transposición"
   ]
  },
  {
   "cell_type": "markdown",
   "metadata": {},
   "source": [
    "Cuando hablamos de la transposición de una matriz, nos referimos al proceso de \"voltear\" una matriz, es decir, intercambiar filas por columnas. En realidad es una operación muy sencilla de hacer, pero con un montón de aplicaciones importantes.\n",
    "\n",
    "Por ejemplo, si tenemos una matriz de $3 \\times 2$ y la transponemos, obtendremos una matriz $2 \\times 3$."
   ]
  },
  {
   "cell_type": "markdown",
   "metadata": {},
   "source": [
    "Podemos hacer un proceso similar con los vectores. Por ejemplo, si tenemos un vector fila y hacemos la transposición, entonces obtendremos un vector columna."
   ]
  },
  {
   "cell_type": "markdown",
   "metadata": {},
   "source": [
    "Al realizar la transposición, estamos haciendo una especie de \"espejo\" alrededor de la diagonal, por lo que **los elementos de la diagonal se mantienen iguales**."
   ]
  },
  {
   "cell_type": "markdown",
   "metadata": {},
   "source": [
    "![](https://i.postimg.cc/GtrCWCzN/Capture.png)"
   ]
  },
  {
   "cell_type": "code",
   "execution_count": 168,
   "metadata": {},
   "outputs": [],
   "source": [
    "import numpy as np\n",
    "scalar = 5.679\n",
    "row_vector = np.array([1,2,3])\n",
    "column_vector = np.array([[1],\n",
    "                          [2],\n",
    "                          [3]])\n",
    "matrix = np.array([[1,2,4],\n",
    "                   [2,3,4],\n",
    "                   [6,5,8]])\n",
    "tensor = np.array([\n",
    "                   [ [11,22,33],  [44,55,66],   [77,88,99]    ],\n",
    "                   [ [99,368,777],[666,555,444],[333,222,111] ],\n",
    "                   [ [13,297,306],[546,58,642],   [27,328,943]],\n",
    "                   [ [56,67,89],  [111,231,333],  [77,88,99]  ]\n",
    "])"
   ]
  },
  {
   "cell_type": "markdown",
   "metadata": {},
   "source": [
    "Para realizar una transposición utilizamos el atributo `.T` de los `narray`."
   ]
  },
  {
   "cell_type": "code",
   "execution_count": 169,
   "metadata": {},
   "outputs": [
    {
     "name": "stdout",
     "output_type": "stream",
     "text": [
      "Vector original:\n",
      "[1 2 3]\n",
      "Vector Transpuesto:\n",
      "[1 2 3]\n"
     ]
    }
   ],
   "source": [
    "T_row_vec = row_vector.T\n",
    "print(f'Vector original:\\n{row_vector}\\nVector Transpuesto:\\n{T_row_vec}')"
   ]
  },
  {
   "cell_type": "markdown",
   "metadata": {},
   "source": [
    "Podemos ver que en el caso del vector fila lo mantendrá igual, al menos de que realicemos operaciones con el."
   ]
  },
  {
   "cell_type": "code",
   "execution_count": 170,
   "metadata": {},
   "outputs": [
    {
     "name": "stdout",
     "output_type": "stream",
     "text": [
      "Vector original:\n",
      "[[1]\n",
      " [2]\n",
      " [3]]\n",
      "Vector Transpuesto:\n",
      "[[1 2 3]]\n"
     ]
    }
   ],
   "source": [
    "T_col_vec = column_vector.T\n",
    "print(f'Vector original:\\n{column_vector}\\nVector Transpuesto:\\n{T_col_vec}')"
   ]
  },
  {
   "cell_type": "markdown",
   "metadata": {},
   "source": [
    "en el caso del vector columna si vemos como lo pasa a un vector fila"
   ]
  },
  {
   "cell_type": "code",
   "execution_count": 171,
   "metadata": {},
   "outputs": [
    {
     "name": "stdout",
     "output_type": "stream",
     "text": [
      "Matriz original:\n",
      "[[1 2 4]\n",
      " [2 3 4]\n",
      " [6 5 8]]\n",
      "Matriz Transpuesta:\n",
      "[[1 2 6]\n",
      " [2 3 5]\n",
      " [4 4 8]]\n"
     ]
    }
   ],
   "source": [
    "T_matrix = matrix.T\n",
    "print(f'Matriz original:\\n{matrix}\\nMatriz Transpuesta:\\n{T_matrix}')"
   ]
  },
  {
   "cell_type": "markdown",
   "metadata": {},
   "source": [
    "Podemos ver como nuestras filas de la matriz original pasan a ser las nuevas columnas y viceversa con las columnas originales."
   ]
  },
  {
   "cell_type": "code",
   "execution_count": 172,
   "metadata": {},
   "outputs": [
    {
     "name": "stdout",
     "output_type": "stream",
     "text": [
      "Tensor original:\n",
      "[[[ 11  22  33]\n",
      "  [ 44  55  66]\n",
      "  [ 77  88  99]]\n",
      "\n",
      " [[ 99 368 777]\n",
      "  [666 555 444]\n",
      "  [333 222 111]]\n",
      "\n",
      " [[ 13 297 306]\n",
      "  [546  58 642]\n",
      "  [ 27 328 943]]\n",
      "\n",
      " [[ 56  67  89]\n",
      "  [111 231 333]\n",
      "  [ 77  88  99]]]\n",
      "\n",
      "Tensor Transpuesto:\n",
      "[[[ 11  99  13  56]\n",
      "  [ 44 666 546 111]\n",
      "  [ 77 333  27  77]]\n",
      "\n",
      " [[ 22 368 297  67]\n",
      "  [ 55 555  58 231]\n",
      "  [ 88 222 328  88]]\n",
      "\n",
      " [[ 33 777 306  89]\n",
      "  [ 66 444 642 333]\n",
      "  [ 99 111 943  99]]]\n"
     ]
    }
   ],
   "source": [
    "T_tensor = tensor.T\n",
    "print(f'Tensor original:\\n{tensor}\\n\\nTensor Transpuesto:\\n{T_tensor}')"
   ]
  },
  {
   "cell_type": "markdown",
   "metadata": {},
   "source": [
    "Recordemos que el Tensor es una generalización del mismo objeto matemático que la matriz, en este caso vamos a ir tomando elemento por elemento de la primera columna para formar la nueva fila y así hasta recorrerlas todas.\n",
    "\n",
    "En este caso en particular vemos como pasamos de tener \"4 matrices de 3x3 concatenadas\", a tener \"3 matrices de 4x3 concatenadas\"."
   ]
  },
  {
   "cell_type": "markdown",
   "metadata": {},
   "source": [
    "Si aplicamos 2 veces la transposición de una matriz, obtendremos la misma matriz."
   ]
  },
  {
   "cell_type": "markdown",
   "metadata": {},
   "source": [
    "$$(A^{T})^T = A$$"
   ]
  },
  {
   "cell_type": "code",
   "execution_count": 173,
   "metadata": {},
   "outputs": [
    {
     "name": "stdout",
     "output_type": "stream",
     "text": [
      "Matriz original:\n",
      "[[1 2 4]\n",
      " [2 3 4]\n",
      " [6 5 8]]\n",
      "Matriz doblemente Transpuesta:\n",
      "[[1 2 4]\n",
      " [2 3 4]\n",
      " [6 5 8]]\n"
     ]
    }
   ],
   "source": [
    "T_matrix = matrix.T\n",
    "T_T_matrix = T_matrix.T\n",
    "print(f'Matriz original:\\n{matrix}\\nMatriz doblemente Transpuesta:\\n{T_T_matrix}')"
   ]
  },
  {
   "cell_type": "markdown",
   "metadata": {},
   "source": [
    "Esto es de mucha ayuda en la resolución de ecuaciones."
   ]
  },
  {
   "cell_type": "markdown",
   "metadata": {},
   "source": [
    "---"
   ]
  },
  {
   "cell_type": "markdown",
   "metadata": {},
   "source": [
    "### Suma de matrices"
   ]
  },
  {
   "cell_type": "markdown",
   "metadata": {},
   "source": [
    "La suma de matrices está definida cuando los objetos tienen las mismas dimensiones, y para sumar (o restar) 2 matrices basta con sumar cada uno de los elementos con el mismo subíndice. De la siguiente forma:"
   ]
  },
  {
   "cell_type": "markdown",
   "metadata": {},
   "source": [
    "$$\\begin{align*}\n",
    "A + B =\n",
    "  \\left[\n",
    "    \\begin{array}{cccc}\n",
    "      a_{11} & a_{12} & \\ldots & a_{1n}\\\\\n",
    "      a_{21} & a_{22} & \\ldots & a_{2n}\\\\\n",
    "      \\vdots & \\vdots & \\ddots & \\vdots\\\\\n",
    "      a_{m1} & a_{m2} & \\ldots & a_{mn}\n",
    "    \\end{array}\n",
    "  \\right]\n",
    "  +\n",
    "    \\left[\n",
    "    \\begin{array}{cccc}\n",
    "      b_{11} & b_{12} & \\ldots & b_{1n}\\\\\n",
    "      b_{21} & b_{22} & \\ldots & b_{2n}\\\\\n",
    "      \\vdots & \\vdots & \\ddots & \\vdots\\\\\n",
    "      b_{m1} & b_{m2} & \\ldots & b_{mn}\n",
    "    \\end{array}\n",
    "  \\right]\n",
    "  =\n",
    "  \\left[\n",
    "    \\begin{array}{cccc}\n",
    "      a_{11} + b_{11}& a_{12}+ b_{12} & \\ldots & a_{1n} + b_{1n}\\\\\n",
    "      a_{21} + b_{21}& a_{22}+ b_{22} & \\ldots & a_{2n} + b_{2n}\\\\\n",
    "      \\vdots & \\vdots & \\ddots & \\vdots\\\\\n",
    "      a_{m1}+b_{m1} & a_{m2}+ b_{m2} & \\ldots & a_{mn} + b_{mn}\n",
    "    \\end{array}\n",
    "  \\right]\n",
    "\\end{align*}$$"
   ]
  },
  {
   "cell_type": "markdown",
   "metadata": {},
   "source": [
    "![](https://i.postimg.cc/x1Qz6JKy/Capture.png)"
   ]
  },
  {
   "cell_type": "code",
   "execution_count": 174,
   "metadata": {},
   "outputs": [],
   "source": [
    "A = np.array([[1,2,3],\n",
    "              [2,3,4],\n",
    "              [3,4,5]])"
   ]
  },
  {
   "cell_type": "code",
   "execution_count": 175,
   "metadata": {},
   "outputs": [],
   "source": [
    "B = np.array([[3,2,1],\n",
    "              [3,1,4],\n",
    "              [6,7,8]])"
   ]
  },
  {
   "cell_type": "code",
   "execution_count": 176,
   "metadata": {},
   "outputs": [
    {
     "name": "stdout",
     "output_type": "stream",
     "text": [
      "[[ 4  4  4]\n",
      " [ 5  4  8]\n",
      " [ 9 11 13]]\n"
     ]
    }
   ],
   "source": [
    "C = A + B\n",
    "print(C)"
   ]
  },
  {
   "cell_type": "code",
   "execution_count": 177,
   "metadata": {},
   "outputs": [
    {
     "name": "stdout",
     "output_type": "stream",
     "text": [
      "[[-2  0  2]\n",
      " [-1  2  0]\n",
      " [-3 -3 -3]]\n"
     ]
    }
   ],
   "source": [
    "D = A - B\n",
    "print(D)"
   ]
  },
  {
   "cell_type": "markdown",
   "metadata": {},
   "source": [
    "En el caso de sumar un escalar a nuestra matriz, entonces sumaríamos el escalar a cada elemento de la matriz:"
   ]
  },
  {
   "cell_type": "code",
   "execution_count": 178,
   "metadata": {},
   "outputs": [
    {
     "name": "stdout",
     "output_type": "stream",
     "text": [
      "Escalar:10\n",
      "A:\n",
      "[[1 2 3]\n",
      " [2 3 4]\n",
      " [3 4 5]]\n",
      "\n",
      "Escalar + A:\n",
      "[[11 12 13]\n",
      " [12 13 14]\n",
      " [13 14 15]]\n"
     ]
    }
   ],
   "source": [
    "E = 10 + A\n",
    "print(f'Escalar:{10}\\nA:\\n{A}\\n\\nEscalar + A:\\n{E}')"
   ]
  },
  {
   "cell_type": "markdown",
   "metadata": {},
   "source": [
    "Pasa exactamente lo mismo en el caso de la multiplicación (si ambas matrices son de las mismas dimensiones):"
   ]
  },
  {
   "cell_type": "code",
   "execution_count": 179,
   "metadata": {},
   "outputs": [
    {
     "name": "stdout",
     "output_type": "stream",
     "text": [
      "A:\n",
      "[[1 2 3]\n",
      " [2 3 4]\n",
      " [3 4 5]]\n",
      "B:\n",
      "[[3 2 1]\n",
      " [3 1 4]\n",
      " [6 7 8]]\n",
      "A*B:\n",
      "[[ 3  4  3]\n",
      " [ 6  3 16]\n",
      " [18 28 40]]\n"
     ]
    }
   ],
   "source": [
    "F = A * B\n",
    "print(f'A:\\n{A}\\nB:\\n{B}\\nA*B:\\n{F}')"
   ]
  },
  {
   "cell_type": "markdown",
   "metadata": {},
   "source": [
    "---"
   ]
  },
  {
   "cell_type": "markdown",
   "metadata": {},
   "source": [
    "### Suma de matrices y vectores con dimensiones distintas (broadcasting)"
   ]
  },
  {
   "cell_type": "markdown",
   "metadata": {},
   "source": [
    "El término *broadcasting* describe como *NumPy* trata a los arrays con diferentes dimensiones durante operaciones aritméticas. Sujeto a varias restricciones, se le aplica *broadcast* al array más pequeño a través del array más grande, de forma que terminen con dimensiones compatibles. \n",
    "\n",
    "El *broadcasting* nos provee de un medio para vectorizar operaciones con arrays, de forma que el bucle se produce en C en lugar de en Python. Esto lo hace sin hacer copias innecesarias de datos y usualmente, conduce a implementaciones eficientes de algoritmos. Sin embargo, existen casos en donde el *broadcasting* es una mala idea por qué podría conducir a ineficientes usos de memoria que podrían alentar el cómputo."
   ]
  },
  {
   "cell_type": "code",
   "execution_count": 180,
   "metadata": {},
   "outputs": [],
   "source": [
    "import numpy as np \n",
    "\n",
    "scalar = 5.679\n",
    "vector = np.array([3,4,5])\n",
    "matrix = np.array([[1,2],\n",
    "                   [3,4],\n",
    "                   [5,6]])"
   ]
  },
  {
   "cell_type": "markdown",
   "metadata": {},
   "source": [
    "Recordemos que cuando tratamos de sumar elementos de diferentes dimensiones no tenemos como tal una operación definida como en el caso siguiente:"
   ]
  },
  {
   "cell_type": "code",
   "execution_count": 181,
   "metadata": {},
   "outputs": [
    {
     "ename": "ValueError",
     "evalue": "operands could not be broadcast together with shapes (3,) (3,2) ",
     "output_type": "error",
     "traceback": [
      "\u001b[1;31m---------------------------------------------------------------------------\u001b[0m",
      "\u001b[1;31mValueError\u001b[0m                                Traceback (most recent call last)",
      "\u001b[1;32m<ipython-input-181-3dffef7fabd1>\u001b[0m in \u001b[0;36m<module>\u001b[1;34m\u001b[0m\n\u001b[1;32m----> 1\u001b[1;33m \u001b[0mA\u001b[0m \u001b[1;33m=\u001b[0m \u001b[0mvector\u001b[0m \u001b[1;33m+\u001b[0m \u001b[0mmatrix\u001b[0m\u001b[1;33m\u001b[0m\u001b[1;33m\u001b[0m\u001b[0m\n\u001b[0m",
      "\u001b[1;31mValueError\u001b[0m: operands could not be broadcast together with shapes (3,) (3,2) "
     ]
    }
   ],
   "source": [
    "A = vector + matrix"
   ]
  },
  {
   "cell_type": "markdown",
   "metadata": {},
   "source": [
    "esto ocurre por qué tenemos una matriz $3\\times 2$ tratando de sumarse con un vector fila $3\\times 1$. En este caso no coinciden las dimensiones.\n",
    "\n",
    "¿Qué pasaría si utilizamos la transposición de la matriz?"
   ]
  },
  {
   "cell_type": "code",
   "execution_count": 182,
   "metadata": {},
   "outputs": [
    {
     "name": "stdout",
     "output_type": "stream",
     "text": [
      "[[ 4  7 10]\n",
      " [ 5  8 11]]\n"
     ]
    }
   ],
   "source": [
    "T_matrix = matrix.T\n",
    "T_A = vector + T_matrix\n",
    "print(T_A)"
   ]
  },
  {
   "cell_type": "markdown",
   "metadata": {},
   "source": [
    "De esta forma no tenemos error ya que nuestra matriz pasa a ser una matriz $2\\times 3$ que sí se puede sumar con un vector $3 \\times 1$.\n",
    "\n",
    "Notemos como podemos realizar las operaciones cuando los números o dimensiones de en medio coinciden, en este casi el 3 con el : $2\\times 3 \\rightarrow 3 \\times 1$. De está forma lo que estamos haciendo es \"duplicar\" el vector fila, de manera que se sume en cada fila de la matriz."
   ]
  },
  {
   "cell_type": "markdown",
   "metadata": {},
   "source": [
    "![](https://miro.medium.com/max/2114/1*lY8Ve6Uz_bqVI5NPh5RPZA.png)"
   ]
  },
  {
   "cell_type": "markdown",
   "metadata": {},
   "source": [
    "Justo a esto es a lo que le llamamos **broadcasting**, estamos \"extendiendo\" la dimensión de menor tamaño para completar la de menor tamaño."
   ]
  },
  {
   "cell_type": "markdown",
   "metadata": {},
   "source": [
    "Internamente, Python hace **broadcasting** al sumar un escalar con una matriz, ya que está \"extendiendo\" dicho escalar para poder sumar cada elemento de la matriz."
   ]
  },
  {
   "cell_type": "markdown",
   "metadata": {},
   "source": [
    "De forma que la suma:"
   ]
  },
  {
   "cell_type": "code",
   "execution_count": 183,
   "metadata": {},
   "outputs": [
    {
     "name": "stdout",
     "output_type": "stream",
     "text": [
      "[[51 52]\n",
      " [53 54]\n",
      " [55 56]]\n"
     ]
    }
   ],
   "source": [
    "C = matrix + 50\n",
    "print(C)"
   ]
  },
  {
   "cell_type": "markdown",
   "metadata": {},
   "source": [
    "internamente es:"
   ]
  },
  {
   "cell_type": "code",
   "execution_count": 184,
   "metadata": {
    "scrolled": true
   },
   "outputs": [
    {
     "name": "stdout",
     "output_type": "stream",
     "text": [
      "[[51 52]\n",
      " [53 54]\n",
      " [55 56]]\n"
     ]
    }
   ],
   "source": [
    "C_Py = matrix + np.array([[50],[50],[50]])\n",
    "print(C_Py)"
   ]
  },
  {
   "cell_type": "markdown",
   "metadata": {},
   "source": [
    "---"
   ]
  },
  {
   "cell_type": "markdown",
   "metadata": {},
   "source": [
    "## Operaciones con matrices"
   ]
  },
  {
   "cell_type": "markdown",
   "metadata": {},
   "source": [
    "### Producto interno de matrices y  vectores"
   ]
  },
  {
   "cell_type": "markdown",
   "metadata": {},
   "source": [
    "Sea $V$ un espacio vectorial *sobre el cuerpo* $\\mathbb{R}$ *de los reales*. El **producto interno** o **producto escalar** definido sobre $V$ es una aplicación entre el conjunto de todos los pares de vectores $(u,v)$ y $\\mathbb{R}$, cuyo resultado es un número real denotado por $\\langle u, v \\rangle$, que satisface las siguientes propiedades para todo $u,v,w \\in V$ y todo escalar $\\alpha \\in \\mathbb{R}$."
   ]
  },
  {
   "cell_type": "markdown",
   "metadata": {},
   "source": [
    "$$\\tag{1} \\langle u,v \\rangle = \\langle v,u \\rangle$$"
   ]
  },
  {
   "cell_type": "markdown",
   "metadata": {},
   "source": [
    "$$\\tag{2} \\alpha \\langle u,v \\rangle = \\langle (\\alpha u),v \\rangle = \\langle u ,(\\alpha v) \\rangle$$"
   ]
  },
  {
   "cell_type": "markdown",
   "metadata": {},
   "source": [
    "$$\\tag{3} \\langle u+v , w \\rangle = \\langle u,w \\rangle +  \\langle v,w \\rangle $$"
   ]
  },
  {
   "cell_type": "markdown",
   "metadata": {},
   "source": [
    "$$\\tag{4} \\langle u , u \\rangle \\geq 0 $$"
   ]
  },
  {
   "cell_type": "markdown",
   "metadata": {},
   "source": [
    " $$\\tag{4.1}\\langle u , u \\rangle = 0 \\text{ si y sólo si } u= 0$$"
   ]
  },
  {
   "cell_type": "markdown",
   "metadata": {},
   "source": [
    "Al realizar la multiplicación de un vector por una matriz debemos de asegurarnos que sus dimensiones coincidan de la siguiente forma:\n"
   ]
  },
  {
   "cell_type": "markdown",
   "metadata": {},
   "source": [
    "$$(n\\times m)(m\\times l)$$"
   ]
  },
  {
   "cell_type": "markdown",
   "metadata": {},
   "source": [
    "Donde:\n",
    "    \n",
    "* $n$ es el número de filas de la matriz.\n",
    "* $m$ es el número de columnas de la matriz y debe coincidir con el número de filas del vector.\n",
    "* $l$ es el número de columnas del vector."
   ]
  },
  {
   "cell_type": "code",
   "execution_count": 185,
   "metadata": {},
   "outputs": [],
   "source": [
    "import numpy as np"
   ]
  },
  {
   "cell_type": "markdown",
   "metadata": {},
   "source": [
    "Vamos a escribir los elementos con los que vamos a estar trabajando:"
   ]
  },
  {
   "cell_type": "code",
   "execution_count": 186,
   "metadata": {},
   "outputs": [],
   "source": [
    "row_vector = np.array([-4,5,8])\n",
    "\n",
    "column_vector = np.array([[-6],\n",
    "                          [-2],\n",
    "                          [ 5]])\n",
    "matrix = np.array([[-3,5,-6],\n",
    "                   [7,10,-1]])\n",
    "\n",
    "matrix2 = np.array([[-2,10],\n",
    "                    [-1,-4],\n",
    "                    [7,9],])"
   ]
  },
  {
   "cell_type": "markdown",
   "metadata": {},
   "source": [
    "Vamos a ver la diferencia entre el **producto de un vector y una matriz** (según lo interpreta Python), con el **producto interno** de los mismos. El producto interno se aplica utilizando `.dot()`."
   ]
  },
  {
   "cell_type": "markdown",
   "metadata": {},
   "source": [
    "Primero veamos **como hace Python para interpretar** el caso del **producto de un vector y una matriz**, así sin más:"
   ]
  },
  {
   "cell_type": "code",
   "execution_count": 187,
   "metadata": {},
   "outputs": [
    {
     "name": "stdout",
     "output_type": "stream",
     "text": [
      "[[ 12  25 -48]\n",
      " [-28  50  -8]]\n"
     ]
    }
   ],
   "source": [
    "product = matrix * row_vector\n",
    "print(product)"
   ]
  },
  {
   "cell_type": "markdown",
   "metadata": {},
   "source": [
    "![](https://i.imgur.com/J1NHDXY.png)"
   ]
  },
  {
   "cell_type": "markdown",
   "metadata": {},
   "source": [
    "Si nosotros indicamos la multiplicación del vector por la matriz con el operador `*`, entonces Python realizará el calculo de arriba; el cual nos recordara al *broadcasting* del que hablamos anteriormente. Podemos imaginar este proceso como si estuviera \"replicando\" el vector fila, de manera que multiplique componente por componente."
   ]
  },
  {
   "cell_type": "code",
   "execution_count": 188,
   "metadata": {},
   "outputs": [
    {
     "name": "stdout",
     "output_type": "stream",
     "text": [
      "[[ 12  25 -48]\n",
      " [-28  50  -8]]\n"
     ]
    }
   ],
   "source": [
    "product =  row_vector * matrix \n",
    "print(product)"
   ]
  },
  {
   "cell_type": "markdown",
   "metadata": {},
   "source": [
    "en este caso, no tiene problema en multiplicar primero la matriz o el vector de esta forma."
   ]
  },
  {
   "cell_type": "markdown",
   "metadata": {},
   "source": [
    "Por el otro lado, si quisieramos aplicar el mismo producto con `*` y un **vector columna**, no encontraría compatibilidad con las dimensiones."
   ]
  },
  {
   "cell_type": "code",
   "execution_count": 189,
   "metadata": {},
   "outputs": [
    {
     "ename": "ValueError",
     "evalue": "operands could not be broadcast together with shapes (2,3) (3,1) ",
     "output_type": "error",
     "traceback": [
      "\u001b[1;31m---------------------------------------------------------------------------\u001b[0m",
      "\u001b[1;31mValueError\u001b[0m                                Traceback (most recent call last)",
      "\u001b[1;32m<ipython-input-189-25ced03fd7a5>\u001b[0m in \u001b[0;36m<module>\u001b[1;34m\u001b[0m\n\u001b[1;32m----> 1\u001b[1;33m \u001b[0mproduct\u001b[0m \u001b[1;33m=\u001b[0m \u001b[0mmatrix\u001b[0m \u001b[1;33m*\u001b[0m \u001b[0mcolumn_vector\u001b[0m\u001b[1;33m\u001b[0m\u001b[1;33m\u001b[0m\u001b[0m\n\u001b[0m\u001b[0;32m      2\u001b[0m \u001b[0mprint\u001b[0m\u001b[1;33m(\u001b[0m\u001b[0mproduct\u001b[0m\u001b[1;33m)\u001b[0m\u001b[1;33m\u001b[0m\u001b[1;33m\u001b[0m\u001b[0m\n",
      "\u001b[1;31mValueError\u001b[0m: operands could not be broadcast together with shapes (2,3) (3,1) "
     ]
    }
   ],
   "source": [
    "product = matrix * column_vector\n",
    "print(product)"
   ]
  },
  {
   "cell_type": "markdown",
   "metadata": {},
   "source": [
    "Ahora, hablemos sobre el **producto interior** o **producto punto** entre matriz y vector. Para realizar esto tendremos que asegurarnos de que se cumpla la condición de arriba: $(n\\times m)(m \\times l)$"
   ]
  },
  {
   "cell_type": "markdown",
   "metadata": {},
   "source": [
    "Comencemos con el producto de nuestro vector columna por nuestra matriz:"
   ]
  },
  {
   "cell_type": "code",
   "execution_count": 190,
   "metadata": {},
   "outputs": [
    {
     "name": "stdout",
     "output_type": "stream",
     "text": [
      "[[-22]\n",
      " [-67]]\n"
     ]
    }
   ],
   "source": [
    "dot_product_col = matrix.dot(column_vector)\n",
    "print(dot_product_col)"
   ]
  },
  {
   "cell_type": "markdown",
   "metadata": {},
   "source": [
    "En este caso tenemos una matriz de $(2\\times 3)$ y un vector columna de $(3\\times 1)$, por lo que las dimensiones coinciden y podemos realizar correctamente el producto de vector y matriz, el cual se realiza de la siguiente manera:"
   ]
  },
  {
   "cell_type": "markdown",
   "metadata": {},
   "source": [
    "![](https://i.imgur.com/Wo6XcCM.png)"
   ]
  },
  {
   "cell_type": "markdown",
   "metadata": {},
   "source": [
    "¿Qué pasaría si tratamos de realizar el producto del *vector por la matriz*, es decir, el orden inverso?"
   ]
  },
  {
   "cell_type": "code",
   "execution_count": 191,
   "metadata": {},
   "outputs": [
    {
     "ename": "ValueError",
     "evalue": "shapes (3,1) and (2,3) not aligned: 1 (dim 1) != 2 (dim 0)",
     "output_type": "error",
     "traceback": [
      "\u001b[1;31m---------------------------------------------------------------------------\u001b[0m",
      "\u001b[1;31mValueError\u001b[0m                                Traceback (most recent call last)",
      "\u001b[1;32m<ipython-input-191-a83a7dd1d6ce>\u001b[0m in \u001b[0;36m<module>\u001b[1;34m\u001b[0m\n\u001b[1;32m----> 1\u001b[1;33m \u001b[0mdot_product_col2\u001b[0m \u001b[1;33m=\u001b[0m \u001b[0mcolumn_vector\u001b[0m\u001b[1;33m.\u001b[0m\u001b[0mdot\u001b[0m\u001b[1;33m(\u001b[0m\u001b[0mmatrix\u001b[0m\u001b[1;33m)\u001b[0m\u001b[1;33m\u001b[0m\u001b[1;33m\u001b[0m\u001b[0m\n\u001b[0m\u001b[0;32m      2\u001b[0m \u001b[0mprint\u001b[0m\u001b[1;33m(\u001b[0m\u001b[0mdot_product_col2\u001b[0m\u001b[1;33m)\u001b[0m\u001b[1;33m\u001b[0m\u001b[1;33m\u001b[0m\u001b[0m\n",
      "\u001b[1;31mValueError\u001b[0m: shapes (3,1) and (2,3) not aligned: 1 (dim 1) != 2 (dim 0)"
     ]
    }
   ],
   "source": [
    "dot_product_col2 = column_vector.dot(matrix)\n",
    "print(dot_product_col2)"
   ]
  },
  {
   "cell_type": "markdown",
   "metadata": {},
   "source": [
    "Nos arroja un error, ya que las dimensiones no coinciden ya que tendriamos el caso $(3\\times 1)(2 \\times 3)$"
   ]
  },
  {
   "cell_type": "markdown",
   "metadata": {},
   "source": [
    "Para el caso del **vector fila** ocurre un caso similar, ya que si tratamos de hacer el producto de nuestra matriz por el **vector fila**, tendríamos incompatibilidad con el caso $(2\\times 3)(1 \\times 3)$.\n",
    "\n",
    "En este caso **Python sí lo puede realizar**, ya que utilizar un método como el *broadcasting*, **pero antes de revisarlo veamos como sería el caso con las dimensiones correctas**."
   ]
  },
  {
   "cell_type": "code",
   "execution_count": 192,
   "metadata": {},
   "outputs": [
    {
     "name": "stdout",
     "output_type": "stream",
     "text": [
      "Vector: [-4  5  8]\n",
      "Matriz:\n",
      " [[-2 10]\n",
      " [-1 -4]\n",
      " [ 7  9]]\n",
      "Product: [59 12]\n",
      "\n"
     ]
    }
   ],
   "source": [
    "dot_product_row = row_vector.dot(matrix2)\n",
    "print(f'Vector: {row_vector}\\nMatriz:\\n {matrix2}\\nProduct: {dot_product_row}\\n')"
   ]
  },
  {
   "cell_type": "markdown",
   "metadata": {},
   "source": [
    "> Notemos que estamos multiplicando vector por matriz, no matriz por vector"
   ]
  },
  {
   "cell_type": "markdown",
   "metadata": {},
   "source": [
    "![](https://i.imgur.com/pfOTMol.png)"
   ]
  },
  {
   "cell_type": "markdown",
   "metadata": {},
   "source": [
    "ahora sí, volvamos al caso donde tenemos diferentes dimensiones, pero Python encuentra el modo de hacerlo:"
   ]
  },
  {
   "cell_type": "code",
   "execution_count": 193,
   "metadata": {},
   "outputs": [
    {
     "name": "stdout",
     "output_type": "stream",
     "text": [
      "Matriz:\n",
      "[[-3  5 -6]\n",
      " [ 7 10 -1]]\n",
      "Vector:[-4  5  8]\n",
      "Shape:(2x3)(1x3)\n"
     ]
    }
   ],
   "source": [
    "print(f'Matriz:\\n{matrix}\\nVector:{row_vector}\\nShape:(2x3)(1x3)')"
   ]
  },
  {
   "cell_type": "code",
   "execution_count": 194,
   "metadata": {},
   "outputs": [
    {
     "name": "stdout",
     "output_type": "stream",
     "text": [
      "[-11  14]\n"
     ]
    }
   ],
   "source": [
    "strange_dot_product = matrix.dot(row_vector)\n",
    "print(strange_dot_product)"
   ]
  },
  {
   "cell_type": "markdown",
   "metadata": {},
   "source": [
    "En un inicio, las dimensiones no coincide. Así que Python opta por aplicar nuevamente el *broadcasting*."
   ]
  },
  {
   "cell_type": "markdown",
   "metadata": {},
   "source": [
    "![](https://i.postimg.cc/CKLw1SgV/Capture.png)"
   ]
  },
  {
   "cell_type": "markdown",
   "metadata": {},
   "source": [
    "---"
   ]
  },
  {
   "cell_type": "markdown",
   "metadata": {},
   "source": [
    "### Producto interno entre 2 matrices"
   ]
  },
  {
   "cell_type": "code",
   "execution_count": 195,
   "metadata": {},
   "outputs": [],
   "source": [
    "import numpy as np\n",
    "\n",
    "A = np.array([[1 ,2 ,3],\n",
    "              [4 ,5 ,6],\n",
    "              [7 ,8 ,9],\n",
    "              [10,11,12]])\n",
    "\n",
    "B = np.array([[2,3],\n",
    "              [5,7],\n",
    "              [11,13]])"
   ]
  },
  {
   "cell_type": "code",
   "execution_count": 196,
   "metadata": {},
   "outputs": [
    {
     "name": "stdout",
     "output_type": "stream",
     "text": [
      "Shape A: (4, 3)\n",
      "Shape B: (3, 2)\n"
     ]
    }
   ],
   "source": [
    " print(f'Shape A: {A.shape}\\nShape B: {B.shape}')"
   ]
  },
  {
   "cell_type": "markdown",
   "metadata": {},
   "source": [
    "Vamos a ver si están definidos los productos $A \\cdot B$ y $B \\cdot A$."
   ]
  },
  {
   "cell_type": "markdown",
   "metadata": {},
   "source": [
    "$A \\cdot B$ sí está definida, ya que coinciden los 3's y nos quedamos con un arreglo de $(4 \\times 2)$"
   ]
  },
  {
   "cell_type": "code",
   "execution_count": 197,
   "metadata": {},
   "outputs": [
    {
     "name": "stdout",
     "output_type": "stream",
     "text": [
      "A dot B:\n",
      "[[ 45  56]\n",
      " [ 99 125]\n",
      " [153 194]\n",
      " [207 263]]\n"
     ]
    }
   ],
   "source": [
    "A_dot_B = A.dot(B)\n",
    "print(f'A dot B:\\n{A_dot_B}')"
   ]
  },
  {
   "cell_type": "markdown",
   "metadata": {},
   "source": [
    "La operación que se realizó fue la siguiente:"
   ]
  },
  {
   "cell_type": "markdown",
   "metadata": {},
   "source": [
    "![](https://i.imgur.com/rQMLX0c.png)"
   ]
  },
  {
   "cell_type": "code",
   "execution_count": 198,
   "metadata": {},
   "outputs": [
    {
     "ename": "ValueError",
     "evalue": "shapes (3,2) and (4,3) not aligned: 2 (dim 1) != 4 (dim 0)",
     "output_type": "error",
     "traceback": [
      "\u001b[1;31m---------------------------------------------------------------------------\u001b[0m",
      "\u001b[1;31mValueError\u001b[0m                                Traceback (most recent call last)",
      "\u001b[1;32m<ipython-input-198-cde2c4350dce>\u001b[0m in \u001b[0;36m<module>\u001b[1;34m\u001b[0m\n\u001b[1;32m----> 1\u001b[1;33m \u001b[0mB_dot_A\u001b[0m \u001b[1;33m=\u001b[0m \u001b[0mB\u001b[0m\u001b[1;33m.\u001b[0m\u001b[0mdot\u001b[0m\u001b[1;33m(\u001b[0m\u001b[0mA\u001b[0m\u001b[1;33m)\u001b[0m\u001b[1;33m\u001b[0m\u001b[1;33m\u001b[0m\u001b[0m\n\u001b[0m\u001b[0;32m      2\u001b[0m \u001b[0mprint\u001b[0m\u001b[1;33m(\u001b[0m\u001b[1;34mf'A dot B:\\n{B_dot_A}'\u001b[0m\u001b[1;33m)\u001b[0m\u001b[1;33m\u001b[0m\u001b[1;33m\u001b[0m\u001b[0m\n",
      "\u001b[1;31mValueError\u001b[0m: shapes (3,2) and (4,3) not aligned: 2 (dim 1) != 4 (dim 0)"
     ]
    }
   ],
   "source": [
    "B_dot_A = B.dot(A)\n",
    "print(f'A dot B:\\n{B_dot_A}')"
   ]
  },
  {
   "cell_type": "markdown",
   "metadata": {},
   "source": [
    "en el caso de $B \\cdot A$ no está definida por la incompatibilidad de las dimensiones."
   ]
  },
  {
   "cell_type": "markdown",
   "metadata": {},
   "source": [
    "### Propiedades de las matrices"
   ]
  },
  {
   "cell_type": "markdown",
   "metadata": {},
   "source": [
    "#### Asociativa"
   ]
  },
  {
   "cell_type": "markdown",
   "metadata": {},
   "source": [
    "$$A \\times (B \\times C) = (A \\times B) \\times C$$"
   ]
  },
  {
   "cell_type": "markdown",
   "metadata": {},
   "source": [
    "#### Distributiva:"
   ]
  },
  {
   "cell_type": "markdown",
   "metadata": {},
   "source": [
    "$$ A \\times (B+C) = (A \\times B) + (A \\times C)$$"
   ]
  },
  {
   "cell_type": "markdown",
   "metadata": {},
   "source": [
    "#### Conmutativa:"
   ]
  },
  {
   "cell_type": "markdown",
   "metadata": {},
   "source": [
    "$$B \\times C = C \\times B$$"
   ]
  },
  {
   "cell_type": "markdown",
   "metadata": {},
   "source": [
    "Vamos a corroborar con código cuales de estas propiedades se cumplen para el producto interno de matrices y de vectores."
   ]
  },
  {
   "cell_type": "code",
   "execution_count": 2,
   "metadata": {},
   "outputs": [],
   "source": [
    "import numpy as np\n",
    "A = np.array([[2,3],[5,7],[11,13]])\n",
    "B = np.array([[1,3],[2,1]])\n",
    "C = np.array([[3,1],[4,2]])"
   ]
  },
  {
   "cell_type": "code",
   "execution_count": 3,
   "metadata": {},
   "outputs": [
    {
     "name": "stdout",
     "output_type": "stream",
     "text": [
      "A(BC):\n",
      "[[ 60  26]\n",
      " [145  63]\n",
      " [295 129]]\n",
      "(AB)C:\n",
      "[[ 60  26]\n",
      " [145  63]\n",
      " [295 129]]\n"
     ]
    }
   ],
   "source": [
    "# Asociativa\n",
    "A_BC = A.dot(B.dot(C))\n",
    "AB_C = (A.dot(B)).dot(C)\n",
    "print(f'A(BC):\\n{A_BC}\\n(AB)C:\\n{AB_C}')"
   ]
  },
  {
   "cell_type": "markdown",
   "metadata": {},
   "source": [
    "Se cumple la ASOCIATIVA"
   ]
  },
  {
   "cell_type": "code",
   "execution_count": 12,
   "metadata": {},
   "outputs": [
    {
     "name": "stdout",
     "output_type": "stream",
     "text": [
      "A*(B+C):\n",
      "[[ 26  17]\n",
      " [ 62  41]\n",
      " [122  83]]\n",
      "(AB)+(AC):\n",
      "[[ 26  17]\n",
      " [ 62  41]\n",
      " [122  83]]\n"
     ]
    }
   ],
   "source": [
    "# Distributiva\n",
    "A_Bpc = A.dot(B+C)\n",
    "AB_AC = A.dot(B)+ A.dot(C)\n",
    "print(f'A*(B+C):\\n{A_Bpc}\\n(AB)+(AC):\\n{AB_AC}')"
   ]
  },
  {
   "cell_type": "markdown",
   "metadata": {},
   "source": [
    "Se cumple la DISTRIBUTIVA "
   ]
  },
  {
   "cell_type": "code",
   "execution_count": 15,
   "metadata": {},
   "outputs": [
    {
     "name": "stdout",
     "output_type": "stream",
     "text": [
      "B*C:\n",
      "[[15  7]\n",
      " [10  4]]\n",
      "C*B:\n",
      "[[ 5 10]\n",
      " [ 8 14]]\n"
     ]
    }
   ],
   "source": [
    "# Conmutativa\n",
    "B_C = B.dot(C)\n",
    "C_B = C.dot(B)\n",
    "print(f'B*C:\\n{B_C}\\nC*B:\\n{C_B}')"
   ]
  },
  {
   "cell_type": "markdown",
   "metadata": {},
   "source": [
    "NO se cumple la CONMUTATIVA en la mayoría de los casos."
   ]
  },
  {
   "cell_type": "markdown",
   "metadata": {},
   "source": [
    "---"
   ]
  },
  {
   "cell_type": "markdown",
   "metadata": {},
   "source": [
    "### Conmutatividad en producto interno de vectores"
   ]
  },
  {
   "cell_type": "code",
   "execution_count": 6,
   "metadata": {},
   "outputs": [],
   "source": [
    "v1 = np.array([[2],[7]])\n",
    "v2 = np.array([[3],[5]])"
   ]
  },
  {
   "cell_type": "markdown",
   "metadata": {},
   "source": [
    "Debido a las dimensiones de nuestros vectores, tendremos que hacerlas coincidir con una transposición."
   ]
  },
  {
   "cell_type": "code",
   "execution_count": 13,
   "metadata": {},
   "outputs": [
    {
     "name": "stdout",
     "output_type": "stream",
     "text": [
      "[[41]]\n"
     ]
    }
   ],
   "source": [
    "v1T_dot_v2 = v1.T.dot(v2)\n",
    "print(v1T_dot_v2)"
   ]
  },
  {
   "cell_type": "code",
   "execution_count": 15,
   "metadata": {},
   "outputs": [
    {
     "name": "stdout",
     "output_type": "stream",
     "text": [
      "[[41]]\n"
     ]
    }
   ],
   "source": [
    "v2T_dot_v1 = v2.T.dot(v1)\n",
    "print(v2T_dot_v1)"
   ]
  },
  {
   "cell_type": "markdown",
   "metadata": {},
   "source": [
    "El resto de propiedades también se cumplen para el caso de los vectores."
   ]
  },
  {
   "cell_type": "markdown",
   "metadata": {},
   "source": [
    "---"
   ]
  },
  {
   "cell_type": "markdown",
   "metadata": {},
   "source": [
    "### Transposición del producto de matrices"
   ]
  },
  {
   "cell_type": "markdown",
   "metadata": {},
   "source": [
    "Tenemos una propiedad que nos indica lo siguiente."
   ]
  },
  {
   "cell_type": "markdown",
   "metadata": {},
   "source": [
    "$$\\begin{pmatrix}\n",
    "A \\cdot B\n",
    "\\end{pmatrix}^t = B^t \\cdot A^t $$"
   ]
  },
  {
   "cell_type": "markdown",
   "metadata": {},
   "source": [
    "y recordemos una propiedad que vimos anteriormente:"
   ]
  },
  {
   "cell_type": "markdown",
   "metadata": {},
   "source": [
    "$${{(A \\cdot B)}^{t}}^t = A \\cdot B $$"
   ]
  },
  {
   "cell_type": "markdown",
   "metadata": {},
   "source": [
    "donde indicamos la transposición de la matriz con la letra $t$."
   ]
  },
  {
   "cell_type": "markdown",
   "metadata": {},
   "source": [
    "Vamos a corroborar esa propiedad en código:"
   ]
  },
  {
   "cell_type": "code",
   "execution_count": 16,
   "metadata": {},
   "outputs": [],
   "source": [
    "import numpy as np"
   ]
  },
  {
   "cell_type": "code",
   "execution_count": 17,
   "metadata": {},
   "outputs": [],
   "source": [
    "A = np.array([[2,3], [5,7], [11,13]])\n",
    "B = np.array([[1,3], [2,1]])"
   ]
  },
  {
   "cell_type": "code",
   "execution_count": 28,
   "metadata": {},
   "outputs": [
    {
     "name": "stdout",
     "output_type": "stream",
     "text": [
      "A:\n",
      "[[ 2  3]\n",
      " [ 5  7]\n",
      " [11 13]]\n",
      "B:\n",
      "[[1 3]\n",
      " [2 1]]\n"
     ]
    }
   ],
   "source": [
    "print(f'A:\\n{A}\\nB:\\n{B}')"
   ]
  },
  {
   "cell_type": "code",
   "execution_count": 23,
   "metadata": {},
   "outputs": [
    {
     "name": "stdout",
     "output_type": "stream",
     "text": [
      "Matrices shapes \n",
      "A:(3, 2)\n",
      "B:(2, 2)\n"
     ]
    }
   ],
   "source": [
    "print(f'Matrices shapes \\nA:{A.shape}\\nB:{B.shape}')"
   ]
  },
  {
   "cell_type": "code",
   "execution_count": 26,
   "metadata": {},
   "outputs": [
    {
     "name": "stdout",
     "output_type": "stream",
     "text": [
      "A transpuesta:\n",
      "[[ 2  5 11]\n",
      " [ 3  7 13]]\n",
      "B transpuesta:\n",
      "[[1 2]\n",
      " [3 1]]\n"
     ]
    }
   ],
   "source": [
    "# Transpuestas\n",
    "A_t = A.T\n",
    "B_t = B.T\n",
    "print(f'A transpuesta:\\n{A_t}\\nB transpuesta:\\n{B_t}')"
   ]
  },
  {
   "cell_type": "code",
   "execution_count": 30,
   "metadata": {},
   "outputs": [
    {
     "name": "stdout",
     "output_type": "stream",
     "text": [
      "(AB) transpuesta:\n",
      "[[ 8 19 37]\n",
      " [ 9 22 46]]\n"
     ]
    }
   ],
   "source": [
    "AB_t = (A.dot(B)).T\n",
    "print(f'(AB) transpuesta:\\n{AB_t}')"
   ]
  },
  {
   "cell_type": "code",
   "execution_count": 33,
   "metadata": {},
   "outputs": [
    {
     "name": "stdout",
     "output_type": "stream",
     "text": [
      "B transpuesta por A transpuesta:\n",
      "[[ 8 19 37]\n",
      " [ 9 22 46]]\n"
     ]
    }
   ],
   "source": [
    "Bt_At = (B.T).dot(A.T)\n",
    "print(f'B transpuesta por A transpuesta:\\n{Bt_At}')"
   ]
  },
  {
   "cell_type": "code",
   "execution_count": 34,
   "metadata": {},
   "outputs": [
    {
     "name": "stdout",
     "output_type": "stream",
     "text": [
      "[[ True  True  True]\n",
      " [ True  True  True]]\n"
     ]
    }
   ],
   "source": [
    "print(AB_t == Bt_At)"
   ]
  },
  {
   "cell_type": "markdown",
   "metadata": {},
   "source": [
    "---"
   ]
  },
  {
   "cell_type": "markdown",
   "metadata": {},
   "source": [
    "### Cómo comprobar la solución de un sistema de ecuaciones lineales"
   ]
  },
  {
   "cell_type": "markdown",
   "metadata": {},
   "source": [
    "Recordemos algunas nociones básicas del álgebra lineal:"
   ]
  },
  {
   "cell_type": "markdown",
   "metadata": {},
   "source": [
    "#### Combinación lineal\n",
    "\n",
    "Es el vector que se obtiene al sumar una series de vectores multiplicados por escalares.\n",
    "\n",
    "Sean $v_1,v_2,...,v_n$ vectores en un espacio vectorial $V$. Entonces, cualquier vector de la forma:"
   ]
  },
  {
   "cell_type": "markdown",
   "metadata": {},
   "source": [
    "$$\\alpha_{1}v_{1}+\\alpha_{2}v_{2}+\\dots +\\alpha_{n}v_{n}$$"
   ]
  },
  {
   "cell_type": "markdown",
   "metadata": {},
   "source": [
    "donde $\\alpha_{i} v_{i}$ son escalares, se denomina **combinación lineal** de $v_1,v_2, v_n$."
   ]
  },
  {
   "cell_type": "markdown",
   "metadata": {},
   "source": [
    "Sea la combinación lineal de las variables $x_1, x_2, ..., x_n$ dada por la expresión:"
   ]
  },
  {
   "cell_type": "markdown",
   "metadata": {},
   "source": [
    "$$a_1x_1+a_2x_2+ \\dots + a_nx_n$$"
   ]
  },
  {
   "cell_type": "markdown",
   "metadata": {},
   "source": [
    "Los números reales $a_1,\\dots,a_n \\in \\mathbb{R}$, se denominan **coeficientes de la combinación**."
   ]
  },
  {
   "cell_type": "markdown",
   "metadata": {},
   "source": [
    "---"
   ]
  },
  {
   "cell_type": "markdown",
   "metadata": {},
   "source": [
    "#### Ecuación lineal"
   ]
  },
  {
   "cell_type": "markdown",
   "metadata": {},
   "source": [
    "Una **ecuación lineal** en las incógnitas o variables $x_1, \\dots, x_n$ es una expresión de la forma:"
   ]
  },
  {
   "cell_type": "markdown",
   "metadata": {},
   "source": [
    "$$a_1x_1+a_2x_2+ \\dots + a_nx_n = b$$"
   ]
  },
  {
   "cell_type": "markdown",
   "metadata": {},
   "source": [
    "donde $b \\in \\mathbb{R}$, se denomina **término constante**."
   ]
  },
  {
   "cell_type": "markdown",
   "metadata": {},
   "source": [
    "Una $n-$tupla $(s_1, \\dots, s_n)$es una **solución** de la ecuación lineal"
   ]
  },
  {
   "cell_type": "markdown",
   "metadata": {},
   "source": [
    "$$a_1x_1+a_2x_2+ \\dots + a_nx_n = b$$"
   ]
  },
  {
   "cell_type": "markdown",
   "metadata": {},
   "source": [
    "si, al sustituir las variables $x_1, x_2, \\dots, x_n$ por los números $s_1,\\dots,s_n$ se obtiene una identidad."
   ]
  },
  {
   "cell_type": "markdown",
   "metadata": {},
   "source": [
    "---"
   ]
  },
  {
   "cell_type": "markdown",
   "metadata": {},
   "source": [
    "#### Sistema de ecuaciones lineales"
   ]
  },
  {
   "cell_type": "markdown",
   "metadata": {},
   "source": [
    "Un **sistema de $m$ ecuaciones lineales** y $n$ **incógnitas**"
   ]
  },
  {
   "cell_type": "markdown",
   "metadata": {},
   "source": [
    "$$\\begin{cases} \n",
    "a_{11}x_1+a_{12}x_2+ &\\dots& + a_{1n}x_n = b_{1}  \\\\\n",
    "a_{21}x_1+a_{22}x_2+ &\\dots& + a_{2n}x_n = b_{2}  \\\\\n",
    "               &\\vdots& \\\\\n",
    "a_{m1}x_1+a_{m2}x_2+ &\\dots& + a_{mn}x_n = b_{m}  \\\\\n",
    "\\end{cases}$$"
   ]
  },
  {
   "cell_type": "markdown",
   "metadata": {},
   "source": [
    "tiene **solución** $(s_1, \\dots, s_n)$ si dicha $n-$tupla es una solución **de todas** las ecuaciones del sistema."
   ]
  },
  {
   "cell_type": "markdown",
   "metadata": {},
   "source": [
    "La solución de un sistema lineal no existe necesariamente, y si lo hace, no es necesariamente única."
   ]
  },
  {
   "cell_type": "markdown",
   "metadata": {},
   "source": [
    "Si un sistema de ecuaciones tiene solución o soluciones, se denomina **sistema compatible**; en caso contrario, diremos que es un **sistema incompatible**. Y al conjunto de todas las soluciones de un sistema de ecuaciones lineales dado se denomina **conjunto de soluciones**."
   ]
  },
  {
   "cell_type": "code",
   "execution_count": 37,
   "metadata": {},
   "outputs": [],
   "source": [
    "%matplotlib inline\n",
    "import numpy as np\n",
    "import matplotlib.pyplot as plt"
   ]
  },
  {
   "cell_type": "markdown",
   "metadata": {},
   "source": [
    "Supongamos que tenemos el siguiente sistema de ecuaciones:\n",
    "\n",
    "$$\\begin{cases} \n",
    "y = 3x + 5 \\\\\n",
    "y = 2x + 3\n",
    "\\end{cases}$$"
   ]
  },
  {
   "cell_type": "markdown",
   "metadata": {},
   "source": [
    "Recordemos que para graficar una función, tendremos que evaluarla a lo largo de diferentes puntos. Por lo que queremos obtener pequeños intervalos en donde vamos a obtener nuestra función evaluada, para hacerlo hagamos un arreglo como el siguiente:"
   ]
  },
  {
   "cell_type": "code",
   "execution_count": 49,
   "metadata": {},
   "outputs": [],
   "source": [
    "x = np.arange(-5, 5) # Intervalo de -5 a 5 de 1 en 1."
   ]
  },
  {
   "cell_type": "markdown",
   "metadata": {},
   "source": [
    "Ahora, vamos a escribir las ecuaciones que tenemos:"
   ]
  },
  {
   "cell_type": "code",
   "execution_count": 50,
   "metadata": {},
   "outputs": [],
   "source": [
    "y_1 = 3*x + 5"
   ]
  },
  {
   "cell_type": "code",
   "execution_count": 55,
   "metadata": {},
   "outputs": [],
   "source": [
    "y_2 = 2*x + 3"
   ]
  },
  {
   "cell_type": "markdown",
   "metadata": {},
   "source": [
    "Vamos a graficar:"
   ]
  },
  {
   "cell_type": "code",
   "execution_count": 65,
   "metadata": {},
   "outputs": [
    {
     "data": {
      "text/plain": [
       "(-5.0, 1.0)"
      ]
     },
     "execution_count": 65,
     "metadata": {},
     "output_type": "execute_result"
    },
    {
     "data": {
      "image/png": "[encoded data removed]",
      "text/plain": [
       "<Figure size 432x288 with 1 Axes>"
      ]
     },
     "metadata": {
      "needs_background": "light"
     },
     "output_type": "display_data"
    }
   ],
   "source": [
    "plt.figure() #Crea figura\n",
    "plt.axvline(x=0, color = 'black') # Eje X\n",
    "plt.axhline(y=0, color=  'black') # Eje Y\n",
    "plt.grid() # Cuadricula\n",
    "plt.plot(x, y_1) \n",
    "plt.plot(x, y_2)\n",
    "plt.ylim(-5, 5)\n",
    "plt.xlim(-5, 1)"
   ]
  },
  {
   "cell_type": "markdown",
   "metadata": {},
   "source": [
    "Podemos visualizar que las rectas se tocan en un punto, es decir, comparten un valor posible de $x$ que nos dá el mismo valor en $y$. Esto nos dice que existe una solución del sistema, ya que es solución de ambas ecuaciones."
   ]
  },
  {
   "cell_type": "markdown",
   "metadata": {},
   "source": [
    "Entonces, podemos proceder a realizar el despeje:"
   ]
  },
  {
   "cell_type": "markdown",
   "metadata": {},
   "source": [
    "$$\\begin{aligned}\n",
    "2x + 3 &= 3x+5 \\\\\n",
    "x &= -2\n",
    "\\end{aligned}$$"
   ]
  },
  {
   "cell_type": "markdown",
   "metadata": {},
   "source": [
    "$$\\begin{aligned}\n",
    "2x + 3    &= y \\\\\n",
    "2(-2) + 3 &= y \\\\\n",
    "-1        &= y\n",
    "\\end{aligned}$$"
   ]
  },
  {
   "cell_type": "markdown",
   "metadata": {},
   "source": [
    "$$P(-2,-1)$$"
   ]
  },
  {
   "cell_type": "markdown",
   "metadata": {},
   "source": [
    "pero aquí no estamos lidiando con álgebra \"común\", así que vamos a ver como podríamos representar este sistema de forma *matricial*. Para hacerlo, vamos a \"pasar\" todas las variables de un lado de la igualdad y las constantes del otro."
   ]
  },
  {
   "cell_type": "markdown",
   "metadata": {},
   "source": [
    "$$\\begin{cases} \n",
    "y = 3x + 5 \\\\\n",
    "y = 2x + 3\n",
    "\\end{cases}$$"
   ]
  },
  {
   "cell_type": "markdown",
   "metadata": {},
   "source": [
    "$$\\begin{cases} \n",
    "-3x + y = 5 \\\\\n",
    "-2x + y = 3\n",
    "\\end{cases}$$"
   ]
  },
  {
   "cell_type": "markdown",
   "metadata": {},
   "source": [
    "Ahora, vamos a \"extraer\" los coeficientes de nuestro sistema, de manera que tengamos una matriz (con los coeficientes) y un vector (con las variables). De forma que el sistema, se describa mediante el **producto interno** de una matriz y un vector."
   ]
  },
  {
   "cell_type": "markdown",
   "metadata": {},
   "source": [
    "$$\\begin{bmatrix}\n",
    "-3 & 1\\\\\n",
    "-2 & 1\n",
    "\\end{bmatrix} \n",
    "\\begin{bmatrix}\n",
    "x \\\\\n",
    "y \n",
    "\\end{bmatrix}\n",
    "=\n",
    "\\begin{bmatrix}\n",
    "5 \\\\\n",
    "3 \n",
    "\\end{bmatrix}\n",
    "$$"
   ]
  },
  {
   "cell_type": "markdown",
   "metadata": {},
   "source": [
    "Así que, ahora escribamos nuestro sistema en forma matricial a código:"
   ]
  },
  {
   "cell_type": "code",
   "execution_count": 73,
   "metadata": {},
   "outputs": [],
   "source": [
    "A = np.array([[-3, 1],\n",
    "              [-2, 1]])\n",
    "res_vec = np.array([[5],\n",
    "                    [3]])"
   ]
  },
  {
   "cell_type": "code",
   "execution_count": 74,
   "metadata": {},
   "outputs": [
    {
     "name": "stdout",
     "output_type": "stream",
     "text": [
      "[[5]\n",
      " [3]]\n"
     ]
    }
   ],
   "source": [
    "print(res_vec)"
   ]
  },
  {
   "cell_type": "markdown",
   "metadata": {},
   "source": [
    "vamos a comprobar la solución que obtuvimos arriba:"
   ]
  },
  {
   "cell_type": "code",
   "execution_count": 77,
   "metadata": {},
   "outputs": [],
   "source": [
    "sol_1 = np.array([[-2],[-1]])"
   ]
  },
  {
   "cell_type": "code",
   "execution_count": 78,
   "metadata": {},
   "outputs": [
    {
     "name": "stdout",
     "output_type": "stream",
     "text": [
      "[[5]\n",
      " [3]]\n"
     ]
    }
   ],
   "source": [
    "res = A.dot(sol_1)\n",
    "print(res)"
   ]
  },
  {
   "cell_type": "markdown",
   "metadata": {},
   "source": [
    "Si quisieramos encontrar la solución utilizando Python, haríamos lo siguiente:"
   ]
  },
  {
   "cell_type": "code",
   "execution_count": 82,
   "metadata": {},
   "outputs": [
    {
     "name": "stdout",
     "output_type": "stream",
     "text": [
      "[[-2.]\n",
      " [-1.]]\n"
     ]
    }
   ],
   "source": [
    "x = np.linalg.solve(A, res_vec)\n",
    "print(x)"
   ]
  },
  {
   "cell_type": "markdown",
   "metadata": {},
   "source": [
    "usamos el método `.solve()` y le pasamos la matrix coeficiente y despues los valores independientes."
   ]
  },
  {
   "cell_type": "code",
   "execution_count": 84,
   "metadata": {},
   "outputs": [
    {
     "name": "stdout",
     "output_type": "stream",
     "text": [
      "[[-2.]\n",
      " [-1.]]\n"
     ]
    }
   ],
   "source": [
    "import numpy as np\n",
    "\n",
    "A = np.array([[-3, 1],\n",
    "              [-2, 1]])\n",
    "\n",
    "res_vec = np.array([[5],\n",
    "                    [3]])\n",
    "\n",
    "x = np.linalg.solve(A, res_vec)\n",
    "print(x)"
   ]
  },
  {
   "cell_type": "markdown",
   "metadata": {},
   "source": [
    "---"
   ]
  },
  {
   "cell_type": "markdown",
   "metadata": {},
   "source": [
    "### Tipos especiales de matrices: Identidad, Inversa y Singular"
   ]
  },
  {
   "cell_type": "markdown",
   "metadata": {},
   "source": [
    "#### Matriz Identidad"
   ]
  },
  {
   "cell_type": "markdown",
   "metadata": {},
   "source": [
    "La **matriz identidad** es una matriz que cumple la propiedad de ser el elemento neutro del producto de matrices. Esto quiere decir que el producto de cualquier matriz por la matriz identidad (mientras esté definido) no tiene ningún efecto y nos devuelve la matriz original. La columna $i-$ésima de una matriz identidad es el **vector unitario** $e_i$ de una base vectorial inmersa en un espacio Euclídeo de dimensión $n$."
   ]
  },
  {
   "cell_type": "code",
   "execution_count": 85,
   "metadata": {},
   "outputs": [],
   "source": [
    "import numpy as np"
   ]
  },
  {
   "cell_type": "markdown",
   "metadata": {},
   "source": [
    "En NumPy basta con escribir la instrucción `.eye()` e indicarle las dimensiones que queremos que tenga nuestra matriz identidad o los cuántos elementos tendrá la diagonal."
   ]
  },
  {
   "cell_type": "code",
   "execution_count": 90,
   "metadata": {},
   "outputs": [
    {
     "name": "stdout",
     "output_type": "stream",
     "text": [
      "[[1. 0.]\n",
      " [0. 1.]]\n"
     ]
    }
   ],
   "source": [
    "identity = np.eye(2)\n",
    "print(identity)"
   ]
  },
  {
   "cell_type": "code",
   "execution_count": 96,
   "metadata": {},
   "outputs": [
    {
     "name": "stdout",
     "output_type": "stream",
     "text": [
      "[[1. 0. 0. 0.]\n",
      " [0. 1. 0. 0.]\n",
      " [0. 0. 1. 0.]\n",
      " [0. 0. 0. 1.]]\n"
     ]
    }
   ],
   "source": [
    "identity = np.eye(4)\n",
    "print(identity)"
   ]
  },
  {
   "cell_type": "markdown",
   "metadata": {},
   "source": [
    "notemos que todos los elementos están definidos como `floats`."
   ]
  },
  {
   "cell_type": "markdown",
   "metadata": {},
   "source": [
    "Vamos a verificar cuál es el efecto de esta matriz:"
   ]
  },
  {
   "cell_type": "code",
   "execution_count": 97,
   "metadata": {},
   "outputs": [],
   "source": [
    "identity = np.eye(3)\n",
    "\n",
    "vector = np.array([[1],\n",
    "                   [2],\n",
    "                   [3]])"
   ]
  },
  {
   "cell_type": "code",
   "execution_count": 101,
   "metadata": {},
   "outputs": [
    {
     "name": "stdout",
     "output_type": "stream",
     "text": [
      "[[1.]\n",
      " [2.]\n",
      " [3.]]\n"
     ]
    }
   ],
   "source": [
    "product = identity.dot(vector)\n",
    "print(product)"
   ]
  },
  {
   "cell_type": "code",
   "execution_count": 104,
   "metadata": {},
   "outputs": [],
   "source": [
    "identity = np.eye(4)\n",
    "\n",
    "matrix = np.array([[1,2,3,4],\n",
    "                   [5,6,7,8],\n",
    "                   [9,10,11,12],\n",
    "                   [13,14,15,16]])"
   ]
  },
  {
   "cell_type": "code",
   "execution_count": 105,
   "metadata": {},
   "outputs": [
    {
     "name": "stdout",
     "output_type": "stream",
     "text": [
      "[[ 1.  2.  3.  4.]\n",
      " [ 5.  6.  7.  8.]\n",
      " [ 9. 10. 11. 12.]\n",
      " [13. 14. 15. 16.]]\n"
     ]
    }
   ],
   "source": [
    "product2 = identity.dot(matrix)\n",
    "print(product2)"
   ]
  },
  {
   "cell_type": "markdown",
   "metadata": {},
   "source": [
    "Decimos que la **matriz identidad** no transforma el espacio."
   ]
  },
  {
   "cell_type": "markdown",
   "metadata": {},
   "source": [
    "---"
   ]
  },
  {
   "cell_type": "markdown",
   "metadata": {},
   "source": [
    "#### Matriz Inversa"
   ]
  },
  {
   "cell_type": "markdown",
   "metadata": {},
   "source": [
    "La **matriz inversa** es la transformación lineal de una matriz mediante la multiplicación del inverso del determinante de la matriz por la matriz adjunta transpuesta. Es decir, es la multiplicación del *inverso del determinante* por la matriz adjunta traspuesta."
   ]
  },
  {
   "cell_type": "markdown",
   "metadata": {},
   "source": [
    "Y se cumple que el producto de una matriz por su inversa, es igual a la matriz identidad."
   ]
  },
  {
   "cell_type": "markdown",
   "metadata": {},
   "source": [
    "$$A \\cdot A^{-1} =  A^{-1} \\cdot A =I $$"
   ]
  },
  {
   "cell_type": "markdown",
   "metadata": {},
   "source": [
    "La matriz inversa se puede calcular por el **método de Gauss** o por el **método de determinantes**. Para hacerlo en Python tenemos la instrucción `.linalg.inv()`."
   ]
  },
  {
   "cell_type": "code",
   "execution_count": 108,
   "metadata": {},
   "outputs": [
    {
     "name": "stdout",
     "output_type": "stream",
     "text": [
      "[[ 1  0  1]\n",
      " [ 0  1  1]\n",
      " [-1  1  1]]\n"
     ]
    }
   ],
   "source": [
    "A = np.array([[1,0,1],[0,1,1],[-1,1,1]])\n",
    "print(A)"
   ]
  },
  {
   "cell_type": "code",
   "execution_count": 110,
   "metadata": {},
   "outputs": [
    {
     "name": "stdout",
     "output_type": "stream",
     "text": [
      "[[ 0.  1. -1.]\n",
      " [-1.  2. -1.]\n",
      " [ 1. -1.  1.]]\n"
     ]
    }
   ],
   "source": [
    "A_inverse = np.linalg.inv(A)\n",
    "print(A_inverse)"
   ]
  },
  {
   "cell_type": "markdown",
   "metadata": {},
   "source": [
    "Verifiquemos que obtendríamos la matriz identidad al realizar el producto interno de estas matrices:"
   ]
  },
  {
   "cell_type": "code",
   "execution_count": 112,
   "metadata": {},
   "outputs": [
    {
     "name": "stdout",
     "output_type": "stream",
     "text": [
      "[[1. 0. 0.]\n",
      " [0. 1. 0.]\n",
      " [0. 0. 1.]]\n"
     ]
    }
   ],
   "source": [
    "ident = A.dot(A_inverse)\n",
    "print(ident)"
   ]
  },
  {
   "cell_type": "code",
   "execution_count": 113,
   "metadata": {},
   "outputs": [
    {
     "name": "stdout",
     "output_type": "stream",
     "text": [
      "[[1. 0. 0.]\n",
      " [0. 1. 0.]\n",
      " [0. 0. 1.]]\n"
     ]
    }
   ],
   "source": [
    "ident2 = A_inverse.dot(A)\n",
    "print(ident2)"
   ]
  },
  {
   "cell_type": "markdown",
   "metadata": {},
   "source": [
    "---"
   ]
  },
  {
   "cell_type": "markdown",
   "metadata": {},
   "source": [
    "#### Matriz Singular"
   ]
  },
  {
   "cell_type": "markdown",
   "metadata": {},
   "source": [
    "Recordemos que no siempre existe esta matriz inversa. **Cuando la matriz NO tiene inversa, la llamamos singular**. La definimos de la siguiente forma."
   ]
  },
  {
   "cell_type": "markdown",
   "metadata": {},
   "source": [
    "La **matriz singular** es la *matriz cuadrada* de orden $N$, cuyo **determinante es nulo** $(=0)$."
   ]
  },
  {
   "cell_type": "markdown",
   "metadata": {},
   "source": [
    "La siguiente matriz sería un caso de matriz singular:"
   ]
  },
  {
   "cell_type": "code",
   "execution_count": 115,
   "metadata": {},
   "outputs": [
    {
     "name": "stdout",
     "output_type": "stream",
     "text": [
      "[[1 1]\n",
      " [1 1]]\n"
     ]
    }
   ],
   "source": [
    "singular = np.array([[1,1],[1,1]])\n",
    "print(singular)"
   ]
  },
  {
   "cell_type": "code",
   "execution_count": 116,
   "metadata": {},
   "outputs": [
    {
     "ename": "LinAlgError",
     "evalue": "Singular matrix",
     "output_type": "error",
     "traceback": [
      "\u001b[1;31m---------------------------------------------------------------------------\u001b[0m",
      "\u001b[1;31mLinAlgError\u001b[0m                               Traceback (most recent call last)",
      "\u001b[1;32m<ipython-input-116-2285bd57e24f>\u001b[0m in \u001b[0;36m<module>\u001b[1;34m\u001b[0m\n\u001b[1;32m----> 1\u001b[1;33m \u001b[0mnp\u001b[0m\u001b[1;33m.\u001b[0m\u001b[0mlinalg\u001b[0m\u001b[1;33m.\u001b[0m\u001b[0minv\u001b[0m\u001b[1;33m(\u001b[0m\u001b[0msingular\u001b[0m\u001b[1;33m)\u001b[0m\u001b[1;33m\u001b[0m\u001b[1;33m\u001b[0m\u001b[0m\n\u001b[0m",
      "\u001b[1;32m<__array_function__ internals>\u001b[0m in \u001b[0;36minv\u001b[1;34m(*args, **kwargs)\u001b[0m\n",
      "\u001b[1;32m~\\anaconda3\\lib\\site-packages\\numpy\\linalg\\linalg.py\u001b[0m in \u001b[0;36minv\u001b[1;34m(a)\u001b[0m\n\u001b[0;32m    543\u001b[0m     \u001b[0msignature\u001b[0m \u001b[1;33m=\u001b[0m \u001b[1;34m'D->D'\u001b[0m \u001b[1;32mif\u001b[0m \u001b[0misComplexType\u001b[0m\u001b[1;33m(\u001b[0m\u001b[0mt\u001b[0m\u001b[1;33m)\u001b[0m \u001b[1;32melse\u001b[0m \u001b[1;34m'd->d'\u001b[0m\u001b[1;33m\u001b[0m\u001b[1;33m\u001b[0m\u001b[0m\n\u001b[0;32m    544\u001b[0m     \u001b[0mextobj\u001b[0m \u001b[1;33m=\u001b[0m \u001b[0mget_linalg_error_extobj\u001b[0m\u001b[1;33m(\u001b[0m\u001b[0m_raise_linalgerror_singular\u001b[0m\u001b[1;33m)\u001b[0m\u001b[1;33m\u001b[0m\u001b[1;33m\u001b[0m\u001b[0m\n\u001b[1;32m--> 545\u001b[1;33m     \u001b[0mainv\u001b[0m \u001b[1;33m=\u001b[0m \u001b[0m_umath_linalg\u001b[0m\u001b[1;33m.\u001b[0m\u001b[0minv\u001b[0m\u001b[1;33m(\u001b[0m\u001b[0ma\u001b[0m\u001b[1;33m,\u001b[0m \u001b[0msignature\u001b[0m\u001b[1;33m=\u001b[0m\u001b[0msignature\u001b[0m\u001b[1;33m,\u001b[0m \u001b[0mextobj\u001b[0m\u001b[1;33m=\u001b[0m\u001b[0mextobj\u001b[0m\u001b[1;33m)\u001b[0m\u001b[1;33m\u001b[0m\u001b[1;33m\u001b[0m\u001b[0m\n\u001b[0m\u001b[0;32m    546\u001b[0m     \u001b[1;32mreturn\u001b[0m \u001b[0mwrap\u001b[0m\u001b[1;33m(\u001b[0m\u001b[0mainv\u001b[0m\u001b[1;33m.\u001b[0m\u001b[0mastype\u001b[0m\u001b[1;33m(\u001b[0m\u001b[0mresult_t\u001b[0m\u001b[1;33m,\u001b[0m \u001b[0mcopy\u001b[0m\u001b[1;33m=\u001b[0m\u001b[1;32mFalse\u001b[0m\u001b[1;33m)\u001b[0m\u001b[1;33m)\u001b[0m\u001b[1;33m\u001b[0m\u001b[1;33m\u001b[0m\u001b[0m\n\u001b[0;32m    547\u001b[0m \u001b[1;33m\u001b[0m\u001b[0m\n",
      "\u001b[1;32m~\\anaconda3\\lib\\site-packages\\numpy\\linalg\\linalg.py\u001b[0m in \u001b[0;36m_raise_linalgerror_singular\u001b[1;34m(err, flag)\u001b[0m\n\u001b[0;32m     86\u001b[0m \u001b[1;33m\u001b[0m\u001b[0m\n\u001b[0;32m     87\u001b[0m \u001b[1;32mdef\u001b[0m \u001b[0m_raise_linalgerror_singular\u001b[0m\u001b[1;33m(\u001b[0m\u001b[0merr\u001b[0m\u001b[1;33m,\u001b[0m \u001b[0mflag\u001b[0m\u001b[1;33m)\u001b[0m\u001b[1;33m:\u001b[0m\u001b[1;33m\u001b[0m\u001b[1;33m\u001b[0m\u001b[0m\n\u001b[1;32m---> 88\u001b[1;33m     \u001b[1;32mraise\u001b[0m \u001b[0mLinAlgError\u001b[0m\u001b[1;33m(\u001b[0m\u001b[1;34m\"Singular matrix\"\u001b[0m\u001b[1;33m)\u001b[0m\u001b[1;33m\u001b[0m\u001b[1;33m\u001b[0m\u001b[0m\n\u001b[0m\u001b[0;32m     89\u001b[0m \u001b[1;33m\u001b[0m\u001b[0m\n\u001b[0;32m     90\u001b[0m \u001b[1;32mdef\u001b[0m \u001b[0m_raise_linalgerror_nonposdef\u001b[0m\u001b[1;33m(\u001b[0m\u001b[0merr\u001b[0m\u001b[1;33m,\u001b[0m \u001b[0mflag\u001b[0m\u001b[1;33m)\u001b[0m\u001b[1;33m:\u001b[0m\u001b[1;33m\u001b[0m\u001b[1;33m\u001b[0m\u001b[0m\n",
      "\u001b[1;31mLinAlgError\u001b[0m: Singular matrix"
     ]
    }
   ],
   "source": [
    "np.linalg.inv(singular)"
   ]
  },
  {
   "cell_type": "markdown",
   "metadata": {},
   "source": [
    "Vemos que nos arroja el error `LinAlgError: Singular matrix`."
   ]
  },
  {
   "cell_type": "markdown",
   "metadata": {},
   "source": [
    "> NOTA: No podríamos intentar esto con matrices que no sean cuadradas $(m \\times m)$."
   ]
  },
  {
   "cell_type": "markdown",
   "metadata": {},
   "source": [
    "---"
   ]
  },
  {
   "cell_type": "markdown",
   "metadata": {},
   "source": [
    "### Utilizando la Inversa de una matriz para resolver un sistema de ecuaciones"
   ]
  },
  {
   "cell_type": "markdown",
   "metadata": {},
   "source": [
    "Supongamos que tenemos el siguiente sistema:"
   ]
  },
  {
   "cell_type": "markdown",
   "metadata": {},
   "source": [
    "$$\\begin{cases} \n",
    "3x + y = 1 \\\\\n",
    "2x + y = 1\n",
    "\\end{cases}$$"
   ]
  },
  {
   "cell_type": "markdown",
   "metadata": {},
   "source": [
    "y en forma matricial:"
   ]
  },
  {
   "cell_type": "markdown",
   "metadata": {},
   "source": [
    "$$\\begin{bmatrix}\n",
    "3 & 1\\\\\n",
    "2 & 1\n",
    "\\end{bmatrix} \n",
    "\\begin{bmatrix}\n",
    "x \\\\\n",
    "y \n",
    "\\end{bmatrix}\n",
    "=\n",
    "\\begin{bmatrix}\n",
    "1 \\\\\n",
    "1 \n",
    "\\end{bmatrix}\n",
    "$$"
   ]
  },
  {
   "cell_type": "code",
   "execution_count": 1,
   "metadata": {},
   "outputs": [],
   "source": [
    "import numpy as np"
   ]
  },
  {
   "cell_type": "markdown",
   "metadata": {},
   "source": [
    "Podemos pedirle a NumPy que nos muestre los resultados que están muy proximos a 0, como si fueran 0."
   ]
  },
  {
   "cell_type": "code",
   "execution_count": 2,
   "metadata": {},
   "outputs": [],
   "source": [
    "np.set_printoptions(suppress = True)"
   ]
  },
  {
   "cell_type": "code",
   "execution_count": 3,
   "metadata": {},
   "outputs": [
    {
     "name": "stdout",
     "output_type": "stream",
     "text": [
      "[[3 1]\n",
      " [2 1]]\n"
     ]
    }
   ],
   "source": [
    "A = np.array([[3,1],\n",
    "              [2,1]])\n",
    "print(A)"
   ]
  },
  {
   "cell_type": "code",
   "execution_count": 4,
   "metadata": {},
   "outputs": [
    {
     "name": "stdout",
     "output_type": "stream",
     "text": [
      "[[1]\n",
      " [1]]\n"
     ]
    }
   ],
   "source": [
    "b = np.array([[1],\n",
    "              [1]])\n",
    "print(b)"
   ]
  },
  {
   "cell_type": "markdown",
   "metadata": {},
   "source": [
    "Lo que tendríamos que hacer para \"despejar\" a $A$  sería encontrar la inversa de la misma."
   ]
  },
  {
   "cell_type": "code",
   "execution_count": 5,
   "metadata": {},
   "outputs": [
    {
     "name": "stdout",
     "output_type": "stream",
     "text": [
      "[[ 1. -1.]\n",
      " [-2.  3.]]\n"
     ]
    }
   ],
   "source": [
    "A_inv = np.linalg.inv(A)\n",
    "print(A_inv)"
   ]
  },
  {
   "cell_type": "markdown",
   "metadata": {},
   "source": [
    "Ahora, vamos a calcular nuestro $x$ (el vector de variables)."
   ]
  },
  {
   "cell_type": "code",
   "execution_count": 6,
   "metadata": {},
   "outputs": [
    {
     "name": "stdout",
     "output_type": "stream",
     "text": [
      "[[0.]\n",
      " [1.]]\n"
     ]
    }
   ],
   "source": [
    "x = A_inv.dot(b)\n",
    "print(x)"
   ]
  },
  {
   "cell_type": "markdown",
   "metadata": {},
   "source": [
    "Vamor a verificarlo:"
   ]
  },
  {
   "cell_type": "code",
   "execution_count": 7,
   "metadata": {},
   "outputs": [
    {
     "name": "stdout",
     "output_type": "stream",
     "text": [
      "[[1.]\n",
      " [1.]]\n"
     ]
    }
   ],
   "source": [
    "A_dot_x = A.dot(x)\n",
    "print(A_dot_x)"
   ]
  },
  {
   "cell_type": "markdown",
   "metadata": {},
   "source": [
    "Y como vemos, sí obtenemos el vector `[1 1]`."
   ]
  },
  {
   "cell_type": "markdown",
   "metadata": {},
   "source": [
    "De hecho, podríamos utilizar la misma matriz inversa de $A$ para encontrar otro sistema con la misma matriz de coeficientes, pero que esté igualada a otra matriz $b$ diferente.\n",
    "\n",
    "Por ejemplo, probemos con el sistema:"
   ]
  },
  {
   "cell_type": "markdown",
   "metadata": {},
   "source": [
    "$$\\begin{cases} \n",
    "3x + y = 3 \\\\\n",
    "2x + y = 7\n",
    "\\end{cases}$$"
   ]
  },
  {
   "cell_type": "markdown",
   "metadata": {},
   "source": [
    "$$\\begin{bmatrix}\n",
    "3 & 1\\\\\n",
    "2 & 1\n",
    "\\end{bmatrix} \n",
    "\\begin{bmatrix}\n",
    "x \\\\\n",
    "y \n",
    "\\end{bmatrix}\n",
    "=\n",
    "\\begin{bmatrix}\n",
    "3 \\\\\n",
    "7 \n",
    "\\end{bmatrix}\n",
    "$$"
   ]
  },
  {
   "cell_type": "markdown",
   "metadata": {},
   "source": [
    "utilizando la misma inversa:"
   ]
  },
  {
   "cell_type": "code",
   "execution_count": 8,
   "metadata": {},
   "outputs": [
    {
     "name": "stdout",
     "output_type": "stream",
     "text": [
      "[[-4.]\n",
      " [15.]]\n"
     ]
    }
   ],
   "source": [
    "sol_2 = A_inv.dot(np.array([[3],[7]]))\n",
    "print(sol_2)"
   ]
  },
  {
   "cell_type": "markdown",
   "metadata": {},
   "source": [
    "vamos a verificar si es una solución:"
   ]
  },
  {
   "cell_type": "code",
   "execution_count": 9,
   "metadata": {},
   "outputs": [
    {
     "name": "stdout",
     "output_type": "stream",
     "text": [
      "[[3.]\n",
      " [7.]]\n"
     ]
    }
   ],
   "source": [
    "print(A.dot(sol_2))"
   ]
  },
  {
   "cell_type": "markdown",
   "metadata": {},
   "source": [
    "Como vemos, calculando la inversa podemos calcular la solución de otro sistema de ecuaciones igualado a matrices $b$ distintas. Esto es lo que habitualmente hacemos al resolver un **sistema de ecuaciones homógeneo** y después, calculamos una **solución particular**."
   ]
  },
  {
   "cell_type": "markdown",
   "metadata": {},
   "source": [
    "---"
   ]
  },
  {
   "cell_type": "markdown",
   "metadata": {},
   "source": [
    "## Sistemas de ecuaciones lineales"
   ]
  },
  {
   "cell_type": "markdown",
   "metadata": {},
   "source": [
    "### Ejemplos de sistemas sin solución, con una solución y con infinitas soluciones"
   ]
  },
  {
   "cell_type": "markdown",
   "metadata": {},
   "source": [
    "Un sistema es:\n",
    "\n",
    "\n",
    "* **COMPATIBLE** si tiene alguna tupla solución (colección finita y ordenada de elementos, $(a_1,\\dots,a_n)$ en un cuerpo $k$)\n",
    "\n",
    "    * **COMPATIBLE DETERMINADO** si tiene una *única* tupla solución.\n",
    "\n",
    "    * **COMPATIBLE INDETERMINADO** si tiene *más de una* tupla solución\n",
    "\n",
    "* **INCOMPATIBLE** si no tiene ninguna tupla o vector solución."
   ]
  },
  {
   "cell_type": "code",
   "execution_count": 12,
   "metadata": {},
   "outputs": [],
   "source": [
    "#Queremos los graficos de forma interctiva debajo de cada celda\n",
    "%matplotlib notebook \n",
    "\n",
    "import numpy as np\n",
    "import matplotlib.pyplot as plt"
   ]
  },
  {
   "cell_type": "markdown",
   "metadata": {},
   "source": [
    "#### Sistema Incompatible (sin soluciones)"
   ]
  },
  {
   "cell_type": "markdown",
   "metadata": {},
   "source": [
    "Supongamos que tenemos el siguiente sistema de ecuaciones:"
   ]
  },
  {
   "cell_type": "markdown",
   "metadata": {},
   "source": [
    "$$\\begin{cases} \n",
    "y = 3x  + 5 \\\\\n",
    "y = -1x + 3 \\\\\n",
    "y = 2x  + 1\n",
    "\\end{cases}$$"
   ]
  },
  {
   "cell_type": "markdown",
   "metadata": {},
   "source": [
    "Vamos a crear el rango de valores de $x$ para evaluar las ecuaciones:"
   ]
  },
  {
   "cell_type": "code",
   "execution_count": 22,
   "metadata": {},
   "outputs": [],
   "source": [
    "x = np.arange(-10,10)"
   ]
  },
  {
   "cell_type": "markdown",
   "metadata": {},
   "source": [
    "Escribimos las ecuaciones:"
   ]
  },
  {
   "cell_type": "code",
   "execution_count": 23,
   "metadata": {},
   "outputs": [],
   "source": [
    "y_1 = 3*x + 5"
   ]
  },
  {
   "cell_type": "code",
   "execution_count": 24,
   "metadata": {},
   "outputs": [],
   "source": [
    "y_2 = -x + 3"
   ]
  },
  {
   "cell_type": "code",
   "execution_count": 25,
   "metadata": {},
   "outputs": [],
   "source": [
    "y_3 = 2*x + 1 "
   ]
  },
  {
   "cell_type": "markdown",
   "metadata": {},
   "source": [
    "para cada una generemos la figura:"
   ]
  },
  {
   "cell_type": "code",
   "execution_count": 26,
   "metadata": {},
   "outputs": [
    {
     "data": {
      "application/javascript": [
       "/* Put everything inside the global mpl namespace */\n",
       "/* global mpl */\n",
       "window.mpl = {};\n",
       "\n",
       "mpl.get_websocket_type = function () {\n",
       "    if (typeof WebSocket !== 'undefined') {\n",
       "        return WebSocket;\n",
       "    } else if (typeof MozWebSocket !== 'undefined') {\n",
       "        return MozWebSocket;\n",
       "    } else {\n",
       "        alert(\n",
       "            'Your browser does not have WebSocket support. ' +\n",
       "                'Please try Chrome, Safari or Firefox ≥ 6. ' +\n",
       "                'Firefox 4 and 5 are also supported but you ' +\n",
       "                'have to enable WebSockets in about:config.'\n",
       "        );\n",
       "    }\n",
       "};\n",
       "\n",
       "mpl.figure = function (figure_id, websocket, ondownload, parent_element) {\n",
       "    this.id = figure_id;\n",
       "\n",
       "    this.ws = websocket;\n",
       "\n",
       "    this.supports_binary = this.ws.binaryType !== undefined;\n",
       "\n",
       "    if (!this.supports_binary) {\n",
       "        var warnings = document.getElementById('mpl-warnings');\n",
       "        if (warnings) {\n",
       "            warnings.style.display = 'block';\n",
       "            warnings.textContent =\n",
       "                'This browser does not support binary websocket messages. ' +\n",
       "                'Performance may be slow.';\n",
       "        }\n",
       "    }\n",
       "\n",
       "    this.imageObj = new Image();\n",
       "\n",
       "    this.context = undefined;\n",
       "    this.message = undefined;\n",
       "    this.canvas = undefined;\n",
       "    this.rubberband_canvas = undefined;\n",
       "    this.rubberband_context = undefined;\n",
       "    this.format_dropdown = undefined;\n",
       "\n",
       "    this.image_mode = 'full';\n",
       "\n",
       "    this.root = document.createElement('div');\n",
       "    this.root.setAttribute('style', 'display: inline-block');\n",
       "    this._root_extra_style(this.root);\n",
       "\n",
       "    parent_element.appendChild(this.root);\n",
       "\n",
       "    this._init_header(this);\n",
       "    this._init_canvas(this);\n",
       "    this._init_toolbar(this);\n",
       "\n",
       "    var fig = this;\n",
       "\n",
       "    this.waiting = false;\n",
       "\n",
       "    this.ws.onopen = function () {\n",
       "        fig.send_message('supports_binary', { value: fig.supports_binary });\n",
       "        fig.send_message('send_image_mode', {});\n",
       "        if (fig.ratio !== 1) {\n",
       "            fig.send_message('set_dpi_ratio', { dpi_ratio: fig.ratio });\n",
       "        }\n",
       "        fig.send_message('refresh', {});\n",
       "    };\n",
       "\n",
       "    this.imageObj.onload = function () {\n",
       "        if (fig.image_mode === 'full') {\n",
       "            // Full images could contain transparency (where diff images\n",
       "            // almost always do), so we need to clear the canvas so that\n",
       "            // there is no ghosting.\n",
       "            fig.context.clearRect(0, 0, fig.canvas.width, fig.canvas.height);\n",
       "        }\n",
       "        fig.context.drawImage(fig.imageObj, 0, 0);\n",
       "    };\n",
       "\n",
       "    this.imageObj.onunload = function () {\n",
       "        fig.ws.close();\n",
       "    };\n",
       "\n",
       "    this.ws.onmessage = this._make_on_message_function(this);\n",
       "\n",
       "    this.ondownload = ondownload;\n",
       "};\n",
       "\n",
       "mpl.figure.prototype._init_header = function () {\n",
       "    var titlebar = document.createElement('div');\n",
       "    titlebar.classList =\n",
       "        'ui-dialog-titlebar ui-widget-header ui-corner-all ui-helper-clearfix';\n",
       "    var titletext = document.createElement('div');\n",
       "    titletext.classList = 'ui-dialog-title';\n",
       "    titletext.setAttribute(\n",
       "        'style',\n",
       "        'width: 100%; text-align: center; padding: 3px;'\n",
       "    );\n",
       "    titlebar.appendChild(titletext);\n",
       "    this.root.appendChild(titlebar);\n",
       "    this.header = titletext;\n",
       "};\n",
       "\n",
       "mpl.figure.prototype._canvas_extra_style = function (_canvas_div) {};\n",
       "\n",
       "mpl.figure.prototype._root_extra_style = function (_canvas_div) {};\n",
       "\n",
       "mpl.figure.prototype._init_canvas = function () {\n",
       "    var fig = this;\n",
       "\n",
       "    var canvas_div = (this.canvas_div = document.createElement('div'));\n",
       "    canvas_div.setAttribute(\n",
       "        'style',\n",
       "        'border: 1px solid #ddd;' +\n",
       "            'box-sizing: content-box;' +\n",
       "            'clear: both;' +\n",
       "            'min-height: 1px;' +\n",
       "            'min-width: 1px;' +\n",
       "            'outline: 0;' +\n",
       "            'overflow: hidden;' +\n",
       "            'position: relative;' +\n",
       "            'resize: both;'\n",
       "    );\n",
       "\n",
       "    function on_keyboard_event_closure(name) {\n",
       "        return function (event) {\n",
       "            return fig.key_event(event, name);\n",
       "        };\n",
       "    }\n",
       "\n",
       "    canvas_div.addEventListener(\n",
       "        'keydown',\n",
       "        on_keyboard_event_closure('key_press')\n",
       "    );\n",
       "    canvas_div.addEventListener(\n",
       "        'keyup',\n",
       "        on_keyboard_event_closure('key_release')\n",
       "    );\n",
       "\n",
       "    this._canvas_extra_style(canvas_div);\n",
       "    this.root.appendChild(canvas_div);\n",
       "\n",
       "    var canvas = (this.canvas = document.createElement('canvas'));\n",
       "    canvas.classList.add('mpl-canvas');\n",
       "    canvas.setAttribute('style', 'box-sizing: content-box;');\n",
       "\n",
       "    this.context = canvas.getContext('2d');\n",
       "\n",
       "    var backingStore =\n",
       "        this.context.backingStorePixelRatio ||\n",
       "        this.context.webkitBackingStorePixelRatio ||\n",
       "        this.context.mozBackingStorePixelRatio ||\n",
       "        this.context.msBackingStorePixelRatio ||\n",
       "        this.context.oBackingStorePixelRatio ||\n",
       "        this.context.backingStorePixelRatio ||\n",
       "        1;\n",
       "\n",
       "    this.ratio = (window.devicePixelRatio || 1) / backingStore;\n",
       "\n",
       "    var rubberband_canvas = (this.rubberband_canvas = document.createElement(\n",
       "        'canvas'\n",
       "    ));\n",
       "    rubberband_canvas.setAttribute(\n",
       "        'style',\n",
       "        'box-sizing: content-box; position: absolute; left: 0; top: 0; z-index: 1;'\n",
       "    );\n",
       "\n",
       "    // Apply a ponyfill if ResizeObserver is not implemented by browser.\n",
       "    if (this.ResizeObserver === undefined) {\n",
       "        if (window.ResizeObserver !== undefined) {\n",
       "            this.ResizeObserver = window.ResizeObserver;\n",
       "        } else {\n",
       "            var obs = _JSXTOOLS_RESIZE_OBSERVER({});\n",
       "            this.ResizeObserver = obs.ResizeObserver;\n",
       "        }\n",
       "    }\n",
       "\n",
       "    this.resizeObserverInstance = new this.ResizeObserver(function (entries) {\n",
       "        var nentries = entries.length;\n",
       "        for (var i = 0; i < nentries; i++) {\n",
       "            var entry = entries[i];\n",
       "            var width, height;\n",
       "            if (entry.contentBoxSize) {\n",
       "                if (entry.contentBoxSize instanceof Array) {\n",
       "                    // Chrome 84 implements new version of spec.\n",
       "                    width = entry.contentBoxSize[0].inlineSize;\n",
       "                    height = entry.contentBoxSize[0].blockSize;\n",
       "                } else {\n",
       "                    // Firefox implements old version of spec.\n",
       "                    width = entry.contentBoxSize.inlineSize;\n",
       "                    height = entry.contentBoxSize.blockSize;\n",
       "                }\n",
       "            } else {\n",
       "                // Chrome <84 implements even older version of spec.\n",
       "                width = entry.contentRect.width;\n",
       "                height = entry.contentRect.height;\n",
       "            }\n",
       "\n",
       "            // Keep the size of the canvas and rubber band canvas in sync with\n",
       "            // the canvas container.\n",
       "            if (entry.devicePixelContentBoxSize) {\n",
       "                // Chrome 84 implements new version of spec.\n",
       "                canvas.setAttribute(\n",
       "                    'width',\n",
       "                    entry.devicePixelContentBoxSize[0].inlineSize\n",
       "                );\n",
       "                canvas.setAttribute(\n",
       "                    'height',\n",
       "                    entry.devicePixelContentBoxSize[0].blockSize\n",
       "                );\n",
       "            } else {\n",
       "                canvas.setAttribute('width', width * fig.ratio);\n",
       "                canvas.setAttribute('height', height * fig.ratio);\n",
       "            }\n",
       "            canvas.setAttribute(\n",
       "                'style',\n",
       "                'width: ' + width + 'px; height: ' + height + 'px;'\n",
       "            );\n",
       "\n",
       "            rubberband_canvas.setAttribute('width', width);\n",
       "            rubberband_canvas.setAttribute('height', height);\n",
       "\n",
       "            // And update the size in Python. We ignore the initial 0/0 size\n",
       "            // that occurs as the element is placed into the DOM, which should\n",
       "            // otherwise not happen due to the minimum size styling.\n",
       "            if (fig.ws.readyState == 1 && width != 0 && height != 0) {\n",
       "                fig.request_resize(width, height);\n",
       "            }\n",
       "        }\n",
       "    });\n",
       "    this.resizeObserverInstance.observe(canvas_div);\n",
       "\n",
       "    function on_mouse_event_closure(name) {\n",
       "        return function (event) {\n",
       "            return fig.mouse_event(event, name);\n",
       "        };\n",
       "    }\n",
       "\n",
       "    rubberband_canvas.addEventListener(\n",
       "        'mousedown',\n",
       "        on_mouse_event_closure('button_press')\n",
       "    );\n",
       "    rubberband_canvas.addEventListener(\n",
       "        'mouseup',\n",
       "        on_mouse_event_closure('button_release')\n",
       "    );\n",
       "    rubberband_canvas.addEventListener(\n",
       "        'dblclick',\n",
       "        on_mouse_event_closure('dblclick')\n",
       "    );\n",
       "    // Throttle sequential mouse events to 1 every 20ms.\n",
       "    rubberband_canvas.addEventListener(\n",
       "        'mousemove',\n",
       "        on_mouse_event_closure('motion_notify')\n",
       "    );\n",
       "\n",
       "    rubberband_canvas.addEventListener(\n",
       "        'mouseenter',\n",
       "        on_mouse_event_closure('figure_enter')\n",
       "    );\n",
       "    rubberband_canvas.addEventListener(\n",
       "        'mouseleave',\n",
       "        on_mouse_event_closure('figure_leave')\n",
       "    );\n",
       "\n",
       "    canvas_div.addEventListener('wheel', function (event) {\n",
       "        if (event.deltaY < 0) {\n",
       "            event.step = 1;\n",
       "        } else {\n",
       "            event.step = -1;\n",
       "        }\n",
       "        on_mouse_event_closure('scroll')(event);\n",
       "    });\n",
       "\n",
       "    canvas_div.appendChild(canvas);\n",
       "    canvas_div.appendChild(rubberband_canvas);\n",
       "\n",
       "    this.rubberband_context = rubberband_canvas.getContext('2d');\n",
       "    this.rubberband_context.strokeStyle = '#000000';\n",
       "\n",
       "    this._resize_canvas = function (width, height, forward) {\n",
       "        if (forward) {\n",
       "            canvas_div.style.width = width + 'px';\n",
       "            canvas_div.style.height = height + 'px';\n",
       "        }\n",
       "    };\n",
       "\n",
       "    // Disable right mouse context menu.\n",
       "    this.rubberband_canvas.addEventListener('contextmenu', function (_e) {\n",
       "        event.preventDefault();\n",
       "        return false;\n",
       "    });\n",
       "\n",
       "    function set_focus() {\n",
       "        canvas.focus();\n",
       "        canvas_div.focus();\n",
       "    }\n",
       "\n",
       "    window.setTimeout(set_focus, 100);\n",
       "};\n",
       "\n",
       "mpl.figure.prototype._init_toolbar = function () {\n",
       "    var fig = this;\n",
       "\n",
       "    var toolbar = document.createElement('div');\n",
       "    toolbar.classList = 'mpl-toolbar';\n",
       "    this.root.appendChild(toolbar);\n",
       "\n",
       "    function on_click_closure(name) {\n",
       "        return function (_event) {\n",
       "            return fig.toolbar_button_onclick(name);\n",
       "        };\n",
       "    }\n",
       "\n",
       "    function on_mouseover_closure(tooltip) {\n",
       "        return function (event) {\n",
       "            if (!event.currentTarget.disabled) {\n",
       "                return fig.toolbar_button_onmouseover(tooltip);\n",
       "            }\n",
       "        };\n",
       "    }\n",
       "\n",
       "    fig.buttons = {};\n",
       "    var buttonGroup = document.createElement('div');\n",
       "    buttonGroup.classList = 'mpl-button-group';\n",
       "    for (var toolbar_ind in mpl.toolbar_items) {\n",
       "        var name = mpl.toolbar_items[toolbar_ind][0];\n",
       "        var tooltip = mpl.toolbar_items[toolbar_ind][1];\n",
       "        var image = mpl.toolbar_items[toolbar_ind][2];\n",
       "        var method_name = mpl.toolbar_items[toolbar_ind][3];\n",
       "\n",
       "        if (!name) {\n",
       "            /* Instead of a spacer, we start a new button group. */\n",
       "            if (buttonGroup.hasChildNodes()) {\n",
       "                toolbar.appendChild(buttonGroup);\n",
       "            }\n",
       "            buttonGroup = document.createElement('div');\n",
       "            buttonGroup.classList = 'mpl-button-group';\n",
       "            continue;\n",
       "        }\n",
       "\n",
       "        var button = (fig.buttons[name] = document.createElement('button'));\n",
       "        button.classList = 'mpl-widget';\n",
       "        button.setAttribute('role', 'button');\n",
       "        button.setAttribute('aria-disabled', 'false');\n",
       "        button.addEventListener('click', on_click_closure(method_name));\n",
       "        button.addEventListener('mouseover', on_mouseover_closure(tooltip));\n",
       "\n",
       "        var icon_img = document.createElement('img');\n",
       "        icon_img.src = '_images/' + image + '.png';\n",
       "        icon_img.srcset = '_images/' + image + '_large.png 2x';\n",
       "        icon_img.alt = tooltip;\n",
       "        button.appendChild(icon_img);\n",
       "\n",
       "        buttonGroup.appendChild(button);\n",
       "    }\n",
       "\n",
       "    if (buttonGroup.hasChildNodes()) {\n",
       "        toolbar.appendChild(buttonGroup);\n",
       "    }\n",
       "\n",
       "    var fmt_picker = document.createElement('select');\n",
       "    fmt_picker.classList = 'mpl-widget';\n",
       "    toolbar.appendChild(fmt_picker);\n",
       "    this.format_dropdown = fmt_picker;\n",
       "\n",
       "    for (var ind in mpl.extensions) {\n",
       "        var fmt = mpl.extensions[ind];\n",
       "        var option = document.createElement('option');\n",
       "        option.selected = fmt === mpl.default_extension;\n",
       "        option.innerHTML = fmt;\n",
       "        fmt_picker.appendChild(option);\n",
       "    }\n",
       "\n",
       "    var status_bar = document.createElement('span');\n",
       "    status_bar.classList = 'mpl-message';\n",
       "    toolbar.appendChild(status_bar);\n",
       "    this.message = status_bar;\n",
       "};\n",
       "\n",
       "mpl.figure.prototype.request_resize = function (x_pixels, y_pixels) {\n",
       "    // Request matplotlib to resize the figure. Matplotlib will then trigger a resize in the client,\n",
       "    // which will in turn request a refresh of the image.\n",
       "    this.send_message('resize', { width: x_pixels, height: y_pixels });\n",
       "};\n",
       "\n",
       "mpl.figure.prototype.send_message = function (type, properties) {\n",
       "    properties['type'] = type;\n",
       "    properties['figure_id'] = this.id;\n",
       "    this.ws.send(JSON.stringify(properties));\n",
       "};\n",
       "\n",
       "mpl.figure.prototype.send_draw_message = function () {\n",
       "    if (!this.waiting) {\n",
       "        this.waiting = true;\n",
       "        this.ws.send(JSON.stringify({ type: 'draw', figure_id: this.id }));\n",
       "    }\n",
       "};\n",
       "\n",
       "mpl.figure.prototype.handle_save = function (fig, _msg) {\n",
       "    var format_dropdown = fig.format_dropdown;\n",
       "    var format = format_dropdown.options[format_dropdown.selectedIndex].value;\n",
       "    fig.ondownload(fig, format);\n",
       "};\n",
       "\n",
       "mpl.figure.prototype.handle_resize = function (fig, msg) {\n",
       "    var size = msg['size'];\n",
       "    if (size[0] !== fig.canvas.width || size[1] !== fig.canvas.height) {\n",
       "        fig._resize_canvas(size[0], size[1], msg['forward']);\n",
       "        fig.send_message('refresh', {});\n",
       "    }\n",
       "};\n",
       "\n",
       "mpl.figure.prototype.handle_rubberband = function (fig, msg) {\n",
       "    var x0 = msg['x0'] / fig.ratio;\n",
       "    var y0 = (fig.canvas.height - msg['y0']) / fig.ratio;\n",
       "    var x1 = msg['x1'] / fig.ratio;\n",
       "    var y1 = (fig.canvas.height - msg['y1']) / fig.ratio;\n",
       "    x0 = Math.floor(x0) + 0.5;\n",
       "    y0 = Math.floor(y0) + 0.5;\n",
       "    x1 = Math.floor(x1) + 0.5;\n",
       "    y1 = Math.floor(y1) + 0.5;\n",
       "    var min_x = Math.min(x0, x1);\n",
       "    var min_y = Math.min(y0, y1);\n",
       "    var width = Math.abs(x1 - x0);\n",
       "    var height = Math.abs(y1 - y0);\n",
       "\n",
       "    fig.rubberband_context.clearRect(\n",
       "        0,\n",
       "        0,\n",
       "        fig.canvas.width / fig.ratio,\n",
       "        fig.canvas.height / fig.ratio\n",
       "    );\n",
       "\n",
       "    fig.rubberband_context.strokeRect(min_x, min_y, width, height);\n",
       "};\n",
       "\n",
       "mpl.figure.prototype.handle_figure_label = function (fig, msg) {\n",
       "    // Updates the figure title.\n",
       "    fig.header.textContent = msg['label'];\n",
       "};\n",
       "\n",
       "mpl.figure.prototype.handle_cursor = function (fig, msg) {\n",
       "    var cursor = msg['cursor'];\n",
       "    switch (cursor) {\n",
       "        case 0:\n",
       "            cursor = 'pointer';\n",
       "            break;\n",
       "        case 1:\n",
       "            cursor = 'default';\n",
       "            break;\n",
       "        case 2:\n",
       "            cursor = 'crosshair';\n",
       "            break;\n",
       "        case 3:\n",
       "            cursor = 'move';\n",
       "            break;\n",
       "    }\n",
       "    fig.rubberband_canvas.style.cursor = cursor;\n",
       "};\n",
       "\n",
       "mpl.figure.prototype.handle_message = function (fig, msg) {\n",
       "    fig.message.textContent = msg['message'];\n",
       "};\n",
       "\n",
       "mpl.figure.prototype.handle_draw = function (fig, _msg) {\n",
       "    // Request the server to send over a new figure.\n",
       "    fig.send_draw_message();\n",
       "};\n",
       "\n",
       "mpl.figure.prototype.handle_image_mode = function (fig, msg) {\n",
       "    fig.image_mode = msg['mode'];\n",
       "};\n",
       "\n",
       "mpl.figure.prototype.handle_history_buttons = function (fig, msg) {\n",
       "    for (var key in msg) {\n",
       "        if (!(key in fig.buttons)) {\n",
       "            continue;\n",
       "        }\n",
       "        fig.buttons[key].disabled = !msg[key];\n",
       "        fig.buttons[key].setAttribute('aria-disabled', !msg[key]);\n",
       "    }\n",
       "};\n",
       "\n",
       "mpl.figure.prototype.handle_navigate_mode = function (fig, msg) {\n",
       "    if (msg['mode'] === 'PAN') {\n",
       "        fig.buttons['Pan'].classList.add('active');\n",
       "        fig.buttons['Zoom'].classList.remove('active');\n",
       "    } else if (msg['mode'] === 'ZOOM') {\n",
       "        fig.buttons['Pan'].classList.remove('active');\n",
       "        fig.buttons['Zoom'].classList.add('active');\n",
       "    } else {\n",
       "        fig.buttons['Pan'].classList.remove('active');\n",
       "        fig.buttons['Zoom'].classList.remove('active');\n",
       "    }\n",
       "};\n",
       "\n",
       "mpl.figure.prototype.updated_canvas_event = function () {\n",
       "    // Called whenever the canvas gets updated.\n",
       "    this.send_message('ack', {});\n",
       "};\n",
       "\n",
       "// A function to construct a web socket function for onmessage handling.\n",
       "// Called in the figure constructor.\n",
       "mpl.figure.prototype._make_on_message_function = function (fig) {\n",
       "    return function socket_on_message(evt) {\n",
       "        if (evt.data instanceof Blob) {\n",
       "            var img = evt.data;\n",
       "            if (img.type !== 'image/png') {\n",
       "                /* FIXME: We get \"Resource interpreted as Image but\n",
       "                 * transferred with MIME type text/plain:\" errors on\n",
       "                 * Chrome.  But how to set the MIME type?  It doesn't seem\n",
       "                 * to be part of the websocket stream */\n",
       "                img.type = 'image/png';\n",
       "            }\n",
       "\n",
       "            /* Free the memory for the previous frames */\n",
       "            if (fig.imageObj.src) {\n",
       "                (window.URL || window.webkitURL).revokeObjectURL(\n",
       "                    fig.imageObj.src\n",
       "                );\n",
       "            }\n",
       "\n",
       "            fig.imageObj.src = (window.URL || window.webkitURL).createObjectURL(\n",
       "                img\n",
       "            );\n",
       "            fig.updated_canvas_event();\n",
       "            fig.waiting = false;\n",
       "            return;\n",
       "        } else if (\n",
       "            typeof evt.data === 'string' &&\n",
       "            evt.data.slice(0, 21) === 'data:image/png;base64'\n",
       "        ) {\n",
       "            fig.imageObj.src = evt.data;\n",
       "            fig.updated_canvas_event();\n",
       "            fig.waiting = false;\n",
       "            return;\n",
       "        }\n",
       "\n",
       "        var msg = JSON.parse(evt.data);\n",
       "        var msg_type = msg['type'];\n",
       "\n",
       "        // Call the  \"handle_{type}\" callback, which takes\n",
       "        // the figure and JSON message as its only arguments.\n",
       "        try {\n",
       "            var callback = fig['handle_' + msg_type];\n",
       "        } catch (e) {\n",
       "            console.log(\n",
       "                \"No handler for the '\" + msg_type + \"' message type: \",\n",
       "                msg\n",
       "            );\n",
       "            return;\n",
       "        }\n",
       "\n",
       "        if (callback) {\n",
       "            try {\n",
       "                // console.log(\"Handling '\" + msg_type + \"' message: \", msg);\n",
       "                callback(fig, msg);\n",
       "            } catch (e) {\n",
       "                console.log(\n",
       "                    \"Exception inside the 'handler_\" + msg_type + \"' callback:\",\n",
       "                    e,\n",
       "                    e.stack,\n",
       "                    msg\n",
       "                );\n",
       "            }\n",
       "        }\n",
       "    };\n",
       "};\n",
       "\n",
       "// from http://stackoverflow.com/questions/1114465/getting-mouse-location-in-canvas\n",
       "mpl.findpos = function (e) {\n",
       "    //this section is from http://www.quirksmode.org/js/events_properties.html\n",
       "    var targ;\n",
       "    if (!e) {\n",
       "        e = window.event;\n",
       "    }\n",
       "    if (e.target) {\n",
       "        targ = e.target;\n",
       "    } else if (e.srcElement) {\n",
       "        targ = e.srcElement;\n",
       "    }\n",
       "    if (targ.nodeType === 3) {\n",
       "        // defeat Safari bug\n",
       "        targ = targ.parentNode;\n",
       "    }\n",
       "\n",
       "    // pageX,Y are the mouse positions relative to the document\n",
       "    var boundingRect = targ.getBoundingClientRect();\n",
       "    var x = e.pageX - (boundingRect.left + document.body.scrollLeft);\n",
       "    var y = e.pageY - (boundingRect.top + document.body.scrollTop);\n",
       "\n",
       "    return { x: x, y: y };\n",
       "};\n",
       "\n",
       "/*\n",
       " * return a copy of an object with only non-object keys\n",
       " * we need this to avoid circular references\n",
       " * http://stackoverflow.com/a/24161582/3208463\n",
       " */\n",
       "function simpleKeys(original) {\n",
       "    return Object.keys(original).reduce(function (obj, key) {\n",
       "        if (typeof original[key] !== 'object') {\n",
       "            obj[key] = original[key];\n",
       "        }\n",
       "        return obj;\n",
       "    }, {});\n",
       "}\n",
       "\n",
       "mpl.figure.prototype.mouse_event = function (event, name) {\n",
       "    var canvas_pos = mpl.findpos(event);\n",
       "\n",
       "    if (name === 'button_press') {\n",
       "        this.canvas.focus();\n",
       "        this.canvas_div.focus();\n",
       "    }\n",
       "\n",
       "    var x = canvas_pos.x * this.ratio;\n",
       "    var y = canvas_pos.y * this.ratio;\n",
       "\n",
       "    this.send_message(name, {\n",
       "        x: x,\n",
       "        y: y,\n",
       "        button: event.button,\n",
       "        step: event.step,\n",
       "        guiEvent: simpleKeys(event),\n",
       "    });\n",
       "\n",
       "    /* This prevents the web browser from automatically changing to\n",
       "     * the text insertion cursor when the button is pressed.  We want\n",
       "     * to control all of the cursor setting manually through the\n",
       "     * 'cursor' event from matplotlib */\n",
       "    event.preventDefault();\n",
       "    return false;\n",
       "};\n",
       "\n",
       "mpl.figure.prototype._key_event_extra = function (_event, _name) {\n",
       "    // Handle any extra behaviour associated with a key event\n",
       "};\n",
       "\n",
       "mpl.figure.prototype.key_event = function (event, name) {\n",
       "    // Prevent repeat events\n",
       "    if (name === 'key_press') {\n",
       "        if (event.key === this._key) {\n",
       "            return;\n",
       "        } else {\n",
       "            this._key = event.key;\n",
       "        }\n",
       "    }\n",
       "    if (name === 'key_release') {\n",
       "        this._key = null;\n",
       "    }\n",
       "\n",
       "    var value = '';\n",
       "    if (event.ctrlKey && event.key !== 'Control') {\n",
       "        value += 'ctrl+';\n",
       "    }\n",
       "    else if (event.altKey && event.key !== 'Alt') {\n",
       "        value += 'alt+';\n",
       "    }\n",
       "    else if (event.shiftKey && event.key !== 'Shift') {\n",
       "        value += 'shift+';\n",
       "    }\n",
       "\n",
       "    value += 'k' + event.key;\n",
       "\n",
       "    this._key_event_extra(event, name);\n",
       "\n",
       "    this.send_message(name, { key: value, guiEvent: simpleKeys(event) });\n",
       "    return false;\n",
       "};\n",
       "\n",
       "mpl.figure.prototype.toolbar_button_onclick = function (name) {\n",
       "    if (name === 'download') {\n",
       "        this.handle_save(this, null);\n",
       "    } else {\n",
       "        this.send_message('toolbar_button', { name: name });\n",
       "    }\n",
       "};\n",
       "\n",
       "mpl.figure.prototype.toolbar_button_onmouseover = function (tooltip) {\n",
       "    this.message.textContent = tooltip;\n",
       "};\n",
       "\n",
       "///////////////// REMAINING CONTENT GENERATED BY embed_js.py /////////////////\n",
       "// prettier-ignore\n",
       "var _JSXTOOLS_RESIZE_OBSERVER=function(A){var t,i=new WeakMap,n=new WeakMap,a=new WeakMap,r=new WeakMap,o=new Set;function s(e){if(!(this instanceof s))throw new TypeError(\"Constructor requires 'new' operator\");i.set(this,e)}function h(){throw new TypeError(\"Function is not a constructor\")}function c(e,t,i,n){e=0 in arguments?Number(arguments[0]):0,t=1 in arguments?Number(arguments[1]):0,i=2 in arguments?Number(arguments[2]):0,n=3 in arguments?Number(arguments[3]):0,this.right=(this.x=this.left=e)+(this.width=i),this.bottom=(this.y=this.top=t)+(this.height=n),Object.freeze(this)}function d(){t=requestAnimationFrame(d);var s=new WeakMap,p=new Set;o.forEach((function(t){r.get(t).forEach((function(i){var r=t instanceof window.SVGElement,o=a.get(t),d=r?0:parseFloat(o.paddingTop),f=r?0:parseFloat(o.paddingRight),l=r?0:parseFloat(o.paddingBottom),u=r?0:parseFloat(o.paddingLeft),g=r?0:parseFloat(o.borderTopWidth),m=r?0:parseFloat(o.borderRightWidth),w=r?0:parseFloat(o.borderBottomWidth),b=u+f,F=d+l,v=(r?0:parseFloat(o.borderLeftWidth))+m,W=g+w,y=r?0:t.offsetHeight-W-t.clientHeight,E=r?0:t.offsetWidth-v-t.clientWidth,R=b+v,z=F+W,M=r?t.width:parseFloat(o.width)-R-E,O=r?t.height:parseFloat(o.height)-z-y;if(n.has(t)){var k=n.get(t);if(k[0]===M&&k[1]===O)return}n.set(t,[M,O]);var S=Object.create(h.prototype);S.target=t,S.contentRect=new c(u,d,M,O),s.has(i)||(s.set(i,[]),p.add(i)),s.get(i).push(S)}))})),p.forEach((function(e){i.get(e).call(e,s.get(e),e)}))}return s.prototype.observe=function(i){if(i instanceof window.Element){r.has(i)||(r.set(i,new Set),o.add(i),a.set(i,window.getComputedStyle(i)));var n=r.get(i);n.has(this)||n.add(this),cancelAnimationFrame(t),t=requestAnimationFrame(d)}},s.prototype.unobserve=function(i){if(i instanceof window.Element&&r.has(i)){var n=r.get(i);n.has(this)&&(n.delete(this),n.size||(r.delete(i),o.delete(i))),n.size||r.delete(i),o.size||cancelAnimationFrame(t)}},A.DOMRectReadOnly=c,A.ResizeObserver=s,A.ResizeObserverEntry=h,A}; // eslint-disable-line\n",
       "mpl.toolbar_items = [[\"Home\", \"Reset original view\", \"fa fa-home icon-home\", \"home\"], [\"Back\", \"Back to previous view\", \"fa fa-arrow-left icon-arrow-left\", \"back\"], [\"Forward\", \"Forward to next view\", \"fa fa-arrow-right icon-arrow-right\", \"forward\"], [\"\", \"\", \"\", \"\"], [\"Pan\", \"Left button pans, Right button zooms\\nx/y fixes axis, CTRL fixes aspect\", \"fa fa-arrows icon-move\", \"pan\"], [\"Zoom\", \"Zoom to rectangle\\nx/y fixes axis, CTRL fixes aspect\", \"fa fa-square-o icon-check-empty\", \"zoom\"], [\"\", \"\", \"\", \"\"], [\"Download\", \"Download plot\", \"fa fa-floppy-o icon-save\", \"download\"]];\n",
       "\n",
       "mpl.extensions = [\"eps\", \"jpeg\", \"pgf\", \"pdf\", \"png\", \"ps\", \"raw\", \"svg\", \"tif\"];\n",
       "\n",
       "mpl.default_extension = \"png\";/* global mpl */\n",
       "\n",
       "var comm_websocket_adapter = function (comm) {\n",
       "    // Create a \"websocket\"-like object which calls the given IPython comm\n",
       "    // object with the appropriate methods. Currently this is a non binary\n",
       "    // socket, so there is still some room for performance tuning.\n",
       "    var ws = {};\n",
       "\n",
       "    ws.binaryType = comm.kernel.ws.binaryType;\n",
       "    ws.readyState = comm.kernel.ws.readyState;\n",
       "    function updateReadyState(_event) {\n",
       "        if (comm.kernel.ws) {\n",
       "            ws.readyState = comm.kernel.ws.readyState;\n",
       "        } else {\n",
       "            ws.readyState = 3; // Closed state.\n",
       "        }\n",
       "    }\n",
       "    comm.kernel.ws.addEventListener('open', updateReadyState);\n",
       "    comm.kernel.ws.addEventListener('close', updateReadyState);\n",
       "    comm.kernel.ws.addEventListener('error', updateReadyState);\n",
       "\n",
       "    ws.close = function () {\n",
       "        comm.close();\n",
       "    };\n",
       "    ws.send = function (m) {\n",
       "        //console.log('sending', m);\n",
       "        comm.send(m);\n",
       "    };\n",
       "    // Register the callback with on_msg.\n",
       "    comm.on_msg(function (msg) {\n",
       "        //console.log('receiving', msg['content']['data'], msg);\n",
       "        var data = msg['content']['data'];\n",
       "        if (data['blob'] !== undefined) {\n",
       "            data = {\n",
       "                data: new Blob(msg['buffers'], { type: data['blob'] }),\n",
       "            };\n",
       "        }\n",
       "        // Pass the mpl event to the overridden (by mpl) onmessage function.\n",
       "        ws.onmessage(data);\n",
       "    });\n",
       "    return ws;\n",
       "};\n",
       "\n",
       "mpl.mpl_figure_comm = function (comm, msg) {\n",
       "    // This is the function which gets called when the mpl process\n",
       "    // starts-up an IPython Comm through the \"matplotlib\" channel.\n",
       "\n",
       "    var id = msg.content.data.id;\n",
       "    // Get hold of the div created by the display call when the Comm\n",
       "    // socket was opened in Python.\n",
       "    var element = document.getElementById(id);\n",
       "    var ws_proxy = comm_websocket_adapter(comm);\n",
       "\n",
       "    function ondownload(figure, _format) {\n",
       "        window.open(figure.canvas.toDataURL());\n",
       "    }\n",
       "\n",
       "    var fig = new mpl.figure(id, ws_proxy, ondownload, element);\n",
       "\n",
       "    // Call onopen now - mpl needs it, as it is assuming we've passed it a real\n",
       "    // web socket which is closed, not our websocket->open comm proxy.\n",
       "    ws_proxy.onopen();\n",
       "\n",
       "    fig.parent_element = element;\n",
       "    fig.cell_info = mpl.find_output_cell(\"<div id='\" + id + \"'></div>\");\n",
       "    if (!fig.cell_info) {\n",
       "        console.error('Failed to find cell for figure', id, fig);\n",
       "        return;\n",
       "    }\n",
       "    fig.cell_info[0].output_area.element.on(\n",
       "        'cleared',\n",
       "        { fig: fig },\n",
       "        fig._remove_fig_handler\n",
       "    );\n",
       "};\n",
       "\n",
       "mpl.figure.prototype.handle_close = function (fig, msg) {\n",
       "    var width = fig.canvas.width / fig.ratio;\n",
       "    fig.cell_info[0].output_area.element.off(\n",
       "        'cleared',\n",
       "        fig._remove_fig_handler\n",
       "    );\n",
       "    fig.resizeObserverInstance.unobserve(fig.canvas_div);\n",
       "\n",
       "    // Update the output cell to use the data from the current canvas.\n",
       "    fig.push_to_output();\n",
       "    var dataURL = fig.canvas.toDataURL();\n",
       "    // Re-enable the keyboard manager in IPython - without this line, in FF,\n",
       "    // the notebook keyboard shortcuts fail.\n",
       "    IPython.keyboard_manager.enable();\n",
       "    fig.parent_element.innerHTML =\n",
       "        '<img src=\"' + dataURL + '\" width=\"' + width + '\">';\n",
       "    fig.close_ws(fig, msg);\n",
       "};\n",
       "\n",
       "mpl.figure.prototype.close_ws = function (fig, msg) {\n",
       "    fig.send_message('closing', msg);\n",
       "    // fig.ws.close()\n",
       "};\n",
       "\n",
       "mpl.figure.prototype.push_to_output = function (_remove_interactive) {\n",
       "    // Turn the data on the canvas into data in the output cell.\n",
       "    var width = this.canvas.width / this.ratio;\n",
       "    var dataURL = this.canvas.toDataURL();\n",
       "    this.cell_info[1]['text/html'] =\n",
       "        '<img src=\"' + dataURL + '\" width=\"' + width + '\">';\n",
       "};\n",
       "\n",
       "mpl.figure.prototype.updated_canvas_event = function () {\n",
       "    // Tell IPython that the notebook contents must change.\n",
       "    IPython.notebook.set_dirty(true);\n",
       "    this.send_message('ack', {});\n",
       "    var fig = this;\n",
       "    // Wait a second, then push the new image to the DOM so\n",
       "    // that it is saved nicely (might be nice to debounce this).\n",
       "    setTimeout(function () {\n",
       "        fig.push_to_output();\n",
       "    }, 1000);\n",
       "};\n",
       "\n",
       "mpl.figure.prototype._init_toolbar = function () {\n",
       "    var fig = this;\n",
       "\n",
       "    var toolbar = document.createElement('div');\n",
       "    toolbar.classList = 'btn-toolbar';\n",
       "    this.root.appendChild(toolbar);\n",
       "\n",
       "    function on_click_closure(name) {\n",
       "        return function (_event) {\n",
       "            return fig.toolbar_button_onclick(name);\n",
       "        };\n",
       "    }\n",
       "\n",
       "    function on_mouseover_closure(tooltip) {\n",
       "        return function (event) {\n",
       "            if (!event.currentTarget.disabled) {\n",
       "                return fig.toolbar_button_onmouseover(tooltip);\n",
       "            }\n",
       "        };\n",
       "    }\n",
       "\n",
       "    fig.buttons = {};\n",
       "    var buttonGroup = document.createElement('div');\n",
       "    buttonGroup.classList = 'btn-group';\n",
       "    var button;\n",
       "    for (var toolbar_ind in mpl.toolbar_items) {\n",
       "        var name = mpl.toolbar_items[toolbar_ind][0];\n",
       "        var tooltip = mpl.toolbar_items[toolbar_ind][1];\n",
       "        var image = mpl.toolbar_items[toolbar_ind][2];\n",
       "        var method_name = mpl.toolbar_items[toolbar_ind][3];\n",
       "\n",
       "        if (!name) {\n",
       "            /* Instead of a spacer, we start a new button group. */\n",
       "            if (buttonGroup.hasChildNodes()) {\n",
       "                toolbar.appendChild(buttonGroup);\n",
       "            }\n",
       "            buttonGroup = document.createElement('div');\n",
       "            buttonGroup.classList = 'btn-group';\n",
       "            continue;\n",
       "        }\n",
       "\n",
       "        button = fig.buttons[name] = document.createElement('button');\n",
       "        button.classList = 'btn btn-default';\n",
       "        button.href = '#';\n",
       "        button.title = name;\n",
       "        button.innerHTML = '<i class=\"fa ' + image + ' fa-lg\"></i>';\n",
       "        button.addEventListener('click', on_click_closure(method_name));\n",
       "        button.addEventListener('mouseover', on_mouseover_closure(tooltip));\n",
       "        buttonGroup.appendChild(button);\n",
       "    }\n",
       "\n",
       "    if (buttonGroup.hasChildNodes()) {\n",
       "        toolbar.appendChild(buttonGroup);\n",
       "    }\n",
       "\n",
       "    // Add the status bar.\n",
       "    var status_bar = document.createElement('span');\n",
       "    status_bar.classList = 'mpl-message pull-right';\n",
       "    toolbar.appendChild(status_bar);\n",
       "    this.message = status_bar;\n",
       "\n",
       "    // Add the close button to the window.\n",
       "    var buttongrp = document.createElement('div');\n",
       "    buttongrp.classList = 'btn-group inline pull-right';\n",
       "    button = document.createElement('button');\n",
       "    button.classList = 'btn btn-mini btn-primary';\n",
       "    button.href = '#';\n",
       "    button.title = 'Stop Interaction';\n",
       "    button.innerHTML = '<i class=\"fa fa-power-off icon-remove icon-large\"></i>';\n",
       "    button.addEventListener('click', function (_evt) {\n",
       "        fig.handle_close(fig, {});\n",
       "    });\n",
       "    button.addEventListener(\n",
       "        'mouseover',\n",
       "        on_mouseover_closure('Stop Interaction')\n",
       "    );\n",
       "    buttongrp.appendChild(button);\n",
       "    var titlebar = this.root.querySelector('.ui-dialog-titlebar');\n",
       "    titlebar.insertBefore(buttongrp, titlebar.firstChild);\n",
       "};\n",
       "\n",
       "mpl.figure.prototype._remove_fig_handler = function (event) {\n",
       "    var fig = event.data.fig;\n",
       "    if (event.target !== this) {\n",
       "        // Ignore bubbled events from children.\n",
       "        return;\n",
       "    }\n",
       "    fig.close_ws(fig, {});\n",
       "};\n",
       "\n",
       "mpl.figure.prototype._root_extra_style = function (el) {\n",
       "    el.style.boxSizing = 'content-box'; // override notebook setting of border-box.\n",
       "};\n",
       "\n",
       "mpl.figure.prototype._canvas_extra_style = function (el) {\n",
       "    // this is important to make the div 'focusable\n",
       "    el.setAttribute('tabindex', 0);\n",
       "    // reach out to IPython and tell the keyboard manager to turn it's self\n",
       "    // off when our div gets focus\n",
       "\n",
       "    // location in version 3\n",
       "    if (IPython.notebook.keyboard_manager) {\n",
       "        IPython.notebook.keyboard_manager.register_events(el);\n",
       "    } else {\n",
       "        // location in version 2\n",
       "        IPython.keyboard_manager.register_events(el);\n",
       "    }\n",
       "};\n",
       "\n",
       "mpl.figure.prototype._key_event_extra = function (event, _name) {\n",
       "    var manager = IPython.notebook.keyboard_manager;\n",
       "    if (!manager) {\n",
       "        manager = IPython.keyboard_manager;\n",
       "    }\n",
       "\n",
       "    // Check for shift+enter\n",
       "    if (event.shiftKey && event.which === 13) {\n",
       "        this.canvas_div.blur();\n",
       "        // select the cell after this one\n",
       "        var index = IPython.notebook.find_cell_index(this.cell_info[0]);\n",
       "        IPython.notebook.select(index + 1);\n",
       "    }\n",
       "};\n",
       "\n",
       "mpl.figure.prototype.handle_save = function (fig, _msg) {\n",
       "    fig.ondownload(fig, null);\n",
       "};\n",
       "\n",
       "mpl.find_output_cell = function (html_output) {\n",
       "    // Return the cell and output element which can be found *uniquely* in the notebook.\n",
       "    // Note - this is a bit hacky, but it is done because the \"notebook_saving.Notebook\"\n",
       "    // IPython event is triggered only after the cells have been serialised, which for\n",
       "    // our purposes (turning an active figure into a static one), is too late.\n",
       "    var cells = IPython.notebook.get_cells();\n",
       "    var ncells = cells.length;\n",
       "    for (var i = 0; i < ncells; i++) {\n",
       "        var cell = cells[i];\n",
       "        if (cell.cell_type === 'code') {\n",
       "            for (var j = 0; j < cell.output_area.outputs.length; j++) {\n",
       "                var data = cell.output_area.outputs[j];\n",
       "                if (data.data) {\n",
       "                    // IPython >= 3 moved mimebundle to data attribute of output\n",
       "                    data = data.data;\n",
       "                }\n",
       "                if (data['text/html'] === html_output) {\n",
       "                    return [cell, data, j];\n",
       "                }\n",
       "            }\n",
       "        }\n",
       "    }\n",
       "};\n",
       "\n",
       "// Register the function which deals with the matplotlib target/channel.\n",
       "// The kernel may be null if the page has been refreshed.\n",
       "if (IPython.notebook.kernel !== null) {\n",
       "    IPython.notebook.kernel.comm_manager.register_target(\n",
       "        'matplotlib',\n",
       "        mpl.mpl_figure_comm\n",
       "    );\n",
       "}\n"
      ],
      "text/plain": [
       "<IPython.core.display.Javascript object>"
      ]
     },
     "metadata": {},
     "output_type": "display_data"
    },
    {
     "data": {
      "text/html": [
       "<img src=\"data:image/png;base64,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\" width=\"640\">"
      ],
      "text/plain": [
       "<IPython.core.display.HTML object>"
      ]
     },
     "metadata": {},
     "output_type": "display_data"
    },
    {
     "data": {
      "text/plain": [
       "[<matplotlib.lines.Line2D at 0x248ce697f70>]"
      ]
     },
     "execution_count": 26,
     "metadata": {},
     "output_type": "execute_result"
    }
   ],
   "source": [
    "plt.figure()\n",
    "plt.grid()\n",
    "plt.axvline(x = 0, color= 'black')\n",
    "plt.axhline(y = 0, color= 'black')\n",
    "plt.plot(x, y_1)\n",
    "plt.plot(x, y_2)\n",
    "plt.plot(x, y_3)"
   ]
  },
  {
   "cell_type": "markdown",
   "metadata": {},
   "source": [
    "De la imagen podemos observar que las ecuaciones se intersectan en distintos puntos, pero **no existe un punto donde se toquen las 3 al mismo tiempo**, por lo que podríamos deducir que dicho sistema de ecuaciones no tiene solución."
   ]
  },
  {
   "cell_type": "markdown",
   "metadata": {},
   "source": [
    "---"
   ]
  },
  {
   "cell_type": "markdown",
   "metadata": {},
   "source": [
    "#### Sistema Compatible"
   ]
  },
  {
   "cell_type": "markdown",
   "metadata": {},
   "source": [
    "Ahora consideremos el siguiente sistema:"
   ]
  },
  {
   "cell_type": "markdown",
   "metadata": {},
   "source": [
    "$$\\begin{cases} \n",
    "y = \\frac{x + 5}{2}\\\\\n",
    "y = \\frac{-1x + 7}{2} \\\\\n",
    "y = \\frac{2x + 7}{3}\n",
    "\\end{cases}$$"
   ]
  },
  {
   "cell_type": "code",
   "execution_count": 33,
   "metadata": {},
   "outputs": [],
   "source": [
    "y_1 = ( x + 5) / 2\n",
    "y_2 = (-x + 7) / 2\n",
    "y_3 = (2*x + 7) / 3"
   ]
  },
  {
   "cell_type": "code",
   "execution_count": 34,
   "metadata": {},
   "outputs": [
    {
     "data": {
      "application/javascript": [
       "/* Put everything inside the global mpl namespace */\n",
       "/* global mpl */\n",
       "window.mpl = {};\n",
       "\n",
       "mpl.get_websocket_type = function () {\n",
       "    if (typeof WebSocket !== 'undefined') {\n",
       "        return WebSocket;\n",
       "    } else if (typeof MozWebSocket !== 'undefined') {\n",
       "        return MozWebSocket;\n",
       "    } else {\n",
       "        alert(\n",
       "            'Your browser does not have WebSocket support. ' +\n",
       "                'Please try Chrome, Safari or Firefox ≥ 6. ' +\n",
       "                'Firefox 4 and 5 are also supported but you ' +\n",
       "                'have to enable WebSockets in about:config.'\n",
       "        );\n",
       "    }\n",
       "};\n",
       "\n",
       "mpl.figure = function (figure_id, websocket, ondownload, parent_element) {\n",
       "    this.id = figure_id;\n",
       "\n",
       "    this.ws = websocket;\n",
       "\n",
       "    this.supports_binary = this.ws.binaryType !== undefined;\n",
       "\n",
       "    if (!this.supports_binary) {\n",
       "        var warnings = document.getElementById('mpl-warnings');\n",
       "        if (warnings) {\n",
       "            warnings.style.display = 'block';\n",
       "            warnings.textContent =\n",
       "                'This browser does not support binary websocket messages. ' +\n",
       "                'Performance may be slow.';\n",
       "        }\n",
       "    }\n",
       "\n",
       "    this.imageObj = new Image();\n",
       "\n",
       "    this.context = undefined;\n",
       "    this.message = undefined;\n",
       "    this.canvas = undefined;\n",
       "    this.rubberband_canvas = undefined;\n",
       "    this.rubberband_context = undefined;\n",
       "    this.format_dropdown = undefined;\n",
       "\n",
       "    this.image_mode = 'full';\n",
       "\n",
       "    this.root = document.createElement('div');\n",
       "    this.root.setAttribute('style', 'display: inline-block');\n",
       "    this._root_extra_style(this.root);\n",
       "\n",
       "    parent_element.appendChild(this.root);\n",
       "\n",
       "    this._init_header(this);\n",
       "    this._init_canvas(this);\n",
       "    this._init_toolbar(this);\n",
       "\n",
       "    var fig = this;\n",
       "\n",
       "    this.waiting = false;\n",
       "\n",
       "    this.ws.onopen = function () {\n",
       "        fig.send_message('supports_binary', { value: fig.supports_binary });\n",
       "        fig.send_message('send_image_mode', {});\n",
       "        if (fig.ratio !== 1) {\n",
       "            fig.send_message('set_dpi_ratio', { dpi_ratio: fig.ratio });\n",
       "        }\n",
       "        fig.send_message('refresh', {});\n",
       "    };\n",
       "\n",
       "    this.imageObj.onload = function () {\n",
       "        if (fig.image_mode === 'full') {\n",
       "            // Full images could contain transparency (where diff images\n",
       "            // almost always do), so we need to clear the canvas so that\n",
       "            // there is no ghosting.\n",
       "            fig.context.clearRect(0, 0, fig.canvas.width, fig.canvas.height);\n",
       "        }\n",
       "        fig.context.drawImage(fig.imageObj, 0, 0);\n",
       "    };\n",
       "\n",
       "    this.imageObj.onunload = function () {\n",
       "        fig.ws.close();\n",
       "    };\n",
       "\n",
       "    this.ws.onmessage = this._make_on_message_function(this);\n",
       "\n",
       "    this.ondownload = ondownload;\n",
       "};\n",
       "\n",
       "mpl.figure.prototype._init_header = function () {\n",
       "    var titlebar = document.createElement('div');\n",
       "    titlebar.classList =\n",
       "        'ui-dialog-titlebar ui-widget-header ui-corner-all ui-helper-clearfix';\n",
       "    var titletext = document.createElement('div');\n",
       "    titletext.classList = 'ui-dialog-title';\n",
       "    titletext.setAttribute(\n",
       "        'style',\n",
       "        'width: 100%; text-align: center; padding: 3px;'\n",
       "    );\n",
       "    titlebar.appendChild(titletext);\n",
       "    this.root.appendChild(titlebar);\n",
       "    this.header = titletext;\n",
       "};\n",
       "\n",
       "mpl.figure.prototype._canvas_extra_style = function (_canvas_div) {};\n",
       "\n",
       "mpl.figure.prototype._root_extra_style = function (_canvas_div) {};\n",
       "\n",
       "mpl.figure.prototype._init_canvas = function () {\n",
       "    var fig = this;\n",
       "\n",
       "    var canvas_div = (this.canvas_div = document.createElement('div'));\n",
       "    canvas_div.setAttribute(\n",
       "        'style',\n",
       "        'border: 1px solid #ddd;' +\n",
       "            'box-sizing: content-box;' +\n",
       "            'clear: both;' +\n",
       "            'min-height: 1px;' +\n",
       "            'min-width: 1px;' +\n",
       "            'outline: 0;' +\n",
       "            'overflow: hidden;' +\n",
       "            'position: relative;' +\n",
       "            'resize: both;'\n",
       "    );\n",
       "\n",
       "    function on_keyboard_event_closure(name) {\n",
       "        return function (event) {\n",
       "            return fig.key_event(event, name);\n",
       "        };\n",
       "    }\n",
       "\n",
       "    canvas_div.addEventListener(\n",
       "        'keydown',\n",
       "        on_keyboard_event_closure('key_press')\n",
       "    );\n",
       "    canvas_div.addEventListener(\n",
       "        'keyup',\n",
       "        on_keyboard_event_closure('key_release')\n",
       "    );\n",
       "\n",
       "    this._canvas_extra_style(canvas_div);\n",
       "    this.root.appendChild(canvas_div);\n",
       "\n",
       "    var canvas = (this.canvas = document.createElement('canvas'));\n",
       "    canvas.classList.add('mpl-canvas');\n",
       "    canvas.setAttribute('style', 'box-sizing: content-box;');\n",
       "\n",
       "    this.context = canvas.getContext('2d');\n",
       "\n",
       "    var backingStore =\n",
       "        this.context.backingStorePixelRatio ||\n",
       "        this.context.webkitBackingStorePixelRatio ||\n",
       "        this.context.mozBackingStorePixelRatio ||\n",
       "        this.context.msBackingStorePixelRatio ||\n",
       "        this.context.oBackingStorePixelRatio ||\n",
       "        this.context.backingStorePixelRatio ||\n",
       "        1;\n",
       "\n",
       "    this.ratio = (window.devicePixelRatio || 1) / backingStore;\n",
       "\n",
       "    var rubberband_canvas = (this.rubberband_canvas = document.createElement(\n",
       "        'canvas'\n",
       "    ));\n",
       "    rubberband_canvas.setAttribute(\n",
       "        'style',\n",
       "        'box-sizing: content-box; position: absolute; left: 0; top: 0; z-index: 1;'\n",
       "    );\n",
       "\n",
       "    // Apply a ponyfill if ResizeObserver is not implemented by browser.\n",
       "    if (this.ResizeObserver === undefined) {\n",
       "        if (window.ResizeObserver !== undefined) {\n",
       "            this.ResizeObserver = window.ResizeObserver;\n",
       "        } else {\n",
       "            var obs = _JSXTOOLS_RESIZE_OBSERVER({});\n",
       "            this.ResizeObserver = obs.ResizeObserver;\n",
       "        }\n",
       "    }\n",
       "\n",
       "    this.resizeObserverInstance = new this.ResizeObserver(function (entries) {\n",
       "        var nentries = entries.length;\n",
       "        for (var i = 0; i < nentries; i++) {\n",
       "            var entry = entries[i];\n",
       "            var width, height;\n",
       "            if (entry.contentBoxSize) {\n",
       "                if (entry.contentBoxSize instanceof Array) {\n",
       "                    // Chrome 84 implements new version of spec.\n",
       "                    width = entry.contentBoxSize[0].inlineSize;\n",
       "                    height = entry.contentBoxSize[0].blockSize;\n",
       "                } else {\n",
       "                    // Firefox implements old version of spec.\n",
       "                    width = entry.contentBoxSize.inlineSize;\n",
       "                    height = entry.contentBoxSize.blockSize;\n",
       "                }\n",
       "            } else {\n",
       "                // Chrome <84 implements even older version of spec.\n",
       "                width = entry.contentRect.width;\n",
       "                height = entry.contentRect.height;\n",
       "            }\n",
       "\n",
       "            // Keep the size of the canvas and rubber band canvas in sync with\n",
       "            // the canvas container.\n",
       "            if (entry.devicePixelContentBoxSize) {\n",
       "                // Chrome 84 implements new version of spec.\n",
       "                canvas.setAttribute(\n",
       "                    'width',\n",
       "                    entry.devicePixelContentBoxSize[0].inlineSize\n",
       "                );\n",
       "                canvas.setAttribute(\n",
       "                    'height',\n",
       "                    entry.devicePixelContentBoxSize[0].blockSize\n",
       "                );\n",
       "            } else {\n",
       "                canvas.setAttribute('width', width * fig.ratio);\n",
       "                canvas.setAttribute('height', height * fig.ratio);\n",
       "            }\n",
       "            canvas.setAttribute(\n",
       "                'style',\n",
       "                'width: ' + width + 'px; height: ' + height + 'px;'\n",
       "            );\n",
       "\n",
       "            rubberband_canvas.setAttribute('width', width);\n",
       "            rubberband_canvas.setAttribute('height', height);\n",
       "\n",
       "            // And update the size in Python. We ignore the initial 0/0 size\n",
       "            // that occurs as the element is placed into the DOM, which should\n",
       "            // otherwise not happen due to the minimum size styling.\n",
       "            if (fig.ws.readyState == 1 && width != 0 && height != 0) {\n",
       "                fig.request_resize(width, height);\n",
       "            }\n",
       "        }\n",
       "    });\n",
       "    this.resizeObserverInstance.observe(canvas_div);\n",
       "\n",
       "    function on_mouse_event_closure(name) {\n",
       "        return function (event) {\n",
       "            return fig.mouse_event(event, name);\n",
       "        };\n",
       "    }\n",
       "\n",
       "    rubberband_canvas.addEventListener(\n",
       "        'mousedown',\n",
       "        on_mouse_event_closure('button_press')\n",
       "    );\n",
       "    rubberband_canvas.addEventListener(\n",
       "        'mouseup',\n",
       "        on_mouse_event_closure('button_release')\n",
       "    );\n",
       "    rubberband_canvas.addEventListener(\n",
       "        'dblclick',\n",
       "        on_mouse_event_closure('dblclick')\n",
       "    );\n",
       "    // Throttle sequential mouse events to 1 every 20ms.\n",
       "    rubberband_canvas.addEventListener(\n",
       "        'mousemove',\n",
       "        on_mouse_event_closure('motion_notify')\n",
       "    );\n",
       "\n",
       "    rubberband_canvas.addEventListener(\n",
       "        'mouseenter',\n",
       "        on_mouse_event_closure('figure_enter')\n",
       "    );\n",
       "    rubberband_canvas.addEventListener(\n",
       "        'mouseleave',\n",
       "        on_mouse_event_closure('figure_leave')\n",
       "    );\n",
       "\n",
       "    canvas_div.addEventListener('wheel', function (event) {\n",
       "        if (event.deltaY < 0) {\n",
       "            event.step = 1;\n",
       "        } else {\n",
       "            event.step = -1;\n",
       "        }\n",
       "        on_mouse_event_closure('scroll')(event);\n",
       "    });\n",
       "\n",
       "    canvas_div.appendChild(canvas);\n",
       "    canvas_div.appendChild(rubberband_canvas);\n",
       "\n",
       "    this.rubberband_context = rubberband_canvas.getContext('2d');\n",
       "    this.rubberband_context.strokeStyle = '#000000';\n",
       "\n",
       "    this._resize_canvas = function (width, height, forward) {\n",
       "        if (forward) {\n",
       "            canvas_div.style.width = width + 'px';\n",
       "            canvas_div.style.height = height + 'px';\n",
       "        }\n",
       "    };\n",
       "\n",
       "    // Disable right mouse context menu.\n",
       "    this.rubberband_canvas.addEventListener('contextmenu', function (_e) {\n",
       "        event.preventDefault();\n",
       "        return false;\n",
       "    });\n",
       "\n",
       "    function set_focus() {\n",
       "        canvas.focus();\n",
       "        canvas_div.focus();\n",
       "    }\n",
       "\n",
       "    window.setTimeout(set_focus, 100);\n",
       "};\n",
       "\n",
       "mpl.figure.prototype._init_toolbar = function () {\n",
       "    var fig = this;\n",
       "\n",
       "    var toolbar = document.createElement('div');\n",
       "    toolbar.classList = 'mpl-toolbar';\n",
       "    this.root.appendChild(toolbar);\n",
       "\n",
       "    function on_click_closure(name) {\n",
       "        return function (_event) {\n",
       "            return fig.toolbar_button_onclick(name);\n",
       "        };\n",
       "    }\n",
       "\n",
       "    function on_mouseover_closure(tooltip) {\n",
       "        return function (event) {\n",
       "            if (!event.currentTarget.disabled) {\n",
       "                return fig.toolbar_button_onmouseover(tooltip);\n",
       "            }\n",
       "        };\n",
       "    }\n",
       "\n",
       "    fig.buttons = {};\n",
       "    var buttonGroup = document.createElement('div');\n",
       "    buttonGroup.classList = 'mpl-button-group';\n",
       "    for (var toolbar_ind in mpl.toolbar_items) {\n",
       "        var name = mpl.toolbar_items[toolbar_ind][0];\n",
       "        var tooltip = mpl.toolbar_items[toolbar_ind][1];\n",
       "        var image = mpl.toolbar_items[toolbar_ind][2];\n",
       "        var method_name = mpl.toolbar_items[toolbar_ind][3];\n",
       "\n",
       "        if (!name) {\n",
       "            /* Instead of a spacer, we start a new button group. */\n",
       "            if (buttonGroup.hasChildNodes()) {\n",
       "                toolbar.appendChild(buttonGroup);\n",
       "            }\n",
       "            buttonGroup = document.createElement('div');\n",
       "            buttonGroup.classList = 'mpl-button-group';\n",
       "            continue;\n",
       "        }\n",
       "\n",
       "        var button = (fig.buttons[name] = document.createElement('button'));\n",
       "        button.classList = 'mpl-widget';\n",
       "        button.setAttribute('role', 'button');\n",
       "        button.setAttribute('aria-disabled', 'false');\n",
       "        button.addEventListener('click', on_click_closure(method_name));\n",
       "        button.addEventListener('mouseover', on_mouseover_closure(tooltip));\n",
       "\n",
       "        var icon_img = document.createElement('img');\n",
       "        icon_img.src = '_images/' + image + '.png';\n",
       "        icon_img.srcset = '_images/' + image + '_large.png 2x';\n",
       "        icon_img.alt = tooltip;\n",
       "        button.appendChild(icon_img);\n",
       "\n",
       "        buttonGroup.appendChild(button);\n",
       "    }\n",
       "\n",
       "    if (buttonGroup.hasChildNodes()) {\n",
       "        toolbar.appendChild(buttonGroup);\n",
       "    }\n",
       "\n",
       "    var fmt_picker = document.createElement('select');\n",
       "    fmt_picker.classList = 'mpl-widget';\n",
       "    toolbar.appendChild(fmt_picker);\n",
       "    this.format_dropdown = fmt_picker;\n",
       "\n",
       "    for (var ind in mpl.extensions) {\n",
       "        var fmt = mpl.extensions[ind];\n",
       "        var option = document.createElement('option');\n",
       "        option.selected = fmt === mpl.default_extension;\n",
       "        option.innerHTML = fmt;\n",
       "        fmt_picker.appendChild(option);\n",
       "    }\n",
       "\n",
       "    var status_bar = document.createElement('span');\n",
       "    status_bar.classList = 'mpl-message';\n",
       "    toolbar.appendChild(status_bar);\n",
       "    this.message = status_bar;\n",
       "};\n",
       "\n",
       "mpl.figure.prototype.request_resize = function (x_pixels, y_pixels) {\n",
       "    // Request matplotlib to resize the figure. Matplotlib will then trigger a resize in the client,\n",
       "    // which will in turn request a refresh of the image.\n",
       "    this.send_message('resize', { width: x_pixels, height: y_pixels });\n",
       "};\n",
       "\n",
       "mpl.figure.prototype.send_message = function (type, properties) {\n",
       "    properties['type'] = type;\n",
       "    properties['figure_id'] = this.id;\n",
       "    this.ws.send(JSON.stringify(properties));\n",
       "};\n",
       "\n",
       "mpl.figure.prototype.send_draw_message = function () {\n",
       "    if (!this.waiting) {\n",
       "        this.waiting = true;\n",
       "        this.ws.send(JSON.stringify({ type: 'draw', figure_id: this.id }));\n",
       "    }\n",
       "};\n",
       "\n",
       "mpl.figure.prototype.handle_save = function (fig, _msg) {\n",
       "    var format_dropdown = fig.format_dropdown;\n",
       "    var format = format_dropdown.options[format_dropdown.selectedIndex].value;\n",
       "    fig.ondownload(fig, format);\n",
       "};\n",
       "\n",
       "mpl.figure.prototype.handle_resize = function (fig, msg) {\n",
       "    var size = msg['size'];\n",
       "    if (size[0] !== fig.canvas.width || size[1] !== fig.canvas.height) {\n",
       "        fig._resize_canvas(size[0], size[1], msg['forward']);\n",
       "        fig.send_message('refresh', {});\n",
       "    }\n",
       "};\n",
       "\n",
       "mpl.figure.prototype.handle_rubberband = function (fig, msg) {\n",
       "    var x0 = msg['x0'] / fig.ratio;\n",
       "    var y0 = (fig.canvas.height - msg['y0']) / fig.ratio;\n",
       "    var x1 = msg['x1'] / fig.ratio;\n",
       "    var y1 = (fig.canvas.height - msg['y1']) / fig.ratio;\n",
       "    x0 = Math.floor(x0) + 0.5;\n",
       "    y0 = Math.floor(y0) + 0.5;\n",
       "    x1 = Math.floor(x1) + 0.5;\n",
       "    y1 = Math.floor(y1) + 0.5;\n",
       "    var min_x = Math.min(x0, x1);\n",
       "    var min_y = Math.min(y0, y1);\n",
       "    var width = Math.abs(x1 - x0);\n",
       "    var height = Math.abs(y1 - y0);\n",
       "\n",
       "    fig.rubberband_context.clearRect(\n",
       "        0,\n",
       "        0,\n",
       "        fig.canvas.width / fig.ratio,\n",
       "        fig.canvas.height / fig.ratio\n",
       "    );\n",
       "\n",
       "    fig.rubberband_context.strokeRect(min_x, min_y, width, height);\n",
       "};\n",
       "\n",
       "mpl.figure.prototype.handle_figure_label = function (fig, msg) {\n",
       "    // Updates the figure title.\n",
       "    fig.header.textContent = msg['label'];\n",
       "};\n",
       "\n",
       "mpl.figure.prototype.handle_cursor = function (fig, msg) {\n",
       "    var cursor = msg['cursor'];\n",
       "    switch (cursor) {\n",
       "        case 0:\n",
       "            cursor = 'pointer';\n",
       "            break;\n",
       "        case 1:\n",
       "            cursor = 'default';\n",
       "            break;\n",
       "        case 2:\n",
       "            cursor = 'crosshair';\n",
       "            break;\n",
       "        case 3:\n",
       "            cursor = 'move';\n",
       "            break;\n",
       "    }\n",
       "    fig.rubberband_canvas.style.cursor = cursor;\n",
       "};\n",
       "\n",
       "mpl.figure.prototype.handle_message = function (fig, msg) {\n",
       "    fig.message.textContent = msg['message'];\n",
       "};\n",
       "\n",
       "mpl.figure.prototype.handle_draw = function (fig, _msg) {\n",
       "    // Request the server to send over a new figure.\n",
       "    fig.send_draw_message();\n",
       "};\n",
       "\n",
       "mpl.figure.prototype.handle_image_mode = function (fig, msg) {\n",
       "    fig.image_mode = msg['mode'];\n",
       "};\n",
       "\n",
       "mpl.figure.prototype.handle_history_buttons = function (fig, msg) {\n",
       "    for (var key in msg) {\n",
       "        if (!(key in fig.buttons)) {\n",
       "            continue;\n",
       "        }\n",
       "        fig.buttons[key].disabled = !msg[key];\n",
       "        fig.buttons[key].setAttribute('aria-disabled', !msg[key]);\n",
       "    }\n",
       "};\n",
       "\n",
       "mpl.figure.prototype.handle_navigate_mode = function (fig, msg) {\n",
       "    if (msg['mode'] === 'PAN') {\n",
       "        fig.buttons['Pan'].classList.add('active');\n",
       "        fig.buttons['Zoom'].classList.remove('active');\n",
       "    } else if (msg['mode'] === 'ZOOM') {\n",
       "        fig.buttons['Pan'].classList.remove('active');\n",
       "        fig.buttons['Zoom'].classList.add('active');\n",
       "    } else {\n",
       "        fig.buttons['Pan'].classList.remove('active');\n",
       "        fig.buttons['Zoom'].classList.remove('active');\n",
       "    }\n",
       "};\n",
       "\n",
       "mpl.figure.prototype.updated_canvas_event = function () {\n",
       "    // Called whenever the canvas gets updated.\n",
       "    this.send_message('ack', {});\n",
       "};\n",
       "\n",
       "// A function to construct a web socket function for onmessage handling.\n",
       "// Called in the figure constructor.\n",
       "mpl.figure.prototype._make_on_message_function = function (fig) {\n",
       "    return function socket_on_message(evt) {\n",
       "        if (evt.data instanceof Blob) {\n",
       "            var img = evt.data;\n",
       "            if (img.type !== 'image/png') {\n",
       "                /* FIXME: We get \"Resource interpreted as Image but\n",
       "                 * transferred with MIME type text/plain:\" errors on\n",
       "                 * Chrome.  But how to set the MIME type?  It doesn't seem\n",
       "                 * to be part of the websocket stream */\n",
       "                img.type = 'image/png';\n",
       "            }\n",
       "\n",
       "            /* Free the memory for the previous frames */\n",
       "            if (fig.imageObj.src) {\n",
       "                (window.URL || window.webkitURL).revokeObjectURL(\n",
       "                    fig.imageObj.src\n",
       "                );\n",
       "            }\n",
       "\n",
       "            fig.imageObj.src = (window.URL || window.webkitURL).createObjectURL(\n",
       "                img\n",
       "            );\n",
       "            fig.updated_canvas_event();\n",
       "            fig.waiting = false;\n",
       "            return;\n",
       "        } else if (\n",
       "            typeof evt.data === 'string' &&\n",
       "            evt.data.slice(0, 21) === 'data:image/png;base64'\n",
       "        ) {\n",
       "            fig.imageObj.src = evt.data;\n",
       "            fig.updated_canvas_event();\n",
       "            fig.waiting = false;\n",
       "            return;\n",
       "        }\n",
       "\n",
       "        var msg = JSON.parse(evt.data);\n",
       "        var msg_type = msg['type'];\n",
       "\n",
       "        // Call the  \"handle_{type}\" callback, which takes\n",
       "        // the figure and JSON message as its only arguments.\n",
       "        try {\n",
       "            var callback = fig['handle_' + msg_type];\n",
       "        } catch (e) {\n",
       "            console.log(\n",
       "                \"No handler for the '\" + msg_type + \"' message type: \",\n",
       "                msg\n",
       "            );\n",
       "            return;\n",
       "        }\n",
       "\n",
       "        if (callback) {\n",
       "            try {\n",
       "                // console.log(\"Handling '\" + msg_type + \"' message: \", msg);\n",
       "                callback(fig, msg);\n",
       "            } catch (e) {\n",
       "                console.log(\n",
       "                    \"Exception inside the 'handler_\" + msg_type + \"' callback:\",\n",
       "                    e,\n",
       "                    e.stack,\n",
       "                    msg\n",
       "                );\n",
       "            }\n",
       "        }\n",
       "    };\n",
       "};\n",
       "\n",
       "// from http://stackoverflow.com/questions/1114465/getting-mouse-location-in-canvas\n",
       "mpl.findpos = function (e) {\n",
       "    //this section is from http://www.quirksmode.org/js/events_properties.html\n",
       "    var targ;\n",
       "    if (!e) {\n",
       "        e = window.event;\n",
       "    }\n",
       "    if (e.target) {\n",
       "        targ = e.target;\n",
       "    } else if (e.srcElement) {\n",
       "        targ = e.srcElement;\n",
       "    }\n",
       "    if (targ.nodeType === 3) {\n",
       "        // defeat Safari bug\n",
       "        targ = targ.parentNode;\n",
       "    }\n",
       "\n",
       "    // pageX,Y are the mouse positions relative to the document\n",
       "    var boundingRect = targ.getBoundingClientRect();\n",
       "    var x = e.pageX - (boundingRect.left + document.body.scrollLeft);\n",
       "    var y = e.pageY - (boundingRect.top + document.body.scrollTop);\n",
       "\n",
       "    return { x: x, y: y };\n",
       "};\n",
       "\n",
       "/*\n",
       " * return a copy of an object with only non-object keys\n",
       " * we need this to avoid circular references\n",
       " * http://stackoverflow.com/a/24161582/3208463\n",
       " */\n",
       "function simpleKeys(original) {\n",
       "    return Object.keys(original).reduce(function (obj, key) {\n",
       "        if (typeof original[key] !== 'object') {\n",
       "            obj[key] = original[key];\n",
       "        }\n",
       "        return obj;\n",
       "    }, {});\n",
       "}\n",
       "\n",
       "mpl.figure.prototype.mouse_event = function (event, name) {\n",
       "    var canvas_pos = mpl.findpos(event);\n",
       "\n",
       "    if (name === 'button_press') {\n",
       "        this.canvas.focus();\n",
       "        this.canvas_div.focus();\n",
       "    }\n",
       "\n",
       "    var x = canvas_pos.x * this.ratio;\n",
       "    var y = canvas_pos.y * this.ratio;\n",
       "\n",
       "    this.send_message(name, {\n",
       "        x: x,\n",
       "        y: y,\n",
       "        button: event.button,\n",
       "        step: event.step,\n",
       "        guiEvent: simpleKeys(event),\n",
       "    });\n",
       "\n",
       "    /* This prevents the web browser from automatically changing to\n",
       "     * the text insertion cursor when the button is pressed.  We want\n",
       "     * to control all of the cursor setting manually through the\n",
       "     * 'cursor' event from matplotlib */\n",
       "    event.preventDefault();\n",
       "    return false;\n",
       "};\n",
       "\n",
       "mpl.figure.prototype._key_event_extra = function (_event, _name) {\n",
       "    // Handle any extra behaviour associated with a key event\n",
       "};\n",
       "\n",
       "mpl.figure.prototype.key_event = function (event, name) {\n",
       "    // Prevent repeat events\n",
       "    if (name === 'key_press') {\n",
       "        if (event.key === this._key) {\n",
       "            return;\n",
       "        } else {\n",
       "            this._key = event.key;\n",
       "        }\n",
       "    }\n",
       "    if (name === 'key_release') {\n",
       "        this._key = null;\n",
       "    }\n",
       "\n",
       "    var value = '';\n",
       "    if (event.ctrlKey && event.key !== 'Control') {\n",
       "        value += 'ctrl+';\n",
       "    }\n",
       "    else if (event.altKey && event.key !== 'Alt') {\n",
       "        value += 'alt+';\n",
       "    }\n",
       "    else if (event.shiftKey && event.key !== 'Shift') {\n",
       "        value += 'shift+';\n",
       "    }\n",
       "\n",
       "    value += 'k' + event.key;\n",
       "\n",
       "    this._key_event_extra(event, name);\n",
       "\n",
       "    this.send_message(name, { key: value, guiEvent: simpleKeys(event) });\n",
       "    return false;\n",
       "};\n",
       "\n",
       "mpl.figure.prototype.toolbar_button_onclick = function (name) {\n",
       "    if (name === 'download') {\n",
       "        this.handle_save(this, null);\n",
       "    } else {\n",
       "        this.send_message('toolbar_button', { name: name });\n",
       "    }\n",
       "};\n",
       "\n",
       "mpl.figure.prototype.toolbar_button_onmouseover = function (tooltip) {\n",
       "    this.message.textContent = tooltip;\n",
       "};\n",
       "\n",
       "///////////////// REMAINING CONTENT GENERATED BY embed_js.py /////////////////\n",
       "// prettier-ignore\n",
       "var _JSXTOOLS_RESIZE_OBSERVER=function(A){var t,i=new WeakMap,n=new WeakMap,a=new WeakMap,r=new WeakMap,o=new Set;function s(e){if(!(this instanceof s))throw new TypeError(\"Constructor requires 'new' operator\");i.set(this,e)}function h(){throw new TypeError(\"Function is not a constructor\")}function c(e,t,i,n){e=0 in arguments?Number(arguments[0]):0,t=1 in arguments?Number(arguments[1]):0,i=2 in arguments?Number(arguments[2]):0,n=3 in arguments?Number(arguments[3]):0,this.right=(this.x=this.left=e)+(this.width=i),this.bottom=(this.y=this.top=t)+(this.height=n),Object.freeze(this)}function d(){t=requestAnimationFrame(d);var s=new WeakMap,p=new Set;o.forEach((function(t){r.get(t).forEach((function(i){var r=t instanceof window.SVGElement,o=a.get(t),d=r?0:parseFloat(o.paddingTop),f=r?0:parseFloat(o.paddingRight),l=r?0:parseFloat(o.paddingBottom),u=r?0:parseFloat(o.paddingLeft),g=r?0:parseFloat(o.borderTopWidth),m=r?0:parseFloat(o.borderRightWidth),w=r?0:parseFloat(o.borderBottomWidth),b=u+f,F=d+l,v=(r?0:parseFloat(o.borderLeftWidth))+m,W=g+w,y=r?0:t.offsetHeight-W-t.clientHeight,E=r?0:t.offsetWidth-v-t.clientWidth,R=b+v,z=F+W,M=r?t.width:parseFloat(o.width)-R-E,O=r?t.height:parseFloat(o.height)-z-y;if(n.has(t)){var k=n.get(t);if(k[0]===M&&k[1]===O)return}n.set(t,[M,O]);var S=Object.create(h.prototype);S.target=t,S.contentRect=new c(u,d,M,O),s.has(i)||(s.set(i,[]),p.add(i)),s.get(i).push(S)}))})),p.forEach((function(e){i.get(e).call(e,s.get(e),e)}))}return s.prototype.observe=function(i){if(i instanceof window.Element){r.has(i)||(r.set(i,new Set),o.add(i),a.set(i,window.getComputedStyle(i)));var n=r.get(i);n.has(this)||n.add(this),cancelAnimationFrame(t),t=requestAnimationFrame(d)}},s.prototype.unobserve=function(i){if(i instanceof window.Element&&r.has(i)){var n=r.get(i);n.has(this)&&(n.delete(this),n.size||(r.delete(i),o.delete(i))),n.size||r.delete(i),o.size||cancelAnimationFrame(t)}},A.DOMRectReadOnly=c,A.ResizeObserver=s,A.ResizeObserverEntry=h,A}; // eslint-disable-line\n",
       "mpl.toolbar_items = [[\"Home\", \"Reset original view\", \"fa fa-home icon-home\", \"home\"], [\"Back\", \"Back to previous view\", \"fa fa-arrow-left icon-arrow-left\", \"back\"], [\"Forward\", \"Forward to next view\", \"fa fa-arrow-right icon-arrow-right\", \"forward\"], [\"\", \"\", \"\", \"\"], [\"Pan\", \"Left button pans, Right button zooms\\nx/y fixes axis, CTRL fixes aspect\", \"fa fa-arrows icon-move\", \"pan\"], [\"Zoom\", \"Zoom to rectangle\\nx/y fixes axis, CTRL fixes aspect\", \"fa fa-square-o icon-check-empty\", \"zoom\"], [\"\", \"\", \"\", \"\"], [\"Download\", \"Download plot\", \"fa fa-floppy-o icon-save\", \"download\"]];\n",
       "\n",
       "mpl.extensions = [\"eps\", \"jpeg\", \"pgf\", \"pdf\", \"png\", \"ps\", \"raw\", \"svg\", \"tif\"];\n",
       "\n",
       "mpl.default_extension = \"png\";/* global mpl */\n",
       "\n",
       "var comm_websocket_adapter = function (comm) {\n",
       "    // Create a \"websocket\"-like object which calls the given IPython comm\n",
       "    // object with the appropriate methods. Currently this is a non binary\n",
       "    // socket, so there is still some room for performance tuning.\n",
       "    var ws = {};\n",
       "\n",
       "    ws.binaryType = comm.kernel.ws.binaryType;\n",
       "    ws.readyState = comm.kernel.ws.readyState;\n",
       "    function updateReadyState(_event) {\n",
       "        if (comm.kernel.ws) {\n",
       "            ws.readyState = comm.kernel.ws.readyState;\n",
       "        } else {\n",
       "            ws.readyState = 3; // Closed state.\n",
       "        }\n",
       "    }\n",
       "    comm.kernel.ws.addEventListener('open', updateReadyState);\n",
       "    comm.kernel.ws.addEventListener('close', updateReadyState);\n",
       "    comm.kernel.ws.addEventListener('error', updateReadyState);\n",
       "\n",
       "    ws.close = function () {\n",
       "        comm.close();\n",
       "    };\n",
       "    ws.send = function (m) {\n",
       "        //console.log('sending', m);\n",
       "        comm.send(m);\n",
       "    };\n",
       "    // Register the callback with on_msg.\n",
       "    comm.on_msg(function (msg) {\n",
       "        //console.log('receiving', msg['content']['data'], msg);\n",
       "        var data = msg['content']['data'];\n",
       "        if (data['blob'] !== undefined) {\n",
       "            data = {\n",
       "                data: new Blob(msg['buffers'], { type: data['blob'] }),\n",
       "            };\n",
       "        }\n",
       "        // Pass the mpl event to the overridden (by mpl) onmessage function.\n",
       "        ws.onmessage(data);\n",
       "    });\n",
       "    return ws;\n",
       "};\n",
       "\n",
       "mpl.mpl_figure_comm = function (comm, msg) {\n",
       "    // This is the function which gets called when the mpl process\n",
       "    // starts-up an IPython Comm through the \"matplotlib\" channel.\n",
       "\n",
       "    var id = msg.content.data.id;\n",
       "    // Get hold of the div created by the display call when the Comm\n",
       "    // socket was opened in Python.\n",
       "    var element = document.getElementById(id);\n",
       "    var ws_proxy = comm_websocket_adapter(comm);\n",
       "\n",
       "    function ondownload(figure, _format) {\n",
       "        window.open(figure.canvas.toDataURL());\n",
       "    }\n",
       "\n",
       "    var fig = new mpl.figure(id, ws_proxy, ondownload, element);\n",
       "\n",
       "    // Call onopen now - mpl needs it, as it is assuming we've passed it a real\n",
       "    // web socket which is closed, not our websocket->open comm proxy.\n",
       "    ws_proxy.onopen();\n",
       "\n",
       "    fig.parent_element = element;\n",
       "    fig.cell_info = mpl.find_output_cell(\"<div id='\" + id + \"'></div>\");\n",
       "    if (!fig.cell_info) {\n",
       "        console.error('Failed to find cell for figure', id, fig);\n",
       "        return;\n",
       "    }\n",
       "    fig.cell_info[0].output_area.element.on(\n",
       "        'cleared',\n",
       "        { fig: fig },\n",
       "        fig._remove_fig_handler\n",
       "    );\n",
       "};\n",
       "\n",
       "mpl.figure.prototype.handle_close = function (fig, msg) {\n",
       "    var width = fig.canvas.width / fig.ratio;\n",
       "    fig.cell_info[0].output_area.element.off(\n",
       "        'cleared',\n",
       "        fig._remove_fig_handler\n",
       "    );\n",
       "    fig.resizeObserverInstance.unobserve(fig.canvas_div);\n",
       "\n",
       "    // Update the output cell to use the data from the current canvas.\n",
       "    fig.push_to_output();\n",
       "    var dataURL = fig.canvas.toDataURL();\n",
       "    // Re-enable the keyboard manager in IPython - without this line, in FF,\n",
       "    // the notebook keyboard shortcuts fail.\n",
       "    IPython.keyboard_manager.enable();\n",
       "    fig.parent_element.innerHTML =\n",
       "        '<img src=\"' + dataURL + '\" width=\"' + width + '\">';\n",
       "    fig.close_ws(fig, msg);\n",
       "};\n",
       "\n",
       "mpl.figure.prototype.close_ws = function (fig, msg) {\n",
       "    fig.send_message('closing', msg);\n",
       "    // fig.ws.close()\n",
       "};\n",
       "\n",
       "mpl.figure.prototype.push_to_output = function (_remove_interactive) {\n",
       "    // Turn the data on the canvas into data in the output cell.\n",
       "    var width = this.canvas.width / this.ratio;\n",
       "    var dataURL = this.canvas.toDataURL();\n",
       "    this.cell_info[1]['text/html'] =\n",
       "        '<img src=\"' + dataURL + '\" width=\"' + width + '\">';\n",
       "};\n",
       "\n",
       "mpl.figure.prototype.updated_canvas_event = function () {\n",
       "    // Tell IPython that the notebook contents must change.\n",
       "    IPython.notebook.set_dirty(true);\n",
       "    this.send_message('ack', {});\n",
       "    var fig = this;\n",
       "    // Wait a second, then push the new image to the DOM so\n",
       "    // that it is saved nicely (might be nice to debounce this).\n",
       "    setTimeout(function () {\n",
       "        fig.push_to_output();\n",
       "    }, 1000);\n",
       "};\n",
       "\n",
       "mpl.figure.prototype._init_toolbar = function () {\n",
       "    var fig = this;\n",
       "\n",
       "    var toolbar = document.createElement('div');\n",
       "    toolbar.classList = 'btn-toolbar';\n",
       "    this.root.appendChild(toolbar);\n",
       "\n",
       "    function on_click_closure(name) {\n",
       "        return function (_event) {\n",
       "            return fig.toolbar_button_onclick(name);\n",
       "        };\n",
       "    }\n",
       "\n",
       "    function on_mouseover_closure(tooltip) {\n",
       "        return function (event) {\n",
       "            if (!event.currentTarget.disabled) {\n",
       "                return fig.toolbar_button_onmouseover(tooltip);\n",
       "            }\n",
       "        };\n",
       "    }\n",
       "\n",
       "    fig.buttons = {};\n",
       "    var buttonGroup = document.createElement('div');\n",
       "    buttonGroup.classList = 'btn-group';\n",
       "    var button;\n",
       "    for (var toolbar_ind in mpl.toolbar_items) {\n",
       "        var name = mpl.toolbar_items[toolbar_ind][0];\n",
       "        var tooltip = mpl.toolbar_items[toolbar_ind][1];\n",
       "        var image = mpl.toolbar_items[toolbar_ind][2];\n",
       "        var method_name = mpl.toolbar_items[toolbar_ind][3];\n",
       "\n",
       "        if (!name) {\n",
       "            /* Instead of a spacer, we start a new button group. */\n",
       "            if (buttonGroup.hasChildNodes()) {\n",
       "                toolbar.appendChild(buttonGroup);\n",
       "            }\n",
       "            buttonGroup = document.createElement('div');\n",
       "            buttonGroup.classList = 'btn-group';\n",
       "            continue;\n",
       "        }\n",
       "\n",
       "        button = fig.buttons[name] = document.createElement('button');\n",
       "        button.classList = 'btn btn-default';\n",
       "        button.href = '#';\n",
       "        button.title = name;\n",
       "        button.innerHTML = '<i class=\"fa ' + image + ' fa-lg\"></i>';\n",
       "        button.addEventListener('click', on_click_closure(method_name));\n",
       "        button.addEventListener('mouseover', on_mouseover_closure(tooltip));\n",
       "        buttonGroup.appendChild(button);\n",
       "    }\n",
       "\n",
       "    if (buttonGroup.hasChildNodes()) {\n",
       "        toolbar.appendChild(buttonGroup);\n",
       "    }\n",
       "\n",
       "    // Add the status bar.\n",
       "    var status_bar = document.createElement('span');\n",
       "    status_bar.classList = 'mpl-message pull-right';\n",
       "    toolbar.appendChild(status_bar);\n",
       "    this.message = status_bar;\n",
       "\n",
       "    // Add the close button to the window.\n",
       "    var buttongrp = document.createElement('div');\n",
       "    buttongrp.classList = 'btn-group inline pull-right';\n",
       "    button = document.createElement('button');\n",
       "    button.classList = 'btn btn-mini btn-primary';\n",
       "    button.href = '#';\n",
       "    button.title = 'Stop Interaction';\n",
       "    button.innerHTML = '<i class=\"fa fa-power-off icon-remove icon-large\"></i>';\n",
       "    button.addEventListener('click', function (_evt) {\n",
       "        fig.handle_close(fig, {});\n",
       "    });\n",
       "    button.addEventListener(\n",
       "        'mouseover',\n",
       "        on_mouseover_closure('Stop Interaction')\n",
       "    );\n",
       "    buttongrp.appendChild(button);\n",
       "    var titlebar = this.root.querySelector('.ui-dialog-titlebar');\n",
       "    titlebar.insertBefore(buttongrp, titlebar.firstChild);\n",
       "};\n",
       "\n",
       "mpl.figure.prototype._remove_fig_handler = function (event) {\n",
       "    var fig = event.data.fig;\n",
       "    if (event.target !== this) {\n",
       "        // Ignore bubbled events from children.\n",
       "        return;\n",
       "    }\n",
       "    fig.close_ws(fig, {});\n",
       "};\n",
       "\n",
       "mpl.figure.prototype._root_extra_style = function (el) {\n",
       "    el.style.boxSizing = 'content-box'; // override notebook setting of border-box.\n",
       "};\n",
       "\n",
       "mpl.figure.prototype._canvas_extra_style = function (el) {\n",
       "    // this is important to make the div 'focusable\n",
       "    el.setAttribute('tabindex', 0);\n",
       "    // reach out to IPython and tell the keyboard manager to turn it's self\n",
       "    // off when our div gets focus\n",
       "\n",
       "    // location in version 3\n",
       "    if (IPython.notebook.keyboard_manager) {\n",
       "        IPython.notebook.keyboard_manager.register_events(el);\n",
       "    } else {\n",
       "        // location in version 2\n",
       "        IPython.keyboard_manager.register_events(el);\n",
       "    }\n",
       "};\n",
       "\n",
       "mpl.figure.prototype._key_event_extra = function (event, _name) {\n",
       "    var manager = IPython.notebook.keyboard_manager;\n",
       "    if (!manager) {\n",
       "        manager = IPython.keyboard_manager;\n",
       "    }\n",
       "\n",
       "    // Check for shift+enter\n",
       "    if (event.shiftKey && event.which === 13) {\n",
       "        this.canvas_div.blur();\n",
       "        // select the cell after this one\n",
       "        var index = IPython.notebook.find_cell_index(this.cell_info[0]);\n",
       "        IPython.notebook.select(index + 1);\n",
       "    }\n",
       "};\n",
       "\n",
       "mpl.figure.prototype.handle_save = function (fig, _msg) {\n",
       "    fig.ondownload(fig, null);\n",
       "};\n",
       "\n",
       "mpl.find_output_cell = function (html_output) {\n",
       "    // Return the cell and output element which can be found *uniquely* in the notebook.\n",
       "    // Note - this is a bit hacky, but it is done because the \"notebook_saving.Notebook\"\n",
       "    // IPython event is triggered only after the cells have been serialised, which for\n",
       "    // our purposes (turning an active figure into a static one), is too late.\n",
       "    var cells = IPython.notebook.get_cells();\n",
       "    var ncells = cells.length;\n",
       "    for (var i = 0; i < ncells; i++) {\n",
       "        var cell = cells[i];\n",
       "        if (cell.cell_type === 'code') {\n",
       "            for (var j = 0; j < cell.output_area.outputs.length; j++) {\n",
       "                var data = cell.output_area.outputs[j];\n",
       "                if (data.data) {\n",
       "                    // IPython >= 3 moved mimebundle to data attribute of output\n",
       "                    data = data.data;\n",
       "                }\n",
       "                if (data['text/html'] === html_output) {\n",
       "                    return [cell, data, j];\n",
       "                }\n",
       "            }\n",
       "        }\n",
       "    }\n",
       "};\n",
       "\n",
       "// Register the function which deals with the matplotlib target/channel.\n",
       "// The kernel may be null if the page has been refreshed.\n",
       "if (IPython.notebook.kernel !== null) {\n",
       "    IPython.notebook.kernel.comm_manager.register_target(\n",
       "        'matplotlib',\n",
       "        mpl.mpl_figure_comm\n",
       "    );\n",
       "}\n"
      ],
      "text/plain": [
       "<IPython.core.display.Javascript object>"
      ]
     },
     "metadata": {},
     "output_type": "display_data"
    },
    {
     "data": {
      "text/html": [
       "<img src=\"data:image/png;base64,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\" width=\"640\">"
      ],
      "text/plain": [
       "<IPython.core.display.HTML object>"
      ]
     },
     "metadata": {},
     "output_type": "display_data"
    },
    {
     "data": {
      "text/plain": [
       "[<matplotlib.lines.Line2D at 0x248ce2ce490>]"
      ]
     },
     "execution_count": 34,
     "metadata": {},
     "output_type": "execute_result"
    }
   ],
   "source": [
    "plt.figure()\n",
    "plt.grid()\n",
    "plt.axvline(x = 0, color= 'black')\n",
    "plt.axhline(y = 0, color= 'black')\n",
    "plt.plot(x, y_1)\n",
    "plt.plot(x, y_2)\n",
    "plt.plot(x, y_3)"
   ]
  },
  {
   "cell_type": "markdown",
   "metadata": {},
   "source": [
    "Podemos ver que las 3 rectas se intersectan en un punto. Por lo que el sistema *sí tiene solución* y además, *es única*. Por lo que es un sistema **compatible determinado**."
   ]
  },
  {
   "cell_type": "markdown",
   "metadata": {},
   "source": [
    "![](https://slideplayer.es/slide/5478638/17/images/5/Sistema+compatible+determinado+Sistema+compatible+indeterminado.jpg)"
   ]
  },
  {
   "cell_type": "markdown",
   "metadata": {},
   "source": [
    "---"
   ]
  },
  {
   "cell_type": "markdown",
   "metadata": {},
   "source": [
    "### Graficar vectores"
   ]
  },
  {
   "cell_type": "markdown",
   "metadata": {},
   "source": [
    "Vamos a crear una función que nos va a ayudar a visualizar vectores para trabajar en el resto de contenidos. Escribiremos el código aquí y también lo guardaremos en otro archivo en local para hacer la llamada a la función desde otro notebook."
   ]
  },
  {
   "cell_type": "code",
   "execution_count": 120,
   "metadata": {},
   "outputs": [],
   "source": [
    "%matplotlib inline\n",
    "\n",
    "import numpy as np\n",
    "import matplotlib.pyplot as plt"
   ]
  },
  {
   "cell_type": "code",
   "execution_count": 121,
   "metadata": {},
   "outputs": [],
   "source": [
    "v1 = np.array([2,5])\n",
    "v2 = np.array([3,2])"
   ]
  },
  {
   "cell_type": "code",
   "execution_count": 122,
   "metadata": {},
   "outputs": [],
   "source": [
    "def graficar_vectores(vectors, color, alpha=1):\n",
    "    \n",
    "    plt.figure()\n",
    "    plt.grid()\n",
    "    \n",
    "    # Ejes\n",
    "    plt.axvline(x=0, color='black')\n",
    "    plt.axhline(y=0, color='black')\n",
    "    \n",
    "    for i in range(len(vectors)):\n",
    "        # Recorremos cada vector y los concatenamos\n",
    "        # (Para poner la cola del vector - origen)\n",
    "        x = np.concatenate([[0,0], vectors[i]])\n",
    "        \n",
    "        # Graficamos\n",
    "        plt.quiver([x[0]],\n",
    "                   [x[1]],\n",
    "                   [x[2]],\n",
    "                   [x[3]],\n",
    "                   angles = 'xy',\n",
    "                   scale_units='xy',\n",
    "                   scale= 1,\n",
    "                   color= color[i],\n",
    "                   alpha = alpha)"
   ]
  },
  {
   "cell_type": "code",
   "execution_count": 123,
   "metadata": {
    "scrolled": false
   },
   "outputs": [
    {
     "data": {
      "text/plain": [
       "(-1.0, 6.0)"
      ]
     },
     "execution_count": 123,
     "metadata": {},
     "output_type": "execute_result"
    },
    {
     "data": {
      "image/png": "[encoded data removed]",
      "text/plain": [
       "<Figure size 432x288 with 1 Axes>"
      ]
     },
     "metadata": {
      "needs_background": "light"
     },
     "output_type": "display_data"
    }
   ],
   "source": [
    "graficar_vectores([v1, v2], ['blue','red'], alpha=1)\n",
    "\n",
    "plt.xlim(-1, 5)\n",
    "plt.ylim(-1,6)"
   ]
  },
  {
   "cell_type": "markdown",
   "metadata": {},
   "source": [
    "Vamos a estar utilizando constantemente esta función, pero recordemos que cada que reiniciemos el notebook se borrará de la memoria y tendremos que buscar la celda y ejecutar de nuevo. Para evitar esto, la guardaremos en un nuevo notebook y simplemente \"mandaremos a ejecutar\" dicho notebook cada que queramos utilizar la función."
   ]
  },
  {
   "cell_type": "markdown",
   "metadata": {},
   "source": [
    "Utilizaremos el comando `%run\"\"` con la ruta relativa de nuestro archivo dentro de las comillas, el cual que contiene la función que queremos utilizar."
   ]
  },
  {
   "cell_type": "code",
   "execution_count": 124,
   "metadata": {},
   "outputs": [],
   "source": [
    "%run \"./Funciones_Auxiliares/Graficar_Vectores.ipynb\""
   ]
  },
  {
   "cell_type": "markdown",
   "metadata": {},
   "source": [
    "Para verificar que esto funciona, reinicie el notebook e intente ejecutar la instrucción:\n",
    "\n",
    "```Python\n",
    "graficar_vectores([v1, v2], ['blue','red'], alpha=1)\n",
    "\n",
    "plt.xlim(-1, 5)\n",
    "plt.ylim(-1,6)\n",
    "```"
   ]
  },
  {
   "cell_type": "markdown",
   "metadata": {},
   "source": [
    "y aparecerá que no está definida dicha función, así que después ejecute la linea con la instrucción `%run\"\"` y ahora sí se podrá ejecutar el graficado ya que ha sido llamado desde el otro notebook."
   ]
  },
  {
   "cell_type": "markdown",
   "metadata": {},
   "source": [
    "---"
   ]
  },
  {
   "cell_type": "markdown",
   "metadata": {},
   "source": [
    "### ¿Qué es una combinación lineal?"
   ]
  },
  {
   "cell_type": "markdown",
   "metadata": {},
   "source": [
    "Más arriba en la sección de sistemas de ecuaciones definimos que era una combinación lineal. A grandes rasgos y de una forma muy \"hablada\", podemos decir que es multiplicar vectores por escalares y sumar dichos productos entre si, de forma que obtendríamos un nuevo vector. Así podríamos describir el nuevo vector como **una combinación lineal** de los vectores anteriores que los conforman."
   ]
  },
  {
   "cell_type": "markdown",
   "metadata": {},
   "source": [
    "$$ a_1 v_1  + \\dots +  a_n v_n$$"
   ]
  },
  {
   "cell_type": "code",
   "execution_count": 125,
   "metadata": {},
   "outputs": [],
   "source": [
    "%matplotlib inline\n",
    "\n",
    "import numpy as np\n",
    "import matplotlib.pyplot as plt"
   ]
  },
  {
   "cell_type": "code",
   "execution_count": 126,
   "metadata": {},
   "outputs": [],
   "source": [
    "# Llamemos a la función de graficar vectores\n",
    "%run \"./Funciones_Auxiliares/Graficar_Vectores.ipynb\""
   ]
  },
  {
   "cell_type": "code",
   "execution_count": 127,
   "metadata": {},
   "outputs": [],
   "source": [
    "# Definamos los vectores\n",
    "v1 = np.array([2,5])\n",
    "v2 = np.array([3,2])"
   ]
  },
  {
   "cell_type": "code",
   "execution_count": 128,
   "metadata": {},
   "outputs": [
    {
     "name": "stdout",
     "output_type": "stream",
     "text": [
      "[13 16]\n"
     ]
    }
   ],
   "source": [
    "# Escribimos una combinación lineal de esos vectores\n",
    "v1v2 = 2*v1 + 3*v2\n",
    "print(v1v2)"
   ]
  },
  {
   "cell_type": "code",
   "execution_count": 129,
   "metadata": {},
   "outputs": [
    {
     "data": {
      "text/plain": [
       "(-1.0, 16.5)"
      ]
     },
     "execution_count": 129,
     "metadata": {},
     "output_type": "execute_result"
    },
    {
     "data": {
      "image/png": "[encoded data removed]",
      "text/plain": [
       "<Figure size 432x288 with 1 Axes>"
      ]
     },
     "metadata": {
      "needs_background": "light"
     },
     "output_type": "display_data"
    }
   ],
   "source": [
    "graficar_vectores([v1,v2,v1v2], color = ['red','blue','purple'], alpha = 1)\n",
    "plt.xlim(-1,13.5)\n",
    "plt.ylim(-1,16.5)"
   ]
  },
  {
   "cell_type": "markdown",
   "metadata": {},
   "source": [
    "aún cuesta algo de trabajo interpretar la combinación, así que vamos a graficar los vectores rojo y azul multiplicandolos por los escalares correspondientes:"
   ]
  },
  {
   "cell_type": "code",
   "execution_count": 24,
   "metadata": {},
   "outputs": [
    {
     "data": {
      "text/plain": [
       "(-1.0, 16.5)"
      ]
     },
     "execution_count": 24,
     "metadata": {},
     "output_type": "execute_result"
    },
    {
     "data": {
      "image/png": "[encoded data removed]",
      "text/plain": [
       "<Figure size 432x288 with 1 Axes>"
      ]
     },
     "metadata": {
      "needs_background": "light"
     },
     "output_type": "display_data"
    }
   ],
   "source": [
    "graficar_vectores([2*v1,3*v2,v1v2], color = ['red','blue','purple'], alpha = 1)\n",
    "plt.xlim(-1,13.5)\n",
    "plt.ylim(-1,16.5)"
   ]
  },
  {
   "cell_type": "markdown",
   "metadata": {},
   "source": [
    "Ahora es mucho más claro, podemos visualizar al vector resultante como si colocaramos la cola del vector azul en la punta del vector rojo, de manera que obtendríamos nuestro paralelogramo.\n",
    "\n",
    "Vamos a modificar un poco la función de graficado para que nos dibuje el paralelogramo. Lo hice de forma que primero recibe el vector resultante y luego los 2 vectores que conforman la combinación lineal."
   ]
  },
  {
   "cell_type": "code",
   "execution_count": 77,
   "metadata": {},
   "outputs": [],
   "source": [
    "def graficar_vectores_punta_cola(vectors, color, alpha=1):\n",
    "    \n",
    "    plt.figure()\n",
    "    plt.grid()\n",
    "    \n",
    "    # Ejes\n",
    "    plt.axvline(x=0, color='black')\n",
    "    plt.axhline(y=0, color='black')\n",
    "    \n",
    "    for i in range(len(vectors)):\n",
    "        # Este código en especial solo serviría para combinar 2 vectores\n",
    "        if i == 1:\n",
    "            x = np.concatenate([[0,0], vectors[i]])\n",
    "        elif i == 2: \n",
    "            x = np.concatenate([ vectors[i-1] , vectors[i] ])\n",
    "        else:\n",
    "            x = np.concatenate([[0,0], vectors[i]])\n",
    "        \n",
    "        # Graficamos\n",
    "        plt.quiver([x[0]],\n",
    "                   [x[1]],\n",
    "                   [x[2]],\n",
    "                   [x[3]],\n",
    "                   angles = 'xy',\n",
    "                   scale_units='xy',\n",
    "                   scale= 1,\n",
    "                   color= color[i],\n",
    "                   alpha = alpha)"
   ]
  },
  {
   "cell_type": "code",
   "execution_count": 78,
   "metadata": {},
   "outputs": [
    {
     "data": {
      "text/plain": [
       "(-1.0, 16.5)"
      ]
     },
     "execution_count": 78,
     "metadata": {},
     "output_type": "execute_result"
    },
    {
     "data": {
      "image/png": "[encoded data removed]",
      "text/plain": [
       "<Figure size 432x288 with 1 Axes>"
      ]
     },
     "metadata": {
      "needs_background": "light"
     },
     "output_type": "display_data"
    }
   ],
   "source": [
    "graficar_vectores_punta_cola([v1v2, 2*v1,3*v2], color = ['purple','red','blue'], alpha = 1)\n",
    "plt.xlim(-1,13.5)\n",
    "plt.ylim(-1,16.5)"
   ]
  },
  {
   "cell_type": "markdown",
   "metadata": {},
   "source": [
    "Ahora, definamos una función para graficar un subconjunto de las posibles combinaciones lineales que podríamos tener al multiplicar nuestros vectores por un cierto rango de escalares."
   ]
  },
  {
   "cell_type": "markdown",
   "metadata": {},
   "source": [
    "Vamos a definir "
   ]
  },
  {
   "cell_type": "code",
   "execution_count": 89,
   "metadata": {},
   "outputs": [
    {
     "data": {
      "text/plain": [
       "<matplotlib.lines.Line2D at 0x23be9a1c850>"
      ]
     },
     "execution_count": 89,
     "metadata": {},
     "output_type": "execute_result"
    },
    {
     "data": {
      "image/png": "[encoded data removed]",
      "text/plain": [
       "<Figure size 432x288 with 1 Axes>"
      ]
     },
     "metadata": {
      "needs_background": "light"
     },
     "output_type": "display_data"
    }
   ],
   "source": [
    "for a in range(-10,10):\n",
    "    for b in range(-10,10):\n",
    "        plt.scatter(v1[0]*a + v2[0]*b, v1[1]*a + v2[1]*b,\n",
    "                   marker= '.', color='pink')\n",
    "        \n",
    "plt.grid()\n",
    "plt.xlim(-100,100)\n",
    "plt.ylim(-100,100)\n",
    "plt.axvline(x=0, color='black')\n",
    "plt.axhline(y=0, color='black')"
   ]
  },
  {
   "cell_type": "markdown",
   "metadata": {},
   "source": [
    "Lo que estamos viendo son solo unas pocas de las posibles combinaciones lineales posibles de 2 vectores. Si siguieramos expandiendo esto, describiríamos a todo el espacio $\\mathbb{R}^2$. \n",
    "\n",
    "Así que con ciertos vectores \"base\" podríamos describir todo el espacio a partir de combinaciones lineales de estos."
   ]
  },
  {
   "cell_type": "markdown",
   "metadata": {},
   "source": [
    "### ¿Qué es un espacio y un subespacio?"
   ]
  },
  {
   "cell_type": "markdown",
   "metadata": {},
   "source": [
    "Un **espacio vectorial** es un conjunto *no vacío* de $V$ objetos llamados **vectores**, en el que se han definido dos operaciones: la suma y el producto escalar sujetas a diez axiomas que se dan a continuación. Los axiomas deben ser válidos para todos los vectores $u$, $v$, y $w$ en $V$ y todos los escalares $\\alpha$ y $\\beta$ reales."
   ]
  },
  {
   "cell_type": "markdown",
   "metadata": {},
   "source": [
    "1. $u + v \\in V$\n",
    "* $u + v = v + u$\n",
    "* $(u + v) + w = u+(v + w)$\n",
    "* Existe un vector nulo $0v \\in V$ tal que, $v + 0v = v$\n",
    "* Para cada $v$ en $V$, existe un opuesto $(-v) \\in V$ tal que, $v + (-v) = 0v$\n",
    "* $\\alpha v \\in V$ \n",
    "* $\\alpha(u+v) = \\alpha u + \\alpha v $\n",
    "* $(\\alpha + \\beta) v = \\alpha v + \\beta v$\n",
    "* $\\alpha(\\beta v) = (\\alpha \\beta) v$\n",
    "* $1v = v$"
   ]
  },
  {
   "cell_type": "markdown",
   "metadata": {},
   "source": [
    "En este caso nos estamos refiriendo a un **espacio vectorial real**."
   ]
  },
  {
   "cell_type": "markdown",
   "metadata": {},
   "source": [
    "Los espacios $\\mathbb{R}^n$, con $n \\ge 1$, son los ejemplos principales de espacios vectoriales. La intuición geométrica para $\\mathbb{R}^3$ nos ayudará a entender y visualizar muchos conceptos de esta unidad."
   ]
  },
  {
   "cell_type": "markdown",
   "metadata": {},
   "source": [
    "Los vectores de $\\mathbb{R}^n$ son $n-$tuplas de números reales, osea:"
   ]
  },
  {
   "cell_type": "markdown",
   "metadata": {},
   "source": [
    "$$\\mathbb{R}^n = \\{ (x_1,x_2, \\dots, x_n), \\text{ con } x_i \\in \\mathbb{R} \\}$$"
   ]
  },
  {
   "cell_type": "markdown",
   "metadata": {},
   "source": [
    "En $\\mathbb{R}^n$, la suma de vectores y el producto por un escalar se definen como:"
   ]
  },
  {
   "cell_type": "markdown",
   "metadata": {},
   "source": [
    "Sean $u=(u_1,u_2, \\dots, u_n)$ y $v=(v_1,v_2, \\dots, v_n)$  $\\in \\mathbb{R}^n$"
   ]
  },
  {
   "cell_type": "markdown",
   "metadata": {},
   "source": [
    "$$ u + v = (u_1  + v_1 , u_2 + v_2 , \\dots , u_n + v_n) \\in \\mathbb{R}^n$$"
   ]
  },
  {
   "cell_type": "markdown",
   "metadata": {},
   "source": [
    "$$ \\alpha v = (\\alpha v_1, \\alpha v_2, \\dots, \\alpha v_n) \\in \\mathbb{R}^n $$"
   ]
  },
  {
   "cell_type": "markdown",
   "metadata": {},
   "source": [
    "Sea $V$ un espacio vectorial y $W$ un subconjunto no vacío de $V$.\n",
    "\n",
    "$W$ es un **subespacio** de $V$ si $W$ es en sí mismo un espacio vectorial con las mismas operaciones (suma de vectores y producto escalar) definidas en $V$."
   ]
  },
  {
   "cell_type": "markdown",
   "metadata": {},
   "source": [
    "#### Condiciones necesarias y suficientes para definir un subespacio"
   ]
  },
  {
   "cell_type": "markdown",
   "metadata": {},
   "source": [
    "Sea $W$ un subconjunto de un espacio vectorial $V$, $\\left( {W \\subseteq V} \\right)$. $W$ es un **subespacio** de $V$ si y sólo si se cumplen las siguientes condiciones:"
   ]
  },
  {
   "cell_type": "markdown",
   "metadata": {},
   "source": [
    "* $0V$ está en $W$.\n",
    "* Si $u$ y $v$ están en $W$, entonces, $u+v$ están en $W$.\n",
    "* Si $u$ está en $W$ Y $k$ es un escalar, $ku$ está en $W$."
   ]
  },
  {
   "cell_type": "markdown",
   "metadata": {},
   "source": [
    "La condición #1 nos asegura que $W$ **no es vacío**. Mientras que las propiedades a,b y c corresponden a los axiomas 4,1 y 6.\n",
    "\n",
    "Aún faltaría comprobar que cada vector de $W$ tiene su opuesto en $W$."
   ]
  },
  {
   "cell_type": "code",
   "execution_count": 130,
   "metadata": {},
   "outputs": [],
   "source": [
    "%matplotlib notebook\n",
    "\n",
    "import numpy as np\n",
    "import matplotlib.pyplot as plt"
   ]
  },
  {
   "cell_type": "markdown",
   "metadata": {},
   "source": [
    "Vamos a crear 2 vectores \"base\":"
   ]
  },
  {
   "cell_type": "code",
   "execution_count": 131,
   "metadata": {},
   "outputs": [],
   "source": [
    "v1 = np.array([1,1])\n",
    "v2 = np.array([-1,-1])"
   ]
  },
  {
   "cell_type": "code",
   "execution_count": 132,
   "metadata": {},
   "outputs": [],
   "source": [
    "# Llamemos a la función de graficar vectores\n",
    "%run \"./Funciones_Auxiliares/Graficar_Vectores.ipynb\""
   ]
  },
  {
   "cell_type": "code",
   "execution_count": 133,
   "metadata": {},
   "outputs": [
    {
     "data": {
      "text/plain": [
       "(-1.5, 1.5)"
      ]
     },
     "execution_count": 133,
     "metadata": {},
     "output_type": "execute_result"
    },
    {
     "data": {
      "image/png": "[encoded data removed]",
      "text/plain": [
       "<Figure size 432x288 with 1 Axes>"
      ]
     },
     "metadata": {
      "needs_background": "light"
     },
     "output_type": "display_data"
    }
   ],
   "source": [
    "graficar_vectores([v1,v2], color=['red','blue'], alpha=1)\n",
    "plt.xlim(-1.5,1.5)\n",
    "plt.ylim(-1.5,1.5)"
   ]
  },
  {
   "cell_type": "markdown",
   "metadata": {},
   "source": [
    "Ahora, vamos a ver que otros vectores nos generarían como espacio:"
   ]
  },
  {
   "cell_type": "code",
   "execution_count": 134,
   "metadata": {},
   "outputs": [
    {
     "data": {
      "text/plain": [
       "<matplotlib.lines.Line2D at 0x23bee6536d0>"
      ]
     },
     "execution_count": 134,
     "metadata": {},
     "output_type": "execute_result"
    },
    {
     "data": {
      "image/png": "[encoded data removed]",
      "text/plain": [
       "<Figure size 432x288 with 1 Axes>"
      ]
     },
     "metadata": {
      "needs_background": "light"
     },
     "output_type": "display_data"
    }
   ],
   "source": [
    "for a in range(-10,10):\n",
    "    for b in range(-10,10):\n",
    "        plt.scatter(v1[0]*a + v2[0]*b, v1[1]*a + v2[1]*b,\n",
    "                   marker= '.', color='purple')\n",
    "        \n",
    "plt.grid()\n",
    "plt.xlim(-25,25)\n",
    "plt.ylim(-25,25)\n",
    "plt.axvline(x=0, color='black')\n",
    "plt.axhline(y=0, color='black')"
   ]
  },
  {
   "cell_type": "markdown",
   "metadata": {},
   "source": [
    "Así que, a partir de combinaciones lineales de $v1=(1,1)$ y $v2=(-1,-1)$ sólo podríamos obtener nuevos vectores que sigan la trayectoria de la recta de arriba. Así que NO podemos utilizarlos como nuestros vectores \"base\" para construir  todo $\\mathbb{R}^2$. De hecho, si nos fijamos podemos notar que $v2$ puede producirse como una combinación lineal de $v1$."
   ]
  },
  {
   "cell_type": "markdown",
   "metadata": {},
   "source": [
    "De hecho, para conformar un espacio tendremos que tener una base de vectores **linealmente independientes** (más adelante explicaremos que es eso). En este caso, para formar a $\\mathbb{R}^2$ tendríamos que utilizar los vectores $v1=(1,0)$ y $v2=(0,1)$. Vamos a corroborarlo:"
   ]
  },
  {
   "cell_type": "code",
   "execution_count": 105,
   "metadata": {},
   "outputs": [],
   "source": [
    "v1 = np.array([1,0])\n",
    "v2 = np.array([0,1])"
   ]
  },
  {
   "cell_type": "code",
   "execution_count": 112,
   "metadata": {},
   "outputs": [
    {
     "data": {
      "text/plain": [
       "(-0.5, 1.5)"
      ]
     },
     "execution_count": 112,
     "metadata": {},
     "output_type": "execute_result"
    },
    {
     "data": {
      "image/png": "[encoded data removed]",
      "text/plain": [
       "<Figure size 432x288 with 1 Axes>"
      ]
     },
     "metadata": {
      "needs_background": "light"
     },
     "output_type": "display_data"
    }
   ],
   "source": [
    "%run \"./Funciones_Auxiliares/Graficar_Vectores.ipynb\"\n",
    "graficar_vectores([v1,v2], color=['red','blue'], alpha=1)\n",
    "plt.xlim(-0.5,1.5)\n",
    "plt.ylim(-0.5,1.5)"
   ]
  },
  {
   "cell_type": "code",
   "execution_count": 108,
   "metadata": {},
   "outputs": [
    {
     "data": {
      "text/plain": [
       "<matplotlib.lines.Line2D at 0x23bec501370>"
      ]
     },
     "execution_count": 108,
     "metadata": {},
     "output_type": "execute_result"
    },
    {
     "data": {
      "image/png": "[encoded data removed]",
      "text/plain": [
       "<Figure size 432x288 with 1 Axes>"
      ]
     },
     "metadata": {
      "needs_background": "light"
     },
     "output_type": "display_data"
    }
   ],
   "source": [
    "for a in range(-10,10):\n",
    "    for b in range(-10,10):\n",
    "        plt.scatter(v1[0]*a + v2[0]*b, v1[1]*a + v2[1]*b,\n",
    "                   marker= '.', color='purple')\n",
    "        \n",
    "plt.grid()\n",
    "plt.xlim(-20,20)\n",
    "plt.ylim(-20,20)\n",
    "plt.axvline(x=0, color='black')\n",
    "plt.axhline(y=0, color='black')"
   ]
  },
  {
   "cell_type": "markdown",
   "metadata": {},
   "source": [
    "y podemos ver que ahora sí estamos generando todo el espacio $\\mathbb{R^2}$ (recordemos que solo hicimos la iteración de -10 a 10)."
   ]
  },
  {
   "cell_type": "markdown",
   "metadata": {},
   "source": [
    "También podríamos construir el espacio con los siguientes vectores:"
   ]
  },
  {
   "cell_type": "code",
   "execution_count": 113,
   "metadata": {},
   "outputs": [],
   "source": [
    "v1 = np.array([1,0])\n",
    "v2 = np.array([2,-3])"
   ]
  },
  {
   "cell_type": "code",
   "execution_count": 117,
   "metadata": {},
   "outputs": [
    {
     "data": {
      "text/plain": [
       "(-5.0, 1.5)"
      ]
     },
     "execution_count": 117,
     "metadata": {},
     "output_type": "execute_result"
    },
    {
     "data": {
      "image/png": "[encoded data removed]",
      "text/plain": [
       "<Figure size 432x288 with 1 Axes>"
      ]
     },
     "metadata": {
      "needs_background": "light"
     },
     "output_type": "display_data"
    }
   ],
   "source": [
    "%run \"./Funciones_Auxiliares/Graficar_Vectores.ipynb\"\n",
    "graficar_vectores([v1,v2], color=['red','blue'], alpha=1)\n",
    "plt.xlim(-0.5,4)\n",
    "plt.ylim(-5,1.5)"
   ]
  },
  {
   "cell_type": "code",
   "execution_count": 119,
   "metadata": {},
   "outputs": [
    {
     "data": {
      "text/plain": [
       "<matplotlib.lines.Line2D at 0x23bee39cf70>"
      ]
     },
     "execution_count": 119,
     "metadata": {},
     "output_type": "execute_result"
    },
    {
     "data": {
      "image/png": "[encoded data removed]",
      "text/plain": [
       "<Figure size 432x288 with 1 Axes>"
      ]
     },
     "metadata": {
      "needs_background": "light"
     },
     "output_type": "display_data"
    }
   ],
   "source": [
    "for a in range(-10,10):\n",
    "    for b in range(-10,10):\n",
    "        plt.scatter(v1[0]*a + v2[0]*b, v1[1]*a + v2[1]*b,\n",
    "                   marker= '.', color='purple')\n",
    "        \n",
    "plt.grid()\n",
    "plt.xlim(-25,25)\n",
    "plt.ylim(-25,25)\n",
    "plt.axvline(x=0, color='black')\n",
    "plt.axhline(y=0, color='black')"
   ]
  },
  {
   "cell_type": "markdown",
   "metadata": {},
   "source": [
    "Ahora, vamos a visualizar como el espacio $\\mathbb{R}^2$ es un **subespacio** de $\\mathbb{R}^3$:"
   ]
  },
  {
   "cell_type": "code",
   "execution_count": 3,
   "metadata": {},
   "outputs": [],
   "source": [
    "import numpy as np\n",
    "import matplotlib.pyplot as plt\n",
    "from mpl_toolkits.mplot3d import Axes3D\n",
    "\n",
    "%matplotlib notebook"
   ]
  },
  {
   "cell_type": "code",
   "execution_count": 4,
   "metadata": {},
   "outputs": [],
   "source": [
    "v1 = np.array([1,0,0])\n",
    "v2 = np.array([0,1,0])"
   ]
  },
  {
   "cell_type": "code",
   "execution_count": 8,
   "metadata": {},
   "outputs": [
    {
     "data": {
      "application/javascript": [
       "/* Put everything inside the global mpl namespace */\n",
       "/* global mpl */\n",
       "window.mpl = {};\n",
       "\n",
       "mpl.get_websocket_type = function () {\n",
       "    if (typeof WebSocket !== 'undefined') {\n",
       "        return WebSocket;\n",
       "    } else if (typeof MozWebSocket !== 'undefined') {\n",
       "        return MozWebSocket;\n",
       "    } else {\n",
       "        alert(\n",
       "            'Your browser does not have WebSocket support. ' +\n",
       "                'Please try Chrome, Safari or Firefox ≥ 6. ' +\n",
       "                'Firefox 4 and 5 are also supported but you ' +\n",
       "                'have to enable WebSockets in about:config.'\n",
       "        );\n",
       "    }\n",
       "};\n",
       "\n",
       "mpl.figure = function (figure_id, websocket, ondownload, parent_element) {\n",
       "    this.id = figure_id;\n",
       "\n",
       "    this.ws = websocket;\n",
       "\n",
       "    this.supports_binary = this.ws.binaryType !== undefined;\n",
       "\n",
       "    if (!this.supports_binary) {\n",
       "        var warnings = document.getElementById('mpl-warnings');\n",
       "        if (warnings) {\n",
       "            warnings.style.display = 'block';\n",
       "            warnings.textContent =\n",
       "                'This browser does not support binary websocket messages. ' +\n",
       "                'Performance may be slow.';\n",
       "        }\n",
       "    }\n",
       "\n",
       "    this.imageObj = new Image();\n",
       "\n",
       "    this.context = undefined;\n",
       "    this.message = undefined;\n",
       "    this.canvas = undefined;\n",
       "    this.rubberband_canvas = undefined;\n",
       "    this.rubberband_context = undefined;\n",
       "    this.format_dropdown = undefined;\n",
       "\n",
       "    this.image_mode = 'full';\n",
       "\n",
       "    this.root = document.createElement('div');\n",
       "    this.root.setAttribute('style', 'display: inline-block');\n",
       "    this._root_extra_style(this.root);\n",
       "\n",
       "    parent_element.appendChild(this.root);\n",
       "\n",
       "    this._init_header(this);\n",
       "    this._init_canvas(this);\n",
       "    this._init_toolbar(this);\n",
       "\n",
       "    var fig = this;\n",
       "\n",
       "    this.waiting = false;\n",
       "\n",
       "    this.ws.onopen = function () {\n",
       "        fig.send_message('supports_binary', { value: fig.supports_binary });\n",
       "        fig.send_message('send_image_mode', {});\n",
       "        if (fig.ratio !== 1) {\n",
       "            fig.send_message('set_dpi_ratio', { dpi_ratio: fig.ratio });\n",
       "        }\n",
       "        fig.send_message('refresh', {});\n",
       "    };\n",
       "\n",
       "    this.imageObj.onload = function () {\n",
       "        if (fig.image_mode === 'full') {\n",
       "            // Full images could contain transparency (where diff images\n",
       "            // almost always do), so we need to clear the canvas so that\n",
       "            // there is no ghosting.\n",
       "            fig.context.clearRect(0, 0, fig.canvas.width, fig.canvas.height);\n",
       "        }\n",
       "        fig.context.drawImage(fig.imageObj, 0, 0);\n",
       "    };\n",
       "\n",
       "    this.imageObj.onunload = function () {\n",
       "        fig.ws.close();\n",
       "    };\n",
       "\n",
       "    this.ws.onmessage = this._make_on_message_function(this);\n",
       "\n",
       "    this.ondownload = ondownload;\n",
       "};\n",
       "\n",
       "mpl.figure.prototype._init_header = function () {\n",
       "    var titlebar = document.createElement('div');\n",
       "    titlebar.classList =\n",
       "        'ui-dialog-titlebar ui-widget-header ui-corner-all ui-helper-clearfix';\n",
       "    var titletext = document.createElement('div');\n",
       "    titletext.classList = 'ui-dialog-title';\n",
       "    titletext.setAttribute(\n",
       "        'style',\n",
       "        'width: 100%; text-align: center; padding: 3px;'\n",
       "    );\n",
       "    titlebar.appendChild(titletext);\n",
       "    this.root.appendChild(titlebar);\n",
       "    this.header = titletext;\n",
       "};\n",
       "\n",
       "mpl.figure.prototype._canvas_extra_style = function (_canvas_div) {};\n",
       "\n",
       "mpl.figure.prototype._root_extra_style = function (_canvas_div) {};\n",
       "\n",
       "mpl.figure.prototype._init_canvas = function () {\n",
       "    var fig = this;\n",
       "\n",
       "    var canvas_div = (this.canvas_div = document.createElement('div'));\n",
       "    canvas_div.setAttribute(\n",
       "        'style',\n",
       "        'border: 1px solid #ddd;' +\n",
       "            'box-sizing: content-box;' +\n",
       "            'clear: both;' +\n",
       "            'min-height: 1px;' +\n",
       "            'min-width: 1px;' +\n",
       "            'outline: 0;' +\n",
       "            'overflow: hidden;' +\n",
       "            'position: relative;' +\n",
       "            'resize: both;'\n",
       "    );\n",
       "\n",
       "    function on_keyboard_event_closure(name) {\n",
       "        return function (event) {\n",
       "            return fig.key_event(event, name);\n",
       "        };\n",
       "    }\n",
       "\n",
       "    canvas_div.addEventListener(\n",
       "        'keydown',\n",
       "        on_keyboard_event_closure('key_press')\n",
       "    );\n",
       "    canvas_div.addEventListener(\n",
       "        'keyup',\n",
       "        on_keyboard_event_closure('key_release')\n",
       "    );\n",
       "\n",
       "    this._canvas_extra_style(canvas_div);\n",
       "    this.root.appendChild(canvas_div);\n",
       "\n",
       "    var canvas = (this.canvas = document.createElement('canvas'));\n",
       "    canvas.classList.add('mpl-canvas');\n",
       "    canvas.setAttribute('style', 'box-sizing: content-box;');\n",
       "\n",
       "    this.context = canvas.getContext('2d');\n",
       "\n",
       "    var backingStore =\n",
       "        this.context.backingStorePixelRatio ||\n",
       "        this.context.webkitBackingStorePixelRatio ||\n",
       "        this.context.mozBackingStorePixelRatio ||\n",
       "        this.context.msBackingStorePixelRatio ||\n",
       "        this.context.oBackingStorePixelRatio ||\n",
       "        this.context.backingStorePixelRatio ||\n",
       "        1;\n",
       "\n",
       "    this.ratio = (window.devicePixelRatio || 1) / backingStore;\n",
       "\n",
       "    var rubberband_canvas = (this.rubberband_canvas = document.createElement(\n",
       "        'canvas'\n",
       "    ));\n",
       "    rubberband_canvas.setAttribute(\n",
       "        'style',\n",
       "        'box-sizing: content-box; position: absolute; left: 0; top: 0; z-index: 1;'\n",
       "    );\n",
       "\n",
       "    // Apply a ponyfill if ResizeObserver is not implemented by browser.\n",
       "    if (this.ResizeObserver === undefined) {\n",
       "        if (window.ResizeObserver !== undefined) {\n",
       "            this.ResizeObserver = window.ResizeObserver;\n",
       "        } else {\n",
       "            var obs = _JSXTOOLS_RESIZE_OBSERVER({});\n",
       "            this.ResizeObserver = obs.ResizeObserver;\n",
       "        }\n",
       "    }\n",
       "\n",
       "    this.resizeObserverInstance = new this.ResizeObserver(function (entries) {\n",
       "        var nentries = entries.length;\n",
       "        for (var i = 0; i < nentries; i++) {\n",
       "            var entry = entries[i];\n",
       "            var width, height;\n",
       "            if (entry.contentBoxSize) {\n",
       "                if (entry.contentBoxSize instanceof Array) {\n",
       "                    // Chrome 84 implements new version of spec.\n",
       "                    width = entry.contentBoxSize[0].inlineSize;\n",
       "                    height = entry.contentBoxSize[0].blockSize;\n",
       "                } else {\n",
       "                    // Firefox implements old version of spec.\n",
       "                    width = entry.contentBoxSize.inlineSize;\n",
       "                    height = entry.contentBoxSize.blockSize;\n",
       "                }\n",
       "            } else {\n",
       "                // Chrome <84 implements even older version of spec.\n",
       "                width = entry.contentRect.width;\n",
       "                height = entry.contentRect.height;\n",
       "            }\n",
       "\n",
       "            // Keep the size of the canvas and rubber band canvas in sync with\n",
       "            // the canvas container.\n",
       "            if (entry.devicePixelContentBoxSize) {\n",
       "                // Chrome 84 implements new version of spec.\n",
       "                canvas.setAttribute(\n",
       "                    'width',\n",
       "                    entry.devicePixelContentBoxSize[0].inlineSize\n",
       "                );\n",
       "                canvas.setAttribute(\n",
       "                    'height',\n",
       "                    entry.devicePixelContentBoxSize[0].blockSize\n",
       "                );\n",
       "            } else {\n",
       "                canvas.setAttribute('width', width * fig.ratio);\n",
       "                canvas.setAttribute('height', height * fig.ratio);\n",
       "            }\n",
       "            canvas.setAttribute(\n",
       "                'style',\n",
       "                'width: ' + width + 'px; height: ' + height + 'px;'\n",
       "            );\n",
       "\n",
       "            rubberband_canvas.setAttribute('width', width);\n",
       "            rubberband_canvas.setAttribute('height', height);\n",
       "\n",
       "            // And update the size in Python. We ignore the initial 0/0 size\n",
       "            // that occurs as the element is placed into the DOM, which should\n",
       "            // otherwise not happen due to the minimum size styling.\n",
       "            if (fig.ws.readyState == 1 && width != 0 && height != 0) {\n",
       "                fig.request_resize(width, height);\n",
       "            }\n",
       "        }\n",
       "    });\n",
       "    this.resizeObserverInstance.observe(canvas_div);\n",
       "\n",
       "    function on_mouse_event_closure(name) {\n",
       "        return function (event) {\n",
       "            return fig.mouse_event(event, name);\n",
       "        };\n",
       "    }\n",
       "\n",
       "    rubberband_canvas.addEventListener(\n",
       "        'mousedown',\n",
       "        on_mouse_event_closure('button_press')\n",
       "    );\n",
       "    rubberband_canvas.addEventListener(\n",
       "        'mouseup',\n",
       "        on_mouse_event_closure('button_release')\n",
       "    );\n",
       "    rubberband_canvas.addEventListener(\n",
       "        'dblclick',\n",
       "        on_mouse_event_closure('dblclick')\n",
       "    );\n",
       "    // Throttle sequential mouse events to 1 every 20ms.\n",
       "    rubberband_canvas.addEventListener(\n",
       "        'mousemove',\n",
       "        on_mouse_event_closure('motion_notify')\n",
       "    );\n",
       "\n",
       "    rubberband_canvas.addEventListener(\n",
       "        'mouseenter',\n",
       "        on_mouse_event_closure('figure_enter')\n",
       "    );\n",
       "    rubberband_canvas.addEventListener(\n",
       "        'mouseleave',\n",
       "        on_mouse_event_closure('figure_leave')\n",
       "    );\n",
       "\n",
       "    canvas_div.addEventListener('wheel', function (event) {\n",
       "        if (event.deltaY < 0) {\n",
       "            event.step = 1;\n",
       "        } else {\n",
       "            event.step = -1;\n",
       "        }\n",
       "        on_mouse_event_closure('scroll')(event);\n",
       "    });\n",
       "\n",
       "    canvas_div.appendChild(canvas);\n",
       "    canvas_div.appendChild(rubberband_canvas);\n",
       "\n",
       "    this.rubberband_context = rubberband_canvas.getContext('2d');\n",
       "    this.rubberband_context.strokeStyle = '#000000';\n",
       "\n",
       "    this._resize_canvas = function (width, height, forward) {\n",
       "        if (forward) {\n",
       "            canvas_div.style.width = width + 'px';\n",
       "            canvas_div.style.height = height + 'px';\n",
       "        }\n",
       "    };\n",
       "\n",
       "    // Disable right mouse context menu.\n",
       "    this.rubberband_canvas.addEventListener('contextmenu', function (_e) {\n",
       "        event.preventDefault();\n",
       "        return false;\n",
       "    });\n",
       "\n",
       "    function set_focus() {\n",
       "        canvas.focus();\n",
       "        canvas_div.focus();\n",
       "    }\n",
       "\n",
       "    window.setTimeout(set_focus, 100);\n",
       "};\n",
       "\n",
       "mpl.figure.prototype._init_toolbar = function () {\n",
       "    var fig = this;\n",
       "\n",
       "    var toolbar = document.createElement('div');\n",
       "    toolbar.classList = 'mpl-toolbar';\n",
       "    this.root.appendChild(toolbar);\n",
       "\n",
       "    function on_click_closure(name) {\n",
       "        return function (_event) {\n",
       "            return fig.toolbar_button_onclick(name);\n",
       "        };\n",
       "    }\n",
       "\n",
       "    function on_mouseover_closure(tooltip) {\n",
       "        return function (event) {\n",
       "            if (!event.currentTarget.disabled) {\n",
       "                return fig.toolbar_button_onmouseover(tooltip);\n",
       "            }\n",
       "        };\n",
       "    }\n",
       "\n",
       "    fig.buttons = {};\n",
       "    var buttonGroup = document.createElement('div');\n",
       "    buttonGroup.classList = 'mpl-button-group';\n",
       "    for (var toolbar_ind in mpl.toolbar_items) {\n",
       "        var name = mpl.toolbar_items[toolbar_ind][0];\n",
       "        var tooltip = mpl.toolbar_items[toolbar_ind][1];\n",
       "        var image = mpl.toolbar_items[toolbar_ind][2];\n",
       "        var method_name = mpl.toolbar_items[toolbar_ind][3];\n",
       "\n",
       "        if (!name) {\n",
       "            /* Instead of a spacer, we start a new button group. */\n",
       "            if (buttonGroup.hasChildNodes()) {\n",
       "                toolbar.appendChild(buttonGroup);\n",
       "            }\n",
       "            buttonGroup = document.createElement('div');\n",
       "            buttonGroup.classList = 'mpl-button-group';\n",
       "            continue;\n",
       "        }\n",
       "\n",
       "        var button = (fig.buttons[name] = document.createElement('button'));\n",
       "        button.classList = 'mpl-widget';\n",
       "        button.setAttribute('role', 'button');\n",
       "        button.setAttribute('aria-disabled', 'false');\n",
       "        button.addEventListener('click', on_click_closure(method_name));\n",
       "        button.addEventListener('mouseover', on_mouseover_closure(tooltip));\n",
       "\n",
       "        var icon_img = document.createElement('img');\n",
       "        icon_img.src = '_images/' + image + '.png';\n",
       "        icon_img.srcset = '_images/' + image + '_large.png 2x';\n",
       "        icon_img.alt = tooltip;\n",
       "        button.appendChild(icon_img);\n",
       "\n",
       "        buttonGroup.appendChild(button);\n",
       "    }\n",
       "\n",
       "    if (buttonGroup.hasChildNodes()) {\n",
       "        toolbar.appendChild(buttonGroup);\n",
       "    }\n",
       "\n",
       "    var fmt_picker = document.createElement('select');\n",
       "    fmt_picker.classList = 'mpl-widget';\n",
       "    toolbar.appendChild(fmt_picker);\n",
       "    this.format_dropdown = fmt_picker;\n",
       "\n",
       "    for (var ind in mpl.extensions) {\n",
       "        var fmt = mpl.extensions[ind];\n",
       "        var option = document.createElement('option');\n",
       "        option.selected = fmt === mpl.default_extension;\n",
       "        option.innerHTML = fmt;\n",
       "        fmt_picker.appendChild(option);\n",
       "    }\n",
       "\n",
       "    var status_bar = document.createElement('span');\n",
       "    status_bar.classList = 'mpl-message';\n",
       "    toolbar.appendChild(status_bar);\n",
       "    this.message = status_bar;\n",
       "};\n",
       "\n",
       "mpl.figure.prototype.request_resize = function (x_pixels, y_pixels) {\n",
       "    // Request matplotlib to resize the figure. Matplotlib will then trigger a resize in the client,\n",
       "    // which will in turn request a refresh of the image.\n",
       "    this.send_message('resize', { width: x_pixels, height: y_pixels });\n",
       "};\n",
       "\n",
       "mpl.figure.prototype.send_message = function (type, properties) {\n",
       "    properties['type'] = type;\n",
       "    properties['figure_id'] = this.id;\n",
       "    this.ws.send(JSON.stringify(properties));\n",
       "};\n",
       "\n",
       "mpl.figure.prototype.send_draw_message = function () {\n",
       "    if (!this.waiting) {\n",
       "        this.waiting = true;\n",
       "        this.ws.send(JSON.stringify({ type: 'draw', figure_id: this.id }));\n",
       "    }\n",
       "};\n",
       "\n",
       "mpl.figure.prototype.handle_save = function (fig, _msg) {\n",
       "    var format_dropdown = fig.format_dropdown;\n",
       "    var format = format_dropdown.options[format_dropdown.selectedIndex].value;\n",
       "    fig.ondownload(fig, format);\n",
       "};\n",
       "\n",
       "mpl.figure.prototype.handle_resize = function (fig, msg) {\n",
       "    var size = msg['size'];\n",
       "    if (size[0] !== fig.canvas.width || size[1] !== fig.canvas.height) {\n",
       "        fig._resize_canvas(size[0], size[1], msg['forward']);\n",
       "        fig.send_message('refresh', {});\n",
       "    }\n",
       "};\n",
       "\n",
       "mpl.figure.prototype.handle_rubberband = function (fig, msg) {\n",
       "    var x0 = msg['x0'] / fig.ratio;\n",
       "    var y0 = (fig.canvas.height - msg['y0']) / fig.ratio;\n",
       "    var x1 = msg['x1'] / fig.ratio;\n",
       "    var y1 = (fig.canvas.height - msg['y1']) / fig.ratio;\n",
       "    x0 = Math.floor(x0) + 0.5;\n",
       "    y0 = Math.floor(y0) + 0.5;\n",
       "    x1 = Math.floor(x1) + 0.5;\n",
       "    y1 = Math.floor(y1) + 0.5;\n",
       "    var min_x = Math.min(x0, x1);\n",
       "    var min_y = Math.min(y0, y1);\n",
       "    var width = Math.abs(x1 - x0);\n",
       "    var height = Math.abs(y1 - y0);\n",
       "\n",
       "    fig.rubberband_context.clearRect(\n",
       "        0,\n",
       "        0,\n",
       "        fig.canvas.width / fig.ratio,\n",
       "        fig.canvas.height / fig.ratio\n",
       "    );\n",
       "\n",
       "    fig.rubberband_context.strokeRect(min_x, min_y, width, height);\n",
       "};\n",
       "\n",
       "mpl.figure.prototype.handle_figure_label = function (fig, msg) {\n",
       "    // Updates the figure title.\n",
       "    fig.header.textContent = msg['label'];\n",
       "};\n",
       "\n",
       "mpl.figure.prototype.handle_cursor = function (fig, msg) {\n",
       "    var cursor = msg['cursor'];\n",
       "    switch (cursor) {\n",
       "        case 0:\n",
       "            cursor = 'pointer';\n",
       "            break;\n",
       "        case 1:\n",
       "            cursor = 'default';\n",
       "            break;\n",
       "        case 2:\n",
       "            cursor = 'crosshair';\n",
       "            break;\n",
       "        case 3:\n",
       "            cursor = 'move';\n",
       "            break;\n",
       "    }\n",
       "    fig.rubberband_canvas.style.cursor = cursor;\n",
       "};\n",
       "\n",
       "mpl.figure.prototype.handle_message = function (fig, msg) {\n",
       "    fig.message.textContent = msg['message'];\n",
       "};\n",
       "\n",
       "mpl.figure.prototype.handle_draw = function (fig, _msg) {\n",
       "    // Request the server to send over a new figure.\n",
       "    fig.send_draw_message();\n",
       "};\n",
       "\n",
       "mpl.figure.prototype.handle_image_mode = function (fig, msg) {\n",
       "    fig.image_mode = msg['mode'];\n",
       "};\n",
       "\n",
       "mpl.figure.prototype.handle_history_buttons = function (fig, msg) {\n",
       "    for (var key in msg) {\n",
       "        if (!(key in fig.buttons)) {\n",
       "            continue;\n",
       "        }\n",
       "        fig.buttons[key].disabled = !msg[key];\n",
       "        fig.buttons[key].setAttribute('aria-disabled', !msg[key]);\n",
       "    }\n",
       "};\n",
       "\n",
       "mpl.figure.prototype.handle_navigate_mode = function (fig, msg) {\n",
       "    if (msg['mode'] === 'PAN') {\n",
       "        fig.buttons['Pan'].classList.add('active');\n",
       "        fig.buttons['Zoom'].classList.remove('active');\n",
       "    } else if (msg['mode'] === 'ZOOM') {\n",
       "        fig.buttons['Pan'].classList.remove('active');\n",
       "        fig.buttons['Zoom'].classList.add('active');\n",
       "    } else {\n",
       "        fig.buttons['Pan'].classList.remove('active');\n",
       "        fig.buttons['Zoom'].classList.remove('active');\n",
       "    }\n",
       "};\n",
       "\n",
       "mpl.figure.prototype.updated_canvas_event = function () {\n",
       "    // Called whenever the canvas gets updated.\n",
       "    this.send_message('ack', {});\n",
       "};\n",
       "\n",
       "// A function to construct a web socket function for onmessage handling.\n",
       "// Called in the figure constructor.\n",
       "mpl.figure.prototype._make_on_message_function = function (fig) {\n",
       "    return function socket_on_message(evt) {\n",
       "        if (evt.data instanceof Blob) {\n",
       "            var img = evt.data;\n",
       "            if (img.type !== 'image/png') {\n",
       "                /* FIXME: We get \"Resource interpreted as Image but\n",
       "                 * transferred with MIME type text/plain:\" errors on\n",
       "                 * Chrome.  But how to set the MIME type?  It doesn't seem\n",
       "                 * to be part of the websocket stream */\n",
       "                img.type = 'image/png';\n",
       "            }\n",
       "\n",
       "            /* Free the memory for the previous frames */\n",
       "            if (fig.imageObj.src) {\n",
       "                (window.URL || window.webkitURL).revokeObjectURL(\n",
       "                    fig.imageObj.src\n",
       "                );\n",
       "            }\n",
       "\n",
       "            fig.imageObj.src = (window.URL || window.webkitURL).createObjectURL(\n",
       "                img\n",
       "            );\n",
       "            fig.updated_canvas_event();\n",
       "            fig.waiting = false;\n",
       "            return;\n",
       "        } else if (\n",
       "            typeof evt.data === 'string' &&\n",
       "            evt.data.slice(0, 21) === 'data:image/png;base64'\n",
       "        ) {\n",
       "            fig.imageObj.src = evt.data;\n",
       "            fig.updated_canvas_event();\n",
       "            fig.waiting = false;\n",
       "            return;\n",
       "        }\n",
       "\n",
       "        var msg = JSON.parse(evt.data);\n",
       "        var msg_type = msg['type'];\n",
       "\n",
       "        // Call the  \"handle_{type}\" callback, which takes\n",
       "        // the figure and JSON message as its only arguments.\n",
       "        try {\n",
       "            var callback = fig['handle_' + msg_type];\n",
       "        } catch (e) {\n",
       "            console.log(\n",
       "                \"No handler for the '\" + msg_type + \"' message type: \",\n",
       "                msg\n",
       "            );\n",
       "            return;\n",
       "        }\n",
       "\n",
       "        if (callback) {\n",
       "            try {\n",
       "                // console.log(\"Handling '\" + msg_type + \"' message: \", msg);\n",
       "                callback(fig, msg);\n",
       "            } catch (e) {\n",
       "                console.log(\n",
       "                    \"Exception inside the 'handler_\" + msg_type + \"' callback:\",\n",
       "                    e,\n",
       "                    e.stack,\n",
       "                    msg\n",
       "                );\n",
       "            }\n",
       "        }\n",
       "    };\n",
       "};\n",
       "\n",
       "// from http://stackoverflow.com/questions/1114465/getting-mouse-location-in-canvas\n",
       "mpl.findpos = function (e) {\n",
       "    //this section is from http://www.quirksmode.org/js/events_properties.html\n",
       "    var targ;\n",
       "    if (!e) {\n",
       "        e = window.event;\n",
       "    }\n",
       "    if (e.target) {\n",
       "        targ = e.target;\n",
       "    } else if (e.srcElement) {\n",
       "        targ = e.srcElement;\n",
       "    }\n",
       "    if (targ.nodeType === 3) {\n",
       "        // defeat Safari bug\n",
       "        targ = targ.parentNode;\n",
       "    }\n",
       "\n",
       "    // pageX,Y are the mouse positions relative to the document\n",
       "    var boundingRect = targ.getBoundingClientRect();\n",
       "    var x = e.pageX - (boundingRect.left + document.body.scrollLeft);\n",
       "    var y = e.pageY - (boundingRect.top + document.body.scrollTop);\n",
       "\n",
       "    return { x: x, y: y };\n",
       "};\n",
       "\n",
       "/*\n",
       " * return a copy of an object with only non-object keys\n",
       " * we need this to avoid circular references\n",
       " * http://stackoverflow.com/a/24161582/3208463\n",
       " */\n",
       "function simpleKeys(original) {\n",
       "    return Object.keys(original).reduce(function (obj, key) {\n",
       "        if (typeof original[key] !== 'object') {\n",
       "            obj[key] = original[key];\n",
       "        }\n",
       "        return obj;\n",
       "    }, {});\n",
       "}\n",
       "\n",
       "mpl.figure.prototype.mouse_event = function (event, name) {\n",
       "    var canvas_pos = mpl.findpos(event);\n",
       "\n",
       "    if (name === 'button_press') {\n",
       "        this.canvas.focus();\n",
       "        this.canvas_div.focus();\n",
       "    }\n",
       "\n",
       "    var x = canvas_pos.x * this.ratio;\n",
       "    var y = canvas_pos.y * this.ratio;\n",
       "\n",
       "    this.send_message(name, {\n",
       "        x: x,\n",
       "        y: y,\n",
       "        button: event.button,\n",
       "        step: event.step,\n",
       "        guiEvent: simpleKeys(event),\n",
       "    });\n",
       "\n",
       "    /* This prevents the web browser from automatically changing to\n",
       "     * the text insertion cursor when the button is pressed.  We want\n",
       "     * to control all of the cursor setting manually through the\n",
       "     * 'cursor' event from matplotlib */\n",
       "    event.preventDefault();\n",
       "    return false;\n",
       "};\n",
       "\n",
       "mpl.figure.prototype._key_event_extra = function (_event, _name) {\n",
       "    // Handle any extra behaviour associated with a key event\n",
       "};\n",
       "\n",
       "mpl.figure.prototype.key_event = function (event, name) {\n",
       "    // Prevent repeat events\n",
       "    if (name === 'key_press') {\n",
       "        if (event.key === this._key) {\n",
       "            return;\n",
       "        } else {\n",
       "            this._key = event.key;\n",
       "        }\n",
       "    }\n",
       "    if (name === 'key_release') {\n",
       "        this._key = null;\n",
       "    }\n",
       "\n",
       "    var value = '';\n",
       "    if (event.ctrlKey && event.key !== 'Control') {\n",
       "        value += 'ctrl+';\n",
       "    }\n",
       "    else if (event.altKey && event.key !== 'Alt') {\n",
       "        value += 'alt+';\n",
       "    }\n",
       "    else if (event.shiftKey && event.key !== 'Shift') {\n",
       "        value += 'shift+';\n",
       "    }\n",
       "\n",
       "    value += 'k' + event.key;\n",
       "\n",
       "    this._key_event_extra(event, name);\n",
       "\n",
       "    this.send_message(name, { key: value, guiEvent: simpleKeys(event) });\n",
       "    return false;\n",
       "};\n",
       "\n",
       "mpl.figure.prototype.toolbar_button_onclick = function (name) {\n",
       "    if (name === 'download') {\n",
       "        this.handle_save(this, null);\n",
       "    } else {\n",
       "        this.send_message('toolbar_button', { name: name });\n",
       "    }\n",
       "};\n",
       "\n",
       "mpl.figure.prototype.toolbar_button_onmouseover = function (tooltip) {\n",
       "    this.message.textContent = tooltip;\n",
       "};\n",
       "\n",
       "///////////////// REMAINING CONTENT GENERATED BY embed_js.py /////////////////\n",
       "// prettier-ignore\n",
       "var _JSXTOOLS_RESIZE_OBSERVER=function(A){var t,i=new WeakMap,n=new WeakMap,a=new WeakMap,r=new WeakMap,o=new Set;function s(e){if(!(this instanceof s))throw new TypeError(\"Constructor requires 'new' operator\");i.set(this,e)}function h(){throw new TypeError(\"Function is not a constructor\")}function c(e,t,i,n){e=0 in arguments?Number(arguments[0]):0,t=1 in arguments?Number(arguments[1]):0,i=2 in arguments?Number(arguments[2]):0,n=3 in arguments?Number(arguments[3]):0,this.right=(this.x=this.left=e)+(this.width=i),this.bottom=(this.y=this.top=t)+(this.height=n),Object.freeze(this)}function d(){t=requestAnimationFrame(d);var s=new WeakMap,p=new Set;o.forEach((function(t){r.get(t).forEach((function(i){var r=t instanceof window.SVGElement,o=a.get(t),d=r?0:parseFloat(o.paddingTop),f=r?0:parseFloat(o.paddingRight),l=r?0:parseFloat(o.paddingBottom),u=r?0:parseFloat(o.paddingLeft),g=r?0:parseFloat(o.borderTopWidth),m=r?0:parseFloat(o.borderRightWidth),w=r?0:parseFloat(o.borderBottomWidth),b=u+f,F=d+l,v=(r?0:parseFloat(o.borderLeftWidth))+m,W=g+w,y=r?0:t.offsetHeight-W-t.clientHeight,E=r?0:t.offsetWidth-v-t.clientWidth,R=b+v,z=F+W,M=r?t.width:parseFloat(o.width)-R-E,O=r?t.height:parseFloat(o.height)-z-y;if(n.has(t)){var k=n.get(t);if(k[0]===M&&k[1]===O)return}n.set(t,[M,O]);var S=Object.create(h.prototype);S.target=t,S.contentRect=new c(u,d,M,O),s.has(i)||(s.set(i,[]),p.add(i)),s.get(i).push(S)}))})),p.forEach((function(e){i.get(e).call(e,s.get(e),e)}))}return s.prototype.observe=function(i){if(i instanceof window.Element){r.has(i)||(r.set(i,new Set),o.add(i),a.set(i,window.getComputedStyle(i)));var n=r.get(i);n.has(this)||n.add(this),cancelAnimationFrame(t),t=requestAnimationFrame(d)}},s.prototype.unobserve=function(i){if(i instanceof window.Element&&r.has(i)){var n=r.get(i);n.has(this)&&(n.delete(this),n.size||(r.delete(i),o.delete(i))),n.size||r.delete(i),o.size||cancelAnimationFrame(t)}},A.DOMRectReadOnly=c,A.ResizeObserver=s,A.ResizeObserverEntry=h,A}; // eslint-disable-line\n",
       "mpl.toolbar_items = [[\"Home\", \"Reset original view\", \"fa fa-home icon-home\", \"home\"], [\"Back\", \"Back to previous view\", \"fa fa-arrow-left icon-arrow-left\", \"back\"], [\"Forward\", \"Forward to next view\", \"fa fa-arrow-right icon-arrow-right\", \"forward\"], [\"\", \"\", \"\", \"\"], [\"Pan\", \"Left button pans, Right button zooms\\nx/y fixes axis, CTRL fixes aspect\", \"fa fa-arrows icon-move\", \"pan\"], [\"Zoom\", \"Zoom to rectangle\\nx/y fixes axis, CTRL fixes aspect\", \"fa fa-square-o icon-check-empty\", \"zoom\"], [\"\", \"\", \"\", \"\"], [\"Download\", \"Download plot\", \"fa fa-floppy-o icon-save\", \"download\"]];\n",
       "\n",
       "mpl.extensions = [\"eps\", \"jpeg\", \"pgf\", \"pdf\", \"png\", \"ps\", \"raw\", \"svg\", \"tif\"];\n",
       "\n",
       "mpl.default_extension = \"png\";/* global mpl */\n",
       "\n",
       "var comm_websocket_adapter = function (comm) {\n",
       "    // Create a \"websocket\"-like object which calls the given IPython comm\n",
       "    // object with the appropriate methods. Currently this is a non binary\n",
       "    // socket, so there is still some room for performance tuning.\n",
       "    var ws = {};\n",
       "\n",
       "    ws.binaryType = comm.kernel.ws.binaryType;\n",
       "    ws.readyState = comm.kernel.ws.readyState;\n",
       "    function updateReadyState(_event) {\n",
       "        if (comm.kernel.ws) {\n",
       "            ws.readyState = comm.kernel.ws.readyState;\n",
       "        } else {\n",
       "            ws.readyState = 3; // Closed state.\n",
       "        }\n",
       "    }\n",
       "    comm.kernel.ws.addEventListener('open', updateReadyState);\n",
       "    comm.kernel.ws.addEventListener('close', updateReadyState);\n",
       "    comm.kernel.ws.addEventListener('error', updateReadyState);\n",
       "\n",
       "    ws.close = function () {\n",
       "        comm.close();\n",
       "    };\n",
       "    ws.send = function (m) {\n",
       "        //console.log('sending', m);\n",
       "        comm.send(m);\n",
       "    };\n",
       "    // Register the callback with on_msg.\n",
       "    comm.on_msg(function (msg) {\n",
       "        //console.log('receiving', msg['content']['data'], msg);\n",
       "        var data = msg['content']['data'];\n",
       "        if (data['blob'] !== undefined) {\n",
       "            data = {\n",
       "                data: new Blob(msg['buffers'], { type: data['blob'] }),\n",
       "            };\n",
       "        }\n",
       "        // Pass the mpl event to the overridden (by mpl) onmessage function.\n",
       "        ws.onmessage(data);\n",
       "    });\n",
       "    return ws;\n",
       "};\n",
       "\n",
       "mpl.mpl_figure_comm = function (comm, msg) {\n",
       "    // This is the function which gets called when the mpl process\n",
       "    // starts-up an IPython Comm through the \"matplotlib\" channel.\n",
       "\n",
       "    var id = msg.content.data.id;\n",
       "    // Get hold of the div created by the display call when the Comm\n",
       "    // socket was opened in Python.\n",
       "    var element = document.getElementById(id);\n",
       "    var ws_proxy = comm_websocket_adapter(comm);\n",
       "\n",
       "    function ondownload(figure, _format) {\n",
       "        window.open(figure.canvas.toDataURL());\n",
       "    }\n",
       "\n",
       "    var fig = new mpl.figure(id, ws_proxy, ondownload, element);\n",
       "\n",
       "    // Call onopen now - mpl needs it, as it is assuming we've passed it a real\n",
       "    // web socket which is closed, not our websocket->open comm proxy.\n",
       "    ws_proxy.onopen();\n",
       "\n",
       "    fig.parent_element = element;\n",
       "    fig.cell_info = mpl.find_output_cell(\"<div id='\" + id + \"'></div>\");\n",
       "    if (!fig.cell_info) {\n",
       "        console.error('Failed to find cell for figure', id, fig);\n",
       "        return;\n",
       "    }\n",
       "    fig.cell_info[0].output_area.element.on(\n",
       "        'cleared',\n",
       "        { fig: fig },\n",
       "        fig._remove_fig_handler\n",
       "    );\n",
       "};\n",
       "\n",
       "mpl.figure.prototype.handle_close = function (fig, msg) {\n",
       "    var width = fig.canvas.width / fig.ratio;\n",
       "    fig.cell_info[0].output_area.element.off(\n",
       "        'cleared',\n",
       "        fig._remove_fig_handler\n",
       "    );\n",
       "    fig.resizeObserverInstance.unobserve(fig.canvas_div);\n",
       "\n",
       "    // Update the output cell to use the data from the current canvas.\n",
       "    fig.push_to_output();\n",
       "    var dataURL = fig.canvas.toDataURL();\n",
       "    // Re-enable the keyboard manager in IPython - without this line, in FF,\n",
       "    // the notebook keyboard shortcuts fail.\n",
       "    IPython.keyboard_manager.enable();\n",
       "    fig.parent_element.innerHTML =\n",
       "        '<img src=\"' + dataURL + '\" width=\"' + width + '\">';\n",
       "    fig.close_ws(fig, msg);\n",
       "};\n",
       "\n",
       "mpl.figure.prototype.close_ws = function (fig, msg) {\n",
       "    fig.send_message('closing', msg);\n",
       "    // fig.ws.close()\n",
       "};\n",
       "\n",
       "mpl.figure.prototype.push_to_output = function (_remove_interactive) {\n",
       "    // Turn the data on the canvas into data in the output cell.\n",
       "    var width = this.canvas.width / this.ratio;\n",
       "    var dataURL = this.canvas.toDataURL();\n",
       "    this.cell_info[1]['text/html'] =\n",
       "        '<img src=\"' + dataURL + '\" width=\"' + width + '\">';\n",
       "};\n",
       "\n",
       "mpl.figure.prototype.updated_canvas_event = function () {\n",
       "    // Tell IPython that the notebook contents must change.\n",
       "    IPython.notebook.set_dirty(true);\n",
       "    this.send_message('ack', {});\n",
       "    var fig = this;\n",
       "    // Wait a second, then push the new image to the DOM so\n",
       "    // that it is saved nicely (might be nice to debounce this).\n",
       "    setTimeout(function () {\n",
       "        fig.push_to_output();\n",
       "    }, 1000);\n",
       "};\n",
       "\n",
       "mpl.figure.prototype._init_toolbar = function () {\n",
       "    var fig = this;\n",
       "\n",
       "    var toolbar = document.createElement('div');\n",
       "    toolbar.classList = 'btn-toolbar';\n",
       "    this.root.appendChild(toolbar);\n",
       "\n",
       "    function on_click_closure(name) {\n",
       "        return function (_event) {\n",
       "            return fig.toolbar_button_onclick(name);\n",
       "        };\n",
       "    }\n",
       "\n",
       "    function on_mouseover_closure(tooltip) {\n",
       "        return function (event) {\n",
       "            if (!event.currentTarget.disabled) {\n",
       "                return fig.toolbar_button_onmouseover(tooltip);\n",
       "            }\n",
       "        };\n",
       "    }\n",
       "\n",
       "    fig.buttons = {};\n",
       "    var buttonGroup = document.createElement('div');\n",
       "    buttonGroup.classList = 'btn-group';\n",
       "    var button;\n",
       "    for (var toolbar_ind in mpl.toolbar_items) {\n",
       "        var name = mpl.toolbar_items[toolbar_ind][0];\n",
       "        var tooltip = mpl.toolbar_items[toolbar_ind][1];\n",
       "        var image = mpl.toolbar_items[toolbar_ind][2];\n",
       "        var method_name = mpl.toolbar_items[toolbar_ind][3];\n",
       "\n",
       "        if (!name) {\n",
       "            /* Instead of a spacer, we start a new button group. */\n",
       "            if (buttonGroup.hasChildNodes()) {\n",
       "                toolbar.appendChild(buttonGroup);\n",
       "            }\n",
       "            buttonGroup = document.createElement('div');\n",
       "            buttonGroup.classList = 'btn-group';\n",
       "            continue;\n",
       "        }\n",
       "\n",
       "        button = fig.buttons[name] = document.createElement('button');\n",
       "        button.classList = 'btn btn-default';\n",
       "        button.href = '#';\n",
       "        button.title = name;\n",
       "        button.innerHTML = '<i class=\"fa ' + image + ' fa-lg\"></i>';\n",
       "        button.addEventListener('click', on_click_closure(method_name));\n",
       "        button.addEventListener('mouseover', on_mouseover_closure(tooltip));\n",
       "        buttonGroup.appendChild(button);\n",
       "    }\n",
       "\n",
       "    if (buttonGroup.hasChildNodes()) {\n",
       "        toolbar.appendChild(buttonGroup);\n",
       "    }\n",
       "\n",
       "    // Add the status bar.\n",
       "    var status_bar = document.createElement('span');\n",
       "    status_bar.classList = 'mpl-message pull-right';\n",
       "    toolbar.appendChild(status_bar);\n",
       "    this.message = status_bar;\n",
       "\n",
       "    // Add the close button to the window.\n",
       "    var buttongrp = document.createElement('div');\n",
       "    buttongrp.classList = 'btn-group inline pull-right';\n",
       "    button = document.createElement('button');\n",
       "    button.classList = 'btn btn-mini btn-primary';\n",
       "    button.href = '#';\n",
       "    button.title = 'Stop Interaction';\n",
       "    button.innerHTML = '<i class=\"fa fa-power-off icon-remove icon-large\"></i>';\n",
       "    button.addEventListener('click', function (_evt) {\n",
       "        fig.handle_close(fig, {});\n",
       "    });\n",
       "    button.addEventListener(\n",
       "        'mouseover',\n",
       "        on_mouseover_closure('Stop Interaction')\n",
       "    );\n",
       "    buttongrp.appendChild(button);\n",
       "    var titlebar = this.root.querySelector('.ui-dialog-titlebar');\n",
       "    titlebar.insertBefore(buttongrp, titlebar.firstChild);\n",
       "};\n",
       "\n",
       "mpl.figure.prototype._remove_fig_handler = function (event) {\n",
       "    var fig = event.data.fig;\n",
       "    if (event.target !== this) {\n",
       "        // Ignore bubbled events from children.\n",
       "        return;\n",
       "    }\n",
       "    fig.close_ws(fig, {});\n",
       "};\n",
       "\n",
       "mpl.figure.prototype._root_extra_style = function (el) {\n",
       "    el.style.boxSizing = 'content-box'; // override notebook setting of border-box.\n",
       "};\n",
       "\n",
       "mpl.figure.prototype._canvas_extra_style = function (el) {\n",
       "    // this is important to make the div 'focusable\n",
       "    el.setAttribute('tabindex', 0);\n",
       "    // reach out to IPython and tell the keyboard manager to turn it's self\n",
       "    // off when our div gets focus\n",
       "\n",
       "    // location in version 3\n",
       "    if (IPython.notebook.keyboard_manager) {\n",
       "        IPython.notebook.keyboard_manager.register_events(el);\n",
       "    } else {\n",
       "        // location in version 2\n",
       "        IPython.keyboard_manager.register_events(el);\n",
       "    }\n",
       "};\n",
       "\n",
       "mpl.figure.prototype._key_event_extra = function (event, _name) {\n",
       "    var manager = IPython.notebook.keyboard_manager;\n",
       "    if (!manager) {\n",
       "        manager = IPython.keyboard_manager;\n",
       "    }\n",
       "\n",
       "    // Check for shift+enter\n",
       "    if (event.shiftKey && event.which === 13) {\n",
       "        this.canvas_div.blur();\n",
       "        // select the cell after this one\n",
       "        var index = IPython.notebook.find_cell_index(this.cell_info[0]);\n",
       "        IPython.notebook.select(index + 1);\n",
       "    }\n",
       "};\n",
       "\n",
       "mpl.figure.prototype.handle_save = function (fig, _msg) {\n",
       "    fig.ondownload(fig, null);\n",
       "};\n",
       "\n",
       "mpl.find_output_cell = function (html_output) {\n",
       "    // Return the cell and output element which can be found *uniquely* in the notebook.\n",
       "    // Note - this is a bit hacky, but it is done because the \"notebook_saving.Notebook\"\n",
       "    // IPython event is triggered only after the cells have been serialised, which for\n",
       "    // our purposes (turning an active figure into a static one), is too late.\n",
       "    var cells = IPython.notebook.get_cells();\n",
       "    var ncells = cells.length;\n",
       "    for (var i = 0; i < ncells; i++) {\n",
       "        var cell = cells[i];\n",
       "        if (cell.cell_type === 'code') {\n",
       "            for (var j = 0; j < cell.output_area.outputs.length; j++) {\n",
       "                var data = cell.output_area.outputs[j];\n",
       "                if (data.data) {\n",
       "                    // IPython >= 3 moved mimebundle to data attribute of output\n",
       "                    data = data.data;\n",
       "                }\n",
       "                if (data['text/html'] === html_output) {\n",
       "                    return [cell, data, j];\n",
       "                }\n",
       "            }\n",
       "        }\n",
       "    }\n",
       "};\n",
       "\n",
       "// Register the function which deals with the matplotlib target/channel.\n",
       "// The kernel may be null if the page has been refreshed.\n",
       "if (IPython.notebook.kernel !== null) {\n",
       "    IPython.notebook.kernel.comm_manager.register_target(\n",
       "        'matplotlib',\n",
       "        mpl.mpl_figure_comm\n",
       "    );\n",
       "}\n"
      ],
      "text/plain": [
       "<IPython.core.display.Javascript object>"
      ]
     },
     "metadata": {},
     "output_type": "display_data"
    },
    {
     "data": {
      "text/html": [
       "<img src=\"data:image/png;base64,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\" width=\"640\">"
      ],
      "text/plain": [
       "<IPython.core.display.HTML object>"
      ]
     },
     "metadata": {},
     "output_type": "display_data"
    }
   ],
   "source": [
    "fig = plt.figure()\n",
    "ax = fig.add_subplot(111, projection='3d')\n",
    "\n",
    "for a in range(-10,10):\n",
    "    for b in range(-10,10):\n",
    "        ax.scatter(v1[0]*a + v2[0]*b, v1[1]*a + v2[1]*b, v1[2]*a + v2[2]*b,\n",
    "                   marker= '.', color='purple')\n",
    "\n",
    "ax.set_xlabel('Eje X')\n",
    "ax.set_ylabel('Eje Y')\n",
    "ax.set_zlabel('Eje Z')\n",
    "\n",
    "plt.show()"
   ]
  },
  {
   "cell_type": "markdown",
   "metadata": {},
   "source": [
    "Podemos ver que el espacio $\\mathbb{R}^2$ solo conforma una \"capa\" dentro de $\\mathbb{R}^3$, y como todos los elementos de $\\mathbb{R}^2$ están contenidos en $\\mathbb{R}^3$, decimos que $\\mathbb{R}^2$ es un **subespacio de** $\\mathbb{R}^3$."
   ]
  },
  {
   "cell_type": "markdown",
   "metadata": {},
   "source": [
    "En álgebra lineal le llamamos **hiperplano** es un espacio de *menor dimensión* al espacio en el cuál estamos trabajando. Por ejemplo, si estamos trabajando en $\\mathbb{R}^3$ entonces, $\\mathbb{R}^2$ es un **hiperplano**.\n",
    "\n",
    "Si estamos en un espacio de 3 dimensiones, el hiperplano sería una \"capa\" u \"hoja\" como la que vemos arriba, en el caso de estar trabajando en 2 dimensiones tendríamos como hiperplano a una recta."
   ]
  },
  {
   "cell_type": "markdown",
   "metadata": {},
   "source": [
    "#### Conjunto generador"
   ]
  },
  {
   "cell_type": "markdown",
   "metadata": {},
   "source": [
    "Sea $\\{ v_1,v_2,\\dots, v_n \\}$ un conjunto de vectores de un espacio vectorial $V$.\n",
    "\n",
    "Si **todo vector** de $V$ se puede expresar como combinación lineal de  $ v_1,v_2,\\dots, v_n $, entonces se dice que $\\{ v_1,v_2,\\dots, v_n \\}$ es un **conjunto generador de V**.  "
   ]
  },
  {
   "cell_type": "markdown",
   "metadata": {},
   "source": [
    "---"
   ]
  },
  {
   "cell_type": "markdown",
   "metadata": {},
   "source": [
    "### Vectores linealmente Independientes"
   ]
  },
  {
   "cell_type": "markdown",
   "metadata": {},
   "source": [
    "Decimos que 2 o más vectores son **linealmente independientes** si ninguno de ellos puede ser escrito como una **combinación lineal** de los restantes."
   ]
  },
  {
   "cell_type": "markdown",
   "metadata": {},
   "source": [
    "O por el otro lado, un conjunto de vectores ${v_1, v_2, \\dots , v_n}$ de un espacio vectorial $V$ es **linealmente dependiente** si y sólo si al menos unos de los vectores puede expresarse como una combinación lineal de los demás."
   ]
  },
  {
   "cell_type": "markdown",
   "metadata": {},
   "source": [
    "Si la combinación de los $n$ vectores es igual al vector cero, entonces cada uno de los coeficientes de la combinación lineal es cero:"
   ]
  },
  {
   "cell_type": "markdown",
   "metadata": {},
   "source": [
    "$$a_1 \\vec{v_1} + a_2 \\vec{v_2} + \\dots + a_n \\vec{v_n} = \\vec{0} \\implies a_1 = a_2 = \\dots = a_n = 0$$"
   ]
  },
  {
   "cell_type": "markdown",
   "metadata": {},
   "source": [
    "Los vectores linealmente independientes tienen distinta dirección y sus componentes no son proporcionales."
   ]
  },
  {
   "cell_type": "code",
   "execution_count": 9,
   "metadata": {},
   "outputs": [],
   "source": [
    "%matplotlib inline\n",
    "\n",
    "import numpy as np\n",
    "import matplotlib.pyplot as plt"
   ]
  },
  {
   "cell_type": "markdown",
   "metadata": {},
   "source": [
    "retomemos nuestro ejemplos anteriores:"
   ]
  },
  {
   "cell_type": "code",
   "execution_count": 15,
   "metadata": {},
   "outputs": [],
   "source": [
    "v1 = np.array([1,1])\n",
    "v2 = np.array([-1,-1])"
   ]
  },
  {
   "cell_type": "code",
   "execution_count": 13,
   "metadata": {},
   "outputs": [
    {
     "data": {
      "text/plain": [
       "(-1.5, 1.5)"
      ]
     },
     "execution_count": 13,
     "metadata": {},
     "output_type": "execute_result"
    },
    {
     "data": {
      "image/png": "[encoded data removed]",
      "text/plain": [
       "<Figure size 432x288 with 1 Axes>"
      ]
     },
     "metadata": {
      "needs_background": "light"
     },
     "output_type": "display_data"
    }
   ],
   "source": [
    "%run \"./Funciones_Auxiliares/Graficar_Vectores.ipynb\"\n",
    "graficar_vectores([v1,v2], color=['red','blue'], alpha=1)\n",
    "plt.xlim(-1.5,1.5)\n",
    "plt.ylim(-1.5,1.5)"
   ]
  },
  {
   "cell_type": "code",
   "execution_count": 16,
   "metadata": {},
   "outputs": [
    {
     "data": {
      "text/plain": [
       "<matplotlib.lines.Line2D at 0x1fd2aa789d0>"
      ]
     },
     "execution_count": 16,
     "metadata": {},
     "output_type": "execute_result"
    },
    {
     "data": {
      "image/png": "[encoded data removed]",
      "text/plain": [
       "<Figure size 432x288 with 1 Axes>"
      ]
     },
     "metadata": {
      "needs_background": "light"
     },
     "output_type": "display_data"
    }
   ],
   "source": [
    "for a in range(-10,10):\n",
    "    for b in range(-10,10):\n",
    "        plt.scatter(v1[0]*a + v2[0]*b, v1[1]*a + v2[1]*b,\n",
    "                   marker= '.', color='purple')\n",
    "        \n",
    "plt.grid()\n",
    "plt.xlim(-25,25)\n",
    "plt.ylim(-25,25)\n",
    "plt.axvline(x=0, color='black')\n",
    "plt.axhline(y=0, color='black')"
   ]
  },
  {
   "cell_type": "markdown",
   "metadata": {},
   "source": [
    "recordemos que obtuvimos ese espacio ya que, $v2$ *se puede expresar como una combinación lineal de* $v1$."
   ]
  },
  {
   "cell_type": "markdown",
   "metadata": {},
   "source": [
    "Ahora, veamos el caso donde generamos a $\\mathbb{R}^2$ utilizando nuestros 2 vectores linealmente independientes $(1,0)$ y $(0,1)$:"
   ]
  },
  {
   "cell_type": "code",
   "execution_count": 17,
   "metadata": {},
   "outputs": [
    {
     "data": {
      "text/plain": [
       "(-1.5, 1.5)"
      ]
     },
     "execution_count": 17,
     "metadata": {},
     "output_type": "execute_result"
    },
    {
     "data": {
      "image/png": "[encoded data removed]",
      "text/plain": [
       "<Figure size 432x288 with 1 Axes>"
      ]
     },
     "metadata": {
      "needs_background": "light"
     },
     "output_type": "display_data"
    }
   ],
   "source": [
    "v1 = np.array([0,1])\n",
    "v2 = np.array([1,0])\n",
    "\n",
    "%run \"./Funciones_Auxiliares/Graficar_Vectores.ipynb\"\n",
    "graficar_vectores([v1,v2], color=['red','blue'], alpha=1)\n",
    "plt.xlim(-1.5,1.5)\n",
    "plt.ylim(-1.5,1.5)"
   ]
  },
  {
   "cell_type": "code",
   "execution_count": 19,
   "metadata": {},
   "outputs": [
    {
     "data": {
      "text/plain": [
       "<matplotlib.lines.Line2D at 0x1fd2a9deeb0>"
      ]
     },
     "execution_count": 19,
     "metadata": {},
     "output_type": "execute_result"
    },
    {
     "data": {
      "image/png": "[encoded data removed]",
      "text/plain": [
       "<Figure size 432x288 with 1 Axes>"
      ]
     },
     "metadata": {
      "needs_background": "light"
     },
     "output_type": "display_data"
    }
   ],
   "source": [
    "for a in range(-10,10):\n",
    "    for b in range(-10,10):\n",
    "        plt.scatter(v1[0]*a + v2[0]*b, v1[1]*a + v2[1]*b,\n",
    "                   marker= '.', color='purple')\n",
    "        \n",
    "plt.grid()\n",
    "plt.xlim(-20,20)\n",
    "plt.ylim(-20,20)\n",
    "plt.axvline(x=0, color='black')\n",
    "plt.axhline(y=0, color='black')"
   ]
  },
  {
   "cell_type": "markdown",
   "metadata": {},
   "source": [
    "¿Cómo generaríamos a $\\mathbb{R}^3$?"
   ]
  },
  {
   "cell_type": "markdown",
   "metadata": {},
   "source": [
    "Con los vectores $v1=(1,0,0)$, $v2=(0,1,0)$ y $v3=(0,0,1)$."
   ]
  },
  {
   "cell_type": "code",
   "execution_count": 1,
   "metadata": {},
   "outputs": [],
   "source": [
    "import numpy as np\n",
    "import matplotlib.pyplot as plt\n",
    "from mpl_toolkits.mplot3d import Axes3D\n",
    "\n",
    "%matplotlib notebook"
   ]
  },
  {
   "cell_type": "code",
   "execution_count": 5,
   "metadata": {},
   "outputs": [
    {
     "data": {
      "application/javascript": [
       "/* Put everything inside the global mpl namespace */\n",
       "/* global mpl */\n",
       "window.mpl = {};\n",
       "\n",
       "mpl.get_websocket_type = function () {\n",
       "    if (typeof WebSocket !== 'undefined') {\n",
       "        return WebSocket;\n",
       "    } else if (typeof MozWebSocket !== 'undefined') {\n",
       "        return MozWebSocket;\n",
       "    } else {\n",
       "        alert(\n",
       "            'Your browser does not have WebSocket support. ' +\n",
       "                'Please try Chrome, Safari or Firefox ≥ 6. ' +\n",
       "                'Firefox 4 and 5 are also supported but you ' +\n",
       "                'have to enable WebSockets in about:config.'\n",
       "        );\n",
       "    }\n",
       "};\n",
       "\n",
       "mpl.figure = function (figure_id, websocket, ondownload, parent_element) {\n",
       "    this.id = figure_id;\n",
       "\n",
       "    this.ws = websocket;\n",
       "\n",
       "    this.supports_binary = this.ws.binaryType !== undefined;\n",
       "\n",
       "    if (!this.supports_binary) {\n",
       "        var warnings = document.getElementById('mpl-warnings');\n",
       "        if (warnings) {\n",
       "            warnings.style.display = 'block';\n",
       "            warnings.textContent =\n",
       "                'This browser does not support binary websocket messages. ' +\n",
       "                'Performance may be slow.';\n",
       "        }\n",
       "    }\n",
       "\n",
       "    this.imageObj = new Image();\n",
       "\n",
       "    this.context = undefined;\n",
       "    this.message = undefined;\n",
       "    this.canvas = undefined;\n",
       "    this.rubberband_canvas = undefined;\n",
       "    this.rubberband_context = undefined;\n",
       "    this.format_dropdown = undefined;\n",
       "\n",
       "    this.image_mode = 'full';\n",
       "\n",
       "    this.root = document.createElement('div');\n",
       "    this.root.setAttribute('style', 'display: inline-block');\n",
       "    this._root_extra_style(this.root);\n",
       "\n",
       "    parent_element.appendChild(this.root);\n",
       "\n",
       "    this._init_header(this);\n",
       "    this._init_canvas(this);\n",
       "    this._init_toolbar(this);\n",
       "\n",
       "    var fig = this;\n",
       "\n",
       "    this.waiting = false;\n",
       "\n",
       "    this.ws.onopen = function () {\n",
       "        fig.send_message('supports_binary', { value: fig.supports_binary });\n",
       "        fig.send_message('send_image_mode', {});\n",
       "        if (fig.ratio !== 1) {\n",
       "            fig.send_message('set_dpi_ratio', { dpi_ratio: fig.ratio });\n",
       "        }\n",
       "        fig.send_message('refresh', {});\n",
       "    };\n",
       "\n",
       "    this.imageObj.onload = function () {\n",
       "        if (fig.image_mode === 'full') {\n",
       "            // Full images could contain transparency (where diff images\n",
       "            // almost always do), so we need to clear the canvas so that\n",
       "            // there is no ghosting.\n",
       "            fig.context.clearRect(0, 0, fig.canvas.width, fig.canvas.height);\n",
       "        }\n",
       "        fig.context.drawImage(fig.imageObj, 0, 0);\n",
       "    };\n",
       "\n",
       "    this.imageObj.onunload = function () {\n",
       "        fig.ws.close();\n",
       "    };\n",
       "\n",
       "    this.ws.onmessage = this._make_on_message_function(this);\n",
       "\n",
       "    this.ondownload = ondownload;\n",
       "};\n",
       "\n",
       "mpl.figure.prototype._init_header = function () {\n",
       "    var titlebar = document.createElement('div');\n",
       "    titlebar.classList =\n",
       "        'ui-dialog-titlebar ui-widget-header ui-corner-all ui-helper-clearfix';\n",
       "    var titletext = document.createElement('div');\n",
       "    titletext.classList = 'ui-dialog-title';\n",
       "    titletext.setAttribute(\n",
       "        'style',\n",
       "        'width: 100%; text-align: center; padding: 3px;'\n",
       "    );\n",
       "    titlebar.appendChild(titletext);\n",
       "    this.root.appendChild(titlebar);\n",
       "    this.header = titletext;\n",
       "};\n",
       "\n",
       "mpl.figure.prototype._canvas_extra_style = function (_canvas_div) {};\n",
       "\n",
       "mpl.figure.prototype._root_extra_style = function (_canvas_div) {};\n",
       "\n",
       "mpl.figure.prototype._init_canvas = function () {\n",
       "    var fig = this;\n",
       "\n",
       "    var canvas_div = (this.canvas_div = document.createElement('div'));\n",
       "    canvas_div.setAttribute(\n",
       "        'style',\n",
       "        'border: 1px solid #ddd;' +\n",
       "            'box-sizing: content-box;' +\n",
       "            'clear: both;' +\n",
       "            'min-height: 1px;' +\n",
       "            'min-width: 1px;' +\n",
       "            'outline: 0;' +\n",
       "            'overflow: hidden;' +\n",
       "            'position: relative;' +\n",
       "            'resize: both;'\n",
       "    );\n",
       "\n",
       "    function on_keyboard_event_closure(name) {\n",
       "        return function (event) {\n",
       "            return fig.key_event(event, name);\n",
       "        };\n",
       "    }\n",
       "\n",
       "    canvas_div.addEventListener(\n",
       "        'keydown',\n",
       "        on_keyboard_event_closure('key_press')\n",
       "    );\n",
       "    canvas_div.addEventListener(\n",
       "        'keyup',\n",
       "        on_keyboard_event_closure('key_release')\n",
       "    );\n",
       "\n",
       "    this._canvas_extra_style(canvas_div);\n",
       "    this.root.appendChild(canvas_div);\n",
       "\n",
       "    var canvas = (this.canvas = document.createElement('canvas'));\n",
       "    canvas.classList.add('mpl-canvas');\n",
       "    canvas.setAttribute('style', 'box-sizing: content-box;');\n",
       "\n",
       "    this.context = canvas.getContext('2d');\n",
       "\n",
       "    var backingStore =\n",
       "        this.context.backingStorePixelRatio ||\n",
       "        this.context.webkitBackingStorePixelRatio ||\n",
       "        this.context.mozBackingStorePixelRatio ||\n",
       "        this.context.msBackingStorePixelRatio ||\n",
       "        this.context.oBackingStorePixelRatio ||\n",
       "        this.context.backingStorePixelRatio ||\n",
       "        1;\n",
       "\n",
       "    this.ratio = (window.devicePixelRatio || 1) / backingStore;\n",
       "\n",
       "    var rubberband_canvas = (this.rubberband_canvas = document.createElement(\n",
       "        'canvas'\n",
       "    ));\n",
       "    rubberband_canvas.setAttribute(\n",
       "        'style',\n",
       "        'box-sizing: content-box; position: absolute; left: 0; top: 0; z-index: 1;'\n",
       "    );\n",
       "\n",
       "    // Apply a ponyfill if ResizeObserver is not implemented by browser.\n",
       "    if (this.ResizeObserver === undefined) {\n",
       "        if (window.ResizeObserver !== undefined) {\n",
       "            this.ResizeObserver = window.ResizeObserver;\n",
       "        } else {\n",
       "            var obs = _JSXTOOLS_RESIZE_OBSERVER({});\n",
       "            this.ResizeObserver = obs.ResizeObserver;\n",
       "        }\n",
       "    }\n",
       "\n",
       "    this.resizeObserverInstance = new this.ResizeObserver(function (entries) {\n",
       "        var nentries = entries.length;\n",
       "        for (var i = 0; i < nentries; i++) {\n",
       "            var entry = entries[i];\n",
       "            var width, height;\n",
       "            if (entry.contentBoxSize) {\n",
       "                if (entry.contentBoxSize instanceof Array) {\n",
       "                    // Chrome 84 implements new version of spec.\n",
       "                    width = entry.contentBoxSize[0].inlineSize;\n",
       "                    height = entry.contentBoxSize[0].blockSize;\n",
       "                } else {\n",
       "                    // Firefox implements old version of spec.\n",
       "                    width = entry.contentBoxSize.inlineSize;\n",
       "                    height = entry.contentBoxSize.blockSize;\n",
       "                }\n",
       "            } else {\n",
       "                // Chrome <84 implements even older version of spec.\n",
       "                width = entry.contentRect.width;\n",
       "                height = entry.contentRect.height;\n",
       "            }\n",
       "\n",
       "            // Keep the size of the canvas and rubber band canvas in sync with\n",
       "            // the canvas container.\n",
       "            if (entry.devicePixelContentBoxSize) {\n",
       "                // Chrome 84 implements new version of spec.\n",
       "                canvas.setAttribute(\n",
       "                    'width',\n",
       "                    entry.devicePixelContentBoxSize[0].inlineSize\n",
       "                );\n",
       "                canvas.setAttribute(\n",
       "                    'height',\n",
       "                    entry.devicePixelContentBoxSize[0].blockSize\n",
       "                );\n",
       "            } else {\n",
       "                canvas.setAttribute('width', width * fig.ratio);\n",
       "                canvas.setAttribute('height', height * fig.ratio);\n",
       "            }\n",
       "            canvas.setAttribute(\n",
       "                'style',\n",
       "                'width: ' + width + 'px; height: ' + height + 'px;'\n",
       "            );\n",
       "\n",
       "            rubberband_canvas.setAttribute('width', width);\n",
       "            rubberband_canvas.setAttribute('height', height);\n",
       "\n",
       "            // And update the size in Python. We ignore the initial 0/0 size\n",
       "            // that occurs as the element is placed into the DOM, which should\n",
       "            // otherwise not happen due to the minimum size styling.\n",
       "            if (fig.ws.readyState == 1 && width != 0 && height != 0) {\n",
       "                fig.request_resize(width, height);\n",
       "            }\n",
       "        }\n",
       "    });\n",
       "    this.resizeObserverInstance.observe(canvas_div);\n",
       "\n",
       "    function on_mouse_event_closure(name) {\n",
       "        return function (event) {\n",
       "            return fig.mouse_event(event, name);\n",
       "        };\n",
       "    }\n",
       "\n",
       "    rubberband_canvas.addEventListener(\n",
       "        'mousedown',\n",
       "        on_mouse_event_closure('button_press')\n",
       "    );\n",
       "    rubberband_canvas.addEventListener(\n",
       "        'mouseup',\n",
       "        on_mouse_event_closure('button_release')\n",
       "    );\n",
       "    rubberband_canvas.addEventListener(\n",
       "        'dblclick',\n",
       "        on_mouse_event_closure('dblclick')\n",
       "    );\n",
       "    // Throttle sequential mouse events to 1 every 20ms.\n",
       "    rubberband_canvas.addEventListener(\n",
       "        'mousemove',\n",
       "        on_mouse_event_closure('motion_notify')\n",
       "    );\n",
       "\n",
       "    rubberband_canvas.addEventListener(\n",
       "        'mouseenter',\n",
       "        on_mouse_event_closure('figure_enter')\n",
       "    );\n",
       "    rubberband_canvas.addEventListener(\n",
       "        'mouseleave',\n",
       "        on_mouse_event_closure('figure_leave')\n",
       "    );\n",
       "\n",
       "    canvas_div.addEventListener('wheel', function (event) {\n",
       "        if (event.deltaY < 0) {\n",
       "            event.step = 1;\n",
       "        } else {\n",
       "            event.step = -1;\n",
       "        }\n",
       "        on_mouse_event_closure('scroll')(event);\n",
       "    });\n",
       "\n",
       "    canvas_div.appendChild(canvas);\n",
       "    canvas_div.appendChild(rubberband_canvas);\n",
       "\n",
       "    this.rubberband_context = rubberband_canvas.getContext('2d');\n",
       "    this.rubberband_context.strokeStyle = '#000000';\n",
       "\n",
       "    this._resize_canvas = function (width, height, forward) {\n",
       "        if (forward) {\n",
       "            canvas_div.style.width = width + 'px';\n",
       "            canvas_div.style.height = height + 'px';\n",
       "        }\n",
       "    };\n",
       "\n",
       "    // Disable right mouse context menu.\n",
       "    this.rubberband_canvas.addEventListener('contextmenu', function (_e) {\n",
       "        event.preventDefault();\n",
       "        return false;\n",
       "    });\n",
       "\n",
       "    function set_focus() {\n",
       "        canvas.focus();\n",
       "        canvas_div.focus();\n",
       "    }\n",
       "\n",
       "    window.setTimeout(set_focus, 100);\n",
       "};\n",
       "\n",
       "mpl.figure.prototype._init_toolbar = function () {\n",
       "    var fig = this;\n",
       "\n",
       "    var toolbar = document.createElement('div');\n",
       "    toolbar.classList = 'mpl-toolbar';\n",
       "    this.root.appendChild(toolbar);\n",
       "\n",
       "    function on_click_closure(name) {\n",
       "        return function (_event) {\n",
       "            return fig.toolbar_button_onclick(name);\n",
       "        };\n",
       "    }\n",
       "\n",
       "    function on_mouseover_closure(tooltip) {\n",
       "        return function (event) {\n",
       "            if (!event.currentTarget.disabled) {\n",
       "                return fig.toolbar_button_onmouseover(tooltip);\n",
       "            }\n",
       "        };\n",
       "    }\n",
       "\n",
       "    fig.buttons = {};\n",
       "    var buttonGroup = document.createElement('div');\n",
       "    buttonGroup.classList = 'mpl-button-group';\n",
       "    for (var toolbar_ind in mpl.toolbar_items) {\n",
       "        var name = mpl.toolbar_items[toolbar_ind][0];\n",
       "        var tooltip = mpl.toolbar_items[toolbar_ind][1];\n",
       "        var image = mpl.toolbar_items[toolbar_ind][2];\n",
       "        var method_name = mpl.toolbar_items[toolbar_ind][3];\n",
       "\n",
       "        if (!name) {\n",
       "            /* Instead of a spacer, we start a new button group. */\n",
       "            if (buttonGroup.hasChildNodes()) {\n",
       "                toolbar.appendChild(buttonGroup);\n",
       "            }\n",
       "            buttonGroup = document.createElement('div');\n",
       "            buttonGroup.classList = 'mpl-button-group';\n",
       "            continue;\n",
       "        }\n",
       "\n",
       "        var button = (fig.buttons[name] = document.createElement('button'));\n",
       "        button.classList = 'mpl-widget';\n",
       "        button.setAttribute('role', 'button');\n",
       "        button.setAttribute('aria-disabled', 'false');\n",
       "        button.addEventListener('click', on_click_closure(method_name));\n",
       "        button.addEventListener('mouseover', on_mouseover_closure(tooltip));\n",
       "\n",
       "        var icon_img = document.createElement('img');\n",
       "        icon_img.src = '_images/' + image + '.png';\n",
       "        icon_img.srcset = '_images/' + image + '_large.png 2x';\n",
       "        icon_img.alt = tooltip;\n",
       "        button.appendChild(icon_img);\n",
       "\n",
       "        buttonGroup.appendChild(button);\n",
       "    }\n",
       "\n",
       "    if (buttonGroup.hasChildNodes()) {\n",
       "        toolbar.appendChild(buttonGroup);\n",
       "    }\n",
       "\n",
       "    var fmt_picker = document.createElement('select');\n",
       "    fmt_picker.classList = 'mpl-widget';\n",
       "    toolbar.appendChild(fmt_picker);\n",
       "    this.format_dropdown = fmt_picker;\n",
       "\n",
       "    for (var ind in mpl.extensions) {\n",
       "        var fmt = mpl.extensions[ind];\n",
       "        var option = document.createElement('option');\n",
       "        option.selected = fmt === mpl.default_extension;\n",
       "        option.innerHTML = fmt;\n",
       "        fmt_picker.appendChild(option);\n",
       "    }\n",
       "\n",
       "    var status_bar = document.createElement('span');\n",
       "    status_bar.classList = 'mpl-message';\n",
       "    toolbar.appendChild(status_bar);\n",
       "    this.message = status_bar;\n",
       "};\n",
       "\n",
       "mpl.figure.prototype.request_resize = function (x_pixels, y_pixels) {\n",
       "    // Request matplotlib to resize the figure. Matplotlib will then trigger a resize in the client,\n",
       "    // which will in turn request a refresh of the image.\n",
       "    this.send_message('resize', { width: x_pixels, height: y_pixels });\n",
       "};\n",
       "\n",
       "mpl.figure.prototype.send_message = function (type, properties) {\n",
       "    properties['type'] = type;\n",
       "    properties['figure_id'] = this.id;\n",
       "    this.ws.send(JSON.stringify(properties));\n",
       "};\n",
       "\n",
       "mpl.figure.prototype.send_draw_message = function () {\n",
       "    if (!this.waiting) {\n",
       "        this.waiting = true;\n",
       "        this.ws.send(JSON.stringify({ type: 'draw', figure_id: this.id }));\n",
       "    }\n",
       "};\n",
       "\n",
       "mpl.figure.prototype.handle_save = function (fig, _msg) {\n",
       "    var format_dropdown = fig.format_dropdown;\n",
       "    var format = format_dropdown.options[format_dropdown.selectedIndex].value;\n",
       "    fig.ondownload(fig, format);\n",
       "};\n",
       "\n",
       "mpl.figure.prototype.handle_resize = function (fig, msg) {\n",
       "    var size = msg['size'];\n",
       "    if (size[0] !== fig.canvas.width || size[1] !== fig.canvas.height) {\n",
       "        fig._resize_canvas(size[0], size[1], msg['forward']);\n",
       "        fig.send_message('refresh', {});\n",
       "    }\n",
       "};\n",
       "\n",
       "mpl.figure.prototype.handle_rubberband = function (fig, msg) {\n",
       "    var x0 = msg['x0'] / fig.ratio;\n",
       "    var y0 = (fig.canvas.height - msg['y0']) / fig.ratio;\n",
       "    var x1 = msg['x1'] / fig.ratio;\n",
       "    var y1 = (fig.canvas.height - msg['y1']) / fig.ratio;\n",
       "    x0 = Math.floor(x0) + 0.5;\n",
       "    y0 = Math.floor(y0) + 0.5;\n",
       "    x1 = Math.floor(x1) + 0.5;\n",
       "    y1 = Math.floor(y1) + 0.5;\n",
       "    var min_x = Math.min(x0, x1);\n",
       "    var min_y = Math.min(y0, y1);\n",
       "    var width = Math.abs(x1 - x0);\n",
       "    var height = Math.abs(y1 - y0);\n",
       "\n",
       "    fig.rubberband_context.clearRect(\n",
       "        0,\n",
       "        0,\n",
       "        fig.canvas.width / fig.ratio,\n",
       "        fig.canvas.height / fig.ratio\n",
       "    );\n",
       "\n",
       "    fig.rubberband_context.strokeRect(min_x, min_y, width, height);\n",
       "};\n",
       "\n",
       "mpl.figure.prototype.handle_figure_label = function (fig, msg) {\n",
       "    // Updates the figure title.\n",
       "    fig.header.textContent = msg['label'];\n",
       "};\n",
       "\n",
       "mpl.figure.prototype.handle_cursor = function (fig, msg) {\n",
       "    var cursor = msg['cursor'];\n",
       "    switch (cursor) {\n",
       "        case 0:\n",
       "            cursor = 'pointer';\n",
       "            break;\n",
       "        case 1:\n",
       "            cursor = 'default';\n",
       "            break;\n",
       "        case 2:\n",
       "            cursor = 'crosshair';\n",
       "            break;\n",
       "        case 3:\n",
       "            cursor = 'move';\n",
       "            break;\n",
       "    }\n",
       "    fig.rubberband_canvas.style.cursor = cursor;\n",
       "};\n",
       "\n",
       "mpl.figure.prototype.handle_message = function (fig, msg) {\n",
       "    fig.message.textContent = msg['message'];\n",
       "};\n",
       "\n",
       "mpl.figure.prototype.handle_draw = function (fig, _msg) {\n",
       "    // Request the server to send over a new figure.\n",
       "    fig.send_draw_message();\n",
       "};\n",
       "\n",
       "mpl.figure.prototype.handle_image_mode = function (fig, msg) {\n",
       "    fig.image_mode = msg['mode'];\n",
       "};\n",
       "\n",
       "mpl.figure.prototype.handle_history_buttons = function (fig, msg) {\n",
       "    for (var key in msg) {\n",
       "        if (!(key in fig.buttons)) {\n",
       "            continue;\n",
       "        }\n",
       "        fig.buttons[key].disabled = !msg[key];\n",
       "        fig.buttons[key].setAttribute('aria-disabled', !msg[key]);\n",
       "    }\n",
       "};\n",
       "\n",
       "mpl.figure.prototype.handle_navigate_mode = function (fig, msg) {\n",
       "    if (msg['mode'] === 'PAN') {\n",
       "        fig.buttons['Pan'].classList.add('active');\n",
       "        fig.buttons['Zoom'].classList.remove('active');\n",
       "    } else if (msg['mode'] === 'ZOOM') {\n",
       "        fig.buttons['Pan'].classList.remove('active');\n",
       "        fig.buttons['Zoom'].classList.add('active');\n",
       "    } else {\n",
       "        fig.buttons['Pan'].classList.remove('active');\n",
       "        fig.buttons['Zoom'].classList.remove('active');\n",
       "    }\n",
       "};\n",
       "\n",
       "mpl.figure.prototype.updated_canvas_event = function () {\n",
       "    // Called whenever the canvas gets updated.\n",
       "    this.send_message('ack', {});\n",
       "};\n",
       "\n",
       "// A function to construct a web socket function for onmessage handling.\n",
       "// Called in the figure constructor.\n",
       "mpl.figure.prototype._make_on_message_function = function (fig) {\n",
       "    return function socket_on_message(evt) {\n",
       "        if (evt.data instanceof Blob) {\n",
       "            var img = evt.data;\n",
       "            if (img.type !== 'image/png') {\n",
       "                /* FIXME: We get \"Resource interpreted as Image but\n",
       "                 * transferred with MIME type text/plain:\" errors on\n",
       "                 * Chrome.  But how to set the MIME type?  It doesn't seem\n",
       "                 * to be part of the websocket stream */\n",
       "                img.type = 'image/png';\n",
       "            }\n",
       "\n",
       "            /* Free the memory for the previous frames */\n",
       "            if (fig.imageObj.src) {\n",
       "                (window.URL || window.webkitURL).revokeObjectURL(\n",
       "                    fig.imageObj.src\n",
       "                );\n",
       "            }\n",
       "\n",
       "            fig.imageObj.src = (window.URL || window.webkitURL).createObjectURL(\n",
       "                img\n",
       "            );\n",
       "            fig.updated_canvas_event();\n",
       "            fig.waiting = false;\n",
       "            return;\n",
       "        } else if (\n",
       "            typeof evt.data === 'string' &&\n",
       "            evt.data.slice(0, 21) === 'data:image/png;base64'\n",
       "        ) {\n",
       "            fig.imageObj.src = evt.data;\n",
       "            fig.updated_canvas_event();\n",
       "            fig.waiting = false;\n",
       "            return;\n",
       "        }\n",
       "\n",
       "        var msg = JSON.parse(evt.data);\n",
       "        var msg_type = msg['type'];\n",
       "\n",
       "        // Call the  \"handle_{type}\" callback, which takes\n",
       "        // the figure and JSON message as its only arguments.\n",
       "        try {\n",
       "            var callback = fig['handle_' + msg_type];\n",
       "        } catch (e) {\n",
       "            console.log(\n",
       "                \"No handler for the '\" + msg_type + \"' message type: \",\n",
       "                msg\n",
       "            );\n",
       "            return;\n",
       "        }\n",
       "\n",
       "        if (callback) {\n",
       "            try {\n",
       "                // console.log(\"Handling '\" + msg_type + \"' message: \", msg);\n",
       "                callback(fig, msg);\n",
       "            } catch (e) {\n",
       "                console.log(\n",
       "                    \"Exception inside the 'handler_\" + msg_type + \"' callback:\",\n",
       "                    e,\n",
       "                    e.stack,\n",
       "                    msg\n",
       "                );\n",
       "            }\n",
       "        }\n",
       "    };\n",
       "};\n",
       "\n",
       "// from http://stackoverflow.com/questions/1114465/getting-mouse-location-in-canvas\n",
       "mpl.findpos = function (e) {\n",
       "    //this section is from http://www.quirksmode.org/js/events_properties.html\n",
       "    var targ;\n",
       "    if (!e) {\n",
       "        e = window.event;\n",
       "    }\n",
       "    if (e.target) {\n",
       "        targ = e.target;\n",
       "    } else if (e.srcElement) {\n",
       "        targ = e.srcElement;\n",
       "    }\n",
       "    if (targ.nodeType === 3) {\n",
       "        // defeat Safari bug\n",
       "        targ = targ.parentNode;\n",
       "    }\n",
       "\n",
       "    // pageX,Y are the mouse positions relative to the document\n",
       "    var boundingRect = targ.getBoundingClientRect();\n",
       "    var x = e.pageX - (boundingRect.left + document.body.scrollLeft);\n",
       "    var y = e.pageY - (boundingRect.top + document.body.scrollTop);\n",
       "\n",
       "    return { x: x, y: y };\n",
       "};\n",
       "\n",
       "/*\n",
       " * return a copy of an object with only non-object keys\n",
       " * we need this to avoid circular references\n",
       " * http://stackoverflow.com/a/24161582/3208463\n",
       " */\n",
       "function simpleKeys(original) {\n",
       "    return Object.keys(original).reduce(function (obj, key) {\n",
       "        if (typeof original[key] !== 'object') {\n",
       "            obj[key] = original[key];\n",
       "        }\n",
       "        return obj;\n",
       "    }, {});\n",
       "}\n",
       "\n",
       "mpl.figure.prototype.mouse_event = function (event, name) {\n",
       "    var canvas_pos = mpl.findpos(event);\n",
       "\n",
       "    if (name === 'button_press') {\n",
       "        this.canvas.focus();\n",
       "        this.canvas_div.focus();\n",
       "    }\n",
       "\n",
       "    var x = canvas_pos.x * this.ratio;\n",
       "    var y = canvas_pos.y * this.ratio;\n",
       "\n",
       "    this.send_message(name, {\n",
       "        x: x,\n",
       "        y: y,\n",
       "        button: event.button,\n",
       "        step: event.step,\n",
       "        guiEvent: simpleKeys(event),\n",
       "    });\n",
       "\n",
       "    /* This prevents the web browser from automatically changing to\n",
       "     * the text insertion cursor when the button is pressed.  We want\n",
       "     * to control all of the cursor setting manually through the\n",
       "     * 'cursor' event from matplotlib */\n",
       "    event.preventDefault();\n",
       "    return false;\n",
       "};\n",
       "\n",
       "mpl.figure.prototype._key_event_extra = function (_event, _name) {\n",
       "    // Handle any extra behaviour associated with a key event\n",
       "};\n",
       "\n",
       "mpl.figure.prototype.key_event = function (event, name) {\n",
       "    // Prevent repeat events\n",
       "    if (name === 'key_press') {\n",
       "        if (event.key === this._key) {\n",
       "            return;\n",
       "        } else {\n",
       "            this._key = event.key;\n",
       "        }\n",
       "    }\n",
       "    if (name === 'key_release') {\n",
       "        this._key = null;\n",
       "    }\n",
       "\n",
       "    var value = '';\n",
       "    if (event.ctrlKey && event.key !== 'Control') {\n",
       "        value += 'ctrl+';\n",
       "    }\n",
       "    else if (event.altKey && event.key !== 'Alt') {\n",
       "        value += 'alt+';\n",
       "    }\n",
       "    else if (event.shiftKey && event.key !== 'Shift') {\n",
       "        value += 'shift+';\n",
       "    }\n",
       "\n",
       "    value += 'k' + event.key;\n",
       "\n",
       "    this._key_event_extra(event, name);\n",
       "\n",
       "    this.send_message(name, { key: value, guiEvent: simpleKeys(event) });\n",
       "    return false;\n",
       "};\n",
       "\n",
       "mpl.figure.prototype.toolbar_button_onclick = function (name) {\n",
       "    if (name === 'download') {\n",
       "        this.handle_save(this, null);\n",
       "    } else {\n",
       "        this.send_message('toolbar_button', { name: name });\n",
       "    }\n",
       "};\n",
       "\n",
       "mpl.figure.prototype.toolbar_button_onmouseover = function (tooltip) {\n",
       "    this.message.textContent = tooltip;\n",
       "};\n",
       "\n",
       "///////////////// REMAINING CONTENT GENERATED BY embed_js.py /////////////////\n",
       "// prettier-ignore\n",
       "var _JSXTOOLS_RESIZE_OBSERVER=function(A){var t,i=new WeakMap,n=new WeakMap,a=new WeakMap,r=new WeakMap,o=new Set;function s(e){if(!(this instanceof s))throw new TypeError(\"Constructor requires 'new' operator\");i.set(this,e)}function h(){throw new TypeError(\"Function is not a constructor\")}function c(e,t,i,n){e=0 in arguments?Number(arguments[0]):0,t=1 in arguments?Number(arguments[1]):0,i=2 in arguments?Number(arguments[2]):0,n=3 in arguments?Number(arguments[3]):0,this.right=(this.x=this.left=e)+(this.width=i),this.bottom=(this.y=this.top=t)+(this.height=n),Object.freeze(this)}function d(){t=requestAnimationFrame(d);var s=new WeakMap,p=new Set;o.forEach((function(t){r.get(t).forEach((function(i){var r=t instanceof window.SVGElement,o=a.get(t),d=r?0:parseFloat(o.paddingTop),f=r?0:parseFloat(o.paddingRight),l=r?0:parseFloat(o.paddingBottom),u=r?0:parseFloat(o.paddingLeft),g=r?0:parseFloat(o.borderTopWidth),m=r?0:parseFloat(o.borderRightWidth),w=r?0:parseFloat(o.borderBottomWidth),b=u+f,F=d+l,v=(r?0:parseFloat(o.borderLeftWidth))+m,W=g+w,y=r?0:t.offsetHeight-W-t.clientHeight,E=r?0:t.offsetWidth-v-t.clientWidth,R=b+v,z=F+W,M=r?t.width:parseFloat(o.width)-R-E,O=r?t.height:parseFloat(o.height)-z-y;if(n.has(t)){var k=n.get(t);if(k[0]===M&&k[1]===O)return}n.set(t,[M,O]);var S=Object.create(h.prototype);S.target=t,S.contentRect=new c(u,d,M,O),s.has(i)||(s.set(i,[]),p.add(i)),s.get(i).push(S)}))})),p.forEach((function(e){i.get(e).call(e,s.get(e),e)}))}return s.prototype.observe=function(i){if(i instanceof window.Element){r.has(i)||(r.set(i,new Set),o.add(i),a.set(i,window.getComputedStyle(i)));var n=r.get(i);n.has(this)||n.add(this),cancelAnimationFrame(t),t=requestAnimationFrame(d)}},s.prototype.unobserve=function(i){if(i instanceof window.Element&&r.has(i)){var n=r.get(i);n.has(this)&&(n.delete(this),n.size||(r.delete(i),o.delete(i))),n.size||r.delete(i),o.size||cancelAnimationFrame(t)}},A.DOMRectReadOnly=c,A.ResizeObserver=s,A.ResizeObserverEntry=h,A}; // eslint-disable-line\n",
       "mpl.toolbar_items = [[\"Home\", \"Reset original view\", \"fa fa-home icon-home\", \"home\"], [\"Back\", \"Back to previous view\", \"fa fa-arrow-left icon-arrow-left\", \"back\"], [\"Forward\", \"Forward to next view\", \"fa fa-arrow-right icon-arrow-right\", \"forward\"], [\"\", \"\", \"\", \"\"], [\"Pan\", \"Left button pans, Right button zooms\\nx/y fixes axis, CTRL fixes aspect\", \"fa fa-arrows icon-move\", \"pan\"], [\"Zoom\", \"Zoom to rectangle\\nx/y fixes axis, CTRL fixes aspect\", \"fa fa-square-o icon-check-empty\", \"zoom\"], [\"\", \"\", \"\", \"\"], [\"Download\", \"Download plot\", \"fa fa-floppy-o icon-save\", \"download\"]];\n",
       "\n",
       "mpl.extensions = [\"eps\", \"jpeg\", \"pgf\", \"pdf\", \"png\", \"ps\", \"raw\", \"svg\", \"tif\"];\n",
       "\n",
       "mpl.default_extension = \"png\";/* global mpl */\n",
       "\n",
       "var comm_websocket_adapter = function (comm) {\n",
       "    // Create a \"websocket\"-like object which calls the given IPython comm\n",
       "    // object with the appropriate methods. Currently this is a non binary\n",
       "    // socket, so there is still some room for performance tuning.\n",
       "    var ws = {};\n",
       "\n",
       "    ws.binaryType = comm.kernel.ws.binaryType;\n",
       "    ws.readyState = comm.kernel.ws.readyState;\n",
       "    function updateReadyState(_event) {\n",
       "        if (comm.kernel.ws) {\n",
       "            ws.readyState = comm.kernel.ws.readyState;\n",
       "        } else {\n",
       "            ws.readyState = 3; // Closed state.\n",
       "        }\n",
       "    }\n",
       "    comm.kernel.ws.addEventListener('open', updateReadyState);\n",
       "    comm.kernel.ws.addEventListener('close', updateReadyState);\n",
       "    comm.kernel.ws.addEventListener('error', updateReadyState);\n",
       "\n",
       "    ws.close = function () {\n",
       "        comm.close();\n",
       "    };\n",
       "    ws.send = function (m) {\n",
       "        //console.log('sending', m);\n",
       "        comm.send(m);\n",
       "    };\n",
       "    // Register the callback with on_msg.\n",
       "    comm.on_msg(function (msg) {\n",
       "        //console.log('receiving', msg['content']['data'], msg);\n",
       "        var data = msg['content']['data'];\n",
       "        if (data['blob'] !== undefined) {\n",
       "            data = {\n",
       "                data: new Blob(msg['buffers'], { type: data['blob'] }),\n",
       "            };\n",
       "        }\n",
       "        // Pass the mpl event to the overridden (by mpl) onmessage function.\n",
       "        ws.onmessage(data);\n",
       "    });\n",
       "    return ws;\n",
       "};\n",
       "\n",
       "mpl.mpl_figure_comm = function (comm, msg) {\n",
       "    // This is the function which gets called when the mpl process\n",
       "    // starts-up an IPython Comm through the \"matplotlib\" channel.\n",
       "\n",
       "    var id = msg.content.data.id;\n",
       "    // Get hold of the div created by the display call when the Comm\n",
       "    // socket was opened in Python.\n",
       "    var element = document.getElementById(id);\n",
       "    var ws_proxy = comm_websocket_adapter(comm);\n",
       "\n",
       "    function ondownload(figure, _format) {\n",
       "        window.open(figure.canvas.toDataURL());\n",
       "    }\n",
       "\n",
       "    var fig = new mpl.figure(id, ws_proxy, ondownload, element);\n",
       "\n",
       "    // Call onopen now - mpl needs it, as it is assuming we've passed it a real\n",
       "    // web socket which is closed, not our websocket->open comm proxy.\n",
       "    ws_proxy.onopen();\n",
       "\n",
       "    fig.parent_element = element;\n",
       "    fig.cell_info = mpl.find_output_cell(\"<div id='\" + id + \"'></div>\");\n",
       "    if (!fig.cell_info) {\n",
       "        console.error('Failed to find cell for figure', id, fig);\n",
       "        return;\n",
       "    }\n",
       "    fig.cell_info[0].output_area.element.on(\n",
       "        'cleared',\n",
       "        { fig: fig },\n",
       "        fig._remove_fig_handler\n",
       "    );\n",
       "};\n",
       "\n",
       "mpl.figure.prototype.handle_close = function (fig, msg) {\n",
       "    var width = fig.canvas.width / fig.ratio;\n",
       "    fig.cell_info[0].output_area.element.off(\n",
       "        'cleared',\n",
       "        fig._remove_fig_handler\n",
       "    );\n",
       "    fig.resizeObserverInstance.unobserve(fig.canvas_div);\n",
       "\n",
       "    // Update the output cell to use the data from the current canvas.\n",
       "    fig.push_to_output();\n",
       "    var dataURL = fig.canvas.toDataURL();\n",
       "    // Re-enable the keyboard manager in IPython - without this line, in FF,\n",
       "    // the notebook keyboard shortcuts fail.\n",
       "    IPython.keyboard_manager.enable();\n",
       "    fig.parent_element.innerHTML =\n",
       "        '<img src=\"' + dataURL + '\" width=\"' + width + '\">';\n",
       "    fig.close_ws(fig, msg);\n",
       "};\n",
       "\n",
       "mpl.figure.prototype.close_ws = function (fig, msg) {\n",
       "    fig.send_message('closing', msg);\n",
       "    // fig.ws.close()\n",
       "};\n",
       "\n",
       "mpl.figure.prototype.push_to_output = function (_remove_interactive) {\n",
       "    // Turn the data on the canvas into data in the output cell.\n",
       "    var width = this.canvas.width / this.ratio;\n",
       "    var dataURL = this.canvas.toDataURL();\n",
       "    this.cell_info[1]['text/html'] =\n",
       "        '<img src=\"' + dataURL + '\" width=\"' + width + '\">';\n",
       "};\n",
       "\n",
       "mpl.figure.prototype.updated_canvas_event = function () {\n",
       "    // Tell IPython that the notebook contents must change.\n",
       "    IPython.notebook.set_dirty(true);\n",
       "    this.send_message('ack', {});\n",
       "    var fig = this;\n",
       "    // Wait a second, then push the new image to the DOM so\n",
       "    // that it is saved nicely (might be nice to debounce this).\n",
       "    setTimeout(function () {\n",
       "        fig.push_to_output();\n",
       "    }, 1000);\n",
       "};\n",
       "\n",
       "mpl.figure.prototype._init_toolbar = function () {\n",
       "    var fig = this;\n",
       "\n",
       "    var toolbar = document.createElement('div');\n",
       "    toolbar.classList = 'btn-toolbar';\n",
       "    this.root.appendChild(toolbar);\n",
       "\n",
       "    function on_click_closure(name) {\n",
       "        return function (_event) {\n",
       "            return fig.toolbar_button_onclick(name);\n",
       "        };\n",
       "    }\n",
       "\n",
       "    function on_mouseover_closure(tooltip) {\n",
       "        return function (event) {\n",
       "            if (!event.currentTarget.disabled) {\n",
       "                return fig.toolbar_button_onmouseover(tooltip);\n",
       "            }\n",
       "        };\n",
       "    }\n",
       "\n",
       "    fig.buttons = {};\n",
       "    var buttonGroup = document.createElement('div');\n",
       "    buttonGroup.classList = 'btn-group';\n",
       "    var button;\n",
       "    for (var toolbar_ind in mpl.toolbar_items) {\n",
       "        var name = mpl.toolbar_items[toolbar_ind][0];\n",
       "        var tooltip = mpl.toolbar_items[toolbar_ind][1];\n",
       "        var image = mpl.toolbar_items[toolbar_ind][2];\n",
       "        var method_name = mpl.toolbar_items[toolbar_ind][3];\n",
       "\n",
       "        if (!name) {\n",
       "            /* Instead of a spacer, we start a new button group. */\n",
       "            if (buttonGroup.hasChildNodes()) {\n",
       "                toolbar.appendChild(buttonGroup);\n",
       "            }\n",
       "            buttonGroup = document.createElement('div');\n",
       "            buttonGroup.classList = 'btn-group';\n",
       "            continue;\n",
       "        }\n",
       "\n",
       "        button = fig.buttons[name] = document.createElement('button');\n",
       "        button.classList = 'btn btn-default';\n",
       "        button.href = '#';\n",
       "        button.title = name;\n",
       "        button.innerHTML = '<i class=\"fa ' + image + ' fa-lg\"></i>';\n",
       "        button.addEventListener('click', on_click_closure(method_name));\n",
       "        button.addEventListener('mouseover', on_mouseover_closure(tooltip));\n",
       "        buttonGroup.appendChild(button);\n",
       "    }\n",
       "\n",
       "    if (buttonGroup.hasChildNodes()) {\n",
       "        toolbar.appendChild(buttonGroup);\n",
       "    }\n",
       "\n",
       "    // Add the status bar.\n",
       "    var status_bar = document.createElement('span');\n",
       "    status_bar.classList = 'mpl-message pull-right';\n",
       "    toolbar.appendChild(status_bar);\n",
       "    this.message = status_bar;\n",
       "\n",
       "    // Add the close button to the window.\n",
       "    var buttongrp = document.createElement('div');\n",
       "    buttongrp.classList = 'btn-group inline pull-right';\n",
       "    button = document.createElement('button');\n",
       "    button.classList = 'btn btn-mini btn-primary';\n",
       "    button.href = '#';\n",
       "    button.title = 'Stop Interaction';\n",
       "    button.innerHTML = '<i class=\"fa fa-power-off icon-remove icon-large\"></i>';\n",
       "    button.addEventListener('click', function (_evt) {\n",
       "        fig.handle_close(fig, {});\n",
       "    });\n",
       "    button.addEventListener(\n",
       "        'mouseover',\n",
       "        on_mouseover_closure('Stop Interaction')\n",
       "    );\n",
       "    buttongrp.appendChild(button);\n",
       "    var titlebar = this.root.querySelector('.ui-dialog-titlebar');\n",
       "    titlebar.insertBefore(buttongrp, titlebar.firstChild);\n",
       "};\n",
       "\n",
       "mpl.figure.prototype._remove_fig_handler = function (event) {\n",
       "    var fig = event.data.fig;\n",
       "    if (event.target !== this) {\n",
       "        // Ignore bubbled events from children.\n",
       "        return;\n",
       "    }\n",
       "    fig.close_ws(fig, {});\n",
       "};\n",
       "\n",
       "mpl.figure.prototype._root_extra_style = function (el) {\n",
       "    el.style.boxSizing = 'content-box'; // override notebook setting of border-box.\n",
       "};\n",
       "\n",
       "mpl.figure.prototype._canvas_extra_style = function (el) {\n",
       "    // this is important to make the div 'focusable\n",
       "    el.setAttribute('tabindex', 0);\n",
       "    // reach out to IPython and tell the keyboard manager to turn it's self\n",
       "    // off when our div gets focus\n",
       "\n",
       "    // location in version 3\n",
       "    if (IPython.notebook.keyboard_manager) {\n",
       "        IPython.notebook.keyboard_manager.register_events(el);\n",
       "    } else {\n",
       "        // location in version 2\n",
       "        IPython.keyboard_manager.register_events(el);\n",
       "    }\n",
       "};\n",
       "\n",
       "mpl.figure.prototype._key_event_extra = function (event, _name) {\n",
       "    var manager = IPython.notebook.keyboard_manager;\n",
       "    if (!manager) {\n",
       "        manager = IPython.keyboard_manager;\n",
       "    }\n",
       "\n",
       "    // Check for shift+enter\n",
       "    if (event.shiftKey && event.which === 13) {\n",
       "        this.canvas_div.blur();\n",
       "        // select the cell after this one\n",
       "        var index = IPython.notebook.find_cell_index(this.cell_info[0]);\n",
       "        IPython.notebook.select(index + 1);\n",
       "    }\n",
       "};\n",
       "\n",
       "mpl.figure.prototype.handle_save = function (fig, _msg) {\n",
       "    fig.ondownload(fig, null);\n",
       "};\n",
       "\n",
       "mpl.find_output_cell = function (html_output) {\n",
       "    // Return the cell and output element which can be found *uniquely* in the notebook.\n",
       "    // Note - this is a bit hacky, but it is done because the \"notebook_saving.Notebook\"\n",
       "    // IPython event is triggered only after the cells have been serialised, which for\n",
       "    // our purposes (turning an active figure into a static one), is too late.\n",
       "    var cells = IPython.notebook.get_cells();\n",
       "    var ncells = cells.length;\n",
       "    for (var i = 0; i < ncells; i++) {\n",
       "        var cell = cells[i];\n",
       "        if (cell.cell_type === 'code') {\n",
       "            for (var j = 0; j < cell.output_area.outputs.length; j++) {\n",
       "                var data = cell.output_area.outputs[j];\n",
       "                if (data.data) {\n",
       "                    // IPython >= 3 moved mimebundle to data attribute of output\n",
       "                    data = data.data;\n",
       "                }\n",
       "                if (data['text/html'] === html_output) {\n",
       "                    return [cell, data, j];\n",
       "                }\n",
       "            }\n",
       "        }\n",
       "    }\n",
       "};\n",
       "\n",
       "// Register the function which deals with the matplotlib target/channel.\n",
       "// The kernel may be null if the page has been refreshed.\n",
       "if (IPython.notebook.kernel !== null) {\n",
       "    IPython.notebook.kernel.comm_manager.register_target(\n",
       "        'matplotlib',\n",
       "        mpl.mpl_figure_comm\n",
       "    );\n",
       "}\n"
      ],
      "text/plain": [
       "<IPython.core.display.Javascript object>"
      ]
     },
     "metadata": {},
     "output_type": "display_data"
    },
    {
     "data": {
      "text/html": [
       "<img src=\"data:image/png;base64,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\" width=\"640\">"
      ],
      "text/plain": [
       "<IPython.core.display.HTML object>"
      ]
     },
     "metadata": {},
     "output_type": "display_data"
    }
   ],
   "source": [
    "v1 = np.array([1,0,0])\n",
    "v2 = np.array([0,1,0])\n",
    "v3 = np.array([0,0,1])\n",
    "\n",
    "fig = plt.figure()\n",
    "ax = fig.add_subplot(111, projection='3d')\n",
    "\n",
    "for a in range(-10,10):\n",
    "    for b in range(-10,10):\n",
    "        for c in range(-10,10):\n",
    "            ax.scatter(v1[0]*a + v2[0]*b + v3[0]*c, v1[1]*a + v2[1]*b + v3[1]*c, v1[2]*a + v2[2]*b + v3[2]*c,\n",
    "                       marker= '.', color='purple')\n",
    "\n",
    "ax.set_xlabel('Eje X')\n",
    "ax.set_ylabel('Eje Y')\n",
    "ax.set_zlabel('Eje Z')\n",
    "\n",
    "plt.show()"
   ]
  },
  {
   "cell_type": "markdown",
   "metadata": {},
   "source": [
    "---"
   ]
  },
  {
   "cell_type": "markdown",
   "metadata": {},
   "source": [
    "### Validar que una matriz tenga inversa"
   ]
  },
  {
   "cell_type": "markdown",
   "metadata": {},
   "source": [
    "Para que un sistema de ecuaciones tenga solución necesitamos que la matriz $A$ (que representa al sistema) sea cuadrada  y que todos sus vectores sean linealmente independientes.\n",
    "\n",
    "Veamos un ejemplo:"
   ]
  },
  {
   "cell_type": "code",
   "execution_count": 6,
   "metadata": {},
   "outputs": [],
   "source": [
    "import numpy as np"
   ]
  },
  {
   "cell_type": "code",
   "execution_count": 8,
   "metadata": {},
   "outputs": [],
   "source": [
    "A = np.array([[0,1,0,0],\n",
    "              [0,0,1,0],\n",
    "              [0,1,1,0],\n",
    "              [1,0,0,1]])"
   ]
  },
  {
   "cell_type": "markdown",
   "metadata": {},
   "source": [
    "Esta matriz puede darnos la finta de que es cuadrada y contiene vectores linealmente independientes, pero poniendo un poco de atención notaremos que el 3er vector corresponde a una combinación lineal de los primeros 2 vectores. Por lo que al \"recrear\" nuestra matriz utilizando únicamente vectores linealmente independientes, tendremos una matriz de $3 \\times 4$ la cual no es cuadrada."
   ]
  },
  {
   "cell_type": "markdown",
   "metadata": {},
   "source": [
    "Podemos interpretar esto como si tuvieramos un sistema de ecuaciones donde tenemos la misma ecuación multiplicada por un factor $k$, donde aparentaría ser una nueva ecuación, pero NO nos está dando ninguna información extra para resolver el sistema. Por ello nos interesamos en crear la matriz únicamente con vectores linearmente independientes."
   ]
  },
  {
   "cell_type": "markdown",
   "metadata": {},
   "source": [
    "Podemos descomponer nuestra matriz utilizando los autovalores y autovectores que ya hemos visto:"
   ]
  },
  {
   "cell_type": "code",
   "execution_count": 14,
   "metadata": {},
   "outputs": [
    {
     "name": "stdout",
     "output_type": "stream",
     "text": [
      "[[0 0 0 1]\n",
      " [1 0 1 0]\n",
      " [0 1 1 0]\n",
      " [0 0 0 1]]\n"
     ]
    }
   ],
   "source": [
    "print(A.T)"
   ]
  },
  {
   "cell_type": "code",
   "execution_count": 11,
   "metadata": {},
   "outputs": [
    {
     "name": "stdout",
     "output_type": "stream",
     "text": [
      "lambda:\n",
      " [ 1.61803399 -0.61803399  0.          1.        ]\n",
      "Eigen Vector:\n",
      " [[ 0.00000000e+00  0.00000000e+00  5.77350269e-01  5.77350269e-01]\n",
      " [ 5.25731112e-01  8.50650808e-01  5.77350269e-01  1.54746258e-17]\n",
      " [ 8.50650808e-01 -5.25731112e-01 -5.77350269e-01 -5.77350269e-01]\n",
      " [ 0.00000000e+00  0.00000000e+00  0.00000000e+00  5.77350269e-01]]\n"
     ]
    }
   ],
   "source": [
    "lambdas, V = np.linalg.eig(A.T)\n",
    "print(f'lambda:\\n {lambdas}\\nEigen Vector:\\n {V}')"
   ]
  },
  {
   "cell_type": "markdown",
   "metadata": {},
   "source": [
    "Podemos ver que tenemos 4 valores lambda o **eigenvalues**. Y uno de ellos es 0, para el 3er indice. Esto será importante más adelante."
   ]
  },
  {
   "cell_type": "markdown",
   "metadata": {},
   "source": [
    "La operación que realizamos en la instrucción de arriba fue la siguiente:"
   ]
  },
  {
   "cell_type": "markdown",
   "metadata": {},
   "source": [
    "![](https://i.imgur.com/hq6xg8j.png)"
   ]
  },
  {
   "cell_type": "markdown",
   "metadata": {},
   "source": [
    "Una forma de saber si hay una solución única para un sistema de ecuaciones o ver si nuestra matriz tiene inversa es asegurandonos de que cero no sea un valor propio de la matriz, ya que de ser así la matriz sería singular (no tiene inversa). Y como vimos en la salida de la linea anterior, tenemos un 0 en nuestro 3er indice de la lista de lambdas."
   ]
  },
  {
   "cell_type": "code",
   "execution_count": 17,
   "metadata": {},
   "outputs": [
    {
     "name": "stdout",
     "output_type": "stream",
     "text": [
      "[[0 1 1 0]]\n"
     ]
    }
   ],
   "source": [
    "# Imprime el indice correspondiente a la columna de la matriz donde obtuvimos un eigenvalue igual a cero\n",
    "print(A[lambdas == 0, :])"
   ]
  },
  {
   "cell_type": "markdown",
   "metadata": {},
   "source": [
    "Aquí encontramos que tenemos un valor `lambda == 0` ya que el vector `[0 1 1 0]` se puede escribir como la suma de los vectores `[0 1 0 0]` y `[0 0 1 0]`.\n",
    "\n",
    "Al final esto es una convención, podríamos describir al vector 2 como una combinación lineal del 1 o el 3. En realidad siempre que tengamos 3 vectores y 1 de ellos puede ser descrito mediante los otros dos, podemos elegir la \"base\" que queramos."
   ]
  },
  {
   "cell_type": "markdown",
   "metadata": {},
   "source": [
    "¿Qué pasaría si intentaramos calcular la inversa de esta matriz?"
   ]
  },
  {
   "cell_type": "code",
   "execution_count": 15,
   "metadata": {},
   "outputs": [
    {
     "ename": "LinAlgError",
     "evalue": "Singular matrix",
     "output_type": "error",
     "traceback": [
      "\u001b[1;31m---------------------------------------------------------------------------\u001b[0m",
      "\u001b[1;31mLinAlgError\u001b[0m                               Traceback (most recent call last)",
      "\u001b[1;32m<ipython-input-15-ae645f97e1f8>\u001b[0m in \u001b[0;36m<module>\u001b[1;34m\u001b[0m\n\u001b[1;32m----> 1\u001b[1;33m \u001b[0mnp\u001b[0m\u001b[1;33m.\u001b[0m\u001b[0mlinalg\u001b[0m\u001b[1;33m.\u001b[0m\u001b[0minv\u001b[0m\u001b[1;33m(\u001b[0m\u001b[0mA\u001b[0m\u001b[1;33m)\u001b[0m\u001b[1;33m\u001b[0m\u001b[1;33m\u001b[0m\u001b[0m\n\u001b[0m",
      "\u001b[1;32m<__array_function__ internals>\u001b[0m in \u001b[0;36minv\u001b[1;34m(*args, **kwargs)\u001b[0m\n",
      "\u001b[1;32m~\\anaconda3\\lib\\site-packages\\numpy\\linalg\\linalg.py\u001b[0m in \u001b[0;36minv\u001b[1;34m(a)\u001b[0m\n\u001b[0;32m    543\u001b[0m     \u001b[0msignature\u001b[0m \u001b[1;33m=\u001b[0m \u001b[1;34m'D->D'\u001b[0m \u001b[1;32mif\u001b[0m \u001b[0misComplexType\u001b[0m\u001b[1;33m(\u001b[0m\u001b[0mt\u001b[0m\u001b[1;33m)\u001b[0m \u001b[1;32melse\u001b[0m \u001b[1;34m'd->d'\u001b[0m\u001b[1;33m\u001b[0m\u001b[1;33m\u001b[0m\u001b[0m\n\u001b[0;32m    544\u001b[0m     \u001b[0mextobj\u001b[0m \u001b[1;33m=\u001b[0m \u001b[0mget_linalg_error_extobj\u001b[0m\u001b[1;33m(\u001b[0m\u001b[0m_raise_linalgerror_singular\u001b[0m\u001b[1;33m)\u001b[0m\u001b[1;33m\u001b[0m\u001b[1;33m\u001b[0m\u001b[0m\n\u001b[1;32m--> 545\u001b[1;33m     \u001b[0mainv\u001b[0m \u001b[1;33m=\u001b[0m \u001b[0m_umath_linalg\u001b[0m\u001b[1;33m.\u001b[0m\u001b[0minv\u001b[0m\u001b[1;33m(\u001b[0m\u001b[0ma\u001b[0m\u001b[1;33m,\u001b[0m \u001b[0msignature\u001b[0m\u001b[1;33m=\u001b[0m\u001b[0msignature\u001b[0m\u001b[1;33m,\u001b[0m \u001b[0mextobj\u001b[0m\u001b[1;33m=\u001b[0m\u001b[0mextobj\u001b[0m\u001b[1;33m)\u001b[0m\u001b[1;33m\u001b[0m\u001b[1;33m\u001b[0m\u001b[0m\n\u001b[0m\u001b[0;32m    546\u001b[0m     \u001b[1;32mreturn\u001b[0m \u001b[0mwrap\u001b[0m\u001b[1;33m(\u001b[0m\u001b[0mainv\u001b[0m\u001b[1;33m.\u001b[0m\u001b[0mastype\u001b[0m\u001b[1;33m(\u001b[0m\u001b[0mresult_t\u001b[0m\u001b[1;33m,\u001b[0m \u001b[0mcopy\u001b[0m\u001b[1;33m=\u001b[0m\u001b[1;32mFalse\u001b[0m\u001b[1;33m)\u001b[0m\u001b[1;33m)\u001b[0m\u001b[1;33m\u001b[0m\u001b[1;33m\u001b[0m\u001b[0m\n\u001b[0;32m    547\u001b[0m \u001b[1;33m\u001b[0m\u001b[0m\n",
      "\u001b[1;32m~\\anaconda3\\lib\\site-packages\\numpy\\linalg\\linalg.py\u001b[0m in \u001b[0;36m_raise_linalgerror_singular\u001b[1;34m(err, flag)\u001b[0m\n\u001b[0;32m     86\u001b[0m \u001b[1;33m\u001b[0m\u001b[0m\n\u001b[0;32m     87\u001b[0m \u001b[1;32mdef\u001b[0m \u001b[0m_raise_linalgerror_singular\u001b[0m\u001b[1;33m(\u001b[0m\u001b[0merr\u001b[0m\u001b[1;33m,\u001b[0m \u001b[0mflag\u001b[0m\u001b[1;33m)\u001b[0m\u001b[1;33m:\u001b[0m\u001b[1;33m\u001b[0m\u001b[1;33m\u001b[0m\u001b[0m\n\u001b[1;32m---> 88\u001b[1;33m     \u001b[1;32mraise\u001b[0m \u001b[0mLinAlgError\u001b[0m\u001b[1;33m(\u001b[0m\u001b[1;34m\"Singular matrix\"\u001b[0m\u001b[1;33m)\u001b[0m\u001b[1;33m\u001b[0m\u001b[1;33m\u001b[0m\u001b[0m\n\u001b[0m\u001b[0;32m     89\u001b[0m \u001b[1;33m\u001b[0m\u001b[0m\n\u001b[0;32m     90\u001b[0m \u001b[1;32mdef\u001b[0m \u001b[0m_raise_linalgerror_nonposdef\u001b[0m\u001b[1;33m(\u001b[0m\u001b[0merr\u001b[0m\u001b[1;33m,\u001b[0m \u001b[0mflag\u001b[0m\u001b[1;33m)\u001b[0m\u001b[1;33m:\u001b[0m\u001b[1;33m\u001b[0m\u001b[1;33m\u001b[0m\u001b[0m\n",
      "\u001b[1;31mLinAlgError\u001b[0m: Singular matrix"
     ]
    }
   ],
   "source": [
    "np.linalg.inv(A)"
   ]
  },
  {
   "cell_type": "markdown",
   "metadata": {},
   "source": [
    "`LinAlgError: Singular matrix`: tenemos una matriz singular. De hecho si vemos nuestra matriz como *columnas* podemos ver que la columna 1 y 4 son iguales."
   ]
  },
  {
   "cell_type": "markdown",
   "metadata": {},
   "source": [
    "Cuando en nuestra matriz tenemos vectores que pueden describirse mediante combinaciones lineales de los otros, ya se en las filas o en las columnas, obtendremos un determinante = 0."
   ]
  },
  {
   "cell_type": "markdown",
   "metadata": {},
   "source": [
    "---"
   ]
  },
  {
   "cell_type": "markdown",
   "metadata": {},
   "source": [
    "## Norma"
   ]
  },
  {
   "cell_type": "markdown",
   "metadata": {},
   "source": [
    "### ¿Qué es una norma y para qué se usa? Desigualdad triangular"
   ]
  },
  {
   "cell_type": "markdown",
   "metadata": {},
   "source": [
    "La definición general de la norma se basa en generalizar a espacios vectoriales abstractos el concepto de módulo de un vector de un espacio euclídeo. En un espacio no euclídeo, la noción de camino más corto entre dos puntos no es más identificable "
   ]
  }
 ],
 "metadata": {
  "colab": {
   "authorship_tag": "ABX9TyPiv9zPYkOv/TkQILiye/UB",
   "collapsed_sections": [],
   "name": "Fundamentos_Algebra_Lineal_con_Python.ipynb",
   "provenance": []
  },
  "kernelspec": {
   "display_name": "Python 3",
   "language": "python",
   "name": "python3"
  },
  "language_info": {
   "codemirror_mode": {
    "name": "ipython",
    "version": 3
   },
   "file_extension": ".py",
   "mimetype": "text/x-python",
   "name": "python",
   "nbconvert_exporter": "python",
   "pygments_lexer": "ipython3",
   "version": "3.8.3"
  },
  "toc": {
   "base_numbering": "",
   "nav_menu": {},
   "number_sections": false,
   "sideBar": true,
   "skip_h1_title": false,
   "title_cell": "Tabla de contenidos 💜",
   "title_sidebar": "Contents",
   "toc_cell": true,
   "toc_position": {},
   "toc_section_display": true,
   "toc_window_display": false
  }
 },
 "nbformat": 4,
 "nbformat_minor": 1
}
