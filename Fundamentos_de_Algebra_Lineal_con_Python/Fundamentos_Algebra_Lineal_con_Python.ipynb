{
  "nbformat": 4,
  "nbformat_minor": 0,
  "metadata": {
    "colab": {
      "name": "Fundamentos_Algebra_Lineal_con_Python.ipynb",
      "provenance": [],
      "collapsed_sections": [],
      "authorship_tag": "ABX9TyPiv9zPYkOv/TkQILiye/UB"
    },
    "kernelspec": {
      "name": "python3",
      "display_name": "Python 3"
    },
    "language_info": {
      "name": "python"
    }
  },
  "cells": [
    {
      "cell_type": "markdown",
      "metadata": {
        "id": "9ArqM3v4Prsa"
      },
      "source": [
        "# Fundamentos de Álgebra lineal con Python"
      ]
    },
    {
      "cell_type": "markdown",
      "metadata": {
        "id": "4rZTAWNHbHd7"
      },
      "source": [
        "## Conceptos básicos"
      ]
    },
    {
      "cell_type": "markdown",
      "metadata": {
        "id": "IQ_RxEzUbwme"
      },
      "source": [
        "### Escalar"
      ]
    },
    {
      "cell_type": "markdown",
      "metadata": {
        "id": "h45LCAh7dMQu"
      },
      "source": [
        "Se denomina **escalar** a los números reales, constantes o complejos que sirven para describir un fénomeno físico (o de otro tipo) con magnitud, pero sin la característica *vectorial* de la dirección. Más formalmente, **es un tensor de orden cero**.\n",
        "\n",
        "En términos matemáticos, se llama **escalar** a los elementos de un *cuerpo* (en algunos casos también a los elementos de un anillo), generalmente números, y en particular se usa con vectores en álgebra lineal y en cualquier rama que use *módulos* o *espacios vectoriales*."
      ]
    },
    {
      "cell_type": "markdown",
      "metadata": {
        "id": "qqjY2wLWdzLq"
      },
      "source": [
        "Al trabajar en Python con escalares tenemos de muchos tipos, por ejemplo, **enteros**, **flotantes**, **complejos**, **string** o **null/non-type**, etc."
      ]
    },
    {
      "cell_type": "code",
      "metadata": {
        "colab": {
          "base_uri": "https://localhost:8080/"
        },
        "id": "IrVjCsXmdl4e",
        "outputId": "afec4022-0097-47c0-9dde-280bab804233"
      },
      "source": [
        "escalar_int = 5\n",
        "print(escalar_int)\n",
        "print(type(escalar_int))"
      ],
      "execution_count": 52,
      "outputs": [
        {
          "output_type": "stream",
          "text": [
            "5\n",
            "<class 'int'>\n"
          ],
          "name": "stdout"
        }
      ]
    },
    {
      "cell_type": "code",
      "metadata": {
        "colab": {
          "base_uri": "https://localhost:8080/"
        },
        "id": "ZlUH_6VddxA6",
        "outputId": "cc718110-5c8e-4e4c-8003-4796aaf683da"
      },
      "source": [
        "escalar_float = 3.1416\n",
        "print(escalar_float)\n",
        "print(type(escalar_float))"
      ],
      "execution_count": 53,
      "outputs": [
        {
          "output_type": "stream",
          "text": [
            "3.1416\n",
            "<class 'float'>\n"
          ],
          "name": "stdout"
        }
      ]
    },
    {
      "cell_type": "code",
      "metadata": {
        "colab": {
          "base_uri": "https://localhost:8080/"
        },
        "id": "VCmLRW32eK0I",
        "outputId": "e80ff0cc-5687-49ad-e498-1bfea385356b"
      },
      "source": [
        "escalar_bool = True\n",
        "print(escalar_bool)\n",
        "print(type(escalar_bool))"
      ],
      "execution_count": 54,
      "outputs": [
        {
          "output_type": "stream",
          "text": [
            "True\n",
            "<class 'bool'>\n"
          ],
          "name": "stdout"
        }
      ]
    },
    {
      "cell_type": "code",
      "metadata": {
        "colab": {
          "base_uri": "https://localhost:8080/"
        },
        "id": "rgItgc5oeQQj",
        "outputId": "8734922e-0a12-457e-8625-1d021519cd8e"
      },
      "source": [
        "import cmath\n",
        "escalar_complex = complex(5, 3)\n",
        "print(escalar_complex)\n",
        "print(type(escalar_complex))"
      ],
      "execution_count": 55,
      "outputs": [
        {
          "output_type": "stream",
          "text": [
            "(5+3j)\n",
            "<class 'complex'>\n"
          ],
          "name": "stdout"
        }
      ]
    },
    {
      "cell_type": "markdown",
      "metadata": {
        "id": "hG8ogn0gf8RR"
      },
      "source": [
        "### Vector"
      ]
    },
    {
      "cell_type": "markdown",
      "metadata": {
        "id": "BWlRQDoIf9s5"
      },
      "source": [
        "Es un énte matemático como la *recta* o el *plano*. Se puede representar mediante un segmento de recta, orientado dentro del *espacio euclidiano tridimensional*. Ek vectir tiene 3 elementos:\n",
        "\n",
        "* Módulo (cuánto mide)\n",
        "* Dirección (ángulo respecto a algún eje)\n",
        "* Sentido (hacía donde \"apunta\" la cabeza de la flecha)\n",
        "\n",
        "En matemáticas se define al vector como **un elemento de un espacio vectorial**. Esta noción es más abstracta y para muchos espacios vectoriales no es posible representar sus vectores mediante el módulo y la dirección. En particular los espacios de dimensión infinita sin producto escalar no son representables de ese modo."
      ]
    },
    {
      "cell_type": "markdown",
      "metadata": {
        "id": "SO4g1bLJg8VL"
      },
      "source": [
        "Se llama **vector** de dimensión $n$ a una **tupla** de números reales (que se llaman componentes del vector). El conjunto de todos los vectores de dimensión se representa cómo $\\mathbb{R}^n$ (formado mediante el producto cartesiano).\n",
        "\n",
        "Así, un vector $v$ perteneciente a un espacio $\\mathbb{R}$ se representa como:"
      ]
    },
    {
      "cell_type": "markdown",
      "metadata": {
        "id": "GJ82nmPZhbfs"
      },
      "source": [
        "$$ v = (a_1, a_2, a_3, ... ,a_n),\\text{donde } v \\in \\mathbb{R}^n $$"
      ]
    },
    {
      "cell_type": "markdown",
      "metadata": {
        "id": "RdLKEbAchcN-"
      },
      "source": [
        "\n",
        "Podemos ver al vector como un *conjunto de números*."
      ]
    },
    {
      "cell_type": "code",
      "metadata": {
        "colab": {
          "base_uri": "https://localhost:8080/"
        },
        "id": "HyhFwYb7fC1S",
        "outputId": "be90253b-77c0-4bf1-def5-7f9c55aca051"
      },
      "source": [
        "import numpy as np\n",
        "# Vector Columna\n",
        "column_vector = np.array([[1],[2],[3]])\n",
        "print(column_vector)\n",
        "print(type(column_vector))"
      ],
      "execution_count": 56,
      "outputs": [
        {
          "output_type": "stream",
          "text": [
            "[[1]\n",
            " [2]\n",
            " [3]]\n",
            "<class 'numpy.ndarray'>\n"
          ],
          "name": "stdout"
        }
      ]
    },
    {
      "cell_type": "code",
      "metadata": {
        "colab": {
          "base_uri": "https://localhost:8080/"
        },
        "id": "NBt4D69YiYom",
        "outputId": "81210bae-810a-49bd-ffae-ed014aaaca3b"
      },
      "source": [
        "import numpy as np\n",
        "# Vector Fila\n",
        "row_vector = np.array([1,2,3])\n",
        "print(row_vector)\n",
        "print(type(row_vector))"
      ],
      "execution_count": 57,
      "outputs": [
        {
          "output_type": "stream",
          "text": [
            "[1 2 3]\n",
            "<class 'numpy.ndarray'>\n"
          ],
          "name": "stdout"
        }
      ]
    },
    {
      "cell_type": "markdown",
      "metadata": {
        "id": "gfbmZeMriw9Y"
      },
      "source": [
        "### Matriz"
      ]
    },
    {
      "cell_type": "markdown",
      "metadata": {
        "id": "cqPnyoNFiz9l"
      },
      "source": [
        "En matemáticas, una **matriz** es un *arreglo bidimensional de números*. Dado que puede sefinirse tanto la suma como el producto de matrices, en mayor generalidad se dice que son **elementos de un anillo**. Una matriz se representa por medio de una letra mayúscula $(A,B, \\dots)$ y sus elementos con la misma letra en minúscula $(a,b,\\dots)$, con un doble subíndice, donde el primero indica la fila y el segundo la columna a la que pertenece."
      ]
    },
    {
      "cell_type": "markdown",
      "metadata": {
        "id": "Mf3MUk29izWv"
      },
      "source": [
        "$$A = \n",
        "\\begin{pmatrix}\n",
        "a_{11} & a_{12} & \\dots & a_{1n} \\\\\n",
        "a_{21} & a_{22} & \\dots & a_{2n} \\\\\n",
        "\\vdots & \\vdots & \\ddots & \\vdots \\\\\n",
        "a_{m1} & a_{m2} & \\dots & a_{mn} \\\\\n",
        "\\end{pmatrix}$$"
      ]
    },
    {
      "cell_type": "markdown",
      "metadata": {
        "id": "3SKfZQOTlC26"
      },
      "source": [
        "Siempre que 2 matrices tengan el mismo número de filas y de columnas, pueden sumarse o restarse elemento por elemento.\n",
        "\n",
        "Las matrices sirven para representar las coeficientes de los sistemas de ecuaciones lineales o para representar transformaciones lineales dadas una base.\n",
        "\n",
        "Pueden sumarse, multiplicarse y descomponerse de varias formas, lo que también las hace un concepto clave en el campo del álgebra lineal."
      ]
    },
    {
      "cell_type": "code",
      "metadata": {
        "colab": {
          "base_uri": "https://localhost:8080/"
        },
        "id": "cFzlOqHxnYAJ",
        "outputId": "ef04994c-f343-45de-d58e-44e8a463fccf"
      },
      "source": [
        "import numpy as np\n",
        "matrix = np.array([\n",
        "                   [0, 1, 2 ,3],\n",
        "                   [3, 2, 1, 0],\n",
        "                   [1, 2, 3, 4],\n",
        "                   [3, 2, 1, 0]\n",
        "])\n",
        "\n",
        "print(matrix)\n",
        "print(type(matrix))"
      ],
      "execution_count": 58,
      "outputs": [
        {
          "output_type": "stream",
          "text": [
            "[[0 1 2 3]\n",
            " [3 2 1 0]\n",
            " [1 2 3 4]\n",
            " [3 2 1 0]]\n",
            "<class 'numpy.ndarray'>\n"
          ],
          "name": "stdout"
        }
      ]
    },
    {
      "cell_type": "markdown",
      "metadata": {
        "id": "36dImWdwldTy"
      },
      "source": [
        "### Tensor"
      ]
    },
    {
      "cell_type": "markdown",
      "metadata": {
        "id": "iTp1OnhAlevF"
      },
      "source": [
        "Un **tensor** es cierta clase de entidad  algebraica de varios componentes que generalizan los conceptos de escalar, vector y matriz **de manera que sea independiente de cualquier sistema de coordenadas**. Se suele utilizar el convenio se **suma de Einstein**.\n",
        "\n",
        "Una vez elegida la base vetorial, los componentes de un tensor en una base vendrán dadas por una **multi-matriz**. El orden del tensor será el número de índices necesarios para especificar sin ambigüedad un componente de un tensor: \n",
        "\n",
        "* Un **escalar** será considerado como un tensor de orden 0.\n",
        "* Un **vecor** será considerado como un tensor de orden 1.\n",
        "* Y dada una *base vectorial*, los tensores de segundo orden pueden ser representados por una **matriz**."
      ]
    },
    {
      "cell_type": "markdown",
      "metadata": {
        "id": "25xyl56dpa4i"
      },
      "source": [
        "![](https://miro.medium.com/max/891/0*jGB1CGQ9HdeUwlgB)"
      ]
    },
    {
      "cell_type": "markdown",
      "metadata": {
        "id": "rD5S95zIoKNi"
      },
      "source": [
        "Podemos ver al tensor como varias matrices acomodadas en \"capas\"."
      ]
    },
    {
      "cell_type": "code",
      "metadata": {
        "colab": {
          "base_uri": "https://localhost:8080/"
        },
        "id": "cdLDQGUjnz0_",
        "outputId": "5384d5c4-902b-4c06-bea6-c6011a625679"
      },
      "source": [
        "import numpy as np\n",
        "\n",
        "tensor = np.array([\n",
        "                   [ [11,22,33],  [44,55,66],   [77,88,99]    ],\n",
        "                   [ [99,368,777],[666,555,444],[333,222,111] ],\n",
        "                   [ [13,297,306],[546,58,642], [27,328,943]  ]\n",
        "])\n",
        "print(tensor)\n",
        "print(type(tensor))"
      ],
      "execution_count": 59,
      "outputs": [
        {
          "output_type": "stream",
          "text": [
            "[[[ 11  22  33]\n",
            "  [ 44  55  66]\n",
            "  [ 77  88  99]]\n",
            "\n",
            " [[ 99 368 777]\n",
            "  [666 555 444]\n",
            "  [333 222 111]]\n",
            "\n",
            " [[ 13 297 306]\n",
            "  [546  58 642]\n",
            "  [ 27 328 943]]]\n",
            "<class 'numpy.ndarray'>\n"
          ],
          "name": "stdout"
        }
      ]
    },
    {
      "cell_type": "markdown",
      "metadata": {
        "id": "723Uwk3ooZP5"
      },
      "source": [
        "Vamos a visualizar nuestro tensor, **suponiendo** que los datos que tenemos son los que representan a una imagen."
      ]
    },
    {
      "cell_type": "code",
      "metadata": {
        "colab": {
          "base_uri": "https://localhost:8080/",
          "height": 305
        },
        "id": "n3AMZePloe2B",
        "outputId": "df32b415-d74f-43f4-f641-7dbdbc5f8dca"
      },
      "source": [
        "%matplotlib inline\n",
        "import matplotlib.pyplot as plt\n",
        "\n",
        "plt.imshow(tensor, interpolation='nearest')\n",
        "plt"
      ],
      "execution_count": 60,
      "outputs": [
        {
          "output_type": "stream",
          "text": [
            "Clipping input data to the valid range for imshow with RGB data ([0..1] for floats or [0..255] for integers).\n"
          ],
          "name": "stderr"
        },
        {
          "output_type": "execute_result",
          "data": {
            "text/plain": [
              "<module 'matplotlib.pyplot' from '/usr/local/lib/python3.7/dist-packages/matplotlib/pyplot.py'>"
            ]
          },
          "metadata": {
            "tags": []
          },
          "execution_count": 60
        },
        {
          "output_type": "display_data",
          "data": {
            "image/png": "[encoded data removed]",
            "text/plain": [
              "<Figure size 432x288 with 1 Axes>"
            ]
          },
          "metadata": {
            "tags": [],
            "needs_background": "light"
          }
        }
      ]
    },
    {
      "cell_type": "markdown",
      "metadata": {
        "id": "ki-gAhkqesVr"
      },
      "source": [
        "Podemos decir que en lo que se diferencian nuestros elementos como los escalares, vectores, matrices y tensores es en los *grados de libertad que tenemos para interactuar con ellos*."
      ]
    },
    {
      "cell_type": "markdown",
      "metadata": {
        "id": "mGEjSb1TjMJM"
      },
      "source": [
        "![](https://i.imgur.com/vDwWVp9.png)"
      ]
    },
    {
      "cell_type": "markdown",
      "metadata": {
        "id": "RXVt09Mqp1Ib"
      },
      "source": [
        "---"
      ]
    },
    {
      "cell_type": "markdown",
      "metadata": {
        "id": "4Xy8Pndop2uu"
      },
      "source": [
        "## Operaciones básicas"
      ]
    },
    {
      "cell_type": "markdown",
      "metadata": {
        "id": "fu4-yX6FHnc5"
      },
      "source": [
        "### Dimensión de un escalar, vector, matriz o tensor"
      ]
    },
    {
      "cell_type": "markdown",
      "metadata": {
        "id": "c0vHD_5-HucJ"
      },
      "source": [
        "En álgebra lineal es importante tener en consideración las dimensiones que tienen nuestras matrices, vectores y tensores. Ya que algunas veces, de ello dependerá si las operaciones entre ellos están definidas o no. Por ejemplo, en el caso de una multiplicación de una matriz por un vector (producto interno), tenemos que coincidir en la dimensión de nuestro vector con la cantidad de filas que tiene nuestra matriz.\n",
        "\n",
        "De forma que se cumple que, si tenemos una matriz de $m\\times n$ por un vector columna $n\\times 1$, entonces obtendremos de resultado un vector fila de $m \\times 1$ (más adelante veremos este tema con calma)."
      ]
    },
    {
      "cell_type": "markdown",
      "metadata": {
        "id": "O-Azhm4RKwBq"
      },
      "source": [
        "$$\\begin{align*}\n",
        "  A\\cdot {x}=\n",
        "  \\left[\n",
        "    \\begin{array}{cccc}\n",
        "      a_{11} & a_{12} & \\ldots & a_{1n}\\\\\n",
        "      a_{21} & a_{22} & \\ldots & a_{2n}\\\\\n",
        "      \\vdots & \\vdots & \\ddots & \\vdots\\\\\n",
        "      a_{m1} & a_{m2} & \\ldots & a_{mn}\n",
        "    \\end{array}\n",
        "  \\right]\n",
        "  \\left[\n",
        "    \\begin{array}{c}\n",
        "      x_1\\\\\n",
        "      x_2\\\\\n",
        "      \\vdots\\\\\n",
        "      x_n\n",
        "    \\end{array}\n",
        "  \\right]\n",
        "  =\n",
        "  \\left[\n",
        "    \\begin{array}{c}\n",
        "      a_{11}x_1+a_{12}x_2 + \\cdots + a_{1n} x_n\\\\\n",
        "      a_{21}x_1+a_{22}x_2 + \\cdots + a_{2n} x_n\\\\\n",
        "      \\vdots\\\\\n",
        "      a_{m1}x_1+a_{m2}x_2 + \\cdots + a_{mn} x_n\\\\\n",
        "    \\end{array}\n",
        "  \\right].\n",
        "\\end{align*}$$"
      ]
    },
    {
      "cell_type": "markdown",
      "metadata": {
        "id": "AbZ4iC2ILFct"
      },
      "source": [
        "Entonces, es importante conocer las dimensiones de nuestros `arrays`, y para ello tenemos el método `.shape`"
      ]
    },
    {
      "cell_type": "code",
      "metadata": {
        "id": "dBfkqNKjIuKl"
      },
      "source": [
        "import numpy as np\n",
        "scalar = 5.679\n",
        "row_vector = np.array([1,2,3])\n",
        "column_vector = np.array([[1],\n",
        "                          [2],\n",
        "                          [3]])\n",
        "matrix = np.array([[1,2],\n",
        "                   [2,3]])\n",
        "tensor = np.array([\n",
        "                   [ [11,22,33],  [44,55,66],   [77,88,99]    ],\n",
        "                   [ [99,368,777],[666,555,444],[333,222,111] ],\n",
        "                   [ [13,297,306],[546,58,642], [27,328,943]  ]\n",
        "])"
      ],
      "execution_count": 65,
      "outputs": []
    },
    {
      "cell_type": "markdown",
      "metadata": {
        "id": "mDVx4q6jLUE6"
      },
      "source": [
        "El siguiente error ocurre por que el escalar es considerado un tensor de dimensión 0, es decir, no tiene dimensión."
      ]
    },
    {
      "cell_type": "code",
      "metadata": {
        "colab": {
          "base_uri": "https://localhost:8080/",
          "height": 171
        },
        "id": "8tM8_UGcJ0Oq",
        "outputId": "817a0c76-dba3-4816-9456-cc374c671947"
      },
      "source": [
        "scalar.shape"
      ],
      "execution_count": 66,
      "outputs": [
        {
          "output_type": "error",
          "ename": "AttributeError",
          "evalue": "ignored",
          "traceback": [
            "\u001b[0;31m---------------------------------------------------------------------------\u001b[0m",
            "\u001b[0;31mAttributeError\u001b[0m                            Traceback (most recent call last)",
            "\u001b[0;32m<ipython-input-66-776ed50dff43>\u001b[0m in \u001b[0;36m<module>\u001b[0;34m()\u001b[0m\n\u001b[0;32m----> 1\u001b[0;31m \u001b[0mscalar\u001b[0m\u001b[0;34m.\u001b[0m\u001b[0mshape\u001b[0m\u001b[0;34m(\u001b[0m\u001b[0;34m)\u001b[0m\u001b[0;34m\u001b[0m\u001b[0;34m\u001b[0m\u001b[0m\n\u001b[0m",
            "\u001b[0;31mAttributeError\u001b[0m: 'float' object has no attribute 'shape'"
          ]
        }
      ]
    },
    {
      "cell_type": "markdown",
      "metadata": {
        "id": "4dshxNlKMgo9"
      },
      "source": [
        "Vamos a ver la dimensión del resto de elementos:"
      ]
    },
    {
      "cell_type": "code",
      "metadata": {
        "colab": {
          "base_uri": "https://localhost:8080/"
        },
        "id": "Y5DsXlQSLOl-",
        "outputId": "a78e1ebe-cf80-4e9f-b04e-1e2c987ac5ec"
      },
      "source": [
        "row_vector.shape"
      ],
      "execution_count": 70,
      "outputs": [
        {
          "output_type": "execute_result",
          "data": {
            "text/plain": [
              "(3,)"
            ]
          },
          "metadata": {
            "tags": []
          },
          "execution_count": 70
        }
      ]
    },
    {
      "cell_type": "code",
      "metadata": {
        "colab": {
          "base_uri": "https://localhost:8080/"
        },
        "id": "mpy6QJfgMNdq",
        "outputId": "57e6b9a7-ce87-43ce-ba0a-650a942d9de0"
      },
      "source": [
        "column_vector.shape"
      ],
      "execution_count": 71,
      "outputs": [
        {
          "output_type": "execute_result",
          "data": {
            "text/plain": [
              "(3, 1)"
            ]
          },
          "metadata": {
            "tags": []
          },
          "execution_count": 71
        }
      ]
    },
    {
      "cell_type": "code",
      "metadata": {
        "colab": {
          "base_uri": "https://localhost:8080/"
        },
        "id": "NjZmzppjMSP-",
        "outputId": "93d1a960-f43d-4981-aca0-c7d69fcac52f"
      },
      "source": [
        "matrix.shape"
      ],
      "execution_count": 72,
      "outputs": [
        {
          "output_type": "execute_result",
          "data": {
            "text/plain": [
              "(2, 2)"
            ]
          },
          "metadata": {
            "tags": []
          },
          "execution_count": 72
        }
      ]
    },
    {
      "cell_type": "code",
      "metadata": {
        "colab": {
          "base_uri": "https://localhost:8080/"
        },
        "id": "zxfg2p28MVA5",
        "outputId": "2f70871b-f009-4dcc-b572-e97b90ac0909"
      },
      "source": [
        "tensor.shape"
      ],
      "execution_count": 73,
      "outputs": [
        {
          "output_type": "execute_result",
          "data": {
            "text/plain": [
              "(3, 3, 3)"
            ]
          },
          "metadata": {
            "tags": []
          },
          "execution_count": 73
        }
      ]
    },
    {
      "cell_type": "markdown",
      "metadata": {
        "id": "U3OX9nzwMWBo"
      },
      "source": [
        "¿Qué pasa si utilizamos `len()` en lugar de `shape`? "
      ]
    },
    {
      "cell_type": "code",
      "metadata": {
        "colab": {
          "base_uri": "https://localhost:8080/"
        },
        "id": "ZE-wGxQEM4yb",
        "outputId": "b5748e84-30fb-4c83-c2cf-cdd28262522d"
      },
      "source": [
        "len(tensor)"
      ],
      "execution_count": 80,
      "outputs": [
        {
          "output_type": "execute_result",
          "data": {
            "text/plain": [
              "3"
            ]
          },
          "metadata": {
            "tags": []
          },
          "execution_count": 80
        }
      ]
    },
    {
      "cell_type": "markdown",
      "metadata": {
        "id": "_fgna_htNAKZ"
      },
      "source": [
        "Solo nos devuelve la longitud de la primera parte del arreglo."
      ]
    },
    {
      "cell_type": "markdown",
      "metadata": {
        "id": "9ZGEjq4FNFHU"
      },
      "source": [
        "¿ Y qué pasaría si utilizamos `.size`?"
      ]
    },
    {
      "cell_type": "code",
      "metadata": {
        "colab": {
          "base_uri": "https://localhost:8080/"
        },
        "id": "PlzRdrcbNMT7",
        "outputId": "2765f8e6-0ff5-40bf-dce5-64a1dbf435fe"
      },
      "source": [
        "tensor.size"
      ],
      "execution_count": 81,
      "outputs": [
        {
          "output_type": "execute_result",
          "data": {
            "text/plain": [
              "27"
            ]
          },
          "metadata": {
            "tags": []
          },
          "execution_count": 81
        }
      ]
    },
    {
      "cell_type": "markdown",
      "metadata": {
        "id": "xVsyNisWNOql"
      },
      "source": [
        "Nos devuelve la multiplicación de las dimensiones (total de elementos)."
      ]
    },
    {
      "cell_type": "markdown",
      "metadata": {
        "id": "xbid7WSKNTcz"
      },
      "source": [
        "La representación `(3,3,3)` de un tensor la podemos interpretar como 3 filas, 3 columnas y 3 matrices de 3x3 \"superpuestas\" unas de otras.\n",
        "\n",
        "Por ejemplo, si en una matriz 3x3 podemos representar una imagen; entonces, en un tensor de 3x3x3 podemos representar un video de 3 fotogramas. De esta forma podríamos pensar en un tensor como **la evolución de una matriz en el tiempo**."
      ]
    },
    {
      "cell_type": "markdown",
      "metadata": {
        "id": "5ae0T_tkOIN5"
      },
      "source": [
        "![](https://i.imgur.com/fY6q8oa.png)"
      ]
    },
    {
      "cell_type": "markdown",
      "metadata": {
        "id": "TsTXWM8COtHC"
      },
      "source": [
        "### Transposición, suma de matrices y escalares"
      ]
    }
  ]
}