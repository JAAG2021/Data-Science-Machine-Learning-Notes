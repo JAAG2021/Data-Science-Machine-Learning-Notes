{
 "cells": [
  {
   "cell_type": "markdown",
   "metadata": {
    "toc": true
   },
   "source": [
    "<h1>Tabla de contenidos 💜<span class=\"tocSkip\"></span></h1>\n",
    "<div class=\"toc\"><ul class=\"toc-item\"><li><span><a href=\"#Fundamentos-de-Álgebra-lineal-con-Python\" data-toc-modified-id=\"Fundamentos-de-Álgebra-lineal-con-Python-0\">Fundamentos de Álgebra lineal con Python</a></span><ul class=\"toc-item\"><li><span><a href=\"#Conceptos-básicos\" data-toc-modified-id=\"Conceptos-básicos-0.1\">Conceptos básicos</a></span><ul class=\"toc-item\"><li><span><a href=\"#Escalar\" data-toc-modified-id=\"Escalar-0.1.1\">Escalar</a></span></li><li><span><a href=\"#Vector\" data-toc-modified-id=\"Vector-0.1.2\">Vector</a></span></li><li><span><a href=\"#Matriz\" data-toc-modified-id=\"Matriz-0.1.3\">Matriz</a></span></li><li><span><a href=\"#Tensor\" data-toc-modified-id=\"Tensor-0.1.4\">Tensor</a></span></li></ul></li><li><span><a href=\"#Operaciones-básicas\" data-toc-modified-id=\"Operaciones-básicas-0.2\">Operaciones básicas</a></span><ul class=\"toc-item\"><li><span><a href=\"#Dimensión-de-un-escalar,-vector,-matriz-o-tensor\" data-toc-modified-id=\"Dimensión-de-un-escalar,-vector,-matriz-o-tensor-0.2.1\">Dimensión de un escalar, vector, matriz o tensor</a></span></li><li><span><a href=\"#Transposición\" data-toc-modified-id=\"Transposición-0.2.2\">Transposición</a></span></li><li><span><a href=\"#Suma-de-matrices\" data-toc-modified-id=\"Suma-de-matrices-0.2.3\">Suma de matrices</a></span></li><li><span><a href=\"#Suma-de-matrices-y-vectores-con-dimensiones-distintas-(broadcasting)\" data-toc-modified-id=\"Suma-de-matrices-y-vectores-con-dimensiones-distintas-(broadcasting)-0.2.4\">Suma de matrices y vectores con dimensiones distintas (broadcasting)</a></span></li></ul></li><li><span><a href=\"#Operaciones-con-matrices\" data-toc-modified-id=\"Operaciones-con-matrices-0.3\">Operaciones con matrices</a></span><ul class=\"toc-item\"><li><span><a href=\"#Producto-interno-de-matrices-y--vectores\" data-toc-modified-id=\"Producto-interno-de-matrices-y--vectores-0.3.1\">Producto interno de matrices y  vectores</a></span></li><li><span><a href=\"#Producto-interno-entre-2-matrices\" data-toc-modified-id=\"Producto-interno-entre-2-matrices-0.3.2\">Producto interno entre 2 matrices</a></span></li><li><span><a href=\"#Propiedades-de-las-matrices\" data-toc-modified-id=\"Propiedades-de-las-matrices-0.3.3\">Propiedades de las matrices</a></span><ul class=\"toc-item\"><li><span><a href=\"#Asociativa\" data-toc-modified-id=\"Asociativa-0.3.3.1\">Asociativa</a></span></li><li><span><a href=\"#Distributiva:\" data-toc-modified-id=\"Distributiva:-0.3.3.2\">Distributiva:</a></span></li><li><span><a href=\"#Conmutativa:\" data-toc-modified-id=\"Conmutativa:-0.3.3.3\">Conmutativa:</a></span></li></ul></li><li><span><a href=\"#Conmutatividad-en-producto-interno-de-vectores\" data-toc-modified-id=\"Conmutatividad-en-producto-interno-de-vectores-0.3.4\">Conmutatividad en producto interno de vectores</a></span></li><li><span><a href=\"#Transposición-del-producto-de-matrices\" data-toc-modified-id=\"Transposición-del-producto-de-matrices-0.3.5\">Transposición del producto de matrices</a></span></li><li><span><a href=\"#Cómo-comprobar-la-solución-de-un-sistema-de-ecuaciones-lineales\" data-toc-modified-id=\"Cómo-comprobar-la-solución-de-un-sistema-de-ecuaciones-lineales-0.3.6\">Cómo comprobar la solución de un sistema de ecuaciones lineales</a></span><ul class=\"toc-item\"><li><span><a href=\"#Combinación-lineal\" data-toc-modified-id=\"Combinación-lineal-0.3.6.1\">Combinación lineal</a></span></li><li><span><a href=\"#Ecuación-lineal\" data-toc-modified-id=\"Ecuación-lineal-0.3.6.2\">Ecuación lineal</a></span></li><li><span><a href=\"#Sistema-de-ecuaciones-lineales\" data-toc-modified-id=\"Sistema-de-ecuaciones-lineales-0.3.6.3\">Sistema de ecuaciones lineales</a></span></li></ul></li><li><span><a href=\"#Tipos-especiales-de-matrices:-Identidad,-Inversa-y-Singular\" data-toc-modified-id=\"Tipos-especiales-de-matrices:-Identidad,-Inversa-y-Singular-0.3.7\">Tipos especiales de matrices: Identidad, Inversa y Singular</a></span><ul class=\"toc-item\"><li><span><a href=\"#Matriz-Identidad\" data-toc-modified-id=\"Matriz-Identidad-0.3.7.1\">Matriz Identidad</a></span></li><li><span><a href=\"#Matriz-Inversa\" data-toc-modified-id=\"Matriz-Inversa-0.3.7.2\">Matriz Inversa</a></span></li><li><span><a href=\"#Matriz-Singular\" data-toc-modified-id=\"Matriz-Singular-0.3.7.3\">Matriz Singular</a></span></li></ul></li><li><span><a href=\"#Utilizando-la-Inversa-de-una-matriz-para-resolver-un-sistema-de-ecuaciones\" data-toc-modified-id=\"Utilizando-la-Inversa-de-una-matriz-para-resolver-un-sistema-de-ecuaciones-0.3.8\">Utilizando la Inversa de una matriz para resolver un sistema de ecuaciones</a></span></li></ul></li><li><span><a href=\"#Sistemas-de-ecuaciones-lineales\" data-toc-modified-id=\"Sistemas-de-ecuaciones-lineales-0.4\">Sistemas de ecuaciones lineales</a></span><ul class=\"toc-item\"><li><span><a href=\"#Ejemplos-de-sistemas-sin-solución,-con-una-solución-y-con-infinitas-soluciones\" data-toc-modified-id=\"Ejemplos-de-sistemas-sin-solución,-con-una-solución-y-con-infinitas-soluciones-0.4.1\">Ejemplos de sistemas sin solución, con una solución y con infinitas soluciones</a></span><ul class=\"toc-item\"><li><span><a href=\"#Sistema-Incompatible-(sin-soluciones)\" data-toc-modified-id=\"Sistema-Incompatible-(sin-soluciones)-0.4.1.1\">Sistema Incompatible (sin soluciones)</a></span></li><li><span><a href=\"#Sistema-Compatible\" data-toc-modified-id=\"Sistema-Compatible-0.4.1.2\">Sistema Compatible</a></span></li></ul></li><li><span><a href=\"#Graficar-vectores\" data-toc-modified-id=\"Graficar-vectores-0.4.2\">Graficar vectores</a></span></li></ul></li></ul></li></ul></div>"
   ]
  },
  {
   "cell_type": "markdown",
   "metadata": {
    "id": "9ArqM3v4Prsa"
   },
   "source": [
    "# Fundamentos de Álgebra lineal con Python"
   ]
  },
  {
   "cell_type": "markdown",
   "metadata": {
    "id": "4rZTAWNHbHd7"
   },
   "source": [
    "## Conceptos básicos"
   ]
  },
  {
   "cell_type": "markdown",
   "metadata": {
    "id": "IQ_RxEzUbwme"
   },
   "source": [
    "### Escalar"
   ]
  },
  {
   "cell_type": "markdown",
   "metadata": {
    "id": "h45LCAh7dMQu"
   },
   "source": [
    "Se denomina **escalar** a los números reales, constantes o complejos que sirven para describir un fenómeno físico (o de otro tipo) con magnitud, pero sin la característica *vectorial* de la dirección. Más formalmente, **es un tensor de orden cero**.\n",
    "\n",
    "En términos matemáticos, se llama **escalar** a los elementos de un *cuerpo* (en algunos casos también a los elementos de un anillo), generalmente números, y en particular se usa con vectores en álgebra lineal y en cualquier rama que use *módulos* o *espacios vectoriales*."
   ]
  },
  {
   "cell_type": "markdown",
   "metadata": {
    "id": "qqjY2wLWdzLq"
   },
   "source": [
    "Al trabajar en Python con escalares tenemos de muchos tipos, por ejemplo, **enteros**, **flotantes**, **complejos**, **string** o **null/non-type**, etc."
   ]
  },
  {
   "cell_type": "code",
   "execution_count": 151,
   "metadata": {
    "colab": {
     "base_uri": "https://localhost:8080/"
    },
    "id": "IrVjCsXmdl4e",
    "outputId": "afec4022-0097-47c0-9dde-280bab804233"
   },
   "outputs": [
    {
     "name": "stdout",
     "output_type": "stream",
     "text": [
      "5\n",
      "<class 'int'>\n"
     ]
    }
   ],
   "source": [
    "escalar_int = 5\n",
    "print(escalar_int)\n",
    "print(type(escalar_int))"
   ]
  },
  {
   "cell_type": "code",
   "execution_count": 152,
   "metadata": {
    "colab": {
     "base_uri": "https://localhost:8080/"
    },
    "id": "ZlUH_6VddxA6",
    "outputId": "cc718110-5c8e-4e4c-8003-4796aaf683da"
   },
   "outputs": [
    {
     "name": "stdout",
     "output_type": "stream",
     "text": [
      "3.1416\n",
      "<class 'float'>\n"
     ]
    }
   ],
   "source": [
    "escalar_float = 3.1416\n",
    "print(escalar_float)\n",
    "print(type(escalar_float))"
   ]
  },
  {
   "cell_type": "code",
   "execution_count": 153,
   "metadata": {
    "colab": {
     "base_uri": "https://localhost:8080/"
    },
    "id": "VCmLRW32eK0I",
    "outputId": "e80ff0cc-5687-49ad-e498-1bfea385356b"
   },
   "outputs": [
    {
     "name": "stdout",
     "output_type": "stream",
     "text": [
      "True\n",
      "<class 'bool'>\n"
     ]
    }
   ],
   "source": [
    "escalar_bool = True\n",
    "print(escalar_bool)\n",
    "print(type(escalar_bool))"
   ]
  },
  {
   "cell_type": "code",
   "execution_count": 154,
   "metadata": {
    "colab": {
     "base_uri": "https://localhost:8080/"
    },
    "id": "rgItgc5oeQQj",
    "outputId": "8734922e-0a12-457e-8625-1d021519cd8e"
   },
   "outputs": [
    {
     "name": "stdout",
     "output_type": "stream",
     "text": [
      "(5+3j)\n",
      "<class 'complex'>\n"
     ]
    }
   ],
   "source": [
    "import cmath\n",
    "escalar_complex = complex(5, 3)\n",
    "print(escalar_complex)\n",
    "print(type(escalar_complex))"
   ]
  },
  {
   "cell_type": "markdown",
   "metadata": {
    "id": "hG8ogn0gf8RR"
   },
   "source": [
    "### Vector"
   ]
  },
  {
   "cell_type": "markdown",
   "metadata": {
    "id": "BWlRQDoIf9s5"
   },
   "source": [
    "Es un énte matemático como la *recta* o el *plano*. Se puede representar mediante un segmento de recta, orientado dentro del *espacio euclidiano tridimensional*. Ek vectir tiene 3 elementos:\n",
    "\n",
    "* Módulo (cuánto mide)\n",
    "* Dirección (ángulo respecto a algún eje)\n",
    "* Sentido (hacía donde \"apunta\" la cabeza de la flecha)\n",
    "\n",
    "En matemáticas se define al vector como **un elemento de un espacio vectorial**. Esta noción es más abstracta y para muchos espacios vectoriales no es posible representar sus vectores mediante el módulo y la dirección. En particular los espacios de dimensión infinita sin producto escalar no son representables de ese modo."
   ]
  },
  {
   "cell_type": "markdown",
   "metadata": {
    "id": "SO4g1bLJg8VL"
   },
   "source": [
    "Se llama **vector** de dimensión $n$ a una **tupla** de números reales (que se llaman componentes del vector). El conjunto de todos los vectores de dimensión se representa cómo $\\mathbb{R}^n$ (formado mediante el producto cartesiano).\n",
    "\n",
    "Así, un vector $v$ perteneciente a un espacio $\\mathbb{R}$ se representa como:"
   ]
  },
  {
   "cell_type": "markdown",
   "metadata": {
    "id": "GJ82nmPZhbfs"
   },
   "source": [
    "$$ v = (a_1, a_2, a_3, ... ,a_n),\\text{donde } v \\in \\mathbb{R}^n $$"
   ]
  },
  {
   "cell_type": "markdown",
   "metadata": {
    "id": "RdLKEbAchcN-"
   },
   "source": [
    "Podemos ver al vector como un *conjunto de números*."
   ]
  },
  {
   "cell_type": "code",
   "execution_count": 155,
   "metadata": {
    "colab": {
     "base_uri": "https://localhost:8080/"
    },
    "id": "HyhFwYb7fC1S",
    "outputId": "be90253b-77c0-4bf1-def5-7f9c55aca051"
   },
   "outputs": [
    {
     "name": "stdout",
     "output_type": "stream",
     "text": [
      "[[1]\n",
      " [2]\n",
      " [3]]\n",
      "<class 'numpy.ndarray'>\n"
     ]
    }
   ],
   "source": [
    "import numpy as np\n",
    "# Vector Columna\n",
    "column_vector = np.array([[1],[2],[3]])\n",
    "print(column_vector)\n",
    "print(type(column_vector))"
   ]
  },
  {
   "cell_type": "code",
   "execution_count": 156,
   "metadata": {
    "colab": {
     "base_uri": "https://localhost:8080/"
    },
    "id": "NBt4D69YiYom",
    "outputId": "81210bae-810a-49bd-ffae-ed014aaaca3b"
   },
   "outputs": [
    {
     "name": "stdout",
     "output_type": "stream",
     "text": [
      "[1 2 3]\n",
      "<class 'numpy.ndarray'>\n"
     ]
    }
   ],
   "source": [
    "import numpy as np\n",
    "# Vector Fila\n",
    "row_vector = np.array([1,2,3])\n",
    "print(row_vector)\n",
    "print(type(row_vector))"
   ]
  },
  {
   "cell_type": "markdown",
   "metadata": {
    "id": "gfbmZeMriw9Y"
   },
   "source": [
    "### Matriz"
   ]
  },
  {
   "cell_type": "markdown",
   "metadata": {
    "id": "cqPnyoNFiz9l"
   },
   "source": [
    "En matemáticas, una **matriz** es un *arreglo bidimensional de números*. Dado que puede definirse tanto la suma como el producto de matrices, en mayor generalidad se dice que son **elementos de un anillo**. Una matriz se representa por medio de una letra mayúscula $(A,B, \\dots)$ y sus elementos con la misma letra en minúscula $(a,b,\\dots)$, con un doble subíndice, donde el primero indica la fila y el segundo la columna a la que pertenece."
   ]
  },
  {
   "cell_type": "markdown",
   "metadata": {
    "id": "Mf3MUk29izWv"
   },
   "source": [
    "$$A = \n",
    "\\begin{pmatrix}\n",
    "a_{11} & a_{12} & \\dots & a_{1n} \\\\\n",
    "a_{21} & a_{22} & \\dots & a_{2n} \\\\\n",
    "\\vdots & \\vdots & \\ddots & \\vdots \\\\\n",
    "a_{m1} & a_{m2} & \\dots & a_{mn} \\\\\n",
    "\\end{pmatrix}$$"
   ]
  },
  {
   "cell_type": "markdown",
   "metadata": {
    "id": "3SKfZQOTlC26"
   },
   "source": [
    "Siempre que 2 matrices tengan el mismo número de filas y de columnas, pueden sumarse o restarse elemento por elemento.\n",
    "\n",
    "Las matrices sirven para representar las coeficientes de los sistemas de ecuaciones lineales o para representar transformaciones lineales dadas una base.\n",
    "\n",
    "Pueden sumarse, multiplicarse y descomponerse de varias formas, lo que también las hace un concepto clave en el campo del álgebra lineal."
   ]
  },
  {
   "cell_type": "code",
   "execution_count": 157,
   "metadata": {
    "colab": {
     "base_uri": "https://localhost:8080/"
    },
    "id": "cFzlOqHxnYAJ",
    "outputId": "ef04994c-f343-45de-d58e-44e8a463fccf"
   },
   "outputs": [
    {
     "name": "stdout",
     "output_type": "stream",
     "text": [
      "[[0 1 2 3]\n",
      " [3 2 1 0]\n",
      " [1 2 3 4]\n",
      " [3 2 1 0]]\n",
      "<class 'numpy.ndarray'>\n"
     ]
    }
   ],
   "source": [
    "import numpy as np\n",
    "matrix = np.array([\n",
    "                   [0, 1, 2 ,3],\n",
    "                   [3, 2, 1, 0],\n",
    "                   [1, 2, 3, 4],\n",
    "                   [3, 2, 1, 0]\n",
    "])\n",
    "\n",
    "print(matrix)\n",
    "print(type(matrix))"
   ]
  },
  {
   "cell_type": "markdown",
   "metadata": {
    "id": "36dImWdwldTy"
   },
   "source": [
    "### Tensor"
   ]
  },
  {
   "cell_type": "markdown",
   "metadata": {
    "id": "iTp1OnhAlevF"
   },
   "source": [
    "Un **tensor** es cierta clase de entidad  algebraica de varios componentes que generalizan los conceptos de escalar, vector y matriz **de manera que sea independiente de cualquier sistema de coordenadas**. Se suele utilizar el convenio se **suma de Einstein**.\n",
    "\n",
    "Una vez elegida la base vectorial, los componentes de un tensor en una base vendrán dadas por una **multi-matriz**. El orden del tensor será el número de índices necesarios para especificar sin ambigüedad un componente de un tensor: \n",
    "\n",
    "* Un **escalar** será considerado como un tensor de orden 0.\n",
    "* Un **vecor** será considerado como un tensor de orden 1.\n",
    "* Y dada una *base vectorial*, los tensores de segundo orden pueden ser representados por una **matriz**."
   ]
  },
  {
   "cell_type": "markdown",
   "metadata": {
    "id": "25xyl56dpa4i"
   },
   "source": [
    "![](https://miro.medium.com/max/891/0*jGB1CGQ9HdeUwlgB)"
   ]
  },
  {
   "cell_type": "markdown",
   "metadata": {
    "id": "rD5S95zIoKNi"
   },
   "source": [
    "Podemos ver al tensor como varias matrices acomodadas en \"capas\"."
   ]
  },
  {
   "cell_type": "code",
   "execution_count": 158,
   "metadata": {
    "colab": {
     "base_uri": "https://localhost:8080/"
    },
    "id": "cdLDQGUjnz0_",
    "outputId": "5384d5c4-902b-4c06-bea6-c6011a625679"
   },
   "outputs": [
    {
     "name": "stdout",
     "output_type": "stream",
     "text": [
      "[[[ 11  22  33]\n",
      "  [ 44  55  66]\n",
      "  [ 77  88  99]]\n",
      "\n",
      " [[ 99 368 777]\n",
      "  [666 555 444]\n",
      "  [333 222 111]]\n",
      "\n",
      " [[ 13 297 306]\n",
      "  [546  58 642]\n",
      "  [ 27 328 943]]]\n",
      "<class 'numpy.ndarray'>\n"
     ]
    }
   ],
   "source": [
    "import numpy as np\n",
    "\n",
    "tensor = np.array([\n",
    "                   [ [11,22,33],  [44,55,66],   [77,88,99]    ],\n",
    "                   [ [99,368,777],[666,555,444],[333,222,111] ],\n",
    "                   [ [13,297,306],[546,58,642], [27,328,943]  ]\n",
    "])\n",
    "print(tensor)\n",
    "print(type(tensor))"
   ]
  },
  {
   "cell_type": "markdown",
   "metadata": {
    "id": "723Uwk3ooZP5"
   },
   "source": [
    "Vamos a visualizar nuestro tensor, **suponiendo** que los datos que tenemos son los que representan a una imagen."
   ]
  },
  {
   "cell_type": "code",
   "execution_count": 159,
   "metadata": {
    "colab": {
     "base_uri": "https://localhost:8080/",
     "height": 305
    },
    "id": "n3AMZePloe2B",
    "outputId": "df32b415-d74f-43f4-f641-7dbdbc5f8dca"
   },
   "outputs": [
    {
     "name": "stderr",
     "output_type": "stream",
     "text": [
      "Clipping input data to the valid range for imshow with RGB data ([0..1] for floats or [0..255] for integers).\n"
     ]
    },
    {
     "data": {
      "text/plain": [
       "<module 'matplotlib.pyplot' from 'C:\\\\Users\\\\jabdi\\\\anaconda3\\\\lib\\\\site-packages\\\\matplotlib\\\\pyplot.py'>"
      ]
     },
     "execution_count": 159,
     "metadata": {},
     "output_type": "execute_result"
    },
    {
     "data": {
      "image/png": "[encoded data removed]",
      "text/plain": [
       "<Figure size 432x288 with 1 Axes>"
      ]
     },
     "metadata": {
      "needs_background": "light"
     },
     "output_type": "display_data"
    }
   ],
   "source": [
    "%matplotlib inline\n",
    "import matplotlib.pyplot as plt\n",
    "\n",
    "plt.imshow(tensor, interpolation='nearest')\n",
    "plt"
   ]
  },
  {
   "cell_type": "markdown",
   "metadata": {
    "id": "ki-gAhkqesVr"
   },
   "source": [
    "Podemos decir que en lo que se diferencian nuestros elementos como los escalares, vectores, matrices y tensores es en los *grados de libertad que tenemos para interactuar con ellos*."
   ]
  },
  {
   "cell_type": "markdown",
   "metadata": {
    "id": "mGEjSb1TjMJM"
   },
   "source": [
    "![](https://i.imgur.com/vDwWVp9.png)"
   ]
  },
  {
   "cell_type": "markdown",
   "metadata": {
    "id": "RXVt09Mqp1Ib"
   },
   "source": [
    "---"
   ]
  },
  {
   "cell_type": "markdown",
   "metadata": {
    "id": "4Xy8Pndop2uu"
   },
   "source": [
    "## Operaciones básicas"
   ]
  },
  {
   "cell_type": "markdown",
   "metadata": {
    "id": "fu4-yX6FHnc5"
   },
   "source": [
    "### Dimensión de un escalar, vector, matriz o tensor"
   ]
  },
  {
   "cell_type": "markdown",
   "metadata": {
    "id": "c0vHD_5-HucJ"
   },
   "source": [
    "En álgebra lineal es importante tener en consideración las dimensiones que tienen nuestras matrices, vectores y tensores. Ya que algunas veces, de ello dependerá si las operaciones entre ellos están definidas o no. Por ejemplo, en el caso de una multiplicación de una matriz por un vector (producto interno), tenemos que coincidir en la dimensión de nuestro vector con la cantidad de filas que tiene nuestra matriz.\n",
    "\n",
    "De forma que se cumple que, si tenemos una matriz de $m\\times n$ por un vector columna $n\\times 1$, entonces obtendremos de resultado un vector fila de $m \\times 1$ (más adelante veremos este tema con calma)."
   ]
  },
  {
   "cell_type": "markdown",
   "metadata": {
    "id": "O-Azhm4RKwBq"
   },
   "source": [
    "$$\\begin{align*}\n",
    "  A\\cdot {x}=\n",
    "  \\left[\n",
    "    \\begin{array}{cccc}\n",
    "      a_{11} & a_{12} & \\ldots & a_{1n}\\\\\n",
    "      a_{21} & a_{22} & \\ldots & a_{2n}\\\\\n",
    "      \\vdots & \\vdots & \\ddots & \\vdots\\\\\n",
    "      a_{m1} & a_{m2} & \\ldots & a_{mn}\n",
    "    \\end{array}\n",
    "  \\right]\n",
    "  \\left[\n",
    "    \\begin{array}{c}\n",
    "      x_1\\\\\n",
    "      x_2\\\\\n",
    "      \\vdots\\\\\n",
    "      x_n\n",
    "    \\end{array}\n",
    "  \\right]\n",
    "  =\n",
    "  \\left[\n",
    "    \\begin{array}{c}\n",
    "      a_{11}x_1+a_{12}x_2 + \\cdots + a_{1n} x_n\\\\\n",
    "      a_{21}x_1+a_{22}x_2 + \\cdots + a_{2n} x_n\\\\\n",
    "      \\vdots\\\\\n",
    "      a_{m1}x_1+a_{m2}x_2 + \\cdots + a_{mn} x_n\\\\\n",
    "    \\end{array}\n",
    "  \\right].\n",
    "\\end{align*}$$"
   ]
  },
  {
   "cell_type": "markdown",
   "metadata": {
    "id": "AbZ4iC2ILFct"
   },
   "source": [
    "Entonces, es importante conocer las dimensiones de nuestros `arrays`, y para ello tenemos el método `.shape`"
   ]
  },
  {
   "cell_type": "code",
   "execution_count": 160,
   "metadata": {
    "id": "dBfkqNKjIuKl"
   },
   "outputs": [],
   "source": [
    "import numpy as np\n",
    "scalar = 5.679\n",
    "row_vector = np.array([1,2,3])\n",
    "column_vector = np.array([[1],\n",
    "                          [2],\n",
    "                          [3]])\n",
    "matrix = np.array([[1,2],\n",
    "                   [2,3]])\n",
    "tensor = np.array([\n",
    "                   [ [11,22,33],  [44,55,66],   [77,88,99]    ],\n",
    "                   [ [99,368,777],[666,555,444],[333,222,111] ],\n",
    "                   [ [13,297,306],[546,58,642], [27,328,943]  ]\n",
    "])"
   ]
  },
  {
   "cell_type": "markdown",
   "metadata": {
    "id": "mDVx4q6jLUE6"
   },
   "source": [
    "El siguiente error ocurre por que el escalar es considerado un tensor de dimensión 0, es decir, no tiene dimensión."
   ]
  },
  {
   "cell_type": "code",
   "execution_count": 161,
   "metadata": {
    "colab": {
     "base_uri": "https://localhost:8080/",
     "height": 171
    },
    "id": "8tM8_UGcJ0Oq",
    "outputId": "817a0c76-dba3-4816-9456-cc374c671947"
   },
   "outputs": [
    {
     "ename": "AttributeError",
     "evalue": "'float' object has no attribute 'shape'",
     "output_type": "error",
     "traceback": [
      "\u001b[1;31m---------------------------------------------------------------------------\u001b[0m",
      "\u001b[1;31mAttributeError\u001b[0m                            Traceback (most recent call last)",
      "\u001b[1;32m<ipython-input-161-26331d5616fb>\u001b[0m in \u001b[0;36m<module>\u001b[1;34m\u001b[0m\n\u001b[1;32m----> 1\u001b[1;33m \u001b[0mscalar\u001b[0m\u001b[1;33m.\u001b[0m\u001b[0mshape\u001b[0m\u001b[1;33m\u001b[0m\u001b[1;33m\u001b[0m\u001b[0m\n\u001b[0m",
      "\u001b[1;31mAttributeError\u001b[0m: 'float' object has no attribute 'shape'"
     ]
    }
   ],
   "source": [
    "scalar.shape"
   ]
  },
  {
   "cell_type": "markdown",
   "metadata": {
    "id": "4dshxNlKMgo9"
   },
   "source": [
    "Vamos a ver la dimensión del resto de elementos:"
   ]
  },
  {
   "cell_type": "code",
   "execution_count": 162,
   "metadata": {
    "colab": {
     "base_uri": "https://localhost:8080/"
    },
    "id": "Y5DsXlQSLOl-",
    "outputId": "a78e1ebe-cf80-4e9f-b04e-1e2c987ac5ec"
   },
   "outputs": [
    {
     "data": {
      "text/plain": [
       "(3,)"
      ]
     },
     "execution_count": 162,
     "metadata": {},
     "output_type": "execute_result"
    }
   ],
   "source": [
    "row_vector.shape"
   ]
  },
  {
   "cell_type": "code",
   "execution_count": 163,
   "metadata": {
    "colab": {
     "base_uri": "https://localhost:8080/"
    },
    "id": "mpy6QJfgMNdq",
    "outputId": "57e6b9a7-ce87-43ce-ba0a-650a942d9de0"
   },
   "outputs": [
    {
     "data": {
      "text/plain": [
       "(3, 1)"
      ]
     },
     "execution_count": 163,
     "metadata": {},
     "output_type": "execute_result"
    }
   ],
   "source": [
    "column_vector.shape"
   ]
  },
  {
   "cell_type": "code",
   "execution_count": 164,
   "metadata": {
    "colab": {
     "base_uri": "https://localhost:8080/"
    },
    "id": "NjZmzppjMSP-",
    "outputId": "93d1a960-f43d-4981-aca0-c7d69fcac52f"
   },
   "outputs": [
    {
     "data": {
      "text/plain": [
       "(2, 2)"
      ]
     },
     "execution_count": 164,
     "metadata": {},
     "output_type": "execute_result"
    }
   ],
   "source": [
    "matrix.shape"
   ]
  },
  {
   "cell_type": "code",
   "execution_count": 165,
   "metadata": {
    "colab": {
     "base_uri": "https://localhost:8080/"
    },
    "id": "zxfg2p28MVA5",
    "outputId": "2f70871b-f009-4dcc-b572-e97b90ac0909"
   },
   "outputs": [
    {
     "data": {
      "text/plain": [
       "(3, 3, 3)"
      ]
     },
     "execution_count": 165,
     "metadata": {},
     "output_type": "execute_result"
    }
   ],
   "source": [
    "tensor.shape"
   ]
  },
  {
   "cell_type": "markdown",
   "metadata": {
    "id": "U3OX9nzwMWBo"
   },
   "source": [
    "¿Qué pasa si utilizamos `len()` en lugar de `shape`? "
   ]
  },
  {
   "cell_type": "code",
   "execution_count": 166,
   "metadata": {
    "colab": {
     "base_uri": "https://localhost:8080/"
    },
    "id": "ZE-wGxQEM4yb",
    "outputId": "b5748e84-30fb-4c83-c2cf-cdd28262522d"
   },
   "outputs": [
    {
     "data": {
      "text/plain": [
       "3"
      ]
     },
     "execution_count": 166,
     "metadata": {},
     "output_type": "execute_result"
    }
   ],
   "source": [
    "len(tensor)"
   ]
  },
  {
   "cell_type": "markdown",
   "metadata": {
    "id": "_fgna_htNAKZ"
   },
   "source": [
    "Solo nos devuelve la longitud de la primera parte del arreglo."
   ]
  },
  {
   "cell_type": "markdown",
   "metadata": {
    "id": "9ZGEjq4FNFHU"
   },
   "source": [
    "¿ Y qué pasaría si utilizamos `.size`?"
   ]
  },
  {
   "cell_type": "code",
   "execution_count": 167,
   "metadata": {
    "colab": {
     "base_uri": "https://localhost:8080/"
    },
    "id": "PlzRdrcbNMT7",
    "outputId": "2765f8e6-0ff5-40bf-dce5-64a1dbf435fe"
   },
   "outputs": [
    {
     "data": {
      "text/plain": [
       "27"
      ]
     },
     "execution_count": 167,
     "metadata": {},
     "output_type": "execute_result"
    }
   ],
   "source": [
    "tensor.size"
   ]
  },
  {
   "cell_type": "markdown",
   "metadata": {
    "id": "xVsyNisWNOql"
   },
   "source": [
    "Nos devuelve la multiplicación de las dimensiones (total de elementos)."
   ]
  },
  {
   "cell_type": "markdown",
   "metadata": {
    "id": "xbid7WSKNTcz"
   },
   "source": [
    "La representación `(3,3,3)` de un tensor la podemos interpretar como 3 filas, 3 columnas y 3 matrices de 3x3 \"superpuestas\" unas de otras.\n",
    "\n",
    "Por ejemplo, si en una matriz 3x3 podemos representar una imagen; entonces, en un tensor de 3x3x3 podemos representar un video de 3 fotogramas. De esta forma podríamos pensar en un tensor como **la evolución de una matriz en el tiempo**."
   ]
  },
  {
   "cell_type": "markdown",
   "metadata": {
    "id": "5ae0T_tkOIN5"
   },
   "source": [
    "![](https://i.postimg.cc/25f2FS5P/Capture.png)"
   ]
  },
  {
   "cell_type": "markdown",
   "metadata": {
    "id": "TsTXWM8COtHC"
   },
   "source": [
    "### Transposición"
   ]
  },
  {
   "cell_type": "markdown",
   "metadata": {},
   "source": [
    "Cuando hablamos de la transposición de una matriz, nos referimos al proceso de \"voltear\" una matriz, es decir, intercambiar filas por columnas. En realidad es una operación muy sencilla de hacer, pero con un montón de aplicaciones importantes.\n",
    "\n",
    "Por ejemplo, si tenemos una matriz de $3 \\times 2$ y la transponemos, obtendremos una matriz $2 \\times 3$."
   ]
  },
  {
   "cell_type": "markdown",
   "metadata": {},
   "source": [
    "Podemos hacer un proceso similar con los vectores. Por ejemplo, si tenemos un vector fila y hacemos la transposición, entonces obtendremos un vector columna."
   ]
  },
  {
   "cell_type": "markdown",
   "metadata": {},
   "source": [
    "Al realizar la transposición, estamos haciendo una especie de \"espejo\" alrededor de la diagonal, por lo que **los elementos de la diagonal se mantienen iguales**."
   ]
  },
  {
   "cell_type": "markdown",
   "metadata": {},
   "source": [
    "![](https://i.postimg.cc/GtrCWCzN/Capture.png)"
   ]
  },
  {
   "cell_type": "code",
   "execution_count": 168,
   "metadata": {},
   "outputs": [],
   "source": [
    "import numpy as np\n",
    "scalar = 5.679\n",
    "row_vector = np.array([1,2,3])\n",
    "column_vector = np.array([[1],\n",
    "                          [2],\n",
    "                          [3]])\n",
    "matrix = np.array([[1,2,4],\n",
    "                   [2,3,4],\n",
    "                   [6,5,8]])\n",
    "tensor = np.array([\n",
    "                   [ [11,22,33],  [44,55,66],   [77,88,99]    ],\n",
    "                   [ [99,368,777],[666,555,444],[333,222,111] ],\n",
    "                   [ [13,297,306],[546,58,642],   [27,328,943]],\n",
    "                   [ [56,67,89],  [111,231,333],  [77,88,99]  ]\n",
    "])"
   ]
  },
  {
   "cell_type": "markdown",
   "metadata": {},
   "source": [
    "Para realizar una transposición utilizamos el atributo `.T` de los `narray`."
   ]
  },
  {
   "cell_type": "code",
   "execution_count": 169,
   "metadata": {},
   "outputs": [
    {
     "name": "stdout",
     "output_type": "stream",
     "text": [
      "Vector original:\n",
      "[1 2 3]\n",
      "Vector Transpuesto:\n",
      "[1 2 3]\n"
     ]
    }
   ],
   "source": [
    "T_row_vec = row_vector.T\n",
    "print(f'Vector original:\\n{row_vector}\\nVector Transpuesto:\\n{T_row_vec}')"
   ]
  },
  {
   "cell_type": "markdown",
   "metadata": {},
   "source": [
    "Podemos ver que en el caso del vector fila lo mantendrá igual, al menos de que realicemos operaciones con el."
   ]
  },
  {
   "cell_type": "code",
   "execution_count": 170,
   "metadata": {},
   "outputs": [
    {
     "name": "stdout",
     "output_type": "stream",
     "text": [
      "Vector original:\n",
      "[[1]\n",
      " [2]\n",
      " [3]]\n",
      "Vector Transpuesto:\n",
      "[[1 2 3]]\n"
     ]
    }
   ],
   "source": [
    "T_col_vec = column_vector.T\n",
    "print(f'Vector original:\\n{column_vector}\\nVector Transpuesto:\\n{T_col_vec}')"
   ]
  },
  {
   "cell_type": "markdown",
   "metadata": {},
   "source": [
    "en el caso del vector columna si vemos como lo pasa a un vector fila"
   ]
  },
  {
   "cell_type": "code",
   "execution_count": 171,
   "metadata": {},
   "outputs": [
    {
     "name": "stdout",
     "output_type": "stream",
     "text": [
      "Matriz original:\n",
      "[[1 2 4]\n",
      " [2 3 4]\n",
      " [6 5 8]]\n",
      "Matriz Transpuesta:\n",
      "[[1 2 6]\n",
      " [2 3 5]\n",
      " [4 4 8]]\n"
     ]
    }
   ],
   "source": [
    "T_matrix = matrix.T\n",
    "print(f'Matriz original:\\n{matrix}\\nMatriz Transpuesta:\\n{T_matrix}')"
   ]
  },
  {
   "cell_type": "markdown",
   "metadata": {},
   "source": [
    "Podemos ver como nuestras filas de la matriz original pasan a ser las nuevas columnas y viceversa con las columnas originales."
   ]
  },
  {
   "cell_type": "code",
   "execution_count": 172,
   "metadata": {},
   "outputs": [
    {
     "name": "stdout",
     "output_type": "stream",
     "text": [
      "Tensor original:\n",
      "[[[ 11  22  33]\n",
      "  [ 44  55  66]\n",
      "  [ 77  88  99]]\n",
      "\n",
      " [[ 99 368 777]\n",
      "  [666 555 444]\n",
      "  [333 222 111]]\n",
      "\n",
      " [[ 13 297 306]\n",
      "  [546  58 642]\n",
      "  [ 27 328 943]]\n",
      "\n",
      " [[ 56  67  89]\n",
      "  [111 231 333]\n",
      "  [ 77  88  99]]]\n",
      "\n",
      "Tensor Transpuesto:\n",
      "[[[ 11  99  13  56]\n",
      "  [ 44 666 546 111]\n",
      "  [ 77 333  27  77]]\n",
      "\n",
      " [[ 22 368 297  67]\n",
      "  [ 55 555  58 231]\n",
      "  [ 88 222 328  88]]\n",
      "\n",
      " [[ 33 777 306  89]\n",
      "  [ 66 444 642 333]\n",
      "  [ 99 111 943  99]]]\n"
     ]
    }
   ],
   "source": [
    "T_tensor = tensor.T\n",
    "print(f'Tensor original:\\n{tensor}\\n\\nTensor Transpuesto:\\n{T_tensor}')"
   ]
  },
  {
   "cell_type": "markdown",
   "metadata": {},
   "source": [
    "Recordemos que el Tensor es una generalización del mismo objeto matemático que la matriz, en este caso vamos a ir tomando elemento por elemento de la primera columna para formar la nueva fila y así hasta recorrerlas todas.\n",
    "\n",
    "En este caso en particular vemos como pasamos de tener \"4 matrices de 3x3 concatenadas\", a tener \"3 matrices de 4x3 concatenadas\"."
   ]
  },
  {
   "cell_type": "markdown",
   "metadata": {},
   "source": [
    "Si aplicamos 2 veces la transposición de una matriz, obtendremos la misma matriz."
   ]
  },
  {
   "cell_type": "markdown",
   "metadata": {},
   "source": [
    "$$(A^{T})^T = A$$"
   ]
  },
  {
   "cell_type": "code",
   "execution_count": 173,
   "metadata": {},
   "outputs": [
    {
     "name": "stdout",
     "output_type": "stream",
     "text": [
      "Matriz original:\n",
      "[[1 2 4]\n",
      " [2 3 4]\n",
      " [6 5 8]]\n",
      "Matriz doblemente Transpuesta:\n",
      "[[1 2 4]\n",
      " [2 3 4]\n",
      " [6 5 8]]\n"
     ]
    }
   ],
   "source": [
    "T_matrix = matrix.T\n",
    "T_T_matrix = T_matrix.T\n",
    "print(f'Matriz original:\\n{matrix}\\nMatriz doblemente Transpuesta:\\n{T_T_matrix}')"
   ]
  },
  {
   "cell_type": "markdown",
   "metadata": {},
   "source": [
    "Esto es de mucha ayuda en la resolución de ecuaciones."
   ]
  },
  {
   "cell_type": "markdown",
   "metadata": {},
   "source": [
    "### Suma de matrices"
   ]
  },
  {
   "cell_type": "markdown",
   "metadata": {},
   "source": [
    "La suma de matrices está definida cuando los objetos tienen las mismas dimensiones, y para sumar (o restar) 2 matrices basta con sumar cada uno de los elementos con el mismo subíndice. De la siguiente forma:"
   ]
  },
  {
   "cell_type": "markdown",
   "metadata": {},
   "source": [
    "$$\\begin{align*}\n",
    "A + B =\n",
    "  \\left[\n",
    "    \\begin{array}{cccc}\n",
    "      a_{11} & a_{12} & \\ldots & a_{1n}\\\\\n",
    "      a_{21} & a_{22} & \\ldots & a_{2n}\\\\\n",
    "      \\vdots & \\vdots & \\ddots & \\vdots\\\\\n",
    "      a_{m1} & a_{m2} & \\ldots & a_{mn}\n",
    "    \\end{array}\n",
    "  \\right]\n",
    "  +\n",
    "    \\left[\n",
    "    \\begin{array}{cccc}\n",
    "      b_{11} & b_{12} & \\ldots & b_{1n}\\\\\n",
    "      b_{21} & b_{22} & \\ldots & b_{2n}\\\\\n",
    "      \\vdots & \\vdots & \\ddots & \\vdots\\\\\n",
    "      b_{m1} & b_{m2} & \\ldots & b_{mn}\n",
    "    \\end{array}\n",
    "  \\right]\n",
    "  =\n",
    "  \\left[\n",
    "    \\begin{array}{cccc}\n",
    "      a_{11} + b_{11}& a_{12}+ b_{12} & \\ldots & a_{1n} + b_{1n}\\\\\n",
    "      a_{21} + b_{21}& a_{22}+ b_{22} & \\ldots & a_{2n} + b_{2n}\\\\\n",
    "      \\vdots & \\vdots & \\ddots & \\vdots\\\\\n",
    "      a_{m1}+b_{m1} & a_{m2}+ b_{m2} & \\ldots & a_{mn} + b_{mn}\n",
    "    \\end{array}\n",
    "  \\right]\n",
    "\\end{align*}$$"
   ]
  },
  {
   "cell_type": "markdown",
   "metadata": {},
   "source": [
    "![](https://i.postimg.cc/x1Qz6JKy/Capture.png)"
   ]
  },
  {
   "cell_type": "code",
   "execution_count": 174,
   "metadata": {},
   "outputs": [],
   "source": [
    "A = np.array([[1,2,3],\n",
    "              [2,3,4],\n",
    "              [3,4,5]])"
   ]
  },
  {
   "cell_type": "code",
   "execution_count": 175,
   "metadata": {},
   "outputs": [],
   "source": [
    "B = np.array([[3,2,1],\n",
    "              [3,1,4],\n",
    "              [6,7,8]])"
   ]
  },
  {
   "cell_type": "code",
   "execution_count": 176,
   "metadata": {},
   "outputs": [
    {
     "name": "stdout",
     "output_type": "stream",
     "text": [
      "[[ 4  4  4]\n",
      " [ 5  4  8]\n",
      " [ 9 11 13]]\n"
     ]
    }
   ],
   "source": [
    "C = A + B\n",
    "print(C)"
   ]
  },
  {
   "cell_type": "code",
   "execution_count": 177,
   "metadata": {},
   "outputs": [
    {
     "name": "stdout",
     "output_type": "stream",
     "text": [
      "[[-2  0  2]\n",
      " [-1  2  0]\n",
      " [-3 -3 -3]]\n"
     ]
    }
   ],
   "source": [
    "D = A - B\n",
    "print(D)"
   ]
  },
  {
   "cell_type": "markdown",
   "metadata": {},
   "source": [
    "En el caso de sumar un escalar a nuestra matriz, entonces sumaríamos el escalar a cada elemento de la matriz:"
   ]
  },
  {
   "cell_type": "code",
   "execution_count": 178,
   "metadata": {},
   "outputs": [
    {
     "name": "stdout",
     "output_type": "stream",
     "text": [
      "Escalar:10\n",
      "A:\n",
      "[[1 2 3]\n",
      " [2 3 4]\n",
      " [3 4 5]]\n",
      "\n",
      "Escalar + A:\n",
      "[[11 12 13]\n",
      " [12 13 14]\n",
      " [13 14 15]]\n"
     ]
    }
   ],
   "source": [
    "E = 10 + A\n",
    "print(f'Escalar:{10}\\nA:\\n{A}\\n\\nEscalar + A:\\n{E}')"
   ]
  },
  {
   "cell_type": "markdown",
   "metadata": {},
   "source": [
    "Pasa exactamente lo mismo en el caso de la multiplicación (si ambas matrices son de las mismas dimensiones):"
   ]
  },
  {
   "cell_type": "code",
   "execution_count": 179,
   "metadata": {},
   "outputs": [
    {
     "name": "stdout",
     "output_type": "stream",
     "text": [
      "A:\n",
      "[[1 2 3]\n",
      " [2 3 4]\n",
      " [3 4 5]]\n",
      "B:\n",
      "[[3 2 1]\n",
      " [3 1 4]\n",
      " [6 7 8]]\n",
      "A*B:\n",
      "[[ 3  4  3]\n",
      " [ 6  3 16]\n",
      " [18 28 40]]\n"
     ]
    }
   ],
   "source": [
    "F = A * B\n",
    "print(f'A:\\n{A}\\nB:\\n{B}\\nA*B:\\n{F}')"
   ]
  },
  {
   "cell_type": "markdown",
   "metadata": {},
   "source": [
    "### Suma de matrices y vectores con dimensiones distintas (broadcasting)"
   ]
  },
  {
   "cell_type": "markdown",
   "metadata": {},
   "source": [
    "El término *broadcasting* describe como *NumPy* trata a los arrays con diferentes dimensiones durante operaciones aritméticas. Sujeto a varias restricciones, se le aplica *broadcast* al array más pequeño a través del array más grande, de forma que terminen con dimensiones compatibles. \n",
    "\n",
    "El *broadcasting* nos provee de un medio para vectorizar operaciones con arrays, de forma que el bucle se produce en C en lugar de en Python. Esto lo hace sin hacer copias innecesarias de datos y usualmente, conduce a implementaciones eficientes de algoritmos. Sin embargo, existen casos en donde el *broadcasting* es una mala idea por qué podría conducir a ineficientes usos de memoria que podrían alentar el cómputo."
   ]
  },
  {
   "cell_type": "code",
   "execution_count": 180,
   "metadata": {},
   "outputs": [],
   "source": [
    "import numpy as np \n",
    "\n",
    "scalar = 5.679\n",
    "vector = np.array([3,4,5])\n",
    "matrix = np.array([[1,2],\n",
    "                   [3,4],\n",
    "                   [5,6]])"
   ]
  },
  {
   "cell_type": "markdown",
   "metadata": {},
   "source": [
    "Recordemos que cuando tratamos de sumar elementos de diferentes dimensiones no tenemos como tal una operación definida como en el caso siguiente:"
   ]
  },
  {
   "cell_type": "code",
   "execution_count": 181,
   "metadata": {},
   "outputs": [
    {
     "ename": "ValueError",
     "evalue": "operands could not be broadcast together with shapes (3,) (3,2) ",
     "output_type": "error",
     "traceback": [
      "\u001b[1;31m---------------------------------------------------------------------------\u001b[0m",
      "\u001b[1;31mValueError\u001b[0m                                Traceback (most recent call last)",
      "\u001b[1;32m<ipython-input-181-3dffef7fabd1>\u001b[0m in \u001b[0;36m<module>\u001b[1;34m\u001b[0m\n\u001b[1;32m----> 1\u001b[1;33m \u001b[0mA\u001b[0m \u001b[1;33m=\u001b[0m \u001b[0mvector\u001b[0m \u001b[1;33m+\u001b[0m \u001b[0mmatrix\u001b[0m\u001b[1;33m\u001b[0m\u001b[1;33m\u001b[0m\u001b[0m\n\u001b[0m",
      "\u001b[1;31mValueError\u001b[0m: operands could not be broadcast together with shapes (3,) (3,2) "
     ]
    }
   ],
   "source": [
    "A = vector + matrix"
   ]
  },
  {
   "cell_type": "markdown",
   "metadata": {},
   "source": [
    "esto ocurre por qué tenemos una matriz $3\\times 2$ tratando de sumarse con un vector fila $3\\times 1$. En este caso no coinciden las dimensiones.\n",
    "\n",
    "¿Qué pasaría si utilizamos la transposición de la matriz?"
   ]
  },
  {
   "cell_type": "code",
   "execution_count": 182,
   "metadata": {},
   "outputs": [
    {
     "name": "stdout",
     "output_type": "stream",
     "text": [
      "[[ 4  7 10]\n",
      " [ 5  8 11]]\n"
     ]
    }
   ],
   "source": [
    "T_matrix = matrix.T\n",
    "T_A = vector + T_matrix\n",
    "print(T_A)"
   ]
  },
  {
   "cell_type": "markdown",
   "metadata": {},
   "source": [
    "De esta forma no tenemos error ya que nuestra matriz pasa a ser una matriz $2\\times 3$ que sí se puede sumar con un vector $3 \\times 1$.\n",
    "\n",
    "Notemos como podemos realizar las operaciones cuando los números o dimensiones de en medio coinciden, en este casi el 3 con el : $2\\times 3 \\rightarrow 3 \\times 1$. De está forma lo que estamos haciendo es \"duplicar\" el vector fila, de manera que se sume en cada fila de la matriz."
   ]
  },
  {
   "cell_type": "markdown",
   "metadata": {},
   "source": [
    "![](https://miro.medium.com/max/2114/1*lY8Ve6Uz_bqVI5NPh5RPZA.png)"
   ]
  },
  {
   "cell_type": "markdown",
   "metadata": {},
   "source": [
    "Justo a esto es a lo que le llamamos **broadcasting**, estamos \"extendiendo\" la dimensión de menor tamaño para completar la de menor tamaño."
   ]
  },
  {
   "cell_type": "markdown",
   "metadata": {},
   "source": [
    "Internamente, Python hace **broadcasting** al sumar un escalar con una matriz, ya que está \"extendiendo\" dicho escalar para poder sumar cada elemento de la matriz."
   ]
  },
  {
   "cell_type": "markdown",
   "metadata": {},
   "source": [
    "De forma que la suma:"
   ]
  },
  {
   "cell_type": "code",
   "execution_count": 183,
   "metadata": {},
   "outputs": [
    {
     "name": "stdout",
     "output_type": "stream",
     "text": [
      "[[51 52]\n",
      " [53 54]\n",
      " [55 56]]\n"
     ]
    }
   ],
   "source": [
    "C = matrix + 50\n",
    "print(C)"
   ]
  },
  {
   "cell_type": "markdown",
   "metadata": {},
   "source": [
    "internamente es:"
   ]
  },
  {
   "cell_type": "code",
   "execution_count": 184,
   "metadata": {
    "scrolled": true
   },
   "outputs": [
    {
     "name": "stdout",
     "output_type": "stream",
     "text": [
      "[[51 52]\n",
      " [53 54]\n",
      " [55 56]]\n"
     ]
    }
   ],
   "source": [
    "C_Py = matrix + np.array([[50],[50],[50]])\n",
    "print(C_Py)"
   ]
  },
  {
   "cell_type": "markdown",
   "metadata": {},
   "source": [
    "---"
   ]
  },
  {
   "cell_type": "markdown",
   "metadata": {},
   "source": [
    "## Operaciones con matrices"
   ]
  },
  {
   "cell_type": "markdown",
   "metadata": {},
   "source": [
    "### Producto interno de matrices y  vectores"
   ]
  },
  {
   "cell_type": "markdown",
   "metadata": {},
   "source": [
    "Sea $V$ un espacio vectorial *sobre el cuerpo* $\\mathbb{R}$ *de los reales*. El **producto interno** o **producto escalar** definido sobre $V$ es una aplicación entre el conjunto de todos los pares de vectores $(u,v)$ y $\\mathbb{R}$, cuyo resultado es un número real denotado por $\\langle u, v \\rangle$, que satisface las siguientes propiedades para todo $u,v,w \\in V$ y todo escalar $\\alpha \\in \\mathbb{R}$."
   ]
  },
  {
   "cell_type": "markdown",
   "metadata": {},
   "source": [
    "$$\\tag{1} \\langle u,v \\rangle = \\langle v,u \\rangle$$"
   ]
  },
  {
   "cell_type": "markdown",
   "metadata": {},
   "source": [
    "$$\\tag{2} \\alpha \\langle u,v \\rangle = \\langle (\\alpha u),v \\rangle = \\langle u ,(\\alpha v) \\rangle$$"
   ]
  },
  {
   "cell_type": "markdown",
   "metadata": {},
   "source": [
    "$$\\tag{3} \\langle u+v , w \\rangle = \\langle u,w \\rangle +  \\langle v,w \\rangle $$"
   ]
  },
  {
   "cell_type": "markdown",
   "metadata": {},
   "source": [
    "$$\\tag{4} \\langle u , u \\rangle \\geq 0 $$"
   ]
  },
  {
   "cell_type": "markdown",
   "metadata": {},
   "source": [
    " $$\\tag{4.1}\\langle u , u \\rangle = 0 \\text{ si y sólo si } u= 0$$"
   ]
  },
  {
   "cell_type": "markdown",
   "metadata": {},
   "source": [
    "Al realizar la multiplicación de un vector por una matriz debemos de asegurarnos que sus dimensiones coincidan de la siguiente forma:\n"
   ]
  },
  {
   "cell_type": "markdown",
   "metadata": {},
   "source": [
    "$$(n\\times m)(m\\times l)$$"
   ]
  },
  {
   "cell_type": "markdown",
   "metadata": {},
   "source": [
    "Donde:\n",
    "    \n",
    "* $n$ es el número de filas de la matriz.\n",
    "* $m$ es el número de columnas de la matriz y debe coincidir con el número de filas del vector.\n",
    "* $l$ es el número de columnas del vector."
   ]
  },
  {
   "cell_type": "code",
   "execution_count": 185,
   "metadata": {},
   "outputs": [],
   "source": [
    "import numpy as np"
   ]
  },
  {
   "cell_type": "markdown",
   "metadata": {},
   "source": [
    "Vamos a escribir los elementos con los que vamos a estar trabajando:"
   ]
  },
  {
   "cell_type": "code",
   "execution_count": 186,
   "metadata": {},
   "outputs": [],
   "source": [
    "row_vector = np.array([-4,5,8])\n",
    "\n",
    "column_vector = np.array([[-6],\n",
    "                          [-2],\n",
    "                          [ 5]])\n",
    "matrix = np.array([[-3,5,-6],\n",
    "                   [7,10,-1]])\n",
    "\n",
    "matrix2 = np.array([[-2,10],\n",
    "                    [-1,-4],\n",
    "                    [7,9],])"
   ]
  },
  {
   "cell_type": "markdown",
   "metadata": {},
   "source": [
    "Vamos a ver la diferencia entre el **producto de un vector y una matriz** (según lo interpreta Python), con el **producto interno** de los mismos. El producto interno se aplica utilizando `.dot()`."
   ]
  },
  {
   "cell_type": "markdown",
   "metadata": {},
   "source": [
    "Primero veamos **como hace Python para interpretar** el caso del **producto de un vector y una matriz**, así sin más:"
   ]
  },
  {
   "cell_type": "code",
   "execution_count": 187,
   "metadata": {},
   "outputs": [
    {
     "name": "stdout",
     "output_type": "stream",
     "text": [
      "[[ 12  25 -48]\n",
      " [-28  50  -8]]\n"
     ]
    }
   ],
   "source": [
    "product = matrix * row_vector\n",
    "print(product)"
   ]
  },
  {
   "cell_type": "markdown",
   "metadata": {},
   "source": [
    "![](https://i.imgur.com/J1NHDXY.png)"
   ]
  },
  {
   "cell_type": "markdown",
   "metadata": {},
   "source": [
    "Si nosotros indicamos la multiplicación del vector por la matriz con el operador `*`, entonces Python realizará el calculo de arriba; el cual nos recordara al *broadcasting* del que hablamos anteriormente. Podemos imaginar este proceso como si estuviera \"replicando\" el vector fila, de manera que multiplique componente por componente."
   ]
  },
  {
   "cell_type": "code",
   "execution_count": 188,
   "metadata": {},
   "outputs": [
    {
     "name": "stdout",
     "output_type": "stream",
     "text": [
      "[[ 12  25 -48]\n",
      " [-28  50  -8]]\n"
     ]
    }
   ],
   "source": [
    "product =  row_vector * matrix \n",
    "print(product)"
   ]
  },
  {
   "cell_type": "markdown",
   "metadata": {},
   "source": [
    "en este caso, no tiene problema en multiplicar primero la matriz o el vector de esta forma."
   ]
  },
  {
   "cell_type": "markdown",
   "metadata": {},
   "source": [
    "Por el otro lado, si quisieramos aplicar el mismo producto con `*` y un **vector columna**, no encontraría compatibilidad con las dimensiones."
   ]
  },
  {
   "cell_type": "code",
   "execution_count": 189,
   "metadata": {},
   "outputs": [
    {
     "ename": "ValueError",
     "evalue": "operands could not be broadcast together with shapes (2,3) (3,1) ",
     "output_type": "error",
     "traceback": [
      "\u001b[1;31m---------------------------------------------------------------------------\u001b[0m",
      "\u001b[1;31mValueError\u001b[0m                                Traceback (most recent call last)",
      "\u001b[1;32m<ipython-input-189-25ced03fd7a5>\u001b[0m in \u001b[0;36m<module>\u001b[1;34m\u001b[0m\n\u001b[1;32m----> 1\u001b[1;33m \u001b[0mproduct\u001b[0m \u001b[1;33m=\u001b[0m \u001b[0mmatrix\u001b[0m \u001b[1;33m*\u001b[0m \u001b[0mcolumn_vector\u001b[0m\u001b[1;33m\u001b[0m\u001b[1;33m\u001b[0m\u001b[0m\n\u001b[0m\u001b[0;32m      2\u001b[0m \u001b[0mprint\u001b[0m\u001b[1;33m(\u001b[0m\u001b[0mproduct\u001b[0m\u001b[1;33m)\u001b[0m\u001b[1;33m\u001b[0m\u001b[1;33m\u001b[0m\u001b[0m\n",
      "\u001b[1;31mValueError\u001b[0m: operands could not be broadcast together with shapes (2,3) (3,1) "
     ]
    }
   ],
   "source": [
    "product = matrix * column_vector\n",
    "print(product)"
   ]
  },
  {
   "cell_type": "markdown",
   "metadata": {},
   "source": [
    "Ahora, hablemos sobre el **producto interior** o **producto punto** entre matriz y vector. Para realizar esto tendremos que asegurarnos de que se cumpla la condición de arriba: $(n\\times m)(m \\times l)$"
   ]
  },
  {
   "cell_type": "markdown",
   "metadata": {},
   "source": [
    "Comencemos con el producto de nuestro vector columna por nuestra matriz:"
   ]
  },
  {
   "cell_type": "code",
   "execution_count": 190,
   "metadata": {},
   "outputs": [
    {
     "name": "stdout",
     "output_type": "stream",
     "text": [
      "[[-22]\n",
      " [-67]]\n"
     ]
    }
   ],
   "source": [
    "dot_product_col = matrix.dot(column_vector)\n",
    "print(dot_product_col)"
   ]
  },
  {
   "cell_type": "markdown",
   "metadata": {},
   "source": [
    "En este caso tenemos una matriz de $(2\\times 3)$ y un vector columna de $(3\\times 1)$, por lo que las dimensiones coinciden y podemos realizar correctamente el producto de vector y matriz, el cual se realiza de la siguiente manera:"
   ]
  },
  {
   "cell_type": "markdown",
   "metadata": {},
   "source": [
    "![](https://i.imgur.com/Wo6XcCM.png)"
   ]
  },
  {
   "cell_type": "markdown",
   "metadata": {},
   "source": [
    "¿Qué pasaría si tratamos de realizar el producto del *vector por la matriz*, es decir, el orden inverso?"
   ]
  },
  {
   "cell_type": "code",
   "execution_count": 191,
   "metadata": {},
   "outputs": [
    {
     "ename": "ValueError",
     "evalue": "shapes (3,1) and (2,3) not aligned: 1 (dim 1) != 2 (dim 0)",
     "output_type": "error",
     "traceback": [
      "\u001b[1;31m---------------------------------------------------------------------------\u001b[0m",
      "\u001b[1;31mValueError\u001b[0m                                Traceback (most recent call last)",
      "\u001b[1;32m<ipython-input-191-a83a7dd1d6ce>\u001b[0m in \u001b[0;36m<module>\u001b[1;34m\u001b[0m\n\u001b[1;32m----> 1\u001b[1;33m \u001b[0mdot_product_col2\u001b[0m \u001b[1;33m=\u001b[0m \u001b[0mcolumn_vector\u001b[0m\u001b[1;33m.\u001b[0m\u001b[0mdot\u001b[0m\u001b[1;33m(\u001b[0m\u001b[0mmatrix\u001b[0m\u001b[1;33m)\u001b[0m\u001b[1;33m\u001b[0m\u001b[1;33m\u001b[0m\u001b[0m\n\u001b[0m\u001b[0;32m      2\u001b[0m \u001b[0mprint\u001b[0m\u001b[1;33m(\u001b[0m\u001b[0mdot_product_col2\u001b[0m\u001b[1;33m)\u001b[0m\u001b[1;33m\u001b[0m\u001b[1;33m\u001b[0m\u001b[0m\n",
      "\u001b[1;31mValueError\u001b[0m: shapes (3,1) and (2,3) not aligned: 1 (dim 1) != 2 (dim 0)"
     ]
    }
   ],
   "source": [
    "dot_product_col2 = column_vector.dot(matrix)\n",
    "print(dot_product_col2)"
   ]
  },
  {
   "cell_type": "markdown",
   "metadata": {},
   "source": [
    "Nos arroja un error, ya que las dimensiones no coinciden ya que tendriamos el caso $(3\\times 1)(2 \\times 3)$"
   ]
  },
  {
   "cell_type": "markdown",
   "metadata": {},
   "source": [
    "Para el caso del **vector fila** ocurre un caso similar, ya que si tratamos de hacer el producto de nuestra matriz por el **vector fila**, tendríamos incompatibilidad con el caso $(2\\times 3)(1 \\times 3)$.\n",
    "\n",
    "En este caso **Python sí lo puede realizar**, ya que utilizar un método como el *broadcasting*, **pero antes de revisarlo veamos como sería el caso con las dimensiones correctas**."
   ]
  },
  {
   "cell_type": "code",
   "execution_count": 192,
   "metadata": {},
   "outputs": [
    {
     "name": "stdout",
     "output_type": "stream",
     "text": [
      "Vector: [-4  5  8]\n",
      "Matriz:\n",
      " [[-2 10]\n",
      " [-1 -4]\n",
      " [ 7  9]]\n",
      "Product: [59 12]\n",
      "\n"
     ]
    }
   ],
   "source": [
    "dot_product_row = row_vector.dot(matrix2)\n",
    "print(f'Vector: {row_vector}\\nMatriz:\\n {matrix2}\\nProduct: {dot_product_row}\\n')"
   ]
  },
  {
   "cell_type": "markdown",
   "metadata": {},
   "source": [
    "> Notemos que estamos multiplicando vector por matriz, no matriz por vector"
   ]
  },
  {
   "cell_type": "markdown",
   "metadata": {},
   "source": [
    "![](https://i.imgur.com/pfOTMol.png)"
   ]
  },
  {
   "cell_type": "markdown",
   "metadata": {},
   "source": [
    "ahora sí, volvamos al caso donde tenemos diferentes dimensiones, pero Python encuentra el modo de hacerlo:"
   ]
  },
  {
   "cell_type": "code",
   "execution_count": 193,
   "metadata": {},
   "outputs": [
    {
     "name": "stdout",
     "output_type": "stream",
     "text": [
      "Matriz:\n",
      "[[-3  5 -6]\n",
      " [ 7 10 -1]]\n",
      "Vector:[-4  5  8]\n",
      "Shape:(2x3)(1x3)\n"
     ]
    }
   ],
   "source": [
    "print(f'Matriz:\\n{matrix}\\nVector:{row_vector}\\nShape:(2x3)(1x3)')"
   ]
  },
  {
   "cell_type": "code",
   "execution_count": 194,
   "metadata": {},
   "outputs": [
    {
     "name": "stdout",
     "output_type": "stream",
     "text": [
      "[-11  14]\n"
     ]
    }
   ],
   "source": [
    "strange_dot_product = matrix.dot(row_vector)\n",
    "print(strange_dot_product)"
   ]
  },
  {
   "cell_type": "markdown",
   "metadata": {},
   "source": [
    "En un inicio, las dimensiones no coincide. Así que Python opta por aplicar nuevamente el *broadcasting*."
   ]
  },
  {
   "cell_type": "markdown",
   "metadata": {},
   "source": [
    "![](https://i.postimg.cc/CKLw1SgV/Capture.png)"
   ]
  },
  {
   "cell_type": "markdown",
   "metadata": {},
   "source": [
    "---"
   ]
  },
  {
   "cell_type": "markdown",
   "metadata": {},
   "source": [
    "### Producto interno entre 2 matrices"
   ]
  },
  {
   "cell_type": "code",
   "execution_count": 195,
   "metadata": {},
   "outputs": [],
   "source": [
    "import numpy as np\n",
    "\n",
    "A = np.array([[1 ,2 ,3],\n",
    "              [4 ,5 ,6],\n",
    "              [7 ,8 ,9],\n",
    "              [10,11,12]])\n",
    "\n",
    "B = np.array([[2,3],\n",
    "              [5,7],\n",
    "              [11,13]])"
   ]
  },
  {
   "cell_type": "code",
   "execution_count": 196,
   "metadata": {},
   "outputs": [
    {
     "name": "stdout",
     "output_type": "stream",
     "text": [
      "Shape A: (4, 3)\n",
      "Shape B: (3, 2)\n"
     ]
    }
   ],
   "source": [
    " print(f'Shape A: {A.shape}\\nShape B: {B.shape}')"
   ]
  },
  {
   "cell_type": "markdown",
   "metadata": {},
   "source": [
    "Vamos a ver si están definidos los productos $A \\cdot B$ y $B \\cdot A$."
   ]
  },
  {
   "cell_type": "markdown",
   "metadata": {},
   "source": [
    "$A \\cdot B$ sí está definida, ya que coinciden los 3's y nos quedamos con un arreglo de $(4 \\times 2)$"
   ]
  },
  {
   "cell_type": "code",
   "execution_count": 197,
   "metadata": {},
   "outputs": [
    {
     "name": "stdout",
     "output_type": "stream",
     "text": [
      "A dot B:\n",
      "[[ 45  56]\n",
      " [ 99 125]\n",
      " [153 194]\n",
      " [207 263]]\n"
     ]
    }
   ],
   "source": [
    "A_dot_B = A.dot(B)\n",
    "print(f'A dot B:\\n{A_dot_B}')"
   ]
  },
  {
   "cell_type": "markdown",
   "metadata": {},
   "source": [
    "La operación que se realizó fue la siguiente:"
   ]
  },
  {
   "cell_type": "markdown",
   "metadata": {},
   "source": [
    "![](https://i.imgur.com/rQMLX0c.png)"
   ]
  },
  {
   "cell_type": "code",
   "execution_count": 198,
   "metadata": {},
   "outputs": [
    {
     "ename": "ValueError",
     "evalue": "shapes (3,2) and (4,3) not aligned: 2 (dim 1) != 4 (dim 0)",
     "output_type": "error",
     "traceback": [
      "\u001b[1;31m---------------------------------------------------------------------------\u001b[0m",
      "\u001b[1;31mValueError\u001b[0m                                Traceback (most recent call last)",
      "\u001b[1;32m<ipython-input-198-cde2c4350dce>\u001b[0m in \u001b[0;36m<module>\u001b[1;34m\u001b[0m\n\u001b[1;32m----> 1\u001b[1;33m \u001b[0mB_dot_A\u001b[0m \u001b[1;33m=\u001b[0m \u001b[0mB\u001b[0m\u001b[1;33m.\u001b[0m\u001b[0mdot\u001b[0m\u001b[1;33m(\u001b[0m\u001b[0mA\u001b[0m\u001b[1;33m)\u001b[0m\u001b[1;33m\u001b[0m\u001b[1;33m\u001b[0m\u001b[0m\n\u001b[0m\u001b[0;32m      2\u001b[0m \u001b[0mprint\u001b[0m\u001b[1;33m(\u001b[0m\u001b[1;34mf'A dot B:\\n{B_dot_A}'\u001b[0m\u001b[1;33m)\u001b[0m\u001b[1;33m\u001b[0m\u001b[1;33m\u001b[0m\u001b[0m\n",
      "\u001b[1;31mValueError\u001b[0m: shapes (3,2) and (4,3) not aligned: 2 (dim 1) != 4 (dim 0)"
     ]
    }
   ],
   "source": [
    "B_dot_A = B.dot(A)\n",
    "print(f'A dot B:\\n{B_dot_A}')"
   ]
  },
  {
   "cell_type": "markdown",
   "metadata": {},
   "source": [
    "en el caso de $B \\cdot A$ no está definida por la incompatibilidad de las dimensiones."
   ]
  },
  {
   "cell_type": "markdown",
   "metadata": {},
   "source": [
    "### Propiedades de las matrices"
   ]
  },
  {
   "cell_type": "markdown",
   "metadata": {},
   "source": [
    "#### Asociativa"
   ]
  },
  {
   "cell_type": "markdown",
   "metadata": {},
   "source": [
    "$$A \\times (B \\times C) = (A \\times B) \\times C$$"
   ]
  },
  {
   "cell_type": "markdown",
   "metadata": {},
   "source": [
    "#### Distributiva:"
   ]
  },
  {
   "cell_type": "markdown",
   "metadata": {},
   "source": [
    "$$ A \\times (B+C) = (A \\times B) + (A \\times C)$$"
   ]
  },
  {
   "cell_type": "markdown",
   "metadata": {},
   "source": [
    "#### Conmutativa:"
   ]
  },
  {
   "cell_type": "markdown",
   "metadata": {},
   "source": [
    "$$B \\times C = C \\times B$$"
   ]
  },
  {
   "cell_type": "markdown",
   "metadata": {},
   "source": [
    "Vamos a corroborar con código cuales de estas propiedades se cumplen para el producto interno de matrices y de vectores."
   ]
  },
  {
   "cell_type": "code",
   "execution_count": 2,
   "metadata": {},
   "outputs": [],
   "source": [
    "import numpy as np\n",
    "A = np.array([[2,3],[5,7],[11,13]])\n",
    "B = np.array([[1,3],[2,1]])\n",
    "C = np.array([[3,1],[4,2]])"
   ]
  },
  {
   "cell_type": "code",
   "execution_count": 3,
   "metadata": {},
   "outputs": [
    {
     "name": "stdout",
     "output_type": "stream",
     "text": [
      "A(BC):\n",
      "[[ 60  26]\n",
      " [145  63]\n",
      " [295 129]]\n",
      "(AB)C:\n",
      "[[ 60  26]\n",
      " [145  63]\n",
      " [295 129]]\n"
     ]
    }
   ],
   "source": [
    "# Asociativa\n",
    "A_BC = A.dot(B.dot(C))\n",
    "AB_C = (A.dot(B)).dot(C)\n",
    "print(f'A(BC):\\n{A_BC}\\n(AB)C:\\n{AB_C}')"
   ]
  },
  {
   "cell_type": "markdown",
   "metadata": {},
   "source": [
    "Se cumple la ASOCIATIVA"
   ]
  },
  {
   "cell_type": "code",
   "execution_count": 12,
   "metadata": {},
   "outputs": [
    {
     "name": "stdout",
     "output_type": "stream",
     "text": [
      "A*(B+C):\n",
      "[[ 26  17]\n",
      " [ 62  41]\n",
      " [122  83]]\n",
      "(AB)+(AC):\n",
      "[[ 26  17]\n",
      " [ 62  41]\n",
      " [122  83]]\n"
     ]
    }
   ],
   "source": [
    "# Distributiva\n",
    "A_Bpc = A.dot(B+C)\n",
    "AB_AC = A.dot(B)+ A.dot(C)\n",
    "print(f'A*(B+C):\\n{A_Bpc}\\n(AB)+(AC):\\n{AB_AC}')"
   ]
  },
  {
   "cell_type": "markdown",
   "metadata": {},
   "source": [
    "Se cumple la DISTRIBUTIVA "
   ]
  },
  {
   "cell_type": "code",
   "execution_count": 15,
   "metadata": {},
   "outputs": [
    {
     "name": "stdout",
     "output_type": "stream",
     "text": [
      "B*C:\n",
      "[[15  7]\n",
      " [10  4]]\n",
      "C*B:\n",
      "[[ 5 10]\n",
      " [ 8 14]]\n"
     ]
    }
   ],
   "source": [
    "# Conmutativa\n",
    "B_C = B.dot(C)\n",
    "C_B = C.dot(B)\n",
    "print(f'B*C:\\n{B_C}\\nC*B:\\n{C_B}')"
   ]
  },
  {
   "cell_type": "markdown",
   "metadata": {},
   "source": [
    "NO se cumple la CONMUTATIVA en la mayoría de los casos."
   ]
  },
  {
   "cell_type": "markdown",
   "metadata": {},
   "source": [
    "### Conmutatividad en producto interno de vectores"
   ]
  },
  {
   "cell_type": "code",
   "execution_count": 6,
   "metadata": {},
   "outputs": [],
   "source": [
    "v1 = np.array([[2],[7]])\n",
    "v2 = np.array([[3],[5]])"
   ]
  },
  {
   "cell_type": "markdown",
   "metadata": {},
   "source": [
    "Debido a las dimensiones de nuestros vectores, tendremos que hacerlas coincidir con una transposición."
   ]
  },
  {
   "cell_type": "code",
   "execution_count": 13,
   "metadata": {},
   "outputs": [
    {
     "name": "stdout",
     "output_type": "stream",
     "text": [
      "[[41]]\n"
     ]
    }
   ],
   "source": [
    "v1T_dot_v2 = v1.T.dot(v2)\n",
    "print(v1T_dot_v2)"
   ]
  },
  {
   "cell_type": "code",
   "execution_count": 15,
   "metadata": {},
   "outputs": [
    {
     "name": "stdout",
     "output_type": "stream",
     "text": [
      "[[41]]\n"
     ]
    }
   ],
   "source": [
    "v2T_dot_v1 = v2.T.dot(v1)\n",
    "print(v2T_dot_v1)"
   ]
  },
  {
   "cell_type": "markdown",
   "metadata": {},
   "source": [
    "El resto de propiedades también se cumplen para el caso de los vectores."
   ]
  },
  {
   "cell_type": "markdown",
   "metadata": {},
   "source": [
    "### Transposición del producto de matrices"
   ]
  },
  {
   "cell_type": "markdown",
   "metadata": {},
   "source": [
    "Tenemos una propiedad que nos indica lo siguiente."
   ]
  },
  {
   "cell_type": "markdown",
   "metadata": {},
   "source": [
    "$$\\begin{pmatrix}\n",
    "A \\cdot B\n",
    "\\end{pmatrix}^t = B^t \\cdot A^t $$"
   ]
  },
  {
   "cell_type": "markdown",
   "metadata": {},
   "source": [
    "y recordemos una propiedad que vimos anteriormente:"
   ]
  },
  {
   "cell_type": "markdown",
   "metadata": {},
   "source": [
    "$${{(A \\cdot B)}^{t}}^t = A \\cdot B $$"
   ]
  },
  {
   "cell_type": "markdown",
   "metadata": {},
   "source": [
    "donde indicamos la transposición de la matriz con la letra $t$."
   ]
  },
  {
   "cell_type": "markdown",
   "metadata": {},
   "source": [
    "Vamos a corroborar esa propiedad en código:"
   ]
  },
  {
   "cell_type": "code",
   "execution_count": 16,
   "metadata": {},
   "outputs": [],
   "source": [
    "import numpy as np"
   ]
  },
  {
   "cell_type": "code",
   "execution_count": 17,
   "metadata": {},
   "outputs": [],
   "source": [
    "A = np.array([[2,3], [5,7], [11,13]])\n",
    "B = np.array([[1,3], [2,1]])"
   ]
  },
  {
   "cell_type": "code",
   "execution_count": 28,
   "metadata": {},
   "outputs": [
    {
     "name": "stdout",
     "output_type": "stream",
     "text": [
      "A:\n",
      "[[ 2  3]\n",
      " [ 5  7]\n",
      " [11 13]]\n",
      "B:\n",
      "[[1 3]\n",
      " [2 1]]\n"
     ]
    }
   ],
   "source": [
    "print(f'A:\\n{A}\\nB:\\n{B}')"
   ]
  },
  {
   "cell_type": "code",
   "execution_count": 23,
   "metadata": {},
   "outputs": [
    {
     "name": "stdout",
     "output_type": "stream",
     "text": [
      "Matrices shapes \n",
      "A:(3, 2)\n",
      "B:(2, 2)\n"
     ]
    }
   ],
   "source": [
    "print(f'Matrices shapes \\nA:{A.shape}\\nB:{B.shape}')"
   ]
  },
  {
   "cell_type": "code",
   "execution_count": 26,
   "metadata": {},
   "outputs": [
    {
     "name": "stdout",
     "output_type": "stream",
     "text": [
      "A transpuesta:\n",
      "[[ 2  5 11]\n",
      " [ 3  7 13]]\n",
      "B transpuesta:\n",
      "[[1 2]\n",
      " [3 1]]\n"
     ]
    }
   ],
   "source": [
    "# Transpuestas\n",
    "A_t = A.T\n",
    "B_t = B.T\n",
    "print(f'A transpuesta:\\n{A_t}\\nB transpuesta:\\n{B_t}')"
   ]
  },
  {
   "cell_type": "code",
   "execution_count": 30,
   "metadata": {},
   "outputs": [
    {
     "name": "stdout",
     "output_type": "stream",
     "text": [
      "(AB) transpuesta:\n",
      "[[ 8 19 37]\n",
      " [ 9 22 46]]\n"
     ]
    }
   ],
   "source": [
    "AB_t = (A.dot(B)).T\n",
    "print(f'(AB) transpuesta:\\n{AB_t}')"
   ]
  },
  {
   "cell_type": "code",
   "execution_count": 33,
   "metadata": {},
   "outputs": [
    {
     "name": "stdout",
     "output_type": "stream",
     "text": [
      "B transpuesta por A transpuesta:\n",
      "[[ 8 19 37]\n",
      " [ 9 22 46]]\n"
     ]
    }
   ],
   "source": [
    "Bt_At = (B.T).dot(A.T)\n",
    "print(f'B transpuesta por A transpuesta:\\n{Bt_At}')"
   ]
  },
  {
   "cell_type": "code",
   "execution_count": 34,
   "metadata": {},
   "outputs": [
    {
     "name": "stdout",
     "output_type": "stream",
     "text": [
      "[[ True  True  True]\n",
      " [ True  True  True]]\n"
     ]
    }
   ],
   "source": [
    "print(AB_t == Bt_At)"
   ]
  },
  {
   "cell_type": "markdown",
   "metadata": {},
   "source": [
    "### Cómo comprobar la solución de un sistema de ecuaciones lineales"
   ]
  },
  {
   "cell_type": "markdown",
   "metadata": {},
   "source": [
    "Recordemos algunas nociones básicas del álgebra lineal:"
   ]
  },
  {
   "cell_type": "markdown",
   "metadata": {},
   "source": [
    "#### Combinación lineal\n",
    "\n",
    "Es el vector que se obtiene al sumar una series de vectores multiplicados por escalares.\n",
    "\n",
    "Sean $v_1,v_2,...,v_n$ vectores en un espacio vectorial $V$. Entonces, cualquier vector de la forma:"
   ]
  },
  {
   "cell_type": "markdown",
   "metadata": {},
   "source": [
    "$$\\alpha_{1}v_{1}+\\alpha_{2}v_{2}+\\dots +\\alpha_{n}v_{n}$$"
   ]
  },
  {
   "cell_type": "markdown",
   "metadata": {},
   "source": [
    "donde $\\alpha_{i} v_{i}$ son escalares, se denomina **combinación lineal** de $v_1,v_2, v_n$."
   ]
  },
  {
   "cell_type": "markdown",
   "metadata": {},
   "source": [
    "Sea la combinación lineal de las variables $x_1, x_2, ..., x_n$ dada por la expresión:"
   ]
  },
  {
   "cell_type": "markdown",
   "metadata": {},
   "source": [
    "$$a_1x_1+a_2x_2+ \\dots + a_nx_n$$"
   ]
  },
  {
   "cell_type": "markdown",
   "metadata": {},
   "source": [
    "Los números reales $a_1,\\dots,a_n \\in \\mathbb{R}$, se denominan **coeficientes de la combinación**."
   ]
  },
  {
   "cell_type": "markdown",
   "metadata": {},
   "source": [
    "#### Ecuación lineal"
   ]
  },
  {
   "cell_type": "markdown",
   "metadata": {},
   "source": [
    "Una **ecuación lineal** en las incógnitas o variables $x_1, \\dots, x_n$ es una expresión de la forma:"
   ]
  },
  {
   "cell_type": "markdown",
   "metadata": {},
   "source": [
    "$$a_1x_1+a_2x_2+ \\dots + a_nx_n = b$$"
   ]
  },
  {
   "cell_type": "markdown",
   "metadata": {},
   "source": [
    "donde $b \\in \\mathbb{R}$, se denomina **término constante**."
   ]
  },
  {
   "cell_type": "markdown",
   "metadata": {},
   "source": [
    "Una $n-$tupla $(s_1, \\dots, s_n)$es una **solución** de la ecuación lineal"
   ]
  },
  {
   "cell_type": "markdown",
   "metadata": {},
   "source": [
    "$$a_1x_1+a_2x_2+ \\dots + a_nx_n = b$$"
   ]
  },
  {
   "cell_type": "markdown",
   "metadata": {},
   "source": [
    "si, al sustituir las variables $x_1, x_2, \\dots, x_n$ por los números $s_1,\\dots,s_n$ se obtiene una identidad."
   ]
  },
  {
   "cell_type": "markdown",
   "metadata": {},
   "source": [
    "#### Sistema de ecuaciones lineales"
   ]
  },
  {
   "cell_type": "markdown",
   "metadata": {},
   "source": [
    "Un **sistema de $m$ ecuaciones lineales** y $n$ **incógnitas**"
   ]
  },
  {
   "cell_type": "markdown",
   "metadata": {},
   "source": [
    "$$\\begin{cases} \n",
    "a_{11}x_1+a_{12}x_2+ &\\dots& + a_{1n}x_n = b_{1}  \\\\\n",
    "a_{21}x_1+a_{22}x_2+ &\\dots& + a_{2n}x_n = b_{2}  \\\\\n",
    "               &\\vdots& \\\\\n",
    "a_{m1}x_1+a_{m2}x_2+ &\\dots& + a_{mn}x_n = b_{m}  \\\\\n",
    "\\end{cases}$$"
   ]
  },
  {
   "cell_type": "markdown",
   "metadata": {},
   "source": [
    "tiene **solución** $(s_1, \\dots, s_n)$ si dicha $n-$tupla es una solución **de todas** las ecuaciones del sistema."
   ]
  },
  {
   "cell_type": "markdown",
   "metadata": {},
   "source": [
    "La solución de un sistema lineal no existe necesariamente, y si lo hace, no es necesariamente única."
   ]
  },
  {
   "cell_type": "markdown",
   "metadata": {},
   "source": [
    "Si un sistema de ecuaciones tiene solución o soluciones, se denomina **sistema compatible**; en caso contrario, diremos que es un **sistema incompatible**. Y al conjunto de todas las soluciones de un sistema de ecuaciones lineales dado se denomina **conjunto de soluciones**."
   ]
  },
  {
   "cell_type": "code",
   "execution_count": 37,
   "metadata": {},
   "outputs": [],
   "source": [
    "%matplotlib inline\n",
    "import numpy as np\n",
    "import matplotlib.pyplot as plt"
   ]
  },
  {
   "cell_type": "markdown",
   "metadata": {},
   "source": [
    "Supongamos que tenemos el siguiente sistema de ecuaciones:\n",
    "\n",
    "$$\\begin{cases} \n",
    "y = 3x + 5 \\\\\n",
    "y = 2x + 3\n",
    "\\end{cases}$$"
   ]
  },
  {
   "cell_type": "markdown",
   "metadata": {},
   "source": [
    "Recordemos que para graficar una función, tendremos que evaluarla a lo largo de diferentes puntos. Por lo que queremos obtener pequeños intervalos en donde vamos a obtener nuestra función evaluada, para hacerlo hagamos un arreglo como el siguiente:"
   ]
  },
  {
   "cell_type": "code",
   "execution_count": 49,
   "metadata": {},
   "outputs": [],
   "source": [
    "x = np.arange(-5, 5) # Intervalo de -5 a 5 de 1 en 1."
   ]
  },
  {
   "cell_type": "markdown",
   "metadata": {},
   "source": [
    "Ahora, vamos a escribir las ecuaciones que tenemos:"
   ]
  },
  {
   "cell_type": "code",
   "execution_count": 50,
   "metadata": {},
   "outputs": [],
   "source": [
    "y_1 = 3*x + 5"
   ]
  },
  {
   "cell_type": "code",
   "execution_count": 55,
   "metadata": {},
   "outputs": [],
   "source": [
    "y_2 = 2*x + 3"
   ]
  },
  {
   "cell_type": "markdown",
   "metadata": {},
   "source": [
    "Vamos a graficar:"
   ]
  },
  {
   "cell_type": "code",
   "execution_count": 65,
   "metadata": {},
   "outputs": [
    {
     "data": {
      "text/plain": [
       "(-5.0, 1.0)"
      ]
     },
     "execution_count": 65,
     "metadata": {},
     "output_type": "execute_result"
    },
    {
     "data": {
      "image/png": "[encoded data removed]",
      "text/plain": [
       "<Figure size 432x288 with 1 Axes>"
      ]
     },
     "metadata": {
      "needs_background": "light"
     },
     "output_type": "display_data"
    }
   ],
   "source": [
    "plt.figure() #Crea figura\n",
    "plt.axvline(x=0, color = 'black') # Eje X\n",
    "plt.axhline(y=0, color=  'black') # Eje Y\n",
    "plt.grid() # Cuadricula\n",
    "plt.plot(x, y_1) \n",
    "plt.plot(x, y_2)\n",
    "plt.ylim(-5, 5)\n",
    "plt.xlim(-5, 1)"
   ]
  },
  {
   "cell_type": "markdown",
   "metadata": {},
   "source": [
    "Podemos visualizar que las rectas se tocan en un punto, es decir, comparten un valor posible de $x$ que nos dá el mismo valor en $y$. Esto nos dice que existe una solución del sistema, ya que es solución de ambas ecuaciones."
   ]
  },
  {
   "cell_type": "markdown",
   "metadata": {},
   "source": [
    "Entonces, podemos proceder a realizar el despeje:"
   ]
  },
  {
   "cell_type": "markdown",
   "metadata": {},
   "source": [
    "$$\\begin{aligned}\n",
    "2x + 3 &= 3x+5 \\\\\n",
    "x &= -2\n",
    "\\end{aligned}$$"
   ]
  },
  {
   "cell_type": "markdown",
   "metadata": {},
   "source": [
    "$$\\begin{aligned}\n",
    "2x + 3    &= y \\\\\n",
    "2(-2) + 3 &= y \\\\\n",
    "-1        &= y\n",
    "\\end{aligned}$$"
   ]
  },
  {
   "cell_type": "markdown",
   "metadata": {},
   "source": [
    "$$P(-2,-1)$$"
   ]
  },
  {
   "cell_type": "markdown",
   "metadata": {},
   "source": [
    "pero aquí no estamos lidiando con álgebra \"común\", así que vamos a ver como podríamos representar este sistema de forma *matricial*. Para hacerlo, vamos a \"pasar\" todas las variables de un lado de la igualdad y las constantes del otro."
   ]
  },
  {
   "cell_type": "markdown",
   "metadata": {},
   "source": [
    "$$\\begin{cases} \n",
    "y = 3x + 5 \\\\\n",
    "y = 2x + 3\n",
    "\\end{cases}$$"
   ]
  },
  {
   "cell_type": "markdown",
   "metadata": {},
   "source": [
    "$$\\begin{cases} \n",
    "-3x + y = 5 \\\\\n",
    "-2x + y = 3\n",
    "\\end{cases}$$"
   ]
  },
  {
   "cell_type": "markdown",
   "metadata": {},
   "source": [
    "Ahora, vamos a \"extraer\" los coeficientes de nuestro sistema, de manera que tengamos una matriz (con los coeficientes) y un vector (con las variables). De forma que el sistema, se describa mediante el **producto interno** de una matriz y un vector."
   ]
  },
  {
   "cell_type": "markdown",
   "metadata": {},
   "source": [
    "$$\\begin{bmatrix}\n",
    "-3 & 1\\\\\n",
    "-2 & 1\n",
    "\\end{bmatrix} \n",
    "\\begin{bmatrix}\n",
    "x \\\\\n",
    "y \n",
    "\\end{bmatrix}\n",
    "=\n",
    "\\begin{bmatrix}\n",
    "5 \\\\\n",
    "3 \n",
    "\\end{bmatrix}\n",
    "$$"
   ]
  },
  {
   "cell_type": "markdown",
   "metadata": {},
   "source": [
    "Así que, ahora escribamos nuestro sistema en forma matricial a código:"
   ]
  },
  {
   "cell_type": "code",
   "execution_count": 73,
   "metadata": {},
   "outputs": [],
   "source": [
    "A = np.array([[-3, 1],\n",
    "              [-2, 1]])\n",
    "res_vec = np.array([[5],\n",
    "                    [3]])"
   ]
  },
  {
   "cell_type": "code",
   "execution_count": 74,
   "metadata": {},
   "outputs": [
    {
     "name": "stdout",
     "output_type": "stream",
     "text": [
      "[[5]\n",
      " [3]]\n"
     ]
    }
   ],
   "source": [
    "print(res_vec)"
   ]
  },
  {
   "cell_type": "markdown",
   "metadata": {},
   "source": [
    "vamos a comprobar la solución que obtuvimos arriba:"
   ]
  },
  {
   "cell_type": "code",
   "execution_count": 77,
   "metadata": {},
   "outputs": [],
   "source": [
    "sol_1 = np.array([[-2],[-1]])"
   ]
  },
  {
   "cell_type": "code",
   "execution_count": 78,
   "metadata": {},
   "outputs": [
    {
     "name": "stdout",
     "output_type": "stream",
     "text": [
      "[[5]\n",
      " [3]]\n"
     ]
    }
   ],
   "source": [
    "res = A.dot(sol_1)\n",
    "print(res)"
   ]
  },
  {
   "cell_type": "markdown",
   "metadata": {},
   "source": [
    "Si quisieramos encontrar la solución utilizando Python, haríamos lo siguiente:"
   ]
  },
  {
   "cell_type": "code",
   "execution_count": 82,
   "metadata": {},
   "outputs": [
    {
     "name": "stdout",
     "output_type": "stream",
     "text": [
      "[[-2.]\n",
      " [-1.]]\n"
     ]
    }
   ],
   "source": [
    "x = np.linalg.solve(A, res_vec)\n",
    "print(x)"
   ]
  },
  {
   "cell_type": "markdown",
   "metadata": {},
   "source": [
    "usamos el método `.solve()` y le pasamos la matrix coeficiente y despues los valores independientes."
   ]
  },
  {
   "cell_type": "code",
   "execution_count": 84,
   "metadata": {},
   "outputs": [
    {
     "name": "stdout",
     "output_type": "stream",
     "text": [
      "[[-2.]\n",
      " [-1.]]\n"
     ]
    }
   ],
   "source": [
    "import numpy as np\n",
    "\n",
    "A = np.array([[-3, 1],\n",
    "              [-2, 1]])\n",
    "\n",
    "res_vec = np.array([[5],\n",
    "                    [3]])\n",
    "\n",
    "x = np.linalg.solve(A, res_vec)\n",
    "print(x)"
   ]
  },
  {
   "cell_type": "markdown",
   "metadata": {},
   "source": [
    "### Tipos especiales de matrices: Identidad, Inversa y Singular"
   ]
  },
  {
   "cell_type": "markdown",
   "metadata": {},
   "source": [
    "#### Matriz Identidad"
   ]
  },
  {
   "cell_type": "markdown",
   "metadata": {},
   "source": [
    "La **matriz identidad** es una matriz que cumple la propiedad de ser el elemento neutro del producto de matrices. Esto quiere decir que el producto de cualquier matriz por la matriz identidad (mientras esté definido) no tiene ningún efecto y nos devuelve la matriz original. La columna $i-$ésima de una matriz identidad es el **vector unitario** $e_i$ de una base vectorial inmersa en un espacio Euclídeo de dimensión $n$."
   ]
  },
  {
   "cell_type": "code",
   "execution_count": 85,
   "metadata": {},
   "outputs": [],
   "source": [
    "import numpy as np"
   ]
  },
  {
   "cell_type": "markdown",
   "metadata": {},
   "source": [
    "En NumPy basta con escribir la instrucción `.eye()` e indicarle las dimensiones que queremos que tenga nuestra matriz identidad o los cuántos elementos tendrá la diagonal."
   ]
  },
  {
   "cell_type": "code",
   "execution_count": 90,
   "metadata": {},
   "outputs": [
    {
     "name": "stdout",
     "output_type": "stream",
     "text": [
      "[[1. 0.]\n",
      " [0. 1.]]\n"
     ]
    }
   ],
   "source": [
    "identity = np.eye(2)\n",
    "print(identity)"
   ]
  },
  {
   "cell_type": "code",
   "execution_count": 96,
   "metadata": {},
   "outputs": [
    {
     "name": "stdout",
     "output_type": "stream",
     "text": [
      "[[1. 0. 0. 0.]\n",
      " [0. 1. 0. 0.]\n",
      " [0. 0. 1. 0.]\n",
      " [0. 0. 0. 1.]]\n"
     ]
    }
   ],
   "source": [
    "identity = np.eye(4)\n",
    "print(identity)"
   ]
  },
  {
   "cell_type": "markdown",
   "metadata": {},
   "source": [
    "notemos que todos los elementos están definidos como `floats`."
   ]
  },
  {
   "cell_type": "markdown",
   "metadata": {},
   "source": [
    "Vamos a verificar cuál es el efecto de esta matriz:"
   ]
  },
  {
   "cell_type": "code",
   "execution_count": 97,
   "metadata": {},
   "outputs": [],
   "source": [
    "identity = np.eye(3)\n",
    "\n",
    "vector = np.array([[1],\n",
    "                   [2],\n",
    "                   [3]])"
   ]
  },
  {
   "cell_type": "code",
   "execution_count": 101,
   "metadata": {},
   "outputs": [
    {
     "name": "stdout",
     "output_type": "stream",
     "text": [
      "[[1.]\n",
      " [2.]\n",
      " [3.]]\n"
     ]
    }
   ],
   "source": [
    "product = identity.dot(vector)\n",
    "print(product)"
   ]
  },
  {
   "cell_type": "code",
   "execution_count": 104,
   "metadata": {},
   "outputs": [],
   "source": [
    "identity = np.eye(4)\n",
    "\n",
    "matrix = np.array([[1,2,3,4],\n",
    "                   [5,6,7,8],\n",
    "                   [9,10,11,12],\n",
    "                   [13,14,15,16]])"
   ]
  },
  {
   "cell_type": "code",
   "execution_count": 105,
   "metadata": {},
   "outputs": [
    {
     "name": "stdout",
     "output_type": "stream",
     "text": [
      "[[ 1.  2.  3.  4.]\n",
      " [ 5.  6.  7.  8.]\n",
      " [ 9. 10. 11. 12.]\n",
      " [13. 14. 15. 16.]]\n"
     ]
    }
   ],
   "source": [
    "product2 = identity.dot(matrix)\n",
    "print(product2)"
   ]
  },
  {
   "cell_type": "markdown",
   "metadata": {},
   "source": [
    "Decimos que la **matriz identidad** no transforma el espacio."
   ]
  },
  {
   "cell_type": "markdown",
   "metadata": {},
   "source": [
    "#### Matriz Inversa"
   ]
  },
  {
   "cell_type": "markdown",
   "metadata": {},
   "source": [
    "La **matriz inversa** es la transformación lineal de una matriz mediante la multiplicación del inverso del determinante de la matriz por la matriz adjunta transpuesta. Es decir, es la multiplicación del *inverso del determinante* por la matriz adjunta traspuesta."
   ]
  },
  {
   "cell_type": "markdown",
   "metadata": {},
   "source": [
    "Y se cumple que el producto de una matriz por su inversa, es igual a la matriz identidad."
   ]
  },
  {
   "cell_type": "markdown",
   "metadata": {},
   "source": [
    "$$A \\cdot A^{-1} =  A^{-1} \\cdot A =I $$"
   ]
  },
  {
   "cell_type": "markdown",
   "metadata": {},
   "source": [
    "La matriz inversa se puede calcular por el **método de Gauss** o por el **método de determinantes**. Para hacerlo en Python tenemos la instrucción `.linalg.inv()`."
   ]
  },
  {
   "cell_type": "code",
   "execution_count": 108,
   "metadata": {},
   "outputs": [
    {
     "name": "stdout",
     "output_type": "stream",
     "text": [
      "[[ 1  0  1]\n",
      " [ 0  1  1]\n",
      " [-1  1  1]]\n"
     ]
    }
   ],
   "source": [
    "A = np.array([[1,0,1],[0,1,1],[-1,1,1]])\n",
    "print(A)"
   ]
  },
  {
   "cell_type": "code",
   "execution_count": 110,
   "metadata": {},
   "outputs": [
    {
     "name": "stdout",
     "output_type": "stream",
     "text": [
      "[[ 0.  1. -1.]\n",
      " [-1.  2. -1.]\n",
      " [ 1. -1.  1.]]\n"
     ]
    }
   ],
   "source": [
    "A_inverse = np.linalg.inv(A)\n",
    "print(A_inverse)"
   ]
  },
  {
   "cell_type": "markdown",
   "metadata": {},
   "source": [
    "Verifiquemos que obtendríamos la matriz identidad al realizar el producto interno de estas matrices:"
   ]
  },
  {
   "cell_type": "code",
   "execution_count": 112,
   "metadata": {},
   "outputs": [
    {
     "name": "stdout",
     "output_type": "stream",
     "text": [
      "[[1. 0. 0.]\n",
      " [0. 1. 0.]\n",
      " [0. 0. 1.]]\n"
     ]
    }
   ],
   "source": [
    "ident = A.dot(A_inverse)\n",
    "print(ident)"
   ]
  },
  {
   "cell_type": "code",
   "execution_count": 113,
   "metadata": {},
   "outputs": [
    {
     "name": "stdout",
     "output_type": "stream",
     "text": [
      "[[1. 0. 0.]\n",
      " [0. 1. 0.]\n",
      " [0. 0. 1.]]\n"
     ]
    }
   ],
   "source": [
    "ident2 = A_inverse.dot(A)\n",
    "print(ident2)"
   ]
  },
  {
   "cell_type": "markdown",
   "metadata": {},
   "source": [
    "#### Matriz Singular"
   ]
  },
  {
   "cell_type": "markdown",
   "metadata": {},
   "source": [
    "Recordemos que no siempre existe esta matriz inversa. **Cuando la matriz NO tiene inversa, la llamamos singular**. La definimos de la siguiente forma."
   ]
  },
  {
   "cell_type": "markdown",
   "metadata": {},
   "source": [
    "La **matriz singular** es la *matriz cuadrada* de orden $N$, cuyo **determinante es nulo** $(=0)$."
   ]
  },
  {
   "cell_type": "markdown",
   "metadata": {},
   "source": [
    "La siguiente matriz sería un caso de matriz singular:"
   ]
  },
  {
   "cell_type": "code",
   "execution_count": 115,
   "metadata": {},
   "outputs": [
    {
     "name": "stdout",
     "output_type": "stream",
     "text": [
      "[[1 1]\n",
      " [1 1]]\n"
     ]
    }
   ],
   "source": [
    "singular = np.array([[1,1],[1,1]])\n",
    "print(singular)"
   ]
  },
  {
   "cell_type": "code",
   "execution_count": 116,
   "metadata": {},
   "outputs": [
    {
     "ename": "LinAlgError",
     "evalue": "Singular matrix",
     "output_type": "error",
     "traceback": [
      "\u001b[1;31m---------------------------------------------------------------------------\u001b[0m",
      "\u001b[1;31mLinAlgError\u001b[0m                               Traceback (most recent call last)",
      "\u001b[1;32m<ipython-input-116-2285bd57e24f>\u001b[0m in \u001b[0;36m<module>\u001b[1;34m\u001b[0m\n\u001b[1;32m----> 1\u001b[1;33m \u001b[0mnp\u001b[0m\u001b[1;33m.\u001b[0m\u001b[0mlinalg\u001b[0m\u001b[1;33m.\u001b[0m\u001b[0minv\u001b[0m\u001b[1;33m(\u001b[0m\u001b[0msingular\u001b[0m\u001b[1;33m)\u001b[0m\u001b[1;33m\u001b[0m\u001b[1;33m\u001b[0m\u001b[0m\n\u001b[0m",
      "\u001b[1;32m<__array_function__ internals>\u001b[0m in \u001b[0;36minv\u001b[1;34m(*args, **kwargs)\u001b[0m\n",
      "\u001b[1;32m~\\anaconda3\\lib\\site-packages\\numpy\\linalg\\linalg.py\u001b[0m in \u001b[0;36minv\u001b[1;34m(a)\u001b[0m\n\u001b[0;32m    543\u001b[0m     \u001b[0msignature\u001b[0m \u001b[1;33m=\u001b[0m \u001b[1;34m'D->D'\u001b[0m \u001b[1;32mif\u001b[0m \u001b[0misComplexType\u001b[0m\u001b[1;33m(\u001b[0m\u001b[0mt\u001b[0m\u001b[1;33m)\u001b[0m \u001b[1;32melse\u001b[0m \u001b[1;34m'd->d'\u001b[0m\u001b[1;33m\u001b[0m\u001b[1;33m\u001b[0m\u001b[0m\n\u001b[0;32m    544\u001b[0m     \u001b[0mextobj\u001b[0m \u001b[1;33m=\u001b[0m \u001b[0mget_linalg_error_extobj\u001b[0m\u001b[1;33m(\u001b[0m\u001b[0m_raise_linalgerror_singular\u001b[0m\u001b[1;33m)\u001b[0m\u001b[1;33m\u001b[0m\u001b[1;33m\u001b[0m\u001b[0m\n\u001b[1;32m--> 545\u001b[1;33m     \u001b[0mainv\u001b[0m \u001b[1;33m=\u001b[0m \u001b[0m_umath_linalg\u001b[0m\u001b[1;33m.\u001b[0m\u001b[0minv\u001b[0m\u001b[1;33m(\u001b[0m\u001b[0ma\u001b[0m\u001b[1;33m,\u001b[0m \u001b[0msignature\u001b[0m\u001b[1;33m=\u001b[0m\u001b[0msignature\u001b[0m\u001b[1;33m,\u001b[0m \u001b[0mextobj\u001b[0m\u001b[1;33m=\u001b[0m\u001b[0mextobj\u001b[0m\u001b[1;33m)\u001b[0m\u001b[1;33m\u001b[0m\u001b[1;33m\u001b[0m\u001b[0m\n\u001b[0m\u001b[0;32m    546\u001b[0m     \u001b[1;32mreturn\u001b[0m \u001b[0mwrap\u001b[0m\u001b[1;33m(\u001b[0m\u001b[0mainv\u001b[0m\u001b[1;33m.\u001b[0m\u001b[0mastype\u001b[0m\u001b[1;33m(\u001b[0m\u001b[0mresult_t\u001b[0m\u001b[1;33m,\u001b[0m \u001b[0mcopy\u001b[0m\u001b[1;33m=\u001b[0m\u001b[1;32mFalse\u001b[0m\u001b[1;33m)\u001b[0m\u001b[1;33m)\u001b[0m\u001b[1;33m\u001b[0m\u001b[1;33m\u001b[0m\u001b[0m\n\u001b[0;32m    547\u001b[0m \u001b[1;33m\u001b[0m\u001b[0m\n",
      "\u001b[1;32m~\\anaconda3\\lib\\site-packages\\numpy\\linalg\\linalg.py\u001b[0m in \u001b[0;36m_raise_linalgerror_singular\u001b[1;34m(err, flag)\u001b[0m\n\u001b[0;32m     86\u001b[0m \u001b[1;33m\u001b[0m\u001b[0m\n\u001b[0;32m     87\u001b[0m \u001b[1;32mdef\u001b[0m \u001b[0m_raise_linalgerror_singular\u001b[0m\u001b[1;33m(\u001b[0m\u001b[0merr\u001b[0m\u001b[1;33m,\u001b[0m \u001b[0mflag\u001b[0m\u001b[1;33m)\u001b[0m\u001b[1;33m:\u001b[0m\u001b[1;33m\u001b[0m\u001b[1;33m\u001b[0m\u001b[0m\n\u001b[1;32m---> 88\u001b[1;33m     \u001b[1;32mraise\u001b[0m \u001b[0mLinAlgError\u001b[0m\u001b[1;33m(\u001b[0m\u001b[1;34m\"Singular matrix\"\u001b[0m\u001b[1;33m)\u001b[0m\u001b[1;33m\u001b[0m\u001b[1;33m\u001b[0m\u001b[0m\n\u001b[0m\u001b[0;32m     89\u001b[0m \u001b[1;33m\u001b[0m\u001b[0m\n\u001b[0;32m     90\u001b[0m \u001b[1;32mdef\u001b[0m \u001b[0m_raise_linalgerror_nonposdef\u001b[0m\u001b[1;33m(\u001b[0m\u001b[0merr\u001b[0m\u001b[1;33m,\u001b[0m \u001b[0mflag\u001b[0m\u001b[1;33m)\u001b[0m\u001b[1;33m:\u001b[0m\u001b[1;33m\u001b[0m\u001b[1;33m\u001b[0m\u001b[0m\n",
      "\u001b[1;31mLinAlgError\u001b[0m: Singular matrix"
     ]
    }
   ],
   "source": [
    "np.linalg.inv(singular)"
   ]
  },
  {
   "cell_type": "markdown",
   "metadata": {},
   "source": [
    "Vemos que nos arroja el error `LinAlgError: Singular matrix`."
   ]
  },
  {
   "cell_type": "markdown",
   "metadata": {},
   "source": [
    "> NOTA: No podríamos intentar esto con matrices que no sean cuadradas $(m \\times m)$."
   ]
  },
  {
   "cell_type": "markdown",
   "metadata": {},
   "source": [
    "---"
   ]
  },
  {
   "cell_type": "markdown",
   "metadata": {},
   "source": [
    "### Utilizando la Inversa de una matriz para resolver un sistema de ecuaciones"
   ]
  },
  {
   "cell_type": "markdown",
   "metadata": {},
   "source": [
    "Supongamos que tenemos el siguiente sistema:"
   ]
  },
  {
   "cell_type": "markdown",
   "metadata": {},
   "source": [
    "$$\\begin{cases} \n",
    "3x + y = 1 \\\\\n",
    "2x + y = 1\n",
    "\\end{cases}$$"
   ]
  },
  {
   "cell_type": "markdown",
   "metadata": {},
   "source": [
    "y en forma matricial:"
   ]
  },
  {
   "cell_type": "markdown",
   "metadata": {},
   "source": [
    "$$\\begin{bmatrix}\n",
    "3 & 1\\\\\n",
    "2 & 1\n",
    "\\end{bmatrix} \n",
    "\\begin{bmatrix}\n",
    "x \\\\\n",
    "y \n",
    "\\end{bmatrix}\n",
    "=\n",
    "\\begin{bmatrix}\n",
    "1 \\\\\n",
    "1 \n",
    "\\end{bmatrix}\n",
    "$$"
   ]
  },
  {
   "cell_type": "code",
   "execution_count": 1,
   "metadata": {},
   "outputs": [],
   "source": [
    "import numpy as np"
   ]
  },
  {
   "cell_type": "markdown",
   "metadata": {},
   "source": [
    "Podemos pedirle a NumPy que nos muestre los resultados que están muy proximos a 0, como si fueran 0."
   ]
  },
  {
   "cell_type": "code",
   "execution_count": 2,
   "metadata": {},
   "outputs": [],
   "source": [
    "np.set_printoptions(suppress = True)"
   ]
  },
  {
   "cell_type": "code",
   "execution_count": 3,
   "metadata": {},
   "outputs": [
    {
     "name": "stdout",
     "output_type": "stream",
     "text": [
      "[[3 1]\n",
      " [2 1]]\n"
     ]
    }
   ],
   "source": [
    "A = np.array([[3,1],\n",
    "              [2,1]])\n",
    "print(A)"
   ]
  },
  {
   "cell_type": "code",
   "execution_count": 4,
   "metadata": {},
   "outputs": [
    {
     "name": "stdout",
     "output_type": "stream",
     "text": [
      "[[1]\n",
      " [1]]\n"
     ]
    }
   ],
   "source": [
    "b = np.array([[1],\n",
    "              [1]])\n",
    "print(b)"
   ]
  },
  {
   "cell_type": "markdown",
   "metadata": {},
   "source": [
    "Lo que tendríamos que hacer para \"despejar\" a $A$  sería encontrar la inversa de la misma."
   ]
  },
  {
   "cell_type": "code",
   "execution_count": 5,
   "metadata": {},
   "outputs": [
    {
     "name": "stdout",
     "output_type": "stream",
     "text": [
      "[[ 1. -1.]\n",
      " [-2.  3.]]\n"
     ]
    }
   ],
   "source": [
    "A_inv = np.linalg.inv(A)\n",
    "print(A_inv)"
   ]
  },
  {
   "cell_type": "markdown",
   "metadata": {},
   "source": [
    "Ahora, vamos a calcular nuestro $x$ (el vector de variables)."
   ]
  },
  {
   "cell_type": "code",
   "execution_count": 6,
   "metadata": {},
   "outputs": [
    {
     "name": "stdout",
     "output_type": "stream",
     "text": [
      "[[0.]\n",
      " [1.]]\n"
     ]
    }
   ],
   "source": [
    "x = A_inv.dot(b)\n",
    "print(x)"
   ]
  },
  {
   "cell_type": "markdown",
   "metadata": {},
   "source": [
    "Vamor a verificarlo:"
   ]
  },
  {
   "cell_type": "code",
   "execution_count": 7,
   "metadata": {},
   "outputs": [
    {
     "name": "stdout",
     "output_type": "stream",
     "text": [
      "[[1.]\n",
      " [1.]]\n"
     ]
    }
   ],
   "source": [
    "A_dot_x = A.dot(x)\n",
    "print(A_dot_x)"
   ]
  },
  {
   "cell_type": "markdown",
   "metadata": {},
   "source": [
    "Y como vemos, sí obtenemos el vector `[1 1]`."
   ]
  },
  {
   "cell_type": "markdown",
   "metadata": {},
   "source": [
    "De hecho, podríamos utilizar la misma matriz inversa de $A$ para encontrar otro sistema con la misma matriz de coeficientes, pero que esté igualada a otra matriz $b$ diferente.\n",
    "\n",
    "Por ejemplo, probemos con el sistema:"
   ]
  },
  {
   "cell_type": "markdown",
   "metadata": {},
   "source": [
    "$$\\begin{cases} \n",
    "3x + y = 3 \\\\\n",
    "2x + y = 7\n",
    "\\end{cases}$$"
   ]
  },
  {
   "cell_type": "markdown",
   "metadata": {},
   "source": [
    "$$\\begin{bmatrix}\n",
    "3 & 1\\\\\n",
    "2 & 1\n",
    "\\end{bmatrix} \n",
    "\\begin{bmatrix}\n",
    "x \\\\\n",
    "y \n",
    "\\end{bmatrix}\n",
    "=\n",
    "\\begin{bmatrix}\n",
    "3 \\\\\n",
    "7 \n",
    "\\end{bmatrix}\n",
    "$$"
   ]
  },
  {
   "cell_type": "markdown",
   "metadata": {},
   "source": [
    "utilizando la misma inversa:"
   ]
  },
  {
   "cell_type": "code",
   "execution_count": 8,
   "metadata": {},
   "outputs": [
    {
     "name": "stdout",
     "output_type": "stream",
     "text": [
      "[[-4.]\n",
      " [15.]]\n"
     ]
    }
   ],
   "source": [
    "sol_2 = A_inv.dot(np.array([[3],[7]]))\n",
    "print(sol_2)"
   ]
  },
  {
   "cell_type": "markdown",
   "metadata": {},
   "source": [
    "vamos a verificar si es una solución:"
   ]
  },
  {
   "cell_type": "code",
   "execution_count": 9,
   "metadata": {},
   "outputs": [
    {
     "name": "stdout",
     "output_type": "stream",
     "text": [
      "[[3.]\n",
      " [7.]]\n"
     ]
    }
   ],
   "source": [
    "print(A.dot(sol_2))"
   ]
  },
  {
   "cell_type": "markdown",
   "metadata": {},
   "source": [
    "Como vemos, calculando la inversa podemos calcular la solución de otro sistema de ecuaciones igualado a matrices $b$ distintas. Esto es lo que habitualmente hacemos al resolver un **sistema de ecuaciones homógeneo** y después, calculamos una **solución particular**."
   ]
  },
  {
   "cell_type": "markdown",
   "metadata": {},
   "source": [
    "---"
   ]
  },
  {
   "cell_type": "markdown",
   "metadata": {},
   "source": [
    "## Sistemas de ecuaciones lineales"
   ]
  },
  {
   "cell_type": "markdown",
   "metadata": {},
   "source": [
    "### Ejemplos de sistemas sin solución, con una solución y con infinitas soluciones"
   ]
  },
  {
   "cell_type": "markdown",
   "metadata": {},
   "source": [
    "Un sistema es:\n",
    "\n",
    "\n",
    "* **COMPATIBLE** si tiene alguna tupla solución (colección finita y ordenada de elementos, $(a_1,\\dots,a_n)$ en un cuerpo $k$)\n",
    "\n",
    "    * **COMPATIBLE DETERMINADO** si tiene una *única* tupla solución.\n",
    "\n",
    "    * **COMPATIBLE INDETERMINADO** si tiene *más de una* tupla solución\n",
    "\n",
    "* **INCOMPATIBLE** si no tiene ninguna tupla o vector solución."
   ]
  },
  {
   "cell_type": "code",
   "execution_count": 12,
   "metadata": {},
   "outputs": [],
   "source": [
    "#Queremos los graficos de forma interctiva debajo de cada celda\n",
    "%matplotlib notebook \n",
    "\n",
    "import numpy as np\n",
    "import matplotlib.pyplot as plt"
   ]
  },
  {
   "cell_type": "markdown",
   "metadata": {},
   "source": [
    "#### Sistema Incompatible (sin soluciones)"
   ]
  },
  {
   "cell_type": "markdown",
   "metadata": {},
   "source": [
    "Supongamos que tenemos el siguiente sistema de ecuaciones:"
   ]
  },
  {
   "cell_type": "markdown",
   "metadata": {},
   "source": [
    "$$\\begin{cases} \n",
    "y = 3x  + 5 \\\\\n",
    "y = -1x + 3 \\\\\n",
    "y = 2x  + 1\n",
    "\\end{cases}$$"
   ]
  },
  {
   "cell_type": "markdown",
   "metadata": {},
   "source": [
    "Vamos a crear el rango de valores de $x$ para evaluar las ecuaciones:"
   ]
  },
  {
   "cell_type": "code",
   "execution_count": 22,
   "metadata": {},
   "outputs": [],
   "source": [
    "x = np.arange(-10,10)"
   ]
  },
  {
   "cell_type": "markdown",
   "metadata": {},
   "source": [
    "Escribimos las ecuaciones:"
   ]
  },
  {
   "cell_type": "code",
   "execution_count": 23,
   "metadata": {},
   "outputs": [],
   "source": [
    "y_1 = 3*x + 5"
   ]
  },
  {
   "cell_type": "code",
   "execution_count": 24,
   "metadata": {},
   "outputs": [],
   "source": [
    "y_2 = -x + 3"
   ]
  },
  {
   "cell_type": "code",
   "execution_count": 25,
   "metadata": {},
   "outputs": [],
   "source": [
    "y_3 = 2*x + 1 "
   ]
  },
  {
   "cell_type": "markdown",
   "metadata": {},
   "source": [
    "para cada una generemos la figura:"
   ]
  },
  {
   "cell_type": "code",
   "execution_count": 26,
   "metadata": {},
   "outputs": [
    {
     "data": {
      "application/javascript": [
       "/* Put everything inside the global mpl namespace */\n",
       "/* global mpl */\n",
       "window.mpl = {};\n",
       "\n",
       "mpl.get_websocket_type = function () {\n",
       "    if (typeof WebSocket !== 'undefined') {\n",
       "        return WebSocket;\n",
       "    } else if (typeof MozWebSocket !== 'undefined') {\n",
       "        return MozWebSocket;\n",
       "    } else {\n",
       "        alert(\n",
       "            'Your browser does not have WebSocket support. ' +\n",
       "                'Please try Chrome, Safari or Firefox ≥ 6. ' +\n",
       "                'Firefox 4 and 5 are also supported but you ' +\n",
       "                'have to enable WebSockets in about:config.'\n",
       "        );\n",
       "    }\n",
       "};\n",
       "\n",
       "mpl.figure = function (figure_id, websocket, ondownload, parent_element) {\n",
       "    this.id = figure_id;\n",
       "\n",
       "    this.ws = websocket;\n",
       "\n",
       "    this.supports_binary = this.ws.binaryType !== undefined;\n",
       "\n",
       "    if (!this.supports_binary) {\n",
       "        var warnings = document.getElementById('mpl-warnings');\n",
       "        if (warnings) {\n",
       "            warnings.style.display = 'block';\n",
       "            warnings.textContent =\n",
       "                'This browser does not support binary websocket messages. ' +\n",
       "                'Performance may be slow.';\n",
       "        }\n",
       "    }\n",
       "\n",
       "    this.imageObj = new Image();\n",
       "\n",
       "    this.context = undefined;\n",
       "    this.message = undefined;\n",
       "    this.canvas = undefined;\n",
       "    this.rubberband_canvas = undefined;\n",
       "    this.rubberband_context = undefined;\n",
       "    this.format_dropdown = undefined;\n",
       "\n",
       "    this.image_mode = 'full';\n",
       "\n",
       "    this.root = document.createElement('div');\n",
       "    this.root.setAttribute('style', 'display: inline-block');\n",
       "    this._root_extra_style(this.root);\n",
       "\n",
       "    parent_element.appendChild(this.root);\n",
       "\n",
       "    this._init_header(this);\n",
       "    this._init_canvas(this);\n",
       "    this._init_toolbar(this);\n",
       "\n",
       "    var fig = this;\n",
       "\n",
       "    this.waiting = false;\n",
       "\n",
       "    this.ws.onopen = function () {\n",
       "        fig.send_message('supports_binary', { value: fig.supports_binary });\n",
       "        fig.send_message('send_image_mode', {});\n",
       "        if (fig.ratio !== 1) {\n",
       "            fig.send_message('set_dpi_ratio', { dpi_ratio: fig.ratio });\n",
       "        }\n",
       "        fig.send_message('refresh', {});\n",
       "    };\n",
       "\n",
       "    this.imageObj.onload = function () {\n",
       "        if (fig.image_mode === 'full') {\n",
       "            // Full images could contain transparency (where diff images\n",
       "            // almost always do), so we need to clear the canvas so that\n",
       "            // there is no ghosting.\n",
       "            fig.context.clearRect(0, 0, fig.canvas.width, fig.canvas.height);\n",
       "        }\n",
       "        fig.context.drawImage(fig.imageObj, 0, 0);\n",
       "    };\n",
       "\n",
       "    this.imageObj.onunload = function () {\n",
       "        fig.ws.close();\n",
       "    };\n",
       "\n",
       "    this.ws.onmessage = this._make_on_message_function(this);\n",
       "\n",
       "    this.ondownload = ondownload;\n",
       "};\n",
       "\n",
       "mpl.figure.prototype._init_header = function () {\n",
       "    var titlebar = document.createElement('div');\n",
       "    titlebar.classList =\n",
       "        'ui-dialog-titlebar ui-widget-header ui-corner-all ui-helper-clearfix';\n",
       "    var titletext = document.createElement('div');\n",
       "    titletext.classList = 'ui-dialog-title';\n",
       "    titletext.setAttribute(\n",
       "        'style',\n",
       "        'width: 100%; text-align: center; padding: 3px;'\n",
       "    );\n",
       "    titlebar.appendChild(titletext);\n",
       "    this.root.appendChild(titlebar);\n",
       "    this.header = titletext;\n",
       "};\n",
       "\n",
       "mpl.figure.prototype._canvas_extra_style = function (_canvas_div) {};\n",
       "\n",
       "mpl.figure.prototype._root_extra_style = function (_canvas_div) {};\n",
       "\n",
       "mpl.figure.prototype._init_canvas = function () {\n",
       "    var fig = this;\n",
       "\n",
       "    var canvas_div = (this.canvas_div = document.createElement('div'));\n",
       "    canvas_div.setAttribute(\n",
       "        'style',\n",
       "        'border: 1px solid #ddd;' +\n",
       "            'box-sizing: content-box;' +\n",
       "            'clear: both;' +\n",
       "            'min-height: 1px;' +\n",
       "            'min-width: 1px;' +\n",
       "            'outline: 0;' +\n",
       "            'overflow: hidden;' +\n",
       "            'position: relative;' +\n",
       "            'resize: both;'\n",
       "    );\n",
       "\n",
       "    function on_keyboard_event_closure(name) {\n",
       "        return function (event) {\n",
       "            return fig.key_event(event, name);\n",
       "        };\n",
       "    }\n",
       "\n",
       "    canvas_div.addEventListener(\n",
       "        'keydown',\n",
       "        on_keyboard_event_closure('key_press')\n",
       "    );\n",
       "    canvas_div.addEventListener(\n",
       "        'keyup',\n",
       "        on_keyboard_event_closure('key_release')\n",
       "    );\n",
       "\n",
       "    this._canvas_extra_style(canvas_div);\n",
       "    this.root.appendChild(canvas_div);\n",
       "\n",
       "    var canvas = (this.canvas = document.createElement('canvas'));\n",
       "    canvas.classList.add('mpl-canvas');\n",
       "    canvas.setAttribute('style', 'box-sizing: content-box;');\n",
       "\n",
       "    this.context = canvas.getContext('2d');\n",
       "\n",
       "    var backingStore =\n",
       "        this.context.backingStorePixelRatio ||\n",
       "        this.context.webkitBackingStorePixelRatio ||\n",
       "        this.context.mozBackingStorePixelRatio ||\n",
       "        this.context.msBackingStorePixelRatio ||\n",
       "        this.context.oBackingStorePixelRatio ||\n",
       "        this.context.backingStorePixelRatio ||\n",
       "        1;\n",
       "\n",
       "    this.ratio = (window.devicePixelRatio || 1) / backingStore;\n",
       "\n",
       "    var rubberband_canvas = (this.rubberband_canvas = document.createElement(\n",
       "        'canvas'\n",
       "    ));\n",
       "    rubberband_canvas.setAttribute(\n",
       "        'style',\n",
       "        'box-sizing: content-box; position: absolute; left: 0; top: 0; z-index: 1;'\n",
       "    );\n",
       "\n",
       "    // Apply a ponyfill if ResizeObserver is not implemented by browser.\n",
       "    if (this.ResizeObserver === undefined) {\n",
       "        if (window.ResizeObserver !== undefined) {\n",
       "            this.ResizeObserver = window.ResizeObserver;\n",
       "        } else {\n",
       "            var obs = _JSXTOOLS_RESIZE_OBSERVER({});\n",
       "            this.ResizeObserver = obs.ResizeObserver;\n",
       "        }\n",
       "    }\n",
       "\n",
       "    this.resizeObserverInstance = new this.ResizeObserver(function (entries) {\n",
       "        var nentries = entries.length;\n",
       "        for (var i = 0; i < nentries; i++) {\n",
       "            var entry = entries[i];\n",
       "            var width, height;\n",
       "            if (entry.contentBoxSize) {\n",
       "                if (entry.contentBoxSize instanceof Array) {\n",
       "                    // Chrome 84 implements new version of spec.\n",
       "                    width = entry.contentBoxSize[0].inlineSize;\n",
       "                    height = entry.contentBoxSize[0].blockSize;\n",
       "                } else {\n",
       "                    // Firefox implements old version of spec.\n",
       "                    width = entry.contentBoxSize.inlineSize;\n",
       "                    height = entry.contentBoxSize.blockSize;\n",
       "                }\n",
       "            } else {\n",
       "                // Chrome <84 implements even older version of spec.\n",
       "                width = entry.contentRect.width;\n",
       "                height = entry.contentRect.height;\n",
       "            }\n",
       "\n",
       "            // Keep the size of the canvas and rubber band canvas in sync with\n",
       "            // the canvas container.\n",
       "            if (entry.devicePixelContentBoxSize) {\n",
       "                // Chrome 84 implements new version of spec.\n",
       "                canvas.setAttribute(\n",
       "                    'width',\n",
       "                    entry.devicePixelContentBoxSize[0].inlineSize\n",
       "                );\n",
       "                canvas.setAttribute(\n",
       "                    'height',\n",
       "                    entry.devicePixelContentBoxSize[0].blockSize\n",
       "                );\n",
       "            } else {\n",
       "                canvas.setAttribute('width', width * fig.ratio);\n",
       "                canvas.setAttribute('height', height * fig.ratio);\n",
       "            }\n",
       "            canvas.setAttribute(\n",
       "                'style',\n",
       "                'width: ' + width + 'px; height: ' + height + 'px;'\n",
       "            );\n",
       "\n",
       "            rubberband_canvas.setAttribute('width', width);\n",
       "            rubberband_canvas.setAttribute('height', height);\n",
       "\n",
       "            // And update the size in Python. We ignore the initial 0/0 size\n",
       "            // that occurs as the element is placed into the DOM, which should\n",
       "            // otherwise not happen due to the minimum size styling.\n",
       "            if (fig.ws.readyState == 1 && width != 0 && height != 0) {\n",
       "                fig.request_resize(width, height);\n",
       "            }\n",
       "        }\n",
       "    });\n",
       "    this.resizeObserverInstance.observe(canvas_div);\n",
       "\n",
       "    function on_mouse_event_closure(name) {\n",
       "        return function (event) {\n",
       "            return fig.mouse_event(event, name);\n",
       "        };\n",
       "    }\n",
       "\n",
       "    rubberband_canvas.addEventListener(\n",
       "        'mousedown',\n",
       "        on_mouse_event_closure('button_press')\n",
       "    );\n",
       "    rubberband_canvas.addEventListener(\n",
       "        'mouseup',\n",
       "        on_mouse_event_closure('button_release')\n",
       "    );\n",
       "    rubberband_canvas.addEventListener(\n",
       "        'dblclick',\n",
       "        on_mouse_event_closure('dblclick')\n",
       "    );\n",
       "    // Throttle sequential mouse events to 1 every 20ms.\n",
       "    rubberband_canvas.addEventListener(\n",
       "        'mousemove',\n",
       "        on_mouse_event_closure('motion_notify')\n",
       "    );\n",
       "\n",
       "    rubberband_canvas.addEventListener(\n",
       "        'mouseenter',\n",
       "        on_mouse_event_closure('figure_enter')\n",
       "    );\n",
       "    rubberband_canvas.addEventListener(\n",
       "        'mouseleave',\n",
       "        on_mouse_event_closure('figure_leave')\n",
       "    );\n",
       "\n",
       "    canvas_div.addEventListener('wheel', function (event) {\n",
       "        if (event.deltaY < 0) {\n",
       "            event.step = 1;\n",
       "        } else {\n",
       "            event.step = -1;\n",
       "        }\n",
       "        on_mouse_event_closure('scroll')(event);\n",
       "    });\n",
       "\n",
       "    canvas_div.appendChild(canvas);\n",
       "    canvas_div.appendChild(rubberband_canvas);\n",
       "\n",
       "    this.rubberband_context = rubberband_canvas.getContext('2d');\n",
       "    this.rubberband_context.strokeStyle = '#000000';\n",
       "\n",
       "    this._resize_canvas = function (width, height, forward) {\n",
       "        if (forward) {\n",
       "            canvas_div.style.width = width + 'px';\n",
       "            canvas_div.style.height = height + 'px';\n",
       "        }\n",
       "    };\n",
       "\n",
       "    // Disable right mouse context menu.\n",
       "    this.rubberband_canvas.addEventListener('contextmenu', function (_e) {\n",
       "        event.preventDefault();\n",
       "        return false;\n",
       "    });\n",
       "\n",
       "    function set_focus() {\n",
       "        canvas.focus();\n",
       "        canvas_div.focus();\n",
       "    }\n",
       "\n",
       "    window.setTimeout(set_focus, 100);\n",
       "};\n",
       "\n",
       "mpl.figure.prototype._init_toolbar = function () {\n",
       "    var fig = this;\n",
       "\n",
       "    var toolbar = document.createElement('div');\n",
       "    toolbar.classList = 'mpl-toolbar';\n",
       "    this.root.appendChild(toolbar);\n",
       "\n",
       "    function on_click_closure(name) {\n",
       "        return function (_event) {\n",
       "            return fig.toolbar_button_onclick(name);\n",
       "        };\n",
       "    }\n",
       "\n",
       "    function on_mouseover_closure(tooltip) {\n",
       "        return function (event) {\n",
       "            if (!event.currentTarget.disabled) {\n",
       "                return fig.toolbar_button_onmouseover(tooltip);\n",
       "            }\n",
       "        };\n",
       "    }\n",
       "\n",
       "    fig.buttons = {};\n",
       "    var buttonGroup = document.createElement('div');\n",
       "    buttonGroup.classList = 'mpl-button-group';\n",
       "    for (var toolbar_ind in mpl.toolbar_items) {\n",
       "        var name = mpl.toolbar_items[toolbar_ind][0];\n",
       "        var tooltip = mpl.toolbar_items[toolbar_ind][1];\n",
       "        var image = mpl.toolbar_items[toolbar_ind][2];\n",
       "        var method_name = mpl.toolbar_items[toolbar_ind][3];\n",
       "\n",
       "        if (!name) {\n",
       "            /* Instead of a spacer, we start a new button group. */\n",
       "            if (buttonGroup.hasChildNodes()) {\n",
       "                toolbar.appendChild(buttonGroup);\n",
       "            }\n",
       "            buttonGroup = document.createElement('div');\n",
       "            buttonGroup.classList = 'mpl-button-group';\n",
       "            continue;\n",
       "        }\n",
       "\n",
       "        var button = (fig.buttons[name] = document.createElement('button'));\n",
       "        button.classList = 'mpl-widget';\n",
       "        button.setAttribute('role', 'button');\n",
       "        button.setAttribute('aria-disabled', 'false');\n",
       "        button.addEventListener('click', on_click_closure(method_name));\n",
       "        button.addEventListener('mouseover', on_mouseover_closure(tooltip));\n",
       "\n",
       "        var icon_img = document.createElement('img');\n",
       "        icon_img.src = '_images/' + image + '.png';\n",
       "        icon_img.srcset = '_images/' + image + '_large.png 2x';\n",
       "        icon_img.alt = tooltip;\n",
       "        button.appendChild(icon_img);\n",
       "\n",
       "        buttonGroup.appendChild(button);\n",
       "    }\n",
       "\n",
       "    if (buttonGroup.hasChildNodes()) {\n",
       "        toolbar.appendChild(buttonGroup);\n",
       "    }\n",
       "\n",
       "    var fmt_picker = document.createElement('select');\n",
       "    fmt_picker.classList = 'mpl-widget';\n",
       "    toolbar.appendChild(fmt_picker);\n",
       "    this.format_dropdown = fmt_picker;\n",
       "\n",
       "    for (var ind in mpl.extensions) {\n",
       "        var fmt = mpl.extensions[ind];\n",
       "        var option = document.createElement('option');\n",
       "        option.selected = fmt === mpl.default_extension;\n",
       "        option.innerHTML = fmt;\n",
       "        fmt_picker.appendChild(option);\n",
       "    }\n",
       "\n",
       "    var status_bar = document.createElement('span');\n",
       "    status_bar.classList = 'mpl-message';\n",
       "    toolbar.appendChild(status_bar);\n",
       "    this.message = status_bar;\n",
       "};\n",
       "\n",
       "mpl.figure.prototype.request_resize = function (x_pixels, y_pixels) {\n",
       "    // Request matplotlib to resize the figure. Matplotlib will then trigger a resize in the client,\n",
       "    // which will in turn request a refresh of the image.\n",
       "    this.send_message('resize', { width: x_pixels, height: y_pixels });\n",
       "};\n",
       "\n",
       "mpl.figure.prototype.send_message = function (type, properties) {\n",
       "    properties['type'] = type;\n",
       "    properties['figure_id'] = this.id;\n",
       "    this.ws.send(JSON.stringify(properties));\n",
       "};\n",
       "\n",
       "mpl.figure.prototype.send_draw_message = function () {\n",
       "    if (!this.waiting) {\n",
       "        this.waiting = true;\n",
       "        this.ws.send(JSON.stringify({ type: 'draw', figure_id: this.id }));\n",
       "    }\n",
       "};\n",
       "\n",
       "mpl.figure.prototype.handle_save = function (fig, _msg) {\n",
       "    var format_dropdown = fig.format_dropdown;\n",
       "    var format = format_dropdown.options[format_dropdown.selectedIndex].value;\n",
       "    fig.ondownload(fig, format);\n",
       "};\n",
       "\n",
       "mpl.figure.prototype.handle_resize = function (fig, msg) {\n",
       "    var size = msg['size'];\n",
       "    if (size[0] !== fig.canvas.width || size[1] !== fig.canvas.height) {\n",
       "        fig._resize_canvas(size[0], size[1], msg['forward']);\n",
       "        fig.send_message('refresh', {});\n",
       "    }\n",
       "};\n",
       "\n",
       "mpl.figure.prototype.handle_rubberband = function (fig, msg) {\n",
       "    var x0 = msg['x0'] / fig.ratio;\n",
       "    var y0 = (fig.canvas.height - msg['y0']) / fig.ratio;\n",
       "    var x1 = msg['x1'] / fig.ratio;\n",
       "    var y1 = (fig.canvas.height - msg['y1']) / fig.ratio;\n",
       "    x0 = Math.floor(x0) + 0.5;\n",
       "    y0 = Math.floor(y0) + 0.5;\n",
       "    x1 = Math.floor(x1) + 0.5;\n",
       "    y1 = Math.floor(y1) + 0.5;\n",
       "    var min_x = Math.min(x0, x1);\n",
       "    var min_y = Math.min(y0, y1);\n",
       "    var width = Math.abs(x1 - x0);\n",
       "    var height = Math.abs(y1 - y0);\n",
       "\n",
       "    fig.rubberband_context.clearRect(\n",
       "        0,\n",
       "        0,\n",
       "        fig.canvas.width / fig.ratio,\n",
       "        fig.canvas.height / fig.ratio\n",
       "    );\n",
       "\n",
       "    fig.rubberband_context.strokeRect(min_x, min_y, width, height);\n",
       "};\n",
       "\n",
       "mpl.figure.prototype.handle_figure_label = function (fig, msg) {\n",
       "    // Updates the figure title.\n",
       "    fig.header.textContent = msg['label'];\n",
       "};\n",
       "\n",
       "mpl.figure.prototype.handle_cursor = function (fig, msg) {\n",
       "    var cursor = msg['cursor'];\n",
       "    switch (cursor) {\n",
       "        case 0:\n",
       "            cursor = 'pointer';\n",
       "            break;\n",
       "        case 1:\n",
       "            cursor = 'default';\n",
       "            break;\n",
       "        case 2:\n",
       "            cursor = 'crosshair';\n",
       "            break;\n",
       "        case 3:\n",
       "            cursor = 'move';\n",
       "            break;\n",
       "    }\n",
       "    fig.rubberband_canvas.style.cursor = cursor;\n",
       "};\n",
       "\n",
       "mpl.figure.prototype.handle_message = function (fig, msg) {\n",
       "    fig.message.textContent = msg['message'];\n",
       "};\n",
       "\n",
       "mpl.figure.prototype.handle_draw = function (fig, _msg) {\n",
       "    // Request the server to send over a new figure.\n",
       "    fig.send_draw_message();\n",
       "};\n",
       "\n",
       "mpl.figure.prototype.handle_image_mode = function (fig, msg) {\n",
       "    fig.image_mode = msg['mode'];\n",
       "};\n",
       "\n",
       "mpl.figure.prototype.handle_history_buttons = function (fig, msg) {\n",
       "    for (var key in msg) {\n",
       "        if (!(key in fig.buttons)) {\n",
       "            continue;\n",
       "        }\n",
       "        fig.buttons[key].disabled = !msg[key];\n",
       "        fig.buttons[key].setAttribute('aria-disabled', !msg[key]);\n",
       "    }\n",
       "};\n",
       "\n",
       "mpl.figure.prototype.handle_navigate_mode = function (fig, msg) {\n",
       "    if (msg['mode'] === 'PAN') {\n",
       "        fig.buttons['Pan'].classList.add('active');\n",
       "        fig.buttons['Zoom'].classList.remove('active');\n",
       "    } else if (msg['mode'] === 'ZOOM') {\n",
       "        fig.buttons['Pan'].classList.remove('active');\n",
       "        fig.buttons['Zoom'].classList.add('active');\n",
       "    } else {\n",
       "        fig.buttons['Pan'].classList.remove('active');\n",
       "        fig.buttons['Zoom'].classList.remove('active');\n",
       "    }\n",
       "};\n",
       "\n",
       "mpl.figure.prototype.updated_canvas_event = function () {\n",
       "    // Called whenever the canvas gets updated.\n",
       "    this.send_message('ack', {});\n",
       "};\n",
       "\n",
       "// A function to construct a web socket function for onmessage handling.\n",
       "// Called in the figure constructor.\n",
       "mpl.figure.prototype._make_on_message_function = function (fig) {\n",
       "    return function socket_on_message(evt) {\n",
       "        if (evt.data instanceof Blob) {\n",
       "            var img = evt.data;\n",
       "            if (img.type !== 'image/png') {\n",
       "                /* FIXME: We get \"Resource interpreted as Image but\n",
       "                 * transferred with MIME type text/plain:\" errors on\n",
       "                 * Chrome.  But how to set the MIME type?  It doesn't seem\n",
       "                 * to be part of the websocket stream */\n",
       "                img.type = 'image/png';\n",
       "            }\n",
       "\n",
       "            /* Free the memory for the previous frames */\n",
       "            if (fig.imageObj.src) {\n",
       "                (window.URL || window.webkitURL).revokeObjectURL(\n",
       "                    fig.imageObj.src\n",
       "                );\n",
       "            }\n",
       "\n",
       "            fig.imageObj.src = (window.URL || window.webkitURL).createObjectURL(\n",
       "                img\n",
       "            );\n",
       "            fig.updated_canvas_event();\n",
       "            fig.waiting = false;\n",
       "            return;\n",
       "        } else if (\n",
       "            typeof evt.data === 'string' &&\n",
       "            evt.data.slice(0, 21) === 'data:image/png;base64'\n",
       "        ) {\n",
       "            fig.imageObj.src = evt.data;\n",
       "            fig.updated_canvas_event();\n",
       "            fig.waiting = false;\n",
       "            return;\n",
       "        }\n",
       "\n",
       "        var msg = JSON.parse(evt.data);\n",
       "        var msg_type = msg['type'];\n",
       "\n",
       "        // Call the  \"handle_{type}\" callback, which takes\n",
       "        // the figure and JSON message as its only arguments.\n",
       "        try {\n",
       "            var callback = fig['handle_' + msg_type];\n",
       "        } catch (e) {\n",
       "            console.log(\n",
       "                \"No handler for the '\" + msg_type + \"' message type: \",\n",
       "                msg\n",
       "            );\n",
       "            return;\n",
       "        }\n",
       "\n",
       "        if (callback) {\n",
       "            try {\n",
       "                // console.log(\"Handling '\" + msg_type + \"' message: \", msg);\n",
       "                callback(fig, msg);\n",
       "            } catch (e) {\n",
       "                console.log(\n",
       "                    \"Exception inside the 'handler_\" + msg_type + \"' callback:\",\n",
       "                    e,\n",
       "                    e.stack,\n",
       "                    msg\n",
       "                );\n",
       "            }\n",
       "        }\n",
       "    };\n",
       "};\n",
       "\n",
       "// from http://stackoverflow.com/questions/1114465/getting-mouse-location-in-canvas\n",
       "mpl.findpos = function (e) {\n",
       "    //this section is from http://www.quirksmode.org/js/events_properties.html\n",
       "    var targ;\n",
       "    if (!e) {\n",
       "        e = window.event;\n",
       "    }\n",
       "    if (e.target) {\n",
       "        targ = e.target;\n",
       "    } else if (e.srcElement) {\n",
       "        targ = e.srcElement;\n",
       "    }\n",
       "    if (targ.nodeType === 3) {\n",
       "        // defeat Safari bug\n",
       "        targ = targ.parentNode;\n",
       "    }\n",
       "\n",
       "    // pageX,Y are the mouse positions relative to the document\n",
       "    var boundingRect = targ.getBoundingClientRect();\n",
       "    var x = e.pageX - (boundingRect.left + document.body.scrollLeft);\n",
       "    var y = e.pageY - (boundingRect.top + document.body.scrollTop);\n",
       "\n",
       "    return { x: x, y: y };\n",
       "};\n",
       "\n",
       "/*\n",
       " * return a copy of an object with only non-object keys\n",
       " * we need this to avoid circular references\n",
       " * http://stackoverflow.com/a/24161582/3208463\n",
       " */\n",
       "function simpleKeys(original) {\n",
       "    return Object.keys(original).reduce(function (obj, key) {\n",
       "        if (typeof original[key] !== 'object') {\n",
       "            obj[key] = original[key];\n",
       "        }\n",
       "        return obj;\n",
       "    }, {});\n",
       "}\n",
       "\n",
       "mpl.figure.prototype.mouse_event = function (event, name) {\n",
       "    var canvas_pos = mpl.findpos(event);\n",
       "\n",
       "    if (name === 'button_press') {\n",
       "        this.canvas.focus();\n",
       "        this.canvas_div.focus();\n",
       "    }\n",
       "\n",
       "    var x = canvas_pos.x * this.ratio;\n",
       "    var y = canvas_pos.y * this.ratio;\n",
       "\n",
       "    this.send_message(name, {\n",
       "        x: x,\n",
       "        y: y,\n",
       "        button: event.button,\n",
       "        step: event.step,\n",
       "        guiEvent: simpleKeys(event),\n",
       "    });\n",
       "\n",
       "    /* This prevents the web browser from automatically changing to\n",
       "     * the text insertion cursor when the button is pressed.  We want\n",
       "     * to control all of the cursor setting manually through the\n",
       "     * 'cursor' event from matplotlib */\n",
       "    event.preventDefault();\n",
       "    return false;\n",
       "};\n",
       "\n",
       "mpl.figure.prototype._key_event_extra = function (_event, _name) {\n",
       "    // Handle any extra behaviour associated with a key event\n",
       "};\n",
       "\n",
       "mpl.figure.prototype.key_event = function (event, name) {\n",
       "    // Prevent repeat events\n",
       "    if (name === 'key_press') {\n",
       "        if (event.key === this._key) {\n",
       "            return;\n",
       "        } else {\n",
       "            this._key = event.key;\n",
       "        }\n",
       "    }\n",
       "    if (name === 'key_release') {\n",
       "        this._key = null;\n",
       "    }\n",
       "\n",
       "    var value = '';\n",
       "    if (event.ctrlKey && event.key !== 'Control') {\n",
       "        value += 'ctrl+';\n",
       "    }\n",
       "    else if (event.altKey && event.key !== 'Alt') {\n",
       "        value += 'alt+';\n",
       "    }\n",
       "    else if (event.shiftKey && event.key !== 'Shift') {\n",
       "        value += 'shift+';\n",
       "    }\n",
       "\n",
       "    value += 'k' + event.key;\n",
       "\n",
       "    this._key_event_extra(event, name);\n",
       "\n",
       "    this.send_message(name, { key: value, guiEvent: simpleKeys(event) });\n",
       "    return false;\n",
       "};\n",
       "\n",
       "mpl.figure.prototype.toolbar_button_onclick = function (name) {\n",
       "    if (name === 'download') {\n",
       "        this.handle_save(this, null);\n",
       "    } else {\n",
       "        this.send_message('toolbar_button', { name: name });\n",
       "    }\n",
       "};\n",
       "\n",
       "mpl.figure.prototype.toolbar_button_onmouseover = function (tooltip) {\n",
       "    this.message.textContent = tooltip;\n",
       "};\n",
       "\n",
       "///////////////// REMAINING CONTENT GENERATED BY embed_js.py /////////////////\n",
       "// prettier-ignore\n",
       "var _JSXTOOLS_RESIZE_OBSERVER=function(A){var t,i=new WeakMap,n=new WeakMap,a=new WeakMap,r=new WeakMap,o=new Set;function s(e){if(!(this instanceof s))throw new TypeError(\"Constructor requires 'new' operator\");i.set(this,e)}function h(){throw new TypeError(\"Function is not a constructor\")}function c(e,t,i,n){e=0 in arguments?Number(arguments[0]):0,t=1 in arguments?Number(arguments[1]):0,i=2 in arguments?Number(arguments[2]):0,n=3 in arguments?Number(arguments[3]):0,this.right=(this.x=this.left=e)+(this.width=i),this.bottom=(this.y=this.top=t)+(this.height=n),Object.freeze(this)}function d(){t=requestAnimationFrame(d);var s=new WeakMap,p=new Set;o.forEach((function(t){r.get(t).forEach((function(i){var r=t instanceof window.SVGElement,o=a.get(t),d=r?0:parseFloat(o.paddingTop),f=r?0:parseFloat(o.paddingRight),l=r?0:parseFloat(o.paddingBottom),u=r?0:parseFloat(o.paddingLeft),g=r?0:parseFloat(o.borderTopWidth),m=r?0:parseFloat(o.borderRightWidth),w=r?0:parseFloat(o.borderBottomWidth),b=u+f,F=d+l,v=(r?0:parseFloat(o.borderLeftWidth))+m,W=g+w,y=r?0:t.offsetHeight-W-t.clientHeight,E=r?0:t.offsetWidth-v-t.clientWidth,R=b+v,z=F+W,M=r?t.width:parseFloat(o.width)-R-E,O=r?t.height:parseFloat(o.height)-z-y;if(n.has(t)){var k=n.get(t);if(k[0]===M&&k[1]===O)return}n.set(t,[M,O]);var S=Object.create(h.prototype);S.target=t,S.contentRect=new c(u,d,M,O),s.has(i)||(s.set(i,[]),p.add(i)),s.get(i).push(S)}))})),p.forEach((function(e){i.get(e).call(e,s.get(e),e)}))}return s.prototype.observe=function(i){if(i instanceof window.Element){r.has(i)||(r.set(i,new Set),o.add(i),a.set(i,window.getComputedStyle(i)));var n=r.get(i);n.has(this)||n.add(this),cancelAnimationFrame(t),t=requestAnimationFrame(d)}},s.prototype.unobserve=function(i){if(i instanceof window.Element&&r.has(i)){var n=r.get(i);n.has(this)&&(n.delete(this),n.size||(r.delete(i),o.delete(i))),n.size||r.delete(i),o.size||cancelAnimationFrame(t)}},A.DOMRectReadOnly=c,A.ResizeObserver=s,A.ResizeObserverEntry=h,A}; // eslint-disable-line\n",
       "mpl.toolbar_items = [[\"Home\", \"Reset original view\", \"fa fa-home icon-home\", \"home\"], [\"Back\", \"Back to previous view\", \"fa fa-arrow-left icon-arrow-left\", \"back\"], [\"Forward\", \"Forward to next view\", \"fa fa-arrow-right icon-arrow-right\", \"forward\"], [\"\", \"\", \"\", \"\"], [\"Pan\", \"Left button pans, Right button zooms\\nx/y fixes axis, CTRL fixes aspect\", \"fa fa-arrows icon-move\", \"pan\"], [\"Zoom\", \"Zoom to rectangle\\nx/y fixes axis, CTRL fixes aspect\", \"fa fa-square-o icon-check-empty\", \"zoom\"], [\"\", \"\", \"\", \"\"], [\"Download\", \"Download plot\", \"fa fa-floppy-o icon-save\", \"download\"]];\n",
       "\n",
       "mpl.extensions = [\"eps\", \"jpeg\", \"pgf\", \"pdf\", \"png\", \"ps\", \"raw\", \"svg\", \"tif\"];\n",
       "\n",
       "mpl.default_extension = \"png\";/* global mpl */\n",
       "\n",
       "var comm_websocket_adapter = function (comm) {\n",
       "    // Create a \"websocket\"-like object which calls the given IPython comm\n",
       "    // object with the appropriate methods. Currently this is a non binary\n",
       "    // socket, so there is still some room for performance tuning.\n",
       "    var ws = {};\n",
       "\n",
       "    ws.binaryType = comm.kernel.ws.binaryType;\n",
       "    ws.readyState = comm.kernel.ws.readyState;\n",
       "    function updateReadyState(_event) {\n",
       "        if (comm.kernel.ws) {\n",
       "            ws.readyState = comm.kernel.ws.readyState;\n",
       "        } else {\n",
       "            ws.readyState = 3; // Closed state.\n",
       "        }\n",
       "    }\n",
       "    comm.kernel.ws.addEventListener('open', updateReadyState);\n",
       "    comm.kernel.ws.addEventListener('close', updateReadyState);\n",
       "    comm.kernel.ws.addEventListener('error', updateReadyState);\n",
       "\n",
       "    ws.close = function () {\n",
       "        comm.close();\n",
       "    };\n",
       "    ws.send = function (m) {\n",
       "        //console.log('sending', m);\n",
       "        comm.send(m);\n",
       "    };\n",
       "    // Register the callback with on_msg.\n",
       "    comm.on_msg(function (msg) {\n",
       "        //console.log('receiving', msg['content']['data'], msg);\n",
       "        var data = msg['content']['data'];\n",
       "        if (data['blob'] !== undefined) {\n",
       "            data = {\n",
       "                data: new Blob(msg['buffers'], { type: data['blob'] }),\n",
       "            };\n",
       "        }\n",
       "        // Pass the mpl event to the overridden (by mpl) onmessage function.\n",
       "        ws.onmessage(data);\n",
       "    });\n",
       "    return ws;\n",
       "};\n",
       "\n",
       "mpl.mpl_figure_comm = function (comm, msg) {\n",
       "    // This is the function which gets called when the mpl process\n",
       "    // starts-up an IPython Comm through the \"matplotlib\" channel.\n",
       "\n",
       "    var id = msg.content.data.id;\n",
       "    // Get hold of the div created by the display call when the Comm\n",
       "    // socket was opened in Python.\n",
       "    var element = document.getElementById(id);\n",
       "    var ws_proxy = comm_websocket_adapter(comm);\n",
       "\n",
       "    function ondownload(figure, _format) {\n",
       "        window.open(figure.canvas.toDataURL());\n",
       "    }\n",
       "\n",
       "    var fig = new mpl.figure(id, ws_proxy, ondownload, element);\n",
       "\n",
       "    // Call onopen now - mpl needs it, as it is assuming we've passed it a real\n",
       "    // web socket which is closed, not our websocket->open comm proxy.\n",
       "    ws_proxy.onopen();\n",
       "\n",
       "    fig.parent_element = element;\n",
       "    fig.cell_info = mpl.find_output_cell(\"<div id='\" + id + \"'></div>\");\n",
       "    if (!fig.cell_info) {\n",
       "        console.error('Failed to find cell for figure', id, fig);\n",
       "        return;\n",
       "    }\n",
       "    fig.cell_info[0].output_area.element.on(\n",
       "        'cleared',\n",
       "        { fig: fig },\n",
       "        fig._remove_fig_handler\n",
       "    );\n",
       "};\n",
       "\n",
       "mpl.figure.prototype.handle_close = function (fig, msg) {\n",
       "    var width = fig.canvas.width / fig.ratio;\n",
       "    fig.cell_info[0].output_area.element.off(\n",
       "        'cleared',\n",
       "        fig._remove_fig_handler\n",
       "    );\n",
       "    fig.resizeObserverInstance.unobserve(fig.canvas_div);\n",
       "\n",
       "    // Update the output cell to use the data from the current canvas.\n",
       "    fig.push_to_output();\n",
       "    var dataURL = fig.canvas.toDataURL();\n",
       "    // Re-enable the keyboard manager in IPython - without this line, in FF,\n",
       "    // the notebook keyboard shortcuts fail.\n",
       "    IPython.keyboard_manager.enable();\n",
       "    fig.parent_element.innerHTML =\n",
       "        '<img src=\"' + dataURL + '\" width=\"' + width + '\">';\n",
       "    fig.close_ws(fig, msg);\n",
       "};\n",
       "\n",
       "mpl.figure.prototype.close_ws = function (fig, msg) {\n",
       "    fig.send_message('closing', msg);\n",
       "    // fig.ws.close()\n",
       "};\n",
       "\n",
       "mpl.figure.prototype.push_to_output = function (_remove_interactive) {\n",
       "    // Turn the data on the canvas into data in the output cell.\n",
       "    var width = this.canvas.width / this.ratio;\n",
       "    var dataURL = this.canvas.toDataURL();\n",
       "    this.cell_info[1]['text/html'] =\n",
       "        '<img src=\"' + dataURL + '\" width=\"' + width + '\">';\n",
       "};\n",
       "\n",
       "mpl.figure.prototype.updated_canvas_event = function () {\n",
       "    // Tell IPython that the notebook contents must change.\n",
       "    IPython.notebook.set_dirty(true);\n",
       "    this.send_message('ack', {});\n",
       "    var fig = this;\n",
       "    // Wait a second, then push the new image to the DOM so\n",
       "    // that it is saved nicely (might be nice to debounce this).\n",
       "    setTimeout(function () {\n",
       "        fig.push_to_output();\n",
       "    }, 1000);\n",
       "};\n",
       "\n",
       "mpl.figure.prototype._init_toolbar = function () {\n",
       "    var fig = this;\n",
       "\n",
       "    var toolbar = document.createElement('div');\n",
       "    toolbar.classList = 'btn-toolbar';\n",
       "    this.root.appendChild(toolbar);\n",
       "\n",
       "    function on_click_closure(name) {\n",
       "        return function (_event) {\n",
       "            return fig.toolbar_button_onclick(name);\n",
       "        };\n",
       "    }\n",
       "\n",
       "    function on_mouseover_closure(tooltip) {\n",
       "        return function (event) {\n",
       "            if (!event.currentTarget.disabled) {\n",
       "                return fig.toolbar_button_onmouseover(tooltip);\n",
       "            }\n",
       "        };\n",
       "    }\n",
       "\n",
       "    fig.buttons = {};\n",
       "    var buttonGroup = document.createElement('div');\n",
       "    buttonGroup.classList = 'btn-group';\n",
       "    var button;\n",
       "    for (var toolbar_ind in mpl.toolbar_items) {\n",
       "        var name = mpl.toolbar_items[toolbar_ind][0];\n",
       "        var tooltip = mpl.toolbar_items[toolbar_ind][1];\n",
       "        var image = mpl.toolbar_items[toolbar_ind][2];\n",
       "        var method_name = mpl.toolbar_items[toolbar_ind][3];\n",
       "\n",
       "        if (!name) {\n",
       "            /* Instead of a spacer, we start a new button group. */\n",
       "            if (buttonGroup.hasChildNodes()) {\n",
       "                toolbar.appendChild(buttonGroup);\n",
       "            }\n",
       "            buttonGroup = document.createElement('div');\n",
       "            buttonGroup.classList = 'btn-group';\n",
       "            continue;\n",
       "        }\n",
       "\n",
       "        button = fig.buttons[name] = document.createElement('button');\n",
       "        button.classList = 'btn btn-default';\n",
       "        button.href = '#';\n",
       "        button.title = name;\n",
       "        button.innerHTML = '<i class=\"fa ' + image + ' fa-lg\"></i>';\n",
       "        button.addEventListener('click', on_click_closure(method_name));\n",
       "        button.addEventListener('mouseover', on_mouseover_closure(tooltip));\n",
       "        buttonGroup.appendChild(button);\n",
       "    }\n",
       "\n",
       "    if (buttonGroup.hasChildNodes()) {\n",
       "        toolbar.appendChild(buttonGroup);\n",
       "    }\n",
       "\n",
       "    // Add the status bar.\n",
       "    var status_bar = document.createElement('span');\n",
       "    status_bar.classList = 'mpl-message pull-right';\n",
       "    toolbar.appendChild(status_bar);\n",
       "    this.message = status_bar;\n",
       "\n",
       "    // Add the close button to the window.\n",
       "    var buttongrp = document.createElement('div');\n",
       "    buttongrp.classList = 'btn-group inline pull-right';\n",
       "    button = document.createElement('button');\n",
       "    button.classList = 'btn btn-mini btn-primary';\n",
       "    button.href = '#';\n",
       "    button.title = 'Stop Interaction';\n",
       "    button.innerHTML = '<i class=\"fa fa-power-off icon-remove icon-large\"></i>';\n",
       "    button.addEventListener('click', function (_evt) {\n",
       "        fig.handle_close(fig, {});\n",
       "    });\n",
       "    button.addEventListener(\n",
       "        'mouseover',\n",
       "        on_mouseover_closure('Stop Interaction')\n",
       "    );\n",
       "    buttongrp.appendChild(button);\n",
       "    var titlebar = this.root.querySelector('.ui-dialog-titlebar');\n",
       "    titlebar.insertBefore(buttongrp, titlebar.firstChild);\n",
       "};\n",
       "\n",
       "mpl.figure.prototype._remove_fig_handler = function (event) {\n",
       "    var fig = event.data.fig;\n",
       "    if (event.target !== this) {\n",
       "        // Ignore bubbled events from children.\n",
       "        return;\n",
       "    }\n",
       "    fig.close_ws(fig, {});\n",
       "};\n",
       "\n",
       "mpl.figure.prototype._root_extra_style = function (el) {\n",
       "    el.style.boxSizing = 'content-box'; // override notebook setting of border-box.\n",
       "};\n",
       "\n",
       "mpl.figure.prototype._canvas_extra_style = function (el) {\n",
       "    // this is important to make the div 'focusable\n",
       "    el.setAttribute('tabindex', 0);\n",
       "    // reach out to IPython and tell the keyboard manager to turn it's self\n",
       "    // off when our div gets focus\n",
       "\n",
       "    // location in version 3\n",
       "    if (IPython.notebook.keyboard_manager) {\n",
       "        IPython.notebook.keyboard_manager.register_events(el);\n",
       "    } else {\n",
       "        // location in version 2\n",
       "        IPython.keyboard_manager.register_events(el);\n",
       "    }\n",
       "};\n",
       "\n",
       "mpl.figure.prototype._key_event_extra = function (event, _name) {\n",
       "    var manager = IPython.notebook.keyboard_manager;\n",
       "    if (!manager) {\n",
       "        manager = IPython.keyboard_manager;\n",
       "    }\n",
       "\n",
       "    // Check for shift+enter\n",
       "    if (event.shiftKey && event.which === 13) {\n",
       "        this.canvas_div.blur();\n",
       "        // select the cell after this one\n",
       "        var index = IPython.notebook.find_cell_index(this.cell_info[0]);\n",
       "        IPython.notebook.select(index + 1);\n",
       "    }\n",
       "};\n",
       "\n",
       "mpl.figure.prototype.handle_save = function (fig, _msg) {\n",
       "    fig.ondownload(fig, null);\n",
       "};\n",
       "\n",
       "mpl.find_output_cell = function (html_output) {\n",
       "    // Return the cell and output element which can be found *uniquely* in the notebook.\n",
       "    // Note - this is a bit hacky, but it is done because the \"notebook_saving.Notebook\"\n",
       "    // IPython event is triggered only after the cells have been serialised, which for\n",
       "    // our purposes (turning an active figure into a static one), is too late.\n",
       "    var cells = IPython.notebook.get_cells();\n",
       "    var ncells = cells.length;\n",
       "    for (var i = 0; i < ncells; i++) {\n",
       "        var cell = cells[i];\n",
       "        if (cell.cell_type === 'code') {\n",
       "            for (var j = 0; j < cell.output_area.outputs.length; j++) {\n",
       "                var data = cell.output_area.outputs[j];\n",
       "                if (data.data) {\n",
       "                    // IPython >= 3 moved mimebundle to data attribute of output\n",
       "                    data = data.data;\n",
       "                }\n",
       "                if (data['text/html'] === html_output) {\n",
       "                    return [cell, data, j];\n",
       "                }\n",
       "            }\n",
       "        }\n",
       "    }\n",
       "};\n",
       "\n",
       "// Register the function which deals with the matplotlib target/channel.\n",
       "// The kernel may be null if the page has been refreshed.\n",
       "if (IPython.notebook.kernel !== null) {\n",
       "    IPython.notebook.kernel.comm_manager.register_target(\n",
       "        'matplotlib',\n",
       "        mpl.mpl_figure_comm\n",
       "    );\n",
       "}\n"
      ],
      "text/plain": [
       "<IPython.core.display.Javascript object>"
      ]
     },
     "metadata": {},
     "output_type": "display_data"
    },
    {
     "data": {
      "text/html": [
       "<img src=\"data:image/png;base64,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\" width=\"640\">"
      ],
      "text/plain": [
       "<IPython.core.display.HTML object>"
      ]
     },
     "metadata": {},
     "output_type": "display_data"
    },
    {
     "data": {
      "text/plain": [
       "[<matplotlib.lines.Line2D at 0x248ce697f70>]"
      ]
     },
     "execution_count": 26,
     "metadata": {},
     "output_type": "execute_result"
    }
   ],
   "source": [
    "plt.figure()\n",
    "plt.grid()\n",
    "plt.axvline(x = 0, color= 'black')\n",
    "plt.axhline(y = 0, color= 'black')\n",
    "plt.plot(x, y_1)\n",
    "plt.plot(x, y_2)\n",
    "plt.plot(x, y_3)"
   ]
  },
  {
   "cell_type": "markdown",
   "metadata": {},
   "source": [
    "De la imagen podemos observar que las ecuaciones se intersectan en distintos puntos, pero **no existe un punto donde se toquen las 3 al mismo tiempo**, por lo que podríamos deducir que dicho sistema de ecuaciones no tiene solución."
   ]
  },
  {
   "cell_type": "markdown",
   "metadata": {},
   "source": [
    "#### Sistema Compatible"
   ]
  },
  {
   "cell_type": "markdown",
   "metadata": {},
   "source": [
    "Ahora consideremos el siguiente sistema:"
   ]
  },
  {
   "cell_type": "markdown",
   "metadata": {},
   "source": [
    "$$\\begin{cases} \n",
    "y = \\frac{x + 5}{2}\\\\\n",
    "y = \\frac{-1x + 7}{2} \\\\\n",
    "y = \\frac{2x + 7}{3}\n",
    "\\end{cases}$$"
   ]
  },
  {
   "cell_type": "code",
   "execution_count": 33,
   "metadata": {},
   "outputs": [],
   "source": [
    "y_1 = ( x + 5) / 2\n",
    "y_2 = (-x + 7) / 2\n",
    "y_3 = (2*x + 7) / 3"
   ]
  },
  {
   "cell_type": "code",
   "execution_count": 34,
   "metadata": {},
   "outputs": [
    {
     "data": {
      "application/javascript": [
       "/* Put everything inside the global mpl namespace */\n",
       "/* global mpl */\n",
       "window.mpl = {};\n",
       "\n",
       "mpl.get_websocket_type = function () {\n",
       "    if (typeof WebSocket !== 'undefined') {\n",
       "        return WebSocket;\n",
       "    } else if (typeof MozWebSocket !== 'undefined') {\n",
       "        return MozWebSocket;\n",
       "    } else {\n",
       "        alert(\n",
       "            'Your browser does not have WebSocket support. ' +\n",
       "                'Please try Chrome, Safari or Firefox ≥ 6. ' +\n",
       "                'Firefox 4 and 5 are also supported but you ' +\n",
       "                'have to enable WebSockets in about:config.'\n",
       "        );\n",
       "    }\n",
       "};\n",
       "\n",
       "mpl.figure = function (figure_id, websocket, ondownload, parent_element) {\n",
       "    this.id = figure_id;\n",
       "\n",
       "    this.ws = websocket;\n",
       "\n",
       "    this.supports_binary = this.ws.binaryType !== undefined;\n",
       "\n",
       "    if (!this.supports_binary) {\n",
       "        var warnings = document.getElementById('mpl-warnings');\n",
       "        if (warnings) {\n",
       "            warnings.style.display = 'block';\n",
       "            warnings.textContent =\n",
       "                'This browser does not support binary websocket messages. ' +\n",
       "                'Performance may be slow.';\n",
       "        }\n",
       "    }\n",
       "\n",
       "    this.imageObj = new Image();\n",
       "\n",
       "    this.context = undefined;\n",
       "    this.message = undefined;\n",
       "    this.canvas = undefined;\n",
       "    this.rubberband_canvas = undefined;\n",
       "    this.rubberband_context = undefined;\n",
       "    this.format_dropdown = undefined;\n",
       "\n",
       "    this.image_mode = 'full';\n",
       "\n",
       "    this.root = document.createElement('div');\n",
       "    this.root.setAttribute('style', 'display: inline-block');\n",
       "    this._root_extra_style(this.root);\n",
       "\n",
       "    parent_element.appendChild(this.root);\n",
       "\n",
       "    this._init_header(this);\n",
       "    this._init_canvas(this);\n",
       "    this._init_toolbar(this);\n",
       "\n",
       "    var fig = this;\n",
       "\n",
       "    this.waiting = false;\n",
       "\n",
       "    this.ws.onopen = function () {\n",
       "        fig.send_message('supports_binary', { value: fig.supports_binary });\n",
       "        fig.send_message('send_image_mode', {});\n",
       "        if (fig.ratio !== 1) {\n",
       "            fig.send_message('set_dpi_ratio', { dpi_ratio: fig.ratio });\n",
       "        }\n",
       "        fig.send_message('refresh', {});\n",
       "    };\n",
       "\n",
       "    this.imageObj.onload = function () {\n",
       "        if (fig.image_mode === 'full') {\n",
       "            // Full images could contain transparency (where diff images\n",
       "            // almost always do), so we need to clear the canvas so that\n",
       "            // there is no ghosting.\n",
       "            fig.context.clearRect(0, 0, fig.canvas.width, fig.canvas.height);\n",
       "        }\n",
       "        fig.context.drawImage(fig.imageObj, 0, 0);\n",
       "    };\n",
       "\n",
       "    this.imageObj.onunload = function () {\n",
       "        fig.ws.close();\n",
       "    };\n",
       "\n",
       "    this.ws.onmessage = this._make_on_message_function(this);\n",
       "\n",
       "    this.ondownload = ondownload;\n",
       "};\n",
       "\n",
       "mpl.figure.prototype._init_header = function () {\n",
       "    var titlebar = document.createElement('div');\n",
       "    titlebar.classList =\n",
       "        'ui-dialog-titlebar ui-widget-header ui-corner-all ui-helper-clearfix';\n",
       "    var titletext = document.createElement('div');\n",
       "    titletext.classList = 'ui-dialog-title';\n",
       "    titletext.setAttribute(\n",
       "        'style',\n",
       "        'width: 100%; text-align: center; padding: 3px;'\n",
       "    );\n",
       "    titlebar.appendChild(titletext);\n",
       "    this.root.appendChild(titlebar);\n",
       "    this.header = titletext;\n",
       "};\n",
       "\n",
       "mpl.figure.prototype._canvas_extra_style = function (_canvas_div) {};\n",
       "\n",
       "mpl.figure.prototype._root_extra_style = function (_canvas_div) {};\n",
       "\n",
       "mpl.figure.prototype._init_canvas = function () {\n",
       "    var fig = this;\n",
       "\n",
       "    var canvas_div = (this.canvas_div = document.createElement('div'));\n",
       "    canvas_div.setAttribute(\n",
       "        'style',\n",
       "        'border: 1px solid #ddd;' +\n",
       "            'box-sizing: content-box;' +\n",
       "            'clear: both;' +\n",
       "            'min-height: 1px;' +\n",
       "            'min-width: 1px;' +\n",
       "            'outline: 0;' +\n",
       "            'overflow: hidden;' +\n",
       "            'position: relative;' +\n",
       "            'resize: both;'\n",
       "    );\n",
       "\n",
       "    function on_keyboard_event_closure(name) {\n",
       "        return function (event) {\n",
       "            return fig.key_event(event, name);\n",
       "        };\n",
       "    }\n",
       "\n",
       "    canvas_div.addEventListener(\n",
       "        'keydown',\n",
       "        on_keyboard_event_closure('key_press')\n",
       "    );\n",
       "    canvas_div.addEventListener(\n",
       "        'keyup',\n",
       "        on_keyboard_event_closure('key_release')\n",
       "    );\n",
       "\n",
       "    this._canvas_extra_style(canvas_div);\n",
       "    this.root.appendChild(canvas_div);\n",
       "\n",
       "    var canvas = (this.canvas = document.createElement('canvas'));\n",
       "    canvas.classList.add('mpl-canvas');\n",
       "    canvas.setAttribute('style', 'box-sizing: content-box;');\n",
       "\n",
       "    this.context = canvas.getContext('2d');\n",
       "\n",
       "    var backingStore =\n",
       "        this.context.backingStorePixelRatio ||\n",
       "        this.context.webkitBackingStorePixelRatio ||\n",
       "        this.context.mozBackingStorePixelRatio ||\n",
       "        this.context.msBackingStorePixelRatio ||\n",
       "        this.context.oBackingStorePixelRatio ||\n",
       "        this.context.backingStorePixelRatio ||\n",
       "        1;\n",
       "\n",
       "    this.ratio = (window.devicePixelRatio || 1) / backingStore;\n",
       "\n",
       "    var rubberband_canvas = (this.rubberband_canvas = document.createElement(\n",
       "        'canvas'\n",
       "    ));\n",
       "    rubberband_canvas.setAttribute(\n",
       "        'style',\n",
       "        'box-sizing: content-box; position: absolute; left: 0; top: 0; z-index: 1;'\n",
       "    );\n",
       "\n",
       "    // Apply a ponyfill if ResizeObserver is not implemented by browser.\n",
       "    if (this.ResizeObserver === undefined) {\n",
       "        if (window.ResizeObserver !== undefined) {\n",
       "            this.ResizeObserver = window.ResizeObserver;\n",
       "        } else {\n",
       "            var obs = _JSXTOOLS_RESIZE_OBSERVER({});\n",
       "            this.ResizeObserver = obs.ResizeObserver;\n",
       "        }\n",
       "    }\n",
       "\n",
       "    this.resizeObserverInstance = new this.ResizeObserver(function (entries) {\n",
       "        var nentries = entries.length;\n",
       "        for (var i = 0; i < nentries; i++) {\n",
       "            var entry = entries[i];\n",
       "            var width, height;\n",
       "            if (entry.contentBoxSize) {\n",
       "                if (entry.contentBoxSize instanceof Array) {\n",
       "                    // Chrome 84 implements new version of spec.\n",
       "                    width = entry.contentBoxSize[0].inlineSize;\n",
       "                    height = entry.contentBoxSize[0].blockSize;\n",
       "                } else {\n",
       "                    // Firefox implements old version of spec.\n",
       "                    width = entry.contentBoxSize.inlineSize;\n",
       "                    height = entry.contentBoxSize.blockSize;\n",
       "                }\n",
       "            } else {\n",
       "                // Chrome <84 implements even older version of spec.\n",
       "                width = entry.contentRect.width;\n",
       "                height = entry.contentRect.height;\n",
       "            }\n",
       "\n",
       "            // Keep the size of the canvas and rubber band canvas in sync with\n",
       "            // the canvas container.\n",
       "            if (entry.devicePixelContentBoxSize) {\n",
       "                // Chrome 84 implements new version of spec.\n",
       "                canvas.setAttribute(\n",
       "                    'width',\n",
       "                    entry.devicePixelContentBoxSize[0].inlineSize\n",
       "                );\n",
       "                canvas.setAttribute(\n",
       "                    'height',\n",
       "                    entry.devicePixelContentBoxSize[0].blockSize\n",
       "                );\n",
       "            } else {\n",
       "                canvas.setAttribute('width', width * fig.ratio);\n",
       "                canvas.setAttribute('height', height * fig.ratio);\n",
       "            }\n",
       "            canvas.setAttribute(\n",
       "                'style',\n",
       "                'width: ' + width + 'px; height: ' + height + 'px;'\n",
       "            );\n",
       "\n",
       "            rubberband_canvas.setAttribute('width', width);\n",
       "            rubberband_canvas.setAttribute('height', height);\n",
       "\n",
       "            // And update the size in Python. We ignore the initial 0/0 size\n",
       "            // that occurs as the element is placed into the DOM, which should\n",
       "            // otherwise not happen due to the minimum size styling.\n",
       "            if (fig.ws.readyState == 1 && width != 0 && height != 0) {\n",
       "                fig.request_resize(width, height);\n",
       "            }\n",
       "        }\n",
       "    });\n",
       "    this.resizeObserverInstance.observe(canvas_div);\n",
       "\n",
       "    function on_mouse_event_closure(name) {\n",
       "        return function (event) {\n",
       "            return fig.mouse_event(event, name);\n",
       "        };\n",
       "    }\n",
       "\n",
       "    rubberband_canvas.addEventListener(\n",
       "        'mousedown',\n",
       "        on_mouse_event_closure('button_press')\n",
       "    );\n",
       "    rubberband_canvas.addEventListener(\n",
       "        'mouseup',\n",
       "        on_mouse_event_closure('button_release')\n",
       "    );\n",
       "    rubberband_canvas.addEventListener(\n",
       "        'dblclick',\n",
       "        on_mouse_event_closure('dblclick')\n",
       "    );\n",
       "    // Throttle sequential mouse events to 1 every 20ms.\n",
       "    rubberband_canvas.addEventListener(\n",
       "        'mousemove',\n",
       "        on_mouse_event_closure('motion_notify')\n",
       "    );\n",
       "\n",
       "    rubberband_canvas.addEventListener(\n",
       "        'mouseenter',\n",
       "        on_mouse_event_closure('figure_enter')\n",
       "    );\n",
       "    rubberband_canvas.addEventListener(\n",
       "        'mouseleave',\n",
       "        on_mouse_event_closure('figure_leave')\n",
       "    );\n",
       "\n",
       "    canvas_div.addEventListener('wheel', function (event) {\n",
       "        if (event.deltaY < 0) {\n",
       "            event.step = 1;\n",
       "        } else {\n",
       "            event.step = -1;\n",
       "        }\n",
       "        on_mouse_event_closure('scroll')(event);\n",
       "    });\n",
       "\n",
       "    canvas_div.appendChild(canvas);\n",
       "    canvas_div.appendChild(rubberband_canvas);\n",
       "\n",
       "    this.rubberband_context = rubberband_canvas.getContext('2d');\n",
       "    this.rubberband_context.strokeStyle = '#000000';\n",
       "\n",
       "    this._resize_canvas = function (width, height, forward) {\n",
       "        if (forward) {\n",
       "            canvas_div.style.width = width + 'px';\n",
       "            canvas_div.style.height = height + 'px';\n",
       "        }\n",
       "    };\n",
       "\n",
       "    // Disable right mouse context menu.\n",
       "    this.rubberband_canvas.addEventListener('contextmenu', function (_e) {\n",
       "        event.preventDefault();\n",
       "        return false;\n",
       "    });\n",
       "\n",
       "    function set_focus() {\n",
       "        canvas.focus();\n",
       "        canvas_div.focus();\n",
       "    }\n",
       "\n",
       "    window.setTimeout(set_focus, 100);\n",
       "};\n",
       "\n",
       "mpl.figure.prototype._init_toolbar = function () {\n",
       "    var fig = this;\n",
       "\n",
       "    var toolbar = document.createElement('div');\n",
       "    toolbar.classList = 'mpl-toolbar';\n",
       "    this.root.appendChild(toolbar);\n",
       "\n",
       "    function on_click_closure(name) {\n",
       "        return function (_event) {\n",
       "            return fig.toolbar_button_onclick(name);\n",
       "        };\n",
       "    }\n",
       "\n",
       "    function on_mouseover_closure(tooltip) {\n",
       "        return function (event) {\n",
       "            if (!event.currentTarget.disabled) {\n",
       "                return fig.toolbar_button_onmouseover(tooltip);\n",
       "            }\n",
       "        };\n",
       "    }\n",
       "\n",
       "    fig.buttons = {};\n",
       "    var buttonGroup = document.createElement('div');\n",
       "    buttonGroup.classList = 'mpl-button-group';\n",
       "    for (var toolbar_ind in mpl.toolbar_items) {\n",
       "        var name = mpl.toolbar_items[toolbar_ind][0];\n",
       "        var tooltip = mpl.toolbar_items[toolbar_ind][1];\n",
       "        var image = mpl.toolbar_items[toolbar_ind][2];\n",
       "        var method_name = mpl.toolbar_items[toolbar_ind][3];\n",
       "\n",
       "        if (!name) {\n",
       "            /* Instead of a spacer, we start a new button group. */\n",
       "            if (buttonGroup.hasChildNodes()) {\n",
       "                toolbar.appendChild(buttonGroup);\n",
       "            }\n",
       "            buttonGroup = document.createElement('div');\n",
       "            buttonGroup.classList = 'mpl-button-group';\n",
       "            continue;\n",
       "        }\n",
       "\n",
       "        var button = (fig.buttons[name] = document.createElement('button'));\n",
       "        button.classList = 'mpl-widget';\n",
       "        button.setAttribute('role', 'button');\n",
       "        button.setAttribute('aria-disabled', 'false');\n",
       "        button.addEventListener('click', on_click_closure(method_name));\n",
       "        button.addEventListener('mouseover', on_mouseover_closure(tooltip));\n",
       "\n",
       "        var icon_img = document.createElement('img');\n",
       "        icon_img.src = '_images/' + image + '.png';\n",
       "        icon_img.srcset = '_images/' + image + '_large.png 2x';\n",
       "        icon_img.alt = tooltip;\n",
       "        button.appendChild(icon_img);\n",
       "\n",
       "        buttonGroup.appendChild(button);\n",
       "    }\n",
       "\n",
       "    if (buttonGroup.hasChildNodes()) {\n",
       "        toolbar.appendChild(buttonGroup);\n",
       "    }\n",
       "\n",
       "    var fmt_picker = document.createElement('select');\n",
       "    fmt_picker.classList = 'mpl-widget';\n",
       "    toolbar.appendChild(fmt_picker);\n",
       "    this.format_dropdown = fmt_picker;\n",
       "\n",
       "    for (var ind in mpl.extensions) {\n",
       "        var fmt = mpl.extensions[ind];\n",
       "        var option = document.createElement('option');\n",
       "        option.selected = fmt === mpl.default_extension;\n",
       "        option.innerHTML = fmt;\n",
       "        fmt_picker.appendChild(option);\n",
       "    }\n",
       "\n",
       "    var status_bar = document.createElement('span');\n",
       "    status_bar.classList = 'mpl-message';\n",
       "    toolbar.appendChild(status_bar);\n",
       "    this.message = status_bar;\n",
       "};\n",
       "\n",
       "mpl.figure.prototype.request_resize = function (x_pixels, y_pixels) {\n",
       "    // Request matplotlib to resize the figure. Matplotlib will then trigger a resize in the client,\n",
       "    // which will in turn request a refresh of the image.\n",
       "    this.send_message('resize', { width: x_pixels, height: y_pixels });\n",
       "};\n",
       "\n",
       "mpl.figure.prototype.send_message = function (type, properties) {\n",
       "    properties['type'] = type;\n",
       "    properties['figure_id'] = this.id;\n",
       "    this.ws.send(JSON.stringify(properties));\n",
       "};\n",
       "\n",
       "mpl.figure.prototype.send_draw_message = function () {\n",
       "    if (!this.waiting) {\n",
       "        this.waiting = true;\n",
       "        this.ws.send(JSON.stringify({ type: 'draw', figure_id: this.id }));\n",
       "    }\n",
       "};\n",
       "\n",
       "mpl.figure.prototype.handle_save = function (fig, _msg) {\n",
       "    var format_dropdown = fig.format_dropdown;\n",
       "    var format = format_dropdown.options[format_dropdown.selectedIndex].value;\n",
       "    fig.ondownload(fig, format);\n",
       "};\n",
       "\n",
       "mpl.figure.prototype.handle_resize = function (fig, msg) {\n",
       "    var size = msg['size'];\n",
       "    if (size[0] !== fig.canvas.width || size[1] !== fig.canvas.height) {\n",
       "        fig._resize_canvas(size[0], size[1], msg['forward']);\n",
       "        fig.send_message('refresh', {});\n",
       "    }\n",
       "};\n",
       "\n",
       "mpl.figure.prototype.handle_rubberband = function (fig, msg) {\n",
       "    var x0 = msg['x0'] / fig.ratio;\n",
       "    var y0 = (fig.canvas.height - msg['y0']) / fig.ratio;\n",
       "    var x1 = msg['x1'] / fig.ratio;\n",
       "    var y1 = (fig.canvas.height - msg['y1']) / fig.ratio;\n",
       "    x0 = Math.floor(x0) + 0.5;\n",
       "    y0 = Math.floor(y0) + 0.5;\n",
       "    x1 = Math.floor(x1) + 0.5;\n",
       "    y1 = Math.floor(y1) + 0.5;\n",
       "    var min_x = Math.min(x0, x1);\n",
       "    var min_y = Math.min(y0, y1);\n",
       "    var width = Math.abs(x1 - x0);\n",
       "    var height = Math.abs(y1 - y0);\n",
       "\n",
       "    fig.rubberband_context.clearRect(\n",
       "        0,\n",
       "        0,\n",
       "        fig.canvas.width / fig.ratio,\n",
       "        fig.canvas.height / fig.ratio\n",
       "    );\n",
       "\n",
       "    fig.rubberband_context.strokeRect(min_x, min_y, width, height);\n",
       "};\n",
       "\n",
       "mpl.figure.prototype.handle_figure_label = function (fig, msg) {\n",
       "    // Updates the figure title.\n",
       "    fig.header.textContent = msg['label'];\n",
       "};\n",
       "\n",
       "mpl.figure.prototype.handle_cursor = function (fig, msg) {\n",
       "    var cursor = msg['cursor'];\n",
       "    switch (cursor) {\n",
       "        case 0:\n",
       "            cursor = 'pointer';\n",
       "            break;\n",
       "        case 1:\n",
       "            cursor = 'default';\n",
       "            break;\n",
       "        case 2:\n",
       "            cursor = 'crosshair';\n",
       "            break;\n",
       "        case 3:\n",
       "            cursor = 'move';\n",
       "            break;\n",
       "    }\n",
       "    fig.rubberband_canvas.style.cursor = cursor;\n",
       "};\n",
       "\n",
       "mpl.figure.prototype.handle_message = function (fig, msg) {\n",
       "    fig.message.textContent = msg['message'];\n",
       "};\n",
       "\n",
       "mpl.figure.prototype.handle_draw = function (fig, _msg) {\n",
       "    // Request the server to send over a new figure.\n",
       "    fig.send_draw_message();\n",
       "};\n",
       "\n",
       "mpl.figure.prototype.handle_image_mode = function (fig, msg) {\n",
       "    fig.image_mode = msg['mode'];\n",
       "};\n",
       "\n",
       "mpl.figure.prototype.handle_history_buttons = function (fig, msg) {\n",
       "    for (var key in msg) {\n",
       "        if (!(key in fig.buttons)) {\n",
       "            continue;\n",
       "        }\n",
       "        fig.buttons[key].disabled = !msg[key];\n",
       "        fig.buttons[key].setAttribute('aria-disabled', !msg[key]);\n",
       "    }\n",
       "};\n",
       "\n",
       "mpl.figure.prototype.handle_navigate_mode = function (fig, msg) {\n",
       "    if (msg['mode'] === 'PAN') {\n",
       "        fig.buttons['Pan'].classList.add('active');\n",
       "        fig.buttons['Zoom'].classList.remove('active');\n",
       "    } else if (msg['mode'] === 'ZOOM') {\n",
       "        fig.buttons['Pan'].classList.remove('active');\n",
       "        fig.buttons['Zoom'].classList.add('active');\n",
       "    } else {\n",
       "        fig.buttons['Pan'].classList.remove('active');\n",
       "        fig.buttons['Zoom'].classList.remove('active');\n",
       "    }\n",
       "};\n",
       "\n",
       "mpl.figure.prototype.updated_canvas_event = function () {\n",
       "    // Called whenever the canvas gets updated.\n",
       "    this.send_message('ack', {});\n",
       "};\n",
       "\n",
       "// A function to construct a web socket function for onmessage handling.\n",
       "// Called in the figure constructor.\n",
       "mpl.figure.prototype._make_on_message_function = function (fig) {\n",
       "    return function socket_on_message(evt) {\n",
       "        if (evt.data instanceof Blob) {\n",
       "            var img = evt.data;\n",
       "            if (img.type !== 'image/png') {\n",
       "                /* FIXME: We get \"Resource interpreted as Image but\n",
       "                 * transferred with MIME type text/plain:\" errors on\n",
       "                 * Chrome.  But how to set the MIME type?  It doesn't seem\n",
       "                 * to be part of the websocket stream */\n",
       "                img.type = 'image/png';\n",
       "            }\n",
       "\n",
       "            /* Free the memory for the previous frames */\n",
       "            if (fig.imageObj.src) {\n",
       "                (window.URL || window.webkitURL).revokeObjectURL(\n",
       "                    fig.imageObj.src\n",
       "                );\n",
       "            }\n",
       "\n",
       "            fig.imageObj.src = (window.URL || window.webkitURL).createObjectURL(\n",
       "                img\n",
       "            );\n",
       "            fig.updated_canvas_event();\n",
       "            fig.waiting = false;\n",
       "            return;\n",
       "        } else if (\n",
       "            typeof evt.data === 'string' &&\n",
       "            evt.data.slice(0, 21) === 'data:image/png;base64'\n",
       "        ) {\n",
       "            fig.imageObj.src = evt.data;\n",
       "            fig.updated_canvas_event();\n",
       "            fig.waiting = false;\n",
       "            return;\n",
       "        }\n",
       "\n",
       "        var msg = JSON.parse(evt.data);\n",
       "        var msg_type = msg['type'];\n",
       "\n",
       "        // Call the  \"handle_{type}\" callback, which takes\n",
       "        // the figure and JSON message as its only arguments.\n",
       "        try {\n",
       "            var callback = fig['handle_' + msg_type];\n",
       "        } catch (e) {\n",
       "            console.log(\n",
       "                \"No handler for the '\" + msg_type + \"' message type: \",\n",
       "                msg\n",
       "            );\n",
       "            return;\n",
       "        }\n",
       "\n",
       "        if (callback) {\n",
       "            try {\n",
       "                // console.log(\"Handling '\" + msg_type + \"' message: \", msg);\n",
       "                callback(fig, msg);\n",
       "            } catch (e) {\n",
       "                console.log(\n",
       "                    \"Exception inside the 'handler_\" + msg_type + \"' callback:\",\n",
       "                    e,\n",
       "                    e.stack,\n",
       "                    msg\n",
       "                );\n",
       "            }\n",
       "        }\n",
       "    };\n",
       "};\n",
       "\n",
       "// from http://stackoverflow.com/questions/1114465/getting-mouse-location-in-canvas\n",
       "mpl.findpos = function (e) {\n",
       "    //this section is from http://www.quirksmode.org/js/events_properties.html\n",
       "    var targ;\n",
       "    if (!e) {\n",
       "        e = window.event;\n",
       "    }\n",
       "    if (e.target) {\n",
       "        targ = e.target;\n",
       "    } else if (e.srcElement) {\n",
       "        targ = e.srcElement;\n",
       "    }\n",
       "    if (targ.nodeType === 3) {\n",
       "        // defeat Safari bug\n",
       "        targ = targ.parentNode;\n",
       "    }\n",
       "\n",
       "    // pageX,Y are the mouse positions relative to the document\n",
       "    var boundingRect = targ.getBoundingClientRect();\n",
       "    var x = e.pageX - (boundingRect.left + document.body.scrollLeft);\n",
       "    var y = e.pageY - (boundingRect.top + document.body.scrollTop);\n",
       "\n",
       "    return { x: x, y: y };\n",
       "};\n",
       "\n",
       "/*\n",
       " * return a copy of an object with only non-object keys\n",
       " * we need this to avoid circular references\n",
       " * http://stackoverflow.com/a/24161582/3208463\n",
       " */\n",
       "function simpleKeys(original) {\n",
       "    return Object.keys(original).reduce(function (obj, key) {\n",
       "        if (typeof original[key] !== 'object') {\n",
       "            obj[key] = original[key];\n",
       "        }\n",
       "        return obj;\n",
       "    }, {});\n",
       "}\n",
       "\n",
       "mpl.figure.prototype.mouse_event = function (event, name) {\n",
       "    var canvas_pos = mpl.findpos(event);\n",
       "\n",
       "    if (name === 'button_press') {\n",
       "        this.canvas.focus();\n",
       "        this.canvas_div.focus();\n",
       "    }\n",
       "\n",
       "    var x = canvas_pos.x * this.ratio;\n",
       "    var y = canvas_pos.y * this.ratio;\n",
       "\n",
       "    this.send_message(name, {\n",
       "        x: x,\n",
       "        y: y,\n",
       "        button: event.button,\n",
       "        step: event.step,\n",
       "        guiEvent: simpleKeys(event),\n",
       "    });\n",
       "\n",
       "    /* This prevents the web browser from automatically changing to\n",
       "     * the text insertion cursor when the button is pressed.  We want\n",
       "     * to control all of the cursor setting manually through the\n",
       "     * 'cursor' event from matplotlib */\n",
       "    event.preventDefault();\n",
       "    return false;\n",
       "};\n",
       "\n",
       "mpl.figure.prototype._key_event_extra = function (_event, _name) {\n",
       "    // Handle any extra behaviour associated with a key event\n",
       "};\n",
       "\n",
       "mpl.figure.prototype.key_event = function (event, name) {\n",
       "    // Prevent repeat events\n",
       "    if (name === 'key_press') {\n",
       "        if (event.key === this._key) {\n",
       "            return;\n",
       "        } else {\n",
       "            this._key = event.key;\n",
       "        }\n",
       "    }\n",
       "    if (name === 'key_release') {\n",
       "        this._key = null;\n",
       "    }\n",
       "\n",
       "    var value = '';\n",
       "    if (event.ctrlKey && event.key !== 'Control') {\n",
       "        value += 'ctrl+';\n",
       "    }\n",
       "    else if (event.altKey && event.key !== 'Alt') {\n",
       "        value += 'alt+';\n",
       "    }\n",
       "    else if (event.shiftKey && event.key !== 'Shift') {\n",
       "        value += 'shift+';\n",
       "    }\n",
       "\n",
       "    value += 'k' + event.key;\n",
       "\n",
       "    this._key_event_extra(event, name);\n",
       "\n",
       "    this.send_message(name, { key: value, guiEvent: simpleKeys(event) });\n",
       "    return false;\n",
       "};\n",
       "\n",
       "mpl.figure.prototype.toolbar_button_onclick = function (name) {\n",
       "    if (name === 'download') {\n",
       "        this.handle_save(this, null);\n",
       "    } else {\n",
       "        this.send_message('toolbar_button', { name: name });\n",
       "    }\n",
       "};\n",
       "\n",
       "mpl.figure.prototype.toolbar_button_onmouseover = function (tooltip) {\n",
       "    this.message.textContent = tooltip;\n",
       "};\n",
       "\n",
       "///////////////// REMAINING CONTENT GENERATED BY embed_js.py /////////////////\n",
       "// prettier-ignore\n",
       "var _JSXTOOLS_RESIZE_OBSERVER=function(A){var t,i=new WeakMap,n=new WeakMap,a=new WeakMap,r=new WeakMap,o=new Set;function s(e){if(!(this instanceof s))throw new TypeError(\"Constructor requires 'new' operator\");i.set(this,e)}function h(){throw new TypeError(\"Function is not a constructor\")}function c(e,t,i,n){e=0 in arguments?Number(arguments[0]):0,t=1 in arguments?Number(arguments[1]):0,i=2 in arguments?Number(arguments[2]):0,n=3 in arguments?Number(arguments[3]):0,this.right=(this.x=this.left=e)+(this.width=i),this.bottom=(this.y=this.top=t)+(this.height=n),Object.freeze(this)}function d(){t=requestAnimationFrame(d);var s=new WeakMap,p=new Set;o.forEach((function(t){r.get(t).forEach((function(i){var r=t instanceof window.SVGElement,o=a.get(t),d=r?0:parseFloat(o.paddingTop),f=r?0:parseFloat(o.paddingRight),l=r?0:parseFloat(o.paddingBottom),u=r?0:parseFloat(o.paddingLeft),g=r?0:parseFloat(o.borderTopWidth),m=r?0:parseFloat(o.borderRightWidth),w=r?0:parseFloat(o.borderBottomWidth),b=u+f,F=d+l,v=(r?0:parseFloat(o.borderLeftWidth))+m,W=g+w,y=r?0:t.offsetHeight-W-t.clientHeight,E=r?0:t.offsetWidth-v-t.clientWidth,R=b+v,z=F+W,M=r?t.width:parseFloat(o.width)-R-E,O=r?t.height:parseFloat(o.height)-z-y;if(n.has(t)){var k=n.get(t);if(k[0]===M&&k[1]===O)return}n.set(t,[M,O]);var S=Object.create(h.prototype);S.target=t,S.contentRect=new c(u,d,M,O),s.has(i)||(s.set(i,[]),p.add(i)),s.get(i).push(S)}))})),p.forEach((function(e){i.get(e).call(e,s.get(e),e)}))}return s.prototype.observe=function(i){if(i instanceof window.Element){r.has(i)||(r.set(i,new Set),o.add(i),a.set(i,window.getComputedStyle(i)));var n=r.get(i);n.has(this)||n.add(this),cancelAnimationFrame(t),t=requestAnimationFrame(d)}},s.prototype.unobserve=function(i){if(i instanceof window.Element&&r.has(i)){var n=r.get(i);n.has(this)&&(n.delete(this),n.size||(r.delete(i),o.delete(i))),n.size||r.delete(i),o.size||cancelAnimationFrame(t)}},A.DOMRectReadOnly=c,A.ResizeObserver=s,A.ResizeObserverEntry=h,A}; // eslint-disable-line\n",
       "mpl.toolbar_items = [[\"Home\", \"Reset original view\", \"fa fa-home icon-home\", \"home\"], [\"Back\", \"Back to previous view\", \"fa fa-arrow-left icon-arrow-left\", \"back\"], [\"Forward\", \"Forward to next view\", \"fa fa-arrow-right icon-arrow-right\", \"forward\"], [\"\", \"\", \"\", \"\"], [\"Pan\", \"Left button pans, Right button zooms\\nx/y fixes axis, CTRL fixes aspect\", \"fa fa-arrows icon-move\", \"pan\"], [\"Zoom\", \"Zoom to rectangle\\nx/y fixes axis, CTRL fixes aspect\", \"fa fa-square-o icon-check-empty\", \"zoom\"], [\"\", \"\", \"\", \"\"], [\"Download\", \"Download plot\", \"fa fa-floppy-o icon-save\", \"download\"]];\n",
       "\n",
       "mpl.extensions = [\"eps\", \"jpeg\", \"pgf\", \"pdf\", \"png\", \"ps\", \"raw\", \"svg\", \"tif\"];\n",
       "\n",
       "mpl.default_extension = \"png\";/* global mpl */\n",
       "\n",
       "var comm_websocket_adapter = function (comm) {\n",
       "    // Create a \"websocket\"-like object which calls the given IPython comm\n",
       "    // object with the appropriate methods. Currently this is a non binary\n",
       "    // socket, so there is still some room for performance tuning.\n",
       "    var ws = {};\n",
       "\n",
       "    ws.binaryType = comm.kernel.ws.binaryType;\n",
       "    ws.readyState = comm.kernel.ws.readyState;\n",
       "    function updateReadyState(_event) {\n",
       "        if (comm.kernel.ws) {\n",
       "            ws.readyState = comm.kernel.ws.readyState;\n",
       "        } else {\n",
       "            ws.readyState = 3; // Closed state.\n",
       "        }\n",
       "    }\n",
       "    comm.kernel.ws.addEventListener('open', updateReadyState);\n",
       "    comm.kernel.ws.addEventListener('close', updateReadyState);\n",
       "    comm.kernel.ws.addEventListener('error', updateReadyState);\n",
       "\n",
       "    ws.close = function () {\n",
       "        comm.close();\n",
       "    };\n",
       "    ws.send = function (m) {\n",
       "        //console.log('sending', m);\n",
       "        comm.send(m);\n",
       "    };\n",
       "    // Register the callback with on_msg.\n",
       "    comm.on_msg(function (msg) {\n",
       "        //console.log('receiving', msg['content']['data'], msg);\n",
       "        var data = msg['content']['data'];\n",
       "        if (data['blob'] !== undefined) {\n",
       "            data = {\n",
       "                data: new Blob(msg['buffers'], { type: data['blob'] }),\n",
       "            };\n",
       "        }\n",
       "        // Pass the mpl event to the overridden (by mpl) onmessage function.\n",
       "        ws.onmessage(data);\n",
       "    });\n",
       "    return ws;\n",
       "};\n",
       "\n",
       "mpl.mpl_figure_comm = function (comm, msg) {\n",
       "    // This is the function which gets called when the mpl process\n",
       "    // starts-up an IPython Comm through the \"matplotlib\" channel.\n",
       "\n",
       "    var id = msg.content.data.id;\n",
       "    // Get hold of the div created by the display call when the Comm\n",
       "    // socket was opened in Python.\n",
       "    var element = document.getElementById(id);\n",
       "    var ws_proxy = comm_websocket_adapter(comm);\n",
       "\n",
       "    function ondownload(figure, _format) {\n",
       "        window.open(figure.canvas.toDataURL());\n",
       "    }\n",
       "\n",
       "    var fig = new mpl.figure(id, ws_proxy, ondownload, element);\n",
       "\n",
       "    // Call onopen now - mpl needs it, as it is assuming we've passed it a real\n",
       "    // web socket which is closed, not our websocket->open comm proxy.\n",
       "    ws_proxy.onopen();\n",
       "\n",
       "    fig.parent_element = element;\n",
       "    fig.cell_info = mpl.find_output_cell(\"<div id='\" + id + \"'></div>\");\n",
       "    if (!fig.cell_info) {\n",
       "        console.error('Failed to find cell for figure', id, fig);\n",
       "        return;\n",
       "    }\n",
       "    fig.cell_info[0].output_area.element.on(\n",
       "        'cleared',\n",
       "        { fig: fig },\n",
       "        fig._remove_fig_handler\n",
       "    );\n",
       "};\n",
       "\n",
       "mpl.figure.prototype.handle_close = function (fig, msg) {\n",
       "    var width = fig.canvas.width / fig.ratio;\n",
       "    fig.cell_info[0].output_area.element.off(\n",
       "        'cleared',\n",
       "        fig._remove_fig_handler\n",
       "    );\n",
       "    fig.resizeObserverInstance.unobserve(fig.canvas_div);\n",
       "\n",
       "    // Update the output cell to use the data from the current canvas.\n",
       "    fig.push_to_output();\n",
       "    var dataURL = fig.canvas.toDataURL();\n",
       "    // Re-enable the keyboard manager in IPython - without this line, in FF,\n",
       "    // the notebook keyboard shortcuts fail.\n",
       "    IPython.keyboard_manager.enable();\n",
       "    fig.parent_element.innerHTML =\n",
       "        '<img src=\"' + dataURL + '\" width=\"' + width + '\">';\n",
       "    fig.close_ws(fig, msg);\n",
       "};\n",
       "\n",
       "mpl.figure.prototype.close_ws = function (fig, msg) {\n",
       "    fig.send_message('closing', msg);\n",
       "    // fig.ws.close()\n",
       "};\n",
       "\n",
       "mpl.figure.prototype.push_to_output = function (_remove_interactive) {\n",
       "    // Turn the data on the canvas into data in the output cell.\n",
       "    var width = this.canvas.width / this.ratio;\n",
       "    var dataURL = this.canvas.toDataURL();\n",
       "    this.cell_info[1]['text/html'] =\n",
       "        '<img src=\"' + dataURL + '\" width=\"' + width + '\">';\n",
       "};\n",
       "\n",
       "mpl.figure.prototype.updated_canvas_event = function () {\n",
       "    // Tell IPython that the notebook contents must change.\n",
       "    IPython.notebook.set_dirty(true);\n",
       "    this.send_message('ack', {});\n",
       "    var fig = this;\n",
       "    // Wait a second, then push the new image to the DOM so\n",
       "    // that it is saved nicely (might be nice to debounce this).\n",
       "    setTimeout(function () {\n",
       "        fig.push_to_output();\n",
       "    }, 1000);\n",
       "};\n",
       "\n",
       "mpl.figure.prototype._init_toolbar = function () {\n",
       "    var fig = this;\n",
       "\n",
       "    var toolbar = document.createElement('div');\n",
       "    toolbar.classList = 'btn-toolbar';\n",
       "    this.root.appendChild(toolbar);\n",
       "\n",
       "    function on_click_closure(name) {\n",
       "        return function (_event) {\n",
       "            return fig.toolbar_button_onclick(name);\n",
       "        };\n",
       "    }\n",
       "\n",
       "    function on_mouseover_closure(tooltip) {\n",
       "        return function (event) {\n",
       "            if (!event.currentTarget.disabled) {\n",
       "                return fig.toolbar_button_onmouseover(tooltip);\n",
       "            }\n",
       "        };\n",
       "    }\n",
       "\n",
       "    fig.buttons = {};\n",
       "    var buttonGroup = document.createElement('div');\n",
       "    buttonGroup.classList = 'btn-group';\n",
       "    var button;\n",
       "    for (var toolbar_ind in mpl.toolbar_items) {\n",
       "        var name = mpl.toolbar_items[toolbar_ind][0];\n",
       "        var tooltip = mpl.toolbar_items[toolbar_ind][1];\n",
       "        var image = mpl.toolbar_items[toolbar_ind][2];\n",
       "        var method_name = mpl.toolbar_items[toolbar_ind][3];\n",
       "\n",
       "        if (!name) {\n",
       "            /* Instead of a spacer, we start a new button group. */\n",
       "            if (buttonGroup.hasChildNodes()) {\n",
       "                toolbar.appendChild(buttonGroup);\n",
       "            }\n",
       "            buttonGroup = document.createElement('div');\n",
       "            buttonGroup.classList = 'btn-group';\n",
       "            continue;\n",
       "        }\n",
       "\n",
       "        button = fig.buttons[name] = document.createElement('button');\n",
       "        button.classList = 'btn btn-default';\n",
       "        button.href = '#';\n",
       "        button.title = name;\n",
       "        button.innerHTML = '<i class=\"fa ' + image + ' fa-lg\"></i>';\n",
       "        button.addEventListener('click', on_click_closure(method_name));\n",
       "        button.addEventListener('mouseover', on_mouseover_closure(tooltip));\n",
       "        buttonGroup.appendChild(button);\n",
       "    }\n",
       "\n",
       "    if (buttonGroup.hasChildNodes()) {\n",
       "        toolbar.appendChild(buttonGroup);\n",
       "    }\n",
       "\n",
       "    // Add the status bar.\n",
       "    var status_bar = document.createElement('span');\n",
       "    status_bar.classList = 'mpl-message pull-right';\n",
       "    toolbar.appendChild(status_bar);\n",
       "    this.message = status_bar;\n",
       "\n",
       "    // Add the close button to the window.\n",
       "    var buttongrp = document.createElement('div');\n",
       "    buttongrp.classList = 'btn-group inline pull-right';\n",
       "    button = document.createElement('button');\n",
       "    button.classList = 'btn btn-mini btn-primary';\n",
       "    button.href = '#';\n",
       "    button.title = 'Stop Interaction';\n",
       "    button.innerHTML = '<i class=\"fa fa-power-off icon-remove icon-large\"></i>';\n",
       "    button.addEventListener('click', function (_evt) {\n",
       "        fig.handle_close(fig, {});\n",
       "    });\n",
       "    button.addEventListener(\n",
       "        'mouseover',\n",
       "        on_mouseover_closure('Stop Interaction')\n",
       "    );\n",
       "    buttongrp.appendChild(button);\n",
       "    var titlebar = this.root.querySelector('.ui-dialog-titlebar');\n",
       "    titlebar.insertBefore(buttongrp, titlebar.firstChild);\n",
       "};\n",
       "\n",
       "mpl.figure.prototype._remove_fig_handler = function (event) {\n",
       "    var fig = event.data.fig;\n",
       "    if (event.target !== this) {\n",
       "        // Ignore bubbled events from children.\n",
       "        return;\n",
       "    }\n",
       "    fig.close_ws(fig, {});\n",
       "};\n",
       "\n",
       "mpl.figure.prototype._root_extra_style = function (el) {\n",
       "    el.style.boxSizing = 'content-box'; // override notebook setting of border-box.\n",
       "};\n",
       "\n",
       "mpl.figure.prototype._canvas_extra_style = function (el) {\n",
       "    // this is important to make the div 'focusable\n",
       "    el.setAttribute('tabindex', 0);\n",
       "    // reach out to IPython and tell the keyboard manager to turn it's self\n",
       "    // off when our div gets focus\n",
       "\n",
       "    // location in version 3\n",
       "    if (IPython.notebook.keyboard_manager) {\n",
       "        IPython.notebook.keyboard_manager.register_events(el);\n",
       "    } else {\n",
       "        // location in version 2\n",
       "        IPython.keyboard_manager.register_events(el);\n",
       "    }\n",
       "};\n",
       "\n",
       "mpl.figure.prototype._key_event_extra = function (event, _name) {\n",
       "    var manager = IPython.notebook.keyboard_manager;\n",
       "    if (!manager) {\n",
       "        manager = IPython.keyboard_manager;\n",
       "    }\n",
       "\n",
       "    // Check for shift+enter\n",
       "    if (event.shiftKey && event.which === 13) {\n",
       "        this.canvas_div.blur();\n",
       "        // select the cell after this one\n",
       "        var index = IPython.notebook.find_cell_index(this.cell_info[0]);\n",
       "        IPython.notebook.select(index + 1);\n",
       "    }\n",
       "};\n",
       "\n",
       "mpl.figure.prototype.handle_save = function (fig, _msg) {\n",
       "    fig.ondownload(fig, null);\n",
       "};\n",
       "\n",
       "mpl.find_output_cell = function (html_output) {\n",
       "    // Return the cell and output element which can be found *uniquely* in the notebook.\n",
       "    // Note - this is a bit hacky, but it is done because the \"notebook_saving.Notebook\"\n",
       "    // IPython event is triggered only after the cells have been serialised, which for\n",
       "    // our purposes (turning an active figure into a static one), is too late.\n",
       "    var cells = IPython.notebook.get_cells();\n",
       "    var ncells = cells.length;\n",
       "    for (var i = 0; i < ncells; i++) {\n",
       "        var cell = cells[i];\n",
       "        if (cell.cell_type === 'code') {\n",
       "            for (var j = 0; j < cell.output_area.outputs.length; j++) {\n",
       "                var data = cell.output_area.outputs[j];\n",
       "                if (data.data) {\n",
       "                    // IPython >= 3 moved mimebundle to data attribute of output\n",
       "                    data = data.data;\n",
       "                }\n",
       "                if (data['text/html'] === html_output) {\n",
       "                    return [cell, data, j];\n",
       "                }\n",
       "            }\n",
       "        }\n",
       "    }\n",
       "};\n",
       "\n",
       "// Register the function which deals with the matplotlib target/channel.\n",
       "// The kernel may be null if the page has been refreshed.\n",
       "if (IPython.notebook.kernel !== null) {\n",
       "    IPython.notebook.kernel.comm_manager.register_target(\n",
       "        'matplotlib',\n",
       "        mpl.mpl_figure_comm\n",
       "    );\n",
       "}\n"
      ],
      "text/plain": [
       "<IPython.core.display.Javascript object>"
      ]
     },
     "metadata": {},
     "output_type": "display_data"
    },
    {
     "data": {
      "text/html": [
       "<img src=\"data:image/png;base64,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\" width=\"640\">"
      ],
      "text/plain": [
       "<IPython.core.display.HTML object>"
      ]
     },
     "metadata": {},
     "output_type": "display_data"
    },
    {
     "data": {
      "text/plain": [
       "[<matplotlib.lines.Line2D at 0x248ce2ce490>]"
      ]
     },
     "execution_count": 34,
     "metadata": {},
     "output_type": "execute_result"
    }
   ],
   "source": [
    "plt.figure()\n",
    "plt.grid()\n",
    "plt.axvline(x = 0, color= 'black')\n",
    "plt.axhline(y = 0, color= 'black')\n",
    "plt.plot(x, y_1)\n",
    "plt.plot(x, y_2)\n",
    "plt.plot(x, y_3)"
   ]
  },
  {
   "cell_type": "markdown",
   "metadata": {},
   "source": [
    "Podemos ver que las 3 rectas se intersectan en un punto. Por lo que el sistema *sí tiene solución* y además, *es única*. Por lo que es un sistema **compatible determinado**."
   ]
  },
  {
   "cell_type": "markdown",
   "metadata": {},
   "source": [
    "![](https://slideplayer.es/slide/5478638/17/images/5/Sistema+compatible+determinado+Sistema+compatible+indeterminado.jpg)"
   ]
  },
  {
   "cell_type": "markdown",
   "metadata": {},
   "source": [
    "---"
   ]
  },
  {
   "cell_type": "markdown",
   "metadata": {},
   "source": [
    "### Graficar vectores"
   ]
  },
  {
   "cell_type": "markdown",
   "metadata": {},
   "source": [
    "Vamos a crear una función que nos va a ayudar a visualizar vectores para trabajar en el resto de contenidos. Escribiremos el código aquí y también lo guardaremos en otro archivo en local para hacer la llamada a la función desde otro notebook."
   ]
  },
  {
   "cell_type": "code",
   "execution_count": 1,
   "metadata": {},
   "outputs": [],
   "source": [
    "%matplotlib inline\n",
    "\n",
    "import numpy as np\n",
    "import matplotlib.pyplot as plt"
   ]
  },
  {
   "cell_type": "code",
   "execution_count": 2,
   "metadata": {},
   "outputs": [],
   "source": [
    "v1 = np.array([2,5])\n",
    "v2 = np.array([3,2])"
   ]
  },
  {
   "cell_type": "code",
   "execution_count": 77,
   "metadata": {},
   "outputs": [],
   "source": [
    "def graficar_vectores(vectors, color, alpha=1):\n",
    "    \n",
    "    plt.figure()\n",
    "    plt.grid()\n",
    "    \n",
    "    # Ejes\n",
    "    plt.axvline(x=0, color='black')\n",
    "    plt.axhline(y=0, color='black')\n",
    "    \n",
    "    for i in range(len(vectors)):\n",
    "        # Recorremos cada vector y los concatenamos\n",
    "        # (Para poner la cola del vector - origen)\n",
    "        x = np.concatenate([[0,0], vectors[i]])\n",
    "        \n",
    "        # Graficamos\n",
    "        plt.quiver([x[0]],\n",
    "                   [x[1]],\n",
    "                   [x[2]],\n",
    "                   [x[3]],\n",
    "                   angles = 'xy',\n",
    "                   scale_units='xy',\n",
    "                   scale= 1,\n",
    "                   color= color[i],\n",
    "                   alpha = alpha)"
   ]
  },
  {
   "cell_type": "code",
   "execution_count": 5,
   "metadata": {
    "scrolled": false
   },
   "outputs": [
    {
     "data": {
      "text/plain": [
       "(-1.0, 6.0)"
      ]
     },
     "execution_count": 5,
     "metadata": {},
     "output_type": "execute_result"
    },
    {
     "data": {
      "image/png": "[encoded data removed]",
      "text/plain": [
       "<Figure size 432x288 with 1 Axes>"
      ]
     },
     "metadata": {
      "needs_background": "light"
     },
     "output_type": "display_data"
    }
   ],
   "source": [
    "graficar_vectores([v1, v2], ['blue','red'], alpha=1)\n",
    "\n",
    "plt.xlim(-1, 5)\n",
    "plt.ylim(-1,6)"
   ]
  },
  {
   "cell_type": "markdown",
   "metadata": {},
   "source": [
    "Vamos a estar utilizando constantemente esta función, pero recordemos que cada que reiniciemos el notebook se borrará de la memoria y tendremos que buscar la celda y ejecutar de nuevo. Para evitar esto, la guardaremos en un nuevo notebook y simplemente \"mandaremos a ejecutar\" dicho notebook cada que queramos utilizar la función."
   ]
  },
  {
   "cell_type": "markdown",
   "metadata": {},
   "source": [
    "Utilizaremos el comando `%run\"\"` con la ruta relativa de nuestro archivo dentro de las comillas, el cual que contiene la función que queremos utilizar."
   ]
  },
  {
   "cell_type": "code",
   "execution_count": 4,
   "metadata": {},
   "outputs": [],
   "source": [
    "%run \"./Funciones_Auxiliares/Graficar_Vectores.ipynb\""
   ]
  },
  {
   "cell_type": "markdown",
   "metadata": {},
   "source": [
    "Para verificar que esto funciona, reinicie el notebook e intente ejecutar la instrucción:\n",
    "\n",
    "```Python\n",
    "graficar_vectores([v1, v2], ['blue','red'], alpha=1)\n",
    "\n",
    "plt.xlim(-1, 5)\n",
    "plt.ylim(-1,6)\n",
    "```"
   ]
  },
  {
   "cell_type": "markdown",
   "metadata": {},
   "source": [
    "y aparecerá que no está definida dicha función, así que después ejecute la linea con la instrucción `%run\"\"` y ahora sí se podrá ejecutar el graficado ya que ha sido llamado desde el otro notebook."
   ]
  },
  {
   "cell_type": "markdown",
   "metadata": {},
   "source": [
    "---"
   ]
  },
  {
   "cell_type": "code",
   "execution_count": null,
   "metadata": {},
   "outputs": [],
   "source": []
  }
 ],
 "metadata": {
  "colab": {
   "authorship_tag": "ABX9TyPiv9zPYkOv/TkQILiye/UB",
   "collapsed_sections": [],
   "name": "Fundamentos_Algebra_Lineal_con_Python.ipynb",
   "provenance": []
  },
  "kernelspec": {
   "display_name": "Python 3",
   "language": "python",
   "name": "python3"
  },
  "language_info": {
   "codemirror_mode": {
    "name": "ipython",
    "version": 3
   },
   "file_extension": ".py",
   "mimetype": "text/x-python",
   "name": "python",
   "nbconvert_exporter": "python",
   "pygments_lexer": "ipython3",
   "version": "3.8.3"
  },
  "toc": {
   "base_numbering": "",
   "nav_menu": {},
   "number_sections": false,
   "sideBar": true,
   "skip_h1_title": false,
   "title_cell": "Tabla de contenidos 💜",
   "title_sidebar": "Contents",
   "toc_cell": true,
   "toc_position": {},
   "toc_section_display": true,
   "toc_window_display": false
  }
 },
 "nbformat": 4,
 "nbformat_minor": 1
}
