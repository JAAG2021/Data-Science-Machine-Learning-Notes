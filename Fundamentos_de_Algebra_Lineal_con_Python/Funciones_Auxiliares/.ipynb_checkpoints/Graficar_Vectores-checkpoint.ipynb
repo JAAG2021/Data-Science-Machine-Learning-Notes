{
 "cells": [
  {
   "cell_type": "code",
   "execution_count": 2,
   "metadata": {},
   "outputs": [],
   "source": [
    "%matplotlib inline\n",
    "\n",
    "import numpy as np\n",
    "import matplotlib.pyplot as plt"
   ]
  },
  {
   "cell_type": "code",
   "execution_count": 3,
   "metadata": {},
   "outputs": [],
   "source": [
    "def graficar_vectores(vectors, color, alpha=1):\n",
    "    \n",
    "    plt.figure()\n",
    "    plt.grid()\n",
    "    \n",
    "    # Ejes\n",
    "    plt.axvline(x=0, color='black')\n",
    "    plt.axhline(y=0, color='black')\n",
    "    \n",
    "    for i in range(len(vectors)):\n",
    "        # Recorremos cada vector y los concatenamos\n",
    "        # (Para poner la cola del vector - origen)\n",
    "        x = np.concatenate([[0,0], vectors[i]])\n",
    "        \n",
    "        # Graficamos\n",
    "        plt.quiver([x[0]],\n",
    "                   [x[1]],\n",
    "                   [x[2]],\n",
    "                   [x[3]],\n",
    "                   angles = 'xy',\n",
    "                   scale_units='xy',\n",
    "                   scale= 1,\n",
    "                   color= color[i],\n",
    "                   alpha = alpha)"
   ]
  }
 ],
 "metadata": {
  "kernelspec": {
   "display_name": "Python 3",
   "language": "python",
   "name": "python3"
  },
  "language_info": {
   "codemirror_mode": {
    "name": "ipython",
    "version": 3
   },
   "file_extension": ".py",
   "mimetype": "text/x-python",
   "name": "python",
   "nbconvert_exporter": "python",
   "pygments_lexer": "ipython3",
   "version": "3.8.3"
  },
  "toc": {
   "base_numbering": 1,
   "nav_menu": {},
   "number_sections": true,
   "sideBar": true,
   "skip_h1_title": false,
   "title_cell": "Table of Contents",
   "title_sidebar": "Contents",
   "toc_cell": false,
   "toc_position": {},
   "toc_section_display": true,
   "toc_window_display": false
  }
 },
 "nbformat": 4,
 "nbformat_minor": 4
}
