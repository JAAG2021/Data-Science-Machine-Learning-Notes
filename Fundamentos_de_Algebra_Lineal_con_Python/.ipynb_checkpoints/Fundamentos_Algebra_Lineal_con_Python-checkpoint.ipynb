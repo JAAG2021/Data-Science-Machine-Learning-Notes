{
 "cells": [
  {
   "cell_type": "markdown",
   "metadata": {
    "toc": true
   },
   "source": [
    "<h1>Tabla de contenidos 💜<span class=\"tocSkip\"></span></h1>\n",
    "<div class=\"toc\"><ul class=\"toc-item\"><li><span><a href=\"#Fundamentos-de-Álgebra-lineal-con-Python\" data-toc-modified-id=\"Fundamentos-de-Álgebra-lineal-con-Python-0\">Fundamentos de Álgebra lineal con Python</a></span><ul class=\"toc-item\"><li><span><a href=\"#Conceptos-básicos\" data-toc-modified-id=\"Conceptos-básicos-0.1\">Conceptos básicos</a></span><ul class=\"toc-item\"><li><span><a href=\"#Escalar\" data-toc-modified-id=\"Escalar-0.1.1\">Escalar</a></span></li><li><span><a href=\"#Vector\" data-toc-modified-id=\"Vector-0.1.2\">Vector</a></span></li><li><span><a href=\"#Matriz\" data-toc-modified-id=\"Matriz-0.1.3\">Matriz</a></span></li><li><span><a href=\"#Tensor\" data-toc-modified-id=\"Tensor-0.1.4\">Tensor</a></span></li></ul></li><li><span><a href=\"#Operaciones-básicas\" data-toc-modified-id=\"Operaciones-básicas-0.2\">Operaciones básicas</a></span><ul class=\"toc-item\"><li><span><a href=\"#Dimensión-de-un-escalar,-vector,-matriz-o-tensor\" data-toc-modified-id=\"Dimensión-de-un-escalar,-vector,-matriz-o-tensor-0.2.1\">Dimensión de un escalar, vector, matriz o tensor</a></span></li><li><span><a href=\"#Transposición\" data-toc-modified-id=\"Transposición-0.2.2\">Transposición</a></span></li><li><span><a href=\"#Suma-de-matrices\" data-toc-modified-id=\"Suma-de-matrices-0.2.3\">Suma de matrices</a></span></li><li><span><a href=\"#Suma-de-matrices-y-vectores-con-dimensiones-distintas-(broadcasting)\" data-toc-modified-id=\"Suma-de-matrices-y-vectores-con-dimensiones-distintas-(broadcasting)-0.2.4\">Suma de matrices y vectores con dimensiones distintas (broadcasting)</a></span></li></ul></li></ul></li></ul></div>"
   ]
  },
  {
   "cell_type": "markdown",
   "metadata": {
    "id": "9ArqM3v4Prsa"
   },
   "source": [
    "# Fundamentos de Álgebra lineal con Python"
   ]
  },
  {
   "cell_type": "markdown",
   "metadata": {
    "id": "4rZTAWNHbHd7"
   },
   "source": [
    "## Conceptos básicos"
   ]
  },
  {
   "cell_type": "markdown",
   "metadata": {
    "id": "IQ_RxEzUbwme"
   },
   "source": [
    "### Escalar"
   ]
  },
  {
   "cell_type": "markdown",
   "metadata": {
    "id": "h45LCAh7dMQu"
   },
   "source": [
    "Se denomina **escalar** a los números reales, constantes o complejos que sirven para describir un fenómeno físico (o de otro tipo) con magnitud, pero sin la característica *vectorial* de la dirección. Más formalmente, **es un tensor de orden cero**.\n",
    "\n",
    "En términos matemáticos, se llama **escalar** a los elementos de un *cuerpo* (en algunos casos también a los elementos de un anillo), generalmente números, y en particular se usa con vectores en álgebra lineal y en cualquier rama que use *módulos* o *espacios vectoriales*."
   ]
  },
  {
   "cell_type": "markdown",
   "metadata": {
    "id": "qqjY2wLWdzLq"
   },
   "source": [
    "Al trabajar en Python con escalares tenemos de muchos tipos, por ejemplo, **enteros**, **flotantes**, **complejos**, **string** o **null/non-type**, etc."
   ]
  },
  {
   "cell_type": "code",
   "execution_count": 52,
   "metadata": {
    "colab": {
     "base_uri": "https://localhost:8080/"
    },
    "id": "IrVjCsXmdl4e",
    "outputId": "afec4022-0097-47c0-9dde-280bab804233"
   },
   "outputs": [
    {
     "name": "stdout",
     "output_type": "stream",
     "text": [
      "5\n",
      "<class 'int'>\n"
     ]
    }
   ],
   "source": [
    "escalar_int = 5\n",
    "print(escalar_int)\n",
    "print(type(escalar_int))"
   ]
  },
  {
   "cell_type": "code",
   "execution_count": 53,
   "metadata": {
    "colab": {
     "base_uri": "https://localhost:8080/"
    },
    "id": "ZlUH_6VddxA6",
    "outputId": "cc718110-5c8e-4e4c-8003-4796aaf683da"
   },
   "outputs": [
    {
     "name": "stdout",
     "output_type": "stream",
     "text": [
      "3.1416\n",
      "<class 'float'>\n"
     ]
    }
   ],
   "source": [
    "escalar_float = 3.1416\n",
    "print(escalar_float)\n",
    "print(type(escalar_float))"
   ]
  },
  {
   "cell_type": "code",
   "execution_count": 54,
   "metadata": {
    "colab": {
     "base_uri": "https://localhost:8080/"
    },
    "id": "VCmLRW32eK0I",
    "outputId": "e80ff0cc-5687-49ad-e498-1bfea385356b"
   },
   "outputs": [
    {
     "name": "stdout",
     "output_type": "stream",
     "text": [
      "True\n",
      "<class 'bool'>\n"
     ]
    }
   ],
   "source": [
    "escalar_bool = True\n",
    "print(escalar_bool)\n",
    "print(type(escalar_bool))"
   ]
  },
  {
   "cell_type": "code",
   "execution_count": 55,
   "metadata": {
    "colab": {
     "base_uri": "https://localhost:8080/"
    },
    "id": "rgItgc5oeQQj",
    "outputId": "8734922e-0a12-457e-8625-1d021519cd8e"
   },
   "outputs": [
    {
     "name": "stdout",
     "output_type": "stream",
     "text": [
      "(5+3j)\n",
      "<class 'complex'>\n"
     ]
    }
   ],
   "source": [
    "import cmath\n",
    "escalar_complex = complex(5, 3)\n",
    "print(escalar_complex)\n",
    "print(type(escalar_complex))"
   ]
  },
  {
   "cell_type": "markdown",
   "metadata": {
    "id": "hG8ogn0gf8RR"
   },
   "source": [
    "### Vector"
   ]
  },
  {
   "cell_type": "markdown",
   "metadata": {
    "id": "BWlRQDoIf9s5"
   },
   "source": [
    "Es un énte matemático como la *recta* o el *plano*. Se puede representar mediante un segmento de recta, orientado dentro del *espacio euclidiano tridimensional*. Ek vectir tiene 3 elementos:\n",
    "\n",
    "* Módulo (cuánto mide)\n",
    "* Dirección (ángulo respecto a algún eje)\n",
    "* Sentido (hacía donde \"apunta\" la cabeza de la flecha)\n",
    "\n",
    "En matemáticas se define al vector como **un elemento de un espacio vectorial**. Esta noción es más abstracta y para muchos espacios vectoriales no es posible representar sus vectores mediante el módulo y la dirección. En particular los espacios de dimensión infinita sin producto escalar no son representables de ese modo."
   ]
  },
  {
   "cell_type": "markdown",
   "metadata": {
    "id": "SO4g1bLJg8VL"
   },
   "source": [
    "Se llama **vector** de dimensión $n$ a una **tupla** de números reales (que se llaman componentes del vector). El conjunto de todos los vectores de dimensión se representa cómo $\\mathbb{R}^n$ (formado mediante el producto cartesiano).\n",
    "\n",
    "Así, un vector $v$ perteneciente a un espacio $\\mathbb{R}$ se representa como:"
   ]
  },
  {
   "cell_type": "markdown",
   "metadata": {
    "id": "GJ82nmPZhbfs"
   },
   "source": [
    "$$ v = (a_1, a_2, a_3, ... ,a_n),\\text{donde } v \\in \\mathbb{R}^n $$"
   ]
  },
  {
   "cell_type": "markdown",
   "metadata": {
    "id": "RdLKEbAchcN-"
   },
   "source": [
    "Podemos ver al vector como un *conjunto de números*."
   ]
  },
  {
   "cell_type": "code",
   "execution_count": 56,
   "metadata": {
    "colab": {
     "base_uri": "https://localhost:8080/"
    },
    "id": "HyhFwYb7fC1S",
    "outputId": "be90253b-77c0-4bf1-def5-7f9c55aca051"
   },
   "outputs": [
    {
     "name": "stdout",
     "output_type": "stream",
     "text": [
      "[[1]\n",
      " [2]\n",
      " [3]]\n",
      "<class 'numpy.ndarray'>\n"
     ]
    }
   ],
   "source": [
    "import numpy as np\n",
    "# Vector Columna\n",
    "column_vector = np.array([[1],[2],[3]])\n",
    "print(column_vector)\n",
    "print(type(column_vector))"
   ]
  },
  {
   "cell_type": "code",
   "execution_count": 57,
   "metadata": {
    "colab": {
     "base_uri": "https://localhost:8080/"
    },
    "id": "NBt4D69YiYom",
    "outputId": "81210bae-810a-49bd-ffae-ed014aaaca3b"
   },
   "outputs": [
    {
     "name": "stdout",
     "output_type": "stream",
     "text": [
      "[1 2 3]\n",
      "<class 'numpy.ndarray'>\n"
     ]
    }
   ],
   "source": [
    "import numpy as np\n",
    "# Vector Fila\n",
    "row_vector = np.array([1,2,3])\n",
    "print(row_vector)\n",
    "print(type(row_vector))"
   ]
  },
  {
   "cell_type": "markdown",
   "metadata": {
    "id": "gfbmZeMriw9Y"
   },
   "source": [
    "### Matriz"
   ]
  },
  {
   "cell_type": "markdown",
   "metadata": {
    "id": "cqPnyoNFiz9l"
   },
   "source": [
    "En matemáticas, una **matriz** es un *arreglo bidimensional de números*. Dado que puede definirse tanto la suma como el producto de matrices, en mayor generalidad se dice que son **elementos de un anillo**. Una matriz se representa por medio de una letra mayúscula $(A,B, \\dots)$ y sus elementos con la misma letra en minúscula $(a,b,\\dots)$, con un doble subíndice, donde el primero indica la fila y el segundo la columna a la que pertenece."
   ]
  },
  {
   "cell_type": "markdown",
   "metadata": {
    "id": "Mf3MUk29izWv"
   },
   "source": [
    "$$A = \n",
    "\\begin{pmatrix}\n",
    "a_{11} & a_{12} & \\dots & a_{1n} \\\\\n",
    "a_{21} & a_{22} & \\dots & a_{2n} \\\\\n",
    "\\vdots & \\vdots & \\ddots & \\vdots \\\\\n",
    "a_{m1} & a_{m2} & \\dots & a_{mn} \\\\\n",
    "\\end{pmatrix}$$"
   ]
  },
  {
   "cell_type": "markdown",
   "metadata": {
    "id": "3SKfZQOTlC26"
   },
   "source": [
    "Siempre que 2 matrices tengan el mismo número de filas y de columnas, pueden sumarse o restarse elemento por elemento.\n",
    "\n",
    "Las matrices sirven para representar las coeficientes de los sistemas de ecuaciones lineales o para representar transformaciones lineales dadas una base.\n",
    "\n",
    "Pueden sumarse, multiplicarse y descomponerse de varias formas, lo que también las hace un concepto clave en el campo del álgebra lineal."
   ]
  },
  {
   "cell_type": "code",
   "execution_count": 58,
   "metadata": {
    "colab": {
     "base_uri": "https://localhost:8080/"
    },
    "id": "cFzlOqHxnYAJ",
    "outputId": "ef04994c-f343-45de-d58e-44e8a463fccf"
   },
   "outputs": [
    {
     "name": "stdout",
     "output_type": "stream",
     "text": [
      "[[0 1 2 3]\n",
      " [3 2 1 0]\n",
      " [1 2 3 4]\n",
      " [3 2 1 0]]\n",
      "<class 'numpy.ndarray'>\n"
     ]
    }
   ],
   "source": [
    "import numpy as np\n",
    "matrix = np.array([\n",
    "                   [0, 1, 2 ,3],\n",
    "                   [3, 2, 1, 0],\n",
    "                   [1, 2, 3, 4],\n",
    "                   [3, 2, 1, 0]\n",
    "])\n",
    "\n",
    "print(matrix)\n",
    "print(type(matrix))"
   ]
  },
  {
   "cell_type": "markdown",
   "metadata": {
    "id": "36dImWdwldTy"
   },
   "source": [
    "### Tensor"
   ]
  },
  {
   "cell_type": "markdown",
   "metadata": {
    "id": "iTp1OnhAlevF"
   },
   "source": [
    "Un **tensor** es cierta clase de entidad  algebraica de varios componentes que generalizan los conceptos de escalar, vector y matriz **de manera que sea independiente de cualquier sistema de coordenadas**. Se suele utilizar el convenio se **suma de Einstein**.\n",
    "\n",
    "Una vez elegida la base vectorial, los componentes de un tensor en una base vendrán dadas por una **multi-matriz**. El orden del tensor será el número de índices necesarios para especificar sin ambigüedad un componente de un tensor: \n",
    "\n",
    "* Un **escalar** será considerado como un tensor de orden 0.\n",
    "* Un **vecor** será considerado como un tensor de orden 1.\n",
    "* Y dada una *base vectorial*, los tensores de segundo orden pueden ser representados por una **matriz**."
   ]
  },
  {
   "cell_type": "markdown",
   "metadata": {
    "id": "25xyl56dpa4i"
   },
   "source": [
    "![](https://miro.medium.com/max/891/0*jGB1CGQ9HdeUwlgB)"
   ]
  },
  {
   "cell_type": "markdown",
   "metadata": {
    "id": "rD5S95zIoKNi"
   },
   "source": [
    "Podemos ver al tensor como varias matrices acomodadas en \"capas\"."
   ]
  },
  {
   "cell_type": "code",
   "execution_count": 59,
   "metadata": {
    "colab": {
     "base_uri": "https://localhost:8080/"
    },
    "id": "cdLDQGUjnz0_",
    "outputId": "5384d5c4-902b-4c06-bea6-c6011a625679"
   },
   "outputs": [
    {
     "name": "stdout",
     "output_type": "stream",
     "text": [
      "[[[ 11  22  33]\n",
      "  [ 44  55  66]\n",
      "  [ 77  88  99]]\n",
      "\n",
      " [[ 99 368 777]\n",
      "  [666 555 444]\n",
      "  [333 222 111]]\n",
      "\n",
      " [[ 13 297 306]\n",
      "  [546  58 642]\n",
      "  [ 27 328 943]]]\n",
      "<class 'numpy.ndarray'>\n"
     ]
    }
   ],
   "source": [
    "import numpy as np\n",
    "\n",
    "tensor = np.array([\n",
    "                   [ [11,22,33],  [44,55,66],   [77,88,99]    ],\n",
    "                   [ [99,368,777],[666,555,444],[333,222,111] ],\n",
    "                   [ [13,297,306],[546,58,642], [27,328,943]  ]\n",
    "])\n",
    "print(tensor)\n",
    "print(type(tensor))"
   ]
  },
  {
   "cell_type": "markdown",
   "metadata": {
    "id": "723Uwk3ooZP5"
   },
   "source": [
    "Vamos a visualizar nuestro tensor, **suponiendo** que los datos que tenemos son los que representan a una imagen."
   ]
  },
  {
   "cell_type": "code",
   "execution_count": 60,
   "metadata": {
    "colab": {
     "base_uri": "https://localhost:8080/",
     "height": 305
    },
    "id": "n3AMZePloe2B",
    "outputId": "df32b415-d74f-43f4-f641-7dbdbc5f8dca"
   },
   "outputs": [
    {
     "name": "stderr",
     "output_type": "stream",
     "text": [
      "Clipping input data to the valid range for imshow with RGB data ([0..1] for floats or [0..255] for integers).\n"
     ]
    },
    {
     "data": {
      "text/plain": [
       "<module 'matplotlib.pyplot' from '/usr/local/lib/python3.7/dist-packages/matplotlib/pyplot.py'>"
      ]
     },
     "execution_count": 60,
     "metadata": {
      "tags": []
     },
     "output_type": "execute_result"
    },
    {
     "data": {
      "image/png": "[encoded data removed]",
      "text/plain": [
       "<Figure size 432x288 with 1 Axes>"
      ]
     },
     "metadata": {
      "needs_background": "light",
      "tags": []
     },
     "output_type": "display_data"
    }
   ],
   "source": [
    "%matplotlib inline\n",
    "import matplotlib.pyplot as plt\n",
    "\n",
    "plt.imshow(tensor, interpolation='nearest')\n",
    "plt"
   ]
  },
  {
   "cell_type": "markdown",
   "metadata": {
    "id": "ki-gAhkqesVr"
   },
   "source": [
    "Podemos decir que en lo que se diferencian nuestros elementos como los escalares, vectores, matrices y tensores es en los *grados de libertad que tenemos para interactuar con ellos*."
   ]
  },
  {
   "cell_type": "markdown",
   "metadata": {
    "id": "mGEjSb1TjMJM"
   },
   "source": [
    "![](https://i.imgur.com/vDwWVp9.png)"
   ]
  },
  {
   "cell_type": "markdown",
   "metadata": {
    "id": "RXVt09Mqp1Ib"
   },
   "source": [
    "---"
   ]
  },
  {
   "cell_type": "markdown",
   "metadata": {
    "id": "4Xy8Pndop2uu"
   },
   "source": [
    "## Operaciones básicas"
   ]
  },
  {
   "cell_type": "markdown",
   "metadata": {
    "id": "fu4-yX6FHnc5"
   },
   "source": [
    "### Dimensión de un escalar, vector, matriz o tensor"
   ]
  },
  {
   "cell_type": "markdown",
   "metadata": {
    "id": "c0vHD_5-HucJ"
   },
   "source": [
    "En álgebra lineal es importante tener en consideración las dimensiones que tienen nuestras matrices, vectores y tensores. Ya que algunas veces, de ello dependerá si las operaciones entre ellos están definidas o no. Por ejemplo, en el caso de una multiplicación de una matriz por un vector (producto interno), tenemos que coincidir en la dimensión de nuestro vector con la cantidad de filas que tiene nuestra matriz.\n",
    "\n",
    "De forma que se cumple que, si tenemos una matriz de $m\\times n$ por un vector columna $n\\times 1$, entonces obtendremos de resultado un vector fila de $m \\times 1$ (más adelante veremos este tema con calma)."
   ]
  },
  {
   "cell_type": "markdown",
   "metadata": {
    "id": "O-Azhm4RKwBq"
   },
   "source": [
    "$$\\begin{align*}\n",
    "  A\\cdot {x}=\n",
    "  \\left[\n",
    "    \\begin{array}{cccc}\n",
    "      a_{11} & a_{12} & \\ldots & a_{1n}\\\\\n",
    "      a_{21} & a_{22} & \\ldots & a_{2n}\\\\\n",
    "      \\vdots & \\vdots & \\ddots & \\vdots\\\\\n",
    "      a_{m1} & a_{m2} & \\ldots & a_{mn}\n",
    "    \\end{array}\n",
    "  \\right]\n",
    "  \\left[\n",
    "    \\begin{array}{c}\n",
    "      x_1\\\\\n",
    "      x_2\\\\\n",
    "      \\vdots\\\\\n",
    "      x_n\n",
    "    \\end{array}\n",
    "  \\right]\n",
    "  =\n",
    "  \\left[\n",
    "    \\begin{array}{c}\n",
    "      a_{11}x_1+a_{12}x_2 + \\cdots + a_{1n} x_n\\\\\n",
    "      a_{21}x_1+a_{22}x_2 + \\cdots + a_{2n} x_n\\\\\n",
    "      \\vdots\\\\\n",
    "      a_{m1}x_1+a_{m2}x_2 + \\cdots + a_{mn} x_n\\\\\n",
    "    \\end{array}\n",
    "  \\right].\n",
    "\\end{align*}$$"
   ]
  },
  {
   "cell_type": "markdown",
   "metadata": {
    "id": "AbZ4iC2ILFct"
   },
   "source": [
    "Entonces, es importante conocer las dimensiones de nuestros `arrays`, y para ello tenemos el método `.shape`"
   ]
  },
  {
   "cell_type": "code",
   "execution_count": 65,
   "metadata": {
    "id": "dBfkqNKjIuKl"
   },
   "outputs": [],
   "source": [
    "import numpy as np\n",
    "scalar = 5.679\n",
    "row_vector = np.array([1,2,3])\n",
    "column_vector = np.array([[1],\n",
    "                          [2],\n",
    "                          [3]])\n",
    "matrix = np.array([[1,2],\n",
    "                   [2,3]])\n",
    "tensor = np.array([\n",
    "                   [ [11,22,33],  [44,55,66],   [77,88,99]    ],\n",
    "                   [ [99,368,777],[666,555,444],[333,222,111] ],\n",
    "                   [ [13,297,306],[546,58,642], [27,328,943]  ]\n",
    "])"
   ]
  },
  {
   "cell_type": "markdown",
   "metadata": {
    "id": "mDVx4q6jLUE6"
   },
   "source": [
    "El siguiente error ocurre por que el escalar es considerado un tensor de dimensión 0, es decir, no tiene dimensión."
   ]
  },
  {
   "cell_type": "code",
   "execution_count": 66,
   "metadata": {
    "colab": {
     "base_uri": "https://localhost:8080/",
     "height": 171
    },
    "id": "8tM8_UGcJ0Oq",
    "outputId": "817a0c76-dba3-4816-9456-cc374c671947"
   },
   "outputs": [
    {
     "ename": "AttributeError",
     "evalue": "ignored",
     "output_type": "error",
     "traceback": [
      "\u001b[0;31m---------------------------------------------------------------------------\u001b[0m",
      "\u001b[0;31mAttributeError\u001b[0m                            Traceback (most recent call last)",
      "\u001b[0;32m<ipython-input-66-776ed50dff43>\u001b[0m in \u001b[0;36m<module>\u001b[0;34m()\u001b[0m\n\u001b[0;32m----> 1\u001b[0;31m \u001b[0mscalar\u001b[0m\u001b[0;34m.\u001b[0m\u001b[0mshape\u001b[0m\u001b[0;34m(\u001b[0m\u001b[0;34m)\u001b[0m\u001b[0;34m\u001b[0m\u001b[0;34m\u001b[0m\u001b[0m\n\u001b[0m",
      "\u001b[0;31mAttributeError\u001b[0m: 'float' object has no attribute 'shape'"
     ]
    }
   ],
   "source": [
    "scalar.shape"
   ]
  },
  {
   "cell_type": "markdown",
   "metadata": {
    "id": "4dshxNlKMgo9"
   },
   "source": [
    "Vamos a ver la dimensión del resto de elementos:"
   ]
  },
  {
   "cell_type": "code",
   "execution_count": 70,
   "metadata": {
    "colab": {
     "base_uri": "https://localhost:8080/"
    },
    "id": "Y5DsXlQSLOl-",
    "outputId": "a78e1ebe-cf80-4e9f-b04e-1e2c987ac5ec"
   },
   "outputs": [
    {
     "data": {
      "text/plain": [
       "(3,)"
      ]
     },
     "execution_count": 70,
     "metadata": {
      "tags": []
     },
     "output_type": "execute_result"
    }
   ],
   "source": [
    "row_vector.shape"
   ]
  },
  {
   "cell_type": "code",
   "execution_count": 71,
   "metadata": {
    "colab": {
     "base_uri": "https://localhost:8080/"
    },
    "id": "mpy6QJfgMNdq",
    "outputId": "57e6b9a7-ce87-43ce-ba0a-650a942d9de0"
   },
   "outputs": [
    {
     "data": {
      "text/plain": [
       "(3, 1)"
      ]
     },
     "execution_count": 71,
     "metadata": {
      "tags": []
     },
     "output_type": "execute_result"
    }
   ],
   "source": [
    "column_vector.shape"
   ]
  },
  {
   "cell_type": "code",
   "execution_count": 72,
   "metadata": {
    "colab": {
     "base_uri": "https://localhost:8080/"
    },
    "id": "NjZmzppjMSP-",
    "outputId": "93d1a960-f43d-4981-aca0-c7d69fcac52f"
   },
   "outputs": [
    {
     "data": {
      "text/plain": [
       "(2, 2)"
      ]
     },
     "execution_count": 72,
     "metadata": {
      "tags": []
     },
     "output_type": "execute_result"
    }
   ],
   "source": [
    "matrix.shape"
   ]
  },
  {
   "cell_type": "code",
   "execution_count": 73,
   "metadata": {
    "colab": {
     "base_uri": "https://localhost:8080/"
    },
    "id": "zxfg2p28MVA5",
    "outputId": "2f70871b-f009-4dcc-b572-e97b90ac0909"
   },
   "outputs": [
    {
     "data": {
      "text/plain": [
       "(3, 3, 3)"
      ]
     },
     "execution_count": 73,
     "metadata": {
      "tags": []
     },
     "output_type": "execute_result"
    }
   ],
   "source": [
    "tensor.shape"
   ]
  },
  {
   "cell_type": "markdown",
   "metadata": {
    "id": "U3OX9nzwMWBo"
   },
   "source": [
    "¿Qué pasa si utilizamos `len()` en lugar de `shape`? "
   ]
  },
  {
   "cell_type": "code",
   "execution_count": 80,
   "metadata": {
    "colab": {
     "base_uri": "https://localhost:8080/"
    },
    "id": "ZE-wGxQEM4yb",
    "outputId": "b5748e84-30fb-4c83-c2cf-cdd28262522d"
   },
   "outputs": [
    {
     "data": {
      "text/plain": [
       "3"
      ]
     },
     "execution_count": 80,
     "metadata": {
      "tags": []
     },
     "output_type": "execute_result"
    }
   ],
   "source": [
    "len(tensor)"
   ]
  },
  {
   "cell_type": "markdown",
   "metadata": {
    "id": "_fgna_htNAKZ"
   },
   "source": [
    "Solo nos devuelve la longitud de la primera parte del arreglo."
   ]
  },
  {
   "cell_type": "markdown",
   "metadata": {
    "id": "9ZGEjq4FNFHU"
   },
   "source": [
    "¿ Y qué pasaría si utilizamos `.size`?"
   ]
  },
  {
   "cell_type": "code",
   "execution_count": 81,
   "metadata": {
    "colab": {
     "base_uri": "https://localhost:8080/"
    },
    "id": "PlzRdrcbNMT7",
    "outputId": "2765f8e6-0ff5-40bf-dce5-64a1dbf435fe"
   },
   "outputs": [
    {
     "data": {
      "text/plain": [
       "27"
      ]
     },
     "execution_count": 81,
     "metadata": {
      "tags": []
     },
     "output_type": "execute_result"
    }
   ],
   "source": [
    "tensor.size"
   ]
  },
  {
   "cell_type": "markdown",
   "metadata": {
    "id": "xVsyNisWNOql"
   },
   "source": [
    "Nos devuelve la multiplicación de las dimensiones (total de elementos)."
   ]
  },
  {
   "cell_type": "markdown",
   "metadata": {
    "id": "xbid7WSKNTcz"
   },
   "source": [
    "La representación `(3,3,3)` de un tensor la podemos interpretar como 3 filas, 3 columnas y 3 matrices de 3x3 \"superpuestas\" unas de otras.\n",
    "\n",
    "Por ejemplo, si en una matriz 3x3 podemos representar una imagen; entonces, en un tensor de 3x3x3 podemos representar un video de 3 fotogramas. De esta forma podríamos pensar en un tensor como **la evolución de una matriz en el tiempo**."
   ]
  },
  {
   "cell_type": "markdown",
   "metadata": {
    "id": "5ae0T_tkOIN5"
   },
   "source": [
    "![](https://i.imgur.com/fY6q8oa.png)"
   ]
  },
  {
   "cell_type": "markdown",
   "metadata": {
    "id": "TsTXWM8COtHC"
   },
   "source": [
    "### Transposición"
   ]
  },
  {
   "cell_type": "markdown",
   "metadata": {},
   "source": [
    "Cuando hablamos de la transposición de una matriz, nos referimos al proceso de \"voltear\" una matriz, es decir, intercambiar filas por columnas. En realidad es una operación muy sencilla de hacer, pero con un montón de aplicaciones importantes.\n",
    "\n",
    "Por ejemplo, si tenemos una matriz de $3 \\times 2$ y la transponemos, obtendremos una matriz $2 \\times 3$."
   ]
  },
  {
   "cell_type": "markdown",
   "metadata": {},
   "source": [
    "Podemos hacer un proceso similar con los vectores. Por ejemplo, si tenemos un vector fila y hacemos la transposición, entonces obtendremos un vector columna."
   ]
  },
  {
   "cell_type": "markdown",
   "metadata": {},
   "source": [
    "Al realizar la transposición, estamos haciendo una especie de \"espejo\" alrededor de la diagonal, por lo que **los elementos de la diagonal se mantienen iguales**."
   ]
  },
  {
   "cell_type": "markdown",
   "metadata": {},
   "source": [
    "![](https://i.imgur.com/KTbsD7o.png)"
   ]
  },
  {
   "cell_type": "code",
   "execution_count": 36,
   "metadata": {},
   "outputs": [],
   "source": [
    "import numpy as np\n",
    "scalar = 5.679\n",
    "row_vector = np.array([1,2,3])\n",
    "column_vector = np.array([[1],\n",
    "                          [2],\n",
    "                          [3]])\n",
    "matrix = np.array([[1,2,4],\n",
    "                   [2,3,4],\n",
    "                   [6,5,8]])\n",
    "tensor = np.array([\n",
    "                   [ [11,22,33],  [44,55,66],   [77,88,99]    ],\n",
    "                   [ [99,368,777],[666,555,444],[333,222,111] ],\n",
    "                   [ [13,297,306],[546,58,642],   [27,328,943]],\n",
    "                   [ [56,67,89],  [111,231,333],  [77,88,99]  ]\n",
    "])"
   ]
  },
  {
   "cell_type": "markdown",
   "metadata": {},
   "source": [
    "Para realizar una transposición utilizamos el atributo `.T` de los `narray`."
   ]
  },
  {
   "cell_type": "code",
   "execution_count": 37,
   "metadata": {},
   "outputs": [
    {
     "name": "stdout",
     "output_type": "stream",
     "text": [
      "Vector original:\n",
      "[1 2 3]\n",
      "Vector Transpuesto:\n",
      "[1 2 3]\n"
     ]
    }
   ],
   "source": [
    "T_row_vec = row_vector.T\n",
    "print(f'Vector original:\\n{row_vector}\\nVector Transpuesto:\\n{T_row_vec}')"
   ]
  },
  {
   "cell_type": "markdown",
   "metadata": {},
   "source": [
    "Podemos ver que en el caso del vector fila lo mantendrá igual, al menos de que realicemos operaciones con el."
   ]
  },
  {
   "cell_type": "code",
   "execution_count": 38,
   "metadata": {},
   "outputs": [
    {
     "name": "stdout",
     "output_type": "stream",
     "text": [
      "Vector original:\n",
      "[[1]\n",
      " [2]\n",
      " [3]]\n",
      "Vector Transpuesto:\n",
      "[[1 2 3]]\n"
     ]
    }
   ],
   "source": [
    "T_col_vec = column_vector.T\n",
    "print(f'Vector original:\\n{column_vector}\\nVector Transpuesto:\\n{T_col_vec}')"
   ]
  },
  {
   "cell_type": "markdown",
   "metadata": {},
   "source": [
    "en el caso del vector columna si vemos como lo pasa a un vector fila"
   ]
  },
  {
   "cell_type": "code",
   "execution_count": 39,
   "metadata": {},
   "outputs": [
    {
     "name": "stdout",
     "output_type": "stream",
     "text": [
      "Matriz original:\n",
      "[[1 2 4]\n",
      " [2 3 4]\n",
      " [6 5 8]]\n",
      "Matriz Transpuesta:\n",
      "[[1 2 6]\n",
      " [2 3 5]\n",
      " [4 4 8]]\n"
     ]
    }
   ],
   "source": [
    "T_matrix = matrix.T\n",
    "print(f'Matriz original:\\n{matrix}\\nMatriz Transpuesta:\\n{T_matrix}')"
   ]
  },
  {
   "cell_type": "markdown",
   "metadata": {},
   "source": [
    "Podemos ver como nuestras filas de la matriz original pasan a ser las nuevas columnas y viceversa con las columnas originales."
   ]
  },
  {
   "cell_type": "code",
   "execution_count": 40,
   "metadata": {},
   "outputs": [
    {
     "name": "stdout",
     "output_type": "stream",
     "text": [
      "Tensor original:\n",
      "[[[ 11  22  33]\n",
      "  [ 44  55  66]\n",
      "  [ 77  88  99]]\n",
      "\n",
      " [[ 99 368 777]\n",
      "  [666 555 444]\n",
      "  [333 222 111]]\n",
      "\n",
      " [[ 13 297 306]\n",
      "  [546  58 642]\n",
      "  [ 27 328 943]]\n",
      "\n",
      " [[ 56  67  89]\n",
      "  [111 231 333]\n",
      "  [ 77  88  99]]]\n",
      "\n",
      "Tensor Transpuesto:\n",
      "[[[ 11  99  13  56]\n",
      "  [ 44 666 546 111]\n",
      "  [ 77 333  27  77]]\n",
      "\n",
      " [[ 22 368 297  67]\n",
      "  [ 55 555  58 231]\n",
      "  [ 88 222 328  88]]\n",
      "\n",
      " [[ 33 777 306  89]\n",
      "  [ 66 444 642 333]\n",
      "  [ 99 111 943  99]]]\n"
     ]
    }
   ],
   "source": [
    "T_tensor = tensor.T\n",
    "print(f'Tensor original:\\n{tensor}\\n\\nTensor Transpuesto:\\n{T_tensor}')"
   ]
  },
  {
   "cell_type": "markdown",
   "metadata": {},
   "source": [
    "Recordemos que el Tensor es una generalización del mismo objeto matemático que la matriz, en este caso vamos a ir tomando elemento por elemento de la primera columna para formar la nueva fila y así hasta recorrerlas todas.\n",
    "\n",
    "En este caso en particular vemos como pasamos de tener \"4 matrices de 3x3 concatenadas\", a tener \"3 matrices de 4x3 concatenadas\"."
   ]
  },
  {
   "cell_type": "markdown",
   "metadata": {},
   "source": [
    "Si aplicamos 2 veces la transposición de una matriz, obtendremos la misma matriz."
   ]
  },
  {
   "cell_type": "markdown",
   "metadata": {},
   "source": [
    "$$(A^{T})^T = A$$"
   ]
  },
  {
   "cell_type": "code",
   "execution_count": 42,
   "metadata": {},
   "outputs": [
    {
     "name": "stdout",
     "output_type": "stream",
     "text": [
      "Matriz original:\n",
      "[[1 2 4]\n",
      " [2 3 4]\n",
      " [6 5 8]]\n",
      "Matriz doblemente Transpuesta:\n",
      "[[1 2 4]\n",
      " [2 3 4]\n",
      " [6 5 8]]\n"
     ]
    }
   ],
   "source": [
    "T_matrix = matrix.T\n",
    "T_T_matrix = T_matrix.T\n",
    "print(f'Matriz original:\\n{matrix}\\nMatriz doblemente Transpuesta:\\n{T_T_matrix}')"
   ]
  },
  {
   "cell_type": "markdown",
   "metadata": {},
   "source": [
    "Esto es de mucha ayuda en la resolución de ecuaciones."
   ]
  },
  {
   "cell_type": "markdown",
   "metadata": {},
   "source": [
    "### Suma de matrices"
   ]
  },
  {
   "cell_type": "markdown",
   "metadata": {},
   "source": [
    "La suma de matrices está definida cuando los objetos tienen las mismas dimensiones, y para sumar (o restar) 2 matrices basta con sumar cada uno de los elementos con el mismo subíndice. De la siguiente forma:"
   ]
  },
  {
   "cell_type": "markdown",
   "metadata": {},
   "source": [
    "$$\\begin{align*}\n",
    "A + B =\n",
    "  \\left[\n",
    "    \\begin{array}{cccc}\n",
    "      a_{11} & a_{12} & \\ldots & a_{1n}\\\\\n",
    "      a_{21} & a_{22} & \\ldots & a_{2n}\\\\\n",
    "      \\vdots & \\vdots & \\ddots & \\vdots\\\\\n",
    "      a_{m1} & a_{m2} & \\ldots & a_{mn}\n",
    "    \\end{array}\n",
    "  \\right]\n",
    "  +\n",
    "    \\left[\n",
    "    \\begin{array}{cccc}\n",
    "      b_{11} & b_{12} & \\ldots & b_{1n}\\\\\n",
    "      b_{21} & b_{22} & \\ldots & b_{2n}\\\\\n",
    "      \\vdots & \\vdots & \\ddots & \\vdots\\\\\n",
    "      b_{m1} & b_{m2} & \\ldots & b_{mn}\n",
    "    \\end{array}\n",
    "  \\right]\n",
    "  =\n",
    "  \\left[\n",
    "    \\begin{array}{cccc}\n",
    "      a_{11} + b_{11}& a_{12}+ b_{12} & \\ldots & a_{1n} + b_{1n}\\\\\n",
    "      a_{21} + b_{21}& a_{22}+ b_{22} & \\ldots & a_{2n} + b_{2n}\\\\\n",
    "      \\vdots & \\vdots & \\ddots & \\vdots\\\\\n",
    "      a_{m1}+b_{m1} & a_{m2}+ b_{m2} & \\ldots & a_{mn} + b_{mn}\n",
    "    \\end{array}\n",
    "  \\right]\n",
    "\\end{align*}$$"
   ]
  },
  {
   "cell_type": "markdown",
   "metadata": {},
   "source": [
    "![](https://i.imgur.com/IZO9xS0.png)"
   ]
  },
  {
   "cell_type": "code",
   "execution_count": 44,
   "metadata": {},
   "outputs": [],
   "source": [
    "A = np.array([[1,2,3],\n",
    "              [2,3,4],\n",
    "              [3,4,5]])"
   ]
  },
  {
   "cell_type": "code",
   "execution_count": 49,
   "metadata": {},
   "outputs": [],
   "source": [
    "B = np.array([[3,2,1],\n",
    "              [3,1,4],\n",
    "              [6,7,8]])"
   ]
  },
  {
   "cell_type": "code",
   "execution_count": 50,
   "metadata": {},
   "outputs": [
    {
     "name": "stdout",
     "output_type": "stream",
     "text": [
      "[[ 4  4  4]\n",
      " [ 5  4  8]\n",
      " [ 9 11 13]]\n"
     ]
    }
   ],
   "source": [
    "C = A + B\n",
    "print(C)"
   ]
  },
  {
   "cell_type": "code",
   "execution_count": 53,
   "metadata": {},
   "outputs": [
    {
     "name": "stdout",
     "output_type": "stream",
     "text": [
      "[[-2  0  2]\n",
      " [-1  2  0]\n",
      " [-3 -3 -3]]\n"
     ]
    }
   ],
   "source": [
    "D = A - B\n",
    "print(D)"
   ]
  },
  {
   "cell_type": "markdown",
   "metadata": {},
   "source": [
    "En el caso de sumar un escalar a nuestra matriz, entonces sumaríamos el escalar a cada elemento de la matriz:"
   ]
  },
  {
   "cell_type": "code",
   "execution_count": 71,
   "metadata": {},
   "outputs": [
    {
     "name": "stdout",
     "output_type": "stream",
     "text": [
      "Escalar:10\n",
      "A:\n",
      "[[1 2 3]\n",
      " [2 3 4]\n",
      " [3 4 5]]\n",
      "\n",
      "Escalar + A:\n",
      "[[11 12 13]\n",
      " [12 13 14]\n",
      " [13 14 15]]\n"
     ]
    }
   ],
   "source": [
    "E = 10 + A\n",
    "print(f'Escalar:{10}\\nA:\\n{A}\\n\\nEscalar + A:\\n{E}')"
   ]
  },
  {
   "cell_type": "markdown",
   "metadata": {},
   "source": [
    "Pasa exactamente lo mismo en el caso de la multiplicación (si ambas matrices son de las mismas dimensiones):"
   ]
  },
  {
   "cell_type": "code",
   "execution_count": 66,
   "metadata": {},
   "outputs": [
    {
     "name": "stdout",
     "output_type": "stream",
     "text": [
      "A:\n",
      "[[1 2 3]\n",
      " [2 3 4]\n",
      " [3 4 5]]\n",
      "B:\n",
      "[[3 2 1]\n",
      " [3 1 4]\n",
      " [6 7 8]]\n",
      "A*B:\n",
      "[[ 3  4  3]\n",
      " [ 6  3 16]\n",
      " [18 28 40]]\n"
     ]
    }
   ],
   "source": [
    "F = A * B\n",
    "print(f'A:\\n{A}\\nB:\\n{B}\\nA*B:\\n{F}')"
   ]
  },
  {
   "cell_type": "markdown",
   "metadata": {},
   "source": [
    "### Suma de matrices y vectores con dimensiones distintas (broadcasting)"
   ]
  },
  {
   "cell_type": "code",
   "execution_count": null,
   "metadata": {},
   "outputs": [],
   "source": []
  }
 ],
 "metadata": {
  "colab": {
   "authorship_tag": "ABX9TyPiv9zPYkOv/TkQILiye/UB",
   "collapsed_sections": [],
   "name": "Fundamentos_Algebra_Lineal_con_Python.ipynb",
   "provenance": []
  },
  "kernelspec": {
   "display_name": "Python 3",
   "language": "python",
   "name": "python3"
  },
  "language_info": {
   "codemirror_mode": {
    "name": "ipython",
    "version": 3
   },
   "file_extension": ".py",
   "mimetype": "text/x-python",
   "name": "python",
   "nbconvert_exporter": "python",
   "pygments_lexer": "ipython3",
   "version": "3.8.3"
  },
  "toc": {
   "base_numbering": "",
   "nav_menu": {},
   "number_sections": false,
   "sideBar": true,
   "skip_h1_title": false,
   "title_cell": "Tabla de contenidos 💜",
   "title_sidebar": "Contents",
   "toc_cell": true,
   "toc_position": {},
   "toc_section_display": true,
   "toc_window_display": false
  }
 },
 "nbformat": 4,
 "nbformat_minor": 1
}
