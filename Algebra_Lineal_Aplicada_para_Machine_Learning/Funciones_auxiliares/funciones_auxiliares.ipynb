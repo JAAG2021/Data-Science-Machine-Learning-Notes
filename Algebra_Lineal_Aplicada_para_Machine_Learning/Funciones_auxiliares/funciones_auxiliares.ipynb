{
  "nbformat": 4,
  "nbformat_minor": 0,
  "metadata": {
    "colab": {
      "name": "funciones_auxiliares.ipynb",
      "provenance": [],
      "collapsed_sections": [],
      "authorship_tag": "ABX9TyNthsRV/J/Su08VXdRpZ6O4"
    },
    "kernelspec": {
      "name": "python3",
      "display_name": "Python 3"
    },
    "language_info": {
      "name": "python"
    }
  },
  "cells": [
    {
      "cell_type": "code",
      "metadata": {
        "id": "y2W01tAHKTYi"
      },
      "source": [
        "def graficarVectores(vecs, cols, alpha=1): # El alpha nos indica la \"transparencia\" con la que graficará\n",
        "    \n",
        "    # Creamos los ejes X y Y\n",
        "    plt.axvline(x = 0, color = 'grey', zorder = 0)\n",
        "    plt.axhline(y = 0, color = 'grey', zorder = 0)\n",
        "\n",
        "    # Por cada vector que usemos\n",
        "    for i in range(len(vecs)):\n",
        "        # Concatena los vectores con el origen\n",
        "        x = np.concatenate([[0,0], vecs[i]])\n",
        "        # Graficamos \n",
        "        plt.quiver([x[0]],\n",
        "                   [x[1]],\n",
        "                   [x[2]],\n",
        "                   [x[3]],\n",
        "                   angles = 'xy', scale_units = 'xy', #ángulos expresados en xy\n",
        "                   scale = 1,\n",
        "                   color = cols[i],\n",
        "                   alpha = alpha\n",
        "                   )"
      ],
      "execution_count": null,
      "outputs": []
    },
    {
      "cell_type": "code",
      "metadata": {
        "id": "EO8gyXAoKrSu"
      },
      "source": [
        ""
      ],
      "execution_count": null,
      "outputs": []
    }
  ]
}