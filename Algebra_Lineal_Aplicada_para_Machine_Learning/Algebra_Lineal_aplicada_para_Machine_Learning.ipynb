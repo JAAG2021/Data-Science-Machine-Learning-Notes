{
 "cells": [
  {
   "cell_type": "markdown",
   "metadata": {
    "id": "PEDnVabA-Wkr"
   },
   "source": [
    "# Álgebra lineal aplicada a Machine Learning"
   ]
  },
  {
   "cell_type": "markdown",
   "metadata": {},
   "source": [
    "Antes de comenzar a leer este Notebook, es importante tener ciertos conocimientos básicos de Álgebra lineal, recomiendo revisar el notebook de [Fundamentos de Álgebra Lineal con Python](https://github.com/abdielgv162/Data-Science-Machine-Learning-Notes/blob/master/Fundamentos_de_Algebra_Lineal_con_Python/Fundamentos_Algebra_Lineal_con_Python.ipynb) que también se encuentra en mi repositorio de [Data-Science-Machine-Learning-Notes](https://github.com/abdielgv162/Data-Science-Machine-Learning-Notes)."
   ]
  },
  {
   "cell_type": "markdown",
   "metadata": {
    "id": "RtjpiXJ6-tRI"
   },
   "source": [
    "## Transformaciones lineales y descomposición de matrices"
   ]
  },
  {
   "cell_type": "markdown",
   "metadata": {
    "id": "7r5Hz8nFA_TX"
   },
   "source": [
    "### Matrices como transformaciones lineales"
   ]
  },
  {
   "cell_type": "markdown",
   "metadata": {
    "id": "vPEv2bQQe1_9"
   },
   "source": [
    "Recordemos que una **transformación lineal** es una función. Y como toda función, puede tener su dominio y codominio, con la particularidad de que éstos son espacios vectoriales.\n",
    "\n",
    "Teniendo dos espacios vectoriales $V$ y $W$, y una función que va de $V$ a $W$, osea, una regla de asignación que transforma vectores de $V$ en vectores de $W$; decimos que $F: V \\to W$ es una transformación lineal si y sólo si cumple lo siguiente:"
   ]
  },
  {
   "cell_type": "markdown",
   "metadata": {
    "id": "hGx4nO4of0a-"
   },
   "source": [
    "$$F\\left( {u + v} \\right) = F\\left( u \\right) + F\\left( v \\right){\\rm{\\;\\;}}\\ \\ \\ \\ \\forall u,v \\in V$$"
   ]
  },
  {
   "cell_type": "markdown",
   "metadata": {
    "id": "9-Jz5JCsf4zZ"
   },
   "source": [
    "$$F\\left( {k.v} \\right) = k.F\\left( v \\right){\\rm{\\;\\;\\;}}\\ \\ \\ \\ \\ \\ \\ \\forall v \\in V,{\\rm{\\;}} \\ \\   \\forall k \\in \\mathbb{R}$$"
   ]
  },
  {
   "cell_type": "markdown",
   "metadata": {
    "id": "l8pHl9szgwKJ"
   },
   "source": [
    "Lo que hace lineal a una transformación es que, **el origen debe permanecer fijo** y **todas las lineas rectas deben de mantenerse rectas**."
   ]
  },
  {
   "cell_type": "markdown",
   "metadata": {
    "id": "6YNFaOGhn8Q1"
   },
   "source": [
    "En el caso de la **matrices** también podemos verlas como transformaciones lineales ya que podemos \"manipular\" vectores a través de una especie de regla de asignación, donde le indicamos por cuánto va a cambiar su magnitud o dirección. De manera que obtendríamos una serie de nuevos vectores.\n",
    "\n",
    "\n",
    "Vamos a visualizar esto con el siguiente ejemplo:"
   ]
  },
  {
   "cell_type": "code",
   "execution_count": 2,
   "metadata": {
    "id": "NoqN3pRkA0WT"
   },
   "outputs": [],
   "source": [
    "%matplotlib inline\n",
    "import numpy as np\n",
    "import matplotlib.pyplot as plt"
   ]
  },
  {
   "cell_type": "markdown",
   "metadata": {
    "id": "wRosaGEXezHh"
   },
   "source": [
    "Vamos a crear una matriz para nuestro ejemplo"
   ]
  },
  {
   "cell_type": "code",
   "execution_count": 3,
   "metadata": {
    "colab": {
     "base_uri": "https://localhost:8080/"
    },
    "id": "URbkVR1OA2-O",
    "outputId": "fd052974-f349-4863-b02b-c55ebbcd0020"
   },
   "outputs": [
    {
     "name": "stdout",
     "output_type": "stream",
     "text": [
      "[[-1  3]\n",
      " [ 2 -2]]\n"
     ]
    }
   ],
   "source": [
    "A = np.array([[-1 ,3],\n",
    "              [2, -2]])\n",
    "print(A)"
   ]
  },
  {
   "cell_type": "markdown",
   "metadata": {
    "id": "U4U22Gn4iznB"
   },
   "source": [
    "Y un vector"
   ]
  },
  {
   "cell_type": "code",
   "execution_count": 4,
   "metadata": {
    "colab": {
     "base_uri": "https://localhost:8080/"
    },
    "id": "kS1wU3XbBkkm",
    "outputId": "befcd02d-af19-4487-e6ef-3176a5ded0d3"
   },
   "outputs": [
    {
     "name": "stdout",
     "output_type": "stream",
     "text": [
      "[[2]\n",
      " [1]]\n"
     ]
    }
   ],
   "source": [
    "v = np.array([[2],[1]])\n",
    "print(v)"
   ]
  },
  {
   "cell_type": "markdown",
   "metadata": {
    "id": "BO5iQnJ6B07N"
   },
   "source": [
    "Vamos a crear una función para graficar nuestros vectores. Y como será una función que utilizaremos muchas veces (y para aprender a trabajar con funciones de otros archivos), vamos a crear nuestra función en un archivo distinto y la llamaremos desde este notebook.\n",
    "\n",
    "Abajo una imagen de la función y del nombre del archivo."
   ]
  },
  {
   "cell_type": "markdown",
   "metadata": {
    "id": "eVXvptRJNLOH"
   },
   "source": [
    "![](https://i.imgur.com/PXEjfJS.png)"
   ]
  },
  {
   "cell_type": "markdown",
   "metadata": {
    "id": "sdcUFdP_DMXj"
   },
   "source": [
    "Una vez que ya tenemos nuestra función en nuestro archivo correspondiente, que en este caso llamé `funciones_auxiliares.ipynb`; lo llamaremos utilizando el comando `%run` y la ruta correspondiente en donde se encuentra nuestro archivo.\n",
    "\n",
    "En este caso notaran que yo estoy cargando mi notebook desde mi carpeta de drive, ya que no estoy trabajando en un entorno local."
   ]
  },
  {
   "cell_type": "code",
   "execution_count": 5,
   "metadata": {
    "id": "CZRzr-2aMEme"
   },
   "outputs": [
    {
     "ename": "Exception",
     "evalue": "File `'/content/drive/MyDrive/Colab Notebooks/funciones_auxiliares.ipynb.py'` not found.",
     "output_type": "error",
     "traceback": [
      "\u001b[1;31m---------------------------------------------------------------------------\u001b[0m",
      "\u001b[1;31mOSError\u001b[0m                                   Traceback (most recent call last)",
      "\u001b[1;32m~\\anaconda3\\lib\\site-packages\\IPython\\core\\magics\\execution.py\u001b[0m in \u001b[0;36mrun\u001b[1;34m(self, parameter_s, runner, file_finder)\u001b[0m\n\u001b[0;32m    696\u001b[0m             \u001b[0mfpath\u001b[0m \u001b[1;33m=\u001b[0m \u001b[0marg_lst\u001b[0m\u001b[1;33m[\u001b[0m\u001b[1;36m0\u001b[0m\u001b[1;33m]\u001b[0m\u001b[1;33m\u001b[0m\u001b[1;33m\u001b[0m\u001b[0m\n\u001b[1;32m--> 697\u001b[1;33m             \u001b[0mfilename\u001b[0m \u001b[1;33m=\u001b[0m \u001b[0mfile_finder\u001b[0m\u001b[1;33m(\u001b[0m\u001b[0mfpath\u001b[0m\u001b[1;33m)\u001b[0m\u001b[1;33m\u001b[0m\u001b[1;33m\u001b[0m\u001b[0m\n\u001b[0m\u001b[0;32m    698\u001b[0m         \u001b[1;32mexcept\u001b[0m \u001b[0mIndexError\u001b[0m\u001b[1;33m:\u001b[0m\u001b[1;33m\u001b[0m\u001b[1;33m\u001b[0m\u001b[0m\n",
      "\u001b[1;32m~\\anaconda3\\lib\\site-packages\\IPython\\utils\\path.py\u001b[0m in \u001b[0;36mget_py_filename\u001b[1;34m(name, force_win32)\u001b[0m\n\u001b[0;32m    108\u001b[0m     \u001b[1;32melse\u001b[0m\u001b[1;33m:\u001b[0m\u001b[1;33m\u001b[0m\u001b[1;33m\u001b[0m\u001b[0m\n\u001b[1;32m--> 109\u001b[1;33m         \u001b[1;32mraise\u001b[0m \u001b[0mIOError\u001b[0m\u001b[1;33m(\u001b[0m\u001b[1;34m'File `%r` not found.'\u001b[0m \u001b[1;33m%\u001b[0m \u001b[0mname\u001b[0m\u001b[1;33m)\u001b[0m\u001b[1;33m\u001b[0m\u001b[1;33m\u001b[0m\u001b[0m\n\u001b[0m\u001b[0;32m    110\u001b[0m \u001b[1;33m\u001b[0m\u001b[0m\n",
      "\u001b[1;31mOSError\u001b[0m: File `'/content/drive/MyDrive/Colab Notebooks/funciones_auxiliares.ipynb.py'` not found.",
      "\nDuring handling of the above exception, another exception occurred:\n",
      "\u001b[1;31mException\u001b[0m                                 Traceback (most recent call last)",
      "\u001b[1;32m<ipython-input-5-a1d7d961b4ce>\u001b[0m in \u001b[0;36m<module>\u001b[1;34m\u001b[0m\n\u001b[0;32m      1\u001b[0m \u001b[1;31m# Hacemos el llamado al otro archivo que creamos\u001b[0m\u001b[1;33m\u001b[0m\u001b[1;33m\u001b[0m\u001b[1;33m\u001b[0m\u001b[0m\n\u001b[1;32m----> 2\u001b[1;33m \u001b[0mget_ipython\u001b[0m\u001b[1;33m(\u001b[0m\u001b[1;33m)\u001b[0m\u001b[1;33m.\u001b[0m\u001b[0mrun_line_magic\u001b[0m\u001b[1;33m(\u001b[0m\u001b[1;34m'run'\u001b[0m\u001b[1;33m,\u001b[0m \u001b[1;34m'\"/content/drive/MyDrive/Colab Notebooks/funciones_auxiliares.ipynb\"'\u001b[0m\u001b[1;33m)\u001b[0m\u001b[1;33m\u001b[0m\u001b[1;33m\u001b[0m\u001b[0m\n\u001b[0m",
      "\u001b[1;32m~\\anaconda3\\lib\\site-packages\\IPython\\core\\interactiveshell.py\u001b[0m in \u001b[0;36mrun_line_magic\u001b[1;34m(self, magic_name, line, _stack_depth)\u001b[0m\n\u001b[0;32m   2324\u001b[0m                 \u001b[0mkwargs\u001b[0m\u001b[1;33m[\u001b[0m\u001b[1;34m'local_ns'\u001b[0m\u001b[1;33m]\u001b[0m \u001b[1;33m=\u001b[0m \u001b[0msys\u001b[0m\u001b[1;33m.\u001b[0m\u001b[0m_getframe\u001b[0m\u001b[1;33m(\u001b[0m\u001b[0mstack_depth\u001b[0m\u001b[1;33m)\u001b[0m\u001b[1;33m.\u001b[0m\u001b[0mf_locals\u001b[0m\u001b[1;33m\u001b[0m\u001b[1;33m\u001b[0m\u001b[0m\n\u001b[0;32m   2325\u001b[0m             \u001b[1;32mwith\u001b[0m \u001b[0mself\u001b[0m\u001b[1;33m.\u001b[0m\u001b[0mbuiltin_trap\u001b[0m\u001b[1;33m:\u001b[0m\u001b[1;33m\u001b[0m\u001b[1;33m\u001b[0m\u001b[0m\n\u001b[1;32m-> 2326\u001b[1;33m                 \u001b[0mresult\u001b[0m \u001b[1;33m=\u001b[0m \u001b[0mfn\u001b[0m\u001b[1;33m(\u001b[0m\u001b[1;33m*\u001b[0m\u001b[0margs\u001b[0m\u001b[1;33m,\u001b[0m \u001b[1;33m**\u001b[0m\u001b[0mkwargs\u001b[0m\u001b[1;33m)\u001b[0m\u001b[1;33m\u001b[0m\u001b[1;33m\u001b[0m\u001b[0m\n\u001b[0m\u001b[0;32m   2327\u001b[0m             \u001b[1;32mreturn\u001b[0m \u001b[0mresult\u001b[0m\u001b[1;33m\u001b[0m\u001b[1;33m\u001b[0m\u001b[0m\n\u001b[0;32m   2328\u001b[0m \u001b[1;33m\u001b[0m\u001b[0m\n",
      "\u001b[1;32m<decorator-gen-60>\u001b[0m in \u001b[0;36mrun\u001b[1;34m(self, parameter_s, runner, file_finder)\u001b[0m\n",
      "\u001b[1;32m~\\anaconda3\\lib\\site-packages\\IPython\\core\\magic.py\u001b[0m in \u001b[0;36m<lambda>\u001b[1;34m(f, *a, **k)\u001b[0m\n\u001b[0;32m    185\u001b[0m     \u001b[1;31m# but it's overkill for just that one bit of state.\u001b[0m\u001b[1;33m\u001b[0m\u001b[1;33m\u001b[0m\u001b[1;33m\u001b[0m\u001b[0m\n\u001b[0;32m    186\u001b[0m     \u001b[1;32mdef\u001b[0m \u001b[0mmagic_deco\u001b[0m\u001b[1;33m(\u001b[0m\u001b[0marg\u001b[0m\u001b[1;33m)\u001b[0m\u001b[1;33m:\u001b[0m\u001b[1;33m\u001b[0m\u001b[1;33m\u001b[0m\u001b[0m\n\u001b[1;32m--> 187\u001b[1;33m         \u001b[0mcall\u001b[0m \u001b[1;33m=\u001b[0m \u001b[1;32mlambda\u001b[0m \u001b[0mf\u001b[0m\u001b[1;33m,\u001b[0m \u001b[1;33m*\u001b[0m\u001b[0ma\u001b[0m\u001b[1;33m,\u001b[0m \u001b[1;33m**\u001b[0m\u001b[0mk\u001b[0m\u001b[1;33m:\u001b[0m \u001b[0mf\u001b[0m\u001b[1;33m(\u001b[0m\u001b[1;33m*\u001b[0m\u001b[0ma\u001b[0m\u001b[1;33m,\u001b[0m \u001b[1;33m**\u001b[0m\u001b[0mk\u001b[0m\u001b[1;33m)\u001b[0m\u001b[1;33m\u001b[0m\u001b[1;33m\u001b[0m\u001b[0m\n\u001b[0m\u001b[0;32m    188\u001b[0m \u001b[1;33m\u001b[0m\u001b[0m\n\u001b[0;32m    189\u001b[0m         \u001b[1;32mif\u001b[0m \u001b[0mcallable\u001b[0m\u001b[1;33m(\u001b[0m\u001b[0marg\u001b[0m\u001b[1;33m)\u001b[0m\u001b[1;33m:\u001b[0m\u001b[1;33m\u001b[0m\u001b[1;33m\u001b[0m\u001b[0m\n",
      "\u001b[1;32m~\\anaconda3\\lib\\site-packages\\IPython\\core\\magics\\execution.py\u001b[0m in \u001b[0;36mrun\u001b[1;34m(self, parameter_s, runner, file_finder)\u001b[0m\n\u001b[0;32m    706\u001b[0m             \u001b[1;32mif\u001b[0m \u001b[0mos\u001b[0m\u001b[1;33m.\u001b[0m\u001b[0mname\u001b[0m \u001b[1;33m==\u001b[0m \u001b[1;34m'nt'\u001b[0m \u001b[1;32mand\u001b[0m \u001b[0mre\u001b[0m\u001b[1;33m.\u001b[0m\u001b[0mmatch\u001b[0m\u001b[1;33m(\u001b[0m\u001b[1;34mr\"^'.*'$\"\u001b[0m\u001b[1;33m,\u001b[0m\u001b[0mfpath\u001b[0m\u001b[1;33m)\u001b[0m\u001b[1;33m:\u001b[0m\u001b[1;33m\u001b[0m\u001b[1;33m\u001b[0m\u001b[0m\n\u001b[0;32m    707\u001b[0m                 \u001b[0mwarn\u001b[0m\u001b[1;33m(\u001b[0m\u001b[1;34m'For Windows, use double quotes to wrap a filename: %run \"mypath\\\\myfile.py\"'\u001b[0m\u001b[1;33m)\u001b[0m\u001b[1;33m\u001b[0m\u001b[1;33m\u001b[0m\u001b[0m\n\u001b[1;32m--> 708\u001b[1;33m             \u001b[1;32mraise\u001b[0m \u001b[0mException\u001b[0m\u001b[1;33m(\u001b[0m\u001b[0mmsg\u001b[0m\u001b[1;33m)\u001b[0m\u001b[1;33m\u001b[0m\u001b[1;33m\u001b[0m\u001b[0m\n\u001b[0m\u001b[0;32m    709\u001b[0m         \u001b[1;32mexcept\u001b[0m \u001b[0mTypeError\u001b[0m\u001b[1;33m:\u001b[0m\u001b[1;33m\u001b[0m\u001b[1;33m\u001b[0m\u001b[0m\n\u001b[0;32m    710\u001b[0m             \u001b[1;32mif\u001b[0m \u001b[0mfpath\u001b[0m \u001b[1;32min\u001b[0m \u001b[0msys\u001b[0m\u001b[1;33m.\u001b[0m\u001b[0mmeta_path\u001b[0m\u001b[1;33m:\u001b[0m\u001b[1;33m\u001b[0m\u001b[1;33m\u001b[0m\u001b[0m\n",
      "\u001b[1;31mException\u001b[0m: File `'/content/drive/MyDrive/Colab Notebooks/funciones_auxiliares.ipynb.py'` not found."
     ]
    }
   ],
   "source": [
    "# Hacemos el llamado al otro archivo que creamos\n",
    "%run \"/content/drive/MyDrive/Colab Notebooks/funciones_auxiliares.ipynb\""
   ]
  },
  {
   "cell_type": "markdown",
   "metadata": {
    "id": "dzJ4wYTKMkRE"
   },
   "source": [
    "Vamos a retomar el vector y la matriz que definimos arriba. Y vamos a aplicar el método `flatten()` el cual devuelve una copia de la matriz colapsada en una dimensión."
   ]
  },
  {
   "cell_type": "markdown",
   "metadata": {
    "id": "kDZdeQ9SRBtp"
   },
   "source": [
    "Apliquemos `flatten()` a nuestro vector"
   ]
  },
  {
   "cell_type": "code",
   "execution_count": 92,
   "metadata": {
    "colab": {
     "base_uri": "https://localhost:8080/"
    },
    "id": "pIikpW_pNbMV",
    "outputId": "4f013e69-ca79-4fc6-b7dd-5be685179089"
   },
   "outputs": [
    {
     "name": "stdout",
     "output_type": "stream",
     "text": [
      "[[2]\n",
      " [1]]\n",
      "[2 1]\n"
     ]
    }
   ],
   "source": [
    "print(v)\n",
    "print(v.flatten())"
   ]
  },
  {
   "cell_type": "markdown",
   "metadata": {
    "id": "BaO2_GVuNugO"
   },
   "source": [
    "Solo por curiosidad, ¿cuál sería el efecto `flatten()` en una matriz?"
   ]
  },
  {
   "cell_type": "code",
   "execution_count": 93,
   "metadata": {
    "colab": {
     "base_uri": "https://localhost:8080/"
    },
    "id": "enftnUZrOAhV",
    "outputId": "1ccb9c4a-b881-4f8d-c076-45e537390982"
   },
   "outputs": [
    {
     "name": "stdout",
     "output_type": "stream",
     "text": [
      "[[-1  3]\n",
      " [ 2 -2]]\n",
      "[-1  3  2 -2]\n"
     ]
    }
   ],
   "source": [
    "print(A)\n",
    "print(A.flatten())"
   ]
  },
  {
   "cell_type": "markdown",
   "metadata": {
    "id": "esZnF5x0PjfP"
   },
   "source": [
    "vamos a graficar nuestro vector original:"
   ]
  },
  {
   "cell_type": "code",
   "execution_count": 94,
   "metadata": {
    "colab": {
     "base_uri": "https://localhost:8080/",
     "height": 299
    },
    "id": "-djUPYISOA4X",
    "outputId": "eb25a4a1-d085-45f8-b0e7-c56475500a84"
   },
   "outputs": [
    {
     "data": {
      "text/plain": [
       "(-0.5, 2.0)"
      ]
     },
     "execution_count": 94,
     "metadata": {
      "tags": []
     },
     "output_type": "execute_result"
    },
    {
     "data": {
      "image/png": "[encoded data removed]",
      "text/plain": [
       "<Figure size 432x288 with 1 Axes>"
      ]
     },
     "metadata": {
      "needs_background": "light",
      "tags": []
     },
     "output_type": "display_data"
    }
   ],
   "source": [
    "# Llamemos a la función del otro archivo\n",
    "graficarVectores([v.flatten()], 'blue')\n",
    "\n",
    "# Ajustamos un poco la imagen\n",
    "plt.title('Vector')\n",
    "plt.xlim(-0.5, 3)\n",
    "plt.ylim(-0.5, 2)"
   ]
  },
  {
   "cell_type": "markdown",
   "metadata": {
    "id": "hQT1l6WdQGvF"
   },
   "source": [
    "Vamos a ver cuál sería el efecto de aplicar un **producto interno** (producto punto) entre nuestro vector y nuestra matriz:"
   ]
  },
  {
   "cell_type": "code",
   "execution_count": 95,
   "metadata": {
    "colab": {
     "base_uri": "https://localhost:8080/",
     "height": 299
    },
    "id": "o5EmF1weOlUn",
    "outputId": "e548bd73-6e88-4ca8-acc0-3554c0240114"
   },
   "outputs": [
    {
     "data": {
      "text/plain": [
       "(-0.5, 3.0)"
      ]
     },
     "execution_count": 95,
     "metadata": {
      "tags": []
     },
     "output_type": "execute_result"
    },
    {
     "data": {
      "image/png": "[encoded data removed]",
      "text/plain": [
       "<Figure size 432x288 with 1 Axes>"
      ]
     },
     "metadata": {
      "needs_background": "light",
      "tags": []
     },
     "output_type": "display_data"
    }
   ],
   "source": [
    "transformed_vector = A.dot(v)\n",
    "new = transformed_vector.flatten()\n",
    "graficarVectores([v.flatten(), new], cols = ['blue', 'orange'])\n",
    "\n",
    "# Ajustamos un poco la imagen\n",
    "plt.title('Vector antes y despues de multiplicar con una matriz')\n",
    "plt.xlim(-0.5, 3)\n",
    "plt.ylim(-0.5, 3)"
   ]
  },
  {
   "cell_type": "markdown",
   "metadata": {
    "id": "GjTAMlDHP6zg"
   },
   "source": [
    "Podemos ver que nuestro vector original $\\begin{bmatrix}2 \\\\ 1\\end{bmatrix}$ se tranformó en el vector  $\\begin{bmatrix}1 \\\\ 2\\end{bmatrix}$ al aplicar el producto interno con la matriz. Y esto lo viualizamos como una rotación."
   ]
  },
  {
   "cell_type": "markdown",
   "metadata": {
    "id": "QXcAt3BNaE2w"
   },
   "source": [
    "Vamos a ver cuál es el determinante de nuestra matriz:"
   ]
  },
  {
   "cell_type": "code",
   "execution_count": 96,
   "metadata": {
    "colab": {
     "base_uri": "https://localhost:8080/"
    },
    "id": "yn2UtuW6Z71E",
    "outputId": "a2e7183b-8b47-4d4d-b609-e235855dfaa0"
   },
   "outputs": [
    {
     "name": "stdout",
     "output_type": "stream",
     "text": [
      "-4.0\n"
     ]
    }
   ],
   "source": [
    "print(np.linalg.det(A))"
   ]
  },
  {
   "cell_type": "markdown",
   "metadata": {
    "id": "c2GbKpA_aDk5"
   },
   "source": [
    "Así que esperaríamos que estos vectores **no mantengan la misma norma** al ser transformados. En este caso tuvimos suerte y sí se mantuvo."
   ]
  },
  {
   "cell_type": "code",
   "execution_count": 97,
   "metadata": {
    "colab": {
     "base_uri": "https://localhost:8080/"
    },
    "id": "NkKJ9EYvak-_",
    "outputId": "4d9bc635-dcb3-46ea-efbc-218271fccbbc"
   },
   "outputs": [
    {
     "name": "stdout",
     "output_type": "stream",
     "text": [
      "2.23606797749979\n"
     ]
    }
   ],
   "source": [
    "print(np.linalg.norm(v))"
   ]
  },
  {
   "cell_type": "code",
   "execution_count": 98,
   "metadata": {
    "colab": {
     "base_uri": "https://localhost:8080/"
    },
    "id": "x4Qai9ZRaoGr",
    "outputId": "5d37f409-6fc0-40bd-b896-d78cd77009ca"
   },
   "outputs": [
    {
     "name": "stdout",
     "output_type": "stream",
     "text": [
      "2.23606797749979\n"
     ]
    }
   ],
   "source": [
    "print(np.linalg.norm(new))"
   ]
  },
  {
   "cell_type": "markdown",
   "metadata": {
    "id": "9xfI_MRShBAy"
   },
   "source": [
    "Vamos a hacer otro ejemplo con un nuevo vector y una nueva matriz:"
   ]
  },
  {
   "cell_type": "code",
   "execution_count": 1,
   "metadata": {
    "colab": {
     "base_uri": "https://localhost:8080/",
     "height": 299
    },
    "id": "6zFgo_lthEG_",
    "outputId": "5f2d7acc-c733-4a0b-fbc9-462283af2849"
   },
   "outputs": [
    {
     "ename": "NameError",
     "evalue": "name 'np' is not defined",
     "output_type": "error",
     "traceback": [
      "\u001b[1;31m---------------------------------------------------------------------------\u001b[0m",
      "\u001b[1;31mNameError\u001b[0m                                 Traceback (most recent call last)",
      "\u001b[1;32m<ipython-input-1-23aa133ddfdd>\u001b[0m in \u001b[0;36m<module>\u001b[1;34m\u001b[0m\n\u001b[1;32m----> 1\u001b[1;33m B = np.array([[-1 ,4],\n\u001b[0m\u001b[0;32m      2\u001b[0m               [3, -2]])\n\u001b[0;32m      3\u001b[0m \u001b[1;33m\u001b[0m\u001b[0m\n\u001b[0;32m      4\u001b[0m \u001b[0mv2\u001b[0m \u001b[1;33m=\u001b[0m \u001b[0mnp\u001b[0m\u001b[1;33m.\u001b[0m\u001b[0marray\u001b[0m\u001b[1;33m(\u001b[0m\u001b[1;33m[\u001b[0m\u001b[1;33m[\u001b[0m\u001b[1;36m1\u001b[0m\u001b[1;33m]\u001b[0m\u001b[1;33m,\u001b[0m\u001b[1;33m[\u001b[0m\u001b[1;36m2\u001b[0m\u001b[1;33m]\u001b[0m\u001b[1;33m]\u001b[0m\u001b[1;33m)\u001b[0m\u001b[1;33m\u001b[0m\u001b[1;33m\u001b[0m\u001b[0m\n\u001b[0;32m      5\u001b[0m \u001b[0mv2\u001b[0m \u001b[1;33m=\u001b[0m \u001b[0mv2\u001b[0m\u001b[1;33m.\u001b[0m\u001b[0mflatten\u001b[0m\u001b[1;33m(\u001b[0m\u001b[1;33m)\u001b[0m\u001b[1;33m\u001b[0m\u001b[1;33m\u001b[0m\u001b[0m\n",
      "\u001b[1;31mNameError\u001b[0m: name 'np' is not defined"
     ]
    }
   ],
   "source": [
    "B = np.array([[-1 ,4],\n",
    "              [3, -2]])\n",
    "\n",
    "v2 = np.array([[1],[2]])\n",
    "v2 = v2.flatten()\n",
    "\n",
    "transform_vec = B.dot(v2)\n",
    "new2 = transform_vec.flatten()\n",
    "\n",
    "graficarVectores([v2, new2], cols = ['blue', 'purple'])\n",
    "\n",
    "# Ajustamos un poco la imagen\n",
    "plt.title('Vector antes y despues de multiplicar con una matriz')\n",
    "plt.grid()\n",
    "plt.xlim(-0.5, 7)\n",
    "plt.ylim(-3, 3)"
   ]
  },
  {
   "cell_type": "code",
   "execution_count": 118,
   "metadata": {
    "colab": {
     "base_uri": "https://localhost:8080/"
    },
    "id": "cV6E9s9Gj3aC",
    "outputId": "556b459c-d8a6-4abc-9421-a4a8c7c15d23"
   },
   "outputs": [
    {
     "name": "stdout",
     "output_type": "stream",
     "text": [
      "Determinante: -13.0\n",
      "Norma del vector original: 2.23606797749979\n",
      "Norma del vector transformado: 9.055385138137417\n"
     ]
    }
   ],
   "source": [
    "det = np.linalg.det(B)\n",
    "norm_1 = np.linalg.norm(v2)\n",
    "norm_2 = np.linalg.norm(new2)\n",
    "print(f'Determinante: {det}\\nNorma del vector original: {norm_1}\\nNorma del vector transformado: {norm_2}')"
   ]
  },
  {
   "cell_type": "markdown",
   "metadata": {
    "id": "9rYuq8--iEf8"
   },
   "source": [
    "Podemos ver que al aplicar el producto de nuestra matriz hemos afectado tanto la dirección original del vector, como la norma o \"longitud\" del mismo. Que a su vez, puede ser visto como una **transformación lineal** donde pasamos de tener el vector $\\begin{bmatrix}1 \\\\ 2\\end{bmatrix}$ a tener el  $\\begin{bmatrix}7 \\\\ -1\\end{bmatrix}$."
   ]
  },
  {
   "cell_type": "markdown",
   "metadata": {
    "id": "fc-CbqwK8mtP"
   },
   "source": [
    "---"
   ]
  },
  {
   "cell_type": "markdown",
   "metadata": {
    "id": "MrT_7cj5a4tE"
   },
   "source": [
    "### Autovalores y autovectores"
   ]
  },
  {
   "cell_type": "markdown",
   "metadata": {
    "id": "bBMg7Oh9bidK"
   },
   "source": [
    "Los **vectores propios** o **autovectores** son aquellos vectores que al ser multiplicados con una matriz en partícular, mantienen su misma dirección. Es decir, podemos  visualizar al producto de dicho vector y dicha matriz, cómo si fuera el producto de un vector por un valor escalar."
   ]
  },
  {
   "cell_type": "markdown",
   "metadata": {
    "id": "TU8odc93cUW8"
   },
   "source": [
    "$$A \\vec{x} = \\lambda \\vec{x}$$"
   ]
  },
  {
   "cell_type": "markdown",
   "metadata": {
    "id": "S3PUKbi4cbCG"
   },
   "source": [
    "a este valor $\\lambda$ que puede \"sustituir\" el efecto de la matriz, lo llamamos **valor propio** o **autovalor**. Además, los autovectores deben de ser vectores base, es decir, que a partir de ellos se pueda generar todo el espacio a partir de combinaciones lineales de estos."
   ]
  },
  {
   "cell_type": "markdown",
   "metadata": {
    "id": "DX8dyGb5c3Hn"
   },
   "source": [
    "Para encontrar los autovalores y autovectores de una matriz A, esta debe de ser cuadrada. Por ejemplo $2\\times 2$, $3\\times 3$, $9\\times 9$, etc. Y la matriz tendrá tantos autovalores como dimensiones tenga y a veces pueden repetirse estos valores."
   ]
  },
  {
   "cell_type": "code",
   "execution_count": 124,
   "metadata": {
    "id": "hxzlfyWqd2wd"
   },
   "outputs": [],
   "source": [
    "%matplotlib inline\n",
    "\n",
    "import numpy as np\n",
    "import matplotlib.pyplot as plt"
   ]
  },
  {
   "cell_type": "code",
   "execution_count": 125,
   "metadata": {
    "id": "hqB9cDnKky9T"
   },
   "outputs": [],
   "source": [
    "%run \"/content/drive/MyDrive/Colab Notebooks/funciones_auxiliares.ipynb\""
   ]
  },
  {
   "cell_type": "code",
   "execution_count": 144,
   "metadata": {
    "id": "Lk_TCUnZk65G"
   },
   "outputs": [],
   "source": [
    "color_1 = '#FF9A13'\n",
    "color_2 = '#1190FF'"
   ]
  },
  {
   "cell_type": "code",
   "execution_count": 145,
   "metadata": {
    "colab": {
     "base_uri": "https://localhost:8080/"
    },
    "id": "6q_M2puhk_eO",
    "outputId": "5fc317e8-5403-4efa-b015-4dc64de54afe"
   },
   "outputs": [
    {
     "name": "stdout",
     "output_type": "stream",
     "text": [
      "[[3 2]\n",
      " [4 1]]\n"
     ]
    }
   ],
   "source": [
    "X = np.array([\n",
    "              [3,2],\n",
    "              [4,1]\n",
    "])\n",
    "print(X)"
   ]
  },
  {
   "cell_type": "code",
   "execution_count": 146,
   "metadata": {
    "colab": {
     "base_uri": "https://localhost:8080/"
    },
    "id": "od4rChnUk3-o",
    "outputId": "eb3b8ff8-fb6f-449c-f682-26e0b0bc11b4"
   },
   "outputs": [
    {
     "name": "stdout",
     "output_type": "stream",
     "text": [
      "[[1]\n",
      " [1]]\n"
     ]
    }
   ],
   "source": [
    "vector = np.array([[1],\n",
    "                   [1]])\n",
    "print(vector)"
   ]
  },
  {
   "cell_type": "code",
   "execution_count": 147,
   "metadata": {
    "colab": {
     "base_uri": "https://localhost:8080/"
    },
    "id": "Bgg4T--OmJnL",
    "outputId": "4eb47127-4b47-4e57-a399-b00afcc97531"
   },
   "outputs": [
    {
     "name": "stdout",
     "output_type": "stream",
     "text": [
      "[[5]\n",
      " [5]]\n"
     ]
    }
   ],
   "source": [
    "transform_vec = X.dot(vector)\n",
    "print(transform_vec)"
   ]
  },
  {
   "cell_type": "code",
   "execution_count": 178,
   "metadata": {
    "colab": {
     "base_uri": "https://localhost:8080/"
    },
    "id": "teSfDuZymXYs",
    "outputId": "18de3be3-6e7b-44cd-f258-028c9f387e9f"
   },
   "outputs": [
    {
     "name": "stdout",
     "output_type": "stream",
     "text": [
      "u1: [1 1]\n",
      "u2: [5 5]\n"
     ]
    }
   ],
   "source": [
    "u1 = vector.flatten()\n",
    "u2 = transform_vec.flatten()\n",
    "print(f'u1: {u1}\\nu2: {u2}')"
   ]
  },
  {
   "cell_type": "code",
   "execution_count": 170,
   "metadata": {
    "colab": {
     "base_uri": "https://localhost:8080/",
     "height": 287
    },
    "id": "1NzuEP35mPxM",
    "outputId": "128f3904-8278-4a5f-f9dd-85e33a8c7159"
   },
   "outputs": [
    {
     "data": {
      "text/plain": [
       "(-1.0, 6.0)"
      ]
     },
     "execution_count": 170,
     "metadata": {
      "tags": []
     },
     "output_type": "execute_result"
    },
    {
     "data": {
      "image/png": "[encoded data removed]",
      "text/plain": [
       "<Figure size 432x288 with 1 Axes>"
      ]
     },
     "metadata": {
      "needs_background": "light",
      "tags": []
     },
     "output_type": "display_data"
    }
   ],
   "source": [
    "graficarVectores([u2, u1], cols = [color_1, color_2])\n",
    "\n",
    "plt.xlim(-1,6)\n",
    "plt.ylim(-1,6)"
   ]
  },
  {
   "cell_type": "markdown",
   "metadata": {
    "id": "CWf-AuDEmjeX"
   },
   "source": [
    "Podemos ver que lo único que modificamos de nuestro vector original fue su magnitud, ya que la dirección se mantuvo intacta.\n",
    "\n",
    "Esto pasa ya que, nuestro vector es el vector propio de nuestra matriz $X$. Es decir, podríamos reemplazar este vector por nuestro **valor propio** y obtendríamos el mismo vector resultante.\n",
    "\n",
    "Este valor propio sería $\\lambda = 5$."
   ]
  },
  {
   "cell_type": "markdown",
   "metadata": {
    "id": "p5XaP_cF5ccK"
   },
   "source": [
    "Veamos si es cierto:"
   ]
  },
  {
   "cell_type": "code",
   "execution_count": 177,
   "metadata": {
    "colab": {
     "base_uri": "https://localhost:8080/"
    },
    "id": "OdvZptf75kmf",
    "outputId": "95f45f69-77db-46c1-82cf-a24a0f833438"
   },
   "outputs": [
    {
     "name": "stdout",
     "output_type": "stream",
     "text": [
      "[5 5]\n"
     ]
    }
   ],
   "source": [
    "lambda_1 = 5\n",
    "u_3 = lambda_1 * vector\n",
    "u3 = u_3.flatten()\n",
    "print(u3)"
   ]
  },
  {
   "cell_type": "code",
   "execution_count": 181,
   "metadata": {
    "colab": {
     "base_uri": "https://localhost:8080/",
     "height": 287
    },
    "id": "2Ds7kDM25ooz",
    "outputId": "e6634fb8-976a-49d7-b32e-d3f07740c6a6"
   },
   "outputs": [
    {
     "data": {
      "text/plain": [
       "(-1.0, 6.0)"
      ]
     },
     "execution_count": 181,
     "metadata": {
      "tags": []
     },
     "output_type": "execute_result"
    },
    {
     "data": {
      "image/png": "[encoded data removed]",
      "text/plain": [
       "<Figure size 432x288 with 1 Axes>"
      ]
     },
     "metadata": {
      "needs_background": "light",
      "tags": []
     },
     "output_type": "display_data"
    }
   ],
   "source": [
    "graficarVectores([u3], cols = ['pink'])\n",
    "plt.xlim(-1,6)\n",
    "plt.ylim(-1,6)"
   ]
  },
  {
   "cell_type": "markdown",
   "metadata": {
    "id": "LmIdnnrQ6rGf"
   },
   "source": [
    "y como era de esperarse, obtuvimos el vector $\\begin{bmatrix}5 \\\\ 5\\end{bmatrix}$."
   ]
  },
  {
   "cell_type": "markdown",
   "metadata": {
    "id": "Q7dU_HBU62_2"
   },
   "source": [
    "Y, ¿Qué pasaría con un vector que mantiene su dirección, pero **cambia su sentido**?"
   ]
  },
  {
   "cell_type": "code",
   "execution_count": 191,
   "metadata": {
    "colab": {
     "base_uri": "https://localhost:8080/",
     "height": 283
    },
    "id": "X1X6idq37xAN",
    "outputId": "a331a3ae-90f2-4d20-8a0e-c93968c61547"
   },
   "outputs": [
    {
     "data": {
      "text/plain": [
       "(-2.5, 2.5)"
      ]
     },
     "execution_count": 191,
     "metadata": {
      "tags": []
     },
     "output_type": "execute_result"
    },
    {
     "data": {
      "image/png": "[encoded data removed]",
      "text/plain": [
       "<Figure size 432x288 with 1 Axes>"
      ]
     },
     "metadata": {
      "needs_background": "light",
      "tags": []
     },
     "output_type": "display_data"
    }
   ],
   "source": [
    "s = np.array([[-1],[2]])\n",
    "t = X.dot(s)\n",
    "graficarVectores([t.flatten(), s.flatten()], cols = [color_1, color_2])\n",
    "plt.grid()\n",
    "plt.xlim(-2, 2)\n",
    "plt.ylim(-2.5 ,2.5)"
   ]
  },
  {
   "cell_type": "markdown",
   "metadata": {
    "id": "MTd-hxrP712y"
   },
   "source": [
    "En este caso donde tenemos un vector que **mantiene su dirección, pero cambia de sentido, también es un vector propio**.\n"
   ]
  },
  {
   "cell_type": "markdown",
   "metadata": {
    "id": "0ymCKPmf8Zg_"
   },
   "source": [
    "Así que nuestra matriz $2\\times 2$ tiene 2 autovectores con 2 autovalores asociados."
   ]
  },
  {
   "cell_type": "markdown",
   "metadata": {
    "id": "39OFGi7V8hFF"
   },
   "source": [
    "---"
   ]
  },
  {
   "cell_type": "markdown",
   "metadata": {
    "id": "s4bl41_U88qw"
   },
   "source": [
    "### ¿Cómo calcular los autovalores y autovectores?"
   ]
  },
  {
   "cell_type": "code",
   "execution_count": 192,
   "metadata": {
    "id": "HdU0-wBv9Apn"
   },
   "outputs": [],
   "source": [
    "%matplotlib inline \n",
    "import numpy as np\n",
    "import matplotlib.pyplot as plt"
   ]
  },
  {
   "cell_type": "code",
   "execution_count": 193,
   "metadata": {
    "colab": {
     "base_uri": "https://localhost:8080/"
    },
    "id": "hyany8Ln-rVe",
    "outputId": "50100abb-ac5c-4a63-8942-7d6cb27baa31"
   },
   "outputs": [
    {
     "name": "stdout",
     "output_type": "stream",
     "text": [
      "[[3 2]\n",
      " [4 1]]\n"
     ]
    }
   ],
   "source": [
    "X = np.array([[3,2],[4,1]])\n",
    "print(X)"
   ]
  },
  {
   "cell_type": "code",
   "execution_count": 194,
   "metadata": {
    "colab": {
     "base_uri": "https://localhost:8080/"
    },
    "id": "HSeKShJW-x6A",
    "outputId": "df72519a-3fa5-42e8-8823-4b8da6689bd7"
   },
   "outputs": [
    {
     "name": "stdout",
     "output_type": "stream",
     "text": [
      "(array([ 5., -1.]), array([[ 0.70710678, -0.4472136 ],\n",
      "       [ 0.70710678,  0.89442719]]))\n"
     ]
    }
   ],
   "source": [
    "print(np.linalg.eig(X))"
   ]
  },
  {
   "cell_type": "code",
   "execution_count": 229,
   "metadata": {
    "colab": {
     "base_uri": "https://localhost:8080/"
    },
    "id": "jWiLwe5O-2bD",
    "outputId": "c65e3785-0136-4e8c-baf8-fbf1860c965c"
   },
   "outputs": [
    {
     "name": "stdout",
     "output_type": "stream",
     "text": [
      "ʕ•́ᴥ•̀ʔっ---> Leer los vectores como vectores columna\n",
      "EigenValues: [ 5. -1.]\n",
      "EigenVector 1:\n",
      " [0.70710678 0.70710678]\n",
      "EigenVector 2:\n",
      " [-0.4472136   0.89442719]\n"
     ]
    }
   ],
   "source": [
    "eigen_value, eigen_vectors = np.linalg.eig(X)\n",
    "print(f'ʕ•́ᴥ•̀ʔっ---> Leer los vectores como vectores columna\\nEigenValues: {eigen_value}\\nEigenVector 1:\\n {eigen_vectors[:,0]}\\nEigenVector 2:\\n {eigen_vectors[:,1]}')"
   ]
  },
  {
   "cell_type": "code",
   "execution_count": 230,
   "metadata": {
    "id": "5EA1eajI_LiW"
   },
   "outputs": [],
   "source": [
    "%run \"/content/drive/MyDrive/Colab Notebooks/funciones_auxiliares.ipynb\""
   ]
  },
  {
   "cell_type": "code",
   "execution_count": 247,
   "metadata": {
    "id": "LCSwxEidIZ3d"
   },
   "outputs": [],
   "source": [
    "v = np.array([[-1],[2]])\n",
    "\n",
    "Xv = X.dot(v)\n",
    "\n",
    "v_np1 = eigen_vectors[:,0]\n",
    "v_np2 = eigen_vectors[:,1]"
   ]
  },
  {
   "cell_type": "code",
   "execution_count": 248,
   "metadata": {
    "colab": {
     "base_uri": "https://localhost:8080/",
     "height": 283
    },
    "id": "est9E4eeIYqs",
    "outputId": "285c327d-b88c-4f27-b9c1-46589c1a4548"
   },
   "outputs": [
    {
     "data": {
      "text/plain": [
       "(-2.5, 2.5)"
      ]
     },
     "execution_count": 248,
     "metadata": {
      "tags": []
     },
     "output_type": "execute_result"
    },
    {
     "data": {
      "image/png": "[encoded data removed]",
      "text/plain": [
       "<Figure size 432x288 with 1 Axes>"
      ]
     },
     "metadata": {
      "needs_background": "light",
      "tags": []
     },
     "output_type": "display_data"
    }
   ],
   "source": [
    "graficarVectores([v.flatten(),Xv.flatten(), v_np1, v_np2], cols = ['black', 'purple','red', 'blue'])\n",
    "plt.grid()\n",
    "plt.xlim(-1.5, 1.5)\n",
    "plt.ylim(-2.5,2.5)"
   ]
  },
  {
   "cell_type": "markdown",
   "metadata": {
    "id": "n9UDnoYmJLTc"
   },
   "source": [
    "Donde el *Negro* corresponde a nuestro vector original, el Morado al vector multiplicado por la matriz $X$, el *rojo* corresponde al primer resultado obtenido de `.linalg.eig(X)` que es un vector ortogonal al vector original,  y el *verde* corresponde al *eigenvector* correspondiente al eigenvalue `w[1]`."
   ]
  },
  {
   "cell_type": "markdown",
   "metadata": {
    "id": "J0zhuBTcNP5w"
   },
   "source": [
    "Podemos ver que podríamos encontrar diferentes valores de *eigenvectors*, pero mientras mantengan la misma dirección podemos decir que nos referimos al mismo vector, solo que estamos obteniendo distintos multiplos de el o el mismo vector con diferentes magnitudes."
   ]
  },
  {
   "cell_type": "markdown",
   "metadata": {
    "id": "WucSp1M2VEn6"
   },
   "source": [
    "---"
   ]
  }
 ],
 "metadata": {
  "colab": {
   "authorship_tag": "ABX9TyMMND2hlNAySJJo1+yTw+Bx",
   "collapsed_sections": [],
   "mount_file_id": "1GNFErzCnot9tChT3Zs6RPgRsekXO-ZGf",
   "name": "Algebra_Lineal_aplicada_para_Machine_Learning.ipynb",
   "provenance": []
  },
  "kernelspec": {
   "display_name": "Python 3",
   "language": "python",
   "name": "python3"
  },
  "language_info": {
   "codemirror_mode": {
    "name": "ipython",
    "version": 3
   },
   "file_extension": ".py",
   "mimetype": "text/x-python",
   "name": "python",
   "nbconvert_exporter": "python",
   "pygments_lexer": "ipython3",
   "version": "3.8.3"
  },
  "toc": {
   "base_numbering": 1,
   "nav_menu": {},
   "number_sections": false,
   "sideBar": true,
   "skip_h1_title": false,
   "title_cell": "Tabla de Contenidos 💜",
   "title_sidebar": "Contents",
   "toc_cell": false,
   "toc_position": {},
   "toc_section_display": true,
   "toc_window_display": false
  }
 },
 "nbformat": 4,
 "nbformat_minor": 1
}
