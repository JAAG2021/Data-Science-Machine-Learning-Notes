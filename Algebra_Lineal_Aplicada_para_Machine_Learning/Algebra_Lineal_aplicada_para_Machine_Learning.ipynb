{
  "nbformat": 4,
  "nbformat_minor": 0,
  "metadata": {
    "colab": {
      "name": "Algebra_Lineal_aplicada_para_Machine_Learning.ipynb",
      "provenance": [],
      "collapsed_sections": []
    },
    "kernelspec": {
      "display_name": "Python 3",
      "language": "python",
      "name": "python3"
    },
    "language_info": {
      "codemirror_mode": {
        "name": "ipython",
        "version": 3
      },
      "file_extension": ".py",
      "mimetype": "text/x-python",
      "name": "python",
      "nbconvert_exporter": "python",
      "pygments_lexer": "ipython3",
      "version": "3.8.3"
    },
    "toc": {
      "base_numbering": 1,
      "nav_menu": {},
      "number_sections": false,
      "sideBar": true,
      "skip_h1_title": false,
      "title_cell": "Tabla de Contenidos 💜",
      "title_sidebar": "Contents",
      "toc_cell": false,
      "toc_position": {},
      "toc_section_display": true,
      "toc_window_display": false
    }
  },
  "cells": [
    {
      "cell_type": "markdown",
      "metadata": {
        "id": "PEDnVabA-Wkr"
      },
      "source": [
        "# Álgebra lineal aplicada a Machine Learning"
      ]
    },
    {
      "cell_type": "markdown",
      "metadata": {
        "id": "HyDvWQdR0A36"
      },
      "source": [
        "Antes de comenzar a leer este Notebook, es importante tener ciertos conocimientos básicos de Álgebra lineal, recomiendo revisar el notebook de [Fundamentos de Álgebra Lineal con Python](https://github.com/abdielgv162/Data-Science-Machine-Learning-Notes/blob/master/Fundamentos_de_Algebra_Lineal_con_Python/Fundamentos_Algebra_Lineal_con_Python.ipynb) que también se encuentra en mi repositorio de [Data-Science-Machine-Learning-Notes](https://github.com/abdielgv162/Data-Science-Machine-Learning-Notes)."
      ]
    },
    {
      "cell_type": "markdown",
      "metadata": {
        "id": "RtjpiXJ6-tRI"
      },
      "source": [
        "## Transformaciones lineales y descomposición de matrices"
      ]
    },
    {
      "cell_type": "markdown",
      "metadata": {
        "id": "7r5Hz8nFA_TX"
      },
      "source": [
        "### Matrices como transformaciones lineales"
      ]
    },
    {
      "cell_type": "markdown",
      "metadata": {
        "id": "vPEv2bQQe1_9"
      },
      "source": [
        "Recordemos que una **transformación lineal** es una función. Y como toda función, puede tener su dominio y codominio, con la particularidad de que éstos son espacios vectoriales.\n",
        "\n",
        "Teniendo dos espacios vectoriales $V$ y $W$, y una función que va de $V$ a $W$, osea, una regla de asignación que transforma vectores de $V$ en vectores de $W$; decimos que $F: V \\to W$ es una transformación lineal si y sólo si cumple lo siguiente:"
      ]
    },
    {
      "cell_type": "markdown",
      "metadata": {
        "id": "hGx4nO4of0a-"
      },
      "source": [
        "$$F\\left( {u + v} \\right) = F\\left( u \\right) + F\\left( v \\right){\\rm{\\;\\;}}\\ \\ \\ \\ \\forall u,v \\in V$$"
      ]
    },
    {
      "cell_type": "markdown",
      "metadata": {
        "id": "9-Jz5JCsf4zZ"
      },
      "source": [
        "$$F\\left( {k.v} \\right) = k.F\\left( v \\right){\\rm{\\;\\;\\;}}\\ \\ \\ \\ \\ \\ \\ \\forall v \\in V,{\\rm{\\;}} \\ \\   \\forall k \\in \\mathbb{R}$$"
      ]
    },
    {
      "cell_type": "markdown",
      "metadata": {
        "id": "l8pHl9szgwKJ"
      },
      "source": [
        "Lo que hace lineal a una transformación es que, **el origen debe permanecer fijo** y **todas las lineas rectas deben de mantenerse rectas**."
      ]
    },
    {
      "cell_type": "markdown",
      "metadata": {
        "id": "6YNFaOGhn8Q1"
      },
      "source": [
        "En el caso de la **matrices** también podemos verlas como transformaciones lineales ya que podemos \"manipular\" vectores a través de una especie de regla de asignación, donde le indicamos por cuánto va a cambiar su magnitud o dirección. De manera que obtendríamos una serie de nuevos vectores.\n",
        "\n",
        "\n",
        "Vamos a visualizar esto con el siguiente ejemplo:"
      ]
    },
    {
      "cell_type": "code",
      "metadata": {
        "id": "NoqN3pRkA0WT"
      },
      "source": [
        "%matplotlib inline\n",
        "import numpy as np\n",
        "import matplotlib.pyplot as plt"
      ],
      "execution_count": null,
      "outputs": []
    },
    {
      "cell_type": "markdown",
      "metadata": {
        "id": "wRosaGEXezHh"
      },
      "source": [
        "Vamos a crear una matriz para nuestro ejemplo"
      ]
    },
    {
      "cell_type": "code",
      "metadata": {
        "colab": {
          "base_uri": "https://localhost:8080/"
        },
        "id": "URbkVR1OA2-O",
        "outputId": "ebe3637f-da87-42a8-b611-5677cb48251b"
      },
      "source": [
        "A = np.array([[-1 ,3],\n",
        "              [2, -2]])\n",
        "print(A)"
      ],
      "execution_count": null,
      "outputs": [
        {
          "output_type": "stream",
          "text": [
            "[[-1  3]\n",
            " [ 2 -2]]\n"
          ],
          "name": "stdout"
        }
      ]
    },
    {
      "cell_type": "markdown",
      "metadata": {
        "id": "U4U22Gn4iznB"
      },
      "source": [
        "Y un vector"
      ]
    },
    {
      "cell_type": "code",
      "metadata": {
        "colab": {
          "base_uri": "https://localhost:8080/"
        },
        "id": "kS1wU3XbBkkm",
        "outputId": "2d3079cf-c66a-4099-e32c-9fa1ee9e9245"
      },
      "source": [
        "v = np.array([[2],[1]])\n",
        "print(v)"
      ],
      "execution_count": null,
      "outputs": [
        {
          "output_type": "stream",
          "text": [
            "[[2]\n",
            " [1]]\n"
          ],
          "name": "stdout"
        }
      ]
    },
    {
      "cell_type": "markdown",
      "metadata": {
        "id": "BO5iQnJ6B07N"
      },
      "source": [
        "Vamos a crear una función para graficar nuestros vectores. Y como será una función que utilizaremos muchas veces (y para aprender a trabajar con funciones de otros archivos), vamos a crear nuestra función en un archivo distinto y la llamaremos desde este notebook.\n",
        "\n",
        "Abajo una imagen de la función y del nombre del archivo."
      ]
    },
    {
      "cell_type": "markdown",
      "metadata": {
        "id": "eVXvptRJNLOH"
      },
      "source": [
        "![](https://i.imgur.com/PXEjfJS.png)"
      ]
    },
    {
      "cell_type": "markdown",
      "metadata": {
        "id": "sdcUFdP_DMXj"
      },
      "source": [
        "Una vez que ya tenemos nuestra función en nuestro archivo correspondiente, que en este caso llamé `funciones_auxiliares.ipynb`; lo llamaremos utilizando el comando `%run` y la ruta correspondiente en donde se encuentra nuestro archivo.\n",
        "\n",
        "En este caso notaran que yo estoy cargando mi notebook desde mi carpeta de drive, ya que no estoy trabajando en un entorno local."
      ]
    },
    {
      "cell_type": "code",
      "metadata": {
        "colab": {
          "base_uri": "https://localhost:8080/"
        },
        "id": "B9JNeOSB1F_g",
        "outputId": "b436a25b-1ec1-497d-ed1f-1abd8a9640bc"
      },
      "source": [
        "from google.colab import drive\n",
        "drive.mount('/content/drive')"
      ],
      "execution_count": null,
      "outputs": [
        {
          "output_type": "stream",
          "text": [
            "Drive already mounted at /content/drive; to attempt to forcibly remount, call drive.mount(\"/content/drive\", force_remount=True).\n"
          ],
          "name": "stdout"
        }
      ]
    },
    {
      "cell_type": "code",
      "metadata": {
        "id": "CZRzr-2aMEme"
      },
      "source": [
        "# Hacemos el llamado al otro archivo que creamos\n",
        "%run \"/content/drive/MyDrive/Colab Notebooks/funciones_auxiliares.ipynb\""
      ],
      "execution_count": null,
      "outputs": []
    },
    {
      "cell_type": "markdown",
      "metadata": {
        "id": "dzJ4wYTKMkRE"
      },
      "source": [
        "Vamos a retomar el vector y la matriz que definimos arriba. Y vamos a aplicar el método `flatten()` el cual devuelve una copia de la matriz colapsada en una dimensión."
      ]
    },
    {
      "cell_type": "markdown",
      "metadata": {
        "id": "kDZdeQ9SRBtp"
      },
      "source": [
        "Apliquemos `flatten()` a nuestro vector para poder graficarlo más adelante:"
      ]
    },
    {
      "cell_type": "code",
      "metadata": {
        "colab": {
          "base_uri": "https://localhost:8080/"
        },
        "id": "pIikpW_pNbMV",
        "outputId": "169d0472-8135-452c-cc2d-5cd6583806f4"
      },
      "source": [
        "print(v)\n",
        "print(v.flatten())"
      ],
      "execution_count": null,
      "outputs": [
        {
          "output_type": "stream",
          "text": [
            "[[2]\n",
            " [1]]\n",
            "[2 1]\n"
          ],
          "name": "stdout"
        }
      ]
    },
    {
      "cell_type": "markdown",
      "metadata": {
        "id": "BaO2_GVuNugO"
      },
      "source": [
        "Solo por curiosidad, ¿cuál sería el efecto `flatten()` en una matriz?"
      ]
    },
    {
      "cell_type": "code",
      "metadata": {
        "colab": {
          "base_uri": "https://localhost:8080/"
        },
        "id": "enftnUZrOAhV",
        "outputId": "8b1df173-e288-45cb-aa8e-df6e032fe79f"
      },
      "source": [
        "print(A)\n",
        "print(A.flatten())"
      ],
      "execution_count": null,
      "outputs": [
        {
          "output_type": "stream",
          "text": [
            "[[-1  3]\n",
            " [ 2 -2]]\n",
            "[-1  3  2 -2]\n"
          ],
          "name": "stdout"
        }
      ]
    },
    {
      "cell_type": "markdown",
      "metadata": {
        "id": "esZnF5x0PjfP"
      },
      "source": [
        "vamos a graficar nuestro vector original:"
      ]
    },
    {
      "cell_type": "code",
      "metadata": {
        "colab": {
          "base_uri": "https://localhost:8080/",
          "height": 298
        },
        "id": "-djUPYISOA4X",
        "outputId": "88dfa355-00e2-414b-c5d4-d5f965afbdca"
      },
      "source": [
        "# Llamemos a la función del otro archivo\n",
        "graficarVectores([v.flatten()], 'blue')\n",
        "\n",
        "# Ajustamos un poco la imagen\n",
        "plt.title('Vector')\n",
        "plt.xlim(-0.5, 3)\n",
        "plt.ylim(-0.5, 2)"
      ],
      "execution_count": null,
      "outputs": [
        {
          "output_type": "execute_result",
          "data": {
            "text/plain": [
              "(-0.5, 2.0)"
            ]
          },
          "metadata": {
            "tags": []
          },
          "execution_count": 9
        },
        {
          "output_type": "display_data",
          "data": {
            "image/png": "[encoded data removed]",
            "text/plain": [
              "<Figure size 432x288 with 1 Axes>"
            ]
          },
          "metadata": {
            "tags": [],
            "needs_background": "light"
          }
        }
      ]
    },
    {
      "cell_type": "markdown",
      "metadata": {
        "id": "hQT1l6WdQGvF"
      },
      "source": [
        "Vamos a ver cuál sería el efecto de aplicar un **producto interno** (producto punto) entre nuestro vector y nuestra matriz:"
      ]
    },
    {
      "cell_type": "code",
      "metadata": {
        "colab": {
          "base_uri": "https://localhost:8080/",
          "height": 298
        },
        "id": "o5EmF1weOlUn",
        "outputId": "4cb88f54-ebbb-4d25-d393-93fcf9a8302b"
      },
      "source": [
        "transformed_vector = A.dot(v)\n",
        "new = transformed_vector.flatten()\n",
        "graficarVectores([v.flatten(), new], cols = ['blue', 'orange'])\n",
        "\n",
        "# Ajustamos un poco la imagen\n",
        "plt.title('Vector antes y despues de multiplicar con una matriz')\n",
        "plt.xlim(-0.5, 3)\n",
        "plt.ylim(-0.5, 3)"
      ],
      "execution_count": null,
      "outputs": [
        {
          "output_type": "execute_result",
          "data": {
            "text/plain": [
              "(-0.5, 3.0)"
            ]
          },
          "metadata": {
            "tags": []
          },
          "execution_count": 10
        },
        {
          "output_type": "display_data",
          "data": {
            "image/png": "[encoded data removed]",
            "text/plain": [
              "<Figure size 432x288 with 1 Axes>"
            ]
          },
          "metadata": {
            "tags": [],
            "needs_background": "light"
          }
        }
      ]
    },
    {
      "cell_type": "markdown",
      "metadata": {
        "id": "GjTAMlDHP6zg"
      },
      "source": [
        "Podemos ver que nuestro vector original $\\begin{bmatrix}2 \\\\ 1\\end{bmatrix}$ se tranformó en el vector  $\\begin{bmatrix}1 \\\\ 2\\end{bmatrix}$ al aplicar el producto interno con la matriz. Y esto lo viualizamos como una rotación."
      ]
    },
    {
      "cell_type": "markdown",
      "metadata": {
        "id": "QXcAt3BNaE2w"
      },
      "source": [
        "Vamos a ver cuál es el determinante de nuestra matriz:"
      ]
    },
    {
      "cell_type": "code",
      "metadata": {
        "colab": {
          "base_uri": "https://localhost:8080/"
        },
        "id": "yn2UtuW6Z71E",
        "outputId": "7077d0a8-c829-44a4-fd5c-c7b433f9bee4"
      },
      "source": [
        "print(np.linalg.det(A))"
      ],
      "execution_count": null,
      "outputs": [
        {
          "output_type": "stream",
          "text": [
            "-4.0\n"
          ],
          "name": "stdout"
        }
      ]
    },
    {
      "cell_type": "markdown",
      "metadata": {
        "id": "c2GbKpA_aDk5"
      },
      "source": [
        "Así que esperaríamos que estos vectores **no mantengan la misma norma** al ser transformados. En este caso tuvimos suerte y sí se mantuvo."
      ]
    },
    {
      "cell_type": "code",
      "metadata": {
        "colab": {
          "base_uri": "https://localhost:8080/"
        },
        "id": "NkKJ9EYvak-_",
        "outputId": "d6842baf-8c3b-445c-b1aa-fd0e2456c076"
      },
      "source": [
        "print(np.linalg.norm(v))"
      ],
      "execution_count": null,
      "outputs": [
        {
          "output_type": "stream",
          "text": [
            "2.23606797749979\n"
          ],
          "name": "stdout"
        }
      ]
    },
    {
      "cell_type": "code",
      "metadata": {
        "colab": {
          "base_uri": "https://localhost:8080/"
        },
        "id": "x4Qai9ZRaoGr",
        "outputId": "03970671-4773-47d4-9ab2-d6321de2e121"
      },
      "source": [
        "print(np.linalg.norm(new))"
      ],
      "execution_count": null,
      "outputs": [
        {
          "output_type": "stream",
          "text": [
            "2.23606797749979\n"
          ],
          "name": "stdout"
        }
      ]
    },
    {
      "cell_type": "markdown",
      "metadata": {
        "id": "9xfI_MRShBAy"
      },
      "source": [
        "Vamos a hacer otro ejemplo con un nuevo vector y una nueva matriz:"
      ]
    },
    {
      "cell_type": "code",
      "metadata": {
        "colab": {
          "base_uri": "https://localhost:8080/",
          "height": 298
        },
        "id": "6zFgo_lthEG_",
        "outputId": "13a15cdb-b9c1-4bf5-83dc-2d58a8b06ab4"
      },
      "source": [
        "B = np.array([[-1 ,4],\n",
        "              [3, -2]])\n",
        "\n",
        "v2 = np.array([[1],[2]])\n",
        "v2 = v2.flatten()\n",
        "\n",
        "transform_vec = B.dot(v2)\n",
        "new2 = transform_vec.flatten()\n",
        "\n",
        "graficarVectores([v2, new2], cols = ['blue', 'purple'])\n",
        "\n",
        "# Ajustamos un poco la imagen\n",
        "plt.title('Vector antes y despues de multiplicar con una matriz')\n",
        "plt.grid()\n",
        "plt.xlim(-0.5, 7)\n",
        "plt.ylim(-3, 3)"
      ],
      "execution_count": null,
      "outputs": [
        {
          "output_type": "execute_result",
          "data": {
            "text/plain": [
              "(-3.0, 3.0)"
            ]
          },
          "metadata": {
            "tags": []
          },
          "execution_count": 14
        },
        {
          "output_type": "display_data",
          "data": {
            "image/png": "[encoded data removed]",
            "text/plain": [
              "<Figure size 432x288 with 1 Axes>"
            ]
          },
          "metadata": {
            "tags": [],
            "needs_background": "light"
          }
        }
      ]
    },
    {
      "cell_type": "code",
      "metadata": {
        "colab": {
          "base_uri": "https://localhost:8080/"
        },
        "id": "cV6E9s9Gj3aC",
        "outputId": "92e3638c-0f55-43a0-b995-94fd3d05d12e"
      },
      "source": [
        "det = np.linalg.det(B)\n",
        "norm_1 = np.linalg.norm(v2)\n",
        "norm_2 = np.linalg.norm(new2)\n",
        "print(f'Determinante: {det}\\nNorma del vector original: {norm_1}\\nNorma del vector transformado: {norm_2}')"
      ],
      "execution_count": null,
      "outputs": [
        {
          "output_type": "stream",
          "text": [
            "Determinante: -10.000000000000002\n",
            "Norma del vector original: 2.23606797749979\n",
            "Norma del vector transformado: 7.0710678118654755\n"
          ],
          "name": "stdout"
        }
      ]
    },
    {
      "cell_type": "markdown",
      "metadata": {
        "id": "9rYuq8--iEf8"
      },
      "source": [
        "Podemos ver que al aplicar el producto de nuestra matriz hemos afectado tanto la dirección original del vector, como la norma o \"longitud\" del mismo. Que a su vez, puede ser visto como una **transformación lineal** donde pasamos de tener el vector $\\begin{bmatrix}1 \\\\ 2\\end{bmatrix}$ a tener el  $\\begin{bmatrix}7 \\\\ -1\\end{bmatrix}$."
      ]
    },
    {
      "cell_type": "markdown",
      "metadata": {
        "id": "fc-CbqwK8mtP"
      },
      "source": [
        "---"
      ]
    },
    {
      "cell_type": "markdown",
      "metadata": {
        "id": "MrT_7cj5a4tE"
      },
      "source": [
        "### Autovalores y autovectores"
      ]
    },
    {
      "cell_type": "markdown",
      "metadata": {
        "id": "bBMg7Oh9bidK"
      },
      "source": [
        "Los **vectores propios** o **autovectores** son aquellos vectores que al ser multiplicados con una matriz en partícular, mantienen su misma dirección. Es decir, podemos  visualizar al producto de dicho vector y dicha matriz, cómo si fuera el producto de un vector por un valor escalar y que por lo tanto, solo afecta su magnitud."
      ]
    },
    {
      "cell_type": "markdown",
      "metadata": {
        "id": "TU8odc93cUW8"
      },
      "source": [
        "$$A \\vec{x} = \\lambda \\vec{x}$$"
      ]
    },
    {
      "cell_type": "markdown",
      "metadata": {
        "id": "S3PUKbi4cbCG"
      },
      "source": [
        "a este valor $\\lambda$ que puede \"sustituir\" el efecto de la matriz, lo llamamos **valor propio** o **autovalor**. Además, los autovectores deben de ser vectores base, es decir, que a partir de ellos se pueda generar todo el espacio a partir de combinaciones lineales de estos."
      ]
    },
    {
      "cell_type": "markdown",
      "metadata": {
        "id": "DX8dyGb5c3Hn"
      },
      "source": [
        "Para encontrar los autovalores y autovectores de una matriz A, esta debe de ser cuadrada. Por ejemplo $2\\times 2$, $3\\times 3$, $9\\times 9$, etc. Y la matriz tendrá tantos autovalores como dimensiones tenga y a veces pueden repetirse estos valores."
      ]
    },
    {
      "cell_type": "code",
      "metadata": {
        "id": "hxzlfyWqd2wd"
      },
      "source": [
        "%matplotlib inline\n",
        "\n",
        "import numpy as np\n",
        "import matplotlib.pyplot as plt"
      ],
      "execution_count": null,
      "outputs": []
    },
    {
      "cell_type": "code",
      "metadata": {
        "id": "hqB9cDnKky9T"
      },
      "source": [
        "%run \"/content/drive/MyDrive/Colab Notebooks/funciones_auxiliares.ipynb\""
      ],
      "execution_count": null,
      "outputs": []
    },
    {
      "cell_type": "code",
      "metadata": {
        "id": "Lk_TCUnZk65G"
      },
      "source": [
        "color_1 = '#FF9A13'\n",
        "color_2 = '#1190FF'"
      ],
      "execution_count": null,
      "outputs": []
    },
    {
      "cell_type": "code",
      "metadata": {
        "colab": {
          "base_uri": "https://localhost:8080/"
        },
        "id": "6q_M2puhk_eO",
        "outputId": "47f33579-62b6-4f0a-df94-276ae2a15514"
      },
      "source": [
        "X = np.array([\n",
        "              [3,2],\n",
        "              [4,1]\n",
        "])\n",
        "print(X)"
      ],
      "execution_count": null,
      "outputs": [
        {
          "output_type": "stream",
          "text": [
            "[[3 2]\n",
            " [4 1]]\n"
          ],
          "name": "stdout"
        }
      ]
    },
    {
      "cell_type": "code",
      "metadata": {
        "colab": {
          "base_uri": "https://localhost:8080/"
        },
        "id": "od4rChnUk3-o",
        "outputId": "ab4db0f8-5a34-4221-c6fc-b6e16feb03d0"
      },
      "source": [
        "vector = np.array([[1],\n",
        "                   [1]])\n",
        "print(vector)"
      ],
      "execution_count": null,
      "outputs": [
        {
          "output_type": "stream",
          "text": [
            "[[1]\n",
            " [1]]\n"
          ],
          "name": "stdout"
        }
      ]
    },
    {
      "cell_type": "code",
      "metadata": {
        "colab": {
          "base_uri": "https://localhost:8080/"
        },
        "id": "Bgg4T--OmJnL",
        "outputId": "3ac6fa19-d0bf-4418-834f-de228a86ccf6"
      },
      "source": [
        "transform_vec = X.dot(vector)\n",
        "print(transform_vec)"
      ],
      "execution_count": null,
      "outputs": [
        {
          "output_type": "stream",
          "text": [
            "[[5]\n",
            " [5]]\n"
          ],
          "name": "stdout"
        }
      ]
    },
    {
      "cell_type": "code",
      "metadata": {
        "colab": {
          "base_uri": "https://localhost:8080/"
        },
        "id": "teSfDuZymXYs",
        "outputId": "f1b91294-d0e7-4058-efd6-5933e1b917a6"
      },
      "source": [
        "u1 = vector.flatten()\n",
        "u2 = transform_vec.flatten()\n",
        "print(f'u1: {u1}\\nu2: {u2}')"
      ],
      "execution_count": null,
      "outputs": [
        {
          "output_type": "stream",
          "text": [
            "u1: [1 1]\n",
            "u2: [5 5]\n"
          ],
          "name": "stdout"
        }
      ]
    },
    {
      "cell_type": "code",
      "metadata": {
        "colab": {
          "base_uri": "https://localhost:8080/",
          "height": 286
        },
        "id": "1NzuEP35mPxM",
        "outputId": "02a74264-e8e7-4a19-e99d-8d893fcfab09"
      },
      "source": [
        "graficarVectores([u2, u1], cols = [color_1, color_2])\n",
        "\n",
        "plt.xlim(-1,6)\n",
        "plt.ylim(-1,6)"
      ],
      "execution_count": null,
      "outputs": [
        {
          "output_type": "execute_result",
          "data": {
            "text/plain": [
              "(-1.0, 6.0)"
            ]
          },
          "metadata": {
            "tags": []
          },
          "execution_count": 23
        },
        {
          "output_type": "display_data",
          "data": {
            "image/png": "[encoded data removed]",
            "text/plain": [
              "<Figure size 432x288 with 1 Axes>"
            ]
          },
          "metadata": {
            "tags": [],
            "needs_background": "light"
          }
        }
      ]
    },
    {
      "cell_type": "markdown",
      "metadata": {
        "id": "CWf-AuDEmjeX"
      },
      "source": [
        "Podemos ver que lo único que modificamos de nuestro vector original fue su magnitud, ya que **la dirección se mantuvo intacta**.\n",
        "\n",
        "Esto pasa ya que, nuestro vector es el vector propio de nuestra matriz $X$. Es decir, podríamos reemplazar este vector por nuestro **valor propio** y obtendríamos el mismo vector resultante.\n",
        "\n",
        "Este valor propio sería $\\lambda = 5$."
      ]
    },
    {
      "cell_type": "markdown",
      "metadata": {
        "id": "p5XaP_cF5ccK"
      },
      "source": [
        "Veamos si es cierto:"
      ]
    },
    {
      "cell_type": "code",
      "metadata": {
        "colab": {
          "base_uri": "https://localhost:8080/"
        },
        "id": "OdvZptf75kmf",
        "outputId": "bef1248e-4e78-458c-84d3-4c8b87cdf308"
      },
      "source": [
        "lambda_1 = 5\n",
        "u_3 = lambda_1 * vector\n",
        "u3 = u_3.flatten()\n",
        "print(u3)"
      ],
      "execution_count": null,
      "outputs": [
        {
          "output_type": "stream",
          "text": [
            "[5 5]\n"
          ],
          "name": "stdout"
        }
      ]
    },
    {
      "cell_type": "code",
      "metadata": {
        "colab": {
          "base_uri": "https://localhost:8080/",
          "height": 286
        },
        "id": "2Ds7kDM25ooz",
        "outputId": "b82d9640-0230-4a6b-e740-2322aec5d406"
      },
      "source": [
        "graficarVectores([u3], cols = ['orange'])\n",
        "plt.xlim(-1,6)\n",
        "plt.ylim(-1,6)"
      ],
      "execution_count": null,
      "outputs": [
        {
          "output_type": "execute_result",
          "data": {
            "text/plain": [
              "(-1.0, 6.0)"
            ]
          },
          "metadata": {
            "tags": []
          },
          "execution_count": 26
        },
        {
          "output_type": "display_data",
          "data": {
            "image/png": "[encoded data removed]",
            "text/plain": [
              "<Figure size 432x288 with 1 Axes>"
            ]
          },
          "metadata": {
            "tags": [],
            "needs_background": "light"
          }
        }
      ]
    },
    {
      "cell_type": "markdown",
      "metadata": {
        "id": "LmIdnnrQ6rGf"
      },
      "source": [
        "y como era de esperarse, obtuvimos el vector $\\begin{bmatrix}5 \\\\ 5\\end{bmatrix}$."
      ]
    },
    {
      "cell_type": "markdown",
      "metadata": {
        "id": "Q7dU_HBU62_2"
      },
      "source": [
        "Y, ¿Qué pasaría con un vector que mantiene su dirección, pero **cambia su sentido**?"
      ]
    },
    {
      "cell_type": "code",
      "metadata": {
        "colab": {
          "base_uri": "https://localhost:8080/",
          "height": 282
        },
        "id": "X1X6idq37xAN",
        "outputId": "71babfc0-0d36-4f20-ebc8-c7ebd6ee89ab"
      },
      "source": [
        "s = np.array([[-1],[2]])\n",
        "t = X.dot(s)\n",
        "graficarVectores([t.flatten(), s.flatten()], cols = [color_1, color_2])\n",
        "plt.grid()\n",
        "plt.xlim(-2, 2)\n",
        "plt.ylim(-2.5 ,2.5)"
      ],
      "execution_count": null,
      "outputs": [
        {
          "output_type": "execute_result",
          "data": {
            "text/plain": [
              "(-2.5, 2.5)"
            ]
          },
          "metadata": {
            "tags": []
          },
          "execution_count": 27
        },
        {
          "output_type": "display_data",
          "data": {
            "image/png": "[encoded data removed]",
            "text/plain": [
              "<Figure size 432x288 with 1 Axes>"
            ]
          },
          "metadata": {
            "tags": [],
            "needs_background": "light"
          }
        }
      ]
    },
    {
      "cell_type": "markdown",
      "metadata": {
        "id": "MTd-hxrP712y"
      },
      "source": [
        "En este caso donde tenemos un vector que **mantiene su dirección, pero cambia de sentido, también es un vector propio**.\n"
      ]
    },
    {
      "cell_type": "markdown",
      "metadata": {
        "id": "0ymCKPmf8Zg_"
      },
      "source": [
        "Así que nuestra matriz $2\\times 2$ tiene 2 autovectores con 2 autovalores asociados."
      ]
    },
    {
      "cell_type": "markdown",
      "metadata": {
        "id": "39OFGi7V8hFF"
      },
      "source": [
        "---"
      ]
    },
    {
      "cell_type": "markdown",
      "metadata": {
        "id": "s4bl41_U88qw"
      },
      "source": [
        "### ¿Cómo calcular los autovalores y autovectores?"
      ]
    },
    {
      "cell_type": "code",
      "metadata": {
        "id": "HdU0-wBv9Apn"
      },
      "source": [
        "%matplotlib inline \n",
        "import numpy as np\n",
        "import matplotlib.pyplot as plt"
      ],
      "execution_count": null,
      "outputs": []
    },
    {
      "cell_type": "code",
      "metadata": {
        "colab": {
          "base_uri": "https://localhost:8080/"
        },
        "id": "hyany8Ln-rVe",
        "outputId": "6a40ca16-78d1-418a-a012-48421e046443"
      },
      "source": [
        "X = np.array([[3,2],[4,1]])\n",
        "print(X)"
      ],
      "execution_count": null,
      "outputs": [
        {
          "output_type": "stream",
          "text": [
            "[[3 2]\n",
            " [4 1]]\n"
          ],
          "name": "stdout"
        }
      ]
    },
    {
      "cell_type": "code",
      "metadata": {
        "colab": {
          "base_uri": "https://localhost:8080/"
        },
        "id": "HSeKShJW-x6A",
        "outputId": "57cfa116-691e-4087-b2f3-0f3fe3ab2977"
      },
      "source": [
        "print(np.linalg.eig(X))"
      ],
      "execution_count": null,
      "outputs": [
        {
          "output_type": "stream",
          "text": [
            "(array([ 5., -1.]), array([[ 0.70710678, -0.4472136 ],\n",
            "       [ 0.70710678,  0.89442719]]))\n"
          ],
          "name": "stdout"
        }
      ]
    },
    {
      "cell_type": "code",
      "metadata": {
        "colab": {
          "base_uri": "https://localhost:8080/"
        },
        "id": "jWiLwe5O-2bD",
        "outputId": "44532ec1-04aa-482e-fa2f-6cb32c07f8b8"
      },
      "source": [
        "eigen_value, eigen_vectors = np.linalg.eig(X)\n",
        "print(f'ʕ•́ᴥ•̀ʔっ---> Leer los vectores como vectores columna\\nEigenValues: {eigen_value}\\nEigenVector 1:\\n {eigen_vectors[:,0]}\\nEigenVector 2:\\n {eigen_vectors[:,1]}')"
      ],
      "execution_count": null,
      "outputs": [
        {
          "output_type": "stream",
          "text": [
            "ʕ•́ᴥ•̀ʔっ---> Leer los vectores como vectores columna\n",
            "EigenValues: [ 5. -1.]\n",
            "EigenVector 1:\n",
            " [0.70710678 0.70710678]\n",
            "EigenVector 2:\n",
            " [-0.4472136   0.89442719]\n"
          ],
          "name": "stdout"
        }
      ]
    },
    {
      "cell_type": "code",
      "metadata": {
        "id": "5EA1eajI_LiW"
      },
      "source": [
        "%run \"/content/drive/MyDrive/Colab Notebooks/funciones_auxiliares.ipynb\""
      ],
      "execution_count": null,
      "outputs": []
    },
    {
      "cell_type": "code",
      "metadata": {
        "id": "LCSwxEidIZ3d"
      },
      "source": [
        "v = np.array([[-1],[2]])\n",
        "\n",
        "Xv = X.dot(v)\n",
        "\n",
        "v_np1 = eigen_vectors[:,0]\n",
        "v_np2 = eigen_vectors[:,1]"
      ],
      "execution_count": null,
      "outputs": []
    },
    {
      "cell_type": "code",
      "metadata": {
        "colab": {
          "base_uri": "https://localhost:8080/",
          "height": 282
        },
        "id": "est9E4eeIYqs",
        "outputId": "db9588ce-bcda-4554-c49e-ece372fc8135"
      },
      "source": [
        "graficarVectores([v.flatten(),Xv.flatten(), v_np1, v_np2], cols = ['black', 'purple','red', 'blue'])\n",
        "plt.grid()\n",
        "plt.xlim(-1.5, 1.5)\n",
        "plt.ylim(-2.5,2.5)"
      ],
      "execution_count": null,
      "outputs": [
        {
          "output_type": "execute_result",
          "data": {
            "text/plain": [
              "(-2.5, 2.5)"
            ]
          },
          "metadata": {
            "tags": []
          },
          "execution_count": 36
        },
        {
          "output_type": "display_data",
          "data": {
            "image/png": "[encoded data removed]",
            "text/plain": [
              "<Figure size 432x288 with 1 Axes>"
            ]
          },
          "metadata": {
            "tags": [],
            "needs_background": "light"
          }
        }
      ]
    },
    {
      "cell_type": "markdown",
      "metadata": {
        "id": "n9UDnoYmJLTc"
      },
      "source": [
        "Donde el *Negro* corresponde a nuestro vector original, el Morado al vector multiplicado por la matriz $X$, el *rojo* corresponde al primer resultado obtenido de `.linalg.eig(X)` que es un vector ortogonal al vector original,  y el *azul* corresponde al *eigenvector* correspondiente al eigenvalue `w[1]`."
      ]
    },
    {
      "cell_type": "markdown",
      "metadata": {
        "id": "J0zhuBTcNP5w"
      },
      "source": [
        "Podemos ver que podríamos encontrar diferentes valores de *eigenvectors*, pero mientras mantengan la misma dirección podemos decir que nos referimos al mismo vector, solo que estamos obteniendo distintos multiplos de el o el mismo vector con diferentes magnitudes."
      ]
    },
    {
      "cell_type": "markdown",
      "metadata": {
        "id": "WucSp1M2VEn6"
      },
      "source": [
        "---"
      ]
    },
    {
      "cell_type": "markdown",
      "metadata": {
        "id": "WBd3GPcXhhXQ"
      },
      "source": [
        "### Descomposición de matrices"
      ]
    },
    {
      "cell_type": "markdown",
      "metadata": {
        "id": "6mh4SICPhkrx"
      },
      "source": [
        "En álgebra lineal la *factorización de una matriz* es la descomposición de la misma como productos de dos o más matrices según una forma canónica.\n",
        "\n",
        "Es decir, queremos encontrar 2 o más matrices que nos ayuden a escribir la matriz original y que tengan ciertas propiedades. Como pasa al descomponer números en factores primos por ejemplo."
      ]
    },
    {
      "cell_type": "markdown",
      "metadata": {
        "id": "HEVO1ippzlod"
      },
      "source": [
        "Recordemos que lo que hicimos antes fue, teniendo una matriz $A$, calcular los autovalores y autovectores. Entonces, podemos reescribir nuestra matriz $A$ como una matriz de nuestros **autovectores** por una **matriz diagonal** con todos nuestros autovalores que encontramos y eso multiplicado por nuestra **inversa de la matriz de los autovectores**."
      ]
    },
    {
      "cell_type": "markdown",
      "metadata": {
        "id": "5XBy176R0aAY"
      },
      "source": [
        "![](https://static.platzi.com/media/user_upload/descomposicion_matrices_1-a1d5f87a-5432-4fac-b3b9-ffe61de66ac1.jpg)"
      ]
    },
    {
      "cell_type": "markdown",
      "metadata": {
        "id": "1eqvwVRe1E64"
      },
      "source": [
        "Siendo $V$ nuestra matriz de autovectores y $\\lambda$ nuestra *matriz diagonal* de autovalores, tendremos que:"
      ]
    },
    {
      "cell_type": "markdown",
      "metadata": {
        "id": "t7mvLwgm1IPq"
      },
      "source": [
        "$$ A= V \\lambda V^{-1} $$"
      ]
    },
    {
      "cell_type": "code",
      "metadata": {
        "id": "5nPFePuzx5_-"
      },
      "source": [
        "import numpy as np"
      ],
      "execution_count": null,
      "outputs": []
    },
    {
      "cell_type": "code",
      "metadata": {
        "colab": {
          "base_uri": "https://localhost:8080/"
        },
        "id": "63Yu84Xxx9jL",
        "outputId": "07f2c774-6a86-4827-c72e-ea12de97b538"
      },
      "source": [
        "A = np.array([[3,2], \n",
        "              [4,1]])\n",
        "print(A)"
      ],
      "execution_count": null,
      "outputs": [
        {
          "output_type": "stream",
          "text": [
            "[[3 2]\n",
            " [4 1]]\n"
          ],
          "name": "stdout"
        }
      ]
    },
    {
      "cell_type": "code",
      "metadata": {
        "id": "aT2W6LY50pWU"
      },
      "source": [
        "eigenval, eigenvec = np.linalg.eig(A)"
      ],
      "execution_count": null,
      "outputs": []
    },
    {
      "cell_type": "code",
      "metadata": {
        "colab": {
          "base_uri": "https://localhost:8080/"
        },
        "id": "Wt-Bz4080wMc",
        "outputId": "39c792eb-57cd-410e-e18c-942668881532"
      },
      "source": [
        "print(f'Eigen values: {eigenval}\\nEigen Vectors:\\n {eigenvec}')"
      ],
      "execution_count": null,
      "outputs": [
        {
          "output_type": "stream",
          "text": [
            "Eigen values: [ 5. -1.]\n",
            "Eigen Vectors:\n",
            " [[ 0.70710678 -0.4472136 ]\n",
            " [ 0.70710678  0.89442719]]\n"
          ],
          "name": "stdout"
        }
      ]
    },
    {
      "cell_type": "code",
      "metadata": {
        "id": "izeELp1Z07jL"
      },
      "source": [
        "V = eigenvec"
      ],
      "execution_count": null,
      "outputs": []
    },
    {
      "cell_type": "code",
      "metadata": {
        "id": "BnzomVJg1axF"
      },
      "source": [
        "lambda_ = np.diag(eigenval)"
      ],
      "execution_count": null,
      "outputs": []
    },
    {
      "cell_type": "code",
      "metadata": {
        "id": "D0uGSwXY1dEv"
      },
      "source": [
        "V_inv = np.linalg.inv(V)"
      ],
      "execution_count": null,
      "outputs": []
    },
    {
      "cell_type": "code",
      "metadata": {
        "colab": {
          "base_uri": "https://localhost:8080/"
        },
        "id": "waN7UZ8J1gxN",
        "outputId": "39ed129d-06bb-459d-9b60-f04b1c712fdb"
      },
      "source": [
        "A_decompose = (V.dot(lambda_)).dot(V_inv)\n",
        "print(A_decompose)"
      ],
      "execution_count": null,
      "outputs": [
        {
          "output_type": "stream",
          "text": [
            "[[3. 2.]\n",
            " [4. 1.]]\n"
          ],
          "name": "stdout"
        }
      ]
    },
    {
      "cell_type": "code",
      "metadata": {
        "colab": {
          "base_uri": "https://localhost:8080/"
        },
        "id": "gOpogWuD1oVt",
        "outputId": "22d53487-6bf0-4500-abb8-518e87620c99"
      },
      "source": [
        "print(A)"
      ],
      "execution_count": null,
      "outputs": [
        {
          "output_type": "stream",
          "text": [
            "[[3 2]\n",
            " [4 1]]\n"
          ],
          "name": "stdout"
        }
      ]
    },
    {
      "cell_type": "markdown",
      "metadata": {
        "id": "zgnZ3fyO19FO"
      },
      "source": [
        "Tenemos otros casos en los que podemos descomponer la matriz. Por ejemplo, en el caso de que nuestra matriz sea **real** y **simétrica** $(A = A^T)$, entonces tendremos lo siguiente:"
      ]
    },
    {
      "cell_type": "markdown",
      "metadata": {
        "id": "JrNcRzZV6nNc"
      },
      "source": [
        "$$ A= V \\lambda V^{-T} $$"
      ]
    },
    {
      "cell_type": "code",
      "metadata": {
        "colab": {
          "base_uri": "https://localhost:8080/"
        },
        "id": "IuH_wgWX3qQj",
        "outputId": "8480c066-d823-4e12-b6c6-78258ef685e9"
      },
      "source": [
        "A = np.array([[3,2],\n",
        "              [2,3]])\n",
        "print(A)"
      ],
      "execution_count": null,
      "outputs": [
        {
          "output_type": "stream",
          "text": [
            "[[3 2]\n",
            " [2 3]]\n"
          ],
          "name": "stdout"
        }
      ]
    },
    {
      "cell_type": "markdown",
      "metadata": {
        "id": "g9NQ5ynJ33Ed"
      },
      "source": [
        "Corroboremos que es simétrica:"
      ]
    },
    {
      "cell_type": "code",
      "metadata": {
        "colab": {
          "base_uri": "https://localhost:8080/"
        },
        "id": "ekoop_xr3x_P",
        "outputId": "21f45711-f8fa-413b-e1d0-7284d0a841fe"
      },
      "source": [
        "print(A == A.T)"
      ],
      "execution_count": null,
      "outputs": [
        {
          "output_type": "stream",
          "text": [
            "[[ True  True]\n",
            " [ True  True]]\n"
          ],
          "name": "stdout"
        }
      ]
    },
    {
      "cell_type": "markdown",
      "metadata": {
        "id": "SV_lkKy439ve"
      },
      "source": [
        "Calculemos los autovalores y autovectores:"
      ]
    },
    {
      "cell_type": "code",
      "metadata": {
        "id": "p4Ylyb734Clt"
      },
      "source": [
        "eigenval, eigenvec = np.linalg.eig(A)"
      ],
      "execution_count": null,
      "outputs": []
    },
    {
      "cell_type": "code",
      "metadata": {
        "colab": {
          "base_uri": "https://localhost:8080/"
        },
        "id": "kEWh4C8J4Gl3",
        "outputId": "905c9b35-e5ee-4d77-b63c-6c53950343d6"
      },
      "source": [
        "print(f'Eigen Values: {eigenval}')\n",
        "print(f'Eigen Vec:\\n {eigenvec}')"
      ],
      "execution_count": null,
      "outputs": [
        {
          "output_type": "stream",
          "text": [
            "Eigen Values: [5. 1.]\n",
            "Eigen Vec:\n",
            " [[ 0.70710678 -0.70710678]\n",
            " [ 0.70710678  0.70710678]]\n"
          ],
          "name": "stdout"
        }
      ]
    },
    {
      "cell_type": "markdown",
      "metadata": {
        "id": "yIiScHwi4N-z"
      },
      "source": [
        "Recordemos que la matriz simétrica tiene la propiedad:"
      ]
    },
    {
      "cell_type": "markdown",
      "metadata": {
        "id": "4RF4nLgW48e_"
      },
      "source": [
        "$$A = A^t $$"
      ]
    },
    {
      "cell_type": "markdown",
      "metadata": {
        "id": "ujXhY5-I5DwS"
      },
      "source": [
        "Y también, podríamos descomponer nuestra matriz de la siguiente forma:"
      ]
    },
    {
      "cell_type": "markdown",
      "metadata": {
        "id": "tsp8SJBO5G99"
      },
      "source": [
        "$$ A= V \\lambda V^{-T} $$"
      ]
    },
    {
      "cell_type": "markdown",
      "metadata": {
        "id": "xf5FO5MP5Ks6"
      },
      "source": [
        "y recordemos que calcular una transpuesta es mucho más fácil computacionalmente que calcular una inversa. Así que nuestro caso \"ideal\" sería tener una matriz *real y simétrica*.\n",
        "\n",
        "\n",
        "Vamos a corroborar la propiedad:"
      ]
    },
    {
      "cell_type": "code",
      "metadata": {
        "colab": {
          "base_uri": "https://localhost:8080/"
        },
        "id": "-CqcP5Si7Bq9",
        "outputId": "96a15d04-3f17-4020-9f37-00ff4863020c"
      },
      "source": [
        "eigen_diag = np.diag(eigenval)\n",
        "print(eigen_diag)"
      ],
      "execution_count": null,
      "outputs": [
        {
          "output_type": "stream",
          "text": [
            "[[5. 0.]\n",
            " [0. 1.]]\n"
          ],
          "name": "stdout"
        }
      ]
    },
    {
      "cell_type": "code",
      "metadata": {
        "colab": {
          "base_uri": "https://localhost:8080/"
        },
        "id": "7Gxtgcq-6jbm",
        "outputId": "21cee9f1-a1e4-409a-b2d0-2344015d6dd6"
      },
      "source": [
        "new_A = (eigenvec.dot(eigen_diag)).dot(eigenvec.T)\n",
        "print(new_A)"
      ],
      "execution_count": null,
      "outputs": [
        {
          "output_type": "stream",
          "text": [
            "[[3. 2.]\n",
            " [2. 3.]]\n"
          ],
          "name": "stdout"
        }
      ]
    },
    {
      "cell_type": "code",
      "metadata": {
        "colab": {
          "base_uri": "https://localhost:8080/"
        },
        "id": "_P7JnxB766Sb",
        "outputId": "05ee9312-28ab-45d3-9514-863ec0058819"
      },
      "source": [
        "print(A)"
      ],
      "execution_count": null,
      "outputs": [
        {
          "output_type": "stream",
          "text": [
            "[[3 2]\n",
            " [2 3]]\n"
          ],
          "name": "stdout"
        }
      ]
    },
    {
      "cell_type": "markdown",
      "metadata": {
        "id": "qrXZvYyU7ukO"
      },
      "source": [
        "resumiendo, cuando tenemos una matriz **simétrica** podemos utilizar la transpuesta de la *matriz de vectores* en lugar de la inversa."
      ]
    },
    {
      "cell_type": "markdown",
      "metadata": {
        "id": "FsOaFRGn7LMe"
      },
      "source": [
        "---"
      ]
    },
    {
      "cell_type": "markdown",
      "metadata": {
        "id": "dAq0E_PG7Mf6"
      },
      "source": [
        "### Descomponiendo una matriz no cuadrada (SVD)"
      ]
    },
    {
      "cell_type": "markdown",
      "metadata": {
        "id": "0FkZWd0k79aL"
      },
      "source": [
        "Solo podemos descomponer matrices en autovalores y autovectores como lo hemos estado haciendo, cuando tenemos una *matriz cuadrada*.\n",
        "\n",
        "Para descomponer matrices que *no sean cuadradas* tendremos que realizar una descomposición de valores singulares (SVD)."
      ]
    },
    {
      "cell_type": "markdown",
      "metadata": {
        "id": "P5CgzmUd1lxu"
      },
      "source": [
        "Hemos visto previamente que toda matriz simétrica $A \\in \\mathbb{R}e^{n\\times n}$ se puede descomponer de la forma $A = PDP^{T}$, siendo $P$ una matriz *ortogonal* ($P=P^{-1}$), $D$ una matriz *diagonal* que contiene los autovalores de $A$. Cuando $A$ no es simétrica, pero si cuadrada, si $A$ es diagonalizable existe una descomposición de $A=SDS^{-1}$, siendo $S$ *no singular* aunque no necesariamente ortogonal. "
      ]
    },
    {
      "cell_type": "markdown",
      "metadata": {
        "id": "rceMgNel2Kcv"
      },
      "source": [
        "Ahora veremos que *toda matriz* $A \\in \\mathbb{R}^{m \\times n}$ (cuadrada o no, simétrica o no) tiene una facftorización de la forma:"
      ]
    },
    {
      "cell_type": "markdown",
      "metadata": {
        "id": "QJklidgz3AmS"
      },
      "source": [
        "$$ A = UDV $$"
      ]
    },
    {
      "cell_type": "markdown",
      "metadata": {
        "id": "eeiksjqO3E7R"
      },
      "source": [
        "donde $U \\in \\mathbb{R}$ con *columnas ortogonales* y $V \\in \\mathbb{R}^{n \\times n}$ es una *matriz ortogonal* y $D$ una matriz *diagonal* ($n\\times n$). Este resultado se llama \"descomposición en valores singulares\" (DVS), y es una de las más importantes entre las descomposiciones de matrices."
      ]
    },
    {
      "cell_type": "code",
      "metadata": {
        "id": "URSHDiic38BK"
      },
      "source": [
        "import numpy as np"
      ],
      "execution_count": null,
      "outputs": []
    },
    {
      "cell_type": "code",
      "metadata": {
        "colab": {
          "base_uri": "https://localhost:8080/"
        },
        "id": "2rZ8EtLe89ec",
        "outputId": "95560c39-c9e0-4c74-8fcb-9537a0d0524a"
      },
      "source": [
        "A = np.array([[1,2,3],\n",
        "              [3,4,5]])\n",
        "print(A)"
      ],
      "execution_count": null,
      "outputs": [
        {
          "output_type": "stream",
          "text": [
            "[[1 2 3]\n",
            " [3 4 5]]\n"
          ],
          "name": "stdout"
        }
      ]
    },
    {
      "cell_type": "code",
      "metadata": {
        "id": "Nv4sdqBH9LmW"
      },
      "source": [
        "U, D, V = np.linalg.svd(A)"
      ],
      "execution_count": null,
      "outputs": []
    },
    {
      "cell_type": "code",
      "metadata": {
        "colab": {
          "base_uri": "https://localhost:8080/"
        },
        "id": "x5hvjTYv9SYF",
        "outputId": "af755044-3f2a-4822-95f5-267dc25dc358"
      },
      "source": [
        "print(f'U: {U.shape}\\n {U}\\n\\nD: {D.shape} \\n{D}\\n\\nV:{V.shape}\\n{V}')"
      ],
      "execution_count": null,
      "outputs": [
        {
          "output_type": "stream",
          "text": [
            "U: (2, 2)\n",
            " [[-0.46410668 -0.88577931]\n",
            " [-0.88577931  0.46410668]]\n",
            "\n",
            "D: (2,) \n",
            "[7.97638869 0.61418515]\n",
            "\n",
            "V:(3, 3)\n",
            "[[-0.39133557 -0.5605708  -0.72980603]\n",
            " [ 0.8247362   0.13817999 -0.54837623]\n",
            " [ 0.40824829 -0.81649658  0.40824829]]\n"
          ],
          "name": "stdout"
        }
      ]
    },
    {
      "cell_type": "markdown",
      "metadata": {
        "id": "5Cuv9Rct9ama"
      },
      "source": [
        "En el caso de $D$ recordemos que es una matriz diagonal, así que los valores que vemos sólo son los valores de la diagonal principal. Vamos a reescribirla:"
      ]
    },
    {
      "cell_type": "code",
      "metadata": {
        "colab": {
          "base_uri": "https://localhost:8080/"
        },
        "id": "K_uJW3wo96E9",
        "outputId": "9fc8cbc6-af3d-46ad-80f9-074bc091ee53"
      },
      "source": [
        "D_diag = np.diag(D)\n",
        "print(f'U: {U.shape}\\n {U}\\n\\nD: {D_diag.shape} \\n{D_diag}\\n\\nV:{V.shape}\\n{V}')"
      ],
      "execution_count": null,
      "outputs": [
        {
          "output_type": "stream",
          "text": [
            "U: (2, 2)\n",
            " [[-0.46410668 -0.88577931]\n",
            " [-0.88577931  0.46410668]]\n",
            "\n",
            "D: (2, 2) \n",
            "[[7.97638869 0.        ]\n",
            " [0.         0.61418515]]\n",
            "\n",
            "V:(3, 3)\n",
            "[[-0.39133557 -0.5605708  -0.72980603]\n",
            " [ 0.8247362   0.13817999 -0.54837623]\n",
            " [ 0.40824829 -0.81649658  0.40824829]]\n"
          ],
          "name": "stdout"
        }
      ]
    },
    {
      "cell_type": "markdown",
      "metadata": {
        "id": "D0lEgSfP9_VD"
      },
      "source": [
        "de forma que ahora tenemos 2 matrices de $2 \\times 2$ y una matriz de $3 \\times 3$. Recordemos que tenemos lo siguiente:"
      ]
    },
    {
      "cell_type": "markdown",
      "metadata": {
        "id": "VFCoF0bz-jcc"
      },
      "source": [
        "$$ A = UDV $$"
      ]
    },
    {
      "cell_type": "markdown",
      "metadata": {
        "id": "qrWMj0Cw-yqL"
      },
      "source": [
        "vamosa verificarlo. Para evitar errores de compatibilidad de las dimensiones tendremos que realizar unos cuantos pasos extra:"
      ]
    },
    {
      "cell_type": "markdown",
      "metadata": {
        "id": "jVzjkWfB_8zd"
      },
      "source": [
        "Vamos a crear una columna de 0's para concatenarla con nuestra matriz diagonal $D$ y así poder hacer después nuestra operación para obtener nuevamente a $A$."
      ]
    },
    {
      "cell_type": "code",
      "metadata": {
        "colab": {
          "base_uri": "https://localhost:8080/"
        },
        "id": "Fk8u3luk-0sf",
        "outputId": "924dd0f1-02e1-4aa1-d87b-21f61b532280"
      },
      "source": [
        "column_zeros = np.zeros((2,1))\n",
        "print(column_zeros)"
      ],
      "execution_count": null,
      "outputs": [
        {
          "output_type": "stream",
          "text": [
            "[[0.]\n",
            " [0.]]\n"
          ],
          "name": "stdout"
        }
      ]
    },
    {
      "cell_type": "code",
      "metadata": {
        "colab": {
          "base_uri": "https://localhost:8080/"
        },
        "id": "Mfk8U5jy-4Z9",
        "outputId": "b793f138-3ac1-419d-fbbe-e9298750a6e5"
      },
      "source": [
        "new_D_diagonal = np.concatenate((D_diag, column_zeros), axis = 1)\n",
        "print(new_D_diagonal)"
      ],
      "execution_count": null,
      "outputs": [
        {
          "output_type": "stream",
          "text": [
            "[[7.97638869 0.         0.        ]\n",
            " [0.         0.61418515 0.        ]]\n"
          ],
          "name": "stdout"
        }
      ]
    },
    {
      "cell_type": "markdown",
      "metadata": {
        "id": "4yt0FrRAAN3c"
      },
      "source": [
        "Ahora sí, vamos a ver que realmente obtenemos nuevamente a nuestra matriz $A$:"
      ]
    },
    {
      "cell_type": "code",
      "metadata": {
        "colab": {
          "base_uri": "https://localhost:8080/"
        },
        "id": "WnkjZ_HSAaXQ",
        "outputId": "f58969d8-52ef-4f34-95bc-14fb24be1e6d"
      },
      "source": [
        "new_A = U.dot(new_D_diagonal).dot(V)\n",
        "print(new_A)"
      ],
      "execution_count": null,
      "outputs": [
        {
          "output_type": "stream",
          "text": [
            "[[1. 2. 3.]\n",
            " [3. 4. 5.]]\n"
          ],
          "name": "stdout"
        }
      ]
    },
    {
      "cell_type": "code",
      "metadata": {
        "colab": {
          "base_uri": "https://localhost:8080/"
        },
        "id": "Z4FBYelEAfgb",
        "outputId": "810c22f3-4cc6-46bd-a46d-fbf1a866204c"
      },
      "source": [
        "print(A)"
      ],
      "execution_count": null,
      "outputs": [
        {
          "output_type": "stream",
          "text": [
            "[[1 2 3]\n",
            " [3 4 5]]\n"
          ],
          "name": "stdout"
        }
      ]
    },
    {
      "cell_type": "markdown",
      "metadata": {
        "id": "_Qwb-ZX0Anc7"
      },
      "source": [
        "Podemos pensar en los vectores y matrices como sub-transformaciones del espacio. Por ejemplo, tomar un \"pedazo\" de información que tenemos en $\\mathbb{R^3}$ y \"compactarlo\" dentro de $\\mathbb{R^2}$."
      ]
    },
    {
      "cell_type": "code",
      "metadata": {
        "id": "vaGNeiuXBior"
      },
      "source": [
        "# Función para verificar que podemos realizar la operación\n",
        "# si no, agregar 0's donde corresponda\n",
        "def SVD(A):\n",
        "    U,D,V = np.linalg.svd(A)\n",
        "    D = np.diag(D)\n",
        "    \n",
        "    if D.shape[1] != V.shape[0]:\n",
        "        n_columns = np.abs(D.shape[0]-V.shape[0])\n",
        "        extend = np.zeros(( D.shape[0] , n_colums ))\n",
        "        D = np.append(D, extend, axis=1)\n",
        "    \n",
        "    return U,D,V"
      ],
      "execution_count": null,
      "outputs": []
    },
    {
      "cell_type": "markdown",
      "metadata": {
        "id": "H0fWrnuZA86C"
      },
      "source": [
        "---"
      ]
    },
    {
      "cell_type": "markdown",
      "metadata": {
        "id": "nvdcHFgiCxdd"
      },
      "source": [
        "### Las tres transformaciones"
      ]
    },
    {
      "cell_type": "markdown",
      "metadata": {
        "id": "muLOIEBsC3z4"
      },
      "source": [
        "Recordemos que podemos pensar en a las matrices como transformaciones lineales, entonces si tenemos una matriz $A$ y la podemos descomponer en 3 matrices (como vimos anteriormente) significa que también podemos pensar en cada una de esas matrices como transformaciones lineales.\n",
        "\n",
        "Veamos los efectos de cada una de estas transformaciones en el *círculo unitario*, el cuál nos permitirá visualizar más fácilmente sus efectos."
      ]
    },
    {
      "cell_type": "code",
      "metadata": {
        "id": "iMXRSzquXJZf"
      },
      "source": [
        "%matplotlib inline\n",
        "import numpy as np\n",
        "import matplotlib.pyplot as plt"
      ],
      "execution_count": null,
      "outputs": []
    },
    {
      "cell_type": "markdown",
      "metadata": {
        "id": "qKsogROwXX8m"
      },
      "source": [
        "Vamos a graficar nuestro círculo unitario. Para ello vamos a crear una función que después agregaremos a nuestra carpeta de funciones auxiliares."
      ]
    },
    {
      "cell_type": "code",
      "metadata": {
        "colab": {
          "base_uri": "https://localhost:8080/"
        },
        "id": "IW0f5W7DbFOK",
        "outputId": "64ea31af-7ced-4b3f-ed77-a87b40bfe63a"
      },
      "source": [
        "from google.colab import drive\n",
        "drive.mount('/content/drive')\n",
        "# Hacemos el llamado al otro archivo que creamos\n",
        "%run \"/content/drive/MyDrive/Colab Notebooks/funciones_auxiliares.ipynb\""
      ],
      "execution_count": null,
      "outputs": [
        {
          "output_type": "stream",
          "text": [
            "Drive already mounted at /content/drive; to attempt to forcibly remount, call drive.mount(\"/content/drive\", force_remount=True).\n"
          ],
          "name": "stdout"
        }
      ]
    },
    {
      "cell_type": "code",
      "metadata": {
        "id": "Y6-JNfgtXcIl"
      },
      "source": [
        "# Vamos a definir la función\n",
        "def graficarMatriz(matriz, VectorCol = ['red','blue']):\n",
        "\n",
        "    # Definiendo el círculo unitario\n",
        "    x = np.linspace(-1, 1, 1000000)\n",
        "    y = np.sqrt(1 - (x**2)) # Ecuación de nuestro círculo\n",
        "\n",
        "    # Círculo después de aplicar la matriz\n",
        "    # Parte Positiva\n",
        "    x1 = matriz[0,0]*x + matriz[0,1]*y\n",
        "    y1 = matriz[1,0]*x + matriz[1,1]*y\n",
        "\n",
        "    # Parte Negativa\n",
        "    x1_neg = matriz[0,0]*x - matriz[0,1]*y\n",
        "    y1_neg = matriz[1,0]*x - matriz[1,1]*y\n",
        "\n",
        "    # Vectores base\n",
        "    u1 = [matriz[0,0], matriz[1,0]]\n",
        "    u2 = [matriz[0,1], matriz[1,1]]\n",
        "\n",
        "    # Grafica\n",
        "    graficarVectores([u1, u2], cols=[VectorCol[0], VectorCol[1]])\n",
        "    plt.plot(x1, y1, 'purple', alpha = 0.7)\n",
        "    plt.plot(x1_neg, y1_neg, 'purple', alpha = 0.7)"
      ],
      "execution_count": null,
      "outputs": []
    },
    {
      "cell_type": "code",
      "metadata": {
        "colab": {
          "base_uri": "https://localhost:8080/"
        },
        "id": "WVUXt_j2dW19",
        "outputId": "877b2ca5-70b5-42be-d7e1-c6b44f8c26a1"
      },
      "source": [
        "from google.colab import drive\n",
        "drive.mount('/content/drive')\n",
        "# Hacemos el llamado al otro archivo que creamos\n",
        "%run \"/content/drive/MyDrive/Colab Notebooks/funciones_auxiliares.ipynb\""
      ],
      "execution_count": null,
      "outputs": [
        {
          "output_type": "stream",
          "text": [
            "Drive already mounted at /content/drive; to attempt to forcibly remount, call drive.mount(\"/content/drive\", force_remount=True).\n"
          ],
          "name": "stdout"
        }
      ]
    },
    {
      "cell_type": "code",
      "metadata": {
        "colab": {
          "base_uri": "https://localhost:8080/",
          "height": 281
        },
        "id": "auPYxbb1bPfh",
        "outputId": "469b3a9f-45ec-475b-e5b6-6350048c354c"
      },
      "source": [
        "A = np.array([[3,7],\n",
        "              [5,2]])\n",
        "\n",
        "# Grafiquemos los vectores base\n",
        "graficarMatriz(np.eye(2))\n",
        "plt.title('Círculo Unitario Normal')\n",
        "plt.xlim(-1.5,1.5)\n",
        "plt.ylim(-1.5,1.5)\n",
        "plt.show()"
      ],
      "execution_count": null,
      "outputs": [
        {
          "output_type": "display_data",
          "data": {
            "image/png": "[encoded data removed]",
            "text/plain": [
              "<Figure size 432x288 with 1 Axes>"
            ]
          },
          "metadata": {
            "tags": [],
            "needs_background": "light"
          }
        }
      ]
    },
    {
      "cell_type": "code",
      "metadata": {
        "colab": {
          "base_uri": "https://localhost:8080/",
          "height": 281
        },
        "id": "xV9cg61Hb0MH",
        "outputId": "c2847fa9-e42a-4f90-cea6-1305dc52adfd"
      },
      "source": [
        "# Círculo transformado al pasarle la matriz A\n",
        "graficarMatriz(A)\n",
        "plt.title('Círculo Unitario Transformado por A')\n",
        "plt.xlim(-8,8)\n",
        "plt.ylim(-8,8)\n",
        "plt.show()"
      ],
      "execution_count": null,
      "outputs": [
        {
          "output_type": "display_data",
          "data": {
            "image/png": "[encoded data removed]",
            "text/plain": [
              "<Figure size 432x288 with 1 Axes>"
            ]
          },
          "metadata": {
            "tags": [],
            "needs_background": "light"
          }
        }
      ]
    },
    {
      "cell_type": "markdown",
      "metadata": {
        "id": "qg41KQYSdBka"
      },
      "source": [
        "---"
      ]
    },
    {
      "cell_type": "markdown",
      "metadata": {
        "id": "P2pMYrm_dZ6Z"
      },
      "source": [
        "#### Aplicación de las matrices $D$, $V$ ,$U$ y su efecto en la transformación"
      ]
    },
    {
      "cell_type": "markdown",
      "metadata": {
        "id": "To7jKpwBda9F"
      },
      "source": [
        "Recordando nuestra descomposición $SVD$ nos devolvió 3 matrices que representaban a nuestra matriz original. Vamos a ver el efecto de cada una de ellas en la transformación del espacio."
      ]
    },
    {
      "cell_type": "code",
      "metadata": {
        "id": "AkXxbNIGdwgH"
      },
      "source": [
        "A = np.array([[3,7],\n",
        "              [5,2]])\n",
        "\n",
        "U, D, V = np.linalg.svd(A)"
      ],
      "execution_count": 54,
      "outputs": []
    },
    {
      "cell_type": "code",
      "metadata": {
        "id": "Fb3zdAMRfIwt"
      },
      "source": [
        "D = np.diag(D)"
      ],
      "execution_count": 56,
      "outputs": []
    },
    {
      "cell_type": "code",
      "metadata": {
        "colab": {
          "base_uri": "https://localhost:8080/"
        },
        "id": "oAtWKL2Re1w-",
        "outputId": "fdf2a8e7-418c-4c78-f55e-1b295f91d794"
      },
      "source": [
        "print(f'U:\\n{U}\\n')\n",
        "print(f'D:\\n{D}\\n')\n",
        "print(f'V:\\n{V}')"
      ],
      "execution_count": 102,
      "outputs": [
        {
          "output_type": "stream",
          "text": [
            "U:\n",
            "[[-0.85065081 -0.52573111]\n",
            " [-0.52573111  0.85065081]]\n",
            "\n",
            "D:\n",
            "[8.71337969 3.32821489]\n",
            "\n",
            "V:\n",
            "[[-0.59455781 -0.80405286]\n",
            " [ 0.80405286 -0.59455781]]\n"
          ],
          "name": "stdout"
        }
      ]
    },
    {
      "cell_type": "markdown",
      "metadata": {
        "id": "xihywt_hd8g4"
      },
      "source": [
        "Iniciamos con nuestro círculo unitario que estará representando nuestro espacio con fines de visualizarlo más claramente."
      ]
    },
    {
      "cell_type": "code",
      "metadata": {
        "id": "24tQQSIWeDGv"
      },
      "source": [
        "%run \"/content/drive/MyDrive/Colab Notebooks/funciones_auxiliares.ipynb\""
      ],
      "execution_count": 79,
      "outputs": []
    },
    {
      "cell_type": "code",
      "metadata": {
        "colab": {
          "base_uri": "https://localhost:8080/",
          "height": 281
        },
        "id": "o5f9JmPReGbw",
        "outputId": "ca21c988-c76e-405d-8191-92c6abeb45f1"
      },
      "source": [
        "# Grafiquemos los vectores base\n",
        "graficarMatriz(np.eye(2))\n",
        "plt.title('Círculo Unitario Normal')\n",
        "plt.xlim(-1.5,1.5)\n",
        "plt.ylim(-1.5,1.5)\n",
        "plt.show()"
      ],
      "execution_count": 88,
      "outputs": [
        {
          "output_type": "display_data",
          "data": {
            "image/png": "[encoded data removed]",
            "text/plain": [
              "<Figure size 432x288 with 1 Axes>"
            ]
          },
          "metadata": {
            "tags": [],
            "needs_background": "light"
          }
        }
      ]
    },
    {
      "cell_type": "markdown",
      "metadata": {
        "id": "Jr3sojyUeIbH"
      },
      "source": [
        "Vamos a aplicar la primer transformación $V$:"
      ]
    },
    {
      "cell_type": "code",
      "metadata": {
        "colab": {
          "base_uri": "https://localhost:8080/",
          "height": 281
        },
        "id": "_jtn7YrAe0wl",
        "outputId": "67c51488-e498-4c71-895d-d2b5f31dd7fd"
      },
      "source": [
        "graficarMatriz(V)\n",
        "plt.title('V: Rotación del espacio')\n",
        "plt.xlim(-1.5,1.5)\n",
        "plt.ylim(-1.5,1.5)\n",
        "plt.show()"
      ],
      "execution_count": 89,
      "outputs": [
        {
          "output_type": "display_data",
          "data": {
            "image/png": "[encoded data removed]",
            "text/plain": [
              "<Figure size 432x288 with 1 Axes>"
            ]
          },
          "metadata": {
            "tags": [],
            "needs_background": "light"
          }
        }
      ]
    },
    {
      "cell_type": "markdown",
      "metadata": {
        "id": "IrxC1MknfRDT"
      },
      "source": [
        "La matriz $V$ *rota el espacio*."
      ]
    },
    {
      "cell_type": "markdown",
      "metadata": {
        "id": "bNplNXz5f3rc"
      },
      "source": [
        "Ahora veamos que hace la diagonal $D$:"
      ]
    },
    {
      "cell_type": "code",
      "metadata": {
        "colab": {
          "base_uri": "https://localhost:8080/",
          "height": 281
        },
        "id": "1NstofWNgDlq",
        "outputId": "d4d84066-04ef-4f96-a602-97eaaa443b2e"
      },
      "source": [
        "graficarMatriz(D.dot(V))\n",
        "plt.title('D: Escala el espacio')\n",
        "plt.xlim(-10,10)\n",
        "plt.ylim(-6, 6)\n",
        "plt.show()"
      ],
      "execution_count": 90,
      "outputs": [
        {
          "output_type": "display_data",
          "data": {
            "image/png": "[encoded data removed]",
            "text/plain": [
              "<Figure size 432x288 with 1 Axes>"
            ]
          },
          "metadata": {
            "tags": [],
            "needs_background": "light"
          }
        }
      ]
    },
    {
      "cell_type": "markdown",
      "metadata": {
        "id": "KBwawpLTgKQZ"
      },
      "source": [
        "$D$ amplifica o reduce nuestro espacio."
      ]
    },
    {
      "cell_type": "markdown",
      "metadata": {
        "id": "dOaQ-7fSghsD"
      },
      "source": [
        "Finalmente, observemos el efecto de $U$:"
      ]
    },
    {
      "cell_type": "code",
      "metadata": {
        "colab": {
          "base_uri": "https://localhost:8080/",
          "height": 281
        },
        "id": "PixVDqrqglig",
        "outputId": "8110966f-50c3-4f8b-91a2-dc67f14baf2d"
      },
      "source": [
        "graficarMatriz( U.dot(D.dot(V)) )\n",
        "plt.title('U: Rota de nuevo el espacio')\n",
        "plt.xlim(-10,10)\n",
        "plt.ylim(-6, 6)\n",
        "plt.show()"
      ],
      "execution_count": 91,
      "outputs": [
        {
          "output_type": "display_data",
          "data": {
            "image/png": "[encoded data removed]",
            "text/plain": [
              "<Figure size 432x288 with 1 Axes>"
            ]
          },
          "metadata": {
            "tags": [],
            "needs_background": "light"
          }
        }
      ]
    },
    {
      "cell_type": "markdown",
      "metadata": {
        "id": "WGfNzQ3vgnxe"
      },
      "source": [
        "$U$ rota de nuevo el espacio."
      ]
    },
    {
      "cell_type": "markdown",
      "metadata": {
        "id": "2s_ipnDSgxdQ"
      },
      "source": [
        "Ahora vamos a comparar el resultado con la transformación que realizaría únicamente la matriz $A$:"
      ]
    },
    {
      "cell_type": "code",
      "metadata": {
        "colab": {
          "base_uri": "https://localhost:8080/",
          "height": 281
        },
        "id": "gYjknzpShmur",
        "outputId": "04e423dd-be85-4353-a77f-96ab4a105266"
      },
      "source": [
        "graficarMatriz(A)\n",
        "plt.title('A: Matriz Original')\n",
        "plt.xlim(-10,10)\n",
        "plt.ylim(-6, 6)\n",
        "plt.show()"
      ],
      "execution_count": 92,
      "outputs": [
        {
          "output_type": "display_data",
          "data": {
            "image/png": "[encoded data removed]",
            "text/plain": [
              "<Figure size 432x288 with 1 Axes>"
            ]
          },
          "metadata": {
            "tags": [],
            "needs_background": "light"
          }
        }
      ]
    },
    {
      "cell_type": "markdown",
      "metadata": {
        "id": "C3ZEmJJohyp9"
      },
      "source": [
        "vemos que obtenemos el mismo efecto al aplicar nuestra matriz $A$ o al aplicar la transformación dada sus valores singulares $UDV$ que obtenemos de descomponer por $SVD$."
      ]
    },
    {
      "cell_type": "markdown",
      "metadata": {
        "id": "vOkzeb5Oi3cY"
      },
      "source": [
        "En el caso de descomponer por *valores singulares* tendríamos un efecto similar, donde:\n",
        "\n",
        "* Los **autovectores** rotan el espacio.\n",
        "* La matriz diagonal de **autovalores** escala el espacio.\n",
        "* La matriz inversa de los **autovectores** rota el espacio de nuevo."
      ]
    },
    {
      "cell_type": "markdown",
      "metadata": {
        "id": "eifEw4CUh5zg"
      },
      "source": [
        "---"
      ]
    },
    {
      "cell_type": "markdown",
      "metadata": {
        "id": "QJRB4GCyiKJJ"
      },
      "source": [
        "### ¿Cómo interpretar los valores singulares?"
      ]
    },
    {
      "cell_type": "markdown",
      "metadata": {
        "id": "YR6dCrSZiNnK"
      },
      "source": [
        "De la decomposición $SVD$ obtenemos las matrices $UDV$, donde $D$ es una *matriz diagonal* compuesta por los **valores singulares**. Veamos el efecto de los valores singulares en nuestra transformación total:"
      ]
    },
    {
      "cell_type": "code",
      "metadata": {
        "id": "IxXRIoVbioDC"
      },
      "source": [
        "%matplotlib inline\n",
        "import numpy as np\n",
        "import matplotlib.pyplot as plt"
      ],
      "execution_count": 93,
      "outputs": []
    },
    {
      "cell_type": "code",
      "metadata": {
        "id": "i7-zPi6ajwAX"
      },
      "source": [
        "%run \"/content/drive/MyDrive/Colab Notebooks/funciones_auxiliares.ipynb\""
      ],
      "execution_count": 94,
      "outputs": []
    },
    {
      "cell_type": "code",
      "metadata": {
        "colab": {
          "base_uri": "https://localhost:8080/"
        },
        "id": "cfp30Z3fjzpS",
        "outputId": "7c5a1340-0fb3-40a7-9318-e9ce83f1c266"
      },
      "source": [
        "A = np.array([[3,7],\n",
        "              [5,2]])\n",
        "print(A)"
      ],
      "execution_count": 96,
      "outputs": [
        {
          "output_type": "stream",
          "text": [
            "[[3 7]\n",
            " [5 2]]\n"
          ],
          "name": "stdout"
        }
      ]
    },
    {
      "cell_type": "code",
      "metadata": {
        "id": "vldCqv_akGOC"
      },
      "source": [
        "# Descomponemos la matriz\n",
        "U, D, V = np.linalg.svd(A)"
      ],
      "execution_count": 97,
      "outputs": []
    },
    {
      "cell_type": "code",
      "metadata": {
        "colab": {
          "base_uri": "https://localhost:8080/"
        },
        "id": "ErcKXQP9kiFY",
        "outputId": "f6586805-20c1-4e66-b1b8-ef01c2f4b55d"
      },
      "source": [
        "print(f'U:\\n{U}\\n')\n",
        "print(f'D:\\n{D}\\n')\n",
        "print(f'V:\\n{V}')"
      ],
      "execution_count": 101,
      "outputs": [
        {
          "output_type": "stream",
          "text": [
            "U:\n",
            "[[-0.85065081 -0.52573111]\n",
            " [-0.52573111  0.85065081]]\n",
            "\n",
            "D:\n",
            "[8.71337969 3.32821489]\n",
            "\n",
            "V:\n",
            "[[-0.59455781 -0.80405286]\n",
            " [ 0.80405286 -0.59455781]]\n"
          ],
          "name": "stdout"
        }
      ]
    },
    {
      "cell_type": "markdown",
      "metadata": {
        "id": "vJ5TpHdJkMWB"
      },
      "source": [
        "Vamos a ver que nos devuelve en los valores de la diagonal:"
      ]
    },
    {
      "cell_type": "code",
      "metadata": {
        "colab": {
          "base_uri": "https://localhost:8080/"
        },
        "id": "N-YL6VSYkQqW",
        "outputId": "01b8506c-4d3e-4d49-9097-d50615643d86"
      },
      "source": [
        "print(D[0])\n",
        "print(D[1])"
      ],
      "execution_count": 99,
      "outputs": [
        {
          "output_type": "stream",
          "text": [
            "8.7133796929634\n",
            "3.3282148858288965\n"
          ],
          "name": "stdout"
        }
      ]
    },
    {
      "cell_type": "markdown",
      "metadata": {
        "id": "NCatGKZnky7A"
      },
      "source": [
        "Recordemos que $D$ escala (amplia o reduce) la transformación. Así que nos interesa ver como cambia $D$ A $U$. Así que realizaremos un producto interno."
      ]
    },
    {
      "cell_type": "code",
      "metadata": {
        "colab": {
          "base_uri": "https://localhost:8080/"
        },
        "id": "5oEYugCPkVuO",
        "outputId": "e7a46550-2eeb-4ad2-c669-fb684c802aba"
      },
      "source": [
        "# Definamos vectores que contengan los valores de nuestra diagonal\n",
        "u1 = [D[0] * U[0,0], D[0] * U[0,1]]\n",
        "v1 = [D[1] * U[1,0], D[1] * U[1,1]]\n",
        "print(u1)\n",
        "print(v1)"
      ],
      "execution_count": 112,
      "outputs": [
        {
          "output_type": "stream",
          "text": [
            "[-7.4120434792975685, -4.580894796297923]\n",
            "[-1.7497461132982814, 2.8311486829996433]\n"
          ],
          "name": "stdout"
        }
      ]
    },
    {
      "cell_type": "markdown",
      "metadata": {
        "id": "ORCF9z71lcJq"
      },
      "source": [
        "Que al final no es más que un producto interno que escribimos de forma separada:"
      ]
    },
    {
      "cell_type": "code",
      "metadata": {
        "colab": {
          "base_uri": "https://localhost:8080/"
        },
        "id": "8ukgVx2Zk_EE",
        "outputId": "59a3e0e9-bc10-4071-c022-9e74f8cdbe25"
      },
      "source": [
        "# Escrito de otra forma\n",
        "u1_v1 = (np.diag(D).dot(U))\n",
        "print(u1_v1)"
      ],
      "execution_count": 113,
      "outputs": [
        {
          "output_type": "stream",
          "text": [
            "[[-7.41204348 -4.5808948 ]\n",
            " [-1.74974611  2.83114868]]\n"
          ],
          "name": "stdout"
        }
      ]
    },
    {
      "cell_type": "code",
      "metadata": {
        "id": "mWPYtdailG91"
      },
      "source": [
        ""
      ],
      "execution_count": null,
      "outputs": []
    }
  ]
}