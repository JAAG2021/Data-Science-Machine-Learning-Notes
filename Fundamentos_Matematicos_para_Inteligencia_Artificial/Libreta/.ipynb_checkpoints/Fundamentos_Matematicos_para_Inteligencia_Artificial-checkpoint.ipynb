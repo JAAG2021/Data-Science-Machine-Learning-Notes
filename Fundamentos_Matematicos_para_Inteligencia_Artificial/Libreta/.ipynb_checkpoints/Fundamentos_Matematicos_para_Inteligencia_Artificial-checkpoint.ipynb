{
 "cells": [
  {
   "cell_type": "markdown",
   "metadata": {
    "toc": true
   },
   "source": [
    "<h1>Table of Contents<span class=\"tocSkip\"></span></h1>\n",
    "<div class=\"toc\"><ul class=\"toc-item\"><li><span><a href=\"#Fundamentos-Matemáticos-para-Inteligencia-Artificial\" data-toc-modified-id=\"Fundamentos-Matemáticos-para-Inteligencia-Artificial-0\">Fundamentos Matemáticos para Inteligencia Artificial</a></span><ul class=\"toc-item\"><li><span><a href=\"#Introducción\" data-toc-modified-id=\"Introducción-0.1\">Introducción</a></span><ul class=\"toc-item\"><li><span><a href=\"#Aprendizaje-estadístico\" data-toc-modified-id=\"Aprendizaje-estadístico-0.1.1\">Aprendizaje estadístico</a></span><ul class=\"toc-item\"><li><span><a href=\"#Marco-general-del-aprendizaje-bayesiano\" data-toc-modified-id=\"Marco-general-del-aprendizaje-bayesiano-0.1.1.1\">Marco general del aprendizaje bayesiano</a></span></li></ul></li><li><span><a href=\"#Aprendizaje-Supervisado\" data-toc-modified-id=\"Aprendizaje-Supervisado-0.1.2\">Aprendizaje Supervisado</a></span><ul class=\"toc-item\"><li><span><a href=\"#Minimización-del-riesgo-empírico\" data-toc-modified-id=\"Minimización-del-riesgo-empírico-0.1.2.1\">Minimización del riesgo empírico</a></span></li></ul></li></ul></li></ul></li></ul></div>"
   ]
  },
  {
   "cell_type": "markdown",
   "metadata": {},
   "source": [
    "# Fundamentos Matemáticos para Inteligencia Artificial"
   ]
  },
  {
   "cell_type": "markdown",
   "metadata": {},
   "source": [
    "## Introducción"
   ]
  },
  {
   "cell_type": "markdown",
   "metadata": {},
   "source": [
    "Vamos a definir la inteligencia artificial de la siguiente manera:\n",
    "\n",
    "> Desarrollo de métodos y algoritmos que permitan a las computadores comportarse de modo inteligente\n",
    "\n",
    "o con una definición que personalmente me gusta más:\n",
    "\n",
    "> El campo de la inteligencia artificial se encarga de hacer a las computadoras \"inteligentes\" refiriendonos a que queremos replicar las funciones cognitivas del ser humano para imitar su aprendizaje y lo que llamamos \"comportamiento inteligente \"."
   ]
  },
  {
   "cell_type": "markdown",
   "metadata": {},
   "source": [
    "En este caso nos vamos a enfocar en las siguientes ramas de la inteligencia artificial:"
   ]
  },
  {
   "attachments": {},
   "cell_type": "markdown",
   "metadata": {},
   "source": [
    "![](https://i.imgur.com/0Q14hsq.png)"
   ]
  },
  {
   "cell_type": "markdown",
   "metadata": {},
   "source": [
    "Vamos a hablar un poco sobre cada una de ellas:"
   ]
  },
  {
   "cell_type": "markdown",
   "metadata": {},
   "source": [
    "### Aprendizaje estadístico"
   ]
  },
  {
   "cell_type": "markdown",
   "metadata": {},
   "source": [
    "Los algoritmos basados en este tipo de aprendizaje suelen aprender, esencialmente, calculando probabilidades condicionadas:\n",
    "\n",
    "   * Partimos de un conjunto de datos $D$ que representa una serie de *evidencias* observadas (instancias concretas de algunas o todas las *v.a.*).\n",
    "\n",
    "   * La hipótesis $H$ son modelos probabilísticos de cómo funciona le dominio (por ejemplo, distintas distribuciones de probabilidad).\n",
    "\n",
    "* Por ejemplo, se buscan hipótesis que maximizan $P(h|D)$ para $h$ $\\in$ $H$\n",
    "\n",
    "Por tanto, será esencial el uso del *Teorema de Bayes*. De hecho, a partir de esto también le podemos llamar a este tipo de aprendizaje como **aprendizaje bayesiano**.\n",
    "\n",
    "No necesariamente elimina una hipótesis que sea inconsistente con $D$, sino que *busca la hipótesis más probable*, dadas las observaciones de $D$.\n",
    "\n",
    "Además, incorpora el conocimiento a priori del que se dispone (para actualizar las \"creencias\")."
   ]
  },
  {
   "cell_type": "markdown",
   "metadata": {},
   "source": [
    "#### Marco general del aprendizaje bayesiano"
   ]
  },
  {
   "cell_type": "markdown",
   "metadata": {},
   "source": [
    "* Sea $H$ un conjunto de hipótesis, $D$ una *v.a.* que representa los datos y $d$ el valor observado para esos datos.\n",
    "\n",
    "* El aprendizaje bayesiano o estadístico simplemente calcula la probabilidad de cada hipótesis de $H$ (dado los datos) y predice valores desconocidos a partir de ese cálculo.\n",
    "\n",
    "    * Es decir, si $X$ es una *v.a.* **con valor no conocido**, su probabilidad se calcula (suponiendo que cada hipótesis determina completamente la distribución de probabilidad de $X$ ($h\\in H$)).\n",
    "    \n",
    "    `Probabilidad de X dada la observación en los datos d`\n",
    "    \n",
    "    $$P(X|d)=\\sum_{h\\in H}{P(X|d, h_i)P(h_i|d)}=\\sum_{h\\in H}{P(X|h_i)P(h_i|d)}$$\n",
    "    \n",
    "    \n",
    "    \n",
    "   * Donde, por el teorema de Bayes:\n",
    "   \n",
    "   $$P(h|d)=\\alpha P(d|h)P(h)$$"
   ]
  },
  {
   "cell_type": "markdown",
   "metadata": {},
   "source": [
    "Así que en este marco general, la información de entrada es:\n",
    "\n",
    "* Los datos observados, $d$\n",
    "* Las probabilidades a **priori** de las hipótesis, $P(h)$\n",
    "* Le verosimilitud (credibilidad) de los datos bajo la hipótesis, $P(d|h)$\n",
    "\n",
    "Dada una v.a. $X$ sobre la que se consulta, la información aprendida será la distribución de probabilidad $P(X|d)$, que servirá de base para predecir el valor de $X$."
   ]
  },
  {
   "cell_type": "markdown",
   "metadata": {},
   "source": [
    "El principio de la navaja de Ockham tiene cabida en este marco general del aprendizaje bayesiano:\n",
    "> En igualdad de condiciones, la explicación más sencilla suele ser la más probable -  Guillermo de Ockham\n",
    "\n",
    "   * Simplemente, las probabilidades a priori de las hipótesis más complejas serían menores .\n",
    "   "
   ]
  },
  {
   "cell_type": "markdown",
   "metadata": {},
   "source": [
    "Una aplicación de este tipo de aprendizaje sería en la creación de chatbots:"
   ]
  },
  {
   "cell_type": "markdown",
   "metadata": {},
   "source": [
    "![](https://i.imgur.com/WRhM8Su.png)\n",
    "\n",
    "Referencias:\n",
    "[Aprendizaje estadístico](https://www.cs.us.es/cursos/ia2-2009/temas/tema-04.pdf)"
   ]
  },
  {
   "cell_type": "markdown",
   "metadata": {},
   "source": [
    "### Aprendizaje Supervisado"
   ]
  },
  {
   "cell_type": "markdown",
   "metadata": {},
   "source": [
    "Es una técnica para deducir una función a partir de datos de entranmiento. Estos datos de entrenamiento consisten en pared de objetos (en su mayoría vectores). \n",
    "\n",
    "* Una componente del par son los datos de entrada.\n",
    "* La otra componente son los resultados deseados.\n",
    "* La salida de la función puede ser un valor numérico o una etiqueta de clase.\n",
    "\n",
    "El objetivo del aprendizaje supervisado es crear una función capaz de predecir el valor correspondiente a cualquier objeto de entrada válida después de haber visto una serie de ejemplos (datos de entrenamiento). Para ello, tiene que **generalizar** a partir de los datos presentados a las situaciones no vistas previamente (nuevos inputs)."
   ]
  },
  {
   "cell_type": "markdown",
   "metadata": {},
   "source": [
    "Se dice que es \"supervisado\" ya que necesitamos que nuestro dataset este previamente **etiquetado y clasificado**, es decir, ya sabemos a que grupos o categorías pertenecen nuestros datos de entrenamiento. Y esto lo realizamos en un proceso previo al modelo de aprendizaje."
   ]
  },
  {
   "cell_type": "markdown",
   "metadata": {},
   "source": [
    "Para realizar un algoritmo de este estilo tenemos tomar en consideración una serie de pasos importantes:\n",
    "\n",
    "1. **Determinar el tipo de ejemplos de entrenamiento (etiquetar).**\n",
    "\n",
    "2. **Reunir un conjunto de entrenamiento.**\n",
    "\n",
    "3. **Determinar la función de ingreso de la representación de la función aprendida:** La precisión de la función que tratamos de modelar o hacer que aprenda está fuertemente ligada al cómo está siendo representado el objeto de entrada. Normalmente transformamos esta entrada en un feature vector o vector de característica (elegimos aquellas que consideramos relevantes), pero teniendo cuidado de que el número de características no sea muy grande ya que podríamos tener un [efecto Hughes](https://es.wikipedia.org/wiki/Maldici%C3%B3n_de_la_dimensi%C3%B3n). Es decir, debe de contener la suficiente cantidad de características para poder predecir con precisión la salida, pero no tantas como para aumentar demasiado la dimensionalidad, el volumen del espacio y por lo tanto dejando más dispersos nuestros datos.\n",
    "\n",
    "4. Determinar la estructura de la función adecuada para resolver el problema y la técnica de aprendizaje correspondiente.\n",
    "\n",
    "5. Completar el diseño. Ya sea completar el proceso con algoritmos de optimización, validar los datos, ajustar parámetros, etc."
   ]
  },
  {
   "cell_type": "markdown",
   "metadata": {},
   "source": [
    "#### Minimización del riesgo empírico\n"
   ]
  },
  {
   "cell_type": "markdown",
   "metadata": {},
   "source": [
    "El objetivo del aprendizaje supervisado es encontrar una función $g$, dado un conjunto de puntos de la forma $(x, g(x))$.\n",
    "\n",
    "Se supone que el conjunto de puntos para los que el comportamiento de los $g$ es conocido, es una muestra de v.a. independientes idénticamente distribuidas de acuerdo con una *distribución de probabilidad* **desconocida** $p$.\n",
    "\n",
    "Por otra parte, se considera una **función de pérdida $L$**:\n",
    "$$\\mathbb{L} : \\mathbb{Y} \\times \\mathbb{Y} \\rightarrow \\mathbb{R}^{\\geq0}$$"
   ]
  },
  {
   "cell_type": "markdown",
   "metadata": {},
   "source": [
    "![](https://i.imgur.com/GhBABSB.png)\n",
    "\n",
    "Referencias:\n",
    "\n",
    "[Aprendizaje supervisado](https://es.wikipedia.org/wiki/Aprendizaje_supervisado)\n",
    "\n",
    "[Tipos de aprendizaje automático](https://medium.com/soldai/tipos-de-aprendizaje-autom%C3%A1tico-6413e3c615e2)"
   ]
  },
  {
   "cell_type": "code",
   "execution_count": null,
   "metadata": {},
   "outputs": [],
   "source": []
  }
 ],
 "metadata": {
  "kernelspec": {
   "display_name": "Python 3",
   "language": "python",
   "name": "python3"
  },
  "language_info": {
   "codemirror_mode": {
    "name": "ipython",
    "version": 3
   },
   "file_extension": ".py",
   "mimetype": "text/x-python",
   "name": "python",
   "nbconvert_exporter": "python",
   "pygments_lexer": "ipython3",
   "version": "3.8.3"
  },
  "toc": {
   "base_numbering": "",
   "nav_menu": {},
   "number_sections": false,
   "sideBar": true,
   "skip_h1_title": false,
   "title_cell": "Table of Contents",
   "title_sidebar": "Contents",
   "toc_cell": true,
   "toc_position": {},
   "toc_section_display": true,
   "toc_window_display": false
  }
 },
 "nbformat": 4,
 "nbformat_minor": 4
}
