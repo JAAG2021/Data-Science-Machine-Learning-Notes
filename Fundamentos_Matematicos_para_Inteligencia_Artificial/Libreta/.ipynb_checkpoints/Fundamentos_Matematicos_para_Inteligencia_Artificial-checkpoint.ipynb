{
 "cells": [
  {
   "cell_type": "markdown",
   "metadata": {
    "toc": true
   },
   "source": [
    "<h1>Table of Contents<span class=\"tocSkip\"></span></h1>\n",
    "<div class=\"toc\"><ul class=\"toc-item\"><li><span><a href=\"#Fundamentos-Matemáticos-para-Inteligencia-Artificial\" data-toc-modified-id=\"Fundamentos-Matemáticos-para-Inteligencia-Artificial-0\">Fundamentos Matemáticos para Inteligencia Artificial</a></span><ul class=\"toc-item\"><li><span><a href=\"#Introducción\" data-toc-modified-id=\"Introducción-0.1\">Introducción</a></span><ul class=\"toc-item\"><li><span><a href=\"#Aprendizaje-estadístico\" data-toc-modified-id=\"Aprendizaje-estadístico-0.1.1\">Aprendizaje estadístico</a></span><ul class=\"toc-item\"><li><span><a href=\"#Marco-general-del-aprendizaje-bayesiano\" data-toc-modified-id=\"Marco-general-del-aprendizaje-bayesiano-0.1.1.1\">Marco general del aprendizaje bayesiano</a></span></li></ul></li><li><span><a href=\"#Aprendizaje-Supervisado\" data-toc-modified-id=\"Aprendizaje-Supervisado-0.1.2\">Aprendizaje Supervisado</a></span><ul class=\"toc-item\"><li><span><a href=\"#Minimización-del-riesgo-empírico\" data-toc-modified-id=\"Minimización-del-riesgo-empírico-0.1.2.1\">Minimización del riesgo empírico</a></span></li></ul></li><li><span><a href=\"#Aprendizaje-NO-supervisado\" data-toc-modified-id=\"Aprendizaje-NO-supervisado-0.1.3\">Aprendizaje NO supervisado</a></span></li><li><span><a href=\"#Aprendizaje-reforzado\" data-toc-modified-id=\"Aprendizaje-reforzado-0.1.4\">Aprendizaje reforzado</a></span></li></ul></li><li><span><a href=\"#Modulo-1.-Matemáticas-básicas\" data-toc-modified-id=\"Modulo-1.-Matemáticas-básicas-0.2\">Modulo 1. Matemáticas básicas</a></span><ul class=\"toc-item\"><li><span><a href=\"#Vectores\" data-toc-modified-id=\"Vectores-0.2.1\">Vectores</a></span><ul class=\"toc-item\"><li><span><a href=\"#Operaciones-básicas-con-vectores\" data-toc-modified-id=\"Operaciones-básicas-con-vectores-0.2.1.1\">Operaciones básicas con vectores</a></span></li></ul></li></ul></li></ul></li></ul></div>"
   ]
  },
  {
   "cell_type": "markdown",
   "metadata": {},
   "source": [
    "# Fundamentos Matemáticos para Inteligencia Artificial"
   ]
  },
  {
   "cell_type": "markdown",
   "metadata": {},
   "source": [
    "## Introducción"
   ]
  },
  {
   "cell_type": "markdown",
   "metadata": {},
   "source": [
    "Vamos a definir la inteligencia artificial de la siguiente manera:\n",
    "\n",
    "> Desarrollo de métodos y algoritmos que permitan a las computadores comportarse de modo inteligente\n",
    "\n",
    "o con una definición que personalmente me gusta más:\n",
    "\n",
    "> El campo de la inteligencia artificial se encarga de hacer a las computadoras \"inteligentes\" refiriendonos a que queremos replicar las funciones cognitivas del ser humano para imitar su aprendizaje y lo que llamamos \"comportamiento inteligente \"."
   ]
  },
  {
   "cell_type": "markdown",
   "metadata": {},
   "source": [
    "En este caso nos vamos a enfocar en las siguientes ramas de la inteligencia artificial:"
   ]
  },
  {
   "attachments": {},
   "cell_type": "markdown",
   "metadata": {},
   "source": [
    "![](https://i.imgur.com/0Q14hsq.png)"
   ]
  },
  {
   "cell_type": "markdown",
   "metadata": {},
   "source": [
    "Vamos a hablar un poco sobre cada una de ellas:"
   ]
  },
  {
   "cell_type": "markdown",
   "metadata": {},
   "source": [
    "### Aprendizaje estadístico"
   ]
  },
  {
   "cell_type": "markdown",
   "metadata": {},
   "source": [
    "Los algoritmos basados en este tipo de aprendizaje suelen aprender, esencialmente, calculando probabilidades condicionadas:\n",
    "\n",
    "   * Partimos de un conjunto de datos $D$ que representa una serie de *evidencias* observadas (instancias concretas de algunas o todas las *v.a.*).\n",
    "\n",
    "   * La hipótesis $H$ son modelos probabilísticos de cómo funciona el dominio (por ejemplo, distintas distribuciones de probabilidad).\n",
    "\n",
    "* Por ejemplo, se buscan hipótesis que maximizan $P(h|D)$ para $h$ $\\in$ $H$\n",
    "\n",
    "Por tanto, será esencial el uso del *Teorema de Bayes*. De hecho, a partir de esto también le podemos llamar a este tipo de aprendizaje como **aprendizaje bayesiano**.\n",
    "\n",
    "No necesariamente elimina una hipótesis que sea inconsistente con $D$, sino que *busca la hipótesis más probable*, dadas las observaciones de $D$.\n",
    "\n",
    "Además, incorpora el conocimiento a priori del que se dispone (para actualizar las \"creencias\")."
   ]
  },
  {
   "cell_type": "markdown",
   "metadata": {},
   "source": [
    "#### Marco general del aprendizaje bayesiano"
   ]
  },
  {
   "cell_type": "markdown",
   "metadata": {},
   "source": [
    "* Sea $H$ un conjunto de hipótesis, $D$ una *v.a.* que representa los datos y $d$ el valor observado para esos datos.\n",
    "\n",
    "* El aprendizaje bayesiano o estadístico simplemente calcula la probabilidad de cada hipótesis de $H$ (dado los datos) y predice valores desconocidos a partir de ese cálculo.\n",
    "\n",
    "    * Es decir, si $X$ es una *v.a.* **con valor no conocido**, su probabilidad se calcula (suponiendo que cada hipótesis determina completamente la distribución de probabilidad de $X$ ($h\\in H$)).\n",
    "    \n",
    "    `Probabilidad de X dada la observación en los datos d`\n",
    "    \n",
    "    $$P(X|d)=\\sum_{h\\in H}{P(X|d, h_i)P(h_i|d)}=\\sum_{h\\in H}{P(X|h_i)P(h_i|d)}$$\n",
    "    \n",
    "    \n",
    "    \n",
    "   * Donde, por el teorema de Bayes:\n",
    "   \n",
    "   $$P(h|d)=\\alpha P(d|h)P(h)$$"
   ]
  },
  {
   "cell_type": "markdown",
   "metadata": {},
   "source": [
    "Así que en este marco general, la información de entrada es:\n",
    "\n",
    "* Los datos observados, $d$\n",
    "* Las probabilidades a **priori** de las hipótesis, $P(h)$\n",
    "* Le verosimilitud (credibilidad) de los datos bajo la hipótesis, $P(d|h)$\n",
    "\n",
    "Dada una v.a. $X$ sobre la que se consulta, la información aprendida será la distribución de probabilidad $P(X|d)$, que servirá de base para predecir el valor de $X$."
   ]
  },
  {
   "cell_type": "markdown",
   "metadata": {},
   "source": [
    "El principio de la navaja de Ockham tiene cabida en este marco general del aprendizaje bayesiano:\n",
    "> En igualdad de condiciones, la explicación más sencilla suele ser la más probable -  Guillermo de Ockham\n",
    "\n",
    "   * Simplemente, las probabilidades a priori de las hipótesis más complejas serían menores .\n",
    "   "
   ]
  },
  {
   "cell_type": "markdown",
   "metadata": {},
   "source": [
    "Una aplicación de este tipo de aprendizaje sería en la creación de chatbots:"
   ]
  },
  {
   "cell_type": "markdown",
   "metadata": {},
   "source": [
    "![](https://i.imgur.com/WRhM8Su.png)\n",
    "\n",
    "Referencias:\n",
    "[Aprendizaje estadístico](https://www.cs.us.es/cursos/ia2-2009/temas/tema-04.pdf)"
   ]
  },
  {
   "cell_type": "markdown",
   "metadata": {},
   "source": [
    "### Aprendizaje Supervisado"
   ]
  },
  {
   "cell_type": "markdown",
   "metadata": {},
   "source": [
    "Es una técnica para deducir una función a partir de datos de entrenamiento. Estos datos de entrenamiento consisten en pares de objetos (en su mayoría vectores). \n",
    "\n",
    "* Una componente del par son los datos de entrada.\n",
    "* La otra componente son los resultados deseados.\n",
    "* La salida de la función puede ser un valor numérico o una etiqueta de clase.\n",
    "\n",
    "El objetivo del aprendizaje supervisado es crear una función capaz de predecir el valor correspondiente a cualquier objeto de entrada válida después de haber visto una serie de ejemplos (datos de entrenamiento). Para ello, tiene que **generalizar** a partir de los datos presentados a las situaciones no vistas previamente (nuevos inputs)."
   ]
  },
  {
   "cell_type": "markdown",
   "metadata": {},
   "source": [
    "Se dice que es \"supervisado\" ya que necesitamos que nuestro dataset este previamente **etiquetado y clasificado**, es decir, ya sabemos a que grupos o categorías pertenecen nuestros datos de entrenamiento. Y esto lo realizamos en un proceso previo al modelo de aprendizaje."
   ]
  },
  {
   "cell_type": "markdown",
   "metadata": {},
   "source": [
    "Para realizar un algoritmo de este estilo tenemos tomar en consideración una serie de pasos importantes:\n",
    "\n",
    "1. **Determinar el tipo de ejemplos de entrenamiento (etiquetar).**\n",
    "\n",
    "2. **Reunir un conjunto de entrenamiento.**\n",
    "\n",
    "3. **Determinar la función de ingreso de la representación de la función aprendida:** La precisión de la función que tratamos de modelar o hacer que aprenda está fuertemente ligada al cómo está siendo representado el objeto de entrada. Normalmente transformamos esta entrada en un feature vector o vector de característica (elegimos aquellas que consideramos relevantes), pero teniendo cuidado de que el número de características no sea muy grande ya que podríamos tener un [efecto Hughes](https://es.wikipedia.org/wiki/Maldici%C3%B3n_de_la_dimensi%C3%B3n). Es decir, debe de contener la suficiente cantidad de características para poder predecir con precisión la salida, pero no tantas como para aumentar demasiado la dimensionalidad, el volumen del espacio y por lo tanto dejando más dispersos nuestros datos.\n",
    "\n",
    "4. Determinar la estructura de la función adecuada para resolver el problema y la técnica de aprendizaje correspondiente.\n",
    "\n",
    "5. Completar el diseño. Ya sea completar el proceso con algoritmos de optimización, validar los datos, ajustar parámetros, etc."
   ]
  },
  {
   "cell_type": "markdown",
   "metadata": {},
   "source": [
    "#### Minimización del riesgo empírico\n"
   ]
  },
  {
   "cell_type": "markdown",
   "metadata": {},
   "source": [
    "\n",
    "El objetivo del aprendizaje supervisado es encontrar una función $g$, dado un conjunto de puntos de la forma $(x, g(x))$.\n",
    "\n",
    "Se supone que el conjunto de puntos para los que el comportamiento de los $g$ es conocido, es una muestra de v.a. independientes idénticamente distribuidas de acuerdo con una *distribución de probabilidad* **desconocida** $p$.\n",
    "\n",
    "Por otra parte, se considera una **función de pérdida $L$**:\n",
    "$$\\mathbb{L} : \\mathbb{Y} \\times \\mathbb{Y} \\implies \\mathbb{R}^{\\geq0}$$\n",
    "\n",
    "donde $\\mathbb{Y}$ es el dominio de $g$.\n",
    "\n",
    "Este principio fija su atención en redefinir el funcional de riesgo basandose en el siguiente razonamiento:\n",
    "\n",
    "> \"Para obtener una buena generalización es suficiente con elegir los parámetros de la función aproximadora que aseguren el número mínimo de errores sobre el conjunto de entrenamiento\"\n",
    "\n",
    "El riesgo asociado con una función $f$ es la **esperanza** de la función de pérdida $L$:\n",
    "\n",
    "Recordemos que la esperanza es de la forma (para una variable discreta):\n",
    "\n",
    "$$E(X)= \\sum_{i=1}^{n}{X_iP(X_i)}$$\n",
    "\n",
    "entonces en la función de riesgo tenemos:\n",
    "\n",
    "$$R(f)= \\sum_{i}{\\mathbb{L}(\\underbrace{f(x_i),g(x_i)}_\\text{Conjunto de puntos})~p(x_i)}$$\n",
    "\n",
    "En caso de tener una distribución de probabilidad $p$ **continua** tendríamos que usar una integral.\n",
    "\n",
    "Ahora, queremos encontrar la función $f\\prime$ para la que el riesgo $R(f\\prime)$ es mínima, pero solo podemos aproximar el verdadero riesgo haciendo uso del riesgo empírico expresado de la forma:\n",
    "\n",
    "$$\\tilde R_n(f\\prime)=\\frac{1}{n} \\sum_{i=1}^{n}{\\mathbb{L}( f(x_i),y_i)}$$"
   ]
  },
  {
   "cell_type": "markdown",
   "metadata": {},
   "source": [
    "* **NOTA: ¿Qué es una función de pérdida?**\n",
    "\n",
    "    Es una función que relaciona un evento (un elemento de un espacio de muestreo) con un número real que representa el coste asociado con dicho evento.Se utilizan mucho en economía, expresandose de la forma:\n",
    "    $$\\$ = \\frac{{\\text{perdida}}}{\\text{tiempo}}$$"
   ]
  },
  {
   "cell_type": "markdown",
   "metadata": {},
   "source": [
    "![](https://i.imgur.com/GhBABSB.png)\n",
    "\n",
    "Referencias:\n",
    "\n",
    "[Aprendizaje supervisado](https://es.wikipedia.org/wiki/Aprendizaje_supervisado)\n",
    "\n",
    "[Tipos de aprendizaje automático](https://medium.com/soldai/tipos-de-aprendizaje-autom%C3%A1tico-6413e3c615e2)\n",
    "\n",
    "[miktesis1.dvi](https://upcommons.upc.edu/bitstream/handle/2117/93490/02Capitulo1.pdf)\n",
    "\n",
    "[Aprendizaje Estadístico, Redes Neuronales y Support Vector Machines: Un enfoque global](https://www.uv.mx/anmarin/slides/180205Gonzalez.pdf)"
   ]
  },
  {
   "cell_type": "markdown",
   "metadata": {},
   "source": [
    "### Aprendizaje NO supervisado"
   ]
  },
  {
   "cell_type": "markdown",
   "metadata": {},
   "source": [
    "Es un método donde nuestro modelo se ajusta a las observaciones y se diferencia del aprendizaje supervisado en el hecho de que **no hay un conocimiento previo sobre los datos**, es decir, no vienen previamente etiquetados, clasificados o agrupados. \n",
    "\n",
    "En este tipo de aprendizaje solo administramos nuestro dataset para que el modelo se encargue de tratar los datos, generalmente tratandolos como un conjunto de variables aleatorias, construyendo un modelo de densidad para el conjunto de datos. Aquí es donde entran en juego los algoritmos de clustering, siendo una de las implementaciones más destacadas ya que dependiendo del algoritmo, con unos cuantos parámetros de entrada, obtenemos nuestro dataset agrupado en diferentes clases o grupos que comparten características similares entre sí. Estos métodos suelen usarse mucho para la compresión de imágenes."
   ]
  },
  {
   "cell_type": "markdown",
   "metadata": {},
   "source": [
    "Las principales aplicaciones del aprendizaje no supervisado son:\n",
    "\n",
    "* Segmentación de conjuntos de datos por atributos compartidos.\n",
    "* Detección de anomalías que no encajan en ningún grupo.\n",
    "* Simplificación de datasets agregando variables con atributos similares."
   ]
  },
  {
   "cell_type": "markdown",
   "metadata": {},
   "source": [
    "El aprendizaje no supervisado se puede usar en conjunto con la Inferencia bayesiana para producir probabilidades condicionales (es decir, aprendizaje supervisado) para cualquiera de las variables aleatorias dadas. \n",
    "\n",
    "Dentro de este tipo de aprendizaje tenemos 2 categorías:\n",
    "\n",
    "* **Aprendizaje no supervisado paramétrico:** Para este caso **suponemos una distribución paramétrica de los datos**, es decir, suponemos que los datos de muestra provienen de una población que sigue una distribución de probabilidad basada en un conjunto fijo de parámetros (como en el aprendizaje supervisado). Teóricamente, en una familia de distribuciones, todos los miembros tienen la misma forma y están parametrizados por la media y la desviación estándar (en una distribución normal), lo que significa que, si conocemos el promedio y la desviación estándar podemos predecir la probabilidad de cualquier observación futura. \n",
    "\n",
    "    En el caso del aprendizaje no supervisado paramétrico implica la construcción de [modelos de mezclas gaussianas](http://catarina.udlap.mx/u_dl_a/tales/documentos/lmt/ramirez_a_e/capitulo3.pdf) y el uso del algoritmo de maximización  de expectativas para predecir la clase de la muestra en cuestión. En este caso difiere y se complica mucho más que en aprendizaje supervisado ya que aquí no hay etiquetas de respuesta disponibles, y por lo tanto, no hay una medida exacta de la precisión de la que disponemos.\n",
    "\n",
    "\n",
    "* **Aprendizaje supervisado no paramétrico:** En esta versión, los datos se agrupan en clusters, donde cada uno de ellos nos da información acerca de las categorías y clases presentes en nuestro dataset. Este método se usa comúnmente para modelar y analizar datos con muestras de pequeños tamaños. A diferencia de los modelos paramétricos, estos **requieren que el modelador haga suposiciones sobre la distribución de la población**, y a veces se les conoce como un *método libre de distribución*."
   ]
  },
  {
   "cell_type": "markdown",
   "metadata": {},
   "source": [
    "![](https://i.imgur.com/km3AbB5.png)\n",
    "\n",
    "Referencias:\n",
    "\n",
    "[Aprendizaje No Supervisado en Machine Learning: Agrupación](https://medium.com/datos-y-ciencia/aprendizaje-no-supervisado-en-machine-learning-agrupaci%C3%B3n-bb8f25813edc)\n",
    "\n",
    "[Todo sobre aprendizaje no supervisado en Machine Learning\n",
    "](https://aprendeia.com/todo-sobre-aprendizaje-no-supervisado-en-machine-learning/)\n",
    "\n",
    "[Mezcla de Gaussianas para clasificación](http://catarina.udlap.mx/u_dl_a/tales/documentos/lmt/ramirez_a_e/capitulo3.pdf)"
   ]
  },
  {
   "cell_type": "markdown",
   "metadata": {},
   "source": [
    "### Aprendizaje reforzado"
   ]
  },
  {
   "cell_type": "markdown",
   "metadata": {},
   "source": [
    "El aprendizaje reforzado o por refuerzo está inspirado en la psicología conductista, y se encarga de determinar qué acciones se deben de elegir en un entorno dado **con el fin de maximizar la noción de recompensa** o premio acumulado."
   ]
  },
  {
   "cell_type": "markdown",
   "metadata": {},
   "source": [
    "Este tipo de aprendizaje propone un nuevo enfoque que postula 2 componentes nuevas:\n",
    "\n",
    "* **El agente:** Será nuestro modelo que queremos entrenar y que aprenda a tomar decisiones.\n",
    "* **El ambiente:** Será el entorno en donde interactúa el agente. El ambiente contiene las limitaciones y reglas necesarias para cada momento o transición.\n",
    "\n",
    "Estos estarán conectados con una retroalimentación que cuenta con los siguientes nexos:\n",
    "\n",
    "* **Acción:** Las posibles acciones que puede tomar en un momento determinado el Agente.\n",
    "* **Estado(del ambiente):**Son los indicadores del ambiente de cómo están los diversos elementos que lo componen en ese momento.\n",
    "* **Recompensa o \"castigo\":** A raíz de cada acción tomada o transición hecha por el agente, podremos obtener un premio o una penalización que orientará al Agente para que \"sepa\" si lo esta haciendo bien o mal y se reajuste."
   ]
  },
  {
   "cell_type": "markdown",
   "metadata": {},
   "source": [
    "Un modelo básico de aprendizaje reforzado consiste en:\n",
    "\n",
    "1. Un conjunto de estados de entorno $S$.\n",
    "2. Un conjunto de acciones $A$.\n",
    "3. Reglas de transición de estados.\n",
    "4. Reglas para determinar la *recompensa inmediata escalar de una transición*.\n",
    "5. Reglas que describen que observa el agente."
   ]
  },
  {
   "cell_type": "markdown",
   "metadata": {},
   "source": [
    "![](https://miro.medium.com/max/675/1*2aGjVH9aCRSXsMg1vT4peg.png)"
   ]
  },
  {
   "cell_type": "markdown",
   "metadata": {},
   "source": [
    "Fuentes:\n",
    "\n",
    "[Aprendizaje por refuerzo - wikipedia](https://es.wikipedia.org/wiki/Aprendizaje_por_refuerzo)\n",
    "\n",
    "[Aprendizaje por Refuerzo - aprendemachinelearning.com](https://www.aprendemachinelearning.com/aprendizaje-por-refuerzo/)"
   ]
  },
  {
   "cell_type": "markdown",
   "metadata": {},
   "source": [
    "---"
   ]
  },
  {
   "cell_type": "markdown",
   "metadata": {},
   "source": [
    "## Modulo 1. Matemáticas básicas"
   ]
  },
  {
   "cell_type": "markdown",
   "metadata": {},
   "source": [
    "### Vectores"
   ]
  },
  {
   "cell_type": "markdown",
   "metadata": {},
   "source": [
    "Es un ente matemático como la recta o el plano. Se representa mediante un segmento de recta orientado dentro de un espacio de $\\mathbb{R}^n$ dimensiones. El vector tiene 3 elementos:\n",
    "\n",
    "* **Módulo/magnitud:** Representando la longitud del segmento con un valor númerico asociado. \n",
    "* **Dirección:** Ángulo que tiene el vector. En un espacio bidimensional es el ángulo formado por el vector respecto al eje X.\n",
    "* **Sentido:** Es la orientación del segmento, es decir, de donde a donde definimos el origen y el extremo de un vector. Este puede ser positivo o negativo.\n",
    "\n",
    "Un vector puede ser totalmente descrito a través de sus coordenadas o componentes. "
   ]
  },
  {
   "cell_type": "markdown",
   "metadata": {},
   "source": [
    "![](https://i.imgur.com/8njgLtM.png)"
   ]
  },
  {
   "cell_type": "markdown",
   "metadata": {},
   "source": [
    "En la imagen se puede ver que tenemos 2 vectores, uno de 2 y 3 dimensiones respectivamente. \n",
    "\n",
    "Si tenemos $\\vec v = (x_0, y_0)$ significa que tenemos un vector denotado por $V$ de 2 dimensiones que puede ser descrito mediante 2 componentes, $x$ y $y$. \n",
    "\n",
    "Para el caso de $\\vec U$ tenemos un vector de 3 dimensiones y por lo tanto, con 3 componentes $x$, $y$ y $k$.\n",
    "\n",
    "También podemos observar una notación del estilo $x_0 \\hat \\imath + y_0 \\hat \\jmath + k_0 \\hat k$, pero antes de explicar eso recordemos muy vagamente y sin formalismo matemático como construimos un espacio de $n$ dimensiones."
   ]
  },
  {
   "cell_type": "markdown",
   "metadata": {},
   "source": [
    "Para construir un espacio de $\\mathbb{R}^n$ dimensiones vamos a tener una **colección de $n$ vectores linealmente independientes**, es decir, ninguno de ellos puede ser descrito mediante una combinación de los otros. \n",
    "\n",
    "Es un concepto muy similar a cuando imaginamos lineas perpendiculares, cuando tenemos un espacio de 1 dimensión podemos imaginarnos una línea, cuando tenemos 2 dimensiones nos podemos imaginar 2 lineas perpendiculares entre sí, y al cruce de estas líneas le llamamos origen. Para el caso de 3 dimensiones es lo mismo, tenemos 3 líneas que son perpendiculares entre sí y llamamos origen al punto donde las 3 se intersecan (Todo esto en un espacio euclidiano).\n",
    "\n",
    "Estos $n$ vectores linealmente independientes conforman nuestra **base canónica**, pero para ello la **base** debe de estar **normalizada**, es decir, los vectores son unitarios (valen una unidad según nuestro sistema de referencia utilizado).\n",
    "\n",
    "Para el caso de 3 dimensiones tenemos que nuestra base canónica está construida por los 3 vectores unitarios $\\hat \\imath, \\hat \\jmath, \\hat k$."
   ]
  },
  {
   "cell_type": "markdown",
   "metadata": {},
   "source": [
    "![](https://www.lifeder.com/wp-content/uploads/2020/07/vector-unitario-1.jpg)\n",
    "\n",
    "> Imagen de ejemplo para un espacio $\\mathbb{R}^n= 3$"
   ]
  },
  {
   "cell_type": "markdown",
   "metadata": {},
   "source": [
    "Una vez que tenemos nuestra base canónica a partir de nuestros $n$ vectores linealmente independientes ya tenemos construido nuestro espacio.\n",
    "\n",
    "Ahora, a partir de el operador interno aditivo (sumar vectores) y producto externo (producto de escalares por un vector) podremos generar combinaciones lineales, es decir, combinaciones de los vectores unitarios multiplicados por escalares para obtener vectores de cualquier tamaño en cualquier porción del espacio."
   ]
  },
  {
   "cell_type": "markdown",
   "metadata": {},
   "source": [
    "Justo a esto último es a lo que nos referimos con la expresión $\\vec U = x_0 \\hat \\imath + y_0 \\hat \\jmath + z_0 \\hat k$, estamos diciendo que podemos representar cualquier vector de 3 dimensiones como una combinación lineal de nuestras bases canónicas multiplicadas por un escalar (números).\n",
    "\n",
    "Por ejemplo, podríamos obtener la combinación lineal que de como resultado al vector $\\vec U = 2 \\hat \\imath + 3 \\hat \\jmath + 2 \\hat k$, que luciría así:"
   ]
  },
  {
   "cell_type": "markdown",
   "metadata": {},
   "source": [
    "![](https://encrypted-tbn0.gstatic.com/images?q=tbn:ANd9GcQ4GbZCknHrryE8AGR4W6uUJ5ijzR7-lwV6pw&usqp=CAU)"
   ]
  },
  {
   "cell_type": "markdown",
   "metadata": {},
   "source": [
    "A partir de las componentes no solo podemos ubicar al vector en el espacio, si no que también podemos obtener su módulo, es decir, \"que tán largo es ese vector\" usando la siguiente expresión para $n$ dimensiones:\n",
    "\n",
    "$$||\\vec V|| = \\sqrt{v_1^2+v_2^2+ ... + v_n^2} = \\sqrt{\\sum_{i=1}^{n}{v_i^2}}$$\n",
    "\n",
    "> El módulo de un vector es igual a la raiz cuadrada de la suma de las componentes al cuadrado."
   ]
  },
  {
   "cell_type": "markdown",
   "metadata": {},
   "source": [
    "#### Operaciones básicas con vectores"
   ]
  },
  {
   "cell_type": "markdown",
   "metadata": {},
   "source": [
    "##### Suma y resta vectorial"
   ]
  },
  {
   "cell_type": "markdown",
   "metadata": {},
   "source": [
    "Podemos expresar la suma o resta de 2 vectores de la siguiente forma:"
   ]
  },
  {
   "cell_type": "markdown",
   "metadata": {},
   "source": [
    "$$\\begin{aligned}\n",
    "\\vec v \\pm \\vec w &= (v_x,v_y, ... , v_n) \\pm (w_x, w_y, ... , w_n)\\\\\n",
    "&=(v_x \\pm w_x)\\hat\\imath + (v_y \\pm w_y)\\hat\\jmath + ... + (v_n \\pm w_n)\\hat n = \\vec s = (s_x, s_y, ... , s_n) \\in \\mathbb{R}^n\n",
    "\\end{aligned}$$"
   ]
  },
  {
   "cell_type": "markdown",
   "metadata": {},
   "source": [
    "Básicamente consiste en sumar por separado las componentes de cada uno de los vectores y después juntarlas en un **vector resultante** $\\vec S$.\n",
    "\n",
    "Para el caso de 2 dimensiones tenemos una representación geométrica muy clara:"
   ]
  },
  {
   "cell_type": "markdown",
   "metadata": {},
   "source": [
    "![](https://encrypted-tbn0.gstatic.com/images?q=tbn:ANd9GcTR1h8jx5tYkKExpszlDG_ekiVZZErOdzT_tg&usqp=CAU)"
   ]
  },
  {
   "cell_type": "markdown",
   "metadata": {},
   "source": [
    "---"
   ]
  }
 ],
 "metadata": {
  "kernelspec": {
   "display_name": "Python 3",
   "language": "python",
   "name": "python3"
  },
  "language_info": {
   "codemirror_mode": {
    "name": "ipython",
    "version": 3
   },
   "file_extension": ".py",
   "mimetype": "text/x-python",
   "name": "python",
   "nbconvert_exporter": "python",
   "pygments_lexer": "ipython3",
   "version": "3.8.3"
  },
  "toc": {
   "base_numbering": "",
   "nav_menu": {},
   "number_sections": false,
   "sideBar": true,
   "skip_h1_title": false,
   "title_cell": "Table of Contents",
   "title_sidebar": "Contents",
   "toc_cell": true,
   "toc_position": {},
   "toc_section_display": true,
   "toc_window_display": false
  }
 },
 "nbformat": 4,
 "nbformat_minor": 4
}
