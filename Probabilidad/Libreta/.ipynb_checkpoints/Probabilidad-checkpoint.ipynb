{
 "cells": [
  {
   "cell_type": "markdown",
   "metadata": {
    "toc": true
   },
   "source": [
    "<h1>Tabla de contenido 💜<span class=\"tocSkip\"></span></h1>\n",
    "<div class=\"toc\"><ul class=\"toc-item\"><li><span><a href=\"#Matemáticas-para-Data-Science:-Probabilidad\" data-toc-modified-id=\"Matemáticas-para-Data-Science:-Probabilidad-1\">Matemáticas para Data Science: Probabilidad</a></span><ul class=\"toc-item\"><li><span><a href=\"#Incertidumbre-y-probabilidad\" data-toc-modified-id=\"Incertidumbre-y-probabilidad-1.1\">Incertidumbre y probabilidad</a></span><ul class=\"toc-item\"><li><span><a href=\"#Axiomas-de-la-probabilidad\" data-toc-modified-id=\"Axiomas-de-la-probabilidad-1.1.1\">Axiomas de la probabilidad</a></span><ul class=\"toc-item\"><li><span><a href=\"#Axioma-1.\" data-toc-modified-id=\"Axioma-1.-1.1.1.1\">Axioma 1.</a></span></li><li><span><a href=\"#Axioma-2.\" data-toc-modified-id=\"Axioma-2.-1.1.1.2\">Axioma 2.</a></span></li><li><span><a href=\"#Axioma-3.\" data-toc-modified-id=\"Axioma-3.-1.1.1.3\">Axioma 3.</a></span></li></ul></li><li><span><a href=\"#Propiedades-que-se-deducen-de-los-axiomas\" data-toc-modified-id=\"Propiedades-que-se-deducen-de-los-axiomas-1.1.2\">Propiedades que se deducen de los axiomas</a></span></li></ul></li></ul></li></ul></div>"
   ]
  },
  {
   "cell_type": "markdown",
   "metadata": {},
   "source": [
    "# Matemáticas para Data Science: Probabilidad"
   ]
  },
  {
   "cell_type": "markdown",
   "metadata": {},
   "source": [
    "## Incertidumbre y probabilidad"
   ]
  },
  {
   "cell_type": "markdown",
   "metadata": {},
   "source": [
    "### Axiomas de la probabilidad"
   ]
  },
  {
   "cell_type": "markdown",
   "metadata": {},
   "source": [
    "Dado un conjunto de sucesos elementales, $\\Omega$, sobre el que se ha definido una $\\sigma$-álgebra (familia $\\Sigma$ no vacía de subconjuntos de un conjunto $X$, cerrada bajo complementos, uniones e intersecciones contables) $\\sigma$ de conjuntos de $\\Omega$ y una función $P$ que asigna valores reales a los miembros de $\\sigma$, a los que denominamos \"sucesos\", se dice que $P$ es una probabilidad sobre $(\\Omega, \\sigma)$ si se cumplen los siguientes 3 axiomas."
   ]
  },
  {
   "cell_type": "markdown",
   "metadata": {},
   "source": [
    "#### Axioma 1."
   ]
  },
  {
   "cell_type": "markdown",
   "metadata": {},
   "source": [
    "La probabilidad de un evento $S$ no puede ser negativa."
   ]
  },
  {
   "cell_type": "markdown",
   "metadata": {},
   "source": [
    "$$0 \\leq P(S)$$"
   ]
  },
  {
   "cell_type": "markdown",
   "metadata": {},
   "source": [
    "#### Axioma 2."
   ]
  },
  {
   "cell_type": "markdown",
   "metadata": {},
   "source": [
    "La probabilidad de un evento seguro, $\\Omega$, es igual a 1, denotado simbólicamente como:"
   ]
  },
  {
   "cell_type": "markdown",
   "metadata": {},
   "source": [
    "$$P(\\Omega) = 1$$"
   ]
  },
  {
   "cell_type": "markdown",
   "metadata": {},
   "source": [
    "#### Axioma 3."
   ]
  },
  {
   "cell_type": "markdown",
   "metadata": {},
   "source": [
    "Si $E_1, E_2, ...$ son eventos **mutuamente excluyentes** (su intersección es el conjunto vacío), entonces:"
   ]
  },
  {
   "cell_type": "markdown",
   "metadata": {},
   "source": [
    "$$ P(E_1 \\cup E_2 \\cup ...) = \\sum{P(E_i)}$$"
   ]
  },
  {
   "cell_type": "markdown",
   "metadata": {},
   "source": [
    "Según este axioma se puede calcular la probabilidad de un suceso compuesto de varias alternativas mutuamente excluyentes sumando las probabilidades de sus componentes."
   ]
  },
  {
   "cell_type": "markdown",
   "metadata": {},
   "source": [
    "En términos más formales, una probabilidad es una medida sobre una $\\sigma$-álgebra (sigma-álgebra) de subconjuntos del espacio muestral, siendo los subconjuntos miembros de la $\\sigma$-álgebra los sucesos y definida de tal manera que la medida del total sea 1. Tal medida, gracias a su definición matemática, verifica igualmente los 3 axiomas de Kolmogórov."
   ]
  },
  {
   "cell_type": "markdown",
   "metadata": {},
   "source": [
    "A la terna formada por el **espacio muestral, la $\\sigma$-álgebra y la función de probabilidad** se la denomina **espacio probabilístico** , esto es, un \"espacio de sucesos\" en el que se ha definido los posibles sucesos a considerar (la $ \\sigma$-álgebra) y la probabilidad de cada suceso (la función de probabilidad)."
   ]
  },
  {
   "cell_type": "markdown",
   "metadata": {},
   "source": [
    "### Propiedades que se deducen de los axiomas"
   ]
  },
  {
   "cell_type": "markdown",
   "metadata": {},
   "source": [
    "De los axiomas anteriores podemos obtener las siguiente proposiciones:"
   ]
  },
  {
   "cell_type": "markdown",
   "metadata": {},
   "source": [
    "1. $P(\\phi)= 0$ donde el conjunto vacío ($\\phi$) representa en probabilidad el **suceso imposible**.\n",
    "\n",
    "2. Para cualquier evento, $P(E) \\leq 1$.\n",
    "\n",
    "3. $P(A^c) = 1 - P(A)$, donde $A^c$ representa el conjunto complemento de $A$ (todos los elementos que no están en $A$).\n",
    "\n",
    "4. Si $E \\subseteq F$ entonces, $P(E) \\leq P(F)$. Si $E$ es un subconjunto de $F$, la probabilidad de $E$ es menor que la probabilidad de $F$.\n",
    "\n",
    "5. $P(E \\cup F) = P(E) + P(F) - P(E \\cap F)$. Sumamos las probabilidades individuales y restamos la parte en que interseccionan para no contarla 2 veces."
   ]
  },
  {
   "cell_type": "code",
   "execution_count": null,
   "metadata": {},
   "outputs": [],
   "source": []
  }
 ],
 "metadata": {
  "kernelspec": {
   "display_name": "Python 3",
   "language": "python",
   "name": "python3"
  },
  "language_info": {
   "codemirror_mode": {
    "name": "ipython",
    "version": 3
   },
   "file_extension": ".py",
   "mimetype": "text/x-python",
   "name": "python",
   "nbconvert_exporter": "python",
   "pygments_lexer": "ipython3",
   "version": "3.8.3"
  },
  "toc": {
   "base_numbering": 1,
   "nav_menu": {},
   "number_sections": false,
   "sideBar": true,
   "skip_h1_title": false,
   "title_cell": "Tabla de contenido 💜",
   "title_sidebar": "Contents",
   "toc_cell": true,
   "toc_position": {
    "height": "calc(100% - 180px)",
    "left": "10px",
    "top": "150px",
    "width": "279.273px"
   },
   "toc_section_display": true,
   "toc_window_display": false
  }
 },
 "nbformat": 4,
 "nbformat_minor": 4
}
