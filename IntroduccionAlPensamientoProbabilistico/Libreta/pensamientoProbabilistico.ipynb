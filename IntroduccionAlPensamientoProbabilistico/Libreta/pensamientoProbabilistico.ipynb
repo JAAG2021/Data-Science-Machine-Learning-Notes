{
 "cells": [
  {
   "cell_type": "markdown",
   "metadata": {
    "toc": true
   },
   "source": [
    "<h1>Tabla de contenidos<span class=\"tocSkip\"></span></h1>\n",
    "<div class=\"toc\"><ul class=\"toc-item\"><li><span><a href=\"#Curso-de-introducción-al-Pensamiento-Probabilístico.\" data-toc-modified-id=\"Curso-de-introducción-al-Pensamiento-Probabilístico.-0\">Curso de introducción al Pensamiento Probabilístico.</a></span><ul class=\"toc-item\"><li><span><a href=\"#Módulo-1:-Programación-probabilística\" data-toc-modified-id=\"Módulo-1:-Programación-probabilística-0.1\">Módulo 1: Programación probabilística</a></span><ul class=\"toc-item\"><li><span><a href=\"#Introducción-a-la-programación-probabilística\" data-toc-modified-id=\"Introducción-a-la-programación-probabilística-0.1.1\">Introducción a la programación probabilística</a></span></li><li><span><a href=\"#Probabilidad-Condicional\" data-toc-modified-id=\"Probabilidad-Condicional-0.1.2\">Probabilidad Condicional</a></span></li><li><span><a href=\"#Teorema-de-Bayes\" data-toc-modified-id=\"Teorema-de-Bayes-0.1.3\">Teorema de Bayes</a></span></li><li><span><a href=\"#Entendiendo-el-Teorema-de-Bayes\" data-toc-modified-id=\"Entendiendo-el-Teorema-de-Bayes-0.1.4\">Entendiendo el Teorema de Bayes</a></span><ul class=\"toc-item\"><li><span><a href=\"#Ejemplos:\" data-toc-modified-id=\"Ejemplos:-0.1.4.1\">Ejemplos:</a></span></li><li><span><a href=\"#Enlaces-de-videos-o-artículos\" data-toc-modified-id=\"Enlaces-de-videos-o-artículos-0.1.4.2\">Enlaces de videos o artículos</a></span></li></ul></li><li><span><a href=\"#Análisis-de-síntomas\" data-toc-modified-id=\"Análisis-de-síntomas-0.1.5\">Análisis de síntomas</a></span></li><li><span><a href=\"#Aplicaciones-del-Teorema-de-Bayes\" data-toc-modified-id=\"Aplicaciones-del-Teorema-de-Bayes-0.1.6\">Aplicaciones del Teorema de Bayes</a></span><ul class=\"toc-item\"><li><span><a href=\"#Turing-y-el-código-enigma-de-los-Nazis\" data-toc-modified-id=\"Turing-y-el-código-enigma-de-los-Nazis-0.1.6.1\">Turing y el código enigma de los Nazis</a></span></li><li><span><a href=\"#Finanzas\" data-toc-modified-id=\"Finanzas-0.1.6.2\">Finanzas</a></span></li><li><span><a href=\"#Derecho\" data-toc-modified-id=\"Derecho-0.1.6.3\">Derecho</a></span></li><li><span><a href=\"#Inteligencia-artificial\" data-toc-modified-id=\"Inteligencia-artificial-0.1.6.4\">Inteligencia artificial</a></span></li></ul></li></ul></li><li><span><a href=\"#Módulo-2:-Mentiras-estadísticas\" data-toc-modified-id=\"Módulo-2:-Mentiras-estadísticas-0.2\">Módulo 2: Mentiras estadísticas</a></span><ul class=\"toc-item\"><li><span><a href=\"#Garage-in,-garbage-out-(GIGO)\" data-toc-modified-id=\"Garage-in,-garbage-out-(GIGO)-0.2.1\">Garage in, garbage out (GIGO)</a></span></li><li><span><a href=\"#Imágenes-engañosas\" data-toc-modified-id=\"Imágenes-engañosas-0.2.2\">Imágenes engañosas</a></span></li><li><span><a href=\"#Cum-Hoc-Ergo-Propter-Hoc\" data-toc-modified-id=\"Cum-Hoc-Ergo-Propter-Hoc-0.2.3\">Cum Hoc Ergo Propter Hoc</a></span></li><li><span><a href=\"#Prejuicio-en-el-muestreo\" data-toc-modified-id=\"Prejuicio-en-el-muestreo-0.2.4\">Prejuicio en el muestreo</a></span></li><li><span><a href=\"#Falacia-del-francotirador-de-Texas\" data-toc-modified-id=\"Falacia-del-francotirador-de-Texas-0.2.5\">Falacia del francotirador de Texas</a></span></li><li><span><a href=\"#Porcentajes-confusos\" data-toc-modified-id=\"Porcentajes-confusos-0.2.6\">Porcentajes confusos</a></span></li><li><span><a href=\"#Falacia-de-regresión\" data-toc-modified-id=\"Falacia-de-regresión-0.2.7\">Falacia de regresión</a></span></li></ul></li></ul></li></ul></div>"
   ]
  },
  {
   "cell_type": "markdown",
   "metadata": {},
   "source": [
    "---"
   ]
  },
  {
   "cell_type": "markdown",
   "metadata": {},
   "source": [
    "# Curso de introducción al Pensamiento Probabilístico.\n",
    "---"
   ]
  },
  {
   "cell_type": "markdown",
   "metadata": {},
   "source": [
    "## Módulo 1: Programación probabilística\n",
    "\n",
    "---"
   ]
  },
  {
   "cell_type": "markdown",
   "metadata": {},
   "source": [
    "### Introducción a la programación probabilística\n"
   ]
  },
  {
   "cell_type": "markdown",
   "metadata": {},
   "source": [
    "* La programación probabilística utiliza probabilidades y modelos probabilísticos para ejecutar cómputos.\n",
    "\n",
    "* Se utiliza en gran cantidad de campos: investigación científica, inteligencia artificial, medicina, etc.\n",
    "\n",
    "* Existen lenguajes y librerías especializadas para ejecutar este tipo de cómputo como Pyro de Uber.\n",
    "\n",
    "La diferencia entre la programación estocástica y la programación probabilística es que, en la estocástica solo introducimos **aleatoriedad** en nuestros programas para obtener resultados como las simulaciones de Montecarlo, mientras que en la probabilística estamos trabajando **directamente de forma estadística** con nuestras probabilidades, distribuciones, etc.\n"
   ]
  },
  {
   "cell_type": "markdown",
   "metadata": {},
   "source": [
    "Un ejemplo de un caso real donde podemos aplicar este tipo de programación es con Uber. La aplicación tiene que monitorizar constantemente la ubicación de sus conductores respecto a sus correspondientes clientes además, tiene que estimar el tiempo que le tomará al conductor llegar de un punto A a un punto B, cosa qué cambiará mucho dependiendo del horario, ciudad, tráfico, etc. Para analizar esta situación hay que tener en cuenta muchas variables de las que no tenemos el control entonces, usamos un modelo probabilístico donde las incorporamos.\n",
    "\n",
    "Si lo pensamos Uber tiene una monitorización en tiempo real gracias a la aplicación que están usando sus conductores. De esta manera ya tiene los datos necesarios para tratar de predecir como son las condiciones al momento de iniciar nuestro viaje utilizando la información de los conductores que están en los alrededores.\n",
    "\n",
    "<img src=\"https://i.stack.imgur.com/8qqvK.gif\" width=\"400\" height=\"500\"/>\n"
   ]
  },
  {
   "cell_type": "markdown",
   "metadata": {},
   "source": [
    "Otro caso de uso sería con los filtros de Spam, de hecho, fue una de las primeras aplicaciones que se le dio al machine learning en los 90's aún sin disponer del poder computacional que tenemos hoy en día. Entonces, ¿cómo lo hicieron? \n",
    "\n",
    "Para ello se utilizó programación probabilística, primero se creó un modelo de lo que significaba el Spam y lo fueron comparando con los reportes de Spam de los usuarios para incorporar esta evidencia y actualizar las probabilidades.\n",
    "\n",
    "<img src=\"https://miro.medium.com/max/2988/1*_igArwmR7Pj_Mu_KUGD1SQ.png\" width=\"400\" height=\"500\" />\n",
    "\n",
    "\n",
    "\n",
    "[Artículo sobre una revisión general de los modelos de detección y filtrado de correo spam existentes en la\n",
    "actualidad. ](https://www.redalyc.org/pdf/925/92503405.pdf)"
   ]
  },
  {
   "cell_type": "markdown",
   "metadata": {},
   "source": [
    "Otro campo donde se puede utilizar es en medicina. Normalmente una consulta tradicional consiste en explicar nuestros síntomas y con base a ellos el doctor crea una hipótesis, pero esto esta en cierta parte sujeto a la especificidad con la que podemos describir nuestros síntomas.\n",
    "\n",
    "Para obtener un método que sea más eficaz y más profundo en casos requeridos se utiliza un test, el cual se encarga de ayudar al diagnóstico. Un test va a tener cierto margen de error dependiendo de lo que se trate de estudiar, algunos serán más o menos 'permisivos' a obtener falsos positivos o falsos negativos dependiendo la gravedad y la urgencia por detectar el problema. Mientras sea más sensible podrá ayudarnos a detectar mejor el problema, pero también será más sensible a ciertos problemas al detectar cosas que no nos interesan o que interrumpen la prueba. \n",
    "\n",
    "¿Y cómo entra la programación probabilística aquí? Bueno, los test no suelen ser del todo exactos por lo que dependiendo de la exactitud de un test podemos llegar a conclusiones distintas y nos será de mucha ayuda hacer ciertas inferencias estadísticas a partir de los resultados obtenidos y quizá también, de resultados anteriores.\n",
    "\n",
    "<img src=\"https://algorithmia.com/blog/wp-content/uploads/2018/08/word-image.png\" width=\"400\" height=\"500\" />\n",
    "\n",
    "---"
   ]
  },
  {
   "cell_type": "markdown",
   "metadata": {},
   "source": [
    "### Probabilidad Condicional"
   ]
  },
  {
   "cell_type": "markdown",
   "metadata": {},
   "source": [
    "Recordemos que la probabilidad solo es una cantidad que nos indica la certidumbre con la que sabemos que un evento puede ocurrir. Cuando pensamos en experimentos cómo lanzar una moneda al aire, sacar una carta sin regresarla, girar una ruleta, etc. Entonces, estamos hablando de **probabilidad independiente**, es decir, los eventos no están relacionados entre sí. El alcance de este enfoque de la probabilidad es algo pequeño cuando queremos evaluar eventos como, ¿cuál es la probabilidad de A dado que ya ocurrió B? Donde nuestra acción previa esta teniendo un efecto en la probabilidad de un evento siguiente.\n",
    "\n",
    "Para expandir nuestro uso vamos a incorporar algo conocido como **Probabilidad Condicional**.\n",
    "\n",
    "---"
   ]
  },
  {
   "cell_type": "markdown",
   "metadata": {},
   "source": [
    "Empecemos con un ejemplo de probabilidad independiente:\n",
    "\n",
    "Imaginemos un caso donde lanzamos una moneda 2 veces y queremos saber la probabilidad de que ocurra un evento en especial, por ejemplo que salgan 2 cruces seguidas. Para ello podemos hacer uso de un árbol de probabilidades donde las caras se representan con la letra *H* (Heads) y las cruces se representan con la *T* (Tails).\n",
    "\n",
    "\n",
    "<img src=\"https://qiskit.org/textbook/images/whatis/whatis3.png\" width=\"400\" height=\"500\" />\n",
    "\n",
    "\n",
    " Entonces, ¿cómo calculamos la probabilidad de que salgan 2 cruces seguidas?.\n",
    " \n",
    "Sabemos que el lanzamiento de una moneda es independiente del otro lanzamiento, por lo que en ambos lanzamientos tenemos $\\frac{1}{2}$ de probabilidad de obtener cara o cruz. Así que podemos estructurar nuestra pregunta de la forma, ¿ cuál es la probabilidad de obtener una cruz en el primer lanzamiento Y una cruz en el segundo lanzamiento?\n",
    "\n",
    "Podemos ver que la preposición Y indica que estamos hablando de que ambos eventos ocurran y se puede representar con la operación *AND*. Así que podemos multiplicar la probabilidad de cada uno de los eventos como se muestra en el gif de abajo.\n",
    "\n",
    "<img src=\"https://qiskit.org/textbook/images/whatis/whatis4.gif\" width=\"500\" height=\"600\" />\n",
    "\n",
    "Esto funciona solo cuando estamos hablando de **Probabilidad Incondicional**\n",
    "\n",
    "Se podría generalizar de la siguiente forma:\n",
    "\n",
    "$$P(A~y~B) = P(A~\\cap~B) = P(A)P(B)$$\n",
    "\n",
    "---"
   ]
  },
  {
   "cell_type": "markdown",
   "metadata": {},
   "source": [
    "Ahora, ¿qué pasa cuando tenemos que tener en consideración el evento anterior?\n",
    "\n",
    "En este caso tenemos que cambiar nuestra expresión anterior por la siguiente:\n",
    "\n",
    "**$$P(A~\\cap~B)= P(A)P(B|A)$$**\n",
    "\n",
    "Donde el $P(B|A)$ se lee como *Probabilidad de B dado que ocurrió A*. \n",
    "\n",
    "Y cómo en este caso B ocurre dependiendo de si A ocurre, entonces nuestra probabilidad de obtener el evento B se puede expresar se la siguiente manera:\n",
    "\n",
    "$$P(B) = P(A)P(B|A) + P(\\neg A)P(B|\\neg A)$$\n",
    "\n",
    "Donde $(\\neg A)$ se lee como **A negada o No ocurre A**\n",
    "\n",
    "Pongamos un ejemplo para que sea más claro. Pensemos en un test médico y asignemos **A** como el evento de que un test de cáncer salga positivo y **B** como el evento de que dicha persona en efecto tenga cáncer.\n",
    "\n",
    "¿Cuál es la probabilidad de que alguien tenga cáncer?\n",
    "\n",
    "$$P(cáncer) = P(Positivo)P(cáncer|Positivo) + P(Negativo)P(cáncer|Negativo)$$\n",
    "\n",
    "Podemos ver que para obtener la probabilidad individual de B estamos sumando la probabilidad de B dada que ocurra y no ocurra A ya que en ambos casos seguimos teniendo una probabilidad de que B ocurra. \n",
    "\n",
    "Por ejemplo, ¿cual es la probabilidad de que pase un examen dependiendo si estudié o no? Puede que la probabilidad de que pase sin estudiar sea muy pequeña pero aun así sea diferente de 0 y si estudié la probabilidad será mucho más grande. Por lo tanto, si queremos saber cual es la probabilidad de que pase el examen  tendremos que sumar la probabilidad de que lo pase habiendo estudiado más la probabilidad de que lo pase sin haber estudiado. En este caso pasar el examen es el evento **B** y estudiar es el evento **A**.\n",
    "\n",
    "---"
   ]
  },
  {
   "cell_type": "markdown",
   "metadata": {},
   "source": [
    "### Teorema de Bayes\n",
    "\n",
    "El razonamiento detrás del teorema está en que nos permite incorporar evidencia para actualizar nuestras creencias previas sobre algo y actualizar la forma en la que aproximamos ciertos resultados.\n",
    "\n",
    "Supongamos que tenemos una hipótesis **H** y un evento **E**, y queremos saber la probabilidad de que nuestra hipótesis se cumpla dado que ocurrió **E**. Entonces, el Teorema de Bayes expresa lo siguiete:\n",
    "\n",
    "\n",
    "$$P(H|E) = \\frac{P(H)*P(E|H)}{P(E)}$$\n",
    "\n",
    "---"
   ]
  },
  {
   "cell_type": "markdown",
   "metadata": {},
   "source": [
    "*Expliquemos el teorema con un ejemplo.*\n",
    "\n",
    "> Imaginemos el concepto de una persona que es muy tímida y retraída, que se interesa muy poco en relacionarse con las demás personas. Un alma mansa y ordenada, que le gusta tener todo en orden y estructura con una pasión por los detalles.\n",
    "\n",
    "Ahora, partiendo de esta descripción, ¿qué sería más probable, que esta persona sea un bibliotecario o que sea un granjero?\n",
    "\n",
    "\n",
    "<img src=\"https://i.imgur.com/wK1D2MW.png\" width=\"500\" height=\"600\"/>\n",
    "\n",
    "<img src=\"https://i.imgur.com/HuWF21G.png\" width=\"500\" height=\"600\"/>\n",
    "\n",
    "\n",
    "Nuestra intuición y creencias podrían decirnos que ese es un comportamiento que asociamos más a un bibliotecario ya que cumple con el típico estereotipo de una persona reservada que hace ese tipo de labores.\n",
    "\n",
    "Lo que no estamos teniendo en cuenta es que, en la realidad, la población de granjeros es mucho más grande que la población de bibliotecarios. Por ejemplo, hace unos años la proporción de granjeros y bibliotecarios en los Estados Unidos era de 20 a 1.\n",
    "\n",
    "<img src=\"https://i.imgur.com/dZbIsmY.png\" width=\"400\" height=\"500\"/>\n",
    "\n",
    "\n",
    "Ahora, vamos a construir una representación geométrica de esto manteniendo nuestra proporción de 20 a 1. (La proporción de las poblaciones totales)\n",
    "\n",
    "<img src=\"https://i.imgur.com/QLWkp7o.png\" width=\"400\" height=\"500\"/>\n",
    "\n",
    "\n",
    "Y según nuestra intuición anterior, podríamos decir que nuestro modelo de la persona coincide un 40% de las veces en la población de bibliotecarios y un 20% en la población de granjeros. (Ya que por eso creíamos que era más probable de que fuera un bibliotecario).\n",
    "\n",
    "<img src=\"https://i.imgur.com/hNRSTPJ.png\" width=\"500\" height=\"600\"/>\n",
    "\n",
    "\n",
    "\n",
    "Así que para saber la **probabilidad de que alguien sea un bibliotecario dada la descripción previa** se podría expresar cómo\n",
    "\n",
    "$$P(Bibliotecario|Descripción)= \\frac{4}{4+20} \\approx 16.7\\%$$\n",
    "\n",
    "Podemos darnos cuenta de que a pesar de que creamos que es el doble de probable de que sea un bibliotecario a que sea un granjero, la cantidad de individuos de cada población nos dice que aún así será una mayor cantidad de personas de la población de granjeros. Por ello decimos que estamos actualizando nuestras creencias previas, porqué después de esto tendremos a pensar que realmente influye nuestra intuición sesgada al hacer selección sobre una población y que tendremos que incorporar la cantidad de individuos de cada una y reajustar las proporciones.\n",
    "\n",
    "Podemos realizar una visualización geométrica de las proporciones de la siguiente forma:\n",
    "\n",
    "<img src=\"https://i.imgur.com/4xcOonl.png\"  width=\"400\" height=\"200\"/>\n",
    "\n",
    "\n",
    "Y matemáticamente se representa de esta forma que después analizaremos a profundidad\n",
    "\n",
    "$$P(A|B) = \\frac{P(B|A)P(A)}{P(B)}$$\n",
    "\n",
    "---"
   ]
  },
  {
   "cell_type": "markdown",
   "metadata": {},
   "source": [
    "###  Entendiendo el Teorema de Bayes\n"
   ]
  },
  {
   "cell_type": "markdown",
   "metadata": {},
   "source": [
    "\n",
    "Retomando nuestro ejemplo anterior de la probabilidad de que ocurra nuestra Hipótesis dado un Evento, podemos escribirlo de la siguiente forma.\n",
    "\n",
    "$$\\begin{align}\n",
    "    P(H|E) &= \\frac{P(H~\\text{AND}~E)}{P(E)} = \\frac{P(H)P(E|H)}{P(E)}\\\\ \\\\\n",
    "    P(H|E) &= \\frac{P(H)P(E|H)}{P(H)P(E|H) + P(\\neg{H})P(E|\\neg{H})}\n",
    " \\end{align}$$\n",
    "\n",
    "Ahora pongamosle nombre a cada una de las partes: \n",
    "\n",
    "* P(H) = Prior: Conocimiento previo o hipótesis antes de recolectar evidencia.\n",
    "\n",
    "* P(E|H) = Likelihood: Certidumbre de que ocurra un evento condicionado por otro evento.\n",
    "\n",
    "* P(H) = Posterior: Actualización de las creencias gracias a los datos.\n",
    "\n",
    "Podemos ver entonces a la probabilidad no solo cómo un campo basado en el estudio del azar, sino también de proporciones. De esta forma podremos recordar con más facilidad el Teorema de Bayes recordando la imagen de abajo y deduciendo la ecuación a partir de esa idea.\n",
    "\n",
    "<img src=\"https://i.imgur.com/kiSbcMV.png\"  width=\"500\" height=\"600\"/>\n",
    "\n",
    "NOTA: El nombre de ese tipo de diagramas es \"eicosograma\" or \"eikosogram\".\n"
   ]
  },
  {
   "cell_type": "markdown",
   "metadata": {},
   "source": [
    "#### Ejemplos:\n"
   ]
  },
  {
   "cell_type": "markdown",
   "metadata": {},
   "source": [
    "##### Ejemplo 1:"
   ]
  },
  {
   "cell_type": "markdown",
   "metadata": {},
   "source": [
    "\"Linda es una mujer de 31 años, soltera, de mente abierta, y muy brillante y se especializó en filosofía. Desde que era estudiante se interesó en estudiar los diferentes problemas de discriminación en el mundo y sobre cómo hacer justicia social, y además, participó en demostraciones anti-nucleares.\"\n",
    "\n",
    "**¿Qué es más probable?**\n",
    "\n",
    "1. **Que ella trabaje en un banco.**\n",
    "2. **Que ella trabaje en un banco y sea activista en un movimiento feminista.**\n",
    "\n",
    "Si crees que la respuesta es la número 2 significa que has caído en una trmapa Bayesiana. Y no sólo tu, en realidad, alrededor del 85% de las personas caen en este tipo de trampas lógicas. \n",
    "\n",
    "Lo que esta pasando aquí es de qué estamos usando nuestra información anterior para buscar validar una de las acciones que aparecen en las opciones.\n",
    "\n",
    "Lo que no estamos teniendo en cuenta es que podemos considerar a las mujeres que trabajan en un banco como un conjunto o una población total, y por lo tanto, considerar a las mujeres que trabajan en un banco **y además son activistas en un movimiento feminista** cómo un subconjunto del mismo. \n",
    "\n",
    "Es decir, la probabilidad de la segunda opción tendría que ser mucho más pequeña ya que se trata de una fracción del conjunto de todas las mujeres que trabajan en un banco, esta idea se ilustra en la imagen de abajo:\n",
    "\n",
    "<img src=\"https://i.imgur.com/7R0NT7s.png\" alt=\"Drawing\" width=\"500\" height=\"600\"/>\n",
    "\n",
    "---"
   ]
  },
  {
   "cell_type": "markdown",
   "metadata": {},
   "source": [
    "##### Ejemplo 2:"
   ]
  },
  {
   "cell_type": "markdown",
   "metadata": {},
   "source": [
    "\"Un taxi estuvo involucrado en un atropello durante la noche y se escapó. En la ciudad operan dos compañías de taxis, los taxis verdes y los azules. Y disponemos de la siguiente información\n",
    "\n",
    "- a) El 85% de los taxis son Verdes y el 15% son azules.\n",
    "\n",
    "- b) Un Testigo identificó al taxi Azul como el causante del atropello. La corte realizó las pruebas de confiabilidad del testigo bajo las mismas circunstancias que existían la noche del accidente y concluyeron que **el testigo identificaba correctamente uno de los dos colores el 80% de las veces y fallaba el 20% de las veces\".\n",
    "\n",
    "**¿Cuál es la probabilidad de qué el taxi involucrado en el accidente fuera Azul en lugar de Verde?** (La distribución de los taxis en la ciudad se considera irrelevante).\n",
    "\n",
    "**SOLUCIÓN**: Expresemos nuestro problema de forma que tenga sentido el uso del teorema de Bayes y la probabilidad condicional.\n",
    "\n",
    "> ¿Cuál es la probabilidad de que el taxi sea azul dado que el testigo afirmó que es azul?\n",
    "\n",
    "**Datos**: \n",
    "* Del total de taxis de la ciudad 85% son Verdes y el 15% Azules.\n",
    "* El testigo acierta el 80% de las veces (es azul) y falla el 20% (era verde).\n",
    "\n",
    "**Eikosograma**: \n",
    "<img src=\"https://i.imgur.com/rORvnH0.png\" alt=\"Drawing\" width=\"500\" height=\"600\"/>\n",
    "\n",
    "**Aplicando el Teorema**:\n",
    "\n",
    "Diremos que **H** es nuestra hipótesis donde el auto es azul y **E** representa la certeza de que el testigo este en lo correcto. \n",
    "\n",
    "$$ P(\\text{Taxi sea azul}|\\text{El testigo dijo que es azul}) = P(H|E) $$\n",
    "\n",
    "\n",
    "\n",
    "$$ \\begin{align}\n",
    " P(H|E) =&\\frac{P(H)P(E|H)}{P(E)} = \\frac{0.15*0.8}{(0.15*0.8)+(0.85*0.2)}\\\\\n",
    "P(H|E)\\approx & {~41.4}\\%\n",
    " \\end{align}$$\n",
    " \n",
    " ---\n"
   ]
  },
  {
   "cell_type": "markdown",
   "metadata": {},
   "source": [
    "##### Ejemplo 3: "
   ]
  },
  {
   "cell_type": "markdown",
   "metadata": {},
   "source": [
    "Una fábrica de celulares dispone de dos máquinas A y B que laboran el **60%** y el **40%** de la producción.\n",
    "El porcentaje de celulares defectuosos que produce cada máquina es del **5%** y del **10%** respectivamente.\n",
    "\n",
    ">**¿Cuál es la probabilidad de que el celular haya sido fabricado por la máquina A, sabiendo que es defectuoso?**\n",
    "\n",
    "Podemos imaginarnos un árbol de probabilidades de la siguiente forma:\n",
    "\n",
    "<img src=\"https://i.imgur.com/Jr1ylS7.png\" alt=\"Drawing\" width=\"500\" height=\"600\"/>\n",
    "\n",
    "Escribamos el problema de una forma más legible matemáticamente:\n",
    "\n",
    "$$ \\begin{align}\n",
    "    P(A|D) &= \\frac{P(A)P(D|A)}{P(D)}\\\\\n",
    "           &= \\frac{P(A)P(D|A)}{P(A)P(D|A) + P(\\neg{A})P(D|\\neg{A})}\\\\\n",
    "           &= \\frac{(.60)(.05)}{(.60*.05)+(.40*.10)} \\\\\n",
    "           &= \\frac{3}{7} \\approx {0.428571}   \n",
    "    \\end{align}$$\n",
    "\n"
   ]
  },
  {
   "cell_type": "markdown",
   "metadata": {},
   "source": [
    "#### Enlaces de videos o artículos\n"
   ]
  },
  {
   "cell_type": "markdown",
   "metadata": {},
   "source": [
    "\n",
    "[Video que explica el teorema de bayes](https://www.youtube.com/watch?v=HZGCoVF3YvM&t=393s)\n",
    "\n",
    "[Cómo escapar de la Trampa Bayesiana](https://www.youtube.com/watch?v=D7KKlC0LOyw)\n",
    "\n",
    "[Artículo: Probability, problems and paradoxes pictured by eikosograms](https://www.math.uwaterloo.ca/~rwoldfor/papers/eikosograms/examples/paper.pdf)"
   ]
  },
  {
   "cell_type": "markdown",
   "metadata": {},
   "source": [
    "### Análisis de síntomas"
   ]
  },
  {
   "cell_type": "markdown",
   "metadata": {},
   "source": [
    "El Teorema de Bayes tiene una gran cantidad de aplicaciones y una de ellas es en diagnósticos médicos, en donde a partir de la certidumbre de las pruebas y de la probabilidad de que se presente X enfermedad, podremos obtener un resultado mucho más certero sobre el estado de un paciente.\n",
    "\n",
    "Veamos un ejemplo con la siguiente tabla:\n",
    "\n",
    "<img src=\"https://i.imgur.com/7lXaJg6.png\" alt=\"Drawing\" width=\"500\" height=\"600\"/>\n",
    "\n",
    "A partir de esta información vamos a hacer un programa para determinar la probabilidad de que una persona tenga la enfermedad dado que tiene un síntoma.\n"
   ]
  },
  {
   "cell_type": "markdown",
   "metadata": {},
   "source": [
    "Crearemos el programa correspondiente:"
   ]
  },
  {
   "cell_type": "code",
   "execution_count": 3,
   "metadata": {},
   "outputs": [
    {
     "name": "stdout",
     "output_type": "stream",
     "text": [
      "0.09090909090909091\n"
     ]
    }
   ],
   "source": [
    "def calc_bayes(prior_A, prob_B_dado_A, prob_B): #Definimos el terorema de Bayes en una función\n",
    "    return ( (prior_A * prob_B_dado_A) / prob_B )\n",
    "\n",
    "\n",
    "if __name__ == '__main__': #Definimos la entrada del programa para correrlo en la consola\n",
    "\n",
    "    # Usando la tablita del notebook\n",
    "    # https://i.imgur.com/7lXaJg6.pnghttps://i.imgur.com/7lXaJg6.png\n",
    "\n",
    "    prob_cancer = 1 / 100000\n",
    "    prob_sintoma_dado_cancer = 1 #Ya tienes cancer, prob de tener síntomas\n",
    "    prob_sintoma_dado_no_cancer = 10 / 99999\n",
    "    prob_no_cancer = 1 - prob_cancer\n",
    "\n",
    "    prob_sintoma = (prob_sintoma_dado_cancer * prob_cancer) + (prob_sintoma_dado_no_cancer * prob_no_cancer)\n",
    "\n",
    "    #Ejecutamos\n",
    "    prob_cancer_dado_sintoma = calc_bayes(prob_cancer, prob_sintoma_dado_cancer, prob_sintoma)\n",
    "    print(prob_cancer_dado_sintoma)"
   ]
  },
  {
   "cell_type": "markdown",
   "metadata": {},
   "source": [
    "---"
   ]
  },
  {
   "cell_type": "markdown",
   "metadata": {},
   "source": [
    "### Aplicaciones del Teorema de Bayes"
   ]
  },
  {
   "cell_type": "markdown",
   "metadata": {},
   "source": [
    "El teorema de Bayes es uno de los mecanismos matemáticos más importantes de la actualidad. A grandes trasgos, nos permite medir nuestra certidumbre con respecto a un suceso tomando en cuenta el conocimiento previo y la evidencia que tenemos a nuestra disposición. El Teorema de Bayes es el motor conceptual que alimenta mucho de nuestro mundo moderno."
   ]
  },
  {
   "cell_type": "markdown",
   "metadata": {},
   "source": [
    "#### Turing y el código enigma de los Nazis"
   ]
  },
  {
   "cell_type": "markdown",
   "metadata": {},
   "source": [
    "Alan Turing es uno de los padres del cómputo moderno; pocos saben que fue gracias a él que los aliados pudieron tener una ventaja decisiva cuando Turing logró descifrar el código enigma que encriptaba todas la comunicaciones nazis; pero aún menos saben que para romper este código se utilizó el Teorema de Bayes.\n",
    "\n",
    "Los alemanes comenzaron a utilizar la máquina de la imagen para encriptar sus comunicaciones. Esta máquina, parecida a una máquina de escribir convencional y de nombre Enigma, estaba compuesta por varios rotores que iban girando a medida que se introducía el mensaje de entrada. Estos giros hacían que a cada letra de entrada del mensaje original le correspondiera una letra de salida de manera que, al ir rotando a cada pulsación, la misma letra de entrada no tenía siempre la misma letra de salida. Es decir, posibilitaban un código variable. Adicionalmente, los rotores se colocaban en la máquina manualmente en una posición concreta y ese, junto con algunos datos más, pero en ningún caso con alguna clave. Esta era la única configuración que se necesitaba compartir entre los poseedores de las máquinas. Dicha configuración inicial era cambiada con frecuencia. Este funcionamiento hacía imposible romper la encriptación usando métodos de fuerza bruta ya que existían millones de posibilidades y relativamente poco tiempo para el análisis de cada ciclo.\n",
    "\n",
    "Lo que hizo Turing fue aplicar el Teorema para descifrar un segmento de un mensaje, calcular las probabilidades iniciales y actualizar las probabilidades de que el mensaje era correcto cuando nueva evidencia (pistas) era presentada."
   ]
  },
  {
   "cell_type": "markdown",
   "metadata": {},
   "source": [
    "#### Finanzas"
   ]
  },
  {
   "cell_type": "markdown",
   "metadata": {},
   "source": [
    "Una de las decisiones más difíciles cuando estás manejando un portafolio de inversión es determinar si un instrumento financiero (acciones, valores, bonos, etc.) se va a apreciar en el futuro y por cuánto, o si, por el contrario se debe vender el instrumento. Los portafolios managers más exitosos utilizan el Teorema de Bayes para analizar sus portafolios.\n",
    "\n",
    "En pocas palabras, puedes determinar las probabilidades iniciales basándote en el rendimiento previo de tu portafolio o en el rendimiento de toda la bolsa y luego añadir evidencia (estados financieros, proyecciones del mercado, etc.) para tener una mayor confianza en las decisiones de compra y venta."
   ]
  },
  {
   "cell_type": "markdown",
   "metadata": {},
   "source": [
    "#### Derecho"
   ]
  },
  {
   "cell_type": "markdown",
   "metadata": {},
   "source": [
    "El derecho es uno de los campos más fértiles para aplicar pensamiento bayesiano. Cuando un abogado quiere defender a su cliente, puede comenzar a evaluar una probabilidad de ganar (basada en su experiencia previa, o en estadísticas sobre el número de juicios y condenados con respecto del tema legal que competa) y actualiza su probabilidad conforme vayan sucediendo los eventos del proceso jurisdiccional.\n",
    "\n",
    "Cada nueva notificación, cada prueba y evidencia que encuentre, etc. Sirve para actualizar la confianza del abogado."
   ]
  },
  {
   "cell_type": "markdown",
   "metadata": {},
   "source": [
    "#### Inteligencia artificial "
   ]
  },
  {
   "cell_type": "markdown",
   "metadata": {},
   "source": [
    "El Teorema de Bayes es central en el desarrollo de sistemas modernos de inteligencia artificial. Cuando un coche autónomo se encuentra navegando las calles, tiene que identificar todos los objetos que se encuentran en su \"campo de visión\" y determinar cuál es la probabilidad de tener una colisión. Esta probabilidad se actualiza con cada movimiento de cada objeto y con el propio movimiento del vehículo autónomo. Esta constante actualización de probabilidades es lo que permite que los vehículos autónomos tomen decisiones acertadas y eviten accidentes.\n",
    "\n",
    "En esta rama tenemos otra aplicaciones cómo por ejemplo, filtros de spam, reconocimiento de voz, motores de búsqueda, análisis de riesgo crediticio, ofertas automáticas, etc.\n",
    "\n",
    "> \"Cuando los hechos cambian, yo cambio mi opinión\" - John Maynard Keynes.\n",
    "\n",
    "---"
   ]
  },
  {
   "cell_type": "markdown",
   "metadata": {},
   "source": [
    "## Módulo 2: Mentiras estadísticas"
   ]
  },
  {
   "cell_type": "markdown",
   "metadata": {},
   "source": [
    "### Garage in, garbage out (GIGO)"
   ]
  },
  {
   "cell_type": "markdown",
   "metadata": {},
   "source": [
    "A veces nuestros programas pueden arrojarnos errores a pesar de que nuestro programa esté bien estructurado.\n",
    "Podemos imaginar una jerarquía imaginaría de los posibles bugs que podríamos tener dentro de nuestros programas.\n",
    "\n",
    "   1. Errores de sintaxis.\n",
    "   2. Errores de lógica.\n",
    "   3. Errores del diseño o pensamiento aplicado al programa o algoritmo.\n",
    "   \n",
    "Aquí vamos a tratar de detectar los terceros. Para ello hablaremos del Garbage in, garbage out. Es decir, basura adentro, basura afuera. Si desde un inicio los datos y la forma en que los obtuvimos; de nuestro programa están mal, entonces nos arrojará un output incorrecto.\n",
    "\n",
    "Recordemos algunas cosas:\n",
    "\n",
    "   * La calidad de nuestros datos es igual de fundamental que la precisión de nuestros cómputos.\n",
    "   * Cuando los datos son errados, aunque tengamos un cómputo prístino (Que se mantiene inalterado, puro, tal como era en su forma primera u original) nuestros resultados serán erróneos.\n",
    "   * En pocas palabras: con datos errados las conclusiones serán erradas.\n",
    " "
   ]
  },
  {
   "cell_type": "markdown",
   "metadata": {},
   "source": [
    "### Imágenes engañosas"
   ]
  },
  {
   "cell_type": "markdown",
   "metadata": {},
   "source": [
    "Un error muy común es extrapolar anticipadamente conclusiones después de ver una imagen. \n",
    "\n",
    "Las visualizaciones son muy importantes para entender un conjunto de datos. Sin embargo, cuando jugamos con las escalas de estás imágenes (gráficas) podemos llegar a conclusiones incorrectas. Por esta razón no debemos confiar en gráficas sin escalas o etiquetas."
   ]
  },
  {
   "cell_type": "markdown",
   "metadata": {},
   "source": [
    "Pongamos de ejemplo la siguiente imagen\n",
    "\n",
    "<img src=\"https://i.imgur.com/LubmSMC.png\" alt=\"Drawing\" width=\"500\" height=\"600\"/>\n",
    "\n",
    "Podemos ver que la gráfica de la izquierda hace parecer que existe una diferencia mucho más grande entre ambos equipos, pero lo importante aquí es que la gráfica de la izquierda tiene una escala diferente y esta empezando en 400 para dar saltos de 50 en 50, mientras que la gráfica de la derecha comienza en 0 y da saltos de 100 en 100.\n",
    "\n",
    "Aunque en este caso parece muy evidente el error, la realidad es que se suelen utilizar muchas veces este tipo de errores al propósito para expresar información incorrecta o con intención de potenciar una diferencia que realmente no es tan grande. Por ejemplo, en gráficas de rendimiento de hardware, gráficas de algún político para manipular de cierta forma el sentido de la información, gráficas del avance o rendimiento de un proyecto, noticieros, periódicos,  etc."
   ]
  },
  {
   "cell_type": "markdown",
   "metadata": {},
   "source": [
    "[Paradoja de Simpson](https://www.youtube.com/watch?v=hpbXkrm68rI): Paradoja estadística y falacia ecológica donde se pueden sacar resultados aparentemente contradictorios de los mismos datos dependiendo en cómo se agrupen. La paradoja puede aparecer en estudios clínicos, exámenes estudiantiles, y un montón de sitios más."
   ]
  },
  {
   "cell_type": "markdown",
   "metadata": {},
   "source": [
    "### Cum Hoc Ergo Propter Hoc"
   ]
  },
  {
   "cell_type": "markdown",
   "metadata": {},
   "source": [
    "* Dos variables están positivamente correlacionadas cuando se mueven en la misma dirección y negativamente correlacionadas cuando se mueven en direcciones opuestas.\n",
    "* Correlación no implica causalidad, esta correlación de mide de -1 a 1.\n",
    "* Pueden existir variables escondidas o no contempladas que generen la correlación.\n",
    "* **Después de esto, eso; entonces a consecuencia de esto, eso**.\n",
    "\n",
    "La forma de escapar de este error es explorar la mayor cantidad de causas posibles y la posible relación entre cada una de ellas.\n",
    "\n",
    "> En el campo de las finanzas específicamente en la **teoría de portafolios** al analizar el comportamiento de acciones individuales y su relación con otras acciones o índices, podemos encontrar que usualmente están fuertemente **correlacionadas** en determinados periodos de tiempo, lo que nos podría llevar a tomar decisiones equivocadas en la composición de nuestro portafolio, pero al ampliar nuestro horizonte temporal podemos encontrar que **frecuentemente no existe causalidad** entre el comportamiento de las acciones analizadas, **sino que en ese periodo de tiempo se dio la casualidad de que ambas acciones se vieron afectadas por una variable macro-económica más relevante**, por lo que para resolver el problema se hace un análisis fundamental de los factores que pudieran estar afectando al portafolio y **se ponderan estos factores** para entender la magnitud en que estas variables afectan a las acciones individuales, de esta manera podemos pronosticar el comportamiento futuro de nuestro portafolio no solo basándonos en un indicador sino en una serie de factores que si pueden ser causa del comportamiento.\n",
    "Como dato adicional en los portafolio no solo se buscan correlaciones fuertes cercanas a 1, sino que como método de cobertura también se buscan correlaciones negativas cercanas a -1 para que si una acción llega a perder valor, está pérdida se compense con la ganancia de la acción con comportamiento contrario. - Comentario de clase de Jorge Díaz Lara"
   ]
  },
  {
   "cell_type": "markdown",
   "metadata": {},
   "source": [
    "Un ejemplo evidente de que la correlación no implica causalidad, pero posiblemente se deban al mismo factor. Por ejemplo, un aumento de temperatura en la zona.\n",
    "\n",
    " <img src=\"https://pbs.twimg.com/media/EDFyOM6XsAAsQUp.jpg\" alt=\"Drawing\" width=\"500\" height=\"600\" />   \n",
    " \n",
    "[Página con correlaciones absurdas](http://www.tylervigen.com/spurious-correlations)"
   ]
  },
  {
   "cell_type": "markdown",
   "metadata": {},
   "source": [
    "### Prejuicio en el muestreo"
   ]
  },
  {
   "cell_type": "markdown",
   "metadata": {},
   "source": [
    "Recordemos que al hacer inferencias estadísticas válidas necesitamos de muestras aleatorias y representativas. Ya que al no tenerlas, estaremos sesgados a una fracción de la población que comparte cierto comportamiento o propiedad y nos traerá errores al realizar la inferencia.\n",
    "\n",
    "De aquí es donde sale el prejuicio al momento de hacer el muestreo\n",
    "\n",
    "* Para que un muestreo pueda servir como base para la inferencia estadística tiene que ser aleatorio y representativo.\n",
    "* El prejuicio en el muestreo elimina la representatividad de las muestras.\n",
    "* A veces conseguir muestras es difícil, por lo que se utiliza la población de más fácil acceso (caso estudios universitarios).\n",
    "\n",
    "El sesgo muestral implica pre o post selección de muestras que pueden incluir preferencia o excluir cierto tipo de resultado. Normalmente esto hace que medidas de significación estadística parezcan más fuerte de lo que son. Pero también es posible causar **artefactos totalmente ilusorios**. El sesgo muestral puede ser el resultado de fraudes informativos o científicos que manipulan directamente le información, pero más a menudo es inconsciente, o bien, debido a los sesgos en los instrumentos utilizados para la observación.\n",
    "\n",
    "Para algo muy similar al manipular o contrariar opiniones a través de redes sociales. Cuando se hace una publicación que expresa cierta opinión usualmente las personas que van a reaccionar positivamente o que van a compartir dicha publicación serán personas que están de acuerdo con las ideas expresadas en el, y al final puede darles el sesgo de que su opinión es la correcta y que todos la aceptan cuando el realidad solo se están basando en una cierta parte de la población que comparte las mismas ideas que ellos como si estuvieran basando sus inferencias en una burbuja de personas que mayoritariamente están de acuerdo con ellas. De esta forma es como se han podido incluso manipular elecciones presidenciales como en Estados Unidos en 2016."
   ]
  },
  {
   "cell_type": "markdown",
   "metadata": {},
   "source": [
    "### Falacia del francotirador de Texas"
   ]
  },
  {
   "cell_type": "markdown",
   "metadata": {},
   "source": [
    "* Esta falacia básicamente consiste en no tomar en consideración el papel de la aleatoriedad.\n",
    "* También sucede cuando uno se logra enfocar en las similitudes e ignora las diferencias.\n",
    "* Puede pasarnos al recolectar muchos datos sin tener una hipótesis previa y tratar de buscar patrones en los datos cuando quizá no existen o son patrones que no tienen nada que ver con nuestro objetivo."
   ]
  },
  {
   "attachments": {},
   "cell_type": "markdown",
   "metadata": {},
   "source": [
    "La falacia del francotirador de Texas trata sobre una persona que primero dispara a una pared y una vez tiene la marca de sus disparos, pinta la diana haciendo creer que atinó al centro. \n",
    "\n",
    " <img src=\"https://i.imgur.com/hGPLW2r.png\" alt=\"Drawing\" style=\"width: 450x;\"/>   \n",
    " \n",
    "Puede parecer muy bobo, pero es muy fácil caer en esta falacia. Especialmente si estamos trabajando en Data Science (**adecuamos la hipótesis a los datos y no tomamos en cuenta la aleatoriedad**).\n",
    "\n",
    "[Video sobre la falacia del francotirador de Texas](https://www.youtube.com/watch?v=_tcBsryYd6s)"
   ]
  },
  {
   "cell_type": "markdown",
   "metadata": {},
   "source": [
    "### Porcentajes confusos"
   ]
  },
  {
   "cell_type": "markdown",
   "metadata": {},
   "source": [
    "¿En que momento podemos llegar a \"mentir\" con nuestros números?\n",
    "\n",
    "* Cuando no sabemos la cuenta total de la cual se obtiene un porcentaje.\n",
    "* Cuando no conocemos el contexto.\n",
    "* Los porcentajes, en vacio, no significan mucho."
   ]
  },
  {
   "cell_type": "markdown",
   "metadata": {},
   "source": [
    "Veamos un ejemplo:\n",
    "\n",
    "* Escuela A incrementó su rendimiento un 25%\n",
    "* Escuela B incrementó su rendimiento un 10%\n",
    "* Escuela C incrementó su rendimiento en 5%\n",
    "\n",
    "No podemos adelantarnos y concluir que la escuela A es la mejor, ya que no sabemos ni siquiera, cómo se obtuvo el rendimiento, cuántos alumnos tienen, cómo se midió, cuales fueron los números anteriores del rendimiento, etc.\n",
    "\n",
    "Podemos visualizar los datos en la siguiente tabla\n",
    "\n",
    "<img src=\"https://i.imgur.com/W58NcGG.png\" alt=\"Drawing\" style=\"width: 450x;\"/>  \n",
    " \n",
    "Los datos no mentían en el sentido estricto, por que realmente hubo ese incremento en cada una de las escuelas. El problema esta en que estamos partiendo de números muy distintos para cada caso, donde en realidad, las 3 escuelas tuvieron el mismo incremento en relación con el año anterior, pero la escuela A siempre se ha mantenido en uno de los lugares más bajos de rendimiento, la escuela B se mantiene a la mitad de la escala y la escuela C destaca por mucho sobre esas 2."
   ]
  },
  {
   "cell_type": "markdown",
   "metadata": {},
   "source": [
    "Veamos otro ejemplo\n",
    "\n",
    "* En 1970, 12.5 millones de jóvenes vivían con sus padres.\n",
    "* En 2015 esta cifra se incrementó a 18.6 millones.\n",
    "* ¿Esto representa un incremento del 48%?\n",
    "\n",
    "De nuevo, no contamos con la información y el contexto suficiente para llegar a una conclusión clara. No sabemos, por ejemplo, cuanto creció la población de jóvenes de 1970 a 2015.\n",
    "\n",
    " <img src=\"https://i.imgur.com/l2nIsXi.png\" alt=\"Drawing\" style=\"width: 450x;\"/>  \n",
    " \n",
    "Podemos ver que si hubo un aumento, pero del .68%."
   ]
  },
  {
   "cell_type": "markdown",
   "metadata": {},
   "source": [
    "### Falacia de regresión"
   ]
  },
  {
   "cell_type": "markdown",
   "metadata": {},
   "source": [
    "* Muchos eventos fluctúan naturalmente, por ejemplo, la temperatura promedio de una ciudad, el rendimiento de un atleta, los rendimientos de un portafolio de inversión, etc.\n",
    "* Cuando algo fluctúa y se aplican medidas correctivas se puede creer que existe un vínculo de causalidad en lugar de una regresión a la media."
   ]
  },
  {
   "cell_type": "code",
   "execution_count": null,
   "metadata": {},
   "outputs": [],
   "source": []
  }
 ],
 "metadata": {
  "kernelspec": {
   "display_name": "Python 3",
   "language": "python",
   "name": "python3"
  },
  "language_info": {
   "codemirror_mode": {
    "name": "ipython",
    "version": 3
   },
   "file_extension": ".py",
   "mimetype": "text/x-python",
   "name": "python",
   "nbconvert_exporter": "python",
   "pygments_lexer": "ipython3",
   "version": "3.8.3"
  },
  "toc": {
   "base_numbering": "",
   "nav_menu": {},
   "number_sections": false,
   "sideBar": true,
   "skip_h1_title": false,
   "title_cell": "Tabla de contenidos",
   "title_sidebar": "Contents",
   "toc_cell": true,
   "toc_position": {
    "height": "calc(100% - 180px)",
    "left": "10px",
    "top": "150px",
    "width": "125.458px"
   },
   "toc_section_display": true,
   "toc_window_display": false
  }
 },
 "nbformat": 4,
 "nbformat_minor": 4
}
