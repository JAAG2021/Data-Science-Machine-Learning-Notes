{
 "cells": [
  {
   "cell_type": "markdown",
   "metadata": {
    "toc": true
   },
   "source": [
    "<h1>Tabla de contenidos<span class=\"tocSkip\"></span></h1>\n",
    "<div class=\"toc\"><ul class=\"toc-item\"><li><span><a href=\"#Curso-de-introducción-al-Pensamiento-Probabilístico.\" data-toc-modified-id=\"Curso-de-introducción-al-Pensamiento-Probabilístico.-0\">Curso de introducción al Pensamiento Probabilístico.</a></span><ul class=\"toc-item\"><li><span><a href=\"#Módulo-1:-Programación-probabilística\" data-toc-modified-id=\"Módulo-1:-Programación-probabilística-0.1\">Módulo 1: Programación probabilística</a></span><ul class=\"toc-item\"><li><span><a href=\"#Introducción-a-la-programación-probabilística\" data-toc-modified-id=\"Introducción-a-la-programación-probabilística-0.1.1\">Introducción a la programación probabilística</a></span></li><li><span><a href=\"#Probabilidad-Condicional\" data-toc-modified-id=\"Probabilidad-Condicional-0.1.2\">Probabilidad Condicional</a></span></li><li><span><a href=\"#Teorema-de-Bayes\" data-toc-modified-id=\"Teorema-de-Bayes-0.1.3\">Teorema de Bayes</a></span></li><li><span><a href=\"#Entendiendo-el-Teorema-de-Bayes\" data-toc-modified-id=\"Entendiendo-el-Teorema-de-Bayes-0.1.4\">Entendiendo el Teorema de Bayes</a></span><ul class=\"toc-item\"><li><span><a href=\"#Ejemplos:\" data-toc-modified-id=\"Ejemplos:-0.1.4.1\">Ejemplos:</a></span></li><li><span><a href=\"#Enlaces-de-videos-o-artículos\" data-toc-modified-id=\"Enlaces-de-videos-o-artículos-0.1.4.2\">Enlaces de videos o artículos</a></span></li></ul></li></ul></li></ul></li></ul></div>"
   ]
  },
  {
   "cell_type": "markdown",
   "metadata": {},
   "source": [
    "---"
   ]
  },
  {
   "cell_type": "markdown",
   "metadata": {},
   "source": [
    "# Curso de introducción al Pensamiento Probabilístico.\n",
    "---"
   ]
  },
  {
   "cell_type": "markdown",
   "metadata": {},
   "source": [
    "## Módulo 1: Programación probabilística\n",
    "\n",
    "---"
   ]
  },
  {
   "cell_type": "markdown",
   "metadata": {},
   "source": [
    "### Introducción a la programación probabilística\n"
   ]
  },
  {
   "cell_type": "markdown",
   "metadata": {},
   "source": [
    "* La programación probabilística utiliza probabilidades y modelos probabilísticos para ejecutar cómputos.\n",
    "\n",
    "* Se utiliza en gran cantidad de campos: investigación científica, inteligencia artificial, medicina, etc.\n",
    "\n",
    "* Existen lenguajes y librerías especializadas para ejecutar este tipo de cómputo como Pyro de Uber.\n",
    "\n",
    "La diferencia entre la programación estocástica y la programación probabilística es que, en la estocástica solo introducimos **aleatoriedad** en nuestros programas para obtener resultados como las simulaciones de Montecarlo, mientras que en la probabilística estamos trabajando **directamente de forma estadística** con nuestras probabilidades, distribuciones, etc.\n"
   ]
  },
  {
   "cell_type": "markdown",
   "metadata": {},
   "source": [
    "Un ejemplo de un caso real donde podemos aplicar este tipo de programación es con Uber. La aplicación tiene que monitorizar constantemente la ubicación de sus conductores respecto a sus correspondientes clientes además, tiene que estimar el tiempo que le tomará al conductor llegar de un punto A a un punto B, cosa qué cambiará mucho dependiendo del horario, ciudad, tráfico, etc. Para analizar esta situación hay que tener en cuenta muchas variables de las que no tenemos el control entonces, usamos un modelo probabilístico donde las incorporamos.\n",
    "\n",
    "Si lo pensamos Uber tiene una monitorización en tiempo real gracias a la aplicación que están usando sus conductores. De esta manera ya tiene los datos necesarios para tratar de predecir como son las condiciones al momento de iniciar nuestro viaje utilizando la información de los conductores que están en los alrededores.\n",
    "\n",
    "<img src=\"https://i.stack.imgur.com/8qqvK.gif\" alt=\"Drawing\" style=\"width: 250px;\"/>\n"
   ]
  },
  {
   "cell_type": "markdown",
   "metadata": {},
   "source": [
    "Otro caso de uso sería con los filtros de Spam, de hecho, fue una de las primeras aplicaciones que se le dio al machine learning en los 90's aún sin disponer del poder computacional que tenemos hoy en día. Entonces, ¿cómo lo hicieron? \n",
    "\n",
    "Para ello se utilizó programación probabilística, primero se creó un modelo de lo que significaba el Spam y lo fueron comparando con los reportes de Spam de los usuarios para incorporar esta evidencia y actualizar las probabilidades.\n",
    "\n",
    "<img src=\"https://miro.medium.com/max/2988/1*_igArwmR7Pj_Mu_KUGD1SQ.png\" alt=\"Drawing\" style=\"width: 250px;\"/>\n",
    "\n",
    "\n",
    "\n",
    "[Artículo sobre una revisión general de los modelos de detección y filtrado de correo spam existentes en la\n",
    "actualidad. ](https://www.redalyc.org/pdf/925/92503405.pdf)"
   ]
  },
  {
   "cell_type": "markdown",
   "metadata": {},
   "source": [
    "Otro campo donde se puede utilizar es en medicina. Normalmente una consulta tradicional consiste en explicar nuestros síntomas y en base a ellos el doctor crea una hipótesis, pero esto esta en cierta parte sujeto a la especificidad con la que podemos describir nuestros síntomas.\n",
    "\n",
    "Para obtener un método que sea más eficaz y más profundo en casos requeridos se utiliza un test, el cual se encarga de ayudar al diagnóstico. Un test va a tener cierto margen de error dependiendo de lo que se trate de estudiar, algunos serán más o menos 'permisivos' a obtener falsos positivos o falsos negativos dependiendo la gravedad y la urgencia por detectar el problema. Mientras sea más sensible podrá ayudarnos a detectar mejor el problema, pero también será más sensible a ciertos problemas al detectar cosas que no nos interesan o que interrumpen la prueba. \n",
    "\n",
    "¿Y cómo entra la programación probabilística aquí? Bueno, los test no suelen ser del todo exactos por lo que dependiendo de la exactitud de un test podemos llegar a conclusiones distintas y nos será de mucha ayuda hacer ciertas inferencias estadísticas a partir de los resultados obtenidos y quizá también, de resultados anteriores.\n",
    "\n",
    "<img src=\"https://algorithmia.com/blog/wp-content/uploads/2018/08/word-image.png\" alt=\"Drawing\" style=\"width: 350px;\"/>\n",
    "\n",
    "---"
   ]
  },
  {
   "cell_type": "markdown",
   "metadata": {},
   "source": [
    "### Probabilidad Condicional"
   ]
  },
  {
   "cell_type": "markdown",
   "metadata": {},
   "source": [
    "Recordemos que la probabilidad solo es una cantidad que nos indica la certidumbre con la que sabemos que un evento puede ocurrir. Cuando pensamos en experimentos cómo lanzar una moneda al aire, sacar una carta sin regresarla, girar una ruleta, etc. Entonces, estamos hablando de **probabilidad independiente**, es decir, los eventos no están relacionados entre sí. El alcance de este enfoque de la probabilidad es algo pequeño cuando queremos evaluar eventos como, ¿cuál es la probabilidad de A dado que ya ocurrió B? Donde nuestra acción previa esta teniendo un efecto en la probabilidad de un evento siguiente.\n",
    "\n",
    "Para expandir nuestro uso vamos a incorporar algo conocido como **Probabilidad Condicional**.\n",
    "\n",
    "---"
   ]
  },
  {
   "cell_type": "markdown",
   "metadata": {},
   "source": [
    "Empecemos con un ejemplo de probabilidad independiente:\n",
    "\n",
    "Imaginemos un caso donde lanzamos una moneda 2 veces y queremos saber la probabilidad de que ocurra un evento en especial, por ejemplo que salgan 2 cruces seguidas. Para ello podemos hacer uso de un árbol de probabilidades donde las caras se representan con la letra *H* (Heads) y las cruces se representan con la *T* (Tails).\n",
    "\n",
    "\n",
    "<img src=\"https://qiskit.org/textbook/images/whatis/whatis3.png\" alt=\"Drawing\" style=\"width: 250px;\"/>\n",
    "\n",
    "\n",
    " Entonces, ¿cómo calculamos la probabilidad de que salgan 2 cruces seguidas?.\n",
    " \n",
    "Sabemos que el lanzamiento de una moneda es independiente del otro lanzamiento, por lo que en ambos lanzamientos tenemos $\\frac{1}{2}$ de probabilidad de obtener cara o cruz. Así que podemos estructurar nuestra pregunta de la forma, ¿ cuál es la probabilidad de obtener una cruz en el primer lanzamiento Y una cruz en el segundo lanzamiento?\n",
    "\n",
    "Podemos ver que la preposición Y indica que estamos hablando de que ambos eventos ocurran y se puede representar con la operación *AND*. Así que podemos multiplicar la probabilidad de cada uno de los eventos como se muestra en el gif de abajo.\n",
    "\n",
    "<img src=\"https://qiskit.org/textbook/images/whatis/whatis4.gif\" alt=\"Drawing\" style=\"width: 350px;\"/>\n",
    "\n",
    "Esto funciona solo cuando estamos hablando de **Probabilidad Incondicional**\n",
    "\n",
    "Se podría generalizar de la siguiente forma:\n",
    "\n",
    "$$P(A~y~B) = P(A~\\cap~B) = P(A)P(B)$$\n",
    "\n",
    "---"
   ]
  },
  {
   "cell_type": "markdown",
   "metadata": {},
   "source": [
    "Ahora, ¿qué pasa cuando tenemos que tener en consideración el evento anterior?\n",
    "\n",
    "En este caso tenemos que cambiar nuestra expresión anterior por la siguiente:\n",
    "\n",
    "**$$P(A~\\cap~B)= P(A)P(B|A)$$**\n",
    "\n",
    "Donde el $P(B|A)$ se lee como *Probabilidad de B dado que ocurrió A*. \n",
    "\n",
    "Y cómo en este caso B ocurre dependiendo de si A ocurre, entonces nuestra probabilidad de obtener el evento B se puede expresar se la siguiente manera:\n",
    "\n",
    "$$P(B) = P(A)P(B|A) + P(\\neg A)P(B|\\neg A)$$\n",
    "\n",
    "Donde $(\\neg A)$ se lee como **A negada o No ocurre A**\n",
    "\n",
    "Pongamos un ejemplo para que sea más claro. Pensemos en un test médico y asignemos **A** como el evento de que un test de cáncer salga positivo y **B** como el evento de que dicha persona en efecto tenga cáncer.\n",
    "\n",
    "¿Cuál es la probabilidad de que alguien tenga cáncer?\n",
    "\n",
    "$$P(cáncer) = P(Positivo)P(cáncer|Positivo) + P(Negativo)P(cáncer|Negativo)$$\n",
    "\n",
    "Podemos ver que para obtener la probabilidad individual de B estamos sumando la probabilidad de B dada que ocurra y no ocurra A ya que en ambos casos seguimos teniendo una probabilidad de que B ocurra. \n",
    "\n",
    "Por ejemplo, ¿cual es la probabilidad de que pase un examen dependiendo si estudié o no? Puede que la probabilidad de que pase sin estudiar sea muy pequeña pero aun así sea diferente de 0 y si estudié la probabilidad será mucho más grande. Por lo tanto, si queremos saber cual es la probabilidad de que pase el examen  tendremos que sumar la probabilidad de que lo pase habiendo estudiado más la probabilidad de que lo pase sin haber estudiado. En este caso pasar el examen es el evento **B** y estudiar es el evento **A**.\n",
    "\n",
    "---"
   ]
  },
  {
   "cell_type": "markdown",
   "metadata": {},
   "source": [
    "### Teorema de Bayes\n",
    "\n",
    "El razonamiento detrás del teorema está en que nos permite incorporar evidencia para actualizar nuestras creencias previas sobre algo y actualizar la forma en la que aproximamos ciertos resultados.\n",
    "\n",
    "Supongamos que tenemos una hipótesis **H** y un evento **E**, y queremos saber la probabilidad de que nuestra hipótesis se cumpla dado que ocurrió **E**. Entonces, el Teorema de Bayes expresa lo siguiete:\n",
    "\n",
    "\n",
    "$$P(H|E) = \\frac{P(H)*P(E|H)}{P(E)}$$\n",
    "\n",
    "---"
   ]
  },
  {
   "attachments": {},
   "cell_type": "markdown",
   "metadata": {},
   "source": [
    "*Expliquemos el teorema con un ejemplo.*\n",
    "\n",
    "> Imaginemos el concepto de una persona que es muy tímida y retraída, que se interesa muy poco en relacionarse con las demás personas. Un alma mansa y ordenada, que le gusta tener todo en orden y estructura con una pasión por los detalles.\n",
    "\n",
    "Ahora, partiendo de esta descripción, ¿qué sería más probable, que esta persona sea un bibliotecario o que sea un granjero?\n",
    "\n",
    "\n",
    "<img src=\"https://i.imgur.com/wK1D2MW.png\" alt=\"Drawing\" style=\"width: 450px;\"/>\n",
    "\n",
    "<img src=\"https://i.imgur.com/HuWF21G.png\" alt=\"Drawing\" style=\"width: 450px;\"/>\n",
    "\n",
    "\n",
    "Nuestra intuición y creencias podrían decirnos que ese es un comportamiento que asociamos más a un bibliotecario ya que cumple con el típico estereotipo de una persona reservada que hace ese tipo de labores.\n",
    "\n",
    "Lo que no estamos teniendo en cuenta es que, en la realidad, la población de granjeros es mucho más grande que la población de bibliotecarios. Por ejemplo, hace unos años la proporción de granjeros y bibliotecarios en los Estados Unidos era de 20 a 1.\n",
    "\n",
    "<img src=\"https://i.imgur.com/dZbIsmY.png\" alt=\"Drawing\" style=\"width: 350px;\"/>\n",
    "\n",
    "\n",
    "Ahora, vamos a construir una representación geométrica de esto manteniendo nuestra proporción de 20 a 1. (La proporción de las poblaciones totales)\n",
    "\n",
    "<img src=\"https://i.imgur.com/QLWkp7o.png\" alt=\"Drawing\" style=\"width: 350px;\"/>\n",
    "\n",
    "\n",
    "Y según nuestra intuición anterior, podríamos decir que nuestro modelo de la persona coincide un 40% de las veces en la población de bibliotecarios y un 20% en la población de granjeros. (Ya que por eso creíamos que era más probable de que fuera un bibliotecario).\n",
    "\n",
    "<img src=\"https://i.imgur.com/hNRSTPJ.png\" alt=\"Drawing\" style=\"width: 450px;\"/>\n",
    "\n",
    "\n",
    "\n",
    "Así que para saber la **probabilidad de que alguien sea un bibliotecario dada la descripción previa** se podría expresar cómo\n",
    "\n",
    "$$P(Bibliotecario|Descripción)= \\frac{4}{4+20} \\approx 16.7\\%$$\n",
    "\n",
    "Podemos darnos cuenta de que a pesar de que creamos que es el doble de probable de que sea un bibliotecario a que sea un granjero, la cantidad de individuos de cada población nos dice que aún así será una mayor cantidad de personas de la población de granjeros. Por ello decimos que estamos actualizando nuestras creencias previas, porqué después de esto tendremos a pensar que realmente influye nuestra intuición sesgada al hacer selección sobre una población y que tendremos que incorporar la cantidad de individuos de cada una y reajustar las proporciones.\n",
    "\n",
    "Podemos realizar una visualización geométrica de las proporciones de la siguiente forma:\n",
    "\n",
    "<img src=\"https://i.imgur.com/4xcOonl.png\" alt=\"Drawing\" style=\"width: 350px;\"/>\n",
    "\n",
    "\n",
    "Y matemáticamente se representa de esta forma que después analizaremos a profundidad\n",
    "\n",
    "$$P(A|B) = \\frac{P(B|A)P(A)}{P(B)}$$\n",
    "\n",
    "---"
   ]
  },
  {
   "attachments": {},
   "cell_type": "markdown",
   "metadata": {},
   "source": [
    "###  Entendiendo el Teorema de Bayes\n",
    "\n",
    "Retomando nuestro ejemplo anterior de la probabilidad de que ocurra nuestra Hipótesis dado un Evento, podemos escribirlo de la siguiente forma.\n",
    "\n",
    "$$\\begin{align}\n",
    "    P(H|E) &= \\frac{P(H~\\text{AND}~E)}{P(E)} = \\frac{P(H)P(E|H)}{P(E)}\\\\ \\\\\n",
    "    P(H|E) &= \\frac{P(H)P(E|H)}{P(H)P(E|H) + P(\\neg{H})P(E|\\neg{H})}\n",
    " \\end{align}$$\n",
    "\n",
    "Ahora pongamosle nombre a cada una de las partes: \n",
    "\n",
    "* P(H) = Prior: Conocimiento previo o hipótesis antes de recolectar evidencia.\n",
    "\n",
    "* P(E|H) = Likelihood: Certidumbre de que ocurra un evento condicionado por otro evento.\n",
    "\n",
    "* P(H) = Posterior: Actualización de las creencias gracias a los datos.\n",
    "\n",
    "Podemos ver entonces a la probabilidad no solo cómo un campo basado en el estudio del azar, sino también de proporciones. De esta forma podremos recordar con más facilidad el Teorema de Bayes recordando la imagen de abajo y deduciendo la ecuación a partir de esa idea.\n",
    "\n",
    "<img src=\"https://i.imgur.com/kiSbcMV.png\" alt=\"Drawing\" style=\"width: 450px;\"/>\n",
    "\n",
    "NOTA: El nombre de ese tipo de diagramas es \"eicosograma\" or \"eikosogram\".\n"
   ]
  },
  {
   "cell_type": "markdown",
   "metadata": {},
   "source": [
    "#### Ejemplos:\n"
   ]
  },
  {
   "cell_type": "markdown",
   "metadata": {},
   "source": [
    "##### Ejemplo 1:"
   ]
  },
  {
   "cell_type": "markdown",
   "metadata": {},
   "source": [
    "\"Linda es una mujer de 31 años, soltera, de mente abierta, y muy brillante y se especializó en filosofía. Desde que era estudiante se interesó en estudiar los diferentes problemas de discriminación en el mundo y sobre cómo hacer justicia social, y además, participó en demostraciones anti-nucleares.\"\n",
    "\n",
    "¿Qué es más probable?\n",
    "\n",
    "1. Que ella trabaje en un banco.\n",
    "2. Que ella trabaje en un banco y sea activista en un movimiento feminista.\n",
    "\n",
    "Si crees que la respuesta es la número 2 significa que has caído en una trmapa Bayesiana. Y no sólo tu, en realidad, alrededor del 85% de las personas caen en este tipo de trampas lógicas. \n",
    "\n",
    "Lo que esta pasando aquí es de qué estamos usando nuestra información anterior para buscar validar una de las acciones que aparecen en las opciones.\n",
    "\n",
    "Lo que no estamos teniendo en cuenta es que podemos considerar a las mujeres que trabajan en un banco como un conjunto o una población total, y por lo tanto, considerar a las mujeres que trabajan en un banco **y además son activistas en un movimiento feminista** cómo un subconjunto del mismo. \n",
    "\n",
    "Es decir, la probabilidad de la segunda opción tendría que ser mucho más pequeña ya que se trata de una fracción del conjunto de todas las mujeres que trabajan en un banco, esta idea se ilustra en la imagen de abajo:\n",
    "\n",
    "<img src=\"https://i.imgur.com/7R0NT7s.png\" alt=\"Drawing\" style=\"width: 450px;\"/>"
   ]
  },
  {
   "cell_type": "markdown",
   "metadata": {},
   "source": [
    "##### Ejemplo 2:"
   ]
  },
  {
   "cell_type": "markdown",
   "metadata": {},
   "source": [
    "\"Un taxi estuvo involucrado en un atropello durante la noche y se escapó. En la ciudad operan dos compañías de taxis, los taxis verdes y los azules. Y disponemos de la siguiente información\n",
    "\n",
    "- a) El 85% de los taxis son Verdes y el 15% son azules.\n",
    "\n",
    "- b) Un Testigo identificó al taxi Azul como el causante del atropello. La corte realizó las pruebas de confiabilidad del testigo bajo las mismas circunstancias que existían la noche del accidente y concluyeron que **el testigo identificaba correctamente uno de los dos colores el 80% de las veces y fallaba el 20% de las veces\".\n",
    "\n",
    "**¿Cuál es la probabilidad de qué el taxi involucrado en el accidente fuera Azul en lugar de Verde?** (La distribución de los taxis en la ciudad se considera irrelevante).\n",
    "\n",
    "**SOLUCIÓN**: Expresemos nuestro problema de forma que tenga sentido el uso del teorema de Bayes y la probabilidad condicional.\n",
    "\n",
    "> ¿Cuál es la probabilidad de que el taxi sea azul dado que el testigo afirmó que es azul?\n",
    "\n",
    "**Datos**: \n",
    "* Del total de taxis de la ciudad 85% son Verdes y el 15% Azules.\n",
    "* El testigo acierta el 80% de las veces (es azul) y falla el 20% (era verde).\n",
    "\n",
    "**Eikosograma**: \n",
    "\n",
    "![](https://i.imgur.com/rORvnH0.png)\n",
    "\n",
    "**Aplicando el Teorema**:\n",
    "\n",
    "Diremos que **H** es nuestra hipótesis donde el auto es azul y **E** representa la certeza de que el testigo este en lo correcto. \n",
    "\n",
    "$$ P(\\text{Taxi sea azul}|\\text{El testigo dijo que es azul}) = P(H|E) $$\n",
    "\n",
    "\n",
    "\n",
    "$$ \\begin{align}\n",
    " P(H|E) =&\\frac{P(H)P(E|H)}{P(E)} = \\frac{0.15*0.8}{(0.15*0.8)+(0.85*0.2)}\\\\\n",
    "P(H|E)\\approx& 41.4\\%\n",
    " \\end{align}$$\n",
    " \n"
   ]
  },
  {
   "cell_type": "markdown",
   "metadata": {},
   "source": [
    "#### Enlaces de videos o artículos\n"
   ]
  },
  {
   "cell_type": "markdown",
   "metadata": {},
   "source": [
    "\n",
    "[Video que explica el teorema de bayes](https://www.youtube.com/watch?v=HZGCoVF3YvM&t=393s)\n",
    "\n",
    "[Cómo escapar de la Trampa Bayesiana](https://www.youtube.com/watch?v=D7KKlC0LOyw)\n",
    "\n",
    "[Artículo: Probability, problems and paradoxes pictured by eikosograms](https://www.math.uwaterloo.ca/~rwoldfor/papers/eikosograms/examples/paper.pdf)"
   ]
  },
  {
   "cell_type": "markdown",
   "metadata": {},
   "source": []
  },
  {
   "cell_type": "code",
   "execution_count": null,
   "metadata": {},
   "outputs": [],
   "source": []
  }
 ],
 "metadata": {
  "kernelspec": {
   "display_name": "Python 3",
   "language": "python",
   "name": "python3"
  },
  "language_info": {
   "codemirror_mode": {
    "name": "ipython",
    "version": 3
   },
   "file_extension": ".py",
   "mimetype": "text/x-python",
   "name": "python",
   "nbconvert_exporter": "python",
   "pygments_lexer": "ipython3",
   "version": "3.8.3"
  },
  "toc": {
   "base_numbering": "",
   "nav_menu": {},
   "number_sections": false,
   "sideBar": true,
   "skip_h1_title": false,
   "title_cell": "Tabla de contenidos",
   "title_sidebar": "Contents",
   "toc_cell": true,
   "toc_position": {
    "height": "calc(100% - 180px)",
    "left": "10px",
    "top": "150px",
    "width": "125.458px"
   },
   "toc_section_display": true,
   "toc_window_display": false
  }
 },
 "nbformat": 4,
 "nbformat_minor": 4
}
