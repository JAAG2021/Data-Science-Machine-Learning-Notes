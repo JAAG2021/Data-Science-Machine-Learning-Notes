{
  "nbformat": 4,
  "nbformat_minor": 0,
  "metadata": {
    "kernelspec": {
      "display_name": "Python 3",
      "language": "python",
      "name": "python3"
    },
    "language_info": {
      "codemirror_mode": {
        "name": "ipython",
        "version": 3
      },
      "file_extension": ".py",
      "mimetype": "text/x-python",
      "name": "python",
      "nbconvert_exporter": "python",
      "pygments_lexer": "ipython3",
      "version": "3.8.3"
    },
    "toc": {
      "base_numbering": 1,
      "nav_menu": {},
      "number_sections": false,
      "sideBar": true,
      "skip_h1_title": false,
      "title_cell": "Tabla de contenidos 💜",
      "title_sidebar": "Contents",
      "toc_cell": true,
      "toc_position": {
        "height": "calc(100% - 180px)",
        "left": "10px",
        "top": "150px",
        "width": "279.273px"
      },
      "toc_section_display": true,
      "toc_window_display": false
    },
    "colab": {
      "name": "Fundamentos_Practicos_de_Machine_Learning.ipynb",
      "provenance": [],
      "collapsed_sections": [
        "bnxwlN2uAtq-",
        "S47RYLgpAtrA",
        "tFmpri3qAtrA",
        "rORRmHrwAtrB",
        "xkAVXYOAAtrK",
        "noudNla9AtrK",
        "oHLNHGvjAtrN",
        "pKNl17YyAtrQ",
        "BZrQeTg2AtrU",
        "98W83bL0Atrd",
        "cUMpKz1FAtrf"
      ],
      "include_colab_link": true
    }
  },
  "cells": [
    {
      "cell_type": "markdown",
      "metadata": {
        "id": "view-in-github",
        "colab_type": "text"
      },
      "source": [
        "<a href=\"https://colab.research.google.com/github/abdielgv162/Data-Science-Machine-Learning/blob/master/Fundamentos_Practicos_de_Machine_Learning/Fundamentos_Practicos_de_Machine_Learning.ipynb\" target=\"_parent\"><img src=\"https://colab.research.google.com/assets/colab-badge.svg\" alt=\"Open In Colab\"/></a>"
      ]
    },
    {
      "cell_type": "code",
      "metadata": {
        "colab": {
          "base_uri": "https://localhost:8080/"
        },
        "id": "l7rya5qaC9yT",
        "outputId": "d597202d-284b-471a-db72-5b78780e89df"
      },
      "source": [
        "from google.colab import drive\n",
        "drive.mount('/content/drive')"
      ],
      "execution_count": null,
      "outputs": [
        {
          "output_type": "stream",
          "text": [
            "Mounted at /content/drive\n"
          ],
          "name": "stdout"
        }
      ]
    },
    {
      "cell_type": "code",
      "metadata": {
        "id": "CZt9NCZlDrgz"
      },
      "source": [
        "from google.colab import files\n",
        " \n",
        "files.upload()  "
      ],
      "execution_count": null,
      "outputs": []
    },
    {
      "cell_type": "markdown",
      "metadata": {
        "toc": true,
        "id": "sViZS-lBAtqH"
      },
      "source": [
        "<h1>Tabla de contenidos 💜<span class=\"tocSkip\"></span></h1>\n",
        "<div class=\"toc\"><ul class=\"toc-item\"><li><span><a href=\"#Fundamentos-prácticos-de-Machine-Learning\" data-toc-modified-id=\"Fundamentos-prácticos-de-Machine-Learning-1\">Fundamentos prácticos de Machine Learning</a></span><ul class=\"toc-item\"><li><span><a href=\"#Fundamentos-prácticos\" data-toc-modified-id=\"Fundamentos-prácticos-1.1\">Fundamentos prácticos</a></span><ul class=\"toc-item\"><li><span><a href=\"#Introducción-a-Numpy\" data-toc-modified-id=\"Introducción-a-Numpy-1.1.1\">Introducción a Numpy</a></span></li><li><span><a href=\"#Introducción-y-manipulación-de-datos-con-Pandas\" data-toc-modified-id=\"Introducción-y-manipulación-de-datos-con-Pandas-1.1.2\">Introducción y manipulación de datos con Pandas</a></span></li><li><span><a href=\"#Introducción-a-SickitLearn\" data-toc-modified-id=\"Introducción-a-SickitLearn-1.1.3\">Introducción a SickitLearn</a></span></li><li><span><a href=\"#Comandos-básicos-de-Numpy\" data-toc-modified-id=\"Comandos-básicos-de-Numpy-1.1.4\">Comandos básicos de Numpy</a></span></li><li><span><a href=\"#Comandos-básicos-de-Pandas\" data-toc-modified-id=\"Comandos-básicos-de-Pandas-1.1.5\">Comandos básicos de Pandas</a></span></li><li><span><a href=\"#Scikit-Learn\" data-toc-modified-id=\"Scikit-Learn-1.1.6\">Scikit Learn</a></span></li></ul></li><li><span><a href=\"#Regresión-lineal-y-logística\" data-toc-modified-id=\"Regresión-lineal-y-logística-1.2\">Regresión lineal y logística</a></span><ul class=\"toc-item\"><li><span><a href=\"#¿Qué-es-la-predicción-de-datos?\" data-toc-modified-id=\"¿Qué-es-la-predicción-de-datos?-1.2.1\">¿Qué es la predicción de datos?</a></span></li><li><span><a href=\"#Sobreajuste-o-subajuste-en-los-datos\" data-toc-modified-id=\"Sobreajuste-o-subajuste-en-los-datos-1.2.2\">Sobreajuste o subajuste en los datos</a></span></li><li><span><a href=\"#Regresión-lineal-simple-y-regresión-lineal-múltiple\" data-toc-modified-id=\"Regresión-lineal-simple-y-regresión-lineal-múltiple-1.2.3\">Regresión lineal simple y regresión lineal múltiple</a></span><ul class=\"toc-item\"><li><span><a href=\"#Regresión-lineal-simple\" data-toc-modified-id=\"Regresión-lineal-simple-1.2.3.1\">Regresión lineal simple</a></span></li><li><span><a href=\"#Regresión-lineal-múltiple\" data-toc-modified-id=\"Regresión-lineal-múltiple-1.2.3.2\">Regresión lineal múltiple</a></span></li></ul></li><li><span><a href=\"#Regresión-lineal-simple-con-Scikit-Learn\" data-toc-modified-id=\"Regresión-lineal-simple-con-Scikit-Learn-1.2.4\">Regresión lineal simple con Scikit-Learn</a></span><ul class=\"toc-item\"><li><span><a href=\"#División-de-los-datos\" data-toc-modified-id=\"División-de-los-datos-1.2.4.1\">División de los datos</a></span></li><li><span><a href=\"#Creación-del-modelo\" data-toc-modified-id=\"Creación-del-modelo-1.2.4.2\">Creación del modelo</a></span></li></ul></li><li><span><a href=\"#Reto\" data-toc-modified-id=\"Reto-1.2.5\">Reto</a></span><ul class=\"toc-item\"><li><span><a href=\"#Creando-los-nuevos-datos\" data-toc-modified-id=\"Creando-los-nuevos-datos-1.2.5.1\">Creando los nuevos datos</a></span></li><li><span><a href=\"#Separando-los-datos\" data-toc-modified-id=\"Separando-los-datos-1.2.5.2\">Separando los datos</a></span></li></ul></li><li><span><a href=\"#Regresión-logística-con-Scikit-Learn\" data-toc-modified-id=\"Regresión-logística-con-Scikit-Learn-1.2.6\">Regresión logística con Scikit-Learn</a></span><ul class=\"toc-item\"><li><span><a href=\"#División-de-los-datos\" data-toc-modified-id=\"División-de-los-datos-1.2.6.1\">División de los datos</a></span></li><li><span><a href=\"#Evaluando-el-modelo\" data-toc-modified-id=\"Evaluando-el-modelo-1.2.6.2\">Evaluando el modelo</a></span></li></ul></li></ul></li><li><span><a href=\"#Árboles-de-decisión\" data-toc-modified-id=\"Árboles-de-decisión-1.3\">Árboles de decisión</a></span><ul class=\"toc-item\"><li><span><a href=\"#¿Qué-son-los-árboles-de-decisión?\" data-toc-modified-id=\"¿Qué-son-los-árboles-de-decisión?-1.3.1\">¿Qué son los árboles de decisión?</a></span></li><li><span><a href=\"#Comprendiendo-nuestro-data-set-para-la-creación-de-un-árbol-de-decisión\" data-toc-modified-id=\"Comprendiendo-nuestro-data-set-para-la-creación-de-un-árbol-de-decisión-1.3.2\">Comprendiendo nuestro data set para la creación de un árbol de decisión</a></span></li><li><span><a href=\"#Creando-un-clasificador-con-Scikit-Learn\" data-toc-modified-id=\"Creando-un-clasificador-con-Scikit-Learn-1.3.3\">Creando un clasificador con Scikit-Learn</a></span><ul class=\"toc-item\"><li><span><a href=\"#Separando-los-datos\" data-toc-modified-id=\"Separando-los-datos-1.3.3.1\">Separando los datos</a></span></li><li><span><a href=\"#Visualizando-el-árbol-de-decisión\" data-toc-modified-id=\"Visualizando-el-árbol-de-decisión-1.3.3.2\">Visualizando el árbol de decisión</a></span></li></ul></li></ul></li></ul></li></ul></div>"
      ]
    },
    {
      "cell_type": "markdown",
      "metadata": {
        "id": "4CCINn-dAtqK"
      },
      "source": [
        "# Fundamentos prácticos de Machine Learning"
      ]
    },
    {
      "cell_type": "markdown",
      "metadata": {
        "id": "L0EyBZkaAtqL"
      },
      "source": [
        "## Fundamentos prácticos"
      ]
    },
    {
      "cell_type": "markdown",
      "metadata": {
        "id": "bCaNXM8xAtqL"
      },
      "source": [
        "Recordemos que el Machine Learning se puede definir como la capacidad de un algoritmo de adquirir conocimiento a partir de observaciones, aprender de los datos para mejorar, describir y predecir resultados."
      ]
    },
    {
      "cell_type": "markdown",
      "metadata": {
        "id": "JJ2okB3bAtqM"
      },
      "source": [
        "El proceso de implementar algoritmos de Machine Learning se puede ver como:\n",
        "\n",
        "* Definir el problema\n",
        "* Construir el modelo y evaluarlo\n",
        "* Deploy y mejoras"
      ]
    },
    {
      "cell_type": "markdown",
      "metadata": {
        "id": "82lROGUlAtqM"
      },
      "source": [
        "### Introducción a Numpy"
      ]
    },
    {
      "cell_type": "markdown",
      "metadata": {
        "id": "T5Uo3Pq2AtqM"
      },
      "source": [
        "Es una biblioteca de Python comúnmente usada en la ciencia de datos. Esta librería trabaja principalmente con arreglos (vectores, matrices y tensores). \n",
        "\n",
        "Es muy popular por qué es:"
      ]
    },
    {
      "cell_type": "markdown",
      "metadata": {
        "id": "AzET6AK0AtqN"
      },
      "source": [
        "* Sencilla de usar\n",
        "* Adecuada para el manejo de arreglos\n",
        "* Rápida"
      ]
    },
    {
      "cell_type": "code",
      "metadata": {
        "id": "NZLDrbmOAtqN"
      },
      "source": [
        "import numpy as np"
      ],
      "execution_count": null,
      "outputs": []
    },
    {
      "cell_type": "markdown",
      "metadata": {
        "id": "_hpS8IimAtqO"
      },
      "source": [
        "Para crear arreglos lo hacemos con el metodo `.array` y se administra en forma de listas"
      ]
    },
    {
      "cell_type": "code",
      "metadata": {
        "colab": {
          "base_uri": "https://localhost:8080/"
        },
        "id": "ZM02OnO9AtqO",
        "outputId": "b7467801-aa49-459e-9f19-34bd77cf03b5"
      },
      "source": [
        "np.array([10, 20, 24, 5, 15, 50])"
      ],
      "execution_count": null,
      "outputs": [
        {
          "output_type": "execute_result",
          "data": {
            "text/plain": [
              "array([10, 20, 24,  5, 15, 50])"
            ]
          },
          "metadata": {
            "tags": []
          },
          "execution_count": 2
        }
      ]
    },
    {
      "cell_type": "markdown",
      "metadata": {
        "id": "X71U2XAgAtqP"
      },
      "source": [
        "podemos llamar a elementos individuales dentro de nuestro array con la notación de índices "
      ]
    },
    {
      "cell_type": "code",
      "metadata": {
        "colab": {
          "base_uri": "https://localhost:8080/"
        },
        "id": "6rwOA9QmAtqP",
        "outputId": "9ab35258-0468-4477-f37b-d8600c8fe9fc"
      },
      "source": [
        "a = np.array([1,2,3,4,5,6,7,8,9])\n",
        "a[4]"
      ],
      "execution_count": null,
      "outputs": [
        {
          "output_type": "execute_result",
          "data": {
            "text/plain": [
              "5"
            ]
          },
          "metadata": {
            "tags": []
          },
          "execution_count": 3
        }
      ]
    },
    {
      "cell_type": "markdown",
      "metadata": {
        "id": "h6TNNNkFAtqP"
      },
      "source": [
        "podemos hacer que nos muestre los datos desde un número hasta el final"
      ]
    },
    {
      "cell_type": "code",
      "metadata": {
        "colab": {
          "base_uri": "https://localhost:8080/"
        },
        "id": "qWqtiLn6AtqP",
        "outputId": "6dc824e8-37b9-44c7-c232-b5cb310852b7"
      },
      "source": [
        "a[3 : ]"
      ],
      "execution_count": null,
      "outputs": [
        {
          "output_type": "execute_result",
          "data": {
            "text/plain": [
              "array([4, 5, 6, 7, 8, 9])"
            ]
          },
          "metadata": {
            "tags": []
          },
          "execution_count": 4
        }
      ]
    },
    {
      "cell_type": "markdown",
      "metadata": {
        "id": "bmHPfflRAtqQ"
      },
      "source": [
        "o en un intervalo para que recorra el array hasta encontrar el dato que le pedimos, que en este caso sería el 7"
      ]
    },
    {
      "cell_type": "code",
      "metadata": {
        "colab": {
          "base_uri": "https://localhost:8080/"
        },
        "id": "T_7EP1GUAtqQ",
        "outputId": "f864759e-3bd3-48ac-91b0-6649bdd83e0e"
      },
      "source": [
        "a[3 : 7]"
      ],
      "execution_count": null,
      "outputs": [
        {
          "output_type": "execute_result",
          "data": {
            "text/plain": [
              "array([4, 5, 6, 7])"
            ]
          },
          "metadata": {
            "tags": []
          },
          "execution_count": 5
        }
      ]
    },
    {
      "cell_type": "markdown",
      "metadata": {
        "id": "NdrwLbOoAtqQ"
      },
      "source": [
        "podemos imprimir alternando cada n posiciones, en este ejemplo cada 4 \"pasos\""
      ]
    },
    {
      "cell_type": "code",
      "metadata": {
        "colab": {
          "base_uri": "https://localhost:8080/"
        },
        "id": "W9_MYjUAAtqQ",
        "outputId": "556e21bf-f852-402f-fb33-91cdcf19fc1c"
      },
      "source": [
        "a[1 :: 4]"
      ],
      "execution_count": null,
      "outputs": [
        {
          "output_type": "execute_result",
          "data": {
            "text/plain": [
              "array([2, 6])"
            ]
          },
          "metadata": {
            "tags": []
          },
          "execution_count": 6
        }
      ]
    },
    {
      "cell_type": "markdown",
      "metadata": {
        "id": "xPXVotn2AtqR"
      },
      "source": [
        "también podemos crear arreglos de manera dinámica"
      ]
    },
    {
      "cell_type": "code",
      "metadata": {
        "colab": {
          "base_uri": "https://localhost:8080/"
        },
        "id": "XITHUFRDAtqR",
        "outputId": "c2e54d1f-445e-43a8-c6d0-61243d756fcc"
      },
      "source": [
        "np.zeros(5)"
      ],
      "execution_count": null,
      "outputs": [
        {
          "output_type": "execute_result",
          "data": {
            "text/plain": [
              "array([0., 0., 0., 0., 0.])"
            ]
          },
          "metadata": {
            "tags": []
          },
          "execution_count": 7
        }
      ]
    },
    {
      "cell_type": "markdown",
      "metadata": {
        "id": "lRnKGQcNAtqR"
      },
      "source": [
        "podemos ingresar las filas y columnas, respecivamente"
      ]
    },
    {
      "cell_type": "code",
      "metadata": {
        "colab": {
          "base_uri": "https://localhost:8080/"
        },
        "id": "45sZSe3-AtqR",
        "outputId": "3eecee3d-94a0-46ce-ae68-72d95c77db16"
      },
      "source": [
        "np.zeros((5,5))"
      ],
      "execution_count": null,
      "outputs": [
        {
          "output_type": "execute_result",
          "data": {
            "text/plain": [
              "array([[0., 0., 0., 0., 0.],\n",
              "       [0., 0., 0., 0., 0.],\n",
              "       [0., 0., 0., 0., 0.],\n",
              "       [0., 0., 0., 0., 0.],\n",
              "       [0., 0., 0., 0., 0.]])"
            ]
          },
          "metadata": {
            "tags": []
          },
          "execution_count": 8
        }
      ]
    },
    {
      "cell_type": "code",
      "metadata": {
        "colab": {
          "base_uri": "https://localhost:8080/"
        },
        "id": "GLlIfAF2AtqR",
        "outputId": "083f7b43-c674-4bee-bc4e-6501aaf2aa07"
      },
      "source": [
        "np.ones((4,5))"
      ],
      "execution_count": null,
      "outputs": [
        {
          "output_type": "execute_result",
          "data": {
            "text/plain": [
              "array([[1., 1., 1., 1., 1.],\n",
              "       [1., 1., 1., 1., 1.],\n",
              "       [1., 1., 1., 1., 1.],\n",
              "       [1., 1., 1., 1., 1.]])"
            ]
          },
          "metadata": {
            "tags": []
          },
          "execution_count": 9
        }
      ]
    },
    {
      "cell_type": "markdown",
      "metadata": {
        "id": "rxu5H3qaAtqS"
      },
      "source": [
        "y para saber el tipo de dato de cierto arreglo podemos usar la instrucción `type`"
      ]
    },
    {
      "cell_type": "code",
      "metadata": {
        "colab": {
          "base_uri": "https://localhost:8080/"
        },
        "id": "qKv1BPOyAtqS",
        "outputId": "b1bfd16c-6092-45f6-cd3f-afbb7534bcc2"
      },
      "source": [
        "type(np.ones(()))"
      ],
      "execution_count": null,
      "outputs": [
        {
          "output_type": "execute_result",
          "data": {
            "text/plain": [
              "numpy.ndarray"
            ]
          },
          "metadata": {
            "tags": []
          },
          "execution_count": 10
        }
      ]
    },
    {
      "cell_type": "code",
      "metadata": {
        "colab": {
          "base_uri": "https://localhost:8080/"
        },
        "id": "3uv-zusIAtqS",
        "outputId": "6959c4db-9b2d-4ccb-b5cc-dc4796d55e5a"
      },
      "source": [
        "type(a[1])"
      ],
      "execution_count": null,
      "outputs": [
        {
          "output_type": "execute_result",
          "data": {
            "text/plain": [
              "numpy.int64"
            ]
          },
          "metadata": {
            "tags": []
          },
          "execution_count": 11
        }
      ]
    },
    {
      "cell_type": "markdown",
      "metadata": {
        "id": "SFRET4YjAtqS"
      },
      "source": [
        "Para generar datos para analizar o crear gráficas podemos usar el comando `linspace` que recibe 3 parámetros, el valor inferior, el valor superior y la cantidad de elementos entre esos 2 valores extremos."
      ]
    },
    {
      "cell_type": "code",
      "metadata": {
        "scrolled": true,
        "colab": {
          "base_uri": "https://localhost:8080/"
        },
        "id": "dbwt2FpJAtqS",
        "outputId": "e982dbab-8b60-42b2-c89f-81bc7c954473"
      },
      "source": [
        "np.linspace(3, 5, 10)"
      ],
      "execution_count": null,
      "outputs": [
        {
          "output_type": "execute_result",
          "data": {
            "text/plain": [
              "array([3.        , 3.22222222, 3.44444444, 3.66666667, 3.88888889,\n",
              "       4.11111111, 4.33333333, 4.55555556, 4.77777778, 5.        ])"
            ]
          },
          "metadata": {
            "tags": []
          },
          "execution_count": 12
        }
      ]
    },
    {
      "cell_type": "markdown",
      "metadata": {
        "id": "cUTaWp1KAtqT"
      },
      "source": [
        "en el caso donde queremos hacer arreglos de por ejemplo, 2 dimensiones podemos hacerlo con notación de corchetes y separando con comas"
      ]
    },
    {
      "cell_type": "code",
      "metadata": {
        "colab": {
          "base_uri": "https://localhost:8080/"
        },
        "id": "Mo8nI92pAtqT",
        "outputId": "540423e4-6d7c-4a79-94e0-e1f1768460d8"
      },
      "source": [
        "b = np.array([ ['x','y','z'],\n",
        "               ['a','b','c'] ])\n",
        "print(b)\n",
        "type(b)"
      ],
      "execution_count": null,
      "outputs": [
        {
          "output_type": "stream",
          "text": [
            "[['x' 'y' 'z']\n",
            " ['a' 'b' 'c']]\n"
          ],
          "name": "stdout"
        },
        {
          "output_type": "execute_result",
          "data": {
            "text/plain": [
              "numpy.ndarray"
            ]
          },
          "metadata": {
            "tags": []
          },
          "execution_count": 13
        }
      ]
    },
    {
      "cell_type": "markdown",
      "metadata": {
        "id": "tYa7A5PlAtqT"
      },
      "source": [
        "para saber cuantas dimensiones tiene nuestro arreglo usamos `.ndim`"
      ]
    },
    {
      "cell_type": "code",
      "metadata": {
        "colab": {
          "base_uri": "https://localhost:8080/"
        },
        "id": "MuL4yacsAtqT",
        "outputId": "6f216364-6585-4d18-d305-f2a53385a6e7"
      },
      "source": [
        "b.ndim"
      ],
      "execution_count": null,
      "outputs": [
        {
          "output_type": "execute_result",
          "data": {
            "text/plain": [
              "2"
            ]
          },
          "metadata": {
            "tags": []
          },
          "execution_count": 14
        }
      ]
    },
    {
      "cell_type": "markdown",
      "metadata": {
        "id": "3zeDLhQvAtqT"
      },
      "source": [
        "otro comando que es de muchísima utilidad es `sort` para ordenar el arreglo"
      ]
    },
    {
      "cell_type": "code",
      "metadata": {
        "id": "icXlDyAfAtqU"
      },
      "source": [
        "c = [12, 4, 10, 40, 2]"
      ],
      "execution_count": null,
      "outputs": []
    },
    {
      "cell_type": "code",
      "metadata": {
        "colab": {
          "base_uri": "https://localhost:8080/"
        },
        "id": "84AKI_fcAtqU",
        "outputId": "23a78a90-ddce-4bd3-ae43-258998da47db"
      },
      "source": [
        "np.sort(c)"
      ],
      "execution_count": null,
      "outputs": [
        {
          "output_type": "execute_result",
          "data": {
            "text/plain": [
              "array([ 2,  4, 10, 12, 40])"
            ]
          },
          "metadata": {
            "tags": []
          },
          "execution_count": 16
        }
      ]
    },
    {
      "cell_type": "markdown",
      "metadata": {
        "id": "DzzYxkFyAtqU"
      },
      "source": [
        "podemos usarlo para ordenar estructuras de datos un poco más complejas como las siguientes"
      ]
    },
    {
      "cell_type": "code",
      "metadata": {
        "id": "z_MglBz8AtqU"
      },
      "source": [
        "cabeceras = [('nombre', 'S10'), ('edad', int)] #S10 representa un string de 10 elementos\n",
        "datos = [('juan', 10), ('Maria',70), ('Javier', 42), ('Samuel', 15)]"
      ],
      "execution_count": null,
      "outputs": []
    },
    {
      "cell_type": "markdown",
      "metadata": {
        "id": "ZLMUbdvZAtqU"
      },
      "source": [
        "vamos a unir las estructuras anteriores en un array llamado `usuarios`, de forma que integre los 2 valores anteriores en una estructura como la definida en la variable `cabeceras`"
      ]
    },
    {
      "cell_type": "code",
      "metadata": {
        "colab": {
          "base_uri": "https://localhost:8080/"
        },
        "id": "3yhZM0GHAtqU",
        "outputId": "40ce6b1a-c42c-4981-f7bc-dbad4a9ff26b"
      },
      "source": [
        "usuarios = np.array(datos, dtype = cabeceras)\n",
        "print(usuarios)"
      ],
      "execution_count": null,
      "outputs": [
        {
          "output_type": "stream",
          "text": [
            "[(b'juan', 10) (b'Maria', 70) (b'Javier', 42) (b'Samuel', 15)]\n"
          ],
          "name": "stdout"
        }
      ]
    },
    {
      "cell_type": "markdown",
      "metadata": {
        "id": "nGc-pJKQAtqV"
      },
      "source": [
        "también podemos ordenarlos igualmente con `sort` y algunos parámetros extra, en este caso tendremos que decirle **el dato que queremos ordenar** y **en base a que elemento lo vamos a ordenar**."
      ]
    },
    {
      "cell_type": "code",
      "metadata": {
        "colab": {
          "base_uri": "https://localhost:8080/"
        },
        "id": "_gB3brvtAtqV",
        "outputId": "f395e0ee-44e2-4cf2-9621-a9d7857b796a"
      },
      "source": [
        "np.sort(usuarios, order = 'edad')"
      ],
      "execution_count": null,
      "outputs": [
        {
          "output_type": "execute_result",
          "data": {
            "text/plain": [
              "array([(b'juan', 10), (b'Samuel', 15), (b'Javier', 42), (b'Maria', 70)],\n",
              "      dtype=[('nombre', 'S10'), ('edad', '<i8')])"
            ]
          },
          "metadata": {
            "tags": []
          },
          "execution_count": 19
        }
      ]
    },
    {
      "cell_type": "markdown",
      "metadata": {
        "id": "TngxjCE5AtqV"
      },
      "source": [
        "también tenemos la opción de llenarlos de una forma dinámica por medio de `.arange`"
      ]
    },
    {
      "cell_type": "code",
      "metadata": {
        "colab": {
          "base_uri": "https://localhost:8080/"
        },
        "id": "lPYyBs6OAtqV",
        "outputId": "51aaeb79-83cf-428d-f5cc-3e1bed2b70c8"
      },
      "source": [
        "np.arange(25)"
      ],
      "execution_count": null,
      "outputs": [
        {
          "output_type": "execute_result",
          "data": {
            "text/plain": [
              "array([ 0,  1,  2,  3,  4,  5,  6,  7,  8,  9, 10, 11, 12, 13, 14, 15, 16,\n",
              "       17, 18, 19, 20, 21, 22, 23, 24])"
            ]
          },
          "metadata": {
            "tags": []
          },
          "execution_count": 20
        }
      ]
    },
    {
      "cell_type": "markdown",
      "metadata": {
        "id": "wEyNAGhNAtqV"
      },
      "source": [
        "y agregando un segundo parámetro le definimos nuestros valores inferior y superior, donde el superior es como un intervalo abierto"
      ]
    },
    {
      "cell_type": "code",
      "metadata": {
        "colab": {
          "base_uri": "https://localhost:8080/"
        },
        "id": "izjuhRaoAtqW",
        "outputId": "257ad86a-83c4-414c-a2ca-0c948fe612e0"
      },
      "source": [
        "np.arange(5,30)"
      ],
      "execution_count": null,
      "outputs": [
        {
          "output_type": "execute_result",
          "data": {
            "text/plain": [
              "array([ 5,  6,  7,  8,  9, 10, 11, 12, 13, 14, 15, 16, 17, 18, 19, 20, 21,\n",
              "       22, 23, 24, 25, 26, 27, 28, 29])"
            ]
          },
          "metadata": {
            "tags": []
          },
          "execution_count": 21
        }
      ]
    },
    {
      "cell_type": "markdown",
      "metadata": {
        "id": "d7SQlJAhAtqW"
      },
      "source": [
        "e indicarle también cada cuanto vamos a incrementar"
      ]
    },
    {
      "cell_type": "code",
      "metadata": {
        "colab": {
          "base_uri": "https://localhost:8080/"
        },
        "id": "4TePFUuOAtqW",
        "outputId": "94522d2b-4e31-4a6e-9aed-eecd750cf10e"
      },
      "source": [
        "np.arange(5, 51, 5)"
      ],
      "execution_count": null,
      "outputs": [
        {
          "output_type": "execute_result",
          "data": {
            "text/plain": [
              "array([ 5, 10, 15, 20, 25, 30, 35, 40, 45, 50])"
            ]
          },
          "metadata": {
            "tags": []
          },
          "execution_count": 22
        }
      ]
    },
    {
      "cell_type": "markdown",
      "metadata": {
        "id": "hip15827AtqW"
      },
      "source": [
        "Otra forma de crear arreglos bidimensionales es con la instrucción `np.full()` donde le pasamos como parámetro las dimensiones del arreglo (3x5) y los valores que va a contener"
      ]
    },
    {
      "cell_type": "code",
      "metadata": {
        "colab": {
          "base_uri": "https://localhost:8080/"
        },
        "id": "GaBqL8REAtqW",
        "outputId": "fd6f0a29-09a0-4dab-f9b6-e46fc0831f93"
      },
      "source": [
        "np.full( (3,5) , 10)"
      ],
      "execution_count": null,
      "outputs": [
        {
          "output_type": "execute_result",
          "data": {
            "text/plain": [
              "array([[10, 10, 10, 10, 10],\n",
              "       [10, 10, 10, 10, 10],\n",
              "       [10, 10, 10, 10, 10]])"
            ]
          },
          "metadata": {
            "tags": []
          },
          "execution_count": 23
        }
      ]
    },
    {
      "cell_type": "markdown",
      "metadata": {
        "id": "Ye5rrGRIAtqW"
      },
      "source": [
        "Finalmente, para trabajar con matrices tenemos la instrucción `diag()` que nos ayuda a crear matrices colocando únicamente los valores de la diagonal y rellenando el resto con 0's"
      ]
    },
    {
      "cell_type": "code",
      "metadata": {
        "colab": {
          "base_uri": "https://localhost:8080/"
        },
        "id": "xfdqi3D0AtqX",
        "outputId": "388dceb1-76e5-46f1-fc13-15a566be2ebc"
      },
      "source": [
        "np.diag( [1,3,9,1] )"
      ],
      "execution_count": null,
      "outputs": [
        {
          "output_type": "execute_result",
          "data": {
            "text/plain": [
              "array([[1, 0, 0, 0],\n",
              "       [0, 3, 0, 0],\n",
              "       [0, 0, 9, 0],\n",
              "       [0, 0, 0, 1]])"
            ]
          },
          "metadata": {
            "tags": []
          },
          "execution_count": 24
        }
      ]
    },
    {
      "cell_type": "markdown",
      "metadata": {
        "id": "912tJxpAAtqX"
      },
      "source": [
        "Ahora como repaso, tratemos de crear un arreglo de 3 dimensiones que podamos ordenar por medio de parámetros como edad, nombre o país."
      ]
    },
    {
      "cell_type": "code",
      "metadata": {
        "id": "Iaio1kslAtqX"
      },
      "source": [
        "# Estructura que van a llevar los datos\n",
        "headers = [('nombre', 'S10'), ('edad', int), ('pais', 'S10')]"
      ],
      "execution_count": null,
      "outputs": []
    },
    {
      "cell_type": "code",
      "metadata": {
        "colab": {
          "base_uri": "https://localhost:8080/"
        },
        "id": "OEuxO5XgAtqX",
        "outputId": "1badc484-6381-4ce9-b5cf-59e709fac805"
      },
      "source": [
        "# Creamos los datos\n",
        "data = [('Jesus', 20, 'Mexico'),('Ale', 32, 'Colombia'),('Yes', 25, 'Mexico'),('Luis', 50, 'Honduras'),\n",
        "         ('Maria', 23, 'Mexico'),('Jhon', 53, 'Canada' ),('Zoom', 13, 'Argentina')]\n",
        "print(data)"
      ],
      "execution_count": null,
      "outputs": [
        {
          "output_type": "stream",
          "text": [
            "[('Jesus', 20, 'Mexico'), ('Ale', 32, 'Colombia'), ('Yes', 25, 'Mexico'), ('Luis', 50, 'Honduras'), ('Maria', 23, 'Mexico'), ('Jhon', 53, 'Canada'), ('Zoom', 13, 'Argentina')]\n"
          ],
          "name": "stdout"
        }
      ]
    },
    {
      "cell_type": "code",
      "metadata": {
        "colab": {
          "base_uri": "https://localhost:8080/"
        },
        "id": "9YWeipFHAtqX",
        "outputId": "f54cf606-de86-4902-de0d-c8ccd60ba572"
      },
      "source": [
        "# Le damos a datos la estructura de header\n",
        "users = np.array(data , dtype = headers)\n",
        "\n",
        "print(users)"
      ],
      "execution_count": null,
      "outputs": [
        {
          "output_type": "stream",
          "text": [
            "[(b'Jesus', 20, b'Mexico') (b'Ale', 32, b'Colombia')\n",
            " (b'Yes', 25, b'Mexico') (b'Luis', 50, b'Honduras')\n",
            " (b'Maria', 23, b'Mexico') (b'Jhon', 53, b'Canada')\n",
            " (b'Zoom', 13, b'Argentina')]\n"
          ],
          "name": "stdout"
        }
      ]
    },
    {
      "cell_type": "code",
      "metadata": {
        "colab": {
          "base_uri": "https://localhost:8080/"
        },
        "id": "XlzgIqHVAtqY",
        "outputId": "9bd00060-bac9-441a-d771-5996f31ecff4"
      },
      "source": [
        "# Ordenamos por edad\n",
        "np.sort(users , order = 'edad')"
      ],
      "execution_count": null,
      "outputs": [
        {
          "output_type": "execute_result",
          "data": {
            "text/plain": [
              "array([(b'Zoom', 13, b'Argentina'), (b'Jesus', 20, b'Mexico'),\n",
              "       (b'Maria', 23, b'Mexico'), (b'Yes', 25, b'Mexico'),\n",
              "       (b'Ale', 32, b'Colombia'), (b'Luis', 50, b'Honduras'),\n",
              "       (b'Jhon', 53, b'Canada')],\n",
              "      dtype=[('nombre', 'S10'), ('edad', '<i8'), ('pais', 'S10')])"
            ]
          },
          "metadata": {
            "tags": []
          },
          "execution_count": 28
        }
      ]
    },
    {
      "cell_type": "code",
      "metadata": {
        "colab": {
          "base_uri": "https://localhost:8080/"
        },
        "id": "4lKD7PRmAtqY",
        "outputId": "02f6ca46-8591-4b59-d6b3-a4e903e5acdb"
      },
      "source": [
        "# Ordenamos por nombre\n",
        "np.sort(users, order = 'nombre')"
      ],
      "execution_count": null,
      "outputs": [
        {
          "output_type": "execute_result",
          "data": {
            "text/plain": [
              "array([(b'Ale', 32, b'Colombia'), (b'Jesus', 20, b'Mexico'),\n",
              "       (b'Jhon', 53, b'Canada'), (b'Luis', 50, b'Honduras'),\n",
              "       (b'Maria', 23, b'Mexico'), (b'Yes', 25, b'Mexico'),\n",
              "       (b'Zoom', 13, b'Argentina')],\n",
              "      dtype=[('nombre', 'S10'), ('edad', '<i8'), ('pais', 'S10')])"
            ]
          },
          "metadata": {
            "tags": []
          },
          "execution_count": 29
        }
      ]
    },
    {
      "cell_type": "code",
      "metadata": {
        "colab": {
          "base_uri": "https://localhost:8080/"
        },
        "id": "sEIxUpAEAtqY",
        "outputId": "2f72cc91-a3f0-4d4c-9c5b-5aa20d31d44d"
      },
      "source": [
        "# Ordenamos por país\n",
        "np.sort(users, order = 'pais')"
      ],
      "execution_count": null,
      "outputs": [
        {
          "output_type": "execute_result",
          "data": {
            "text/plain": [
              "array([(b'Zoom', 13, b'Argentina'), (b'Jhon', 53, b'Canada'),\n",
              "       (b'Ale', 32, b'Colombia'), (b'Luis', 50, b'Honduras'),\n",
              "       (b'Jesus', 20, b'Mexico'), (b'Maria', 23, b'Mexico'),\n",
              "       (b'Yes', 25, b'Mexico')],\n",
              "      dtype=[('nombre', 'S10'), ('edad', '<i8'), ('pais', 'S10')])"
            ]
          },
          "metadata": {
            "tags": []
          },
          "execution_count": 30
        }
      ]
    },
    {
      "cell_type": "markdown",
      "metadata": {
        "id": "KJ303pUNAtqY"
      },
      "source": [
        "---"
      ]
    },
    {
      "cell_type": "markdown",
      "metadata": {
        "id": "IuXPalYXAtqY"
      },
      "source": [
        "### Introducción y manipulación de datos con Pandas"
      ]
    },
    {
      "cell_type": "markdown",
      "metadata": {
        "id": "5SYTxcJSAtqZ"
      },
      "source": [
        "Pandas es otra librería de Python que es más una extensión de NumPy que se utiliza para manipulación y análisis de datos. En particular ofrece estructuras de datos y operaciones para manipular tablas numéricas y series temporales."
      ]
    },
    {
      "cell_type": "markdown",
      "metadata": {
        "id": "58lSMF2hAtqZ"
      },
      "source": [
        "Al usar Pandas nos vamos a encontrar lo siguiente:\n",
        "\n",
        "* Manejo de archivos\n",
        "* Series (1D)\n",
        "* Dataframes (2D)\n",
        "* Panels (3D)"
      ]
    },
    {
      "cell_type": "code",
      "metadata": {
        "id": "DyPTWgpdAtqZ"
      },
      "source": [
        "import pandas as pd"
      ],
      "execution_count": null,
      "outputs": []
    },
    {
      "cell_type": "markdown",
      "metadata": {
        "id": "4OPJS-AvAtqZ"
      },
      "source": [
        "Vamos a ver la estructura de datos `serie` que es muy parecido a un diccionario o a la forma de una tabla"
      ]
    },
    {
      "cell_type": "code",
      "metadata": {
        "colab": {
          "base_uri": "https://localhost:8080/"
        },
        "id": "6wAPWZtgAtqZ",
        "outputId": "0de4f668-adfb-43ff-ef53-6ccd24384b09"
      },
      "source": [
        "series = pd.Series( [5, 10, 15, 20, 25] )\n",
        "print(series)"
      ],
      "execution_count": null,
      "outputs": [
        {
          "output_type": "stream",
          "text": [
            "0     5\n",
            "1    10\n",
            "2    15\n",
            "3    20\n",
            "4    25\n",
            "dtype: int64\n"
          ],
          "name": "stdout"
        }
      ]
    },
    {
      "cell_type": "code",
      "metadata": {
        "colab": {
          "base_uri": "https://localhost:8080/"
        },
        "id": "g_GaGTN-Atqa",
        "outputId": "c210e9f6-9211-4152-db75-015b11a0d3af"
      },
      "source": [
        "type(series)"
      ],
      "execution_count": null,
      "outputs": [
        {
          "output_type": "execute_result",
          "data": {
            "text/plain": [
              "pandas.core.series.Series"
            ]
          },
          "metadata": {
            "tags": []
          },
          "execution_count": 33
        }
      ]
    },
    {
      "cell_type": "markdown",
      "metadata": {
        "id": "QX1OxtT5Atqa"
      },
      "source": [
        "también podemos acceder a los elementos individuales"
      ]
    },
    {
      "cell_type": "code",
      "metadata": {
        "colab": {
          "base_uri": "https://localhost:8080/"
        },
        "id": "WgrlMuPaAtqa",
        "outputId": "2ead008f-fe8a-491d-c456-599a8f97a0c6"
      },
      "source": [
        "series[3]"
      ],
      "execution_count": null,
      "outputs": [
        {
          "output_type": "execute_result",
          "data": {
            "text/plain": [
              "20"
            ]
          },
          "metadata": {
            "tags": []
          },
          "execution_count": 34
        }
      ]
    },
    {
      "cell_type": "code",
      "metadata": {
        "colab": {
          "base_uri": "https://localhost:8080/"
        },
        "id": "fT4Qedh7Atqa",
        "outputId": "996ee017-8b6d-49fa-984e-1425de29ca9e"
      },
      "source": [
        "charac = pd.Series( ['p', 'q', 'r', 's', 't', 'u'] )\n",
        "print(charac)"
      ],
      "execution_count": null,
      "outputs": [
        {
          "output_type": "stream",
          "text": [
            "0    p\n",
            "1    q\n",
            "2    r\n",
            "3    s\n",
            "4    t\n",
            "5    u\n",
            "dtype: object\n"
          ],
          "name": "stdout"
        }
      ]
    },
    {
      "cell_type": "markdown",
      "metadata": {
        "id": "rM3toFWbAtqa"
      },
      "source": [
        "La otra estructura con la que vamos a trabajar en Pandas es `dataframe` ya que se usa con regularidad para algoritmos de machine learning y para análisis de datos. Ya que nos acomoda los datos de una forma parecida a como si tuvieramos un  SQL."
      ]
    },
    {
      "cell_type": "code",
      "metadata": {
        "colab": {
          "base_uri": "https://localhost:8080/"
        },
        "id": "PTeRg4MzAtqb",
        "outputId": "90288f0b-e140-4506-f88b-1addfa2ca711"
      },
      "source": [
        "lst = ['Holi', 'como', 'tas'] \n",
        "df = pd.DataFrame(lst) # Lo convertimos a un DataFrame\n",
        "print(df)"
      ],
      "execution_count": null,
      "outputs": [
        {
          "output_type": "stream",
          "text": [
            "      0\n",
            "0  Holi\n",
            "1  como\n",
            "2   tas\n"
          ],
          "name": "stdout"
        }
      ]
    },
    {
      "cell_type": "markdown",
      "metadata": {
        "id": "jWdyeG7gAtqb"
      },
      "source": [
        "probemos ahora con una estructura un poco más compleja"
      ]
    },
    {
      "cell_type": "code",
      "metadata": {
        "scrolled": false,
        "colab": {
          "base_uri": "https://localhost:8080/"
        },
        "id": "U6As09xsAtqb",
        "outputId": "36d1aed7-797c-4d95-9bf1-49a65355b14c"
      },
      "source": [
        "data = { 'Nombre': ['Jesus', 'Ana', 'Maria', 'Jose', 'Marco'], \n",
        "           'edad': [25, 18, 23, 18, 40],\n",
        "           'pais': ['Mexico', 'Colobia', 'Brazil', 'Mexico', 'Bolivia']}\n",
        "\n",
        "df_2 = pd.DataFrame(data)\n",
        "print(df_2)"
      ],
      "execution_count": null,
      "outputs": [
        {
          "output_type": "stream",
          "text": [
            "  Nombre  edad     pais\n",
            "0  Jesus    25   Mexico\n",
            "1    Ana    18  Colobia\n",
            "2  Maria    23   Brazil\n",
            "3   Jose    18   Mexico\n",
            "4  Marco    40  Bolivia\n"
          ],
          "name": "stdout"
        }
      ]
    },
    {
      "cell_type": "markdown",
      "metadata": {
        "id": "StJwB6YtAtqb"
      },
      "source": [
        "podemos imprimir solo algunas columnas que nos interesen"
      ]
    },
    {
      "cell_type": "code",
      "metadata": {
        "colab": {
          "base_uri": "https://localhost:8080/"
        },
        "id": "J1lNkQ7QAtqb",
        "outputId": "6bb9bb76-7513-4a76-f341-9b88e27f3cf7"
      },
      "source": [
        "print(df_2[ [ 'Nombre', 'pais'  ] ])"
      ],
      "execution_count": null,
      "outputs": [
        {
          "output_type": "stream",
          "text": [
            "  Nombre     pais\n",
            "0  Jesus   Mexico\n",
            "1    Ana  Colobia\n",
            "2  Maria   Brazil\n",
            "3   Jose   Mexico\n",
            "4  Marco  Bolivia\n"
          ],
          "name": "stdout"
        }
      ]
    },
    {
      "cell_type": "markdown",
      "metadata": {
        "id": "b5JkvUZ2Atqc"
      },
      "source": [
        "Vamos a mandar a llamar un archivo .CSV"
      ]
    },
    {
      "cell_type": "code",
      "metadata": {
        "id": "tnVqiSxjA4lq"
      },
      "source": [
        "#data = pd.read_csv('../Fundamentos_Practicos_de_Machine_Learning/Archivos/canciones-2018.csv')"
      ],
      "execution_count": null,
      "outputs": []
    },
    {
      "cell_type": "code",
      "metadata": {
        "id": "tQ30el-QA5uU"
      },
      "source": [
        "data = pd.read_csv('canciones-2018.csv')"
      ],
      "execution_count": null,
      "outputs": []
    },
    {
      "cell_type": "code",
      "metadata": {
        "colab": {
          "base_uri": "https://localhost:8080/",
          "height": 203
        },
        "id": "eZgBwvIzAtqc",
        "outputId": "268b6dda-af4d-43a0-8bbd-06f54a1c3b6d"
      },
      "source": [
        "# Y mostramos los 5 primeros elementos\n",
        "data.head(5)"
      ],
      "execution_count": null,
      "outputs": [
        {
          "output_type": "execute_result",
          "data": {
            "text/html": [
              "<div>\n",
              "<style scoped>\n",
              "    .dataframe tbody tr th:only-of-type {\n",
              "        vertical-align: middle;\n",
              "    }\n",
              "\n",
              "    .dataframe tbody tr th {\n",
              "        vertical-align: top;\n",
              "    }\n",
              "\n",
              "    .dataframe thead th {\n",
              "        text-align: right;\n",
              "    }\n",
              "</style>\n",
              "<table border=\"1\" class=\"dataframe\">\n",
              "  <thead>\n",
              "    <tr style=\"text-align: right;\">\n",
              "      <th></th>\n",
              "      <th>Aexperiencia</th>\n",
              "      <th>Salario</th>\n",
              "    </tr>\n",
              "  </thead>\n",
              "  <tbody>\n",
              "    <tr>\n",
              "      <th>0</th>\n",
              "      <td>10.0</td>\n",
              "      <td>42500</td>\n",
              "    </tr>\n",
              "    <tr>\n",
              "      <th>1</th>\n",
              "      <td>8.0</td>\n",
              "      <td>36302</td>\n",
              "    </tr>\n",
              "    <tr>\n",
              "      <th>2</th>\n",
              "      <td>5.4</td>\n",
              "      <td>35000</td>\n",
              "    </tr>\n",
              "    <tr>\n",
              "      <th>3</th>\n",
              "      <td>2.5</td>\n",
              "      <td>18103</td>\n",
              "    </tr>\n",
              "    <tr>\n",
              "      <th>4</th>\n",
              "      <td>1.0</td>\n",
              "      <td>15000</td>\n",
              "    </tr>\n",
              "  </tbody>\n",
              "</table>\n",
              "</div>"
            ],
            "text/plain": [
              "   Aexperiencia  Salario\n",
              "0          10.0    42500\n",
              "1           8.0    36302\n",
              "2           5.4    35000\n",
              "3           2.5    18103\n",
              "4           1.0    15000"
            ]
          },
          "metadata": {
            "tags": []
          },
          "execution_count": 115
        }
      ]
    },
    {
      "cell_type": "markdown",
      "metadata": {
        "id": "jTZolK4gAtqc"
      },
      "source": [
        "**NOTA:** Al cargar archivos usando `pd.read_csv` podemos ajustar ciertos parámetros para que nos muestre los datos de cierta forma:\n",
        "\n",
        "* `delimiter` : Funciona como separados de los datos en el CSV\n",
        "* `decimal` : Notación decimal de los datos.\n",
        "* `encoding` : Para cambiar el tipo de codificación, por ejemplo de UTF-8 a Latin1"
      ]
    },
    {
      "cell_type": "markdown",
      "metadata": {
        "id": "ScFY5icJAtqc"
      },
      "source": [
        "vamos a trabajar con esos datos, por ejemplo agrupemos por nombre de artista"
      ]
    },
    {
      "cell_type": "code",
      "metadata": {
        "colab": {
          "base_uri": "https://localhost:8080/",
          "height": 35
        },
        "id": "pQL9EBUTAtqd",
        "outputId": "c3c1b734-023c-4905-a868-58c872130759"
      },
      "source": [
        "artist = data.artists # Toma \"artists\" de la columna que ya tiene definida}\n",
        "artist[5]"
      ],
      "execution_count": null,
      "outputs": [
        {
          "output_type": "execute_result",
          "data": {
            "application/vnd.google.colaboratory.intrinsic+json": {
              "type": "string"
            },
            "text/plain": [
              "'Post Malone'"
            ]
          },
          "metadata": {
            "tags": []
          },
          "execution_count": 51
        }
      ]
    },
    {
      "cell_type": "markdown",
      "metadata": {
        "id": "d2Qj-rsXAtqd"
      },
      "source": [
        "Ahora queremos buscar información sobre los tipos de datos con los que estamos trabajando, eso lo hacemos con la instrucción `iloc`. Este comando se usa si vamos a usar el indice de las filas y columnas para filtrar nuestros datos. "
      ]
    },
    {
      "cell_type": "code",
      "metadata": {
        "colab": {
          "base_uri": "https://localhost:8080/"
        },
        "id": "kpxB9QpeAtqd",
        "outputId": "68616e6a-8531-4ce1-f22f-a880335b5c37"
      },
      "source": [
        "info = data.iloc[15]\n",
        "info"
      ],
      "execution_count": null,
      "outputs": [
        {
          "output_type": "execute_result",
          "data": {
            "text/plain": [
              "id                     3GCdLUSnKSMJhs4Tj6CV3\n",
              "name                All The Stars (with SZA)\n",
              "artists                       Kendrick Lamar\n",
              "danceability                           0.698\n",
              "energy                                 0.633\n",
              "key                                        8\n",
              "loudness                              -4.946\n",
              "mode                                       1\n",
              "speechiness                           0.0597\n",
              "acousticness                          0.0605\n",
              "instrumentalness                    0.000194\n",
              "liveness                              0.0926\n",
              "valence                                0.552\n",
              "tempo                                 96.924\n",
              "duration_ms                           232187\n",
              "time_signature                             4\n",
              "Name: 15, dtype: object"
            ]
          },
          "metadata": {
            "tags": []
          },
          "execution_count": 52
        }
      ]
    },
    {
      "cell_type": "markdown",
      "metadata": {
        "id": "xLB3rFEYAtqd"
      },
      "source": [
        "también le podemos hacer un `data.tail()` para ver lo que está hasta el final de nuestro archivo (en este caso los últimos 5)"
      ]
    },
    {
      "cell_type": "code",
      "metadata": {
        "id": "i5I-4T-BAtqd",
        "colab": {
          "base_uri": "https://localhost:8080/",
          "height": 391
        },
        "outputId": "58f90e32-6b22-4f20-ba97-659b2ea108ae"
      },
      "source": [
        "data.tail()"
      ],
      "execution_count": null,
      "outputs": [
        {
          "output_type": "execute_result",
          "data": {
            "text/html": [
              "<div>\n",
              "<style scoped>\n",
              "    .dataframe tbody tr th:only-of-type {\n",
              "        vertical-align: middle;\n",
              "    }\n",
              "\n",
              "    .dataframe tbody tr th {\n",
              "        vertical-align: top;\n",
              "    }\n",
              "\n",
              "    .dataframe thead th {\n",
              "        text-align: right;\n",
              "    }\n",
              "</style>\n",
              "<table border=\"1\" class=\"dataframe\">\n",
              "  <thead>\n",
              "    <tr style=\"text-align: right;\">\n",
              "      <th></th>\n",
              "      <th>id</th>\n",
              "      <th>name</th>\n",
              "      <th>artists</th>\n",
              "      <th>danceability</th>\n",
              "      <th>energy</th>\n",
              "      <th>key</th>\n",
              "      <th>loudness</th>\n",
              "      <th>mode</th>\n",
              "      <th>speechiness</th>\n",
              "      <th>acousticness</th>\n",
              "      <th>instrumentalness</th>\n",
              "      <th>liveness</th>\n",
              "      <th>valence</th>\n",
              "      <th>tempo</th>\n",
              "      <th>duration_ms</th>\n",
              "      <th>time_signature</th>\n",
              "    </tr>\n",
              "  </thead>\n",
              "  <tbody>\n",
              "    <tr>\n",
              "      <th>95</th>\n",
              "      <td>630sXRhIcfwr2e4RdNtjK</td>\n",
              "      <td>Rewrite The Stars</td>\n",
              "      <td>Zac Efron</td>\n",
              "      <td>0.684</td>\n",
              "      <td>0.619</td>\n",
              "      <td>10.0</td>\n",
              "      <td>-7.005</td>\n",
              "      <td>1.0</td>\n",
              "      <td>0.0386</td>\n",
              "      <td>0.0716</td>\n",
              "      <td>0.000000</td>\n",
              "      <td>0.1220</td>\n",
              "      <td>0.2840</td>\n",
              "      <td>125.046</td>\n",
              "      <td>217440.0</td>\n",
              "      <td>4.0</td>\n",
              "    </tr>\n",
              "    <tr>\n",
              "      <th>96</th>\n",
              "      <td>2xmrfQpmS2iJExTlklLoA</td>\n",
              "      <td>I Miss You (feat. Julia Michaels)</td>\n",
              "      <td>Clean Bandit</td>\n",
              "      <td>0.638</td>\n",
              "      <td>0.658</td>\n",
              "      <td>3.0</td>\n",
              "      <td>-6.318</td>\n",
              "      <td>1.0</td>\n",
              "      <td>0.0456</td>\n",
              "      <td>0.2450</td>\n",
              "      <td>0.000004</td>\n",
              "      <td>0.0919</td>\n",
              "      <td>0.3300</td>\n",
              "      <td>105.076</td>\n",
              "      <td>205748.0</td>\n",
              "      <td>4.0</td>\n",
              "    </tr>\n",
              "    <tr>\n",
              "      <th>97</th>\n",
              "      <td>5WvAo7DNuPRmk4APhdPzi</td>\n",
              "      <td>No Brainer</td>\n",
              "      <td>DJ Khaled</td>\n",
              "      <td>0.552</td>\n",
              "      <td>0.760</td>\n",
              "      <td>0.0</td>\n",
              "      <td>-4.706</td>\n",
              "      <td>1.0</td>\n",
              "      <td>0.3420</td>\n",
              "      <td>0.0733</td>\n",
              "      <td>0.000000</td>\n",
              "      <td>0.0865</td>\n",
              "      <td>0.6390</td>\n",
              "      <td>135.702</td>\n",
              "      <td>260000.0</td>\n",
              "      <td>5.0</td>\n",
              "    </tr>\n",
              "    <tr>\n",
              "      <th>98</th>\n",
              "      <td>1j4kHkkpqZRBwE0A4CN4Y</td>\n",
              "      <td>Dusk Till Dawn - Radio Edit</td>\n",
              "      <td>ZAYN</td>\n",
              "      <td>0.258</td>\n",
              "      <td>0.437</td>\n",
              "      <td>11.0</td>\n",
              "      <td>-6.593</td>\n",
              "      <td>0.0</td>\n",
              "      <td>0.0390</td>\n",
              "      <td>0.1010</td>\n",
              "      <td>0.000001</td>\n",
              "      <td>0.1060</td>\n",
              "      <td>0.0967</td>\n",
              "      <td>180.043</td>\n",
              "      <td>239000.0</td>\n",
              "      <td>4.0</td>\n",
              "    </tr>\n",
              "    <tr>\n",
              "      <th>99</th>\n",
              "      <td>3EPXxR3ImUwfayaurPi3c</td>\n",
              "      <td>Be Alright</td>\n",
              "      <td>Dean Lewis</td>\n",
              "      <td>0.553</td>\n",
              "      <td>0.586</td>\n",
              "      <td>11.0</td>\n",
              "      <td>-6.319</td>\n",
              "      <td>1.0</td>\n",
              "      <td>0.0362</td>\n",
              "      <td>0.6970</td>\n",
              "      <td>0.000000</td>\n",
              "      <td>0.0813</td>\n",
              "      <td>0.4430</td>\n",
              "      <td>126.684</td>\n",
              "      <td>196373.0</td>\n",
              "      <td>4.0</td>\n",
              "    </tr>\n",
              "  </tbody>\n",
              "</table>\n",
              "</div>"
            ],
            "text/plain": [
              "                       id  ... time_signature\n",
              "95  630sXRhIcfwr2e4RdNtjK  ...            4.0\n",
              "96  2xmrfQpmS2iJExTlklLoA  ...            4.0\n",
              "97  5WvAo7DNuPRmk4APhdPzi  ...            5.0\n",
              "98  1j4kHkkpqZRBwE0A4CN4Y  ...            4.0\n",
              "99  3EPXxR3ImUwfayaurPi3c  ...            4.0\n",
              "\n",
              "[5 rows x 16 columns]"
            ]
          },
          "metadata": {
            "tags": []
          },
          "execution_count": 53
        }
      ]
    },
    {
      "cell_type": "markdown",
      "metadata": {
        "id": "8PE2b15hAtqe"
      },
      "source": [
        "Y si queremos saber la forma del archivo podemos usar `data.shape` que nos da las filas y columnas"
      ]
    },
    {
      "cell_type": "code",
      "metadata": {
        "id": "KPjL9M8RAtqe",
        "colab": {
          "base_uri": "https://localhost:8080/"
        },
        "outputId": "b5d97bfa-b843-453b-f662-f8980814ae63"
      },
      "source": [
        "data.shape"
      ],
      "execution_count": null,
      "outputs": [
        {
          "output_type": "execute_result",
          "data": {
            "text/plain": [
              "(100, 16)"
            ]
          },
          "metadata": {
            "tags": []
          },
          "execution_count": 54
        }
      ]
    },
    {
      "cell_type": "markdown",
      "metadata": {
        "id": "jXp7SGKfAtqe"
      },
      "source": [
        "también podemos obtener las columnas con el método `columns`"
      ]
    },
    {
      "cell_type": "code",
      "metadata": {
        "id": "U1DDqiIqAtqe",
        "colab": {
          "base_uri": "https://localhost:8080/"
        },
        "outputId": "cf4f17b2-9b97-4233-b792-1081d2c822b9"
      },
      "source": [
        "data.columns"
      ],
      "execution_count": null,
      "outputs": [
        {
          "output_type": "execute_result",
          "data": {
            "text/plain": [
              "Index(['id', 'name', 'artists', 'danceability', 'energy', 'key', 'loudness',\n",
              "       'mode', 'speechiness', 'acousticness', 'instrumentalness', 'liveness',\n",
              "       'valence', 'tempo', 'duration_ms', 'time_signature'],\n",
              "      dtype='object')"
            ]
          },
          "metadata": {
            "tags": []
          },
          "execution_count": 55
        }
      ]
    },
    {
      "cell_type": "markdown",
      "metadata": {
        "id": "XiYayvnXAtqf"
      },
      "source": [
        "por ejemplo, si queremos describir alguna de las columnas en particular podemos usar el método `describe()`"
      ]
    },
    {
      "cell_type": "code",
      "metadata": {
        "id": "ARL3mVLlAtqf",
        "colab": {
          "base_uri": "https://localhost:8080/"
        },
        "outputId": "8a5af47b-6df2-4f08-85f0-916d65c4fd51"
      },
      "source": [
        "data['tempo'].describe()"
      ],
      "execution_count": null,
      "outputs": [
        {
          "output_type": "execute_result",
          "data": {
            "text/plain": [
              "count    100.000000\n",
              "mean     119.904180\n",
              "std       28.795984\n",
              "min       64.934000\n",
              "25%       95.730750\n",
              "50%      120.116000\n",
              "75%      140.022750\n",
              "max      198.075000\n",
              "Name: tempo, dtype: float64"
            ]
          },
          "metadata": {
            "tags": []
          },
          "execution_count": 56
        }
      ]
    },
    {
      "cell_type": "markdown",
      "metadata": {
        "id": "z3nn8UQNAtqf"
      },
      "source": [
        "Y también podemos ordenarlo con `.sort_index`, donde le indicamos la posición desde la que queremos ordenar y en que orden."
      ]
    },
    {
      "cell_type": "code",
      "metadata": {
        "id": "WF9AmYIbAtqf",
        "colab": {
          "base_uri": "https://localhost:8080/",
          "height": 706
        },
        "outputId": "d3aa853c-3567-4464-d934-a383688e4045"
      },
      "source": [
        "data.sort_index(axis = 0, ascending = False) #De forma descendente hasta 0"
      ],
      "execution_count": null,
      "outputs": [
        {
          "output_type": "execute_result",
          "data": {
            "text/html": [
              "<div>\n",
              "<style scoped>\n",
              "    .dataframe tbody tr th:only-of-type {\n",
              "        vertical-align: middle;\n",
              "    }\n",
              "\n",
              "    .dataframe tbody tr th {\n",
              "        vertical-align: top;\n",
              "    }\n",
              "\n",
              "    .dataframe thead th {\n",
              "        text-align: right;\n",
              "    }\n",
              "</style>\n",
              "<table border=\"1\" class=\"dataframe\">\n",
              "  <thead>\n",
              "    <tr style=\"text-align: right;\">\n",
              "      <th></th>\n",
              "      <th>id</th>\n",
              "      <th>name</th>\n",
              "      <th>artists</th>\n",
              "      <th>danceability</th>\n",
              "      <th>energy</th>\n",
              "      <th>key</th>\n",
              "      <th>loudness</th>\n",
              "      <th>mode</th>\n",
              "      <th>speechiness</th>\n",
              "      <th>acousticness</th>\n",
              "      <th>instrumentalness</th>\n",
              "      <th>liveness</th>\n",
              "      <th>valence</th>\n",
              "      <th>tempo</th>\n",
              "      <th>duration_ms</th>\n",
              "      <th>time_signature</th>\n",
              "    </tr>\n",
              "  </thead>\n",
              "  <tbody>\n",
              "    <tr>\n",
              "      <th>99</th>\n",
              "      <td>3EPXxR3ImUwfayaurPi3c</td>\n",
              "      <td>Be Alright</td>\n",
              "      <td>Dean Lewis</td>\n",
              "      <td>0.553</td>\n",
              "      <td>0.586</td>\n",
              "      <td>11.0</td>\n",
              "      <td>-6.319</td>\n",
              "      <td>1.0</td>\n",
              "      <td>0.0362</td>\n",
              "      <td>0.6970</td>\n",
              "      <td>0.000000</td>\n",
              "      <td>0.0813</td>\n",
              "      <td>0.4430</td>\n",
              "      <td>126.684</td>\n",
              "      <td>196373.0</td>\n",
              "      <td>4.0</td>\n",
              "    </tr>\n",
              "    <tr>\n",
              "      <th>98</th>\n",
              "      <td>1j4kHkkpqZRBwE0A4CN4Y</td>\n",
              "      <td>Dusk Till Dawn - Radio Edit</td>\n",
              "      <td>ZAYN</td>\n",
              "      <td>0.258</td>\n",
              "      <td>0.437</td>\n",
              "      <td>11.0</td>\n",
              "      <td>-6.593</td>\n",
              "      <td>0.0</td>\n",
              "      <td>0.0390</td>\n",
              "      <td>0.1010</td>\n",
              "      <td>0.000001</td>\n",
              "      <td>0.1060</td>\n",
              "      <td>0.0967</td>\n",
              "      <td>180.043</td>\n",
              "      <td>239000.0</td>\n",
              "      <td>4.0</td>\n",
              "    </tr>\n",
              "    <tr>\n",
              "      <th>97</th>\n",
              "      <td>5WvAo7DNuPRmk4APhdPzi</td>\n",
              "      <td>No Brainer</td>\n",
              "      <td>DJ Khaled</td>\n",
              "      <td>0.552</td>\n",
              "      <td>0.760</td>\n",
              "      <td>0.0</td>\n",
              "      <td>-4.706</td>\n",
              "      <td>1.0</td>\n",
              "      <td>0.3420</td>\n",
              "      <td>0.0733</td>\n",
              "      <td>0.000000</td>\n",
              "      <td>0.0865</td>\n",
              "      <td>0.6390</td>\n",
              "      <td>135.702</td>\n",
              "      <td>260000.0</td>\n",
              "      <td>5.0</td>\n",
              "    </tr>\n",
              "    <tr>\n",
              "      <th>96</th>\n",
              "      <td>2xmrfQpmS2iJExTlklLoA</td>\n",
              "      <td>I Miss You (feat. Julia Michaels)</td>\n",
              "      <td>Clean Bandit</td>\n",
              "      <td>0.638</td>\n",
              "      <td>0.658</td>\n",
              "      <td>3.0</td>\n",
              "      <td>-6.318</td>\n",
              "      <td>1.0</td>\n",
              "      <td>0.0456</td>\n",
              "      <td>0.2450</td>\n",
              "      <td>0.000004</td>\n",
              "      <td>0.0919</td>\n",
              "      <td>0.3300</td>\n",
              "      <td>105.076</td>\n",
              "      <td>205748.0</td>\n",
              "      <td>4.0</td>\n",
              "    </tr>\n",
              "    <tr>\n",
              "      <th>95</th>\n",
              "      <td>630sXRhIcfwr2e4RdNtjK</td>\n",
              "      <td>Rewrite The Stars</td>\n",
              "      <td>Zac Efron</td>\n",
              "      <td>0.684</td>\n",
              "      <td>0.619</td>\n",
              "      <td>10.0</td>\n",
              "      <td>-7.005</td>\n",
              "      <td>1.0</td>\n",
              "      <td>0.0386</td>\n",
              "      <td>0.0716</td>\n",
              "      <td>0.000000</td>\n",
              "      <td>0.1220</td>\n",
              "      <td>0.2840</td>\n",
              "      <td>125.046</td>\n",
              "      <td>217440.0</td>\n",
              "      <td>4.0</td>\n",
              "    </tr>\n",
              "    <tr>\n",
              "      <th>...</th>\n",
              "      <td>...</td>\n",
              "      <td>...</td>\n",
              "      <td>...</td>\n",
              "      <td>...</td>\n",
              "      <td>...</td>\n",
              "      <td>...</td>\n",
              "      <td>...</td>\n",
              "      <td>...</td>\n",
              "      <td>...</td>\n",
              "      <td>...</td>\n",
              "      <td>...</td>\n",
              "      <td>...</td>\n",
              "      <td>...</td>\n",
              "      <td>...</td>\n",
              "      <td>...</td>\n",
              "      <td>...</td>\n",
              "    </tr>\n",
              "    <tr>\n",
              "      <th>4</th>\n",
              "      <td>2G7V7zsVDxg1yRsu7Ew9R</td>\n",
              "      <td>In My Feelings</td>\n",
              "      <td>Drake</td>\n",
              "      <td>0.835</td>\n",
              "      <td>0.626</td>\n",
              "      <td>1.0</td>\n",
              "      <td>-5.833</td>\n",
              "      <td>1.0</td>\n",
              "      <td>0.1250</td>\n",
              "      <td>0.0589</td>\n",
              "      <td>0.000060</td>\n",
              "      <td>0.3960</td>\n",
              "      <td>0.3500</td>\n",
              "      <td>91.030</td>\n",
              "      <td>217925.0</td>\n",
              "      <td>4.0</td>\n",
              "    </tr>\n",
              "    <tr>\n",
              "      <th>3</th>\n",
              "      <td>3swc6WTsr7rl9DqQKQA55</td>\n",
              "      <td>Psycho (feat. Ty Dolla $ign)</td>\n",
              "      <td>Post Malone</td>\n",
              "      <td>0.739</td>\n",
              "      <td>0.559</td>\n",
              "      <td>8.0</td>\n",
              "      <td>-8.011</td>\n",
              "      <td>1.0</td>\n",
              "      <td>0.1170</td>\n",
              "      <td>0.5800</td>\n",
              "      <td>0.000000</td>\n",
              "      <td>0.1120</td>\n",
              "      <td>0.4390</td>\n",
              "      <td>140.124</td>\n",
              "      <td>221440.0</td>\n",
              "      <td>4.0</td>\n",
              "    </tr>\n",
              "    <tr>\n",
              "      <th>2</th>\n",
              "      <td>0e7ipj03S05BNilyu5bRz</td>\n",
              "      <td>rockstar (feat. 21 Savage)</td>\n",
              "      <td>Post Malone</td>\n",
              "      <td>0.587</td>\n",
              "      <td>0.535</td>\n",
              "      <td>5.0</td>\n",
              "      <td>-6.090</td>\n",
              "      <td>0.0</td>\n",
              "      <td>0.0898</td>\n",
              "      <td>0.1170</td>\n",
              "      <td>0.000066</td>\n",
              "      <td>0.1310</td>\n",
              "      <td>0.1400</td>\n",
              "      <td>159.847</td>\n",
              "      <td>218147.0</td>\n",
              "      <td>4.0</td>\n",
              "    </tr>\n",
              "    <tr>\n",
              "      <th>1</th>\n",
              "      <td>3ee8Jmje8o58CHK66QrVC</td>\n",
              "      <td>SAD!</td>\n",
              "      <td>XXXTENTACION</td>\n",
              "      <td>0.740</td>\n",
              "      <td>0.613</td>\n",
              "      <td>8.0</td>\n",
              "      <td>-4.880</td>\n",
              "      <td>1.0</td>\n",
              "      <td>0.1450</td>\n",
              "      <td>0.2580</td>\n",
              "      <td>0.003720</td>\n",
              "      <td>0.1230</td>\n",
              "      <td>0.4730</td>\n",
              "      <td>75.023</td>\n",
              "      <td>166606.0</td>\n",
              "      <td>4.0</td>\n",
              "    </tr>\n",
              "    <tr>\n",
              "      <th>0</th>\n",
              "      <td>6DCZcSspjsKoFjzjrWoCd</td>\n",
              "      <td>God's Plan</td>\n",
              "      <td>Drake</td>\n",
              "      <td>0.754</td>\n",
              "      <td>0.449</td>\n",
              "      <td>7.0</td>\n",
              "      <td>-9.211</td>\n",
              "      <td>1.0</td>\n",
              "      <td>0.1090</td>\n",
              "      <td>0.0332</td>\n",
              "      <td>0.000083</td>\n",
              "      <td>0.5520</td>\n",
              "      <td>0.3570</td>\n",
              "      <td>77.169</td>\n",
              "      <td>198973.0</td>\n",
              "      <td>4.0</td>\n",
              "    </tr>\n",
              "  </tbody>\n",
              "</table>\n",
              "<p>100 rows × 16 columns</p>\n",
              "</div>"
            ],
            "text/plain": [
              "                       id  ... time_signature\n",
              "99  3EPXxR3ImUwfayaurPi3c  ...            4.0\n",
              "98  1j4kHkkpqZRBwE0A4CN4Y  ...            4.0\n",
              "97  5WvAo7DNuPRmk4APhdPzi  ...            5.0\n",
              "96  2xmrfQpmS2iJExTlklLoA  ...            4.0\n",
              "95  630sXRhIcfwr2e4RdNtjK  ...            4.0\n",
              "..                    ...  ...            ...\n",
              "4   2G7V7zsVDxg1yRsu7Ew9R  ...            4.0\n",
              "3   3swc6WTsr7rl9DqQKQA55  ...            4.0\n",
              "2   0e7ipj03S05BNilyu5bRz  ...            4.0\n",
              "1   3ee8Jmje8o58CHK66QrVC  ...            4.0\n",
              "0   6DCZcSspjsKoFjzjrWoCd  ...            4.0\n",
              "\n",
              "[100 rows x 16 columns]"
            ]
          },
          "metadata": {
            "tags": []
          },
          "execution_count": 57
        }
      ]
    },
    {
      "cell_type": "markdown",
      "metadata": {
        "id": "SEJnBB29Atqg"
      },
      "source": [
        "como practica seleccionemos 3 columnas y vamos a ordenarlas de forma descendente o ascendente:"
      ]
    },
    {
      "cell_type": "code",
      "metadata": {
        "id": "pP-Lk7UwAtqg"
      },
      "source": [
        "# Ubicamos las 3 columnas de interes\n",
        "columns = data[['name', 'artists', 'duration_ms']]"
      ],
      "execution_count": null,
      "outputs": []
    },
    {
      "cell_type": "markdown",
      "metadata": {
        "id": "VGYvF3hUAtqg"
      },
      "source": [
        "para realizar esto podemos recurrir al método `sort_values()` ya que nos permite ordenar con base en los valores de la columna, en este caso el nombre asignado."
      ]
    },
    {
      "cell_type": "markdown",
      "metadata": {
        "id": "9wwee9z1Atqg"
      },
      "source": [
        "Ordenemos por la duración, de la más larga a la más corta"
      ]
    },
    {
      "cell_type": "code",
      "metadata": {
        "id": "BnHpjFJIAtqg",
        "colab": {
          "base_uri": "https://localhost:8080/",
          "height": 417
        },
        "outputId": "665b6338-62be-491c-af61-ed7998341f6d"
      },
      "source": [
        "# Como estamos usando un valor en lugar del indice usamos .s\n",
        "columns.sort_values(by = 'duration_ms', ascending = False)"
      ],
      "execution_count": null,
      "outputs": [
        {
          "output_type": "execute_result",
          "data": {
            "text/html": [
              "<div>\n",
              "<style scoped>\n",
              "    .dataframe tbody tr th:only-of-type {\n",
              "        vertical-align: middle;\n",
              "    }\n",
              "\n",
              "    .dataframe tbody tr th {\n",
              "        vertical-align: top;\n",
              "    }\n",
              "\n",
              "    .dataframe thead th {\n",
              "        text-align: right;\n",
              "    }\n",
              "</style>\n",
              "<table border=\"1\" class=\"dataframe\">\n",
              "  <thead>\n",
              "    <tr style=\"text-align: right;\">\n",
              "      <th></th>\n",
              "      <th>name</th>\n",
              "      <th>artists</th>\n",
              "      <th>duration_ms</th>\n",
              "    </tr>\n",
              "  </thead>\n",
              "  <tbody>\n",
              "    <tr>\n",
              "      <th>21</th>\n",
              "      <td>Te Bot? - Remix</td>\n",
              "      <td>Nio Garcia</td>\n",
              "      <td>417920.0</td>\n",
              "    </tr>\n",
              "    <tr>\n",
              "      <th>42</th>\n",
              "      <td>SICKO MODE</td>\n",
              "      <td>Travis Scott</td>\n",
              "      <td>312820.0</td>\n",
              "    </tr>\n",
              "    <tr>\n",
              "      <th>73</th>\n",
              "      <td>Walk It Talk It</td>\n",
              "      <td>Migos</td>\n",
              "      <td>276147.0</td>\n",
              "    </tr>\n",
              "    <tr>\n",
              "      <th>74</th>\n",
              "      <td>Him &amp; I (with Halsey)</td>\n",
              "      <td>G-Eazy</td>\n",
              "      <td>268867.0</td>\n",
              "    </tr>\n",
              "    <tr>\n",
              "      <th>29</th>\n",
              "      <td>Perfect</td>\n",
              "      <td>Ed Sheeran</td>\n",
              "      <td>263400.0</td>\n",
              "    </tr>\n",
              "    <tr>\n",
              "      <th>...</th>\n",
              "      <td>...</td>\n",
              "      <td>...</td>\n",
              "      <td>...</td>\n",
              "    </tr>\n",
              "    <tr>\n",
              "      <th>18</th>\n",
              "      <td>Moonlight</td>\n",
              "      <td>XXXTENTACION</td>\n",
              "      <td>135090.0</td>\n",
              "    </tr>\n",
              "    <tr>\n",
              "      <th>22</th>\n",
              "      <td>Mine</td>\n",
              "      <td>Bazzi</td>\n",
              "      <td>131064.0</td>\n",
              "    </tr>\n",
              "    <tr>\n",
              "      <th>38</th>\n",
              "      <td>changes</td>\n",
              "      <td>XXXTENTACION</td>\n",
              "      <td>121887.0</td>\n",
              "    </tr>\n",
              "    <tr>\n",
              "      <th>28</th>\n",
              "      <td>Jocelyn Flores</td>\n",
              "      <td>XXXTENTACION</td>\n",
              "      <td>119133.0</td>\n",
              "    </tr>\n",
              "    <tr>\n",
              "      <th>94</th>\n",
              "      <td>Everybody Dies In Their Nightmares</td>\n",
              "      <td>XXXTENTACION</td>\n",
              "      <td>95467.0</td>\n",
              "    </tr>\n",
              "  </tbody>\n",
              "</table>\n",
              "<p>100 rows × 3 columns</p>\n",
              "</div>"
            ],
            "text/plain": [
              "                                  name       artists  duration_ms\n",
              "21                     Te Bot? - Remix    Nio Garcia     417920.0\n",
              "42                          SICKO MODE  Travis Scott     312820.0\n",
              "73                     Walk It Talk It         Migos     276147.0\n",
              "74               Him & I (with Halsey)        G-Eazy     268867.0\n",
              "29                             Perfect    Ed Sheeran     263400.0\n",
              "..                                 ...           ...          ...\n",
              "18                           Moonlight  XXXTENTACION     135090.0\n",
              "22                                Mine         Bazzi     131064.0\n",
              "38                             changes  XXXTENTACION     121887.0\n",
              "28                      Jocelyn Flores  XXXTENTACION     119133.0\n",
              "94  Everybody Dies In Their Nightmares  XXXTENTACION      95467.0\n",
              "\n",
              "[100 rows x 3 columns]"
            ]
          },
          "metadata": {
            "tags": []
          },
          "execution_count": 59
        }
      ]
    },
    {
      "cell_type": "markdown",
      "metadata": {
        "id": "Q46DNJUQAtqg"
      },
      "source": [
        "ahora de la más corta a la más larga"
      ]
    },
    {
      "cell_type": "code",
      "metadata": {
        "id": "PmplksXXAtqh",
        "colab": {
          "base_uri": "https://localhost:8080/",
          "height": 417
        },
        "outputId": "0cd5f56c-9fea-4d96-dea8-bb8a434979e1"
      },
      "source": [
        "columns.sort_values(by = 'duration_ms' , ascending = True)"
      ],
      "execution_count": null,
      "outputs": [
        {
          "output_type": "execute_result",
          "data": {
            "text/html": [
              "<div>\n",
              "<style scoped>\n",
              "    .dataframe tbody tr th:only-of-type {\n",
              "        vertical-align: middle;\n",
              "    }\n",
              "\n",
              "    .dataframe tbody tr th {\n",
              "        vertical-align: top;\n",
              "    }\n",
              "\n",
              "    .dataframe thead th {\n",
              "        text-align: right;\n",
              "    }\n",
              "</style>\n",
              "<table border=\"1\" class=\"dataframe\">\n",
              "  <thead>\n",
              "    <tr style=\"text-align: right;\">\n",
              "      <th></th>\n",
              "      <th>name</th>\n",
              "      <th>artists</th>\n",
              "      <th>duration_ms</th>\n",
              "    </tr>\n",
              "  </thead>\n",
              "  <tbody>\n",
              "    <tr>\n",
              "      <th>94</th>\n",
              "      <td>Everybody Dies In Their Nightmares</td>\n",
              "      <td>XXXTENTACION</td>\n",
              "      <td>95467.0</td>\n",
              "    </tr>\n",
              "    <tr>\n",
              "      <th>28</th>\n",
              "      <td>Jocelyn Flores</td>\n",
              "      <td>XXXTENTACION</td>\n",
              "      <td>119133.0</td>\n",
              "    </tr>\n",
              "    <tr>\n",
              "      <th>38</th>\n",
              "      <td>changes</td>\n",
              "      <td>XXXTENTACION</td>\n",
              "      <td>121887.0</td>\n",
              "    </tr>\n",
              "    <tr>\n",
              "      <th>22</th>\n",
              "      <td>Mine</td>\n",
              "      <td>Bazzi</td>\n",
              "      <td>131064.0</td>\n",
              "    </tr>\n",
              "    <tr>\n",
              "      <th>18</th>\n",
              "      <td>Moonlight</td>\n",
              "      <td>XXXTENTACION</td>\n",
              "      <td>135090.0</td>\n",
              "    </tr>\n",
              "    <tr>\n",
              "      <th>...</th>\n",
              "      <td>...</td>\n",
              "      <td>...</td>\n",
              "      <td>...</td>\n",
              "    </tr>\n",
              "    <tr>\n",
              "      <th>29</th>\n",
              "      <td>Perfect</td>\n",
              "      <td>Ed Sheeran</td>\n",
              "      <td>263400.0</td>\n",
              "    </tr>\n",
              "    <tr>\n",
              "      <th>74</th>\n",
              "      <td>Him &amp; I (with Halsey)</td>\n",
              "      <td>G-Eazy</td>\n",
              "      <td>268867.0</td>\n",
              "    </tr>\n",
              "    <tr>\n",
              "      <th>73</th>\n",
              "      <td>Walk It Talk It</td>\n",
              "      <td>Migos</td>\n",
              "      <td>276147.0</td>\n",
              "    </tr>\n",
              "    <tr>\n",
              "      <th>42</th>\n",
              "      <td>SICKO MODE</td>\n",
              "      <td>Travis Scott</td>\n",
              "      <td>312820.0</td>\n",
              "    </tr>\n",
              "    <tr>\n",
              "      <th>21</th>\n",
              "      <td>Te Bot? - Remix</td>\n",
              "      <td>Nio Garcia</td>\n",
              "      <td>417920.0</td>\n",
              "    </tr>\n",
              "  </tbody>\n",
              "</table>\n",
              "<p>100 rows × 3 columns</p>\n",
              "</div>"
            ],
            "text/plain": [
              "                                  name       artists  duration_ms\n",
              "94  Everybody Dies In Their Nightmares  XXXTENTACION      95467.0\n",
              "28                      Jocelyn Flores  XXXTENTACION     119133.0\n",
              "38                             changes  XXXTENTACION     121887.0\n",
              "22                                Mine         Bazzi     131064.0\n",
              "18                           Moonlight  XXXTENTACION     135090.0\n",
              "..                                 ...           ...          ...\n",
              "29                             Perfect    Ed Sheeran     263400.0\n",
              "74               Him & I (with Halsey)        G-Eazy     268867.0\n",
              "73                     Walk It Talk It         Migos     276147.0\n",
              "42                          SICKO MODE  Travis Scott     312820.0\n",
              "21                     Te Bot? - Remix    Nio Garcia     417920.0\n",
              "\n",
              "[100 rows x 3 columns]"
            ]
          },
          "metadata": {
            "tags": []
          },
          "execution_count": 60
        }
      ]
    },
    {
      "cell_type": "markdown",
      "metadata": {
        "id": "DHnsS_EEAtqh"
      },
      "source": [
        "ahora probemos por el nombre de la canción"
      ]
    },
    {
      "cell_type": "code",
      "metadata": {
        "id": "pIX-4PjFAtqh",
        "colab": {
          "base_uri": "https://localhost:8080/",
          "height": 417
        },
        "outputId": "3bcd5e62-6a2c-4253-c06d-f1ee36dd99b0"
      },
      "source": [
        "columns.sort_values(by = 'name', ascending = True)"
      ],
      "execution_count": null,
      "outputs": [
        {
          "output_type": "execute_result",
          "data": {
            "text/html": [
              "<div>\n",
              "<style scoped>\n",
              "    .dataframe tbody tr th:only-of-type {\n",
              "        vertical-align: middle;\n",
              "    }\n",
              "\n",
              "    .dataframe tbody tr th {\n",
              "        vertical-align: top;\n",
              "    }\n",
              "\n",
              "    .dataframe thead th {\n",
              "        text-align: right;\n",
              "    }\n",
              "</style>\n",
              "<table border=\"1\" class=\"dataframe\">\n",
              "  <thead>\n",
              "    <tr style=\"text-align: right;\">\n",
              "      <th></th>\n",
              "      <th>name</th>\n",
              "      <th>artists</th>\n",
              "      <th>duration_ms</th>\n",
              "    </tr>\n",
              "  </thead>\n",
              "  <tbody>\n",
              "    <tr>\n",
              "      <th>77</th>\n",
              "      <td>1, 2, 3 (feat. Jason Derulo &amp; De La Ghetto)</td>\n",
              "      <td>Sofia Reyes</td>\n",
              "      <td>201526.0</td>\n",
              "    </tr>\n",
              "    <tr>\n",
              "      <th>60</th>\n",
              "      <td>2002</td>\n",
              "      <td>Anne-Marie</td>\n",
              "      <td>186987.0</td>\n",
              "    </tr>\n",
              "    <tr>\n",
              "      <th>34</th>\n",
              "      <td>?chame La Culpa</td>\n",
              "      <td>Luis Fonsi</td>\n",
              "      <td>173720.0</td>\n",
              "    </tr>\n",
              "    <tr>\n",
              "      <th>15</th>\n",
              "      <td>All The Stars (with SZA)</td>\n",
              "      <td>Kendrick Lamar</td>\n",
              "      <td>232187.0</td>\n",
              "    </tr>\n",
              "    <tr>\n",
              "      <th>47</th>\n",
              "      <td>Back To You - From 13 Reasons Why ? Season 2 S...</td>\n",
              "      <td>Selena Gomez</td>\n",
              "      <td>207905.0</td>\n",
              "    </tr>\n",
              "    <tr>\n",
              "      <th>...</th>\n",
              "      <td>...</td>\n",
              "      <td>...</td>\n",
              "      <td>...</td>\n",
              "    </tr>\n",
              "    <tr>\n",
              "      <th>23</th>\n",
              "      <td>Youngblood</td>\n",
              "      <td>5 Seconds of Summer</td>\n",
              "      <td>203418.0</td>\n",
              "    </tr>\n",
              "    <tr>\n",
              "      <th>38</th>\n",
              "      <td>changes</td>\n",
              "      <td>XXXTENTACION</td>\n",
              "      <td>121887.0</td>\n",
              "    </tr>\n",
              "    <tr>\n",
              "      <th>80</th>\n",
              "      <td>lovely (with Khalid)</td>\n",
              "      <td>Billie Eilish</td>\n",
              "      <td>200186.0</td>\n",
              "    </tr>\n",
              "    <tr>\n",
              "      <th>16</th>\n",
              "      <td>no tears left to cry</td>\n",
              "      <td>Ariana Grande</td>\n",
              "      <td>205920.0</td>\n",
              "    </tr>\n",
              "    <tr>\n",
              "      <th>2</th>\n",
              "      <td>rockstar (feat. 21 Savage)</td>\n",
              "      <td>Post Malone</td>\n",
              "      <td>218147.0</td>\n",
              "    </tr>\n",
              "  </tbody>\n",
              "</table>\n",
              "<p>100 rows × 3 columns</p>\n",
              "</div>"
            ],
            "text/plain": [
              "                                                 name  ... duration_ms\n",
              "77        1, 2, 3 (feat. Jason Derulo & De La Ghetto)  ...    201526.0\n",
              "60                                               2002  ...    186987.0\n",
              "34                                    ?chame La Culpa  ...    173720.0\n",
              "15                           All The Stars (with SZA)  ...    232187.0\n",
              "47  Back To You - From 13 Reasons Why ? Season 2 S...  ...    207905.0\n",
              "..                                                ...  ...         ...\n",
              "23                                         Youngblood  ...    203418.0\n",
              "38                                            changes  ...    121887.0\n",
              "80                               lovely (with Khalid)  ...    200186.0\n",
              "16                               no tears left to cry  ...    205920.0\n",
              "2                          rockstar (feat. 21 Savage)  ...    218147.0\n",
              "\n",
              "[100 rows x 3 columns]"
            ]
          },
          "metadata": {
            "tags": []
          },
          "execution_count": 61
        }
      ]
    },
    {
      "cell_type": "markdown",
      "metadata": {
        "id": "d7E56fHzAtqh"
      },
      "source": [
        "---"
      ]
    },
    {
      "cell_type": "markdown",
      "metadata": {
        "id": "7asPKF-tAtqh"
      },
      "source": [
        "### Introducción a SickitLearn"
      ]
    },
    {
      "cell_type": "markdown",
      "metadata": {
        "id": "F17Uzy6rAtqi"
      },
      "source": [
        "Esta es una biblioteca de Python de código abierto para aprendizaje automático, incluye algoritmos como árboles de decisión, regresión, máquina de soporte vectorial, entre otros."
      ]
    },
    {
      "cell_type": "markdown",
      "metadata": {
        "id": "ASxa-j13Atqi"
      },
      "source": [
        "Esta biblioteca cuenta con:\n",
        "\n",
        "* Variedad de módulos\n",
        "* Versatilidad\n",
        "* Facilidad de uso"
      ]
    },
    {
      "cell_type": "markdown",
      "metadata": {
        "id": "jyaIxQ_rAtqi"
      },
      "source": [
        "Por ejemplo, al querer importar un modelo de aprendizaje solo tenemos que usar la siguiente sintaxis:\n",
        "\n",
        "```Python\n",
        "from sklearn\n",
        "import [modelo]\n",
        "```"
      ]
    },
    {
      "cell_type": "markdown",
      "metadata": {
        "id": "l6SAUFe9Atqi"
      },
      "source": [
        "por ejemplo"
      ]
    },
    {
      "cell_type": "markdown",
      "metadata": {
        "id": "viJbTeHXAtqi"
      },
      "source": [
        "```Python\n",
        "# Para hacer pre-procesamiento de datos\n",
        "from sklearn import preprocessing\n",
        "# Para establecer nuestros conjuntos de entrenamiento y evaluación\n",
        "from sklearn import train_test_split \n",
        "# Para usar las métricas necesarias para analizar la ejecución de nuestros modelos\n",
        "from sklearn import metrics \n",
        "# Para crear árboles de decisión\n",
        "from sklearn import tree\n",
        "```"
      ]
    },
    {
      "cell_type": "markdown",
      "metadata": {
        "id": "9_fFExUOAtqi"
      },
      "source": [
        "no ahondaremos más en esta introducción ya que será la librería que más utilizaremos en el transcurso del notebook."
      ]
    },
    {
      "cell_type": "markdown",
      "metadata": {
        "id": "sXawgxMsAtqi"
      },
      "source": [
        "---"
      ]
    },
    {
      "cell_type": "markdown",
      "metadata": {
        "id": "8unsiEfyAtqj"
      },
      "source": [
        "### Comandos básicos de Numpy"
      ]
    },
    {
      "cell_type": "markdown",
      "metadata": {
        "id": "ga1OvyO0Atqj"
      },
      "source": [
        "Importar biblioteca:"
      ]
    },
    {
      "cell_type": "code",
      "metadata": {
        "id": "6aospV29Atqj"
      },
      "source": [
        "import numpy as np"
      ],
      "execution_count": null,
      "outputs": []
    },
    {
      "cell_type": "markdown",
      "metadata": {
        "id": "olDDz_zdAtqj"
      },
      "source": [
        "Crear un arreglo unidimensional"
      ]
    },
    {
      "cell_type": "code",
      "metadata": {
        "id": "NyMxhC6vAtqj",
        "colab": {
          "base_uri": "https://localhost:8080/"
        },
        "outputId": "a5bd252c-462a-4fc6-80cc-eecbfcaf8c97"
      },
      "source": [
        "my_array = np.array([1,2,3,4,5])\n",
        "my_array"
      ],
      "execution_count": null,
      "outputs": [
        {
          "output_type": "execute_result",
          "data": {
            "text/plain": [
              "array([1, 2, 3, 4, 5])"
            ]
          },
          "metadata": {
            "tags": []
          },
          "execution_count": 63
        }
      ]
    },
    {
      "cell_type": "markdown",
      "metadata": {
        "id": "gRfYMspWAtqj"
      },
      "source": [
        "Crear un arreglo bidimensional:"
      ]
    },
    {
      "cell_type": "code",
      "metadata": {
        "id": "ZlwMGOseAtqk",
        "colab": {
          "base_uri": "https://localhost:8080/"
        },
        "outputId": "e19727d3-6bcc-4d1a-b645-5b543dd43436"
      },
      "source": [
        "my_array_2 = np.array([\n",
        "    ['x','y','z'],\n",
        "    ['a','b','c']\n",
        "])\n",
        "my_array_2"
      ],
      "execution_count": null,
      "outputs": [
        {
          "output_type": "execute_result",
          "data": {
            "text/plain": [
              "array([['x', 'y', 'z'],\n",
              "       ['a', 'b', 'c']], dtype='<U1')"
            ]
          },
          "metadata": {
            "tags": []
          },
          "execution_count": 64
        }
      ]
    },
    {
      "cell_type": "markdown",
      "metadata": {
        "id": "KRzYJEgDAtqk"
      },
      "source": [
        "Mostrar el número de elementos del arreglo:"
      ]
    },
    {
      "cell_type": "code",
      "metadata": {
        "id": "PqUlVp3PAtqk",
        "colab": {
          "base_uri": "https://localhost:8080/"
        },
        "outputId": "110729c8-4df9-41b9-9aca-b38d149dd31a"
      },
      "source": [
        "len(my_array)"
      ],
      "execution_count": null,
      "outputs": [
        {
          "output_type": "execute_result",
          "data": {
            "text/plain": [
              "5"
            ]
          },
          "metadata": {
            "tags": []
          },
          "execution_count": 65
        }
      ]
    },
    {
      "cell_type": "code",
      "metadata": {
        "id": "9lA6v_ASAtqk",
        "colab": {
          "base_uri": "https://localhost:8080/"
        },
        "outputId": "3aec708c-6b83-4cce-dd57-46889eef5c64"
      },
      "source": [
        "len(my_array_2)"
      ],
      "execution_count": null,
      "outputs": [
        {
          "output_type": "execute_result",
          "data": {
            "text/plain": [
              "2"
            ]
          },
          "metadata": {
            "tags": []
          },
          "execution_count": 66
        }
      ]
    },
    {
      "cell_type": "markdown",
      "metadata": {
        "id": "w-eP-lfAAtqk"
      },
      "source": [
        "Sumar todos los elementos de un arreglo unidimensional"
      ]
    },
    {
      "cell_type": "code",
      "metadata": {
        "id": "cr3vYDb3Atqk",
        "colab": {
          "base_uri": "https://localhost:8080/"
        },
        "outputId": "99edf1ed-5ad6-4867-f2e5-14b0ef0ff125"
      },
      "source": [
        "np.sum(my_array)"
      ],
      "execution_count": null,
      "outputs": [
        {
          "output_type": "execute_result",
          "data": {
            "text/plain": [
              "15"
            ]
          },
          "metadata": {
            "tags": []
          },
          "execution_count": 67
        }
      ]
    },
    {
      "cell_type": "markdown",
      "metadata": {
        "id": "PyV9WjLhAtql"
      },
      "source": [
        "Obtener el número máximo de los elementos del arreglo unidimensional:"
      ]
    },
    {
      "cell_type": "code",
      "metadata": {
        "id": "CXv8LPTnAtql",
        "colab": {
          "base_uri": "https://localhost:8080/"
        },
        "outputId": "8691c83e-58eb-4919-f5c4-2b6ad38c8a97"
      },
      "source": [
        "np.max(my_array)"
      ],
      "execution_count": null,
      "outputs": [
        {
          "output_type": "execute_result",
          "data": {
            "text/plain": [
              "5"
            ]
          },
          "metadata": {
            "tags": []
          },
          "execution_count": 68
        }
      ]
    },
    {
      "cell_type": "markdown",
      "metadata": {
        "id": "OvW2Ym_QAtql"
      },
      "source": [
        "Crear un arreglo de una dimensión lleno de 0's:"
      ]
    },
    {
      "cell_type": "code",
      "metadata": {
        "id": "uAUabfGQAtql",
        "colab": {
          "base_uri": "https://localhost:8080/"
        },
        "outputId": "843a2c78-840f-4bfe-f31e-25a02461185b"
      },
      "source": [
        "np.zeros(5)"
      ],
      "execution_count": null,
      "outputs": [
        {
          "output_type": "execute_result",
          "data": {
            "text/plain": [
              "array([0., 0., 0., 0., 0.])"
            ]
          },
          "metadata": {
            "tags": []
          },
          "execution_count": 69
        }
      ]
    },
    {
      "cell_type": "markdown",
      "metadata": {
        "id": "M6R6IK1UAtql"
      },
      "source": [
        "Crear un arreglo de una dimensión lleno de 1's:"
      ]
    },
    {
      "cell_type": "code",
      "metadata": {
        "id": "DzvuK6zbAtqm",
        "colab": {
          "base_uri": "https://localhost:8080/"
        },
        "outputId": "cffad2dc-a44a-4fff-8580-4c3ee1243d81"
      },
      "source": [
        "np.ones(5)"
      ],
      "execution_count": null,
      "outputs": [
        {
          "output_type": "execute_result",
          "data": {
            "text/plain": [
              "array([1., 1., 1., 1., 1.])"
            ]
          },
          "metadata": {
            "tags": []
          },
          "execution_count": 70
        }
      ]
    },
    {
      "cell_type": "markdown",
      "metadata": {
        "id": "G_1RL0qEAtqm"
      },
      "source": [
        "Para reconocer el tipo de dato:"
      ]
    },
    {
      "cell_type": "code",
      "metadata": {
        "id": "Y3Dry8QhAtqm",
        "colab": {
          "base_uri": "https://localhost:8080/"
        },
        "outputId": "26e9f1f2-ad61-48bf-e908-fc37762fba69"
      },
      "source": [
        "type(my_array_2)"
      ],
      "execution_count": null,
      "outputs": [
        {
          "output_type": "execute_result",
          "data": {
            "text/plain": [
              "numpy.ndarray"
            ]
          },
          "metadata": {
            "tags": []
          },
          "execution_count": 71
        }
      ]
    },
    {
      "cell_type": "markdown",
      "metadata": {
        "id": "0WD7o_cZAtqm"
      },
      "source": [
        "Para ordenar un arreglo:"
      ]
    },
    {
      "cell_type": "code",
      "metadata": {
        "id": "7JxC191KAtqm",
        "colab": {
          "base_uri": "https://localhost:8080/"
        },
        "outputId": "25bb49cb-e3ec-4b2e-bbea-bc5a3b3ce634"
      },
      "source": [
        "my_array_3 = [10, 9, 1, 4, 6, 7, 0]\n",
        "np.sort(my_array_3)"
      ],
      "execution_count": null,
      "outputs": [
        {
          "output_type": "execute_result",
          "data": {
            "text/plain": [
              "array([ 0,  1,  4,  6,  7,  9, 10])"
            ]
          },
          "metadata": {
            "tags": []
          },
          "execution_count": 72
        }
      ]
    },
    {
      "cell_type": "markdown",
      "metadata": {
        "id": "fRqenpwkAtqm"
      },
      "source": [
        "Ordenar un arreglo por su llave:"
      ]
    },
    {
      "cell_type": "code",
      "metadata": {
        "id": "Du9PvHglAtqn",
        "colab": {
          "base_uri": "https://localhost:8080/"
        },
        "outputId": "1b3fccc4-2712-49ec-ff8c-8a93b7131777"
      },
      "source": [
        "# Arreglo\n",
        "headers = [('nombre', 'S10'), ('edad', int), ('pais', 'S10')]\n",
        "data = [('Jesus', 20, 'Mexico'),('Ale', 32, 'Colombia'),('Yes', 25, 'Mexico'),('Luis', 50, 'Honduras'),\n",
        "         ('Maria', 23, 'Mexico'),('Jhon', 53, 'Canada' ),('Zoom', 13, 'Argentina')]\n",
        "users = np.array(data , dtype = headers)\n",
        "\n",
        "print(users)"
      ],
      "execution_count": null,
      "outputs": [
        {
          "output_type": "stream",
          "text": [
            "[(b'Jesus', 20, b'Mexico') (b'Ale', 32, b'Colombia')\n",
            " (b'Yes', 25, b'Mexico') (b'Luis', 50, b'Honduras')\n",
            " (b'Maria', 23, b'Mexico') (b'Jhon', 53, b'Canada')\n",
            " (b'Zoom', 13, b'Argentina')]\n"
          ],
          "name": "stdout"
        }
      ]
    },
    {
      "cell_type": "code",
      "metadata": {
        "id": "5bmgNOpAAtqn",
        "colab": {
          "base_uri": "https://localhost:8080/"
        },
        "outputId": "86356ab0-7ed6-4ff4-e80f-cb62373f3c91"
      },
      "source": [
        "np.sort(users , order = 'nombre')"
      ],
      "execution_count": null,
      "outputs": [
        {
          "output_type": "execute_result",
          "data": {
            "text/plain": [
              "array([(b'Ale', 32, b'Colombia'), (b'Jesus', 20, b'Mexico'),\n",
              "       (b'Jhon', 53, b'Canada'), (b'Luis', 50, b'Honduras'),\n",
              "       (b'Maria', 23, b'Mexico'), (b'Yes', 25, b'Mexico'),\n",
              "       (b'Zoom', 13, b'Argentina')],\n",
              "      dtype=[('nombre', 'S10'), ('edad', '<i8'), ('pais', 'S10')])"
            ]
          },
          "metadata": {
            "tags": []
          },
          "execution_count": 74
        }
      ]
    },
    {
      "cell_type": "markdown",
      "metadata": {
        "id": "1hnDcRHYAtqn"
      },
      "source": [
        "Crear un arreglo de 0 a N elementos:"
      ]
    },
    {
      "cell_type": "code",
      "metadata": {
        "id": "078-0mKKAtqn",
        "colab": {
          "base_uri": "https://localhost:8080/"
        },
        "outputId": "32763cf4-01f4-4a9e-fdee-ee43fe61ae60"
      },
      "source": [
        "np.arange(16)"
      ],
      "execution_count": null,
      "outputs": [
        {
          "output_type": "execute_result",
          "data": {
            "text/plain": [
              "array([ 0,  1,  2,  3,  4,  5,  6,  7,  8,  9, 10, 11, 12, 13, 14, 15])"
            ]
          },
          "metadata": {
            "tags": []
          },
          "execution_count": 75
        }
      ]
    },
    {
      "cell_type": "markdown",
      "metadata": {
        "id": "xx9QVPsMAtqn"
      },
      "source": [
        "Crear un arreglo de N a M elementos:"
      ]
    },
    {
      "cell_type": "code",
      "metadata": {
        "id": "ToAHRmAdAtqo",
        "colab": {
          "base_uri": "https://localhost:8080/"
        },
        "outputId": "693aaf33-5972-444d-bfef-f4ece5a6677b"
      },
      "source": [
        "np.arange(5, 15)"
      ],
      "execution_count": null,
      "outputs": [
        {
          "output_type": "execute_result",
          "data": {
            "text/plain": [
              "array([ 5,  6,  7,  8,  9, 10, 11, 12, 13, 14])"
            ]
          },
          "metadata": {
            "tags": []
          },
          "execution_count": 76
        }
      ]
    },
    {
      "cell_type": "markdown",
      "metadata": {
        "id": "nsAfQrmDAtqo"
      },
      "source": [
        "Crear un arreglo de N a M elementos cada X valores:"
      ]
    },
    {
      "cell_type": "code",
      "metadata": {
        "id": "9D_YHiSSAtqo",
        "colab": {
          "base_uri": "https://localhost:8080/"
        },
        "outputId": "607d802e-4151-4186-a6d2-35fd5a2ce014"
      },
      "source": [
        "np.arange(5, 15, 3)"
      ],
      "execution_count": null,
      "outputs": [
        {
          "output_type": "execute_result",
          "data": {
            "text/plain": [
              "array([ 5,  8, 11, 14])"
            ]
          },
          "metadata": {
            "tags": []
          },
          "execution_count": 77
        }
      ]
    },
    {
      "cell_type": "markdown",
      "metadata": {
        "id": "vgQKAPNoAtqo"
      },
      "source": [
        "Crear un arreglo de N x M:"
      ]
    },
    {
      "cell_type": "code",
      "metadata": {
        "id": "Q3hAKHSxAtqo",
        "colab": {
          "base_uri": "https://localhost:8080/"
        },
        "outputId": "575738a4-3976-43bd-e8f3-d165d49d67ae"
      },
      "source": [
        "np.full( (5,10) , 1)"
      ],
      "execution_count": null,
      "outputs": [
        {
          "output_type": "execute_result",
          "data": {
            "text/plain": [
              "array([[1, 1, 1, 1, 1, 1, 1, 1, 1, 1],\n",
              "       [1, 1, 1, 1, 1, 1, 1, 1, 1, 1],\n",
              "       [1, 1, 1, 1, 1, 1, 1, 1, 1, 1],\n",
              "       [1, 1, 1, 1, 1, 1, 1, 1, 1, 1],\n",
              "       [1, 1, 1, 1, 1, 1, 1, 1, 1, 1]])"
            ]
          },
          "metadata": {
            "tags": []
          },
          "execution_count": 78
        }
      ]
    },
    {
      "cell_type": "markdown",
      "metadata": {
        "id": "UcCrTGNQAtqp"
      },
      "source": [
        "### Comandos básicos de Pandas"
      ]
    },
    {
      "cell_type": "markdown",
      "metadata": {
        "id": "HgSHKh2fAtqp"
      },
      "source": [
        "Importar biblioteca:"
      ]
    },
    {
      "cell_type": "code",
      "metadata": {
        "id": "r-verk5mAtqp"
      },
      "source": [
        "import pandas as ps"
      ],
      "execution_count": null,
      "outputs": []
    },
    {
      "cell_type": "markdown",
      "metadata": {
        "id": "lXdM7MJeAtqp"
      },
      "source": [
        "Generar una serie con Pandas:"
      ]
    },
    {
      "cell_type": "code",
      "metadata": {
        "id": "1z_iZQJmAtqp",
        "colab": {
          "base_uri": "https://localhost:8080/"
        },
        "outputId": "1d7045c3-23e2-40dd-93be-982199397a4b"
      },
      "source": [
        "pd.Series( [5, 10, 15, 20, 25] )"
      ],
      "execution_count": null,
      "outputs": [
        {
          "output_type": "execute_result",
          "data": {
            "text/plain": [
              "0     5\n",
              "1    10\n",
              "2    15\n",
              "3    20\n",
              "4    25\n",
              "dtype: int64"
            ]
          },
          "metadata": {
            "tags": []
          },
          "execution_count": 80
        }
      ]
    },
    {
      "cell_type": "markdown",
      "metadata": {
        "id": "a4UJj8VwAtqq"
      },
      "source": [
        "Crear un DataFrame:"
      ]
    },
    {
      "cell_type": "code",
      "metadata": {
        "id": "U6yxKVlKAtqq",
        "colab": {
          "base_uri": "https://localhost:8080/"
        },
        "outputId": "ebc2879e-0429-4b30-b07f-2e0e81ac3545"
      },
      "source": [
        "lst = ['Un','data', 'frame']\n",
        "df = pd.DataFrame(lst)\n",
        "print(df)"
      ],
      "execution_count": null,
      "outputs": [
        {
          "output_type": "stream",
          "text": [
            "       0\n",
            "0     Un\n",
            "1   data\n",
            "2  frame\n"
          ],
          "name": "stdout"
        }
      ]
    },
    {
      "cell_type": "markdown",
      "metadata": {
        "id": "nHO2j8MmAtqq"
      },
      "source": [
        "Crear un DataFrame con llave y dato:"
      ]
    },
    {
      "cell_type": "code",
      "metadata": {
        "id": "py12L1RTAtqq",
        "colab": {
          "base_uri": "https://localhost:8080/"
        },
        "outputId": "a826226c-cfdb-49df-8773-88681e2394b8"
      },
      "source": [
        "data = {'Nombre': ['Abd', 'Osc', 'Dav', 'Ros'],\n",
        "       'Edad': [25, 15, 19, 23],\n",
        "       'Pais': ['MX', 'CO', 'BR','MX']}\n",
        "\n",
        "df = pd.DataFrame(data)\n",
        "print(df)"
      ],
      "execution_count": null,
      "outputs": [
        {
          "output_type": "stream",
          "text": [
            "  Nombre  Edad Pais\n",
            "0    Abd    25   MX\n",
            "1    Osc    15   CO\n",
            "2    Dav    19   BR\n",
            "3    Ros    23   MX\n"
          ],
          "name": "stdout"
        }
      ]
    },
    {
      "cell_type": "markdown",
      "metadata": {
        "id": "Ln13S2d3Atqq"
      },
      "source": [
        "Leer archivo .CSV:"
      ]
    },
    {
      "cell_type": "code",
      "metadata": {
        "id": "ufQvZufLAtqq"
      },
      "source": [
        "#data = pd.read_csv(\"../Fundamentos_Practicos_de_Machine_Learning/Archivos/salarios.csv\")\n",
        "#print(data)"
      ],
      "execution_count": null,
      "outputs": []
    },
    {
      "cell_type": "code",
      "metadata": {
        "colab": {
          "base_uri": "https://localhost:8080/"
        },
        "id": "qJJS0vaRDUk4",
        "outputId": "706e15c3-0963-4c3a-c9dd-b6f00a441d40"
      },
      "source": [
        "data = pd.read_csv(\"salarios.csv\")\n",
        "print(data)"
      ],
      "execution_count": null,
      "outputs": [
        {
          "output_type": "stream",
          "text": [
            "    Aexperiencia  Salario\n",
            "0           10.0    42500\n",
            "1            8.0    36302\n",
            "2            5.4    35000\n",
            "3            2.5    18103\n",
            "4            1.0    15000\n",
            "5            8.0    37000\n",
            "6            4.0    26300\n",
            "7            6.0    35201\n",
            "8            2.0    18302\n",
            "9           10.0    42000\n",
            "10           4.0    27000\n",
            "11           7.0    35201\n",
            "12           3.0    19201\n",
            "13           5.0    28000\n",
            "14           2.0    17000\n",
            "15           5.0    33402\n",
            "16           3.0    19000\n",
            "17           2.0    18200\n",
            "18           3.0    19000\n",
            "19           2.0    17301\n",
            "20           5.0    28000\n",
            "21           3.4    20000\n",
            "22           5.3    27900\n",
            "23           2.1    17500\n",
            "24           9.2    40000\n",
            "25          10.0    42500\n",
            "26           3.2    18300\n",
            "27          10.0    40000\n",
            "28           4.0    25000\n",
            "29           1.0    15000\n"
          ],
          "name": "stdout"
        }
      ]
    },
    {
      "cell_type": "markdown",
      "metadata": {
        "id": "rL16dGomAtqr"
      },
      "source": [
        "Mostrar cabecera:"
      ]
    },
    {
      "cell_type": "code",
      "metadata": {
        "id": "pCraTH4-Atqr",
        "colab": {
          "base_uri": "https://localhost:8080/",
          "height": 142
        },
        "outputId": "ca3ddcc5-189b-4444-cf8f-77a33d576305"
      },
      "source": [
        "data.head(3)"
      ],
      "execution_count": null,
      "outputs": [
        {
          "output_type": "execute_result",
          "data": {
            "text/html": [
              "<div>\n",
              "<style scoped>\n",
              "    .dataframe tbody tr th:only-of-type {\n",
              "        vertical-align: middle;\n",
              "    }\n",
              "\n",
              "    .dataframe tbody tr th {\n",
              "        vertical-align: top;\n",
              "    }\n",
              "\n",
              "    .dataframe thead th {\n",
              "        text-align: right;\n",
              "    }\n",
              "</style>\n",
              "<table border=\"1\" class=\"dataframe\">\n",
              "  <thead>\n",
              "    <tr style=\"text-align: right;\">\n",
              "      <th></th>\n",
              "      <th>Aexperiencia</th>\n",
              "      <th>Salario</th>\n",
              "    </tr>\n",
              "  </thead>\n",
              "  <tbody>\n",
              "    <tr>\n",
              "      <th>0</th>\n",
              "      <td>10.0</td>\n",
              "      <td>42500</td>\n",
              "    </tr>\n",
              "    <tr>\n",
              "      <th>1</th>\n",
              "      <td>8.0</td>\n",
              "      <td>36302</td>\n",
              "    </tr>\n",
              "    <tr>\n",
              "      <th>2</th>\n",
              "      <td>5.4</td>\n",
              "      <td>35000</td>\n",
              "    </tr>\n",
              "  </tbody>\n",
              "</table>\n",
              "</div>"
            ],
            "text/plain": [
              "   Aexperiencia  Salario\n",
              "0          10.0    42500\n",
              "1           8.0    36302\n",
              "2           5.4    35000"
            ]
          },
          "metadata": {
            "tags": []
          },
          "execution_count": 118
        }
      ]
    },
    {
      "cell_type": "markdown",
      "metadata": {
        "id": "ggIVYPSKAtqr"
      },
      "source": [
        "Mostrar columna del archivo leído:"
      ]
    },
    {
      "cell_type": "code",
      "metadata": {
        "id": "qYD4wPczAtqr",
        "colab": {
          "base_uri": "https://localhost:8080/"
        },
        "outputId": "412cd900-e046-4656-e4fb-a85bf61a2abc"
      },
      "source": [
        "data.Salario"
      ],
      "execution_count": null,
      "outputs": [
        {
          "output_type": "execute_result",
          "data": {
            "text/plain": [
              "0     42500\n",
              "1     36302\n",
              "2     35000\n",
              "3     18103\n",
              "4     15000\n",
              "5     37000\n",
              "6     26300\n",
              "7     35201\n",
              "8     18302\n",
              "9     42000\n",
              "10    27000\n",
              "11    35201\n",
              "12    19201\n",
              "13    28000\n",
              "14    17000\n",
              "15    33402\n",
              "16    19000\n",
              "17    18200\n",
              "18    19000\n",
              "19    17301\n",
              "20    28000\n",
              "21    20000\n",
              "22    27900\n",
              "23    17500\n",
              "24    40000\n",
              "25    42500\n",
              "26    18300\n",
              "27    40000\n",
              "28    25000\n",
              "29    15000\n",
              "Name: Salario, dtype: int64"
            ]
          },
          "metadata": {
            "tags": []
          },
          "execution_count": 119
        }
      ]
    },
    {
      "cell_type": "markdown",
      "metadata": {
        "id": "1UJvqHx9Atqr"
      },
      "source": [
        "Mostrar los últimos elementos:"
      ]
    },
    {
      "cell_type": "code",
      "metadata": {
        "id": "sSWsFkyXAtqs",
        "colab": {
          "base_uri": "https://localhost:8080/",
          "height": 203
        },
        "outputId": "6f8b9d25-6425-4298-d22b-f478a40160cc"
      },
      "source": [
        "data.tail()"
      ],
      "execution_count": null,
      "outputs": [
        {
          "output_type": "execute_result",
          "data": {
            "text/html": [
              "<div>\n",
              "<style scoped>\n",
              "    .dataframe tbody tr th:only-of-type {\n",
              "        vertical-align: middle;\n",
              "    }\n",
              "\n",
              "    .dataframe tbody tr th {\n",
              "        vertical-align: top;\n",
              "    }\n",
              "\n",
              "    .dataframe thead th {\n",
              "        text-align: right;\n",
              "    }\n",
              "</style>\n",
              "<table border=\"1\" class=\"dataframe\">\n",
              "  <thead>\n",
              "    <tr style=\"text-align: right;\">\n",
              "      <th></th>\n",
              "      <th>Aexperiencia</th>\n",
              "      <th>Salario</th>\n",
              "    </tr>\n",
              "  </thead>\n",
              "  <tbody>\n",
              "    <tr>\n",
              "      <th>25</th>\n",
              "      <td>10.0</td>\n",
              "      <td>42500</td>\n",
              "    </tr>\n",
              "    <tr>\n",
              "      <th>26</th>\n",
              "      <td>3.2</td>\n",
              "      <td>18300</td>\n",
              "    </tr>\n",
              "    <tr>\n",
              "      <th>27</th>\n",
              "      <td>10.0</td>\n",
              "      <td>40000</td>\n",
              "    </tr>\n",
              "    <tr>\n",
              "      <th>28</th>\n",
              "      <td>4.0</td>\n",
              "      <td>25000</td>\n",
              "    </tr>\n",
              "    <tr>\n",
              "      <th>29</th>\n",
              "      <td>1.0</td>\n",
              "      <td>15000</td>\n",
              "    </tr>\n",
              "  </tbody>\n",
              "</table>\n",
              "</div>"
            ],
            "text/plain": [
              "    Aexperiencia  Salario\n",
              "25          10.0    42500\n",
              "26           3.2    18300\n",
              "27          10.0    40000\n",
              "28           4.0    25000\n",
              "29           1.0    15000"
            ]
          },
          "metadata": {
            "tags": []
          },
          "execution_count": 120
        }
      ]
    },
    {
      "cell_type": "markdown",
      "metadata": {
        "id": "le24BTbJAtqs"
      },
      "source": [
        "Mostrar tamaño del archivo leído:"
      ]
    },
    {
      "cell_type": "code",
      "metadata": {
        "id": "KRVYV0R6Atqs",
        "colab": {
          "base_uri": "https://localhost:8080/"
        },
        "outputId": "1b533dec-23c5-4c52-a904-c46748531af5"
      },
      "source": [
        "data.shape"
      ],
      "execution_count": null,
      "outputs": [
        {
          "output_type": "execute_result",
          "data": {
            "text/plain": [
              "(30, 2)"
            ]
          },
          "metadata": {
            "tags": []
          },
          "execution_count": 92
        }
      ]
    },
    {
      "cell_type": "markdown",
      "metadata": {
        "id": "o06nZmhwAtqs"
      },
      "source": [
        "Mostrar columnas:"
      ]
    },
    {
      "cell_type": "code",
      "metadata": {
        "id": "xy_OhuAmAtqs",
        "colab": {
          "base_uri": "https://localhost:8080/"
        },
        "outputId": "38eaf60f-0348-4963-8862-c64c60edbeff"
      },
      "source": [
        "data.columns"
      ],
      "execution_count": null,
      "outputs": [
        {
          "output_type": "execute_result",
          "data": {
            "text/plain": [
              "Index(['Aexperiencia', 'Salario'], dtype='object')"
            ]
          },
          "metadata": {
            "tags": []
          },
          "execution_count": 93
        }
      ]
    },
    {
      "cell_type": "markdown",
      "metadata": {
        "id": "6OP6_g22Atqs"
      },
      "source": [
        "Describir una columna:"
      ]
    },
    {
      "cell_type": "code",
      "metadata": {
        "id": "TBjQH4IQAtqt",
        "colab": {
          "base_uri": "https://localhost:8080/"
        },
        "outputId": "618705fb-1a95-4c37-bc03-037061f979dd"
      },
      "source": [
        "data['Aexperiencia'].describe()"
      ],
      "execution_count": null,
      "outputs": [
        {
          "output_type": "execute_result",
          "data": {
            "text/plain": [
              "count    30.000000\n",
              "mean      4.870000\n",
              "std       2.899721\n",
              "min       1.000000\n",
              "25%       2.625000\n",
              "50%       4.000000\n",
              "75%       6.750000\n",
              "max      10.000000\n",
              "Name: Aexperiencia, dtype: float64"
            ]
          },
          "metadata": {
            "tags": []
          },
          "execution_count": 94
        }
      ]
    },
    {
      "cell_type": "markdown",
      "metadata": {
        "id": "0TJcbzDDAtqt"
      },
      "source": [
        "Ordenar datos del archivo leído:"
      ]
    },
    {
      "cell_type": "code",
      "metadata": {
        "id": "T5yecw-0Atqt",
        "colab": {
          "base_uri": "https://localhost:8080/",
          "height": 973
        },
        "outputId": "2756b980-ffef-480c-a28a-680b44a56492"
      },
      "source": [
        "data.sort_index(axis = 0 , ascending = False)"
      ],
      "execution_count": null,
      "outputs": [
        {
          "output_type": "execute_result",
          "data": {
            "text/html": [
              "<div>\n",
              "<style scoped>\n",
              "    .dataframe tbody tr th:only-of-type {\n",
              "        vertical-align: middle;\n",
              "    }\n",
              "\n",
              "    .dataframe tbody tr th {\n",
              "        vertical-align: top;\n",
              "    }\n",
              "\n",
              "    .dataframe thead th {\n",
              "        text-align: right;\n",
              "    }\n",
              "</style>\n",
              "<table border=\"1\" class=\"dataframe\">\n",
              "  <thead>\n",
              "    <tr style=\"text-align: right;\">\n",
              "      <th></th>\n",
              "      <th>Aexperiencia</th>\n",
              "      <th>Salario</th>\n",
              "    </tr>\n",
              "  </thead>\n",
              "  <tbody>\n",
              "    <tr>\n",
              "      <th>29</th>\n",
              "      <td>1.0</td>\n",
              "      <td>15000</td>\n",
              "    </tr>\n",
              "    <tr>\n",
              "      <th>28</th>\n",
              "      <td>4.0</td>\n",
              "      <td>25000</td>\n",
              "    </tr>\n",
              "    <tr>\n",
              "      <th>27</th>\n",
              "      <td>10.0</td>\n",
              "      <td>40000</td>\n",
              "    </tr>\n",
              "    <tr>\n",
              "      <th>26</th>\n",
              "      <td>3.2</td>\n",
              "      <td>18300</td>\n",
              "    </tr>\n",
              "    <tr>\n",
              "      <th>25</th>\n",
              "      <td>10.0</td>\n",
              "      <td>42500</td>\n",
              "    </tr>\n",
              "    <tr>\n",
              "      <th>24</th>\n",
              "      <td>9.2</td>\n",
              "      <td>40000</td>\n",
              "    </tr>\n",
              "    <tr>\n",
              "      <th>23</th>\n",
              "      <td>2.1</td>\n",
              "      <td>17500</td>\n",
              "    </tr>\n",
              "    <tr>\n",
              "      <th>22</th>\n",
              "      <td>5.3</td>\n",
              "      <td>27900</td>\n",
              "    </tr>\n",
              "    <tr>\n",
              "      <th>21</th>\n",
              "      <td>3.4</td>\n",
              "      <td>20000</td>\n",
              "    </tr>\n",
              "    <tr>\n",
              "      <th>20</th>\n",
              "      <td>5.0</td>\n",
              "      <td>28000</td>\n",
              "    </tr>\n",
              "    <tr>\n",
              "      <th>19</th>\n",
              "      <td>2.0</td>\n",
              "      <td>17301</td>\n",
              "    </tr>\n",
              "    <tr>\n",
              "      <th>18</th>\n",
              "      <td>3.0</td>\n",
              "      <td>19000</td>\n",
              "    </tr>\n",
              "    <tr>\n",
              "      <th>17</th>\n",
              "      <td>2.0</td>\n",
              "      <td>18200</td>\n",
              "    </tr>\n",
              "    <tr>\n",
              "      <th>16</th>\n",
              "      <td>3.0</td>\n",
              "      <td>19000</td>\n",
              "    </tr>\n",
              "    <tr>\n",
              "      <th>15</th>\n",
              "      <td>5.0</td>\n",
              "      <td>33402</td>\n",
              "    </tr>\n",
              "    <tr>\n",
              "      <th>14</th>\n",
              "      <td>2.0</td>\n",
              "      <td>17000</td>\n",
              "    </tr>\n",
              "    <tr>\n",
              "      <th>13</th>\n",
              "      <td>5.0</td>\n",
              "      <td>28000</td>\n",
              "    </tr>\n",
              "    <tr>\n",
              "      <th>12</th>\n",
              "      <td>3.0</td>\n",
              "      <td>19201</td>\n",
              "    </tr>\n",
              "    <tr>\n",
              "      <th>11</th>\n",
              "      <td>7.0</td>\n",
              "      <td>35201</td>\n",
              "    </tr>\n",
              "    <tr>\n",
              "      <th>10</th>\n",
              "      <td>4.0</td>\n",
              "      <td>27000</td>\n",
              "    </tr>\n",
              "    <tr>\n",
              "      <th>9</th>\n",
              "      <td>10.0</td>\n",
              "      <td>42000</td>\n",
              "    </tr>\n",
              "    <tr>\n",
              "      <th>8</th>\n",
              "      <td>2.0</td>\n",
              "      <td>18302</td>\n",
              "    </tr>\n",
              "    <tr>\n",
              "      <th>7</th>\n",
              "      <td>6.0</td>\n",
              "      <td>35201</td>\n",
              "    </tr>\n",
              "    <tr>\n",
              "      <th>6</th>\n",
              "      <td>4.0</td>\n",
              "      <td>26300</td>\n",
              "    </tr>\n",
              "    <tr>\n",
              "      <th>5</th>\n",
              "      <td>8.0</td>\n",
              "      <td>37000</td>\n",
              "    </tr>\n",
              "    <tr>\n",
              "      <th>4</th>\n",
              "      <td>1.0</td>\n",
              "      <td>15000</td>\n",
              "    </tr>\n",
              "    <tr>\n",
              "      <th>3</th>\n",
              "      <td>2.5</td>\n",
              "      <td>18103</td>\n",
              "    </tr>\n",
              "    <tr>\n",
              "      <th>2</th>\n",
              "      <td>5.4</td>\n",
              "      <td>35000</td>\n",
              "    </tr>\n",
              "    <tr>\n",
              "      <th>1</th>\n",
              "      <td>8.0</td>\n",
              "      <td>36302</td>\n",
              "    </tr>\n",
              "    <tr>\n",
              "      <th>0</th>\n",
              "      <td>10.0</td>\n",
              "      <td>42500</td>\n",
              "    </tr>\n",
              "  </tbody>\n",
              "</table>\n",
              "</div>"
            ],
            "text/plain": [
              "    Aexperiencia  Salario\n",
              "29           1.0    15000\n",
              "28           4.0    25000\n",
              "27          10.0    40000\n",
              "26           3.2    18300\n",
              "25          10.0    42500\n",
              "24           9.2    40000\n",
              "23           2.1    17500\n",
              "22           5.3    27900\n",
              "21           3.4    20000\n",
              "20           5.0    28000\n",
              "19           2.0    17301\n",
              "18           3.0    19000\n",
              "17           2.0    18200\n",
              "16           3.0    19000\n",
              "15           5.0    33402\n",
              "14           2.0    17000\n",
              "13           5.0    28000\n",
              "12           3.0    19201\n",
              "11           7.0    35201\n",
              "10           4.0    27000\n",
              "9           10.0    42000\n",
              "8            2.0    18302\n",
              "7            6.0    35201\n",
              "6            4.0    26300\n",
              "5            8.0    37000\n",
              "4            1.0    15000\n",
              "3            2.5    18103\n",
              "2            5.4    35000\n",
              "1            8.0    36302\n",
              "0           10.0    42500"
            ]
          },
          "metadata": {
            "tags": []
          },
          "execution_count": 95
        }
      ]
    },
    {
      "cell_type": "markdown",
      "metadata": {
        "id": "J_RWPQJ-Atqt"
      },
      "source": [
        "---"
      ]
    },
    {
      "cell_type": "markdown",
      "metadata": {
        "id": "6-1UmFY8Atqt"
      },
      "source": [
        "### Scikit Learn"
      ]
    },
    {
      "cell_type": "markdown",
      "metadata": {
        "id": "16eT8qibAtqu"
      },
      "source": [
        "Importar biblioteca:"
      ]
    },
    {
      "cell_type": "markdown",
      "metadata": {
        "id": "17kHJlsgAtqu"
      },
      "source": [
        "```Python\n",
        "from sklearn import [modulo] ```"
      ]
    },
    {
      "cell_type": "code",
      "metadata": {
        "id": "xg6W0xkUAtqu"
      },
      "source": [
        "from sklearn import tree\n",
        "from sklearn.model_selection import train_test_split"
      ],
      "execution_count": null,
      "outputs": []
    },
    {
      "cell_type": "markdown",
      "metadata": {
        "id": "6n9okYUAAtqu"
      },
      "source": [
        "División del conjunto de datos para entrenamiento y para pruebas:"
      ]
    },
    {
      "cell_type": "code",
      "metadata": {
        "id": "5JD_RvOlAtqu"
      },
      "source": [
        "X, y = np.arange(10).reshape((5, 2)), range(5)"
      ],
      "execution_count": null,
      "outputs": []
    },
    {
      "cell_type": "code",
      "metadata": {
        "id": "WzE1B4t8Atqu"
      },
      "source": [
        "X_train, X_test, y_train, y_test = train_test_split(X, y, test_size=0.33, random_state=42)"
      ],
      "execution_count": null,
      "outputs": []
    },
    {
      "cell_type": "markdown",
      "metadata": {
        "id": "JyCldj1EAtqv"
      },
      "source": [
        "Entrenar modelo:"
      ]
    },
    {
      "cell_type": "markdown",
      "metadata": {
        "id": "WIxJebLmAtqv"
      },
      "source": [
        "``` Python\n",
        "[modelo].fit(X_train, y_train)\n",
        "```"
      ]
    },
    {
      "cell_type": "code",
      "metadata": {
        "id": "fLo1luvQAtqv"
      },
      "source": [
        "from sklearn import datasets\n",
        "iris = datasets.load_iris()\n",
        "digits = datasets.load_digits()\n",
        "from sklearn import svm\n",
        "clf = svm.SVC(gamma=0.001, C=100.)"
      ],
      "execution_count": null,
      "outputs": []
    },
    {
      "cell_type": "code",
      "metadata": {
        "id": "2qapGPHvAtqv",
        "colab": {
          "base_uri": "https://localhost:8080/"
        },
        "outputId": "721cb8b1-c638-4404-9bec-8a8f5754088d"
      },
      "source": [
        "clf.fit(digits.data[:-1], digits.target[:-1])"
      ],
      "execution_count": null,
      "outputs": [
        {
          "output_type": "execute_result",
          "data": {
            "text/plain": [
              "SVC(C=100.0, break_ties=False, cache_size=200, class_weight=None, coef0=0.0,\n",
              "    decision_function_shape='ovr', degree=3, gamma=0.001, kernel='rbf',\n",
              "    max_iter=-1, probability=False, random_state=None, shrinking=True,\n",
              "    tol=0.001, verbose=False)"
            ]
          },
          "metadata": {
            "tags": []
          },
          "execution_count": 100
        }
      ]
    },
    {
      "cell_type": "markdown",
      "metadata": {
        "id": "7pGDsQyfAtqv"
      },
      "source": [
        "Predicción del modelo:"
      ]
    },
    {
      "cell_type": "markdown",
      "metadata": {
        "id": "6pWLWb8VAtqv"
      },
      "source": [
        "```Python\n",
        "Y_pred = [modelo].predict(X_test)\n",
        "```"
      ]
    },
    {
      "cell_type": "markdown",
      "metadata": {
        "id": "snCvmQjWAtqw"
      },
      "source": [
        "Matriz de confusión:"
      ]
    },
    {
      "cell_type": "markdown",
      "metadata": {
        "id": "3wsiIi0bAtqw"
      },
      "source": [
        "```Python\n",
        "Y_pred = [modelo].predict(X_test)```"
      ]
    },
    {
      "cell_type": "code",
      "metadata": {
        "id": "8zuXScNpAtqw",
        "colab": {
          "base_uri": "https://localhost:8080/"
        },
        "outputId": "245e6e66-53bc-4091-caba-e83e8a62a466"
      },
      "source": [
        "from sklearn.metrics import confusion_matrix\n",
        "y_true = [2, 0, 2, 2, 0, 1]\n",
        "y_pred = [0, 0, 2, 2, 0, 2]\n",
        "\n",
        "confusion_matrix(y_true, y_pred)"
      ],
      "execution_count": null,
      "outputs": [
        {
          "output_type": "execute_result",
          "data": {
            "text/plain": [
              "array([[2, 0, 0],\n",
              "       [0, 0, 1],\n",
              "       [1, 0, 2]])"
            ]
          },
          "metadata": {
            "tags": []
          },
          "execution_count": 101
        }
      ]
    },
    {
      "cell_type": "markdown",
      "metadata": {
        "id": "67AxrGwzAtqw"
      },
      "source": [
        "Calcular la exactitud:"
      ]
    },
    {
      "cell_type": "markdown",
      "metadata": {
        "id": "sPlkKUM_Atqw"
      },
      "source": [
        "``` Python\n",
        "metrics.accuracy_score(y_test, y_pred)\n",
        "```"
      ]
    },
    {
      "cell_type": "code",
      "metadata": {
        "id": "axQi_mN-Atqw",
        "colab": {
          "base_uri": "https://localhost:8080/"
        },
        "outputId": "d63ab7f9-23dd-4212-e9ee-9ad3dc45252f"
      },
      "source": [
        "from sklearn.metrics import accuracy_score\n",
        "y_pred = [0, 2, 1, 3]\n",
        "y_true = [0, 1, 2, 3]\n",
        "accuracy_score(y_true, y_pred)"
      ],
      "execution_count": null,
      "outputs": [
        {
          "output_type": "execute_result",
          "data": {
            "text/plain": [
              "0.5"
            ]
          },
          "metadata": {
            "tags": []
          },
          "execution_count": 102
        }
      ]
    },
    {
      "cell_type": "markdown",
      "metadata": {
        "id": "vGeTYhTEAtqx"
      },
      "source": [
        "---"
      ]
    },
    {
      "cell_type": "markdown",
      "metadata": {
        "id": "AYm2K5elAtqx"
      },
      "source": [
        "## Regresión lineal y logística"
      ]
    },
    {
      "cell_type": "markdown",
      "metadata": {
        "id": "9JWGtA_lAtqx"
      },
      "source": [
        "### ¿Qué es la predicción de datos?"
      ]
    },
    {
      "cell_type": "markdown",
      "metadata": {
        "id": "D81Q_L1mAtqx"
      },
      "source": [
        "Algoritmos que se definen como \"clasificadores\" que identifican a qué conjunto de categorías pertenecen los datos.\n",
        " \n",
        "Algo muy importante en la predicción de nuestros datos consiste en que la información que le vamos a proporcionar este sumamente cuidada, es decir, verificar si tenemos datos nulos, si nuestras columnas de datos están completas e incluso, si comprendemos el problema a resolver para saber que modelo vamos a utilizar y como vamos a interpretar los valores."
      ]
    },
    {
      "cell_type": "markdown",
      "metadata": {
        "id": "JQi7B8oZAtqx"
      },
      "source": [
        "Recordemos que ya sea que tenemos un modelo de aprendizaje supervisado o no supervisado vamos a requerir de un conjunto de datos de entrenamiento con diferentes atributos, para ello nos podremos apoyar de bases de datos libres que contienen grandes data sets de información."
      ]
    },
    {
      "cell_type": "markdown",
      "metadata": {
        "id": "OD0jtnUSAtqx"
      },
      "source": [
        "---"
      ]
    },
    {
      "cell_type": "markdown",
      "metadata": {
        "id": "r_H5MegGAtqy"
      },
      "source": [
        "### Sobreajuste o subajuste en los datos"
      ]
    },
    {
      "cell_type": "markdown",
      "metadata": {
        "id": "SNvtt7BaAtqy"
      },
      "source": [
        "Cuando entrenamos a nuestro algoritmo de aprendizaje lo que estamos haciendo es \"obligándolo\" a ajustarse a los datos de entrada y salida. Y hay que tener cuidado con 2 problemas, que suelen ser especialmente recurrentes al tratar con conjuntos de datos muy pequeños."
      ]
    },
    {
      "cell_type": "markdown",
      "metadata": {
        "id": "6Znt2Cg3Atqy"
      },
      "source": [
        "Por un lado tenemos el **sobreajuste** o **overfitting** qué es cuando entrenamos nuestro modelo de tal forma que **solo puede resolver un caso particular**, es cuando entrenamos el modelo de forma que tratamos de que se acople perfectamente a los datos de entrenamiento, cosa que puede parecer como algo que queremos lograr. El problema viene cuando le presentamos un nuevo set de datos y las predicciones que realiza sobre ellos ya no son tan acertadas.\n",
        "\n",
        "Un ejemplo de esto es un algoritmo de detección de imágenes, por ejemplo de gatitos, en donde en nuestro data set de entrenamiento solo le pasamos datos de gatos de color blanco de forma que el modelo se ajusta para detectar solo los patrones que componen a esos gatos blancos y al momento de pasarle un nuevo dato de por ejemplo, un gato negro, no lo va a detectar por que solo está entrenado para un caso particular donde son blancos."
      ]
    },
    {
      "cell_type": "markdown",
      "metadata": {
        "id": "F8ommBH-Atqy"
      },
      "source": [
        "![](https://i.imgur.com/eJVwVJZ.png)"
      ]
    },
    {
      "cell_type": "markdown",
      "metadata": {
        "id": "OCbezHeOAtqz"
      },
      "source": [
        "Por otro lado tenemos el **subajuste** o **underfitting** qué es cuando el modelo falla al realizar la predicción **por falta de muestras suficientes**. Es decir, no está generalizando el conocimiento ya que nuestro conjunto de datos puede ser muy pequeño.\n",
        "\n",
        "Por lo regular la regla a seguir es la siguiente. Dado un conjunto de datos se suele destinar entre el 70 y 75% de ellos para la fase de entrenamiento y el restante se utiliza para evaluar (realizar predicciones y calificarlas), es decir, introducirlos al algoritmo sin su etiqueta correspondiente para que el algoritmo le asigne esa etiqueta."
      ]
    },
    {
      "cell_type": "markdown",
      "metadata": {
        "id": "h5YZ-v-JAtqz"
      },
      "source": [
        "![](https://i.imgur.com/bktxQDY.png)"
      ]
    },
    {
      "cell_type": "markdown",
      "metadata": {
        "id": "NJEQjn5YAtqz"
      },
      "source": [
        "---"
      ]
    },
    {
      "cell_type": "markdown",
      "metadata": {
        "id": "9vYmoQgfAtqz"
      },
      "source": [
        "### Regresión lineal simple y regresión lineal múltiple"
      ]
    },
    {
      "cell_type": "markdown",
      "metadata": {
        "id": "6gFfTOgrAtqz"
      },
      "source": [
        "#### Regresión lineal simple"
      ]
    },
    {
      "cell_type": "markdown",
      "metadata": {
        "id": "04y8PaZsAtqz"
      },
      "source": [
        "Algoritmo de aprendizaje supervisado que nos indica la tendencia de un conjunto de **datos continuos**, modelando una relación entre una variable dependiente $Y$ y una variable explicativa llamada $X$. Como es un algoritmo de tipo supervisado tenemos que proporcionarle los datos previamente etiquetados."
      ]
    },
    {
      "cell_type": "markdown",
      "metadata": {
        "id": "tRuAMxmwAtqz"
      },
      "source": [
        "Nuestra regresión se puede expresar de la forma:\n",
        "\n",
        "$$Y_i = b + X_i$$"
      ]
    },
    {
      "cell_type": "markdown",
      "metadata": {
        "id": "1xt6nHjVAtq0"
      },
      "source": [
        "que no es más que la ecuación general de la recta, donde $b$ representa nuestro corte con el eje $y$."
      ]
    },
    {
      "cell_type": "markdown",
      "metadata": {
        "id": "SFGv4k_uAtq0"
      },
      "source": [
        "![](https://i.imgur.com/xcmMAZ2.png)"
      ]
    },
    {
      "cell_type": "markdown",
      "metadata": {
        "id": "jdq5DFNuAtq0"
      },
      "source": [
        "Por lo regular, en problemas prácticos nos interesa relacionar más de una variable ya que mientras más complejo se torna un problema, requerimos de más variables para describirlo mejor. En ese caso recurrimos a utilizar una regresión lineal **múltiple**."
      ]
    },
    {
      "cell_type": "markdown",
      "metadata": {
        "id": "l2nrOKIkAtq4"
      },
      "source": [
        "#### Regresión lineal múltiple"
      ]
    },
    {
      "cell_type": "markdown",
      "metadata": {
        "id": "HrnNM5JnAtq4"
      },
      "source": [
        "Si nuestra problema tiene más de 2 variables se le considera lineal múltiple. Nos va a permitir encontrar la tendencia entre las variables, pero esta vez teniendo en cuenta muchas más variables que entran en juego.\n",
        "\n",
        "En este caso pasamos a un hiper-plano y solo funciona con **datos cuantitativos**."
      ]
    },
    {
      "cell_type": "markdown",
      "metadata": {
        "id": "Ca_QMl8UAtq5"
      },
      "source": [
        "En el modelo de la regresión lineal múltiple esperamos que los sucesos tengan una forma funcional como:"
      ]
    },
    {
      "cell_type": "markdown",
      "metadata": {
        "id": "j7JZ-zp8Atq5"
      },
      "source": [
        "$$y_j = b_o + b_1 x_{1j} + b_2 x_{2j} + \\dots + b_k x_{kj} + u_j$$"
      ]
    },
    {
      "cell_type": "markdown",
      "metadata": {
        "id": "ECuQeczAAtq5"
      },
      "source": [
        "donde $y$ es nuestra variable endógena, $x$ las variables exógenas, $u$ los residuos y $b$ los coeficientes estimados del efecto marginal entre cada $x$ e $y$."
      ]
    },
    {
      "cell_type": "markdown",
      "metadata": {
        "id": "TG-8VE52Atq5"
      },
      "source": [
        "Lo que hacemos es calcular promedios (promedios de una variable, de una correlación, de una tendencia, de una función, de un ratio; promedios de variables estandarizadas, estudentizadas o refuncionalizadas con cualquier otra función) y su desviación típica (error estándar) y una vez que son calculados se interpretan conjuntamente."
      ]
    },
    {
      "cell_type": "markdown",
      "metadata": {
        "id": "kID4KwzBAtq5"
      },
      "source": [
        "---"
      ]
    },
    {
      "cell_type": "markdown",
      "metadata": {
        "id": "jqyYIJFeAtq5"
      },
      "source": [
        "### Regresión lineal simple con Scikit-Learn"
      ]
    },
    {
      "cell_type": "markdown",
      "metadata": {
        "id": "mK7q9ARRAtq6"
      },
      "source": [
        "#### División de los datos"
      ]
    },
    {
      "cell_type": "code",
      "metadata": {
        "id": "CFLx0CwBAtq6"
      },
      "source": [
        "import pandas as pd\n",
        "import matplotlib.pyplot as plt\n",
        "# Importamos nuestro modelo para poder entranar\n",
        "from sklearn.model_selection import train_test_split\n",
        "# Importamos el modelo de regresión lineal\n",
        "from sklearn.linear_model import LinearRegression\n",
        "from sklearn import linear_model"
      ],
      "execution_count": null,
      "outputs": []
    },
    {
      "cell_type": "code",
      "metadata": {
        "id": "NL0DMewuAtq6"
      },
      "source": [
        "# Traemos los datos\n",
        "#dataset = pd.read_csv(\"../Fundamentos_Practicos_de_Machine_Learning/Archivos/salarios.csv\")\n",
        "#dataset.head(5)"
      ],
      "execution_count": null,
      "outputs": []
    },
    {
      "cell_type": "code",
      "metadata": {
        "colab": {
          "base_uri": "https://localhost:8080/",
          "height": 203
        },
        "id": "C8HKdMTPDfJe",
        "outputId": "8bfe2a94-8e36-48f7-f86f-0a987a225bfe"
      },
      "source": [
        "dataset = pd.read_csv(\"salarios.csv\")\n",
        "dataset.head(5)"
      ],
      "execution_count": null,
      "outputs": [
        {
          "output_type": "execute_result",
          "data": {
            "text/html": [
              "<div>\n",
              "<style scoped>\n",
              "    .dataframe tbody tr th:only-of-type {\n",
              "        vertical-align: middle;\n",
              "    }\n",
              "\n",
              "    .dataframe tbody tr th {\n",
              "        vertical-align: top;\n",
              "    }\n",
              "\n",
              "    .dataframe thead th {\n",
              "        text-align: right;\n",
              "    }\n",
              "</style>\n",
              "<table border=\"1\" class=\"dataframe\">\n",
              "  <thead>\n",
              "    <tr style=\"text-align: right;\">\n",
              "      <th></th>\n",
              "      <th>Aexperiencia</th>\n",
              "      <th>Salario</th>\n",
              "    </tr>\n",
              "  </thead>\n",
              "  <tbody>\n",
              "    <tr>\n",
              "      <th>0</th>\n",
              "      <td>10.0</td>\n",
              "      <td>42500</td>\n",
              "    </tr>\n",
              "    <tr>\n",
              "      <th>1</th>\n",
              "      <td>8.0</td>\n",
              "      <td>36302</td>\n",
              "    </tr>\n",
              "    <tr>\n",
              "      <th>2</th>\n",
              "      <td>5.4</td>\n",
              "      <td>35000</td>\n",
              "    </tr>\n",
              "    <tr>\n",
              "      <th>3</th>\n",
              "      <td>2.5</td>\n",
              "      <td>18103</td>\n",
              "    </tr>\n",
              "    <tr>\n",
              "      <th>4</th>\n",
              "      <td>1.0</td>\n",
              "      <td>15000</td>\n",
              "    </tr>\n",
              "  </tbody>\n",
              "</table>\n",
              "</div>"
            ],
            "text/plain": [
              "   Aexperiencia  Salario\n",
              "0          10.0    42500\n",
              "1           8.0    36302\n",
              "2           5.4    35000\n",
              "3           2.5    18103\n",
              "4           1.0    15000"
            ]
          },
          "metadata": {
            "tags": []
          },
          "execution_count": 129
        }
      ]
    },
    {
      "cell_type": "code",
      "metadata": {
        "id": "JhiNxluIAtq7",
        "colab": {
          "base_uri": "https://localhost:8080/"
        },
        "outputId": "55ef396f-87a4-46b6-e1b1-e0fbcd7ac670"
      },
      "source": [
        "#Vamos a verificar las filas y columnas\n",
        "dataset.shape"
      ],
      "execution_count": null,
      "outputs": [
        {
          "output_type": "execute_result",
          "data": {
            "text/plain": [
              "(30, 2)"
            ]
          },
          "metadata": {
            "tags": []
          },
          "execution_count": 130
        }
      ]
    },
    {
      "cell_type": "code",
      "metadata": {
        "id": "Hoc3AB0VAtq7",
        "colab": {
          "base_uri": "https://localhost:8080/"
        },
        "outputId": "8545011c-7d43-4102-a4f6-172c66f70898"
      },
      "source": [
        "# \"Recorremos\" los indices del dataset \n",
        "#  y con el -1 obtenemos la columna 1\n",
        "x = dataset.iloc[ : , :-1]\n",
        "print(x)"
      ],
      "execution_count": null,
      "outputs": [
        {
          "output_type": "stream",
          "text": [
            "    Aexperiencia\n",
            "0           10.0\n",
            "1            8.0\n",
            "2            5.4\n",
            "3            2.5\n",
            "4            1.0\n",
            "5            8.0\n",
            "6            4.0\n",
            "7            6.0\n",
            "8            2.0\n",
            "9           10.0\n",
            "10           4.0\n",
            "11           7.0\n",
            "12           3.0\n",
            "13           5.0\n",
            "14           2.0\n",
            "15           5.0\n",
            "16           3.0\n",
            "17           2.0\n",
            "18           3.0\n",
            "19           2.0\n",
            "20           5.0\n",
            "21           3.4\n",
            "22           5.3\n",
            "23           2.1\n",
            "24           9.2\n",
            "25          10.0\n",
            "26           3.2\n",
            "27          10.0\n",
            "28           4.0\n",
            "29           1.0\n"
          ],
          "name": "stdout"
        }
      ]
    },
    {
      "cell_type": "code",
      "metadata": {
        "id": "hVvf79pPAtq7",
        "colab": {
          "base_uri": "https://localhost:8080/"
        },
        "outputId": "8d66a44f-65e1-454b-9310-0464b7caf90b"
      },
      "source": [
        "y = dataset.iloc[: , 1]\n",
        "print(y)"
      ],
      "execution_count": null,
      "outputs": [
        {
          "output_type": "stream",
          "text": [
            "0     42500\n",
            "1     36302\n",
            "2     35000\n",
            "3     18103\n",
            "4     15000\n",
            "5     37000\n",
            "6     26300\n",
            "7     35201\n",
            "8     18302\n",
            "9     42000\n",
            "10    27000\n",
            "11    35201\n",
            "12    19201\n",
            "13    28000\n",
            "14    17000\n",
            "15    33402\n",
            "16    19000\n",
            "17    18200\n",
            "18    19000\n",
            "19    17301\n",
            "20    28000\n",
            "21    20000\n",
            "22    27900\n",
            "23    17500\n",
            "24    40000\n",
            "25    42500\n",
            "26    18300\n",
            "27    40000\n",
            "28    25000\n",
            "29    15000\n",
            "Name: Salario, dtype: int64\n"
          ],
          "name": "stdout"
        }
      ]
    },
    {
      "cell_type": "markdown",
      "metadata": {
        "id": "9DPk-bTYAtq8"
      },
      "source": [
        "Pero como solo nos interesan los valores hacemos:"
      ]
    },
    {
      "cell_type": "code",
      "metadata": {
        "id": "rYuuCdEVAtq8",
        "colab": {
          "base_uri": "https://localhost:8080/"
        },
        "outputId": "55a90f29-efc1-441d-c028-92219cd6066a"
      },
      "source": [
        "x = dataset.iloc[: , :-1].values\n",
        "y = dataset.iloc[: , 1].values\n",
        "print(x,y)"
      ],
      "execution_count": null,
      "outputs": [
        {
          "output_type": "stream",
          "text": [
            "[[10. ]\n",
            " [ 8. ]\n",
            " [ 5.4]\n",
            " [ 2.5]\n",
            " [ 1. ]\n",
            " [ 8. ]\n",
            " [ 4. ]\n",
            " [ 6. ]\n",
            " [ 2. ]\n",
            " [10. ]\n",
            " [ 4. ]\n",
            " [ 7. ]\n",
            " [ 3. ]\n",
            " [ 5. ]\n",
            " [ 2. ]\n",
            " [ 5. ]\n",
            " [ 3. ]\n",
            " [ 2. ]\n",
            " [ 3. ]\n",
            " [ 2. ]\n",
            " [ 5. ]\n",
            " [ 3.4]\n",
            " [ 5.3]\n",
            " [ 2.1]\n",
            " [ 9.2]\n",
            " [10. ]\n",
            " [ 3.2]\n",
            " [10. ]\n",
            " [ 4. ]\n",
            " [ 1. ]] [42500 36302 35000 18103 15000 37000 26300 35201 18302 42000 27000 35201\n",
            " 19201 28000 17000 33402 19000 18200 19000 17301 28000 20000 27900 17500\n",
            " 40000 42500 18300 40000 25000 15000]\n"
          ],
          "name": "stdout"
        }
      ]
    },
    {
      "cell_type": "markdown",
      "metadata": {
        "id": "0O1hs4aaAtq8"
      },
      "source": [
        "Recordemos que también necesitamos nuestros datos de entrenamiento, así que los vamos a dividir:"
      ]
    },
    {
      "cell_type": "code",
      "metadata": {
        "id": "e0sOrKNFAtq8"
      },
      "source": [
        "# Dividimos los datos de entrenamiento y de testeo\n",
        "# El test_size destina el 20% a testeo y el 80% a entrenamientp\n",
        "# El random_state nos dice si vamos a modificar los datos intercambiando los de prueba y entrenamiento\n",
        "X_train, X_test, Y_train, Y_test = train_test_split(x , y, test_size =  0.2, random_state = 0)"
      ],
      "execution_count": null,
      "outputs": []
    },
    {
      "cell_type": "markdown",
      "metadata": {
        "id": "LcKCuQyBAtq8"
      },
      "source": [
        "Vamos a ver como separó los datos:"
      ]
    },
    {
      "cell_type": "code",
      "metadata": {
        "id": "upBSesmnAtq9",
        "colab": {
          "base_uri": "https://localhost:8080/"
        },
        "outputId": "24907b3e-edc6-42d6-e6f6-f418d45aed0c"
      },
      "source": [
        "X_train"
      ],
      "execution_count": null,
      "outputs": [
        {
          "output_type": "execute_result",
          "data": {
            "text/plain": [
              "array([[10. ],\n",
              "       [ 7. ],\n",
              "       [ 2. ],\n",
              "       [ 5.3],\n",
              "       [ 8. ],\n",
              "       [ 3. ],\n",
              "       [ 2. ],\n",
              "       [ 2. ],\n",
              "       [ 2.1],\n",
              "       [ 5. ],\n",
              "       [ 8. ],\n",
              "       [ 1. ],\n",
              "       [ 4. ],\n",
              "       [ 1. ],\n",
              "       [ 3. ],\n",
              "       [ 2. ],\n",
              "       [10. ],\n",
              "       [ 6. ],\n",
              "       [10. ],\n",
              "       [ 2.5],\n",
              "       [10. ],\n",
              "       [ 3.4],\n",
              "       [ 5. ],\n",
              "       [ 3. ]])"
            ]
          },
          "metadata": {
            "tags": []
          },
          "execution_count": 135
        }
      ]
    },
    {
      "cell_type": "code",
      "metadata": {
        "id": "6JCnB0fQAtq9",
        "colab": {
          "base_uri": "https://localhost:8080/"
        },
        "outputId": "45746aaa-268d-4f1a-fd1a-9bb19bf1ce6d"
      },
      "source": [
        "X_test"
      ],
      "execution_count": null,
      "outputs": [
        {
          "output_type": "execute_result",
          "data": {
            "text/plain": [
              "array([[5.4],\n",
              "       [4. ],\n",
              "       [5. ],\n",
              "       [4. ],\n",
              "       [3.2],\n",
              "       [9.2]])"
            ]
          },
          "metadata": {
            "tags": []
          },
          "execution_count": 136
        }
      ]
    },
    {
      "cell_type": "code",
      "metadata": {
        "id": "p4MT3C9fAtq9",
        "colab": {
          "base_uri": "https://localhost:8080/"
        },
        "outputId": "69235778-b869-4b73-f24a-7e31b20051f7"
      },
      "source": [
        "Y_train"
      ],
      "execution_count": null,
      "outputs": [
        {
          "output_type": "execute_result",
          "data": {
            "text/plain": [
              "array([40000, 35201, 18200, 27900, 37000, 19000, 18302, 17000, 17500,\n",
              "       28000, 36302, 15000, 26300, 15000, 19000, 17301, 42000, 35201,\n",
              "       42500, 18103, 42500, 20000, 33402, 19201])"
            ]
          },
          "metadata": {
            "tags": []
          },
          "execution_count": 137
        }
      ]
    },
    {
      "cell_type": "code",
      "metadata": {
        "id": "XSpmKMVKAtq9",
        "colab": {
          "base_uri": "https://localhost:8080/"
        },
        "outputId": "a47acfc7-d84c-4fd8-a25c-d1286e91223d"
      },
      "source": [
        "Y_test"
      ],
      "execution_count": null,
      "outputs": [
        {
          "output_type": "execute_result",
          "data": {
            "text/plain": [
              "array([35000, 25000, 28000, 27000, 18300, 40000])"
            ]
          },
          "metadata": {
            "tags": []
          },
          "execution_count": 138
        }
      ]
    },
    {
      "cell_type": "markdown",
      "metadata": {
        "id": "Izpq8JknAtq-"
      },
      "source": [
        "---"
      ]
    },
    {
      "cell_type": "markdown",
      "metadata": {
        "id": "bnxwlN2uAtq-"
      },
      "source": [
        "#### Creación del modelo"
      ]
    },
    {
      "cell_type": "code",
      "metadata": {
        "id": "nPLNrrHSAtq-"
      },
      "source": [
        "regression = LinearRegression()"
      ],
      "execution_count": null,
      "outputs": []
    },
    {
      "cell_type": "markdown",
      "metadata": {
        "id": "EXXCDxLlAtq-"
      },
      "source": [
        "Para entrenarlo tenemos que pasarle los valores en $x$ y $y$ con el método `.fit`"
      ]
    },
    {
      "cell_type": "code",
      "metadata": {
        "id": "fB9T-Y00Atq-",
        "colab": {
          "base_uri": "https://localhost:8080/"
        },
        "outputId": "ddbf0ec5-47cb-4615-fee1-ba0551f7cffb"
      },
      "source": [
        "regression.fit(X_train, Y_train)"
      ],
      "execution_count": null,
      "outputs": [
        {
          "output_type": "execute_result",
          "data": {
            "text/plain": [
              "LinearRegression(copy_X=True, fit_intercept=True, n_jobs=None, normalize=False)"
            ]
          },
          "metadata": {
            "tags": []
          },
          "execution_count": 140
        }
      ]
    },
    {
      "cell_type": "markdown",
      "metadata": {
        "id": "eeMvifRwAtq-"
      },
      "source": [
        "Mostremos que es lo que aprende, para ello lo visualizamos con MatPlot"
      ]
    },
    {
      "cell_type": "code",
      "metadata": {
        "id": "99nSTI4bAtq-",
        "colab": {
          "base_uri": "https://localhost:8080/",
          "height": 295
        },
        "outputId": "9c3c7d54-20a0-4c37-a641-10b1821573d6"
      },
      "source": [
        "# Le decimos que es un objeto con los que trabaja mat plot\n",
        "visual_train = plt\n",
        "# Hacemos la gráfica de los datos\n",
        "visual_train.scatter(X_train, Y_train, color = '#7820D6')\n",
        "# Le decimos que trace una línea con los datos de entrenamiento y la predicción del modelo de color negro\n",
        "visual_train.plot(X_train, regression.predict(X_train), color ='black')\n",
        "# Le agregamos su información a la gráfica\n",
        "visual_train.title('Entrenamiento del modelo')\n",
        "visual_train.xlabel('Experiencia')\n",
        "visual_train.ylabel('Salario')\n",
        "visual_train.show()"
      ],
      "execution_count": null,
      "outputs": [
        {
          "output_type": "display_data",
          "data": {
            "image/png": "[encoded data removed]",
            "text/plain": [
              "<Figure size 432x288 with 1 Axes>"
            ]
          },
          "metadata": {
            "tags": [],
            "needs_background": "light"
          }
        }
      ]
    },
    {
      "cell_type": "markdown",
      "metadata": {
        "id": "76By6xrRAtq_"
      },
      "source": [
        "Ahora vamos a validar el modelo con nuestros datos de prueba cambiando nuestro `X_train` y `Y_train` por `X_test` y `Y_test` :"
      ]
    },
    {
      "cell_type": "code",
      "metadata": {
        "id": "hgAtINF9Atq_",
        "colab": {
          "base_uri": "https://localhost:8080/",
          "height": 295
        },
        "outputId": "47dd1fa1-f8de-473e-870d-196e9b6b5d01"
      },
      "source": [
        "# Le decimos que es un objeto con los que trabaja mat plot\n",
        "visual_train = plt\n",
        "# Hacemos la gráfica de los datos\n",
        "visual_train.scatter(X_test, Y_test, color = '#EE80FF')\n",
        "# Le decimos que trace una línea con los datos de entrenamiento y la predicción del modelo de color negro\n",
        "visual_train.plot(X_train, regression.predict(X_train), color ='black')\n",
        "# Le agregamos su información a la gráfica\n",
        "visual_train.title('Validación del modelo')\n",
        "visual_train.xlabel('Experiencia')\n",
        "visual_train.ylabel('Salario')\n",
        "visual_train.show()"
      ],
      "execution_count": null,
      "outputs": [
        {
          "output_type": "display_data",
          "data": {
            "image/png": "[encoded data removed]",
            "text/plain": [
              "<Figure size 432x288 with 1 Axes>"
            ]
          },
          "metadata": {
            "tags": [],
            "needs_background": "light"
          }
        }
      ]
    },
    {
      "cell_type": "markdown",
      "metadata": {
        "id": "G_Xb-CEPAtq_"
      },
      "source": [
        "Vamos a confirmar la información obteniendo el score de nuestro modelo:"
      ]
    },
    {
      "cell_type": "code",
      "metadata": {
        "id": "tqzAKRA9Atq_",
        "colab": {
          "base_uri": "https://localhost:8080/"
        },
        "outputId": "083789a0-5b55-403b-a872-690384c52313"
      },
      "source": [
        "regression.score(X_test, Y_test)"
      ],
      "execution_count": null,
      "outputs": [
        {
          "output_type": "execute_result",
          "data": {
            "text/plain": [
              "0.7862437374732997"
            ]
          },
          "metadata": {
            "tags": []
          },
          "execution_count": 143
        }
      ]
    },
    {
      "cell_type": "markdown",
      "metadata": {
        "id": "lbgTdgh4Atq_"
      },
      "source": [
        "Es decir, para nuevos datos vamos a obtener una predicción con $\\approx $0.78 o 78% de seguridad de obtener una buena predicción."
      ]
    },
    {
      "cell_type": "markdown",
      "metadata": {
        "id": "N3OH0GtnAtrA"
      },
      "source": [
        "---"
      ]
    },
    {
      "cell_type": "markdown",
      "metadata": {
        "id": "S47RYLgpAtrA"
      },
      "source": [
        "### Reto"
      ]
    },
    {
      "cell_type": "markdown",
      "metadata": {
        "id": "tFmpri3qAtrA"
      },
      "source": [
        "#### Creando los nuevos datos"
      ]
    },
    {
      "cell_type": "markdown",
      "metadata": {
        "id": "TDlIla3wAtrA"
      },
      "source": [
        "Vamos a agregar una tercera columna que se llame \"País\", pero como solo puede recibir valores continuos tendremos que asignarles números enteros consecutivos. Y a partir de ello realicemos una predicción donde a partir de $X= [Años,País]$ tratamos de predecir $Y = \\text{Salario}$."
      ]
    },
    {
      "cell_type": "code",
      "metadata": {
        "id": "RPFKZh_6AtrA"
      },
      "source": [
        "import pandas as pd\n",
        "import matplotlib.pyplot as plt\n",
        "# Importamos nuestro modelo para poder entranar\n",
        "from sklearn.model_selection import train_test_split\n",
        "# Importamos el modelo de regresión lineal\n",
        "from sklearn.linear_model import LinearRegression\n",
        "from sklearn import linear_model\n",
        "import random "
      ],
      "execution_count": null,
      "outputs": []
    },
    {
      "cell_type": "code",
      "metadata": {
        "id": "yk69FlAMAtrA"
      },
      "source": [
        "# Traemos los datos del CSV anterior\n",
        "#dataset_plus_country = pd.read_csv(\"../Fundamentos_Practicos_de_Machine_Learning/Archivos/salarios.csv\")\n",
        "#dataset_plus_country"
      ],
      "execution_count": null,
      "outputs": []
    },
    {
      "cell_type": "code",
      "metadata": {
        "colab": {
          "base_uri": "https://localhost:8080/",
          "height": 973
        },
        "id": "VVGFe0BwEJF7",
        "outputId": "e122f731-0703-49cb-8251-f2db1e3a7f31"
      },
      "source": [
        "# Traemos los datos del CSV anterior\n",
        "dataset_plus_country = pd.read_csv(\"salarios.csv\")\n",
        "dataset_plus_country"
      ],
      "execution_count": null,
      "outputs": [
        {
          "output_type": "execute_result",
          "data": {
            "text/html": [
              "<div>\n",
              "<style scoped>\n",
              "    .dataframe tbody tr th:only-of-type {\n",
              "        vertical-align: middle;\n",
              "    }\n",
              "\n",
              "    .dataframe tbody tr th {\n",
              "        vertical-align: top;\n",
              "    }\n",
              "\n",
              "    .dataframe thead th {\n",
              "        text-align: right;\n",
              "    }\n",
              "</style>\n",
              "<table border=\"1\" class=\"dataframe\">\n",
              "  <thead>\n",
              "    <tr style=\"text-align: right;\">\n",
              "      <th></th>\n",
              "      <th>Aexperiencia</th>\n",
              "      <th>Salario</th>\n",
              "    </tr>\n",
              "  </thead>\n",
              "  <tbody>\n",
              "    <tr>\n",
              "      <th>0</th>\n",
              "      <td>10.0</td>\n",
              "      <td>42500</td>\n",
              "    </tr>\n",
              "    <tr>\n",
              "      <th>1</th>\n",
              "      <td>8.0</td>\n",
              "      <td>36302</td>\n",
              "    </tr>\n",
              "    <tr>\n",
              "      <th>2</th>\n",
              "      <td>5.4</td>\n",
              "      <td>35000</td>\n",
              "    </tr>\n",
              "    <tr>\n",
              "      <th>3</th>\n",
              "      <td>2.5</td>\n",
              "      <td>18103</td>\n",
              "    </tr>\n",
              "    <tr>\n",
              "      <th>4</th>\n",
              "      <td>1.0</td>\n",
              "      <td>15000</td>\n",
              "    </tr>\n",
              "    <tr>\n",
              "      <th>5</th>\n",
              "      <td>8.0</td>\n",
              "      <td>37000</td>\n",
              "    </tr>\n",
              "    <tr>\n",
              "      <th>6</th>\n",
              "      <td>4.0</td>\n",
              "      <td>26300</td>\n",
              "    </tr>\n",
              "    <tr>\n",
              "      <th>7</th>\n",
              "      <td>6.0</td>\n",
              "      <td>35201</td>\n",
              "    </tr>\n",
              "    <tr>\n",
              "      <th>8</th>\n",
              "      <td>2.0</td>\n",
              "      <td>18302</td>\n",
              "    </tr>\n",
              "    <tr>\n",
              "      <th>9</th>\n",
              "      <td>10.0</td>\n",
              "      <td>42000</td>\n",
              "    </tr>\n",
              "    <tr>\n",
              "      <th>10</th>\n",
              "      <td>4.0</td>\n",
              "      <td>27000</td>\n",
              "    </tr>\n",
              "    <tr>\n",
              "      <th>11</th>\n",
              "      <td>7.0</td>\n",
              "      <td>35201</td>\n",
              "    </tr>\n",
              "    <tr>\n",
              "      <th>12</th>\n",
              "      <td>3.0</td>\n",
              "      <td>19201</td>\n",
              "    </tr>\n",
              "    <tr>\n",
              "      <th>13</th>\n",
              "      <td>5.0</td>\n",
              "      <td>28000</td>\n",
              "    </tr>\n",
              "    <tr>\n",
              "      <th>14</th>\n",
              "      <td>2.0</td>\n",
              "      <td>17000</td>\n",
              "    </tr>\n",
              "    <tr>\n",
              "      <th>15</th>\n",
              "      <td>5.0</td>\n",
              "      <td>33402</td>\n",
              "    </tr>\n",
              "    <tr>\n",
              "      <th>16</th>\n",
              "      <td>3.0</td>\n",
              "      <td>19000</td>\n",
              "    </tr>\n",
              "    <tr>\n",
              "      <th>17</th>\n",
              "      <td>2.0</td>\n",
              "      <td>18200</td>\n",
              "    </tr>\n",
              "    <tr>\n",
              "      <th>18</th>\n",
              "      <td>3.0</td>\n",
              "      <td>19000</td>\n",
              "    </tr>\n",
              "    <tr>\n",
              "      <th>19</th>\n",
              "      <td>2.0</td>\n",
              "      <td>17301</td>\n",
              "    </tr>\n",
              "    <tr>\n",
              "      <th>20</th>\n",
              "      <td>5.0</td>\n",
              "      <td>28000</td>\n",
              "    </tr>\n",
              "    <tr>\n",
              "      <th>21</th>\n",
              "      <td>3.4</td>\n",
              "      <td>20000</td>\n",
              "    </tr>\n",
              "    <tr>\n",
              "      <th>22</th>\n",
              "      <td>5.3</td>\n",
              "      <td>27900</td>\n",
              "    </tr>\n",
              "    <tr>\n",
              "      <th>23</th>\n",
              "      <td>2.1</td>\n",
              "      <td>17500</td>\n",
              "    </tr>\n",
              "    <tr>\n",
              "      <th>24</th>\n",
              "      <td>9.2</td>\n",
              "      <td>40000</td>\n",
              "    </tr>\n",
              "    <tr>\n",
              "      <th>25</th>\n",
              "      <td>10.0</td>\n",
              "      <td>42500</td>\n",
              "    </tr>\n",
              "    <tr>\n",
              "      <th>26</th>\n",
              "      <td>3.2</td>\n",
              "      <td>18300</td>\n",
              "    </tr>\n",
              "    <tr>\n",
              "      <th>27</th>\n",
              "      <td>10.0</td>\n",
              "      <td>40000</td>\n",
              "    </tr>\n",
              "    <tr>\n",
              "      <th>28</th>\n",
              "      <td>4.0</td>\n",
              "      <td>25000</td>\n",
              "    </tr>\n",
              "    <tr>\n",
              "      <th>29</th>\n",
              "      <td>1.0</td>\n",
              "      <td>15000</td>\n",
              "    </tr>\n",
              "  </tbody>\n",
              "</table>\n",
              "</div>"
            ],
            "text/plain": [
              "    Aexperiencia  Salario\n",
              "0           10.0    42500\n",
              "1            8.0    36302\n",
              "2            5.4    35000\n",
              "3            2.5    18103\n",
              "4            1.0    15000\n",
              "5            8.0    37000\n",
              "6            4.0    26300\n",
              "7            6.0    35201\n",
              "8            2.0    18302\n",
              "9           10.0    42000\n",
              "10           4.0    27000\n",
              "11           7.0    35201\n",
              "12           3.0    19201\n",
              "13           5.0    28000\n",
              "14           2.0    17000\n",
              "15           5.0    33402\n",
              "16           3.0    19000\n",
              "17           2.0    18200\n",
              "18           3.0    19000\n",
              "19           2.0    17301\n",
              "20           5.0    28000\n",
              "21           3.4    20000\n",
              "22           5.3    27900\n",
              "23           2.1    17500\n",
              "24           9.2    40000\n",
              "25          10.0    42500\n",
              "26           3.2    18300\n",
              "27          10.0    40000\n",
              "28           4.0    25000\n",
              "29           1.0    15000"
            ]
          },
          "metadata": {
            "tags": []
          },
          "execution_count": 149
        }
      ]
    },
    {
      "cell_type": "code",
      "metadata": {
        "id": "B4gNWV7WAtrB"
      },
      "source": [
        "# Agreguemos la lista de países\n",
        "countries = ['Mexico','Colombia','Venezuela','Argentina']"
      ],
      "execution_count": null,
      "outputs": []
    },
    {
      "cell_type": "code",
      "metadata": {
        "id": "hM6h_cncAtrB",
        "colab": {
          "base_uri": "https://localhost:8080/"
        },
        "outputId": "9c23eae2-0f5a-40a3-8c9d-6b02628bf942"
      },
      "source": [
        "# Como la regresión solo trabaja con valores continuos asignemosle valores a cada país\n",
        "# Para realizar eso necesitamos el modulo PreProcessing\n",
        "from sklearn import preprocessing\n",
        "\n",
        "# La instrucción LabelEncoder() etiqueta los datos con valores entre 0 y n-1; en este caso entre 0 y 3\n",
        "country_encoder = preprocessing.LabelEncoder()\n",
        "\n",
        "# .fit transform() coloca el codificador de etiquetas y las devuelve ya codificadas\n",
        "country_continous = country_encoder.fit_transform(countries) # Le decimos que codifique countries\n",
        "country_continous"
      ],
      "execution_count": null,
      "outputs": [
        {
          "output_type": "execute_result",
          "data": {
            "text/plain": [
              "array([2, 1, 3, 0])"
            ]
          },
          "metadata": {
            "tags": []
          },
          "execution_count": 151
        }
      ]
    },
    {
      "cell_type": "code",
      "metadata": {
        "id": "TXf1g-JLAtrB",
        "colab": {
          "base_uri": "https://localhost:8080/"
        },
        "outputId": "6b559888-f1f7-422e-941f-4cd9bb1419e3"
      },
      "source": [
        "# Le agregamos aleatoriamente un país a cada persona de la lista\n",
        "random_countries_list = [ random.choice(country_continous) for i in range(len(dataset_plus_country)) ]\n",
        "random_countries_list"
      ],
      "execution_count": null,
      "outputs": [
        {
          "output_type": "execute_result",
          "data": {
            "text/plain": [
              "[3,\n",
              " 0,\n",
              " 1,\n",
              " 1,\n",
              " 1,\n",
              " 2,\n",
              " 1,\n",
              " 2,\n",
              " 3,\n",
              " 0,\n",
              " 1,\n",
              " 1,\n",
              " 1,\n",
              " 0,\n",
              " 1,\n",
              " 1,\n",
              " 1,\n",
              " 3,\n",
              " 3,\n",
              " 0,\n",
              " 0,\n",
              " 1,\n",
              " 3,\n",
              " 1,\n",
              " 1,\n",
              " 2,\n",
              " 0,\n",
              " 0,\n",
              " 3,\n",
              " 0]"
            ]
          },
          "metadata": {
            "tags": []
          },
          "execution_count": 152
        }
      ]
    },
    {
      "cell_type": "code",
      "metadata": {
        "id": "KrXQaA_sAtrB",
        "colab": {
          "base_uri": "https://localhost:8080/",
          "height": 973
        },
        "outputId": "f7f2b8f0-4c2a-4e47-c299-3a52b1e3cfbb"
      },
      "source": [
        "# Lo agregamos al dataset\n",
        "dataset_plus_country['Pais'] = random_countries_list\n",
        "dataset_plus_country"
      ],
      "execution_count": null,
      "outputs": [
        {
          "output_type": "execute_result",
          "data": {
            "text/html": [
              "<div>\n",
              "<style scoped>\n",
              "    .dataframe tbody tr th:only-of-type {\n",
              "        vertical-align: middle;\n",
              "    }\n",
              "\n",
              "    .dataframe tbody tr th {\n",
              "        vertical-align: top;\n",
              "    }\n",
              "\n",
              "    .dataframe thead th {\n",
              "        text-align: right;\n",
              "    }\n",
              "</style>\n",
              "<table border=\"1\" class=\"dataframe\">\n",
              "  <thead>\n",
              "    <tr style=\"text-align: right;\">\n",
              "      <th></th>\n",
              "      <th>Aexperiencia</th>\n",
              "      <th>Salario</th>\n",
              "      <th>Pais</th>\n",
              "    </tr>\n",
              "  </thead>\n",
              "  <tbody>\n",
              "    <tr>\n",
              "      <th>0</th>\n",
              "      <td>10.0</td>\n",
              "      <td>42500</td>\n",
              "      <td>3</td>\n",
              "    </tr>\n",
              "    <tr>\n",
              "      <th>1</th>\n",
              "      <td>8.0</td>\n",
              "      <td>36302</td>\n",
              "      <td>0</td>\n",
              "    </tr>\n",
              "    <tr>\n",
              "      <th>2</th>\n",
              "      <td>5.4</td>\n",
              "      <td>35000</td>\n",
              "      <td>1</td>\n",
              "    </tr>\n",
              "    <tr>\n",
              "      <th>3</th>\n",
              "      <td>2.5</td>\n",
              "      <td>18103</td>\n",
              "      <td>1</td>\n",
              "    </tr>\n",
              "    <tr>\n",
              "      <th>4</th>\n",
              "      <td>1.0</td>\n",
              "      <td>15000</td>\n",
              "      <td>1</td>\n",
              "    </tr>\n",
              "    <tr>\n",
              "      <th>5</th>\n",
              "      <td>8.0</td>\n",
              "      <td>37000</td>\n",
              "      <td>2</td>\n",
              "    </tr>\n",
              "    <tr>\n",
              "      <th>6</th>\n",
              "      <td>4.0</td>\n",
              "      <td>26300</td>\n",
              "      <td>1</td>\n",
              "    </tr>\n",
              "    <tr>\n",
              "      <th>7</th>\n",
              "      <td>6.0</td>\n",
              "      <td>35201</td>\n",
              "      <td>2</td>\n",
              "    </tr>\n",
              "    <tr>\n",
              "      <th>8</th>\n",
              "      <td>2.0</td>\n",
              "      <td>18302</td>\n",
              "      <td>3</td>\n",
              "    </tr>\n",
              "    <tr>\n",
              "      <th>9</th>\n",
              "      <td>10.0</td>\n",
              "      <td>42000</td>\n",
              "      <td>0</td>\n",
              "    </tr>\n",
              "    <tr>\n",
              "      <th>10</th>\n",
              "      <td>4.0</td>\n",
              "      <td>27000</td>\n",
              "      <td>1</td>\n",
              "    </tr>\n",
              "    <tr>\n",
              "      <th>11</th>\n",
              "      <td>7.0</td>\n",
              "      <td>35201</td>\n",
              "      <td>1</td>\n",
              "    </tr>\n",
              "    <tr>\n",
              "      <th>12</th>\n",
              "      <td>3.0</td>\n",
              "      <td>19201</td>\n",
              "      <td>1</td>\n",
              "    </tr>\n",
              "    <tr>\n",
              "      <th>13</th>\n",
              "      <td>5.0</td>\n",
              "      <td>28000</td>\n",
              "      <td>0</td>\n",
              "    </tr>\n",
              "    <tr>\n",
              "      <th>14</th>\n",
              "      <td>2.0</td>\n",
              "      <td>17000</td>\n",
              "      <td>1</td>\n",
              "    </tr>\n",
              "    <tr>\n",
              "      <th>15</th>\n",
              "      <td>5.0</td>\n",
              "      <td>33402</td>\n",
              "      <td>1</td>\n",
              "    </tr>\n",
              "    <tr>\n",
              "      <th>16</th>\n",
              "      <td>3.0</td>\n",
              "      <td>19000</td>\n",
              "      <td>1</td>\n",
              "    </tr>\n",
              "    <tr>\n",
              "      <th>17</th>\n",
              "      <td>2.0</td>\n",
              "      <td>18200</td>\n",
              "      <td>3</td>\n",
              "    </tr>\n",
              "    <tr>\n",
              "      <th>18</th>\n",
              "      <td>3.0</td>\n",
              "      <td>19000</td>\n",
              "      <td>3</td>\n",
              "    </tr>\n",
              "    <tr>\n",
              "      <th>19</th>\n",
              "      <td>2.0</td>\n",
              "      <td>17301</td>\n",
              "      <td>0</td>\n",
              "    </tr>\n",
              "    <tr>\n",
              "      <th>20</th>\n",
              "      <td>5.0</td>\n",
              "      <td>28000</td>\n",
              "      <td>0</td>\n",
              "    </tr>\n",
              "    <tr>\n",
              "      <th>21</th>\n",
              "      <td>3.4</td>\n",
              "      <td>20000</td>\n",
              "      <td>1</td>\n",
              "    </tr>\n",
              "    <tr>\n",
              "      <th>22</th>\n",
              "      <td>5.3</td>\n",
              "      <td>27900</td>\n",
              "      <td>3</td>\n",
              "    </tr>\n",
              "    <tr>\n",
              "      <th>23</th>\n",
              "      <td>2.1</td>\n",
              "      <td>17500</td>\n",
              "      <td>1</td>\n",
              "    </tr>\n",
              "    <tr>\n",
              "      <th>24</th>\n",
              "      <td>9.2</td>\n",
              "      <td>40000</td>\n",
              "      <td>1</td>\n",
              "    </tr>\n",
              "    <tr>\n",
              "      <th>25</th>\n",
              "      <td>10.0</td>\n",
              "      <td>42500</td>\n",
              "      <td>2</td>\n",
              "    </tr>\n",
              "    <tr>\n",
              "      <th>26</th>\n",
              "      <td>3.2</td>\n",
              "      <td>18300</td>\n",
              "      <td>0</td>\n",
              "    </tr>\n",
              "    <tr>\n",
              "      <th>27</th>\n",
              "      <td>10.0</td>\n",
              "      <td>40000</td>\n",
              "      <td>0</td>\n",
              "    </tr>\n",
              "    <tr>\n",
              "      <th>28</th>\n",
              "      <td>4.0</td>\n",
              "      <td>25000</td>\n",
              "      <td>3</td>\n",
              "    </tr>\n",
              "    <tr>\n",
              "      <th>29</th>\n",
              "      <td>1.0</td>\n",
              "      <td>15000</td>\n",
              "      <td>0</td>\n",
              "    </tr>\n",
              "  </tbody>\n",
              "</table>\n",
              "</div>"
            ],
            "text/plain": [
              "    Aexperiencia  Salario  Pais\n",
              "0           10.0    42500     3\n",
              "1            8.0    36302     0\n",
              "2            5.4    35000     1\n",
              "3            2.5    18103     1\n",
              "4            1.0    15000     1\n",
              "5            8.0    37000     2\n",
              "6            4.0    26300     1\n",
              "7            6.0    35201     2\n",
              "8            2.0    18302     3\n",
              "9           10.0    42000     0\n",
              "10           4.0    27000     1\n",
              "11           7.0    35201     1\n",
              "12           3.0    19201     1\n",
              "13           5.0    28000     0\n",
              "14           2.0    17000     1\n",
              "15           5.0    33402     1\n",
              "16           3.0    19000     1\n",
              "17           2.0    18200     3\n",
              "18           3.0    19000     3\n",
              "19           2.0    17301     0\n",
              "20           5.0    28000     0\n",
              "21           3.4    20000     1\n",
              "22           5.3    27900     3\n",
              "23           2.1    17500     1\n",
              "24           9.2    40000     1\n",
              "25          10.0    42500     2\n",
              "26           3.2    18300     0\n",
              "27          10.0    40000     0\n",
              "28           4.0    25000     3\n",
              "29           1.0    15000     0"
            ]
          },
          "metadata": {
            "tags": []
          },
          "execution_count": 153
        }
      ]
    },
    {
      "cell_type": "markdown",
      "metadata": {
        "id": "rORRmHrwAtrB"
      },
      "source": [
        "\n",
        "\n",
        "#### Separando los datos"
      ]
    },
    {
      "cell_type": "markdown",
      "metadata": {
        "id": "nk50u-7yAtrC"
      },
      "source": [
        "Vamos a definir las variables que queremos que detecte como $X$ y como $Y$."
      ]
    },
    {
      "cell_type": "code",
      "metadata": {
        "id": "DqmLMTJvAtrC",
        "colab": {
          "base_uri": "https://localhost:8080/",
          "height": 973
        },
        "outputId": "7c4dd5f6-647c-42d4-97a1-5890f140a115"
      },
      "source": [
        "#Verificamos cuales son los datos que usaremos como X\n",
        "dataset_plus_country[ ['Aexperiencia','Pais'] ]"
      ],
      "execution_count": null,
      "outputs": [
        {
          "output_type": "execute_result",
          "data": {
            "text/html": [
              "<div>\n",
              "<style scoped>\n",
              "    .dataframe tbody tr th:only-of-type {\n",
              "        vertical-align: middle;\n",
              "    }\n",
              "\n",
              "    .dataframe tbody tr th {\n",
              "        vertical-align: top;\n",
              "    }\n",
              "\n",
              "    .dataframe thead th {\n",
              "        text-align: right;\n",
              "    }\n",
              "</style>\n",
              "<table border=\"1\" class=\"dataframe\">\n",
              "  <thead>\n",
              "    <tr style=\"text-align: right;\">\n",
              "      <th></th>\n",
              "      <th>Aexperiencia</th>\n",
              "      <th>Pais</th>\n",
              "    </tr>\n",
              "  </thead>\n",
              "  <tbody>\n",
              "    <tr>\n",
              "      <th>0</th>\n",
              "      <td>10.0</td>\n",
              "      <td>3</td>\n",
              "    </tr>\n",
              "    <tr>\n",
              "      <th>1</th>\n",
              "      <td>8.0</td>\n",
              "      <td>0</td>\n",
              "    </tr>\n",
              "    <tr>\n",
              "      <th>2</th>\n",
              "      <td>5.4</td>\n",
              "      <td>1</td>\n",
              "    </tr>\n",
              "    <tr>\n",
              "      <th>3</th>\n",
              "      <td>2.5</td>\n",
              "      <td>1</td>\n",
              "    </tr>\n",
              "    <tr>\n",
              "      <th>4</th>\n",
              "      <td>1.0</td>\n",
              "      <td>1</td>\n",
              "    </tr>\n",
              "    <tr>\n",
              "      <th>5</th>\n",
              "      <td>8.0</td>\n",
              "      <td>2</td>\n",
              "    </tr>\n",
              "    <tr>\n",
              "      <th>6</th>\n",
              "      <td>4.0</td>\n",
              "      <td>1</td>\n",
              "    </tr>\n",
              "    <tr>\n",
              "      <th>7</th>\n",
              "      <td>6.0</td>\n",
              "      <td>2</td>\n",
              "    </tr>\n",
              "    <tr>\n",
              "      <th>8</th>\n",
              "      <td>2.0</td>\n",
              "      <td>3</td>\n",
              "    </tr>\n",
              "    <tr>\n",
              "      <th>9</th>\n",
              "      <td>10.0</td>\n",
              "      <td>0</td>\n",
              "    </tr>\n",
              "    <tr>\n",
              "      <th>10</th>\n",
              "      <td>4.0</td>\n",
              "      <td>1</td>\n",
              "    </tr>\n",
              "    <tr>\n",
              "      <th>11</th>\n",
              "      <td>7.0</td>\n",
              "      <td>1</td>\n",
              "    </tr>\n",
              "    <tr>\n",
              "      <th>12</th>\n",
              "      <td>3.0</td>\n",
              "      <td>1</td>\n",
              "    </tr>\n",
              "    <tr>\n",
              "      <th>13</th>\n",
              "      <td>5.0</td>\n",
              "      <td>0</td>\n",
              "    </tr>\n",
              "    <tr>\n",
              "      <th>14</th>\n",
              "      <td>2.0</td>\n",
              "      <td>1</td>\n",
              "    </tr>\n",
              "    <tr>\n",
              "      <th>15</th>\n",
              "      <td>5.0</td>\n",
              "      <td>1</td>\n",
              "    </tr>\n",
              "    <tr>\n",
              "      <th>16</th>\n",
              "      <td>3.0</td>\n",
              "      <td>1</td>\n",
              "    </tr>\n",
              "    <tr>\n",
              "      <th>17</th>\n",
              "      <td>2.0</td>\n",
              "      <td>3</td>\n",
              "    </tr>\n",
              "    <tr>\n",
              "      <th>18</th>\n",
              "      <td>3.0</td>\n",
              "      <td>3</td>\n",
              "    </tr>\n",
              "    <tr>\n",
              "      <th>19</th>\n",
              "      <td>2.0</td>\n",
              "      <td>0</td>\n",
              "    </tr>\n",
              "    <tr>\n",
              "      <th>20</th>\n",
              "      <td>5.0</td>\n",
              "      <td>0</td>\n",
              "    </tr>\n",
              "    <tr>\n",
              "      <th>21</th>\n",
              "      <td>3.4</td>\n",
              "      <td>1</td>\n",
              "    </tr>\n",
              "    <tr>\n",
              "      <th>22</th>\n",
              "      <td>5.3</td>\n",
              "      <td>3</td>\n",
              "    </tr>\n",
              "    <tr>\n",
              "      <th>23</th>\n",
              "      <td>2.1</td>\n",
              "      <td>1</td>\n",
              "    </tr>\n",
              "    <tr>\n",
              "      <th>24</th>\n",
              "      <td>9.2</td>\n",
              "      <td>1</td>\n",
              "    </tr>\n",
              "    <tr>\n",
              "      <th>25</th>\n",
              "      <td>10.0</td>\n",
              "      <td>2</td>\n",
              "    </tr>\n",
              "    <tr>\n",
              "      <th>26</th>\n",
              "      <td>3.2</td>\n",
              "      <td>0</td>\n",
              "    </tr>\n",
              "    <tr>\n",
              "      <th>27</th>\n",
              "      <td>10.0</td>\n",
              "      <td>0</td>\n",
              "    </tr>\n",
              "    <tr>\n",
              "      <th>28</th>\n",
              "      <td>4.0</td>\n",
              "      <td>3</td>\n",
              "    </tr>\n",
              "    <tr>\n",
              "      <th>29</th>\n",
              "      <td>1.0</td>\n",
              "      <td>0</td>\n",
              "    </tr>\n",
              "  </tbody>\n",
              "</table>\n",
              "</div>"
            ],
            "text/plain": [
              "    Aexperiencia  Pais\n",
              "0           10.0     3\n",
              "1            8.0     0\n",
              "2            5.4     1\n",
              "3            2.5     1\n",
              "4            1.0     1\n",
              "5            8.0     2\n",
              "6            4.0     1\n",
              "7            6.0     2\n",
              "8            2.0     3\n",
              "9           10.0     0\n",
              "10           4.0     1\n",
              "11           7.0     1\n",
              "12           3.0     1\n",
              "13           5.0     0\n",
              "14           2.0     1\n",
              "15           5.0     1\n",
              "16           3.0     1\n",
              "17           2.0     3\n",
              "18           3.0     3\n",
              "19           2.0     0\n",
              "20           5.0     0\n",
              "21           3.4     1\n",
              "22           5.3     3\n",
              "23           2.1     1\n",
              "24           9.2     1\n",
              "25          10.0     2\n",
              "26           3.2     0\n",
              "27          10.0     0\n",
              "28           4.0     3\n",
              "29           1.0     0"
            ]
          },
          "metadata": {
            "tags": []
          },
          "execution_count": 154
        }
      ]
    },
    {
      "cell_type": "code",
      "metadata": {
        "id": "q0aXCrdwAtrC",
        "colab": {
          "base_uri": "https://localhost:8080/",
          "height": 973
        },
        "outputId": "385dcc77-a86a-4749-f61b-04a014ec4072"
      },
      "source": [
        "# Guardamos lo anterior en nuestra variable x\n",
        "x = dataset_plus_country[ ['Aexperiencia','Pais'] ]\n",
        "x"
      ],
      "execution_count": null,
      "outputs": [
        {
          "output_type": "execute_result",
          "data": {
            "text/html": [
              "<div>\n",
              "<style scoped>\n",
              "    .dataframe tbody tr th:only-of-type {\n",
              "        vertical-align: middle;\n",
              "    }\n",
              "\n",
              "    .dataframe tbody tr th {\n",
              "        vertical-align: top;\n",
              "    }\n",
              "\n",
              "    .dataframe thead th {\n",
              "        text-align: right;\n",
              "    }\n",
              "</style>\n",
              "<table border=\"1\" class=\"dataframe\">\n",
              "  <thead>\n",
              "    <tr style=\"text-align: right;\">\n",
              "      <th></th>\n",
              "      <th>Aexperiencia</th>\n",
              "      <th>Pais</th>\n",
              "    </tr>\n",
              "  </thead>\n",
              "  <tbody>\n",
              "    <tr>\n",
              "      <th>0</th>\n",
              "      <td>10.0</td>\n",
              "      <td>3</td>\n",
              "    </tr>\n",
              "    <tr>\n",
              "      <th>1</th>\n",
              "      <td>8.0</td>\n",
              "      <td>0</td>\n",
              "    </tr>\n",
              "    <tr>\n",
              "      <th>2</th>\n",
              "      <td>5.4</td>\n",
              "      <td>1</td>\n",
              "    </tr>\n",
              "    <tr>\n",
              "      <th>3</th>\n",
              "      <td>2.5</td>\n",
              "      <td>1</td>\n",
              "    </tr>\n",
              "    <tr>\n",
              "      <th>4</th>\n",
              "      <td>1.0</td>\n",
              "      <td>1</td>\n",
              "    </tr>\n",
              "    <tr>\n",
              "      <th>5</th>\n",
              "      <td>8.0</td>\n",
              "      <td>2</td>\n",
              "    </tr>\n",
              "    <tr>\n",
              "      <th>6</th>\n",
              "      <td>4.0</td>\n",
              "      <td>1</td>\n",
              "    </tr>\n",
              "    <tr>\n",
              "      <th>7</th>\n",
              "      <td>6.0</td>\n",
              "      <td>2</td>\n",
              "    </tr>\n",
              "    <tr>\n",
              "      <th>8</th>\n",
              "      <td>2.0</td>\n",
              "      <td>3</td>\n",
              "    </tr>\n",
              "    <tr>\n",
              "      <th>9</th>\n",
              "      <td>10.0</td>\n",
              "      <td>0</td>\n",
              "    </tr>\n",
              "    <tr>\n",
              "      <th>10</th>\n",
              "      <td>4.0</td>\n",
              "      <td>1</td>\n",
              "    </tr>\n",
              "    <tr>\n",
              "      <th>11</th>\n",
              "      <td>7.0</td>\n",
              "      <td>1</td>\n",
              "    </tr>\n",
              "    <tr>\n",
              "      <th>12</th>\n",
              "      <td>3.0</td>\n",
              "      <td>1</td>\n",
              "    </tr>\n",
              "    <tr>\n",
              "      <th>13</th>\n",
              "      <td>5.0</td>\n",
              "      <td>0</td>\n",
              "    </tr>\n",
              "    <tr>\n",
              "      <th>14</th>\n",
              "      <td>2.0</td>\n",
              "      <td>1</td>\n",
              "    </tr>\n",
              "    <tr>\n",
              "      <th>15</th>\n",
              "      <td>5.0</td>\n",
              "      <td>1</td>\n",
              "    </tr>\n",
              "    <tr>\n",
              "      <th>16</th>\n",
              "      <td>3.0</td>\n",
              "      <td>1</td>\n",
              "    </tr>\n",
              "    <tr>\n",
              "      <th>17</th>\n",
              "      <td>2.0</td>\n",
              "      <td>3</td>\n",
              "    </tr>\n",
              "    <tr>\n",
              "      <th>18</th>\n",
              "      <td>3.0</td>\n",
              "      <td>3</td>\n",
              "    </tr>\n",
              "    <tr>\n",
              "      <th>19</th>\n",
              "      <td>2.0</td>\n",
              "      <td>0</td>\n",
              "    </tr>\n",
              "    <tr>\n",
              "      <th>20</th>\n",
              "      <td>5.0</td>\n",
              "      <td>0</td>\n",
              "    </tr>\n",
              "    <tr>\n",
              "      <th>21</th>\n",
              "      <td>3.4</td>\n",
              "      <td>1</td>\n",
              "    </tr>\n",
              "    <tr>\n",
              "      <th>22</th>\n",
              "      <td>5.3</td>\n",
              "      <td>3</td>\n",
              "    </tr>\n",
              "    <tr>\n",
              "      <th>23</th>\n",
              "      <td>2.1</td>\n",
              "      <td>1</td>\n",
              "    </tr>\n",
              "    <tr>\n",
              "      <th>24</th>\n",
              "      <td>9.2</td>\n",
              "      <td>1</td>\n",
              "    </tr>\n",
              "    <tr>\n",
              "      <th>25</th>\n",
              "      <td>10.0</td>\n",
              "      <td>2</td>\n",
              "    </tr>\n",
              "    <tr>\n",
              "      <th>26</th>\n",
              "      <td>3.2</td>\n",
              "      <td>0</td>\n",
              "    </tr>\n",
              "    <tr>\n",
              "      <th>27</th>\n",
              "      <td>10.0</td>\n",
              "      <td>0</td>\n",
              "    </tr>\n",
              "    <tr>\n",
              "      <th>28</th>\n",
              "      <td>4.0</td>\n",
              "      <td>3</td>\n",
              "    </tr>\n",
              "    <tr>\n",
              "      <th>29</th>\n",
              "      <td>1.0</td>\n",
              "      <td>0</td>\n",
              "    </tr>\n",
              "  </tbody>\n",
              "</table>\n",
              "</div>"
            ],
            "text/plain": [
              "    Aexperiencia  Pais\n",
              "0           10.0     3\n",
              "1            8.0     0\n",
              "2            5.4     1\n",
              "3            2.5     1\n",
              "4            1.0     1\n",
              "5            8.0     2\n",
              "6            4.0     1\n",
              "7            6.0     2\n",
              "8            2.0     3\n",
              "9           10.0     0\n",
              "10           4.0     1\n",
              "11           7.0     1\n",
              "12           3.0     1\n",
              "13           5.0     0\n",
              "14           2.0     1\n",
              "15           5.0     1\n",
              "16           3.0     1\n",
              "17           2.0     3\n",
              "18           3.0     3\n",
              "19           2.0     0\n",
              "20           5.0     0\n",
              "21           3.4     1\n",
              "22           5.3     3\n",
              "23           2.1     1\n",
              "24           9.2     1\n",
              "25          10.0     2\n",
              "26           3.2     0\n",
              "27          10.0     0\n",
              "28           4.0     3\n",
              "29           1.0     0"
            ]
          },
          "metadata": {
            "tags": []
          },
          "execution_count": 155
        }
      ]
    },
    {
      "cell_type": "code",
      "metadata": {
        "id": "2ZSzl4GYAtrC",
        "colab": {
          "base_uri": "https://localhost:8080/"
        },
        "outputId": "719ac257-6e3c-43da-ab56-41eed2e7a4d6"
      },
      "source": [
        "# En Y guardamos los valores de los salarios\n",
        "y = dataset_plus_country.iloc[:, 1].values\n",
        "y"
      ],
      "execution_count": null,
      "outputs": [
        {
          "output_type": "execute_result",
          "data": {
            "text/plain": [
              "array([42500, 36302, 35000, 18103, 15000, 37000, 26300, 35201, 18302,\n",
              "       42000, 27000, 35201, 19201, 28000, 17000, 33402, 19000, 18200,\n",
              "       19000, 17301, 28000, 20000, 27900, 17500, 40000, 42500, 18300,\n",
              "       40000, 25000, 15000])"
            ]
          },
          "metadata": {
            "tags": []
          },
          "execution_count": 156
        }
      ]
    },
    {
      "cell_type": "markdown",
      "metadata": {
        "id": "lEy8XiOtAtrC"
      },
      "source": [
        "Vamos a dividir los datos de entrenamiento y los datos de prueba:"
      ]
    },
    {
      "cell_type": "code",
      "metadata": {
        "id": "1SsEZeclAtrC"
      },
      "source": [
        "X_train, X_test, Y_train, Y_test = train_test_split(x, y, test_size = 0.2, random_state = 0)"
      ],
      "execution_count": null,
      "outputs": []
    },
    {
      "cell_type": "code",
      "metadata": {
        "id": "R367Rr6pAtrD",
        "colab": {
          "base_uri": "https://localhost:8080/",
          "height": 788
        },
        "outputId": "53131525-b25d-4b0b-9450-5eaf425eee5b"
      },
      "source": [
        "X_train"
      ],
      "execution_count": null,
      "outputs": [
        {
          "output_type": "execute_result",
          "data": {
            "text/html": [
              "<div>\n",
              "<style scoped>\n",
              "    .dataframe tbody tr th:only-of-type {\n",
              "        vertical-align: middle;\n",
              "    }\n",
              "\n",
              "    .dataframe tbody tr th {\n",
              "        vertical-align: top;\n",
              "    }\n",
              "\n",
              "    .dataframe thead th {\n",
              "        text-align: right;\n",
              "    }\n",
              "</style>\n",
              "<table border=\"1\" class=\"dataframe\">\n",
              "  <thead>\n",
              "    <tr style=\"text-align: right;\">\n",
              "      <th></th>\n",
              "      <th>Aexperiencia</th>\n",
              "      <th>Pais</th>\n",
              "    </tr>\n",
              "  </thead>\n",
              "  <tbody>\n",
              "    <tr>\n",
              "      <th>27</th>\n",
              "      <td>10.0</td>\n",
              "      <td>0</td>\n",
              "    </tr>\n",
              "    <tr>\n",
              "      <th>11</th>\n",
              "      <td>7.0</td>\n",
              "      <td>1</td>\n",
              "    </tr>\n",
              "    <tr>\n",
              "      <th>17</th>\n",
              "      <td>2.0</td>\n",
              "      <td>3</td>\n",
              "    </tr>\n",
              "    <tr>\n",
              "      <th>22</th>\n",
              "      <td>5.3</td>\n",
              "      <td>3</td>\n",
              "    </tr>\n",
              "    <tr>\n",
              "      <th>5</th>\n",
              "      <td>8.0</td>\n",
              "      <td>2</td>\n",
              "    </tr>\n",
              "    <tr>\n",
              "      <th>16</th>\n",
              "      <td>3.0</td>\n",
              "      <td>1</td>\n",
              "    </tr>\n",
              "    <tr>\n",
              "      <th>8</th>\n",
              "      <td>2.0</td>\n",
              "      <td>3</td>\n",
              "    </tr>\n",
              "    <tr>\n",
              "      <th>14</th>\n",
              "      <td>2.0</td>\n",
              "      <td>1</td>\n",
              "    </tr>\n",
              "    <tr>\n",
              "      <th>23</th>\n",
              "      <td>2.1</td>\n",
              "      <td>1</td>\n",
              "    </tr>\n",
              "    <tr>\n",
              "      <th>20</th>\n",
              "      <td>5.0</td>\n",
              "      <td>0</td>\n",
              "    </tr>\n",
              "    <tr>\n",
              "      <th>1</th>\n",
              "      <td>8.0</td>\n",
              "      <td>0</td>\n",
              "    </tr>\n",
              "    <tr>\n",
              "      <th>29</th>\n",
              "      <td>1.0</td>\n",
              "      <td>0</td>\n",
              "    </tr>\n",
              "    <tr>\n",
              "      <th>6</th>\n",
              "      <td>4.0</td>\n",
              "      <td>1</td>\n",
              "    </tr>\n",
              "    <tr>\n",
              "      <th>4</th>\n",
              "      <td>1.0</td>\n",
              "      <td>1</td>\n",
              "    </tr>\n",
              "    <tr>\n",
              "      <th>18</th>\n",
              "      <td>3.0</td>\n",
              "      <td>3</td>\n",
              "    </tr>\n",
              "    <tr>\n",
              "      <th>19</th>\n",
              "      <td>2.0</td>\n",
              "      <td>0</td>\n",
              "    </tr>\n",
              "    <tr>\n",
              "      <th>9</th>\n",
              "      <td>10.0</td>\n",
              "      <td>0</td>\n",
              "    </tr>\n",
              "    <tr>\n",
              "      <th>7</th>\n",
              "      <td>6.0</td>\n",
              "      <td>2</td>\n",
              "    </tr>\n",
              "    <tr>\n",
              "      <th>25</th>\n",
              "      <td>10.0</td>\n",
              "      <td>2</td>\n",
              "    </tr>\n",
              "    <tr>\n",
              "      <th>3</th>\n",
              "      <td>2.5</td>\n",
              "      <td>1</td>\n",
              "    </tr>\n",
              "    <tr>\n",
              "      <th>0</th>\n",
              "      <td>10.0</td>\n",
              "      <td>3</td>\n",
              "    </tr>\n",
              "    <tr>\n",
              "      <th>21</th>\n",
              "      <td>3.4</td>\n",
              "      <td>1</td>\n",
              "    </tr>\n",
              "    <tr>\n",
              "      <th>15</th>\n",
              "      <td>5.0</td>\n",
              "      <td>1</td>\n",
              "    </tr>\n",
              "    <tr>\n",
              "      <th>12</th>\n",
              "      <td>3.0</td>\n",
              "      <td>1</td>\n",
              "    </tr>\n",
              "  </tbody>\n",
              "</table>\n",
              "</div>"
            ],
            "text/plain": [
              "    Aexperiencia  Pais\n",
              "27          10.0     0\n",
              "11           7.0     1\n",
              "17           2.0     3\n",
              "22           5.3     3\n",
              "5            8.0     2\n",
              "16           3.0     1\n",
              "8            2.0     3\n",
              "14           2.0     1\n",
              "23           2.1     1\n",
              "20           5.0     0\n",
              "1            8.0     0\n",
              "29           1.0     0\n",
              "6            4.0     1\n",
              "4            1.0     1\n",
              "18           3.0     3\n",
              "19           2.0     0\n",
              "9           10.0     0\n",
              "7            6.0     2\n",
              "25          10.0     2\n",
              "3            2.5     1\n",
              "0           10.0     3\n",
              "21           3.4     1\n",
              "15           5.0     1\n",
              "12           3.0     1"
            ]
          },
          "metadata": {
            "tags": []
          },
          "execution_count": 158
        }
      ]
    },
    {
      "cell_type": "markdown",
      "metadata": {
        "id": "Y5-WIOhUAtrD"
      },
      "source": [
        "Verificamos los datos:"
      ]
    },
    {
      "cell_type": "code",
      "metadata": {
        "id": "DEq63940AtrD",
        "colab": {
          "base_uri": "https://localhost:8080/",
          "height": 234
        },
        "outputId": "c0d6de1f-c410-4a0b-ba5e-42909e36b52e"
      },
      "source": [
        "X_test"
      ],
      "execution_count": null,
      "outputs": [
        {
          "output_type": "execute_result",
          "data": {
            "text/html": [
              "<div>\n",
              "<style scoped>\n",
              "    .dataframe tbody tr th:only-of-type {\n",
              "        vertical-align: middle;\n",
              "    }\n",
              "\n",
              "    .dataframe tbody tr th {\n",
              "        vertical-align: top;\n",
              "    }\n",
              "\n",
              "    .dataframe thead th {\n",
              "        text-align: right;\n",
              "    }\n",
              "</style>\n",
              "<table border=\"1\" class=\"dataframe\">\n",
              "  <thead>\n",
              "    <tr style=\"text-align: right;\">\n",
              "      <th></th>\n",
              "      <th>Aexperiencia</th>\n",
              "      <th>Pais</th>\n",
              "    </tr>\n",
              "  </thead>\n",
              "  <tbody>\n",
              "    <tr>\n",
              "      <th>2</th>\n",
              "      <td>5.4</td>\n",
              "      <td>1</td>\n",
              "    </tr>\n",
              "    <tr>\n",
              "      <th>28</th>\n",
              "      <td>4.0</td>\n",
              "      <td>3</td>\n",
              "    </tr>\n",
              "    <tr>\n",
              "      <th>13</th>\n",
              "      <td>5.0</td>\n",
              "      <td>0</td>\n",
              "    </tr>\n",
              "    <tr>\n",
              "      <th>10</th>\n",
              "      <td>4.0</td>\n",
              "      <td>1</td>\n",
              "    </tr>\n",
              "    <tr>\n",
              "      <th>26</th>\n",
              "      <td>3.2</td>\n",
              "      <td>0</td>\n",
              "    </tr>\n",
              "    <tr>\n",
              "      <th>24</th>\n",
              "      <td>9.2</td>\n",
              "      <td>1</td>\n",
              "    </tr>\n",
              "  </tbody>\n",
              "</table>\n",
              "</div>"
            ],
            "text/plain": [
              "    Aexperiencia  Pais\n",
              "2            5.4     1\n",
              "28           4.0     3\n",
              "13           5.0     0\n",
              "10           4.0     1\n",
              "26           3.2     0\n",
              "24           9.2     1"
            ]
          },
          "metadata": {
            "tags": []
          },
          "execution_count": 159
        }
      ]
    },
    {
      "cell_type": "code",
      "metadata": {
        "id": "Qu600RzFAtrD",
        "colab": {
          "base_uri": "https://localhost:8080/"
        },
        "outputId": "e1c9c34a-5357-4abc-b3cb-e2882ab6e8da"
      },
      "source": [
        "Y_train"
      ],
      "execution_count": null,
      "outputs": [
        {
          "output_type": "execute_result",
          "data": {
            "text/plain": [
              "array([40000, 35201, 18200, 27900, 37000, 19000, 18302, 17000, 17500,\n",
              "       28000, 36302, 15000, 26300, 15000, 19000, 17301, 42000, 35201,\n",
              "       42500, 18103, 42500, 20000, 33402, 19201])"
            ]
          },
          "metadata": {
            "tags": []
          },
          "execution_count": 160
        }
      ]
    },
    {
      "cell_type": "code",
      "metadata": {
        "id": "LWcWlO7lAtrD",
        "colab": {
          "base_uri": "https://localhost:8080/"
        },
        "outputId": "df46ffb0-344f-4411-b16f-7c554a18069b"
      },
      "source": [
        "Y_test"
      ],
      "execution_count": null,
      "outputs": [
        {
          "output_type": "execute_result",
          "data": {
            "text/plain": [
              "array([35000, 25000, 28000, 27000, 18300, 40000])"
            ]
          },
          "metadata": {
            "tags": []
          },
          "execution_count": 161
        }
      ]
    },
    {
      "cell_type": "markdown",
      "metadata": {
        "id": "YIAlskMQAtrE"
      },
      "source": [
        "Entrenamos el modelo:"
      ]
    },
    {
      "cell_type": "code",
      "metadata": {
        "id": "6SL-Hs4BAtrE"
      },
      "source": [
        "regression = LinearRegression()"
      ],
      "execution_count": null,
      "outputs": []
    },
    {
      "cell_type": "code",
      "metadata": {
        "id": "Diza1i6xAtrE",
        "colab": {
          "base_uri": "https://localhost:8080/"
        },
        "outputId": "e0ad635c-0b11-46f9-e2ff-b4e8b00b2d2c"
      },
      "source": [
        "regression.fit(X_train, Y_train)"
      ],
      "execution_count": null,
      "outputs": [
        {
          "output_type": "execute_result",
          "data": {
            "text/plain": [
              "LinearRegression(copy_X=True, fit_intercept=True, n_jobs=None, normalize=False)"
            ]
          },
          "metadata": {
            "tags": []
          },
          "execution_count": 163
        }
      ]
    },
    {
      "cell_type": "markdown",
      "metadata": {
        "id": "cfo7lgPfAtrE"
      },
      "source": [
        "Verificamos el modelo:"
      ]
    },
    {
      "cell_type": "code",
      "metadata": {
        "id": "vN9dsFQEAtrE",
        "colab": {
          "base_uri": "https://localhost:8080/"
        },
        "outputId": "b16aa871-762b-430a-e567-928a80f4347d"
      },
      "source": [
        "regression.score(X_test, Y_test)"
      ],
      "execution_count": null,
      "outputs": [
        {
          "output_type": "execute_result",
          "data": {
            "text/plain": [
              "0.7882201967560564"
            ]
          },
          "metadata": {
            "tags": []
          },
          "execution_count": 164
        }
      ]
    },
    {
      "cell_type": "markdown",
      "metadata": {
        "id": "hu5CRbPLAtrE"
      },
      "source": [
        "Graficamos:"
      ]
    },
    {
      "cell_type": "code",
      "metadata": {
        "id": "MFH7Fe3sAtrF",
        "colab": {
          "base_uri": "https://localhost:8080/",
          "height": 517
        },
        "outputId": "01808e82-23dd-4dbd-f7b5-86b17702e695"
      },
      "source": [
        "figure = plt.figure(dpi = 150 ) # dpi es el tamaño de la figurita\n",
        "ax = figure.add_subplot(111, projection = '3d') # Le indicamos que es una proyección 3D\n",
        "\n",
        "ax.set_xlabel('Años de experiencia')\n",
        "ax.set_ylabel('País')\n",
        "ax.set_zlabel('Salario')\n",
        "ax.set_title('Experiencia y País vs Salario')\n",
        "\n",
        "# Dibujamos los datos de entrenamiento \n",
        "ax.scatter(X_train['Aexperiencia'], X_train['Pais'], Y_train, c='#EF29FF', marker='.', label='Entrenamiento')\n",
        "\n",
        "# Dibujamos los datos de prueba\n",
        "ax.scatter(X_test['Aexperiencia'], X_test['Pais'], Y_test, c='#000000', marker= 'X', label='Predicción')\n",
        "\n",
        "plt.legend(bbox_to_anchor=(1, 1), loc='upper left')"
      ],
      "execution_count": null,
      "outputs": [
        {
          "output_type": "execute_result",
          "data": {
            "text/plain": [
              "<matplotlib.legend.Legend at 0x7f52ed3140d0>"
            ]
          },
          "metadata": {
            "tags": []
          },
          "execution_count": 165
        },
        {
          "output_type": "display_data",
          "data": {
            "image/png": "[encoded data removed]",
            "text/plain": [
              "<Figure size 900x600 with 1 Axes>"
            ]
          },
          "metadata": {
            "tags": [],
            "needs_background": "light"
          }
        }
      ]
    },
    {
      "cell_type": "code",
      "metadata": {
        "id": "bv84ysO2AtrF",
        "colab": {
          "base_uri": "https://localhost:8080/"
        },
        "outputId": "bbb8cbb9-6a0d-4c36-f952-165e44357320"
      },
      "source": [
        "regression.predict(X_train)"
      ],
      "execution_count": null,
      "outputs": [
        {
          "output_type": "execute_result",
          "data": {
            "text/plain": [
              "array([42791.32843756, 33521.50097498, 18127.40539245, 28507.75122315,\n",
              "       36833.91088294, 20939.26360444, 18127.40539245, 17793.70426181,\n",
              "       18108.26019607, 27063.53172439, 36500.2097523 , 14481.29435385,\n",
              "       24084.82294708, 14648.14491918, 21272.96473509, 17626.85369649,\n",
              "       42791.32843756, 30542.79219767, 43125.02956821, 19366.48393313,\n",
              "       43291.88013353, 22197.4873415 , 27230.38228971, 20939.26360444])"
            ]
          },
          "metadata": {
            "tags": []
          },
          "execution_count": 166
        }
      ]
    },
    {
      "cell_type": "code",
      "metadata": {
        "scrolled": false,
        "id": "jlkjpCkMAtrF",
        "colab": {
          "base_uri": "https://localhost:8080/",
          "height": 542
        },
        "outputId": "ab120994-8c4e-4131-9aa1-ddc94eb2d0c0"
      },
      "source": [
        "import plotly.express as px\n",
        "import plotly.graph_objects as go\n",
        "fig = px.scatter_3d(title = 'País y Años de experiencia vs Salario')\n",
        "\n",
        "fig.add_trace(go.Scatter3d(name= (\"Datos de entrenamiento\"), x= X_train['Aexperiencia'].values, y= X_train['Pais'].values\n",
        "                           , z=Y_train, mode='markers', marker=dict(size=5)) )\n",
        "\n",
        "fig.add_trace(go.Scatter3d(name= (\"Predicciones\"), x= X_test['Aexperiencia'].values, y= X_test['Pais'].values, z=Y_test,\n",
        "                           mode='markers',marker=dict(size=6)) )\n",
        "\n",
        "\n",
        "fig.show()\n"
      ],
      "execution_count": null,
      "outputs": [
        {
          "output_type": "display_data",
          "data": {
            "text/html": [
              "<html>\n",
              "<head><meta charset=\"utf-8\" /></head>\n",
              "<body>\n",
              "    <div>\n",
              "            <script src=\"https://cdnjs.cloudflare.com/ajax/libs/mathjax/2.7.5/MathJax.js?config=TeX-AMS-MML_SVG\"></script><script type=\"text/javascript\">if (window.MathJax) {MathJax.Hub.Config({SVG: {font: \"STIX-Web\"}});}</script>\n",
              "                <script type=\"text/javascript\">window.PlotlyConfig = {MathJaxConfig: 'local'};</script>\n",
              "        <script src=\"https://cdn.plot.ly/plotly-latest.min.js\"></script>    \n",
              "            <div id=\"596b4bf4-796d-4b30-a848-5476c42ccaa8\" class=\"plotly-graph-div\" style=\"height:525px; width:100%;\"></div>\n",
              "            <script type=\"text/javascript\">\n",
              "                \n",
              "                    window.PLOTLYENV=window.PLOTLYENV || {};\n",
              "                    \n",
              "                if (document.getElementById(\"596b4bf4-796d-4b30-a848-5476c42ccaa8\")) {\n",
              "                    Plotly.newPlot(\n",
              "                        '596b4bf4-796d-4b30-a848-5476c42ccaa8',\n",
              "                        [{\"marker\": {\"size\": 5}, \"mode\": \"markers\", \"name\": \"Datos de entrenamiento\", \"type\": \"scatter3d\", \"x\": [10.0, 7.0, 2.0, 5.3, 8.0, 3.0, 2.0, 2.0, 2.1, 5.0, 8.0, 1.0, 4.0, 1.0, 3.0, 2.0, 10.0, 6.0, 10.0, 2.5, 10.0, 3.4, 5.0, 3.0], \"y\": [0, 1, 3, 3, 2, 1, 3, 1, 1, 0, 0, 0, 1, 1, 3, 0, 0, 2, 2, 1, 3, 1, 1, 1], \"z\": [40000, 35201, 18200, 27900, 37000, 19000, 18302, 17000, 17500, 28000, 36302, 15000, 26300, 15000, 19000, 17301, 42000, 35201, 42500, 18103, 42500, 20000, 33402, 19201]}, {\"marker\": {\"size\": 6}, \"mode\": \"markers\", \"name\": \"Predicciones\", \"type\": \"scatter3d\", \"x\": [5.4, 4.0, 5.0, 4.0, 3.2, 9.2], \"y\": [1, 3, 0, 1, 0, 1], \"z\": [35000, 25000, 28000, 27000, 18300, 40000]}],\n",
              "                        {\"legend\": {\"tracegroupgap\": 0}, \"scene\": {\"xaxis\": {\"title\": {}}, \"yaxis\": {\"title\": {}}, \"zaxis\": {\"title\": {}}}, \"template\": {\"data\": {\"bar\": [{\"error_x\": {\"color\": \"#2a3f5f\"}, \"error_y\": {\"color\": \"#2a3f5f\"}, \"marker\": {\"line\": {\"color\": \"#E5ECF6\", \"width\": 0.5}}, \"type\": \"bar\"}], \"barpolar\": [{\"marker\": {\"line\": {\"color\": \"#E5ECF6\", \"width\": 0.5}}, \"type\": \"barpolar\"}], \"carpet\": [{\"aaxis\": {\"endlinecolor\": \"#2a3f5f\", \"gridcolor\": \"white\", \"linecolor\": \"white\", \"minorgridcolor\": \"white\", \"startlinecolor\": \"#2a3f5f\"}, \"baxis\": {\"endlinecolor\": \"#2a3f5f\", \"gridcolor\": \"white\", \"linecolor\": \"white\", \"minorgridcolor\": \"white\", \"startlinecolor\": \"#2a3f5f\"}, \"type\": \"carpet\"}], \"choropleth\": [{\"colorbar\": {\"outlinewidth\": 0, \"ticks\": \"\"}, \"type\": \"choropleth\"}], \"contour\": [{\"colorbar\": {\"outlinewidth\": 0, \"ticks\": \"\"}, \"colorscale\": [[0.0, \"#0d0887\"], [0.1111111111111111, \"#46039f\"], [0.2222222222222222, \"#7201a8\"], [0.3333333333333333, \"#9c179e\"], [0.4444444444444444, \"#bd3786\"], [0.5555555555555556, \"#d8576b\"], [0.6666666666666666, \"#ed7953\"], [0.7777777777777778, \"#fb9f3a\"], [0.8888888888888888, \"#fdca26\"], [1.0, \"#f0f921\"]], \"type\": \"contour\"}], \"contourcarpet\": [{\"colorbar\": {\"outlinewidth\": 0, \"ticks\": \"\"}, \"type\": \"contourcarpet\"}], \"heatmap\": [{\"colorbar\": {\"outlinewidth\": 0, \"ticks\": \"\"}, \"colorscale\": [[0.0, \"#0d0887\"], [0.1111111111111111, \"#46039f\"], [0.2222222222222222, \"#7201a8\"], [0.3333333333333333, \"#9c179e\"], [0.4444444444444444, \"#bd3786\"], [0.5555555555555556, \"#d8576b\"], [0.6666666666666666, \"#ed7953\"], [0.7777777777777778, \"#fb9f3a\"], [0.8888888888888888, \"#fdca26\"], [1.0, \"#f0f921\"]], \"type\": \"heatmap\"}], \"heatmapgl\": [{\"colorbar\": {\"outlinewidth\": 0, \"ticks\": \"\"}, \"colorscale\": [[0.0, \"#0d0887\"], [0.1111111111111111, \"#46039f\"], [0.2222222222222222, \"#7201a8\"], [0.3333333333333333, \"#9c179e\"], [0.4444444444444444, \"#bd3786\"], [0.5555555555555556, \"#d8576b\"], [0.6666666666666666, \"#ed7953\"], [0.7777777777777778, \"#fb9f3a\"], [0.8888888888888888, \"#fdca26\"], [1.0, \"#f0f921\"]], \"type\": \"heatmapgl\"}], \"histogram\": [{\"marker\": {\"colorbar\": {\"outlinewidth\": 0, \"ticks\": \"\"}}, \"type\": \"histogram\"}], \"histogram2d\": [{\"colorbar\": {\"outlinewidth\": 0, \"ticks\": \"\"}, \"colorscale\": [[0.0, \"#0d0887\"], [0.1111111111111111, \"#46039f\"], [0.2222222222222222, \"#7201a8\"], [0.3333333333333333, \"#9c179e\"], [0.4444444444444444, \"#bd3786\"], [0.5555555555555556, \"#d8576b\"], [0.6666666666666666, \"#ed7953\"], [0.7777777777777778, \"#fb9f3a\"], [0.8888888888888888, \"#fdca26\"], [1.0, \"#f0f921\"]], \"type\": \"histogram2d\"}], \"histogram2dcontour\": [{\"colorbar\": {\"outlinewidth\": 0, \"ticks\": \"\"}, \"colorscale\": [[0.0, \"#0d0887\"], [0.1111111111111111, \"#46039f\"], [0.2222222222222222, \"#7201a8\"], [0.3333333333333333, \"#9c179e\"], [0.4444444444444444, \"#bd3786\"], [0.5555555555555556, \"#d8576b\"], [0.6666666666666666, \"#ed7953\"], [0.7777777777777778, \"#fb9f3a\"], [0.8888888888888888, \"#fdca26\"], [1.0, \"#f0f921\"]], \"type\": \"histogram2dcontour\"}], \"mesh3d\": [{\"colorbar\": {\"outlinewidth\": 0, \"ticks\": \"\"}, \"type\": \"mesh3d\"}], \"parcoords\": [{\"line\": {\"colorbar\": {\"outlinewidth\": 0, \"ticks\": \"\"}}, \"type\": \"parcoords\"}], \"pie\": [{\"automargin\": true, \"type\": \"pie\"}], \"scatter\": [{\"marker\": {\"colorbar\": {\"outlinewidth\": 0, \"ticks\": \"\"}}, \"type\": \"scatter\"}], \"scatter3d\": [{\"line\": {\"colorbar\": {\"outlinewidth\": 0, \"ticks\": \"\"}}, \"marker\": {\"colorbar\": {\"outlinewidth\": 0, \"ticks\": \"\"}}, \"type\": \"scatter3d\"}], \"scattercarpet\": [{\"marker\": {\"colorbar\": {\"outlinewidth\": 0, \"ticks\": \"\"}}, \"type\": \"scattercarpet\"}], \"scattergeo\": [{\"marker\": {\"colorbar\": {\"outlinewidth\": 0, \"ticks\": \"\"}}, \"type\": \"scattergeo\"}], \"scattergl\": [{\"marker\": {\"colorbar\": {\"outlinewidth\": 0, \"ticks\": \"\"}}, \"type\": \"scattergl\"}], \"scattermapbox\": [{\"marker\": {\"colorbar\": {\"outlinewidth\": 0, \"ticks\": \"\"}}, \"type\": \"scattermapbox\"}], \"scatterpolar\": [{\"marker\": {\"colorbar\": {\"outlinewidth\": 0, \"ticks\": \"\"}}, \"type\": \"scatterpolar\"}], \"scatterpolargl\": [{\"marker\": {\"colorbar\": {\"outlinewidth\": 0, \"ticks\": \"\"}}, \"type\": \"scatterpolargl\"}], \"scatterternary\": [{\"marker\": {\"colorbar\": {\"outlinewidth\": 0, \"ticks\": \"\"}}, \"type\": \"scatterternary\"}], \"surface\": [{\"colorbar\": {\"outlinewidth\": 0, \"ticks\": \"\"}, \"colorscale\": [[0.0, \"#0d0887\"], [0.1111111111111111, \"#46039f\"], [0.2222222222222222, \"#7201a8\"], [0.3333333333333333, \"#9c179e\"], [0.4444444444444444, \"#bd3786\"], [0.5555555555555556, \"#d8576b\"], [0.6666666666666666, \"#ed7953\"], [0.7777777777777778, \"#fb9f3a\"], [0.8888888888888888, \"#fdca26\"], [1.0, \"#f0f921\"]], \"type\": \"surface\"}], \"table\": [{\"cells\": {\"fill\": {\"color\": \"#EBF0F8\"}, \"line\": {\"color\": \"white\"}}, \"header\": {\"fill\": {\"color\": \"#C8D4E3\"}, \"line\": {\"color\": \"white\"}}, \"type\": \"table\"}]}, \"layout\": {\"annotationdefaults\": {\"arrowcolor\": \"#2a3f5f\", \"arrowhead\": 0, \"arrowwidth\": 1}, \"coloraxis\": {\"colorbar\": {\"outlinewidth\": 0, \"ticks\": \"\"}}, \"colorscale\": {\"diverging\": [[0, \"#8e0152\"], [0.1, \"#c51b7d\"], [0.2, \"#de77ae\"], [0.3, \"#f1b6da\"], [0.4, \"#fde0ef\"], [0.5, \"#f7f7f7\"], [0.6, \"#e6f5d0\"], [0.7, \"#b8e186\"], [0.8, \"#7fbc41\"], [0.9, \"#4d9221\"], [1, \"#276419\"]], \"sequential\": [[0.0, \"#0d0887\"], [0.1111111111111111, \"#46039f\"], [0.2222222222222222, \"#7201a8\"], [0.3333333333333333, \"#9c179e\"], [0.4444444444444444, \"#bd3786\"], [0.5555555555555556, \"#d8576b\"], [0.6666666666666666, \"#ed7953\"], [0.7777777777777778, \"#fb9f3a\"], [0.8888888888888888, \"#fdca26\"], [1.0, \"#f0f921\"]], \"sequentialminus\": [[0.0, \"#0d0887\"], [0.1111111111111111, \"#46039f\"], [0.2222222222222222, \"#7201a8\"], [0.3333333333333333, \"#9c179e\"], [0.4444444444444444, \"#bd3786\"], [0.5555555555555556, \"#d8576b\"], [0.6666666666666666, \"#ed7953\"], [0.7777777777777778, \"#fb9f3a\"], [0.8888888888888888, \"#fdca26\"], [1.0, \"#f0f921\"]]}, \"colorway\": [\"#636efa\", \"#EF553B\", \"#00cc96\", \"#ab63fa\", \"#FFA15A\", \"#19d3f3\", \"#FF6692\", \"#B6E880\", \"#FF97FF\", \"#FECB52\"], \"font\": {\"color\": \"#2a3f5f\"}, \"geo\": {\"bgcolor\": \"white\", \"lakecolor\": \"white\", \"landcolor\": \"#E5ECF6\", \"showlakes\": true, \"showland\": true, \"subunitcolor\": \"white\"}, \"hoverlabel\": {\"align\": \"left\"}, \"hovermode\": \"closest\", \"mapbox\": {\"style\": \"light\"}, \"paper_bgcolor\": \"white\", \"plot_bgcolor\": \"#E5ECF6\", \"polar\": {\"angularaxis\": {\"gridcolor\": \"white\", \"linecolor\": \"white\", \"ticks\": \"\"}, \"bgcolor\": \"#E5ECF6\", \"radialaxis\": {\"gridcolor\": \"white\", \"linecolor\": \"white\", \"ticks\": \"\"}}, \"scene\": {\"xaxis\": {\"backgroundcolor\": \"#E5ECF6\", \"gridcolor\": \"white\", \"gridwidth\": 2, \"linecolor\": \"white\", \"showbackground\": true, \"ticks\": \"\", \"zerolinecolor\": \"white\"}, \"yaxis\": {\"backgroundcolor\": \"#E5ECF6\", \"gridcolor\": \"white\", \"gridwidth\": 2, \"linecolor\": \"white\", \"showbackground\": true, \"ticks\": \"\", \"zerolinecolor\": \"white\"}, \"zaxis\": {\"backgroundcolor\": \"#E5ECF6\", \"gridcolor\": \"white\", \"gridwidth\": 2, \"linecolor\": \"white\", \"showbackground\": true, \"ticks\": \"\", \"zerolinecolor\": \"white\"}}, \"shapedefaults\": {\"line\": {\"color\": \"#2a3f5f\"}}, \"ternary\": {\"aaxis\": {\"gridcolor\": \"white\", \"linecolor\": \"white\", \"ticks\": \"\"}, \"baxis\": {\"gridcolor\": \"white\", \"linecolor\": \"white\", \"ticks\": \"\"}, \"bgcolor\": \"#E5ECF6\", \"caxis\": {\"gridcolor\": \"white\", \"linecolor\": \"white\", \"ticks\": \"\"}}, \"title\": {\"x\": 0.05}, \"xaxis\": {\"automargin\": true, \"gridcolor\": \"white\", \"linecolor\": \"white\", \"ticks\": \"\", \"title\": {\"standoff\": 15}, \"zerolinecolor\": \"white\", \"zerolinewidth\": 2}, \"yaxis\": {\"automargin\": true, \"gridcolor\": \"white\", \"linecolor\": \"white\", \"ticks\": \"\", \"title\": {\"standoff\": 15}, \"zerolinecolor\": \"white\", \"zerolinewidth\": 2}}}, \"title\": {\"text\": \"Pa\\u00eds y A\\u00f1os de experiencia vs Salario\"}, \"xaxis\": {\"anchor\": \"y\", \"domain\": [0.0, 1.0]}, \"yaxis\": {\"anchor\": \"x\", \"domain\": [0.0, 1.0]}},\n",
              "                        {\"responsive\": true}\n",
              "                    ).then(function(){\n",
              "                            \n",
              "var gd = document.getElementById('596b4bf4-796d-4b30-a848-5476c42ccaa8');\n",
              "var x = new MutationObserver(function (mutations, observer) {{\n",
              "        var display = window.getComputedStyle(gd).display;\n",
              "        if (!display || display === 'none') {{\n",
              "            console.log([gd, 'removed!']);\n",
              "            Plotly.purge(gd);\n",
              "            observer.disconnect();\n",
              "        }}\n",
              "}});\n",
              "\n",
              "// Listen for the removal of the full notebook cells\n",
              "var notebookContainer = gd.closest('#notebook-container');\n",
              "if (notebookContainer) {{\n",
              "    x.observe(notebookContainer, {childList: true});\n",
              "}}\n",
              "\n",
              "// Listen for the clearing of the current output cell\n",
              "var outputEl = gd.closest('.output');\n",
              "if (outputEl) {{\n",
              "    x.observe(outputEl, {childList: true});\n",
              "}}\n",
              "\n",
              "                        })\n",
              "                };\n",
              "                \n",
              "            </script>\n",
              "        </div>\n",
              "</body>\n",
              "</html>"
            ]
          },
          "metadata": {
            "tags": []
          }
        }
      ]
    },
    {
      "cell_type": "markdown",
      "metadata": {
        "id": "kB1ua1WdAtrJ"
      },
      "source": [
        "---"
      ]
    },
    {
      "cell_type": "markdown",
      "metadata": {
        "id": "xkAVXYOAAtrK"
      },
      "source": [
        "### Regresión logística con Scikit-Learn"
      ]
    },
    {
      "cell_type": "markdown",
      "metadata": {
        "id": "3_y3UKz0AtrK"
      },
      "source": [
        "La regresión logística es un tipo de análisis de regresión utilizado para predecir el resultado de una variable **categórica** (variable que puede adoptar un número limitado de categorías o etiquetas) en función de las variables independientes o predictoras. El análisis de la regresión logística se enmarca en el conjnto de **Modelos Lineales Generalizados** que usa como función de enlace la función **logit**."
      ]
    },
    {
      "cell_type": "markdown",
      "metadata": {
        "id": "3P00lStEAtrK"
      },
      "source": [
        "En este caso se utiliza principalmente para clasificar. Por ejemplo, supongamos que tenemos un cierto número de pacientes con ciertas características que nos van a permitir determinar si determinado paciente tiene diabetes o no. De hecho, el dataset que utilizaremos a continuación va sobre eso.\n",
        "\n",
        "Adicionalmente, la información con la que tendremos que trabajar para este caso tendrá que estar previamente ordenada o \"limpia\"."
      ]
    },
    {
      "cell_type": "markdown",
      "metadata": {
        "id": "noudNla9AtrK"
      },
      "source": [
        "#### División de los datos"
      ]
    },
    {
      "cell_type": "code",
      "metadata": {
        "id": "QJlQvCafAtrK"
      },
      "source": [
        "import pandas as pd\n",
        "from sklearn import metrics # Para validar el modelo\n",
        "from sklearn.model_selection import train_test_split\n",
        "from sklearn.linear_model import LogisticRegression\n",
        "import matplotlib.pyplot as plt\n",
        "import seaborn as sns\n",
        "%matplotlib inline"
      ],
      "execution_count": null,
      "outputs": []
    },
    {
      "cell_type": "code",
      "metadata": {
        "id": "nl3_XlgZAtrL",
        "outputId": "effb81d9-521d-489f-ac5c-3c81049b08d2"
      },
      "source": [
        "dataset = pd.read_csv(\"../Fundamentos_Practicos_de_Machine_Learning/Archivos/diabetes.csv\")\n",
        "dataset"
      ],
      "execution_count": null,
      "outputs": [
        {
          "output_type": "execute_result",
          "data": {
            "text/html": [
              "<div>\n",
              "<style scoped>\n",
              "    .dataframe tbody tr th:only-of-type {\n",
              "        vertical-align: middle;\n",
              "    }\n",
              "\n",
              "    .dataframe tbody tr th {\n",
              "        vertical-align: top;\n",
              "    }\n",
              "\n",
              "    .dataframe thead th {\n",
              "        text-align: right;\n",
              "    }\n",
              "</style>\n",
              "<table border=\"1\" class=\"dataframe\">\n",
              "  <thead>\n",
              "    <tr style=\"text-align: right;\">\n",
              "      <th></th>\n",
              "      <th>Pregnancies</th>\n",
              "      <th>Glucose</th>\n",
              "      <th>BloodPressure</th>\n",
              "      <th>SkinThickness</th>\n",
              "      <th>Insulin</th>\n",
              "      <th>BMI</th>\n",
              "      <th>DiabetesPedigreeFunction</th>\n",
              "      <th>Age</th>\n",
              "      <th>Outcome</th>\n",
              "    </tr>\n",
              "  </thead>\n",
              "  <tbody>\n",
              "    <tr>\n",
              "      <th>0</th>\n",
              "      <td>6</td>\n",
              "      <td>148</td>\n",
              "      <td>72</td>\n",
              "      <td>35</td>\n",
              "      <td>0</td>\n",
              "      <td>33.6</td>\n",
              "      <td>0.627</td>\n",
              "      <td>50</td>\n",
              "      <td>1</td>\n",
              "    </tr>\n",
              "    <tr>\n",
              "      <th>1</th>\n",
              "      <td>1</td>\n",
              "      <td>85</td>\n",
              "      <td>66</td>\n",
              "      <td>29</td>\n",
              "      <td>0</td>\n",
              "      <td>26.6</td>\n",
              "      <td>0.351</td>\n",
              "      <td>31</td>\n",
              "      <td>0</td>\n",
              "    </tr>\n",
              "    <tr>\n",
              "      <th>2</th>\n",
              "      <td>8</td>\n",
              "      <td>183</td>\n",
              "      <td>64</td>\n",
              "      <td>0</td>\n",
              "      <td>0</td>\n",
              "      <td>23.3</td>\n",
              "      <td>0.672</td>\n",
              "      <td>32</td>\n",
              "      <td>1</td>\n",
              "    </tr>\n",
              "    <tr>\n",
              "      <th>3</th>\n",
              "      <td>1</td>\n",
              "      <td>89</td>\n",
              "      <td>66</td>\n",
              "      <td>23</td>\n",
              "      <td>94</td>\n",
              "      <td>28.1</td>\n",
              "      <td>0.167</td>\n",
              "      <td>21</td>\n",
              "      <td>0</td>\n",
              "    </tr>\n",
              "    <tr>\n",
              "      <th>4</th>\n",
              "      <td>0</td>\n",
              "      <td>137</td>\n",
              "      <td>40</td>\n",
              "      <td>35</td>\n",
              "      <td>168</td>\n",
              "      <td>43.1</td>\n",
              "      <td>2.288</td>\n",
              "      <td>33</td>\n",
              "      <td>1</td>\n",
              "    </tr>\n",
              "    <tr>\n",
              "      <th>...</th>\n",
              "      <td>...</td>\n",
              "      <td>...</td>\n",
              "      <td>...</td>\n",
              "      <td>...</td>\n",
              "      <td>...</td>\n",
              "      <td>...</td>\n",
              "      <td>...</td>\n",
              "      <td>...</td>\n",
              "      <td>...</td>\n",
              "    </tr>\n",
              "    <tr>\n",
              "      <th>763</th>\n",
              "      <td>10</td>\n",
              "      <td>101</td>\n",
              "      <td>76</td>\n",
              "      <td>48</td>\n",
              "      <td>180</td>\n",
              "      <td>32.9</td>\n",
              "      <td>0.171</td>\n",
              "      <td>63</td>\n",
              "      <td>0</td>\n",
              "    </tr>\n",
              "    <tr>\n",
              "      <th>764</th>\n",
              "      <td>2</td>\n",
              "      <td>122</td>\n",
              "      <td>70</td>\n",
              "      <td>27</td>\n",
              "      <td>0</td>\n",
              "      <td>36.8</td>\n",
              "      <td>0.340</td>\n",
              "      <td>27</td>\n",
              "      <td>0</td>\n",
              "    </tr>\n",
              "    <tr>\n",
              "      <th>765</th>\n",
              "      <td>5</td>\n",
              "      <td>121</td>\n",
              "      <td>72</td>\n",
              "      <td>23</td>\n",
              "      <td>112</td>\n",
              "      <td>26.2</td>\n",
              "      <td>0.245</td>\n",
              "      <td>30</td>\n",
              "      <td>0</td>\n",
              "    </tr>\n",
              "    <tr>\n",
              "      <th>766</th>\n",
              "      <td>1</td>\n",
              "      <td>126</td>\n",
              "      <td>60</td>\n",
              "      <td>0</td>\n",
              "      <td>0</td>\n",
              "      <td>30.1</td>\n",
              "      <td>0.349</td>\n",
              "      <td>47</td>\n",
              "      <td>1</td>\n",
              "    </tr>\n",
              "    <tr>\n",
              "      <th>767</th>\n",
              "      <td>1</td>\n",
              "      <td>93</td>\n",
              "      <td>70</td>\n",
              "      <td>31</td>\n",
              "      <td>0</td>\n",
              "      <td>30.4</td>\n",
              "      <td>0.315</td>\n",
              "      <td>23</td>\n",
              "      <td>0</td>\n",
              "    </tr>\n",
              "  </tbody>\n",
              "</table>\n",
              "<p>768 rows × 9 columns</p>\n",
              "</div>"
            ],
            "text/plain": [
              "     Pregnancies  Glucose  BloodPressure  SkinThickness  Insulin   BMI  \\\n",
              "0              6      148             72             35        0  33.6   \n",
              "1              1       85             66             29        0  26.6   \n",
              "2              8      183             64              0        0  23.3   \n",
              "3              1       89             66             23       94  28.1   \n",
              "4              0      137             40             35      168  43.1   \n",
              "..           ...      ...            ...            ...      ...   ...   \n",
              "763           10      101             76             48      180  32.9   \n",
              "764            2      122             70             27        0  36.8   \n",
              "765            5      121             72             23      112  26.2   \n",
              "766            1      126             60              0        0  30.1   \n",
              "767            1       93             70             31        0  30.4   \n",
              "\n",
              "     DiabetesPedigreeFunction  Age  Outcome  \n",
              "0                       0.627   50        1  \n",
              "1                       0.351   31        0  \n",
              "2                       0.672   32        1  \n",
              "3                       0.167   21        0  \n",
              "4                       2.288   33        1  \n",
              "..                        ...  ...      ...  \n",
              "763                     0.171   63        0  \n",
              "764                     0.340   27        0  \n",
              "765                     0.245   30        0  \n",
              "766                     0.349   47        1  \n",
              "767                     0.315   23        0  \n",
              "\n",
              "[768 rows x 9 columns]"
            ]
          },
          "metadata": {
            "tags": []
          },
          "execution_count": 95
        }
      ]
    },
    {
      "cell_type": "code",
      "metadata": {
        "id": "bxP1qpztAtrL",
        "outputId": "344921cf-8ef4-4939-9097-e444efbf6e3e"
      },
      "source": [
        "dataset.shape"
      ],
      "execution_count": null,
      "outputs": [
        {
          "output_type": "execute_result",
          "data": {
            "text/plain": [
              "(768, 9)"
            ]
          },
          "metadata": {
            "tags": []
          },
          "execution_count": 96
        }
      ]
    },
    {
      "cell_type": "code",
      "metadata": {
        "id": "hVQt3tytAtrL"
      },
      "source": [
        "feature_cols = ['Pregnancies', 'Insulin', 'BMI', 'Age' , 'Glucose', 'BloodPressure', 'DiabetesPedigreeFunction',\n",
        "               'SkinThickness']"
      ],
      "execution_count": null,
      "outputs": []
    },
    {
      "cell_type": "code",
      "metadata": {
        "id": "zl4s0zKiAtrL",
        "outputId": "533334d7-2d24-4321-c9f3-b23ed367c0c8"
      },
      "source": [
        "X = dataset[feature_cols]\n",
        "X"
      ],
      "execution_count": null,
      "outputs": [
        {
          "output_type": "execute_result",
          "data": {
            "text/html": [
              "<div>\n",
              "<style scoped>\n",
              "    .dataframe tbody tr th:only-of-type {\n",
              "        vertical-align: middle;\n",
              "    }\n",
              "\n",
              "    .dataframe tbody tr th {\n",
              "        vertical-align: top;\n",
              "    }\n",
              "\n",
              "    .dataframe thead th {\n",
              "        text-align: right;\n",
              "    }\n",
              "</style>\n",
              "<table border=\"1\" class=\"dataframe\">\n",
              "  <thead>\n",
              "    <tr style=\"text-align: right;\">\n",
              "      <th></th>\n",
              "      <th>Pregnancies</th>\n",
              "      <th>Insulin</th>\n",
              "      <th>BMI</th>\n",
              "      <th>Age</th>\n",
              "      <th>Glucose</th>\n",
              "      <th>BloodPressure</th>\n",
              "      <th>DiabetesPedigreeFunction</th>\n",
              "      <th>SkinThickness</th>\n",
              "    </tr>\n",
              "  </thead>\n",
              "  <tbody>\n",
              "    <tr>\n",
              "      <th>0</th>\n",
              "      <td>6</td>\n",
              "      <td>0</td>\n",
              "      <td>33.6</td>\n",
              "      <td>50</td>\n",
              "      <td>148</td>\n",
              "      <td>72</td>\n",
              "      <td>0.627</td>\n",
              "      <td>35</td>\n",
              "    </tr>\n",
              "    <tr>\n",
              "      <th>1</th>\n",
              "      <td>1</td>\n",
              "      <td>0</td>\n",
              "      <td>26.6</td>\n",
              "      <td>31</td>\n",
              "      <td>85</td>\n",
              "      <td>66</td>\n",
              "      <td>0.351</td>\n",
              "      <td>29</td>\n",
              "    </tr>\n",
              "    <tr>\n",
              "      <th>2</th>\n",
              "      <td>8</td>\n",
              "      <td>0</td>\n",
              "      <td>23.3</td>\n",
              "      <td>32</td>\n",
              "      <td>183</td>\n",
              "      <td>64</td>\n",
              "      <td>0.672</td>\n",
              "      <td>0</td>\n",
              "    </tr>\n",
              "    <tr>\n",
              "      <th>3</th>\n",
              "      <td>1</td>\n",
              "      <td>94</td>\n",
              "      <td>28.1</td>\n",
              "      <td>21</td>\n",
              "      <td>89</td>\n",
              "      <td>66</td>\n",
              "      <td>0.167</td>\n",
              "      <td>23</td>\n",
              "    </tr>\n",
              "    <tr>\n",
              "      <th>4</th>\n",
              "      <td>0</td>\n",
              "      <td>168</td>\n",
              "      <td>43.1</td>\n",
              "      <td>33</td>\n",
              "      <td>137</td>\n",
              "      <td>40</td>\n",
              "      <td>2.288</td>\n",
              "      <td>35</td>\n",
              "    </tr>\n",
              "    <tr>\n",
              "      <th>...</th>\n",
              "      <td>...</td>\n",
              "      <td>...</td>\n",
              "      <td>...</td>\n",
              "      <td>...</td>\n",
              "      <td>...</td>\n",
              "      <td>...</td>\n",
              "      <td>...</td>\n",
              "      <td>...</td>\n",
              "    </tr>\n",
              "    <tr>\n",
              "      <th>763</th>\n",
              "      <td>10</td>\n",
              "      <td>180</td>\n",
              "      <td>32.9</td>\n",
              "      <td>63</td>\n",
              "      <td>101</td>\n",
              "      <td>76</td>\n",
              "      <td>0.171</td>\n",
              "      <td>48</td>\n",
              "    </tr>\n",
              "    <tr>\n",
              "      <th>764</th>\n",
              "      <td>2</td>\n",
              "      <td>0</td>\n",
              "      <td>36.8</td>\n",
              "      <td>27</td>\n",
              "      <td>122</td>\n",
              "      <td>70</td>\n",
              "      <td>0.340</td>\n",
              "      <td>27</td>\n",
              "    </tr>\n",
              "    <tr>\n",
              "      <th>765</th>\n",
              "      <td>5</td>\n",
              "      <td>112</td>\n",
              "      <td>26.2</td>\n",
              "      <td>30</td>\n",
              "      <td>121</td>\n",
              "      <td>72</td>\n",
              "      <td>0.245</td>\n",
              "      <td>23</td>\n",
              "    </tr>\n",
              "    <tr>\n",
              "      <th>766</th>\n",
              "      <td>1</td>\n",
              "      <td>0</td>\n",
              "      <td>30.1</td>\n",
              "      <td>47</td>\n",
              "      <td>126</td>\n",
              "      <td>60</td>\n",
              "      <td>0.349</td>\n",
              "      <td>0</td>\n",
              "    </tr>\n",
              "    <tr>\n",
              "      <th>767</th>\n",
              "      <td>1</td>\n",
              "      <td>0</td>\n",
              "      <td>30.4</td>\n",
              "      <td>23</td>\n",
              "      <td>93</td>\n",
              "      <td>70</td>\n",
              "      <td>0.315</td>\n",
              "      <td>31</td>\n",
              "    </tr>\n",
              "  </tbody>\n",
              "</table>\n",
              "<p>768 rows × 8 columns</p>\n",
              "</div>"
            ],
            "text/plain": [
              "     Pregnancies  Insulin   BMI  Age  Glucose  BloodPressure  \\\n",
              "0              6        0  33.6   50      148             72   \n",
              "1              1        0  26.6   31       85             66   \n",
              "2              8        0  23.3   32      183             64   \n",
              "3              1       94  28.1   21       89             66   \n",
              "4              0      168  43.1   33      137             40   \n",
              "..           ...      ...   ...  ...      ...            ...   \n",
              "763           10      180  32.9   63      101             76   \n",
              "764            2        0  36.8   27      122             70   \n",
              "765            5      112  26.2   30      121             72   \n",
              "766            1        0  30.1   47      126             60   \n",
              "767            1        0  30.4   23       93             70   \n",
              "\n",
              "     DiabetesPedigreeFunction  SkinThickness  \n",
              "0                       0.627             35  \n",
              "1                       0.351             29  \n",
              "2                       0.672              0  \n",
              "3                       0.167             23  \n",
              "4                       2.288             35  \n",
              "..                        ...            ...  \n",
              "763                     0.171             48  \n",
              "764                     0.340             27  \n",
              "765                     0.245             23  \n",
              "766                     0.349              0  \n",
              "767                     0.315             31  \n",
              "\n",
              "[768 rows x 8 columns]"
            ]
          },
          "metadata": {
            "tags": []
          },
          "execution_count": 98
        }
      ]
    },
    {
      "cell_type": "code",
      "metadata": {
        "id": "ENMtcwmsAtrM",
        "outputId": "dc4a2721-c054-4bde-9b9a-8fd002c409e0"
      },
      "source": [
        "y = dataset.Outcome\n",
        "y"
      ],
      "execution_count": null,
      "outputs": [
        {
          "output_type": "execute_result",
          "data": {
            "text/plain": [
              "0      1\n",
              "1      0\n",
              "2      1\n",
              "3      0\n",
              "4      1\n",
              "      ..\n",
              "763    0\n",
              "764    0\n",
              "765    0\n",
              "766    1\n",
              "767    0\n",
              "Name: Outcome, Length: 768, dtype: int64"
            ]
          },
          "metadata": {
            "tags": []
          },
          "execution_count": 99
        }
      ]
    },
    {
      "cell_type": "code",
      "metadata": {
        "id": "uZu65QjCAtrM"
      },
      "source": [
        "X_train, X_test, y_train, y_test = train_test_split( X, y, test_size = 0.25, random_state = 0 )"
      ],
      "execution_count": null,
      "outputs": []
    },
    {
      "cell_type": "code",
      "metadata": {
        "id": "EF7WKc6QAtrM"
      },
      "source": [
        "# Ajustamos el maximo de iteraciones para que no salga un Warning\n",
        "log_reg = LogisticRegression(max_iter=1000)"
      ],
      "execution_count": null,
      "outputs": []
    },
    {
      "cell_type": "code",
      "metadata": {
        "id": "-0i2-V8IAtrM",
        "outputId": "96440ffe-6fd7-4a25-d954-9ba182106412"
      },
      "source": [
        "log_reg.fit(X_train, y_train)"
      ],
      "execution_count": null,
      "outputs": [
        {
          "output_type": "execute_result",
          "data": {
            "text/plain": [
              "LogisticRegression(max_iter=1000)"
            ]
          },
          "metadata": {
            "tags": []
          },
          "execution_count": 102
        }
      ]
    },
    {
      "cell_type": "code",
      "metadata": {
        "id": "DuCY5ETYAtrM",
        "outputId": "2a496382-5d2b-440e-8a21-2bf25b5e1c27"
      },
      "source": [
        "log_reg.score(X_test, y_test)"
      ],
      "execution_count": null,
      "outputs": [
        {
          "output_type": "execute_result",
          "data": {
            "text/plain": [
              "0.796875"
            ]
          },
          "metadata": {
            "tags": []
          },
          "execution_count": 103
        }
      ]
    },
    {
      "cell_type": "code",
      "metadata": {
        "id": "2UQnrTXgAtrN",
        "outputId": "6ff50e62-779d-4b39-e46b-9970e205c490"
      },
      "source": [
        "y_pred = log_reg.predict(X_test)\n",
        "y_pred"
      ],
      "execution_count": null,
      "outputs": [
        {
          "output_type": "execute_result",
          "data": {
            "text/plain": [
              "array([1, 0, 0, 1, 0, 0, 1, 1, 0, 0, 1, 1, 0, 0, 0, 0, 1, 0, 0, 0, 1, 0,\n",
              "       0, 0, 0, 0, 0, 1, 0, 0, 0, 0, 0, 0, 0, 1, 0, 0, 0, 1, 0, 0, 0, 1,\n",
              "       1, 0, 0, 0, 0, 0, 0, 0, 1, 1, 0, 0, 0, 1, 0, 0, 1, 0, 0, 1, 1, 1,\n",
              "       1, 0, 0, 0, 0, 0, 0, 1, 1, 0, 0, 1, 0, 0, 0, 0, 0, 0, 0, 0, 0, 0,\n",
              "       1, 0, 0, 0, 0, 0, 1, 0, 0, 1, 1, 0, 0, 0, 0, 0, 1, 0, 0, 0, 0, 1,\n",
              "       0, 0, 1, 0, 1, 1, 0, 1, 0, 1, 0, 0, 0, 0, 0, 0, 0, 0, 0, 0, 0, 0,\n",
              "       0, 1, 0, 0, 0, 0, 1, 0, 0, 1, 0, 0, 0, 0, 0, 0, 0, 0, 0, 1, 0, 0,\n",
              "       1, 0, 1, 0, 0, 1, 1, 1, 0, 0, 1, 0, 0, 0, 0, 0, 0, 0, 0, 0, 1, 0,\n",
              "       0, 0, 0, 0, 0, 1, 0, 1, 0, 0, 1, 0, 0, 0, 0, 0], dtype=int64)"
            ]
          },
          "metadata": {
            "tags": []
          },
          "execution_count": 105
        }
      ]
    },
    {
      "cell_type": "markdown",
      "metadata": {
        "id": "oHLNHGvjAtrN"
      },
      "source": [
        "#### Evaluando el modelo"
      ]
    },
    {
      "cell_type": "markdown",
      "metadata": {
        "id": "6BN-tc5YAtrN"
      },
      "source": [
        "Ya tenemos el dataset y el modelo, así que esperamos que al introducirle datos de nuevos pacientes podemos determinar si el paciente en cuestión tiene diabetes o no, pero hay que tener cuidado ya que podemos llegar a obtener falsos positivos o falsos negativos.\n",
        "\n",
        "Una forma de evaluar nuestro modelo es usando una matriz de confusión, como la que se muestra en la siguiente imagen. "
      ]
    },
    {
      "cell_type": "markdown",
      "metadata": {
        "id": "aRKn3usbAtrN"
      },
      "source": [
        "![](https://i.imgur.com/XBSlhc6.png)"
      ]
    },
    {
      "cell_type": "markdown",
      "metadata": {
        "id": "UsoZWHh-AtrN"
      },
      "source": [
        "La matriz de confusión nos va a ayudar a evaluar el desempeño de un algoritmo de clasificación a partir del conteo de aciertos y errores en cada una de las clases del algoritmo.\n",
        "\n",
        "Como su nombre lo indica tenemos una matriz que nos ayuda a evaluar la predicción mediante positivos y negativos como en la figura de arriba. Dentro de ella tenemos:\n",
        "\n",
        "* **Verdaderos positivos (VP)**: Son aquellos que fueron clasificados correctamente como positivos en el modelo.\n",
        "* **Verdaderos negativos (VN)**: Corresponden a la cantidad de negativos que fueron clasificados correctamente como negativos por el modelo.\n",
        "* **Falsos negativos**: Es la cantidad de positivos que fueron clasificados incorrectamente como negativos.\n",
        "* **Falsos positivos**: Indica la cantidad de negativos que fueron clasificados incorrectamente como positivos."
      ]
    },
    {
      "cell_type": "markdown",
      "metadata": {
        "id": "a8bK4UgAAtrN"
      },
      "source": [
        "Para entenderlo mejor, consideremos un ejemplo.\n",
        "\n",
        "Un médico tiene 4 pacientes y a cada uno se le solicitó un examen de sangre y por error el laboratorio realizó también un estudio de embarazo, cuando los pacientes llegan el médico les da los resultados.\n",
        "\n",
        "A la primera paciente le da la noticia de que está embarazada y ello ya lo sabía dado que tiene 3 meses de embarazo, es decir, un Verdadero Positivo.\n",
        "\n",
        "El siguiente paciente llega y le dice que no está embarazada y es una clasificación evidente dado que es hombre (Verdadero Negativo).\n",
        "\n",
        "El tercer paciente llega y los resultados le indican que no está embarazada, sin embargo, tiene 4 meses de embarazo, es decir, se ha clasificado como un Falso Negativo.\n",
        "\n",
        "Y por último el cuarto paciente recibe en sus estudios que está embarazado, sin embargo, es hombre, por lo cual es algo imposible y estamos visualizando un Falso Positivo."
      ]
    },
    {
      "cell_type": "markdown",
      "metadata": {
        "id": "1tn3jU2LAtrO"
      },
      "source": [
        "$$\\text{Exactitud} = \\frac{VP + VN}{\\text{Total}}$$"
      ]
    },
    {
      "cell_type": "markdown",
      "metadata": {
        "id": "qkl-B34JAtrO"
      },
      "source": [
        "$$\\text{Tasa de error} = \\frac{FP + FN}{\\text{Total}}$$"
      ]
    },
    {
      "cell_type": "markdown",
      "metadata": {
        "id": "nkwxke4_AtrO"
      },
      "source": [
        "Vamos a tratar de crear una matriz de confusión en código"
      ]
    },
    {
      "cell_type": "code",
      "metadata": {
        "id": "9uhwH47rAtrO",
        "outputId": "7ef12fcf-75b4-487a-b57d-cd24ff7bdb1b"
      },
      "source": [
        "# Generamos nuestra matriz de confusión\n",
        "\n",
        "# Recibe 2 paráetros, la información que usamos para testear y la predicción que arrojó el modelo\n",
        "cnf_matrix = metrics.confusion_matrix(y_test, y_pred)\n",
        "cnf_matrix"
      ],
      "execution_count": null,
      "outputs": [
        {
          "output_type": "execute_result",
          "data": {
            "text/plain": [
              "array([[117,  13],\n",
              "       [ 26,  36]], dtype=int64)"
            ]
          },
          "metadata": {
            "tags": []
          },
          "execution_count": 106
        }
      ]
    },
    {
      "cell_type": "markdown",
      "metadata": {
        "id": "16ekbSOLAtrO"
      },
      "source": [
        "Es decir, de todo nuestro data set obtuvimos 117 Verdaderos Positivos, 36 verdaderos negativos, 26 falsos positivos y 13 falsos negativos."
      ]
    },
    {
      "cell_type": "markdown",
      "metadata": {
        "id": "KF1FqMn3AtrO"
      },
      "source": [
        "Vamos a hacerlo un poco más visual"
      ]
    },
    {
      "cell_type": "code",
      "metadata": {
        "id": "3F4vesQxAtrO",
        "outputId": "9709cf12-8ca3-4337-d58a-8637b63d3ed7"
      },
      "source": [
        "import numpy as np\n",
        "# Queremos que solo nos muestre 2 valores, 0 o 1, negativo o positivo a diabetes.\n",
        "class_names = [0, 1]\n",
        "# Creamos un sbuplo (juntamos figura y ejes o cuadricula en una sola instrucción\n",
        "fig, ax = plt.subplots()\n",
        "# Guardamos esos datos de 1 y 0 en un array de la longitud de class_names\n",
        "tick_marks = np.arange(len(class_names))\n",
        "tick_marks"
      ],
      "execution_count": null,
      "outputs": [
        {
          "output_type": "execute_result",
          "data": {
            "text/plain": [
              "array([0, 1])"
            ]
          },
          "metadata": {
            "tags": []
          },
          "execution_count": 107
        },
        {
          "output_type": "display_data",
          "data": {
            "image/png": "[encoded data removed]",
            "text/plain": [
              "<Figure size 432x288 with 1 Axes>"
            ]
          },
          "metadata": {
            "tags": [],
            "needs_background": "light"
          }
        }
      ]
    },
    {
      "cell_type": "code",
      "metadata": {
        "id": "wjcfVoBUAtrP",
        "outputId": "547a0002-809d-4a05-ffd9-384379c99de0"
      },
      "source": [
        "# Queremos plotear en X e Y \n",
        "# Así que delimitamos nuestros cuadrantes con xticks que definimos anteriormente\n",
        "# como 1 y 0.\n",
        "plt.xticks(tick_marks, class_names)\n",
        "plt.yticks(tick_marks, class_names)"
      ],
      "execution_count": null,
      "outputs": [
        {
          "output_type": "execute_result",
          "data": {
            "text/plain": [
              "([<matplotlib.axis.YTick at 0x1ded09d25e0>,\n",
              "  <matplotlib.axis.YTick at 0x1ded09c9f70>],\n",
              " [Text(0, 0, '0'), Text(0, 1, '1')])"
            ]
          },
          "metadata": {
            "tags": []
          },
          "execution_count": 108
        },
        {
          "output_type": "display_data",
          "data": {
            "image/png": "[encoded data removed]",
            "text/plain": [
              "<Figure size 432x288 with 1 Axes>"
            ]
          },
          "metadata": {
            "tags": [],
            "needs_background": "light"
          }
        }
      ]
    },
    {
      "cell_type": "markdown",
      "metadata": {
        "id": "kvZl1PMNAtrP"
      },
      "source": [
        "Hasta ahora solo hemos definido el espacio donde vamos a dibujar, ahora procedemos a dibujar la matriz como tal"
      ]
    },
    {
      "cell_type": "code",
      "metadata": {
        "id": "nf2bCBhEAtrP",
        "outputId": "b6a13d48-6b61-4e59-fc74-15a48f205186"
      },
      "source": [
        "# seaborn,heatmap nos ayuda a trazar los datos en forma de matriz como buscamos\n",
        "# Crea un DataFrame a partir de la matriz de confusión\n",
        "# https://seaborn.pydata.org/generated/seaborn.heatmap.html --> Para ver el resto de parámetros\n",
        "sns.heatmap(pd.DataFrame(cnf_matrix), annot = True, cmap = 'magma', fmt = 'g') # cmap nos ayuda a extablecer los colores\n",
        "\n",
        "# Ajustamos la posición de los labels\n",
        "ax.xaxis.set_label_position('top')\n",
        "# Ajuste el relleno entre y alrededor de los subplots.\n",
        "plt.tight_layout()\n",
        "\n",
        "# Le ponemos el titulo y las etiquetas de los ejes\n",
        "plt.title('Matriz de confusión', y = 1.1) # Empezamos en la posición 1.1\n",
        "plt.ylabel('Etiqueta actual')\n",
        "plt.xlabel('Etiqueta de predicción')"
      ],
      "execution_count": null,
      "outputs": [
        {
          "output_type": "execute_result",
          "data": {
            "text/plain": [
              "Text(0.5, 15.0, 'Etiqueta de predicción')"
            ]
          },
          "metadata": {
            "tags": []
          },
          "execution_count": 109
        },
        {
          "output_type": "display_data",
          "data": {
            "image/png": "[encoded data removed]",
            "text/plain": [
              "<Figure size 432x288 with 2 Axes>"
            ]
          },
          "metadata": {
            "tags": [],
            "needs_background": "light"
          }
        }
      ]
    },
    {
      "cell_type": "markdown",
      "metadata": {
        "id": "s1fdUh7DAtrP"
      },
      "source": [
        "Así podemos observar que mientras tenga un color más cercano al negro significa que tuvimos menos datos de este tipo, y mientras se acerque a colores claros significa que tuvimos más ocurrencias.\n",
        "\n",
        "En este caso, se logró predecir con una buena precisión nuestros Verdaderos Positivos."
      ]
    },
    {
      "cell_type": "markdown",
      "metadata": {
        "id": "UdoC5BM3AtrP"
      },
      "source": [
        "De hecho, nuestro modelo tiene el siguiente score:"
      ]
    },
    {
      "cell_type": "code",
      "metadata": {
        "id": "eOaEd3W_AtrQ",
        "outputId": "e0ae9aa4-1c62-4ac7-8e7e-c1fbcccee724"
      },
      "source": [
        "print('Exactitud:', metrics.accuracy_score(y_test, y_pred))"
      ],
      "execution_count": null,
      "outputs": [
        {
          "output_type": "stream",
          "text": [
            "Exactitud: 0.796875\n"
          ],
          "name": "stdout"
        }
      ]
    },
    {
      "cell_type": "markdown",
      "metadata": {
        "id": "oO5tPRUtAtrQ"
      },
      "source": [
        "que es de casi el $80\\%$, aunque podría ser mejor."
      ]
    },
    {
      "cell_type": "markdown",
      "metadata": {
        "id": "-MUwfiNBAtrQ"
      },
      "source": [
        "---"
      ]
    },
    {
      "cell_type": "markdown",
      "metadata": {
        "id": "kzWpHDMCAtrQ"
      },
      "source": [
        "## Árboles de decisión"
      ]
    },
    {
      "cell_type": "markdown",
      "metadata": {
        "id": "pKNl17YyAtrQ"
      },
      "source": [
        "### ¿Qué son los árboles de decisión?"
      ]
    },
    {
      "cell_type": "markdown",
      "metadata": {
        "id": "YcwkB8BiAtrQ"
      },
      "source": [
        "Es una forma gráfica y analítica que presenta sucesos y sus posibles consecuencias. Permite que un individuo o una organización comparen posibles acciones entre sí según su costo, probabilidades y beneficios. Se pueden usar para dirigir un intercambio de ideas informal o trazar un algoritmo que anticipe matemáticamente la mejor opción."
      ]
    },
    {
      "cell_type": "markdown",
      "metadata": {
        "id": "3RVdrYlaAtrS"
      },
      "source": [
        "Un árbol de decisión, por lo general, comienza con un único nodo y luego se ramifica en resultados posible. Cada uno de esos resultados crea nodos adicionales, que se ramifican en otras posibilidades. Esto le da una forma similar a la de un árbol."
      ]
    },
    {
      "cell_type": "markdown",
      "metadata": {
        "id": "3g4VOvdrAtrS"
      },
      "source": [
        "![](https://i.imgur.com/m0XQXw0.png)"
      ]
    },
    {
      "cell_type": "markdown",
      "metadata": {
        "id": "Qv-qQaT5AtrS"
      },
      "source": [
        "Hay 3 tipos de nodos:\n",
        "* **Nodos de probabilidad**: Usualmente representado con un círculo, muestra las probabilidades de ciertos resultados.\n",
        "* **Nodos de decisión**: Representado con un cuadrado, muestra una decisión que se tomará.\n",
        "* **Nodos terminales**: Muestra el resultado definitivo de una ruta de decisión.\n"
      ]
    },
    {
      "cell_type": "markdown",
      "metadata": {
        "id": "osrsghuUAtrS"
      },
      "source": [
        "![](https://d2slcw3kip6qmk.cloudfront.net/marketing/pages/chart/seo/decision-tree/discovery/sample-decision-tree.svg)"
      ]
    },
    {
      "cell_type": "markdown",
      "metadata": {
        "id": "9kU1YPzuAtrS"
      },
      "source": [
        "**Ventajas**"
      ]
    },
    {
      "cell_type": "markdown",
      "metadata": {
        "id": "fqGtI2g7AtrS"
      },
      "source": [
        "* Claridad de los datos\n",
        "* Tolerantes al ruido y valores faltantes\n",
        "* Las reglas extraídas permiten hacer predicciones"
      ]
    },
    {
      "cell_type": "markdown",
      "metadata": {
        "id": "5fQNeeQSAtrS"
      },
      "source": [
        "**Desventajas**"
      ]
    },
    {
      "cell_type": "markdown",
      "metadata": {
        "id": "lRzbwDu5AtrT"
      },
      "source": [
        "* Suele ser deficiente el proceso de delimitar las rutas de decisiones cuando el árbol es muy extenso\n",
        "* Tiende a tener problemas de sobreajuste \n",
        "* Podemos llegar a tener ramas poco significativas"
      ]
    },
    {
      "cell_type": "markdown",
      "metadata": {
        "id": "U5SB_0psAtrT"
      },
      "source": [
        "**Creación de un árbol de decisión**"
      ]
    },
    {
      "cell_type": "markdown",
      "metadata": {
        "id": "Dwm6gLAkAtrT"
      },
      "source": [
        "1. Comenzamos con la decisión principal: Dibujamos un recuadro para representar el punto inicial y le asignamos una línea desde ese recuadro hacía cada posible solución o acción, teniéndolas correctamente etiquetadas.\n",
        "\n",
        "\n",
        "2. Agregamos nodos de decisión y probabilidad para expandir el árbol de modo que:\n",
        "    * Si otra decisión es necesaria, dibujamos otro recuadro extra.\n",
        "    * Si el resultado es incierto, dibujamos un circula (representando un nodo de probabilidad)\n",
        "    * Si el problema está resuelto por ahora, lo dejamos en blanco.\n",
        "    Desde cada nodo de decisión dibujamos las soluciones posibles.\n",
        "    \n",
        "    \n",
        "3. Continuar con la expansión hasta que la línea alcance un extremo, usualmente en los gráficos indicamos esto con triángulos."
      ]
    },
    {
      "cell_type": "markdown",
      "metadata": {
        "id": "ucwRM18HAtrT"
      },
      "source": [
        "**¿Cómo podemos dividir el árbol?**"
      ]
    },
    {
      "cell_type": "markdown",
      "metadata": {
        "id": "kzH8s1iVAtrT"
      },
      "source": [
        "* Ganancia de información\n",
        "* Dividir en pequeños árboles"
      ]
    },
    {
      "cell_type": "markdown",
      "metadata": {
        "id": "wzhsdbToAtrU"
      },
      "source": [
        "**Optimización del modelo**\n",
        "\n",
        "* Evitar el sobreajuste\n",
        "* Selección correcta de atributos\n",
        "* Evitar campos nulos"
      ]
    },
    {
      "cell_type": "markdown",
      "metadata": {
        "id": "mVyKPFXTAtrU"
      },
      "source": [
        "---"
      ]
    },
    {
      "cell_type": "markdown",
      "metadata": {
        "id": "BZrQeTg2AtrU"
      },
      "source": [
        "### Comprendiendo nuestro data set para la creación de un árbol de decisión"
      ]
    },
    {
      "cell_type": "markdown",
      "metadata": {
        "id": "1gTn0jFCAtrU"
      },
      "source": [
        "Para este caso vamos a trabajar con dataset un poco más complejo y con más variedad de datos, el nombre del dataset se llama `Titanic` que contiene la lista de los pasajeros de dicho barco con sus características, de forma que se tratará de determinar si dicho pasajero pudo o no sobrevivir (me dio escalofríos xd). Al tratarse de un dataset muy grande, ya lo tendremos dividido en 2 archivos, el de entrenamiento y el de test."
      ]
    },
    {
      "cell_type": "code",
      "metadata": {
        "id": "fONgKYDaAtrU"
      },
      "source": [
        "import pandas as pd\n",
        "import matplotlib.pyplot as plt\n",
        "import seaborn as sns\n",
        "import re\n",
        "import numpy as np\n",
        "from sklearn import tree\n",
        "from sklearn.model_selection import train_test_split\n",
        "# Este nos ayuda a mandar a traer las gráficas\n",
        "%matplotlib inline\n",
        "# Inicializamos seaborn\n",
        "sns.set()"
      ],
      "execution_count": null,
      "outputs": []
    },
    {
      "cell_type": "markdown",
      "metadata": {
        "id": "4NaVVjThAtrV"
      },
      "source": [
        "Vamos a comenzar cargando los archivos:"
      ]
    },
    {
      "cell_type": "code",
      "metadata": {
        "id": "Z2aLfPBtAtrV"
      },
      "source": [
        "# Traemos los datos\n",
        "#test_df = pd.read_csv(\"../Fundamentos_Practicos_de_Machine_Learning/Archivos/titanic_test.csv\")\n",
        "#train_df = pd.read_csv(\"../Fundamentos_Practicos_de_Machine_Learning/Archivos/titanic_train.csv\")"
      ],
      "execution_count": null,
      "outputs": []
    },
    {
      "cell_type": "code",
      "metadata": {
        "id": "mjOmeMABEef8"
      },
      "source": [
        "# Traemos los datos\n",
        "test_df = pd.read_csv(\"titanic_test.csv\")\n",
        "train_df = pd.read_csv(\"titanic_train.csv\")"
      ],
      "execution_count": null,
      "outputs": []
    },
    {
      "cell_type": "code",
      "metadata": {
        "id": "lSzPmXyKAtrV",
        "colab": {
          "base_uri": "https://localhost:8080/",
          "height": 417
        },
        "outputId": "a26c3de4-2e69-4224-ca7f-3e17c7f5f768"
      },
      "source": [
        "train_df"
      ],
      "execution_count": null,
      "outputs": [
        {
          "output_type": "execute_result",
          "data": {
            "text/html": [
              "<div>\n",
              "<style scoped>\n",
              "    .dataframe tbody tr th:only-of-type {\n",
              "        vertical-align: middle;\n",
              "    }\n",
              "\n",
              "    .dataframe tbody tr th {\n",
              "        vertical-align: top;\n",
              "    }\n",
              "\n",
              "    .dataframe thead th {\n",
              "        text-align: right;\n",
              "    }\n",
              "</style>\n",
              "<table border=\"1\" class=\"dataframe\">\n",
              "  <thead>\n",
              "    <tr style=\"text-align: right;\">\n",
              "      <th></th>\n",
              "      <th>PassengerId</th>\n",
              "      <th>Survived</th>\n",
              "      <th>Pclass</th>\n",
              "      <th>Name</th>\n",
              "      <th>Sex</th>\n",
              "      <th>Age</th>\n",
              "      <th>SibSp</th>\n",
              "      <th>Parch</th>\n",
              "      <th>Ticket</th>\n",
              "      <th>Fare</th>\n",
              "      <th>Cabin</th>\n",
              "      <th>Embarked</th>\n",
              "    </tr>\n",
              "  </thead>\n",
              "  <tbody>\n",
              "    <tr>\n",
              "      <th>0</th>\n",
              "      <td>1</td>\n",
              "      <td>0</td>\n",
              "      <td>3</td>\n",
              "      <td>Braund, Mr. Owen Harris</td>\n",
              "      <td>male</td>\n",
              "      <td>22.0</td>\n",
              "      <td>1</td>\n",
              "      <td>0</td>\n",
              "      <td>A/5 21171</td>\n",
              "      <td>7.2500</td>\n",
              "      <td>NaN</td>\n",
              "      <td>S</td>\n",
              "    </tr>\n",
              "    <tr>\n",
              "      <th>1</th>\n",
              "      <td>2</td>\n",
              "      <td>1</td>\n",
              "      <td>1</td>\n",
              "      <td>Cumings, Mrs. John Bradley (Florence Briggs Th...</td>\n",
              "      <td>female</td>\n",
              "      <td>38.0</td>\n",
              "      <td>1</td>\n",
              "      <td>0</td>\n",
              "      <td>PC 17599</td>\n",
              "      <td>71.2833</td>\n",
              "      <td>C85</td>\n",
              "      <td>C</td>\n",
              "    </tr>\n",
              "    <tr>\n",
              "      <th>2</th>\n",
              "      <td>3</td>\n",
              "      <td>1</td>\n",
              "      <td>3</td>\n",
              "      <td>Heikkinen, Miss. Laina</td>\n",
              "      <td>female</td>\n",
              "      <td>26.0</td>\n",
              "      <td>0</td>\n",
              "      <td>0</td>\n",
              "      <td>STON/O2. 3101282</td>\n",
              "      <td>7.9250</td>\n",
              "      <td>NaN</td>\n",
              "      <td>S</td>\n",
              "    </tr>\n",
              "    <tr>\n",
              "      <th>3</th>\n",
              "      <td>4</td>\n",
              "      <td>1</td>\n",
              "      <td>1</td>\n",
              "      <td>Futrelle, Mrs. Jacques Heath (Lily May Peel)</td>\n",
              "      <td>female</td>\n",
              "      <td>35.0</td>\n",
              "      <td>1</td>\n",
              "      <td>0</td>\n",
              "      <td>113803</td>\n",
              "      <td>53.1000</td>\n",
              "      <td>C123</td>\n",
              "      <td>S</td>\n",
              "    </tr>\n",
              "    <tr>\n",
              "      <th>4</th>\n",
              "      <td>5</td>\n",
              "      <td>0</td>\n",
              "      <td>3</td>\n",
              "      <td>Allen, Mr. William Henry</td>\n",
              "      <td>male</td>\n",
              "      <td>35.0</td>\n",
              "      <td>0</td>\n",
              "      <td>0</td>\n",
              "      <td>373450</td>\n",
              "      <td>8.0500</td>\n",
              "      <td>NaN</td>\n",
              "      <td>S</td>\n",
              "    </tr>\n",
              "    <tr>\n",
              "      <th>...</th>\n",
              "      <td>...</td>\n",
              "      <td>...</td>\n",
              "      <td>...</td>\n",
              "      <td>...</td>\n",
              "      <td>...</td>\n",
              "      <td>...</td>\n",
              "      <td>...</td>\n",
              "      <td>...</td>\n",
              "      <td>...</td>\n",
              "      <td>...</td>\n",
              "      <td>...</td>\n",
              "      <td>...</td>\n",
              "    </tr>\n",
              "    <tr>\n",
              "      <th>886</th>\n",
              "      <td>887</td>\n",
              "      <td>0</td>\n",
              "      <td>2</td>\n",
              "      <td>Montvila, Rev. Juozas</td>\n",
              "      <td>male</td>\n",
              "      <td>27.0</td>\n",
              "      <td>0</td>\n",
              "      <td>0</td>\n",
              "      <td>211536</td>\n",
              "      <td>13.0000</td>\n",
              "      <td>NaN</td>\n",
              "      <td>S</td>\n",
              "    </tr>\n",
              "    <tr>\n",
              "      <th>887</th>\n",
              "      <td>888</td>\n",
              "      <td>1</td>\n",
              "      <td>1</td>\n",
              "      <td>Graham, Miss. Margaret Edith</td>\n",
              "      <td>female</td>\n",
              "      <td>19.0</td>\n",
              "      <td>0</td>\n",
              "      <td>0</td>\n",
              "      <td>112053</td>\n",
              "      <td>30.0000</td>\n",
              "      <td>B42</td>\n",
              "      <td>S</td>\n",
              "    </tr>\n",
              "    <tr>\n",
              "      <th>888</th>\n",
              "      <td>889</td>\n",
              "      <td>0</td>\n",
              "      <td>3</td>\n",
              "      <td>Johnston, Miss. Catherine Helen \"Carrie\"</td>\n",
              "      <td>female</td>\n",
              "      <td>NaN</td>\n",
              "      <td>1</td>\n",
              "      <td>2</td>\n",
              "      <td>W./C. 6607</td>\n",
              "      <td>23.4500</td>\n",
              "      <td>NaN</td>\n",
              "      <td>S</td>\n",
              "    </tr>\n",
              "    <tr>\n",
              "      <th>889</th>\n",
              "      <td>890</td>\n",
              "      <td>1</td>\n",
              "      <td>1</td>\n",
              "      <td>Behr, Mr. Karl Howell</td>\n",
              "      <td>male</td>\n",
              "      <td>26.0</td>\n",
              "      <td>0</td>\n",
              "      <td>0</td>\n",
              "      <td>111369</td>\n",
              "      <td>30.0000</td>\n",
              "      <td>C148</td>\n",
              "      <td>C</td>\n",
              "    </tr>\n",
              "    <tr>\n",
              "      <th>890</th>\n",
              "      <td>891</td>\n",
              "      <td>0</td>\n",
              "      <td>3</td>\n",
              "      <td>Dooley, Mr. Patrick</td>\n",
              "      <td>male</td>\n",
              "      <td>32.0</td>\n",
              "      <td>0</td>\n",
              "      <td>0</td>\n",
              "      <td>370376</td>\n",
              "      <td>7.7500</td>\n",
              "      <td>NaN</td>\n",
              "      <td>Q</td>\n",
              "    </tr>\n",
              "  </tbody>\n",
              "</table>\n",
              "<p>891 rows × 12 columns</p>\n",
              "</div>"
            ],
            "text/plain": [
              "     PassengerId  Survived  Pclass  ...     Fare Cabin  Embarked\n",
              "0              1         0       3  ...   7.2500   NaN         S\n",
              "1              2         1       1  ...  71.2833   C85         C\n",
              "2              3         1       3  ...   7.9250   NaN         S\n",
              "3              4         1       1  ...  53.1000  C123         S\n",
              "4              5         0       3  ...   8.0500   NaN         S\n",
              "..           ...       ...     ...  ...      ...   ...       ...\n",
              "886          887         0       2  ...  13.0000   NaN         S\n",
              "887          888         1       1  ...  30.0000   B42         S\n",
              "888          889         0       3  ...  23.4500   NaN         S\n",
              "889          890         1       1  ...  30.0000  C148         C\n",
              "890          891         0       3  ...   7.7500   NaN         Q\n",
              "\n",
              "[891 rows x 12 columns]"
            ]
          },
          "metadata": {
            "tags": []
          },
          "execution_count": 175
        }
      ]
    },
    {
      "cell_type": "code",
      "metadata": {
        "id": "9m3wc0naAtrV",
        "colab": {
          "base_uri": "https://localhost:8080/"
        },
        "outputId": "fdfcec62-412e-4d7c-8fb7-96a047c06e6b"
      },
      "source": [
        "train_df.info()"
      ],
      "execution_count": null,
      "outputs": [
        {
          "output_type": "stream",
          "text": [
            "<class 'pandas.core.frame.DataFrame'>\n",
            "RangeIndex: 891 entries, 0 to 890\n",
            "Data columns (total 12 columns):\n",
            " #   Column       Non-Null Count  Dtype  \n",
            "---  ------       --------------  -----  \n",
            " 0   PassengerId  891 non-null    int64  \n",
            " 1   Survived     891 non-null    int64  \n",
            " 2   Pclass       891 non-null    int64  \n",
            " 3   Name         891 non-null    object \n",
            " 4   Sex          891 non-null    object \n",
            " 5   Age          714 non-null    float64\n",
            " 6   SibSp        891 non-null    int64  \n",
            " 7   Parch        891 non-null    int64  \n",
            " 8   Ticket       891 non-null    object \n",
            " 9   Fare         891 non-null    float64\n",
            " 10  Cabin        204 non-null    object \n",
            " 11  Embarked     889 non-null    object \n",
            "dtypes: float64(2), int64(5), object(5)\n",
            "memory usage: 83.7+ KB\n"
          ],
          "name": "stdout"
        }
      ]
    },
    {
      "cell_type": "markdown",
      "metadata": {
        "id": "TdruVcYUAtrV"
      },
      "source": [
        "Podemos ver que en los datos de entrenamiento NO teneos datos nulos, por lo que es una buena opción para nuestro árbol de decisión."
      ]
    },
    {
      "cell_type": "code",
      "metadata": {
        "scrolled": true,
        "id": "-TG1A4VNAtrV",
        "colab": {
          "base_uri": "https://localhost:8080/",
          "height": 417
        },
        "outputId": "52164bff-ea16-4a71-f71c-11a84bae1f9e"
      },
      "source": [
        "test_df"
      ],
      "execution_count": null,
      "outputs": [
        {
          "output_type": "execute_result",
          "data": {
            "text/html": [
              "<div>\n",
              "<style scoped>\n",
              "    .dataframe tbody tr th:only-of-type {\n",
              "        vertical-align: middle;\n",
              "    }\n",
              "\n",
              "    .dataframe tbody tr th {\n",
              "        vertical-align: top;\n",
              "    }\n",
              "\n",
              "    .dataframe thead th {\n",
              "        text-align: right;\n",
              "    }\n",
              "</style>\n",
              "<table border=\"1\" class=\"dataframe\">\n",
              "  <thead>\n",
              "    <tr style=\"text-align: right;\">\n",
              "      <th></th>\n",
              "      <th>PassengerId</th>\n",
              "      <th>Pclass</th>\n",
              "      <th>Name</th>\n",
              "      <th>Sex</th>\n",
              "      <th>Age</th>\n",
              "      <th>SibSp</th>\n",
              "      <th>Parch</th>\n",
              "      <th>Ticket</th>\n",
              "      <th>Fare</th>\n",
              "      <th>Cabin</th>\n",
              "      <th>Embarked</th>\n",
              "    </tr>\n",
              "  </thead>\n",
              "  <tbody>\n",
              "    <tr>\n",
              "      <th>0</th>\n",
              "      <td>892</td>\n",
              "      <td>3</td>\n",
              "      <td>Kelly, Mr. James</td>\n",
              "      <td>male</td>\n",
              "      <td>34.5</td>\n",
              "      <td>0</td>\n",
              "      <td>0</td>\n",
              "      <td>330911</td>\n",
              "      <td>7.8292</td>\n",
              "      <td>NaN</td>\n",
              "      <td>Q</td>\n",
              "    </tr>\n",
              "    <tr>\n",
              "      <th>1</th>\n",
              "      <td>893</td>\n",
              "      <td>3</td>\n",
              "      <td>Wilkes, Mrs. James (Ellen Needs)</td>\n",
              "      <td>female</td>\n",
              "      <td>47.0</td>\n",
              "      <td>1</td>\n",
              "      <td>0</td>\n",
              "      <td>363272</td>\n",
              "      <td>7.0000</td>\n",
              "      <td>NaN</td>\n",
              "      <td>S</td>\n",
              "    </tr>\n",
              "    <tr>\n",
              "      <th>2</th>\n",
              "      <td>894</td>\n",
              "      <td>2</td>\n",
              "      <td>Myles, Mr. Thomas Francis</td>\n",
              "      <td>male</td>\n",
              "      <td>62.0</td>\n",
              "      <td>0</td>\n",
              "      <td>0</td>\n",
              "      <td>240276</td>\n",
              "      <td>9.6875</td>\n",
              "      <td>NaN</td>\n",
              "      <td>Q</td>\n",
              "    </tr>\n",
              "    <tr>\n",
              "      <th>3</th>\n",
              "      <td>895</td>\n",
              "      <td>3</td>\n",
              "      <td>Wirz, Mr. Albert</td>\n",
              "      <td>male</td>\n",
              "      <td>27.0</td>\n",
              "      <td>0</td>\n",
              "      <td>0</td>\n",
              "      <td>315154</td>\n",
              "      <td>8.6625</td>\n",
              "      <td>NaN</td>\n",
              "      <td>S</td>\n",
              "    </tr>\n",
              "    <tr>\n",
              "      <th>4</th>\n",
              "      <td>896</td>\n",
              "      <td>3</td>\n",
              "      <td>Hirvonen, Mrs. Alexander (Helga E Lindqvist)</td>\n",
              "      <td>female</td>\n",
              "      <td>22.0</td>\n",
              "      <td>1</td>\n",
              "      <td>1</td>\n",
              "      <td>3101298</td>\n",
              "      <td>12.2875</td>\n",
              "      <td>NaN</td>\n",
              "      <td>S</td>\n",
              "    </tr>\n",
              "    <tr>\n",
              "      <th>...</th>\n",
              "      <td>...</td>\n",
              "      <td>...</td>\n",
              "      <td>...</td>\n",
              "      <td>...</td>\n",
              "      <td>...</td>\n",
              "      <td>...</td>\n",
              "      <td>...</td>\n",
              "      <td>...</td>\n",
              "      <td>...</td>\n",
              "      <td>...</td>\n",
              "      <td>...</td>\n",
              "    </tr>\n",
              "    <tr>\n",
              "      <th>413</th>\n",
              "      <td>1305</td>\n",
              "      <td>3</td>\n",
              "      <td>Spector, Mr. Woolf</td>\n",
              "      <td>male</td>\n",
              "      <td>NaN</td>\n",
              "      <td>0</td>\n",
              "      <td>0</td>\n",
              "      <td>A.5. 3236</td>\n",
              "      <td>8.0500</td>\n",
              "      <td>NaN</td>\n",
              "      <td>S</td>\n",
              "    </tr>\n",
              "    <tr>\n",
              "      <th>414</th>\n",
              "      <td>1306</td>\n",
              "      <td>1</td>\n",
              "      <td>Oliva y Ocana, Dona. Fermina</td>\n",
              "      <td>female</td>\n",
              "      <td>39.0</td>\n",
              "      <td>0</td>\n",
              "      <td>0</td>\n",
              "      <td>PC 17758</td>\n",
              "      <td>108.9000</td>\n",
              "      <td>C105</td>\n",
              "      <td>C</td>\n",
              "    </tr>\n",
              "    <tr>\n",
              "      <th>415</th>\n",
              "      <td>1307</td>\n",
              "      <td>3</td>\n",
              "      <td>Saether, Mr. Simon Sivertsen</td>\n",
              "      <td>male</td>\n",
              "      <td>38.5</td>\n",
              "      <td>0</td>\n",
              "      <td>0</td>\n",
              "      <td>SOTON/O.Q. 3101262</td>\n",
              "      <td>7.2500</td>\n",
              "      <td>NaN</td>\n",
              "      <td>S</td>\n",
              "    </tr>\n",
              "    <tr>\n",
              "      <th>416</th>\n",
              "      <td>1308</td>\n",
              "      <td>3</td>\n",
              "      <td>Ware, Mr. Frederick</td>\n",
              "      <td>male</td>\n",
              "      <td>NaN</td>\n",
              "      <td>0</td>\n",
              "      <td>0</td>\n",
              "      <td>359309</td>\n",
              "      <td>8.0500</td>\n",
              "      <td>NaN</td>\n",
              "      <td>S</td>\n",
              "    </tr>\n",
              "    <tr>\n",
              "      <th>417</th>\n",
              "      <td>1309</td>\n",
              "      <td>3</td>\n",
              "      <td>Peter, Master. Michael J</td>\n",
              "      <td>male</td>\n",
              "      <td>NaN</td>\n",
              "      <td>1</td>\n",
              "      <td>1</td>\n",
              "      <td>2668</td>\n",
              "      <td>22.3583</td>\n",
              "      <td>NaN</td>\n",
              "      <td>C</td>\n",
              "    </tr>\n",
              "  </tbody>\n",
              "</table>\n",
              "<p>418 rows × 11 columns</p>\n",
              "</div>"
            ],
            "text/plain": [
              "     PassengerId  Pclass  ... Cabin Embarked\n",
              "0            892       3  ...   NaN        Q\n",
              "1            893       3  ...   NaN        S\n",
              "2            894       2  ...   NaN        Q\n",
              "3            895       3  ...   NaN        S\n",
              "4            896       3  ...   NaN        S\n",
              "..           ...     ...  ...   ...      ...\n",
              "413         1305       3  ...   NaN        S\n",
              "414         1306       1  ...  C105        C\n",
              "415         1307       3  ...   NaN        S\n",
              "416         1308       3  ...   NaN        S\n",
              "417         1309       3  ...   NaN        C\n",
              "\n",
              "[418 rows x 11 columns]"
            ]
          },
          "metadata": {
            "tags": []
          },
          "execution_count": 177
        }
      ]
    },
    {
      "cell_type": "code",
      "metadata": {
        "id": "JU9esxrAAtrW",
        "colab": {
          "base_uri": "https://localhost:8080/"
        },
        "outputId": "fe3c71c7-a636-48c3-e766-ed4029bf4710"
      },
      "source": [
        "test_df.info()"
      ],
      "execution_count": null,
      "outputs": [
        {
          "output_type": "stream",
          "text": [
            "<class 'pandas.core.frame.DataFrame'>\n",
            "RangeIndex: 418 entries, 0 to 417\n",
            "Data columns (total 11 columns):\n",
            " #   Column       Non-Null Count  Dtype  \n",
            "---  ------       --------------  -----  \n",
            " 0   PassengerId  418 non-null    int64  \n",
            " 1   Pclass       418 non-null    int64  \n",
            " 2   Name         418 non-null    object \n",
            " 3   Sex          418 non-null    object \n",
            " 4   Age          332 non-null    float64\n",
            " 5   SibSp        418 non-null    int64  \n",
            " 6   Parch        418 non-null    int64  \n",
            " 7   Ticket       418 non-null    object \n",
            " 8   Fare         417 non-null    float64\n",
            " 9   Cabin        91 non-null     object \n",
            " 10  Embarked     418 non-null    object \n",
            "dtypes: float64(2), int64(4), object(5)\n",
            "memory usage: 36.0+ KB\n"
          ],
          "name": "stdout"
        }
      ]
    },
    {
      "cell_type": "markdown",
      "metadata": {
        "id": "L0zHJUmvAtrW"
      },
      "source": [
        "Vamos a entender un poco los datos que tenemos:"
      ]
    },
    {
      "cell_type": "code",
      "metadata": {
        "id": "9Ui_Cu-XAtrW",
        "colab": {
          "base_uri": "https://localhost:8080/",
          "height": 312
        },
        "outputId": "aa27c04c-7cda-404b-bc35-74fce38c14ae"
      },
      "source": [
        "# Vamos a obtener una gráfica de los pasajeros\n",
        "train_df.Sex.value_counts().plot(kind = 'bar', color = ['b','r'])\n",
        "plt.title('Distribución de pasajeros dividido por género' )\n",
        "plt.show()"
      ],
      "execution_count": null,
      "outputs": [
        {
          "output_type": "display_data",
          "data": {
            "image/png": "[encoded data removed]",
            "text/plain": [
              "<Figure size 432x288 with 1 Axes>"
            ]
          },
          "metadata": {
            "tags": []
          }
        }
      ]
    },
    {
      "cell_type": "code",
      "metadata": {
        "id": "J_KYbRlQAtrW",
        "colab": {
          "base_uri": "https://localhost:8080/"
        },
        "outputId": "0098bb70-9697-4e07-f247-24e18ab87d13"
      },
      "source": [
        "# Ahora la lista de sobrevivientes según su genero\n",
        "survives = train_df.loc[train_df['Survived'] == 1]\n",
        "len(survives)"
      ],
      "execution_count": null,
      "outputs": [
        {
          "output_type": "execute_result",
          "data": {
            "text/plain": [
              "342"
            ]
          },
          "metadata": {
            "tags": []
          },
          "execution_count": 180
        }
      ]
    },
    {
      "cell_type": "code",
      "metadata": {
        "id": "gYJ8eSRuAtrX",
        "colab": {
          "base_uri": "https://localhost:8080/"
        },
        "outputId": "e64e33a3-e53f-4aff-e8a4-479930e3a02d"
      },
      "source": [
        "survive_men = survives.loc[survives['Sex'] == 'male']\n",
        "len(survive_men)"
      ],
      "execution_count": null,
      "outputs": [
        {
          "output_type": "execute_result",
          "data": {
            "text/plain": [
              "109"
            ]
          },
          "metadata": {
            "tags": []
          },
          "execution_count": 181
        }
      ]
    },
    {
      "cell_type": "code",
      "metadata": {
        "id": "YRJzUKKuAtrX",
        "colab": {
          "base_uri": "https://localhost:8080/"
        },
        "outputId": "a052cf05-aedb-4785-f1b2-8d0c81043d74"
      },
      "source": [
        "survive_wom = survives.loc[survives['Sex'] == 'female']\n",
        "len(survive_wom)"
      ],
      "execution_count": null,
      "outputs": [
        {
          "output_type": "execute_result",
          "data": {
            "text/plain": [
              "233"
            ]
          },
          "metadata": {
            "tags": []
          },
          "execution_count": 182
        }
      ]
    },
    {
      "cell_type": "code",
      "metadata": {
        "id": "EMve1V4LAtrX",
        "colab": {
          "base_uri": "https://localhost:8080/",
          "height": 329
        },
        "outputId": "a607a956-8c47-4e45-c9b3-c5df9d541cbe"
      },
      "source": [
        "survives.Sex.value_counts().plot(kind = 'bar', color = ['r','b'])\n",
        "plt.title('Distribución de sobrevivientes')"
      ],
      "execution_count": null,
      "outputs": [
        {
          "output_type": "execute_result",
          "data": {
            "text/plain": [
              "Text(0.5, 1.0, 'Distribución de sobrevivientes')"
            ]
          },
          "metadata": {
            "tags": []
          },
          "execution_count": 183
        },
        {
          "output_type": "display_data",
          "data": {
            "image/png": "[encoded data removed]",
            "text/plain": [
              "<Figure size 432x288 with 1 Axes>"
            ]
          },
          "metadata": {
            "tags": []
          }
        }
      ]
    },
    {
      "cell_type": "markdown",
      "metadata": {
        "id": "xGvzIGIsAtrX"
      },
      "source": [
        "---"
      ]
    },
    {
      "cell_type": "markdown",
      "metadata": {
        "id": "rIiglR3-AtrX"
      },
      "source": [
        "### Creando un clasificador con Scikit-Learn"
      ]
    },
    {
      "cell_type": "markdown",
      "metadata": {
        "id": "-x6FRWnnAtrX"
      },
      "source": [
        "Vamos a dividir nuestro data set"
      ]
    },
    {
      "cell_type": "code",
      "metadata": {
        "id": "cT0LNEIMAtrY"
      },
      "source": [
        "from sklearn import preprocessing # Importamos el módulo de preprocessing\n",
        "label_encoder = preprocessing.LabelEncoder() # Codifica las etiquetas con un valor entre 0 y n-1\n",
        "\n",
        "encoder_sex = label_encoder.fit_transform(train_df['Sex']) # Asigna valores 0 y 1 a la columna Sex"
      ],
      "execution_count": null,
      "outputs": []
    },
    {
      "cell_type": "code",
      "metadata": {
        "id": "KerEB4PeAtrY",
        "colab": {
          "base_uri": "https://localhost:8080/"
        },
        "outputId": "20ad1a34-eabd-4baf-9aeb-fc7efe45563f"
      },
      "source": [
        "encoder_sex"
      ],
      "execution_count": null,
      "outputs": [
        {
          "output_type": "execute_result",
          "data": {
            "text/plain": [
              "array([1, 0, 0, 0, 1, 1, 1, 1, 0, 0, 0, 0, 1, 1, 0, 0, 1, 1, 0, 0, 1, 1,\n",
              "       0, 1, 0, 0, 1, 1, 0, 1, 1, 0, 0, 1, 1, 1, 1, 1, 0, 0, 0, 0, 1, 0,\n",
              "       0, 1, 1, 0, 1, 0, 1, 1, 0, 0, 1, 1, 0, 1, 0, 1, 1, 0, 1, 1, 1, 1,\n",
              "       0, 1, 0, 1, 1, 0, 1, 1, 1, 1, 1, 1, 1, 0, 1, 1, 0, 1, 0, 0, 1, 1,\n",
              "       0, 1, 1, 1, 1, 1, 1, 1, 1, 1, 0, 1, 0, 1, 1, 1, 1, 1, 0, 1, 1, 0,\n",
              "       1, 0, 1, 0, 0, 1, 1, 1, 1, 0, 1, 1, 1, 0, 1, 1, 1, 1, 0, 1, 1, 1,\n",
              "       0, 0, 1, 1, 0, 1, 1, 1, 0, 0, 0, 1, 1, 1, 1, 0, 1, 1, 1, 0, 1, 1,\n",
              "       1, 1, 0, 1, 1, 1, 1, 0, 1, 1, 1, 1, 0, 0, 1, 1, 1, 1, 0, 1, 1, 1,\n",
              "       1, 0, 1, 1, 0, 1, 1, 1, 0, 1, 0, 1, 1, 1, 0, 1, 0, 1, 0, 0, 1, 1,\n",
              "       0, 0, 1, 1, 1, 1, 1, 0, 1, 1, 0, 1, 1, 0, 1, 1, 1, 0, 0, 1, 0, 1,\n",
              "       1, 1, 1, 1, 1, 1, 1, 1, 1, 0, 0, 1, 1, 0, 1, 0, 1, 0, 1, 1, 0, 0,\n",
              "       1, 1, 1, 1, 0, 0, 1, 1, 1, 0, 1, 1, 0, 0, 0, 0, 0, 0, 1, 1, 1, 1,\n",
              "       0, 1, 1, 1, 0, 0, 1, 1, 0, 1, 0, 0, 0, 1, 1, 0, 1, 1, 1, 1, 1, 1,\n",
              "       1, 1, 1, 0, 0, 0, 1, 0, 1, 1, 1, 0, 1, 0, 0, 1, 1, 0, 1, 1, 0, 0,\n",
              "       1, 0, 0, 0, 0, 1, 1, 0, 0, 1, 0, 0, 1, 1, 0, 0, 1, 0, 1, 0, 0, 0,\n",
              "       0, 1, 1, 1, 0, 1, 1, 0, 1, 1, 1, 0, 1, 1, 1, 0, 0, 0, 1, 1, 1, 1,\n",
              "       1, 1, 1, 1, 0, 0, 0, 0, 1, 1, 0, 1, 1, 1, 0, 0, 0, 0, 1, 1, 1, 1,\n",
              "       0, 0, 0, 1, 1, 1, 0, 0, 1, 0, 1, 1, 1, 0, 1, 0, 1, 1, 1, 0, 0, 1,\n",
              "       0, 1, 1, 0, 1, 1, 0, 1, 0, 1, 1, 1, 1, 0, 1, 1, 0, 1, 1, 0, 0, 0,\n",
              "       1, 0, 1, 1, 1, 0, 1, 1, 0, 0, 1, 1, 1, 0, 0, 1, 1, 0, 0, 0, 1, 1,\n",
              "       0, 1, 1, 0, 1, 1, 0, 1, 0, 1, 1, 1, 1, 1, 1, 1, 1, 0, 0, 1, 1, 1,\n",
              "       1, 1, 1, 1, 1, 1, 1, 0, 1, 1, 0, 0, 0, 1, 1, 1, 1, 0, 1, 1, 1, 0,\n",
              "       1, 0, 0, 1, 1, 1, 1, 1, 1, 1, 1, 1, 0, 1, 0, 1, 1, 0, 0, 0, 0, 1,\n",
              "       0, 1, 1, 1, 1, 1, 1, 0, 1, 1, 0, 1, 0, 1, 0, 1, 1, 0, 1, 1, 0, 1,\n",
              "       1, 1, 0, 1, 1, 0, 0, 0, 1, 0, 1, 0, 0, 0, 0, 1, 1, 1, 0, 1, 1, 1,\n",
              "       1, 1, 1, 1, 0, 1, 0, 1, 0, 0, 1, 1, 1, 1, 0, 1, 1, 0, 1, 1, 1, 0,\n",
              "       1, 0, 1, 1, 0, 0, 0, 1, 0, 0, 1, 1, 1, 0, 1, 1, 1, 1, 1, 0, 1, 0,\n",
              "       1, 1, 0, 1, 1, 1, 0, 1, 1, 1, 1, 1, 1, 1, 0, 0, 0, 1, 0, 1, 1, 0,\n",
              "       1, 0, 0, 1, 1, 1, 1, 1, 1, 1, 1, 0, 1, 1, 1, 1, 1, 1, 0, 0, 1, 1,\n",
              "       0, 1, 1, 0, 0, 1, 0, 1, 1, 1, 1, 0, 1, 0, 1, 0, 0, 1, 1, 0, 1, 1,\n",
              "       1, 1, 1, 1, 1, 1, 1, 1, 1, 0, 0, 1, 1, 1, 1, 1, 1, 0, 0, 1, 0, 1,\n",
              "       1, 1, 1, 1, 1, 1, 1, 0, 1, 0, 1, 1, 1, 1, 1, 0, 1, 1, 0, 1, 0, 1,\n",
              "       1, 1, 0, 1, 0, 1, 0, 1, 1, 1, 1, 1, 0, 0, 1, 1, 0, 1, 1, 1, 1, 1,\n",
              "       0, 0, 1, 0, 0, 1, 1, 1, 1, 1, 0, 1, 1, 1, 1, 1, 0, 1, 1, 1, 1, 0,\n",
              "       1, 1, 0, 1, 1, 1, 0, 1, 1, 1, 1, 0, 1, 1, 1, 0, 1, 0, 1, 0, 1, 1,\n",
              "       1, 1, 0, 1, 0, 1, 1, 0, 1, 0, 0, 0, 1, 1, 1, 1, 0, 1, 1, 1, 1, 1,\n",
              "       0, 1, 1, 1, 0, 0, 1, 0, 1, 0, 1, 1, 1, 1, 1, 0, 1, 0, 1, 1, 1, 0,\n",
              "       1, 1, 0, 1, 1, 1, 0, 1, 1, 0, 1, 1, 1, 1, 1, 0, 0, 1, 1, 1, 1, 0,\n",
              "       1, 1, 1, 1, 1, 1, 0, 1, 1, 1, 1, 1, 1, 0, 1, 1, 0, 0, 0, 0, 0, 1,\n",
              "       0, 1, 1, 1, 0, 0, 1, 0, 0, 1, 1, 1, 1, 0, 1, 1, 0, 0, 1, 1, 1, 0,\n",
              "       0, 1, 0, 1, 1, 0, 1, 0, 0, 1, 1])"
            ]
          },
          "metadata": {
            "tags": []
          },
          "execution_count": 185
        }
      ]
    },
    {
      "cell_type": "markdown",
      "metadata": {
        "id": "vwZIJjnwAtrY"
      },
      "source": [
        "Traemos la cabecera de nuestro data frame de entrenamiento para recordar las columnas y sus valores"
      ]
    },
    {
      "cell_type": "code",
      "metadata": {
        "id": "uJcQ9Z8nAtrY",
        "colab": {
          "base_uri": "https://localhost:8080/",
          "height": 203
        },
        "outputId": "a4356869-d758-42df-a0d2-775981bef090"
      },
      "source": [
        "train_df.head()"
      ],
      "execution_count": null,
      "outputs": [
        {
          "output_type": "execute_result",
          "data": {
            "text/html": [
              "<div>\n",
              "<style scoped>\n",
              "    .dataframe tbody tr th:only-of-type {\n",
              "        vertical-align: middle;\n",
              "    }\n",
              "\n",
              "    .dataframe tbody tr th {\n",
              "        vertical-align: top;\n",
              "    }\n",
              "\n",
              "    .dataframe thead th {\n",
              "        text-align: right;\n",
              "    }\n",
              "</style>\n",
              "<table border=\"1\" class=\"dataframe\">\n",
              "  <thead>\n",
              "    <tr style=\"text-align: right;\">\n",
              "      <th></th>\n",
              "      <th>PassengerId</th>\n",
              "      <th>Survived</th>\n",
              "      <th>Pclass</th>\n",
              "      <th>Name</th>\n",
              "      <th>Sex</th>\n",
              "      <th>Age</th>\n",
              "      <th>SibSp</th>\n",
              "      <th>Parch</th>\n",
              "      <th>Ticket</th>\n",
              "      <th>Fare</th>\n",
              "      <th>Cabin</th>\n",
              "      <th>Embarked</th>\n",
              "    </tr>\n",
              "  </thead>\n",
              "  <tbody>\n",
              "    <tr>\n",
              "      <th>0</th>\n",
              "      <td>1</td>\n",
              "      <td>0</td>\n",
              "      <td>3</td>\n",
              "      <td>Braund, Mr. Owen Harris</td>\n",
              "      <td>male</td>\n",
              "      <td>22.0</td>\n",
              "      <td>1</td>\n",
              "      <td>0</td>\n",
              "      <td>A/5 21171</td>\n",
              "      <td>7.2500</td>\n",
              "      <td>NaN</td>\n",
              "      <td>S</td>\n",
              "    </tr>\n",
              "    <tr>\n",
              "      <th>1</th>\n",
              "      <td>2</td>\n",
              "      <td>1</td>\n",
              "      <td>1</td>\n",
              "      <td>Cumings, Mrs. John Bradley (Florence Briggs Th...</td>\n",
              "      <td>female</td>\n",
              "      <td>38.0</td>\n",
              "      <td>1</td>\n",
              "      <td>0</td>\n",
              "      <td>PC 17599</td>\n",
              "      <td>71.2833</td>\n",
              "      <td>C85</td>\n",
              "      <td>C</td>\n",
              "    </tr>\n",
              "    <tr>\n",
              "      <th>2</th>\n",
              "      <td>3</td>\n",
              "      <td>1</td>\n",
              "      <td>3</td>\n",
              "      <td>Heikkinen, Miss. Laina</td>\n",
              "      <td>female</td>\n",
              "      <td>26.0</td>\n",
              "      <td>0</td>\n",
              "      <td>0</td>\n",
              "      <td>STON/O2. 3101282</td>\n",
              "      <td>7.9250</td>\n",
              "      <td>NaN</td>\n",
              "      <td>S</td>\n",
              "    </tr>\n",
              "    <tr>\n",
              "      <th>3</th>\n",
              "      <td>4</td>\n",
              "      <td>1</td>\n",
              "      <td>1</td>\n",
              "      <td>Futrelle, Mrs. Jacques Heath (Lily May Peel)</td>\n",
              "      <td>female</td>\n",
              "      <td>35.0</td>\n",
              "      <td>1</td>\n",
              "      <td>0</td>\n",
              "      <td>113803</td>\n",
              "      <td>53.1000</td>\n",
              "      <td>C123</td>\n",
              "      <td>S</td>\n",
              "    </tr>\n",
              "    <tr>\n",
              "      <th>4</th>\n",
              "      <td>5</td>\n",
              "      <td>0</td>\n",
              "      <td>3</td>\n",
              "      <td>Allen, Mr. William Henry</td>\n",
              "      <td>male</td>\n",
              "      <td>35.0</td>\n",
              "      <td>0</td>\n",
              "      <td>0</td>\n",
              "      <td>373450</td>\n",
              "      <td>8.0500</td>\n",
              "      <td>NaN</td>\n",
              "      <td>S</td>\n",
              "    </tr>\n",
              "  </tbody>\n",
              "</table>\n",
              "</div>"
            ],
            "text/plain": [
              "   PassengerId  Survived  Pclass  ...     Fare Cabin  Embarked\n",
              "0            1         0       3  ...   7.2500   NaN         S\n",
              "1            2         1       1  ...  71.2833   C85         C\n",
              "2            3         1       3  ...   7.9250   NaN         S\n",
              "3            4         1       1  ...  53.1000  C123         S\n",
              "4            5         0       3  ...   8.0500   NaN         S\n",
              "\n",
              "[5 rows x 12 columns]"
            ]
          },
          "metadata": {
            "tags": []
          },
          "execution_count": 186
        }
      ]
    },
    {
      "cell_type": "markdown",
      "metadata": {
        "id": "FoRmLW_xAtrY"
      },
      "source": [
        "Recordemos que los árboles de decisión si se ven afectado por los datos nulos, por lo que hay que arreglar eso en el caso de tenerlos."
      ]
    },
    {
      "cell_type": "markdown",
      "metadata": {
        "id": "irVH8wcNAtrY"
      },
      "source": [
        "Para saber que variables tienen valores faltantes podemos utilizar:"
      ]
    },
    {
      "cell_type": "code",
      "metadata": {
        "scrolled": false,
        "id": "B6TKJT2gAtrZ",
        "colab": {
          "base_uri": "https://localhost:8080/",
          "height": 417
        },
        "outputId": "e8900a69-e284-455e-a890-d0d77401c593"
      },
      "source": [
        "a =train_df.isnull()\n",
        "a"
      ],
      "execution_count": null,
      "outputs": [
        {
          "output_type": "execute_result",
          "data": {
            "text/html": [
              "<div>\n",
              "<style scoped>\n",
              "    .dataframe tbody tr th:only-of-type {\n",
              "        vertical-align: middle;\n",
              "    }\n",
              "\n",
              "    .dataframe tbody tr th {\n",
              "        vertical-align: top;\n",
              "    }\n",
              "\n",
              "    .dataframe thead th {\n",
              "        text-align: right;\n",
              "    }\n",
              "</style>\n",
              "<table border=\"1\" class=\"dataframe\">\n",
              "  <thead>\n",
              "    <tr style=\"text-align: right;\">\n",
              "      <th></th>\n",
              "      <th>PassengerId</th>\n",
              "      <th>Survived</th>\n",
              "      <th>Pclass</th>\n",
              "      <th>Name</th>\n",
              "      <th>Sex</th>\n",
              "      <th>Age</th>\n",
              "      <th>SibSp</th>\n",
              "      <th>Parch</th>\n",
              "      <th>Ticket</th>\n",
              "      <th>Fare</th>\n",
              "      <th>Cabin</th>\n",
              "      <th>Embarked</th>\n",
              "    </tr>\n",
              "  </thead>\n",
              "  <tbody>\n",
              "    <tr>\n",
              "      <th>0</th>\n",
              "      <td>False</td>\n",
              "      <td>False</td>\n",
              "      <td>False</td>\n",
              "      <td>False</td>\n",
              "      <td>False</td>\n",
              "      <td>False</td>\n",
              "      <td>False</td>\n",
              "      <td>False</td>\n",
              "      <td>False</td>\n",
              "      <td>False</td>\n",
              "      <td>True</td>\n",
              "      <td>False</td>\n",
              "    </tr>\n",
              "    <tr>\n",
              "      <th>1</th>\n",
              "      <td>False</td>\n",
              "      <td>False</td>\n",
              "      <td>False</td>\n",
              "      <td>False</td>\n",
              "      <td>False</td>\n",
              "      <td>False</td>\n",
              "      <td>False</td>\n",
              "      <td>False</td>\n",
              "      <td>False</td>\n",
              "      <td>False</td>\n",
              "      <td>False</td>\n",
              "      <td>False</td>\n",
              "    </tr>\n",
              "    <tr>\n",
              "      <th>2</th>\n",
              "      <td>False</td>\n",
              "      <td>False</td>\n",
              "      <td>False</td>\n",
              "      <td>False</td>\n",
              "      <td>False</td>\n",
              "      <td>False</td>\n",
              "      <td>False</td>\n",
              "      <td>False</td>\n",
              "      <td>False</td>\n",
              "      <td>False</td>\n",
              "      <td>True</td>\n",
              "      <td>False</td>\n",
              "    </tr>\n",
              "    <tr>\n",
              "      <th>3</th>\n",
              "      <td>False</td>\n",
              "      <td>False</td>\n",
              "      <td>False</td>\n",
              "      <td>False</td>\n",
              "      <td>False</td>\n",
              "      <td>False</td>\n",
              "      <td>False</td>\n",
              "      <td>False</td>\n",
              "      <td>False</td>\n",
              "      <td>False</td>\n",
              "      <td>False</td>\n",
              "      <td>False</td>\n",
              "    </tr>\n",
              "    <tr>\n",
              "      <th>4</th>\n",
              "      <td>False</td>\n",
              "      <td>False</td>\n",
              "      <td>False</td>\n",
              "      <td>False</td>\n",
              "      <td>False</td>\n",
              "      <td>False</td>\n",
              "      <td>False</td>\n",
              "      <td>False</td>\n",
              "      <td>False</td>\n",
              "      <td>False</td>\n",
              "      <td>True</td>\n",
              "      <td>False</td>\n",
              "    </tr>\n",
              "    <tr>\n",
              "      <th>...</th>\n",
              "      <td>...</td>\n",
              "      <td>...</td>\n",
              "      <td>...</td>\n",
              "      <td>...</td>\n",
              "      <td>...</td>\n",
              "      <td>...</td>\n",
              "      <td>...</td>\n",
              "      <td>...</td>\n",
              "      <td>...</td>\n",
              "      <td>...</td>\n",
              "      <td>...</td>\n",
              "      <td>...</td>\n",
              "    </tr>\n",
              "    <tr>\n",
              "      <th>886</th>\n",
              "      <td>False</td>\n",
              "      <td>False</td>\n",
              "      <td>False</td>\n",
              "      <td>False</td>\n",
              "      <td>False</td>\n",
              "      <td>False</td>\n",
              "      <td>False</td>\n",
              "      <td>False</td>\n",
              "      <td>False</td>\n",
              "      <td>False</td>\n",
              "      <td>True</td>\n",
              "      <td>False</td>\n",
              "    </tr>\n",
              "    <tr>\n",
              "      <th>887</th>\n",
              "      <td>False</td>\n",
              "      <td>False</td>\n",
              "      <td>False</td>\n",
              "      <td>False</td>\n",
              "      <td>False</td>\n",
              "      <td>False</td>\n",
              "      <td>False</td>\n",
              "      <td>False</td>\n",
              "      <td>False</td>\n",
              "      <td>False</td>\n",
              "      <td>False</td>\n",
              "      <td>False</td>\n",
              "    </tr>\n",
              "    <tr>\n",
              "      <th>888</th>\n",
              "      <td>False</td>\n",
              "      <td>False</td>\n",
              "      <td>False</td>\n",
              "      <td>False</td>\n",
              "      <td>False</td>\n",
              "      <td>True</td>\n",
              "      <td>False</td>\n",
              "      <td>False</td>\n",
              "      <td>False</td>\n",
              "      <td>False</td>\n",
              "      <td>True</td>\n",
              "      <td>False</td>\n",
              "    </tr>\n",
              "    <tr>\n",
              "      <th>889</th>\n",
              "      <td>False</td>\n",
              "      <td>False</td>\n",
              "      <td>False</td>\n",
              "      <td>False</td>\n",
              "      <td>False</td>\n",
              "      <td>False</td>\n",
              "      <td>False</td>\n",
              "      <td>False</td>\n",
              "      <td>False</td>\n",
              "      <td>False</td>\n",
              "      <td>False</td>\n",
              "      <td>False</td>\n",
              "    </tr>\n",
              "    <tr>\n",
              "      <th>890</th>\n",
              "      <td>False</td>\n",
              "      <td>False</td>\n",
              "      <td>False</td>\n",
              "      <td>False</td>\n",
              "      <td>False</td>\n",
              "      <td>False</td>\n",
              "      <td>False</td>\n",
              "      <td>False</td>\n",
              "      <td>False</td>\n",
              "      <td>False</td>\n",
              "      <td>True</td>\n",
              "      <td>False</td>\n",
              "    </tr>\n",
              "  </tbody>\n",
              "</table>\n",
              "<p>891 rows × 12 columns</p>\n",
              "</div>"
            ],
            "text/plain": [
              "     PassengerId  Survived  Pclass   Name  ...  Ticket   Fare  Cabin  Embarked\n",
              "0          False     False   False  False  ...   False  False   True     False\n",
              "1          False     False   False  False  ...   False  False  False     False\n",
              "2          False     False   False  False  ...   False  False   True     False\n",
              "3          False     False   False  False  ...   False  False  False     False\n",
              "4          False     False   False  False  ...   False  False   True     False\n",
              "..           ...       ...     ...    ...  ...     ...    ...    ...       ...\n",
              "886        False     False   False  False  ...   False  False   True     False\n",
              "887        False     False   False  False  ...   False  False  False     False\n",
              "888        False     False   False  False  ...   False  False   True     False\n",
              "889        False     False   False  False  ...   False  False  False     False\n",
              "890        False     False   False  False  ...   False  False   True     False\n",
              "\n",
              "[891 rows x 12 columns]"
            ]
          },
          "metadata": {
            "tags": []
          },
          "execution_count": 187
        }
      ]
    },
    {
      "cell_type": "markdown",
      "metadata": {
        "id": "IC6RDnooAtrZ"
      },
      "source": [
        "O para saber si existe al menos una espacio en blanco podemos utilizar:"
      ]
    },
    {
      "cell_type": "code",
      "metadata": {
        "id": "2SwXobzyAtrZ",
        "colab": {
          "base_uri": "https://localhost:8080/"
        },
        "outputId": "18c647bc-285f-4932-dcaa-9e0bf403ca86"
      },
      "source": [
        "b = train_df.isnull().any()\n",
        "b"
      ],
      "execution_count": null,
      "outputs": [
        {
          "output_type": "execute_result",
          "data": {
            "text/plain": [
              "PassengerId    False\n",
              "Survived       False\n",
              "Pclass         False\n",
              "Name           False\n",
              "Sex            False\n",
              "Age             True\n",
              "SibSp          False\n",
              "Parch          False\n",
              "Ticket         False\n",
              "Fare           False\n",
              "Cabin           True\n",
              "Embarked        True\n",
              "dtype: bool"
            ]
          },
          "metadata": {
            "tags": []
          },
          "execution_count": 188
        }
      ]
    },
    {
      "cell_type": "markdown",
      "metadata": {
        "id": "5487C-m6AtrZ"
      },
      "source": [
        "Podemos ver que las variables `Age`, `Cabin` y `Embarked` tienen valores nulos. Así que vamos a corregirlos (en este caso `Cabin` no nos importa mucho)."
      ]
    },
    {
      "cell_type": "code",
      "metadata": {
        "id": "fv8IrxFIAtrZ"
      },
      "source": [
        "# Rellenamos posibles datos nulos con la media\n",
        "train_df['Age'] = train_df['Age'].fillna(train_df['Age'].median())\n",
        "# Rellenamos posibles datos nulos con 'S'\n",
        "train_df['Embarked'] = train_df['Embarked'].fillna('S')"
      ],
      "execution_count": null,
      "outputs": []
    },
    {
      "cell_type": "markdown",
      "metadata": {
        "id": "-CQ7Jx0CAtrZ"
      },
      "source": [
        "Ya tenemos la información lista para seguir trabajando. Ahora, vamos a trabajar con nuestros predictores y para ello vamos a eliminar los atributos que no nos serán útiles."
      ]
    },
    {
      "cell_type": "markdown",
      "metadata": {
        "id": "3_UJhGwHAtra"
      },
      "source": [
        "Con `.drop` estamos eliminando las variables que no son de interés en el caso de su parámetro `axis` nos está indicando con `x=1` que hacemos referencia a las **columnas**, mientras que con `x=0` hacemos referencia a las filas."
      ]
    },
    {
      "cell_type": "code",
      "metadata": {
        "id": "TBQCoXzYAtra",
        "colab": {
          "base_uri": "https://localhost:8080/",
          "height": 417
        },
        "outputId": "4a80287b-3fee-46d0-c078-d427ff54396f"
      },
      "source": [
        "# Aquí quitamos los parámetros que no nos sirven \n",
        "# o que queremos que el modelo encuentre  como en el caso de \"Survived\"\n",
        "train_predictors = train_df.drop(['PassengerId', 'Survived', 'Name', 'Ticket', 'Cabin'], axis = 1 )\n",
        "\n",
        "train_predictors"
      ],
      "execution_count": null,
      "outputs": [
        {
          "output_type": "execute_result",
          "data": {
            "text/html": [
              "<div>\n",
              "<style scoped>\n",
              "    .dataframe tbody tr th:only-of-type {\n",
              "        vertical-align: middle;\n",
              "    }\n",
              "\n",
              "    .dataframe tbody tr th {\n",
              "        vertical-align: top;\n",
              "    }\n",
              "\n",
              "    .dataframe thead th {\n",
              "        text-align: right;\n",
              "    }\n",
              "</style>\n",
              "<table border=\"1\" class=\"dataframe\">\n",
              "  <thead>\n",
              "    <tr style=\"text-align: right;\">\n",
              "      <th></th>\n",
              "      <th>Pclass</th>\n",
              "      <th>Sex</th>\n",
              "      <th>Age</th>\n",
              "      <th>SibSp</th>\n",
              "      <th>Parch</th>\n",
              "      <th>Fare</th>\n",
              "      <th>Embarked</th>\n",
              "    </tr>\n",
              "  </thead>\n",
              "  <tbody>\n",
              "    <tr>\n",
              "      <th>0</th>\n",
              "      <td>3</td>\n",
              "      <td>male</td>\n",
              "      <td>22.0</td>\n",
              "      <td>1</td>\n",
              "      <td>0</td>\n",
              "      <td>7.2500</td>\n",
              "      <td>S</td>\n",
              "    </tr>\n",
              "    <tr>\n",
              "      <th>1</th>\n",
              "      <td>1</td>\n",
              "      <td>female</td>\n",
              "      <td>38.0</td>\n",
              "      <td>1</td>\n",
              "      <td>0</td>\n",
              "      <td>71.2833</td>\n",
              "      <td>C</td>\n",
              "    </tr>\n",
              "    <tr>\n",
              "      <th>2</th>\n",
              "      <td>3</td>\n",
              "      <td>female</td>\n",
              "      <td>26.0</td>\n",
              "      <td>0</td>\n",
              "      <td>0</td>\n",
              "      <td>7.9250</td>\n",
              "      <td>S</td>\n",
              "    </tr>\n",
              "    <tr>\n",
              "      <th>3</th>\n",
              "      <td>1</td>\n",
              "      <td>female</td>\n",
              "      <td>35.0</td>\n",
              "      <td>1</td>\n",
              "      <td>0</td>\n",
              "      <td>53.1000</td>\n",
              "      <td>S</td>\n",
              "    </tr>\n",
              "    <tr>\n",
              "      <th>4</th>\n",
              "      <td>3</td>\n",
              "      <td>male</td>\n",
              "      <td>35.0</td>\n",
              "      <td>0</td>\n",
              "      <td>0</td>\n",
              "      <td>8.0500</td>\n",
              "      <td>S</td>\n",
              "    </tr>\n",
              "    <tr>\n",
              "      <th>...</th>\n",
              "      <td>...</td>\n",
              "      <td>...</td>\n",
              "      <td>...</td>\n",
              "      <td>...</td>\n",
              "      <td>...</td>\n",
              "      <td>...</td>\n",
              "      <td>...</td>\n",
              "    </tr>\n",
              "    <tr>\n",
              "      <th>886</th>\n",
              "      <td>2</td>\n",
              "      <td>male</td>\n",
              "      <td>27.0</td>\n",
              "      <td>0</td>\n",
              "      <td>0</td>\n",
              "      <td>13.0000</td>\n",
              "      <td>S</td>\n",
              "    </tr>\n",
              "    <tr>\n",
              "      <th>887</th>\n",
              "      <td>1</td>\n",
              "      <td>female</td>\n",
              "      <td>19.0</td>\n",
              "      <td>0</td>\n",
              "      <td>0</td>\n",
              "      <td>30.0000</td>\n",
              "      <td>S</td>\n",
              "    </tr>\n",
              "    <tr>\n",
              "      <th>888</th>\n",
              "      <td>3</td>\n",
              "      <td>female</td>\n",
              "      <td>28.0</td>\n",
              "      <td>1</td>\n",
              "      <td>2</td>\n",
              "      <td>23.4500</td>\n",
              "      <td>S</td>\n",
              "    </tr>\n",
              "    <tr>\n",
              "      <th>889</th>\n",
              "      <td>1</td>\n",
              "      <td>male</td>\n",
              "      <td>26.0</td>\n",
              "      <td>0</td>\n",
              "      <td>0</td>\n",
              "      <td>30.0000</td>\n",
              "      <td>C</td>\n",
              "    </tr>\n",
              "    <tr>\n",
              "      <th>890</th>\n",
              "      <td>3</td>\n",
              "      <td>male</td>\n",
              "      <td>32.0</td>\n",
              "      <td>0</td>\n",
              "      <td>0</td>\n",
              "      <td>7.7500</td>\n",
              "      <td>Q</td>\n",
              "    </tr>\n",
              "  </tbody>\n",
              "</table>\n",
              "<p>891 rows × 7 columns</p>\n",
              "</div>"
            ],
            "text/plain": [
              "     Pclass     Sex   Age  SibSp  Parch     Fare Embarked\n",
              "0         3    male  22.0      1      0   7.2500        S\n",
              "1         1  female  38.0      1      0  71.2833        C\n",
              "2         3  female  26.0      0      0   7.9250        S\n",
              "3         1  female  35.0      1      0  53.1000        S\n",
              "4         3    male  35.0      0      0   8.0500        S\n",
              "..      ...     ...   ...    ...    ...      ...      ...\n",
              "886       2    male  27.0      0      0  13.0000        S\n",
              "887       1  female  19.0      0      0  30.0000        S\n",
              "888       3  female  28.0      1      2  23.4500        S\n",
              "889       1    male  26.0      0      0  30.0000        C\n",
              "890       3    male  32.0      0      0   7.7500        Q\n",
              "\n",
              "[891 rows x 7 columns]"
            ]
          },
          "metadata": {
            "tags": []
          },
          "execution_count": 190
        }
      ]
    },
    {
      "cell_type": "markdown",
      "metadata": {
        "id": "FyLbIEf1Atra"
      },
      "source": [
        "la siguiente sintaxis la conocemos de los list comprehensions así que será familiar"
      ]
    },
    {
      "cell_type": "code",
      "metadata": {
        "id": "0caYHLPdAtra"
      },
      "source": [
        "# También separamos los datos categoricos recorriendo las columnas de la variable anterior\n",
        "categorical_cols = [cname for cname in train_predictors.columns if \n",
        "                    train_predictors[cname].nunique() < 10 and # Si es un dato unico menor a 10\n",
        "                    train_predictors[cname].dtype == 'object' # Si es un tipo de dato objeto\n",
        "                                                              # entonces la definimos como categorica\n",
        "                    ]"
      ],
      "execution_count": null,
      "outputs": []
    },
    {
      "cell_type": "code",
      "metadata": {
        "id": "2W1ZypvIAtra",
        "colab": {
          "base_uri": "https://localhost:8080/"
        },
        "outputId": "01638a83-9c9f-4708-f0cc-e866d9c79178"
      },
      "source": [
        "categorical_cols"
      ],
      "execution_count": null,
      "outputs": [
        {
          "output_type": "execute_result",
          "data": {
            "text/plain": [
              "['Sex', 'Embarked']"
            ]
          },
          "metadata": {
            "tags": []
          },
          "execution_count": 192
        }
      ]
    },
    {
      "cell_type": "markdown",
      "metadata": {
        "id": "DHpzsU7ZAtrb"
      },
      "source": [
        "Como vemos, estamos separando aquellos datos en donde tenemos strings en lugar de números, estás son variables categóricas que hay que trabajar de una manera distinta y por ello las excluimos."
      ]
    },
    {
      "cell_type": "markdown",
      "metadata": {
        "id": "g2BLbcAzAtrb"
      },
      "source": [
        "Ahora, vamos a separar nuestras variables numéricas"
      ]
    },
    {
      "cell_type": "code",
      "metadata": {
        "id": "sWcwDWAyAtrb"
      },
      "source": [
        "numerical_cols = [cname for cname in train_predictors.columns if\n",
        "                  train_predictors[cname].dtype in ['int64','float64'] # Si es numérico\n",
        "                 ]"
      ],
      "execution_count": null,
      "outputs": []
    },
    {
      "cell_type": "code",
      "metadata": {
        "id": "CVyw3daGAtrb",
        "colab": {
          "base_uri": "https://localhost:8080/"
        },
        "outputId": "e0d53fab-7891-4eb8-8030-1468aff70adf"
      },
      "source": [
        "numerical_cols"
      ],
      "execution_count": null,
      "outputs": [
        {
          "output_type": "execute_result",
          "data": {
            "text/plain": [
              "['Pclass', 'Age', 'SibSp', 'Parch', 'Fare']"
            ]
          },
          "metadata": {
            "tags": []
          },
          "execution_count": 194
        }
      ]
    },
    {
      "cell_type": "markdown",
      "metadata": {
        "id": "h7PIo48oAtrb"
      },
      "source": [
        "y las agregamos en una sola variable"
      ]
    },
    {
      "cell_type": "code",
      "metadata": {
        "id": "H1Qz1QubAtrb"
      },
      "source": [
        "my_cols = categorical_cols + numerical_cols"
      ],
      "execution_count": null,
      "outputs": []
    },
    {
      "cell_type": "code",
      "metadata": {
        "id": "jg9pqkLvAtrc",
        "colab": {
          "base_uri": "https://localhost:8080/"
        },
        "outputId": "b7de6aee-9926-4875-bb8c-aab0c9bb2772"
      },
      "source": [
        "my_cols"
      ],
      "execution_count": null,
      "outputs": [
        {
          "output_type": "execute_result",
          "data": {
            "text/plain": [
              "['Sex', 'Embarked', 'Pclass', 'Age', 'SibSp', 'Parch', 'Fare']"
            ]
          },
          "metadata": {
            "tags": []
          },
          "execution_count": 196
        }
      ]
    },
    {
      "cell_type": "markdown",
      "metadata": {
        "id": "c4OjSpvOAtrc"
      },
      "source": [
        "Y lo asignamos en nuestra variable `train predictors`:"
      ]
    },
    {
      "cell_type": "code",
      "metadata": {
        "id": "mVhugEkYAtrc",
        "colab": {
          "base_uri": "https://localhost:8080/",
          "height": 417
        },
        "outputId": "9034681e-76db-4a9c-f9e2-77e79c270810"
      },
      "source": [
        "train_predictors = train_predictors[my_cols]\n",
        "train_predictors"
      ],
      "execution_count": null,
      "outputs": [
        {
          "output_type": "execute_result",
          "data": {
            "text/html": [
              "<div>\n",
              "<style scoped>\n",
              "    .dataframe tbody tr th:only-of-type {\n",
              "        vertical-align: middle;\n",
              "    }\n",
              "\n",
              "    .dataframe tbody tr th {\n",
              "        vertical-align: top;\n",
              "    }\n",
              "\n",
              "    .dataframe thead th {\n",
              "        text-align: right;\n",
              "    }\n",
              "</style>\n",
              "<table border=\"1\" class=\"dataframe\">\n",
              "  <thead>\n",
              "    <tr style=\"text-align: right;\">\n",
              "      <th></th>\n",
              "      <th>Sex</th>\n",
              "      <th>Embarked</th>\n",
              "      <th>Pclass</th>\n",
              "      <th>Age</th>\n",
              "      <th>SibSp</th>\n",
              "      <th>Parch</th>\n",
              "      <th>Fare</th>\n",
              "    </tr>\n",
              "  </thead>\n",
              "  <tbody>\n",
              "    <tr>\n",
              "      <th>0</th>\n",
              "      <td>male</td>\n",
              "      <td>S</td>\n",
              "      <td>3</td>\n",
              "      <td>22.0</td>\n",
              "      <td>1</td>\n",
              "      <td>0</td>\n",
              "      <td>7.2500</td>\n",
              "    </tr>\n",
              "    <tr>\n",
              "      <th>1</th>\n",
              "      <td>female</td>\n",
              "      <td>C</td>\n",
              "      <td>1</td>\n",
              "      <td>38.0</td>\n",
              "      <td>1</td>\n",
              "      <td>0</td>\n",
              "      <td>71.2833</td>\n",
              "    </tr>\n",
              "    <tr>\n",
              "      <th>2</th>\n",
              "      <td>female</td>\n",
              "      <td>S</td>\n",
              "      <td>3</td>\n",
              "      <td>26.0</td>\n",
              "      <td>0</td>\n",
              "      <td>0</td>\n",
              "      <td>7.9250</td>\n",
              "    </tr>\n",
              "    <tr>\n",
              "      <th>3</th>\n",
              "      <td>female</td>\n",
              "      <td>S</td>\n",
              "      <td>1</td>\n",
              "      <td>35.0</td>\n",
              "      <td>1</td>\n",
              "      <td>0</td>\n",
              "      <td>53.1000</td>\n",
              "    </tr>\n",
              "    <tr>\n",
              "      <th>4</th>\n",
              "      <td>male</td>\n",
              "      <td>S</td>\n",
              "      <td>3</td>\n",
              "      <td>35.0</td>\n",
              "      <td>0</td>\n",
              "      <td>0</td>\n",
              "      <td>8.0500</td>\n",
              "    </tr>\n",
              "    <tr>\n",
              "      <th>...</th>\n",
              "      <td>...</td>\n",
              "      <td>...</td>\n",
              "      <td>...</td>\n",
              "      <td>...</td>\n",
              "      <td>...</td>\n",
              "      <td>...</td>\n",
              "      <td>...</td>\n",
              "    </tr>\n",
              "    <tr>\n",
              "      <th>886</th>\n",
              "      <td>male</td>\n",
              "      <td>S</td>\n",
              "      <td>2</td>\n",
              "      <td>27.0</td>\n",
              "      <td>0</td>\n",
              "      <td>0</td>\n",
              "      <td>13.0000</td>\n",
              "    </tr>\n",
              "    <tr>\n",
              "      <th>887</th>\n",
              "      <td>female</td>\n",
              "      <td>S</td>\n",
              "      <td>1</td>\n",
              "      <td>19.0</td>\n",
              "      <td>0</td>\n",
              "      <td>0</td>\n",
              "      <td>30.0000</td>\n",
              "    </tr>\n",
              "    <tr>\n",
              "      <th>888</th>\n",
              "      <td>female</td>\n",
              "      <td>S</td>\n",
              "      <td>3</td>\n",
              "      <td>28.0</td>\n",
              "      <td>1</td>\n",
              "      <td>2</td>\n",
              "      <td>23.4500</td>\n",
              "    </tr>\n",
              "    <tr>\n",
              "      <th>889</th>\n",
              "      <td>male</td>\n",
              "      <td>C</td>\n",
              "      <td>1</td>\n",
              "      <td>26.0</td>\n",
              "      <td>0</td>\n",
              "      <td>0</td>\n",
              "      <td>30.0000</td>\n",
              "    </tr>\n",
              "    <tr>\n",
              "      <th>890</th>\n",
              "      <td>male</td>\n",
              "      <td>Q</td>\n",
              "      <td>3</td>\n",
              "      <td>32.0</td>\n",
              "      <td>0</td>\n",
              "      <td>0</td>\n",
              "      <td>7.7500</td>\n",
              "    </tr>\n",
              "  </tbody>\n",
              "</table>\n",
              "<p>891 rows × 7 columns</p>\n",
              "</div>"
            ],
            "text/plain": [
              "        Sex Embarked  Pclass   Age  SibSp  Parch     Fare\n",
              "0      male        S       3  22.0      1      0   7.2500\n",
              "1    female        C       1  38.0      1      0  71.2833\n",
              "2    female        S       3  26.0      0      0   7.9250\n",
              "3    female        S       1  35.0      1      0  53.1000\n",
              "4      male        S       3  35.0      0      0   8.0500\n",
              "..      ...      ...     ...   ...    ...    ...      ...\n",
              "886    male        S       2  27.0      0      0  13.0000\n",
              "887  female        S       1  19.0      0      0  30.0000\n",
              "888  female        S       3  28.0      1      2  23.4500\n",
              "889    male        C       1  26.0      0      0  30.0000\n",
              "890    male        Q       3  32.0      0      0   7.7500\n",
              "\n",
              "[891 rows x 7 columns]"
            ]
          },
          "metadata": {
            "tags": []
          },
          "execution_count": 197
        }
      ]
    },
    {
      "cell_type": "markdown",
      "metadata": {
        "id": "-9-ofIMHAtrc"
      },
      "source": [
        "Vamos a crear una *dummy variable* con el método de Pandas `.get_dummies`, que \"descompone\" nuestras variables categóricas en variables numéricas asignando nuevas columnas y teniendo valores de 0 o 1."
      ]
    },
    {
      "cell_type": "code",
      "metadata": {
        "id": "IesjBUH3Atrc",
        "colab": {
          "base_uri": "https://localhost:8080/",
          "height": 417
        },
        "outputId": "5ab025fe-7c47-4ff0-b427-7a4ef12c6af3"
      },
      "source": [
        "dummy_encoded_train_predictors = pd.get_dummies(train_predictors)\n",
        "dummy_encoded_train_predictors"
      ],
      "execution_count": null,
      "outputs": [
        {
          "output_type": "execute_result",
          "data": {
            "text/html": [
              "<div>\n",
              "<style scoped>\n",
              "    .dataframe tbody tr th:only-of-type {\n",
              "        vertical-align: middle;\n",
              "    }\n",
              "\n",
              "    .dataframe tbody tr th {\n",
              "        vertical-align: top;\n",
              "    }\n",
              "\n",
              "    .dataframe thead th {\n",
              "        text-align: right;\n",
              "    }\n",
              "</style>\n",
              "<table border=\"1\" class=\"dataframe\">\n",
              "  <thead>\n",
              "    <tr style=\"text-align: right;\">\n",
              "      <th></th>\n",
              "      <th>Pclass</th>\n",
              "      <th>Age</th>\n",
              "      <th>SibSp</th>\n",
              "      <th>Parch</th>\n",
              "      <th>Fare</th>\n",
              "      <th>Sex_female</th>\n",
              "      <th>Sex_male</th>\n",
              "      <th>Embarked_C</th>\n",
              "      <th>Embarked_Q</th>\n",
              "      <th>Embarked_S</th>\n",
              "    </tr>\n",
              "  </thead>\n",
              "  <tbody>\n",
              "    <tr>\n",
              "      <th>0</th>\n",
              "      <td>3</td>\n",
              "      <td>22.0</td>\n",
              "      <td>1</td>\n",
              "      <td>0</td>\n",
              "      <td>7.2500</td>\n",
              "      <td>0</td>\n",
              "      <td>1</td>\n",
              "      <td>0</td>\n",
              "      <td>0</td>\n",
              "      <td>1</td>\n",
              "    </tr>\n",
              "    <tr>\n",
              "      <th>1</th>\n",
              "      <td>1</td>\n",
              "      <td>38.0</td>\n",
              "      <td>1</td>\n",
              "      <td>0</td>\n",
              "      <td>71.2833</td>\n",
              "      <td>1</td>\n",
              "      <td>0</td>\n",
              "      <td>1</td>\n",
              "      <td>0</td>\n",
              "      <td>0</td>\n",
              "    </tr>\n",
              "    <tr>\n",
              "      <th>2</th>\n",
              "      <td>3</td>\n",
              "      <td>26.0</td>\n",
              "      <td>0</td>\n",
              "      <td>0</td>\n",
              "      <td>7.9250</td>\n",
              "      <td>1</td>\n",
              "      <td>0</td>\n",
              "      <td>0</td>\n",
              "      <td>0</td>\n",
              "      <td>1</td>\n",
              "    </tr>\n",
              "    <tr>\n",
              "      <th>3</th>\n",
              "      <td>1</td>\n",
              "      <td>35.0</td>\n",
              "      <td>1</td>\n",
              "      <td>0</td>\n",
              "      <td>53.1000</td>\n",
              "      <td>1</td>\n",
              "      <td>0</td>\n",
              "      <td>0</td>\n",
              "      <td>0</td>\n",
              "      <td>1</td>\n",
              "    </tr>\n",
              "    <tr>\n",
              "      <th>4</th>\n",
              "      <td>3</td>\n",
              "      <td>35.0</td>\n",
              "      <td>0</td>\n",
              "      <td>0</td>\n",
              "      <td>8.0500</td>\n",
              "      <td>0</td>\n",
              "      <td>1</td>\n",
              "      <td>0</td>\n",
              "      <td>0</td>\n",
              "      <td>1</td>\n",
              "    </tr>\n",
              "    <tr>\n",
              "      <th>...</th>\n",
              "      <td>...</td>\n",
              "      <td>...</td>\n",
              "      <td>...</td>\n",
              "      <td>...</td>\n",
              "      <td>...</td>\n",
              "      <td>...</td>\n",
              "      <td>...</td>\n",
              "      <td>...</td>\n",
              "      <td>...</td>\n",
              "      <td>...</td>\n",
              "    </tr>\n",
              "    <tr>\n",
              "      <th>886</th>\n",
              "      <td>2</td>\n",
              "      <td>27.0</td>\n",
              "      <td>0</td>\n",
              "      <td>0</td>\n",
              "      <td>13.0000</td>\n",
              "      <td>0</td>\n",
              "      <td>1</td>\n",
              "      <td>0</td>\n",
              "      <td>0</td>\n",
              "      <td>1</td>\n",
              "    </tr>\n",
              "    <tr>\n",
              "      <th>887</th>\n",
              "      <td>1</td>\n",
              "      <td>19.0</td>\n",
              "      <td>0</td>\n",
              "      <td>0</td>\n",
              "      <td>30.0000</td>\n",
              "      <td>1</td>\n",
              "      <td>0</td>\n",
              "      <td>0</td>\n",
              "      <td>0</td>\n",
              "      <td>1</td>\n",
              "    </tr>\n",
              "    <tr>\n",
              "      <th>888</th>\n",
              "      <td>3</td>\n",
              "      <td>28.0</td>\n",
              "      <td>1</td>\n",
              "      <td>2</td>\n",
              "      <td>23.4500</td>\n",
              "      <td>1</td>\n",
              "      <td>0</td>\n",
              "      <td>0</td>\n",
              "      <td>0</td>\n",
              "      <td>1</td>\n",
              "    </tr>\n",
              "    <tr>\n",
              "      <th>889</th>\n",
              "      <td>1</td>\n",
              "      <td>26.0</td>\n",
              "      <td>0</td>\n",
              "      <td>0</td>\n",
              "      <td>30.0000</td>\n",
              "      <td>0</td>\n",
              "      <td>1</td>\n",
              "      <td>1</td>\n",
              "      <td>0</td>\n",
              "      <td>0</td>\n",
              "    </tr>\n",
              "    <tr>\n",
              "      <th>890</th>\n",
              "      <td>3</td>\n",
              "      <td>32.0</td>\n",
              "      <td>0</td>\n",
              "      <td>0</td>\n",
              "      <td>7.7500</td>\n",
              "      <td>0</td>\n",
              "      <td>1</td>\n",
              "      <td>0</td>\n",
              "      <td>1</td>\n",
              "      <td>0</td>\n",
              "    </tr>\n",
              "  </tbody>\n",
              "</table>\n",
              "<p>891 rows × 10 columns</p>\n",
              "</div>"
            ],
            "text/plain": [
              "     Pclass   Age  SibSp  Parch  ...  Sex_male  Embarked_C  Embarked_Q  Embarked_S\n",
              "0         3  22.0      1      0  ...         1           0           0           1\n",
              "1         1  38.0      1      0  ...         0           1           0           0\n",
              "2         3  26.0      0      0  ...         0           0           0           1\n",
              "3         1  35.0      1      0  ...         0           0           0           1\n",
              "4         3  35.0      0      0  ...         1           0           0           1\n",
              "..      ...   ...    ...    ...  ...       ...         ...         ...         ...\n",
              "886       2  27.0      0      0  ...         1           0           0           1\n",
              "887       1  19.0      0      0  ...         0           0           0           1\n",
              "888       3  28.0      1      2  ...         0           0           0           1\n",
              "889       1  26.0      0      0  ...         1           1           0           0\n",
              "890       3  32.0      0      0  ...         1           0           1           0\n",
              "\n",
              "[891 rows x 10 columns]"
            ]
          },
          "metadata": {
            "tags": []
          },
          "execution_count": 198
        }
      ]
    },
    {
      "cell_type": "markdown",
      "metadata": {
        "id": "MaRjSB9vAtrd"
      },
      "source": [
        "Podemos ver que se crearon las variables `Embarked_C`,\t`Embarked_Q` y `Embarked_S` haciendo referencia a los valores que tenía anteriormente."
      ]
    },
    {
      "cell_type": "markdown",
      "metadata": {
        "id": "kblXLY5TAtrd"
      },
      "source": [
        "Ahora vamos a obtener cuales son las clases en las que dividió nuestros datos de  entrenamiento."
      ]
    },
    {
      "cell_type": "code",
      "metadata": {
        "id": "bo5We_AJAtrd",
        "colab": {
          "base_uri": "https://localhost:8080/"
        },
        "outputId": "8cb3a767-2ef5-4b99-85d1-15b84403afb0"
      },
      "source": [
        "train_df['Pclass'].value_counts()"
      ],
      "execution_count": null,
      "outputs": [
        {
          "output_type": "execute_result",
          "data": {
            "text/plain": [
              "3    491\n",
              "1    216\n",
              "2    184\n",
              "Name: Pclass, dtype: int64"
            ]
          },
          "metadata": {
            "tags": []
          },
          "execution_count": 199
        }
      ]
    },
    {
      "cell_type": "markdown",
      "metadata": {
        "id": "mk0C8_zTAtrd"
      },
      "source": [
        "Y vemos que tenemos datos de tipo enteros."
      ]
    },
    {
      "cell_type": "markdown",
      "metadata": {
        "id": "J1ztQJtGAtrd"
      },
      "source": [
        "---"
      ]
    },
    {
      "cell_type": "markdown",
      "metadata": {
        "id": "98W83bL0Atrd"
      },
      "source": [
        "#### Separando los datos"
      ]
    },
    {
      "cell_type": "markdown",
      "metadata": {
        "id": "2PePY1cDAtre"
      },
      "source": [
        "Separamos el valor que queremos predecir:"
      ]
    },
    {
      "cell_type": "code",
      "metadata": {
        "id": "-bSqVPGcAtre"
      },
      "source": [
        "y_target = train_df['Survived'].values"
      ],
      "execution_count": null,
      "outputs": []
    },
    {
      "cell_type": "markdown",
      "metadata": {
        "id": "bI0OE3XsAtre"
      },
      "source": [
        "y los datos con los que vamos a trabajar (las filas de nuestra tabla anterior):"
      ]
    },
    {
      "cell_type": "code",
      "metadata": {
        "id": "6OasCgPQAtre",
        "colab": {
          "base_uri": "https://localhost:8080/"
        },
        "outputId": "41b1f886-2e4f-4984-eae5-36b1e10b8a24"
      },
      "source": [
        "x_features_one = dummy_encoded_train_predictors.values\n",
        "x_features_one"
      ],
      "execution_count": null,
      "outputs": [
        {
          "output_type": "execute_result",
          "data": {
            "text/plain": [
              "array([[ 3., 22.,  1., ...,  0.,  0.,  1.],\n",
              "       [ 1., 38.,  1., ...,  1.,  0.,  0.],\n",
              "       [ 3., 26.,  0., ...,  0.,  0.,  1.],\n",
              "       ...,\n",
              "       [ 3., 28.,  1., ...,  0.,  0.,  1.],\n",
              "       [ 1., 26.,  0., ...,  1.,  0.,  0.],\n",
              "       [ 3., 32.,  0., ...,  0.,  1.,  0.]])"
            ]
          },
          "metadata": {
            "tags": []
          },
          "execution_count": 201
        }
      ]
    },
    {
      "cell_type": "markdown",
      "metadata": {
        "id": "XLRhBWGZAtre"
      },
      "source": [
        "separamos los datos de entrenamiento y de validación del modelo. El parámetro `random_state = 1` significa que cada vez que corramos el programa va a elegir una porción distinta del dataset."
      ]
    },
    {
      "cell_type": "code",
      "metadata": {
        "id": "SUu0g4ZhAtre"
      },
      "source": [
        "x_train, x_validation, y_train, y_validation = train_test_split(x_features_one, y_target, \n",
        "                                                                 test_size = 0.25, random_state=1)"
      ],
      "execution_count": null,
      "outputs": []
    },
    {
      "cell_type": "markdown",
      "metadata": {
        "id": "615imuEDAtre"
      },
      "source": [
        "Creamos nuestro árbol de decisión llamando al `tree.DecisionTreeClassifier()` y lo entrenamos con nuestros datos de entrenamiento:"
      ]
    },
    {
      "cell_type": "code",
      "metadata": {
        "id": "oaZgBddsAtrf"
      },
      "source": [
        "tree_one = tree.DecisionTreeClassifier()\n",
        "tree_one = tree_one.fit(x_train, y_train)"
      ],
      "execution_count": null,
      "outputs": []
    },
    {
      "cell_type": "markdown",
      "metadata": {
        "id": "2EoRblzIAtrf"
      },
      "source": [
        "y queremos saber cuál es la \"fidelidad\" de nuestro árbol:"
      ]
    },
    {
      "cell_type": "code",
      "metadata": {
        "id": "xWaXZqbIAtrf",
        "colab": {
          "base_uri": "https://localhost:8080/"
        },
        "outputId": "ec2f4d30-7e04-44d0-c761-a9fab5bc0a7d"
      },
      "source": [
        "tree_one_accuracy = round(tree_one.score(x_validation, y_validation), 3)\n",
        "tree_one_accuracy"
      ],
      "execution_count": null,
      "outputs": [
        {
          "output_type": "execute_result",
          "data": {
            "text/plain": [
              "0.753"
            ]
          },
          "metadata": {
            "tags": []
          },
          "execution_count": 204
        }
      ]
    },
    {
      "cell_type": "markdown",
      "metadata": {
        "id": "tusoVGliAtrf"
      },
      "source": [
        "esto no siempre es así con todo los tipos de datasets, por ejemplo, con datasets con class imbalance (donde el número de observaciones de cada clase no es uniforme) puede que sea mucho mejor utilizar `roc_auc_score`, el cual nos ayuda a obtener el área bajo la curva de nuestra porción en la función de probabilidad."
      ]
    },
    {
      "cell_type": "markdown",
      "metadata": {
        "id": "0ymTPdezAtrf"
      },
      "source": [
        "---"
      ]
    },
    {
      "cell_type": "markdown",
      "metadata": {
        "id": "cUMpKz1FAtrf"
      },
      "source": [
        "#### Visualizando el árbol de decisión"
      ]
    },
    {
      "cell_type": "code",
      "metadata": {
        "id": "1ARhsjb2Atrf",
        "colab": {
          "base_uri": "https://localhost:8080/"
        },
        "outputId": "a189c50c-67c3-4a70-fc6e-1418f0fac8f3"
      },
      "source": [
        "from io import StringIO\n",
        "from IPython.display import Image, display\n",
        "import pydotplus\n",
        "\n",
        "out = StringIO()\n",
        "tree.export_graphviz(tree_one, out_file = out)\n",
        "\n",
        "graph = pydotplus.graph_from_dot_data(out.getvalue())\n",
        "graph.write_png('titanic.png')"
      ],
      "execution_count": null,
      "outputs": [
        {
          "output_type": "execute_result",
          "data": {
            "text/plain": [
              "True"
            ]
          },
          "metadata": {
            "tags": []
          },
          "execution_count": 205
        }
      ]
    },
    {
      "cell_type": "code",
      "metadata": {
        "id": "nSw1qNryAtrg"
      },
      "source": [
        ""
      ],
      "execution_count": null,
      "outputs": []
    }
  ]
}