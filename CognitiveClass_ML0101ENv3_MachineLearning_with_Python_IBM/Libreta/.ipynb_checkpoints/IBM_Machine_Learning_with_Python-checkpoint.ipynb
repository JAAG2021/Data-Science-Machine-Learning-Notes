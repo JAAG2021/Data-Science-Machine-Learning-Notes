{
 "cells": [
  {
   "cell_type": "markdown",
   "metadata": {
    "toc": true
   },
   "source": [
    "<h1>Table of Contents<span class=\"tocSkip\"></span></h1>\n",
    "<div class=\"toc\"><ul class=\"toc-item\"><li><span><a href=\"#Cognitive-Class:-ML0101ENv3-Machine-Learning-with-Python\" data-toc-modified-id=\"Cognitive-Class:-ML0101ENv3-Machine-Learning-with-Python-0\">Cognitive Class: ML0101ENv3 Machine Learning with Python</a></span><ul class=\"toc-item\"><li><span><a href=\"#Objetivos:\" data-toc-modified-id=\"Objetivos:-0.1\">Objetivos:</a></span></li><li><span><a href=\"#Introducción-al-Machine-Learning\" data-toc-modified-id=\"Introducción-al-Machine-Learning-0.2\">Introducción al Machine Learning</a></span><ul class=\"toc-item\"><li><span><a href=\"#¿Qué-es-el-Machine-Learning?\" data-toc-modified-id=\"¿Qué-es-el-Machine-Learning?-0.2.1\">¿Qué es el Machine Learning?</a></span></li></ul></li></ul></li></ul></div>"
   ]
  },
  {
   "cell_type": "markdown",
   "metadata": {},
   "source": [
    "# Cognitive Class: ML0101ENv3 Machine Learning with Python"
   ]
  },
  {
   "cell_type": "markdown",
   "metadata": {},
   "source": [
    "## Objetivos:"
   ]
  },
  {
   "cell_type": "markdown",
   "metadata": {},
   "source": [
    "* Entender como se relacionan los modelos estadísticos con el aprendizaje automático (Machine Learning).\n",
    "\n",
    "* Conocer aplicaciones de Machine Learning en la vida real y cómo afecta a la sociedad de formas que previamente no habíamos cuestionado o imaginado.\n",
    "\n",
    "* Aprender a usar librerías de Python para Machine Learning, por ejemplo, scikit-learn.\n",
    "\n",
    "**Explorar algoritmos y modelos**\n",
    "\n",
    "* Algoritmos populares como: Regresión, clasificación y Agrupamiento.\n",
    "\n",
    "* Sistemas de recomendación: Filtrado colaborativo y basado en contenido.\n",
    "\n",
    "* Modelos populares: División de entrenamiento/test ( Train/Test Split), Descenso de gradiente y Error medio cuadrático (Mean Squared Error)."
   ]
  },
  {
   "cell_type": "markdown",
   "metadata": {},
   "source": [
    "## Introducción al Machine Learning \n"
   ]
  },
  {
   "cell_type": "markdown",
   "metadata": {},
   "source": [
    "* Aplicaciones del Machine Learning\n",
    "\n",
    "* Librerías de Python para Machine Learning\n",
    "\n",
    "* Aprendizaje supervisado vs no supervisado"
   ]
  },
  {
   "cell_type": "markdown",
   "metadata": {},
   "source": [
    "Imaginemos que tenemos una muestra de una célula humana que se le ha extraído a un paciente. Y dividimos las características de dicha célula en parámetros como:\n",
    "\n",
    "* su espesor de grupo (clump thickness)\n",
    "\n",
    "* uniformidad del tamaño de la celda (uniformity of cell size)\n",
    "\n",
    "* Adhesión marginal (Marginal Adhesion)\n",
    "\n",
    "entre otras característica.\n"
   ]
  },
  {
   "cell_type": "markdown",
   "metadata": {},
   "source": [
    "![](https://i.imgur.com/synIkER.png)"
   ]
  },
  {
   "cell_type": "markdown",
   "metadata": {},
   "source": [
    "Y a partir de los números asignados a cada uno de los parámetros nos hacemos la siguiente pregunta. ¿Esta es una célula benigna o maligna?"
   ]
  },
  {
   "cell_type": "markdown",
   "metadata": {},
   "source": [
    "En contraste con un tumor \"benigno\" respecto a un tumor \"maligno\", el *maligno* puede invadir el tejido de sus alrededores o cercano a el o esparcirse por todo el cuerpo. Y diagnosticar a tiempo un tumor maligno es una pieza clase para la supervivencia de nuestro paciente. \n",
    "\n",
    "Podríamos pensar que solo un doctor con los suficientes años de experiencia y familiaridad con ese tipo de enfermedades podría ser lo suficientemente capaz de detectar a tiempo este tipo de tumores malignos o cáncer, pero aún así no tendríamos una certeza del 100% además de que no todos los pacientes de la población podrían permitirse acceder a un médico de tan alto calibre."
   ]
  },
  {
   "cell_type": "markdown",
   "metadata": {},
   "source": [
    "Bueno, imaginemos que disponemos de un amplio dataset con información de las células extraídas a miles de pacientes quienes creían tener riesgo de desarrollar cáncer."
   ]
  },
  {
   "cell_type": "markdown",
   "metadata": {},
   "source": [
    "![](https://i.imgur.com/RkuvsyE.png)"
   ]
  },
  {
   "cell_type": "markdown",
   "metadata": {},
   "source": [
    "Analizando el dataset podemos ver que las características o parámetros varían significativamente dependiendo de pacientes con celular malignas y benignas.\n",
    "\n",
    "Podemos basarnos en otras muestras de pacientes con características muy similares para tratar de predecir si una nueva célula extraída es o no maligna. Para lograr esto, debemos de \"limpiar\" nuestros datos, elegir un algoritmo adecuado para crear nuestro modelo de predicciones y entrenar a nuestro modelo para que aprenda a encontrar los patrones subyacentes en nuestro dataset. Este entrenamiento lo realiza \"estudiando\" los datos de forma iterativa, se parte de una función matemática que será más compleja dependiendo la aplicación y en cada iteración se irá modificando esta función hasta que se \"acomode\" a un modelo predictivo como el que esperamos, es decir, el aprendizaje no es más que un modelamiento matemático realizado por la computadora de forma no necesariamente explícita por el programador.\n",
    "\n",
    "Una vez que hemos creado y entrenado a nuestro modelo, podemos usarlo para probar con nuevos inputs, es decir, con nuevas células extraídas que no estaban dentro del dataset original. Una vez que evaluamos esa célula obtenemos un resultado con cierto porcentaje de certeza (accuracy) que nos permite obtener un diagnostico con mucha más certidumbre.\n",
    "\n",
    "Así es como funciona el Machine Learning."
   ]
  },
  {
   "cell_type": "markdown",
   "metadata": {},
   "source": [
    "![](https://i.imgur.com/idFKMZp.png)"
   ]
  },
  {
   "cell_type": "markdown",
   "metadata": {},
   "source": [
    "Está es solo una de las tantas formas en las que el Machine Learning ha incursionado en campos tan diversos, entre ellos, la medicina. Permitiendo a los doctores obtener diagnosticos mucho más certeros e incluso más rápidos."
   ]
  },
  {
   "cell_type": "markdown",
   "metadata": {},
   "source": [
    "Ahora veamos una definición más formal de Machine Learning:"
   ]
  },
  {
   "cell_type": "markdown",
   "metadata": {},
   "source": [
    "### ¿Qué es el Machine Learning? "
   ]
  },
  {
   "cell_type": "markdown",
   "metadata": {},
   "source": [
    "**El Machine Learning es el campo de las ciencias de la computación que le permite a las computadoras \"la habilidad de aprender sin ser explícitamente programadas para realizar dicha tarea\".**\n",
    "\n",
    "> Artur Samuel: Americano pionero en el campo de los juegos automatizados y de la inteligencia artificial, quien acuñó el término \"Machine Learning\" en 1959 mientras trabajaba en IBM."
   ]
  },
  {
   "cell_type": "markdown",
   "metadata": {},
   "source": [
    "¿A que nos referimos con que algo no sea \"explícitamente programado\"?"
   ]
  },
  {
   "cell_type": "code",
   "execution_count": null,
   "metadata": {},
   "outputs": [],
   "source": []
  }
 ],
 "metadata": {
  "kernelspec": {
   "display_name": "Python 3",
   "language": "python",
   "name": "python3"
  },
  "language_info": {
   "codemirror_mode": {
    "name": "ipython",
    "version": 3
   },
   "file_extension": ".py",
   "mimetype": "text/x-python",
   "name": "python",
   "nbconvert_exporter": "python",
   "pygments_lexer": "ipython3",
   "version": "3.8.3"
  },
  "toc": {
   "base_numbering": "",
   "nav_menu": {},
   "number_sections": false,
   "sideBar": true,
   "skip_h1_title": false,
   "title_cell": "Table of Contents",
   "title_sidebar": "Contents",
   "toc_cell": true,
   "toc_position": {},
   "toc_section_display": true,
   "toc_window_display": false
  }
 },
 "nbformat": 4,
 "nbformat_minor": 4
}
