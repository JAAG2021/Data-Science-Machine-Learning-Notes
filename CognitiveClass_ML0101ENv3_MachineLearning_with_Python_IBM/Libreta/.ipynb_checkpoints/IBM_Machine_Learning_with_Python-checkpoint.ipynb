{
 "cells": [
  {
   "cell_type": "markdown",
   "metadata": {
    "toc": true
   },
   "source": [
    "<h1>Table of Contents<span class=\"tocSkip\"></span></h1>\n",
    "<div class=\"toc\"><ul class=\"toc-item\"><li><span><a href=\"#Cognitive-Class:-ML0101ENv3-Machine-Learning-with-Python\" data-toc-modified-id=\"Cognitive-Class:-ML0101ENv3-Machine-Learning-with-Python-0\">Cognitive Class: ML0101ENv3 Machine Learning with Python</a></span><ul class=\"toc-item\"><li><span><a href=\"#Objetivos\" data-toc-modified-id=\"Objetivos-0.1\">Objetivos</a></span></li><li><span><a href=\"#Modulo-1.-Introducción-al-Machine-Learning\" data-toc-modified-id=\"Modulo-1.-Introducción-al-Machine-Learning-0.2\">Modulo 1. Introducción al Machine Learning</a></span><ul class=\"toc-item\"><li><span><a href=\"#¿Qué-es-el-Machine-Learning?\" data-toc-modified-id=\"¿Qué-es-el-Machine-Learning?-0.2.1\">¿Qué es el Machine Learning?</a></span></li><li><span><a href=\"#Ejemplos-de-Machine-Learning-en-la-vida-cotidiana\" data-toc-modified-id=\"Ejemplos-de-Machine-Learning-en-la-vida-cotidiana-0.2.2\">Ejemplos de Machine Learning en la vida cotidiana</a></span></li><li><span><a href=\"#Técnicas-más-populares\" data-toc-modified-id=\"Técnicas-más-populares-0.2.3\">Técnicas más populares</a></span></li><li><span><a href=\"#Diferencias-entre-inteligencia-artificial,-machine-learning-y-deep-learning\" data-toc-modified-id=\"Diferencias-entre-inteligencia-artificial,-machine-learning-y-deep-learning-0.2.4\">Diferencias entre inteligencia artificial, machine learning y deep learning</a></span></li><li><span><a href=\"#Python-para-Machine-Learning\" data-toc-modified-id=\"Python-para-Machine-Learning-0.2.5\">Python para Machine Learning</a></span><ul class=\"toc-item\"><li><span><a href=\"#Más-sobre-scikit-learn\" data-toc-modified-id=\"Más-sobre-scikit-learn-0.2.5.1\">Más sobre scikit-learn</a></span></li></ul></li><li><span><a href=\"#Algoritmos-supervisados-vs-no-supervisados\" data-toc-modified-id=\"Algoritmos-supervisados-vs-no-supervisados-0.2.6\">Algoritmos supervisados vs no supervisados</a></span><ul class=\"toc-item\"><li><span><a href=\"#Aprendizaje-supervisado\" data-toc-modified-id=\"Aprendizaje-supervisado-0.2.6.1\">Aprendizaje supervisado</a></span></li><li><span><a href=\"#Aprendizaje-no-supervisado\" data-toc-modified-id=\"Aprendizaje-no-supervisado-0.2.6.2\">Aprendizaje no supervisado</a></span></li></ul></li><li><span><a href=\"#Evaluación-del-módulo\" data-toc-modified-id=\"Evaluación-del-módulo-0.2.7\">Evaluación del módulo</a></span></li></ul></li><li><span><a href=\"#Modulo-2.-Regresión\" data-toc-modified-id=\"Modulo-2.-Regresión-0.3\">Modulo 2. Regresión</a></span><ul class=\"toc-item\"><li><span><a href=\"#Objetivos\" data-toc-modified-id=\"Objetivos-0.3.1\">Objetivos</a></span></li><li><span><a href=\"#Introducción-a-la-regresión\" data-toc-modified-id=\"Introducción-a-la-regresión-0.3.2\">Introducción a la regresión</a></span><ul class=\"toc-item\"><li><span><a href=\"#Aplicaciones-de-la-regresión\" data-toc-modified-id=\"Aplicaciones-de-la-regresión-0.3.2.1\">Aplicaciones de la regresión</a></span></li></ul></li><li><span><a href=\"#Regresión-lineal-simple\" data-toc-modified-id=\"Regresión-lineal-simple-0.3.3\">Regresión lineal simple</a></span><ul class=\"toc-item\"><li><span><a href=\"#¿Por-que-es-tan-importante-la-regresión-lineal?\" data-toc-modified-id=\"¿Por-que-es-tan-importante-la-regresión-lineal?-0.3.3.1\">¿Por que es tan importante la regresión lineal?</a></span></li></ul></li><li><span><a href=\"#Conceptos-matemáticos-de-la-regresión-lineal-simple\" data-toc-modified-id=\"Conceptos-matemáticos-de-la-regresión-lineal-simple-0.3.4\">Conceptos matemáticos de la regresión lineal simple</a></span></li></ul></li></ul></li></ul></div>"
   ]
  },
  {
   "cell_type": "markdown",
   "metadata": {},
   "source": [
    "# Cognitive Class: ML0101ENv3 Machine Learning with Python"
   ]
  },
  {
   "cell_type": "markdown",
   "metadata": {},
   "source": [
    "## Objetivos"
   ]
  },
  {
   "cell_type": "markdown",
   "metadata": {},
   "source": [
    "* Entender como se relacionan los modelos estadísticos con el aprendizaje automático (Machine Learning).\n",
    "\n",
    "* Conocer aplicaciones de Machine Learning en la vida real y cómo afecta a la sociedad de formas que previamente no habíamos cuestionado o imaginado.\n",
    "\n",
    "* Aprender a usar librerías de Python para Machine Learning, por ejemplo, scikit-learn.\n",
    "\n",
    "**Explorar algoritmos y modelos**\n",
    "\n",
    "* Algoritmos populares como: Regresión, clasificación y Agrupamiento.\n",
    "\n",
    "* Sistemas de recomendación: Filtrado colaborativo y basado en contenido.\n",
    "\n",
    "* Modelos populares: División de entrenamiento/test ( Train/Test Split), Descenso de gradiente y Error medio cuadrático (Mean Squared Error)."
   ]
  },
  {
   "cell_type": "markdown",
   "metadata": {},
   "source": [
    "## Modulo 1. Introducción al Machine Learning"
   ]
  },
  {
   "cell_type": "markdown",
   "metadata": {},
   "source": [
    "* Aplicaciones del Machine Learning\n",
    "\n",
    "* Librerías de Python para Machine Learning\n",
    "\n",
    "* Aprendizaje supervisado vs no supervisado"
   ]
  },
  {
   "cell_type": "markdown",
   "metadata": {},
   "source": [
    "Imaginemos que tenemos una muestra de una célula humana que se le ha extraído a un paciente. Y dividimos las características de dicha célula en parámetros como:\n",
    "\n",
    "* su espesor de grupo (clump thickness)\n",
    "\n",
    "* uniformidad del tamaño de la celda (uniformity of cell size)\n",
    "\n",
    "* Adhesión marginal (Marginal Adhesion)\n",
    "\n",
    "entre otras característica.\n"
   ]
  },
  {
   "cell_type": "markdown",
   "metadata": {},
   "source": [
    "![](https://i.imgur.com/synIkER.png)"
   ]
  },
  {
   "cell_type": "markdown",
   "metadata": {},
   "source": [
    "Y a partir de los números asignados a cada uno de los parámetros nos hacemos la siguiente pregunta. ¿Esta es una célula benigna o maligna?"
   ]
  },
  {
   "cell_type": "markdown",
   "metadata": {},
   "source": [
    "En contraste con un tumor \"benigno\" respecto a un tumor \"maligno\", el *maligno* puede invadir el tejido de sus alrededores o cercano a el o esparcirse por todo el cuerpo. Y diagnosticar a tiempo un tumor maligno es una pieza clase para la supervivencia de nuestro paciente. \n",
    "\n",
    "Podríamos pensar que solo un doctor con los suficientes años de experiencia y familiaridad con ese tipo de enfermedades podría ser lo suficientemente capaz de detectar a tiempo este tipo de tumores malignos o cáncer, pero aún así no tendríamos una certeza del 100% además de que no todos los pacientes de la población podrían permitirse acceder a un médico de tan alto calibre."
   ]
  },
  {
   "cell_type": "markdown",
   "metadata": {},
   "source": [
    "Bueno, imaginemos que disponemos de un amplio dataset con información de las células extraídas a miles de pacientes quienes creían tener riesgo de desarrollar cáncer."
   ]
  },
  {
   "cell_type": "markdown",
   "metadata": {},
   "source": [
    "![](https://i.imgur.com/RkuvsyE.png)"
   ]
  },
  {
   "cell_type": "markdown",
   "metadata": {},
   "source": [
    "Analizando el dataset podemos ver que las características o parámetros varían significativamente dependiendo de pacientes con celular malignas y benignas.\n",
    "\n",
    "Podemos basarnos en otras muestras de pacientes con características muy similares para tratar de predecir si una nueva célula extraída es o no maligna. Para lograr esto, debemos de \"limpiar\" nuestros datos, elegir un algoritmo adecuado para crear nuestro modelo de predicciones y entrenar a nuestro modelo para que aprenda a encontrar los patrones subyacentes en nuestro dataset. Este entrenamiento lo realiza \"estudiando\" los datos de forma iterativa, se parte de una función matemática que será más compleja dependiendo la aplicación y en cada iteración se irá modificando esta función hasta que se \"acomode\" a un modelo predictivo como el que esperamos, es decir, el aprendizaje no es más que un modelamiento matemático realizado por la computadora de forma no necesariamente explícita por el programador.\n",
    "\n",
    "Una vez que hemos creado y entrenado a nuestro modelo, podemos usarlo para probar con nuevos inputs, es decir, con nuevas células extraídas que no estaban dentro del dataset original. Una vez que evaluamos esa célula obtenemos un resultado con cierto porcentaje de certeza (accuracy) que nos permite obtener un diagnostico con mucha más certidumbre.\n",
    "\n",
    "Así es como funciona el Machine Learning."
   ]
  },
  {
   "cell_type": "markdown",
   "metadata": {},
   "source": [
    "![](https://i.imgur.com/idFKMZp.png)"
   ]
  },
  {
   "cell_type": "markdown",
   "metadata": {},
   "source": [
    "Está es solo una de las tantas formas en las que el Machine Learning ha incursionado en campos tan diversos, entre ellos, la medicina. Permitiendo a los doctores obtener diagnosticos mucho más certeros e incluso más rápidos."
   ]
  },
  {
   "cell_type": "markdown",
   "metadata": {},
   "source": [
    "Ahora veamos una definición más formal de Machine Learning:"
   ]
  },
  {
   "cell_type": "markdown",
   "metadata": {},
   "source": [
    "### ¿Qué es el Machine Learning?"
   ]
  },
  {
   "cell_type": "markdown",
   "metadata": {},
   "source": [
    "**El Machine Learning es el campo de las ciencias de la computación que le permite a las computadoras \"la habilidad de aprender sin ser explícitamente programadas para realizar dicha tarea\".**\n",
    "\n",
    "> Artur Samuel: Americano pionero en el campo de los juegos automatizados y de la inteligencia artificial, quien acuñó el término \"Machine Learning\" en 1959 mientras trabajaba en IBM."
   ]
  },
  {
   "cell_type": "markdown",
   "metadata": {},
   "source": [
    "¿A que nos referimos con que algo no sea \"explícitamente programado\"?"
   ]
  },
  {
   "cell_type": "markdown",
   "metadata": {},
   "source": [
    "Vamos a asumir que tenemos un dataset de imágenes de animalitos, por ejemplo, perros y gatos. Y queremos crear un software o una aplicación que sepa reconocerlos y diferenciarlos.\n",
    "\n",
    "Lo primero que tendríamos que hacer para lograrlo sería interpretar nuestras imágenes como un **conjunto de conjuntos de características**. Por ejemplo, podríamos empezar por tratar de diferenciar entre los ojos de un perro y un gato, sus tamaños, orejas, colas, etc. \n",
    "\n",
    "Previo a la era del Machine Learning se tenían que transformar *cada una de las imágenes* en un **vector de características**. Después, teníamos que escribir *explícitamente* un código que indicara como teníamos que trabajar con dichos vectores de características de forma que pudieramos aproximarnos a una clasificación de las imágenes, pero los resultados para nada eran lo suficientemente buenos siguiendo ese paradigma de programación. ¿Por qué no era una buena opción para realizar esa tarea? Bueno, tendríamos que escribir un montón de código para separar cada uno de los rasgos que consideramos importantes a la hora de determinar que es lo que hay en una imagen, además de que estas reglas siempre serían muy dependientes de nuestras imágenes del dataset cosa que se hace cada vez más complicada al tratar de generalizar para un dataset de imagenes distintas. En conclusión, era un lío abordar el problema desde ese paradigma."
   ]
  },
  {
   "cell_type": "markdown",
   "metadata": {},
   "source": [
    "La \"arquitectura\" a muy grandes rasgos de como se tenía que trabajar previo al Machine Learning era la siguiente:"
   ]
  },
  {
   "cell_type": "markdown",
   "metadata": {},
   "source": [
    "![](https://i.imgur.com/aenrHol.png)"
   ]
  },
  {
   "cell_type": "markdown",
   "metadata": {},
   "source": [
    "¿Ahora, como sería el modelo aplicando Machine Learning?"
   ]
  },
  {
   "cell_type": "markdown",
   "metadata": {},
   "source": [
    "Con esta nueva técnica podemos construir modelos que nos permiten crear un modelo que analiza todos los conjuntos de características y su correspondiente tipo de animales, y aprende aprende el patrón de cada animal. De esta forma tenemos un programa que sabe diferenciar los animales de las fotos sin que estén programadas explícitamente las instrucciones para hacer esa tarea en específico.\n",
    "\n",
    "Prácticamente, el Machine Learning usa el mismo método de diferenciación que haría un niño pequeño que sería, entender las partes que conforman a cada animal y aprender a diferenciarlos entre sí dado un previo dataset de \"entrenamiento\". De hecho el Machine Learning está enfocado en aprender a replicar los procesos de aprendizaje de los seres humanos, o al menos tratar de hacerlos de una forma muy parecida."
   ]
  },
  {
   "cell_type": "markdown",
   "metadata": {},
   "source": [
    "![](https://i.imgur.com/zRmDi2P.png)"
   ]
  },
  {
   "cell_type": "markdown",
   "metadata": {},
   "source": [
    "### Ejemplos de Machine Learning en la vida cotidiana"
   ]
  },
  {
   "cell_type": "markdown",
   "metadata": {},
   "source": [
    "* **Algoritmos de recomendación usados por Netflix o Amazon:** Estos algoritmos usan Machine Learning para calcular cual de las películas o series de su catálogo tienen mayor probabilidad de interesarte de acuerdo a tus búsquedas previas.\n",
    "\n",
    "\n",
    "* **Aprobación de solicitudes de prestamos bancarios:** Algunos bancos utilizan técnicas de Machine Learning para calcular la probabilidad que los solicitantes resulten en algún fraude crediticio y a partir de los resultados deciden si aceptar o rechazar sus solicitudes.\n",
    "\n",
    "\n",
    "* **Telecomunicaciones:** Utilizan los datos demográficos de sus clientes para predecir si en el siguiente periodo es posible que sus clientes abandonen el servicio, anticipandose con alguna campaña de marketing, ofertas especiales, etc."
   ]
  },
  {
   "cell_type": "markdown",
   "metadata": {},
   "source": [
    "![](https://i.imgur.com/jt4rU8Z.png)"
   ]
  },
  {
   "cell_type": "markdown",
   "metadata": {},
   "source": [
    "### Técnicas más populares"
   ]
  },
  {
   "cell_type": "markdown",
   "metadata": {},
   "source": [
    "* **Regresión/Estimación:** Se utiliza para predecir valores continuos, por ejemplo, predecir cosas como el precio de una casa basandose en sus características, o para estimar la cantidad de $C0_2$ emitida por un auto.\n",
    "\n",
    "\n",
    "* **Clasificación:** Se utiliza para predecir a que categoría o clase pertenece cierto dato en particular, por ejemplo, si una célula es benigna o maligno, o para clasificar a nuestros clientes en ciertas categorías ya creadas.\n",
    "\n",
    "\n",
    "* **Agrupamiento:** Se utiliza para encontrar una estructura subyacente en los datos, a partir de un set de datos similares trata de crear grupos en los cuales puede dividir esos datos. Por ejemplo, al querer descubrir en que grupos podemos dividir a nuestros clientes según ciertos patrones de conducta.\n",
    "\n",
    "\n",
    "* **Asociación:** Asocia eventos que suelen estar correlacionados. Las reglas que el algoritmo identifica pueden utilizarse para predecir las probables compras de un cliente en el futuro, basándose en los elementos existentes en la cesta de compra actual del cliente.\n",
    "\n",
    "\n",
    "* **Detección de anomalías:** Detecta casos anormales o inusuales. En este principio se basa el algoritmo de detección de fraudes crediticios.\n",
    "\n",
    "\n",
    "* **Minería de secuencias:** Predice eventos futuros; click-stream (Markov Model, HMM). También se puede aplicar dentro de un sitio web para predecir el comportamiento del usuario.\n",
    "\n",
    "\n",
    "* **Reducción de dimensiones:** Reduce el tamaño de nuestros datos (PCA).\n",
    "\n",
    "\n",
    "* **Sistemas de recomendación:** Recomienda items basado en comportamientos previos, como en el caso de Netflix."
   ]
  },
  {
   "cell_type": "markdown",
   "metadata": {},
   "source": [
    "### Diferencias entre inteligencia artificial, machine learning y deep learning"
   ]
  },
  {
   "cell_type": "markdown",
   "metadata": {},
   "source": [
    "El campo de la inteligencia artificial se encarga de hacer a las computadoras \"inteligentes\" refiriendonos a que queremos replicar las funciones cognitivas del ser humano para imitar su aprendizaje y lo que llamamos \"comportamiento inteligente \".\n",
    "\n",
    "Componentes de\n",
    "\n",
    "**Inteligencia artificial:**\n",
    "\n",
    "* Enfoque computacional (computer vision)\n",
    "* Procesamiento del lenguaje\n",
    "* Creatividad\n",
    "\n",
    "**Machine learning o aprendizaje automatizado:**\n",
    "*Es una rama de la inteligencia artificial* que cubre la parte estadística de la inteligencia artificial, aquí es donde enseñamos a la computadora a resolver problemas a partir de mostrarle datasets enormes de miles y miles de datos, de forma que aprenda a detectar los \"patrones\" subyacentes en ellos. Una vez que tiene el entrenamiento o experiencia suficiente al estudiar esos datos de ejemplo, se ingresan nuevos valores para resolver nuevos problemas.\n",
    "\n",
    "* Clasificación\n",
    "* Agrupamiento\n",
    "* Redes neuronales\n",
    "\n",
    "**Deep learning o aprendizaje profundo:**\n",
    "*Es una rama del Machine Learning* donde las computadoras ya pueden aprender y tomar decisiones inteligentes por su propia cuenta. Aquí englobamos un aprendizaje a un nivel más profundo en comparación con el nivel de aprendizaje de los modelos de machine learning ya que se concentra en encontrar patrones aun más complejos para realizar tareas más complejas. Un ejemplo de deep learning sería su aplicación en coches autónomos, reconocimiento de vídeos, reconocimiento de audio, etc."
   ]
  },
  {
   "cell_type": "markdown",
   "metadata": {},
   "source": [
    "---"
   ]
  },
  {
   "cell_type": "markdown",
   "metadata": {},
   "source": [
    "### Python para Machine Learning"
   ]
  },
  {
   "cell_type": "markdown",
   "metadata": {},
   "source": [
    "Sabemos que Python es un lenguaje bastante poderoso y con una gran cantidad de herramientas desarrolladas para distintos propósitos, entre ellos, uno de los usos más populares que se le da es para ciencia de datos y machine learning.\n",
    "\n",
    "Tenemos algunos módulos y librerías que son de utilidad y casi indispensables para trabajar en este campo, entre ellas tenemos:"
   ]
  },
  {
   "cell_type": "markdown",
   "metadata": {},
   "source": [
    "* **Numpy:** Es una librería de matemáticas que nos ayuda a trabajar con arrays de n-dimensiones, esto nos permite realizar ciertos cómputos de forma más eficaz y efectiva. Nos permite extender muchísimo nuestros alcances con el lenguaje, por ejemplo, agiliza mucho el proceso al trabajar con arrays, diccionarios, funciones, estructuras de datos y al trabajar con imágenes.\n",
    "\n",
    "* **SciPy:** Es una colección de algoritmos numéricos y herramientas de dominio específico (domain-specific toolboxes), incluyendo el procesamiento de señales, optimización, estadística y más. Es una buena librería para científicos y para computación de alto rendimiento.\n",
    "\n",
    "* **matplotlib:** Es un paquete muy famoso para graficar en 2D y 3D.\n",
    "\n",
    "* **pandas:** es una librería de Python de alto nivel que nos proporciona cómputos de alto rendimiento al trabajar con estructuras de datos, cuenta con muchas funciones para importar datos, manipularlos y analizarlos. En particular ofrece estructuras de datos y operaciones para manipular tablas numéricas y series temporales (time series).\n",
    "\n",
    "* **scikit-learn:** Es una colección de algoritmos y herramientas para machine learning.\n",
    "\n",
    "![](https://i.imgur.com/VYyhoWp.png)"
   ]
  },
  {
   "cell_type": "markdown",
   "metadata": {},
   "source": [
    "#### Más sobre scikit-learn"
   ]
  },
  {
   "cell_type": "markdown",
   "metadata": {},
   "source": [
    "¿Por qué es tan popular?\n",
    "\n",
    "* Es una librería gratuita para trabajar en machine learning.\n",
    "* Contiene la mayor parte de herramientas para trabajar con algoritmos de clasificación, regresión y agrupamiento.\n",
    "* Está diseñado para trabajar con NumPy and SciPy.\n",
    "* Tiene una muy buena documentación.\n",
    "* Es muy fácil de implementar."
   ]
  },
  {
   "cell_type": "markdown",
   "metadata": {},
   "source": [
    "Muchas de las tareas que nos interesa realizar en machine learning ya están implementadas dentro de scikit learn, incluyendo pre-procesado de datos, selección de features(características de interés), extracción de features, train/test splitting, definición de algoritmos, modelos de ajuste, parámetros de ajuste, predicciones, evaluación y exportación de modelos."
   ]
  },
  {
   "cell_type": "markdown",
   "metadata": {},
   "source": [
    "![](https://i.imgur.com/CYjPCMH.png)"
   ]
  },
  {
   "cell_type": "markdown",
   "metadata": {},
   "source": [
    "Vamos a ver un pequeño ejemplo:"
   ]
  },
  {
   "cell_type": "markdown",
   "metadata": {},
   "source": [
    "Los algoritmos de machine learning se benefician de la estandarización de los data set. Si hay algunos valores atípicos, o campos a diferentes escalas en nuestro data set, tenemos que arreglarlos.\n",
    "\n",
    "El paquete `preprocessing` de `scikit learn` nos provee algunas funciones de utilidad que son comunes de usar y clases `transformer` para cambiar nuestros vectores de características sin tener que procesar en una representación que sea más adecuada para los estimadores posteriores."
   ]
  },
  {
   "cell_type": "markdown",
   "metadata": {},
   "source": [
    "```Python\n",
    "from sklearn import preprocessing\n",
    "X = preprocessing.StandardScaler().fit(X).transform(X)```"
   ]
  },
  {
   "cell_type": "markdown",
   "metadata": {},
   "source": [
    "Tenemos que dividir nuestro conjunto de datos en **conjunto de prueba** y **conjunto de entrenamiento** para proceder a entrenar el modelo, luego probar la precisión del modelo por separado.\n",
    "\n",
    "Scikit learn puede dividir matrices o arrays en conjuntos aleatorios de pruebas y probar los subconjuntos por nosotros:"
   ]
  },
  {
   "cell_type": "markdown",
   "metadata": {},
   "source": [
    "```Python\n",
    "from sklearn.model_selection import train_test_split\n",
    "X_train, X_test, y_train, y_test = train_test_split(X, y, test_size=0.33)\n",
    "```"
   ]
  },
  {
   "cell_type": "markdown",
   "metadata": {},
   "source": [
    "Después, ya podemos configurar nuestro algoritmo. Por ejemplo, podemos crear un clasificador utilizando un algoritmo de clasificación de vectores de soporte:"
   ]
  },
  {
   "cell_type": "markdown",
   "metadata": {},
   "source": [
    "```Python\n",
    "from sklearn import svm\n",
    "clf = svm.SVC(gamma = 0.001, C=100.)\n",
    "```"
   ]
  },
  {
   "cell_type": "markdown",
   "metadata": {},
   "source": [
    "Llamamos a nuestra instancia de estimación/estimador `clf` e inicializamos sus parámetros."
   ]
  },
  {
   "cell_type": "markdown",
   "metadata": {},
   "source": [
    "Ahora, podemos entrenar nuestro modelo con nuestro set de entrenamiento:"
   ]
  },
  {
   "cell_type": "markdown",
   "metadata": {},
   "source": [
    "```py\n",
    "clf.fit(X_train, y_train)\n",
    "```"
   ]
  },
  {
   "cell_type": "markdown",
   "metadata": {},
   "source": [
    "Pasando nuestro conjunto de entrenamiento al método de ajuste, el modelo `clf` aprenderá a clasificar casos desconocidos."
   ]
  },
  {
   "cell_type": "markdown",
   "metadata": {},
   "source": [
    "Después, podemos usar nuestro set de testeo para realizar algunas predicciones:"
   ]
  },
  {
   "cell_type": "markdown",
   "metadata": {},
   "source": [
    "```Python\n",
    "clf.predict(X_test)\n",
    "```"
   ]
  },
  {
   "cell_type": "markdown",
   "metadata": {},
   "source": [
    "Y el resultado nos dice cuál es la clase de cada valor desconocido."
   ]
  },
  {
   "cell_type": "markdown",
   "metadata": {},
   "source": [
    "Además, podemos utilizar diferentes métricas para evaluar la precisión del modelo, por ejemplo, utilizando una matriz de confusión (confusion matrix) para mostrar los resultados:"
   ]
  },
  {
   "cell_type": "markdown",
   "metadata": {},
   "source": [
    "```Python\n",
    "form sklearn.metrics import confusion_matrix\n",
    "print(confusion_matrix(y_test, yhat, labels=[1,0]))\n",
    "```"
   ]
  },
  {
   "cell_type": "markdown",
   "metadata": {},
   "source": [
    "Y finalmente, guardamos nuestro modelo:"
   ]
  },
  {
   "cell_type": "markdown",
   "metadata": {},
   "source": [
    "```Python\n",
    "import pickle\n",
    "s = pickle.dumps(clf)\n",
    "```"
   ]
  },
  {
   "cell_type": "markdown",
   "metadata": {},
   "source": [
    "Más adelante indagará con más detalle en cada uno de los conceptos e instrucciones utilizadas. Por ahora, mantengamos el punto más importante de todo eso y es que, el proceso entero de una tarea realizada con Machine Learning puede hacerse de una manera muy simple en unas pocas líneas de código utilizando `scikit learn`.\n",
    "\n",
    "Esto sería posible desarrollarlo utilizando Numpy o Scipy, pero no sería una tarea igual de sencilla. De hecho, acomplejaríamos mucho más el proceso solo por hacerlo de una forma más \"artesanal\"."
   ]
  },
  {
   "cell_type": "markdown",
   "metadata": {},
   "source": [
    "---"
   ]
  },
  {
   "cell_type": "markdown",
   "metadata": {},
   "source": [
    "### Algoritmos supervisados vs no supervisados"
   ]
  },
  {
   "cell_type": "markdown",
   "metadata": {},
   "source": [
    "#### Aprendizaje supervisado "
   ]
  },
  {
   "cell_type": "markdown",
   "metadata": {},
   "source": [
    "Por su nombre podemos intuir que va a existir alguien que supervise y se encargue de dirigir la ejecución del algoritmo. Por ejemplo, podemos supervisar un modelo de machine learning de clasificación como el siguiente:"
   ]
  },
  {
   "cell_type": "markdown",
   "metadata": {},
   "source": [
    "![](https://i.imgur.com/GwUr1Ch.png)"
   ]
  },
  {
   "cell_type": "markdown",
   "metadata": {},
   "source": [
    "El cual se encargará de crear regiones de clasificación. Entonces, ¿cómo supervisamos un algoritmo de machine learning? Lo que hacemos es cargar al modelo con conocimiento previo sobre los datos de forma que pueda predecir instancias futuras, por ejemplo, con una fracción de nuestro data set que ya venga **previamente etiquetada**, es decir, ya tenemos ubicadas las características o **atributos** que nos interesan y cada dato de nuestro data set recibe algún valor en cada parámetro.\n",
    "\n",
    "Un data set etiquetado luciría como el siguiente:"
   ]
  },
  {
   "cell_type": "markdown",
   "metadata": {},
   "source": [
    "![](https://i.imgur.com/4dVapXs.png)"
   ]
  },
  {
   "cell_type": "markdown",
   "metadata": {},
   "source": [
    "De forma que ya tenemos definidas las clases en las que queremos dividir nuestros datos, que en este caso son **células malignas o benignas** a partir de nuestros atributos **Clump, UnifSizem UnifShape, etc.** Entonces, tenemos en las columnas a nuestras características o features y los datos individuales de cada paciente en cada columna.\n",
    "\n",
    "Si trazamos o dibujamos estos datos y observamos un solo punto de datos en nuestro gráfico vamos a tener toda la información de sus atributos \"compactada\"."
   ]
  },
  {
   "cell_type": "markdown",
   "metadata": {},
   "source": [
    "Notemos que en esta tabla podemos tener datos de 2 tipos, **numéricos y categóricos**. Los numéricos son aquellos con los que trabajaremos más frecuentemente en machine learning, en este caso simplemente le asignamos un valor numérico a nuestros features; en el caso de los datos categóricos son no numéricos ya que contienen letras en lugar de números. En éste caso es categórico por que este data set esta hecho para hacer clasificación de \"benigno\" o \"maligno\"."
   ]
  },
  {
   "cell_type": "markdown",
   "metadata": {},
   "source": [
    "Hay 2 técnicas de aprendizaje supervisado, **clasificación** y **regresión**."
   ]
  },
  {
   "cell_type": "markdown",
   "metadata": {},
   "source": [
    "![](https://i.imgur.com/uUSZdbh.png)"
   ]
  },
  {
   "cell_type": "markdown",
   "metadata": {},
   "source": [
    "* En la **clasificación** el proceso es tratar de predecir una una etiqueta de clase discreta o una categoría a la que pertenecen los datos.\n",
    "\n",
    "![](https://i.imgur.com/KMXqMCJ.png)"
   ]
  },
  {
   "cell_type": "markdown",
   "metadata": {},
   "source": [
    "* En el caso de la **regresión** tratamos de predecir un valor continuo en lugar de predecir un valor categórico de clasificación.\n",
    "\n",
    "![](https://i.imgur.com/0INWFo0.png)"
   ]
  },
  {
   "cell_type": "markdown",
   "metadata": {},
   "source": [
    "En el caso de arriba tenemos un data set en donde el cual teneos las emisiones de $CO_2$ de diferentes autos, y como features tenemos el tamaño del motor, los cilindros, consumo de combustible y las emisiones de $CO_2$. Dado este data set podemos aplicar una regresión para predecir la emisión de un nuevo vehículo dadas sus características, como es en el caso del dato #9."
   ]
  },
  {
   "cell_type": "markdown",
   "metadata": {},
   "source": [
    "#### Aprendizaje no supervisado"
   ]
  },
  {
   "cell_type": "markdown",
   "metadata": {},
   "source": [
    "A partir de lo anterior podemos intuir que ahora para el caso del aprendizaje NO supervisado tendremos un data set que **no está previamente etiquetado**. Esto en parte es por que queremos descubrir información de nuestro data set que puede ser muy difícil para el ojo humano, así que **lo que nos interesa es que el modelo descubra esta información o patrones por sí mismo.**\n",
    "\n",
    "En otras palabras, le pasamos nuestro data set al modelo y el sólo saca conclusiones sobre los datos no etiquetados."
   ]
  },
  {
   "cell_type": "markdown",
   "metadata": {},
   "source": [
    "![](https://i.imgur.com/oujZLxj.png)"
   ]
  },
  {
   "cell_type": "markdown",
   "metadata": {},
   "source": [
    "En general, los algoritmos de aprendizaje no supervisado suelen ser más complicados que los supervisados ya que conocemos muy poco o nada sobre nuestros datos y aún menos de los datos que esperamos obtener a la salida.\n",
    "\n",
    "Entre las técnicas más famosas de aprendizaje no supervisado tenemos:\n",
    "\n",
    "* **Reducción de dimensiones o selección de características:** Juega un papel importante al reducir la redundancia en las características de los datos para facilitar la clasificación.\n",
    "\n",
    "* **Estimación de densidad:** Es un concepto relativamente simple que es mayormente usado para explorar los datos en busca de una estructura subyacente en ellos.\n",
    "\n",
    "* **Análisis de canasta de mercado(Market basket analysis):** Es una técnica de modelado basada en la teoría de que si compras un determinado grupo de productos, tienes más probabilidad de comprar algún otro grupo de productos específicos.\n",
    "\n",
    "* **Clustering o agrupamiento:** Es considerada la técnica más famosa de aprendizaje no supervisado, la cual consiste en agrupar nuestros puntos de datos u objetos en algún grupo o área que contenga más elementos con características similares entre sí. Tiene muchas aplicaciones por ejemplo, un banco puede segmentar a sus clientes en función de ciertas características, o para empresas como spotify para organizar los grupos que coinciden con tus gustos musicales. \n",
    "    El clustering es usado en su mayoría para:\n",
    "    * Descubrir estructuras en los datos\n",
    "    * Compactar información (summarization)\n",
    "    * Detección de anomalías"
   ]
  },
  {
   "cell_type": "markdown",
   "metadata": {},
   "source": [
    "![](https://i.imgur.com/HO5RyHF.png)"
   ]
  },
  {
   "cell_type": "markdown",
   "metadata": {},
   "source": [
    "### Evaluación del módulo"
   ]
  },
  {
   "cell_type": "markdown",
   "metadata": {},
   "source": [
    "1. El Machine learning utiliza algoritmos que pueden aprender de los datos sin depender de métodos explícitamente programados para ello.\n",
    "\n",
    "    * `True`"
   ]
  },
  {
   "cell_type": "markdown",
   "metadata": {},
   "source": [
    "2. ¿Cuales son 2 técnicas de aprendizaje supervisado?\n",
    "\n",
    "\n",
    "* Classification and Clustering\n",
    "* Classification and K-Means\n",
    "* Regression and Clustering\n",
    "* Regression and Partitioning\n",
    "* Classification and Regression\n",
    "\n",
    "    * `Classification and Regression`"
   ]
  },
  {
   "cell_type": "markdown",
   "metadata": {},
   "source": [
    "3. ¿Cuál de las siguientes declaraciones describe mejor a la librería de Python `scikit` ?\n",
    "\n",
    "\n",
    "* A library for scientific and high-performance computation.\n",
    "* A collection of algorithms and tools for machine learning.\n",
    "* A popular plotting package that provides 2D plotting as well as 3D plotting.\n",
    "* A library that provides high-performance, easy to use data structures.\n",
    "* A collection of numerical algorithms and domain-specific toolboxes.\n",
    "\n",
    "    * `A collection of algorithms and tools for machine learning.`"
   ]
  },
  {
   "cell_type": "markdown",
   "metadata": {},
   "source": [
    "---"
   ]
  },
  {
   "cell_type": "markdown",
   "metadata": {},
   "source": [
    "## Modulo 2. Regresión"
   ]
  },
  {
   "cell_type": "markdown",
   "metadata": {},
   "source": [
    "### Objetivos"
   ]
  },
  {
   "cell_type": "markdown",
   "metadata": {},
   "source": [
    "Se tratará de aprender sobre:\n",
    "\n",
    "* Algoritmos de regresión \n",
    "* Modelos de evaluación\n",
    "    * Sobreajuste y desajuste (Overfitting & Underfitting).\n",
    "    * Entender los diferentes modelos de evaluación\n",
    "* Regresión lineal simple"
   ]
  },
  {
   "cell_type": "markdown",
   "metadata": {},
   "source": [
    "### Introducción a la regresión"
   ]
  },
  {
   "cell_type": "markdown",
   "metadata": {},
   "source": [
    "Recordemos el ejemplo donde tenemos un data set con información de distintos modelos de automóviles y su correspondiente emisión de $CO_2$, donde tenemos la información de ciertos features como el tamaño del motor, los cilindros y el consumo de combustible. Y lo que tratamos de hacer es, en base a esos datos previos, predecir cómo serían las emisiones para un carro que recién se está manufacturando con ciertas características."
   ]
  },
  {
   "cell_type": "markdown",
   "metadata": {},
   "source": [
    "![](https://i.imgur.com/o72JTSB.png)"
   ]
  },
  {
   "cell_type": "markdown",
   "metadata": {},
   "source": [
    "Hacemos uso de métodos de regresión para obtener una predicción de **valores continuos** como es el caso de la emisión de $CO_2$ utilizando las variables de las que disponemos. De hecho, la **regresión es el proceso de predecir un valor continuo.** "
   ]
  },
  {
   "cell_type": "markdown",
   "metadata": {},
   "source": [
    "En una regresión tenemos 2 tipos de variables:\n",
    "* Una variable dependiente (depende de otra, usualmente denotada con $y$), en este caso, nuestros valores de emisiones de $CO_2$\n",
    "* Una o más variables independientes (pueden tomar cualquier valor, denotadas con $x$), en este caso, los parámetros de nuestro automóvil.\n",
    "\n",
    "La variable dependiente puede verse como el \"estado\" u \"objetivo final\" que estamos estudiando y tratando de predecir. Mientras que las variables independientes, también conocidas como variables \"explicativas\"; pueden verse como los posibles casos o \"estados\" que puede tomar nuestro sistema.\n",
    "\n",
    "Lo que hace una regresión es relacionar a la variable dependiente $y$ con la variable o variables independientes $x$ a través de una función $f(x)=y$. **El punto clave de la regresión está en que nuestros valores dependientes deben de ser continuos y no pueden ser valores discretos.** Sin embargo, las variables independientes pueden medirse ya sea de forma categórica o con una escala de medición continua."
   ]
  },
  {
   "cell_type": "markdown",
   "metadata": {},
   "source": [
    "Entonces lo que estamos haciendo es recopilar la información que tenemos sobre nuestros automóviles previamente facturados, conociendo sus características y midiendolas en una cierta escala numérica o categórica, para después crear un modelo basado en regresión que nos ayude a predecir, basado en los datos anteriores; cuál será su emisión aproximada de $CO_2$ para dicho modelo de auto, obteniendo el resultado como un valor numérico continuo."
   ]
  },
  {
   "cell_type": "markdown",
   "metadata": {},
   "source": [
    "![](https://i.imgur.com/51cK6wC.png)"
   ]
  },
  {
   "cell_type": "markdown",
   "metadata": {},
   "source": [
    "Tenemos 2 tipos de modelos de regresión:\n",
    "\n",
    "* **Regresión simple:** En este caso, usamos **una variable independiente** para estimar a la variable dependiente por ejemplo, al tratar de predecir la cantidad de $CO_2$ vs el tamaño del motor. Podemos tener:\n",
    "\n",
    "    * Regresión lineal simple\n",
    "    * Regresión no lineal simple\n",
    "    \n",
    " Básicamente lo que estamos haciendo es estimar la relación entre una de las variables y el valor que estamos tratando de predecir.\n",
    "    \n",
    "    \n",
    "* **Regresión múltiple:** En este caso estamos usando **más de una variable independiente** para predecir nuestra variable dependiente. Podemos tener los casos:\n",
    "    * Regresión lineal múltiple\n",
    "    * Regresión no lineal múltiple\n",
    "    \n",
    " Por ejemplo en el caso donde tratemos de predecir la cantidad de emisiones de $CO_2$ vs Tamaño del motor **y** los cilindros del mismo. "
   ]
  },
  {
   "cell_type": "markdown",
   "metadata": {},
   "source": [
    "![](https://i.imgur.com/KPXMoRD.png)"
   ]
  },
  {
   "cell_type": "markdown",
   "metadata": {},
   "source": [
    "#### Aplicaciones de la regresión"
   ]
  },
  {
   "cell_type": "markdown",
   "metadata": {},
   "source": [
    "Ya que sabemos que utilizamos la regresión cuando queremos obtener valores continuos, podemos aplicarlo para:"
   ]
  },
  {
   "cell_type": "markdown",
   "metadata": {},
   "source": [
    "* Pronósticos de ventas: Podemos intentar predecir las ventas anuales totales de un vendedor a partir de variables independientes como su edad, educación y años de experiencia.\n",
    "\n",
    "* En psicología: Para obtener un análisis de satisfacción individual basado en factores demográficos y psicológicos.\n",
    "\n",
    "* Estimación de precios: Podemos obtener una aproximación del precio de una casa en determinada área, basandonos en el tamaño, cantidad de habitaciones, etc.\n",
    "\n",
    "* Estimar ingresos laborales: A partir de variables independientes como el trabajo, educación, ocupación, sexo, edad, años de experiencia, etc."
   ]
  },
  {
   "cell_type": "markdown",
   "metadata": {},
   "source": [
    "---"
   ]
  },
  {
   "cell_type": "markdown",
   "metadata": {},
   "source": [
    "### Regresión lineal simple"
   ]
  },
  {
   "cell_type": "markdown",
   "metadata": {},
   "source": [
    "Para este ejemplo retomemos nuestra tabla de emisiones de $CO_2$ de los automóviles."
   ]
  },
  {
   "cell_type": "markdown",
   "metadata": {},
   "source": [
    "![](https://i.imgur.com/o72JTSB.png)"
   ]
  },
  {
   "cell_type": "markdown",
   "metadata": {},
   "source": [
    "Y ahora nos preguntamos, ¿Podemos estimar la cantidad de emisiones del carro #9 **basandonos sólo en el tamaño de su motor**? Rápidamente podemos contestar que sí, y para ello tendríamos que hacer uso de una regresión lineal para obtener esa estimación, más específicamente, una regresión lineal simple ya que solo estamos relacionando una sola variable independiente con nuestra variable dependiente. \n",
    "\n",
    "Solo recordemos que el punto clave o nuestra restricción, por así decirlo; es que nuestra variable dependiente debe de ser una variable continua, mientras que la variable independiente puede ser categórica o numérica en una escala de medición continua."
   ]
  },
  {
   "cell_type": "markdown",
   "metadata": {},
   "source": [
    "![](https://i.imgur.com/uVq5PqL.png)"
   ]
  },
  {
   "cell_type": "markdown",
   "metadata": {},
   "source": [
    "Ahora que ya sabemos que para este planteamiento tendríamos que usar una regresión lineal simple, vamos a graficar nuestros datos (en este caso suponiendo un data set más grande que solo 8 puntos)."
   ]
  },
  {
   "cell_type": "markdown",
   "metadata": {},
   "source": [
    "![](https://i.imgur.com/ZeNDl3T.png)"
   ]
  },
  {
   "cell_type": "markdown",
   "metadata": {},
   "source": [
    "En este caso tenemos una gráfica de dispersión, la cual nos muestra la relación entre las variables donde los cambios en una variable \"explican\" o posiblemente \"causan\" cambios en la otra. Además, nos indica que las variables están relacionadas linealmente.\n",
    "\n",
    "Cuando efectuamos la regresión lineal podemos ajustar una línea a través de los datos. De forma que estamos aproximando la relación de dependencia entre una variable y otra.\n",
    "\n",
    "Y encontramos que a medida en que el tamaño de los motores aumenta, también aumentan las emisiones de $CO_2$."
   ]
  },
  {
   "cell_type": "markdown",
   "metadata": {},
   "source": [
    "![](https://i.imgur.com/TNvpgW1.png)"
   ]
  },
  {
   "cell_type": "markdown",
   "metadata": {},
   "source": [
    "Un buen modelo puede ayudarnos a predecir cuál es la emisión aproximada de cada automóvil.\n",
    "\n",
    "Ahora, ¿Qué hacemos con la linea que obtenemos con la regresión? Supongamos que la línea que obtuvimos es un buen ajuste a nuestros datos y ahora queremos usarla para predecir la emisión de un modelo de automóvil desconocido en nuestro data set. Por ejemplo, para un coche con un motor de tamaño 2.4.\n",
    "\n",
    "Entonces, basandonos en la línea obtenida en la regresión buscamos en nuestro eje X (en el tamaño del motor) el valor 2.4 y después buscamos cuál sería el valor asignado de las emisiones correspondientes a ese  tamaño, obteniendo que la emisión sería de 214."
   ]
  },
  {
   "cell_type": "markdown",
   "metadata": {},
   "source": [
    "![](https://i.imgur.com/SYPZeut.png)"
   ]
  },
  {
   "cell_type": "markdown",
   "metadata": {},
   "source": [
    "Ahora, hablemos sobre que es realmente esta línea de ajuste.\n",
    "\n",
    "Vamos a denotar a nuestra variables de la forma:\n",
    "\n",
    "* $y$: Variable **dependiente**\n",
    "* $x_1$: Variable **independiente**, correspondiente al tamaño del motor \n",
    "* $\\theta _0$ y $\\theta _1$: Parámetros de la línea que debemos de ajustar, también conocidos como **coeficientes de la ecuación lineal**\n",
    "    * $\\theta _ 1$: Es nuestra pendiente o **gradiente** de nuestra linea de ajuste\n",
    "    * $\\theta _ 0$: Es conocida como la **intersección**\n",
    "\n",
    "Nuestra línea de ajuste, para un caso de una regresión simple; se muestra generalmente como un polinomio de la forma:\n",
    "\n",
    "$$\\widehat{y} = \\theta _0 + \\theta _1 x_1$$\n",
    "\n"
   ]
  },
  {
   "cell_type": "markdown",
   "metadata": {},
   "source": [
    "Ahora podemos preguntarnos, ¿Cómo dibujamos una línea que atraviese los puntos?, y, ¿Cómo determinamos que línea \"encaja\" mejor? \n",
    "\n",
    "Para ello, la regresión lineal se encarga de estimar los coeficientes de las lineas, al final no esta haciendo más que calcular $\\theta _ 0$ y $\\theta _ 1$ para dar con la línea que mejor se ajusta al data set. Y esta línea sería la que estime de mejor manera la emisión de nuestros nuevos puntos de datos desconocidos."
   ]
  },
  {
   "cell_type": "markdown",
   "metadata": {},
   "source": [
    "Vamos a ver como podríamos encontrar esta línea, o más bien, cómo la podríamos ajustar para que encaje mejor con nuestro data set."
   ]
  },
  {
   "cell_type": "markdown",
   "metadata": {},
   "source": [
    "Por un momento vamos a asumir que hemos encontrado la línea que mejor se ajusta a nuestros datos. Ahora, repasemos todos los puntos y verifiquemos si también se alinean con esta línea.\n",
    "\n",
    "Por ejemplo, podemos buscar en nuestros datos el valor $x_1= 5.4$ y vemos que se corresponde con el valor $y= 250$, pero al buscar el valor al que corresponde $x_1=5.4$ en nuestra línea obtenida, o mejor dicho, en nuestro polinomio con parámetros conocidos para predecir la emisión de $CO_2$; vemos que se correspondería con el valor $\\widehat{y}= 340$"
   ]
  },
  {
   "cell_type": "markdown",
   "metadata": {},
   "source": [
    "![](https://i.imgur.com/P5SViz8.png) "
   ]
  },
  {
   "cell_type": "markdown",
   "metadata": {},
   "source": [
    "Si comparamos el valor que tenemos en nuestros datos y el valor que predice nuestra línea veríamos que tenemos un error de 90 unidades, por lo que podemos darnos cuenta de que nuestras predicciones no son precisas. A este error le solemos llamar **error residual**. Entonces, podemos decir que el error es la distancia que hay entre el punto que representa nuestro dato respecto a la línea de regresión ajustada. La media de todos los errores residuales nos muestra qué tan mal encaja nuestra línea con todo nuestro conjunto de datos.\n",
    "\n",
    "Matemáticamente podemos expresarlo con la ecuación de error cuadrático medio (MSE) que se expresa de la forma:\n",
    "\n",
    "$$\\text{MSE}=\\frac{1}{n} \\sum_{i=1}^{n}{(y_i - \\widehat{y}_i)^2}$$"
   ]
  },
  {
   "cell_type": "markdown",
   "metadata": {},
   "source": [
    "Nuestro objetivo es encontrar una línea que minimice la ecuación MSE. En otras palabras, debemos de minimizar el error de nuestras predicciones basadas en la línea de ajuste obtenida. Y para lograr esto debemos de encontrar los mejores parámetros $\\theta _0$ y $\\theta _1$, pero ¿Cómo logramos esto?\n",
    "\n",
    "Tenemos 2 enfoques para lograr esto:\n",
    "\n",
    "* Enfoque matemático\n",
    "* Enfoque de optimización"
   ]
  },
  {
   "cell_type": "markdown",
   "metadata": {},
   "source": [
    "Veamos cómo lo lograríamos usando un enfoque matemático para encontrar $\\theta _0$ y $\\theta _1$.\n",
    "\n",
    "Podemos usar una ecuación muy simple para estimarlos. Dado que es una regresión lineal simple, con sólo 2 parámetros y sabiendo que $\\theta _0$ y $\\theta _1$ son la son la intersección y la pendiente, podemos estimarlos directamente desde nuestros datos. Para ello vamos a sacar la media de nuestros valores $x_1$ y la media de nuestros valores $y$."
   ]
  },
  {
   "cell_type": "markdown",
   "metadata": {},
   "source": [
    "![](https://i.imgur.com/83bn8Dm.png)"
   ]
  },
  {
   "cell_type": "markdown",
   "metadata": {},
   "source": [
    "Recordando nuestra ecuación para nuestra línea:\n",
    "\n",
    "$$\\widehat{y} = \\theta _0 + \\theta _1 x_1$$"
   ]
  },
  {
   "cell_type": "markdown",
   "metadata": {},
   "source": [
    "Se puede demostrar que que la intersección y la pendiente pueden ser calculadas por las ecuaciones:\n",
    "\n",
    "$$\\theta _1 = \\frac{\\sum_{i=1}^{s}{(x_i- \\bar x)(y_1 - \\bar y)}}{\\sum_{i=1}^{s}{(x_i-\\bar x)^2}}$$\n",
    "\n",
    "\n",
    "$$\\theta _0 = \\bar y - \\theta _1 \\bar x$$"
   ]
  },
  {
   "cell_type": "markdown",
   "metadata": {},
   "source": [
    "Primero, obtenemos las medias de los $x_1$ y $y$:\n",
    "\n",
    "$$\\bar x = \\frac{2.0+2.4+1.5+...+3.7}{9}=\\frac{27.3}{9}=3.033$$\n",
    "\n",
    "$$\\bar y = \\frac{196+221+136+...+267}{9}=\\frac{2036}{9}=226.22$$"
   ]
  },
  {
   "cell_type": "markdown",
   "metadata": {},
   "source": [
    "Ahora, calculamos $\\theta _1$:\n",
    "\n",
    "$$\\theta _1 = \\frac{(2.0-3.03)(196-226.22)+ (2.4-3.033)(221-226.22)+...+(3.7-3.033)(267-226.22)}{(2.0-3.033)^2+(2.4-3.033)^2+...+(3.7-3.033)^2}=\\frac{245.43334}{5.798091}= 42.33$$"
   ]
  },
  {
   "cell_type": "markdown",
   "metadata": {},
   "source": [
    "Y ahora calculamos $\\theta _0$:\n",
    "\n",
    "$$\\theta _0 = 226.22 - (42.33)(3.033)= 97.83311$$"
   ]
  },
  {
   "cell_type": "markdown",
   "metadata": {},
   "source": [
    "Decimos que $\\alpha _0$ es nuestro coeficiente de sesgo y $\\theta _1$ es nuestro coeficiente de emisión de $CO_2$. Y podemos reescribir nuestra ecuación de la forma:\n",
    "\n",
    "$$\\widehat{y} = 97.83311 + 42.33 x_1$$"
   ]
  },
  {
   "cell_type": "markdown",
   "metadata": {},
   "source": [
    "Entonces, ahora sabemos como encontrar el mejor ajuste para nuestros datos y su ecuación. ¿Cómo podremos usarlo para predecir las emisiones de un automóvil nuevo en función del tamaño de su motor?\n",
    "\n",
    "Bueno, pues una vez que ya conocemos los parámetros de nuestra ecuación lineal, hacer predicciones es una tarea tan simple como resolver la ecuación para un conjunto especifico de entradas (sustituir)."
   ]
  },
  {
   "cell_type": "markdown",
   "metadata": {},
   "source": [
    "$$\\widehat{y} = \\theta _0 + \\theta _1 x_1$$\n",
    "\n",
    "$$\\text{Emisión de CO_2} = \\theta _0 + \\theta _1 (\\text{Tamaño del motor})$$\n",
    "\n",
    "$$\\text{Emisión de CO_2} = 97.83311 + 42.33 (\\text{Tamaño del motor})$$"
   ]
  },
  {
   "cell_type": "markdown",
   "metadata": {},
   "source": [
    "Ahora podemos estimar la emisión de nuestro auto #9 que tieme un motor de tamaño 2.4:\n",
    "\n",
    "$$\\text{Emisión de CO_2} = 97.83311 + 42.33 (2.4) = 199.42511$$"
   ]
  },
  {
   "cell_type": "markdown",
   "metadata": {},
   "source": [
    "#### ¿Por que es tan importante la regresión lineal?"
   ]
  },
  {
   "cell_type": "markdown",
   "metadata": {},
   "source": [
    "* Es muy rápida\n",
    "* No requiere que ajustemos los parámetros cómo en el caso de K-Nearest Neighboors, donde nosotros teníamos que elegir el parámetro K.\n",
    "* Es fácil de entender y altamente interpretable."
   ]
  },
  {
   "cell_type": "markdown",
   "metadata": {},
   "source": [
    "### Conceptos matemáticos de la regresión lineal simple"
   ]
  },
  {
   "cell_type": "markdown",
   "metadata": {},
   "source": [
    "Primero, representamos el comportamiento de nuestra variable $y$ (variable que queremos predecir) a través de una variable $x$, es decir, con una función:\n",
    "\n",
    "$$\\tag{1} y=f(x)$$"
   ]
  },
  {
   "cell_type": "markdown",
   "metadata": {},
   "source": [
    "Si consideramos que la relación $f$, que liga a $y$ y $x$, es lineal (una linea recta), entonces podemos reescribir a (1) de la forma:\n",
    "\n",
    "$$\\tag{2} Y_t = \\beta _1 + \\beta _2 X_t$$"
   ]
  },
  {
   "cell_type": "markdown",
   "metadata": {},
   "source": [
    "Las relaciones del tiempo anterior raramente son exactas ya que suelen ser exactas, más bien son aproximaciones en las que hemos omitido muchas variables de importancia secundaria. Debemos de incorporar un término de perturbación aleatoria $u_1$, que refleje todos los factores distintos de $x$ que pueden influir sobre nuestra variable endógena ($y$), pero ninguno de ellos es relevante individualmente. Con ello, reescribiríamos nuestras relación de la siguiente forma:\n",
    "\n",
    "$$\\tag{3 }Y_t = \\beta _1 + \\beta _2 X_t + u_1$$\n",
    "\n",
    "Como estamos reflejando una relación lineal, y además, solo interviene una sola variable $X_t$, por lo que decimos que es una **relación lineal simple**."
   ]
  },
  {
   "cell_type": "markdown",
   "metadata": {},
   "source": [
    "Supongamos ahora que disponemos de **$T$ observaciones de la variable $Y$** ($Y_1, Y_2, ... , Y_T$) y de las correspondientes observaciones de observaciones de $X$ ($X_1, X_2,...,X_T$). Si hacemos extensiva (3) a la relación entre observaciones, tendremos el siguiente conjunto de $T$ ecuaciones.\n",
    "\n",
    "$$\\begin{aligned}\n",
    "Y_1 &= \\beta _1 + \\beta _2 X_1 + u_1 \\\\\n",
    "Y_2 &= \\beta _1 + \\beta _2 X_2 + u_2 \n",
    "\\end{aligned}$$\n",
    "\n",
    "$$ \\tag{4 }... $$\n",
    "\n",
    "$$\\begin{aligned}\n",
    "Y_T &= \\beta _1 + \\beta _2 X_T + u_T\n",
    "\\end{aligned}$$"
   ]
  },
  {
   "cell_type": "markdown",
   "metadata": {},
   "source": [
    "El sistema de ecuaciones (4) se puede escribir abreviadamente de la siguiente forma:\n",
    "\n",
    "$$\\tag{5}\n",
    "Y_t = \\beta _1 + \\beta _2 X_t + u_t \\quad t = 1,2,...,T$$ "
   ]
  },
  {
   "cell_type": "markdown",
   "metadata": {},
   "source": [
    "El objetivo principal de la regresión es la determinación o estimación de los parámetros $\\beta _1$ y $\\beta _2$ a partir de la información contenida en las observaciones de las que disponemos. Esta estimación puede llevarse a cabo mediante diversos procedimientos. A continuación analizaremos a detalle algunos de los posibles métodos."
   ]
  },
  {
   "cell_type": "markdown",
   "metadata": {},
   "source": [
    "Nos interesa, en primer lugar, realizar una aproximación intuitiva de diferentes criterios de ajuste. Para ello se utiliza la representación gráfica de los observaciones ($X_ t, Y_ t$), con $t=1,2,...,T$. Si la relación lineal de dependencia entre $Y$y $X$ fuera exacta, las observaciones se situarían a lo largo de una recta."
   ]
  },
  {
   "cell_type": "markdown",
   "metadata": {},
   "source": [
    "![](https://i.imgur.com/yoCMA0o.png)"
   ]
  },
  {
   "cell_type": "markdown",
   "metadata": {},
   "source": [
    "Referencias:\n",
    "\n",
    "[Modelo de regresión lineal simple ](https://www.uv.es/uriel/material/Morelisi.pdf)"
   ]
  },
  {
   "cell_type": "markdown",
   "metadata": {},
   "source": [
    "---"
   ]
  },
  {
   "cell_type": "code",
   "execution_count": null,
   "metadata": {},
   "outputs": [],
   "source": []
  }
 ],
 "metadata": {
  "kernelspec": {
   "display_name": "Python 3",
   "language": "python",
   "name": "python3"
  },
  "language_info": {
   "codemirror_mode": {
    "name": "ipython",
    "version": 3
   },
   "file_extension": ".py",
   "mimetype": "text/x-python",
   "name": "python",
   "nbconvert_exporter": "python",
   "pygments_lexer": "ipython3",
   "version": "3.8.3"
  },
  "toc": {
   "base_numbering": "",
   "nav_menu": {},
   "number_sections": false,
   "sideBar": true,
   "skip_h1_title": false,
   "title_cell": "Table of Contents",
   "title_sidebar": "Contents",
   "toc_cell": true,
   "toc_position": {},
   "toc_section_display": true,
   "toc_window_display": false
  }
 },
 "nbformat": 4,
 "nbformat_minor": 4
}
