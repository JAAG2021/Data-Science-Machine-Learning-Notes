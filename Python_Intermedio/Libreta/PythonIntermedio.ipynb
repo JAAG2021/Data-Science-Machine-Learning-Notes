{
 "cells": [
  {
   "cell_type": "markdown",
   "metadata": {
    "toc": true
   },
   "source": [
    "<h1>Table of Contents<span class=\"tocSkip\"></span></h1>\n",
    "<div class=\"toc\"><ul class=\"toc-item\"><li><span><a href=\"#Curso-de-Python-Intermedio\" data-toc-modified-id=\"Curso-de-Python-Intermedio-0\">Curso de Python Intermedio</a></span><ul class=\"toc-item\"><li><span><a href=\"#Módulo-1.-Preparación\" data-toc-modified-id=\"Módulo-1.-Preparación-0.1\">Módulo 1. Preparación</a></span><ul class=\"toc-item\"><li><span><a href=\"#El-Zen-de-Python\" data-toc-modified-id=\"El-Zen-de-Python-0.1.1\">El Zen de Python</a></span></li><li><span><a href=\"#Documentación\" data-toc-modified-id=\"Documentación-0.1.2\">Documentación</a></span></li></ul></li><li><span><a href=\"#Módulo-2.-Entorno-virtual\" data-toc-modified-id=\"Módulo-2.-Entorno-virtual-0.2\">Módulo 2. Entorno virtual</a></span><ul class=\"toc-item\"><li><span><a href=\"#¿Qué-es-un-entorno-virtual?\" data-toc-modified-id=\"¿Qué-es-un-entorno-virtual?-0.2.1\">¿Qué es un entorno virtual?</a></span></li><li><span><a href=\"#Creación-de-un-entorno-virtual\" data-toc-modified-id=\"Creación-de-un-entorno-virtual-0.2.2\">Creación de un entorno virtual</a></span></li><li><span><a href=\"#Instalación-de-dependencias-con-pip\" data-toc-modified-id=\"Instalación-de-dependencias-con-pip-0.2.3\">Instalación de dependencias con pip</a></span></li><li><span><a href=\"#Una-alternativa:-Anaconda\" data-toc-modified-id=\"Una-alternativa:-Anaconda-0.2.4\">Una alternativa: Anaconda</a></span></li></ul></li><li><span><a href=\"#Módulo-3.-Alternativa-a-los-ciclos:-comprehensions\" data-toc-modified-id=\"Módulo-3.-Alternativa-a-los-ciclos:-comprehensions-0.3\">Módulo 3. Alternativa a los ciclos: comprehensions</a></span><ul class=\"toc-item\"><li><span><a href=\"#Listas-y-diccionarios-anidados\" data-toc-modified-id=\"Listas-y-diccionarios-anidados-0.3.1\">Listas y diccionarios anidados</a></span><ul class=\"toc-item\"><li><span><a href=\"#Listas:\" data-toc-modified-id=\"Listas:-0.3.1.1\">Listas:</a></span></li><li><span><a href=\"#Diccionarios\" data-toc-modified-id=\"Diccionarios-0.3.1.2\">Diccionarios</a></span></li></ul></li></ul></li></ul></li></ul></div>"
   ]
  },
  {
   "cell_type": "markdown",
   "metadata": {},
   "source": [
    "---\n",
    "\n",
    "# Curso de Python Intermedio"
   ]
  },
  {
   "cell_type": "markdown",
   "metadata": {},
   "source": [
    "## Módulo 1. Preparación"
   ]
  },
  {
   "cell_type": "markdown",
   "metadata": {},
   "source": [
    "### El Zen de Python"
   ]
  },
  {
   "cell_type": "markdown",
   "metadata": {},
   "source": [
    "Es una colección de 20 principios de software que influyen en el diseño del lenguaje, de los cuales 19 fueron escritos por Tim Peters. "
   ]
  },
  {
   "cell_type": "markdown",
   "metadata": {},
   "source": [
    "Como easter egg podemos acceder a este Zen de Python desde la terminal con el comando:"
   ]
  },
  {
   "cell_type": "code",
   "execution_count": 1,
   "metadata": {},
   "outputs": [
    {
     "name": "stdout",
     "output_type": "stream",
     "text": [
      "The Zen of Python, by Tim Peters\n",
      "\n",
      "Beautiful is better than ugly.\n",
      "Explicit is better than implicit.\n",
      "Simple is better than complex.\n",
      "Complex is better than complicated.\n",
      "Flat is better than nested.\n",
      "Sparse is better than dense.\n",
      "Readability counts.\n",
      "Special cases aren't special enough to break the rules.\n",
      "Although practicality beats purity.\n",
      "Errors should never pass silently.\n",
      "Unless explicitly silenced.\n",
      "In the face of ambiguity, refuse the temptation to guess.\n",
      "There should be one-- and preferably only one --obvious way to do it.\n",
      "Although that way may not be obvious at first unless you're Dutch.\n",
      "Now is better than never.\n",
      "Although never is often better than *right* now.\n",
      "If the implementation is hard to explain, it's a bad idea.\n",
      "If the implementation is easy to explain, it may be a good idea.\n",
      "Namespaces are one honking great idea -- let's do more of those!\n"
     ]
    }
   ],
   "source": [
    "import this"
   ]
  },
  {
   "cell_type": "markdown",
   "metadata": {},
   "source": [
    "---\n",
    "\n",
    "### Documentación"
   ]
  },
  {
   "cell_type": "markdown",
   "metadata": {},
   "source": [
    "Documentar el código de un programa es añadir suficiente información como para explicar lo que hace, punto por punto, de forma que no sólo los ordenadores sepan qué hacer, sino que además los humanos entiendan qué están haciendo y por qué.\n",
    "\n",
    "Documentar un programa no es sólo una buena práctica de un programador, si no que además, es una necesidad que sólo se aprecia en su debida magnitud cuando hay errores que reparar o hay que entender el programa con nuevas capacidades o adaptarlo a un nuevo escenario. Hay 2 cosas que hay que tener en mente:\n",
    "\n",
    "1. Todos los programas tienen errores y descubrirlos es sólo cuestión de tiempo y de que el programa tenga éxito y se utilice frecuentemente o por una gran cantidad de usuarios.\n",
    "    \n",
    "    \n",
    "2. Todos los programas sufren modificaciones a lo largo de su vida, al menos todos aquellos que tienen éxito."
   ]
  },
  {
   "cell_type": "markdown",
   "metadata": {},
   "source": [
    "En la documentación de Python podemos encontrar todas las novedades que se agregan en cada actualización, tutoriales para entender cómo funciona cada una de sus funciones y en general todo el lenguaje en su nivel más fundamental y con más detalle, descripciones de la sintaxis y los elementos del lenguaje entre muchas otras cosas."
   ]
  },
  {
   "cell_type": "markdown",
   "metadata": {},
   "source": [
    "[Python 3.9.4 documentation](https://docs.python.org/3/)"
   ]
  },
  {
   "cell_type": "markdown",
   "metadata": {},
   "source": [
    "También tenemos algo llamado PEP o Propuestas de Mejora de Python, que es una guía de estilo adoptada ampliamente por la comunidad de Python. Facilita la lectura del código y hace más homogéneo el código entre diferentes programadores.\n",
    "\n",
    "Son documentos que nos dicen como funciona el lenguaje y como deberíamos escribir nuestros códigos de manera correcta. Entre todos los PEP destaca el PEP8 ya que es una guía que nos dice como deberíamos de escribir código, buenas prácticas, como seleccionar los nombres de clase, como trabajar la indentación, etc."
   ]
  },
  {
   "cell_type": "markdown",
   "metadata": {},
   "source": [
    "[PEP 8 -- Style Guide for Python Code](https://www.python.org/dev/peps/pep-0008/)\n",
    "\n",
    "[Fragmento de la documentación PDF](https://drive.google.com/file/d/1dSYgA7Xonw1XLMcjrsMXSqDUWLlqi-57/view)\n",
    "\n",
    "---"
   ]
  },
  {
   "cell_type": "markdown",
   "metadata": {},
   "source": [
    "## Módulo 2. Entorno virtual"
   ]
  },
  {
   "cell_type": "markdown",
   "metadata": {},
   "source": [
    "### ¿Qué es un entorno virtual?"
   ]
  },
  {
   "cell_type": "markdown",
   "metadata": {},
   "source": [
    "Primero, recordemos el concepto de módulo. Un módulo es un fragmento de código escrito por otra persona que a nosotros nos sirve para resolver determinado problema. De forma que no tengamos que escribir de nuevo todo ese código por nuestra cuenta y en su lugar, aprovechemos de herramientas que ya han sido creadas y compartidas por otros usuarios.\n",
    "\n",
    "Por ejemplo, anteriormente ya hemos importado el módulo `random` que nos permite trabajar con números aleatorios."
   ]
  },
  {
   "cell_type": "markdown",
   "metadata": {},
   "source": [
    "![](https://i.imgur.com/Mcd2izU.png)"
   ]
  },
  {
   "cell_type": "markdown",
   "metadata": {},
   "source": [
    "Ahora hablemos de ambientes o entornos virtuales, imaginemos primero a nuestra computadora que ya tiene instalado Python y tenemos varios proyectos en los que estamos trabajando. Dependiendo del problema en el que estamos trabajando en cada proyecto nos puede interesar tener varios módulos con los que trabajar, por ejemplo, random, herramientas de gráficado, etc. \n",
    "\n",
    "El problema es que si tenemos todo instalado en nuestro ambiente local (principal) puede que en un momento todo funcione correctamente, pero hay veces donde con las actualizaciones de ciertos módulos podamos tener ciertos problemas. Por ejemplo, hay ocasiones donde el Módulo 2 se actualiza y este tiene problema o deja de ser compatible con el Módulo 1, por lo que nos trae problemas en todos nuestros proyectos al tenerlos instalados simultáneamente en todo nuestro ambiente. \n",
    "\n",
    "Puede que en el proyecto 1 solo nos interesa tener instalado el módulo 2 y en el proyecto 2 el módulo 1, por lo que no tendría que haber problemas de incompatibilidad si los tuvieramos instalados por separado. De aquí es donde sale la necesidad de los *entornos virtuales*."
   ]
  },
  {
   "cell_type": "markdown",
   "metadata": {},
   "source": [
    "Lo que queremos lograr con los ambientes virtuales es, por así decirlo, dividir o seccionar nuestro computador en varias partes donde cada parte funciona correctamente con Python y los módulos que queremos usar en cada proyecto."
   ]
  },
  {
   "cell_type": "markdown",
   "metadata": {},
   "source": [
    "![](https://i.imgur.com/RANUzbx.png)"
   ]
  },
  {
   "cell_type": "markdown",
   "metadata": {},
   "source": [
    "Podemos imaginarlo como si estuvieramos clonando el lenguaje de programación en \"varios lenguajes independientes\", que más bien serían extensiones del lenguaje. Por lo que al momento de actualizar los módulos, nosotros podemos elegir en que proyecto queremos actualizarlos y en cuales no para evitar problemas de compatibilidad."
   ]
  },
  {
   "cell_type": "markdown",
   "metadata": {},
   "source": [
    "![](https://i.imgur.com/wSQ3eto.png)\n",
    "\n",
    "---"
   ]
  },
  {
   "cell_type": "markdown",
   "metadata": {},
   "source": [
    "### Creación de un entorno virtual"
   ]
  },
  {
   "cell_type": "markdown",
   "metadata": {},
   "source": [
    "Para empezar a crear nuestro ambiente virtual vamos a realizar los siguientes pasos:"
   ]
  },
  {
   "cell_type": "markdown",
   "metadata": {},
   "source": [
    "1. Crear una nueva carpeta destinada al proyecto (con `mkdir nombre_de_la_carpeta` desde la terminal).\n",
    "\n",
    "\n",
    "2. Nos posicionamos en la carpeta que creamos (`cd nombre_de_la_carpeta`)\n",
    "\n",
    "\n",
    "3. Como buena práctica inicializamos a la carpeta como un repositorio de Git, para mantener un control de las versiones (`git init`).  Esto nos posicionará en la rama *Master* o *Main* dependiendo la versión y configuración de Git.\n",
    "\n",
    "\n",
    "4. Creamos un \"Python nuevo\", que es el que va a correr en nuestro proyecto \n",
    "\n",
    "    * `py -m venv nombre_del_entorno_virtual` para windows \n",
    "    * `python3 -m venv nombre_del_entorno_virtual` para un sistema de linux. \n",
    "    \n",
    "    Donde `-m` hace referencia a que llamaremos a un módulo del lenguaje y `venv` significa *Virtual Enviorement*. Y por convención el nombre del ambiente suele ser `venv` o `env` . De forma que el comando completo con la convención nos quedaría así:\n",
    "    \n",
    "     `py -m venv venv`\n",
    "     \n",
    "     `py -m venv env`\n",
    "     \n",
    "     \n",
    "5. Una vez que ya está creado nuestro ambiente virtual verificamos que este correctamente creado con el comando `ls` que nos muestra los archivos y carpetas para posteriormente, activar nuestro ambiente virtual. El comando que nos permite activar el ambiente virtual se encuentra en la carpeta `Scripts/` dentro de `venv/`, por lo que para activarlo tendremos que usar la siguiente instrucción:\n",
    "    \n",
    "    * Windows: `.\\venv\\Scripts\\activate` o `.\\venv\\Scripts\\activate.bat`\n",
    "    \n",
    "    * Linux/Mac: `source venv/bin/activate`\n",
    "    \n",
    "    Para salir del ambiente basta con usar el comando:\n",
    "    \n",
    "    `deactivate`\n",
    "    \n",
    "    Para que no sea tan tedioso escribir toda la ruta al activar nuestro ambiente virtual podemos crear un *alias* para acortar el tiempo en el que entramos, en Windows se crea de la siguiente forma:\n",
    "    \n",
    "    `alias nombre_del_alias=.\\venv\\Scripts\\activate.bat`\n",
    "    \n",
    "    `avenv=.\\venv\\Scripts\\activate.bat`\n",
    "    \n",
    "    Y para acceder solo tendríamos que hacer una llamada al comando\n",
    "    \n",
    "    `avenv`\n",
    "\n",
    "Para el caso de sistemas Linux o Mac también podemos usar el alias, pero una vez salimos de la terminal se borrará, por lo que no es de mucha utilidad.\n",
    "\n",
    "---"
   ]
  },
  {
   "cell_type": "markdown",
   "metadata": {},
   "source": [
    "### Instalación de dependencias con pip"
   ]
  },
  {
   "cell_type": "markdown",
   "metadata": {},
   "source": [
    "Dentro de Python tenemos incorporados algunos módulos que por así decirlo, ya vienen incorporados \"de fabrica\", por lo que no tenemos que realizar ninguna instalación extra. Otra historia muy diferente es cuando queremos utilizar ciertos módulos o librerías como *numpy, qiskit, pandas, Pytest, etc*. Los cuales si bien están dentro de Python, no vienen incorporados desde el inicio en nuestro sistema, así que tendremos que realizar una instalación.\n",
    "\n",
    "Para realizar la instalación tenemos que hacer uso de un manejador o instalador de dependencias, en este caso utilizaremos PIP (Package Installer for Python). Básicamente es un módulo que viene incorporado \"de fabrica\" que nos permite instalar de forma más cómoda todos esos módulos extras que queremos incorporar a Python.\n",
    "\n",
    "**NOTA:** Como buena práctica, deberíamos utilizar PIP únicamente dentro de nuestro ambiente virtual. Al menos de que sea un paquete que estamos seguros de que utilizaremos en cada uno de nuestros proyectos, lo cual es algo poco común."
   ]
  },
  {
   "cell_type": "markdown",
   "metadata": {},
   "source": [
    "Para realizar nuestras instalaciones de paquetes con PIP debemos de seguir los siguientes pasos:\n",
    "\n",
    "1. Activar nuestro entorno virtual, para que los paquetes solo se instalen ahí y no tengamos problemas futuros con sus actualizaciones.\n",
    "\n",
    "\n",
    "2. Podemos verificar los paquetes que tenemos instalados usando el comando: \n",
    "\n",
    "    `pip freeze` en windows \n",
    "    \n",
    "    `pip3` en algunos casos de linux o Mac\n",
    "    \n",
    "    \n",
    "3. Realizamos la instalación de la siguiente forma, en este caso instalaremos el módulo Pandas como ejemplo:\n",
    "\n",
    "    `pip install pandas`\n",
    "    \n",
    "    En el caso de Pandas podremos notar que se instalan diferentes paquetes, esto es por que Pandas es un módulo muy complejo y depende de otros paquetes. Al realizar la instalación de Pandas ya incluirá el resto de paquetes que necesite para funcionar por si mismo. Si hacemos de nuevo el comando `pip freeze` veremos que ahora tenemos instalados los siguientes módulos:\n",
    "    \n",
    "    * numpy==1.20.2 \n",
    "    * pandas==1.2.4 \n",
    "    * python-dateutil==2.8.1 \n",
    "    * pytz==2021.1 \n",
    "    * six==1.15.0\n",
    "    \n",
    "   En JavaScript teníamos algo muy similar a `pip` al utilizar el comando `npm`.\n",
    "    \n",
    "    \n",
    "4. Una vez realizada la instalación podremos hacer uso de dicho módulo en todos los proyectos que creemos dentro de esa carpeta.\n",
    "\n",
    "**NOTA:** En caso de ser necesario, podemos actualizar PIP con el comando:\n",
    "\n",
    "`py -m pip install --upgrade pip`"
   ]
  },
  {
   "cell_type": "markdown",
   "metadata": {},
   "source": [
    "Ahora, ¿Que pasaría cuando queremos compartir un proyecto con alguien más y estamos haciendo uso de muchos módulos extras que tuvimos que instalar independientemente? Para que esa persona pueda utilizar tu programa tendría que tener instaladas las mismas dependencias y paquetes que tu, las mismas versiones, etc.\n",
    "\n",
    "Para arreglar eso podemos compartir nuestro archivo de dependencias con el comando:\n",
    "\n",
    "`pip freeze > requirements.txt`\n",
    "\n",
    "Lo que hace este comando es guardar las dependencias con sus respectivas versiones para poder compartir el proyecto con otra persona. \n",
    "\n",
    "Una vez hecho esto, tendremos en nuestra carpeta el archivo `requirements.txt`. Si estamos en consola podemos abrir este archivo con el comando `cat`.\n",
    "\n",
    "`cat requirements.txt`\n",
    "\n",
    "y nos aparecen las dependencias que guardamos de nuestro proyecto."
   ]
  },
  {
   "cell_type": "markdown",
   "metadata": {},
   "source": [
    "Una vez hemos compartido nuestro proyecto, por ejemplo en GitHub y alguien más lo ha clonado en su propio equipo local. Lo único que tiene que hacer para utilizar tu proyecto con exactamente las mismas dependencias es:\n",
    "\n",
    "1. Crear y activar su entorno virtual\n",
    "\n",
    "\n",
    "2. Usar el comando:\n",
    "\n",
    "    `pip install -r requirements.txt`\n",
    "    \n",
    "---"
   ]
  },
  {
   "cell_type": "markdown",
   "metadata": {},
   "source": [
    "### Una alternativa: Anaconda"
   ]
  },
  {
   "cell_type": "markdown",
   "metadata": {},
   "source": [
    "Anaconda es una distribución especial de Python, es un software pensado para el Data Science. Es uns distribución que nos permite crear ambientes virtuales e instalar dependencias de una manera gráfica. Es muy buena opción para ciencia de datos, pero para otras aplicaciones como backend es mejor utilizar pip u otros instaladores de paquetes."
   ]
  },
  {
   "cell_type": "markdown",
   "metadata": {},
   "source": [
    "Para instalar Anaconda tenemos que ir al [sitio oficial](https://www.anaconda.com/products/individual) donde podemos descargar los instaladores gráficos de Anaconda, excepto si estamos utilizando Linux ya que ahí tendremos que instalarlo desde la consola. \n",
    "\n",
    "Una vez descargado, ejecutamos y nos va abrir un instalador de windows de toda la vida, una vez llegando a la siguiente parte es importante que desmarquemos estas 2 opciones ya que pueden afectar el funcionamiento de Python:"
   ]
  },
  {
   "cell_type": "markdown",
   "metadata": {},
   "source": [
    "![](https://i.imgur.com/aDNK1vv.png)"
   ]
  },
  {
   "cell_type": "markdown",
   "metadata": {},
   "source": [
    "Una vez esta instalado podemos acceder desde nuestras aplicaciones a `Anaconda Navigator`"
   ]
  },
  {
   "cell_type": "markdown",
   "metadata": {},
   "source": [
    "Al abrirlo tendremos una ventana como la siguiente:\n",
    "\n",
    "![](https://i.imgur.com/DaRHFEx.png)"
   ]
  },
  {
   "cell_type": "markdown",
   "metadata": {},
   "source": [
    "Y podemos crear ambientes virtuales de forma gráfica en la siguiente pestaña:\n",
    "\n",
    "![](https://i.imgur.com/UHMIDfY.png)"
   ]
  },
  {
   "cell_type": "markdown",
   "metadata": {},
   "source": [
    "A diferencia de PIP, con Anaconda ya tendremos instaladas varias dependencias de base que son utilizadas comúnmente en la ciencia de datos.\n",
    "\n",
    "---"
   ]
  },
  {
   "cell_type": "markdown",
   "metadata": {},
   "source": [
    "## Módulo 3. Alternativa a los ciclos: comprehensions"
   ]
  },
  {
   "cell_type": "markdown",
   "metadata": {},
   "source": [
    "### Listas y diccionarios anidados"
   ]
  },
  {
   "cell_type": "markdown",
   "metadata": {},
   "source": [
    "**NOTA:** Cuando creamos un ambiente virtual en una carpeta que posteriormente subiremos a Git y GitHub tendremos que crear un archivo `.gitignore` en nuestra carpeta donde haremos el ambiente virtual para no llevarnos los archivos del ambiente virtual al repositorio.\n",
    "\n",
    "Una vez creamos este archivo escribimos `venv/`, de está manera ignorará todos los datos que tengamos en esa carpeta."
   ]
  },
  {
   "cell_type": "markdown",
   "metadata": {},
   "source": [
    "Ahora, hablemos un poco sobre estructuras de datos. Entre ellas tenemos listas, diccionarios y tuplas; recordemos rápidamente cada una de ellas."
   ]
  },
  {
   "cell_type": "markdown",
   "metadata": {},
   "source": [
    "#### Listas:"
   ]
  },
  {
   "cell_type": "markdown",
   "metadata": {},
   "source": [
    "Python tiene varios tipos de datos compuestos, utilizados para agrupar otros valores. El más versátil es la *lista*, la cual puede ser escrita como una lista de valores separados por coma (items) entre corchetes. Las listas pueden contener ítems de diferentes tipos, pero usualmente los ítems son del mismo tipo."
   ]
  },
  {
   "cell_type": "code",
   "execution_count": 1,
   "metadata": {},
   "outputs": [],
   "source": [
    "lista = [1, 34, 5435, 6, 878, 989, 9]"
   ]
  },
  {
   "cell_type": "markdown",
   "metadata": {},
   "source": [
    "al igual que las cadenas (y todas las demás tipos de integrados sequence), las listas se pueden indexar y segmentar."
   ]
  },
  {
   "cell_type": "code",
   "execution_count": 3,
   "metadata": {},
   "outputs": [
    {
     "data": {
      "text/plain": [
       "1"
      ]
     },
     "execution_count": 3,
     "metadata": {},
     "output_type": "execute_result"
    }
   ],
   "source": [
    "lista[0]"
   ]
  },
  {
   "cell_type": "code",
   "execution_count": 4,
   "metadata": {},
   "outputs": [
    {
     "data": {
      "text/plain": [
       "9"
      ]
     },
     "execution_count": 4,
     "metadata": {},
     "output_type": "execute_result"
    }
   ],
   "source": [
    "lista[-1]"
   ]
  },
  {
   "cell_type": "code",
   "execution_count": 5,
   "metadata": {},
   "outputs": [
    {
     "data": {
      "text/plain": [
       "878"
      ]
     },
     "execution_count": 5,
     "metadata": {},
     "output_type": "execute_result"
    }
   ],
   "source": [
    "lista[-3]"
   ]
  },
  {
   "cell_type": "markdown",
   "metadata": {},
   "source": [
    "Todas las operaciones de rebanado retornan una nueva lista que contiene los elementos pedidos. Esto significa que la siguiente rebanada retorna una shallow copy de la lista."
   ]
  },
  {
   "cell_type": "code",
   "execution_count": 6,
   "metadata": {},
   "outputs": [
    {
     "data": {
      "text/plain": [
       "[1, 34, 5435, 6, 878, 989, 9]"
      ]
     },
     "execution_count": 6,
     "metadata": {},
     "output_type": "execute_result"
    }
   ],
   "source": [
    "lista[:]"
   ]
  },
  {
   "cell_type": "markdown",
   "metadata": {},
   "source": [
    "También admiten operaciones como concatenación:"
   ]
  },
  {
   "cell_type": "code",
   "execution_count": 7,
   "metadata": {},
   "outputs": [
    {
     "data": {
      "text/plain": [
       "[1, 34, 5435, 6, 878, 989, 9, 36, 49, 54, 846, 200]"
      ]
     },
     "execution_count": 7,
     "metadata": {},
     "output_type": "execute_result"
    }
   ],
   "source": [
    "lista + [36, 49, 54, 846, 200]"
   ]
  },
  {
   "cell_type": "markdown",
   "metadata": {},
   "source": [
    "A diferencia de las cadenas, que son *inmutables*, las listas son de tipo *mutable*, es decir, pueden cambiar su contenido:"
   ]
  },
  {
   "cell_type": "code",
   "execution_count": 8,
   "metadata": {},
   "outputs": [],
   "source": [
    "lista2 = [1,2,3,4,5]"
   ]
  },
  {
   "cell_type": "code",
   "execution_count": 9,
   "metadata": {},
   "outputs": [],
   "source": [
    "lista2[3] = 600"
   ]
  },
  {
   "cell_type": "code",
   "execution_count": 10,
   "metadata": {},
   "outputs": [
    {
     "data": {
      "text/plain": [
       "[1, 2, 3, 600, 5]"
      ]
     },
     "execution_count": 10,
     "metadata": {},
     "output_type": "execute_result"
    }
   ],
   "source": [
    "lista2"
   ]
  },
  {
   "cell_type": "markdown",
   "metadata": {},
   "source": [
    "También puede agregar nuevos elementos al final de la lista, utilizando el método `append()`:"
   ]
  },
  {
   "cell_type": "code",
   "execution_count": 11,
   "metadata": {},
   "outputs": [],
   "source": [
    "lista2.append(2500)"
   ]
  },
  {
   "cell_type": "code",
   "execution_count": 13,
   "metadata": {},
   "outputs": [],
   "source": [
    "lista2.append(5*5*5*5)"
   ]
  },
  {
   "cell_type": "code",
   "execution_count": 14,
   "metadata": {},
   "outputs": [
    {
     "data": {
      "text/plain": [
       "[1, 2, 3, 600, 5, 2500, 625]"
      ]
     },
     "execution_count": 14,
     "metadata": {},
     "output_type": "execute_result"
    }
   ],
   "source": [
    "lista2"
   ]
  },
  {
   "cell_type": "markdown",
   "metadata": {},
   "source": [
    "También es posible asignar una rebanada, y esto incluso puede cambiar la longitud de la lista o vaciarla completamente:"
   ]
  },
  {
   "cell_type": "code",
   "execution_count": 15,
   "metadata": {},
   "outputs": [],
   "source": [
    "lista3 = ['a','b','c','d','e','f','g']"
   ]
  },
  {
   "cell_type": "code",
   "execution_count": 16,
   "metadata": {},
   "outputs": [
    {
     "data": {
      "text/plain": [
       "['a', 'b', 'c', 'd', 'e', 'f', 'g']"
      ]
     },
     "execution_count": 16,
     "metadata": {},
     "output_type": "execute_result"
    }
   ],
   "source": [
    "lista3"
   ]
  },
  {
   "cell_type": "code",
   "execution_count": 17,
   "metadata": {},
   "outputs": [],
   "source": [
    "#Reemplazamos algunos de los valores\n",
    "lista3[2:5] = ['C','D','E']"
   ]
  },
  {
   "cell_type": "code",
   "execution_count": 18,
   "metadata": {},
   "outputs": [
    {
     "data": {
      "text/plain": [
       "['a', 'b', 'C', 'D', 'E', 'f', 'g']"
      ]
     },
     "execution_count": 18,
     "metadata": {},
     "output_type": "execute_result"
    }
   ],
   "source": [
    "lista3"
   ]
  },
  {
   "cell_type": "code",
   "execution_count": 19,
   "metadata": {},
   "outputs": [],
   "source": [
    "#Removemos un item \n",
    "lista3[2:5] = []"
   ]
  },
  {
   "cell_type": "code",
   "execution_count": 20,
   "metadata": {},
   "outputs": [
    {
     "data": {
      "text/plain": [
       "['a', 'b', 'f', 'g']"
      ]
     },
     "execution_count": 20,
     "metadata": {},
     "output_type": "execute_result"
    }
   ],
   "source": [
    "lista3"
   ]
  },
  {
   "cell_type": "code",
   "execution_count": 22,
   "metadata": {},
   "outputs": [],
   "source": [
    "#Limpiamos la lista reemplazando TODOS los elementos por una lista vacía\n",
    "lista3[:] = []"
   ]
  },
  {
   "cell_type": "code",
   "execution_count": 23,
   "metadata": {},
   "outputs": [
    {
     "data": {
      "text/plain": [
       "[]"
      ]
     },
     "execution_count": 23,
     "metadata": {},
     "output_type": "execute_result"
    }
   ],
   "source": [
    "lista3"
   ]
  },
  {
   "cell_type": "markdown",
   "metadata": {},
   "source": [
    "La función predefinida `len()` también sirve para las listas (devuelve la longitud):"
   ]
  },
  {
   "cell_type": "code",
   "execution_count": 24,
   "metadata": {},
   "outputs": [],
   "source": [
    "lista4 = ['a','sas','sadsdas','trwetre','dasag']"
   ]
  },
  {
   "cell_type": "code",
   "execution_count": 25,
   "metadata": {},
   "outputs": [
    {
     "data": {
      "text/plain": [
       "5"
      ]
     },
     "execution_count": 25,
     "metadata": {},
     "output_type": "execute_result"
    }
   ],
   "source": [
    "len(lista4)"
   ]
  },
  {
   "cell_type": "markdown",
   "metadata": {},
   "source": [
    "Es posible anidar listar (crear listas que contengan otras listas), por ejemplo:"
   ]
  },
  {
   "cell_type": "code",
   "execution_count": 27,
   "metadata": {},
   "outputs": [],
   "source": [
    "lista5 = ['a', 'b', 'c']\n",
    "lista6 = [1,2,3]\n",
    "lista7 = [lista5, lista6]"
   ]
  },
  {
   "cell_type": "code",
   "execution_count": 28,
   "metadata": {},
   "outputs": [
    {
     "data": {
      "text/plain": [
       "[['a', 'b', 'c'], [1, 2, 3]]"
      ]
     },
     "execution_count": 28,
     "metadata": {},
     "output_type": "execute_result"
    }
   ],
   "source": [
    "lista7"
   ]
  },
  {
   "cell_type": "markdown",
   "metadata": {},
   "source": [
    "#### Diccionarios"
   ]
  },
  {
   "cell_type": "code",
   "execution_count": null,
   "metadata": {},
   "outputs": [],
   "source": []
  }
 ],
 "metadata": {
  "kernelspec": {
   "display_name": "Python 3",
   "language": "python",
   "name": "python3"
  },
  "language_info": {
   "codemirror_mode": {
    "name": "ipython",
    "version": 3
   },
   "file_extension": ".py",
   "mimetype": "text/x-python",
   "name": "python",
   "nbconvert_exporter": "python",
   "pygments_lexer": "ipython3",
   "version": "3.8.3"
  },
  "toc": {
   "base_numbering": "",
   "nav_menu": {},
   "number_sections": false,
   "sideBar": true,
   "skip_h1_title": false,
   "title_cell": "Table of Contents",
   "title_sidebar": "Contents",
   "toc_cell": true,
   "toc_position": {},
   "toc_section_display": true,
   "toc_window_display": false
  }
 },
 "nbformat": 4,
 "nbformat_minor": 4
}
