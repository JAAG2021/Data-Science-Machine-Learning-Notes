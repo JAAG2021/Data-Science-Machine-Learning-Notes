{
 "cells": [
  {
   "cell_type": "markdown",
   "metadata": {
    "toc": true
   },
   "source": [
    "<h1>Table of Contents<span class=\"tocSkip\"></span></h1>\n",
    "<div class=\"toc\"><ul class=\"toc-item\"><li><span><a href=\"#Curso-de-Python-Intermedio\" data-toc-modified-id=\"Curso-de-Python-Intermedio-0\">Curso de Python Intermedio</a></span><ul class=\"toc-item\"><li><span><a href=\"#Módulo-1.-Preparación\" data-toc-modified-id=\"Módulo-1.-Preparación-0.1\">Módulo 1. Preparación</a></span><ul class=\"toc-item\"><li><span><a href=\"#El-Zen-de-Python\" data-toc-modified-id=\"El-Zen-de-Python-0.1.1\">El Zen de Python</a></span></li><li><span><a href=\"#Documentación\" data-toc-modified-id=\"Documentación-0.1.2\">Documentación</a></span></li></ul></li><li><span><a href=\"#Módulo-2.-Entorno-virtual\" data-toc-modified-id=\"Módulo-2.-Entorno-virtual-0.2\">Módulo 2. Entorno virtual</a></span><ul class=\"toc-item\"><li><span><a href=\"#¿Qué-es-un-entorno-virtual?\" data-toc-modified-id=\"¿Qué-es-un-entorno-virtual?-0.2.1\">¿Qué es un entorno virtual?</a></span></li><li><span><a href=\"#Creación-de-un-entorno-virtual\" data-toc-modified-id=\"Creación-de-un-entorno-virtual-0.2.2\">Creación de un entorno virtual</a></span></li><li><span><a href=\"#Instalación-de-dependencias-con-pip\" data-toc-modified-id=\"Instalación-de-dependencias-con-pip-0.2.3\">Instalación de dependencias con pip</a></span></li><li><span><a href=\"#Una-alternativa:-Anaconda\" data-toc-modified-id=\"Una-alternativa:-Anaconda-0.2.4\">Una alternativa: Anaconda</a></span></li></ul></li><li><span><a href=\"#Módulo-3.-Alternativa-a-los-ciclos:-comprehensions\" data-toc-modified-id=\"Módulo-3.-Alternativa-a-los-ciclos:-comprehensions-0.3\">Módulo 3. Alternativa a los ciclos: comprehensions</a></span><ul class=\"toc-item\"><li><span><a href=\"#Listas-y-diccionarios-anidados\" data-toc-modified-id=\"Listas-y-diccionarios-anidados-0.3.1\">Listas y diccionarios anidados</a></span><ul class=\"toc-item\"><li><span><a href=\"#Listas:\" data-toc-modified-id=\"Listas:-0.3.1.1\">Listas:</a></span></li><li><span><a href=\"#Tuplas-y-secuencias:\" data-toc-modified-id=\"Tuplas-y-secuencias:-0.3.1.2\">Tuplas y secuencias:</a></span></li><li><span><a href=\"#Diccionarios:\" data-toc-modified-id=\"Diccionarios:-0.3.1.3\">Diccionarios:</a></span></li></ul></li><li><span><a href=\"#List-Comprehensions\" data-toc-modified-id=\"List-Comprehensions-0.3.2\">List Comprehensions</a></span></li><li><span><a href=\"#Dictionary-comprehensions\" data-toc-modified-id=\"Dictionary-comprehensions-0.3.3\">Dictionary comprehensions</a></span></li></ul></li><li><span><a href=\"#Módulo-4.-Conceptos-avanzados-de-funciones\" data-toc-modified-id=\"Módulo-4.-Conceptos-avanzados-de-funciones-0.4\">Módulo 4. Conceptos avanzados de funciones</a></span><ul class=\"toc-item\"><li><span><a href=\"#Funciones-anónimas:-lambda\" data-toc-modified-id=\"Funciones-anónimas:-lambda-0.4.1\">Funciones anónimas: lambda</a></span></li><li><span><a href=\"#High-order-functions:-filter,-map-y-reduce\" data-toc-modified-id=\"High-order-functions:-filter,-map-y-reduce-0.4.2\">High order functions: filter, map y reduce</a></span><ul class=\"toc-item\"><li><span><a href=\"#filter():\" data-toc-modified-id=\"filter():-0.4.2.1\"><code>filter()</code>:</a></span></li><li><span><a href=\"#map():\" data-toc-modified-id=\"map():-0.4.2.2\"><code>map()</code>:</a></span></li><li><span><a href=\"#reduce():\" data-toc-modified-id=\"reduce():-0.4.2.3\"><code>reduce()</code>:</a></span></li></ul></li><li><span><a href=\"#Proyecto:-Filtrando-datos\" data-toc-modified-id=\"Proyecto:-Filtrando-datos-0.4.3\">Proyecto: Filtrando datos</a></span></li></ul></li><li><span><a href=\"#Módulo-5.-Manejo-de-errores\" data-toc-modified-id=\"Módulo-5.-Manejo-de-errores-0.5\">Módulo 5. Manejo de errores</a></span><ul class=\"toc-item\"><li><span><a href=\"#Los-errores-en-el-código\" data-toc-modified-id=\"Los-errores-en-el-código-0.5.1\">Los errores en el código</a></span></li></ul></li></ul></li></ul></div>"
   ]
  },
  {
   "cell_type": "markdown",
   "metadata": {},
   "source": [
    "---\n",
    "\n",
    "# Curso de Python Intermedio"
   ]
  },
  {
   "cell_type": "markdown",
   "metadata": {},
   "source": [
    "## Módulo 1. Preparación"
   ]
  },
  {
   "cell_type": "markdown",
   "metadata": {},
   "source": [
    "### El Zen de Python"
   ]
  },
  {
   "cell_type": "markdown",
   "metadata": {},
   "source": [
    "Es una colección de 20 principios de software que influyen en el diseño del lenguaje, de los cuales 19 fueron escritos por Tim Peters. "
   ]
  },
  {
   "cell_type": "markdown",
   "metadata": {},
   "source": [
    "Como easter egg podemos acceder a este Zen de Python desde la terminal con el comando:"
   ]
  },
  {
   "cell_type": "code",
   "execution_count": 1,
   "metadata": {},
   "outputs": [
    {
     "name": "stdout",
     "output_type": "stream",
     "text": [
      "The Zen of Python, by Tim Peters\n",
      "\n",
      "Beautiful is better than ugly.\n",
      "Explicit is better than implicit.\n",
      "Simple is better than complex.\n",
      "Complex is better than complicated.\n",
      "Flat is better than nested.\n",
      "Sparse is better than dense.\n",
      "Readability counts.\n",
      "Special cases aren't special enough to break the rules.\n",
      "Although practicality beats purity.\n",
      "Errors should never pass silently.\n",
      "Unless explicitly silenced.\n",
      "In the face of ambiguity, refuse the temptation to guess.\n",
      "There should be one-- and preferably only one --obvious way to do it.\n",
      "Although that way may not be obvious at first unless you're Dutch.\n",
      "Now is better than never.\n",
      "Although never is often better than *right* now.\n",
      "If the implementation is hard to explain, it's a bad idea.\n",
      "If the implementation is easy to explain, it may be a good idea.\n",
      "Namespaces are one honking great idea -- let's do more of those!\n"
     ]
    }
   ],
   "source": [
    "import this"
   ]
  },
  {
   "cell_type": "markdown",
   "metadata": {},
   "source": [
    "---\n",
    "\n",
    "### Documentación"
   ]
  },
  {
   "cell_type": "markdown",
   "metadata": {},
   "source": [
    "Documentar el código de un programa es añadir suficiente información como para explicar lo que hace, punto por punto, de forma que no sólo los ordenadores sepan qué hacer, sino que además los humanos entiendan qué están haciendo y por qué.\n",
    "\n",
    "Documentar un programa no es sólo una buena práctica de un programador, si no que además, es una necesidad que sólo se aprecia en su debida magnitud cuando hay errores que reparar o hay que entender el programa con nuevas capacidades o adaptarlo a un nuevo escenario. Hay 2 cosas que hay que tener en mente:\n",
    "\n",
    "1. Todos los programas tienen errores y descubrirlos es sólo cuestión de tiempo y de que el programa tenga éxito y se utilice frecuentemente o por una gran cantidad de usuarios.\n",
    "    \n",
    "    \n",
    "2. Todos los programas sufren modificaciones a lo largo de su vida, al menos todos aquellos que tienen éxito."
   ]
  },
  {
   "cell_type": "markdown",
   "metadata": {},
   "source": [
    "En la documentación de Python podemos encontrar todas las novedades que se agregan en cada actualización, tutoriales para entender cómo funciona cada una de sus funciones y en general todo el lenguaje en su nivel más fundamental y con más detalle, descripciones de la sintaxis y los elementos del lenguaje entre muchas otras cosas."
   ]
  },
  {
   "cell_type": "markdown",
   "metadata": {},
   "source": [
    "[Python 3.9.4 documentation](https://docs.python.org/3/)"
   ]
  },
  {
   "cell_type": "markdown",
   "metadata": {},
   "source": [
    "También tenemos algo llamado PEP o Propuestas de Mejora de Python, que es una guía de estilo adoptada ampliamente por la comunidad de Python. Facilita la lectura del código y hace más homogéneo el código entre diferentes programadores.\n",
    "\n",
    "Son documentos que nos dicen como funciona el lenguaje y como deberíamos escribir nuestros códigos de manera correcta. Entre todos los PEP destaca el PEP8 ya que es una guía que nos dice como deberíamos de escribir código, buenas prácticas, como seleccionar los nombres de clase, como trabajar la indentación, etc."
   ]
  },
  {
   "cell_type": "markdown",
   "metadata": {},
   "source": [
    "[PEP 8 -- Style Guide for Python Code](https://www.python.org/dev/peps/pep-0008/)\n",
    "\n",
    "[Fragmento de la documentación PDF](https://drive.google.com/file/d/1dSYgA7Xonw1XLMcjrsMXSqDUWLlqi-57/view)\n",
    "\n",
    "---"
   ]
  },
  {
   "cell_type": "markdown",
   "metadata": {},
   "source": [
    "## Módulo 2. Entorno virtual"
   ]
  },
  {
   "cell_type": "markdown",
   "metadata": {},
   "source": [
    "### ¿Qué es un entorno virtual?"
   ]
  },
  {
   "cell_type": "markdown",
   "metadata": {},
   "source": [
    "Primero, recordemos el concepto de módulo. Un módulo es un fragmento de código escrito por otra persona que a nosotros nos sirve para resolver determinado problema. De forma que no tengamos que escribir de nuevo todo ese código por nuestra cuenta y en su lugar, aprovechemos de herramientas que ya han sido creadas y compartidas por otros usuarios.\n",
    "\n",
    "Por ejemplo, anteriormente ya hemos importado el módulo `random` que nos permite trabajar con números aleatorios."
   ]
  },
  {
   "cell_type": "markdown",
   "metadata": {},
   "source": [
    "![](https://i.imgur.com/Mcd2izU.png)"
   ]
  },
  {
   "cell_type": "markdown",
   "metadata": {},
   "source": [
    "Ahora hablemos de ambientes o entornos virtuales, imaginemos primero a nuestra computadora que ya tiene instalado Python y tenemos varios proyectos en los que estamos trabajando. Dependiendo del problema en el que estamos trabajando en cada proyecto nos puede interesar tener varios módulos con los que trabajar, por ejemplo, random, herramientas de gráficado, etc. \n",
    "\n",
    "El problema es que si tenemos todo instalado en nuestro ambiente local (principal) puede que en un momento todo funcione correctamente, pero hay veces donde con las actualizaciones de ciertos módulos podamos tener ciertos problemas. Por ejemplo, hay ocasiones donde el Módulo 2 se actualiza y este tiene problema o deja de ser compatible con el Módulo 1, por lo que nos trae problemas en todos nuestros proyectos al tenerlos instalados simultáneamente en todo nuestro ambiente. \n",
    "\n",
    "Puede que en el proyecto 1 solo nos interesa tener instalado el módulo 2 y en el proyecto 2 el módulo 1, por lo que no tendría que haber problemas de incompatibilidad si los tuvieramos instalados por separado. De aquí es donde sale la necesidad de los *entornos virtuales*."
   ]
  },
  {
   "cell_type": "markdown",
   "metadata": {},
   "source": [
    "Lo que queremos lograr con los ambientes virtuales es, por así decirlo, dividir o seccionar nuestro computador en varias partes donde cada parte funciona correctamente con Python y los módulos que queremos usar en cada proyecto."
   ]
  },
  {
   "cell_type": "markdown",
   "metadata": {},
   "source": [
    "![](https://i.imgur.com/RANUzbx.png)"
   ]
  },
  {
   "cell_type": "markdown",
   "metadata": {},
   "source": [
    "Podemos imaginarlo como si estuvieramos clonando el lenguaje de programación en \"varios lenguajes independientes\", que más bien serían extensiones del lenguaje. Por lo que al momento de actualizar los módulos, nosotros podemos elegir en que proyecto queremos actualizarlos y en cuales no para evitar problemas de compatibilidad."
   ]
  },
  {
   "cell_type": "markdown",
   "metadata": {},
   "source": [
    "![](https://i.imgur.com/wSQ3eto.png)\n",
    "\n",
    "---"
   ]
  },
  {
   "cell_type": "markdown",
   "metadata": {},
   "source": [
    "### Creación de un entorno virtual"
   ]
  },
  {
   "cell_type": "markdown",
   "metadata": {},
   "source": [
    "Para empezar a crear nuestro ambiente virtual vamos a realizar los siguientes pasos:"
   ]
  },
  {
   "cell_type": "markdown",
   "metadata": {},
   "source": [
    "1. Crear una nueva carpeta destinada al proyecto (con `mkdir nombre_de_la_carpeta` desde la terminal).\n",
    "\n",
    "\n",
    "2. Nos posicionamos en la carpeta que creamos (`cd nombre_de_la_carpeta`)\n",
    "\n",
    "\n",
    "3. Como buena práctica inicializamos a la carpeta como un repositorio de Git, para mantener un control de las versiones (`git init`).  Esto nos posicionará en la rama *Master* o *Main* dependiendo la versión y configuración de Git.\n",
    "\n",
    "\n",
    "4. Creamos un \"Python nuevo\", que es el que va a correr en nuestro proyecto \n",
    "\n",
    "    * `py -m venv nombre_del_entorno_virtual` para windows \n",
    "    * `python3 -m venv nombre_del_entorno_virtual` para un sistema de linux. \n",
    "    \n",
    "    Donde `-m` hace referencia a que llamaremos a un módulo del lenguaje y `venv` significa *Virtual Enviorement*. Y por convención el nombre del ambiente suele ser `venv` o `env` . De forma que el comando completo con la convención nos quedaría así:\n",
    "    \n",
    "     `py -m venv venv`\n",
    "     \n",
    "     `py -m venv env`\n",
    "     \n",
    "     \n",
    "5. Una vez que ya está creado nuestro ambiente virtual verificamos que este correctamente creado con el comando `ls` que nos muestra los archivos y carpetas para posteriormente, activar nuestro ambiente virtual. El comando que nos permite activar el ambiente virtual se encuentra en la carpeta `Scripts/` dentro de `venv/`, por lo que para activarlo tendremos que usar la siguiente instrucción:\n",
    "    \n",
    "    * Windows: `.\\venv\\Scripts\\activate` o `.\\venv\\Scripts\\activate.bat`\n",
    "    \n",
    "    * Linux/Mac: `source venv/bin/activate`\n",
    "    \n",
    "    Para salir del ambiente basta con usar el comando:\n",
    "    \n",
    "    `deactivate`\n",
    "    \n",
    "    Para que no sea tan tedioso escribir toda la ruta al activar nuestro ambiente virtual podemos crear un *alias* para acortar el tiempo en el que entramos, en Windows se crea de la siguiente forma:\n",
    "    \n",
    "    `alias nombre_del_alias=.\\venv\\Scripts\\activate.bat`\n",
    "    \n",
    "    `avenv=.\\venv\\Scripts\\activate.bat`\n",
    "    \n",
    "    Y para acceder solo tendríamos que hacer una llamada al comando\n",
    "    \n",
    "    `avenv`\n",
    "\n",
    "Para el caso de sistemas Linux o Mac también podemos usar el alias, pero una vez salimos de la terminal se borrará, por lo que no es de mucha utilidad.\n",
    "\n",
    "---"
   ]
  },
  {
   "cell_type": "markdown",
   "metadata": {},
   "source": [
    "### Instalación de dependencias con pip"
   ]
  },
  {
   "cell_type": "markdown",
   "metadata": {},
   "source": [
    "Dentro de Python tenemos incorporados algunos módulos que por así decirlo, ya vienen incorporados \"de fabrica\", por lo que no tenemos que realizar ninguna instalación extra. Otra historia muy diferente es cuando queremos utilizar ciertos módulos o librerías como *numpy, qiskit, pandas, Pytest, etc*. Los cuales si bien están dentro de Python, no vienen incorporados desde el inicio en nuestro sistema, así que tendremos que realizar una instalación.\n",
    "\n",
    "Para realizar la instalación tenemos que hacer uso de un manejador o instalador de dependencias, en este caso utilizaremos PIP (Package Installer for Python). Básicamente es un módulo que viene incorporado \"de fabrica\" que nos permite instalar de forma más cómoda todos esos módulos extras que queremos incorporar a Python.\n",
    "\n",
    "**NOTA:** Como buena práctica, deberíamos utilizar PIP únicamente dentro de nuestro ambiente virtual. Al menos de que sea un paquete que estamos seguros de que utilizaremos en cada uno de nuestros proyectos, lo cual es algo poco común."
   ]
  },
  {
   "cell_type": "markdown",
   "metadata": {},
   "source": [
    "Para realizar nuestras instalaciones de paquetes con PIP debemos de seguir los siguientes pasos:\n",
    "\n",
    "1. Activar nuestro entorno virtual, para que los paquetes solo se instalen ahí y no tengamos problemas futuros con sus actualizaciones.\n",
    "\n",
    "\n",
    "2. Podemos verificar los paquetes que tenemos instalados usando el comando: \n",
    "\n",
    "    `pip freeze` en windows \n",
    "    \n",
    "    `pip3` en algunos casos de linux o Mac\n",
    "    \n",
    "    \n",
    "3. Realizamos la instalación de la siguiente forma, en este caso instalaremos el módulo Pandas como ejemplo:\n",
    "\n",
    "    `pip install pandas`\n",
    "    \n",
    "    En el caso de Pandas podremos notar que se instalan diferentes paquetes, esto es por que Pandas es un módulo muy complejo y depende de otros paquetes. Al realizar la instalación de Pandas ya incluirá el resto de paquetes que necesite para funcionar por si mismo. Si hacemos de nuevo el comando `pip freeze` veremos que ahora tenemos instalados los siguientes módulos:\n",
    "    \n",
    "    * numpy==1.20.2 \n",
    "    * pandas==1.2.4 \n",
    "    * python-dateutil==2.8.1 \n",
    "    * pytz==2021.1 \n",
    "    * six==1.15.0\n",
    "    \n",
    "   En JavaScript teníamos algo muy similar a `pip` al utilizar el comando `npm`.\n",
    "    \n",
    "    \n",
    "4. Una vez realizada la instalación podremos hacer uso de dicho módulo en todos los proyectos que creemos dentro de esa carpeta.\n",
    "\n",
    "**NOTA:** En caso de ser necesario, podemos actualizar PIP con el comando:\n",
    "\n",
    "`py -m pip install --upgrade pip`"
   ]
  },
  {
   "cell_type": "markdown",
   "metadata": {},
   "source": [
    "Ahora, **¿Que pasaría cuando queremos compartir un proyecto con alguien más y estamos haciendo uso de muchos módulos extras que tuvimos que instalar independientemente?** Para que esa persona pueda utilizar tu programa tendría que tener instaladas las mismas dependencias y paquetes que tú, las mismas versiones, etc.\n",
    "\n",
    "Para arreglar eso podemos compartir nuestro archivo de dependencias con el comando:\n",
    "\n",
    "`pip freeze > requirements.txt`\n",
    "\n",
    "Lo que hace este comando es guardar las dependencias con sus respectivas versiones para poder compartir el proyecto con otra persona. \n",
    "\n",
    "Una vez hecho esto, tendremos en nuestra carpeta el archivo `requirements.txt`. Si estamos en consola podemos abrir este archivo con el comando `cat`.\n",
    "\n",
    "`cat requirements.txt`\n",
    "\n",
    "y nos aparecen las dependencias que guardamos de nuestro proyecto."
   ]
  },
  {
   "cell_type": "markdown",
   "metadata": {},
   "source": [
    "Una vez hemos compartido nuestro proyecto, por ejemplo en GitHub y alguien más lo ha clonado en su propio equipo local. Lo único que tiene que hacer para utilizar tu proyecto con exactamente las mismas dependencias es:\n",
    "\n",
    "1. Crear y activar su entorno virtual\n",
    "\n",
    "\n",
    "2. Usar el comando:\n",
    "\n",
    "    `pip install -r requirements.txt`\n",
    "    \n",
    "---"
   ]
  },
  {
   "cell_type": "markdown",
   "metadata": {},
   "source": [
    "### Una alternativa: Anaconda"
   ]
  },
  {
   "cell_type": "markdown",
   "metadata": {},
   "source": [
    "Anaconda es una distribución especial de Python, es un software pensado para el Data Science. Es uns distribución que nos permite crear ambientes virtuales e instalar dependencias de una manera gráfica. Es muy buena opción para ciencia de datos, pero para otras aplicaciones como backend es mejor utilizar pip u otros instaladores de paquetes."
   ]
  },
  {
   "cell_type": "markdown",
   "metadata": {},
   "source": [
    "Para instalar Anaconda tenemos que ir al [sitio oficial](https://www.anaconda.com/products/individual) donde podemos descargar los instaladores gráficos de Anaconda, excepto si estamos utilizando Linux ya que ahí tendremos que instalarlo desde la consola. \n",
    "\n",
    "Una vez descargado, ejecutamos y nos va abrir un instalador de windows de toda la vida, una vez llegando a la siguiente parte es importante que desmarquemos estas 2 opciones ya que pueden afectar el funcionamiento de Python:"
   ]
  },
  {
   "cell_type": "markdown",
   "metadata": {},
   "source": [
    "![](https://i.imgur.com/aDNK1vv.png)"
   ]
  },
  {
   "cell_type": "markdown",
   "metadata": {},
   "source": [
    "Una vez esta instalado podemos acceder desde nuestras aplicaciones a `Anaconda Navigator`"
   ]
  },
  {
   "cell_type": "markdown",
   "metadata": {},
   "source": [
    "Al abrirlo tendremos una ventana como la siguiente:\n",
    "\n",
    "![](https://i.imgur.com/DaRHFEx.png)"
   ]
  },
  {
   "cell_type": "markdown",
   "metadata": {},
   "source": [
    "Y podemos crear ambientes virtuales de forma gráfica en la siguiente pestaña:\n",
    "\n",
    "![](https://i.imgur.com/UHMIDfY.png)"
   ]
  },
  {
   "cell_type": "markdown",
   "metadata": {},
   "source": [
    "A diferencia de PIP, con Anaconda ya tendremos instaladas varias dependencias de base que son utilizadas comúnmente en la ciencia de datos.\n",
    "\n",
    "---"
   ]
  },
  {
   "cell_type": "markdown",
   "metadata": {},
   "source": [
    "## Módulo 3. Alternativa a los ciclos: comprehensions"
   ]
  },
  {
   "cell_type": "markdown",
   "metadata": {},
   "source": [
    "### Listas y diccionarios anidados"
   ]
  },
  {
   "cell_type": "markdown",
   "metadata": {},
   "source": [
    "**NOTA:** Cuando creamos un ambiente virtual en una carpeta que posteriormente subiremos a Git y GitHub tendremos que crear un archivo `.gitignore` en nuestra carpeta donde haremos el ambiente virtual para no llevarnos los archivos del ambiente virtual al repositorio.\n",
    "\n",
    "Una vez creamos este archivo escribimos `venv/`, de está manera ignorará todos los datos que tengamos en esa carpeta."
   ]
  },
  {
   "cell_type": "markdown",
   "metadata": {},
   "source": [
    "Ahora, hablemos un poco sobre estructuras de datos. Entre ellas tenemos listas, diccionarios y tuplas; *recordemos rápidamente cada una de ellas*."
   ]
  },
  {
   "cell_type": "markdown",
   "metadata": {},
   "source": [
    "#### Listas:"
   ]
  },
  {
   "cell_type": "markdown",
   "metadata": {},
   "source": [
    "Python tiene varios tipos de datos compuestos, utilizados para agrupar otros valores. El más versátil es la *lista*, la cual puede ser escrita como una lista de valores separados por coma (items) entre corchetes. Las listas pueden contener ítems de diferentes tipos, pero usualmente los ítems son del mismo tipo."
   ]
  },
  {
   "cell_type": "code",
   "execution_count": 1,
   "metadata": {},
   "outputs": [],
   "source": [
    "lista = [1, 34, 5435, 6, 878, 989, 9]"
   ]
  },
  {
   "cell_type": "markdown",
   "metadata": {},
   "source": [
    "al igual que las cadenas (y todas las demás tipos de integrados sequence), las listas se pueden indexar y segmentar."
   ]
  },
  {
   "cell_type": "code",
   "execution_count": 3,
   "metadata": {},
   "outputs": [
    {
     "data": {
      "text/plain": [
       "1"
      ]
     },
     "execution_count": 3,
     "metadata": {},
     "output_type": "execute_result"
    }
   ],
   "source": [
    "lista[0]"
   ]
  },
  {
   "cell_type": "code",
   "execution_count": 4,
   "metadata": {},
   "outputs": [
    {
     "data": {
      "text/plain": [
       "9"
      ]
     },
     "execution_count": 4,
     "metadata": {},
     "output_type": "execute_result"
    }
   ],
   "source": [
    "lista[-1]"
   ]
  },
  {
   "cell_type": "code",
   "execution_count": 5,
   "metadata": {},
   "outputs": [
    {
     "data": {
      "text/plain": [
       "878"
      ]
     },
     "execution_count": 5,
     "metadata": {},
     "output_type": "execute_result"
    }
   ],
   "source": [
    "lista[-3]"
   ]
  },
  {
   "cell_type": "markdown",
   "metadata": {},
   "source": [
    "Todas las operaciones de rebanado retornan una nueva lista que contiene los elementos pedidos. Esto significa que la siguiente rebanada retorna una shallow copy de la lista."
   ]
  },
  {
   "cell_type": "code",
   "execution_count": 6,
   "metadata": {},
   "outputs": [
    {
     "data": {
      "text/plain": [
       "[1, 34, 5435, 6, 878, 989, 9]"
      ]
     },
     "execution_count": 6,
     "metadata": {},
     "output_type": "execute_result"
    }
   ],
   "source": [
    "lista[:]"
   ]
  },
  {
   "cell_type": "markdown",
   "metadata": {},
   "source": [
    "También admiten operaciones como concatenación:"
   ]
  },
  {
   "cell_type": "code",
   "execution_count": 7,
   "metadata": {},
   "outputs": [
    {
     "data": {
      "text/plain": [
       "[1, 34, 5435, 6, 878, 989, 9, 36, 49, 54, 846, 200]"
      ]
     },
     "execution_count": 7,
     "metadata": {},
     "output_type": "execute_result"
    }
   ],
   "source": [
    "lista + [36, 49, 54, 846, 200]"
   ]
  },
  {
   "cell_type": "markdown",
   "metadata": {},
   "source": [
    "A diferencia de las cadenas, que son *inmutables*, las listas son de tipo *mutable*, es decir, pueden cambiar su contenido:"
   ]
  },
  {
   "cell_type": "code",
   "execution_count": 8,
   "metadata": {},
   "outputs": [],
   "source": [
    "lista2 = [1,2,3,4,5]"
   ]
  },
  {
   "cell_type": "code",
   "execution_count": 9,
   "metadata": {},
   "outputs": [],
   "source": [
    "lista2[3] = 600"
   ]
  },
  {
   "cell_type": "code",
   "execution_count": 10,
   "metadata": {},
   "outputs": [
    {
     "data": {
      "text/plain": [
       "[1, 2, 3, 600, 5]"
      ]
     },
     "execution_count": 10,
     "metadata": {},
     "output_type": "execute_result"
    }
   ],
   "source": [
    "lista2"
   ]
  },
  {
   "cell_type": "markdown",
   "metadata": {},
   "source": [
    "También puede agregar nuevos elementos al final de la lista, utilizando el método `append()`:"
   ]
  },
  {
   "cell_type": "code",
   "execution_count": 11,
   "metadata": {},
   "outputs": [],
   "source": [
    "lista2.append(2500)"
   ]
  },
  {
   "cell_type": "code",
   "execution_count": 13,
   "metadata": {},
   "outputs": [],
   "source": [
    "lista2.append(5*5*5*5)"
   ]
  },
  {
   "cell_type": "code",
   "execution_count": 14,
   "metadata": {},
   "outputs": [
    {
     "data": {
      "text/plain": [
       "[1, 2, 3, 600, 5, 2500, 625]"
      ]
     },
     "execution_count": 14,
     "metadata": {},
     "output_type": "execute_result"
    }
   ],
   "source": [
    "lista2"
   ]
  },
  {
   "cell_type": "markdown",
   "metadata": {},
   "source": [
    "También es posible asignar una rebanada, y esto incluso puede cambiar la longitud de la lista o vaciarla completamente:"
   ]
  },
  {
   "cell_type": "code",
   "execution_count": 15,
   "metadata": {},
   "outputs": [],
   "source": [
    "lista3 = ['a','b','c','d','e','f','g']"
   ]
  },
  {
   "cell_type": "code",
   "execution_count": 16,
   "metadata": {},
   "outputs": [
    {
     "data": {
      "text/plain": [
       "['a', 'b', 'c', 'd', 'e', 'f', 'g']"
      ]
     },
     "execution_count": 16,
     "metadata": {},
     "output_type": "execute_result"
    }
   ],
   "source": [
    "lista3"
   ]
  },
  {
   "cell_type": "code",
   "execution_count": 17,
   "metadata": {},
   "outputs": [],
   "source": [
    "#Reemplazamos algunos de los valores\n",
    "lista3[2:5] = ['C','D','E']"
   ]
  },
  {
   "cell_type": "code",
   "execution_count": 18,
   "metadata": {},
   "outputs": [
    {
     "data": {
      "text/plain": [
       "['a', 'b', 'C', 'D', 'E', 'f', 'g']"
      ]
     },
     "execution_count": 18,
     "metadata": {},
     "output_type": "execute_result"
    }
   ],
   "source": [
    "lista3"
   ]
  },
  {
   "cell_type": "code",
   "execution_count": 19,
   "metadata": {},
   "outputs": [],
   "source": [
    "#Removemos un item \n",
    "lista3[2:5] = []"
   ]
  },
  {
   "cell_type": "code",
   "execution_count": 20,
   "metadata": {},
   "outputs": [
    {
     "data": {
      "text/plain": [
       "['a', 'b', 'f', 'g']"
      ]
     },
     "execution_count": 20,
     "metadata": {},
     "output_type": "execute_result"
    }
   ],
   "source": [
    "lista3"
   ]
  },
  {
   "cell_type": "code",
   "execution_count": 22,
   "metadata": {},
   "outputs": [],
   "source": [
    "#Limpiamos la lista reemplazando TODOS los elementos por una lista vacía\n",
    "lista3[:] = []"
   ]
  },
  {
   "cell_type": "code",
   "execution_count": 23,
   "metadata": {},
   "outputs": [
    {
     "data": {
      "text/plain": [
       "[]"
      ]
     },
     "execution_count": 23,
     "metadata": {},
     "output_type": "execute_result"
    }
   ],
   "source": [
    "lista3"
   ]
  },
  {
   "cell_type": "markdown",
   "metadata": {},
   "source": [
    "La función predefinida `len()` también sirve para las listas (devuelve la longitud):"
   ]
  },
  {
   "cell_type": "code",
   "execution_count": 24,
   "metadata": {},
   "outputs": [],
   "source": [
    "lista4 = ['a','sas','sadsdas','trwetre','dasag']"
   ]
  },
  {
   "cell_type": "code",
   "execution_count": 25,
   "metadata": {},
   "outputs": [
    {
     "data": {
      "text/plain": [
       "5"
      ]
     },
     "execution_count": 25,
     "metadata": {},
     "output_type": "execute_result"
    }
   ],
   "source": [
    "len(lista4)"
   ]
  },
  {
   "cell_type": "markdown",
   "metadata": {},
   "source": [
    "Es posible anidar listar (crear listas que contengan otras listas), por ejemplo:"
   ]
  },
  {
   "cell_type": "code",
   "execution_count": 27,
   "metadata": {},
   "outputs": [],
   "source": [
    "lista5 = ['a', 'b', 'c']\n",
    "lista6 = [1,2,3]\n",
    "lista7 = [lista5, lista6]"
   ]
  },
  {
   "cell_type": "code",
   "execution_count": 28,
   "metadata": {},
   "outputs": [
    {
     "data": {
      "text/plain": [
       "[['a', 'b', 'c'], [1, 2, 3]]"
      ]
     },
     "execution_count": 28,
     "metadata": {},
     "output_type": "execute_result"
    }
   ],
   "source": [
    "lista7"
   ]
  },
  {
   "cell_type": "markdown",
   "metadata": {},
   "source": [
    "#### Tuplas y secuencias:"
   ]
  },
  {
   "cell_type": "markdown",
   "metadata": {},
   "source": [
    "La listas y cadenas tienen propiedades en común, como el indizado y las operaciones de seccionado. Estas son dos ejemplos de datos de tipo *secuencial*. Existe otro tipo de datos de tipo *secuencial* estándar: la **tupla**."
   ]
  },
  {
   "cell_type": "markdown",
   "metadata": {},
   "source": [
    "Una tupla cosiste en un número de valores separados por comas, por ejemplo:"
   ]
  },
  {
   "cell_type": "code",
   "execution_count": 1,
   "metadata": {},
   "outputs": [],
   "source": [
    "t1 = 12345, 54321, \"oli\" "
   ]
  },
  {
   "cell_type": "code",
   "execution_count": 3,
   "metadata": {},
   "outputs": [
    {
     "data": {
      "text/plain": [
       "12345"
      ]
     },
     "execution_count": 3,
     "metadata": {},
     "output_type": "execute_result"
    }
   ],
   "source": [
    "t1[0]"
   ]
  },
  {
   "cell_type": "code",
   "execution_count": 4,
   "metadata": {},
   "outputs": [
    {
     "data": {
      "text/plain": [
       "(12345, 54321, 'oli')"
      ]
     },
     "execution_count": 4,
     "metadata": {},
     "output_type": "execute_result"
    }
   ],
   "source": [
    "t1"
   ]
  },
  {
   "cell_type": "markdown",
   "metadata": {},
   "source": [
    "Podemos anidas tuplas"
   ]
  },
  {
   "cell_type": "code",
   "execution_count": 6,
   "metadata": {},
   "outputs": [],
   "source": [
    "t2 = t1, (1,2,3,4,5)"
   ]
  },
  {
   "cell_type": "code",
   "execution_count": 7,
   "metadata": {},
   "outputs": [
    {
     "data": {
      "text/plain": [
       "((12345, 54321, 'oli'), (1, 2, 3, 4, 5))"
      ]
     },
     "execution_count": 7,
     "metadata": {},
     "output_type": "execute_result"
    }
   ],
   "source": [
    "t2"
   ]
  },
  {
   "cell_type": "markdown",
   "metadata": {},
   "source": [
    "Las tuplas son **inmutables**"
   ]
  },
  {
   "cell_type": "code",
   "execution_count": 8,
   "metadata": {},
   "outputs": [
    {
     "ename": "TypeError",
     "evalue": "'tuple' object does not support item assignment",
     "output_type": "error",
     "traceback": [
      "\u001b[1;31m---------------------------------------------------------------------------\u001b[0m",
      "\u001b[1;31mTypeError\u001b[0m                                 Traceback (most recent call last)",
      "\u001b[1;32m<ipython-input-8-a072a24d1ed4>\u001b[0m in \u001b[0;36m<module>\u001b[1;34m\u001b[0m\n\u001b[1;32m----> 1\u001b[1;33m \u001b[0mt1\u001b[0m\u001b[1;33m[\u001b[0m\u001b[1;36m0\u001b[0m\u001b[1;33m]\u001b[0m \u001b[1;33m=\u001b[0m \u001b[1;36m88888\u001b[0m\u001b[1;33m\u001b[0m\u001b[1;33m\u001b[0m\u001b[0m\n\u001b[0m",
      "\u001b[1;31mTypeError\u001b[0m: 'tuple' object does not support item assignment"
     ]
    }
   ],
   "source": [
    "t1[0] = 88888"
   ]
  },
  {
   "cell_type": "markdown",
   "metadata": {},
   "source": [
    "Pero **si pueden contener objetos mutables**:"
   ]
  },
  {
   "cell_type": "code",
   "execution_count": 10,
   "metadata": {},
   "outputs": [],
   "source": [
    "t3 = ([1,2,3], [3,2,1])"
   ]
  },
  {
   "cell_type": "code",
   "execution_count": 11,
   "metadata": {},
   "outputs": [
    {
     "data": {
      "text/plain": [
       "([1, 2, 3], [3, 2, 1])"
      ]
     },
     "execution_count": 11,
     "metadata": {},
     "output_type": "execute_result"
    }
   ],
   "source": [
    "t3"
   ]
  },
  {
   "cell_type": "markdown",
   "metadata": {},
   "source": [
    "Las tuplas siempre **se encierran en paréntesis**, para que las tuplas anidadas puedan interpretarse correctamente; pueden ingresarse con o sin paréntesis, aunque a menudo los paréntesis son necesarios de todas formas (si la tupla es parte de una expresión más grande). No es posible asignar a los ítems individuales de una tupla, pero sin embargo sí se puede crear tuplas que contengan objetos mutables, como las listas."
   ]
  },
  {
   "cell_type": "markdown",
   "metadata": {},
   "source": [
    "A pesar de que las tuplas puedan parecerse a las listas, frecuentemente se utilizan en distintas situaciones y para distintos propósitos. Las tuplas son **inmutables** y normalmente contienen una secuencia heterogénea de elementos que son accedidos al desempaquetar o indizar (o incluso acceder por atributo en el caso de las `namedtuples`). Por otro lado, las listas son **mutables**, y sus elementos son normalmente homogéneos y se acceden iterando la lista."
   ]
  },
  {
   "cell_type": "markdown",
   "metadata": {},
   "source": [
    "Un problema particular es la construcción de tuplas que contengan 0 o 1 ítem: la sintaxis presenta algunas peculiaridades para estos casos. Las tuplas vacías se construyen mediante un par de paréntesis vacío; una tupla con un ítem se construye poniendo una coma a continuación de un valor (no alcanza con encerrar un único valor entre paréntesis). Por ejemplo:"
   ]
  },
  {
   "cell_type": "code",
   "execution_count": 12,
   "metadata": {},
   "outputs": [],
   "source": [
    "empty = ()"
   ]
  },
  {
   "cell_type": "code",
   "execution_count": 13,
   "metadata": {},
   "outputs": [],
   "source": [
    "tupla_unica = 'hello', # Recordemos usar la coma"
   ]
  },
  {
   "cell_type": "code",
   "execution_count": 14,
   "metadata": {},
   "outputs": [
    {
     "data": {
      "text/plain": [
       "0"
      ]
     },
     "execution_count": 14,
     "metadata": {},
     "output_type": "execute_result"
    }
   ],
   "source": [
    "len(empty)"
   ]
  },
  {
   "cell_type": "code",
   "execution_count": 15,
   "metadata": {},
   "outputs": [
    {
     "data": {
      "text/plain": [
       "1"
      ]
     },
     "execution_count": 15,
     "metadata": {},
     "output_type": "execute_result"
    }
   ],
   "source": [
    "len(tupla_unica)"
   ]
  },
  {
   "cell_type": "code",
   "execution_count": 16,
   "metadata": {},
   "outputs": [
    {
     "data": {
      "text/plain": [
       "('hello',)"
      ]
     },
     "execution_count": 16,
     "metadata": {},
     "output_type": "execute_result"
    }
   ],
   "source": [
    "tupla_unica"
   ]
  },
  {
   "cell_type": "markdown",
   "metadata": {},
   "source": [
    "En nuestras declaraciones del tipo "
   ]
  },
  {
   "cell_type": "code",
   "execution_count": 17,
   "metadata": {},
   "outputs": [],
   "source": [
    "t4 = 12345, 54321, 'holi'"
   ]
  },
  {
   "cell_type": "markdown",
   "metadata": {},
   "source": [
    "es un ejemplo de *empaquetadp de tuplas*: los valores `12345`, `54321` y `holi` se empaquetan juntos en una tupla. La operación inversa también es posible y es la siguiente: `x, y, z = t`."
   ]
  },
  {
   "cell_type": "markdown",
   "metadata": {},
   "source": [
    "Esto se llama, **desempaquetado de secuencias**, y funciona para cualquier secuencia en el lado derecho del igual. **El desempaquetado de secuencias requiere que la cantidad de variables a la izquierda del signo igual sea del tamaño de la secuencia**. Notemos que la asignación múltiple es en realidad sólo una combinación de empaquetado de tuplas y desempaquetado de secuencias."
   ]
  },
  {
   "cell_type": "markdown",
   "metadata": {},
   "source": [
    "#### Diccionarios:"
   ]
  },
  {
   "cell_type": "markdown",
   "metadata": {},
   "source": [
    "Otro tipo de dato útil es el diccionario. Los diccionarios se encuentran a vecer en otros lenguajes como *memorias asociativas* o *arreglos asociativos*. A diferencia de las secuencias, que se indexan mediante un rango numérico, **los diccionarios se indexan con claves**, que pueden ser cualquier tipo *inmutable*; las cadenas y número siempre pueden ser claves. Las tuplas pueden usarse como claves si solamente contienen cadenas, números o tuplas; **si una tupla contiene cualquier objeto mutable directa o indirectamente, no puede usarse como clave**. \n",
    "\n",
    "Es mejor pensar en un diccionario como un conjunto de *pares clave-valor* con el requerimiento de que las claves sean únicas (dentro de un diccionario). Un para de llaves crean un diccionario vacío `{}`. Colocar una lista de pares clave-valor separada por comas dentro de las llaves agrega, de inicio, pares clave-valor a nuestro diccionario; esta es también la forma en que los diccionarios se muestran en la salida."
   ]
  },
  {
   "cell_type": "markdown",
   "metadata": {},
   "source": [
    "**Las operaciones principales sobre un diccionario son guardar un valor con una clave y extraer ese valor dada la clave**. También es posible borrar un par clave-valor con `del`. **Si usas una clave que ya está en uso para guardar un valor, el valor que estaba asociado con esa clave se pierde.** Es un error extraer un valor usando una clave no existente."
   ]
  },
  {
   "cell_type": "markdown",
   "metadata": {},
   "source": [
    "Ejecutando `list(d)` en un diccionario retornará una lista con todas las claves usadas en el diccionario, en el orden de inserción. Para comprobar si una clave está en el diccionario se usa la palabra clave `in`."
   ]
  },
  {
   "cell_type": "code",
   "execution_count": 21,
   "metadata": {},
   "outputs": [],
   "source": [
    "dic1 = {'a': 40323, 'dasd': 21212}"
   ]
  },
  {
   "cell_type": "code",
   "execution_count": 23,
   "metadata": {},
   "outputs": [],
   "source": [
    "dic1['qwerty'] = 12345"
   ]
  },
  {
   "cell_type": "code",
   "execution_count": 24,
   "metadata": {},
   "outputs": [
    {
     "data": {
      "text/plain": [
       "{'a': 40323, 'dasd': 21212, 'qwerty': 12345}"
      ]
     },
     "execution_count": 24,
     "metadata": {},
     "output_type": "execute_result"
    }
   ],
   "source": [
    "dic1"
   ]
  },
  {
   "cell_type": "code",
   "execution_count": 26,
   "metadata": {},
   "outputs": [],
   "source": [
    "del dic1['dasd']"
   ]
  },
  {
   "cell_type": "code",
   "execution_count": 27,
   "metadata": {},
   "outputs": [],
   "source": [
    "dic1['irv'] = 7890"
   ]
  },
  {
   "cell_type": "code",
   "execution_count": 28,
   "metadata": {},
   "outputs": [
    {
     "data": {
      "text/plain": [
       "{'a': 40323, 'qwerty': 12345, 'irv': 7890}"
      ]
     },
     "execution_count": 28,
     "metadata": {},
     "output_type": "execute_result"
    }
   ],
   "source": [
    "dic1"
   ]
  },
  {
   "cell_type": "code",
   "execution_count": 29,
   "metadata": {},
   "outputs": [
    {
     "data": {
      "text/plain": [
       "['a', 'qwerty', 'irv']"
      ]
     },
     "execution_count": 29,
     "metadata": {},
     "output_type": "execute_result"
    }
   ],
   "source": [
    "list(dic1)"
   ]
  },
  {
   "cell_type": "code",
   "execution_count": 30,
   "metadata": {},
   "outputs": [
    {
     "data": {
      "text/plain": [
       "['a', 'irv', 'qwerty']"
      ]
     },
     "execution_count": 30,
     "metadata": {},
     "output_type": "execute_result"
    }
   ],
   "source": [
    "sorted(dic1)"
   ]
  },
  {
   "cell_type": "code",
   "execution_count": 31,
   "metadata": {},
   "outputs": [
    {
     "data": {
      "text/plain": [
       "True"
      ]
     },
     "execution_count": 31,
     "metadata": {},
     "output_type": "execute_result"
    }
   ],
   "source": [
    "'a' in dic1"
   ]
  },
  {
   "cell_type": "code",
   "execution_count": 32,
   "metadata": {},
   "outputs": [
    {
     "data": {
      "text/plain": [
       "False"
      ]
     },
     "execution_count": 32,
     "metadata": {},
     "output_type": "execute_result"
    }
   ],
   "source": [
    "'dasd' in dic1"
   ]
  },
  {
   "cell_type": "markdown",
   "metadata": {},
   "source": [
    "El constructor `dict()` crea un diccionario directamente desde secuencias de pares clave-valor:"
   ]
  },
  {
   "cell_type": "code",
   "execution_count": 34,
   "metadata": {},
   "outputs": [
    {
     "data": {
      "text/plain": [
       "{'sape': 4139, 'guido': 12345, 'jack': 54321}"
      ]
     },
     "execution_count": 34,
     "metadata": {},
     "output_type": "execute_result"
    }
   ],
   "source": [
    "dict( [ ('sape', 4139), ('guido', 12345), ('jack', 54321) ] )"
   ]
  },
  {
   "cell_type": "markdown",
   "metadata": {},
   "source": [
    "Además, las comprensiones de diccionarios se pueden usar para crear diccionarios desde expresiones arbitrarias de clave-valor:"
   ]
  },
  {
   "cell_type": "code",
   "execution_count": 35,
   "metadata": {},
   "outputs": [
    {
     "data": {
      "text/plain": [
       "{2: 4, 4: 16, 6: 36}"
      ]
     },
     "execution_count": 35,
     "metadata": {},
     "output_type": "execute_result"
    }
   ],
   "source": [
    "{x: x**2 for x in (2,4,6)}"
   ]
  },
  {
   "cell_type": "markdown",
   "metadata": {},
   "source": [
    "Cuando las claves son cadenas simples, a veces resulta más fácil especificar los pares usando argumentos por palabra clave:"
   ]
  },
  {
   "cell_type": "code",
   "execution_count": 36,
   "metadata": {},
   "outputs": [
    {
     "data": {
      "text/plain": [
       "{'sape': 12345, 'guido': 54321, 'jack': 6789}"
      ]
     },
     "execution_count": 36,
     "metadata": {},
     "output_type": "execute_result"
    }
   ],
   "source": [
    "dict(sape=12345, guido=54321, jack=6789)"
   ]
  },
  {
   "cell_type": "markdown",
   "metadata": {},
   "source": [
    "---"
   ]
  },
  {
   "cell_type": "markdown",
   "metadata": {},
   "source": [
    "Ahora sí, vamos a hablar sobre listas y diccionarios anidados, listas que contienen listas, listas que contienen diccionarios, diccionarios que almacenan lista, etc.\n",
    "\n",
    "Hagamos un ejemplo de ello:"
   ]
  },
  {
   "cell_type": "code",
   "execution_count": 90,
   "metadata": {},
   "outputs": [
    {
     "name": "stdout",
     "output_type": "stream",
     "text": [
      "Super_dict:\n",
      "Key: natural_nums, Value: [1, 2, 3, 4, 5]\n",
      "Key: integer_nums, Value: [-1, -2, 0, 1, 2]\n",
      "Key: floating_nums, Value: [1.1, 2.2, 3.3, 4.4]\n",
      "\n",
      "Super_list:\n",
      "\n",
      "Diccionario número: 1 = {'fristname': 'Abdiel', 'Lastname': 'Guerro'}\n",
      "Key 1: fristname, Value 1: Abdiel\n",
      "Key 1: Lastname, Value 1: Guerro\n",
      "\n",
      "Diccionario número: 2 = {'fristname': 'ASDFG', 'Lastname': 'gdfgdfg'}\n",
      "Key 2: fristname, Value 2: ASDFG\n",
      "Key 2: Lastname, Value 2: gdfgdfg\n",
      "\n",
      "Diccionario número: 3 = {'fristname': 'ghjkl', 'Lastname': 'asdasdsa'}\n",
      "Key 3: fristname, Value 3: ghjkl\n",
      "Key 3: Lastname, Value 3: asdasdsa\n",
      "\n",
      "Diccionario número: 4 = {'fristname': 'qwert', 'Lastname': 'weqwe'}\n",
      "Key 4: fristname, Value 4: qwert\n",
      "Key 4: Lastname, Value 4: weqwe\n",
      "\n",
      "Diccionario número: 5 = {'fristname': 'zxcvv', 'Lastname': 'cvzczxc'}\n",
      "Key 5: fristname, Value 5: zxcvv\n",
      "Key 5: Lastname, Value 5: cvzczxc\n",
      "\n",
      "Diccionario número: 6 = {'fristname': 'vbnmm', 'Lastname': 'hfghfg'}\n",
      "Key 6: fristname, Value 6: vbnmm\n",
      "Key 6: Lastname, Value 6: hfghfg\n"
     ]
    }
   ],
   "source": [
    "#Main\n",
    "def run(): \n",
    "    my_list = [1, 'Holi', True, 4.5]\n",
    "    my_dict = {\"fristname\": 'Abdiel', \"Lastname\": 'Guerr'}\n",
    "    \n",
    "    #Lista de diccionarios\n",
    "    super_list = [\n",
    "        {\"fristname\": 'Abdiel', \"Lastname\": 'Guerro'},\n",
    "        {\"fristname\": 'ASDFG', \"Lastname\": 'gdfgdfg'},\n",
    "        {\"fristname\": 'ghjkl', \"Lastname\": 'asdasdsa'},\n",
    "        {\"fristname\": 'qwert', \"Lastname\": 'weqwe'},\n",
    "        {\"fristname\": 'zxcvv', \"Lastname\": 'cvzczxc'},\n",
    "        {\"fristname\": 'vbnmm', \"Lastname\": 'hfghfg'}, \n",
    "    ]\n",
    "\n",
    "    #Diccionario de listas\n",
    "    super_dict = {\n",
    "        \"natural_nums\": [1,2,3,4,5],\n",
    "        \"integer_nums\": [-1, -2, 0, 1, 2],\n",
    "        \"floating_nums\": [1.1, 2.2, 3.3, 4.4]\n",
    "    }\n",
    "    \n",
    "    # El método .items() nos permite recorrer llaves y valores\n",
    "    # de un diccionario al mismo tiempo en un ciclo.\n",
    "    print(\"Super_dict:\")\n",
    "    for key, value in super_dict.items():\n",
    "        print(f'Key: {key}, Value: {value}')\n",
    "        \n",
    "        \n",
    "    print(\"\\nSuper_list:\")\n",
    "    #En cada iteración hay un diccionario\n",
    "    indice = 0\n",
    "    for elemento in super_list:\n",
    "        indice = indice + 1\n",
    "        print(f'\\nDiccionario número: {indice} = {elemento}') \n",
    "        #Por cada diccionario tenemos un par llave-valor\n",
    "        for key2, value2 in elemento.items(): \n",
    "            print(f'Key {indice}: {key2}, Value {indice}: {value2}')\n",
    "   \n",
    "\n",
    "# Entry point  \n",
    "if __name__ == '__main__': \n",
    "    run()"
   ]
  },
  {
   "cell_type": "markdown",
   "metadata": {},
   "source": [
    "---"
   ]
  },
  {
   "cell_type": "markdown",
   "metadata": {},
   "source": [
    "### List Comprehensions"
   ]
  },
  {
   "cell_type": "markdown",
   "metadata": {},
   "source": [
    "Como practica intentemos crear una lista que contenga los primeros 100 números naturales al cuadrado."
   ]
  },
  {
   "cell_type": "code",
   "execution_count": 130,
   "metadata": {},
   "outputs": [
    {
     "name": "stdout",
     "output_type": "stream",
     "text": [
      "Lista de naturales al cuadrado:\n",
      " [1, 4, 9, 16, 25, 36, 49, 64, 81, 100, 121, 144, 169, 196, 225, 256, 289, 324, 361, 400, 441, 484, 529, 576, 625, 676, 729, 784, 841, 900, 961, 1024, 1089, 1156, 1225, 1296, 1369, 1444, 1521, 1600, 1681, 1764, 1849, 1936, 2025, 2116, 2209, 2304, 2401, 2500, 2601, 2704, 2809, 2916, 3025, 3136, 3249, 3364, 3481, 3600, 3721, 3844, 3969, 4096, 4225, 4356, 4489, 4624, 4761, 4900, 5041, 5184, 5329, 5476, 5625, 5776, 5929, 6084, 6241, 6400, 6561, 6724, 6889, 7056, 7225, 7396, 7569, 7744, 7921, 8100, 8281, 8464, 8649, 8836, 9025, 9216, 9409, 9604, 9801, 10000]\n"
     ]
    }
   ],
   "source": [
    "def main():\n",
    "    \n",
    "    list_n_to_2 = []\n",
    "    for i in range(1, 101):\n",
    "        list_n_to_2.append(i**2)\n",
    "    print(f'Lista de naturales al cuadrado:\\n {list_n_to_2}')\n",
    "    \n",
    "\n",
    "if __name__ == '__main__':\n",
    "    main()"
   ]
  },
  {
   "cell_type": "markdown",
   "metadata": {},
   "source": [
    "Ahora tratemos de hacer una lista con los cuadrados del 1 al 100 que NO sean divisibles entre 3."
   ]
  },
  {
   "cell_type": "code",
   "execution_count": 131,
   "metadata": {},
   "outputs": [
    {
     "name": "stdout",
     "output_type": "stream",
     "text": [
      "Lista de naturales al cuadrado que NO son divisibles entre 3\n",
      " [1, 4, 16, 25, 49, 64, 100, 121, 169, 196, 256, 289, 361, 400, 484, 529, 625, 676, 784, 841, 961, 1024, 1156, 1225, 1369, 1444, 1600, 1681, 1849, 1936, 2116, 2209, 2401, 2500, 2704, 2809, 3025, 3136, 3364, 3481, 3721, 3844, 4096, 4225, 4489, 4624, 4900, 5041, 5329, 5476, 5776, 5929, 6241, 6400, 6724, 6889, 7225, 7396, 7744, 7921, 8281, 8464, 8836, 9025, 9409, 9604, 10000]\n"
     ]
    }
   ],
   "source": [
    "def main():\n",
    "    \n",
    "    n_to_2_not_divisible3 = []\n",
    "    for i in range (101):\n",
    "        n_to_2_not_divisible3.append(i**2)\n",
    "        if (i**2)%3 == 0:\n",
    "            n_to_2_not_divisible3.remove(i**2)\n",
    "\n",
    "    print('Lista de naturales al cuadrado que NO son divisibles entre 3\\n' \n",
    "          , n_to_2_not_divisible3)\n",
    "    \n",
    "if __name__ == '__main__':\n",
    "    main()"
   ]
  },
  {
   "cell_type": "markdown",
   "metadata": {},
   "source": [
    "Ahora, ¿Que pasaría si quisieramos realizar estas tareas de generar listas, pero **sin ciclos**?"
   ]
  },
  {
   "cell_type": "code",
   "execution_count": 122,
   "metadata": {},
   "outputs": [
    {
     "name": "stdout",
     "output_type": "stream",
     "text": [
      "Lista de naturales del 1-100 al cuadrado: \n",
      "[0, 1, 4, 9, 16, 25, 36, 49, 64, 81, 100, 121, 144, 169, 196, 225, 256, 289, 324, 361, 400, 441, 484, 529, 576, 625, 676, 729, 784, 841, 900, 961, 1024, 1089, 1156, 1225, 1296, 1369, 1444, 1521, 1600, 1681, 1764, 1849, 1936, 2025, 2116, 2209, 2304, 2401, 2500, 2601, 2704, 2809, 2916, 3025, 3136, 3249, 3364, 3481, 3600, 3721, 3844, 3969, 4096, 4225, 4356, 4489, 4624, 4761, 4900, 5041, 5184, 5329, 5476, 5625, 5776, 5929, 6084, 6241, 6400, 6561, 6724, 6889, 7056, 7225, 7396, 7569, 7744, 7921, 8100, 8281, 8464, 8649, 8836, 9025, 9216, 9409, 9604, 9801, 10000]\n",
      "\n",
      " Diccionario de naturales del 1-100 al cuadrado:\n",
      "{0: 0, 1: 1, 2: 4, 3: 9, 4: 16, 5: 25, 6: 36, 7: 49, 8: 64, 9: 81, 10: 100, 11: 121, 12: 144, 13: 169, 14: 196, 15: 225, 16: 256, 17: 289, 18: 324, 19: 361, 20: 400, 21: 441, 22: 484, 23: 529, 24: 576, 25: 625, 26: 676, 27: 729, 28: 784, 29: 841, 30: 900, 31: 961, 32: 1024, 33: 1089, 34: 1156, 35: 1225, 36: 1296, 37: 1369, 38: 1444, 39: 1521, 40: 1600, 41: 1681, 42: 1764, 43: 1849, 44: 1936, 45: 2025, 46: 2116, 47: 2209, 48: 2304, 49: 2401, 50: 2500, 51: 2601, 52: 2704, 53: 2809, 54: 2916, 55: 3025, 56: 3136, 57: 3249, 58: 3364, 59: 3481, 60: 3600, 61: 3721, 62: 3844, 63: 3969, 64: 4096, 65: 4225, 66: 4356, 67: 4489, 68: 4624, 69: 4761, 70: 4900, 71: 5041, 72: 5184, 73: 5329, 74: 5476, 75: 5625, 76: 5776, 77: 5929, 78: 6084, 79: 6241, 80: 6400, 81: 6561, 82: 6724, 83: 6889, 84: 7056, 85: 7225, 86: 7396, 87: 7569, 88: 7744, 89: 7921, 90: 8100, 91: 8281, 92: 8464, 93: 8649, 94: 8836, 95: 9025, 96: 9216, 97: 9409, 98: 9604, 99: 9801, 100: 10000}\n"
     ]
    }
   ],
   "source": [
    "def main():\n",
    "    \n",
    "    list_n_to_2 = [n**2 for n in range(101)]\n",
    "    dict_n_to_2 = {n: n**2 for n in range(101)}\n",
    "    \n",
    "    print(f'Lista de naturales del 1-100 al cuadrado: \\n{list_n_to_2}')\n",
    "    print(f'\\n Diccionario de naturales del 1-100 al cuadrado:\\n{dict_n_to_2}')\n",
    "\n",
    "if __name__ == '__main__':\n",
    "    main()"
   ]
  },
  {
   "cell_type": "markdown",
   "metadata": {},
   "source": [
    "Ahora hagamos el segundo ejemplo de los cuadrados que no son divisibles entre 3 usando list comprehensions:"
   ]
  },
  {
   "cell_type": "code",
   "execution_count": 134,
   "metadata": {},
   "outputs": [
    {
     "name": "stdout",
     "output_type": "stream",
     "text": [
      "Lista de naturales al cuadrado que NO son divisibles entre 3\n",
      " [1, 4, 16, 25, 49, 64, 100, 121, 169, 196, 256, 289, 361, 400, 484, 529, 625, 676, 784, 841, 961, 1024, 1156, 1225, 1369, 1444, 1600, 1681, 1849, 1936, 2116, 2209, 2401, 2500, 2704, 2809, 3025, 3136, 3364, 3481, 3721, 3844, 4096, 4225, 4489, 4624, 4900, 5041, 5329, 5476, 5776, 5929, 6241, 6400, 6724, 6889, 7225, 7396, 7744, 7921, 8281, 8464, 8836, 9025, 9409, 9604, 10000]\n"
     ]
    }
   ],
   "source": [
    "def main():\n",
    "    \n",
    "    n_to_2_not_divisible3 = [n**2 for n in range(1,101) if n%3 != 0]\n",
    "    print('Lista de naturales al cuadrado que NO son divisibles entre 3\\n' \n",
    "          , n_to_2_not_divisible3)\n",
    "    \n",
    "if __name__ == '__main__':\n",
    "    main()"
   ]
  },
  {
   "cell_type": "markdown",
   "metadata": {},
   "source": [
    "La estructura general de los list comprehensions sería la siguiente:\n",
    "\n",
    "\n",
    "```py\n",
    "[element for element in iterable if condition] \n",
    "> Para cada elemento en el iterable agrega ese elemento \n",
    "  solo si cumple la condición.\n",
    "```"
   ]
  },
  {
   "cell_type": "markdown",
   "metadata": {},
   "source": [
    "Hagamos otro ejemplo utilizando list comprehensions que enliste a todos los múltiplos de 4 que a la vez también son múltiplos de 6 y de 9, hasta 5 dígitos."
   ]
  },
  {
   "cell_type": "code",
   "execution_count": 37,
   "metadata": {},
   "outputs": [
    {
     "name": "stdout",
     "output_type": "stream",
     "text": [
      "[36, 72, 108, 144, 180, 216, 252, 288, 324, 360, 396, 432, 468, 504, 540, 576, 612, 648, 684, 720, 756, 792, 828, 864, 900, 936, 972]\n"
     ]
    }
   ],
   "source": [
    "def main():\n",
    "    list_muitiple_of_9_6_4 = [e for e in range(1,1000) if e%9 == 0 and \n",
    "                             e%6 == 0 and e%4 == 0]\n",
    "    print(list_muitiple_of_9_6_4)\n",
    "    \n",
    "\n",
    "if __name__ == '__main__':\n",
    "    main()"
   ]
  },
  {
   "cell_type": "markdown",
   "metadata": {},
   "source": [
    "---"
   ]
  },
  {
   "cell_type": "markdown",
   "metadata": {},
   "source": [
    "### Dictionary comprehensions"
   ]
  },
  {
   "cell_type": "code",
   "execution_count": 47,
   "metadata": {},
   "outputs": [
    {
     "name": "stdout",
     "output_type": "stream",
     "text": [
      "Dictionary comprehensions:\n",
      "{0: 0, 1: 1, 2: 8, 3: 27, 4: 64, 5: 125, 6: 216, 7: 343, 8: 512, 9: 729, 10: 1000, 11: 1331, 12: 1728, 13: 2197, 14: 2744, 15: 3375, 16: 4096, 17: 4913, 18: 5832, 19: 6859, 20: 8000, 21: 9261, 22: 10648, 23: 12167, 24: 13824, 25: 15625, 26: 17576, 27: 19683, 28: 21952, 29: 24389, 30: 27000, 31: 29791, 32: 32768, 33: 35937, 34: 39304, 35: 42875, 36: 46656, 37: 50653, 38: 54872, 39: 59319, 40: 64000, 41: 68921, 42: 74088, 43: 79507, 44: 85184, 45: 91125, 46: 97336, 47: 103823, 48: 110592, 49: 117649, 50: 125000, 51: 132651, 52: 140608, 53: 148877, 54: 157464, 55: 166375, 56: 175616, 57: 185193, 58: 195112, 59: 205379, 60: 216000, 61: 226981, 62: 238328, 63: 250047, 64: 262144, 65: 274625, 66: 287496, 67: 300763, 68: 314432, 69: 328509, 70: 343000, 71: 357911, 72: 373248, 73: 389017, 74: 405224, 75: 421875, 76: 438976, 77: 456533, 78: 474552, 79: 493039, 80: 512000, 81: 531441, 82: 551368, 83: 571787, 84: 592704, 85: 614125, 86: 636056, 87: 658503, 88: 681472, 89: 704969, 90: 729000, 91: 753571, 92: 778688, 93: 804357, 94: 830584, 95: 857375, 96: 884736, 97: 912673, 98: 941192, 99: 970299, 100: 1000000}\n"
     ]
    }
   ],
   "source": [
    "def main():\n",
    "    dict_naturals = {key: key**3 for key in range(101)}\n",
    "    print(f'Dictionary comprehensions:\\n{dict_naturals}')\n",
    "    \n",
    "if __name__ == '__main__':\n",
    "    main()"
   ]
  },
  {
   "cell_type": "markdown",
   "metadata": {},
   "source": [
    "Igual que como hicimos con las listas, tratemos de agregar en un diccionario aquellos números al cubo que no sean divisibles entre 3."
   ]
  },
  {
   "cell_type": "code",
   "execution_count": 52,
   "metadata": {},
   "outputs": [
    {
     "name": "stdout",
     "output_type": "stream",
     "text": [
      "{1: 1, 2: 8, 4: 64, 5: 125, 7: 343, 8: 512, 10: 1000, 11: 1331, 13: 2197, 14: 2744, 16: 4096, 17: 4913, 19: 6859, 20: 8000, 22: 10648, 23: 12167, 25: 15625, 26: 17576, 28: 21952, 29: 24389, 31: 29791, 32: 32768, 34: 39304, 35: 42875, 37: 50653, 38: 54872, 40: 64000, 41: 68921, 43: 79507, 44: 85184, 46: 97336, 47: 103823, 49: 117649, 50: 125000, 52: 140608, 53: 148877, 55: 166375, 56: 175616, 58: 195112, 59: 205379, 61: 226981, 62: 238328, 64: 262144, 65: 274625, 67: 300763, 68: 314432, 70: 343000, 71: 357911, 73: 389017, 74: 405224, 76: 438976, 77: 456533, 79: 493039, 80: 512000, 82: 551368, 83: 571787, 85: 614125, 86: 636056, 88: 681472, 89: 704969, 91: 753571, 92: 778688, 94: 830584, 95: 857375, 97: 912673, 98: 941192, 100: 1000000}\n"
     ]
    }
   ],
   "source": [
    "def main():\n",
    "    dict_not_divisible_3 = {n:n**3 for n in range(0,101) if n%3 != 0}\n",
    "    print(dict_not_divisible_3)\n",
    "    \n",
    "    \n",
    "if __name__ == '__main__':\n",
    "    main()"
   ]
  },
  {
   "cell_type": "markdown",
   "metadata": {},
   "source": [
    "Podemos inferir que la estructura de los *Dictionary comprehensions* es la siguiente:\n",
    "\n",
    "```py\n",
    "{key : value for value in iterable if condition}\n",
    ">  Para cada elemento en un iterable, coloca una llave y un valor \n",
    "   solo si cumple la condición.\n",
    "```"
   ]
  },
  {
   "cell_type": "markdown",
   "metadata": {},
   "source": [
    "Como ejercicio realicemos lo siguiente:\n",
    "\n",
    "* Crear un *Dictionary comprehension* que contenga en sus llaves a los primeros 1000 números naturales con sus raíces cuadradas como valores."
   ]
  },
  {
   "cell_type": "code",
   "execution_count": 64,
   "metadata": {},
   "outputs": [
    {
     "name": "stdout",
     "output_type": "stream",
     "text": [
      "Diccionario con los naturales en sus llaves y la raiz en los valores:\n",
      "\n",
      " {0: 0.0, 1: 1.0, 2: 1.4142135623730951, 3: 1.7320508075688772, 4: 2.0, 5: 2.23606797749979, 6: 2.449489742783178, 7: 2.6457513110645907, 8: 2.8284271247461903, 9: 3.0, 10: 3.1622776601683795}\n"
     ]
    }
   ],
   "source": [
    "import math \n",
    "from math import sqrt\n",
    "\n",
    "def main():\n",
    "    dict_naturals_squareroots = {n: sqrt(n) for n in range(11) }\n",
    "    #Lo truncamos a 10 para que no ocupe mucho espacio al imprimir\n",
    "    print('Diccionario con los naturales en sus llaves y la raiz en los valores:\\n\\n'\n",
    "            ,dict_naturals_squareroots)\n",
    "\n",
    "\n",
    "if __name__ == '__main__':\n",
    "    main()"
   ]
  },
  {
   "cell_type": "markdown",
   "metadata": {},
   "source": [
    "---"
   ]
  },
  {
   "cell_type": "markdown",
   "metadata": {},
   "source": [
    "## Módulo 4. Conceptos avanzados de funciones"
   ]
  },
  {
   "cell_type": "markdown",
   "metadata": {},
   "source": [
    "### Funciones anónimas: lambda"
   ]
  },
  {
   "cell_type": "markdown",
   "metadata": {},
   "source": [
    "Recordemos un poco el concepto de función. Una función es un bloque de código con un nombre asociado, que recibe creo o más argumentos como entrada, sigue una secuencia de sentencias, las cuales ejecutan una operación deseada y devuelve un valor y/o realiza una tarea. \n",
    "\n",
    "En otras palabras, es un fragmento de código que escribimos una sola vez y puede ser reutilizada en el resto de nuestro programa, donde podemos cambiar nuestros parámetros de entrada para obtener diferentes salidas."
   ]
  },
  {
   "cell_type": "markdown",
   "metadata": {},
   "source": [
    "La estructura básica de una función es la siguiente:\n",
    "\n",
    "```py\n",
    "def function_name(parameter_1, parameter_2, ... , parameter_n)\n",
    "\n",
    "> Define una función (keyword def) con cierto nombre (identificador)\n",
    "  y ciertos parámetros\n",
    "```\n",
    "\n",
    "Puede darse el caso donde utilicemos funciones que no reciben ningún parámetro de entrada."
   ]
  },
  {
   "cell_type": "markdown",
   "metadata": {},
   "source": [
    "Pero existe una forma diferente para crear funciones, más específicamente, **funciones sin nombre**. A estas funciones les llamamos **funciones anónimas o lambda functions**.\n",
    "\n",
    "Es decir, solo son funciones que carecen de un identificador. Además de tener ciertas particularidades."
   ]
  },
  {
   "cell_type": "markdown",
   "metadata": {},
   "source": [
    "La estructura de las funciones lambda $\\lambda$ es la siguiente:\n",
    "\n",
    "```py\n",
    "lambda argumentos : expresión \n",
    "```\n",
    "\n",
    "En Python las funciones $\\lambda$ necesariamente deben de ser escritas en una sola línea de código."
   ]
  },
  {
   "cell_type": "markdown",
   "metadata": {},
   "source": [
    "Para hacer notar la diferencia, recordemos un pequeño programa donde verificamos si una palabra era palíndromo o no.\n",
    "\n",
    "Primero revisemos el programa hecho con funciones normales, teniendo la función `palindromo(palabra)` que hace la verificación y la función `main()` que ejecuta a `palindromo()` y crea los intputs en donde pasamos la palabra a verificar.\n",
    "\n",
    "En realidad podría funcionar sin la función `main()` agregando los inputs en el entry point `if __name__ == '__main__'` , pero como buena práctica y por legibilidad lo dejamos así."
   ]
  },
  {
   "cell_type": "code",
   "execution_count": 65,
   "metadata": {},
   "outputs": [
    {
     "name": "stdout",
     "output_type": "stream",
     "text": [
      "Escribe una palabra: aba\n",
      "Es un palindromo\n"
     ]
    }
   ],
   "source": [
    "def palindromo(palabra):\n",
    "    palabra = palabra.replace(' ','') #Reemplaza los espacios por un vacio\n",
    "    palabra = palabra.lower() #Ejecutamos el metodo de minusculas\n",
    "    palabra_invertida = palabra[::-1] #Guardar la palabra al reves, de inicio a final con pasos de -1\n",
    "\n",
    "    if palabra == palabra_invertida:\n",
    "        return True\n",
    "    else:\n",
    "        return False\n",
    "\n",
    "\n",
    "def main():\n",
    "    palabra = input('Escribe una palabra: ')\n",
    "    es_palindromo = palindromo(palabra)\n",
    "\n",
    "    if es_palindromo == True:\n",
    "        print('Es un palindromo')\n",
    "    \n",
    "    else:\n",
    "        print('No es un palindromo')\n",
    "\n",
    "\n",
    "if __name__ == '__main__':\n",
    "    main()"
   ]
  },
  {
   "cell_type": "markdown",
   "metadata": {},
   "source": [
    "Ahora, revisemos como sería la implementación con funciones lambda:"
   ]
  },
  {
   "cell_type": "markdown",
   "metadata": {},
   "source": [
    "```Python\n",
    "palindrome = lambda string: string = string[::-1]\n",
    "```\n",
    "\n",
    "Donde tenemos las siguientes partes:\n",
    "   \n",
    "   * **Identificador:** Nombre *asociado a la variable que contiene a un objeto del tipo función que retorna el resultado* no a la función en sí (`palindrome `).\n",
    "   \n",
    "   \n",
    "   * **Argumento:** Parámetro que recibe la función para trabajar, acompañado del keyword `lambda` (`lambda string`).\n",
    "   \n",
    "       \n",
    "   * **Expresión:** Línea de código que indica como va a trabajar (`string = string[::-1]`)."
   ]
  },
  {
   "cell_type": "code",
   "execution_count": 72,
   "metadata": {},
   "outputs": [
    {
     "name": "stdout",
     "output_type": "stream",
     "text": [
      "True\n"
     ]
    }
   ],
   "source": [
    "palindrome = lambda string : string == string[::-1]\n",
    "print(palindrome('larutanatural'))"
   ]
  },
  {
   "cell_type": "markdown",
   "metadata": {},
   "source": [
    "---"
   ]
  },
  {
   "cell_type": "markdown",
   "metadata": {},
   "source": [
    "### High order functions: filter, map y reduce"
   ]
  },
  {
   "cell_type": "markdown",
   "metadata": {},
   "source": [
    "Una función de orden superior es una función que recibe como parámetro a otra función.\n",
    "\n",
    "Existen 3 tipos de funciones de orden superior que son muy importantes en una gran parte de los lenguajes de programación:"
   ]
  },
  {
   "cell_type": "markdown",
   "metadata": {},
   "source": [
    "#### `filter()`:"
   ]
  },
  {
   "cell_type": "markdown",
   "metadata": {},
   "source": [
    "Es una función la cual toma un *predicado y una lista* y devuelve una lista con los elementos que satisfacen el predicado. Tal como su nombre lo indica `filter()` significa \"filtrar\", ya que a partir de una lista o iterador y una función condicional, es capaz de devolver una nueva colección de elementos filtrados que cumplan la condición.\n",
    "\n",
    "Todo esto podría haberse logrado también usando **list comprehension** que usaran predicados. No hay ninguna regla de cuando usar una u otra opción, simplemente se debe elegir que es más legible y práctico para la situación."
   ]
  },
  {
   "cell_type": "markdown",
   "metadata": {},
   "source": [
    "Como ejemplo imaginemos que queremos filtrar de los datos de una lista aquellos números pares y solo dejar a los números impares.\n",
    "\n",
    "![](https://i.imgur.com/sn1MOU8.png)\n",
    "\n",
    "Primero una solución con list comprehensions:"
   ]
  },
  {
   "cell_type": "code",
   "execution_count": 84,
   "metadata": {},
   "outputs": [
    {
     "name": "stdout",
     "output_type": "stream",
     "text": [
      "[1, 3, 5, 7, 9]\n"
     ]
    }
   ],
   "source": [
    "my_list = [n for n in range(11)]\n",
    "\n",
    "add = [i for i in my_list if i % 2 != 0]\n",
    "\n",
    "print(add)\n"
   ]
  },
  {
   "cell_type": "markdown",
   "metadata": {},
   "source": [
    "Ahora, resolvamos usando la función de orden superior `filter()`:"
   ]
  },
  {
   "cell_type": "code",
   "execution_count": 88,
   "metadata": {},
   "outputs": [
    {
     "name": "stdout",
     "output_type": "stream",
     "text": [
      "[1, 3, 5, 7, 9]\n"
     ]
    }
   ],
   "source": [
    "my_list = [n for n in range(11)]\n",
    "\n",
    "add = list(filter(lambda x: x%2 !=0, my_list))\n",
    "\n",
    "print(add)"
   ]
  },
  {
   "cell_type": "markdown",
   "metadata": {},
   "source": [
    "Podemos ver que dentro de nuestra función `filter()` está recibiendo como primer parámetro a una función lambda $\\lambda$, la cual recibe como parámetro a una `x` y retorna como resultado a `x%2 != 0`; como segundo parámetro de `filter()` está recibiendo a una lista (iterable) que no es más que nuestra lista de números del 1 al 10.\n",
    "\n",
    "La función `filter()` devuelve como resultado a un objeto del tipo **iterador**. Y toda nuestra función `filter()` está dentro de otra función llamada `list()` que se encarga de convertir nuestro iterable en una lista para finalmente almacenar todo el resultado dentro de nuestra variable `add`."
   ]
  },
  {
   "cell_type": "markdown",
   "metadata": {},
   "source": [
    "#### `map()`:"
   ]
  },
  {
   "cell_type": "markdown",
   "metadata": {},
   "source": [
    "La función `map()` toma una función y una lista y aplica esa función a cada elemento de esa lista, produciendo una nueva lista como resultado.\n",
    "\n",
    "Funciona de una forma muy similar a `filter()`, con la diferencia de que en lugar de aplicar una condición a un elemento de una lista o secuencia, aplica una función sobre todos los elementos y como resultado devuelve una lista de los resultados de efectuar esa función."
   ]
  },
  {
   "cell_type": "markdown",
   "metadata": {},
   "source": [
    "Imaginemos que originalmente tenemos una lista con ciertos números y queremos obtener una nueva lista, pero ahora con los números elevados al cuadrado.\n",
    "\n",
    "![](https://i.imgur.com/QgD5vJa.png)"
   ]
  },
  {
   "cell_type": "markdown",
   "metadata": {},
   "source": [
    "Veamos como lo resolveríamos con *list comprehensions*:"
   ]
  },
  {
   "cell_type": "code",
   "execution_count": 92,
   "metadata": {},
   "outputs": [
    {
     "name": "stdout",
     "output_type": "stream",
     "text": [
      "Lista de números:\n",
      "[0, 1, 2, 3, 4, 5, 6, 7, 8, 9, 10]\n",
      "Lista de números al cuadrado:\n",
      "[0, 1, 4, 9, 16, 25, 36, 49, 64, 81, 100]\n"
     ]
    }
   ],
   "source": [
    "def main():\n",
    "    numbers = [n for n in range(11)]\n",
    "    print(f'Lista de números:\\n{numbers}')\n",
    "    \n",
    "    numbers_2 = [x**2 for x in numbers]\n",
    "    print(f'Lista de números al cuadrado:\\n{numbers_2}')\n",
    "\n",
    "\n",
    "if __name__ == '__main__':\n",
    "    main()"
   ]
  },
  {
   "cell_type": "markdown",
   "metadata": {},
   "source": [
    "Ahora veamos como resolverlo con `map()`:"
   ]
  },
  {
   "cell_type": "code",
   "execution_count": 98,
   "metadata": {},
   "outputs": [
    {
     "name": "stdout",
     "output_type": "stream",
     "text": [
      "Lista de números:\n",
      "[0, 1, 2, 3, 4, 5, 6, 7, 8, 9, 10]\n",
      "Lista de números al caudrado:\n",
      "[0, 1, 4, 9, 16, 25, 36, 49, 64, 81, 100]\n"
     ]
    }
   ],
   "source": [
    "def main():\n",
    "    numbers = [n for n in range(11)]\n",
    "    print(f'Lista de números:\\n{numbers}')\n",
    "    \n",
    "    numbers_2 = list(map(lambda x: x**2, numbers))\n",
    "    print(f'Lista de números al caudrado:\\n{numbers_2}')\n",
    "\n",
    "    \n",
    "if __name__ == '__main__':\n",
    "    main()"
   ]
  },
  {
   "cell_type": "markdown",
   "metadata": {},
   "source": [
    "#### `reduce()`:"
   ]
  },
  {
   "cell_type": "markdown",
   "metadata": {},
   "source": [
    "Esta función toma como argumento un conjunto de valores (una lista, tupla o cualquier objeto iterable) y lo \"reduce\" a un único valor. El cómo se obtiene ese único valor a partir de la colección pasada como argumento dependerá de la función aplicada (Segundo parámetro)."
   ]
  },
  {
   "cell_type": "markdown",
   "metadata": {},
   "source": [
    "Imaginemos el ejemplo donde tenemos una lista de números y queremos obtener el resultado de multiplicar cada uno de ellos, es decir, el primero por el segundo por el tercero, etc."
   ]
  },
  {
   "cell_type": "markdown",
   "metadata": {},
   "source": [
    "![](https://i.imgur.com/BZslNRg.png)"
   ]
  },
  {
   "cell_type": "markdown",
   "metadata": {},
   "source": [
    "Veamos como sería una implementación común:"
   ]
  },
  {
   "cell_type": "code",
   "execution_count": 113,
   "metadata": {},
   "outputs": [
    {
     "name": "stdout",
     "output_type": "stream",
     "text": [
      "Numeros: [1, 2, 3, 4, 5, 6, 7, 8, 9, 10]\n",
      "Resultado: 3628800\n"
     ]
    }
   ],
   "source": [
    "def main():\n",
    "    numbers = [n for n in range(1,11)]\n",
    "    print(f'Numeros: {numbers}')\n",
    "    \n",
    "    multiply_all = 1\n",
    "    \n",
    "    for i in numbers:\n",
    "        multiply_all = multiply_all * i\n",
    "    \n",
    "    print(f'Resultado: {multiply_all}')\n",
    "\n",
    "\n",
    "if __name__ == '__main__':\n",
    "    main()"
   ]
  },
  {
   "cell_type": "markdown",
   "metadata": {},
   "source": [
    "Ahora veamos la implementación usando la función `reduce()`. En este caso es un tanto diferente ya que tenemos que importar la función del módulo `functools` antes de usarla.\n",
    "\n",
    "Recibirá a la función lambda como primer parámetro y a nuestra lista de números como segundo parámetro.\n",
    "\n",
    "Lambda recibe dos parámetros: `a` y `b`, es decir, el primer y segundo elemento de la lista. En este caso en particular comenzamos con `1*2=2`, después con`2*3=6`, luego con `6*4=24` y así sucesivamente."
   ]
  },
  {
   "cell_type": "code",
   "execution_count": 114,
   "metadata": {},
   "outputs": [
    {
     "name": "stdout",
     "output_type": "stream",
     "text": [
      "Números: [1, 2, 3, 4, 5, 6, 7, 8, 9, 10]\n",
      "Resultado:3628800\n"
     ]
    }
   ],
   "source": [
    "from functools import reduce\n",
    "\n",
    "def main():\n",
    "    numbers = [n for n in range(1,11)]\n",
    "    print(f'Números: {numbers}')\n",
    "    \n",
    "    multiply_all = reduce(lambda a, b: a*b , numbers)\n",
    "    print(f'Resultado:{multiply_all}')\n",
    "\n",
    "\n",
    "if __name__ == '__main__':\n",
    "    main()"
   ]
  },
  {
   "cell_type": "markdown",
   "metadata": {},
   "source": [
    "---"
   ]
  },
  {
   "cell_type": "markdown",
   "metadata": {},
   "source": [
    "### Proyecto: Filtrando datos"
   ]
  },
  {
   "cell_type": "markdown",
   "metadata": {},
   "source": [
    "Para comenzar este pequeño proyecto vamos a trabajar con esta lista de diccionarios de datos para comenzar a filtrarlos:"
   ]
  },
  {
   "cell_type": "code",
   "execution_count": 6,
   "metadata": {},
   "outputs": [],
   "source": [
    "DATA = [\n",
    "    {\n",
    "        'name': 'Facundo',\n",
    "        'age': 72,\n",
    "        'organization': 'Platzi',\n",
    "        'position': 'Technical Coach',\n",
    "        'language': 'python',\n",
    "    },\n",
    "    {\n",
    "        'name': 'Luisana',\n",
    "        'age': 33,\n",
    "        'organization': 'Globant',\n",
    "        'position': 'UX Designer',\n",
    "        'language': 'javascript',\n",
    "    },\n",
    "    {\n",
    "        'name': 'Héctor',\n",
    "        'age': 19,\n",
    "        'organization': 'Platzi',\n",
    "        'position': 'Associate',\n",
    "        'language': 'ruby',\n",
    "    },\n",
    "    {\n",
    "        'name': 'Gabriel',\n",
    "        'age': 20,\n",
    "        'organization': 'Platzi',\n",
    "        'position': 'Associate',\n",
    "        'language': 'javascript',\n",
    "    },\n",
    "    {\n",
    "        'name': 'Isabella',\n",
    "        'age': 30,\n",
    "        'organization': 'Platzi',\n",
    "        'position': 'QA Manager',\n",
    "        'language': 'java',\n",
    "    },\n",
    "    {\n",
    "        'name': 'Karo',\n",
    "        'age': 23,\n",
    "        'organization': 'Everis',\n",
    "        'position': 'Backend Developer',\n",
    "        'language': 'python',\n",
    "    },\n",
    "    {\n",
    "        'name': 'Ariel',\n",
    "        'age': 32,\n",
    "        'organization': 'Rappi',\n",
    "        'position': 'Support',\n",
    "        'language': '',\n",
    "    },\n",
    "    {\n",
    "        'name': 'Juan',\n",
    "        'age': 17,\n",
    "        'organization': '',\n",
    "        'position': 'Student',\n",
    "        'language': 'go',\n",
    "    },\n",
    "    {\n",
    "        'name': 'Pablo',\n",
    "        'age': 32,\n",
    "        'organization': 'Master',\n",
    "        'position': 'Human Resources Manager',\n",
    "        'language': 'python',\n",
    "    },\n",
    "    {\n",
    "        'name': 'Lorena',\n",
    "        'age': 56,\n",
    "        'organization': 'Python Organization',\n",
    "        'position': 'Language Maker',\n",
    "        'language': 'python',\n",
    "    },\n",
    "]"
   ]
  },
  {
   "cell_type": "markdown",
   "metadata": {},
   "source": [
    "Ahora sí, comencemos a crear el programa"
   ]
  },
  {
   "cell_type": "code",
   "execution_count": 47,
   "metadata": {},
   "outputs": [
    {
     "name": "stdout",
     "output_type": "stream",
     "text": [
      "All Python Devs: ['Facundo', 'Karo', 'Pablo', 'Lorena']\n",
      "All Platzi Workers: ['Facundo', 'Héctor', 'Gabriel', 'Isabella']\n",
      "Adults: ['Facundo', 'Luisana', 'Héctor', 'Gabriel', 'Isabella', 'Karo', 'Ariel', 'Pablo', 'Lorena']\n"
     ]
    }
   ],
   "source": [
    "DATA = [\n",
    "    {\n",
    "        'name': 'Facundo',\n",
    "        'age': 72,\n",
    "        'organization': 'Platzi',\n",
    "        'position': 'Technical Coach',\n",
    "        'language': 'python',\n",
    "    },\n",
    "    {\n",
    "        'name': 'Luisana',\n",
    "        'age': 33,\n",
    "        'organization': 'Globant',\n",
    "        'position': 'UX Designer',\n",
    "        'language': 'javascript',\n",
    "    },\n",
    "    {\n",
    "        'name': 'Héctor',\n",
    "        'age': 19,\n",
    "        'organization': 'Platzi',\n",
    "        'position': 'Associate',\n",
    "        'language': 'ruby',\n",
    "    },\n",
    "    {\n",
    "        'name': 'Gabriel',\n",
    "        'age': 20,\n",
    "        'organization': 'Platzi',\n",
    "        'position': 'Associate',\n",
    "        'language': 'javascript',\n",
    "    },\n",
    "    {\n",
    "        'name': 'Isabella',\n",
    "        'age': 30,\n",
    "        'organization': 'Platzi',\n",
    "        'position': 'QA Manager',\n",
    "        'language': 'java',\n",
    "    },\n",
    "    {\n",
    "        'name': 'Karo',\n",
    "        'age': 23,\n",
    "        'organization': 'Everis',\n",
    "        'position': 'Backend Developer',\n",
    "        'language': 'python',\n",
    "    },\n",
    "    {\n",
    "        'name': 'Ariel',\n",
    "        'age': 32,\n",
    "        'organization': 'Rappi',\n",
    "        'position': 'Support',\n",
    "        'language': '',\n",
    "    },\n",
    "    {\n",
    "        'name': 'Juan',\n",
    "        'age': 17,\n",
    "        'organization': '',\n",
    "        'position': 'Student',\n",
    "        'language': 'go',\n",
    "    },\n",
    "    {\n",
    "        'name': 'Pablo',\n",
    "        'age': 32,\n",
    "        'organization': 'Master',\n",
    "        'position': 'Human Resources Manager',\n",
    "        'language': 'python',\n",
    "    },\n",
    "    {\n",
    "        'name': 'Lorena',\n",
    "        'age': 56,\n",
    "        'organization': 'Python Organization',\n",
    "        'position': 'Language Maker',\n",
    "        'language': 'python',\n",
    "    },\n",
    "]\n",
    "\n",
    "\n",
    "def run():\n",
    "    \n",
    "    #Worker = datos de cada trabajador individual\n",
    "    all_python_devs = [worker[\"name\"] for worker in DATA\n",
    "                      if worker[\"language\"] == \"python\"] \n",
    "    \n",
    "    all_platzi_workers = [worker[\"name\"] for worker in DATA\n",
    "                         if worker[\"organization\"] == \"Platzi\"]\n",
    "    \n",
    "    adults = list(filter(lambda worker: worker[\"age\"] > 18 , DATA))\n",
    "    adults_name = list(map(lambda worker: worker[\"name\"], adults))\n",
    "    \n",
    "    # El simbolo | sirve para unir diccionarios\n",
    "    # Solo funciona con Python >= 3.9\n",
    "    #old_people = list(map(lambda worker: worker | {\"old\": worker[\"age\"] > 70}, DATA))\n",
    "    old_people = list(map(lambda worker:\n",
    "                          {**worker, **{\"old\": worker[\"age\"] > 70}}, DATA))\n",
    "    \n",
    "    print(f'All Python Devs: {all_python_devs}')\n",
    "    print(f'All Platzi Workers: {all_platzi_workers}')\n",
    "    print(f'Adults: {adults_name}')\n",
    "    #print(f'Olde People: {old_people}')\n",
    "\n",
    "\n",
    "\n",
    "if __name__ == '__main__':\n",
    "    run()"
   ]
  },
  {
   "cell_type": "markdown",
   "metadata": {},
   "source": [
    "Ahora hagamos el mismo ejercicio un poco a la inversa, hagamos las listas `all_python_devs` y `all_platzi_workers` usando las funciones de orden superior `filer()` y `map()`.\n",
    "\n",
    "Y para el caso de `old_people` y `adults` hagamoslas con list comprehensions."
   ]
  },
  {
   "cell_type": "code",
   "execution_count": 73,
   "metadata": {},
   "outputs": [
    {
     "name": "stdout",
     "output_type": "stream",
     "text": [
      "All Python Devs: ['Facundo', 'Karo', 'Pablo', 'Lorena']\n",
      "All Platzi workers: ['Facundo', 'Héctor', 'Gabriel', 'Isabella']\n",
      "Adult People: ['Facundo', 'Luisana', 'Héctor', 'Gabriel', 'Isabella', 'Karo', 'Ariel', 'Pablo', 'Lorena']\n",
      "\n",
      "Old People\n",
      ": [{'name': 'Facundo', 'age': 72, 'organization': 'Platzi', 'position': 'Technical Coach', 'language': 'python', 'old': True}, {'name': 'Luisana', 'age': 33, 'organization': 'Globant', 'position': 'UX Designer', 'language': 'javascript', 'old': False}, {'name': 'Héctor', 'age': 19, 'organization': 'Platzi', 'position': 'Associate', 'language': 'ruby', 'old': False}, {'name': 'Gabriel', 'age': 20, 'organization': 'Platzi', 'position': 'Associate', 'language': 'javascript', 'old': False}, {'name': 'Isabella', 'age': 30, 'organization': 'Platzi', 'position': 'QA Manager', 'language': 'java', 'old': False}, {'name': 'Karo', 'age': 23, 'organization': 'Everis', 'position': 'Backend Developer', 'language': 'python', 'old': False}, {'name': 'Ariel', 'age': 32, 'organization': 'Rappi', 'position': 'Support', 'language': '', 'old': False}, {'name': 'Juan', 'age': 17, 'organization': '', 'position': 'Student', 'language': 'go', 'old': False}, {'name': 'Pablo', 'age': 32, 'organization': 'Master', 'position': 'Human Resources Manager', 'language': 'python', 'old': False}, {'name': 'Lorena', 'age': 56, 'organization': 'Python Organization', 'position': 'Language Maker', 'language': 'python', 'old': False}]\n"
     ]
    }
   ],
   "source": [
    "DATA = [\n",
    "    {\n",
    "        'name': 'Facundo',\n",
    "        'age': 72,\n",
    "        'organization': 'Platzi',\n",
    "        'position': 'Technical Coach',\n",
    "        'language': 'python',\n",
    "    },\n",
    "    {\n",
    "        'name': 'Luisana',\n",
    "        'age': 33,\n",
    "        'organization': 'Globant',\n",
    "        'position': 'UX Designer',\n",
    "        'language': 'javascript',\n",
    "    },\n",
    "    {\n",
    "        'name': 'Héctor',\n",
    "        'age': 19,\n",
    "        'organization': 'Platzi',\n",
    "        'position': 'Associate',\n",
    "        'language': 'ruby',\n",
    "    },\n",
    "    {\n",
    "        'name': 'Gabriel',\n",
    "        'age': 20,\n",
    "        'organization': 'Platzi',\n",
    "        'position': 'Associate',\n",
    "        'language': 'javascript',\n",
    "    },\n",
    "    {\n",
    "        'name': 'Isabella',\n",
    "        'age': 30,\n",
    "        'organization': 'Platzi',\n",
    "        'position': 'QA Manager',\n",
    "        'language': 'java',\n",
    "    },\n",
    "    {\n",
    "        'name': 'Karo',\n",
    "        'age': 23,\n",
    "        'organization': 'Everis',\n",
    "        'position': 'Backend Developer',\n",
    "        'language': 'python',\n",
    "    },\n",
    "    {\n",
    "        'name': 'Ariel',\n",
    "        'age': 32,\n",
    "        'organization': 'Rappi',\n",
    "        'position': 'Support',\n",
    "        'language': '',\n",
    "    },\n",
    "    {\n",
    "        'name': 'Juan',\n",
    "        'age': 17,\n",
    "        'organization': '',\n",
    "        'position': 'Student',\n",
    "        'language': 'go',\n",
    "    },\n",
    "    {\n",
    "        'name': 'Pablo',\n",
    "        'age': 32,\n",
    "        'organization': 'Master',\n",
    "        'position': 'Human Resources Manager',\n",
    "        'language': 'python',\n",
    "    },\n",
    "    {\n",
    "        'name': 'Lorena',\n",
    "        'age': 56,\n",
    "        'organization': 'Python Organization',\n",
    "        'position': 'Language Maker',\n",
    "        'language': 'python',\n",
    "    },\n",
    "]\n",
    "\n",
    "def run():\n",
    "    all_python_devs = list(filter(lambda worker: worker[\"language\"]==\"python\", DATA))\n",
    "    all_python_devs_names = list(map(lambda worker: worker[\"name\"], all_python_devs))\n",
    "    \n",
    "    all_platzi_workers = list(filter(lambda worker:\n",
    "                                     worker[\"organization\"] == \"Platzi\" , DATA))\n",
    "    all_platzi_workers_name = list(map(lambda worker:\n",
    "                                      worker[\"name\"] , all_platzi_workers))\n",
    "    adult = [worker[\"name\"] for worker in DATA if worker[\"age\"]>18]\n",
    "    \n",
    "    old_people = [{**worker, **{'old': worker['age'] > 70}} for worker in DATA]\n",
    "    \n",
    "    print(f'All Python Devs: {all_python_devs_names}')\n",
    "    print(f'All Platzi workers: {all_platzi_workers_name}')\n",
    "    print(f'Adult People: {adult}')\n",
    "    print(f'\\nOld People\\n: {old_people}')\n",
    "\n",
    "  \n",
    "if __name__ == '__main__':\n",
    "    run()"
   ]
  },
  {
   "cell_type": "markdown",
   "metadata": {},
   "source": [
    "---"
   ]
  },
  {
   "cell_type": "markdown",
   "metadata": {},
   "source": [
    "## Módulo 5. Manejo de errores"
   ]
  },
  {
   "cell_type": "markdown",
   "metadata": {},
   "source": [
    "### Los errores en el código"
   ]
  },
  {
   "cell_type": "code",
   "execution_count": null,
   "metadata": {},
   "outputs": [],
   "source": []
  }
 ],
 "metadata": {
  "kernelspec": {
   "display_name": "Python 3",
   "language": "python",
   "name": "python3"
  },
  "language_info": {
   "codemirror_mode": {
    "name": "ipython",
    "version": 3
   },
   "file_extension": ".py",
   "mimetype": "text/x-python",
   "name": "python",
   "nbconvert_exporter": "python",
   "pygments_lexer": "ipython3",
   "version": "3.8.3"
  },
  "toc": {
   "base_numbering": "",
   "nav_menu": {},
   "number_sections": false,
   "sideBar": true,
   "skip_h1_title": false,
   "title_cell": "Table of Contents",
   "title_sidebar": "Contents",
   "toc_cell": true,
   "toc_position": {},
   "toc_section_display": true,
   "toc_window_display": false
  }
 },
 "nbformat": 4,
 "nbformat_minor": 4
}
