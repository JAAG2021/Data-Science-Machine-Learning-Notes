{
 "cells": [
  {
   "cell_type": "markdown",
   "metadata": {
    "toc": true
   },
   "source": [
    "<h1>Table of Contents<span class=\"tocSkip\"></span></h1>\n",
    "<div class=\"toc\"><ul class=\"toc-item\"><li><span><a href=\"#Curso-de-Python-Intermedio\" data-toc-modified-id=\"Curso-de-Python-Intermedio-0\">Curso de Python Intermedio</a></span><ul class=\"toc-item\"><li><span><a href=\"#Módulo-1.-Preparación\" data-toc-modified-id=\"Módulo-1.-Preparación-0.1\">Módulo 1. Preparación</a></span><ul class=\"toc-item\"><li><span><a href=\"#El-Zen-de-Python\" data-toc-modified-id=\"El-Zen-de-Python-0.1.1\">El Zen de Python</a></span></li><li><span><a href=\"#Documentación\" data-toc-modified-id=\"Documentación-0.1.2\">Documentación</a></span></li></ul></li><li><span><a href=\"#Módulo-2.-Entorno-virtual\" data-toc-modified-id=\"Módulo-2.-Entorno-virtual-0.2\">Módulo 2. Entorno virtual</a></span><ul class=\"toc-item\"><li><span><a href=\"#¿Qué-es-un-entorno-virtual?\" data-toc-modified-id=\"¿Qué-es-un-entorno-virtual?-0.2.1\">¿Qué es un entorno virtual?</a></span></li></ul></li></ul></li></ul></div>"
   ]
  },
  {
   "cell_type": "markdown",
   "metadata": {},
   "source": [
    "---\n",
    "\n",
    "# Curso de Python Intermedio"
   ]
  },
  {
   "cell_type": "markdown",
   "metadata": {},
   "source": [
    "## Módulo 1. Preparación"
   ]
  },
  {
   "cell_type": "markdown",
   "metadata": {},
   "source": [
    "### El Zen de Python"
   ]
  },
  {
   "cell_type": "markdown",
   "metadata": {},
   "source": [
    "Es una colección de 20 principios de software que influyen en el diseño del lenguaje, de los cuales 19 fueron escritos por Tim Peters. "
   ]
  },
  {
   "cell_type": "markdown",
   "metadata": {},
   "source": [
    "Como easter egg podemos acceder a este Zen de Python desde la terminal con el comando:"
   ]
  },
  {
   "cell_type": "code",
   "execution_count": 1,
   "metadata": {},
   "outputs": [
    {
     "name": "stdout",
     "output_type": "stream",
     "text": [
      "The Zen of Python, by Tim Peters\n",
      "\n",
      "Beautiful is better than ugly.\n",
      "Explicit is better than implicit.\n",
      "Simple is better than complex.\n",
      "Complex is better than complicated.\n",
      "Flat is better than nested.\n",
      "Sparse is better than dense.\n",
      "Readability counts.\n",
      "Special cases aren't special enough to break the rules.\n",
      "Although practicality beats purity.\n",
      "Errors should never pass silently.\n",
      "Unless explicitly silenced.\n",
      "In the face of ambiguity, refuse the temptation to guess.\n",
      "There should be one-- and preferably only one --obvious way to do it.\n",
      "Although that way may not be obvious at first unless you're Dutch.\n",
      "Now is better than never.\n",
      "Although never is often better than *right* now.\n",
      "If the implementation is hard to explain, it's a bad idea.\n",
      "If the implementation is easy to explain, it may be a good idea.\n",
      "Namespaces are one honking great idea -- let's do more of those!\n"
     ]
    }
   ],
   "source": [
    "import this"
   ]
  },
  {
   "cell_type": "markdown",
   "metadata": {},
   "source": [
    "---\n",
    "\n",
    "### Documentación"
   ]
  },
  {
   "cell_type": "markdown",
   "metadata": {},
   "source": [
    "Documentar el código de un programa es añadir suficiente información como para explicar lo que hace, punto por punto, de forma que no sólo los ordenadores sepan qué hacer, sino que además los humanos entiendan qué están haciendo y por qué.\n",
    "\n",
    "Documentar un programa no es sólo una buena práctica de un programador, si no que además, es una necesidad que sólo se aprecia en su debida magnitud cuando hay errores que reparar o hay que entender el programa con nuevas capacidades o adaptarlo a un nuevo escenario. Hay 2 cosas que hay que tener en mente:\n",
    "\n",
    "1. Todos los programas tienen errores y descubrirlos es sólo cuestión de tiempo y de que el programa tenga éxito y se utilice frecuentemente o por una gran cantidad de usuarios.\n",
    "    \n",
    "    \n",
    "2. Todos los programas sufren modificaciones a lo largo de su vida, al menos todos aquellos que tienen éxito."
   ]
  },
  {
   "cell_type": "markdown",
   "metadata": {},
   "source": [
    "En la documentación de Python podemos encontrar todas las novedades que se agregan en cada actualización, tutoriales para entender cómo funciona cada una de sus funciones y en general todo el lenguaje en su nivel más fundamental y con más detalle, descripciones de la sintaxis y los elementos del lenguaje entre muchas otras cosas."
   ]
  },
  {
   "cell_type": "markdown",
   "metadata": {},
   "source": [
    "[Python 3.9.4 documentation](https://docs.python.org/3/)"
   ]
  },
  {
   "cell_type": "markdown",
   "metadata": {},
   "source": [
    "También tenemos algo llamado PEP o Propuestas de Mejora de Python, que es una guía de estilo adoptada ampliamente por la comunidad de Python. Facilita la lectura del código y hace más homogéneo el código entre diferentes programadores.\n",
    "\n",
    "Son documentos que nos dicen como funciona el lenguaje y como deberíamos escribir nuestros códigos de manera correcta. Entre todos los PEP destaca el PEP8 ya que es una guía que nos dice como deberíamos de escribir código, buenas prácticas, como seleccionar los nombres de clase, como trabajar la indentación, etc."
   ]
  },
  {
   "cell_type": "markdown",
   "metadata": {},
   "source": [
    "[PEP 8 -- Style Guide for Python Code](https://www.python.org/dev/peps/pep-0008/)\n",
    "\n",
    "[Fragmento de la documentación PDF](https://drive.google.com/file/d/1dSYgA7Xonw1XLMcjrsMXSqDUWLlqi-57/view)\n",
    "\n",
    "---"
   ]
  },
  {
   "cell_type": "markdown",
   "metadata": {},
   "source": [
    "## Módulo 2. Entorno virtual"
   ]
  },
  {
   "cell_type": "markdown",
   "metadata": {},
   "source": [
    "### ¿Qué es un entorno virtual?"
   ]
  },
  {
   "cell_type": "markdown",
   "metadata": {},
   "source": [
    "Primero, recordemos el concepto de módulo. Un módulo es un fragmento de código escrito por otra persona que a nosotros nos sirve para resolver determinado problema. De forma que no tengamos que escribir de nuevo todo ese código por nuestra cuenta y en su lugar, aprovechemos de herramientas que ya han sido creadas y compartidas por otros usuarios.\n",
    "\n",
    "Por ejemplo, anteriormente ya hemos importado el módulo `random` que nos permite trabajar con números aleatorios."
   ]
  },
  {
   "cell_type": "markdown",
   "metadata": {},
   "source": [
    "![](https://i.imgur.com/Mcd2izU.png)"
   ]
  },
  {
   "cell_type": "markdown",
   "metadata": {},
   "source": [
    "Ahora hablemos de ambientes o entornos virtuales, imaginemos primero a nuestra computadora que ya tiene instalado Python y tenemos varios proyectos en los que estamos trabajando. Dependiendo del problema en el que estamos trabajando en cada proyecto nos puede interesar tener varios módulos con los que trabajar, por ejemplo, random, herramientas de gráficado, etc. \n",
    "\n",
    "El problema es que si tenemos todo instalado en nuestro ambiente local (principal) puede que en un momento todo funcione correctamente, pero hay veces donde con las actualizaciones de ciertos módulos podamos tener ciertos problemas. Por ejemplo, hay ocasiones donde el Módulo 2 se actualiza y este tiene problema o deja de ser compatible con el Módulo 1, por lo que nos trae problemas en todos nuestros proyectos al tenerlos instalados simultáneamente en todo nuestro ambiente. \n",
    "\n",
    "Puede que en el proyecto 1 solo nos interesa tener instalado el módulo 2 y en el proyecto 2 el módulo 1, por lo que no tendría que haber problemas de incompatibilidad si los tuvieramos instalados por separado. De aquí es donde sale la necesidad de los *entornos virtuales*."
   ]
  },
  {
   "cell_type": "markdown",
   "metadata": {},
   "source": [
    "Lo que queremos lograr con los ambientes virtuales es, por así decirlo, dividir o seccionar nuestro computador en varias partes donde cada parte funciona correctamente con Python y los módulos que queremos usar en cada proyecto."
   ]
  },
  {
   "cell_type": "markdown",
   "metadata": {},
   "source": [
    "![](https://i.imgur.com/RANUzbx.png)"
   ]
  },
  {
   "cell_type": "markdown",
   "metadata": {},
   "source": [
    "Podemos imaginarlo como si estuvieramos clonando el lenguaje de programación en \"varios lenguajes independientes\", que más bien serían extensiones del lenguaje. Por lo que al momento de actualizar los módulos, nosotros podemos elegir en que proyecto queremos actualizarlos y en cuales no para evitar problemas de compatibilidad."
   ]
  },
  {
   "cell_type": "markdown",
   "metadata": {},
   "source": [
    "![](https://i.imgur.com/wSQ3eto.png)\n",
    "\n",
    "---"
   ]
  },
  {
   "cell_type": "code",
   "execution_count": null,
   "metadata": {},
   "outputs": [],
   "source": []
  }
 ],
 "metadata": {
  "kernelspec": {
   "display_name": "Python 3",
   "language": "python",
   "name": "python3"
  },
  "language_info": {
   "codemirror_mode": {
    "name": "ipython",
    "version": 3
   },
   "file_extension": ".py",
   "mimetype": "text/x-python",
   "name": "python",
   "nbconvert_exporter": "python",
   "pygments_lexer": "ipython3",
   "version": "3.8.3"
  },
  "toc": {
   "base_numbering": "",
   "nav_menu": {},
   "number_sections": false,
   "sideBar": true,
   "skip_h1_title": false,
   "title_cell": "Table of Contents",
   "title_sidebar": "Contents",
   "toc_cell": true,
   "toc_position": {},
   "toc_section_display": true,
   "toc_window_display": false
  }
 },
 "nbformat": 4,
 "nbformat_minor": 4
}
