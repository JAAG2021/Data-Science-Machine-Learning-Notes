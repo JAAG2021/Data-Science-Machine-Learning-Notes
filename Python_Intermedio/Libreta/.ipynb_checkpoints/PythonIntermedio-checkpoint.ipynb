{
 "cells": [
  {
   "cell_type": "markdown",
   "metadata": {
    "toc": true
   },
   "source": [
    "<h1>Table of Contents<span class=\"tocSkip\"></span></h1>\n",
    "<div class=\"toc\"><ul class=\"toc-item\"><li><span><a href=\"#Curso-de-Python-Intermedio\" data-toc-modified-id=\"Curso-de-Python-Intermedio-0\">Curso de Python Intermedio</a></span><ul class=\"toc-item\"><li><span><a href=\"#Módulo-1.-Preparación\" data-toc-modified-id=\"Módulo-1.-Preparación-0.1\">Módulo 1. Preparación</a></span><ul class=\"toc-item\"><li><span><a href=\"#El-Zen-de-Python\" data-toc-modified-id=\"El-Zen-de-Python-0.1.1\">El Zen de Python</a></span></li><li><span><a href=\"#Documentación\" data-toc-modified-id=\"Documentación-0.1.2\">Documentación</a></span></li></ul></li><li><span><a href=\"#Módulo-2.-Entorno-virtual\" data-toc-modified-id=\"Módulo-2.-Entorno-virtual-0.2\">Módulo 2. Entorno virtual</a></span><ul class=\"toc-item\"><li><span><a href=\"#¿Qué-es-un-entorno-virtual?\" data-toc-modified-id=\"¿Qué-es-un-entorno-virtual?-0.2.1\">¿Qué es un entorno virtual?</a></span></li><li><span><a href=\"#Creación-de-un-entorno-virtual\" data-toc-modified-id=\"Creación-de-un-entorno-virtual-0.2.2\">Creación de un entorno virtual</a></span></li><li><span><a href=\"#Instalación-de-dependencias-con-pip\" data-toc-modified-id=\"Instalación-de-dependencias-con-pip-0.2.3\">Instalación de dependencias con pip</a></span></li><li><span><a href=\"#Una-alternativa:-Anaconda\" data-toc-modified-id=\"Una-alternativa:-Anaconda-0.2.4\">Una alternativa: Anaconda</a></span></li></ul></li><li><span><a href=\"#Módulo-3.-Alternativa-a-los-ciclos:-comprehensions\" data-toc-modified-id=\"Módulo-3.-Alternativa-a-los-ciclos:-comprehensions-0.3\">Módulo 3. Alternativa a los ciclos: comprehensions</a></span><ul class=\"toc-item\"><li><span><a href=\"#Listas-y-diccionarios-anidados\" data-toc-modified-id=\"Listas-y-diccionarios-anidados-0.3.1\">Listas y diccionarios anidados</a></span><ul class=\"toc-item\"><li><span><a href=\"#Listas:\" data-toc-modified-id=\"Listas:-0.3.1.1\">Listas:</a></span></li><li><span><a href=\"#Tuplas-y-secuencias:\" data-toc-modified-id=\"Tuplas-y-secuencias:-0.3.1.2\">Tuplas y secuencias:</a></span></li><li><span><a href=\"#Diccionarios:\" data-toc-modified-id=\"Diccionarios:-0.3.1.3\">Diccionarios:</a></span></li></ul></li><li><span><a href=\"#List-Comprehensions\" data-toc-modified-id=\"List-Comprehensions-0.3.2\">List Comprehensions</a></span></li><li><span><a href=\"#Dictionary-comprehensions\" data-toc-modified-id=\"Dictionary-comprehensions-0.3.3\">Dictionary comprehensions</a></span></li></ul></li><li><span><a href=\"#Módulo-4.-Conceptos-avanzados-de-funciones\" data-toc-modified-id=\"Módulo-4.-Conceptos-avanzados-de-funciones-0.4\">Módulo 4. Conceptos avanzados de funciones</a></span><ul class=\"toc-item\"><li><span><a href=\"#Funciones-anónimas:-lambda\" data-toc-modified-id=\"Funciones-anónimas:-lambda-0.4.1\">Funciones anónimas: lambda</a></span></li></ul></li></ul></li></ul></div>"
   ]
  },
  {
   "cell_type": "markdown",
   "metadata": {},
   "source": [
    "---\n",
    "\n",
    "# Curso de Python Intermedio"
   ]
  },
  {
   "cell_type": "markdown",
   "metadata": {},
   "source": [
    "## Módulo 1. Preparación"
   ]
  },
  {
   "cell_type": "markdown",
   "metadata": {},
   "source": [
    "### El Zen de Python"
   ]
  },
  {
   "cell_type": "markdown",
   "metadata": {},
   "source": [
    "Es una colección de 20 principios de software que influyen en el diseño del lenguaje, de los cuales 19 fueron escritos por Tim Peters. "
   ]
  },
  {
   "cell_type": "markdown",
   "metadata": {},
   "source": [
    "Como easter egg podemos acceder a este Zen de Python desde la terminal con el comando:"
   ]
  },
  {
   "cell_type": "code",
   "execution_count": 1,
   "metadata": {},
   "outputs": [
    {
     "name": "stdout",
     "output_type": "stream",
     "text": [
      "The Zen of Python, by Tim Peters\n",
      "\n",
      "Beautiful is better than ugly.\n",
      "Explicit is better than implicit.\n",
      "Simple is better than complex.\n",
      "Complex is better than complicated.\n",
      "Flat is better than nested.\n",
      "Sparse is better than dense.\n",
      "Readability counts.\n",
      "Special cases aren't special enough to break the rules.\n",
      "Although practicality beats purity.\n",
      "Errors should never pass silently.\n",
      "Unless explicitly silenced.\n",
      "In the face of ambiguity, refuse the temptation to guess.\n",
      "There should be one-- and preferably only one --obvious way to do it.\n",
      "Although that way may not be obvious at first unless you're Dutch.\n",
      "Now is better than never.\n",
      "Although never is often better than *right* now.\n",
      "If the implementation is hard to explain, it's a bad idea.\n",
      "If the implementation is easy to explain, it may be a good idea.\n",
      "Namespaces are one honking great idea -- let's do more of those!\n"
     ]
    }
   ],
   "source": [
    "import this"
   ]
  },
  {
   "cell_type": "markdown",
   "metadata": {},
   "source": [
    "---\n",
    "\n",
    "### Documentación"
   ]
  },
  {
   "cell_type": "markdown",
   "metadata": {},
   "source": [
    "Documentar el código de un programa es añadir suficiente información como para explicar lo que hace, punto por punto, de forma que no sólo los ordenadores sepan qué hacer, sino que además los humanos entiendan qué están haciendo y por qué.\n",
    "\n",
    "Documentar un programa no es sólo una buena práctica de un programador, si no que además, es una necesidad que sólo se aprecia en su debida magnitud cuando hay errores que reparar o hay que entender el programa con nuevas capacidades o adaptarlo a un nuevo escenario. Hay 2 cosas que hay que tener en mente:\n",
    "\n",
    "1. Todos los programas tienen errores y descubrirlos es sólo cuestión de tiempo y de que el programa tenga éxito y se utilice frecuentemente o por una gran cantidad de usuarios.\n",
    "    \n",
    "    \n",
    "2. Todos los programas sufren modificaciones a lo largo de su vida, al menos todos aquellos que tienen éxito."
   ]
  },
  {
   "cell_type": "markdown",
   "metadata": {},
   "source": [
    "En la documentación de Python podemos encontrar todas las novedades que se agregan en cada actualización, tutoriales para entender cómo funciona cada una de sus funciones y en general todo el lenguaje en su nivel más fundamental y con más detalle, descripciones de la sintaxis y los elementos del lenguaje entre muchas otras cosas."
   ]
  },
  {
   "cell_type": "markdown",
   "metadata": {},
   "source": [
    "[Python 3.9.4 documentation](https://docs.python.org/3/)"
   ]
  },
  {
   "cell_type": "markdown",
   "metadata": {},
   "source": [
    "También tenemos algo llamado PEP o Propuestas de Mejora de Python, que es una guía de estilo adoptada ampliamente por la comunidad de Python. Facilita la lectura del código y hace más homogéneo el código entre diferentes programadores.\n",
    "\n",
    "Son documentos que nos dicen como funciona el lenguaje y como deberíamos escribir nuestros códigos de manera correcta. Entre todos los PEP destaca el PEP8 ya que es una guía que nos dice como deberíamos de escribir código, buenas prácticas, como seleccionar los nombres de clase, como trabajar la indentación, etc."
   ]
  },
  {
   "cell_type": "markdown",
   "metadata": {},
   "source": [
    "[PEP 8 -- Style Guide for Python Code](https://www.python.org/dev/peps/pep-0008/)\n",
    "\n",
    "[Fragmento de la documentación PDF](https://drive.google.com/file/d/1dSYgA7Xonw1XLMcjrsMXSqDUWLlqi-57/view)\n",
    "\n",
    "---"
   ]
  },
  {
   "cell_type": "markdown",
   "metadata": {},
   "source": [
    "## Módulo 2. Entorno virtual"
   ]
  },
  {
   "cell_type": "markdown",
   "metadata": {},
   "source": [
    "### ¿Qué es un entorno virtual?"
   ]
  },
  {
   "cell_type": "markdown",
   "metadata": {},
   "source": [
    "Primero, recordemos el concepto de módulo. Un módulo es un fragmento de código escrito por otra persona que a nosotros nos sirve para resolver determinado problema. De forma que no tengamos que escribir de nuevo todo ese código por nuestra cuenta y en su lugar, aprovechemos de herramientas que ya han sido creadas y compartidas por otros usuarios.\n",
    "\n",
    "Por ejemplo, anteriormente ya hemos importado el módulo `random` que nos permite trabajar con números aleatorios."
   ]
  },
  {
   "cell_type": "markdown",
   "metadata": {},
   "source": [
    "![](https://i.imgur.com/Mcd2izU.png)"
   ]
  },
  {
   "cell_type": "markdown",
   "metadata": {},
   "source": [
    "Ahora hablemos de ambientes o entornos virtuales, imaginemos primero a nuestra computadora que ya tiene instalado Python y tenemos varios proyectos en los que estamos trabajando. Dependiendo del problema en el que estamos trabajando en cada proyecto nos puede interesar tener varios módulos con los que trabajar, por ejemplo, random, herramientas de gráficado, etc. \n",
    "\n",
    "El problema es que si tenemos todo instalado en nuestro ambiente local (principal) puede que en un momento todo funcione correctamente, pero hay veces donde con las actualizaciones de ciertos módulos podamos tener ciertos problemas. Por ejemplo, hay ocasiones donde el Módulo 2 se actualiza y este tiene problema o deja de ser compatible con el Módulo 1, por lo que nos trae problemas en todos nuestros proyectos al tenerlos instalados simultáneamente en todo nuestro ambiente. \n",
    "\n",
    "Puede que en el proyecto 1 solo nos interesa tener instalado el módulo 2 y en el proyecto 2 el módulo 1, por lo que no tendría que haber problemas de incompatibilidad si los tuvieramos instalados por separado. De aquí es donde sale la necesidad de los *entornos virtuales*."
   ]
  },
  {
   "cell_type": "markdown",
   "metadata": {},
   "source": [
    "Lo que queremos lograr con los ambientes virtuales es, por así decirlo, dividir o seccionar nuestro computador en varias partes donde cada parte funciona correctamente con Python y los módulos que queremos usar en cada proyecto."
   ]
  },
  {
   "cell_type": "markdown",
   "metadata": {},
   "source": [
    "![](https://i.imgur.com/RANUzbx.png)"
   ]
  },
  {
   "cell_type": "markdown",
   "metadata": {},
   "source": [
    "Podemos imaginarlo como si estuvieramos clonando el lenguaje de programación en \"varios lenguajes independientes\", que más bien serían extensiones del lenguaje. Por lo que al momento de actualizar los módulos, nosotros podemos elegir en que proyecto queremos actualizarlos y en cuales no para evitar problemas de compatibilidad."
   ]
  },
  {
   "cell_type": "markdown",
   "metadata": {},
   "source": [
    "![](https://i.imgur.com/wSQ3eto.png)\n",
    "\n",
    "---"
   ]
  },
  {
   "cell_type": "markdown",
   "metadata": {},
   "source": [
    "### Creación de un entorno virtual"
   ]
  },
  {
   "cell_type": "markdown",
   "metadata": {},
   "source": [
    "Para empezar a crear nuestro ambiente virtual vamos a realizar los siguientes pasos:"
   ]
  },
  {
   "cell_type": "markdown",
   "metadata": {},
   "source": [
    "1. Crear una nueva carpeta destinada al proyecto (con `mkdir nombre_de_la_carpeta` desde la terminal).\n",
    "\n",
    "\n",
    "2. Nos posicionamos en la carpeta que creamos (`cd nombre_de_la_carpeta`)\n",
    "\n",
    "\n",
    "3. Como buena práctica inicializamos a la carpeta como un repositorio de Git, para mantener un control de las versiones (`git init`).  Esto nos posicionará en la rama *Master* o *Main* dependiendo la versión y configuración de Git.\n",
    "\n",
    "\n",
    "4. Creamos un \"Python nuevo\", que es el que va a correr en nuestro proyecto \n",
    "\n",
    "    * `py -m venv nombre_del_entorno_virtual` para windows \n",
    "    * `python3 -m venv nombre_del_entorno_virtual` para un sistema de linux. \n",
    "    \n",
    "    Donde `-m` hace referencia a que llamaremos a un módulo del lenguaje y `venv` significa *Virtual Enviorement*. Y por convención el nombre del ambiente suele ser `venv` o `env` . De forma que el comando completo con la convención nos quedaría así:\n",
    "    \n",
    "     `py -m venv venv`\n",
    "     \n",
    "     `py -m venv env`\n",
    "     \n",
    "     \n",
    "5. Una vez que ya está creado nuestro ambiente virtual verificamos que este correctamente creado con el comando `ls` que nos muestra los archivos y carpetas para posteriormente, activar nuestro ambiente virtual. El comando que nos permite activar el ambiente virtual se encuentra en la carpeta `Scripts/` dentro de `venv/`, por lo que para activarlo tendremos que usar la siguiente instrucción:\n",
    "    \n",
    "    * Windows: `.\\venv\\Scripts\\activate` o `.\\venv\\Scripts\\activate.bat`\n",
    "    \n",
    "    * Linux/Mac: `source venv/bin/activate`\n",
    "    \n",
    "    Para salir del ambiente basta con usar el comando:\n",
    "    \n",
    "    `deactivate`\n",
    "    \n",
    "    Para que no sea tan tedioso escribir toda la ruta al activar nuestro ambiente virtual podemos crear un *alias* para acortar el tiempo en el que entramos, en Windows se crea de la siguiente forma:\n",
    "    \n",
    "    `alias nombre_del_alias=.\\venv\\Scripts\\activate.bat`\n",
    "    \n",
    "    `avenv=.\\venv\\Scripts\\activate.bat`\n",
    "    \n",
    "    Y para acceder solo tendríamos que hacer una llamada al comando\n",
    "    \n",
    "    `avenv`\n",
    "\n",
    "Para el caso de sistemas Linux o Mac también podemos usar el alias, pero una vez salimos de la terminal se borrará, por lo que no es de mucha utilidad.\n",
    "\n",
    "---"
   ]
  },
  {
   "cell_type": "markdown",
   "metadata": {},
   "source": [
    "### Instalación de dependencias con pip"
   ]
  },
  {
   "cell_type": "markdown",
   "metadata": {},
   "source": [
    "Dentro de Python tenemos incorporados algunos módulos que por así decirlo, ya vienen incorporados \"de fabrica\", por lo que no tenemos que realizar ninguna instalación extra. Otra historia muy diferente es cuando queremos utilizar ciertos módulos o librerías como *numpy, qiskit, pandas, Pytest, etc*. Los cuales si bien están dentro de Python, no vienen incorporados desde el inicio en nuestro sistema, así que tendremos que realizar una instalación.\n",
    "\n",
    "Para realizar la instalación tenemos que hacer uso de un manejador o instalador de dependencias, en este caso utilizaremos PIP (Package Installer for Python). Básicamente es un módulo que viene incorporado \"de fabrica\" que nos permite instalar de forma más cómoda todos esos módulos extras que queremos incorporar a Python.\n",
    "\n",
    "**NOTA:** Como buena práctica, deberíamos utilizar PIP únicamente dentro de nuestro ambiente virtual. Al menos de que sea un paquete que estamos seguros de que utilizaremos en cada uno de nuestros proyectos, lo cual es algo poco común."
   ]
  },
  {
   "cell_type": "markdown",
   "metadata": {},
   "source": [
    "Para realizar nuestras instalaciones de paquetes con PIP debemos de seguir los siguientes pasos:\n",
    "\n",
    "1. Activar nuestro entorno virtual, para que los paquetes solo se instalen ahí y no tengamos problemas futuros con sus actualizaciones.\n",
    "\n",
    "\n",
    "2. Podemos verificar los paquetes que tenemos instalados usando el comando: \n",
    "\n",
    "    `pip freeze` en windows \n",
    "    \n",
    "    `pip3` en algunos casos de linux o Mac\n",
    "    \n",
    "    \n",
    "3. Realizamos la instalación de la siguiente forma, en este caso instalaremos el módulo Pandas como ejemplo:\n",
    "\n",
    "    `pip install pandas`\n",
    "    \n",
    "    En el caso de Pandas podremos notar que se instalan diferentes paquetes, esto es por que Pandas es un módulo muy complejo y depende de otros paquetes. Al realizar la instalación de Pandas ya incluirá el resto de paquetes que necesite para funcionar por si mismo. Si hacemos de nuevo el comando `pip freeze` veremos que ahora tenemos instalados los siguientes módulos:\n",
    "    \n",
    "    * numpy==1.20.2 \n",
    "    * pandas==1.2.4 \n",
    "    * python-dateutil==2.8.1 \n",
    "    * pytz==2021.1 \n",
    "    * six==1.15.0\n",
    "    \n",
    "   En JavaScript teníamos algo muy similar a `pip` al utilizar el comando `npm`.\n",
    "    \n",
    "    \n",
    "4. Una vez realizada la instalación podremos hacer uso de dicho módulo en todos los proyectos que creemos dentro de esa carpeta.\n",
    "\n",
    "**NOTA:** En caso de ser necesario, podemos actualizar PIP con el comando:\n",
    "\n",
    "`py -m pip install --upgrade pip`"
   ]
  },
  {
   "cell_type": "markdown",
   "metadata": {},
   "source": [
    "Ahora, **¿Que pasaría cuando queremos compartir un proyecto con alguien más y estamos haciendo uso de muchos módulos extras que tuvimos que instalar independientemente?** Para que esa persona pueda utilizar tu programa tendría que tener instaladas las mismas dependencias y paquetes que tú, las mismas versiones, etc.\n",
    "\n",
    "Para arreglar eso podemos compartir nuestro archivo de dependencias con el comando:\n",
    "\n",
    "`pip freeze > requirements.txt`\n",
    "\n",
    "Lo que hace este comando es guardar las dependencias con sus respectivas versiones para poder compartir el proyecto con otra persona. \n",
    "\n",
    "Una vez hecho esto, tendremos en nuestra carpeta el archivo `requirements.txt`. Si estamos en consola podemos abrir este archivo con el comando `cat`.\n",
    "\n",
    "`cat requirements.txt`\n",
    "\n",
    "y nos aparecen las dependencias que guardamos de nuestro proyecto."
   ]
  },
  {
   "cell_type": "markdown",
   "metadata": {},
   "source": [
    "Una vez hemos compartido nuestro proyecto, por ejemplo en GitHub y alguien más lo ha clonado en su propio equipo local. Lo único que tiene que hacer para utilizar tu proyecto con exactamente las mismas dependencias es:\n",
    "\n",
    "1. Crear y activar su entorno virtual\n",
    "\n",
    "\n",
    "2. Usar el comando:\n",
    "\n",
    "    `pip install -r requirements.txt`\n",
    "    \n",
    "---"
   ]
  },
  {
   "cell_type": "markdown",
   "metadata": {},
   "source": [
    "### Una alternativa: Anaconda"
   ]
  },
  {
   "cell_type": "markdown",
   "metadata": {},
   "source": [
    "Anaconda es una distribución especial de Python, es un software pensado para el Data Science. Es uns distribución que nos permite crear ambientes virtuales e instalar dependencias de una manera gráfica. Es muy buena opción para ciencia de datos, pero para otras aplicaciones como backend es mejor utilizar pip u otros instaladores de paquetes."
   ]
  },
  {
   "cell_type": "markdown",
   "metadata": {},
   "source": [
    "Para instalar Anaconda tenemos que ir al [sitio oficial](https://www.anaconda.com/products/individual) donde podemos descargar los instaladores gráficos de Anaconda, excepto si estamos utilizando Linux ya que ahí tendremos que instalarlo desde la consola. \n",
    "\n",
    "Una vez descargado, ejecutamos y nos va abrir un instalador de windows de toda la vida, una vez llegando a la siguiente parte es importante que desmarquemos estas 2 opciones ya que pueden afectar el funcionamiento de Python:"
   ]
  },
  {
   "cell_type": "markdown",
   "metadata": {},
   "source": [
    "![](https://i.imgur.com/aDNK1vv.png)"
   ]
  },
  {
   "cell_type": "markdown",
   "metadata": {},
   "source": [
    "Una vez esta instalado podemos acceder desde nuestras aplicaciones a `Anaconda Navigator`"
   ]
  },
  {
   "cell_type": "markdown",
   "metadata": {},
   "source": [
    "Al abrirlo tendremos una ventana como la siguiente:\n",
    "\n",
    "![](https://i.imgur.com/DaRHFEx.png)"
   ]
  },
  {
   "cell_type": "markdown",
   "metadata": {},
   "source": [
    "Y podemos crear ambientes virtuales de forma gráfica en la siguiente pestaña:\n",
    "\n",
    "![](https://i.imgur.com/UHMIDfY.png)"
   ]
  },
  {
   "cell_type": "markdown",
   "metadata": {},
   "source": [
    "A diferencia de PIP, con Anaconda ya tendremos instaladas varias dependencias de base que son utilizadas comúnmente en la ciencia de datos.\n",
    "\n",
    "---"
   ]
  },
  {
   "cell_type": "markdown",
   "metadata": {},
   "source": [
    "## Módulo 3. Alternativa a los ciclos: comprehensions"
   ]
  },
  {
   "cell_type": "markdown",
   "metadata": {},
   "source": [
    "### Listas y diccionarios anidados"
   ]
  },
  {
   "cell_type": "markdown",
   "metadata": {},
   "source": [
    "**NOTA:** Cuando creamos un ambiente virtual en una carpeta que posteriormente subiremos a Git y GitHub tendremos que crear un archivo `.gitignore` en nuestra carpeta donde haremos el ambiente virtual para no llevarnos los archivos del ambiente virtual al repositorio.\n",
    "\n",
    "Una vez creamos este archivo escribimos `venv/`, de está manera ignorará todos los datos que tengamos en esa carpeta."
   ]
  },
  {
   "cell_type": "markdown",
   "metadata": {},
   "source": [
    "Ahora, hablemos un poco sobre estructuras de datos. Entre ellas tenemos listas, diccionarios y tuplas; *recordemos rápidamente cada una de ellas*."
   ]
  },
  {
   "cell_type": "markdown",
   "metadata": {},
   "source": [
    "#### Listas:"
   ]
  },
  {
   "cell_type": "markdown",
   "metadata": {},
   "source": [
    "Python tiene varios tipos de datos compuestos, utilizados para agrupar otros valores. El más versátil es la *lista*, la cual puede ser escrita como una lista de valores separados por coma (items) entre corchetes. Las listas pueden contener ítems de diferentes tipos, pero usualmente los ítems son del mismo tipo."
   ]
  },
  {
   "cell_type": "code",
   "execution_count": 1,
   "metadata": {},
   "outputs": [],
   "source": [
    "lista = [1, 34, 5435, 6, 878, 989, 9]"
   ]
  },
  {
   "cell_type": "markdown",
   "metadata": {},
   "source": [
    "al igual que las cadenas (y todas las demás tipos de integrados sequence), las listas se pueden indexar y segmentar."
   ]
  },
  {
   "cell_type": "code",
   "execution_count": 3,
   "metadata": {},
   "outputs": [
    {
     "data": {
      "text/plain": [
       "1"
      ]
     },
     "execution_count": 3,
     "metadata": {},
     "output_type": "execute_result"
    }
   ],
   "source": [
    "lista[0]"
   ]
  },
  {
   "cell_type": "code",
   "execution_count": 4,
   "metadata": {},
   "outputs": [
    {
     "data": {
      "text/plain": [
       "9"
      ]
     },
     "execution_count": 4,
     "metadata": {},
     "output_type": "execute_result"
    }
   ],
   "source": [
    "lista[-1]"
   ]
  },
  {
   "cell_type": "code",
   "execution_count": 5,
   "metadata": {},
   "outputs": [
    {
     "data": {
      "text/plain": [
       "878"
      ]
     },
     "execution_count": 5,
     "metadata": {},
     "output_type": "execute_result"
    }
   ],
   "source": [
    "lista[-3]"
   ]
  },
  {
   "cell_type": "markdown",
   "metadata": {},
   "source": [
    "Todas las operaciones de rebanado retornan una nueva lista que contiene los elementos pedidos. Esto significa que la siguiente rebanada retorna una shallow copy de la lista."
   ]
  },
  {
   "cell_type": "code",
   "execution_count": 6,
   "metadata": {},
   "outputs": [
    {
     "data": {
      "text/plain": [
       "[1, 34, 5435, 6, 878, 989, 9]"
      ]
     },
     "execution_count": 6,
     "metadata": {},
     "output_type": "execute_result"
    }
   ],
   "source": [
    "lista[:]"
   ]
  },
  {
   "cell_type": "markdown",
   "metadata": {},
   "source": [
    "También admiten operaciones como concatenación:"
   ]
  },
  {
   "cell_type": "code",
   "execution_count": 7,
   "metadata": {},
   "outputs": [
    {
     "data": {
      "text/plain": [
       "[1, 34, 5435, 6, 878, 989, 9, 36, 49, 54, 846, 200]"
      ]
     },
     "execution_count": 7,
     "metadata": {},
     "output_type": "execute_result"
    }
   ],
   "source": [
    "lista + [36, 49, 54, 846, 200]"
   ]
  },
  {
   "cell_type": "markdown",
   "metadata": {},
   "source": [
    "A diferencia de las cadenas, que son *inmutables*, las listas son de tipo *mutable*, es decir, pueden cambiar su contenido:"
   ]
  },
  {
   "cell_type": "code",
   "execution_count": 8,
   "metadata": {},
   "outputs": [],
   "source": [
    "lista2 = [1,2,3,4,5]"
   ]
  },
  {
   "cell_type": "code",
   "execution_count": 9,
   "metadata": {},
   "outputs": [],
   "source": [
    "lista2[3] = 600"
   ]
  },
  {
   "cell_type": "code",
   "execution_count": 10,
   "metadata": {},
   "outputs": [
    {
     "data": {
      "text/plain": [
       "[1, 2, 3, 600, 5]"
      ]
     },
     "execution_count": 10,
     "metadata": {},
     "output_type": "execute_result"
    }
   ],
   "source": [
    "lista2"
   ]
  },
  {
   "cell_type": "markdown",
   "metadata": {},
   "source": [
    "También puede agregar nuevos elementos al final de la lista, utilizando el método `append()`:"
   ]
  },
  {
   "cell_type": "code",
   "execution_count": 11,
   "metadata": {},
   "outputs": [],
   "source": [
    "lista2.append(2500)"
   ]
  },
  {
   "cell_type": "code",
   "execution_count": 13,
   "metadata": {},
   "outputs": [],
   "source": [
    "lista2.append(5*5*5*5)"
   ]
  },
  {
   "cell_type": "code",
   "execution_count": 14,
   "metadata": {},
   "outputs": [
    {
     "data": {
      "text/plain": [
       "[1, 2, 3, 600, 5, 2500, 625]"
      ]
     },
     "execution_count": 14,
     "metadata": {},
     "output_type": "execute_result"
    }
   ],
   "source": [
    "lista2"
   ]
  },
  {
   "cell_type": "markdown",
   "metadata": {},
   "source": [
    "También es posible asignar una rebanada, y esto incluso puede cambiar la longitud de la lista o vaciarla completamente:"
   ]
  },
  {
   "cell_type": "code",
   "execution_count": 15,
   "metadata": {},
   "outputs": [],
   "source": [
    "lista3 = ['a','b','c','d','e','f','g']"
   ]
  },
  {
   "cell_type": "code",
   "execution_count": 16,
   "metadata": {},
   "outputs": [
    {
     "data": {
      "text/plain": [
       "['a', 'b', 'c', 'd', 'e', 'f', 'g']"
      ]
     },
     "execution_count": 16,
     "metadata": {},
     "output_type": "execute_result"
    }
   ],
   "source": [
    "lista3"
   ]
  },
  {
   "cell_type": "code",
   "execution_count": 17,
   "metadata": {},
   "outputs": [],
   "source": [
    "#Reemplazamos algunos de los valores\n",
    "lista3[2:5] = ['C','D','E']"
   ]
  },
  {
   "cell_type": "code",
   "execution_count": 18,
   "metadata": {},
   "outputs": [
    {
     "data": {
      "text/plain": [
       "['a', 'b', 'C', 'D', 'E', 'f', 'g']"
      ]
     },
     "execution_count": 18,
     "metadata": {},
     "output_type": "execute_result"
    }
   ],
   "source": [
    "lista3"
   ]
  },
  {
   "cell_type": "code",
   "execution_count": 19,
   "metadata": {},
   "outputs": [],
   "source": [
    "#Removemos un item \n",
    "lista3[2:5] = []"
   ]
  },
  {
   "cell_type": "code",
   "execution_count": 20,
   "metadata": {},
   "outputs": [
    {
     "data": {
      "text/plain": [
       "['a', 'b', 'f', 'g']"
      ]
     },
     "execution_count": 20,
     "metadata": {},
     "output_type": "execute_result"
    }
   ],
   "source": [
    "lista3"
   ]
  },
  {
   "cell_type": "code",
   "execution_count": 22,
   "metadata": {},
   "outputs": [],
   "source": [
    "#Limpiamos la lista reemplazando TODOS los elementos por una lista vacía\n",
    "lista3[:] = []"
   ]
  },
  {
   "cell_type": "code",
   "execution_count": 23,
   "metadata": {},
   "outputs": [
    {
     "data": {
      "text/plain": [
       "[]"
      ]
     },
     "execution_count": 23,
     "metadata": {},
     "output_type": "execute_result"
    }
   ],
   "source": [
    "lista3"
   ]
  },
  {
   "cell_type": "markdown",
   "metadata": {},
   "source": [
    "La función predefinida `len()` también sirve para las listas (devuelve la longitud):"
   ]
  },
  {
   "cell_type": "code",
   "execution_count": 24,
   "metadata": {},
   "outputs": [],
   "source": [
    "lista4 = ['a','sas','sadsdas','trwetre','dasag']"
   ]
  },
  {
   "cell_type": "code",
   "execution_count": 25,
   "metadata": {},
   "outputs": [
    {
     "data": {
      "text/plain": [
       "5"
      ]
     },
     "execution_count": 25,
     "metadata": {},
     "output_type": "execute_result"
    }
   ],
   "source": [
    "len(lista4)"
   ]
  },
  {
   "cell_type": "markdown",
   "metadata": {},
   "source": [
    "Es posible anidar listar (crear listas que contengan otras listas), por ejemplo:"
   ]
  },
  {
   "cell_type": "code",
   "execution_count": 27,
   "metadata": {},
   "outputs": [],
   "source": [
    "lista5 = ['a', 'b', 'c']\n",
    "lista6 = [1,2,3]\n",
    "lista7 = [lista5, lista6]"
   ]
  },
  {
   "cell_type": "code",
   "execution_count": 28,
   "metadata": {},
   "outputs": [
    {
     "data": {
      "text/plain": [
       "[['a', 'b', 'c'], [1, 2, 3]]"
      ]
     },
     "execution_count": 28,
     "metadata": {},
     "output_type": "execute_result"
    }
   ],
   "source": [
    "lista7"
   ]
  },
  {
   "cell_type": "markdown",
   "metadata": {},
   "source": [
    "#### Tuplas y secuencias:"
   ]
  },
  {
   "cell_type": "markdown",
   "metadata": {},
   "source": [
    "La listas y cadenas tienen propiedades en común, como el indizado y las operaciones de seccionado. Estas son dos ejemplos de datos de tipo *secuencial*. Existe otro tipo de datos de tipo *secuencial* estándar: la **tupla**."
   ]
  },
  {
   "cell_type": "markdown",
   "metadata": {},
   "source": [
    "Una tupla cosiste en un número de valores separados por comas, por ejemplo:"
   ]
  },
  {
   "cell_type": "code",
   "execution_count": 1,
   "metadata": {},
   "outputs": [],
   "source": [
    "t1 = 12345, 54321, \"oli\" "
   ]
  },
  {
   "cell_type": "code",
   "execution_count": 3,
   "metadata": {},
   "outputs": [
    {
     "data": {
      "text/plain": [
       "12345"
      ]
     },
     "execution_count": 3,
     "metadata": {},
     "output_type": "execute_result"
    }
   ],
   "source": [
    "t1[0]"
   ]
  },
  {
   "cell_type": "code",
   "execution_count": 4,
   "metadata": {},
   "outputs": [
    {
     "data": {
      "text/plain": [
       "(12345, 54321, 'oli')"
      ]
     },
     "execution_count": 4,
     "metadata": {},
     "output_type": "execute_result"
    }
   ],
   "source": [
    "t1"
   ]
  },
  {
   "cell_type": "markdown",
   "metadata": {},
   "source": [
    "Podemos anidas tuplas"
   ]
  },
  {
   "cell_type": "code",
   "execution_count": 6,
   "metadata": {},
   "outputs": [],
   "source": [
    "t2 = t1, (1,2,3,4,5)"
   ]
  },
  {
   "cell_type": "code",
   "execution_count": 7,
   "metadata": {},
   "outputs": [
    {
     "data": {
      "text/plain": [
       "((12345, 54321, 'oli'), (1, 2, 3, 4, 5))"
      ]
     },
     "execution_count": 7,
     "metadata": {},
     "output_type": "execute_result"
    }
   ],
   "source": [
    "t2"
   ]
  },
  {
   "cell_type": "markdown",
   "metadata": {},
   "source": [
    "Las tuplas son **inmutables**"
   ]
  },
  {
   "cell_type": "code",
   "execution_count": 8,
   "metadata": {},
   "outputs": [
    {
     "ename": "TypeError",
     "evalue": "'tuple' object does not support item assignment",
     "output_type": "error",
     "traceback": [
      "\u001b[1;31m---------------------------------------------------------------------------\u001b[0m",
      "\u001b[1;31mTypeError\u001b[0m                                 Traceback (most recent call last)",
      "\u001b[1;32m<ipython-input-8-a072a24d1ed4>\u001b[0m in \u001b[0;36m<module>\u001b[1;34m\u001b[0m\n\u001b[1;32m----> 1\u001b[1;33m \u001b[0mt1\u001b[0m\u001b[1;33m[\u001b[0m\u001b[1;36m0\u001b[0m\u001b[1;33m]\u001b[0m \u001b[1;33m=\u001b[0m \u001b[1;36m88888\u001b[0m\u001b[1;33m\u001b[0m\u001b[1;33m\u001b[0m\u001b[0m\n\u001b[0m",
      "\u001b[1;31mTypeError\u001b[0m: 'tuple' object does not support item assignment"
     ]
    }
   ],
   "source": [
    "t1[0] = 88888"
   ]
  },
  {
   "cell_type": "markdown",
   "metadata": {},
   "source": [
    "Pero **si pueden contener objetos mutables**:"
   ]
  },
  {
   "cell_type": "code",
   "execution_count": 10,
   "metadata": {},
   "outputs": [],
   "source": [
    "t3 = ([1,2,3], [3,2,1])"
   ]
  },
  {
   "cell_type": "code",
   "execution_count": 11,
   "metadata": {},
   "outputs": [
    {
     "data": {
      "text/plain": [
       "([1, 2, 3], [3, 2, 1])"
      ]
     },
     "execution_count": 11,
     "metadata": {},
     "output_type": "execute_result"
    }
   ],
   "source": [
    "t3"
   ]
  },
  {
   "cell_type": "markdown",
   "metadata": {},
   "source": [
    "Las tuplas siempre **se encierran en paréntesis**, para que las tuplas anidadas puedan interpretarse correctamente; pueden ingresarse con o sin paréntesis, aunque a menudo los paréntesis son necesarios de todas formas (si la tupla es parte de una expresión más grande). No es posible asignar a los ítems individuales de una tupla, pero sin embargo sí se puede crear tuplas que contengan objetos mutables, como las listas."
   ]
  },
  {
   "cell_type": "markdown",
   "metadata": {},
   "source": [
    "A pesar de que las tuplas puedan parecerse a las listas, frecuentemente se utilizan en distintas situaciones y para distintos propósitos. Las tuplas son **inmutables** y normalmente contienen una secuencia heterogénea de elementos que son accedidos al desempaquetar o indizar (o incluso acceder por atributo en el caso de las `namedtuples`). Por otro lado, las listas son **mutables**, y sus elementos son normalmente homogéneos y se acceden iterando la lista."
   ]
  },
  {
   "cell_type": "markdown",
   "metadata": {},
   "source": [
    "Un problema particular es la construcción de tuplas que contengan 0 o 1 ítem: la sintaxis presenta algunas peculiaridades para estos casos. Las tuplas vacías se construyen mediante un par de paréntesis vacío; una tupla con un ítem se construye poniendo una coma a continuación de un valor (no alcanza con encerrar un único valor entre paréntesis). Por ejemplo:"
   ]
  },
  {
   "cell_type": "code",
   "execution_count": 12,
   "metadata": {},
   "outputs": [],
   "source": [
    "empty = ()"
   ]
  },
  {
   "cell_type": "code",
   "execution_count": 13,
   "metadata": {},
   "outputs": [],
   "source": [
    "tupla_unica = 'hello', # Recordemos usar la coma"
   ]
  },
  {
   "cell_type": "code",
   "execution_count": 14,
   "metadata": {},
   "outputs": [
    {
     "data": {
      "text/plain": [
       "0"
      ]
     },
     "execution_count": 14,
     "metadata": {},
     "output_type": "execute_result"
    }
   ],
   "source": [
    "len(empty)"
   ]
  },
  {
   "cell_type": "code",
   "execution_count": 15,
   "metadata": {},
   "outputs": [
    {
     "data": {
      "text/plain": [
       "1"
      ]
     },
     "execution_count": 15,
     "metadata": {},
     "output_type": "execute_result"
    }
   ],
   "source": [
    "len(tupla_unica)"
   ]
  },
  {
   "cell_type": "code",
   "execution_count": 16,
   "metadata": {},
   "outputs": [
    {
     "data": {
      "text/plain": [
       "('hello',)"
      ]
     },
     "execution_count": 16,
     "metadata": {},
     "output_type": "execute_result"
    }
   ],
   "source": [
    "tupla_unica"
   ]
  },
  {
   "cell_type": "markdown",
   "metadata": {},
   "source": [
    "En nuestras declaraciones del tipo "
   ]
  },
  {
   "cell_type": "code",
   "execution_count": 17,
   "metadata": {},
   "outputs": [],
   "source": [
    "t4 = 12345, 54321, 'holi'"
   ]
  },
  {
   "cell_type": "markdown",
   "metadata": {},
   "source": [
    "es un ejemplo de *empaquetadp de tuplas*: los valores `12345`, `54321` y `holi` se empaquetan juntos en una tupla. La operación inversa también es posible y es la siguiente: `x, y, z = t`."
   ]
  },
  {
   "cell_type": "markdown",
   "metadata": {},
   "source": [
    "Esto se llama, **desempaquetado de secuencias**, y funciona para cualquier secuencia en el lado derecho del igual. **El desempaquetado de secuencias requiere que la cantidad de variables a la izquierda del signo igual sea del tamaño de la secuencia**. Notemos que la asignación múltiple es en realidad sólo una combinación de empaquetado de tuplas y desempaquetado de secuencias."
   ]
  },
  {
   "cell_type": "markdown",
   "metadata": {},
   "source": [
    "#### Diccionarios:"
   ]
  },
  {
   "cell_type": "markdown",
   "metadata": {},
   "source": [
    "Otro tipo de dato útil es el diccionario. Los diccionarios se encuentran a vecer en otros lenguajes como *memorias asociativas* o *arreglos asociativos*. A diferencia de las secuencias, que se indexan mediante un rango numérico, **los diccionarios se indexan con claves**, que pueden ser cualquier tipo *inmutable*; las cadenas y número siempre pueden ser claves. Las tuplas pueden usarse como claves si solamente contienen cadenas, números o tuplas; **si una tupla contiene cualquier objeto mutable directa o indirectamente, no puede usarse como clave**. \n",
    "\n",
    "Es mejor pensar en un diccionario como un conjunto de *pares clave-valor* con el requerimiento de que las claves sean únicas (dentro de un diccionario). Un para de llaves crean un diccionario vacío `{}`. Colocar una lista de pares clave-valor separada por comas dentro de las llaves agrega, de inicio, pares clave-valor a nuestro diccionario; esta es también la forma en que los diccionarios se muestran en la salida."
   ]
  },
  {
   "cell_type": "markdown",
   "metadata": {},
   "source": [
    "**Las operaciones principales sobre un diccionario son guardar un valor con una clave y extraer ese valor dada la clave**. También es posible borrar un par clave-valor con `del`. **Si usas una clave que ya está en uso para guardar un valor, el valor que estaba asociado con esa clave se pierde.** Es un error extraer un valor usando una clave no existente."
   ]
  },
  {
   "cell_type": "markdown",
   "metadata": {},
   "source": [
    "Ejecutando `list(d)` en un diccionario retornará una lista con todas las claves usadas en el diccionario, en el orden de inserción. Para comprobar si una clave está en el diccionario se usa la palabra clave `in`."
   ]
  },
  {
   "cell_type": "code",
   "execution_count": 21,
   "metadata": {},
   "outputs": [],
   "source": [
    "dic1 = {'a': 40323, 'dasd': 21212}"
   ]
  },
  {
   "cell_type": "code",
   "execution_count": 23,
   "metadata": {},
   "outputs": [],
   "source": [
    "dic1['qwerty'] = 12345"
   ]
  },
  {
   "cell_type": "code",
   "execution_count": 24,
   "metadata": {},
   "outputs": [
    {
     "data": {
      "text/plain": [
       "{'a': 40323, 'dasd': 21212, 'qwerty': 12345}"
      ]
     },
     "execution_count": 24,
     "metadata": {},
     "output_type": "execute_result"
    }
   ],
   "source": [
    "dic1"
   ]
  },
  {
   "cell_type": "code",
   "execution_count": 26,
   "metadata": {},
   "outputs": [],
   "source": [
    "del dic1['dasd']"
   ]
  },
  {
   "cell_type": "code",
   "execution_count": 27,
   "metadata": {},
   "outputs": [],
   "source": [
    "dic1['irv'] = 7890"
   ]
  },
  {
   "cell_type": "code",
   "execution_count": 28,
   "metadata": {},
   "outputs": [
    {
     "data": {
      "text/plain": [
       "{'a': 40323, 'qwerty': 12345, 'irv': 7890}"
      ]
     },
     "execution_count": 28,
     "metadata": {},
     "output_type": "execute_result"
    }
   ],
   "source": [
    "dic1"
   ]
  },
  {
   "cell_type": "code",
   "execution_count": 29,
   "metadata": {},
   "outputs": [
    {
     "data": {
      "text/plain": [
       "['a', 'qwerty', 'irv']"
      ]
     },
     "execution_count": 29,
     "metadata": {},
     "output_type": "execute_result"
    }
   ],
   "source": [
    "list(dic1)"
   ]
  },
  {
   "cell_type": "code",
   "execution_count": 30,
   "metadata": {},
   "outputs": [
    {
     "data": {
      "text/plain": [
       "['a', 'irv', 'qwerty']"
      ]
     },
     "execution_count": 30,
     "metadata": {},
     "output_type": "execute_result"
    }
   ],
   "source": [
    "sorted(dic1)"
   ]
  },
  {
   "cell_type": "code",
   "execution_count": 31,
   "metadata": {},
   "outputs": [
    {
     "data": {
      "text/plain": [
       "True"
      ]
     },
     "execution_count": 31,
     "metadata": {},
     "output_type": "execute_result"
    }
   ],
   "source": [
    "'a' in dic1"
   ]
  },
  {
   "cell_type": "code",
   "execution_count": 32,
   "metadata": {},
   "outputs": [
    {
     "data": {
      "text/plain": [
       "False"
      ]
     },
     "execution_count": 32,
     "metadata": {},
     "output_type": "execute_result"
    }
   ],
   "source": [
    "'dasd' in dic1"
   ]
  },
  {
   "cell_type": "markdown",
   "metadata": {},
   "source": [
    "El constructor `dict()` crea un diccionario directamente desde secuencias de pares clave-valor:"
   ]
  },
  {
   "cell_type": "code",
   "execution_count": 34,
   "metadata": {},
   "outputs": [
    {
     "data": {
      "text/plain": [
       "{'sape': 4139, 'guido': 12345, 'jack': 54321}"
      ]
     },
     "execution_count": 34,
     "metadata": {},
     "output_type": "execute_result"
    }
   ],
   "source": [
    "dict( [ ('sape', 4139), ('guido', 12345), ('jack', 54321) ] )"
   ]
  },
  {
   "cell_type": "markdown",
   "metadata": {},
   "source": [
    "Además, las comprensiones de diccionarios se pueden usar para crear diccionarios desde expresiones arbitrarias de clave-valor:"
   ]
  },
  {
   "cell_type": "code",
   "execution_count": 35,
   "metadata": {},
   "outputs": [
    {
     "data": {
      "text/plain": [
       "{2: 4, 4: 16, 6: 36}"
      ]
     },
     "execution_count": 35,
     "metadata": {},
     "output_type": "execute_result"
    }
   ],
   "source": [
    "{x: x**2 for x in (2,4,6)}"
   ]
  },
  {
   "cell_type": "markdown",
   "metadata": {},
   "source": [
    "Cuando las claves son cadenas simples, a veces resulta más fácil especificar los pares usando argumentos por palabra clave:"
   ]
  },
  {
   "cell_type": "code",
   "execution_count": 36,
   "metadata": {},
   "outputs": [
    {
     "data": {
      "text/plain": [
       "{'sape': 12345, 'guido': 54321, 'jack': 6789}"
      ]
     },
     "execution_count": 36,
     "metadata": {},
     "output_type": "execute_result"
    }
   ],
   "source": [
    "dict(sape=12345, guido=54321, jack=6789)"
   ]
  },
  {
   "cell_type": "markdown",
   "metadata": {},
   "source": [
    "---"
   ]
  },
  {
   "cell_type": "markdown",
   "metadata": {},
   "source": [
    "Ahora sí, vamos a hablar sobre listas y diccionarios anidados, listas que contienen listas, listas que contienen diccionarios, diccionarios que almacenan lista, etc.\n",
    "\n",
    "Hagamos un ejemplo de ello:"
   ]
  },
  {
   "cell_type": "code",
   "execution_count": 90,
   "metadata": {},
   "outputs": [
    {
     "name": "stdout",
     "output_type": "stream",
     "text": [
      "Super_dict:\n",
      "Key: natural_nums, Value: [1, 2, 3, 4, 5]\n",
      "Key: integer_nums, Value: [-1, -2, 0, 1, 2]\n",
      "Key: floating_nums, Value: [1.1, 2.2, 3.3, 4.4]\n",
      "\n",
      "Super_list:\n",
      "\n",
      "Diccionario número: 1 = {'fristname': 'Abdiel', 'Lastname': 'Guerro'}\n",
      "Key 1: fristname, Value 1: Abdiel\n",
      "Key 1: Lastname, Value 1: Guerro\n",
      "\n",
      "Diccionario número: 2 = {'fristname': 'ASDFG', 'Lastname': 'gdfgdfg'}\n",
      "Key 2: fristname, Value 2: ASDFG\n",
      "Key 2: Lastname, Value 2: gdfgdfg\n",
      "\n",
      "Diccionario número: 3 = {'fristname': 'ghjkl', 'Lastname': 'asdasdsa'}\n",
      "Key 3: fristname, Value 3: ghjkl\n",
      "Key 3: Lastname, Value 3: asdasdsa\n",
      "\n",
      "Diccionario número: 4 = {'fristname': 'qwert', 'Lastname': 'weqwe'}\n",
      "Key 4: fristname, Value 4: qwert\n",
      "Key 4: Lastname, Value 4: weqwe\n",
      "\n",
      "Diccionario número: 5 = {'fristname': 'zxcvv', 'Lastname': 'cvzczxc'}\n",
      "Key 5: fristname, Value 5: zxcvv\n",
      "Key 5: Lastname, Value 5: cvzczxc\n",
      "\n",
      "Diccionario número: 6 = {'fristname': 'vbnmm', 'Lastname': 'hfghfg'}\n",
      "Key 6: fristname, Value 6: vbnmm\n",
      "Key 6: Lastname, Value 6: hfghfg\n"
     ]
    }
   ],
   "source": [
    "#Main\n",
    "def run(): \n",
    "    my_list = [1, 'Holi', True, 4.5]\n",
    "    my_dict = {\"fristname\": 'Abdiel', \"Lastname\": 'Guerr'}\n",
    "    \n",
    "    #Lista de diccionarios\n",
    "    super_list = [\n",
    "        {\"fristname\": 'Abdiel', \"Lastname\": 'Guerro'},\n",
    "        {\"fristname\": 'ASDFG', \"Lastname\": 'gdfgdfg'},\n",
    "        {\"fristname\": 'ghjkl', \"Lastname\": 'asdasdsa'},\n",
    "        {\"fristname\": 'qwert', \"Lastname\": 'weqwe'},\n",
    "        {\"fristname\": 'zxcvv', \"Lastname\": 'cvzczxc'},\n",
    "        {\"fristname\": 'vbnmm', \"Lastname\": 'hfghfg'}, \n",
    "    ]\n",
    "\n",
    "    #Diccionario de listas\n",
    "    super_dict = {\n",
    "        \"natural_nums\": [1,2,3,4,5],\n",
    "        \"integer_nums\": [-1, -2, 0, 1, 2],\n",
    "        \"floating_nums\": [1.1, 2.2, 3.3, 4.4]\n",
    "    }\n",
    "    \n",
    "    # El método .items() nos permite recorrer llaves y valores\n",
    "    # de un diccionario al mismo tiempo en un ciclo.\n",
    "    print(\"Super_dict:\")\n",
    "    for key, value in super_dict.items():\n",
    "        print(f'Key: {key}, Value: {value}')\n",
    "        \n",
    "        \n",
    "    print(\"\\nSuper_list:\")\n",
    "    #En cada iteración hay un diccionario\n",
    "    indice = 0\n",
    "    for elemento in super_list:\n",
    "        indice = indice + 1\n",
    "        print(f'\\nDiccionario número: {indice} = {elemento}') \n",
    "        #Por cada diccionario tenemos un par llave-valor\n",
    "        for key2, value2 in elemento.items(): \n",
    "            print(f'Key {indice}: {key2}, Value {indice}: {value2}')\n",
    "   \n",
    "\n",
    "# Entry point  \n",
    "if __name__ == '__main__': \n",
    "    run()"
   ]
  },
  {
   "cell_type": "markdown",
   "metadata": {},
   "source": [
    "---"
   ]
  },
  {
   "cell_type": "markdown",
   "metadata": {},
   "source": [
    "### List Comprehensions"
   ]
  },
  {
   "cell_type": "markdown",
   "metadata": {},
   "source": [
    "Como practica intentemos crear una lista que contenga los primeros 100 números naturales al cuadrado."
   ]
  },
  {
   "cell_type": "code",
   "execution_count": 130,
   "metadata": {},
   "outputs": [
    {
     "name": "stdout",
     "output_type": "stream",
     "text": [
      "Lista de naturales al cuadrado:\n",
      " [1, 4, 9, 16, 25, 36, 49, 64, 81, 100, 121, 144, 169, 196, 225, 256, 289, 324, 361, 400, 441, 484, 529, 576, 625, 676, 729, 784, 841, 900, 961, 1024, 1089, 1156, 1225, 1296, 1369, 1444, 1521, 1600, 1681, 1764, 1849, 1936, 2025, 2116, 2209, 2304, 2401, 2500, 2601, 2704, 2809, 2916, 3025, 3136, 3249, 3364, 3481, 3600, 3721, 3844, 3969, 4096, 4225, 4356, 4489, 4624, 4761, 4900, 5041, 5184, 5329, 5476, 5625, 5776, 5929, 6084, 6241, 6400, 6561, 6724, 6889, 7056, 7225, 7396, 7569, 7744, 7921, 8100, 8281, 8464, 8649, 8836, 9025, 9216, 9409, 9604, 9801, 10000]\n"
     ]
    }
   ],
   "source": [
    "def main():\n",
    "    \n",
    "    list_n_to_2 = []\n",
    "    for i in range(1, 101):\n",
    "        list_n_to_2.append(i**2)\n",
    "    print(f'Lista de naturales al cuadrado:\\n {list_n_to_2}')\n",
    "    \n",
    "\n",
    "if __name__ == '__main__':\n",
    "    main()"
   ]
  },
  {
   "cell_type": "markdown",
   "metadata": {},
   "source": [
    "Ahora tratemos de hacer una lista con los cuadrados del 1 al 100 que NO sean divisibles entre 3."
   ]
  },
  {
   "cell_type": "code",
   "execution_count": 131,
   "metadata": {},
   "outputs": [
    {
     "name": "stdout",
     "output_type": "stream",
     "text": [
      "Lista de naturales al cuadrado que NO son divisibles entre 3\n",
      " [1, 4, 16, 25, 49, 64, 100, 121, 169, 196, 256, 289, 361, 400, 484, 529, 625, 676, 784, 841, 961, 1024, 1156, 1225, 1369, 1444, 1600, 1681, 1849, 1936, 2116, 2209, 2401, 2500, 2704, 2809, 3025, 3136, 3364, 3481, 3721, 3844, 4096, 4225, 4489, 4624, 4900, 5041, 5329, 5476, 5776, 5929, 6241, 6400, 6724, 6889, 7225, 7396, 7744, 7921, 8281, 8464, 8836, 9025, 9409, 9604, 10000]\n"
     ]
    }
   ],
   "source": [
    "def main():\n",
    "    \n",
    "    n_to_2_not_divisible3 = []\n",
    "    for i in range (101):\n",
    "        n_to_2_not_divisible3.append(i**2)\n",
    "        if (i**2)%3 == 0:\n",
    "            n_to_2_not_divisible3.remove(i**2)\n",
    "\n",
    "    print('Lista de naturales al cuadrado que NO son divisibles entre 3\\n' \n",
    "          , n_to_2_not_divisible3)\n",
    "    \n",
    "if __name__ == '__main__':\n",
    "    main()"
   ]
  },
  {
   "cell_type": "markdown",
   "metadata": {},
   "source": [
    "Ahora, ¿Que pasaría si quisieramos realizar estas tareas de generar listas, pero **sin ciclos**?"
   ]
  },
  {
   "cell_type": "code",
   "execution_count": 122,
   "metadata": {},
   "outputs": [
    {
     "name": "stdout",
     "output_type": "stream",
     "text": [
      "Lista de naturales del 1-100 al cuadrado: \n",
      "[0, 1, 4, 9, 16, 25, 36, 49, 64, 81, 100, 121, 144, 169, 196, 225, 256, 289, 324, 361, 400, 441, 484, 529, 576, 625, 676, 729, 784, 841, 900, 961, 1024, 1089, 1156, 1225, 1296, 1369, 1444, 1521, 1600, 1681, 1764, 1849, 1936, 2025, 2116, 2209, 2304, 2401, 2500, 2601, 2704, 2809, 2916, 3025, 3136, 3249, 3364, 3481, 3600, 3721, 3844, 3969, 4096, 4225, 4356, 4489, 4624, 4761, 4900, 5041, 5184, 5329, 5476, 5625, 5776, 5929, 6084, 6241, 6400, 6561, 6724, 6889, 7056, 7225, 7396, 7569, 7744, 7921, 8100, 8281, 8464, 8649, 8836, 9025, 9216, 9409, 9604, 9801, 10000]\n",
      "\n",
      " Diccionario de naturales del 1-100 al cuadrado:\n",
      "{0: 0, 1: 1, 2: 4, 3: 9, 4: 16, 5: 25, 6: 36, 7: 49, 8: 64, 9: 81, 10: 100, 11: 121, 12: 144, 13: 169, 14: 196, 15: 225, 16: 256, 17: 289, 18: 324, 19: 361, 20: 400, 21: 441, 22: 484, 23: 529, 24: 576, 25: 625, 26: 676, 27: 729, 28: 784, 29: 841, 30: 900, 31: 961, 32: 1024, 33: 1089, 34: 1156, 35: 1225, 36: 1296, 37: 1369, 38: 1444, 39: 1521, 40: 1600, 41: 1681, 42: 1764, 43: 1849, 44: 1936, 45: 2025, 46: 2116, 47: 2209, 48: 2304, 49: 2401, 50: 2500, 51: 2601, 52: 2704, 53: 2809, 54: 2916, 55: 3025, 56: 3136, 57: 3249, 58: 3364, 59: 3481, 60: 3600, 61: 3721, 62: 3844, 63: 3969, 64: 4096, 65: 4225, 66: 4356, 67: 4489, 68: 4624, 69: 4761, 70: 4900, 71: 5041, 72: 5184, 73: 5329, 74: 5476, 75: 5625, 76: 5776, 77: 5929, 78: 6084, 79: 6241, 80: 6400, 81: 6561, 82: 6724, 83: 6889, 84: 7056, 85: 7225, 86: 7396, 87: 7569, 88: 7744, 89: 7921, 90: 8100, 91: 8281, 92: 8464, 93: 8649, 94: 8836, 95: 9025, 96: 9216, 97: 9409, 98: 9604, 99: 9801, 100: 10000}\n"
     ]
    }
   ],
   "source": [
    "def main():\n",
    "    \n",
    "    list_n_to_2 = [n**2 for n in range(101)]\n",
    "    dict_n_to_2 = {n: n**2 for n in range(101)}\n",
    "    \n",
    "    print(f'Lista de naturales del 1-100 al cuadrado: \\n{list_n_to_2}')\n",
    "    print(f'\\n Diccionario de naturales del 1-100 al cuadrado:\\n{dict_n_to_2}')\n",
    "\n",
    "if __name__ == '__main__':\n",
    "    main()"
   ]
  },
  {
   "cell_type": "markdown",
   "metadata": {},
   "source": [
    "Ahora hagamos el segundo ejemplo de los cuadrados que no son divisibles entre 3 usando list comprehensions:"
   ]
  },
  {
   "cell_type": "code",
   "execution_count": 134,
   "metadata": {},
   "outputs": [
    {
     "name": "stdout",
     "output_type": "stream",
     "text": [
      "Lista de naturales al cuadrado que NO son divisibles entre 3\n",
      " [1, 4, 16, 25, 49, 64, 100, 121, 169, 196, 256, 289, 361, 400, 484, 529, 625, 676, 784, 841, 961, 1024, 1156, 1225, 1369, 1444, 1600, 1681, 1849, 1936, 2116, 2209, 2401, 2500, 2704, 2809, 3025, 3136, 3364, 3481, 3721, 3844, 4096, 4225, 4489, 4624, 4900, 5041, 5329, 5476, 5776, 5929, 6241, 6400, 6724, 6889, 7225, 7396, 7744, 7921, 8281, 8464, 8836, 9025, 9409, 9604, 10000]\n"
     ]
    }
   ],
   "source": [
    "def main():\n",
    "    \n",
    "    n_to_2_not_divisible3 = [n**2 for n in range(1,101) if n%3 != 0]\n",
    "    print('Lista de naturales al cuadrado que NO son divisibles entre 3\\n' \n",
    "          , n_to_2_not_divisible3)\n",
    "    \n",
    "if __name__ == '__main__':\n",
    "    main()"
   ]
  },
  {
   "cell_type": "markdown",
   "metadata": {},
   "source": [
    "La estructura general de los list comprehensions sería la siguiente:\n",
    "\n",
    "\n",
    "```py\n",
    "[element for element in iterable if condition] \n",
    "> Para cada elemento en el iterable agrega ese elemento \n",
    "  solo si cumple la condición.\n",
    "```"
   ]
  },
  {
   "cell_type": "markdown",
   "metadata": {},
   "source": [
    "Hagamos otro ejemplo utilizando list comprehensions que enliste a todos los múltiplos de 4 que a la vez también son múltiplos de 6 y de 9, hasta 5 dígitos."
   ]
  },
  {
   "cell_type": "code",
   "execution_count": 37,
   "metadata": {},
   "outputs": [
    {
     "name": "stdout",
     "output_type": "stream",
     "text": [
      "[36, 72, 108, 144, 180, 216, 252, 288, 324, 360, 396, 432, 468, 504, 540, 576, 612, 648, 684, 720, 756, 792, 828, 864, 900, 936, 972]\n"
     ]
    }
   ],
   "source": [
    "def main():\n",
    "    list_muitiple_of_9_6_4 = [e for e in range(1,1000) if e%9 == 0 and \n",
    "                             e%6 == 0 and e%4 == 0]\n",
    "    print(list_muitiple_of_9_6_4)\n",
    "    \n",
    "\n",
    "if __name__ == '__main__':\n",
    "    main()"
   ]
  },
  {
   "cell_type": "markdown",
   "metadata": {},
   "source": [
    "---"
   ]
  },
  {
   "cell_type": "markdown",
   "metadata": {},
   "source": [
    "### Dictionary comprehensions"
   ]
  },
  {
   "cell_type": "code",
   "execution_count": 47,
   "metadata": {},
   "outputs": [
    {
     "name": "stdout",
     "output_type": "stream",
     "text": [
      "Dictionary comprehensions:\n",
      "{0: 0, 1: 1, 2: 8, 3: 27, 4: 64, 5: 125, 6: 216, 7: 343, 8: 512, 9: 729, 10: 1000, 11: 1331, 12: 1728, 13: 2197, 14: 2744, 15: 3375, 16: 4096, 17: 4913, 18: 5832, 19: 6859, 20: 8000, 21: 9261, 22: 10648, 23: 12167, 24: 13824, 25: 15625, 26: 17576, 27: 19683, 28: 21952, 29: 24389, 30: 27000, 31: 29791, 32: 32768, 33: 35937, 34: 39304, 35: 42875, 36: 46656, 37: 50653, 38: 54872, 39: 59319, 40: 64000, 41: 68921, 42: 74088, 43: 79507, 44: 85184, 45: 91125, 46: 97336, 47: 103823, 48: 110592, 49: 117649, 50: 125000, 51: 132651, 52: 140608, 53: 148877, 54: 157464, 55: 166375, 56: 175616, 57: 185193, 58: 195112, 59: 205379, 60: 216000, 61: 226981, 62: 238328, 63: 250047, 64: 262144, 65: 274625, 66: 287496, 67: 300763, 68: 314432, 69: 328509, 70: 343000, 71: 357911, 72: 373248, 73: 389017, 74: 405224, 75: 421875, 76: 438976, 77: 456533, 78: 474552, 79: 493039, 80: 512000, 81: 531441, 82: 551368, 83: 571787, 84: 592704, 85: 614125, 86: 636056, 87: 658503, 88: 681472, 89: 704969, 90: 729000, 91: 753571, 92: 778688, 93: 804357, 94: 830584, 95: 857375, 96: 884736, 97: 912673, 98: 941192, 99: 970299, 100: 1000000}\n"
     ]
    }
   ],
   "source": [
    "def main():\n",
    "    dict_naturals = {key: key**3 for key in range(101)}\n",
    "    print(f'Dictionary comprehensions:\\n{dict_naturals}')\n",
    "    \n",
    "if __name__ == '__main__':\n",
    "    main()"
   ]
  },
  {
   "cell_type": "markdown",
   "metadata": {},
   "source": [
    "Igual que como hicimos con las listas, tratemos de agregar en un diccionario aquellos números al cubo que no sean divisibles entre 3."
   ]
  },
  {
   "cell_type": "code",
   "execution_count": 52,
   "metadata": {},
   "outputs": [
    {
     "name": "stdout",
     "output_type": "stream",
     "text": [
      "{1: 1, 2: 8, 4: 64, 5: 125, 7: 343, 8: 512, 10: 1000, 11: 1331, 13: 2197, 14: 2744, 16: 4096, 17: 4913, 19: 6859, 20: 8000, 22: 10648, 23: 12167, 25: 15625, 26: 17576, 28: 21952, 29: 24389, 31: 29791, 32: 32768, 34: 39304, 35: 42875, 37: 50653, 38: 54872, 40: 64000, 41: 68921, 43: 79507, 44: 85184, 46: 97336, 47: 103823, 49: 117649, 50: 125000, 52: 140608, 53: 148877, 55: 166375, 56: 175616, 58: 195112, 59: 205379, 61: 226981, 62: 238328, 64: 262144, 65: 274625, 67: 300763, 68: 314432, 70: 343000, 71: 357911, 73: 389017, 74: 405224, 76: 438976, 77: 456533, 79: 493039, 80: 512000, 82: 551368, 83: 571787, 85: 614125, 86: 636056, 88: 681472, 89: 704969, 91: 753571, 92: 778688, 94: 830584, 95: 857375, 97: 912673, 98: 941192, 100: 1000000}\n"
     ]
    }
   ],
   "source": [
    "def main():\n",
    "    dict_not_divisible_3 = {n:n**3 for n in range(0,101) if n%3 != 0}\n",
    "    print(dict_not_divisible_3)\n",
    "    \n",
    "    \n",
    "if __name__ == '__main__':\n",
    "    main()"
   ]
  },
  {
   "cell_type": "markdown",
   "metadata": {},
   "source": [
    "Podemos inferir que la estructura de los *Dictionary comprehensions* es la siguiente:\n",
    "\n",
    "```py\n",
    "{key : value for value in iterable if condition}\n",
    ">  Para cada elemento en un iterable, coloca una llave y un valor \n",
    "   solo si cumple la condición.\n",
    "```"
   ]
  },
  {
   "cell_type": "markdown",
   "metadata": {},
   "source": [
    "Como ejercicio realicemos lo siguiente:\n",
    "\n",
    "* Crear un *Dictionary comprehension* que contenga en sus llaves a los primeros 1000 números naturales con sus raíces cuadradas como valores."
   ]
  },
  {
   "cell_type": "code",
   "execution_count": 62,
   "metadata": {},
   "outputs": [
    {
     "name": "stdout",
     "output_type": "stream",
     "text": [
      "Diccionario con los naturales en sus llaves y la raiz en los valores:\n",
      "\n",
      " {0: 0.0, 1: 1.0, 2: 1.4142135623730951, 3: 1.7320508075688772, 4: 2.0, 5: 2.23606797749979, 6: 2.449489742783178, 7: 2.6457513110645907, 8: 2.8284271247461903, 9: 3.0, 10: 3.1622776601683795, 11: 3.3166247903554, 12: 3.4641016151377544, 13: 3.605551275463989, 14: 3.7416573867739413, 15: 3.872983346207417, 16: 4.0, 17: 4.123105625617661, 18: 4.242640687119285, 19: 4.358898943540674, 20: 4.47213595499958, 21: 4.58257569495584, 22: 4.69041575982343, 23: 4.795831523312719, 24: 4.898979485566356, 25: 5.0, 26: 5.0990195135927845, 27: 5.196152422706632, 28: 5.291502622129181, 29: 5.385164807134504, 30: 5.477225575051661, 31: 5.5677643628300215, 32: 5.656854249492381, 33: 5.744562646538029, 34: 5.830951894845301, 35: 5.916079783099616, 36: 6.0, 37: 6.082762530298219, 38: 6.164414002968976, 39: 6.244997998398398, 40: 6.324555320336759, 41: 6.4031242374328485, 42: 6.48074069840786, 43: 6.557438524302, 44: 6.6332495807108, 45: 6.708203932499369, 46: 6.782329983125268, 47: 6.855654600401044, 48: 6.928203230275509, 49: 7.0, 50: 7.0710678118654755, 51: 7.14142842854285, 52: 7.211102550927978, 53: 7.280109889280518, 54: 7.3484692283495345, 55: 7.416198487095663, 56: 7.483314773547883, 57: 7.54983443527075, 58: 7.615773105863909, 59: 7.681145747868608, 60: 7.745966692414834, 61: 7.810249675906654, 62: 7.874007874011811, 63: 7.937253933193772, 64: 8.0, 65: 8.06225774829855, 66: 8.12403840463596, 67: 8.18535277187245, 68: 8.246211251235321, 69: 8.306623862918075, 70: 8.366600265340756, 71: 8.426149773176359, 72: 8.48528137423857, 73: 8.54400374531753, 74: 8.602325267042627, 75: 8.660254037844387, 76: 8.717797887081348, 77: 8.774964387392123, 78: 8.831760866327848, 79: 8.888194417315589, 80: 8.94427190999916, 81: 9.0, 82: 9.055385138137417, 83: 9.1104335791443, 84: 9.16515138991168, 85: 9.219544457292887, 86: 9.273618495495704, 87: 9.327379053088816, 88: 9.38083151964686, 89: 9.433981132056603, 90: 9.486832980505138, 91: 9.539392014169456, 92: 9.591663046625438, 93: 9.643650760992955, 94: 9.695359714832659, 95: 9.746794344808963, 96: 9.797958971132712, 97: 9.848857801796104, 98: 9.899494936611665, 99: 9.9498743710662, 100: 10.0, 101: 10.04987562112089, 102: 10.099504938362077, 103: 10.14889156509222, 104: 10.198039027185569, 105: 10.246950765959598, 106: 10.295630140987, 107: 10.344080432788601, 108: 10.392304845413264, 109: 10.44030650891055, 110: 10.488088481701515, 111: 10.535653752852738, 112: 10.583005244258363, 113: 10.63014581273465, 114: 10.677078252031311, 115: 10.723805294763608, 116: 10.770329614269007, 117: 10.816653826391969, 118: 10.862780491200215, 119: 10.908712114635714, 120: 10.954451150103322, 121: 11.0, 122: 11.045361017187261, 123: 11.090536506409418, 124: 11.135528725660043, 125: 11.180339887498949, 126: 11.224972160321824, 127: 11.269427669584644, 128: 11.313708498984761, 129: 11.357816691600547, 130: 11.40175425099138, 131: 11.445523142259598, 132: 11.489125293076057, 133: 11.532562594670797, 134: 11.575836902790225, 135: 11.61895003862225, 136: 11.661903789690601, 137: 11.704699910719626, 138: 11.74734012447073, 139: 11.789826122551595, 140: 11.832159566199232, 141: 11.874342087037917, 142: 11.916375287812984, 143: 11.958260743101398, 144: 12.0, 145: 12.041594578792296, 146: 12.083045973594572, 147: 12.12435565298214, 148: 12.165525060596439, 149: 12.206555615733702, 150: 12.24744871391589, 151: 12.288205727444508, 152: 12.328828005937952, 153: 12.36931687685298, 154: 12.409673645990857, 155: 12.449899597988733, 156: 12.489995996796797, 157: 12.529964086141668, 158: 12.569805089976535, 159: 12.609520212918492, 160: 12.649110640673518, 161: 12.68857754044952, 162: 12.727922061357855, 163: 12.767145334803704, 164: 12.806248474865697, 165: 12.84523257866513, 166: 12.884098726725126, 167: 12.922847983320086, 168: 12.96148139681572, 169: 13.0, 170: 13.038404810405298, 171: 13.076696830622021, 172: 13.114877048604, 173: 13.152946437965905, 174: 13.19090595827292, 175: 13.228756555322953, 176: 13.2664991614216, 177: 13.30413469565007, 178: 13.341664064126334, 179: 13.379088160259652, 180: 13.416407864998739, 181: 13.45362404707371, 182: 13.490737563232042, 183: 13.527749258468683, 184: 13.564659966250536, 185: 13.601470508735444, 186: 13.638181696985855, 187: 13.674794331177344, 188: 13.711309200802088, 189: 13.74772708486752, 190: 13.784048752090222, 191: 13.820274961085254, 192: 13.856406460551018, 193: 13.892443989449804, 194: 13.92838827718412, 195: 13.96424004376894, 196: 14.0, 197: 14.035668847618199, 198: 14.071247279470288, 199: 14.106735979665885, 200: 14.142135623730951, 201: 14.177446878757825, 202: 14.212670403551895, 203: 14.247806848775006, 204: 14.2828568570857, 205: 14.317821063276353, 206: 14.352700094407323, 207: 14.38749456993816, 208: 14.422205101855956, 209: 14.45683229480096, 210: 14.491376746189438, 211: 14.52583904633395, 212: 14.560219778561036, 213: 14.594519519326424, 214: 14.628738838327793, 215: 14.66287829861518, 216: 14.696938456699069, 217: 14.730919862656235, 218: 14.7648230602334, 219: 14.798648586948742, 220: 14.832396974191326, 221: 14.866068747318506, 222: 14.89966442575134, 223: 14.933184523068078, 224: 14.966629547095765, 225: 15.0, 226: 15.033296378372908, 227: 15.066519173319364, 228: 15.0996688705415, 229: 15.132745950421556, 230: 15.165750888103101, 231: 15.198684153570664, 232: 15.231546211727817, 233: 15.264337522473747, 234: 15.297058540778355, 235: 15.329709716755891, 236: 15.362291495737216, 237: 15.394804318340652, 238: 15.427248620541512, 239: 15.459624833740307, 240: 15.491933384829668, 241: 15.524174696260024, 242: 15.556349186104045, 243: 15.588457268119896, 244: 15.620499351813308, 245: 15.652475842498529, 246: 15.684387141358123, 247: 15.716233645501712, 248: 15.748015748023622, 249: 15.7797338380595, 250: 15.811388300841896, 251: 15.84297951775486, 252: 15.874507866387544, 253: 15.905973720586866, 254: 15.937377450509228, 255: 15.968719422671311, 256: 16.0, 257: 16.0312195418814, 258: 16.06237840420901, 259: 16.09347693943108, 260: 16.1245154965971, 261: 16.15549442140351, 262: 16.186414056238647, 263: 16.217274740226856, 264: 16.24807680927192, 265: 16.278820596099706, 266: 16.30950643030009, 267: 16.34013463836819, 268: 16.3707055437449, 269: 16.401219466856727, 270: 16.431676725154983, 271: 16.46207763315433, 272: 16.492422502470642, 273: 16.522711641858304, 274: 16.55294535724685, 275: 16.583123951777, 276: 16.61324772583615, 277: 16.64331697709324, 278: 16.673332000533065, 279: 16.703293088490067, 280: 16.73320053068151, 281: 16.76305461424021, 282: 16.792855623746664, 283: 16.822603841260722, 284: 16.852299546352718, 285: 16.881943016134134, 286: 16.911534525287763, 287: 16.941074346097416, 288: 16.97056274847714, 289: 17.0, 290: 17.029386365926403, 291: 17.05872210923198, 292: 17.08800749063506, 293: 17.11724276862369, 294: 17.146428199482248, 295: 17.175564037317667, 296: 17.204650534085253, 297: 17.233687939614086, 298: 17.26267650163207, 299: 17.291616465790582, 300: 17.320508075688775, 301: 17.349351572897472, 302: 17.378147196982766, 303: 17.406895185529212, 304: 17.435595774162696, 305: 17.46424919657298, 306: 17.4928556845359, 307: 17.52141546793523, 308: 17.549928774784245, 309: 17.578395831246947, 310: 17.60681686165901, 311: 17.635192088548397, 312: 17.663521732655695, 313: 17.69180601295413, 314: 17.72004514666935, 315: 17.74823934929885, 316: 17.776388834631177, 317: 17.804493814764857, 318: 17.832554500127006, 319: 17.86057109949175, 320: 17.88854381999832, 321: 17.916472867168917, 322: 17.944358444926362, 323: 17.97220075561143, 324: 18.0, 325: 18.027756377319946, 326: 18.05547008526779, 327: 18.083141320025124, 328: 18.110770276274835, 329: 18.138357147217054, 330: 18.16590212458495, 331: 18.193405398660254, 332: 18.2208671582886, 333: 18.24828759089466, 334: 18.275666882497067, 335: 18.303005217723125, 336: 18.33030277982336, 337: 18.35755975068582, 338: 18.384776310850235, 339: 18.411952639521967, 340: 18.439088914585774, 341: 18.466185312619388, 342: 18.49324200890693, 343: 18.520259177452136, 344: 18.547236990991408, 345: 18.57417562100671, 346: 18.601075237738275, 347: 18.627936010197157, 348: 18.65475810617763, 349: 18.681541692269406, 350: 18.708286933869708, 351: 18.734993995195193, 352: 18.76166303929372, 353: 18.788294228055936, 354: 18.81488772222678, 355: 18.841443681416774, 356: 18.867962264113206, 357: 18.894443627691185, 358: 18.920887928424502, 359: 18.947295321496416, 360: 18.973665961010276, 361: 19.0, 362: 19.026297590440446, 363: 19.05255888325765, 364: 19.078784028338912, 365: 19.1049731745428, 366: 19.131126469708992, 367: 19.157244060668017, 368: 19.183326093250876, 369: 19.209372712298546, 370: 19.235384061671343, 371: 19.261360284258224, 372: 19.28730152198591, 373: 19.313207915827967, 374: 19.339079605813716, 375: 19.364916731037084, 376: 19.390719429665317, 377: 19.4164878389476, 378: 19.44222209522358, 379: 19.467922333931785, 380: 19.493588689617926, 381: 19.519221295943137, 382: 19.544820285692065, 383: 19.570385790780925, 384: 19.595917942265423, 385: 19.621416870348583, 386: 19.6468827043885, 387: 19.672315572906, 388: 19.697715603592208, 389: 19.72308292331602, 390: 19.748417658131498, 391: 19.77371993328519, 392: 19.79898987322333, 393: 19.82422760159901, 394: 19.849433241279208, 395: 19.87460691435179, 396: 19.8997487421324, 397: 19.924858845171276, 398: 19.949937343260004, 399: 19.974984355438178, 400: 20.0, 401: 20.024984394500787, 402: 20.049937655763422, 403: 20.074859899884732, 404: 20.09975124224178, 405: 20.12461179749811, 406: 20.149441679609886, 407: 20.174241001832016, 408: 20.199009876724155, 409: 20.223748416156685, 410: 20.248456731316587, 411: 20.273134932713294, 412: 20.29778313018444, 413: 20.322401432901575, 414: 20.346989949375804, 415: 20.37154878746336, 416: 20.396078054371138, 417: 20.42057785666214, 418: 20.445048300260872, 419: 20.46948949045872, 420: 20.493901531919196, 421: 20.518284528683193, 422: 20.54263858417414, 423: 20.566963801203133, 424: 20.591260281974, 425: 20.615528128088304, 426: 20.639767440550294, 427: 20.663978319771825, 428: 20.688160865577203, 429: 20.71231517720798, 430: 20.73644135332772, 431: 20.760539492026695, 432: 20.784609690826528, 433: 20.808652046684813, 434: 20.83266665599966, 435: 20.85665361461421, 436: 20.8806130178211, 437: 20.904544960366874, 438: 20.92844953645635, 439: 20.952326839756964, 440: 20.97617696340303, 441: 21.0, 442: 21.02379604162864, 443: 21.047565179849187, 444: 21.071307505705477, 445: 21.095023109728988, 446: 21.118712081942874, 447: 21.142374511865974, 448: 21.166010488516726, 449: 21.18962010041709, 450: 21.213203435596427, 451: 21.236760581595302, 452: 21.2602916254693, 453: 21.283796653792763, 454: 21.307275752662516, 455: 21.330729007701542, 456: 21.354156504062622, 457: 21.37755832643195, 458: 21.400934559032695, 459: 21.42428528562855, 460: 21.447610589527216, 461: 21.470910553583888, 462: 21.494185260204677, 463: 21.517434791350013, 464: 21.540659228538015, 465: 21.563858652847824, 466: 21.587033144922902, 467: 21.61018278497431, 468: 21.633307652783937, 469: 21.656407827707714, 470: 21.6794833886788, 471: 21.702534414210707, 472: 21.72556098240043, 473: 21.748563170931547, 474: 21.77154105707724, 475: 21.79449471770337, 476: 21.817424229271428, 477: 21.840329667841555, 478: 21.863211109075447, 479: 21.88606862823929, 480: 21.908902300206645, 481: 21.93171219946131, 482: 21.95449840010015, 483: 21.97726097583591, 484: 22.0, 485: 22.02271554554524, 486: 22.045407685048602, 487: 22.06807649071391, 488: 22.090722034374522, 489: 22.11334438749598, 490: 22.135943621178654, 491: 22.15851980616034, 492: 22.181073012818835, 493: 22.20360331117452, 494: 22.22611077089287, 495: 22.24859546128699, 496: 22.271057451320086, 497: 22.293496809607955, 498: 22.315913604421397, 499: 22.338307903688676, 500: 22.360679774997898, 501: 22.38302928559939, 502: 22.40535650240808, 503: 22.427661492005804, 504: 22.44994432064365, 505: 22.47220505424423, 506: 22.494443758403985, 507: 22.516660498395403, 508: 22.538855339169288, 509: 22.561028345356956, 510: 22.58317958127243, 511: 22.60530911091463, 512: 22.627416997969522, 513: 22.64950330581225, 514: 22.67156809750927, 515: 22.693611435820433, 516: 22.715633383201094, 517: 22.737634001804146, 518: 22.759613353482084, 519: 22.781571499789035, 520: 22.80350850198276, 521: 22.825424421026653, 522: 22.847319317591726, 523: 22.869193252058544, 524: 22.891046284519195, 525: 22.9128784747792, 526: 22.93468988235943, 527: 22.956480566497994, 528: 22.978250586152114, 529: 23.0, 530: 23.021728866442675, 531: 23.043437243605826, 532: 23.065125189341593, 533: 23.08679276123039, 534: 23.108440016582687, 535: 23.130067012440755, 536: 23.15167380558045, 537: 23.173260452512935, 538: 23.194827009486403, 539: 23.2163735324878, 540: 23.2379000772445, 541: 23.259406699226016, 542: 23.280893453645632, 543: 23.302360395462088, 544: 23.323807579381203, 545: 23.345235059857504, 546: 23.366642891095847, 547: 23.388031127053, 548: 23.40939982143925, 549: 23.430749027719962, 550: 23.45207879911715, 551: 23.473389188611005, 552: 23.49468024894146, 553: 23.515952032609693, 554: 23.53720459187964, 555: 23.558437978779494, 556: 23.57965224510319, 557: 23.600847442411894, 558: 23.62202362203543, 559: 23.643180835073778, 560: 23.664319132398465, 561: 23.68543856465402, 562: 23.706539182259394, 563: 23.727621035409346, 564: 23.748684174075834, 565: 23.769728648009426, 566: 23.790754506740637, 567: 23.811761799581316, 568: 23.83275057562597, 569: 23.853720883753127, 570: 23.874672772626646, 571: 23.895606290697042, 572: 23.916521486202797, 573: 23.93741840717165, 574: 23.958297101421877, 575: 23.979157616563597, 576: 24.0, 577: 24.020824298928627, 578: 24.041630560342615, 579: 24.06241883103193, 580: 24.08318915758459, 581: 24.1039415863879, 582: 24.124676163629637, 583: 24.145392935299274, 584: 24.166091947189145, 585: 24.186773244895647, 586: 24.20743687382041, 587: 24.228082879171435, 588: 24.24871130596428, 589: 24.269322199023193, 590: 24.289915602982237, 591: 24.310491562286437, 592: 24.331050121192877, 593: 24.351591323771842, 594: 24.372115213907882, 595: 24.392621835300936, 596: 24.413111231467404, 597: 24.43358344574123, 598: 24.454038521274967, 599: 24.474476501040833, 600: 24.49489742783178, 601: 24.515301344262525, 602: 24.535688292770594, 603: 24.55605831561735, 604: 24.576411454889016, 605: 24.596747752497688, 606: 24.61706725018234, 607: 24.63736998950984, 608: 24.657656011875904, 609: 24.677925358506133, 610: 24.698178070456937, 611: 24.71841418861655, 612: 24.73863375370596, 613: 24.758836806279895, 614: 24.779023386727733, 615: 24.79919353527449, 616: 24.819347291981714, 617: 24.839484696748443, 618: 24.859605789312106, 619: 24.879710609249457, 620: 24.899799195977465, 621: 24.919871588754223, 622: 24.939927826679853, 623: 24.95996794869737, 624: 24.979991993593593, 625: 25.0, 626: 25.019992006393608, 627: 25.03996805109783, 628: 25.059928172283335, 629: 25.079872407968907, 630: 25.099800796022265, 631: 25.11971337416094, 632: 25.13961017995307, 633: 25.15949125081825, 634: 25.179356624028344, 635: 25.199206336708304, 636: 25.219040425836983, 637: 25.238858928247925, 638: 25.25866188063018, 639: 25.278449319529077, 640: 25.298221281347036, 641: 25.317977802344327, 642: 25.337718918639855, 643: 25.357444666211933, 644: 25.37715508089904, 645: 25.39685019840059, 646: 25.41653005427767, 647: 25.436194683953808, 648: 25.45584412271571, 649: 25.475478405713993, 650: 25.495097567963924, 651: 25.514701644346147, 652: 25.534290669607408, 653: 25.553864678361276, 654: 25.573423705088842, 655: 25.592967784139454, 656: 25.612496949731394, 657: 25.632011235952593, 658: 25.65151067676132, 659: 25.67099530598687, 660: 25.69046515733026, 661: 25.709920264364882, 662: 25.729360660537214, 663: 25.748786379167466, 664: 25.768197453450252, 665: 25.787593916455254, 666: 25.80697580112788, 667: 25.826343140289914, 668: 25.84569596664017, 669: 25.865034312755125, 670: 25.88435821108957, 671: 25.903667693977237, 672: 25.92296279363144, 673: 25.942243542145693, 674: 25.96150997149434, 675: 25.98076211353316, 676: 26.0, 677: 26.019223662515376, 678: 26.038433132583073, 679: 26.057628441590765, 680: 26.076809620810597, 681: 26.095976701399778, 682: 26.115129714401192, 683: 26.13426869074396, 684: 26.153393661244042, 685: 26.1725046566048, 686: 26.19160170741759, 687: 26.210684844162312, 688: 26.229754097208, 689: 26.248809496813376, 690: 26.267851073127396, 691: 26.28687885618983, 692: 26.30589287593181, 693: 26.324893162176366, 694: 26.343879744638983, 695: 26.362852652928137, 696: 26.38181191654584, 697: 26.40075756488817, 698: 26.419689627245813, 699: 26.43860813280457, 700: 26.457513110645905, 701: 26.476404589747453, 702: 26.49528259898354, 703: 26.514147167125703, 704: 26.5329983228432, 705: 26.551836094703507, 706: 26.570660511172846, 707: 26.589471600616662, 708: 26.60826939130014, 709: 26.627053911388696, 710: 26.645825188948457, 711: 26.664583251946766, 712: 26.68332812825267, 713: 26.70205984563738, 714: 26.720778431774775, 715: 26.739483914241877, 716: 26.758176320519304, 717: 26.77685567799177, 718: 26.795522013948524, 719: 26.814175355583846, 720: 26.832815729997478, 721: 26.851443164195103, 722: 26.870057685088806, 723: 26.888659319497503, 724: 26.90724809414742, 725: 26.92582403567252, 726: 26.94438717061496, 727: 26.962937525425527, 728: 26.981475126464083, 729: 27.0, 730: 27.018512172212592, 731: 27.03701166919155, 732: 27.055498516937366, 733: 27.073972741361768, 734: 27.09243436828813, 735: 27.110883423451916, 736: 27.129319932501073, 737: 27.147743920996454, 738: 27.16615541441225, 739: 27.184554438136374, 740: 27.202941017470888, 741: 27.2213151776324, 742: 27.23967694375247, 743: 27.258026340878022, 744: 27.27636339397171, 745: 27.294688127912362, 746: 27.313000567495326, 747: 27.331300737432898, 748: 27.349588662354687, 749: 27.367864366808018, 750: 27.386127875258307, 751: 27.40437921208944, 752: 27.422618401604176, 753: 27.440845468024488, 754: 27.459060435491963, 755: 27.477263328068172, 756: 27.49545416973504, 757: 27.51363298439521, 758: 27.53179979587241, 759: 27.54995462791182, 760: 27.568097504180443, 761: 27.586228448267445, 762: 27.60434748368452, 763: 27.622454633866266, 764: 27.640549922170507, 765: 27.65863337187866, 766: 27.676705006196094, 767: 27.694764848252458, 768: 27.712812921102035, 769: 27.730849247724095, 770: 27.748873851023216, 771: 27.76688675382964, 772: 27.784887978899608, 773: 27.80287754891569, 774: 27.820855486487112, 775: 27.83882181415011, 776: 27.85677655436824, 777: 27.874719729532707, 778: 27.892651361962706, 779: 27.910571473905726, 780: 27.92848008753788, 781: 27.94637722496424, 782: 27.964262908219126, 783: 27.982137159266443, 784: 28.0, 785: 28.0178514522438, 786: 28.035691537752374, 787: 28.053520278211074, 788: 28.071337695236398, 789: 28.089143810376278, 790: 28.106938645110393, 791: 28.124722220850465, 792: 28.142494558940577, 793: 28.160255680657446, 794: 28.178005607210743, 795: 28.19574435974337, 796: 28.21347195933177, 797: 28.231188426986208, 798: 28.24889378365107, 799: 28.26658805020514, 800: 28.284271247461902, 801: 28.30194339616981, 802: 28.319604517012593, 803: 28.337254630609507, 804: 28.35489375751565, 805: 28.372521918222215, 806: 28.39013913315678, 807: 28.407745422683583, 808: 28.42534080710379, 809: 28.442925306655784, 810: 28.460498941515414, 811: 28.478061731796284, 812: 28.495613697550013, 813: 28.513154858766505, 814: 28.53068523537421, 815: 28.548204847240395, 816: 28.5657137141714, 817: 28.583211855912904, 818: 28.600699292150182, 819: 28.61817604250837, 820: 28.635642126552707, 821: 28.653097563788805, 822: 28.6705423736629, 823: 28.687976575562104, 824: 28.705400188814647, 825: 28.722813232690143, 826: 28.74021572639983, 827: 28.75760768909681, 828: 28.77498913987632, 829: 28.792360097775937, 830: 28.809720581775867, 831: 28.827070610799147, 832: 28.844410203711913, 833: 28.861739379323623, 834: 28.879058156387302, 835: 28.89636655359978, 836: 28.91366458960192, 837: 28.930952282978865, 838: 28.948229652260256, 839: 28.965496715920477, 840: 28.982753492378876, 841: 29.0, 842: 29.017236257093817, 843: 29.03446228191595, 844: 29.0516780926679, 845: 29.068883707497267, 846: 29.086079144497972, 847: 29.103264421710495, 848: 29.120439557122072, 849: 29.13760456866693, 850: 29.154759474226502, 851: 29.171904291629644, 852: 29.189039038652847, 853: 29.206163733020468, 854: 29.223278392404914, 855: 29.24038303442689, 856: 29.257477676655586, 857: 29.274562336608895, 858: 29.29163703175362, 859: 29.30870177950569, 860: 29.32575659723036, 861: 29.34280150224242, 862: 29.359836511806396, 863: 29.376861643136763, 864: 29.393876913398138, 865: 29.410882339705484, 866: 29.427877939124322, 867: 29.444863728670914, 868: 29.46183972531247, 869: 29.478805945967352, 870: 29.49576240750525, 871: 29.512709126747414, 872: 29.5296461204668, 873: 29.546573405388315, 874: 29.563490998188964, 875: 29.58039891549808, 876: 29.597297173897484, 877: 29.614185789921695, 878: 29.631064780058107, 879: 29.647934160747187, 880: 29.664793948382652, 881: 29.68164415931166, 882: 29.698484809834994, 883: 29.715315916207253, 884: 29.732137494637012, 885: 29.748949561287034, 886: 29.765752132274432, 887: 29.782545223670862, 888: 29.79932885150268, 889: 29.816103031751148, 890: 29.832867780352597, 891: 29.8496231131986, 892: 29.866369046136157, 893: 29.88310559496787, 894: 29.899832775452108, 895: 29.916550603303182, 896: 29.93325909419153, 897: 29.949958263743873, 898: 29.966648127543394, 899: 29.9833287011299, 900: 30.0, 901: 30.01666203960727, 902: 30.033314835362415, 903: 30.04995840263344, 904: 30.066592756745816, 905: 30.083217912982647, 906: 30.099833886584822, 907: 30.116440692751194, 908: 30.133038346638727, 909: 30.14962686336267, 910: 30.166206257996713, 911: 30.18277654557314, 912: 30.199337741083, 913: 30.215889859476256, 914: 30.23243291566195, 915: 30.24896692450835, 916: 30.265491900843113, 917: 30.28200785945344, 918: 30.298514815086232, 919: 30.315012782448235, 920: 30.331501776206203, 921: 30.347981810987037, 922: 30.364452901377952, 923: 30.380915061926625, 924: 30.397368307141328, 925: 30.4138126514911, 926: 30.430248109405877, 927: 30.44667469527666, 928: 30.463092423455635, 929: 30.479501308256342, 930: 30.495901363953813, 931: 30.512292604784715, 932: 30.528675044947494, 933: 30.54504869860253, 934: 30.56141357987225, 935: 30.577769702841312, 936: 30.59411708155671, 937: 30.610455730027933, 938: 30.62678566222711, 939: 30.643106892089126, 940: 30.659419433511783, 941: 30.675723300355934, 942: 30.692018506445613, 943: 30.708305065568176, 944: 30.72458299147443, 945: 30.740852297878796, 946: 30.757112998459398, 947: 30.773365106858236, 948: 30.789608636681304, 949: 30.805843601498726, 950: 30.822070014844883, 951: 30.83828789021855, 952: 30.854497241083024, 953: 30.870698080866262, 954: 30.886890422961002, 955: 30.903074280724887, 956: 30.919249667480614, 957: 30.93541659651604, 958: 30.95157508108432, 959: 30.967725134404045, 960: 30.983866769659336, 961: 31.0, 962: 31.016124838541646, 963: 31.0322412983658, 964: 31.04834939252005, 965: 31.064449134018133, 966: 31.080540535840107, 967: 31.096623610932426, 968: 31.11269837220809, 969: 31.12876483254676, 970: 31.144823004794873, 971: 31.160872901765767, 972: 31.176914536239792, 973: 31.192947920964443, 974: 31.20897306865447, 975: 31.22498999199199, 976: 31.240998703626616, 977: 31.25699921617557, 978: 31.272991542223778, 979: 31.28897569432403, 980: 31.304951684997057, 981: 31.32091952673165, 982: 31.336879231984796, 983: 31.352830813181765, 984: 31.368774282716245, 985: 31.38470965295043, 986: 31.400636936215164, 987: 31.416556144810016, 988: 31.432467291003423, 989: 31.448370387032774, 990: 31.464265445104548, 991: 31.480152477394387, 992: 31.496031496047245, 993: 31.51190251317746, 994: 31.52776554086889, 995: 31.54362059117501, 996: 31.559467676119, 997: 31.575306807693888, 998: 31.591137997862628, 999: 31.606961258558215, 1000: 31.622776601683793}\n"
     ]
    }
   ],
   "source": [
    "import math \n",
    "from math import sqrt\n",
    "\n",
    "def main():\n",
    "    dict_naturals_squareroots = {n: sqrt(n) for n in range(1001) }\n",
    "    print('Diccionario con los naturales en sus llaves y la raiz en los valores:\\n\\n'\n",
    "            ,dict_naturals_squareroots)\n",
    "\n",
    "\n",
    "if __name__ == '__main__':\n",
    "    main()"
   ]
  },
  {
   "cell_type": "markdown",
   "metadata": {},
   "source": [
    "---"
   ]
  },
  {
   "cell_type": "markdown",
   "metadata": {},
   "source": [
    "## Módulo 4. Conceptos avanzados de funciones"
   ]
  },
  {
   "cell_type": "markdown",
   "metadata": {},
   "source": [
    "### Funciones anónimas: lambda"
   ]
  },
  {
   "cell_type": "code",
   "execution_count": null,
   "metadata": {},
   "outputs": [],
   "source": []
  }
 ],
 "metadata": {
  "kernelspec": {
   "display_name": "Python 3",
   "language": "python",
   "name": "python3"
  },
  "language_info": {
   "codemirror_mode": {
    "name": "ipython",
    "version": 3
   },
   "file_extension": ".py",
   "mimetype": "text/x-python",
   "name": "python",
   "nbconvert_exporter": "python",
   "pygments_lexer": "ipython3",
   "version": "3.8.3"
  },
  "toc": {
   "base_numbering": "",
   "nav_menu": {},
   "number_sections": false,
   "sideBar": true,
   "skip_h1_title": false,
   "title_cell": "Table of Contents",
   "title_sidebar": "Contents",
   "toc_cell": true,
   "toc_position": {},
   "toc_section_display": true,
   "toc_window_display": false
  }
 },
 "nbformat": 4,
 "nbformat_minor": 4
}
