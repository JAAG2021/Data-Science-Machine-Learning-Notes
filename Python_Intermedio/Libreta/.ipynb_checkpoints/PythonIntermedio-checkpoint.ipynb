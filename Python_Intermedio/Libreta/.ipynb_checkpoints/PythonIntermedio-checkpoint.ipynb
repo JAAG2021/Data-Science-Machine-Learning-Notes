{
 "cells": [
  {
   "cell_type": "markdown",
   "metadata": {
    "toc": true
   },
   "source": [
    "<h1>Table of Contents<span class=\"tocSkip\"></span></h1>\n",
    "<div class=\"toc\"><ul class=\"toc-item\"><li><span><a href=\"#Curso-de-Python-Intermedio\" data-toc-modified-id=\"Curso-de-Python-Intermedio-0\">Curso de Python Intermedio</a></span><ul class=\"toc-item\"><li><span><a href=\"#Módulo-1.-Preparación\" data-toc-modified-id=\"Módulo-1.-Preparación-0.1\">Módulo 1. Preparación</a></span><ul class=\"toc-item\"><li><span><a href=\"#El-Zen-de-Python\" data-toc-modified-id=\"El-Zen-de-Python-0.1.1\">El Zen de Python</a></span></li><li><span><a href=\"#Documentación\" data-toc-modified-id=\"Documentación-0.1.2\">Documentación</a></span></li></ul></li><li><span><a href=\"#Módulo-2.-Entorno-virtual\" data-toc-modified-id=\"Módulo-2.-Entorno-virtual-0.2\">Módulo 2. Entorno virtual</a></span><ul class=\"toc-item\"><li><span><a href=\"#¿Qué-es-un-entorno-virtual?\" data-toc-modified-id=\"¿Qué-es-un-entorno-virtual?-0.2.1\">¿Qué es un entorno virtual?</a></span></li><li><span><a href=\"#Creación-de-un-entorno-virtual\" data-toc-modified-id=\"Creación-de-un-entorno-virtual-0.2.2\">Creación de un entorno virtual</a></span></li><li><span><a href=\"#Instalación-de-dependencias-con-pip\" data-toc-modified-id=\"Instalación-de-dependencias-con-pip-0.2.3\">Instalación de dependencias con pip</a></span></li><li><span><a href=\"#Una-alternativa:-Anaconda\" data-toc-modified-id=\"Una-alternativa:-Anaconda-0.2.4\">Una alternativa: Anaconda</a></span></li></ul></li><li><span><a href=\"#Módulo-3.-Alternativa-a-los-ciclos:-comprehensions\" data-toc-modified-id=\"Módulo-3.-Alternativa-a-los-ciclos:-comprehensions-0.3\">Módulo 3. Alternativa a los ciclos: comprehensions</a></span><ul class=\"toc-item\"><li><span><a href=\"#Listas-y-diccionarios-anidados\" data-toc-modified-id=\"Listas-y-diccionarios-anidados-0.3.1\">Listas y diccionarios anidados</a></span><ul class=\"toc-item\"><li><span><a href=\"#Listas:\" data-toc-modified-id=\"Listas:-0.3.1.1\">Listas:</a></span></li><li><span><a href=\"#Tuplas-y-secuencias:\" data-toc-modified-id=\"Tuplas-y-secuencias:-0.3.1.2\">Tuplas y secuencias:</a></span></li><li><span><a href=\"#Diccionarios:\" data-toc-modified-id=\"Diccionarios:-0.3.1.3\">Diccionarios:</a></span></li></ul></li><li><span><a href=\"#List-Comprehensions\" data-toc-modified-id=\"List-Comprehensions-0.3.2\">List Comprehensions</a></span></li><li><span><a href=\"#Dictionary-comprehensions\" data-toc-modified-id=\"Dictionary-comprehensions-0.3.3\">Dictionary comprehensions</a></span></li></ul></li><li><span><a href=\"#Módulo-4.-Conceptos-avanzados-de-funciones\" data-toc-modified-id=\"Módulo-4.-Conceptos-avanzados-de-funciones-0.4\">Módulo 4. Conceptos avanzados de funciones</a></span><ul class=\"toc-item\"><li><span><a href=\"#Funciones-anónimas:-lambda\" data-toc-modified-id=\"Funciones-anónimas:-lambda-0.4.1\">Funciones anónimas: lambda</a></span></li><li><span><a href=\"#High-order-functions:-filter,-map-y-reduce\" data-toc-modified-id=\"High-order-functions:-filter,-map-y-reduce-0.4.2\">High order functions: filter, map y reduce</a></span><ul class=\"toc-item\"><li><span><a href=\"#filter():\" data-toc-modified-id=\"filter():-0.4.2.1\"><code>filter()</code>:</a></span></li><li><span><a href=\"#map():\" data-toc-modified-id=\"map():-0.4.2.2\"><code>map()</code>:</a></span></li><li><span><a href=\"#reduce():\" data-toc-modified-id=\"reduce():-0.4.2.3\"><code>reduce()</code>:</a></span></li></ul></li><li><span><a href=\"#Proyecto:-Filtrando-datos\" data-toc-modified-id=\"Proyecto:-Filtrando-datos-0.4.3\">Proyecto: Filtrando datos</a></span></li></ul></li><li><span><a href=\"#Módulo-5.-Manejo-de-errores\" data-toc-modified-id=\"Módulo-5.-Manejo-de-errores-0.5\">Módulo 5. Manejo de errores</a></span><ul class=\"toc-item\"><li><span><a href=\"#Los-errores-en-el-código\" data-toc-modified-id=\"Los-errores-en-el-código-0.5.1\">Los errores en el código</a></span><ul class=\"toc-item\"><li><span><a href=\"#Errores-de-sintaxis\" data-toc-modified-id=\"Errores-de-sintaxis-0.5.1.1\">Errores de sintaxis</a></span></li><li><span><a href=\"#Excepciones\" data-toc-modified-id=\"Excepciones-0.5.1.2\">Excepciones</a></span></li><li><span><a href=\"#Traceback\" data-toc-modified-id=\"Traceback-0.5.1.3\">Traceback</a></span></li></ul></li><li><span><a href=\"#Debugging-o-depuración\" data-toc-modified-id=\"Debugging-o-depuración-0.5.2\">Debugging o depuración</a></span><ul class=\"toc-item\"><li><span><a href=\"#BreakPoints\" data-toc-modified-id=\"BreakPoints-0.5.2.1\">BreakPoints</a></span></li></ul></li><li><span><a href=\"#Manejo-de-excepciones\" data-toc-modified-id=\"Manejo-de-excepciones-0.5.3\">Manejo de excepciones</a></span><ul class=\"toc-item\"><li><span><a href=\"#Try-/-Except:\" data-toc-modified-id=\"Try-/-Except:-0.5.3.1\"><code>Try / Except</code>:</a></span></li><li><span><a href=\"#raise:\" data-toc-modified-id=\"raise:-0.5.3.2\"><code>raise</code>:</a></span></li><li><span><a href=\"#finally:\" data-toc-modified-id=\"finally:-0.5.3.3\"><code>finally</code>:</a></span></li></ul></li><li><span><a href=\"#Poniendo-a-prueba-el-manejo-de-excepciones\" data-toc-modified-id=\"Poniendo-a-prueba-el-manejo-de-excepciones-0.5.4\">Poniendo a prueba el manejo de excepciones</a></span></li><li><span><a href=\"#Assert-statements\" data-toc-modified-id=\"Assert-statements-0.5.5\">Assert statements</a></span></li></ul></li><li><span><a href=\"#Módulo-6.-Manejo-de-archivos\" data-toc-modified-id=\"Módulo-6.-Manejo-de-archivos-0.6\">Módulo 6. Manejo de archivos</a></span><ul class=\"toc-item\"><li><span><a href=\"#¿Cómo-trabajar-con-archivos?\" data-toc-modified-id=\"¿Cómo-trabajar-con-archivos?-0.6.1\">¿Cómo trabajar con archivos?</a></span></li><li><span><a href=\"#Trabajando-con-archivos-de-texto-en-Python\" data-toc-modified-id=\"Trabajando-con-archivos-de-texto-en-Python-0.6.2\">Trabajando con archivos de texto en Python</a></span></li></ul></li><li><span><a href=\"#Conclusiones.\" data-toc-modified-id=\"Conclusiones.-0.7\">Conclusiones.</a></span><ul class=\"toc-item\"><li><span><a href=\"#Programa-final:-Hangman-Game\" data-toc-modified-id=\"Programa-final:-Hangman-Game-0.7.1\">Programa final: Hangman Game</a></span><ul class=\"toc-item\"><li><span><a href=\"#Ayudas-y-pistas:\" data-toc-modified-id=\"Ayudas-y-pistas:-0.7.1.1\">Ayudas y pistas:</a></span></li><li><span><a href=\"#Posibles-mejoras-al-juego:\" data-toc-modified-id=\"Posibles-mejoras-al-juego:-0.7.1.2\">Posibles mejoras al juego:</a></span></li><li><span><a href=\"#Código:\" data-toc-modified-id=\"Código:-0.7.1.3\">Código:</a></span></li></ul></li></ul></li></ul></li></ul></div>"
   ]
  },
  {
   "cell_type": "markdown",
   "metadata": {},
   "source": [
    "---\n",
    "\n",
    "# Curso de Python Intermedio"
   ]
  },
  {
   "cell_type": "markdown",
   "metadata": {},
   "source": [
    "## Módulo 1. Preparación"
   ]
  },
  {
   "cell_type": "markdown",
   "metadata": {},
   "source": [
    "### El Zen de Python"
   ]
  },
  {
   "cell_type": "markdown",
   "metadata": {},
   "source": [
    "Es una colección de 20 principios de software que influyen en el diseño del lenguaje, de los cuales 19 fueron escritos por Tim Peters. "
   ]
  },
  {
   "cell_type": "markdown",
   "metadata": {},
   "source": [
    "Como easter egg podemos acceder a este Zen de Python desde la terminal con el comando:"
   ]
  },
  {
   "cell_type": "code",
   "execution_count": 44,
   "metadata": {},
   "outputs": [
    {
     "name": "stdout",
     "output_type": "stream",
     "text": [
      "The Zen of Python, by Tim Peters\n",
      "\n",
      "Beautiful is better than ugly.\n",
      "Explicit is better than implicit.\n",
      "Simple is better than complex.\n",
      "Complex is better than complicated.\n",
      "Flat is better than nested.\n",
      "Sparse is better than dense.\n",
      "Readability counts.\n",
      "Special cases aren't special enough to break the rules.\n",
      "Although practicality beats purity.\n",
      "Errors should never pass silently.\n",
      "Unless explicitly silenced.\n",
      "In the face of ambiguity, refuse the temptation to guess.\n",
      "There should be one-- and preferably only one --obvious way to do it.\n",
      "Although that way may not be obvious at first unless you're Dutch.\n",
      "Now is better than never.\n",
      "Although never is often better than *right* now.\n",
      "If the implementation is hard to explain, it's a bad idea.\n",
      "If the implementation is easy to explain, it may be a good idea.\n",
      "Namespaces are one honking great idea -- let's do more of those!\n"
     ]
    }
   ],
   "source": [
    "import this"
   ]
  },
  {
   "cell_type": "markdown",
   "metadata": {},
   "source": [
    "---\n",
    "\n",
    "### Documentación"
   ]
  },
  {
   "cell_type": "markdown",
   "metadata": {},
   "source": [
    "Documentar el código de un programa es añadir suficiente información como para explicar lo que hace, punto por punto, de forma que no sólo los ordenadores sepan qué hacer, sino que además los humanos entiendan qué están haciendo y por qué.\n",
    "\n",
    "Documentar un programa no es sólo una buena práctica de un programador, si no que además, es una necesidad que sólo se aprecia en su debida magnitud cuando hay errores que reparar o hay que entender el programa con nuevas capacidades o adaptarlo a un nuevo escenario. Hay 2 cosas que hay que tener en mente:\n",
    "\n",
    "1. Todos los programas tienen errores y descubrirlos es sólo cuestión de tiempo y de que el programa tenga éxito y se utilice frecuentemente o por una gran cantidad de usuarios.\n",
    "    \n",
    "    \n",
    "2. Todos los programas sufren modificaciones a lo largo de su vida, al menos todos aquellos que tienen éxito."
   ]
  },
  {
   "cell_type": "markdown",
   "metadata": {},
   "source": [
    "En la documentación de Python podemos encontrar todas las novedades que se agregan en cada actualización, tutoriales para entender cómo funciona cada una de sus funciones y en general todo el lenguaje en su nivel más fundamental y con más detalle, descripciones de la sintaxis y los elementos del lenguaje entre muchas otras cosas."
   ]
  },
  {
   "cell_type": "markdown",
   "metadata": {},
   "source": [
    "[Python 3.9.4 documentation](https://docs.python.org/3/)"
   ]
  },
  {
   "cell_type": "markdown",
   "metadata": {},
   "source": [
    "También tenemos algo llamado PEP o Propuestas de Mejora de Python, que es una guía de estilo adoptada ampliamente por la comunidad de Python. Facilita la lectura del código y hace más homogéneo el código entre diferentes programadores.\n",
    "\n",
    "Son documentos que nos dicen como funciona el lenguaje y como deberíamos escribir nuestros códigos de manera correcta. Entre todos los PEP destaca el PEP8 ya que es una guía que nos dice como deberíamos de escribir código, buenas prácticas, como seleccionar los nombres de clase, como trabajar la indentación, etc."
   ]
  },
  {
   "cell_type": "markdown",
   "metadata": {},
   "source": [
    "[PEP 8 -- Style Guide for Python Code](https://www.python.org/dev/peps/pep-0008/)\n",
    "\n",
    "[Fragmento de la documentación PDF](https://drive.google.com/file/d/1dSYgA7Xonw1XLMcjrsMXSqDUWLlqi-57/view)\n",
    "\n",
    "---"
   ]
  },
  {
   "cell_type": "markdown",
   "metadata": {},
   "source": [
    "## Módulo 2. Entorno virtual"
   ]
  },
  {
   "cell_type": "markdown",
   "metadata": {},
   "source": [
    "### ¿Qué es un entorno virtual?"
   ]
  },
  {
   "cell_type": "markdown",
   "metadata": {},
   "source": [
    "Primero, recordemos el concepto de módulo. Un módulo es un fragmento de código escrito por otra persona que a nosotros nos sirve para resolver determinado problema. De forma que no tengamos que escribir de nuevo todo ese código por nuestra cuenta y en su lugar, aprovechemos de herramientas que ya han sido creadas y compartidas por otros usuarios.\n",
    "\n",
    "Por ejemplo, anteriormente ya hemos importado el módulo `random` que nos permite trabajar con números aleatorios."
   ]
  },
  {
   "cell_type": "markdown",
   "metadata": {},
   "source": [
    "![](https://i.imgur.com/Mcd2izU.png)"
   ]
  },
  {
   "cell_type": "markdown",
   "metadata": {},
   "source": [
    "Ahora hablemos de ambientes o entornos virtuales, imaginemos primero a nuestra computadora que ya tiene instalado Python y tenemos varios proyectos en los que estamos trabajando. Dependiendo del problema en el que estamos trabajando en cada proyecto nos puede interesar tener varios módulos con los que trabajar, por ejemplo, random, herramientas de gráficado, etc. \n",
    "\n",
    "El problema es que si tenemos todo instalado en nuestro ambiente local (principal) puede que en un momento todo funcione correctamente, pero hay veces donde con las actualizaciones de ciertos módulos podamos tener ciertos problemas. Por ejemplo, hay ocasiones donde el Módulo 2 se actualiza y este tiene problema o deja de ser compatible con el Módulo 1, por lo que nos trae problemas en todos nuestros proyectos al tenerlos instalados simultáneamente en todo nuestro ambiente. \n",
    "\n",
    "Puede que en el proyecto 1 solo nos interesa tener instalado el módulo 2 y en el proyecto 2 el módulo 1, por lo que no tendría que haber problemas de incompatibilidad si los tuvieramos instalados por separado. De aquí es donde sale la necesidad de los *entornos virtuales*."
   ]
  },
  {
   "cell_type": "markdown",
   "metadata": {},
   "source": [
    "Lo que queremos lograr con los ambientes virtuales es, por así decirlo, dividir o seccionar nuestro computador en varias partes donde cada parte funciona correctamente con Python y los módulos que queremos usar en cada proyecto."
   ]
  },
  {
   "cell_type": "markdown",
   "metadata": {},
   "source": [
    "![](https://i.imgur.com/RANUzbx.png)"
   ]
  },
  {
   "cell_type": "markdown",
   "metadata": {},
   "source": [
    "Podemos imaginarlo como si estuvieramos clonando el lenguaje de programación en \"varios lenguajes independientes\", que más bien serían extensiones del lenguaje. Por lo que al momento de actualizar los módulos, nosotros podemos elegir en que proyecto queremos actualizarlos y en cuales no para evitar problemas de compatibilidad."
   ]
  },
  {
   "cell_type": "markdown",
   "metadata": {},
   "source": [
    "![](https://i.imgur.com/wSQ3eto.png)\n",
    "\n",
    "---"
   ]
  },
  {
   "cell_type": "markdown",
   "metadata": {},
   "source": [
    "### Creación de un entorno virtual"
   ]
  },
  {
   "cell_type": "markdown",
   "metadata": {},
   "source": [
    "Para empezar a crear nuestro ambiente virtual vamos a realizar los siguientes pasos:"
   ]
  },
  {
   "cell_type": "markdown",
   "metadata": {},
   "source": [
    "1. Crear una nueva carpeta destinada al proyecto (con `mkdir nombre_de_la_carpeta` desde la terminal).\n",
    "\n",
    "\n",
    "2. Nos posicionamos en la carpeta que creamos (`cd nombre_de_la_carpeta`)\n",
    "\n",
    "\n",
    "3. Como buena práctica inicializamos a la carpeta como un repositorio de Git, para mantener un control de las versiones (`git init`).  Esto nos posicionará en la rama *Master* o *Main* dependiendo la versión y configuración de Git.\n",
    "\n",
    "\n",
    "4. Creamos un \"Python nuevo\", que es el que va a correr en nuestro proyecto \n",
    "\n",
    "    * `py -m venv nombre_del_entorno_virtual` para windows \n",
    "    * `python3 -m venv nombre_del_entorno_virtual` para un sistema de linux. \n",
    "    \n",
    "    Donde `-m` hace referencia a que llamaremos a un módulo del lenguaje y `venv` significa *Virtual Enviorement*. Y por convención el nombre del ambiente suele ser `venv` o `env` . De forma que el comando completo con la convención nos quedaría así:\n",
    "    \n",
    "     `py -m venv venv`\n",
    "     \n",
    "     `py -m venv env`\n",
    "     \n",
    "     \n",
    "5. Una vez que ya está creado nuestro ambiente virtual verificamos que este correctamente creado con el comando `ls` que nos muestra los archivos y carpetas para posteriormente, activar nuestro ambiente virtual. El comando que nos permite activar el ambiente virtual se encuentra en la carpeta `Scripts/` dentro de `venv/`, por lo que para activarlo tendremos que usar la siguiente instrucción:\n",
    "    \n",
    "    * Windows: `.\\venv\\Scripts\\activate` o `.\\venv\\Scripts\\activate.bat`\n",
    "    \n",
    "    * Linux/Mac: `source venv/bin/activate`\n",
    "    \n",
    "    Para salir del ambiente basta con usar el comando:\n",
    "    \n",
    "    `deactivate`\n",
    "    \n",
    "    Para que no sea tan tedioso escribir toda la ruta al activar nuestro ambiente virtual podemos crear un *alias* para acortar el tiempo en el que entramos, en Windows se crea de la siguiente forma:\n",
    "    \n",
    "    `alias nombre_del_alias=.\\venv\\Scripts\\activate.bat`\n",
    "    \n",
    "    `avenv=.\\venv\\Scripts\\activate.bat`\n",
    "    \n",
    "    Y para acceder solo tendríamos que hacer una llamada al comando\n",
    "    \n",
    "    `avenv`\n",
    "\n",
    "Para el caso de sistemas Linux o Mac también podemos usar el alias, pero una vez salimos de la terminal se borrará, por lo que no es de mucha utilidad.\n",
    "\n",
    "---"
   ]
  },
  {
   "cell_type": "markdown",
   "metadata": {},
   "source": [
    "### Instalación de dependencias con pip"
   ]
  },
  {
   "cell_type": "markdown",
   "metadata": {},
   "source": [
    "Dentro de Python tenemos incorporados algunos módulos que por así decirlo, ya vienen incorporados \"de fabrica\", por lo que no tenemos que realizar ninguna instalación extra. Otra historia muy diferente es cuando queremos utilizar ciertos módulos o librerías como *numpy, qiskit, pandas, Pytest, etc*. Los cuales si bien están dentro de Python, no vienen incorporados desde el inicio en nuestro sistema, así que tendremos que realizar una instalación.\n",
    "\n",
    "Para realizar la instalación tenemos que hacer uso de un manejador o instalador de dependencias, en este caso utilizaremos PIP (Package Installer for Python). Básicamente es un módulo que viene incorporado \"de fabrica\" que nos permite instalar de forma más cómoda todos esos módulos extras que queremos incorporar a Python.\n",
    "\n",
    "**NOTA:** Como buena práctica, deberíamos utilizar PIP únicamente dentro de nuestro ambiente virtual. Al menos de que sea un paquete que estamos seguros de que utilizaremos en cada uno de nuestros proyectos, lo cual es algo poco común."
   ]
  },
  {
   "cell_type": "markdown",
   "metadata": {},
   "source": [
    "Para realizar nuestras instalaciones de paquetes con PIP debemos de seguir los siguientes pasos:\n",
    "\n",
    "1. Activar nuestro entorno virtual, para que los paquetes solo se instalen ahí y no tengamos problemas futuros con sus actualizaciones.\n",
    "\n",
    "\n",
    "2. Podemos verificar los paquetes que tenemos instalados usando el comando: \n",
    "\n",
    "    `pip freeze` en windows \n",
    "    \n",
    "    `pip3` en algunos casos de linux o Mac\n",
    "    \n",
    "    \n",
    "3. Realizamos la instalación de la siguiente forma, en este caso instalaremos el módulo Pandas como ejemplo:\n",
    "\n",
    "    `pip install pandas`\n",
    "    \n",
    "    En el caso de Pandas podremos notar que se instalan diferentes paquetes, esto es por que Pandas es un módulo muy complejo y depende de otros paquetes. Al realizar la instalación de Pandas ya incluirá el resto de paquetes que necesite para funcionar por si mismo. Si hacemos de nuevo el comando `pip freeze` veremos que ahora tenemos instalados los siguientes módulos:\n",
    "    \n",
    "    * numpy==1.20.2 \n",
    "    * pandas==1.2.4 \n",
    "    * python-dateutil==2.8.1 \n",
    "    * pytz==2021.1 \n",
    "    * six==1.15.0\n",
    "    \n",
    "   En JavaScript teníamos algo muy similar a `pip` al utilizar el comando `npm`.\n",
    "    \n",
    "    \n",
    "4. Una vez realizada la instalación podremos hacer uso de dicho módulo en todos los proyectos que creemos dentro de esa carpeta.\n",
    "\n",
    "**NOTA:** En caso de ser necesario, podemos actualizar PIP con el comando:\n",
    "\n",
    "`py -m pip install --upgrade pip`"
   ]
  },
  {
   "cell_type": "markdown",
   "metadata": {},
   "source": [
    "Ahora, **¿Que pasaría cuando queremos compartir un proyecto con alguien más y estamos haciendo uso de muchos módulos extras que tuvimos que instalar independientemente?** Para que esa persona pueda utilizar tu programa tendría que tener instaladas las mismas dependencias y paquetes que tú, las mismas versiones, etc.\n",
    "\n",
    "Para arreglar eso podemos compartir nuestro archivo de dependencias con el comando:\n",
    "\n",
    "`pip freeze > requirements.txt`\n",
    "\n",
    "Lo que hace este comando es guardar las dependencias con sus respectivas versiones para poder compartir el proyecto con otra persona. \n",
    "\n",
    "Una vez hecho esto, tendremos en nuestra carpeta el archivo `requirements.txt`. Si estamos en consola podemos abrir este archivo con el comando `cat`.\n",
    "\n",
    "`cat requirements.txt`\n",
    "\n",
    "y nos aparecen las dependencias que guardamos de nuestro proyecto."
   ]
  },
  {
   "cell_type": "markdown",
   "metadata": {},
   "source": [
    "Una vez hemos compartido nuestro proyecto, por ejemplo en GitHub y alguien más lo ha clonado en su propio equipo local. Lo único que tiene que hacer para utilizar tu proyecto con exactamente las mismas dependencias es:\n",
    "\n",
    "1. Crear y activar su entorno virtual\n",
    "\n",
    "\n",
    "2. Usar el comando:\n",
    "\n",
    "    `pip install -r requirements.txt`\n",
    "    \n",
    "---"
   ]
  },
  {
   "cell_type": "markdown",
   "metadata": {},
   "source": [
    "### Una alternativa: Anaconda"
   ]
  },
  {
   "cell_type": "markdown",
   "metadata": {},
   "source": [
    "Anaconda es una distribución especial de Python, es un software pensado para el Data Science. Es uns distribución que nos permite crear ambientes virtuales e instalar dependencias de una manera gráfica. Es muy buena opción para ciencia de datos, pero para otras aplicaciones como backend es mejor utilizar pip u otros instaladores de paquetes."
   ]
  },
  {
   "cell_type": "markdown",
   "metadata": {},
   "source": [
    "Para instalar Anaconda tenemos que ir al [sitio oficial](https://www.anaconda.com/products/individual) donde podemos descargar los instaladores gráficos de Anaconda, excepto si estamos utilizando Linux ya que ahí tendremos que instalarlo desde la consola. \n",
    "\n",
    "Una vez descargado, ejecutamos y nos va abrir un instalador de windows de toda la vida, una vez llegando a la siguiente parte es importante que desmarquemos estas 2 opciones ya que pueden afectar el funcionamiento de Python:"
   ]
  },
  {
   "cell_type": "markdown",
   "metadata": {},
   "source": [
    "![](https://i.imgur.com/aDNK1vv.png)"
   ]
  },
  {
   "cell_type": "markdown",
   "metadata": {},
   "source": [
    "Una vez esta instalado podemos acceder desde nuestras aplicaciones a `Anaconda Navigator`"
   ]
  },
  {
   "cell_type": "markdown",
   "metadata": {},
   "source": [
    "Al abrirlo tendremos una ventana como la siguiente:\n",
    "\n",
    "![](https://i.imgur.com/DaRHFEx.png)"
   ]
  },
  {
   "cell_type": "markdown",
   "metadata": {},
   "source": [
    "Y podemos crear ambientes virtuales de forma gráfica en la siguiente pestaña:\n",
    "\n",
    "![](https://i.imgur.com/UHMIDfY.png)"
   ]
  },
  {
   "cell_type": "markdown",
   "metadata": {},
   "source": [
    "A diferencia de PIP, con Anaconda ya tendremos instaladas varias dependencias de base que son utilizadas comúnmente en la ciencia de datos.\n",
    "\n",
    "---"
   ]
  },
  {
   "cell_type": "markdown",
   "metadata": {},
   "source": [
    "## Módulo 3. Alternativa a los ciclos: comprehensions"
   ]
  },
  {
   "cell_type": "markdown",
   "metadata": {},
   "source": [
    "### Listas y diccionarios anidados"
   ]
  },
  {
   "cell_type": "markdown",
   "metadata": {},
   "source": [
    "**NOTA:** Cuando creamos un ambiente virtual en una carpeta que posteriormente subiremos a Git y GitHub tendremos que crear un archivo `.gitignore` en nuestra carpeta donde haremos el ambiente virtual para no llevarnos los archivos del ambiente virtual al repositorio.\n",
    "\n",
    "Una vez creamos este archivo escribimos `venv/`, de está manera ignorará todos los datos que tengamos en esa carpeta."
   ]
  },
  {
   "cell_type": "markdown",
   "metadata": {},
   "source": [
    "Ahora, hablemos un poco sobre estructuras de datos. Entre ellas tenemos listas, diccionarios y tuplas; *recordemos rápidamente cada una de ellas*."
   ]
  },
  {
   "cell_type": "markdown",
   "metadata": {},
   "source": [
    "#### Listas:"
   ]
  },
  {
   "cell_type": "markdown",
   "metadata": {},
   "source": [
    "Python tiene varios tipos de datos compuestos, utilizados para agrupar otros valores. El más versátil es la *lista*, la cual puede ser escrita como una lista de valores separados por coma (items) entre corchetes. Las listas pueden contener ítems de diferentes tipos, pero usualmente los ítems son del mismo tipo."
   ]
  },
  {
   "cell_type": "code",
   "execution_count": 45,
   "metadata": {},
   "outputs": [],
   "source": [
    "lista = [1, 34, 5435, 6, 878, 989, 9]"
   ]
  },
  {
   "cell_type": "markdown",
   "metadata": {},
   "source": [
    "al igual que las cadenas (y todas las demás tipos de integrados sequence), las listas se pueden indexar y segmentar."
   ]
  },
  {
   "cell_type": "code",
   "execution_count": 46,
   "metadata": {},
   "outputs": [
    {
     "data": {
      "text/plain": [
       "1"
      ]
     },
     "execution_count": 46,
     "metadata": {},
     "output_type": "execute_result"
    }
   ],
   "source": [
    "lista[0]"
   ]
  },
  {
   "cell_type": "code",
   "execution_count": 47,
   "metadata": {},
   "outputs": [
    {
     "data": {
      "text/plain": [
       "9"
      ]
     },
     "execution_count": 47,
     "metadata": {},
     "output_type": "execute_result"
    }
   ],
   "source": [
    "lista[-1]"
   ]
  },
  {
   "cell_type": "code",
   "execution_count": 48,
   "metadata": {},
   "outputs": [
    {
     "data": {
      "text/plain": [
       "878"
      ]
     },
     "execution_count": 48,
     "metadata": {},
     "output_type": "execute_result"
    }
   ],
   "source": [
    "lista[-3]"
   ]
  },
  {
   "cell_type": "markdown",
   "metadata": {},
   "source": [
    "Todas las operaciones de rebanado retornan una nueva lista que contiene los elementos pedidos. Esto significa que la siguiente rebanada retorna una shallow copy de la lista."
   ]
  },
  {
   "cell_type": "code",
   "execution_count": 49,
   "metadata": {},
   "outputs": [
    {
     "data": {
      "text/plain": [
       "[1, 34, 5435, 6, 878, 989, 9]"
      ]
     },
     "execution_count": 49,
     "metadata": {},
     "output_type": "execute_result"
    }
   ],
   "source": [
    "lista[:]"
   ]
  },
  {
   "cell_type": "markdown",
   "metadata": {},
   "source": [
    "También admiten operaciones como concatenación:"
   ]
  },
  {
   "cell_type": "code",
   "execution_count": 50,
   "metadata": {},
   "outputs": [
    {
     "data": {
      "text/plain": [
       "[1, 34, 5435, 6, 878, 989, 9, 36, 49, 54, 846, 200]"
      ]
     },
     "execution_count": 50,
     "metadata": {},
     "output_type": "execute_result"
    }
   ],
   "source": [
    "lista + [36, 49, 54, 846, 200]"
   ]
  },
  {
   "cell_type": "markdown",
   "metadata": {},
   "source": [
    "A diferencia de las cadenas, que son *inmutables*, las listas son de tipo *mutable*, es decir, pueden cambiar su contenido:"
   ]
  },
  {
   "cell_type": "code",
   "execution_count": 51,
   "metadata": {},
   "outputs": [],
   "source": [
    "lista2 = [1,2,3,4,5]"
   ]
  },
  {
   "cell_type": "code",
   "execution_count": 52,
   "metadata": {},
   "outputs": [],
   "source": [
    "lista2[3] = 600"
   ]
  },
  {
   "cell_type": "code",
   "execution_count": 53,
   "metadata": {},
   "outputs": [
    {
     "data": {
      "text/plain": [
       "[1, 2, 3, 600, 5]"
      ]
     },
     "execution_count": 53,
     "metadata": {},
     "output_type": "execute_result"
    }
   ],
   "source": [
    "lista2"
   ]
  },
  {
   "cell_type": "markdown",
   "metadata": {},
   "source": [
    "También puede agregar nuevos elementos al final de la lista, utilizando el método `append()`:"
   ]
  },
  {
   "cell_type": "code",
   "execution_count": 54,
   "metadata": {},
   "outputs": [],
   "source": [
    "lista2.append(2500)"
   ]
  },
  {
   "cell_type": "code",
   "execution_count": 55,
   "metadata": {},
   "outputs": [],
   "source": [
    "lista2.append(5*5*5*5)"
   ]
  },
  {
   "cell_type": "code",
   "execution_count": 56,
   "metadata": {},
   "outputs": [
    {
     "data": {
      "text/plain": [
       "[1, 2, 3, 600, 5, 2500, 625]"
      ]
     },
     "execution_count": 56,
     "metadata": {},
     "output_type": "execute_result"
    }
   ],
   "source": [
    "lista2"
   ]
  },
  {
   "cell_type": "markdown",
   "metadata": {},
   "source": [
    "También es posible asignar una rebanada, y esto incluso puede cambiar la longitud de la lista o vaciarla completamente:"
   ]
  },
  {
   "cell_type": "code",
   "execution_count": 57,
   "metadata": {},
   "outputs": [],
   "source": [
    "lista3 = ['a','b','c','d','e','f','g']"
   ]
  },
  {
   "cell_type": "code",
   "execution_count": 58,
   "metadata": {},
   "outputs": [
    {
     "data": {
      "text/plain": [
       "['a', 'b', 'c', 'd', 'e', 'f', 'g']"
      ]
     },
     "execution_count": 58,
     "metadata": {},
     "output_type": "execute_result"
    }
   ],
   "source": [
    "lista3"
   ]
  },
  {
   "cell_type": "code",
   "execution_count": 59,
   "metadata": {},
   "outputs": [],
   "source": [
    "#Reemplazamos algunos de los valores\n",
    "lista3[2:5] = ['C','D','E']"
   ]
  },
  {
   "cell_type": "code",
   "execution_count": 60,
   "metadata": {},
   "outputs": [
    {
     "data": {
      "text/plain": [
       "['a', 'b', 'C', 'D', 'E', 'f', 'g']"
      ]
     },
     "execution_count": 60,
     "metadata": {},
     "output_type": "execute_result"
    }
   ],
   "source": [
    "lista3"
   ]
  },
  {
   "cell_type": "code",
   "execution_count": 61,
   "metadata": {},
   "outputs": [],
   "source": [
    "#Removemos un item \n",
    "lista3[2:5] = []"
   ]
  },
  {
   "cell_type": "code",
   "execution_count": 62,
   "metadata": {},
   "outputs": [
    {
     "data": {
      "text/plain": [
       "['a', 'b', 'f', 'g']"
      ]
     },
     "execution_count": 62,
     "metadata": {},
     "output_type": "execute_result"
    }
   ],
   "source": [
    "lista3"
   ]
  },
  {
   "cell_type": "code",
   "execution_count": 63,
   "metadata": {},
   "outputs": [],
   "source": [
    "#Limpiamos la lista reemplazando TODOS los elementos por una lista vacía\n",
    "lista3[:] = []"
   ]
  },
  {
   "cell_type": "code",
   "execution_count": 64,
   "metadata": {},
   "outputs": [
    {
     "data": {
      "text/plain": [
       "[]"
      ]
     },
     "execution_count": 64,
     "metadata": {},
     "output_type": "execute_result"
    }
   ],
   "source": [
    "lista3"
   ]
  },
  {
   "cell_type": "markdown",
   "metadata": {},
   "source": [
    "La función predefinida `len()` también sirve para las listas (devuelve la longitud):"
   ]
  },
  {
   "cell_type": "code",
   "execution_count": 65,
   "metadata": {},
   "outputs": [],
   "source": [
    "lista4 = ['a','sas','sadsdas','trwetre','dasag']"
   ]
  },
  {
   "cell_type": "code",
   "execution_count": 66,
   "metadata": {},
   "outputs": [
    {
     "data": {
      "text/plain": [
       "5"
      ]
     },
     "execution_count": 66,
     "metadata": {},
     "output_type": "execute_result"
    }
   ],
   "source": [
    "len(lista4)"
   ]
  },
  {
   "cell_type": "markdown",
   "metadata": {},
   "source": [
    "Es posible anidar listar (crear listas que contengan otras listas), por ejemplo:"
   ]
  },
  {
   "cell_type": "code",
   "execution_count": 67,
   "metadata": {},
   "outputs": [],
   "source": [
    "lista5 = ['a', 'b', 'c']\n",
    "lista6 = [1,2,3]\n",
    "lista7 = [lista5, lista6]"
   ]
  },
  {
   "cell_type": "code",
   "execution_count": 68,
   "metadata": {},
   "outputs": [
    {
     "data": {
      "text/plain": [
       "[['a', 'b', 'c'], [1, 2, 3]]"
      ]
     },
     "execution_count": 68,
     "metadata": {},
     "output_type": "execute_result"
    }
   ],
   "source": [
    "lista7"
   ]
  },
  {
   "cell_type": "markdown",
   "metadata": {},
   "source": [
    "#### Tuplas y secuencias:"
   ]
  },
  {
   "cell_type": "markdown",
   "metadata": {},
   "source": [
    "La listas y cadenas tienen propiedades en común, como el indizado y las operaciones de seccionado. Estas son dos ejemplos de datos de tipo *secuencial*. Existe otro tipo de datos de tipo *secuencial* estándar: la **tupla**."
   ]
  },
  {
   "cell_type": "markdown",
   "metadata": {},
   "source": [
    "Una tupla cosiste en un número de valores separados por comas, por ejemplo:"
   ]
  },
  {
   "cell_type": "code",
   "execution_count": 69,
   "metadata": {},
   "outputs": [],
   "source": [
    "t1 = 12345, 54321, \"oli\" "
   ]
  },
  {
   "cell_type": "code",
   "execution_count": 70,
   "metadata": {},
   "outputs": [
    {
     "data": {
      "text/plain": [
       "12345"
      ]
     },
     "execution_count": 70,
     "metadata": {},
     "output_type": "execute_result"
    }
   ],
   "source": [
    "t1[0]"
   ]
  },
  {
   "cell_type": "code",
   "execution_count": 71,
   "metadata": {},
   "outputs": [
    {
     "data": {
      "text/plain": [
       "(12345, 54321, 'oli')"
      ]
     },
     "execution_count": 71,
     "metadata": {},
     "output_type": "execute_result"
    }
   ],
   "source": [
    "t1"
   ]
  },
  {
   "cell_type": "markdown",
   "metadata": {},
   "source": [
    "Podemos anidas tuplas"
   ]
  },
  {
   "cell_type": "code",
   "execution_count": 72,
   "metadata": {},
   "outputs": [],
   "source": [
    "t2 = t1, (1,2,3,4,5)"
   ]
  },
  {
   "cell_type": "code",
   "execution_count": 73,
   "metadata": {},
   "outputs": [
    {
     "data": {
      "text/plain": [
       "((12345, 54321, 'oli'), (1, 2, 3, 4, 5))"
      ]
     },
     "execution_count": 73,
     "metadata": {},
     "output_type": "execute_result"
    }
   ],
   "source": [
    "t2"
   ]
  },
  {
   "cell_type": "markdown",
   "metadata": {},
   "source": [
    "Las tuplas son **inmutables**"
   ]
  },
  {
   "cell_type": "code",
   "execution_count": 74,
   "metadata": {},
   "outputs": [
    {
     "ename": "TypeError",
     "evalue": "'tuple' object does not support item assignment",
     "output_type": "error",
     "traceback": [
      "\u001b[1;31m---------------------------------------------------------------------------\u001b[0m",
      "\u001b[1;31mTypeError\u001b[0m                                 Traceback (most recent call last)",
      "\u001b[1;32m<ipython-input-74-a072a24d1ed4>\u001b[0m in \u001b[0;36m<module>\u001b[1;34m\u001b[0m\n\u001b[1;32m----> 1\u001b[1;33m \u001b[0mt1\u001b[0m\u001b[1;33m[\u001b[0m\u001b[1;36m0\u001b[0m\u001b[1;33m]\u001b[0m \u001b[1;33m=\u001b[0m \u001b[1;36m88888\u001b[0m\u001b[1;33m\u001b[0m\u001b[1;33m\u001b[0m\u001b[0m\n\u001b[0m",
      "\u001b[1;31mTypeError\u001b[0m: 'tuple' object does not support item assignment"
     ]
    }
   ],
   "source": [
    "t1[0] = 88888"
   ]
  },
  {
   "cell_type": "markdown",
   "metadata": {},
   "source": [
    "Pero **si pueden contener objetos mutables**:"
   ]
  },
  {
   "cell_type": "code",
   "execution_count": 75,
   "metadata": {},
   "outputs": [],
   "source": [
    "t3 = ([1,2,3], [3,2,1])"
   ]
  },
  {
   "cell_type": "code",
   "execution_count": 76,
   "metadata": {},
   "outputs": [
    {
     "data": {
      "text/plain": [
       "([1, 2, 3], [3, 2, 1])"
      ]
     },
     "execution_count": 76,
     "metadata": {},
     "output_type": "execute_result"
    }
   ],
   "source": [
    "t3"
   ]
  },
  {
   "cell_type": "markdown",
   "metadata": {},
   "source": [
    "Las tuplas siempre **se encierran en paréntesis**, para que las tuplas anidadas puedan interpretarse correctamente; pueden ingresarse con o sin paréntesis, aunque a menudo los paréntesis son necesarios de todas formas (si la tupla es parte de una expresión más grande). No es posible asignar a los ítems individuales de una tupla, pero sin embargo sí se puede crear tuplas que contengan objetos mutables, como las listas."
   ]
  },
  {
   "cell_type": "markdown",
   "metadata": {},
   "source": [
    "A pesar de que las tuplas puedan parecerse a las listas, frecuentemente se utilizan en distintas situaciones y para distintos propósitos. Las tuplas son **inmutables** y normalmente contienen una secuencia heterogénea de elementos que son accedidos al desempaquetar o indizar (o incluso acceder por atributo en el caso de las `namedtuples`). Por otro lado, las listas son **mutables**, y sus elementos son normalmente homogéneos y se acceden iterando la lista."
   ]
  },
  {
   "cell_type": "markdown",
   "metadata": {},
   "source": [
    "Un problema particular es la construcción de tuplas que contengan 0 o 1 ítem: la sintaxis presenta algunas peculiaridades para estos casos. Las tuplas vacías se construyen mediante un par de paréntesis vacío; una tupla con un ítem se construye poniendo una coma a continuación de un valor (no alcanza con encerrar un único valor entre paréntesis). Por ejemplo:"
   ]
  },
  {
   "cell_type": "code",
   "execution_count": 77,
   "metadata": {},
   "outputs": [],
   "source": [
    "empty = ()"
   ]
  },
  {
   "cell_type": "code",
   "execution_count": 78,
   "metadata": {},
   "outputs": [],
   "source": [
    "tupla_unica = 'hello', # Recordemos usar la coma"
   ]
  },
  {
   "cell_type": "code",
   "execution_count": 79,
   "metadata": {},
   "outputs": [
    {
     "data": {
      "text/plain": [
       "0"
      ]
     },
     "execution_count": 79,
     "metadata": {},
     "output_type": "execute_result"
    }
   ],
   "source": [
    "len(empty)"
   ]
  },
  {
   "cell_type": "code",
   "execution_count": 80,
   "metadata": {},
   "outputs": [
    {
     "data": {
      "text/plain": [
       "1"
      ]
     },
     "execution_count": 80,
     "metadata": {},
     "output_type": "execute_result"
    }
   ],
   "source": [
    "len(tupla_unica)"
   ]
  },
  {
   "cell_type": "code",
   "execution_count": 81,
   "metadata": {},
   "outputs": [
    {
     "data": {
      "text/plain": [
       "('hello',)"
      ]
     },
     "execution_count": 81,
     "metadata": {},
     "output_type": "execute_result"
    }
   ],
   "source": [
    "tupla_unica"
   ]
  },
  {
   "cell_type": "markdown",
   "metadata": {},
   "source": [
    "En nuestras declaraciones del tipo "
   ]
  },
  {
   "cell_type": "code",
   "execution_count": 82,
   "metadata": {},
   "outputs": [],
   "source": [
    "t4 = 12345, 54321, 'holi'"
   ]
  },
  {
   "cell_type": "markdown",
   "metadata": {},
   "source": [
    "es un ejemplo de *empaquetadp de tuplas*: los valores `12345`, `54321` y `holi` se empaquetan juntos en una tupla. La operación inversa también es posible y es la siguiente: `x, y, z = t`."
   ]
  },
  {
   "cell_type": "markdown",
   "metadata": {},
   "source": [
    "Esto se llama, **desempaquetado de secuencias**, y funciona para cualquier secuencia en el lado derecho del igual. **El desempaquetado de secuencias requiere que la cantidad de variables a la izquierda del signo igual sea del tamaño de la secuencia**. Notemos que la asignación múltiple es en realidad sólo una combinación de empaquetado de tuplas y desempaquetado de secuencias."
   ]
  },
  {
   "cell_type": "markdown",
   "metadata": {},
   "source": [
    "#### Diccionarios:"
   ]
  },
  {
   "cell_type": "markdown",
   "metadata": {},
   "source": [
    "Otro tipo de dato útil es el diccionario. Los diccionarios se encuentran a vecer en otros lenguajes como *memorias asociativas* o *arreglos asociativos*. A diferencia de las secuencias, que se indexan mediante un rango numérico, **los diccionarios se indexan con claves**, que pueden ser cualquier tipo *inmutable*; las cadenas y número siempre pueden ser claves. Las tuplas pueden usarse como claves si solamente contienen cadenas, números o tuplas; **si una tupla contiene cualquier objeto mutable directa o indirectamente, no puede usarse como clave**. \n",
    "\n",
    "Es mejor pensar en un diccionario como un conjunto de *pares clave-valor* con el requerimiento de que las claves sean únicas (dentro de un diccionario). Un para de llaves crean un diccionario vacío `{}`. Colocar una lista de pares clave-valor separada por comas dentro de las llaves agrega, de inicio, pares clave-valor a nuestro diccionario; esta es también la forma en que los diccionarios se muestran en la salida."
   ]
  },
  {
   "cell_type": "markdown",
   "metadata": {},
   "source": [
    "**Las operaciones principales sobre un diccionario son guardar un valor con una clave y extraer ese valor dada la clave**. También es posible borrar un par clave-valor con `del`. **Si usas una clave que ya está en uso para guardar un valor, el valor que estaba asociado con esa clave se pierde.** Es un error extraer un valor usando una clave no existente."
   ]
  },
  {
   "cell_type": "markdown",
   "metadata": {},
   "source": [
    "Ejecutando `list(d)` en un diccionario retornará una lista con todas las claves usadas en el diccionario, en el orden de inserción. Para comprobar si una clave está en el diccionario se usa la palabra clave `in`."
   ]
  },
  {
   "cell_type": "code",
   "execution_count": 83,
   "metadata": {},
   "outputs": [],
   "source": [
    "dic1 = {'a': 40323, 'dasd': 21212}"
   ]
  },
  {
   "cell_type": "code",
   "execution_count": 84,
   "metadata": {},
   "outputs": [],
   "source": [
    "dic1['qwerty'] = 12345"
   ]
  },
  {
   "cell_type": "code",
   "execution_count": 85,
   "metadata": {},
   "outputs": [
    {
     "data": {
      "text/plain": [
       "{'a': 40323, 'dasd': 21212, 'qwerty': 12345}"
      ]
     },
     "execution_count": 85,
     "metadata": {},
     "output_type": "execute_result"
    }
   ],
   "source": [
    "dic1"
   ]
  },
  {
   "cell_type": "code",
   "execution_count": 86,
   "metadata": {},
   "outputs": [],
   "source": [
    "del dic1['dasd']"
   ]
  },
  {
   "cell_type": "code",
   "execution_count": 87,
   "metadata": {},
   "outputs": [],
   "source": [
    "dic1['irv'] = 7890"
   ]
  },
  {
   "cell_type": "code",
   "execution_count": 88,
   "metadata": {},
   "outputs": [
    {
     "data": {
      "text/plain": [
       "{'a': 40323, 'qwerty': 12345, 'irv': 7890}"
      ]
     },
     "execution_count": 88,
     "metadata": {},
     "output_type": "execute_result"
    }
   ],
   "source": [
    "dic1"
   ]
  },
  {
   "cell_type": "code",
   "execution_count": 89,
   "metadata": {},
   "outputs": [
    {
     "data": {
      "text/plain": [
       "['a', 'qwerty', 'irv']"
      ]
     },
     "execution_count": 89,
     "metadata": {},
     "output_type": "execute_result"
    }
   ],
   "source": [
    "list(dic1)"
   ]
  },
  {
   "cell_type": "code",
   "execution_count": 90,
   "metadata": {},
   "outputs": [
    {
     "data": {
      "text/plain": [
       "['a', 'irv', 'qwerty']"
      ]
     },
     "execution_count": 90,
     "metadata": {},
     "output_type": "execute_result"
    }
   ],
   "source": [
    "sorted(dic1)"
   ]
  },
  {
   "cell_type": "code",
   "execution_count": 91,
   "metadata": {},
   "outputs": [
    {
     "data": {
      "text/plain": [
       "True"
      ]
     },
     "execution_count": 91,
     "metadata": {},
     "output_type": "execute_result"
    }
   ],
   "source": [
    "'a' in dic1"
   ]
  },
  {
   "cell_type": "code",
   "execution_count": 92,
   "metadata": {},
   "outputs": [
    {
     "data": {
      "text/plain": [
       "False"
      ]
     },
     "execution_count": 92,
     "metadata": {},
     "output_type": "execute_result"
    }
   ],
   "source": [
    "'dasd' in dic1"
   ]
  },
  {
   "cell_type": "markdown",
   "metadata": {},
   "source": [
    "El constructor `dict()` crea un diccionario directamente desde secuencias de pares clave-valor:"
   ]
  },
  {
   "cell_type": "code",
   "execution_count": 93,
   "metadata": {},
   "outputs": [
    {
     "data": {
      "text/plain": [
       "{'sape': 4139, 'guido': 12345, 'jack': 54321}"
      ]
     },
     "execution_count": 93,
     "metadata": {},
     "output_type": "execute_result"
    }
   ],
   "source": [
    "dict( [ ('sape', 4139), ('guido', 12345), ('jack', 54321) ] )"
   ]
  },
  {
   "cell_type": "markdown",
   "metadata": {},
   "source": [
    "Además, las comprensiones de diccionarios se pueden usar para crear diccionarios desde expresiones arbitrarias de clave-valor:"
   ]
  },
  {
   "cell_type": "code",
   "execution_count": 94,
   "metadata": {},
   "outputs": [
    {
     "data": {
      "text/plain": [
       "{2: 4, 4: 16, 6: 36}"
      ]
     },
     "execution_count": 94,
     "metadata": {},
     "output_type": "execute_result"
    }
   ],
   "source": [
    "{x: x**2 for x in (2,4,6)}"
   ]
  },
  {
   "cell_type": "markdown",
   "metadata": {},
   "source": [
    "Cuando las claves son cadenas simples, a veces resulta más fácil especificar los pares usando argumentos por palabra clave:"
   ]
  },
  {
   "cell_type": "code",
   "execution_count": 95,
   "metadata": {},
   "outputs": [
    {
     "data": {
      "text/plain": [
       "{'sape': 12345, 'guido': 54321, 'jack': 6789}"
      ]
     },
     "execution_count": 95,
     "metadata": {},
     "output_type": "execute_result"
    }
   ],
   "source": [
    "dict(sape=12345, guido=54321, jack=6789)"
   ]
  },
  {
   "cell_type": "markdown",
   "metadata": {},
   "source": [
    "---"
   ]
  },
  {
   "cell_type": "markdown",
   "metadata": {},
   "source": [
    "Ahora sí, vamos a hablar sobre listas y diccionarios anidados, listas que contienen listas, listas que contienen diccionarios, diccionarios que almacenan lista, etc.\n",
    "\n",
    "Hagamos un ejemplo de ello:"
   ]
  },
  {
   "cell_type": "code",
   "execution_count": 96,
   "metadata": {},
   "outputs": [
    {
     "name": "stdout",
     "output_type": "stream",
     "text": [
      "Super_dict:\n",
      "Key: natural_nums, Value: [1, 2, 3, 4, 5]\n",
      "Key: integer_nums, Value: [-1, -2, 0, 1, 2]\n",
      "Key: floating_nums, Value: [1.1, 2.2, 3.3, 4.4]\n",
      "\n",
      "Super_list:\n",
      "\n",
      "Diccionario número: 1 = {'fristname': 'Abdiel', 'Lastname': 'Guerro'}\n",
      "Key 1: fristname, Value 1: Abdiel\n",
      "Key 1: Lastname, Value 1: Guerro\n",
      "\n",
      "Diccionario número: 2 = {'fristname': 'ASDFG', 'Lastname': 'gdfgdfg'}\n",
      "Key 2: fristname, Value 2: ASDFG\n",
      "Key 2: Lastname, Value 2: gdfgdfg\n",
      "\n",
      "Diccionario número: 3 = {'fristname': 'ghjkl', 'Lastname': 'asdasdsa'}\n",
      "Key 3: fristname, Value 3: ghjkl\n",
      "Key 3: Lastname, Value 3: asdasdsa\n",
      "\n",
      "Diccionario número: 4 = {'fristname': 'qwert', 'Lastname': 'weqwe'}\n",
      "Key 4: fristname, Value 4: qwert\n",
      "Key 4: Lastname, Value 4: weqwe\n",
      "\n",
      "Diccionario número: 5 = {'fristname': 'zxcvv', 'Lastname': 'cvzczxc'}\n",
      "Key 5: fristname, Value 5: zxcvv\n",
      "Key 5: Lastname, Value 5: cvzczxc\n",
      "\n",
      "Diccionario número: 6 = {'fristname': 'vbnmm', 'Lastname': 'hfghfg'}\n",
      "Key 6: fristname, Value 6: vbnmm\n",
      "Key 6: Lastname, Value 6: hfghfg\n"
     ]
    }
   ],
   "source": [
    "#Main\n",
    "def run(): \n",
    "    my_list = [1, 'Holi', True, 4.5]\n",
    "    my_dict = {\"fristname\": 'Abdiel', \"Lastname\": 'Guerr'}\n",
    "    \n",
    "    #Lista de diccionarios\n",
    "    super_list = [\n",
    "        {\"fristname\": 'Abdiel', \"Lastname\": 'Guerro'},\n",
    "        {\"fristname\": 'ASDFG', \"Lastname\": 'gdfgdfg'},\n",
    "        {\"fristname\": 'ghjkl', \"Lastname\": 'asdasdsa'},\n",
    "        {\"fristname\": 'qwert', \"Lastname\": 'weqwe'},\n",
    "        {\"fristname\": 'zxcvv', \"Lastname\": 'cvzczxc'},\n",
    "        {\"fristname\": 'vbnmm', \"Lastname\": 'hfghfg'}, \n",
    "    ]\n",
    "\n",
    "    #Diccionario de listas\n",
    "    super_dict = {\n",
    "        \"natural_nums\": [1,2,3,4,5],\n",
    "        \"integer_nums\": [-1, -2, 0, 1, 2],\n",
    "        \"floating_nums\": [1.1, 2.2, 3.3, 4.4]\n",
    "    }\n",
    "    \n",
    "    # El método .items() nos permite recorrer llaves y valores\n",
    "    # de un diccionario al mismo tiempo en un ciclo.\n",
    "    print(\"Super_dict:\")\n",
    "    for key, value in super_dict.items():\n",
    "        print(f'Key: {key}, Value: {value}')\n",
    "        \n",
    "        \n",
    "    print(\"\\nSuper_list:\")\n",
    "    #En cada iteración hay un diccionario\n",
    "    indice = 0\n",
    "    for elemento in super_list:\n",
    "        indice = indice + 1\n",
    "        print(f'\\nDiccionario número: {indice} = {elemento}') \n",
    "        #Por cada diccionario tenemos un par llave-valor\n",
    "        for key2, value2 in elemento.items(): \n",
    "            print(f'Key {indice}: {key2}, Value {indice}: {value2}')\n",
    "   \n",
    "\n",
    "# Entry point  \n",
    "if __name__ == '__main__': \n",
    "    run()"
   ]
  },
  {
   "cell_type": "markdown",
   "metadata": {},
   "source": [
    "---"
   ]
  },
  {
   "cell_type": "markdown",
   "metadata": {},
   "source": [
    "### List Comprehensions"
   ]
  },
  {
   "cell_type": "markdown",
   "metadata": {},
   "source": [
    "Como practica intentemos crear una lista que contenga los primeros 100 números naturales al cuadrado."
   ]
  },
  {
   "cell_type": "code",
   "execution_count": 97,
   "metadata": {},
   "outputs": [
    {
     "name": "stdout",
     "output_type": "stream",
     "text": [
      "Lista de naturales al cuadrado:\n",
      " [1, 4, 9, 16, 25, 36, 49, 64, 81, 100, 121, 144, 169, 196, 225, 256, 289, 324, 361, 400, 441, 484, 529, 576, 625, 676, 729, 784, 841, 900, 961, 1024, 1089, 1156, 1225, 1296, 1369, 1444, 1521, 1600, 1681, 1764, 1849, 1936, 2025, 2116, 2209, 2304, 2401, 2500, 2601, 2704, 2809, 2916, 3025, 3136, 3249, 3364, 3481, 3600, 3721, 3844, 3969, 4096, 4225, 4356, 4489, 4624, 4761, 4900, 5041, 5184, 5329, 5476, 5625, 5776, 5929, 6084, 6241, 6400, 6561, 6724, 6889, 7056, 7225, 7396, 7569, 7744, 7921, 8100, 8281, 8464, 8649, 8836, 9025, 9216, 9409, 9604, 9801, 10000]\n"
     ]
    }
   ],
   "source": [
    "def main():\n",
    "    \n",
    "    list_n_to_2 = []\n",
    "    for i in range(1, 101):\n",
    "        list_n_to_2.append(i**2)\n",
    "    print(f'Lista de naturales al cuadrado:\\n {list_n_to_2}')\n",
    "    \n",
    "\n",
    "if __name__ == '__main__':\n",
    "    main()"
   ]
  },
  {
   "cell_type": "markdown",
   "metadata": {},
   "source": [
    "Ahora tratemos de hacer una lista con los cuadrados del 1 al 100 que NO sean divisibles entre 3."
   ]
  },
  {
   "cell_type": "code",
   "execution_count": 98,
   "metadata": {},
   "outputs": [
    {
     "name": "stdout",
     "output_type": "stream",
     "text": [
      "Lista de naturales al cuadrado que NO son divisibles entre 3\n",
      " [1, 4, 16, 25, 49, 64, 100, 121, 169, 196, 256, 289, 361, 400, 484, 529, 625, 676, 784, 841, 961, 1024, 1156, 1225, 1369, 1444, 1600, 1681, 1849, 1936, 2116, 2209, 2401, 2500, 2704, 2809, 3025, 3136, 3364, 3481, 3721, 3844, 4096, 4225, 4489, 4624, 4900, 5041, 5329, 5476, 5776, 5929, 6241, 6400, 6724, 6889, 7225, 7396, 7744, 7921, 8281, 8464, 8836, 9025, 9409, 9604, 10000]\n"
     ]
    }
   ],
   "source": [
    "def main():\n",
    "    \n",
    "    n_to_2_not_divisible3 = []\n",
    "    for i in range (101):\n",
    "        n_to_2_not_divisible3.append(i**2)\n",
    "        if (i**2)%3 == 0:\n",
    "            n_to_2_not_divisible3.remove(i**2)\n",
    "\n",
    "    print('Lista de naturales al cuadrado que NO son divisibles entre 3\\n' \n",
    "          , n_to_2_not_divisible3)\n",
    "    \n",
    "if __name__ == '__main__':\n",
    "    main()"
   ]
  },
  {
   "cell_type": "markdown",
   "metadata": {},
   "source": [
    "Ahora, ¿Que pasaría si quisieramos realizar estas tareas de generar listas, pero **sin ciclos**?"
   ]
  },
  {
   "cell_type": "code",
   "execution_count": 99,
   "metadata": {},
   "outputs": [
    {
     "name": "stdout",
     "output_type": "stream",
     "text": [
      "Lista de naturales del 1-100 al cuadrado: \n",
      "[0, 1, 4, 9, 16, 25, 36, 49, 64, 81, 100, 121, 144, 169, 196, 225, 256, 289, 324, 361, 400, 441, 484, 529, 576, 625, 676, 729, 784, 841, 900, 961, 1024, 1089, 1156, 1225, 1296, 1369, 1444, 1521, 1600, 1681, 1764, 1849, 1936, 2025, 2116, 2209, 2304, 2401, 2500, 2601, 2704, 2809, 2916, 3025, 3136, 3249, 3364, 3481, 3600, 3721, 3844, 3969, 4096, 4225, 4356, 4489, 4624, 4761, 4900, 5041, 5184, 5329, 5476, 5625, 5776, 5929, 6084, 6241, 6400, 6561, 6724, 6889, 7056, 7225, 7396, 7569, 7744, 7921, 8100, 8281, 8464, 8649, 8836, 9025, 9216, 9409, 9604, 9801, 10000]\n",
      "\n",
      " Diccionario de naturales del 1-100 al cuadrado:\n",
      "{0: 0, 1: 1, 2: 4, 3: 9, 4: 16, 5: 25, 6: 36, 7: 49, 8: 64, 9: 81, 10: 100, 11: 121, 12: 144, 13: 169, 14: 196, 15: 225, 16: 256, 17: 289, 18: 324, 19: 361, 20: 400, 21: 441, 22: 484, 23: 529, 24: 576, 25: 625, 26: 676, 27: 729, 28: 784, 29: 841, 30: 900, 31: 961, 32: 1024, 33: 1089, 34: 1156, 35: 1225, 36: 1296, 37: 1369, 38: 1444, 39: 1521, 40: 1600, 41: 1681, 42: 1764, 43: 1849, 44: 1936, 45: 2025, 46: 2116, 47: 2209, 48: 2304, 49: 2401, 50: 2500, 51: 2601, 52: 2704, 53: 2809, 54: 2916, 55: 3025, 56: 3136, 57: 3249, 58: 3364, 59: 3481, 60: 3600, 61: 3721, 62: 3844, 63: 3969, 64: 4096, 65: 4225, 66: 4356, 67: 4489, 68: 4624, 69: 4761, 70: 4900, 71: 5041, 72: 5184, 73: 5329, 74: 5476, 75: 5625, 76: 5776, 77: 5929, 78: 6084, 79: 6241, 80: 6400, 81: 6561, 82: 6724, 83: 6889, 84: 7056, 85: 7225, 86: 7396, 87: 7569, 88: 7744, 89: 7921, 90: 8100, 91: 8281, 92: 8464, 93: 8649, 94: 8836, 95: 9025, 96: 9216, 97: 9409, 98: 9604, 99: 9801, 100: 10000}\n"
     ]
    }
   ],
   "source": [
    "def main():\n",
    "    \n",
    "    list_n_to_2 = [n**2 for n in range(101)]\n",
    "    dict_n_to_2 = {n: n**2 for n in range(101)}\n",
    "    \n",
    "    print(f'Lista de naturales del 1-100 al cuadrado: \\n{list_n_to_2}')\n",
    "    print(f'\\n Diccionario de naturales del 1-100 al cuadrado:\\n{dict_n_to_2}')\n",
    "\n",
    "if __name__ == '__main__':\n",
    "    main()"
   ]
  },
  {
   "cell_type": "markdown",
   "metadata": {},
   "source": [
    "Ahora hagamos el segundo ejemplo de los cuadrados que no son divisibles entre 3 usando list comprehensions:"
   ]
  },
  {
   "cell_type": "code",
   "execution_count": 100,
   "metadata": {},
   "outputs": [
    {
     "name": "stdout",
     "output_type": "stream",
     "text": [
      "Lista de naturales al cuadrado que NO son divisibles entre 3\n",
      " [1, 4, 16, 25, 49, 64, 100, 121, 169, 196, 256, 289, 361, 400, 484, 529, 625, 676, 784, 841, 961, 1024, 1156, 1225, 1369, 1444, 1600, 1681, 1849, 1936, 2116, 2209, 2401, 2500, 2704, 2809, 3025, 3136, 3364, 3481, 3721, 3844, 4096, 4225, 4489, 4624, 4900, 5041, 5329, 5476, 5776, 5929, 6241, 6400, 6724, 6889, 7225, 7396, 7744, 7921, 8281, 8464, 8836, 9025, 9409, 9604, 10000]\n"
     ]
    }
   ],
   "source": [
    "def main():\n",
    "    \n",
    "    n_to_2_not_divisible3 = [n**2 for n in range(1,101) if n%3 != 0]\n",
    "    print('Lista de naturales al cuadrado que NO son divisibles entre 3\\n' \n",
    "          , n_to_2_not_divisible3)\n",
    "    \n",
    "if __name__ == '__main__':\n",
    "    main()"
   ]
  },
  {
   "cell_type": "markdown",
   "metadata": {},
   "source": [
    "La estructura general de los list comprehensions sería la siguiente:\n",
    "\n",
    "\n",
    "```py\n",
    "[element for element in iterable if condition] \n",
    "> Para cada elemento en el iterable agrega ese elemento \n",
    "  solo si cumple la condición.\n",
    "```"
   ]
  },
  {
   "cell_type": "markdown",
   "metadata": {},
   "source": [
    "Hagamos otro ejemplo utilizando list comprehensions que enliste a todos los múltiplos de 4 que a la vez también son múltiplos de 6 y de 9, hasta 5 dígitos."
   ]
  },
  {
   "cell_type": "code",
   "execution_count": 101,
   "metadata": {},
   "outputs": [
    {
     "name": "stdout",
     "output_type": "stream",
     "text": [
      "[36, 72, 108, 144, 180, 216, 252, 288, 324, 360, 396, 432, 468, 504, 540, 576, 612, 648, 684, 720, 756, 792, 828, 864, 900, 936, 972]\n"
     ]
    }
   ],
   "source": [
    "def main():\n",
    "    list_muitiple_of_9_6_4 = [e for e in range(1,1000) if e%9 == 0 and \n",
    "                             e%6 == 0 and e%4 == 0]\n",
    "    print(list_muitiple_of_9_6_4)\n",
    "    \n",
    "\n",
    "if __name__ == '__main__':\n",
    "    main()"
   ]
  },
  {
   "cell_type": "markdown",
   "metadata": {},
   "source": [
    "---"
   ]
  },
  {
   "cell_type": "markdown",
   "metadata": {},
   "source": [
    "### Dictionary comprehensions"
   ]
  },
  {
   "cell_type": "code",
   "execution_count": 102,
   "metadata": {},
   "outputs": [
    {
     "name": "stdout",
     "output_type": "stream",
     "text": [
      "Dictionary comprehensions:\n",
      "{0: 0, 1: 1, 2: 8, 3: 27, 4: 64, 5: 125, 6: 216, 7: 343, 8: 512, 9: 729, 10: 1000, 11: 1331, 12: 1728, 13: 2197, 14: 2744, 15: 3375, 16: 4096, 17: 4913, 18: 5832, 19: 6859, 20: 8000, 21: 9261, 22: 10648, 23: 12167, 24: 13824, 25: 15625, 26: 17576, 27: 19683, 28: 21952, 29: 24389, 30: 27000, 31: 29791, 32: 32768, 33: 35937, 34: 39304, 35: 42875, 36: 46656, 37: 50653, 38: 54872, 39: 59319, 40: 64000, 41: 68921, 42: 74088, 43: 79507, 44: 85184, 45: 91125, 46: 97336, 47: 103823, 48: 110592, 49: 117649, 50: 125000, 51: 132651, 52: 140608, 53: 148877, 54: 157464, 55: 166375, 56: 175616, 57: 185193, 58: 195112, 59: 205379, 60: 216000, 61: 226981, 62: 238328, 63: 250047, 64: 262144, 65: 274625, 66: 287496, 67: 300763, 68: 314432, 69: 328509, 70: 343000, 71: 357911, 72: 373248, 73: 389017, 74: 405224, 75: 421875, 76: 438976, 77: 456533, 78: 474552, 79: 493039, 80: 512000, 81: 531441, 82: 551368, 83: 571787, 84: 592704, 85: 614125, 86: 636056, 87: 658503, 88: 681472, 89: 704969, 90: 729000, 91: 753571, 92: 778688, 93: 804357, 94: 830584, 95: 857375, 96: 884736, 97: 912673, 98: 941192, 99: 970299, 100: 1000000}\n"
     ]
    }
   ],
   "source": [
    "def main():\n",
    "    dict_naturals = {key: key**3 for key in range(101)}\n",
    "    print(f'Dictionary comprehensions:\\n{dict_naturals}')\n",
    "    \n",
    "if __name__ == '__main__':\n",
    "    main()"
   ]
  },
  {
   "cell_type": "markdown",
   "metadata": {},
   "source": [
    "Igual que como hicimos con las listas, tratemos de agregar en un diccionario aquellos números al cubo que no sean divisibles entre 3."
   ]
  },
  {
   "cell_type": "code",
   "execution_count": 103,
   "metadata": {},
   "outputs": [
    {
     "name": "stdout",
     "output_type": "stream",
     "text": [
      "{1: 1, 2: 8, 4: 64, 5: 125, 7: 343, 8: 512, 10: 1000, 11: 1331, 13: 2197, 14: 2744, 16: 4096, 17: 4913, 19: 6859, 20: 8000, 22: 10648, 23: 12167, 25: 15625, 26: 17576, 28: 21952, 29: 24389, 31: 29791, 32: 32768, 34: 39304, 35: 42875, 37: 50653, 38: 54872, 40: 64000, 41: 68921, 43: 79507, 44: 85184, 46: 97336, 47: 103823, 49: 117649, 50: 125000, 52: 140608, 53: 148877, 55: 166375, 56: 175616, 58: 195112, 59: 205379, 61: 226981, 62: 238328, 64: 262144, 65: 274625, 67: 300763, 68: 314432, 70: 343000, 71: 357911, 73: 389017, 74: 405224, 76: 438976, 77: 456533, 79: 493039, 80: 512000, 82: 551368, 83: 571787, 85: 614125, 86: 636056, 88: 681472, 89: 704969, 91: 753571, 92: 778688, 94: 830584, 95: 857375, 97: 912673, 98: 941192, 100: 1000000}\n"
     ]
    }
   ],
   "source": [
    "def main():\n",
    "    dict_not_divisible_3 = {n:n**3 for n in range(0,101) if n%3 != 0}\n",
    "    print(dict_not_divisible_3)\n",
    "    \n",
    "    \n",
    "if __name__ == '__main__':\n",
    "    main()"
   ]
  },
  {
   "cell_type": "markdown",
   "metadata": {},
   "source": [
    "Podemos inferir que la estructura de los *Dictionary comprehensions* es la siguiente:\n",
    "\n",
    "```py\n",
    "{key : value for value in iterable if condition}\n",
    ">  Para cada elemento en un iterable, coloca una llave y un valor \n",
    "   solo si cumple la condición.\n",
    "```"
   ]
  },
  {
   "cell_type": "markdown",
   "metadata": {},
   "source": [
    "Como ejercicio realicemos lo siguiente:\n",
    "\n",
    "* Crear un *Dictionary comprehension* que contenga en sus llaves a los primeros 1000 números naturales con sus raíces cuadradas como valores."
   ]
  },
  {
   "cell_type": "code",
   "execution_count": 104,
   "metadata": {},
   "outputs": [
    {
     "name": "stdout",
     "output_type": "stream",
     "text": [
      "Diccionario con los naturales en sus llaves y la raiz en los valores:\n",
      "\n",
      " {0: 0.0, 1: 1.0, 2: 1.4142135623730951, 3: 1.7320508075688772, 4: 2.0, 5: 2.23606797749979, 6: 2.449489742783178, 7: 2.6457513110645907, 8: 2.8284271247461903, 9: 3.0, 10: 3.1622776601683795}\n"
     ]
    }
   ],
   "source": [
    "import math \n",
    "from math import sqrt\n",
    "\n",
    "def main():\n",
    "    dict_naturals_squareroots = {n: sqrt(n) for n in range(11) }\n",
    "    #Lo truncamos a 10 para que no ocupe mucho espacio al imprimir\n",
    "    print('Diccionario con los naturales en sus llaves y la raiz en los valores:\\n\\n'\n",
    "            ,dict_naturals_squareroots)\n",
    "\n",
    "\n",
    "if __name__ == '__main__':\n",
    "    main()"
   ]
  },
  {
   "cell_type": "markdown",
   "metadata": {},
   "source": [
    "---"
   ]
  },
  {
   "cell_type": "markdown",
   "metadata": {},
   "source": [
    "## Módulo 4. Conceptos avanzados de funciones"
   ]
  },
  {
   "cell_type": "markdown",
   "metadata": {},
   "source": [
    "### Funciones anónimas: lambda"
   ]
  },
  {
   "cell_type": "markdown",
   "metadata": {},
   "source": [
    "Recordemos un poco el concepto de función. Una función es un bloque de código con un nombre asociado, que recibe creo o más argumentos como entrada, sigue una secuencia de sentencias, las cuales ejecutan una operación deseada y devuelve un valor y/o realiza una tarea. \n",
    "\n",
    "En otras palabras, es un fragmento de código que escribimos una sola vez y puede ser reutilizada en el resto de nuestro programa, donde podemos cambiar nuestros parámetros de entrada para obtener diferentes salidas."
   ]
  },
  {
   "cell_type": "markdown",
   "metadata": {},
   "source": [
    "La estructura básica de una función es la siguiente:\n",
    "\n",
    "```py\n",
    "def function_name(parameter_1, parameter_2, ... , parameter_n)\n",
    "\n",
    "> Define una función (keyword def) con cierto nombre (identificador)\n",
    "  y ciertos parámetros\n",
    "```\n",
    "\n",
    "Puede darse el caso donde utilicemos funciones que no reciben ningún parámetro de entrada."
   ]
  },
  {
   "cell_type": "markdown",
   "metadata": {},
   "source": [
    "Pero existe una forma diferente para crear funciones, más específicamente, **funciones sin nombre**. A estas funciones les llamamos **funciones anónimas o lambda functions**.\n",
    "\n",
    "Es decir, solo son funciones que carecen de un identificador. Además de tener ciertas particularidades."
   ]
  },
  {
   "cell_type": "markdown",
   "metadata": {},
   "source": [
    "La estructura de las funciones lambda $\\lambda$ es la siguiente:\n",
    "\n",
    "```py\n",
    "lambda argumentos : expresión \n",
    "```\n",
    "\n",
    "En Python las funciones $\\lambda$ necesariamente deben de ser escritas en una sola línea de código."
   ]
  },
  {
   "cell_type": "markdown",
   "metadata": {},
   "source": [
    "Para hacer notar la diferencia, recordemos un pequeño programa donde verificamos si una palabra era palíndromo o no.\n",
    "\n",
    "Primero revisemos el programa hecho con funciones normales, teniendo la función `palindromo(palabra)` que hace la verificación y la función `main()` que ejecuta a `palindromo()` y crea los intputs en donde pasamos la palabra a verificar.\n",
    "\n",
    "En realidad podría funcionar sin la función `main()` agregando los inputs en el entry point `if __name__ == '__main__'` , pero como buena práctica y por legibilidad lo dejamos así."
   ]
  },
  {
   "cell_type": "code",
   "execution_count": 106,
   "metadata": {},
   "outputs": [
    {
     "name": "stdout",
     "output_type": "stream",
     "text": [
      "Escribe una palabra: ala\n",
      "Es un palindromo\n"
     ]
    }
   ],
   "source": [
    "def palindromo(palabra):\n",
    "    palabra = palabra.replace(' ','') #Reemplaza los espacios por un vacio\n",
    "    palabra = palabra.lower() #Ejecutamos el metodo de minusculas\n",
    "    palabra_invertida = palabra[::-1] #Guardar la palabra al reves, de inicio a final con pasos de -1\n",
    "\n",
    "    if palabra == palabra_invertida:\n",
    "        return True\n",
    "    else:\n",
    "        return False\n",
    "\n",
    "\n",
    "def main():\n",
    "    palabra = input('Escribe una palabra: ')\n",
    "    es_palindromo = palindromo(palabra)\n",
    "\n",
    "    if es_palindromo == True:\n",
    "        print('Es un palindromo')\n",
    "    \n",
    "    else:\n",
    "        print('No es un palindromo')\n",
    "\n",
    "\n",
    "if __name__ == '__main__':\n",
    "    main()"
   ]
  },
  {
   "cell_type": "markdown",
   "metadata": {},
   "source": [
    "Ahora, revisemos como sería la implementación con funciones lambda:"
   ]
  },
  {
   "cell_type": "markdown",
   "metadata": {},
   "source": [
    "```Python\n",
    "palindrome = lambda string: string = string[::-1]\n",
    "```\n",
    "\n",
    "Donde tenemos las siguientes partes:\n",
    "   \n",
    "   * **Identificador:** Nombre *asociado a la variable que contiene a un objeto del tipo función que retorna el resultado* no a la función en sí (`palindrome `).\n",
    "   \n",
    "   \n",
    "   * **Argumento:** Parámetro que recibe la función para trabajar, acompañado del keyword `lambda` (`lambda string`).\n",
    "   \n",
    "       \n",
    "   * **Expresión:** Línea de código que indica como va a trabajar (`string = string[::-1]`)."
   ]
  },
  {
   "cell_type": "code",
   "execution_count": 107,
   "metadata": {},
   "outputs": [
    {
     "name": "stdout",
     "output_type": "stream",
     "text": [
      "True\n"
     ]
    }
   ],
   "source": [
    "palindrome = lambda string : string == string[::-1]\n",
    "print(palindrome('larutanatural'))"
   ]
  },
  {
   "cell_type": "markdown",
   "metadata": {},
   "source": [
    "---"
   ]
  },
  {
   "cell_type": "markdown",
   "metadata": {},
   "source": [
    "### High order functions: filter, map y reduce"
   ]
  },
  {
   "cell_type": "markdown",
   "metadata": {},
   "source": [
    "Una función de orden superior es una función que recibe como parámetro a otra función.\n",
    "\n",
    "Existen 3 tipos de funciones de orden superior que son muy importantes en una gran parte de los lenguajes de programación:"
   ]
  },
  {
   "cell_type": "markdown",
   "metadata": {},
   "source": [
    "#### `filter()`:"
   ]
  },
  {
   "cell_type": "markdown",
   "metadata": {},
   "source": [
    "Es una función la cual toma un *predicado y una lista* y devuelve una lista con los elementos que satisfacen el predicado. Tal como su nombre lo indica `filter()` significa \"filtrar\", ya que a partir de una lista o iterador y una función condicional, es capaz de devolver una nueva colección de elementos filtrados que cumplan la condición.\n",
    "\n",
    "Todo esto podría haberse logrado también usando **list comprehension** que usaran predicados. No hay ninguna regla de cuando usar una u otra opción, simplemente se debe elegir que es más legible y práctico para la situación."
   ]
  },
  {
   "cell_type": "markdown",
   "metadata": {},
   "source": [
    "Como ejemplo imaginemos que queremos filtrar de los datos de una lista aquellos números pares y solo dejar a los números impares.\n",
    "\n",
    "![](https://i.imgur.com/sn1MOU8.png)\n",
    "\n",
    "Primero una solución con list comprehensions:"
   ]
  },
  {
   "cell_type": "code",
   "execution_count": 108,
   "metadata": {},
   "outputs": [
    {
     "name": "stdout",
     "output_type": "stream",
     "text": [
      "[1, 3, 5, 7, 9]\n"
     ]
    }
   ],
   "source": [
    "my_list = [n for n in range(11)]\n",
    "\n",
    "add = [i for i in my_list if i % 2 != 0]\n",
    "\n",
    "print(add)\n"
   ]
  },
  {
   "cell_type": "markdown",
   "metadata": {},
   "source": [
    "Ahora, resolvamos usando la función de orden superior `filter()`:"
   ]
  },
  {
   "cell_type": "code",
   "execution_count": 109,
   "metadata": {},
   "outputs": [
    {
     "name": "stdout",
     "output_type": "stream",
     "text": [
      "[1, 3, 5, 7, 9]\n"
     ]
    }
   ],
   "source": [
    "my_list = [n for n in range(11)]\n",
    "\n",
    "add = list(filter(lambda x: x%2 !=0, my_list))\n",
    "\n",
    "print(add)"
   ]
  },
  {
   "cell_type": "markdown",
   "metadata": {},
   "source": [
    "Podemos ver que dentro de nuestra función `filter()` está recibiendo como primer parámetro a una función lambda $\\lambda$, la cual recibe como parámetro a una `x` y retorna como resultado a `x%2 != 0`; como segundo parámetro de `filter()` está recibiendo a una lista (iterable) que no es más que nuestra lista de números del 1 al 10.\n",
    "\n",
    "La función `filter()` devuelve como resultado a un objeto del tipo **iterador**. Y toda nuestra función `filter()` está dentro de otra función llamada `list()` que se encarga de convertir nuestro iterable en una lista para finalmente almacenar todo el resultado dentro de nuestra variable `add`."
   ]
  },
  {
   "cell_type": "markdown",
   "metadata": {},
   "source": [
    "#### `map()`:"
   ]
  },
  {
   "cell_type": "markdown",
   "metadata": {},
   "source": [
    "La función `map()` toma una función y una lista y aplica esa función a cada elemento de esa lista, produciendo una nueva lista como resultado.\n",
    "\n",
    "Funciona de una forma muy similar a `filter()`, con la diferencia de que en lugar de aplicar una condición a un elemento de una lista o secuencia, aplica una función sobre todos los elementos y como resultado devuelve una lista de los resultados de efectuar esa función."
   ]
  },
  {
   "cell_type": "markdown",
   "metadata": {},
   "source": [
    "Imaginemos que originalmente tenemos una lista con ciertos números y queremos obtener una nueva lista, pero ahora con los números elevados al cuadrado.\n",
    "\n",
    "![](https://i.imgur.com/QgD5vJa.png)"
   ]
  },
  {
   "cell_type": "markdown",
   "metadata": {},
   "source": [
    "Veamos como lo resolveríamos con *list comprehensions*:"
   ]
  },
  {
   "cell_type": "code",
   "execution_count": 110,
   "metadata": {},
   "outputs": [
    {
     "name": "stdout",
     "output_type": "stream",
     "text": [
      "Lista de números:\n",
      "[0, 1, 2, 3, 4, 5, 6, 7, 8, 9, 10]\n",
      "Lista de números al cuadrado:\n",
      "[0, 1, 4, 9, 16, 25, 36, 49, 64, 81, 100]\n"
     ]
    }
   ],
   "source": [
    "def main():\n",
    "    numbers = [n for n in range(11)]\n",
    "    print(f'Lista de números:\\n{numbers}')\n",
    "    \n",
    "    numbers_2 = [x**2 for x in numbers]\n",
    "    print(f'Lista de números al cuadrado:\\n{numbers_2}')\n",
    "\n",
    "\n",
    "if __name__ == '__main__':\n",
    "    main()"
   ]
  },
  {
   "cell_type": "markdown",
   "metadata": {},
   "source": [
    "Ahora veamos como resolverlo con `map()`:"
   ]
  },
  {
   "cell_type": "code",
   "execution_count": 111,
   "metadata": {},
   "outputs": [
    {
     "name": "stdout",
     "output_type": "stream",
     "text": [
      "Lista de números:\n",
      "[0, 1, 2, 3, 4, 5, 6, 7, 8, 9, 10]\n",
      "Lista de números al caudrado:\n",
      "[0, 1, 4, 9, 16, 25, 36, 49, 64, 81, 100]\n"
     ]
    }
   ],
   "source": [
    "def main():\n",
    "    numbers = [n for n in range(11)]\n",
    "    print(f'Lista de números:\\n{numbers}')\n",
    "    \n",
    "    numbers_2 = list(map(lambda x: x**2, numbers))\n",
    "    print(f'Lista de números al caudrado:\\n{numbers_2}')\n",
    "\n",
    "    \n",
    "if __name__ == '__main__':\n",
    "    main()"
   ]
  },
  {
   "cell_type": "markdown",
   "metadata": {},
   "source": [
    "#### `reduce()`:"
   ]
  },
  {
   "cell_type": "markdown",
   "metadata": {},
   "source": [
    "Esta función toma como argumento un conjunto de valores (una lista, tupla o cualquier objeto iterable) y lo \"reduce\" a un único valor. El cómo se obtiene ese único valor a partir de la colección pasada como argumento dependerá de la función aplicada (Segundo parámetro)."
   ]
  },
  {
   "cell_type": "markdown",
   "metadata": {},
   "source": [
    "Imaginemos el ejemplo donde tenemos una lista de números y queremos obtener el resultado de multiplicar cada uno de ellos, es decir, el primero por el segundo por el tercero, etc."
   ]
  },
  {
   "cell_type": "markdown",
   "metadata": {},
   "source": [
    "![](https://i.imgur.com/BZslNRg.png)"
   ]
  },
  {
   "cell_type": "markdown",
   "metadata": {},
   "source": [
    "Veamos como sería una implementación común:"
   ]
  },
  {
   "cell_type": "code",
   "execution_count": 112,
   "metadata": {},
   "outputs": [
    {
     "name": "stdout",
     "output_type": "stream",
     "text": [
      "Numeros: [1, 2, 3, 4, 5, 6, 7, 8, 9, 10]\n",
      "Resultado: 3628800\n"
     ]
    }
   ],
   "source": [
    "def main():\n",
    "    numbers = [n for n in range(1,11)]\n",
    "    print(f'Numeros: {numbers}')\n",
    "    \n",
    "    multiply_all = 1\n",
    "    \n",
    "    for i in numbers:\n",
    "        multiply_all = multiply_all * i\n",
    "    \n",
    "    print(f'Resultado: {multiply_all}')\n",
    "\n",
    "\n",
    "if __name__ == '__main__':\n",
    "    main()"
   ]
  },
  {
   "cell_type": "markdown",
   "metadata": {},
   "source": [
    "Ahora veamos la implementación usando la función `reduce()`. En este caso es un tanto diferente ya que tenemos que importar la función del módulo `functools` antes de usarla.\n",
    "\n",
    "Recibirá a la función lambda como primer parámetro y a nuestra lista de números como segundo parámetro.\n",
    "\n",
    "Lambda recibe dos parámetros: `a` y `b`, es decir, el primer y segundo elemento de la lista. En este caso en particular comenzamos con `1*2=2`, después con`2*3=6`, luego con `6*4=24` y así sucesivamente."
   ]
  },
  {
   "cell_type": "code",
   "execution_count": 113,
   "metadata": {},
   "outputs": [
    {
     "name": "stdout",
     "output_type": "stream",
     "text": [
      "Números: [1, 2, 3, 4, 5, 6, 7, 8, 9, 10]\n",
      "Resultado:3628800\n"
     ]
    }
   ],
   "source": [
    "from functools import reduce\n",
    "\n",
    "def main():\n",
    "    numbers = [n for n in range(1,11)]\n",
    "    print(f'Números: {numbers}')\n",
    "    \n",
    "    multiply_all = reduce(lambda a, b: a*b , numbers)\n",
    "    print(f'Resultado:{multiply_all}')\n",
    "\n",
    "\n",
    "if __name__ == '__main__':\n",
    "    main()"
   ]
  },
  {
   "cell_type": "markdown",
   "metadata": {},
   "source": [
    "---"
   ]
  },
  {
   "cell_type": "markdown",
   "metadata": {},
   "source": [
    "### Proyecto: Filtrando datos"
   ]
  },
  {
   "cell_type": "markdown",
   "metadata": {},
   "source": [
    "Para comenzar este pequeño proyecto vamos a trabajar con esta lista de diccionarios de datos para comenzar a filtrarlos:"
   ]
  },
  {
   "cell_type": "code",
   "execution_count": 114,
   "metadata": {},
   "outputs": [],
   "source": [
    "DATA = [\n",
    "    {\n",
    "        'name': 'Facundo',\n",
    "        'age': 72,\n",
    "        'organization': 'Platzi',\n",
    "        'position': 'Technical Coach',\n",
    "        'language': 'python',\n",
    "    },\n",
    "    {\n",
    "        'name': 'Luisana',\n",
    "        'age': 33,\n",
    "        'organization': 'Globant',\n",
    "        'position': 'UX Designer',\n",
    "        'language': 'javascript',\n",
    "    },\n",
    "    {\n",
    "        'name': 'Héctor',\n",
    "        'age': 19,\n",
    "        'organization': 'Platzi',\n",
    "        'position': 'Associate',\n",
    "        'language': 'ruby',\n",
    "    },\n",
    "    {\n",
    "        'name': 'Gabriel',\n",
    "        'age': 20,\n",
    "        'organization': 'Platzi',\n",
    "        'position': 'Associate',\n",
    "        'language': 'javascript',\n",
    "    },\n",
    "    {\n",
    "        'name': 'Isabella',\n",
    "        'age': 30,\n",
    "        'organization': 'Platzi',\n",
    "        'position': 'QA Manager',\n",
    "        'language': 'java',\n",
    "    },\n",
    "    {\n",
    "        'name': 'Karo',\n",
    "        'age': 23,\n",
    "        'organization': 'Everis',\n",
    "        'position': 'Backend Developer',\n",
    "        'language': 'python',\n",
    "    },\n",
    "    {\n",
    "        'name': 'Ariel',\n",
    "        'age': 32,\n",
    "        'organization': 'Rappi',\n",
    "        'position': 'Support',\n",
    "        'language': '',\n",
    "    },\n",
    "    {\n",
    "        'name': 'Juan',\n",
    "        'age': 17,\n",
    "        'organization': '',\n",
    "        'position': 'Student',\n",
    "        'language': 'go',\n",
    "    },\n",
    "    {\n",
    "        'name': 'Pablo',\n",
    "        'age': 32,\n",
    "        'organization': 'Master',\n",
    "        'position': 'Human Resources Manager',\n",
    "        'language': 'python',\n",
    "    },\n",
    "    {\n",
    "        'name': 'Lorena',\n",
    "        'age': 56,\n",
    "        'organization': 'Python Organization',\n",
    "        'position': 'Language Maker',\n",
    "        'language': 'python',\n",
    "    },\n",
    "]"
   ]
  },
  {
   "cell_type": "markdown",
   "metadata": {},
   "source": [
    "Ahora sí, comencemos a crear el programa"
   ]
  },
  {
   "cell_type": "code",
   "execution_count": 115,
   "metadata": {},
   "outputs": [
    {
     "name": "stdout",
     "output_type": "stream",
     "text": [
      "All Python Devs: ['Facundo', 'Karo', 'Pablo', 'Lorena']\n",
      "All Platzi Workers: ['Facundo', 'Héctor', 'Gabriel', 'Isabella']\n",
      "Adults: ['Facundo', 'Luisana', 'Héctor', 'Gabriel', 'Isabella', 'Karo', 'Ariel', 'Pablo', 'Lorena']\n"
     ]
    }
   ],
   "source": [
    "DATA = [\n",
    "    {\n",
    "        'name': 'Facundo',\n",
    "        'age': 72,\n",
    "        'organization': 'Platzi',\n",
    "        'position': 'Technical Coach',\n",
    "        'language': 'python',\n",
    "    },\n",
    "    {\n",
    "        'name': 'Luisana',\n",
    "        'age': 33,\n",
    "        'organization': 'Globant',\n",
    "        'position': 'UX Designer',\n",
    "        'language': 'javascript',\n",
    "    },\n",
    "    {\n",
    "        'name': 'Héctor',\n",
    "        'age': 19,\n",
    "        'organization': 'Platzi',\n",
    "        'position': 'Associate',\n",
    "        'language': 'ruby',\n",
    "    },\n",
    "    {\n",
    "        'name': 'Gabriel',\n",
    "        'age': 20,\n",
    "        'organization': 'Platzi',\n",
    "        'position': 'Associate',\n",
    "        'language': 'javascript',\n",
    "    },\n",
    "    {\n",
    "        'name': 'Isabella',\n",
    "        'age': 30,\n",
    "        'organization': 'Platzi',\n",
    "        'position': 'QA Manager',\n",
    "        'language': 'java',\n",
    "    },\n",
    "    {\n",
    "        'name': 'Karo',\n",
    "        'age': 23,\n",
    "        'organization': 'Everis',\n",
    "        'position': 'Backend Developer',\n",
    "        'language': 'python',\n",
    "    },\n",
    "    {\n",
    "        'name': 'Ariel',\n",
    "        'age': 32,\n",
    "        'organization': 'Rappi',\n",
    "        'position': 'Support',\n",
    "        'language': '',\n",
    "    },\n",
    "    {\n",
    "        'name': 'Juan',\n",
    "        'age': 17,\n",
    "        'organization': '',\n",
    "        'position': 'Student',\n",
    "        'language': 'go',\n",
    "    },\n",
    "    {\n",
    "        'name': 'Pablo',\n",
    "        'age': 32,\n",
    "        'organization': 'Master',\n",
    "        'position': 'Human Resources Manager',\n",
    "        'language': 'python',\n",
    "    },\n",
    "    {\n",
    "        'name': 'Lorena',\n",
    "        'age': 56,\n",
    "        'organization': 'Python Organization',\n",
    "        'position': 'Language Maker',\n",
    "        'language': 'python',\n",
    "    },\n",
    "]\n",
    "\n",
    "\n",
    "def run():\n",
    "    \n",
    "    #Worker = datos de cada trabajador individual\n",
    "    all_python_devs = [worker[\"name\"] for worker in DATA\n",
    "                      if worker[\"language\"] == \"python\"] \n",
    "    \n",
    "    all_platzi_workers = [worker[\"name\"] for worker in DATA\n",
    "                         if worker[\"organization\"] == \"Platzi\"]\n",
    "    \n",
    "    adults = list(filter(lambda worker: worker[\"age\"] > 18 , DATA))\n",
    "    adults_name = list(map(lambda worker: worker[\"name\"], adults))\n",
    "    \n",
    "    # El simbolo | sirve para unir diccionarios\n",
    "    # Solo funciona con Python >= 3.9\n",
    "    #old_people = list(map(lambda worker: worker | {\"old\": worker[\"age\"] > 70}, DATA))\n",
    "    old_people = list(map(lambda worker:\n",
    "                          {**worker, **{\"old\": worker[\"age\"] > 70}}, DATA))\n",
    "    \n",
    "    print(f'All Python Devs: {all_python_devs}')\n",
    "    print(f'All Platzi Workers: {all_platzi_workers}')\n",
    "    print(f'Adults: {adults_name}')\n",
    "    #print(f'Olde People: {old_people}')\n",
    "\n",
    "\n",
    "\n",
    "if __name__ == '__main__':\n",
    "    run()"
   ]
  },
  {
   "cell_type": "markdown",
   "metadata": {},
   "source": [
    "Ahora hagamos el mismo ejercicio un poco a la inversa, hagamos las listas `all_python_devs` y `all_platzi_workers` usando las funciones de orden superior `filer()` y `map()`.\n",
    "\n",
    "Y para el caso de `old_people` y `adults` hagamoslas con list comprehensions."
   ]
  },
  {
   "cell_type": "code",
   "execution_count": 116,
   "metadata": {},
   "outputs": [
    {
     "name": "stdout",
     "output_type": "stream",
     "text": [
      "All Python Devs: ['Facundo', 'Karo', 'Pablo', 'Lorena']\n",
      "All Platzi workers: ['Facundo', 'Héctor', 'Gabriel', 'Isabella']\n",
      "Adult People: ['Facundo', 'Luisana', 'Héctor', 'Gabriel', 'Isabella', 'Karo', 'Ariel', 'Pablo', 'Lorena']\n",
      "\n",
      "New Key: Old People\n",
      " [{'name': 'Facundo', 'age': 72, 'organization': 'Platzi', 'position': 'Technical Coach', 'language': 'python', 'old': True}, {'name': 'Luisana', 'age': 33, 'organization': 'Globant', 'position': 'UX Designer', 'language': 'javascript', 'old': False}, {'name': 'Héctor', 'age': 19, 'organization': 'Platzi', 'position': 'Associate', 'language': 'ruby', 'old': False}, {'name': 'Gabriel', 'age': 20, 'organization': 'Platzi', 'position': 'Associate', 'language': 'javascript', 'old': False}, {'name': 'Isabella', 'age': 30, 'organization': 'Platzi', 'position': 'QA Manager', 'language': 'java', 'old': False}, {'name': 'Karo', 'age': 23, 'organization': 'Everis', 'position': 'Backend Developer', 'language': 'python', 'old': False}, {'name': 'Ariel', 'age': 32, 'organization': 'Rappi', 'position': 'Support', 'language': '', 'old': False}, {'name': 'Juan', 'age': 17, 'organization': '', 'position': 'Student', 'language': 'go', 'old': False}, {'name': 'Pablo', 'age': 32, 'organization': 'Master', 'position': 'Human Resources Manager', 'language': 'python', 'old': False}, {'name': 'Lorena', 'age': 56, 'organization': 'Python Organization', 'position': 'Language Maker', 'language': 'python', 'old': False}]\n"
     ]
    }
   ],
   "source": [
    "DATA = [\n",
    "    {\n",
    "        'name': 'Facundo',\n",
    "        'age': 72,\n",
    "        'organization': 'Platzi',\n",
    "        'position': 'Technical Coach',\n",
    "        'language': 'python',\n",
    "    },\n",
    "    {\n",
    "        'name': 'Luisana',\n",
    "        'age': 33,\n",
    "        'organization': 'Globant',\n",
    "        'position': 'UX Designer',\n",
    "        'language': 'javascript',\n",
    "    },\n",
    "    {\n",
    "        'name': 'Héctor',\n",
    "        'age': 19,\n",
    "        'organization': 'Platzi',\n",
    "        'position': 'Associate',\n",
    "        'language': 'ruby',\n",
    "    },\n",
    "    {\n",
    "        'name': 'Gabriel',\n",
    "        'age': 20,\n",
    "        'organization': 'Platzi',\n",
    "        'position': 'Associate',\n",
    "        'language': 'javascript',\n",
    "    },\n",
    "    {\n",
    "        'name': 'Isabella',\n",
    "        'age': 30,\n",
    "        'organization': 'Platzi',\n",
    "        'position': 'QA Manager',\n",
    "        'language': 'java',\n",
    "    },\n",
    "    {\n",
    "        'name': 'Karo',\n",
    "        'age': 23,\n",
    "        'organization': 'Everis',\n",
    "        'position': 'Backend Developer',\n",
    "        'language': 'python',\n",
    "    },\n",
    "    {\n",
    "        'name': 'Ariel',\n",
    "        'age': 32,\n",
    "        'organization': 'Rappi',\n",
    "        'position': 'Support',\n",
    "        'language': '',\n",
    "    },\n",
    "    {\n",
    "        'name': 'Juan',\n",
    "        'age': 17,\n",
    "        'organization': '',\n",
    "        'position': 'Student',\n",
    "        'language': 'go',\n",
    "    },\n",
    "    {\n",
    "        'name': 'Pablo',\n",
    "        'age': 32,\n",
    "        'organization': 'Master',\n",
    "        'position': 'Human Resources Manager',\n",
    "        'language': 'python',\n",
    "    },\n",
    "    {\n",
    "        'name': 'Lorena',\n",
    "        'age': 56,\n",
    "        'organization': 'Python Organization',\n",
    "        'position': 'Language Maker',\n",
    "        'language': 'python',\n",
    "    },\n",
    "]\n",
    "\n",
    "def run():\n",
    "    all_python_devs = list(filter(lambda worker: worker[\"language\"]==\"python\", DATA))\n",
    "    all_python_devs_names = list(map(lambda worker: worker[\"name\"], all_python_devs))\n",
    "    \n",
    "    all_platzi_workers = list(filter(lambda worker:\n",
    "                                     worker[\"organization\"] == \"Platzi\" , DATA))\n",
    "    all_platzi_workers_name = list(map(lambda worker:\n",
    "                                      worker[\"name\"] , all_platzi_workers))\n",
    "    adult = [worker[\"name\"] for worker in DATA if worker[\"age\"]>18]\n",
    "    \n",
    "    old_people = [{**worker, **{'old': worker['age'] > 70}} for worker in DATA]\n",
    "    \n",
    "    print(f'All Python Devs: {all_python_devs_names}')\n",
    "    print(f'All Platzi workers: {all_platzi_workers_name}')\n",
    "    print(f'Adult People: {adult}')\n",
    "    print(f'\\nNew Key: Old People\\n {old_people}')\n",
    "\n",
    "  \n",
    "if __name__ == '__main__':\n",
    "    run()"
   ]
  },
  {
   "cell_type": "markdown",
   "metadata": {},
   "source": [
    "---"
   ]
  },
  {
   "cell_type": "markdown",
   "metadata": {},
   "source": [
    "## Módulo 5. Manejo de errores"
   ]
  },
  {
   "cell_type": "markdown",
   "metadata": {},
   "source": [
    "### Los errores en el código"
   ]
  },
  {
   "cell_type": "markdown",
   "metadata": {},
   "source": [
    "Vamos a dividir los posibles errores en 2 categorías:\n",
    "\n",
    "* **Python nos avisa que hay un error:** Python nos devuelve un traceback que contiene más información sobre el error.\n",
    "\n",
    "* **Python NO nos avisa sobre el error:** Es decir, hay un *error de lógica* dentro del funcionamiento de nuestro algoritmo."
   ]
  },
  {
   "cell_type": "markdown",
   "metadata": {},
   "source": [
    "Para el primer caso, donde recibimos una notificación de Python; vamos a dividir los problemas de la siguiente manera:"
   ]
  },
  {
   "cell_type": "markdown",
   "metadata": {},
   "source": [
    "![](https://i.imgur.com/Mj0x0g9.png)"
   ]
  },
  {
   "cell_type": "markdown",
   "metadata": {},
   "source": [
    "Las ramas principales de nuestros errores son los **errores de sintaxis** (está mal escrita alguna parte del código) y las **excepciones**.\n",
    "\n",
    "Existe una diferencia principal entre estos 2 tipos de errores. Cuando se trata de un error de sintaxis **el programa se detiene antes de que Python ejecute la primer línea de código**, mientras que en un error de excepciones hace que la lógica del programa de quiebre **una vez llegando a esa linea de código en particular**, por ejemplo, cuando dividimos entre 0."
   ]
  },
  {
   "cell_type": "markdown",
   "metadata": {},
   "source": [
    "Vamos a basarnos en la [documentación de Python](https://docs.python.org/es/3/tutorial/errors.html) para revisar lo siguiente:"
   ]
  },
  {
   "cell_type": "markdown",
   "metadata": {},
   "source": [
    "#### Errores de sintaxis"
   ]
  },
  {
   "cell_type": "markdown",
   "metadata": {},
   "source": [
    "Los errores de sintaxis, también conocidos como errores de interpretación, son quizá el tipo de queja más común que tendremos.\n",
    "\n",
    "Veamos un ejemplo"
   ]
  },
  {
   "cell_type": "code",
   "execution_count": 117,
   "metadata": {},
   "outputs": [
    {
     "ename": "SyntaxError",
     "evalue": "invalid syntax (<ipython-input-117-ee70e2354ab3>, line 1)",
     "output_type": "error",
     "traceback": [
      "\u001b[1;36m  File \u001b[1;32m\"<ipython-input-117-ee70e2354ab3>\"\u001b[1;36m, line \u001b[1;32m1\u001b[0m\n\u001b[1;33m    while True print(\"Holi\")\u001b[0m\n\u001b[1;37m               ^\u001b[0m\n\u001b[1;31mSyntaxError\u001b[0m\u001b[1;31m:\u001b[0m invalid syntax\n"
     ]
    }
   ],
   "source": [
    "while True print(\"Holi\")"
   ]
  },
  {
   "cell_type": "markdown",
   "metadata": {},
   "source": [
    "Lo que pasa aquí es que el intérprete regresa la línea responsable del error (la parte amarilla) y muestra una pequeña flecha que apunta al primer lugar donde se detectó el error (punta de flecha gris). En este caso el error ha sido provocado (o al menos detectado) en el elemento que precede a la flecha que es la instrucción `print` ya que nos hicieron falta los dos puntos `:` antes del mismo. La instrucción correcta debió ser `while True: print(\"Holi\")`.\n",
    "\n",
    "Además se nos muestra el nombre del archivo ` File \"<ipython-input-6-ee70e2354ab3>\"` (en este caso una celda del notebook) y la línea donde se detectó el error `line 1`."
   ]
  },
  {
   "cell_type": "markdown",
   "metadata": {},
   "source": [
    "#### Excepciones"
   ]
  },
  {
   "cell_type": "markdown",
   "metadata": {},
   "source": [
    "Incluso si una declaración o expresión es sintácticamente correcta, puede generar un error cuando se intenta ejecutar. **Los errores detectados durante la ejecución** se llaman *excepciones*, y no son incondicionalmente fatales. Sin embargo la mayoría de excepciones no son gestionadas por el código, y resultan en mensajes de error como los siguientes:"
   ]
  },
  {
   "cell_type": "code",
   "execution_count": 118,
   "metadata": {},
   "outputs": [
    {
     "ename": "ZeroDivisionError",
     "evalue": "division by zero",
     "output_type": "error",
     "traceback": [
      "\u001b[1;31m---------------------------------------------------------------------------\u001b[0m",
      "\u001b[1;31mZeroDivisionError\u001b[0m                         Traceback (most recent call last)",
      "\u001b[1;32m<ipython-input-118-0b280f36835c>\u001b[0m in \u001b[0;36m<module>\u001b[1;34m\u001b[0m\n\u001b[1;32m----> 1\u001b[1;33m \u001b[1;36m10\u001b[0m \u001b[1;33m*\u001b[0m \u001b[1;33m(\u001b[0m\u001b[1;36m1\u001b[0m\u001b[1;33m/\u001b[0m\u001b[1;36m0\u001b[0m\u001b[1;33m)\u001b[0m\u001b[1;33m\u001b[0m\u001b[1;33m\u001b[0m\u001b[0m\n\u001b[0m",
      "\u001b[1;31mZeroDivisionError\u001b[0m: division by zero"
     ]
    }
   ],
   "source": [
    "10 * (1/0)"
   ]
  },
  {
   "cell_type": "code",
   "execution_count": 119,
   "metadata": {},
   "outputs": [
    {
     "ename": "NameError",
     "evalue": "name 'spam' is not defined",
     "output_type": "error",
     "traceback": [
      "\u001b[1;31m---------------------------------------------------------------------------\u001b[0m",
      "\u001b[1;31mNameError\u001b[0m                                 Traceback (most recent call last)",
      "\u001b[1;32m<ipython-input-119-c98bb92cdcac>\u001b[0m in \u001b[0;36m<module>\u001b[1;34m\u001b[0m\n\u001b[1;32m----> 1\u001b[1;33m \u001b[1;36m4\u001b[0m \u001b[1;33m+\u001b[0m \u001b[0mspam\u001b[0m\u001b[1;33m*\u001b[0m\u001b[1;36m3\u001b[0m\u001b[1;33m\u001b[0m\u001b[1;33m\u001b[0m\u001b[0m\n\u001b[0m",
      "\u001b[1;31mNameError\u001b[0m: name 'spam' is not defined"
     ]
    }
   ],
   "source": [
    "4 + spam*3"
   ]
  },
  {
   "cell_type": "code",
   "execution_count": 120,
   "metadata": {},
   "outputs": [
    {
     "ename": "TypeError",
     "evalue": "can only concatenate str (not \"int\") to str",
     "output_type": "error",
     "traceback": [
      "\u001b[1;31m---------------------------------------------------------------------------\u001b[0m",
      "\u001b[1;31mTypeError\u001b[0m                                 Traceback (most recent call last)",
      "\u001b[1;32m<ipython-input-120-d2b23a1db757>\u001b[0m in \u001b[0;36m<module>\u001b[1;34m\u001b[0m\n\u001b[1;32m----> 1\u001b[1;33m \u001b[1;34m'2'\u001b[0m \u001b[1;33m+\u001b[0m \u001b[1;36m2\u001b[0m\u001b[1;33m\u001b[0m\u001b[1;33m\u001b[0m\u001b[0m\n\u001b[0m",
      "\u001b[1;31mTypeError\u001b[0m: can only concatenate str (not \"int\") to str"
     ]
    }
   ],
   "source": [
    "'2' + 2"
   ]
  },
  {
   "cell_type": "markdown",
   "metadata": {},
   "source": [
    "La última línea de los mensajes de error indica qué ha sucedido. Hay excepciones de diferentes tipos, y el tipo se imprime como parte del mensaje: `ZeroDivisionError`, `NameError` y `TypeError`. La cadena mostrada como tipo de la excepción es el nombre de la excepción predefinida que ha ocurrido. Esto es válido para todas las excepciones predefinidas del intérprete, pero no tiene por que ser así para excepciones definidas por el usuario.\n",
    "\n",
    "El resto de la línea provee información basado en el tipo de la excepción que la causó."
   ]
  },
  {
   "cell_type": "markdown",
   "metadata": {},
   "source": [
    "---"
   ]
  },
  {
   "cell_type": "markdown",
   "metadata": {},
   "source": [
    "Vamos a ver las principales excepciones que nos podemos encontrar en Python:\n",
    "\n",
    "* `KeyboardInterrupt`: Esta aparece cuando nosotros pulsamos `CTRL + C` y detenemos la consola interactiva de Python. Es decir, cortamos el proceso y cerramos todo, esto lo logra **elevando** una excepción.\n",
    "\n",
    "    A lo que nos referimos con elevar es que Python internamente crea un objeto de tipo *excepcion* o error y lo va moviendo a través de nuestro programa desde los bloques de dentro hacía afuera (le va a ir dando más peso).\n",
    "\n",
    "\n",
    "\n",
    "* `KeyError`: Este error ocurre cuando tratamos de acceder a una llave que no existe dentro de un diccionario.\n",
    "\n",
    "\n",
    "\n",
    "* `IndexError`: Esta es el caso anterior, pero en listas. Ocurre cuando tratamos de acceder a un índice que no existe dentro de una lista.\n",
    "\n",
    "\n",
    "* `FileNotFoundError`: Ocurre cuando tratamos de abrir un archivo en Python que no existe dentro de la ruta especificada.\n",
    "\n",
    "\n",
    "\n",
    "* `ZeroDivisionError`: Error que aparece cuando tratamos de realizar una división entre 0 (matemáticamente indefinida).\n",
    "\n",
    "\n",
    "\n",
    "* `ImportError`: Ocurre cuando intentamos importar un módulo y éste está mal escrito, tiene errores con el resto de módulos, etc.\n",
    "\n",
    "\n",
    "para revisar el resto de excepciones [revisar la documentación](https://docs.python.org/es/3/library/exceptions.html#bltin-exceptions)."
   ]
  },
  {
   "cell_type": "markdown",
   "metadata": {},
   "source": [
    "#### Traceback"
   ]
  },
  {
   "cell_type": "markdown",
   "metadata": {},
   "source": [
    "Este es el nombre que recibe el mensaje que se arroja en pantalla cuando ocurre un error. Y generalmente tiene la siguiente forma aunque a veces puede ser un mensaje mucho más largo"
   ]
  },
  {
   "cell_type": "markdown",
   "metadata": {},
   "source": [
    "![](https://i.imgur.com/YXneQjo.png)"
   ]
  },
  {
   "cell_type": "markdown",
   "metadata": {},
   "source": [
    "La forma correcta de leer el traceback es leyéndolo desde el final hacía el inicio. Ya que hasta el final de la línea se nos índica el tipo de excepción que ha ocurrido, antes de ella tenemos el archivo, la línea y el módulo en los cuales ocurrió el error. "
   ]
  },
  {
   "cell_type": "markdown",
   "metadata": {},
   "source": [
    "---"
   ]
  },
  {
   "cell_type": "markdown",
   "metadata": {},
   "source": [
    "### Debugging o depuración"
   ]
  },
  {
   "cell_type": "markdown",
   "metadata": {},
   "source": [
    "Ahora, vamos a concentrarnos en como resolver aquellos errores de lógica en donde Python no nos avisa que tenemos un error ya que las instrucciones están bien escritas, pero estamos obteniendo resultados indeseables. Para ello haremos uso de algo conocido como debugging."
   ]
  },
  {
   "cell_type": "markdown",
   "metadata": {},
   "source": [
    "Para entender este concepto vamos a crear un programa que esté mal hecho adrede y aprovecharemos una herramienta incorporada dentro de VisualStudioCode para hacer debugging.\n",
    "\n",
    "Nuestro programa tratará de recibir un número como parámetro y retornar una lista con todos los posibles divisores de ese número:"
   ]
  },
  {
   "cell_type": "code",
   "execution_count": 122,
   "metadata": {},
   "outputs": [
    {
     "name": "stdout",
     "output_type": "stream",
     "text": [
      "Ingrese un número para obtener sus divisores: 10\n",
      "[3, 9]\n"
     ]
    }
   ],
   "source": [
    "def divisors(num):\n",
    "    divisors = []\n",
    "    for i in range (1, num + 1):\n",
    "        if num % i == 1:\n",
    "            divisors.append(i)\n",
    "    return divisors\n",
    "\n",
    "def run():\n",
    "    num = int(input('Ingrese un número para obtener sus divisores: '))\n",
    "    print(divisors(num))\n",
    "\n",
    "\n",
    "if __name__ == '__main__':\n",
    "    run()"
   ]
  },
  {
   "cell_type": "markdown",
   "metadata": {},
   "source": [
    "Para arreglar el problema usaremos una herramienta de VS para hacer debugging que tiene el siguiente icono en la parte lateral izquierda:"
   ]
  },
  {
   "cell_type": "markdown",
   "metadata": {},
   "source": [
    "![](https://i.imgur.com/FJGRVbZ.png)"
   ]
  },
  {
   "cell_type": "markdown",
   "metadata": {},
   "source": [
    "Nos abrirá el siguiente recuadro y daremos click en el botón azul \"run and Debug\""
   ]
  },
  {
   "cell_type": "markdown",
   "metadata": {},
   "source": [
    "![](https://i.imgur.com/whWLm4q.png)"
   ]
  },
  {
   "cell_type": "markdown",
   "metadata": {},
   "source": [
    "Seleccionamos la opción donde dice `Python file` "
   ]
  },
  {
   "cell_type": "markdown",
   "metadata": {},
   "source": [
    "![](https://i.imgur.com/Wwd6Jpq.png)"
   ]
  },
  {
   "cell_type": "markdown",
   "metadata": {},
   "source": [
    "Y vamos a ver que tenemos las siguientes opciones además de que el programa comienza a correr en la terminal de VS para debugging:"
   ]
  },
  {
   "cell_type": "markdown",
   "metadata": {},
   "source": [
    "![](https://i.imgur.com/Z6UeDBI.png)\n",
    "\n",
    "![](https://i.imgur.com/WAscUa1.png)"
   ]
  },
  {
   "cell_type": "markdown",
   "metadata": {},
   "source": [
    "Si presionamos el botón de pausa y luego ingresamos nuestro número a evaluar veremos lo siguiente:"
   ]
  },
  {
   "cell_type": "markdown",
   "metadata": {},
   "source": [
    "![](https://i.imgur.com/KOOb5oW.png)"
   ]
  },
  {
   "cell_type": "markdown",
   "metadata": {},
   "source": [
    "la linea `print(divisor(num))` se marca de amarillo. Esto nos índica que el programa se ejecutó, pero está parado en esa línea. \n",
    "\n",
    "Además podemos ver que la barra superior habilita el resto de sus opciones:"
   ]
  },
  {
   "cell_type": "markdown",
   "metadata": {},
   "source": [
    "![](https://i.imgur.com/SkTpgBt.png)"
   ]
  },
  {
   "cell_type": "markdown",
   "metadata": {},
   "source": [
    "Como en este momento estamos en la instrucción `print(divisor(num))` y sabemos que ahí está ocurriendo nuestro error, presionamos la flecha hacía abajo (Step into o \"Depurar paso a paso por instrucciones\"), también funciona presionando F11.\n",
    "\n",
    "Esto nos llevará a la función a la que hace referencia nuestro print anterior, de forma que ahora estamos dentro de la función `divisors()` y ahora podemos visualizar en la parte izquierda el como se van comportando nuestras variables a lo largo del programa."
   ]
  },
  {
   "cell_type": "markdown",
   "metadata": {},
   "source": [
    "![](https://i.imgur.com/i8RYsge.png)"
   ]
  },
  {
   "cell_type": "markdown",
   "metadata": {},
   "source": [
    "Ahora, presionando el botón de \"depurar paso a paso por procedimientos\" o con F10. Podremos ver como se comporta esa sección del programa paso a paso y evaluar en que punto arroja resultados diferentes a los que nosotros esperamos."
   ]
  },
  {
   "cell_type": "markdown",
   "metadata": {},
   "source": [
    "Al hacer el debugging nos damos cuenta que la instrucción `if num % i == 1:` está mal, y que la línea correcta debería de ser `if num % i == 0:` ya que la operación `%` índica los restantes de una división, por lo que al tener un número que sea divisor éste tendrá que ser = 0."
   ]
  },
  {
   "cell_type": "markdown",
   "metadata": {},
   "source": [
    "Entonces nuestro programa quedaría de la siguiente forma:"
   ]
  },
  {
   "cell_type": "code",
   "execution_count": 42,
   "metadata": {},
   "outputs": [
    {
     "name": "stdout",
     "output_type": "stream",
     "text": [
      "Ingrese un número para obtener sus divisores: 10\n",
      "[1, 2, 5, 10]\n"
     ]
    }
   ],
   "source": [
    "def divisors(num):\n",
    "    divisors = []\n",
    "    for i in range (1, num + 1):\n",
    "        if num % i == 0:\n",
    "            divisors.append(i)\n",
    "    return divisors\n",
    "\n",
    "def run():\n",
    "    num = int(input('Ingrese un número para obtener sus divisores: '))\n",
    "    print(divisors(num))\n",
    "\n",
    "\n",
    "if __name__ == '__main__':\n",
    "    run()"
   ]
  },
  {
   "cell_type": "markdown",
   "metadata": {},
   "source": [
    "Y ahora sí está funcionando correctamente."
   ]
  },
  {
   "cell_type": "markdown",
   "metadata": {},
   "source": [
    "Como complemento adicional revisemos otra opción que nos permite el debugger de VS. Hablemos de los **break points**."
   ]
  },
  {
   "cell_type": "markdown",
   "metadata": {},
   "source": [
    "#### BreakPoints"
   ]
  },
  {
   "cell_type": "markdown",
   "metadata": {},
   "source": [
    "Imaginemos que tenemos un programa de 1000 lineas de código y a nosotros nos interesa revisar que pasa en la línea número 630, pero no queremos recorrer todo el programa hasta llegar ahí. Entonces, ¿Qué pasaría si quiero pausar en una línea específica de mi programa al hacer el debuggin? "
   ]
  },
  {
   "cell_type": "markdown",
   "metadata": {},
   "source": [
    "Para ello, **antes de empezar el debugging** vamos a presionar en la parte izquierda de nuestras líneas de código el círculito rojo en  la línea hasta la que queremos llegar. Éste círculo rojo se llama *punto de interrupción*."
   ]
  },
  {
   "cell_type": "markdown",
   "metadata": {},
   "source": [
    "![](https://i.imgur.com/MMZRGC2.png)"
   ]
  },
  {
   "cell_type": "markdown",
   "metadata": {},
   "source": [
    "En este caso particular, estamos colocando nuestro **breakpoint** en la instrucción `if num % i == 0:` dentro de nuestro *for loop*."
   ]
  },
  {
   "cell_type": "markdown",
   "metadata": {},
   "source": [
    "Una vez colocado el breakpoint corremos nuestro debugger como lo hicimos anteriormente y al ejecutar nuestro programa veremos como se detiene en esa línea que marcamos, que en este caso es la línea 4. Esta herramienta nos ayudará a agilizar nuestro proceso de depuración."
   ]
  },
  {
   "cell_type": "markdown",
   "metadata": {},
   "source": [
    "---"
   ]
  },
  {
   "cell_type": "markdown",
   "metadata": {},
   "source": [
    "### Manejo de excepciones"
   ]
  },
  {
   "cell_type": "markdown",
   "metadata": {},
   "source": [
    "Para ello comencemos hablando de las palabras clave `try` y `except`."
   ]
  },
  {
   "cell_type": "markdown",
   "metadata": {},
   "source": [
    "#### `Try / Except`:"
   ]
  },
  {
   "cell_type": "markdown",
   "metadata": {},
   "source": [
    "La declaración `try-except` funciona de la siguiente forma:\n",
    "\n",
    "* Primero, se ejecuta la cláusula `try`.\n",
    "* Si no ocurre ninguna excepción, la cláusula `except` se omite y la ejecución de la cláusula `try` finaliza.\n",
    "* Si ocurre una excepción durante la ejecución de la cláusula `try`, el resto de la cláusula será omitida. Después, si el tipo de excepción coincide con las excepción indicada después de la cláusula `except`,  ejecutamos a `except` después de `try`.\n",
    "* Si ocurre una excepción que no coincide con la indicada en la cláusula `except` se pasa a los `try` más externos; si no se encuentra un gestor, se genera una *unhandled  exception* (excepción no gestionada) y la ejecución se interrumpe con un mensaje.\n",
    "* Una declaración `try` puede tener más de un `except`, para especificar gestores para distintas excepciones. A lo sumo un bloque será ejecutado. Sólo se gestionarán excepciones que ocurren en el correspondiente `try`, no en otros bloques del mismo `try`. Un `except` puede nombrar múltiples excepciones usando paréntesis, por ejemplo:\n",
    "\n",
    "```py\n",
    "except (RuntimeError, TypeError, NameError):\n",
    "        pass\n",
    "```"
   ]
  },
  {
   "cell_type": "markdown",
   "metadata": {},
   "source": [
    "Revisemos un caso en donde Python nos arrojaría una excepción de este estilo en pantalla:"
   ]
  },
  {
   "cell_type": "code",
   "execution_count": 31,
   "metadata": {},
   "outputs": [
    {
     "ename": "TypeError",
     "evalue": "'int' object is not subscriptable",
     "output_type": "error",
     "traceback": [
      "\u001b[1;31m---------------------------------------------------------------------------\u001b[0m",
      "\u001b[1;31mTypeError\u001b[0m                                 Traceback (most recent call last)",
      "\u001b[1;32m<ipython-input-31-28b6c730da9f>\u001b[0m in \u001b[0;36m<module>\u001b[1;34m\u001b[0m\n\u001b[0;32m      2\u001b[0m     \u001b[1;32mreturn\u001b[0m \u001b[0mstring\u001b[0m \u001b[1;33m==\u001b[0m \u001b[0mstring\u001b[0m\u001b[1;33m[\u001b[0m\u001b[1;33m:\u001b[0m\u001b[1;33m:\u001b[0m\u001b[1;33m-\u001b[0m\u001b[1;36m1\u001b[0m\u001b[1;33m]\u001b[0m\u001b[1;33m\u001b[0m\u001b[1;33m\u001b[0m\u001b[0m\n\u001b[0;32m      3\u001b[0m \u001b[1;33m\u001b[0m\u001b[0m\n\u001b[1;32m----> 4\u001b[1;33m \u001b[0mprint\u001b[0m\u001b[1;33m(\u001b[0m\u001b[0mpalindrome\u001b[0m\u001b[1;33m(\u001b[0m\u001b[1;36m1\u001b[0m\u001b[1;33m)\u001b[0m\u001b[1;33m)\u001b[0m\u001b[1;33m\u001b[0m\u001b[1;33m\u001b[0m\u001b[0m\n\u001b[0m",
      "\u001b[1;32m<ipython-input-31-28b6c730da9f>\u001b[0m in \u001b[0;36mpalindrome\u001b[1;34m(string)\u001b[0m\n\u001b[0;32m      1\u001b[0m \u001b[1;32mdef\u001b[0m \u001b[0mpalindrome\u001b[0m\u001b[1;33m(\u001b[0m\u001b[0mstring\u001b[0m\u001b[1;33m)\u001b[0m\u001b[1;33m:\u001b[0m\u001b[1;33m\u001b[0m\u001b[1;33m\u001b[0m\u001b[0m\n\u001b[1;32m----> 2\u001b[1;33m     \u001b[1;32mreturn\u001b[0m \u001b[0mstring\u001b[0m \u001b[1;33m==\u001b[0m \u001b[0mstring\u001b[0m\u001b[1;33m[\u001b[0m\u001b[1;33m:\u001b[0m\u001b[1;33m:\u001b[0m\u001b[1;33m-\u001b[0m\u001b[1;36m1\u001b[0m\u001b[1;33m]\u001b[0m\u001b[1;33m\u001b[0m\u001b[1;33m\u001b[0m\u001b[0m\n\u001b[0m\u001b[0;32m      3\u001b[0m \u001b[1;33m\u001b[0m\u001b[0m\n\u001b[0;32m      4\u001b[0m \u001b[0mprint\u001b[0m\u001b[1;33m(\u001b[0m\u001b[0mpalindrome\u001b[0m\u001b[1;33m(\u001b[0m\u001b[1;36m1\u001b[0m\u001b[1;33m)\u001b[0m\u001b[1;33m)\u001b[0m\u001b[1;33m\u001b[0m\u001b[1;33m\u001b[0m\u001b[0m\n",
      "\u001b[1;31mTypeError\u001b[0m: 'int' object is not subscriptable"
     ]
    }
   ],
   "source": [
    "def palindrome(string):\n",
    "    return string == string[::-1]\n",
    "\n",
    "print(palindrome(1))"
   ]
  },
  {
   "cell_type": "markdown",
   "metadata": {},
   "source": [
    "En este caso la función espera recibir un dato de tipo `string` en la entrada, no un tipo `int`. Este error podría ocurrir al crear una aplicación o programa para un cliente y que éste ingrese algún dato que nosotros nos esperabamos que ingresara, por lo que tenemos que anticiparnos a ello."
   ]
  },
  {
   "cell_type": "markdown",
   "metadata": {},
   "source": [
    "Para ello utilizaremos las keywords `try` y `except`."
   ]
  },
  {
   "cell_type": "code",
   "execution_count": 32,
   "metadata": {},
   "outputs": [
    {
     "name": "stdout",
     "output_type": "stream",
     "text": [
      "Solo se pueden ingresar strings\n"
     ]
    }
   ],
   "source": [
    "def palindrome(string):\n",
    "    return string == string[::-1]\n",
    "\n",
    "try:\n",
    "    print(palindrome(1)) \n",
    "except TypeError:\n",
    "    print('Solo se pueden ingresar strings')"
   ]
  },
  {
   "cell_type": "markdown",
   "metadata": {},
   "source": [
    "También podemos agregar un `else` o un `finally` a nuestro `try-except` de forma que hará lo siguiente:"
   ]
  },
  {
   "cell_type": "markdown",
   "metadata": {},
   "source": [
    "* `try`: Aquí colocamos el código que esperamos que pueda lanzar un error.\n",
    "\n",
    "\n",
    "* `except`: Aquí anticipamos y manejamos el posible error, es decir, si llega a ocurrir un error dentro del bloque `try`, se deja de ejecutar el código y ejecutamos lo que tengamos definido en `except`.\n",
    "\n",
    "\n",
    "* `else`: Esta parte se ejecutará solo sí no hubo ninguna excepción lanzada desde el `try`.\n",
    "\n",
    "\n",
    "* `finally`: Se ejecuta SIEMPRE, haya sido lanzada o no la excepción."
   ]
  },
  {
   "cell_type": "code",
   "execution_count": 33,
   "metadata": {},
   "outputs": [
    {
     "name": "stdout",
     "output_type": "stream",
     "text": [
      "Solo se pueden ingresar strings\n",
      "Esta línea se ejecuta SIEMPRE\n"
     ]
    }
   ],
   "source": [
    "def palindrome(string):\n",
    "    return string == string[::-1]\n",
    "\n",
    "try:\n",
    "    print(palindrome(1)) \n",
    "    #print(palindrome('1')) \n",
    "except TypeError:\n",
    "    print('Solo se pueden ingresar strings')\n",
    "else: \n",
    "    print('No ocurrió ninguna excepción :)')\n",
    "finally:\n",
    "    print('Esta línea se ejecuta SIEMPRE')"
   ]
  },
  {
   "cell_type": "markdown",
   "metadata": {},
   "source": [
    "#### `raise`:"
   ]
  },
  {
   "cell_type": "markdown",
   "metadata": {},
   "source": [
    "La declaración `raise()` permite al programador a forzar la ocurrencia de una excepción específica, por ejemplo:\n",
    "\n",
    "```py\n",
    ">>> raise NameError('HiThere')\n",
    "Traceback (most recent call last):\n",
    "  File \"<stdin>\", line 1, in <module>\n",
    "NameError: HiThere\n",
    "```\n",
    "\n",
    "El único argumento a plantear indica la excepción que vamos a forzar. Éste debe de ser una *instancia de excepción o una clase de excepción*. Si se pasa una clase de excepción, se instanciará implícitamente llamando a su constructor sin argumentos:\n",
    "\n",
    "```py\n",
    "raise ValueError  \n",
    "\n",
    "```"
   ]
  },
  {
   "cell_type": "markdown",
   "metadata": {},
   "source": [
    "Ahora veamos que pasa cuando tenemos un error en nuestro programa, pero Python no lo detecta en sí como un error y queremos anticiparlo."
   ]
  },
  {
   "cell_type": "code",
   "execution_count": 34,
   "metadata": {},
   "outputs": [
    {
     "name": "stdout",
     "output_type": "stream",
     "text": [
      "True\n"
     ]
    }
   ],
   "source": [
    "def palindrome(string):\n",
    "    return string == string[::-1]\n",
    "\n",
    "try:\n",
    "    print(palindrome(\"\")) \n",
    "except TypeError:\n",
    "    print('Solo se pueden ingresar strings')"
   ]
  },
  {
   "cell_type": "markdown",
   "metadata": {},
   "source": [
    "En este caso si estamos pasando una cadena de caracteres, pero es una cadena vacía. \n",
    "\n",
    "Al final del día Python si está realizando correctamente la tarea, ya que una cadena vacía es igual que una cadena vacía al revés, por ello nos devuelve true, pero nosotros sabemos que no es correcto que el usuario simplemente presione enter y deje el input vacío.\n",
    "\n",
    "Para ello incorporaremos la keyword `raise`."
   ]
  },
  {
   "cell_type": "code",
   "execution_count": 35,
   "metadata": {},
   "outputs": [
    {
     "name": "stdout",
     "output_type": "stream",
     "text": [
      "No se puede ingresar una cadena vacía\n",
      "False\n"
     ]
    }
   ],
   "source": [
    "def palindrome(string):\n",
    "    \n",
    "    try:\n",
    "        if len(string) == 0:\n",
    "            raise ValueError(\"No se puede ingresar una cadena vacía\")\n",
    "        return string == string[::-1]\n",
    "    \n",
    "    except ValueError as ve:\n",
    "        print(ve)\n",
    "        return False\n",
    "\n",
    "try: \n",
    "    print(palindrome(\"\"))\n",
    "except:\n",
    "    print(\"Solo se pueden ingresar strings\")"
   ]
  },
  {
   "cell_type": "markdown",
   "metadata": {},
   "source": [
    "Podemos ver que ahora tenemos un nuevo `try-except` que engloba a la función de arriba.\n",
    "\n",
    "En el bloque `try` decimos, \"verificar si la longitud del string es igual a 0 entonces, **eleva** un error del tipo `ValueError` y en el paréntesis agrega el mensaje a mostrar junto con el error (\"No se puede ingresar una cadena vacía\") ;  si la longitud del string es diferentes de 0, regresa el resultado de la expresión `string == string[::-1]`\".\n",
    "\n",
    "Ahora, en el bloque`except` decimos, excepto de que haya ocurrido un `ValueError` como un `ve` es decir, estamos nombrando a nuestro error anterior de tipo `ValueError` con el nombre `ve`; imprime (`print`) el mensaje correspondiente a ese error y retorna `False` ya que para los fines del programa un espacio en blanco no corresponde con un palíndromo."
   ]
  },
  {
   "cell_type": "markdown",
   "metadata": {},
   "source": [
    "#### `finally`:"
   ]
  },
  {
   "cell_type": "markdown",
   "metadata": {},
   "source": [
    "Esta keyword es muy rara de utilizar y se utiliza generalmente, al final de una estructura `try-except` que se puede utilizar para cosas como:\n",
    "\n",
    "* Cerrar un archivo dentro de Python.\n",
    "* Cerrar una conexión a una base de datos.\n",
    "* Liberar recursos externos.\n",
    "\n",
    "Y está instrucción dentro de `finally` **siempre se ejecutará al final de nuestra estructura `try-except`** suceda o no un `except`."
   ]
  },
  {
   "cell_type": "markdown",
   "metadata": {},
   "source": [
    "Veamos un ejemplo:"
   ]
  },
  {
   "cell_type": "markdown",
   "metadata": {},
   "source": [
    "```py\n",
    "try:\n",
    "    f = open(\"archivo.txt\")\n",
    "finally:\n",
    "    f.close()\n",
    "```"
   ]
  },
  {
   "cell_type": "markdown",
   "metadata": {},
   "source": [
    "### Poniendo a prueba el manejo de excepciones"
   ]
  },
  {
   "cell_type": "markdown",
   "metadata": {},
   "source": [
    "¿Cómo nos anticiparíamos en el siguiente programa a que el usuario ingrese valores que no sean números, por ejemplo una letra o string?"
   ]
  },
  {
   "cell_type": "code",
   "execution_count": 38,
   "metadata": {},
   "outputs": [
    {
     "name": "stdout",
     "output_type": "stream",
     "text": [
      "Ingrese un número para obtener sus divisores: h\n"
     ]
    },
    {
     "ename": "ValueError",
     "evalue": "invalid literal for int() with base 10: 'h'",
     "output_type": "error",
     "traceback": [
      "\u001b[1;31m---------------------------------------------------------------------------\u001b[0m",
      "\u001b[1;31mValueError\u001b[0m                                Traceback (most recent call last)",
      "\u001b[1;32m<ipython-input-38-9f65f601cf3e>\u001b[0m in \u001b[0;36m<module>\u001b[1;34m\u001b[0m\n\u001b[0;32m     12\u001b[0m \u001b[1;33m\u001b[0m\u001b[0m\n\u001b[0;32m     13\u001b[0m \u001b[1;32mif\u001b[0m \u001b[0m__name__\u001b[0m \u001b[1;33m==\u001b[0m \u001b[1;34m'__main__'\u001b[0m\u001b[1;33m:\u001b[0m\u001b[1;33m\u001b[0m\u001b[1;33m\u001b[0m\u001b[0m\n\u001b[1;32m---> 14\u001b[1;33m     \u001b[0mrun\u001b[0m\u001b[1;33m(\u001b[0m\u001b[1;33m)\u001b[0m\u001b[1;33m\u001b[0m\u001b[1;33m\u001b[0m\u001b[0m\n\u001b[0m",
      "\u001b[1;32m<ipython-input-38-9f65f601cf3e>\u001b[0m in \u001b[0;36mrun\u001b[1;34m()\u001b[0m\n\u001b[0;32m      7\u001b[0m \u001b[1;33m\u001b[0m\u001b[0m\n\u001b[0;32m      8\u001b[0m \u001b[1;32mdef\u001b[0m \u001b[0mrun\u001b[0m\u001b[1;33m(\u001b[0m\u001b[1;33m)\u001b[0m\u001b[1;33m:\u001b[0m\u001b[1;33m\u001b[0m\u001b[1;33m\u001b[0m\u001b[0m\n\u001b[1;32m----> 9\u001b[1;33m     \u001b[0mnum\u001b[0m \u001b[1;33m=\u001b[0m \u001b[0mint\u001b[0m\u001b[1;33m(\u001b[0m\u001b[0minput\u001b[0m\u001b[1;33m(\u001b[0m\u001b[1;34m'Ingrese un número para obtener sus divisores: '\u001b[0m\u001b[1;33m)\u001b[0m\u001b[1;33m)\u001b[0m\u001b[1;33m\u001b[0m\u001b[1;33m\u001b[0m\u001b[0m\n\u001b[0m\u001b[0;32m     10\u001b[0m     \u001b[0mprint\u001b[0m\u001b[1;33m(\u001b[0m\u001b[0mdivisors\u001b[0m\u001b[1;33m(\u001b[0m\u001b[0mnum\u001b[0m\u001b[1;33m)\u001b[0m\u001b[1;33m)\u001b[0m\u001b[1;33m\u001b[0m\u001b[1;33m\u001b[0m\u001b[0m\n\u001b[0;32m     11\u001b[0m \u001b[1;33m\u001b[0m\u001b[0m\n",
      "\u001b[1;31mValueError\u001b[0m: invalid literal for int() with base 10: 'h'"
     ]
    }
   ],
   "source": [
    "def divisors(num):\n",
    "    divisors = []\n",
    "    for i in range (1, num + 1):\n",
    "        if num % i == 0:\n",
    "            divisors.append(i)\n",
    "    return divisors\n",
    "\n",
    "def run():\n",
    "    num = int(input('Ingrese un número para obtener sus divisores: '))\n",
    "    print(divisors(num))\n",
    "\n",
    "\n",
    "if __name__ == '__main__':\n",
    "    run()"
   ]
  },
  {
   "cell_type": "markdown",
   "metadata": {},
   "source": [
    "Podemos ver que tenemos lo siguiente:\n",
    "\n",
    "```Python\n",
    "ValueError: invalid literal for int() with base 10: 'h'\n",
    "```\n",
    "\n",
    "Es decir, tenemos un error del tipo `ValueError`, lo cual es de esperarse ya que estamos esperando a recibir un valor numérico y le hemos ingresado una letra."
   ]
  },
  {
   "cell_type": "markdown",
   "metadata": {},
   "source": [
    "¿Cómo lo arreglamos? Bueno, empecemos por agregar toda nuestra función en un bloque `try-except` para trabajar con las excepciones. \n",
    "\n",
    "En este caso nuestra excepción es un `ValueError`."
   ]
  },
  {
   "cell_type": "code",
   "execution_count": 39,
   "metadata": {},
   "outputs": [
    {
     "name": "stdout",
     "output_type": "stream",
     "text": [
      "Ingrese un número para obtener sus divisores: h\n",
      "\n",
      "ʕ•́ᴥ•̀ʔっ ---> Debes de ingresar un número \n"
     ]
    }
   ],
   "source": [
    "def divisors(num):\n",
    "    divisors = []\n",
    "    for i in range (1, num + 1):\n",
    "        if num % i == 0:\n",
    "            divisors.append(i)\n",
    "    return divisors\n",
    "\n",
    "def run():\n",
    "    try: \n",
    "        num = int(input('Ingrese un número para obtener sus divisores: '))\n",
    "        print(divisors(num))\n",
    "        \n",
    "    except ValueError:\n",
    "        print(\"\\nʕ•́ᴥ•̀ʔっ ---> Debes de ingresar un número \")\n",
    "\n",
    "\n",
    "if __name__ == '__main__':\n",
    "    run()"
   ]
  },
  {
   "cell_type": "markdown",
   "metadata": {},
   "source": [
    "Ahora, utilizando una combinación de cláusulas `try`, `except` y `raise` tratemos de anticipar un error para cuando el usuario ingresa un número negativo."
   ]
  },
  {
   "cell_type": "markdown",
   "metadata": {},
   "source": [
    "Primero veamos que ocurre al ingresar un número negativo: "
   ]
  },
  {
   "cell_type": "code",
   "execution_count": 40,
   "metadata": {},
   "outputs": [
    {
     "name": "stdout",
     "output_type": "stream",
     "text": [
      "Ingrese un número para obtener sus divisores: -1\n",
      "[]\n"
     ]
    }
   ],
   "source": [
    "def divisors(num):\n",
    "    divisors = []\n",
    "    for i in range (1, num + 1):\n",
    "        if num % i == 0:\n",
    "            divisors.append(i)\n",
    "    return divisors\n",
    "\n",
    "def run():\n",
    "    num = int(input('Ingrese un número para obtener sus divisores: '))\n",
    "    print(divisors(num))\n",
    "\n",
    "\n",
    "if __name__ == '__main__':\n",
    "    run()"
   ]
  },
  {
   "cell_type": "markdown",
   "metadata": {},
   "source": [
    "Podemos ver que no obtenemos un error como tal, pero para nada esperamos ese comportamiento en nuestro programa. Así que veamos como trabajar con esa excepción.\n",
    "\n",
    "Como el programa se sigue ejecutando (aunque produciendo resultados incorrectos) sabemos que tendremos que hacer uso de `raise` para \"elevar\" la excepción de números negativos."
   ]
  },
  {
   "cell_type": "code",
   "execution_count": 41,
   "metadata": {},
   "outputs": [
    {
     "name": "stdout",
     "output_type": "stream",
     "text": [
      "Ingrese un número para obtener sus divisores: -10\n",
      "\n",
      "ʕ•́ᴥ•̀ʔっ ---> No puedes ingresar números negativos\n"
     ]
    }
   ],
   "source": [
    "def divisors(num):\n",
    "    divisors = []\n",
    "    for i in range (1, num + 1):\n",
    "        if num % i == 0:\n",
    "            divisors.append(i)\n",
    "    return divisors\n",
    "\n",
    "def run():\n",
    "    try:\n",
    "        num = int(input('Ingrese un número para obtener sus divisores: '))\n",
    "        \n",
    "        if num < 0: \n",
    "            raise Exception(\"\\nʕ•́ᴥ•̀ʔっ ---> No puedes ingresar números negativos\")\n",
    "        elif num == 0:\n",
    "            raise Exception(\"\\nʕ•́ᴥ•̀ʔっ ---> No puedes ingresar el número 0\")\n",
    "        \n",
    "        print(divisors(num))\n",
    "        \n",
    "    except ValueError:\n",
    "        print(\"\\nʕ•́ᴥ•̀ʔっ ---> Debes de ingresar un número entero\")\n",
    "        \n",
    "    except Exception as ve:\n",
    "        print(ve)\n",
    "        \n",
    "    except Exception2 as ve2:\n",
    "        print(ve2)\n",
    "        \n",
    "if __name__ == '__main__':\n",
    "    run()"
   ]
  },
  {
   "cell_type": "markdown",
   "metadata": {},
   "source": [
    "Aquí agregamos los casos para cuando el tipo de datos es un `string` o `float` y que arroje el mensaje \"Debes de ingresar un número entero\". \n",
    "\n",
    "Después para el caso donde ingresamos números negativos la excepción devuelve \"No puedes ingresar números negativos\".\n",
    "\n",
    "Y finalmente, para el caso donde se ingresa el 0 la excepción nos devuelve \"No puedes ingresar el número 0\""
   ]
  },
  {
   "cell_type": "markdown",
   "metadata": {},
   "source": [
    "---"
   ]
  },
  {
   "cell_type": "markdown",
   "metadata": {},
   "source": [
    "### Assert statements"
   ]
  },
  {
   "cell_type": "markdown",
   "metadata": {},
   "source": [
    "Hay una forma un poco más extravagante de manejar errores y que hasta cierto punto marca una diferencia en tu dominio del lenguaje y esos son los Assert statements o afirmaciones. Estas son expresiones (combinan variables con operadores) de forma que nos ayuda a definir si frente a nuestro programa estamos lidiando o no con un error.\n",
    "\n",
    "Gráficamente lo podemos visualizar así:"
   ]
  },
  {
   "cell_type": "markdown",
   "metadata": {},
   "source": [
    "![](https://i.imgur.com/OHjxkI6.png)"
   ]
  },
  {
   "cell_type": "markdown",
   "metadata": {},
   "source": [
    "Como vemos en la imagen, el Assert statement nos ayuda a dirigir el flujo de nuestro programa, catalogándolo como error si es  o como una parte del código. Si la afirmación se cumple, devuelve `True` y seguimos con el código; pero si no se cumple, retorna `False` y manejamos el error.\n",
    "\n",
    "La estructura básica de un assert sería la siguiente:"
   ]
  },
  {
   "cell_type": "markdown",
   "metadata": {},
   "source": [
    "```Python\n",
    "assert condición, mensaje de error\n",
    "```"
   ]
  },
  {
   "cell_type": "markdown",
   "metadata": {},
   "source": [
    "Donde nos ayudamos de la keyword `assert`. \n",
    "\n",
    "Se puede leer como, \"afirmo que esta condición es verdadera, si es falsa retorna un mensaje de error\".\n",
    "\n",
    "Veamos un ejemplo:"
   ]
  },
  {
   "cell_type": "code",
   "execution_count": 123,
   "metadata": {},
   "outputs": [
    {
     "name": "stdout",
     "output_type": "stream",
     "text": [
      "True\n"
     ]
    }
   ],
   "source": [
    "def palindrome(string):\n",
    "    return string == string[::-1]\n",
    "\n",
    "print(palindrome(\"\"))"
   ]
  },
  {
   "cell_type": "markdown",
   "metadata": {},
   "source": [
    "Es el mismo caso que vimos anteriormente con el manejo de excepciones, pero ahora vamos a resolverlo con un `assert`. La implementación sería la siguiente:"
   ]
  },
  {
   "cell_type": "code",
   "execution_count": 137,
   "metadata": {},
   "outputs": [
    {
     "ename": "AssertionError",
     "evalue": "\nʕ•́ᴥ•̀ʔっ ---> No se puede ingresar una cadena vacía",
     "output_type": "error",
     "traceback": [
      "\u001b[1;31m---------------------------------------------------------------------------\u001b[0m",
      "\u001b[1;31mAssertionError\u001b[0m                            Traceback (most recent call last)",
      "\u001b[1;32m<ipython-input-137-67c67e8e5516>\u001b[0m in \u001b[0;36m<module>\u001b[1;34m\u001b[0m\n\u001b[0;32m      3\u001b[0m     \u001b[1;32mreturn\u001b[0m \u001b[0mstring\u001b[0m \u001b[1;33m==\u001b[0m \u001b[0mstring\u001b[0m\u001b[1;33m[\u001b[0m\u001b[1;33m:\u001b[0m\u001b[1;33m:\u001b[0m\u001b[1;33m-\u001b[0m\u001b[1;36m1\u001b[0m\u001b[1;33m]\u001b[0m\u001b[1;33m\u001b[0m\u001b[1;33m\u001b[0m\u001b[0m\n\u001b[0;32m      4\u001b[0m \u001b[1;33m\u001b[0m\u001b[0m\n\u001b[1;32m----> 5\u001b[1;33m \u001b[0mprint\u001b[0m\u001b[1;33m(\u001b[0m\u001b[0mpalindrome\u001b[0m\u001b[1;33m(\u001b[0m\u001b[1;34m\"\"\u001b[0m\u001b[1;33m)\u001b[0m\u001b[1;33m)\u001b[0m\u001b[1;33m\u001b[0m\u001b[1;33m\u001b[0m\u001b[0m\n\u001b[0m",
      "\u001b[1;32m<ipython-input-137-67c67e8e5516>\u001b[0m in \u001b[0;36mpalindrome\u001b[1;34m(string)\u001b[0m\n\u001b[0;32m      1\u001b[0m \u001b[1;32mdef\u001b[0m \u001b[0mpalindrome\u001b[0m\u001b[1;33m(\u001b[0m\u001b[0mstring\u001b[0m\u001b[1;33m)\u001b[0m\u001b[1;33m:\u001b[0m\u001b[1;33m\u001b[0m\u001b[1;33m\u001b[0m\u001b[0m\n\u001b[1;32m----> 2\u001b[1;33m     \u001b[1;32massert\u001b[0m \u001b[0mlen\u001b[0m\u001b[1;33m(\u001b[0m\u001b[0mstring\u001b[0m\u001b[1;33m)\u001b[0m \u001b[1;33m>\u001b[0m \u001b[1;36m0\u001b[0m\u001b[1;33m,\u001b[0m \u001b[1;34m\"\\nʕ•́ᴥ•̀ʔっ ---> No se puede ingresar una cadena vacía\"\u001b[0m\u001b[1;33m\u001b[0m\u001b[1;33m\u001b[0m\u001b[0m\n\u001b[0m\u001b[0;32m      3\u001b[0m     \u001b[1;32mreturn\u001b[0m \u001b[0mstring\u001b[0m \u001b[1;33m==\u001b[0m \u001b[0mstring\u001b[0m\u001b[1;33m[\u001b[0m\u001b[1;33m:\u001b[0m\u001b[1;33m:\u001b[0m\u001b[1;33m-\u001b[0m\u001b[1;36m1\u001b[0m\u001b[1;33m]\u001b[0m\u001b[1;33m\u001b[0m\u001b[1;33m\u001b[0m\u001b[0m\n\u001b[0;32m      4\u001b[0m \u001b[1;33m\u001b[0m\u001b[0m\n\u001b[0;32m      5\u001b[0m \u001b[0mprint\u001b[0m\u001b[1;33m(\u001b[0m\u001b[0mpalindrome\u001b[0m\u001b[1;33m(\u001b[0m\u001b[1;34m\"\"\u001b[0m\u001b[1;33m)\u001b[0m\u001b[1;33m)\u001b[0m\u001b[1;33m\u001b[0m\u001b[1;33m\u001b[0m\u001b[0m\n",
      "\u001b[1;31mAssertionError\u001b[0m: \nʕ•́ᴥ•̀ʔっ ---> No se puede ingresar una cadena vacía"
     ]
    }
   ],
   "source": [
    "def palindrome(string):\n",
    "    assert len(string) > 0, \"\\nʕ•́ᴥ•̀ʔっ ---> No se puede ingresar una cadena vacía\"\n",
    "    return string == string[::-1]\n",
    "\n",
    "print(palindrome(\"\"))"
   ]
  },
  {
   "cell_type": "markdown",
   "metadata": {},
   "source": [
    "Podemos ver que ahora obtenemos un mensaje con un error del tipo `AssertionError` es decir, una excepción basada en el `asser` que hicimos anteriormente."
   ]
  },
  {
   "cell_type": "markdown",
   "metadata": {},
   "source": [
    "Ahora vamos a resolver el mismo error de nuestro programa de divisores usando `assert statements`:"
   ]
  },
  {
   "cell_type": "code",
   "execution_count": 150,
   "metadata": {},
   "outputs": [
    {
     "name": "stdout",
     "output_type": "stream",
     "text": [
      "Ingrese un número para obtener sus divisores: asas\n"
     ]
    },
    {
     "ename": "AssertionError",
     "evalue": "\nʕ•́ᴥ•̀ʔっ ---> Debes ingresar un número.",
     "output_type": "error",
     "traceback": [
      "\u001b[1;31m---------------------------------------------------------------------------\u001b[0m",
      "\u001b[1;31mAssertionError\u001b[0m                            Traceback (most recent call last)",
      "\u001b[1;32m<ipython-input-150-39a5a0f74f15>\u001b[0m in \u001b[0;36m<module>\u001b[1;34m\u001b[0m\n\u001b[0;32m     14\u001b[0m \u001b[1;33m\u001b[0m\u001b[0m\n\u001b[0;32m     15\u001b[0m \u001b[1;32mif\u001b[0m \u001b[0m__name__\u001b[0m \u001b[1;33m==\u001b[0m \u001b[1;34m'__main__'\u001b[0m\u001b[1;33m:\u001b[0m\u001b[1;33m\u001b[0m\u001b[1;33m\u001b[0m\u001b[0m\n\u001b[1;32m---> 16\u001b[1;33m     \u001b[0mrun\u001b[0m\u001b[1;33m(\u001b[0m\u001b[1;33m)\u001b[0m\u001b[1;33m\u001b[0m\u001b[1;33m\u001b[0m\u001b[0m\n\u001b[0m",
      "\u001b[1;32m<ipython-input-150-39a5a0f74f15>\u001b[0m in \u001b[0;36mrun\u001b[1;34m()\u001b[0m\n\u001b[0;32m      8\u001b[0m \u001b[1;32mdef\u001b[0m \u001b[0mrun\u001b[0m\u001b[1;33m(\u001b[0m\u001b[1;33m)\u001b[0m\u001b[1;33m:\u001b[0m\u001b[1;33m\u001b[0m\u001b[1;33m\u001b[0m\u001b[0m\n\u001b[0;32m      9\u001b[0m     \u001b[0mnum\u001b[0m \u001b[1;33m=\u001b[0m \u001b[0minput\u001b[0m\u001b[1;33m(\u001b[0m\u001b[1;34m'Ingrese un número para obtener sus divisores: '\u001b[0m\u001b[1;33m)\u001b[0m\u001b[1;33m\u001b[0m\u001b[1;33m\u001b[0m\u001b[0m\n\u001b[1;32m---> 10\u001b[1;33m     \u001b[1;32massert\u001b[0m \u001b[0mnum\u001b[0m\u001b[1;33m.\u001b[0m\u001b[0misnumeric\u001b[0m\u001b[1;33m(\u001b[0m\u001b[1;33m)\u001b[0m\u001b[1;33m,\u001b[0m \u001b[1;34m\"\\nʕ•́ᴥ•̀ʔっ ---> Debes ingresar un número.\"\u001b[0m\u001b[1;33m\u001b[0m\u001b[1;33m\u001b[0m\u001b[0m\n\u001b[0m\u001b[0;32m     11\u001b[0m     \u001b[1;31m# Si la afirmación es verdadera pasalo a entero\u001b[0m\u001b[1;33m\u001b[0m\u001b[1;33m\u001b[0m\u001b[1;33m\u001b[0m\u001b[0m\n\u001b[0;32m     12\u001b[0m     \u001b[0mprint\u001b[0m\u001b[1;33m(\u001b[0m\u001b[0mdivisors\u001b[0m\u001b[1;33m(\u001b[0m\u001b[0mint\u001b[0m\u001b[1;33m(\u001b[0m\u001b[0mnum\u001b[0m\u001b[1;33m)\u001b[0m\u001b[1;33m)\u001b[0m\u001b[1;33m)\u001b[0m\u001b[1;33m\u001b[0m\u001b[1;33m\u001b[0m\u001b[0m\n",
      "\u001b[1;31mAssertionError\u001b[0m: \nʕ•́ᴥ•̀ʔっ ---> Debes ingresar un número."
     ]
    }
   ],
   "source": [
    "def divisors(num):\n",
    "    divisors = []\n",
    "    for i in range (1, num + 1):\n",
    "        if num % i == 0:\n",
    "            divisors.append(i)\n",
    "    return divisors\n",
    "\n",
    "def run():\n",
    "    num = input('Ingrese un número para obtener sus divisores: ')\n",
    "    assert num.isnumeric(), \"\\nʕ•́ᴥ•̀ʔっ ---> Debes ingresar un número.\"\n",
    "    # Si la afirmación es verdadera pasalo a entero\n",
    "    print(divisors(int(num)))\n",
    "\n",
    "\n",
    "if __name__ == '__main__':\n",
    "    run()"
   ]
  },
  {
   "cell_type": "markdown",
   "metadata": {},
   "source": [
    "Estamos haciendo uso de `.isnumeric()`, un método de los strings que nos permite saber si corresponde con un número o no. Así que asumimos que el input que estamos recibiendo es un número, si no lo es mandamos un mensaje de error."
   ]
  },
  {
   "cell_type": "markdown",
   "metadata": {},
   "source": [
    "Ahora, vamos a expandir nuestro alcance con Assert statements y usemos estos para evitar que se ingresen números negativos en el programa:"
   ]
  },
  {
   "cell_type": "code",
   "execution_count": 2,
   "metadata": {},
   "outputs": [
    {
     "name": "stdout",
     "output_type": "stream",
     "text": [
      "Ingrese un número para obtener sus divisores: -1\n"
     ]
    },
    {
     "ename": "AssertionError",
     "evalue": "\nʕ•́ᴥ•̀ʔっ ---> Debes ingresar un número positivo.",
     "output_type": "error",
     "traceback": [
      "\u001b[1;31m---------------------------------------------------------------------------\u001b[0m",
      "\u001b[1;31mAssertionError\u001b[0m                            Traceback (most recent call last)",
      "\u001b[1;32m<ipython-input-2-39f4fcc98939>\u001b[0m in \u001b[0;36m<module>\u001b[1;34m\u001b[0m\n\u001b[0;32m     15\u001b[0m \u001b[1;33m\u001b[0m\u001b[0m\n\u001b[0;32m     16\u001b[0m \u001b[1;32mif\u001b[0m \u001b[0m__name__\u001b[0m \u001b[1;33m==\u001b[0m \u001b[1;34m'__main__'\u001b[0m\u001b[1;33m:\u001b[0m\u001b[1;33m\u001b[0m\u001b[1;33m\u001b[0m\u001b[0m\n\u001b[1;32m---> 17\u001b[1;33m     \u001b[0mrun\u001b[0m\u001b[1;33m(\u001b[0m\u001b[1;33m)\u001b[0m\u001b[1;33m\u001b[0m\u001b[1;33m\u001b[0m\u001b[0m\n\u001b[0m",
      "\u001b[1;32m<ipython-input-2-39f4fcc98939>\u001b[0m in \u001b[0;36mrun\u001b[1;34m()\u001b[0m\n\u001b[0;32m      9\u001b[0m     \u001b[0mnum\u001b[0m \u001b[1;33m=\u001b[0m \u001b[0minput\u001b[0m\u001b[1;33m(\u001b[0m\u001b[1;34m'Ingrese un número para obtener sus divisores: '\u001b[0m\u001b[1;33m)\u001b[0m\u001b[1;33m\u001b[0m\u001b[1;33m\u001b[0m\u001b[0m\n\u001b[0;32m     10\u001b[0m \u001b[1;33m\u001b[0m\u001b[0m\n\u001b[1;32m---> 11\u001b[1;33m     \u001b[1;32massert\u001b[0m \u001b[0mnum\u001b[0m\u001b[1;33m.\u001b[0m\u001b[0misnumeric\u001b[0m\u001b[1;33m(\u001b[0m\u001b[1;33m)\u001b[0m \u001b[1;32mand\u001b[0m \u001b[0mint\u001b[0m\u001b[1;33m(\u001b[0m\u001b[0mnum\u001b[0m\u001b[1;33m)\u001b[0m \u001b[1;33m>\u001b[0m \u001b[1;36m0\u001b[0m\u001b[1;33m,\u001b[0m \u001b[1;34m\"\\nʕ•́ᴥ•̀ʔっ ---> Debes ingresar un número positivo.\"\u001b[0m\u001b[1;33m\u001b[0m\u001b[1;33m\u001b[0m\u001b[0m\n\u001b[0m\u001b[0;32m     12\u001b[0m     \u001b[1;31m# Si la afirmación es verdadera pasalo a entero\u001b[0m\u001b[1;33m\u001b[0m\u001b[1;33m\u001b[0m\u001b[1;33m\u001b[0m\u001b[0m\n\u001b[0;32m     13\u001b[0m     \u001b[0mprint\u001b[0m\u001b[1;33m(\u001b[0m\u001b[0mdivisors\u001b[0m\u001b[1;33m(\u001b[0m\u001b[0mint\u001b[0m\u001b[1;33m(\u001b[0m\u001b[0mnum\u001b[0m\u001b[1;33m)\u001b[0m\u001b[1;33m)\u001b[0m\u001b[1;33m)\u001b[0m\u001b[1;33m\u001b[0m\u001b[1;33m\u001b[0m\u001b[0m\n",
      "\u001b[1;31mAssertionError\u001b[0m: \nʕ•́ᴥ•̀ʔっ ---> Debes ingresar un número positivo."
     ]
    }
   ],
   "source": [
    "def divisors(num):\n",
    "    divisors = []\n",
    "    for i in range (1, num + 1):\n",
    "        if num % i == 0:\n",
    "            divisors.append(i)\n",
    "    return divisors\n",
    "\n",
    "def run():\n",
    "    num = input('Ingrese un número para obtener sus divisores: ')\n",
    "    \n",
    "    assert num.isnumeric() and int(num) > 0, \"\\nʕ•́ᴥ•̀ʔっ ---> Debes ingresar un número positivo.\"\n",
    "    # Si la afirmación es verdadera pasalo a entero\n",
    "    print(divisors(int(num)))\n",
    "\n",
    "\n",
    "if __name__ == '__main__':\n",
    "    run()"
   ]
  },
  {
   "cell_type": "markdown",
   "metadata": {},
   "source": [
    "Más información:\n",
    "\n",
    "[Python Assert Statement - programiz.com](https://www.programiz.com/python-programming/assert-statement)"
   ]
  },
  {
   "cell_type": "markdown",
   "metadata": {},
   "source": [
    "---"
   ]
  },
  {
   "cell_type": "markdown",
   "metadata": {},
   "source": [
    "## Módulo 6. Manejo de archivos"
   ]
  },
  {
   "cell_type": "markdown",
   "metadata": {},
   "source": [
    "### ¿Cómo trabajar con archivos?"
   ]
  },
  {
   "cell_type": "markdown",
   "metadata": {},
   "source": [
    "Vamos a dividir los archivos que regularmente nos encontraremos en nuestra área de computación/programación en 2 categorías principales:\n",
    "\n",
    "* Archivos de texto: Contiene bytes que representan letras y símbolos.\n",
    "\n",
    "* Archivos binarios: Contienen bytes que representan cosas más complejas como vídeos, imágenes, etc."
   ]
  },
  {
   "cell_type": "markdown",
   "metadata": {},
   "source": [
    "![](https://i.imgur.com/jJLUVVU.png)"
   ]
  },
  {
   "cell_type": "markdown",
   "metadata": {},
   "source": [
    "Para el caso donde utilizamos Python es común que nosotros casi no interactuemos con los archivos binarios (círculo verde). Nos concentraremos más en utilizar los archivos de texto."
   ]
  },
  {
   "cell_type": "markdown",
   "metadata": {},
   "source": [
    "Para abrir un archivo de texto con Python tenemos 3 formas de hacerlo:\n",
    "\n",
    "* R $\\rightarrow$ Lectura\n",
    "\n",
    "* W $\\rightarrow$ Escritura (sobrescribir)\n",
    "\n",
    "* A $\\rightarrow$ Escritura (agregar al final)"
   ]
  },
  {
   "cell_type": "markdown",
   "metadata": {},
   "source": [
    "¿Cuál es el comando para abrir un archivo? "
   ]
  },
  {
   "cell_type": "markdown",
   "metadata": {},
   "source": [
    "```Python\n",
    "with open(\"./ruta/del/archivo/archivo.txt , \"r\") as f:\n",
    "```"
   ]
  },
  {
   "cell_type": "markdown",
   "metadata": {},
   "source": [
    "La keyword `with` es un manejador contextual, es decir, lo que hace es controlar el flujo de nuestro archivo de forma que, si cerramos el programa o el script finaliza repentinamente este archivo no sufre daños. \n",
    "\n",
    "Después llamamos a la función de Python `open` que puede recibir varios parámetros, pero principalmente recibe 2:\n",
    "\n",
    "* La ruta del archivo, en formato de string.\n",
    "* Modo de apertura (r, w, a).\n",
    "\n",
    "Y nuevamente usamos la keyword `as` la cual le asigna un nombre hipotético a nuestro archivo, en este caso `f`."
   ]
  },
  {
   "cell_type": "markdown",
   "metadata": {},
   "source": [
    "### Trabajando con archivos de texto en Python"
   ]
  },
  {
   "cell_type": "markdown",
   "metadata": {},
   "source": [
    "Primero vamos a crear una carpeta llamada `archivos` en donde vamos a guardar un archivo de texto con información que usaremos en nuestro programa y le llamaremos `numbers.txt`, en donde agregaremos números aleatorios en cada una de las líneas. Y lo que queremos hacer es transformar a los datos de nuestro archivo en una lista de números."
   ]
  },
  {
   "attachments": {},
   "cell_type": "markdown",
   "metadata": {},
   "source": [
    "Esto es lo que contiene nuestro archivo `../numbers.txt`:\n",
    "    \n",
    "![](https://i.imgur.com/xhoeB4q.png)"
   ]
  },
  {
   "cell_type": "markdown",
   "metadata": {},
   "source": [
    "Vamos a crear un programa para entender como trabajar con archivos:"
   ]
  },
  {
   "cell_type": "code",
   "execution_count": 37,
   "metadata": {},
   "outputs": [
    {
     "name": "stdout",
     "output_type": "stream",
     "text": [
      "[1, 45, 67, 34, 21, 124, 545, 324, 7678, 87687, 2232434, 3, 212]\n"
     ]
    }
   ],
   "source": [
    "#Para leer\n",
    "def read():\n",
    "    numbers = []\n",
    "    with open(\"../Programas/archivos/numbers.txt\" , \"r\", encoding=\"UTF-8\") as  f:\n",
    "        for line in f: \n",
    "            numbers.append(int(line))\n",
    "        print(numbers)\n",
    "\n",
    "  \n",
    "#Para sobrescribir\n",
    "def write_w_mode():\n",
    "    names = [\"Abdiel\", \"uwu\", \":(\", \"Holi\", \"Jesús\"]\n",
    "    with open(\"../Programas/archivos/names.txt\", \"w\", encoding=\"UTF-8\") as f:\n",
    "        for name in names:\n",
    "            f.write(name)\n",
    "            f.write(\"\\n\")\n",
    " \n",
    "\n",
    "#Para escribir al final\n",
    "def write_a_mode():\n",
    "    names = [\"Aquí\", \"los\", \"nuevos\", \"Nombres\", \":)\"]\n",
    "    with open(\"../Programas/archivos/names.txt\", \"a\", encoding=\"UTF-8\") as f:\n",
    "        for name in names:\n",
    "            f.write(name)\n",
    "            f.write(\"\\n\")\n",
    "            \n",
    "def run():\n",
    "    read()\n",
    "    #write_w_mode()\n",
    "    #write_a_mode()\n",
    "\n",
    "\n",
    "if __name__ == '__main__':\n",
    "    run()"
   ]
  },
  {
   "cell_type": "markdown",
   "metadata": {},
   "source": [
    "Para indicar la ruta relativa de un archivo en Windows usamos `../` antes de escribir el resto de la ruta.\n",
    "\n",
    "El parámetro `encoding=\"UTF-8\"` dentro de `open()` nos permite leer o escribir sin problemas cuando trabajamos con archivos que contienen caracteres especiales.\n",
    "\n",
    "También podemos llamar al método `.write()` de nuestro archivo `f` para escribir sobre dicho archivo."
   ]
  },
  {
   "cell_type": "markdown",
   "metadata": {},
   "source": [
    "Nuestra primera función `read()`, se encargará únicamente de *leer el archivo* y a partir de lo que lea en cada una de las líneas convertirá ese valor a un entero y lo agregará a una lista y la imprimimos, de ahí obtenemos la lista `[1, 45, 67, 34, 21, 124, 545, 324, 7678, 87687, 2232434, 3, 212]`. "
   ]
  },
  {
   "attachments": {},
   "cell_type": "markdown",
   "metadata": {},
   "source": [
    "Después, en nuestra función `write_w_mode()` vamos a crear una lista con algunos strings y después vamos a crear un archivo llamado `../names.txt` y agregaremos cada uno de los strings en dicho archivo, sobrescribiendo el archivo cada que llamemos a la función ya que tiene el parámetro `\"w\"`. Obteniendo el siguiente archivo:\n",
    "\n",
    "![](https://i.imgur.com/A1icQrj.png)"
   ]
  },
  {
   "attachments": {},
   "cell_type": "markdown",
   "metadata": {},
   "source": [
    "Finalmente con nuestra función `write_a_mode()` haremos algo muy similar a ls función anterior, pero al tener el parámetro `\"a\"` añadirá los nuevos nombres al final del archivo. Es decir, en lugar de sobrescribir con un nuevo archivo solo lo completará con la nueva información.\n",
    "\n",
    "Obteniendo el siguiente archivo:\n",
    "\n",
    "![](https://i.imgur.com/mW7eiAN.png)"
   ]
  },
  {
   "cell_type": "markdown",
   "metadata": {},
   "source": [
    "---"
   ]
  },
  {
   "cell_type": "markdown",
   "metadata": {},
   "source": [
    "## Conclusiones."
   ]
  },
  {
   "cell_type": "markdown",
   "metadata": {},
   "source": [
    "### Programa final: Hangman Game"
   ]
  },
  {
   "attachments": {},
   "cell_type": "markdown",
   "metadata": {},
   "source": [
    "Vamos a hacer un pequeño programa que simule el Hangman Game. Y tendrá que hacer lo siguiente:\n",
    "\n",
    "* Al ejecutar el programa se tendrá que limpiar la pantalla y mostrar algo así:\n",
    "\n",
    "![](https://i.imgur.com/UuYPz9E.png)\n",
    "\n",
    "* Al ingresar una letra, si coincide con una de las letras que contiene la palabra se tendrá que actualizar y mostrar en donde está esa letra, por ejemplo si presionamos la a:\n",
    "\n",
    "![](https://i.imgur.com/dEmtd4F.png)\n",
    "\n",
    "* En caso de ingresar una letra incorrecta simplemente te arrojará de nuevo el mensaje de que ingreses una nueva letra hasta que demos con la palabra correcta.\n",
    "\n",
    "* Una vez adivinando la palabra se obtiene un mensaje como este:\n",
    "\n",
    "![](https://i.imgur.com/OdQJD8g.png)"
   ]
  },
  {
   "cell_type": "markdown",
   "metadata": {},
   "source": [
    "Todo esto siguiendo unas cuantas reglas:\n",
    "\n",
    "* Incorporando comprehensions, manejo de errores y manejo de archivos.\n",
    "\n",
    "* Utiliza el archivo `data.txt` y léelo para obtener las palabras."
   ]
  },
  {
   "cell_type": "markdown",
   "metadata": {},
   "source": [
    "#### Ayudas y pistas:"
   ]
  },
  {
   "cell_type": "markdown",
   "metadata": {},
   "source": [
    "* Investiga la función `enumerate`.\n",
    "\n",
    "* El método `get` de los diccionarios puede servir.\n",
    "\n",
    "* La sentencia <br>\n",
    "    `os.system(\"cls\")` $\\rightarrow$ Windows <br>\n",
    "    `os.system(\"clear\")` $\\rightarrow$ Unix <br>\n",
    "    que sirve para limpiar la pantalla después de que ingresamos una letra."
   ]
  },
  {
   "cell_type": "markdown",
   "metadata": {},
   "source": [
    "#### Posibles mejoras al juego:"
   ]
  },
  {
   "cell_type": "markdown",
   "metadata": {},
   "source": [
    "* Añade un sistema de puntos.\n",
    "\n",
    "* Dibuja un \"ahorcado\" en cada jugada con código ASCII.\n",
    "\n",
    "* Mejora la interfaz."
   ]
  },
  {
   "cell_type": "markdown",
   "metadata": {},
   "source": [
    "#### Código:"
   ]
  },
  {
   "cell_type": "code",
   "execution_count": 39,
   "metadata": {},
   "outputs": [
    {
     "name": "stdout",
     "output_type": "stream",
     "text": [
      "INSTITUTORA\n",
      "INSTITUTORA\n",
      " \n",
      " _     _                                               ______                      \n",
      "| |   | |                                             / _____)                     \n",
      "| |__ | |  ____  ____    ____  ____    ____  ____    | /  ___   ____  ____    ____ \n",
      "|  __)| | / _  ||  _ \\  / _  ||    \\  / _  ||  _ \\   | | (___) / _  ||    \\  / _  )\n",
      "| |   | |( ( | || | | |( ( | || | | |( ( | || | | |  | \\____/|( ( | || | | |( (/ / \n",
      "|_|   |_| \\_||_||_| |_| \\_|| ||_|_|_| \\_||_||_| |_|   \\_____/  \\_||_||_|_|_| \\____)\n",
      "                       (_____|                                                     \n",
      "                                                                                        \n",
      "\n",
      "¡Adivina la palabra!\n",
      "\n",
      "   +---+\n",
      "   |   |\n",
      "       |\n",
      "       |\n",
      "       |\n",
      "       |\n",
      "=========\n",
      "\n",
      " _ _ _ _ _ _ _ _ _ _ _\n",
      "\n",
      "Ingresa una letra:f\n",
      "F\n",
      "('_ _ _ _ _ _ _ _ _ _ _', 'INSTITUTORA')\n",
      "I\n",
      "N\n",
      "S\n",
      "T\n",
      "I\n",
      "T\n",
      "U\n",
      "T\n",
      "O\n",
      "R\n",
      "A\n"
     ]
    }
   ],
   "source": [
    "import random\n",
    "import os\n",
    "from functools import reduce\n",
    "\n",
    "drawing = [''' \n",
    " _     _                                               ______                      \n",
    "| |   | |                                             / _____)                     \n",
    "| |__ | |  ____  ____    ____  ____    ____  ____    | /  ___   ____  ____    ____ \n",
    "|  __)| | / _  ||  _ \\  / _  ||    \\  / _  ||  _ \\   | | (___) / _  ||    \\  / _  )\n",
    "| |   | |( ( | || | | |( ( | || | | |( ( | || | | |  | \\____/|( ( | || | | |( (/ / \n",
    "|_|   |_| \\_||_||_| |_| \\_|| ||_|_|_| \\_||_||_| |_|   \\_____/  \\_||_||_|_|_| \\____)\n",
    "                       (_____|                                                     \n",
    "                                                                                        \n",
    "''',\n",
    "'''\n",
    "   +---+\n",
    "   |   |\n",
    "       |\n",
    "       |\n",
    "       |\n",
    "       |\n",
    "=========''', \n",
    "           \n",
    "'''\n",
    "   +---+\n",
    "   |   |\n",
    "   O   |\n",
    "       |\n",
    "       |\n",
    "       |\n",
    "=========''', \n",
    "           \n",
    "'''\n",
    "   +---+\n",
    "   |   |\n",
    "   O   |\n",
    "   |   |\n",
    "       |\n",
    "       |\n",
    " =========''', \n",
    "                     \n",
    "'''\n",
    "   +---+\n",
    "   |   |\n",
    "   O   |\n",
    "  /|   |\n",
    "       |\n",
    "       |\n",
    " =========''',\n",
    "                     \n",
    "'''\n",
    "   +---+\n",
    "   |   |\n",
    "   O   |\n",
    "  /|\\  |\n",
    "       |\n",
    "       |\n",
    " =========''',\n",
    "                     \n",
    "'''\n",
    "   +---+\n",
    "   |   |\n",
    "   O   |\n",
    "  /|\\  |\n",
    "  /    |\n",
    "       |\n",
    " =========''', \n",
    "                     \n",
    "'''\n",
    "   +---+\n",
    "   |   |\n",
    "   O   |\n",
    "  /|\\  |\n",
    "  / \\  |\n",
    "       |\n",
    "=========''']\n",
    "\n",
    "# Obtenemos una palabra random de nuestro archivo de palabras\n",
    "def getting_word():\n",
    "    words = []\n",
    "    with open(\"../Programas/archivos/diccionario_palabras.txt\" , \"r\", encoding=\"UTF-8\") as  f:\n",
    "        for line in f:\n",
    "            # removemos espacios y ponemos todo en mayusculas\n",
    "            words.append(line.strip().upper())\n",
    "    word = random.choice(words)\n",
    "    print(word)\n",
    "    #print(len(word))\n",
    "    return word\n",
    "\n",
    "# Omitimos los acentos\n",
    "def without_accent_mark(word):\n",
    "    word_changed = (\n",
    "        (\"Á\", \"A\"),\n",
    "        (\"É\",\"E\"),\n",
    "        (\"Í\",\"I\"),\n",
    "        (\"Ó\",\"O\"),\n",
    "        (\"Ú\",\"U\"),\n",
    "    ) \n",
    "    for a,b in word_changed:\n",
    "        word = word.replace(a,b)\n",
    "    print(word)\n",
    "    return word \n",
    "\n",
    "# Hacemos el dibujito de la interfaz\n",
    "def create_interfaz(changed):\n",
    "    underscore = [('_') for n in changed]\n",
    "    #print(underscore)\n",
    "    underscores = reduce(lambda a,b: a+(\" \")+b,underscore)\n",
    "    print(drawing[0])\n",
    "    print(\"¡Adivina la palabra!\")\n",
    "    print(drawing[1])\n",
    "    print(\"\\n\", underscores)\n",
    "    return underscores,changed\n",
    "\n",
    "def run_name(underscore):\n",
    "    vidas = 5\n",
    "    entrada = input('\\nIngresa una letra:').upper()\n",
    "    print(entrada)\n",
    "    print(underscore)\n",
    "    for i in underscore[1]:\n",
    "        print(i)\n",
    "        if entrada == i:\n",
    "            print('Letra correcta')\n",
    "    \n",
    "def run():\n",
    "    word = getting_word()\n",
    "    changed = without_accent_mark(word)\n",
    "    underscore = create_interfaz(changed)\n",
    "    run_name(underscore)\n",
    "\n",
    "if __name__ == '__main__':\n",
    "    run()"
   ]
  },
  {
   "cell_type": "code",
   "execution_count": null,
   "metadata": {},
   "outputs": [],
   "source": []
  }
 ],
 "metadata": {
  "kernelspec": {
   "display_name": "Python 3",
   "language": "python",
   "name": "python3"
  },
  "language_info": {
   "codemirror_mode": {
    "name": "ipython",
    "version": 3
   },
   "file_extension": ".py",
   "mimetype": "text/x-python",
   "name": "python",
   "nbconvert_exporter": "python",
   "pygments_lexer": "ipython3",
   "version": "3.8.3"
  },
  "toc": {
   "base_numbering": "",
   "nav_menu": {},
   "number_sections": false,
   "sideBar": true,
   "skip_h1_title": false,
   "title_cell": "Table of Contents",
   "title_sidebar": "Contents",
   "toc_cell": true,
   "toc_position": {},
   "toc_section_display": true,
   "toc_window_display": false
  }
 },
 "nbformat": 4,
 "nbformat_minor": 4
}
